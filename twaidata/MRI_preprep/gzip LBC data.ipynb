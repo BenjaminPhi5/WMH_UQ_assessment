{
 "cells": [
  {
   "cell_type": "code",
   "execution_count": 12,
   "id": "6c933f5f-81f5-4553-bf2b-9b654941fbea",
   "metadata": {
    "tags": []
   },
   "outputs": [],
   "source": [
    "import subprocess\n",
    "import os\n",
    "from tqdm import tqdm"
   ]
  },
  {
   "cell_type": "code",
   "execution_count": 13,
   "id": "e3db9205-032d-403e-ba72-579b80c1cf53",
   "metadata": {
    "tags": []
   },
   "outputs": [],
   "source": [
    "path = \"/home/s2208943/ipdis/data/InterRater_data/\""
   ]
  },
  {
   "cell_type": "code",
   "execution_count": 14,
   "id": "0a62318d-b17f-4968-b578-424602553e90",
   "metadata": {
    "tags": []
   },
   "outputs": [],
   "source": [
    "folders = os.listdir(path)"
   ]
  },
  {
   "cell_type": "code",
   "execution_count": 11,
   "id": "91827514-cb37-46ed-b7d1-ba1fb96c1acc",
   "metadata": {
    "tags": []
   },
   "outputs": [
    {
     "name": "stderr",
     "output_type": "stream",
     "text": [
      "  0%|                                                                                                                                                                                                                 | 0/129 [00:00<?, ?it/s]"
     ]
    },
    {
     "name": "stdout",
     "output_type": "stream",
     "text": [
      "called\n",
      "/home/s2208943/ipdis/data/InterRater_data/LBC360386/LBC360386_4_T2W_reg_T2W_BET_brain.nii /home/s2208943/ipdis/data/InterRater_data/LBC360386/LBC360386_4_T2W_reg_T2W_BET_brain.nii.gz\n"
     ]
    },
    {
     "name": "stderr",
     "output_type": "stream",
     "text": [
      "gzip: /home/s2208943/ipdis/data/InterRater_data/LBC360386/LBC360386_4_T2W_reg_T2W_BET_brain.nii.gz already has .gz suffix -- unchanged\n"
     ]
    },
    {
     "name": "stdout",
     "output_type": "stream",
     "text": [
      "called\n",
      "/home/s2208943/ipdis/data/InterRater_data/LBC360386/LBC360386_4_T1W_reg_T2W_BET_brain.nii /home/s2208943/ipdis/data/InterRater_data/LBC360386/LBC360386_4_T1W_reg_T2W_BET_brain.nii.gz\n"
     ]
    },
    {
     "name": "stderr",
     "output_type": "stream",
     "text": [
      "gzip: /home/s2208943/ipdis/data/InterRater_data/LBC360386/LBC360386_4_T1W_reg_T2W_BET_brain.nii.gz already has .gz suffix -- unchanged\n"
     ]
    },
    {
     "name": "stdout",
     "output_type": "stream",
     "text": [
      "called\n",
      "/home/s2208943/ipdis/data/InterRater_data/LBC360386/LBC360386_4_FLAIR_reg_T2W_BET_brain.nii /home/s2208943/ipdis/data/InterRater_data/LBC360386/LBC360386_4_FLAIR_reg_T2W_BET_brain.nii.gz\n"
     ]
    },
    {
     "name": "stderr",
     "output_type": "stream",
     "text": [
      "gzip: /home/s2208943/ipdis/data/InterRater_data/LBC360386/LBC360386_4_FLAIR_reg_T2W_BET_brain.nii.gz already has .gz suffix -- unchanged\n",
      "  3%|██████▏                                                                                                                                                                                                  | 4/129 [00:01<00:53,  2.34it/s]"
     ]
    },
    {
     "name": "stdout",
     "output_type": "stream",
     "text": [
      "called\n",
      "/home/s2208943/ipdis/data/InterRater_data/LBC360188/LBC360188_4_FLAIR_reg_T2W_BET_brain.nii /home/s2208943/ipdis/data/InterRater_data/LBC360188/LBC360188_4_FLAIR_reg_T2W_BET_brain.nii.gz\n"
     ]
    },
    {
     "name": "stderr",
     "output_type": "stream",
     "text": [
      "gzip: /home/s2208943/ipdis/data/InterRater_data/LBC360188/LBC360188_4_FLAIR_reg_T2W_BET_brain.nii.gz already has .gz suffix -- unchanged\n"
     ]
    },
    {
     "name": "stdout",
     "output_type": "stream",
     "text": [
      "called\n",
      "/home/s2208943/ipdis/data/InterRater_data/LBC360188/LBC360188_4_WMH_kjf.nii /home/s2208943/ipdis/data/InterRater_data/LBC360188/LBC360188_4_WMH_kjf.nii.gz\n"
     ]
    },
    {
     "name": "stderr",
     "output_type": "stream",
     "text": [
      "gzip: /home/s2208943/ipdis/data/InterRater_data/LBC360188/LBC360188_4_WMH_kjf.nii.gz already has .gz suffix -- unchanged\n"
     ]
    },
    {
     "name": "stdout",
     "output_type": "stream",
     "text": [
      "called\n",
      "/home/s2208943/ipdis/data/InterRater_data/LBC360188/LBC360188_4_T1W_reg_T2W_BET_brain.nii /home/s2208943/ipdis/data/InterRater_data/LBC360188/LBC360188_4_T1W_reg_T2W_BET_brain.nii.gz\n"
     ]
    },
    {
     "name": "stderr",
     "output_type": "stream",
     "text": [
      "gzip: /home/s2208943/ipdis/data/InterRater_data/LBC360188/LBC360188_4_T1W_reg_T2W_BET_brain.nii.gz already has .gz suffix -- unchanged\n"
     ]
    },
    {
     "name": "stdout",
     "output_type": "stream",
     "text": [
      "called\n",
      "/home/s2208943/ipdis/data/InterRater_data/LBC360188/LBC360188_4_T2W_reg_T2W_BET_brain.nii /home/s2208943/ipdis/data/InterRater_data/LBC360188/LBC360188_4_T2W_reg_T2W_BET_brain.nii.gz\n"
     ]
    },
    {
     "name": "stderr",
     "output_type": "stream",
     "text": [
      "gzip: /home/s2208943/ipdis/data/InterRater_data/LBC360188/LBC360188_4_T2W_reg_T2W_BET_brain.nii.gz already has .gz suffix -- unchanged\n",
      "  5%|█████████▎                                                                                                                                                                                               | 6/129 [00:03<01:26,  1.42it/s]"
     ]
    },
    {
     "name": "stdout",
     "output_type": "stream",
     "text": [
      "called\n",
      "/home/s2208943/ipdis/data/InterRater_data/LBC360085/LBC360085_4_T1W_reg_T2W_BET_brain.nii /home/s2208943/ipdis/data/InterRater_data/LBC360085/LBC360085_4_T1W_reg_T2W_BET_brain.nii.gz\n"
     ]
    },
    {
     "name": "stderr",
     "output_type": "stream",
     "text": [
      "gzip: /home/s2208943/ipdis/data/InterRater_data/LBC360085/LBC360085_4_T1W_reg_T2W_BET_brain.nii.gz already has .gz suffix -- unchanged\n"
     ]
    },
    {
     "name": "stdout",
     "output_type": "stream",
     "text": [
      "called\n",
      "/home/s2208943/ipdis/data/InterRater_data/LBC360085/LBC360085_4_FLAIR_reg_T2W_BET_brain.nii /home/s2208943/ipdis/data/InterRater_data/LBC360085/LBC360085_4_FLAIR_reg_T2W_BET_brain.nii.gz\n"
     ]
    },
    {
     "name": "stderr",
     "output_type": "stream",
     "text": [
      "gzip: /home/s2208943/ipdis/data/InterRater_data/LBC360085/LBC360085_4_FLAIR_reg_T2W_BET_brain.nii.gz already has .gz suffix -- unchanged\n"
     ]
    },
    {
     "name": "stdout",
     "output_type": "stream",
     "text": [
      "called\n",
      "/home/s2208943/ipdis/data/InterRater_data/LBC360085/LBC360085_4_T2W_reg_T2W_BET_brain.nii /home/s2208943/ipdis/data/InterRater_data/LBC360085/LBC360085_4_T2W_reg_T2W_BET_brain.nii.gz\n"
     ]
    },
    {
     "name": "stderr",
     "output_type": "stream",
     "text": [
      "gzip: /home/s2208943/ipdis/data/InterRater_data/LBC360085/LBC360085_4_T2W_reg_T2W_BET_brain.nii.gz already has .gz suffix -- unchanged\n",
      "  5%|██████████▉                                                                                                                                                                                              | 7/129 [00:05<01:56,  1.05it/s]"
     ]
    },
    {
     "name": "stdout",
     "output_type": "stream",
     "text": [
      "called\n",
      "/home/s2208943/ipdis/data/InterRater_data/LBC360435/LBC360435_4_FLAIR_reg_T2W_BET_brain.nii /home/s2208943/ipdis/data/InterRater_data/LBC360435/LBC360435_4_FLAIR_reg_T2W_BET_brain.nii.gz\n"
     ]
    },
    {
     "name": "stderr",
     "output_type": "stream",
     "text": [
      "gzip: /home/s2208943/ipdis/data/InterRater_data/LBC360435/LBC360435_4_FLAIR_reg_T2W_BET_brain.nii.gz already has .gz suffix -- unchanged\n"
     ]
    },
    {
     "name": "stdout",
     "output_type": "stream",
     "text": [
      "called\n",
      "/home/s2208943/ipdis/data/InterRater_data/LBC360435/LBC360435_4_T1W_reg_T2W_BET_brain.nii /home/s2208943/ipdis/data/InterRater_data/LBC360435/LBC360435_4_T1W_reg_T2W_BET_brain.nii.gz\n"
     ]
    },
    {
     "name": "stderr",
     "output_type": "stream",
     "text": [
      "gzip: /home/s2208943/ipdis/data/InterRater_data/LBC360435/LBC360435_4_T1W_reg_T2W_BET_brain.nii.gz already has .gz suffix -- unchanged\n"
     ]
    },
    {
     "name": "stdout",
     "output_type": "stream",
     "text": [
      "called\n",
      "/home/s2208943/ipdis/data/InterRater_data/LBC360435/LBC360435_4_T2W_reg_T2W_BET_brain.nii /home/s2208943/ipdis/data/InterRater_data/LBC360435/LBC360435_4_T2W_reg_T2W_BET_brain.nii.gz\n"
     ]
    },
    {
     "name": "stderr",
     "output_type": "stream",
     "text": [
      "gzip: /home/s2208943/ipdis/data/InterRater_data/LBC360435/LBC360435_4_T2W_reg_T2W_BET_brain.nii.gz already has .gz suffix -- unchanged\n",
      " 12%|███████████████████████▎                                                                                                                                                                                | 15/129 [00:07<00:51,  2.20it/s]"
     ]
    },
    {
     "name": "stdout",
     "output_type": "stream",
     "text": [
      "called\n",
      "/home/s2208943/ipdis/data/InterRater_data/LBC360172/LBC360172_4_T2W_reg_T2W_BET_brain.nii /home/s2208943/ipdis/data/InterRater_data/LBC360172/LBC360172_4_T2W_reg_T2W_BET_brain.nii.gz\n"
     ]
    },
    {
     "name": "stderr",
     "output_type": "stream",
     "text": [
      "gzip: /home/s2208943/ipdis/data/InterRater_data/LBC360172/LBC360172_4_T2W_reg_T2W_BET_brain.nii.gz already has .gz suffix -- unchanged\n"
     ]
    },
    {
     "name": "stdout",
     "output_type": "stream",
     "text": [
      "called\n",
      "/home/s2208943/ipdis/data/InterRater_data/LBC360172/LBC360172_4_T1W_reg_T2W_BET_brain.nii /home/s2208943/ipdis/data/InterRater_data/LBC360172/LBC360172_4_T1W_reg_T2W_BET_brain.nii.gz\n"
     ]
    },
    {
     "name": "stderr",
     "output_type": "stream",
     "text": [
      "gzip: /home/s2208943/ipdis/data/InterRater_data/LBC360172/LBC360172_4_T1W_reg_T2W_BET_brain.nii.gz already has .gz suffix -- unchanged\n"
     ]
    },
    {
     "name": "stdout",
     "output_type": "stream",
     "text": [
      "called\n",
      "/home/s2208943/ipdis/data/InterRater_data/LBC360172/LBC360172_4_FLAIR_reg_T2W_BET_brain.nii /home/s2208943/ipdis/data/InterRater_data/LBC360172/LBC360172_4_FLAIR_reg_T2W_BET_brain.nii.gz\n"
     ]
    },
    {
     "name": "stderr",
     "output_type": "stream",
     "text": [
      "gzip: /home/s2208943/ipdis/data/InterRater_data/LBC360172/LBC360172_4_FLAIR_reg_T2W_BET_brain.nii.gz already has .gz suffix -- unchanged\n",
      " 12%|████████████████████████▊                                                                                                                                                                               | 16/129 [00:09<01:07,  1.67it/s]"
     ]
    },
    {
     "name": "stdout",
     "output_type": "stream",
     "text": [
      "called\n",
      "/home/s2208943/ipdis/data/InterRater_data/LBC360301/LBC360301_4_WMH_kjf.nii /home/s2208943/ipdis/data/InterRater_data/LBC360301/LBC360301_4_WMH_kjf.nii.gz\n"
     ]
    },
    {
     "name": "stderr",
     "output_type": "stream",
     "text": [
      "gzip: /home/s2208943/ipdis/data/InterRater_data/LBC360301/LBC360301_4_WMH_kjf.nii.gz already has .gz suffix -- unchanged\n"
     ]
    },
    {
     "name": "stdout",
     "output_type": "stream",
     "text": [
      "called\n",
      "/home/s2208943/ipdis/data/InterRater_data/LBC360301/LBC360301_4_FLAIR_reg_T2W_BET_brain.nii /home/s2208943/ipdis/data/InterRater_data/LBC360301/LBC360301_4_FLAIR_reg_T2W_BET_brain.nii.gz\n"
     ]
    },
    {
     "name": "stderr",
     "output_type": "stream",
     "text": [
      "gzip: /home/s2208943/ipdis/data/InterRater_data/LBC360301/LBC360301_4_FLAIR_reg_T2W_BET_brain.nii.gz already has .gz suffix -- unchanged\n"
     ]
    },
    {
     "name": "stdout",
     "output_type": "stream",
     "text": [
      "called\n",
      "/home/s2208943/ipdis/data/InterRater_data/LBC360301/LBC360301_4_T2W_reg_T2W_BET_brain.nii /home/s2208943/ipdis/data/InterRater_data/LBC360301/LBC360301_4_T2W_reg_T2W_BET_brain.nii.gz\n"
     ]
    },
    {
     "name": "stderr",
     "output_type": "stream",
     "text": [
      "gzip: /home/s2208943/ipdis/data/InterRater_data/LBC360301/LBC360301_4_T2W_reg_T2W_BET_brain.nii.gz already has .gz suffix -- unchanged\n"
     ]
    },
    {
     "name": "stdout",
     "output_type": "stream",
     "text": [
      "called\n",
      "/home/s2208943/ipdis/data/InterRater_data/LBC360301/LBC360301_4_T1W_reg_T2W_BET_brain.nii /home/s2208943/ipdis/data/InterRater_data/LBC360301/LBC360301_4_T1W_reg_T2W_BET_brain.nii.gz\n"
     ]
    },
    {
     "name": "stderr",
     "output_type": "stream",
     "text": [
      "gzip: /home/s2208943/ipdis/data/InterRater_data/LBC360301/LBC360301_4_T1W_reg_T2W_BET_brain.nii.gz already has .gz suffix -- unchanged\n",
      " 13%|██████████████████████████▎                                                                                                                                                                             | 17/129 [00:11<01:29,  1.26it/s]"
     ]
    },
    {
     "name": "stdout",
     "output_type": "stream",
     "text": [
      "called\n",
      "/home/s2208943/ipdis/data/InterRater_data/LBC360262/LBC360262_4_FLAIR_reg_T2W_BET_brain.nii /home/s2208943/ipdis/data/InterRater_data/LBC360262/LBC360262_4_FLAIR_reg_T2W_BET_brain.nii.gz\n"
     ]
    },
    {
     "name": "stderr",
     "output_type": "stream",
     "text": [
      "gzip: /home/s2208943/ipdis/data/InterRater_data/LBC360262/LBC360262_4_FLAIR_reg_T2W_BET_brain.nii.gz already has .gz suffix -- unchanged\n"
     ]
    },
    {
     "name": "stdout",
     "output_type": "stream",
     "text": [
      "called\n",
      "/home/s2208943/ipdis/data/InterRater_data/LBC360262/LBC360262_4_T1W_reg_T2W_BET_brain.nii /home/s2208943/ipdis/data/InterRater_data/LBC360262/LBC360262_4_T1W_reg_T2W_BET_brain.nii.gz\n"
     ]
    },
    {
     "name": "stderr",
     "output_type": "stream",
     "text": [
      "gzip: /home/s2208943/ipdis/data/InterRater_data/LBC360262/LBC360262_4_T1W_reg_T2W_BET_brain.nii.gz already has .gz suffix -- unchanged\n"
     ]
    },
    {
     "name": "stdout",
     "output_type": "stream",
     "text": [
      "called\n",
      "/home/s2208943/ipdis/data/InterRater_data/LBC360262/LBC360262_4_T2W_reg_T2W_BET_brain.nii /home/s2208943/ipdis/data/InterRater_data/LBC360262/LBC360262_4_T2W_reg_T2W_BET_brain.nii.gz\n"
     ]
    },
    {
     "name": "stderr",
     "output_type": "stream",
     "text": [
      "gzip: /home/s2208943/ipdis/data/InterRater_data/LBC360262/LBC360262_4_T2W_reg_T2W_BET_brain.nii.gz already has .gz suffix -- unchanged\n",
      " 19%|██████████████████████████████████████▊                                                                                                                                                                 | 25/129 [00:13<00:47,  2.19it/s]"
     ]
    },
    {
     "name": "stdout",
     "output_type": "stream",
     "text": [
      "called\n",
      "/home/s2208943/ipdis/data/InterRater_data/LBC360286/LBC360286_4_T2W_reg_T2W_BET_brain.nii /home/s2208943/ipdis/data/InterRater_data/LBC360286/LBC360286_4_T2W_reg_T2W_BET_brain.nii.gz\n"
     ]
    },
    {
     "name": "stderr",
     "output_type": "stream",
     "text": [
      "gzip: /home/s2208943/ipdis/data/InterRater_data/LBC360286/LBC360286_4_T2W_reg_T2W_BET_brain.nii.gz already has .gz suffix -- unchanged\n"
     ]
    },
    {
     "name": "stdout",
     "output_type": "stream",
     "text": [
      "called\n",
      "/home/s2208943/ipdis/data/InterRater_data/LBC360286/LBC360286_4_T1W_reg_T2W_BET_brain.nii /home/s2208943/ipdis/data/InterRater_data/LBC360286/LBC360286_4_T1W_reg_T2W_BET_brain.nii.gz\n"
     ]
    },
    {
     "name": "stderr",
     "output_type": "stream",
     "text": [
      "gzip: /home/s2208943/ipdis/data/InterRater_data/LBC360286/LBC360286_4_T1W_reg_T2W_BET_brain.nii.gz already has .gz suffix -- unchanged\n"
     ]
    },
    {
     "name": "stdout",
     "output_type": "stream",
     "text": [
      "called\n",
      "/home/s2208943/ipdis/data/InterRater_data/LBC360286/LBC360286_4_FLAIR_reg_T2W_BET_brain.nii /home/s2208943/ipdis/data/InterRater_data/LBC360286/LBC360286_4_FLAIR_reg_T2W_BET_brain.nii.gz\n"
     ]
    },
    {
     "name": "stderr",
     "output_type": "stream",
     "text": [
      "gzip: /home/s2208943/ipdis/data/InterRater_data/LBC360286/LBC360286_4_FLAIR_reg_T2W_BET_brain.nii.gz already has .gz suffix -- unchanged\n",
      " 21%|█████████████████████████████████████████▊                                                                                                                                                              | 27/129 [00:15<00:54,  1.88it/s]"
     ]
    },
    {
     "name": "stdout",
     "output_type": "stream",
     "text": [
      "called\n",
      "/home/s2208943/ipdis/data/InterRater_data/LBC360361/LBC360361_4_FLAIR_reg_T2W_BET_brain.nii /home/s2208943/ipdis/data/InterRater_data/LBC360361/LBC360361_4_FLAIR_reg_T2W_BET_brain.nii.gz\n"
     ]
    },
    {
     "name": "stderr",
     "output_type": "stream",
     "text": [
      "gzip: /home/s2208943/ipdis/data/InterRater_data/LBC360361/LBC360361_4_FLAIR_reg_T2W_BET_brain.nii.gz already has .gz suffix -- unchanged\n",
      "gzip: /home/s2208943/ipdis/data/InterRater_data/LBC360361/LBC360361_4_WMH_kjf.nii.gz already has .gz suffix -- unchanged\n"
     ]
    },
    {
     "name": "stdout",
     "output_type": "stream",
     "text": [
      "called\n",
      "/home/s2208943/ipdis/data/InterRater_data/LBC360361/LBC360361_4_WMH_kjf.nii /home/s2208943/ipdis/data/InterRater_data/LBC360361/LBC360361_4_WMH_kjf.nii.gz\n",
      "called\n",
      "/home/s2208943/ipdis/data/InterRater_data/LBC360361/LBC360361_4_T2W_reg_T2W_BET_brain.nii /home/s2208943/ipdis/data/InterRater_data/LBC360361/LBC360361_4_T2W_reg_T2W_BET_brain.nii.gz\n"
     ]
    },
    {
     "name": "stderr",
     "output_type": "stream",
     "text": [
      "gzip: /home/s2208943/ipdis/data/InterRater_data/LBC360361/LBC360361_4_T2W_reg_T2W_BET_brain.nii.gz already has .gz suffix -- unchanged\n"
     ]
    },
    {
     "name": "stdout",
     "output_type": "stream",
     "text": [
      "called\n",
      "/home/s2208943/ipdis/data/InterRater_data/LBC360361/LBC360361_4_T1W_reg_T2W_BET_brain.nii /home/s2208943/ipdis/data/InterRater_data/LBC360361/LBC360361_4_T1W_reg_T2W_BET_brain.nii.gz\n"
     ]
    },
    {
     "name": "stderr",
     "output_type": "stream",
     "text": [
      "gzip: /home/s2208943/ipdis/data/InterRater_data/LBC360361/LBC360361_4_T1W_reg_T2W_BET_brain.nii.gz already has .gz suffix -- unchanged\n",
      " 29%|█████████████████████████████████████████████████████████▎                                                                                                                                              | 37/129 [00:17<00:42,  2.15it/s]\n"
     ]
    },
    {
     "ename": "NotADirectoryError",
     "evalue": "[Errno 20] Not a directory: '/home/s2208943/ipdis/data/InterRater_data/Inter_observer_lacunes.xlsx'",
     "output_type": "error",
     "traceback": [
      "\u001b[0;31m---------------------------------------------------------------------------\u001b[0m",
      "\u001b[0;31mNotADirectoryError\u001b[0m                        Traceback (most recent call last)",
      "\u001b[0;32m/tmp/ipykernel_391065/614275986.py\u001b[0m in \u001b[0;36m<cell line: 1>\u001b[0;34m()\u001b[0m\n\u001b[1;32m      1\u001b[0m \u001b[0;32mfor\u001b[0m \u001b[0md\u001b[0m \u001b[0;32min\u001b[0m \u001b[0mtqdm\u001b[0m\u001b[0;34m(\u001b[0m\u001b[0mfolders\u001b[0m\u001b[0;34m)\u001b[0m\u001b[0;34m:\u001b[0m\u001b[0;34m\u001b[0m\u001b[0;34m\u001b[0m\u001b[0m\n\u001b[0;32m----> 2\u001b[0;31m     \u001b[0mfiles\u001b[0m \u001b[0;34m=\u001b[0m \u001b[0mos\u001b[0m\u001b[0;34m.\u001b[0m\u001b[0mlistdir\u001b[0m\u001b[0;34m(\u001b[0m\u001b[0mos\u001b[0m\u001b[0;34m.\u001b[0m\u001b[0mpath\u001b[0m\u001b[0;34m.\u001b[0m\u001b[0mjoin\u001b[0m\u001b[0;34m(\u001b[0m\u001b[0mpath\u001b[0m\u001b[0;34m,\u001b[0m \u001b[0md\u001b[0m\u001b[0;34m)\u001b[0m\u001b[0;34m)\u001b[0m\u001b[0;34m\u001b[0m\u001b[0;34m\u001b[0m\u001b[0m\n\u001b[0m\u001b[1;32m      3\u001b[0m     \u001b[0;32mfor\u001b[0m \u001b[0mf\u001b[0m \u001b[0;32min\u001b[0m \u001b[0mfiles\u001b[0m\u001b[0;34m:\u001b[0m\u001b[0;34m\u001b[0m\u001b[0;34m\u001b[0m\u001b[0m\n\u001b[1;32m      4\u001b[0m         \u001b[0;32mif\u001b[0m \u001b[0;34m\".nii\"\u001b[0m \u001b[0;32min\u001b[0m \u001b[0mf\u001b[0m \u001b[0;32mand\u001b[0m \u001b[0;34m\".gz\"\u001b[0m \u001b[0;32mnot\u001b[0m \u001b[0;32min\u001b[0m \u001b[0mf\u001b[0m\u001b[0;34m:\u001b[0m\u001b[0;34m\u001b[0m\u001b[0;34m\u001b[0m\u001b[0m\n\u001b[1;32m      5\u001b[0m             \u001b[0mprint\u001b[0m\u001b[0;34m(\u001b[0m\u001b[0;34m\"called\"\u001b[0m\u001b[0;34m)\u001b[0m\u001b[0;34m\u001b[0m\u001b[0;34m\u001b[0m\u001b[0m\n",
      "\u001b[0;31mNotADirectoryError\u001b[0m: [Errno 20] Not a directory: '/home/s2208943/ipdis/data/InterRater_data/Inter_observer_lacunes.xlsx'"
     ]
    }
   ],
   "source": [
    "for d in tqdm(folders):\n",
    "    files = os.listdir(os.path.join(path, d))\n",
    "    for f in files:\n",
    "        if \".nii\" in f and \".gz\" not in f:\n",
    "            print(\"called\")\n",
    "            print(os.path.join(path, d, f),\n",
    "                os.path.join(path, d, f + \".gz\"))\n",
    "            os.system(\n",
    "                f\"gzip {os.path.join(path, d, f)} {os.path.join(path, d, f)}.gz\"\n",
    "            )"
   ]
  },
  {
   "cell_type": "code",
   "execution_count": null,
   "id": "498dd3f6-44d2-4623-9960-2e4cd79ec770",
   "metadata": {},
   "outputs": [],
   "source": []
  },
  {
   "cell_type": "code",
   "execution_count": null,
   "id": "e84a5c25-628e-4372-aca1-1c5847ce469f",
   "metadata": {},
   "outputs": [],
   "source": [
    "bet_command = [os.path.join(*[FSLDIR,'bin', 'bet']), next_file + FORMAT, out_file, \"-m\", \"-S\"]\n",
    "                    \n",
    "                    _ = subprocess.call(bet_command)"
   ]
  }
 ],
 "metadata": {
  "kernelspec": {
   "display_name": "Python 3 (ipykernel)",
   "language": "python",
   "name": "python3"
  },
  "language_info": {
   "codemirror_mode": {
    "name": "ipython",
    "version": 3
   },
   "file_extension": ".py",
   "mimetype": "text/x-python",
   "name": "python",
   "nbconvert_exporter": "python",
   "pygments_lexer": "ipython3",
   "version": "3.8.10"
  }
 },
 "nbformat": 4,
 "nbformat_minor": 5
}
