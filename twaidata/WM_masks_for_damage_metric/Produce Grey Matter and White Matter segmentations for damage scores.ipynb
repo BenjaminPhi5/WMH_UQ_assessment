{
 "cells": [
  {
   "cell_type": "markdown",
   "id": "87b54191-1dc3-4015-b389-38adb783d898",
   "metadata": {},
   "source": [
    "# Produce Grey Matter and White Matter segmentations for damage scores\n",
    "\n",
    "only done for the EdData.\n",
    "done post hoc after the initial preprocessing"
   ]
  },
  {
   "cell_type": "code",
   "execution_count": 1,
   "id": "98241759-ef3b-43fd-8d6c-107b5bd67b9d",
   "metadata": {},
   "outputs": [],
   "source": [
    "from fsl.wrappers import fast\n",
    "import os\n",
    "from natsort import natsorted\n",
    "from joblib import Parallel, delayed"
   ]
  },
  {
   "cell_type": "code",
   "execution_count": 3,
   "id": "5dd55a87-5f02-41a5-9546-1207435d0b45",
   "metadata": {},
   "outputs": [],
   "source": [
    "main_root = \"/home/s2208943/ipdis/data/preprocessed_data/EdData/\"\n",
    "output_folder = \"/home/s2208943/ipdis/data/preprocessed_data/Ed_fast_WM_masks/\"\n",
    "domains = ['domainA', 'domainB', 'domainC', 'domainD']"
   ]
  },
  {
   "cell_type": "code",
   "execution_count": null,
   "id": "a7e4c1b7-1701-4d82-8e2d-6008f19728d1",
   "metadata": {},
   "outputs": [],
   "source": [
    "files_per_domain = []\n",
    "for d in domains:\n",
    "    fdir = main_root + d + \"/imgs/\"\n",
    "    files = os.listdir(fdir)\n",
    "    files_per_domain.append([f for f in files if \"_FLAIR_BET.nii.gz\" in f])"
   ]
  },
  {
   "cell_type": "code",
   "execution_count": 36,
   "id": "ef23b7f7-554e-4be0-92ff-a9ab9ef99a03",
   "metadata": {},
   "outputs": [
    {
     "data": {
      "text/plain": [
       "'CVD128'"
      ]
     },
     "execution_count": 36,
     "metadata": {},
     "output_type": "execute_result"
    }
   ],
   "source": [
    "files_per_domain[0][0].split(\"_\")[0]"
   ]
  },
  {
   "cell_type": "code",
   "execution_count": 37,
   "id": "a83b67b9-f0b8-41dc-b127-7f9c068ffaae",
   "metadata": {},
   "outputs": [],
   "source": [
    "def process(domain_index):\n",
    "    input_paths = [main_root + domains[domain_index] + \"/imgs/\" + f for f in files_per_domain[domain_index]]\n",
    "    output_paths = [output_folder + f.split(\"_\")[0] for f in files_per_domain[domain_index]]\n",
    "    \n",
    "    for i in range(len(input_paths)):\n",
    "        fast(input_paths[i], out=output_paths[i], n_classes=4)"
   ]
  },
  {
   "cell_type": "code",
   "execution_count": 39,
   "id": "b7de2cbc-e064-4697-934f-95c1b31a461b",
   "metadata": {},
   "outputs": [],
   "source": [
    "# Parallel(n_jobs=4)(\n",
    "#         delayed(process)(domain_index)\n",
    "#         for i in range(len(domains))\n",
    "#     )"
   ]
  },
  {
   "cell_type": "code",
   "execution_count": 4,
   "id": "74405928-58ac-4cfb-aebc-5590b3f37ec6",
   "metadata": {},
   "outputs": [],
   "source": [
    "# check that they have been created\n",
    "outs = os.listdir(output_folder)"
   ]
  },
  {
   "cell_type": "code",
   "execution_count": 5,
   "id": "37f81aa9-fbb0-4617-b582-94a8a2be8a5e",
   "metadata": {},
   "outputs": [
    {
     "data": {
      "text/plain": [
       "7.0"
      ]
     },
     "execution_count": 5,
     "metadata": {},
     "output_type": "execute_result"
    }
   ],
   "source": [
    "len(outs) / 250 # 250 is the number of images to process, so number of output files should divide this."
   ]
  },
  {
   "cell_type": "code",
   "execution_count": null,
   "id": "e3145a6e-db7e-4424-b87b-b6e17c274fd4",
   "metadata": {},
   "outputs": [],
   "source": []
  }
 ],
 "metadata": {
  "kernelspec": {
   "display_name": "Python 3 (ipykernel)",
   "language": "python",
   "name": "python3"
  },
  "language_info": {
   "codemirror_mode": {
    "name": "ipython",
    "version": 3
   },
   "file_extension": ".py",
   "mimetype": "text/x-python",
   "name": "python",
   "nbconvert_exporter": "python",
   "pygments_lexer": "ipython3",
   "version": "3.10.8"
  }
 },
 "nbformat": 4,
 "nbformat_minor": 5
}
