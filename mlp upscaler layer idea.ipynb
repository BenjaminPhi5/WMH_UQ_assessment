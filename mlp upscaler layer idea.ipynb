{
 "cells": [
  {
   "cell_type": "code",
   "execution_count": 1,
   "id": "a455ac3f-c4b0-4657-99af-e58d4d9e6ae7",
   "metadata": {
    "tags": []
   },
   "outputs": [],
   "source": [
    "import torch\n",
    "import torch.nn as nn"
   ]
  },
  {
   "cell_type": "code",
   "execution_count": null,
   "id": "8d15d213-c4d1-4099-b6ed-fe89ee814675",
   "metadata": {},
   "outputs": [],
   "source": [
    "class UncertaintyGuidedMLPUpsampler(nn.Module):\n",
    "    def __init__(self):\n",
    "        super().init()\n",
    "        \n",
    "        # define mlp\n",
    "        self.mlp = ...\n",
    "        \n",
    "        # define features function\n",
    "        self.feature_extractor = ...\n",
    "        \n",
    "        ### define pixel location kernel\n",
    "        \n",
    "    def forward(x):\n",
    "        x = torch.nn.functional.interpolate(x, (2, 2), \"bilinear\")\n",
    "        p = torch.softmax(x.detach(), dim=1)\n",
    "        ent = (-p * torch.log(p + 1e-8)).sum(dim=1)\n",
    "        \n",
    "        # need to do this step efficiently.\n",
    "        \n",
    "        top_ent_indexes = torch.sort(ent, descending=True)\n",
    "        \n",
    "        "
   ]
  }
 ],
 "metadata": {
  "kernelspec": {
   "display_name": "Python 3 (ipykernel)",
   "language": "python",
   "name": "python3"
  },
  "language_info": {
   "codemirror_mode": {
    "name": "ipython",
    "version": 3
   },
   "file_extension": ".py",
   "mimetype": "text/x-python",
   "name": "python",
   "nbconvert_exporter": "python",
   "pygments_lexer": "ipython3",
   "version": "3.10.8"
  }
 },
 "nbformat": 4,
 "nbformat_minor": 5
}
