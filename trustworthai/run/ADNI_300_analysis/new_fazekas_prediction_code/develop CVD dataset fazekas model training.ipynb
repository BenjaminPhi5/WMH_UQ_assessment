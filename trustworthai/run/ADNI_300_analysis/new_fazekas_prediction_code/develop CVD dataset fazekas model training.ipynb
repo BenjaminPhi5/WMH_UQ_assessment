{
 "cells": [
  {
   "cell_type": "markdown",
   "id": "8a7216b1-f979-4921-b472-a2594968d7a5",
   "metadata": {},
   "source": [
    "### Prediction of Fazekas/clinical scores from uncertainty\n",
    "\n",
    "using the methodology I employed for ADNI, which uses a different data loading pipeline."
   ]
  },
  {
   "cell_type": "code",
   "execution_count": 1,
   "id": "a5a707b8-9797-4de2-b8ac-7f8d279565da",
   "metadata": {},
   "outputs": [
    {
     "name": "stdout",
     "output_type": "stream",
     "text": [
      "strawberry\n"
     ]
    },
    {
     "name": "stderr",
     "output_type": "stream",
     "text": [
      "\n",
      "KeyboardInterrupt\n",
      "\n"
     ]
    }
   ],
   "source": [
    "# trainer\n",
    "print(\"strawberry\")\n",
    "from trustworthai.utils.fitting_and_inference.fitters.basic_lightning_fitter import StandardLitModelWrapper\n",
    "from trustworthai.utils.fitting_and_inference.get_trainer import get_trainer\n",
    "\n",
    "# data\n",
    "from trustworthai.utils.data_preprep.dataset_pipelines import load_clinscores_data, load_data, ClinScoreDataRetriever\n",
    "from torch.utils.data import ConcatDataset, Dataset, DataLoader\n",
    "from trustworthai.utils.data_preprep.splits import cross_validate_split\n",
    "\n",
    "# packages\n",
    "import os\n",
    "import numpy as np\n",
    "import pandas as pd\n",
    "import matplotlib.pyplot as plt\n",
    "import torch\n",
    "from torchinfo import summary\n",
    "from tqdm import tqdm\n",
    "from collections import defaultdict\n",
    "from natsort import natsorted\n",
    "import torchmetrics\n",
    "from torchsampler import ImbalancedDatasetSampler\n",
    "print(\"banana\")"
   ]
  },
  {
   "cell_type": "code",
   "execution_count": null,
   "id": "4eb27a16-a336-46fd-a193-9507d9e1fc9d",
   "metadata": {},
   "outputs": [],
   "source": [
    "### load the data\n",
    "# using a new seed!\n",
    "clin_retriever = ClinScoreDataRetriever(use_updated_scores=True)\n"
   ]
  },
  {
   "cell_type": "code",
   "execution_count": null,
   "id": "c140ab37-06e3-4149-804d-36a2cb00cbe3",
   "metadata": {},
   "outputs": [],
   "source": [
    "split = 0\n",
    "train_ds_clin, val_ds_clin, test_ds_clin = clin_retriever.load_clinscores_data(\n",
    "        combine_all=False,\n",
    "        test_proportion=0.13, \n",
    "        validation_proportion=0.13,\n",
    "        seed=5,\n",
    "        cross_validate=True,\n",
    "        cv_split=split,\n",
    "        cv_test_fold_smooth=1,\n",
    "\n",
    "    )"
   ]
  },
  {
   "cell_type": "code",
   "execution_count": null,
   "id": "b27db6d1-5726-448d-9b20-dc650b8a3d01",
   "metadata": {},
   "outputs": [],
   "source": [
    "len(train_ds_clin), len(val_ds_clin) + len(test_ds_clin)"
   ]
  },
  {
   "cell_type": "code",
   "execution_count": null,
   "id": "69a6fa00-187e-498c-ab64-3eca78c78bd3",
   "metadata": {},
   "outputs": [],
   "source": [
    "labs = []\n",
    "for data in train_ds_clin:\n",
    "    labs.append(data[2]['PVWMH'])\n",
    "for data in val_ds_clin:\n",
    "    labs.append(data[2]['PVWMH'])\n",
    "for data in test_ds_clin:\n",
    "    labs.append(data[2]['PVWMH'])"
   ]
  },
  {
   "cell_type": "code",
   "execution_count": null,
   "id": "407ac910-f1e2-45b3-8578-f37f9ae6cab2",
   "metadata": {},
   "outputs": [],
   "source": [
    "(torch.Tensor(labs) == 3).sum()"
   ]
  },
  {
   "cell_type": "code",
   "execution_count": null,
   "id": "54868b0b-2dad-4600-97a4-cf6ada19cf7a",
   "metadata": {},
   "outputs": [],
   "source": [
    "class CustomClinFieldsDataset(torch.utils.data.Dataset):\n",
    "    # this is just a wrapper on the clinical dataset where I am hard coding a few things, such as one hot encodings, and all the other stuff that\n",
    "    # I might want to compute like tab fazekas and total fazekas etc\n",
    "    def __init__(self, base_dataset):\n",
    "        super().__init__()\n",
    "        self.base_dataset = base_dataset\n",
    "        \n",
    "    def __getitem__(self, idx):\n",
    "        x, y, clin_data = self.base_dataset[idx]\n",
    "        r = clin_data.copy()\n",
    "        \n",
    "        # smoking\n",
    "        r['smoking_0'] = (r['smoking'] == 0).astype(np.float32)\n",
    "        r['smoking_1'] = (r['smoking'] == 1).astype(np.float32)\n",
    "        r['smoking_2'] = (r['smoking'] == 2).astype(np.float32)\n",
    "        \n",
    "        # total fazekas and scale fazekas\n",
    "        dwmh = r['DWMH']\n",
    "        pvwmh = r['PVWMH']\n",
    "        total_fazekas = np.nan\n",
    "        if (not np.isnan(dwmh)) and (not np.isnan(pvwmh)):\n",
    "            total_fazekas = dwmh + pvwmh\n",
    "        r['total_fazekas'] = total_fazekas\n",
    "        r['scale_fazekas'] = ((pvwmh == 3) | (dwmh > 1)).astype(np.float32)\n",
    "        \n",
    "        # scale PVS\n",
    "        bgpvs = r['BGPVS']\n",
    "        scale_pvs = np.nan\n",
    "        if not np.isnan(bgpvs):\n",
    "            scale_pvs = (bgpvs >= 2).astype(np.float32)\n",
    "        r['scale_pvs'] = scale_pvs\n",
    "        \n",
    "        # scale micrBld\n",
    "        micrbld = r['micrBld']\n",
    "        scale_micrbld = np.nan\n",
    "        if not np.isnan(scale_micrbld):\n",
    "            scale_micrbld = (micrbld > 0).astype(np.float32)\n",
    "        r['scale_micrbld'] = scale_micrbld\n",
    "        \n",
    "        # stroke_les and scale stroke\n",
    "        oldLes = r['oldLes']\n",
    "        relLes = r['relLes']\n",
    "        stroke_les = np.nan\n",
    "        scale_stroke = np.nan\n",
    "        if not np.isnan(oldLes):\n",
    "            if type(relLes) == str:\n",
    "                if relLes != ' ':\n",
    "                    relLes = float(relLes)\n",
    "                else:\n",
    "                    relLes = 0.0\n",
    "            if type(oldLes) == str:\n",
    "                if oldLes != ' ':\n",
    "                    oldLes = float(oldLes)\n",
    "                else:\n",
    "                    oldLes = 0.0\n",
    "            try:\n",
    "                if np.isnan(relLes):\n",
    "                    relLes = 0.0\n",
    "            except:\n",
    "                print(\"failed on : \", relLes, type(relLes))\n",
    "            \n",
    "            try:\n",
    "                stroke_les = ((oldLes ==1)| (relLes==1)).astype(np.float32)\n",
    "            except:\n",
    "                print(f\"failed: old:{oldLes}, rel:{relLes}\")\n",
    "            scale_stroke = (oldLes * relLes).astype(np.float32)\n",
    "        r['stroke_les'] = stroke_les\n",
    "        r['scale_stroke'] = scale_stroke\n",
    "            \n",
    "        return x, y, r\n",
    "    \n",
    "    def __len__(self):\n",
    "        return len(self.base_dataset)"
   ]
  },
  {
   "cell_type": "code",
   "execution_count": null,
   "id": "69328df4-26cb-4d38-99cb-db40ecc69e41",
   "metadata": {},
   "outputs": [],
   "source": [
    "### load the extra information (e.g uncertainty maps, var maps, preds etc)\n",
    "umap_model_name = \"SSN_Ens_Mean\"\n",
    "output_maps_dir = f\"/home/s2208943/ipdis/data/preprocessed_data/EdData_output_maps/{umap_model_name}/\"\n",
    "\n",
    "output_maps_files = os.listdir(output_maps_dir)"
   ]
  },
  {
   "cell_type": "code",
   "execution_count": null,
   "id": "9a3a2395-ec36-4d95-8d53-83acbc6d6dbc",
   "metadata": {},
   "outputs": [],
   "source": [
    "#output_maps_files"
   ]
  },
  {
   "cell_type": "code",
   "execution_count": null,
   "id": "179c7df3-433f-43a6-aecf-d8e1298c23d5",
   "metadata": {},
   "outputs": [],
   "source": [
    "def get_output_maps_for_ds(ds):\n",
    "    output_maps_lists = defaultdict(lambda : [])\n",
    "    for data in tqdm(ds, position=0, leave=True):\n",
    "        ID = data[2]['ID']\n",
    "        output_maps_data = np.load(f\"{output_maps_dir}{ID}_out_maps.npz\")\n",
    "        for output_type in output_maps_data.keys():\n",
    "            output_maps_lists[output_type].append(torch.from_numpy(output_maps_data[output_type]))\n",
    "            \n",
    "    return output_maps_lists"
   ]
  },
  {
   "cell_type": "code",
   "execution_count": null,
   "id": "68a53c28-50e4-4718-a752-863fec367519",
   "metadata": {},
   "outputs": [],
   "source": [
    "### dataset to load in the uncertainty maps and prediction data and add it into the existing dataset.\n",
    "\n",
    "class AddChannelsDataset(torch.utils.data.Dataset):\n",
    "    def __init__(self, base_dataset, extra_x_channels_lists):\n",
    "        self.base_dataset = base_dataset\n",
    "        self.extra_x_channels_lists = extra_x_channels_lists\n",
    "        \n",
    "    def __getitem__(self, idx):\n",
    "        data = self.base_dataset[idx]\n",
    "        x = data[0]\n",
    "        x = torch.cat([x, *[self.extra_x_channels_lists[key][idx].unsqueeze(0) for key in natsorted(self.extra_x_channels_lists.keys())]], dim=0)\n",
    "        \n",
    "        return (x, *data[1:])\n",
    "        \n",
    "    def __len__(self):\n",
    "        return len(self.base_dataset)"
   ]
  },
  {
   "cell_type": "code",
   "execution_count": null,
   "id": "cdaafd49-64bf-42b0-aa6f-ec6fbcbdcf74",
   "metadata": {
    "tags": []
   },
   "outputs": [],
   "source": [
    "### defining the augmentation procedure\n",
    "from trustworthai.utils.augmentation.standard_transforms import (\n",
    "    RandomFlip, GaussianBlur, GaussianNoise,\n",
    "    RandomResizeCrop, RandomAffine,\n",
    "    NormalizeImg, PairedCompose, LabelSelect,\n",
    "    PairedCentreCrop, CropZDim,\n",
    ")\n",
    "import torch\n",
    "\n",
    "\n",
    "def get_transforms():\n",
    "    transforms = [\n",
    "        LabelSelect(label_id=1),\n",
    "        RandomFlip(p=0.5, orientation=\"horizontal\"),\n",
    "        # GaussianBlur(p=0.5, kernel_size=7, sigma=(.1, 1.5)),\n",
    "        # GaussianNoise(p=0.2, mean=0, sigma=0.2),\n",
    "        RandomAffine(p=0.2, shear=(-18,18)),\n",
    "        RandomAffine(p=0.2, degrees=15),\n",
    "        RandomAffine(p=0.2, translate=(-0.1,0.1)),\n",
    "        RandomAffine(p=0.2, scale=(0.9, 1.1)),\n",
    "#         #RandomResizeCrop(p=1., scale=(0.6, 1.), ratio=(3./4., 4./3.))\n",
    "\n",
    "#         #RandomResizeCrop(p=1., scale=(0.3, 0.5), ratio=(3./4., 4./3.)) # ssn\n",
    "    ]\n",
    "    transforms.append(lambda x, y: (x, y.squeeze().type(torch.long)))\n",
    "    return PairedCompose(transforms)"
   ]
  },
  {
   "cell_type": "code",
   "execution_count": null,
   "id": "1ed2b8e5-9ecb-4f2d-b971-e3f2c08a6036",
   "metadata": {
    "tags": []
   },
   "outputs": [],
   "source": [
    "### combine the clinical scores data into the x information.\n",
    "# generated with chatgpt\n",
    "class ClinicalDataset(torch.utils.data.Dataset):\n",
    "    def __init__(self, base_dataset, fields, target_field):\n",
    "        self.base_dataset = base_dataset\n",
    "        self.fields = fields\n",
    "        self.target_field = target_field\n",
    "\n",
    "    def __len__(self):\n",
    "        return len(self.base_dataset)\n",
    "\n",
    "    def __getitem__(self, index):\n",
    "        x, y, clin_data = self.base_dataset[index]\n",
    "        clin_data_fields = clin_data[self.fields].values\n",
    "        clin_data_tensor = torch.from_numpy(clin_data_fields.astype(np.float32))\n",
    "        target_field = clin_data[self.target_field]\n",
    "        return (x, clin_data_tensor), target_field"
   ]
  },
  {
   "cell_type": "code",
   "execution_count": null,
   "id": "b6f6a949-0d1b-4d3c-962f-2ad87e3769f7",
   "metadata": {},
   "outputs": [],
   "source": [
    "# torch dataset that filters out nans\n",
    "class NonNanDataset(Dataset):\n",
    "    def __init__(self, original_dataset):\n",
    "        self.original_dataset = original_dataset\n",
    "        self.indices = []\n",
    "\n",
    "        for i in range(len(self.original_dataset)):\n",
    "            (x, clin_data), y = self.original_dataset[i]\n",
    "            if not (np.isnan(y) or torch.any(torch.isnan(clin_data))):\n",
    "                self.indices.append(i)\n",
    "\n",
    "    def __getitem__(self, index):\n",
    "        original_index = self.indices[index]\n",
    "        return self.original_dataset[original_index]\n",
    "\n",
    "    def __len__(self):\n",
    "        return len(self.indices)\n"
   ]
  },
  {
   "cell_type": "code",
   "execution_count": null,
   "id": "b7fc56ce-642a-4a0a-8693-9028be0953aa",
   "metadata": {},
   "outputs": [],
   "source": [
    "class GetLabelsDs(Dataset):\n",
    "    def __init__(self, base_dataset):\n",
    "        self.base_dataset = base_dataset\n",
    "        \n",
    "    def __getitem__(self, idx):\n",
    "        return self.base_dataset[idx]\n",
    "    \n",
    "    def __len__(self):\n",
    "        return len(self.base_dataset)\n",
    "    \n",
    "    def get_labels(self):\n",
    "        labels = []\n",
    "        for (x, clin_data), y in self.base_dataset:\n",
    "            labels.append(y)\n",
    "            \n",
    "        return labels"
   ]
  },
  {
   "cell_type": "code",
   "execution_count": null,
   "id": "339e2218-467c-4b97-b82b-f4fd411af3b9",
   "metadata": {},
   "outputs": [],
   "source": [
    "class AugmentedDataset_CVD(Dataset):\n",
    "    def __init__(self, base_dataset, transforms):\n",
    "        self.base_dataset = base_dataset\n",
    "        self.transforms = transforms\n",
    "        \n",
    "    def __getitem__(self, idx):\n",
    "        (x, clin_data), label = self.base_dataset[idx]\n",
    "        if self.transforms:\n",
    "            return (*self.transforms(x[[0, 2, 3, 4, 5, 6]], x[1]), clin_data), label # x[1] is just the mask\n",
    "        else:\n",
    "            return (x[[0, 2, 3, 4, 5, 6]], x[1], clin_data), label\n",
    "    \n",
    "    def __len__(self):\n",
    "        return len(self.base_dataset)"
   ]
  },
  {
   "cell_type": "code",
   "execution_count": null,
   "id": "9448382c-3071-4566-8103-73098284e60f",
   "metadata": {
    "tags": []
   },
   "outputs": [],
   "source": [
    "### building the combined datasets with \n",
    "# augmentation transforms, added in umaps and predictions as channels\n",
    "# and code to select 3 slices from the image.\n",
    "\n",
    "def build_clinscores_prediction_dataset(ds, clin_fields=['age'], target_field='DWMH', apply_augmentation=True):\n",
    "    \n",
    "    # sort out the extra fields I need (e.g smoking one hot encoded)\n",
    "    ds = CustomClinFieldsDataset(ds)\n",
    "    \n",
    "    # load in the extra data (e.g umaps) to build a combined dataset\n",
    "    print(\"loading umaps and wmh preds images\")\n",
    "    output_maps_test = get_output_maps_for_ds(ds)\n",
    "    new_ds = AddChannelsDataset(ds, output_maps_test)\n",
    "    new_ds = ClinicalDataset(new_ds, clin_fields, target_field)\n",
    "    \n",
    "    new_ds = NonNanDataset(new_ds)\n",
    "    \n",
    "    if apply_augmentation:\n",
    "        new_ds = AugmentedDataset_CVD(new_ds, get_transforms())\n",
    "    else:\n",
    "        new_ds = AugmentedDataset_CVD(new_ds, None)\n",
    "    \n",
    "    return new_ds"
   ]
  },
  {
   "cell_type": "code",
   "execution_count": null,
   "id": "20d13eec-ae9e-4393-b3f4-64794c32f1a0",
   "metadata": {},
   "outputs": [],
   "source": [
    "clin_fields = ['age', 'sex', 'diabetes', 'hypertension', 'hyperlipidaemia', 'smoking_0', 'smoking_1', 'smoking_2']"
   ]
  },
  {
   "cell_type": "code",
   "execution_count": null,
   "id": "c07c55c9-0a87-4fc8-bf07-10408c9dafa7",
   "metadata": {},
   "outputs": [],
   "source": [
    "import torchvision as tv\n",
    "\n",
    "class FormatDataset_CVD_Data(Dataset):\n",
    "    def __init__(self, base_dataset, num_slices_kept=20, centre_crop=(220,160), channels=['flair']):\n",
    "        self.base_dataset = base_dataset\n",
    "        self.num_slices_kept = num_slices_kept\n",
    "        self.centre_crop = centre_crop\n",
    "        self.channels = channels\n",
    "        \n",
    "    def __getitem__(self, idx):\n",
    "        channels_id = {\n",
    "            \"flair\":0,\n",
    "            \"t1\":1,\n",
    "            \"ent\":2,\n",
    "            \"pred\":3,\n",
    "            \"seg\":4,\n",
    "            \"var\":5,\n",
    "        }\n",
    "        \n",
    "        (x_3d, mask, clin_data), label = self.base_dataset[idx]\n",
    "        \n",
    "        num_slices = x_3d.shape[1]\n",
    "        # print(x_3d.shape)\n",
    "        if num_slices == 40:\n",
    "            start = 13\n",
    "        elif num_slices == 56:\n",
    "            start = 19\n",
    "        elif num_slices == 48:\n",
    "            start = 19\n",
    "        else:\n",
    "            raise ValueError(f\"not configured for {num_slices} slices\")\n",
    "            \n",
    "        slice_range = (start, start + self.num_slices_kept)\n",
    "        \n",
    "        # print(x_3d.shape)\n",
    "        \n",
    "        selected_channels = [channels_id[c] for c in self.channels]\n",
    "        \n",
    "        # Select the slices from the 3D image\n",
    "        x_3d = x_3d[selected_channels]\n",
    "        # print(x_3d.shape)\n",
    "        \n",
    "        slices = np.arange(slice_range[0], slice_range[1], 1)\n",
    "        x_3d = x_3d[:, slices]\n",
    "        # print(x_3d.shape)\n",
    "        \n",
    "        # Reshape the slices into C*v 2D tensors\n",
    "        x_2d = torch.reshape(x_3d, (-1, x_3d.shape[-2], x_3d.shape[-1]))\n",
    "        # x_2d = x_3d\n",
    "        \n",
    "        # print(x_2d.shape)\n",
    "        \n",
    "        x_2d = tv.transforms.functional.center_crop(x_2d, self.centre_crop)\n",
    "        \n",
    "        # print(x_2d.shape)\n",
    "        \n",
    "        return (x_2d, clin_data.type(torch.float32).squeeze()), label\n",
    "        \n",
    "    \n",
    "    def __len__(self):\n",
    "        return len(self.base_dataset)"
   ]
  },
  {
   "cell_type": "code",
   "execution_count": null,
   "id": "b92fe2eb-ea2d-46af-92b3-deba2c52f1bd",
   "metadata": {
    "tags": []
   },
   "outputs": [],
   "source": [
    "class ResampledDataset(Dataset):\n",
    "    def __init__(self, base_dataset):\n",
    "        self.base_dataset = base_dataset\n",
    "        labels = [y for _, y in base_dataset]\n",
    "        # print(labels)\n",
    "        labels = np.array(labels)\n",
    "        uniques = natsorted(np.unique(labels))\n",
    "\n",
    "        label_counts = [np.sum(labels == label) for label in uniques]\n",
    "        \n",
    "        largest_group_size = max(label_counts)\n",
    "            \n",
    "        label_positions = {label:[] for label in uniques}\n",
    "\n",
    "        for i, label in enumerate(labels):\n",
    "            label_positions[label].append(i)\n",
    "            \n",
    "        #label_positions = {label:}\n",
    "            \n",
    "        resampled_indexes = []\n",
    "        for label in uniques:\n",
    "            count = 0\n",
    "            i = 0\n",
    "            while count < largest_group_size:\n",
    "                label_pos = label_positions[label]\n",
    "                label_total = len(label_pos)\n",
    "                resampled_indexes.append(label_pos[i % label_total])\n",
    "                i += 1\n",
    "                count += 1\n",
    "                \n",
    "        self.resampled_indexes = resampled_indexes\n",
    "        # print(resampled_indexes)\n",
    "        \n",
    "    def __getitem__(self, idx):\n",
    "        return self.base_dataset[self.resampled_indexes[idx]]\n",
    "    \n",
    "    def __len__(self):\n",
    "        return len(self.resampled_indexes)"
   ]
  },
  {
   "cell_type": "markdown",
   "id": "d7d6cea8-1193-4e02-8fb8-358b23e241cb",
   "metadata": {},
   "source": [
    "### Setting up model for training"
   ]
  },
  {
   "cell_type": "code",
   "execution_count": null,
   "id": "1f804ffe-f381-4080-baf2-ca156c274ea1",
   "metadata": {
    "tags": []
   },
   "outputs": [],
   "source": [
    "from functools import partial\n",
    "from typing import Any, Callable, List, Optional, Type, Union\n",
    "\n",
    "import torch\n",
    "import torch.nn as nn\n",
    "from torch import Tensor\n",
    "\n",
    "\n",
    "def conv3x3(in_planes: int, out_planes: int, stride: int = 1, groups: int = 1, dilation: int = 1) -> nn.Conv2d:\n",
    "    \"\"\"3x3 convolution with padding\"\"\"\n",
    "    return nn.Conv2d(\n",
    "        in_planes,\n",
    "        out_planes,\n",
    "        kernel_size=3,\n",
    "        stride=stride,\n",
    "        padding=dilation,\n",
    "        groups=groups,\n",
    "        bias=False,\n",
    "        dilation=dilation,\n",
    "    )\n",
    "\n",
    "\n",
    "def conv1x1(in_planes: int, out_planes: int, stride: int = 1) -> nn.Conv2d:\n",
    "    \"\"\"1x1 convolution\"\"\"\n",
    "    return nn.Conv2d(in_planes, out_planes, kernel_size=1, stride=stride, bias=False)\n",
    "\n",
    "\n",
    "class BasicBlock(nn.Module):\n",
    "    expansion: int = 1\n",
    "\n",
    "    def __init__(\n",
    "        self,\n",
    "        inplanes: int,\n",
    "        planes: int,\n",
    "        stride: int = 1,\n",
    "        downsample: Optional[nn.Module] = None,\n",
    "        groups: int = 1,\n",
    "        base_width: int = 64,\n",
    "        dilation: int = 1,\n",
    "        norm_layer: Optional[Callable[..., nn.Module]] = None,\n",
    "    ) -> None:\n",
    "        super().__init__()\n",
    "        if norm_layer is None:\n",
    "            norm_layer = nn.BatchNorm2d\n",
    "        if groups != 1 or base_width != 64:\n",
    "            raise ValueError(\"BasicBlock only supports groups=1 and base_width=64\")\n",
    "        if dilation > 1:\n",
    "            raise NotImplementedError(\"Dilation > 1 not supported in BasicBlock\")\n",
    "        # Both self.conv1 and self.downsample layers downsample the input when stride != 1\n",
    "        self.conv1 = conv3x3(inplanes, planes, stride)\n",
    "        self.bn1 = norm_layer(planes)\n",
    "        self.relu = nn.ReLU(inplace=True)\n",
    "        self.conv2 = conv3x3(planes, planes)\n",
    "        self.bn2 = norm_layer(planes)\n",
    "        self.downsample = downsample\n",
    "        self.stride = stride\n",
    "\n",
    "    def forward(self, x: Tensor) -> Tensor:\n",
    "        identity = x\n",
    "\n",
    "        out = self.conv1(x)\n",
    "        out = self.bn1(out)\n",
    "        out = self.relu(out)\n",
    "\n",
    "        out = self.conv2(out)\n",
    "        out = self.bn2(out)\n",
    "\n",
    "        if self.downsample is not None:\n",
    "            identity = self.downsample(x)\n",
    "\n",
    "        out += identity\n",
    "        out = self.relu(out)\n",
    "\n",
    "        return out\n",
    "\n",
    "\n",
    "class Bottleneck(nn.Module):\n",
    "    # Bottleneck in torchvision places the stride for downsampling at 3x3 convolution(self.conv2)\n",
    "    # while original implementation places the stride at the first 1x1 convolution(self.conv1)\n",
    "    # according to \"Deep residual learning for image recognition\" https://arxiv.org/abs/1512.03385.\n",
    "    # This variant is also known as ResNet V1.5 and improves accuracy according to\n",
    "    # https://ngc.nvidia.com/catalog/model-scripts/nvidia:resnet_50_v1_5_for_pytorch.\n",
    "\n",
    "    expansion: int = 4\n",
    "\n",
    "    def __init__(\n",
    "        self,\n",
    "        inplanes: int,\n",
    "        planes: int,\n",
    "        stride: int = 1,\n",
    "        downsample: Optional[nn.Module] = None,\n",
    "        groups: int = 1,\n",
    "        base_width: int = 64,\n",
    "        dilation: int = 1,\n",
    "        norm_layer: Optional[Callable[..., nn.Module]] = None,\n",
    "    ) -> None:\n",
    "        super().__init__()\n",
    "        if norm_layer is None:\n",
    "            norm_layer = nn.BatchNorm2d\n",
    "        width = int(planes * (base_width / 64.0)) * groups\n",
    "        # Both self.conv2 and self.downsample layers downsample the input when stride != 1\n",
    "        self.conv1 = conv1x1(inplanes, width)\n",
    "        self.bn1 = norm_layer(width)\n",
    "        self.conv2 = conv3x3(width, width, stride, groups, dilation)\n",
    "        self.bn2 = norm_layer(width)\n",
    "        self.conv3 = conv1x1(width, planes * self.expansion)\n",
    "        self.bn3 = norm_layer(planes * self.expansion)\n",
    "        self.relu = nn.ReLU(inplace=True)\n",
    "        self.downsample = downsample\n",
    "        self.stride = stride\n",
    "\n",
    "    def forward(self, x: Tensor) -> Tensor:\n",
    "        identity = x\n",
    "\n",
    "        out = self.conv1(x)\n",
    "        out = self.bn1(out)\n",
    "        out = self.relu(out)\n",
    "\n",
    "        out = self.conv2(out)\n",
    "        out = self.bn2(out)\n",
    "        out = self.relu(out)\n",
    "\n",
    "        out = self.conv3(out)\n",
    "        out = self.bn3(out)\n",
    "\n",
    "        if self.downsample is not None:\n",
    "            identity = self.downsample(x)\n",
    "\n",
    "        out += identity\n",
    "        out = self.relu(out)\n",
    "\n",
    "        return out\n",
    "\n",
    "\n",
    "class ResNet(nn.Module):\n",
    "    def __init__(\n",
    "        self,\n",
    "        block: Type[Union[BasicBlock, Bottleneck]],\n",
    "        layers: List[int],\n",
    "        channel_size_divide=1,\n",
    "        num_classes: int = 1000,\n",
    "        zero_init_residual: bool = False,\n",
    "        groups: int = 1,\n",
    "        width_per_group: int = 64,\n",
    "        replace_stride_with_dilation: Optional[List[bool]] = None,\n",
    "        norm_layer: Optional[Callable[..., nn.Module]] = None,\n",
    "    ) -> None:\n",
    "        super().__init__()\n",
    "        if norm_layer is None:\n",
    "            norm_layer = nn.BatchNorm2d\n",
    "        self._norm_layer = norm_layer\n",
    "\n",
    "        self.inplanes = 64//channel_size_divide\n",
    "        self.init_inplanes = self.inplanes\n",
    "        self.dilation = 1\n",
    "        if replace_stride_with_dilation is None:\n",
    "            # each element in the tuple indicates if we should replace\n",
    "            # the 2x2 stride with a dilated convolution instead\n",
    "            replace_stride_with_dilation = [False, False, False]\n",
    "        if len(replace_stride_with_dilation) != 3:\n",
    "            raise ValueError(\n",
    "                \"replace_stride_with_dilation should be None \"\n",
    "                f\"or a 3-element tuple, got {replace_stride_with_dilation}\"\n",
    "            )\n",
    "        self.groups = groups\n",
    "        self.base_width = width_per_group\n",
    "        self.conv1 = nn.Conv2d(3, self.inplanes, kernel_size=7, stride=2, padding=3, bias=False)\n",
    "        self.bn1 = norm_layer(self.inplanes)\n",
    "        self.relu = nn.ReLU(inplace=True)\n",
    "        self.maxpool = nn.MaxPool2d(kernel_size=3, stride=2, padding=1)\n",
    "        self.layer1 = self._make_layer(block, 64//channel_size_divide, layers[0])\n",
    "        self.layer2 = self._make_layer(block, 128//channel_size_divide, layers[1], stride=2, dilate=replace_stride_with_dilation[0])\n",
    "        self.layer3 = self._make_layer(block, 256//channel_size_divide, layers[2], stride=2, dilate=replace_stride_with_dilation[1])\n",
    "        self.layer4 = self._make_layer(block, 512//channel_size_divide, layers[3], stride=2, dilate=replace_stride_with_dilation[2])\n",
    "        self.avgpool = nn.AdaptiveAvgPool2d((1, 1))\n",
    "        self.fc = nn.Linear(512 * block.expansion, num_classes)\n",
    "\n",
    "        for m in self.modules():\n",
    "            if isinstance(m, nn.Conv2d):\n",
    "                nn.init.kaiming_normal_(m.weight, mode=\"fan_out\", nonlinearity=\"relu\")\n",
    "            elif isinstance(m, (nn.BatchNorm2d, nn.GroupNorm)):\n",
    "                nn.init.constant_(m.weight, 1)\n",
    "                nn.init.constant_(m.bias, 0)\n",
    "\n",
    "        # Zero-initialize the last BN in each residual branch,\n",
    "        # so that the residual branch starts with zeros, and each residual block behaves like an identity.\n",
    "        # This improves the model by 0.2~0.3% according to https://arxiv.org/abs/1706.02677\n",
    "        if zero_init_residual:\n",
    "            for m in self.modules():\n",
    "                if isinstance(m, Bottleneck) and m.bn3.weight is not None:\n",
    "                    nn.init.constant_(m.bn3.weight, 0)  # type: ignore[arg-type]\n",
    "                elif isinstance(m, BasicBlock) and m.bn2.weight is not None:\n",
    "                    nn.init.constant_(m.bn2.weight, 0)  # type: ignore[arg-type]\n",
    "\n",
    "    def _make_layer(\n",
    "        self,\n",
    "        block: Type[Union[BasicBlock, Bottleneck]],\n",
    "        planes: int,\n",
    "        blocks: int,\n",
    "        stride: int = 1,\n",
    "        dilate: bool = False,\n",
    "    ) -> nn.Sequential:\n",
    "        norm_layer = self._norm_layer\n",
    "        downsample = None\n",
    "        previous_dilation = self.dilation\n",
    "        if dilate:\n",
    "            self.dilation *= stride\n",
    "            stride = 1\n",
    "        if stride != 1 or self.inplanes != planes * block.expansion:\n",
    "            downsample = nn.Sequential(\n",
    "                conv1x1(self.inplanes, planes * block.expansion, stride),\n",
    "                norm_layer(planes * block.expansion),\n",
    "            )\n",
    "\n",
    "        layers = []\n",
    "        layers.append(\n",
    "            block(\n",
    "                self.inplanes, planes, stride, downsample, self.groups, self.base_width, previous_dilation, norm_layer\n",
    "            )\n",
    "        )\n",
    "        self.inplanes = planes * block.expansion\n",
    "        for _ in range(1, blocks):\n",
    "            layers.append(\n",
    "                block(\n",
    "                    self.inplanes,\n",
    "                    planes,\n",
    "                    groups=self.groups,\n",
    "                    base_width=self.base_width,\n",
    "                    dilation=self.dilation,\n",
    "                    norm_layer=norm_layer,\n",
    "                )\n",
    "            )\n",
    "\n",
    "        return nn.Sequential(*layers)\n",
    "\n",
    "    def _forward_impl(self, x: Tensor) -> Tensor:\n",
    "        # See note [TorchScript super()]\n",
    "        x = self.conv1(x)\n",
    "        x = self.bn1(x)\n",
    "        x = self.relu(x)\n",
    "        x = self.maxpool(x)\n",
    "\n",
    "        x = self.layer1(x)\n",
    "        x = self.layer2(x)\n",
    "        x = self.layer3(x)\n",
    "        x = self.layer4(x)\n",
    "\n",
    "        x = self.avgpool(x)\n",
    "        x = torch.flatten(x, 1)\n",
    "        #x = self.fc(x)\n",
    "\n",
    "        return x\n",
    "\n",
    "    def forward(self, x: Tensor) -> Tensor:\n",
    "        return self._forward_impl(x)\n",
    "\n",
    "\n",
    "def _resnet(\n",
    "    block: Type[Union[BasicBlock, Bottleneck]],\n",
    "    layers: List[int],\n",
    "    weights,#: Optional[WeightsEnum],\n",
    "    progress: bool,\n",
    "    channel_size_divide,\n",
    "    **kwargs: Any,\n",
    ") -> ResNet:\n",
    "    if weights is not None:\n",
    "        _ovewrite_named_param(kwargs, \"num_classes\", len(weights.meta[\"categories\"]))\n",
    "\n",
    "    model = ResNet(block, layers, channel_size_divide, **kwargs)\n",
    "\n",
    "    if weights is not None:\n",
    "        model.load_state_dict(weights.get_state_dict(progress=progress))\n",
    "\n",
    "    return model\n",
    "\n",
    "def resnet18(*, progress: bool = True, channel_size_divide=2, **kwargs: Any) -> ResNet:\n",
    "    return _resnet(BasicBlock, [2, 2, 2, 2], None, progress, channel_size_divide=channel_size_divide, **kwargs)\n",
    "\n",
    "def resnet34(*, progress: bool = True, **kwargs: Any) -> ResNet:\n",
    "\n",
    "    return _resnet(BasicBlock, [3, 4, 6, 3], None, progress, **kwargs)"
   ]
  },
  {
   "cell_type": "code",
   "execution_count": null,
   "id": "622aeb85-bbe2-4b58-8e4f-39e2aa2a4167",
   "metadata": {},
   "outputs": [],
   "source": [
    "### selecting a model\n",
    "\n",
    "class PredictionModel(torch.nn.Module):\n",
    "    # uses a modified resnet that bypasses the usual \n",
    "    def __init__(self, image_channels, num_clin_features, out_classes, latent_fc_features=64, channel_size_divide=2):\n",
    "        super().__init__()\n",
    "        model_base = resnet18(channel_size_divide=channel_size_divide)\n",
    "        self.channel_size_divide = channel_size_divide\n",
    "        model_base.conv1 = nn.Conv2d(image_channels, model_base.init_inplanes, kernel_size=7, stride=2, padding=3, bias=False)\n",
    "        \n",
    "        self.model_base = model_base\n",
    "        \n",
    "        # replace the head of the model with another layer.\n",
    "        self.fc1 = nn.Linear(model_base.fc.in_features//channel_size_divide + num_clin_features, latent_fc_features)\n",
    "        self.a = nn.ReLU()\n",
    "        self.fc2 = nn.Linear(latent_fc_features, out_classes)\n",
    "        \n",
    "    def forward(self, inp):\n",
    "        x = inp[0]\n",
    "        clin_data = inp[1]\n",
    "        \n",
    "        # x = None\n",
    "        \n",
    "        if x != None:\n",
    "            features = self.model_base(x)\n",
    "        else:\n",
    "            features = torch.zeros(inp[0].shape[0], 512//self.channel_size_divide).cuda()\n",
    "        dense_input = torch.cat([features, clin_data], dim=1)\n",
    "        \n",
    "        out = self.fc2(self.a(self.fc1(dense_input)))\n",
    "        \n",
    "        return out\n",
    "        \n",
    "        "
   ]
  },
  {
   "cell_type": "code",
   "execution_count": null,
   "id": "041a5868-308d-4fec-b5ac-a2b0a5303525",
   "metadata": {},
   "outputs": [],
   "source": [
    "class PredictionModelNHeadLayer(torch.nn.Module):\n",
    "    # uses a modified resnet that bypasses the usual \n",
    "    def __init__(self, image_channels, num_clin_features, out_classes, latent_fc_features=64, channel_size_divide=2, finetune_head=False, n_heads=3):\n",
    "        super().__init__()\n",
    "        model_base = resnet18(channel_size_divide=channel_size_divide)\n",
    "        self.channel_size_divide = channel_size_divide\n",
    "        model_base.conv1 = nn.Conv2d(image_channels, model_base.init_inplanes, kernel_size=7, stride=2, padding=3, bias=False)\n",
    "\n",
    "        self.model_base = model_base\n",
    "        self.finetune_head = finetune_head\n",
    "\n",
    "        self.a = nn.ReLU()\n",
    "        if n_heads > 1:\n",
    "            # replace the head of the model with another layer.\n",
    "            self.fc1 = nn.Linear(model_base.fc.in_features//channel_size_divide + num_clin_features, latent_fc_features)\n",
    "            self.extra_heads = nn.ModuleList([nn.Linear(latent_fc_features, latent_fc_features) for i in range(n_heads - 2)] + [nn.Linear(latent_fc_features, out_classes)])\n",
    "\n",
    "        else:\n",
    "            # replace the head of the model with another layer.\n",
    "            self.fc1 = nn.Linear(model_base.fc.in_features//channel_size_divide + num_clin_features, out_classes)\n",
    "            self.extra_heads = None\n",
    "\n",
    "        if self.extra_heads:\n",
    "            print(self.extra_heads)\n",
    "\n",
    "    def forward(self, inp):\n",
    "\n",
    "\n",
    "        x = inp[0]\n",
    "        clin_data = inp[1]\n",
    "\n",
    "        # x = None\n",
    "\n",
    "        if x != None:\n",
    "            if not self.finetune_head:\n",
    "                features = self.model_base(x)\n",
    "            else:\n",
    "                with torch.no_grad():\n",
    "                    features = self.model_base(x)\n",
    "        else:\n",
    "            features = torch.zeros(inp[0].shape[0], 512//self.channel_size_divide).cuda()\n",
    "        dense_input = torch.cat([features, clin_data], dim=1)\n",
    "\n",
    "        out = self.fc1(dense_input)\n",
    "\n",
    "        if self.extra_heads:\n",
    "            for h in self.extra_heads:\n",
    "                out = h(self.a(out))\n",
    "\n",
    "        return out"
   ]
  },
  {
   "cell_type": "code",
   "execution_count": null,
   "id": "cdf5f346-1ab9-4bf3-8113-2397a3f8de34",
   "metadata": {},
   "outputs": [],
   "source": [
    "class xent_wrapper(nn.Module):\n",
    "    def __init__(self, reweighted, weight=None):\n",
    "        super().__init__()\n",
    "        if reweighted:\n",
    "            self.base_loss = torch.nn.CrossEntropyLoss(weight = weight)\n",
    "        else:\n",
    "            self.base_loss = torch.nn.CrossEntropyLoss()\n",
    "    def forward(self, y_hat, y):\n",
    "        return self.base_loss(y_hat, y.type(torch.long))"
   ]
  },
  {
   "cell_type": "code",
   "execution_count": null,
   "id": "ee813455-4c27-488b-b555-1e53bd09296f",
   "metadata": {},
   "outputs": [],
   "source": [
    "def run_eval_2(mdl, dataloader, runs=1):\n",
    "    # reimplementing this, because my old code was behaving strangely....\n",
    "    \n",
    "    y_hats = []\n",
    "    ys = []\n",
    "    \n",
    "    for _ in range(runs):\n",
    "        for (x, clin_data), y in dataloader:\n",
    "            with torch.no_grad():\n",
    "                mdl.eval()\n",
    "                out = mdl.cuda()((x.cuda(), clin_data.cuda())).cpu()\n",
    "                y_hat = out.argmax(dim=1)\n",
    "                y_hats.append(y_hat)\n",
    "                ys.append(y)\n",
    "    \n",
    "    y_hats = torch.cat(y_hats)\n",
    "    ys = torch.cat(ys)\n",
    "    \n",
    "    print(ys.shape, y_hats.shape)\n",
    "    \n",
    "    mean_acc = (y_hats == ys).sum() / ys.shape[0]\n",
    "    \n",
    "    return mean_acc\n",
    "            \n",
    "    \n",
    "    "
   ]
  },
  {
   "cell_type": "code",
   "execution_count": null,
   "id": "695c6317-74ec-4e78-b55d-f98b38407561",
   "metadata": {},
   "outputs": [],
   "source": [
    "# okay, the variance is very very high...."
   ]
  },
  {
   "cell_type": "code",
   "execution_count": null,
   "id": "27944190-427c-4680-b328-b41947f1b94e",
   "metadata": {},
   "outputs": [],
   "source": [
    "target_field = 'DWMH'"
   ]
  },
  {
   "cell_type": "code",
   "execution_count": null,
   "id": "f54d48a5-9826-4f3e-8f0f-b8d072e525a0",
   "metadata": {},
   "outputs": [],
   "source": [
    "split=0\n",
    "train_ds_clin, val_ds_clin, test_ds_clin = clin_retriever.load_clinscores_data(\n",
    "    combine_all=False,\n",
    "    test_proportion=0.15, \n",
    "    validation_proportion=0.15,\n",
    "    seed=5,\n",
    "    cross_validate=True,\n",
    "    cv_split=split,\n",
    "    cv_test_fold_smooth=1,\n",
    "\n",
    ")\n",
    "new_test_ds = build_clinscores_prediction_dataset(test_ds_clin, clin_fields=clin_fields, target_field=target_field,  apply_augmentation=False)\n",
    "new_val_ds = build_clinscores_prediction_dataset(val_ds_clin, clin_fields=clin_fields, target_field=target_field, apply_augmentation=False)\n",
    "new_train_ds = build_clinscores_prediction_dataset(train_ds_clin, clin_fields=clin_fields, target_field=target_field, apply_augmentation=False)\n",
    "combined_ds = ConcatDataset([new_test_ds, new_val_ds, new_train_ds])"
   ]
  },
  {
   "cell_type": "code",
   "execution_count": null,
   "id": "20d05336-93bc-4ed9-90d1-4c2ae9a5762b",
   "metadata": {},
   "outputs": [],
   "source": [
    "len(new_train_ds), len(new_test_ds), len(new_val_ds)"
   ]
  },
  {
   "cell_type": "code",
   "execution_count": null,
   "id": "b2472c83-0fe9-4b08-9a19-c08e67d174b0",
   "metadata": {},
   "outputs": [],
   "source": []
  },
  {
   "cell_type": "code",
   "execution_count": null,
   "id": "95de75bf-1443-44b1-a4a1-ed9972ea4200",
   "metadata": {},
   "outputs": [],
   "source": [
    "class FilteredDataset(torch.utils.data.Dataset):\n",
    "    def __init__(self, base_dataset, filter_indexes):\n",
    "        self.base_dataset = base_dataset\n",
    "        self.filter_indexes = filter_indexes\n",
    "    def __getitem__(self, idx):\n",
    "        return self.base_dataset[self.filter_indexes[idx]]\n",
    "    def __len__(self):\n",
    "        return len(self.filter_indexes)\n",
    "    \n",
    "class ConsumedDataset(torch.utils.data.Dataset):\n",
    "    def __init__(self, base_dataset):\n",
    "        self.consumed_values = [data for data in tqdm(base_dataset, position=0, leave=True)]\n",
    "    def __getitem__(self, idx):\n",
    "        return self.consumed_values[idx]\n",
    "    def __len__(self):\n",
    "        return len(self.consumed_values)"
   ]
  },
  {
   "cell_type": "code",
   "execution_count": null,
   "id": "5213885c-3d3f-45b8-9d1d-8f4636d79b73",
   "metadata": {},
   "outputs": [],
   "source": [
    "def cross_val(ds, num_splits, split_id):\n",
    "    indexes = torch.randperm(len(ds), generator=torch.Generator().manual_seed(42))\n",
    "    l = len(ds)\n",
    "    chunk_size = l // num_splits\n",
    "\n",
    "    splits = torch.arange(0, num_splits * chunk_size, 1).view((num_splits, chunk_size)).tolist()\n",
    "\n",
    "    remaining = l - num_splits * chunk_size\n",
    "    if remaining > 0:\n",
    "        splits[-1].extend([-(i+1) for i in range(remaining)])\n",
    "\n",
    "\n",
    "    val_split = split_id\n",
    "    test_split = (val_split + 1) % num_splits\n",
    "\n",
    "    train_splits = [i for i in range(num_splits) if i != val_split and i != test_split]\n",
    "    train_split_values = []\n",
    "    for split in train_splits:\n",
    "        train_split_values.extend(splits[split])\n",
    "\n",
    "    val_indexes = indexes[splits[val_split]]\n",
    "    test_indexes = indexes[splits[test_split]]\n",
    "    train_indexes = indexes[train_split_values]\n",
    "    \n",
    "    print(len(val_indexes), len(test_indexes), len(train_indexes))\n",
    "    \n",
    "    return FilteredDataset(ds, train_indexes), FilteredDataset(ds, val_indexes), FilteredDataset(ds, test_indexes)"
   ]
  },
  {
   "cell_type": "code",
   "execution_count": null,
   "id": "d0d985a3-3f68-4157-bd50-5b783fe2a750",
   "metadata": {},
   "outputs": [],
   "source": [
    "dss = cross_val(combined_ds_2d, 6, 5)"
   ]
  },
  {
   "cell_type": "code",
   "execution_count": null,
   "id": "a2e58403-87ee-476e-921a-dd8193cf8672",
   "metadata": {},
   "outputs": [],
   "source": [
    "len(dss[0])"
   ]
  },
  {
   "cell_type": "code",
   "execution_count": null,
   "id": "f52163a6-8b90-4a00-a1c4-4d11b32e9d14",
   "metadata": {},
   "outputs": [],
   "source": [
    "labels = [l[-1] for l in combined_ds]"
   ]
  },
  {
   "cell_type": "code",
   "execution_count": null,
   "id": "27cee779-aa39-4a2d-b16c-490198758e46",
   "metadata": {},
   "outputs": [],
   "source": [
    "(torch.Tensor(labels) == 3).sum()"
   ]
  },
  {
   "cell_type": "code",
   "execution_count": null,
   "id": "6cfd9966-c8d2-4e68-8cb7-4d7d4c5c4224",
   "metadata": {},
   "outputs": [],
   "source": [
    "from trustworthai.utils.fitting_and_inference.get_scratch_dir import scratch_dir\n",
    "from pytorch_lightning.callbacks.early_stopping import EarlyStopping\n",
    "from pytorch_lightning.callbacks.model_checkpoint import ModelCheckpoint\n",
    "import os\n",
    "import pytorch_lightning as pl\n",
    "\n",
    "accelerator=\"gpu\"\n",
    "devices=1\n",
    "precision = 32"
   ]
  },
  {
   "cell_type": "code",
   "execution_count": null,
   "id": "67dd0c67-dccb-4a9d-91f2-f3f803c1df95",
   "metadata": {},
   "outputs": [],
   "source": []
  },
  {
   "cell_type": "code",
   "execution_count": null,
   "id": "774ca78b-27ea-4cb9-88a0-caabf80ff60c",
   "metadata": {},
   "outputs": [],
   "source": [
    "genner = torch.Generator().manual_seed(torch.randint(size=(1,), low=0, high=1000).item())\n",
    "for target_field in [\"DWMH\", \"PVWMH\"]:\n",
    "    new_test_ds = build_clinscores_prediction_dataset(test_ds_clin, clin_fields=clin_fields, target_field=target_field,  apply_augmentation=False)\n",
    "    new_val_ds = build_clinscores_prediction_dataset(val_ds_clin, clin_fields=clin_fields, target_field=target_field, apply_augmentation=False)\n",
    "    new_train_ds = build_clinscores_prediction_dataset(train_ds_clin, clin_fields=clin_fields, target_field=target_field, apply_augmentation=False)\n",
    "    combined_ds = ConcatDataset([new_test_ds, new_val_ds, new_train_ds])\n",
    "    for channel_id in [\"both\", \"ent\", \"pred\", \"seg\", \"flair\"]:\n",
    "        if channel_id == \"both\":\n",
    "            channels = [\"ent\", \"pred\"]\n",
    "        else:\n",
    "            channels = [channel_id]\n",
    "        combined_ds_2d = GetLabelsDs(FormatDataset_CVD_Data(combined_ds, channels=channels))\n",
    "        # val_ds_2d = GetLabelsDs(FormatDataset_CVD_Data(new_val_ds, channels=channels))\n",
    "        # test_ds_2d = GetLabelsDs(FormatDataset_CVD_Data(new_test_ds, channels=channels))\n",
    "        combined_ds_2d = ConsumedDataset(combined_ds_2d)\n",
    "        for sid, seed in enumerate([128, 255, 693, 19, 385]):\n",
    "            for n_heads in [1,2,3]:\n",
    "                filename = f\"/home/s2208943/ipdis/UQ_WMH_methods/trustworthai/run/ADNI_300_analysis/new_fazekas_prediction_code/results/CVD/CVD_target_field{target_field}_channel_id{channel_id}_sid{sid}_latentls{n_heads}_reweightedtrue\"\n",
    "                if os.path.exists(filename):\n",
    "                    continue\n",
    "                with open(filename, \"w\") as f: # just so other processes know we have started this one...\n",
    "                    f.write(\"\\n\")\n",
    "                combined_preds_val = []\n",
    "                combined_labels_val = []\n",
    "                combined_preds_test = []\n",
    "                combined_labels_test = []\n",
    "                for split in range(6):\n",
    "                    reweighted = True\n",
    "                    xent_class_weights = None\n",
    "                    if reweighted:\n",
    "                        labels = []\n",
    "                        for data in combined_ds_2d:\n",
    "                            labels.append(data[-1])\n",
    "                        labels = torch.Tensor(labels)\n",
    "                        class_counts = [(labels==i).sum().item() for i in range(4)]\n",
    "                        print(class_counts)\n",
    "                        xent_class_weights = 1.0 / torch.tensor(class_counts, dtype=torch.float)\n",
    "\n",
    "                    train_ds_2d, val_ds_2d, test_ds_2d = cross_val(combined_ds_2d, num_splits=6, split_id=split)\n",
    "                    # train_ds_2d = ConsumedDataset(train_ds_2d)\n",
    "                    # val_ds_2d = ConsumedDataset(val_ds_2d)\n",
    "                    # test_ds_2d = ConsumedDataset(test_ds_2d)\n",
    "\n",
    "                    print(len(train_ds_2d), len(val_ds_2d), len(test_ds_2d))\n",
    "\n",
    "                    batch_size = 12\n",
    "                    train_dataloader = DataLoader(train_ds_2d, batch_size=batch_size, shuffle=True, num_workers=4, pin_memory=True, persistent_workers=True)\n",
    "                    val_dataloader = DataLoader(val_ds_2d, batch_size=batch_size, shuffle=False, num_workers=4, pin_memory=True, persistent_workers=True)\n",
    "                    test_dataloader = DataLoader(test_ds_2d, batch_size=batch_size, shuffle=False, num_workers=4, pin_memory=True, persistent_workers=True)\n",
    "                    # train_dataloader = DataLoader(train_ds_2d, batch_size=batch_size, sampler=ImbalancedDatasetSampler(train_ds_2d), num_workers=4)\n",
    "                    # val_dataloader = DataLoader(val_ds_2d, batch_size=batch_size, sampler=ImbalancedDatasetSampler(val_ds_2d), num_workers=4)\n",
    "                    # val_dataloader = DataLoader(ResampledDataset(val_ds_2d), batch_size=batch_size, shuffle=False, num_workers=4)\n",
    "                    # test_dataloader = DataLoader(ResampledDataset(test_ds_2d), batch_size=batch_size, shuffle=False, num_workers=4)\n",
    "                    # test_dataloader = DataLoader(test_ds_2d, batch_size=batch_size, sampler=ImbalancedDatasetSampler(test_ds_2d), num_workers=4)\n",
    "\n",
    "\n",
    "                    # now train is resampled\n",
    "                    # val just repeats smaller classes to make each class the same size to promote equality between classes\n",
    "                    # test is unchanged, we just look at the confusion matrix. Nice.\n",
    "\n",
    "\n",
    "                    image_channels = train_ds_2d[0][0][0].shape[0]\n",
    "                    clin_features = len(clin_fields)\n",
    "                    torch.manual_seed(seed)\n",
    "                    model_raw = PredictionModelNHeadLayer(image_channels=image_channels, num_clin_features=clin_features, out_classes=4, channel_size_divide=8, n_heads=n_heads)#.cuda()\n",
    "                    loss = xent_wrapper(reweighted, xent_class_weights)\n",
    "\n",
    "                    ### training the model\n",
    "                    # setup optimizer and model wrapper\n",
    "\n",
    "                    weight_decay = 0.01#0.05\n",
    "                    max_epochs = 100\n",
    "                    lr=2e-4\n",
    "                    early_stop_patience = 7\n",
    "\n",
    "                    optimizer_params={\"lr\":lr, \"weight_decay\":weight_decay}\n",
    "                    optimizer = torch.optim.Adam\n",
    "                    lr_scheduler_params={\"milestones\":[1000], \"gamma\":0.5}\n",
    "                    lr_scheduler_constructor = torch.optim.lr_scheduler.MultiStepLR\n",
    "\n",
    "                    # wrap the model in the pytorch_lightning module that automates training\n",
    "                    model = StandardLitModelWrapper(model_raw, loss, \n",
    "                                                    logging_metric=lambda : None,\n",
    "                                                    optimizer_params=optimizer_params,\n",
    "                                                    lr_scheduler_params=lr_scheduler_params,\n",
    "                                                    optimizer_constructor=optimizer,\n",
    "                                                    lr_scheduler_constructor=lr_scheduler_constructor\n",
    "                                                   )\n",
    "\n",
    "                    #checkpoint_callback = ModelCheckpoint(results_dir, save_top_k=2, monitor=\"val_loss\")\n",
    "                    torch.randint(size=(1,), low=0,high=1000).item()\n",
    "                    early_stop_patience = 7\n",
    "                    trainer = get_trainer(max_epochs, f\"./run{torch.randint(size=(1,), low=0,high=1000, generator=genner).item()}/\", early_stop_patience=early_stop_patience)\n",
    "\n",
    "                    trainer.fit(model, train_dataloader, val_dataloader)\n",
    "\n",
    "                    trainer.validate(model, val_dataloader, ckpt_path='best')\n",
    "                    \n",
    "                    preds_val = []\n",
    "                    ys_val = []\n",
    "\n",
    "                    for data in val_dataloader:\n",
    "                        with torch.no_grad():\n",
    "                            (x, clin_data), y = data\n",
    "                            out = model.cuda()((x.cuda(), clin_data.cuda())).cpu()\n",
    "                            pred = torch.nn.functional.softmax(out, dim=1)\n",
    "                            preds_val.extend(pred.argmax(dim=1).cpu().numpy())\n",
    "                            ys_val.extend(y.cpu().numpy())\n",
    "\n",
    "\n",
    "                    preds_test = []\n",
    "                    ys_test = []\n",
    "\n",
    "                    for data in test_dataloader:\n",
    "                        with torch.no_grad():\n",
    "                            (x, clin_data), y = data\n",
    "                            out = model.cuda()((x.cuda(), clin_data.cuda())).cpu()\n",
    "                            pred = torch.nn.functional.softmax(out, dim=1)\n",
    "                            preds_test.extend(pred.argmax(dim=1).cpu().numpy())\n",
    "                            ys_test.extend(y.cpu().numpy())\n",
    "\n",
    "                    combined_preds_val.extend(preds_val)\n",
    "                    combined_preds_test.extend(preds_test)\n",
    "                    combined_labels_val.extend(ys_val)\n",
    "                    combined_labels_test.extend(ys_test)\n",
    "                \n",
    "                with open(filename, \"w\") as f:\n",
    "                    f.write(f\"preds_val: {combined_preds_val}\\n\")\n",
    "                    f.write(f\"labels_val: {combined_labels_val}\\n\")\n",
    "                    f.write(f\"preds_test: {combined_preds_test}\\n\")\n",
    "                    f.write(f\"labels_test: {combined_labels_test}\\n\")\n",
    "                    "
   ]
  },
  {
   "cell_type": "code",
   "execution_count": 132,
   "id": "422f9e62-231d-4983-bb73-8f63225b31ed",
   "metadata": {},
   "outputs": [],
   "source": [
    "# assess whether validation performance is consistent now...."
   ]
  },
  {
   "cell_type": "code",
   "execution_count": 133,
   "id": "6bc11c73-41ef-4180-a28e-7cbfd0667dad",
   "metadata": {},
   "outputs": [
    {
     "name": "stderr",
     "output_type": "stream",
     "text": [
      "LOCAL_RANK: 0 - CUDA_VISIBLE_DEVICES: [0]\n"
     ]
    },
    {
     "data": {
      "application/vnd.jupyter.widget-view+json": {
       "model_id": "5f01c3038a25426ab5a50a3373225c5a",
       "version_major": 2,
       "version_minor": 0
      },
      "text/plain": [
       "Validation: 0it [00:00, ?it/s]"
      ]
     },
     "metadata": {},
     "output_type": "display_data"
    },
    {
     "name": "stdout",
     "output_type": "stream",
     "text": [
      "────────────────────────────────────────────────────────────────────────────────────────────────────────────────────────\n",
      "     Validate metric           DataLoader 0\n",
      "────────────────────────────────────────────────────────────────────────────────────────────────────────────────────────\n",
      "        val_loss            0.8182281255722046\n",
      "────────────────────────────────────────────────────────────────────────────────────────────────────────────────────────\n"
     ]
    },
    {
     "data": {
      "text/plain": [
       "[{'val_loss': 0.8182281255722046}]"
      ]
     },
     "execution_count": 133,
     "metadata": {},
     "output_type": "execute_result"
    }
   ],
   "source": [
    "trainer.validate(model, val_dataloader)"
   ]
  },
  {
   "cell_type": "code",
   "execution_count": 134,
   "id": "de8b1918-3872-4f2f-8de2-b3c30c4c0d3c",
   "metadata": {},
   "outputs": [],
   "source": [
    "import torch\n",
    "import numpy as np\n",
    "import matplotlib.pyplot as plt\n",
    "import matplotlib.patheffects as PathEffects\n",
    "from sklearn.metrics import confusion_matrix\n",
    "from tqdm import tqdm\n",
    "\n",
    "def plot_confusion_matrix(dataloader, model):\n",
    "    model.eval()\n",
    "    all_preds = []\n",
    "    all_labels = []\n",
    "    \n",
    "    with torch.no_grad():\n",
    "        for (x, clin_data), labels in tqdm(dataloader, position=0, leave=True):\n",
    "            outputs = model.cuda()((x.cuda(), clin_data.cuda()))\n",
    "            probs = torch.softmax(outputs, dim=1)\n",
    "            preds = torch.argmax(probs, dim=1)\n",
    "            all_preds.extend(preds.cpu().numpy())\n",
    "            all_labels.extend(labels.cpu().numpy())\n",
    "    \n",
    "    cm = confusion_matrix(all_labels, all_preds, normalize='true')\n",
    "    num_classes = cm.shape[0]\n",
    "    class_names = [str(i) for i in range(num_classes)]\n",
    "    \n",
    "    fig, ax = plt.subplots()\n",
    "    im = ax.imshow(cm, cmap=plt.cm.Blues)\n",
    "    ax.set_xticks(np.arange(num_classes))\n",
    "    ax.set_yticks(np.arange(num_classes))\n",
    "    ax.set_xticklabels(class_names)\n",
    "    ax.set_yticklabels(class_names)\n",
    "    plt.setp(ax.get_xticklabels(), rotation=45, ha=\"right\",\n",
    "             rotation_mode=\"anchor\")\n",
    "    \n",
    "    \n",
    "    for i in range(num_classes):\n",
    "        for j in range(num_classes):\n",
    "            text = ax.text(j, i, np.round(cm[i, j], 3),\n",
    "                           ha=\"center\", va=\"center\", color=\"black\")\n",
    "            text.set_path_effects([PathEffects.withStroke(linewidth=2, foreground='w')])\n",
    "\n",
    "    \n",
    "    ax.set_title(\"Confusion Matrix\")\n",
    "    fig.tight_layout()\n",
    "    plt.show()\n",
    "\n",
    "    #return all_preds, all_labels"
   ]
  },
  {
   "cell_type": "code",
   "execution_count": 135,
   "id": "ab1f3a15-a1a5-4dab-8bac-068180678dbd",
   "metadata": {},
   "outputs": [
    {
     "name": "stderr",
     "output_type": "stream",
     "text": [
      "100%|█████████████████████████████████████████████████████████████████████████████████████████████████████████████████████████████████████████████████████████| 13/13 [00:12<00:00,  1.06it/s]\n"
     ]
    },
    {
     "data": {
      "image/png": "[encoded data removed]",
      "text/plain": [
       "<Figure size 640x480 with 1 Axes>"
      ]
     },
     "metadata": {},
     "output_type": "display_data"
    }
   ],
   "source": [
    "plot_confusion_matrix(val_dataloader, model)"
   ]
  },
  {
   "cell_type": "code",
   "execution_count": 115,
   "id": "9391605b-525e-4029-a65a-31d447888399",
   "metadata": {},
   "outputs": [
    {
     "name": "stderr",
     "output_type": "stream",
     "text": [
      "100%|█████████████████████████████████████████████████████████████████████████████████████████████████████████████████████████████████████████████████████████| 13/13 [00:13<00:00,  1.02s/it]\n"
     ]
    },
    {
     "data": {
      "image/png": "[encoded data removed]",
      "text/plain": [
       "<Figure size 640x480 with 1 Axes>"
      ]
     },
     "metadata": {},
     "output_type": "display_data"
    }
   ],
   "source": [
    "plot_confusion_matrix(val_dataloader, model)"
   ]
  },
  {
   "cell_type": "code",
   "execution_count": 113,
   "id": "faac9714-0087-4739-a63d-e319d3153d1a",
   "metadata": {},
   "outputs": [
    {
     "name": "stderr",
     "output_type": "stream",
     "text": [
      "100%|█████████████████████████████████████████████████████████████████████████████████████████████████████████████████████████████████████████████████████████| 13/13 [00:13<00:00,  1.00s/it]\n"
     ]
    },
    {
     "data": {
      "image/png": "[encoded data removed]",
      "text/plain": [
       "<Figure size 640x480 with 1 Axes>"
      ]
     },
     "metadata": {},
     "output_type": "display_data"
    }
   ],
   "source": [
    "plot_confusion_matrix(val_dataloader, model)"
   ]
  },
  {
   "cell_type": "code",
   "execution_count": 310,
   "id": "2cb46ee1-d0c7-4cc9-94ea-b44dd9c5b51e",
   "metadata": {},
   "outputs": [
    {
     "name": "stdout",
     "output_type": "stream",
     "text": [
      "torch.Size([42]) torch.Size([42])\n"
     ]
    },
    {
     "data": {
      "text/plain": [
       "tensor(0.5238)"
      ]
     },
     "execution_count": 310,
     "metadata": {},
     "output_type": "execute_result"
    }
   ],
   "source": [
    "# and another run again\n",
    "# so: the evaluation on the test data is consistent when we don't do this resampling on the test dataloader.\n",
    "run_eval_2(model, test_dataloader, runs=1)\n",
    "\n",
    "# running the test again to see whether we get the same result."
   ]
  },
  {
   "cell_type": "code",
   "execution_count": 185,
   "id": "1556118c-3649-421d-ad82-6453b5e93098",
   "metadata": {},
   "outputs": [
    {
     "name": "stdout",
     "output_type": "stream",
     "text": [
      "torch.Size([42]) torch.Size([42])\n"
     ]
    },
    {
     "data": {
      "text/plain": [
       "tensor(0.6429)"
      ]
     },
     "execution_count": 185,
     "metadata": {},
     "output_type": "execute_result"
    }
   ],
   "source": [
    "# and another run again\n",
    "run_eval_2(model, test_dataloader)"
   ]
  },
  {
   "cell_type": "code",
   "execution_count": 181,
   "id": "5bfc43be-3a2c-463c-bdf0-b5f04d5b1b82",
   "metadata": {},
   "outputs": [
    {
     "name": "stdout",
     "output_type": "stream",
     "text": [
      "torch.Size([42]) torch.Size([42])\n"
     ]
    },
    {
     "data": {
      "text/plain": [
       "tensor(0.6667)"
      ]
     },
     "execution_count": 181,
     "metadata": {},
     "output_type": "execute_result"
    }
   ],
   "source": [
    "# and another run again\n",
    "run_eval_2(model, test_dataloader)"
   ]
  },
  {
   "cell_type": "code",
   "execution_count": 178,
   "id": "695be509-3313-46d2-80c2-b92ce23fa9b5",
   "metadata": {},
   "outputs": [
    {
     "name": "stdout",
     "output_type": "stream",
     "text": [
      "torch.Size([42]) torch.Size([42])\n"
     ]
    },
    {
     "data": {
      "text/plain": [
       "tensor(0.7619)"
      ]
     },
     "execution_count": 178,
     "metadata": {},
     "output_type": "execute_result"
    }
   ],
   "source": [
    "# another run, for the ent map only.\n",
    "# now lets get it going for \n",
    "run_eval_2(model, test_dataloader)"
   ]
  },
  {
   "cell_type": "code",
   "execution_count": 324,
   "id": "07a81634-d505-4b24-a7fc-fa2dc73b24dc",
   "metadata": {},
   "outputs": [
    {
     "data": {
      "image/png": "[encoded data removed]",
      "text/plain": [
       "<Figure size 640x480 with 12 Axes>"
      ]
     },
     "metadata": {},
     "output_type": "display_data"
    }
   ],
   "source": [
    "batch = next(iter(test_dataloader))\n",
    "xs = batch[0][0]\n",
    "for i in range(12):\n",
    "    plt.subplot(2, 6, i+1)\n",
    "    plt.imshow(xs[i][10])\n",
    "    plt.axis('off')"
   ]
  },
  {
   "cell_type": "code",
   "execution_count": null,
   "id": "24ef2112-ac36-4d36-be09-f97745ce8a70",
   "metadata": {},
   "outputs": [],
   "source": [
    "# get a plot of the first element of the batch (ensure it is ent and not pred)\n",
    "# it is clearly overfitting here.\n",
    "# shall we try rebalancing and ema here?\n",
    "# what to do about the overfitting..."
   ]
  },
  {
   "cell_type": "code",
   "execution_count": 72,
   "id": "e1458c69-55dd-4988-b8ae-2e5573f860d5",
   "metadata": {},
   "outputs": [],
   "source": [
    "# check checkpoint changes, (this folder, target, split, run\n",
    "# switch to doing eval on train val and test.\n",
    "# plot a batch of the dataset, middle slice"
   ]
  },
  {
   "cell_type": "code",
   "execution_count": 309,
   "id": "0b23c781-ed0c-4cb1-90b5-b09c6a9ee809",
   "metadata": {},
   "outputs": [
    {
     "name": "stderr",
     "output_type": "stream",
     "text": [
      "100%|███████████████████████████████████████████████████████████| 4/4 [00:01<00:00,  2.87it/s]\n"
     ]
    },
    {
     "data": {
      "image/png": "[encoded data removed]",
      "text/plain": [
       "<Figure size 640x480 with 1 Axes>"
      ]
     },
     "metadata": {},
     "output_type": "display_data"
    }
   ],
   "source": [
    "# another run\n",
    "# it is converging to two very very different places, which I do NOT like so much\n",
    "plot_confusion_matrix(test_dataloader, model)"
   ]
  },
  {
   "cell_type": "code",
   "execution_count": 233,
   "id": "be1ef6e1-daf4-4b01-be45-bfd88e6ae0fc",
   "metadata": {},
   "outputs": [
    {
     "name": "stderr",
     "output_type": "stream",
     "text": [
      "100%|███████████████████████████████████████████████████████████████████████████████████████████████████████████████████████████████████████████████████████████| 4/4 [00:01<00:00,  3.12it/s]\n"
     ]
    },
    {
     "data": {
      "image/png": "[encoded data removed]",
      "text/plain": [
       "<Figure size 640x480 with 1 Axes>"
      ]
     },
     "metadata": {},
     "output_type": "display_data"
    }
   ],
   "source": [
    "plot_confusion_matrix(test_dataloader, model)"
   ]
  },
  {
   "cell_type": "code",
   "execution_count": 194,
   "id": "8913035a-8cf8-4d61-9f8f-7f2fb567e8e5",
   "metadata": {},
   "outputs": [
    {
     "name": "stderr",
     "output_type": "stream",
     "text": [
      "100%|███████████████████████████████████████████████████████████████████████████████████████████████████████████████████████████████████████████████████████████| 3/3 [00:02<00:00,  1.11it/s]\n"
     ]
    },
    {
     "data": {
      "image/png": "[encoded data removed]",
      "text/plain": [
       "<Figure size 640x480 with 1 Axes>"
      ]
     },
     "metadata": {},
     "output_type": "display_data"
    }
   ],
   "source": [
    "plot_confusion_matrix(val_dataloader, model)"
   ]
  },
  {
   "cell_type": "code",
   "execution_count": 195,
   "id": "24fb850f-4e68-4d1a-bd0a-816fb2d73ecd",
   "metadata": {},
   "outputs": [
    {
     "name": "stderr",
     "output_type": "stream",
     "text": [
      "100%|█████████████████████████████████████████████████████████████████████████████████████████████████████████████████████████████████████████████████████████| 15/15 [00:14<00:00,  1.06it/s]\n"
     ]
    },
    {
     "data": {
      "image/png": "[encoded data removed]",
      "text/plain": [
       "<Figure size 640x480 with 1 Axes>"
      ]
     },
     "metadata": {},
     "output_type": "display_data"
    }
   ],
   "source": [
    "plot_confusion_matrix(train_dataloader, model)"
   ]
  },
  {
   "cell_type": "code",
   "execution_count": 187,
   "id": "be579e74-986b-4cb5-b339-6e6931cdfd51",
   "metadata": {},
   "outputs": [],
   "source": []
  },
  {
   "cell_type": "code",
   "execution_count": null,
   "id": "cd1a3bab-d780-4dec-b87a-0ae13ddd3b15",
   "metadata": {},
   "outputs": [],
   "source": []
  },
  {
   "cell_type": "code",
   "execution_count": null,
   "id": "1230fa43-562d-4d93-92db-a4e49cb3c452",
   "metadata": {},
   "outputs": [],
   "source": []
  },
  {
   "cell_type": "code",
   "execution_count": null,
   "id": "842a1d7b-608d-4ae9-b00a-e6e60c7d71aa",
   "metadata": {},
   "outputs": [],
   "source": []
  },
  {
   "cell_type": "raw",
   "id": "7d752d56-1689-410d-9292-5e4aa6554bc4",
   "metadata": {},
   "source": [
    "1) - adding in the other clinical scores. Okay, in the logistic regression model I used: \n",
    "\n",
    "'age', 'sex', 'diabetes', 'hypertension', 'hyperlipidaemia', 'ICV', I also need to add smoking, its an important covariate I think. so I need to one-hot-encode smoking...\n",
    "So, my model with just the mean seg got better, but my model with the uncertianty map wasn't a great run. so things to go forward:\n",
    "\n",
    "- take out ICV? take out smoking? normalize age?"
   ]
  },
  {
   "cell_type": "raw",
   "id": "03d8ccad-51d8-4d6f-bb4e-a63f27f6cce1",
   "metadata": {},
   "source": [
    "6) + 2) significance testing. I will need to compute the values for each fold and do a significance test on my k fold cross validation. However, I could also compute the\n",
    "values of interest per batch, then I would have k * batches roughly of values to compare for my significance test. Nice. "
   ]
  },
  {
   "cell_type": "raw",
   "id": "a5a91b34-ece3-4ee0-b8a8-884a1f2c9da0",
   "metadata": {},
   "source": [
    "3) - taking the mode of the predicitons, do I actually get a performance difference then? Yes, its always higher (and the difference between using uncertainty and not\n",
    "is actually bigger, which is quite interesting....)"
   ]
  },
  {
   "cell_type": "raw",
   "id": "1199cdce-8ff6-4e76-945d-37e097e68d6b",
   "metadata": {},
   "source": [
    "10) - mode, trained on just clin scores\n",
    "done it - accuracy is suprisingly high for the 2 layer nn model than the logistic regression model. (but also it does just predict class 1 each time for the split I was looking at....)\n",
    "it was getting around 0.6 accuracy, so im guessing 0.6 of the inputs are class 1....\n",
    "to discuss this issue I can talk about the difference between uncertianty levels for deep fazekas 3 vs 1 and 0, and show clear separation, but when we introduce 2 it becomes much more blurry."
   ]
  },
  {
   "cell_type": "raw",
   "id": "d26a8260-3d72-412a-be13-36cae2cc3cf7",
   "metadata": {},
   "source": [
    "I need to look at the mode prediction, but for now lets look at the accuracy over 15 runs I think."
   ]
  },
  {
   "cell_type": "raw",
   "id": "c5644dea-8de2-4999-a2cc-fe0cc810173f",
   "metadata": {},
   "source": [
    "## issue about the quality of predictions\n",
    "\n",
    "its getting slightly less than the linear regression models were. But that is partly because these models have access to less data (I have a val and a test split here), and are more prone to overfitting\n",
    "due to the larger number of parameters etc. The results are pretty conclusive actually, and that will be a statistically significant result. Nice!!!\n",
    "\n",
    "I need to point out that these models actually perform better than the linear regression models despite the imperfect (and arguably a bit arbitrary?) slice choice mechanism.\n",
    "\n",
    "# because my splits are not even sizes, then I can calculate the evaluation results for each individual separately for each fold, and then \n",
    "# recalculate all my metrics on new splits of the data (I can just divide the data into 10 even splits for example and compute the p-values that way. Nice). Okay, this is good\n",
    "now, I should train 3 models and pick the best of the three models that I train for each fold for each task. nice, shouldn"
   ]
  },
  {
   "cell_type": "raw",
   "id": "f83964c5-eec4-49d8-83ce-d013dad4e6e6",
   "metadata": {},
   "source": [
    "## What I will want in my final analysis\n",
    "show top 2, mode and f1 score on the mode, with significance testing. So I am going to need to keep track of\n",
    "the mode predictions for each model, the actual y for each model, and do this per batch as well as per fold then I have more values to compare?\n",
    "I should also do this three times and take the results of the best model?\n",
    "and I should increase the number of samples I do to say 30 to reduce the variance?\n",
    "Maria likes to see ROI curve for each plot.\n",
    "ROI curve and confusion matrix.\n",
    "I can also put the in the plot of as we go above the ventricles, how much uncertainty mass do we see, and show clear separation of fazekas 0, 1, and 3."
   ]
  }
 ],
 "metadata": {
  "kernelspec": {
   "display_name": "Python 3 (ipykernel)",
   "language": "python",
   "name": "python3"
  },
  "language_info": {
   "codemirror_mode": {
    "name": "ipython",
    "version": 3
   },
   "file_extension": ".py",
   "mimetype": "text/x-python",
   "name": "python",
   "nbconvert_exporter": "python",
   "pygments_lexer": "ipython3",
   "version": "3.10.8"
  }
 },
 "nbformat": 4,
 "nbformat_minor": 5
}
