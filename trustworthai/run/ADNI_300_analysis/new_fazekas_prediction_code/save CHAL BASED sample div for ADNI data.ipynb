{
 "cells": [
  {
   "cell_type": "markdown",
   "id": "f64cd201-3332-41bd-bf9a-f9e72526f963",
   "metadata": {},
   "source": [
    "### Load Model Samples"
   ]
  },
  {
   "cell_type": "code",
   "execution_count": 1,
   "id": "6aa71d21-3a35-4705-9d97-2718edcd5701",
   "metadata": {},
   "outputs": [
    {
     "name": "stdout",
     "output_type": "stream",
     "text": [
      "strawberry\n",
      "banana\n"
     ]
    }
   ],
   "source": [
    "print(\"strawberry\")\n",
    "\n",
    "# loss function and metrics\n",
    "from trustworthai.utils.losses_and_metrics.dice_loss import DiceLossWithWeightedEmptySlices\n",
    "from trustworthai.utils.losses_and_metrics.dice_loss_metric import DiceLossMetric, SsnDiceMeanMetricWrapper\n",
    "\n",
    "# predefined training dataset\n",
    "from trustworthai.utils.data_preprep.dataset_pipelines import load_data\n",
    "from torch.utils.data import ConcatDataset\n",
    "\n",
    "# fitter\n",
    "from trustworthai.utils.fitting_and_inference.fitters.basic_lightning_fitter import StandardLitModelWrapper\n",
    "from trustworthai.utils.fitting_and_inference.fitters.p_unet_fitter import PUNetLitModelWrapper\n",
    "from trustworthai.utils.fitting_and_inference.get_trainer import get_trainer\n",
    "\n",
    "# model\n",
    "from trustworthai.run.model_load.load_ssn import load_ssn\n",
    "from trustworthai.run.model_load.load_punet import load_p_unet\n",
    "from trustworthai.run.model_load.load_deterministic import load_deterministic\n",
    "from trustworthai.models.stochastic_wrappers.ssn.LowRankMVCustom import LowRankMultivariateNormalCustom\n",
    "from trustworthai.models.stochastic_wrappers.ssn.ReshapedDistribution import ReshapedDistribution\n",
    "\n",
    "# optimizer and lr scheduler\n",
    "import torch\n",
    "\n",
    "# misc\n",
    "import argparse\n",
    "import os\n",
    "import shutil\n",
    "import shlex\n",
    "from collections import defaultdict\n",
    "from tqdm import tqdm\n",
    "import sys\n",
    "from natsort import natsorted\n",
    "\n",
    "print(\"banana\")"
   ]
  },
  {
   "cell_type": "code",
   "execution_count": 2,
   "id": "d3561b57-8ba3-4fbc-b5f1-374837faa575",
   "metadata": {},
   "outputs": [],
   "source": [
    "from twaidata.torchdatasets.MRI_3D_nolabels_inram_ds import MRI_3D_nolabels_inram_ds"
   ]
  },
  {
   "cell_type": "code",
   "execution_count": 3,
   "id": "c9082c77-acb0-4b8e-b8d6-b3b40a0eedfc",
   "metadata": {},
   "outputs": [
    {
     "name": "stderr",
     "output_type": "stream",
     "text": [
      "100%|███████████████████████████████████████████████████████████████████████████████████████████████████████████████████████████████████████████████████████| 290/290 [01:39<00:00,  2.91it/s]\n"
     ]
    }
   ],
   "source": [
    "ADNI_ds = MRI_3D_nolabels_inram_ds(\"/home/s2208943/ipdis/data/preprocessed_data/ADNI_300\")"
   ]
  },
  {
   "cell_type": "code",
   "execution_count": 4,
   "id": "8a1343b8-a9a8-40ac-a68b-f895588c9a6b",
   "metadata": {},
   "outputs": [],
   "source": [
    "models_folder = \"/home/s2208943/ipdis/results/cross_validated_models/\""
   ]
  },
  {
   "cell_type": "code",
   "execution_count": 5,
   "id": "4adbac25-a469-4bb1-9eb5-7095d1d03c3e",
   "metadata": {},
   "outputs": [],
   "source": [
    "def load_best_checkpoint(model, loss, model_ckpt_folder, punet=False):\n",
    "    # this is ultimately going to need to be passed a model wrapper when I implement P-Unet....\n",
    "    \n",
    "    # the path to the best checkpoint is stored as a single line in a txt file along with each model\n",
    "    with open(os.path.join(model_ckpt_folder, \"best_ckpt.txt\"), \"r\") as f:\n",
    "        ckpt_file = os.path.join(model_ckpt_folder, f.readlines()[0][:-1].split(\"/\")[-1])\n",
    "    \n",
    "    if punet:\n",
    "        return PUNetLitModelWrapper.load_from_checkpoint(ckpt_file, model=model, loss=loss, \n",
    "                                    logging_metric=lambda : None)\n",
    "    return StandardLitModelWrapper.load_from_checkpoint(ckpt_file, model=model, loss=loss, \n",
    "                                    logging_metric=lambda : None)"
   ]
  },
  {
   "cell_type": "code",
   "execution_count": 6,
   "id": "0baae5f6-42bf-4a39-aaf5-8cac2d7a9210",
   "metadata": {},
   "outputs": [],
   "source": [
    "def entropy_map_from_mean(mean, do_normalize=True):\n",
    "    \"samples is of shape samples, batch size, channels, image dims  [s, b, c *<dims>]\"\n",
    "    if mean.shape[1] == 1:\n",
    "        raise ValueError(\"not implemented for implicit background class\")\n",
    "    else:\n",
    "        assert mean.shape[1] == 2\n",
    "    \n",
    "    if do_normalize:\n",
    "        probs = torch.nn.functional.softmax(mean, dim=1)\n",
    "    else:\n",
    "        probs = mean\n",
    "    ent_map = torch.sum(-probs * torch.log(probs+1e-30), dim=1)\n",
    "\n",
    "    return ent_map"
   ]
  },
  {
   "cell_type": "code",
   "execution_count": 7,
   "id": "598f5d3b-2b60-4ce6-8918-f0d706b46631",
   "metadata": {},
   "outputs": [],
   "source": [
    "def generate_means_and_samples_SSN(ds, dataset_stride=2, temp=1, num_samples=10, independent=False):\n",
    "    \n",
    "    rank = 15\n",
    "    if independent:\n",
    "        rank = 1\n",
    "    \n",
    "    # load model\n",
    "    class TestArgs():\n",
    "        def __init__(self, ):\n",
    "            args_dict = {\n",
    "                \"dropout_p\":0,\n",
    "                \"ssn_pre_head_layers\":32,\n",
    "                \"ssn_rank\":rank,\n",
    "                \"ssn_epsilon\":1e-5,\n",
    "                \"dice_empty_slice_weight\":0.5,\n",
    "                \"ssn_mc_samples\":10,\n",
    "                \"dice_factor\":5,\n",
    "                \"xent_factor\":0.01,\n",
    "                \"ssn_sample_dice_coeff\":0.05\n",
    "            }\n",
    "\n",
    "            for key, value in args_dict.items():\n",
    "                setattr(self, key, value)\n",
    "\n",
    "    args = TestArgs()\n",
    "\n",
    "    model_raw, loss = load_ssn(args)\n",
    "    model_raw = model_raw.cuda()\n",
    "    \n",
    "    models_folder = \"/home/s2208943/ipdis/results/cross_validated_models/\"\n",
    "    #model_names = os.listdir(models_folder)\n",
    "\n",
    "    if independent:\n",
    "        raise ValueError(\"didn't train IND model for WMH CHAL data\")\n",
    "    else:\n",
    "        model_base_name = \"ssn_WMH_chal\"\n",
    "    ensemble_element = 1\n",
    "\n",
    "    means = []\n",
    "    samples = []\n",
    "\n",
    "    test_datasets = []\n",
    "\n",
    "    for split in range(1):\n",
    "        test_ds_clin = ds\n",
    "        test_datasets.append(test_ds_clin)\n",
    "        print(\"size: \", len(test_ds_clin))\n",
    "\n",
    "\n",
    "        if independent:\n",
    "            raise ValueError(\"didnt do IND model for WMH CHal\")\n",
    "        else:\n",
    "            model_name = model_base_name + f\"_ens{ensemble_element}/\"\n",
    "        model_path = models_folder + model_name\n",
    "\n",
    "        model = load_best_checkpoint(model_raw, loss, model_path)\n",
    "        model.eval()\n",
    "\n",
    "        dataskip = dataset_stride\n",
    "        for i, data in enumerate(tqdm(test_ds_clin, position=0, leave=True)):\n",
    "            if i % dataskip == 0:\n",
    "                x = data\n",
    "                with torch.no_grad():\n",
    "                    mean, sample = model.mean_and_sample(x.swapaxes(0,1).cuda(), num_samples=num_samples, temperature=temp)\n",
    "                    means.append(mean.cpu())\n",
    "                    samples.append(sample.cpu())\n",
    "\n",
    "    return means, samples, ConcatDataset(test_datasets)"
   ]
  },
  {
   "cell_type": "code",
   "execution_count": 8,
   "id": "fd1a7915-2419-4737-85bf-f8f4da925f6c",
   "metadata": {},
   "outputs": [],
   "source": [
    "def generate_means_and_samples_SSN_Ens_Efficient(ds, dataset_stride=2, temp=1, num_samples=10, use_updated_scores=False, ensemble_size=6):\n",
    "    # load model\n",
    "    class TestArgs():\n",
    "        def __init__(self, ):\n",
    "            args_dict = {\n",
    "                \"dropout_p\":0,\n",
    "                \"ssn_pre_head_layers\":32,\n",
    "                \"ssn_rank\":15,\n",
    "                \"ssn_epsilon\":1e-5,\n",
    "                \"dice_empty_slice_weight\":0.5,\n",
    "                \"ssn_mc_samples\":10,\n",
    "                \"dice_factor\":5,\n",
    "                \"xent_factor\":0.01,\n",
    "                \"ssn_sample_dice_coeff\":0.05\n",
    "            }\n",
    "\n",
    "            for key, value in args_dict.items():\n",
    "                setattr(self, key, value)\n",
    "\n",
    "    args = TestArgs()\n",
    "\n",
    "    model_raw, loss = load_ssn(args)\n",
    "    model_raw = model_raw.cuda()\n",
    "    \n",
    "    models_folder = \"/home/s2208943/ipdis/results/cross_validated_models/\"\n",
    "    #model_names = os.listdir(models_folder)\n",
    "\n",
    "    model_base_name = \"ssn_WMH_chal\"\n",
    "\n",
    "    means = []\n",
    "    samples = []\n",
    "\n",
    "    test_datasets = []\n",
    "\n",
    "    for split in range(1):\n",
    "        model_outs = defaultdict(lambda : {'means':[], 'samples':[]})\n",
    "        \n",
    "        test_ds_clin = ds\n",
    "        test_datasets.append(test_ds_clin)\n",
    "        print(\"size: \", len(test_ds_clin))\n",
    "\n",
    "\n",
    "        for ens in range(ensemble_size):\n",
    "            model_name = model_base_name + f\"_ens{ens}/\"\n",
    "            model_path = models_folder + model_name\n",
    "\n",
    "            # with open(model_path + \"best_ckpt.txt\") as f:\n",
    "            #     lines = f.readlines()\n",
    "            #     args_lines = [l[:-1].split(\": \") for l in lines[1:]]\n",
    "            #     args_lines = [f'--{l[0]} {l[1]}' for l in args_lines]\n",
    "            #     args_line = \" \".join(args_lines)\n",
    "            #     parser = construct_parser()\n",
    "            #     args = parser.parse_args(shlex.split(args_line))\n",
    "\n",
    "            # load the model\n",
    "            model = load_best_checkpoint(model_raw, loss, model_path)\n",
    "            model.eval()\n",
    "\n",
    "\n",
    "            dataskip = dataset_stride\n",
    "            # means = []\n",
    "            # samples = []\n",
    "            for i, data in enumerate(tqdm(test_ds_clin, position=0, leave=True)):\n",
    "                if i % dataskip == 0:\n",
    "                    x = data\n",
    "                    with torch.no_grad():\n",
    "                        mean, sample = model.mean_and_sample(x.swapaxes(0,1).cuda(), num_samples=num_samples, temperature=temp, symmetric=False)\n",
    "\n",
    "                        model_outs[i]['means'].append(mean.cpu())\n",
    "                        model_outs[i]['samples'].append(sample.cpu())\n",
    "\n",
    "        for idx in tqdm(model_outs.keys(), position=0, leave=True):\n",
    "            means.append(torch.stack(model_outs[idx]['means'], dim=0).mean(dim=0))\n",
    "            samples.append(torch.cat(model_outs[idx]['samples'], dim=0))\n",
    "\n",
    "    return means, samples, ConcatDataset(test_datasets)"
   ]
  },
  {
   "cell_type": "code",
   "execution_count": 9,
   "id": "bd45e6b9-9ad2-4c56-9282-9fee523fdacf",
   "metadata": {
    "tags": []
   },
   "outputs": [],
   "source": [
    "def generate_means_and_samples_SSN_Ens_Mean(ds, dataset_stride=2, temp=1, num_samples=10, ensemble_size=10, use_updated_scores=False):\n",
    "    components=ensemble_size\n",
    "    test_datasets = []\n",
    "\n",
    "    # load model\n",
    "    class TestArgs():\n",
    "        def __init__(self, ):\n",
    "            args_dict = {\n",
    "                \"dropout_p\":0,\n",
    "                \"ssn_pre_head_layers\":32,\n",
    "                \"ssn_rank\":15,\n",
    "                \"ssn_epsilon\":1e-5,\n",
    "                \"dice_empty_slice_weight\":0.5,\n",
    "                \"ssn_mc_samples\":10,\n",
    "                \"dice_factor\":5,\n",
    "                \"xent_factor\":0.01,\n",
    "                \"ssn_sample_dice_coeff\":0.05\n",
    "            }\n",
    "\n",
    "            for key, value in args_dict.items():\n",
    "                setattr(self, key, value)\n",
    "\n",
    "    args = TestArgs()\n",
    "\n",
    "    model_raw, loss = load_ssn(args)\n",
    "    model_raw = model_raw.cuda()\n",
    "    model_raw.return_cpu_dist = True\n",
    "\n",
    "    models_folder = \"/home/s2208943/ipdis/results/cross_validated_models/\"\n",
    "    #model_names = os.listdir(models_folder)\n",
    "\n",
    "    model_base_name = \"ssn_WMH_chal\"\n",
    "\n",
    "    means = []\n",
    "    samples = []\n",
    "\n",
    "    for split in range(1):\n",
    "        # load specific data split\n",
    "        test_ds_clin = ds\n",
    "        test_datasets.append(test_ds_clin)\n",
    "        # print(\"size: \", len(test_ds_clin))\n",
    "\n",
    "        dataskip = dataset_stride\n",
    "\n",
    "        for i, data in enumerate(tqdm(test_ds_clin, position=0, leave=True)):\n",
    "            if i % dataskip == 0:\n",
    "                x = data.swapaxes(0,1).cuda()\n",
    "                distribution_means = []\n",
    "                distribution_cov_diags = []\n",
    "                distribution_cov_factors = []\n",
    "                distribution_event_shapes = []\n",
    "\n",
    "                for ens in range(components):\n",
    "                    # print(ens)\n",
    "                    model_name = model_base_name + f\"_ens{ens}/\"\n",
    "                    model_path = models_folder + model_name\n",
    "                    model = load_best_checkpoint(model_raw, loss, model_path)\n",
    "                    model.eval()\n",
    "\n",
    "                    with torch.no_grad():\n",
    "                        mean, cov_diag, cov_factor, event_shape = model(x)\n",
    "                    distribution_means.append(mean.cpu())\n",
    "                    distribution_cov_diags.append(cov_diag.cpu())\n",
    "                    distribution_cov_factors.append(cov_factor.cpu())\n",
    "                    distribution_event_shapes.append(event_shape)\n",
    "\n",
    "                # print(distribution_means[0].shape)\n",
    "\n",
    "                distribution_means = torch.stack(distribution_means, dim=0).mean(dim=0)\n",
    "                distribution_cov_diags = torch.stack(distribution_cov_diags, dim=0).mean(dim=0)\n",
    "                distribution_cov_factors = torch.stack(distribution_cov_factors, dim=0).mean(dim=0)\n",
    "\n",
    "                # print(distribution_means.shape)\n",
    "\n",
    "                dist = LowRankMultivariateNormalCustom(distribution_means, distribution_cov_factors, distribution_cov_diags)\n",
    "                dist = ReshapedDistribution(dist, distribution_event_shapes[0])\n",
    "\n",
    "                means.append((dist.mean / temp).cpu())\n",
    "                samples.append((model_raw._samples_from_dist(dist, num_samples=num_samples)/temp).cpu())\n",
    "\n",
    "    return means, samples, ConcatDataset(test_datasets)"
   ]
  },
  {
   "cell_type": "code",
   "execution_count": 10,
   "id": "4731c404-dce9-46b9-a4c5-f93f90d6a230",
   "metadata": {},
   "outputs": [],
   "source": [
    "import matplotlib.pyplot as plt\n",
    "from trustworthai.utils.uncertainty_maps.entropy_map import entropy_map_from_samples\n",
    "from trustworthai.utils.plotting.saving_plots import save, imsave\n",
    "from trustworthai.utils.print_and_write_func import print_and_write\n",
    "import pandas as pd"
   ]
  },
  {
   "cell_type": "code",
   "execution_count": 11,
   "id": "d84d4b30-19af-4747-9d9b-8359b42f089f",
   "metadata": {},
   "outputs": [],
   "source": [
    "#samples[0].shape"
   ]
  },
  {
   "cell_type": "code",
   "execution_count": 12,
   "id": "10c1bccb-98b2-47d7-864a-9f17d3939e87",
   "metadata": {},
   "outputs": [],
   "source": [
    "from torch.utils.data import Dataset\n",
    "\n",
    "class LimitedSizeDataset(Dataset):\n",
    "    def __init__(self, base_dataset, start, end):\n",
    "        super().__init__()\n",
    "        self.base_dataset = base_dataset\n",
    "        self.start = start\n",
    "        self.end = end\n",
    "        \n",
    "    def __len__(self):\n",
    "        return self.end - self.start\n",
    "    \n",
    "    def __getitem__(self, idx):\n",
    "        if idx + self.start >= self.end:\n",
    "            raise IndexError\n",
    "        return self.base_dataset[idx + self.start]"
   ]
  },
  {
   "cell_type": "code",
   "execution_count": 13,
   "id": "784aef3c-2ec7-4069-b1a4-a42f5e38aa7f",
   "metadata": {},
   "outputs": [],
   "source": [
    "part = 14\n",
    "start = 0 + (20 * part)\n",
    "end = 20 + (20 * part)"
   ]
  },
  {
   "cell_type": "code",
   "execution_count": 14,
   "id": "3ebc0257-a56a-43e6-ab1f-30dc062226b7",
   "metadata": {},
   "outputs": [],
   "source": [
    "ds = LimitedSizeDataset(ADNI_ds, start=start, end=end)"
   ]
  },
  {
   "cell_type": "code",
   "execution_count": 15,
   "id": "00c5f016-4ab8-4300-959e-6617505f45a6",
   "metadata": {},
   "outputs": [],
   "source": [
    "IDs = ADNI_ds.getIDs()[start:end]"
   ]
  },
  {
   "cell_type": "code",
   "execution_count": 16,
   "id": "478e9730-934a-4945-a570-0976dec404c1",
   "metadata": {},
   "outputs": [
    {
     "data": {
      "text/plain": [
       "20"
      ]
     },
     "execution_count": 16,
     "metadata": {},
     "output_type": "execute_result"
    }
   ],
   "source": [
    "len(ds)"
   ]
  },
  {
   "cell_type": "code",
   "execution_count": 17,
   "id": "f1aa8527-7263-4c05-8505-215f7a7b468d",
   "metadata": {},
   "outputs": [],
   "source": [
    "stride = 1"
   ]
  },
  {
   "cell_type": "code",
   "execution_count": 18,
   "id": "0f879a8e-40da-46d2-a73d-58aad39c2d8b",
   "metadata": {},
   "outputs": [
    {
     "name": "stdout",
     "output_type": "stream",
     "text": [
      "size:  20\n"
     ]
    },
    {
     "name": "stderr",
     "output_type": "stream",
     "text": [
      " 50%|████████████████████████████████████████████████████████████████████████████▌                                                                            | 10/20 [00:06<00:06,  1.58it/s]\n",
      " 50%|████████████████████████████████████████████████████████████████████████████▌                                                                            | 10/20 [00:06<00:06,  1.61it/s]\n",
      " 50%|████████████████████████████████████████████████████████████████████████████▌                                                                            | 10/20 [00:06<00:06,  1.58it/s]\n",
      " 50%|████████████████████████████████████████████████████████████████████████████▌                                                                            | 10/20 [00:07<00:07,  1.42it/s]\n",
      " 50%|████████████████████████████████████████████████████████████████████████████▌                                                                            | 10/20 [00:07<00:07,  1.36it/s]\n",
      " 50%|████████████████████████████████████████████████████████████████████████████▌                                                                            | 10/20 [00:07<00:07,  1.36it/s]\n",
      "100%|█████████████████████████████████████████████████████████████████████████████████████████████████████████████████████████████████████████████████████████| 10/10 [00:02<00:00,  3.53it/s]\n"
     ]
    }
   ],
   "source": [
    "means, samples, test_datasets = generate_means_and_samples_SSN_Ens_Efficient(ds, dataset_stride=stride, temp=1, num_samples=10, ensemble_size=6)"
   ]
  },
  {
   "cell_type": "code",
   "execution_count": 19,
   "id": "fd26c099-11c4-46d1-94f7-c8a2eb68e8bc",
   "metadata": {},
   "outputs": [
    {
     "data": {
      "text/plain": [
       "(10, 10)"
      ]
     },
     "execution_count": 19,
     "metadata": {},
     "output_type": "execute_result"
    }
   ],
   "source": [
    "len(means), len(samples)"
   ]
  },
  {
   "cell_type": "code",
   "execution_count": 20,
   "id": "ff10b600-671d-4b56-8b7e-1266b4b64281",
   "metadata": {},
   "outputs": [],
   "source": [
    "# softmax entropy\n",
    "# ent_maps = [entropy_map_from_mean(means[scan_index], do_normalize=True) for scan_index in range(len(means))]\n",
    "\n",
    "# evidential\n",
    "# ent_maps = [entropy_map_from_mean(means[scan_index], do_normalize=False) for scan_index in range(len(means))]\n",
    "\n",
    "# other methods\n",
    "ent_maps = [entropy_map_from_samples(samples[scan_index]) for scan_index in range(len(means))]"
   ]
  },
  {
   "cell_type": "code",
   "execution_count": 21,
   "id": "1d9beb38-32a0-4728-b237-aaf842048e44",
   "metadata": {},
   "outputs": [
    {
     "data": {
      "text/plain": [
       "torch.Size([3, 58, 220, 220])"
      ]
     },
     "execution_count": 21,
     "metadata": {},
     "output_type": "execute_result"
    }
   ],
   "source": [
    "test_datasets[0].shape"
   ]
  },
  {
   "cell_type": "code",
   "execution_count": 22,
   "id": "f8e0afe9-aa93-4432-bd4c-f51c3db91279",
   "metadata": {},
   "outputs": [
    {
     "data": {
      "text/plain": [
       "(-0.5, 219.5, 219.5, -0.5)"
      ]
     },
     "execution_count": 22,
     "metadata": {},
     "output_type": "execute_result"
    },
    {
     "data": {
      "image/png": "[encoded data removed]",
      "text/plain": [
       "<Figure size 640x480 with 3 Axes>"
      ]
     },
     "metadata": {},
     "output_type": "display_data"
    }
   ],
   "source": [
    "scan_id = 0\n",
    "islice = 40\n",
    "plt.subplot(1,3,1)\n",
    "plt.imshow(ent_maps[scan_id][islice]); plt.axis('off')\n",
    "plt.subplot(1,3,2)\n",
    "plt.imshow(means[scan_id][islice].argmax(dim=0)); plt.axis('off')\n",
    "plt.subplot(1,3,3)\n",
    "plt.imshow(test_datasets[scan_id][0][islice]); plt.axis('off')"
   ]
  },
  {
   "cell_type": "code",
   "execution_count": 23,
   "id": "4ede7d8f-a60c-45d3-a198-48913f4984e2",
   "metadata": {},
   "outputs": [],
   "source": [
    "import scipy"
   ]
  },
  {
   "cell_type": "code",
   "execution_count": 24,
   "id": "d7e66973-fec3-42d3-b33d-436474633d19",
   "metadata": {},
   "outputs": [
    {
     "name": "stderr",
     "output_type": "stream",
     "text": [
      "100%|█████████████████████████████████████████████████████████████████████████████████████████████████████████████████████████████████████████████████████████| 10/10 [03:51<00:00, 23.10s/it]\n"
     ]
    }
   ],
   "source": [
    "### recording the sample diversity of volumes. (I can get range, IQR, coefficient of variation, skewness)\n",
    "results = []\n",
    "for i, s in tqdm(enumerate(samples), position=0, leave=True, total=len(samples)):\n",
    "    s_pred = s.cuda().argmax(dim=2)\n",
    "    slices = s.shape[1]\n",
    "    num_samples = s.shape[0]\n",
    "    s_pred = s.argmax(dim=2)\n",
    "    slice_vols = s_pred.sum(dim=(-2, -1))\n",
    "    sorted_slice_vols = torch.sort(slice_vols, dim=0)[1]\n",
    "    sorted_samples = torch.zeros(s_pred.shape)\n",
    "    for j in range(num_samples):\n",
    "        sorted_samples[j] = s_pred[sorted_slice_vols[j], torch.arange(0, slices, 1)]\n",
    "    sorted_sample_volumes = sorted_samples.sum(dim=(-3, -2, -1)).cpu()\n",
    "    \n",
    "    assert torch.equal(sorted_sample_volumes, torch.sort(sorted_sample_volumes)[0])\n",
    "    \n",
    "    mean_vol = means[i].cuda().argmax(dim=1).sum(dim=(-3, -2, -1)).item()\n",
    "    \n",
    "    ss_vds = ((sorted_sample_volumes - mean_vol).abs() / mean_vol) * 100\n",
    "    \n",
    "    results.append([\n",
    "        sorted_sample_volumes.std().item(),\n",
    "        scipy.stats.iqr(sorted_sample_volumes),\n",
    "        scipy.stats.skew(sorted_sample_volumes),\n",
    "        \n",
    "        ss_vds.std().item(),\n",
    "        scipy.stats.iqr(ss_vds),\n",
    "        scipy.stats.skew(ss_vds),\n",
    "        \n",
    "    ])\n",
    "    "
   ]
  },
  {
   "cell_type": "code",
   "execution_count": 25,
   "id": "cd2c0488-e414-47cc-8ade-a82a2ef6ddb0",
   "metadata": {},
   "outputs": [],
   "source": [
    "import pandas as pd\n",
    "df = {\n",
    "    \"ID\":IDs,\n",
    "    \"sample_div_std\":[r[0] for r in results],\n",
    "    \"sample_div_IQR\":[r[1] for r in results],\n",
    "    \"sample_div_skew\":[r[2] for r in results],\n",
    "    \"sample_div_vd_std\":[r[3] for r in results],\n",
    "    \"sample_div_vd_IQR\":[r[4] for r in results],\n",
    "    \"sample_div_vd_skew\":[r[5] for r in results],\n",
    "}\n",
    "\n",
    "df = pd.DataFrame(df)\n",
    "df.to_csv(f\"umap_data_spreadsheets/ADNI/CHAL_BASED_sample_div_data_SSN_Ens_part_{part + 1}.csv\")"
   ]
  },
  {
   "cell_type": "code",
   "execution_count": null,
   "id": "774e0091-2293-4628-9d81-b52cd914f625",
   "metadata": {},
   "outputs": [],
   "source": []
  },
  {
   "cell_type": "code",
   "execution_count": null,
   "id": "de555d6b-6731-4087-a085-a868ee5c07d3",
   "metadata": {},
   "outputs": [],
   "source": []
  },
  {
   "cell_type": "code",
   "execution_count": null,
   "id": "29dece66-899b-48b4-9369-05f4b919210b",
   "metadata": {},
   "outputs": [],
   "source": []
  },
  {
   "cell_type": "code",
   "execution_count": null,
   "id": "5cba9429-9e0d-4331-bbdc-532f6e245aeb",
   "metadata": {},
   "outputs": [],
   "source": []
  },
  {
   "cell_type": "code",
   "execution_count": null,
   "id": "29922800-5aeb-4b9b-bc65-97e21524e0f8",
   "metadata": {},
   "outputs": [],
   "source": []
  },
  {
   "cell_type": "code",
   "execution_count": null,
   "id": "6fcee02e-c9ac-473f-bf8e-85e5838f6fc6",
   "metadata": {},
   "outputs": [],
   "source": []
  },
  {
   "cell_type": "code",
   "execution_count": null,
   "id": "8c6c69c4-5d84-42ce-8b0c-5cd11e2d7243",
   "metadata": {},
   "outputs": [],
   "source": []
  },
  {
   "cell_type": "code",
   "execution_count": null,
   "id": "9383dff8-ec95-46e0-99cb-818b7135d542",
   "metadata": {},
   "outputs": [],
   "source": []
  },
  {
   "cell_type": "code",
   "execution_count": null,
   "id": "bb3ed97c-570a-4286-85c8-e354c8b1b536",
   "metadata": {},
   "outputs": [],
   "source": []
  },
  {
   "cell_type": "code",
   "execution_count": null,
   "id": "5d637b31-ad45-4561-9f26-f137a71f6c2b",
   "metadata": {},
   "outputs": [],
   "source": []
  },
  {
   "cell_type": "code",
   "execution_count": null,
   "id": "afb4e7d5-ee53-4b33-8d36-638794bda6c0",
   "metadata": {},
   "outputs": [],
   "source": []
  }
 ],
 "metadata": {
  "kernelspec": {
   "display_name": "Python 3 (ipykernel)",
   "language": "python",
   "name": "python3"
  },
  "language_info": {
   "codemirror_mode": {
    "name": "ipython",
    "version": 3
   },
   "file_extension": ".py",
   "mimetype": "text/x-python",
   "name": "python",
   "nbconvert_exporter": "python",
   "pygments_lexer": "ipython3",
   "version": "3.10.8"
  }
 },
 "nbformat": 4,
 "nbformat_minor": 5
}
