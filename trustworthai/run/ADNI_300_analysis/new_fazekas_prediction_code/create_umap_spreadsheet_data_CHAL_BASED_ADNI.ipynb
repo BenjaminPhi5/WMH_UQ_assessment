{
 "cells": [
  {
   "cell_type": "markdown",
   "id": "229f024d-8140-4c3e-8dd8-3240a867fde3",
   "metadata": {},
   "source": [
    "# feature extraction for logistic ADNI models\n",
    "load the predictions for the validation model for each.\n",
    "\n",
    "and compute the confusion matrix, the precision and f1 score (multiclass)\n",
    "and roc curve maybe? what curves do we use for multiclass.\n"
   ]
  },
  {
   "cell_type": "code",
   "execution_count": 1,
   "id": "732f1512-609f-4f02-93e2-fc7da2a34a7b",
   "metadata": {},
   "outputs": [
    {
     "name": "stdout",
     "output_type": "stream",
     "text": [
      "strawberry\n",
      "banana\n"
     ]
    }
   ],
   "source": [
    "# trainer\n",
    "print(\"strawberry\")\n",
    "from trustworthai.utils.fitting_and_inference.fitters.basic_lightning_fitter import StandardLitModelWrapper\n",
    "from trustworthai.utils.fitting_and_inference.get_trainer import get_trainer\n",
    "\n",
    "# data\n",
    "from twaidata.torchdatasets.MRI_3D_nolabels_inram_ds import MRI_3D_nolabels_inram_ds\n",
    "\n",
    "# packages\n",
    "import os\n",
    "import numpy as np\n",
    "import pandas as pd\n",
    "import matplotlib.pyplot as plt\n",
    "import torch\n",
    "from torchinfo import summary\n",
    "from tqdm import tqdm\n",
    "from collections import defaultdict\n",
    "from natsort import natsorted\n",
    "import torchmetrics\n",
    "print(\"banana\")"
   ]
  },
  {
   "cell_type": "code",
   "execution_count": 2,
   "id": "52c197f2-3465-4660-9142-26346dfafa09",
   "metadata": {},
   "outputs": [],
   "source": [
    "import seaborn as sns\n",
    "import scipy"
   ]
  },
  {
   "cell_type": "markdown",
   "id": "f6f0b1ac-2587-41fe-94ac-e8f0d2a6657e",
   "metadata": {},
   "source": [
    "### Loading ADNI flair mask t1 dataset"
   ]
  },
  {
   "cell_type": "code",
   "execution_count": 3,
   "id": "c39c203e-a4f5-4921-9658-67adae8bc75b",
   "metadata": {},
   "outputs": [],
   "source": [
    "# ADNI_ds = MRI_3D_nolabels_inram_ds(\"/home/s2208943/ipdis/data/preprocessed_data/ADNI_300\")"
   ]
  },
  {
   "cell_type": "code",
   "execution_count": 4,
   "id": "1fc11900-d76a-4307-8387-88e2553073a6",
   "metadata": {},
   "outputs": [],
   "source": [
    "# IDs = ADNI_ds.getIDs()"
   ]
  },
  {
   "cell_type": "code",
   "execution_count": 5,
   "id": "7f86e3bb-9073-4965-8a81-3472553c364e",
   "metadata": {},
   "outputs": [],
   "source": [
    "# len(IDs)"
   ]
  },
  {
   "cell_type": "markdown",
   "id": "2ec7b53a-4ede-4b32-ba6a-80f23a7e392b",
   "metadata": {},
   "source": [
    "### Loading ADNI predictions"
   ]
  },
  {
   "cell_type": "code",
   "execution_count": 6,
   "id": "8cb4854c-4883-45ee-b6c2-2eac488bfa37",
   "metadata": {},
   "outputs": [],
   "source": [
    "# def get_output_maps_for_ds(output_maps_dir, ids):\n",
    "#     output_maps_lists = defaultdict(lambda : [])\n",
    "#     key_order = None\n",
    "#     for ID in tqdm(ids, position=0, leave=True):\n",
    "#         output_maps_data = np.load(f\"{output_maps_dir}{ID}_out_maps.npz\")\n",
    "#         key_order = natsorted(list(output_maps_data.keys()))\n",
    "#         for output_type in key_order:\n",
    "#             output_maps_lists[ID].append(torch.from_numpy(output_maps_data[output_type]))\n",
    "            \n",
    "#     return output_maps_lists, key_order\n",
    "def load_output_maps(output_maps_dir):\n",
    "    output_maps_lists = defaultdict(lambda: [])\n",
    "    for fID in tqdm(os.listdir(output_maps_dir), position=0, leave=True):\n",
    "        # print(fID)\n",
    "        # break\n",
    "        if \".npz\" in fID:\n",
    "            ID = fID.split(\".\")[0]\n",
    "            output_maps_data = np.load(output_maps_dir+fID)\n",
    "            key_order = natsorted(list(output_maps_data.keys()))\n",
    "            for key in key_order:\n",
    "                output_maps_lists[ID].append(torch.from_numpy(output_maps_data[key]))\n",
    "    return output_maps_lists, key_order"
   ]
  },
  {
   "cell_type": "code",
   "execution_count": 7,
   "id": "65539e27-5ae1-40cc-9a30-6a00f3c5fc87",
   "metadata": {},
   "outputs": [
    {
     "name": "stderr",
     "output_type": "stream",
     "text": [
      "100%|███████████████████████████████████████████████████████████████████████████████████████████████████████████████████████████████████████████████████████| 290/290 [02:21<00:00,  2.05it/s]\n"
     ]
    }
   ],
   "source": [
    "model_name = \"CHAL_based_SSN_Ensemble\"\n",
    "output_maps_dir = f\"/home/s2208943/ipdis/data/preprocessed_data/ADNI_300_output_maps/{model_name}/\"\n",
    "output_maps_for_umaps, key_order = load_output_maps(output_maps_dir)"
   ]
  },
  {
   "cell_type": "code",
   "execution_count": 9,
   "id": "95247376-f196-40d9-aad0-50a629fbbb78",
   "metadata": {},
   "outputs": [
    {
     "name": "stderr",
     "output_type": "stream",
     "text": [
      "100%|███████████████████████████████████████████████████████████████████████████████████████████████████████████████████████████████████████████████████████| 290/290 [02:20<00:00,  2.07it/s]\n"
     ]
    }
   ],
   "source": [
    "model_name_for_pred = \"CHAL_based_SSN_Ensemble_Mean\"\n",
    "output_maps_dir_for_pred = f\"/home/s2208943/ipdis/data/preprocessed_data/ADNI_300_output_maps/{model_name_for_pred}/\"\n",
    "output_maps_for_pred, key_order_for_pred = load_output_maps(output_maps_dir_for_pred)"
   ]
  },
  {
   "cell_type": "code",
   "execution_count": 10,
   "id": "3047b0a1-6dcd-4ba1-b997-6dd7831ae516",
   "metadata": {},
   "outputs": [
    {
     "data": {
      "text/plain": [
       "['ent', 'pred', 'seg', 'var']"
      ]
     },
     "execution_count": 10,
     "metadata": {},
     "output_type": "execute_result"
    }
   ],
   "source": [
    "key_order"
   ]
  },
  {
   "cell_type": "code",
   "execution_count": 11,
   "id": "04561be7-6226-4fd9-b6a0-144ad4a4ddb7",
   "metadata": {},
   "outputs": [],
   "source": [
    "ID = list(output_maps_for_umaps.keys())[2]"
   ]
  },
  {
   "cell_type": "code",
   "execution_count": 12,
   "id": "84b3b24a-bd85-4e3f-9754-f7d29761c706",
   "metadata": {},
   "outputs": [],
   "source": [
    "img_us = output_maps_for_umaps[ID]\n",
    "img_ps = output_maps_for_pred[ID]"
   ]
  },
  {
   "cell_type": "code",
   "execution_count": 13,
   "id": "a93ede23-90e1-4d83-9d33-495638d33c1c",
   "metadata": {},
   "outputs": [
    {
     "data": {
      "image/png": "[encoded data removed]",
      "text/plain": [
       "<Figure size 1500x400 with 4 Axes>"
      ]
     },
     "metadata": {},
     "output_type": "display_data"
    }
   ],
   "source": [
    "plt.figure(figsize=(15,4))\n",
    "islice = 31\n",
    "for i in range(4):\n",
    "    plt.subplot(1, 4, i+1)\n",
    "    plt.imshow(img_us[i][islice])\n",
    "    plt.axis('off')"
   ]
  },
  {
   "cell_type": "code",
   "execution_count": 14,
   "id": "6485cc67-1729-4388-affd-abefb31ff57a",
   "metadata": {},
   "outputs": [
    {
     "data": {
      "image/png": "[encoded data removed]",
      "text/plain": [
       "<Figure size 1500x400 with 4 Axes>"
      ]
     },
     "metadata": {},
     "output_type": "display_data"
    }
   ],
   "source": [
    "ent, pred, seg, var = img_ps\n",
    "plt.figure(figsize=(15,4))\n",
    "islice = 31\n",
    "for i in range(4):\n",
    "    plt.subplot(1, 4, i+1)\n",
    "    plt.imshow(img_ps[i][islice])\n",
    "    plt.axis('off')"
   ]
  },
  {
   "cell_type": "code",
   "execution_count": 15,
   "id": "35004640-9e97-4087-b165-2dd6860cb4c9",
   "metadata": {},
   "outputs": [],
   "source": [
    "t = 0.1\n",
    "ent_voxels = ent[ent > t]\n",
    "pred_voxels = pred[pred > t]\n",
    "var_voxels = var[var > t/10]"
   ]
  },
  {
   "cell_type": "code",
   "execution_count": 16,
   "id": "e5b57a0f-f991-4ecb-8b91-3555d78a3d2d",
   "metadata": {},
   "outputs": [
    {
     "data": {
      "text/plain": [
       "<matplotlib.colorbar.Colorbar at 0x7f85337ee410>"
      ]
     },
     "execution_count": 16,
     "metadata": {},
     "output_type": "execute_result"
    },
    {
     "data": {
      "image/png": "[encoded data removed]",
      "text/plain": [
       "<Figure size 640x480 with 2 Axes>"
      ]
     },
     "metadata": {},
     "output_type": "display_data"
    }
   ],
   "source": [
    "plt.imshow(var[islice]>0.01)\n",
    "plt.colorbar()"
   ]
  },
  {
   "cell_type": "code",
   "execution_count": 17,
   "id": "a7de86cc-dff5-4eb6-ae1a-d02522bab5a0",
   "metadata": {},
   "outputs": [
    {
     "data": {
      "text/plain": [
       "<AxesSubplot: ylabel='Density'>"
      ]
     },
     "execution_count": 17,
     "metadata": {},
     "output_type": "execute_result"
    },
    {
     "data": {
      "image/png": "[encoded data removed]",
      "text/plain": [
       "<Figure size 640x480 with 3 Axes>"
      ]
     },
     "metadata": {},
     "output_type": "display_data"
    }
   ],
   "source": [
    "plt.subplot(1,3,1)\n",
    "sns.kdeplot(ent_voxels)\n",
    "plt.subplot(1,3,2)\n",
    "sns.kdeplot(var_voxels)\n",
    "plt.subplot(1,3,3)\n",
    "sns.kdeplot(pred_voxels)"
   ]
  },
  {
   "cell_type": "code",
   "execution_count": 18,
   "id": "25fba1d1-4ec2-47b3-8cef-52de0786aa59",
   "metadata": {},
   "outputs": [],
   "source": [
    "def histogram_distribution(values, bins=20, minv=None, maxv=None):\n",
    "    # so that the output values are meaningful, I need to carefully set the min a max. mnin should be t, and max should be the max across all the data I think.\n",
    "    if minv == None:\n",
    "        minv = values.min()\n",
    "    if maxv == None:\n",
    "        maxv = values.max()\n",
    "    counts = torch.zeros(bins)\n",
    "    bounds = torch.arange(minv,maxv, (maxv-minv)/bins)\n",
    "    for i, (lower_bound, upper_bound) in enumerate(zip(bounds[:-1], bounds[1:])):\n",
    "        counts[i] = ((values >= lower_bound) * (values < upper_bound)).sum()\n",
    "\n",
    "    Z = counts.sum()\n",
    "    counts = counts / Z\n",
    "    return counts"
   ]
  },
  {
   "cell_type": "code",
   "execution_count": 19,
   "id": "dbb14042-f93b-488b-9226-bab70c005430",
   "metadata": {},
   "outputs": [],
   "source": [
    "def gaussian_summary_statistics(values):\n",
    "    sum = values.sum().item()\n",
    "    mean = values.mean().item()\n",
    "    std = values.std().item()\n",
    "    skew = scipy.stats.skew(values)\n",
    "    kurtosis = scipy.stats.kurtosis(values, fisher=False)\n",
    "    return sum, mean, std, skew, kurtosis"
   ]
  },
  {
   "cell_type": "code",
   "execution_count": 20,
   "id": "1d345beb-21d2-4d93-bbba-64bf0d7c05bf",
   "metadata": {},
   "outputs": [
    {
     "data": {
      "text/plain": [
       "tensor([0.1347, 0.0911, 0.0723, 0.0546, 0.0502, 0.0546, 0.0425, 0.0475, 0.0464,\n",
       "        0.0342, 0.0326, 0.0364, 0.0359, 0.0342, 0.0359, 0.0425, 0.0392, 0.0447,\n",
       "        0.0706, 0.0000])"
      ]
     },
     "execution_count": 20,
     "metadata": {},
     "output_type": "execute_result"
    }
   ],
   "source": [
    "histogram_distribution(ent_voxels, 20)"
   ]
  },
  {
   "cell_type": "code",
   "execution_count": 21,
   "id": "50440632-afa2-4412-aa15-feda68724897",
   "metadata": {},
   "outputs": [],
   "source": [
    "# counts, counts.sum()"
   ]
  },
  {
   "cell_type": "code",
   "execution_count": 22,
   "id": "e2057fc7-fb44-4b05-987b-9f95dbcf65a5",
   "metadata": {},
   "outputs": [
    {
     "data": {
      "text/plain": [
       "<AxesSubplot: ylabel='Count'>"
      ]
     },
     "execution_count": 22,
     "metadata": {},
     "output_type": "execute_result"
    },
    {
     "data": {
      "image/png": "[encoded data removed]",
      "text/plain": [
       "<Figure size 640x480 with 1 Axes>"
      ]
     },
     "metadata": {},
     "output_type": "display_data"
    }
   ],
   "source": [
    "sns.histplot(ent_voxels, bins=20)"
   ]
  },
  {
   "cell_type": "markdown",
   "id": "4a2eebb2-323b-49b9-9fc9-696eccd21f2e",
   "metadata": {},
   "source": [
    "### overlap proportions computation\n",
    "- [x] proportion of segmented area that is uncertain\n",
    "- [x] proportion of uncertain area that is segmented\n",
    "- [x] proportion of uncertain area that is within segmentation + edge expansion"
   ]
  },
  {
   "cell_type": "code",
   "execution_count": 23,
   "id": "9135e5b0-9ca4-4233-bad0-700764113bbc",
   "metadata": {},
   "outputs": [],
   "source": [
    "def get_edge_expanded_seg(seg, expansions=2):\n",
    "    expanded = seg.type(torch.float32).unsqueeze(1)\n",
    "    for _ in range(expansions):\n",
    "        expanded = torch.nn.functional.max_pool3d(expanded, kernel_size=3, padding=1, stride=1)\n",
    "    return expanded.type(seg.dtype).squeeze()"
   ]
  },
  {
   "cell_type": "markdown",
   "id": "29ff30eb-afd9-433d-a9a8-b58d83717eee",
   "metadata": {},
   "source": [
    "### loading the ventricles for ventricle distance analysis"
   ]
  },
  {
   "cell_type": "code",
   "execution_count": 24,
   "id": "b4f7a4bc-0c08-439b-8477-5deb907b7d92",
   "metadata": {},
   "outputs": [],
   "source": [
    "import SimpleITK as sitk\n",
    "import numpy as np\n",
    "import matplotlib.pyplot as plt\n",
    "import os\n",
    "import torchvision.transforms as tv\n",
    "\n",
    "# resamples an image\n",
    "def get_resampled_img(itk_image, out_spacing=[2.0, 2.0, 2.0], original_spacing=[1., 1., 3.], is_label=False):\n",
    "    \n",
    "    if not original_spacing:\n",
    "        # orig spacing can be specified when the input itk_image does not know its actual spacing.\n",
    "        original_spacing = itk_image.GetSpacing()\n",
    "    original_size = itk_image.GetSize()\n",
    "    \n",
    "    # what's this? its how to modify the output size I think...\n",
    "    out_size = [\n",
    "        int(np.round(orig_size * orig_spacing / out_spacing))\n",
    "        for (orig_size, orig_spacing, out_spacing) \n",
    "        in zip(original_size, original_spacing, out_spacing)\n",
    "    ]\n",
    "    \n",
    "    resample = sitk.ResampleImageFilter()\n",
    "    resample.SetOutputSpacing(out_spacing)\n",
    "    resample.SetSize(out_size)\n",
    "    resample.SetOutputDirection(itk_image.GetDirection())      # sets the output direction cosine matrix...\n",
    "    resample.SetOutputOrigin(itk_image.GetOrigin())\n",
    "    resample.SetTransform(sitk.Transform())\n",
    "    resample.SetDefaultPixelValue(itk_image.GetPixelIDValue())\n",
    "    \n",
    "    if is_label:\n",
    "        resample.SetInterpolator(sitk.sitkNearestNeighbor)\n",
    "    else:\n",
    "        resample.SetInterpolator(sitk.sitkBSpline)\n",
    "        \n",
    "    return resample.Execute(itk_image)\n",
    "      \n",
    "def resample_and_return(filename_in, is_label=False, out_spacing=[1., 1., 3.], original_spacing=None):\n",
    "    \"\"\"\n",
    "    resamples an image to custom voxel dimensions and returns image as a numpy array\n",
    "    \n",
    "    filename_in: .nii.gz file to load\n",
    "    is_label: is the file a brain scan or a segmentaion mask\n",
    "    outspacing: the spacing of the image to be resampled to.\n",
    "    \"\"\"\n",
    "        \n",
    "    # resample the image\n",
    "    image = sitk.ReadImage(filename_in)\n",
    "    resampled_image = get_resampled_img(image, out_spacing=out_spacing, original_spacing=original_spacing, is_label=is_label)\n",
    "    \n",
    "    return sitk.GetArrayFromImage(resampled_image)"
   ]
  },
  {
   "cell_type": "code",
   "execution_count": 25,
   "id": "ad90dcde-a922-4fe1-b331-c4e35f468366",
   "metadata": {},
   "outputs": [],
   "source": [
    "# this loop takes a while as its loading from disk and resampling\n",
    "# it takes around 11 minutes\n",
    "\n",
    "cropper = tv.transforms.CenterCrop((220, 220))\n",
    "\n",
    "def load_fast_output(file, slices):\n",
    "    timg = resample_and_return(file, is_label=True)\n",
    "        \n",
    "    # interpolate the channel number and centre crop\n",
    "    timg = torch.Tensor(timg)\n",
    "    timg = torch.nn.functional.interpolate(timg.unsqueeze(0).unsqueeze(0), (slices, *timg.shape[1:])).squeeze()\n",
    "    timg = cropper(timg.view((1, 1, *timg.shape))).squeeze()\n",
    "    \n",
    "    return timg\n",
    "\n"
   ]
  },
  {
   "cell_type": "code",
   "execution_count": 26,
   "id": "39e1b213-4cec-4b37-8c0a-68f628767553",
   "metadata": {},
   "outputs": [],
   "source": [
    "IDs_outmaps = natsorted(list(output_maps_for_umaps.keys()))\n",
    "IDs = [(\"_\".join(idx.split(\"_\")[:-2]), idx) for idx in IDs_outmaps if \"out_maps\" in idx]"
   ]
  },
  {
   "cell_type": "code",
   "execution_count": 27,
   "id": "8ede0b33-91db-4fae-8cfb-0dbe9bd5e089",
   "metadata": {},
   "outputs": [
    {
     "data": {
      "text/plain": [
       "torch.Size([58, 220, 220])"
      ]
     },
     "execution_count": 27,
     "metadata": {},
     "output_type": "execute_result"
    }
   ],
   "source": [
    "output_maps_for_umaps[IDs[0][1]][0].shape"
   ]
  },
  {
   "cell_type": "code",
   "execution_count": 28,
   "id": "0ddfb553-ff06-46cd-96a7-1d09e35faeb2",
   "metadata": {},
   "outputs": [
    {
     "name": "stderr",
     "output_type": "stream",
     "text": [
      "100%|███████████████████████████████████████████████████████████████████████████████████████████████████████████████████████████████████████████████████████| 290/290 [00:45<00:00,  6.37it/s]\n"
     ]
    }
   ],
   "source": [
    "vent_folder = \"/home/s2208943/ipdis/data/preprocessed_data/ADNI_300_ventmapper/\"\n",
    "vent_filenames = os.listdir(vent_folder)\n",
    "ID_ventpath_map = {\"_\".join(f.split(\"_\")[:-1]): vent_folder + f for f in vent_filenames}\n",
    "vent_maps = []\n",
    "for i in tqdm(range(len(IDs)), position=0, leave=True):\n",
    "    ID = IDs[i]\n",
    "    num_slices = output_maps_for_umaps[ID[1]][0].shape[0]\n",
    "    vent_path = ID_ventpath_map[ID[0]]\n",
    "    vent_seg = load_fast_output(vent_path, num_slices)\n",
    "    vent_maps.append(vent_seg)"
   ]
  },
  {
   "cell_type": "code",
   "execution_count": 29,
   "id": "1436f375-8c10-41bf-bb3a-0857fe41f5ab",
   "metadata": {},
   "outputs": [
    {
     "data": {
      "text/plain": [
       "(torch.Size([58, 220, 220]), tensor(33))"
      ]
     },
     "execution_count": 29,
     "metadata": {},
     "output_type": "execute_result"
    }
   ],
   "source": [
    "vent_maps[0].shape, vent_maps[0].sum(dim=(1,2,)).argmax(0)"
   ]
  },
  {
   "cell_type": "code",
   "execution_count": 30,
   "id": "12a6d43a-6de6-4a0e-8950-cd704e667b9c",
   "metadata": {},
   "outputs": [
    {
     "data": {
      "text/plain": [
       "<matplotlib.image.AxesImage at 0x7f8a2903cb20>"
      ]
     },
     "execution_count": 30,
     "metadata": {},
     "output_type": "execute_result"
    },
    {
     "data": {
      "image/png": "[encoded data removed]",
      "text/plain": [
       "<Figure size 1500x500 with 3 Axes>"
      ]
     },
     "metadata": {},
     "output_type": "display_data"
    }
   ],
   "source": [
    "islice = 26\n",
    "scan_id = 200\n",
    "plt.figure(figsize=(15, 5))\n",
    "plt.subplot(1,3,1)\n",
    "plt.imshow(vent_maps[scan_id][islice])\n",
    "plt.subplot(1,3,2)\n",
    "plt.imshow(output_maps_for_umaps[IDs[scan_id][1]][0][islice])\n",
    "plt.subplot(1,3,3)\n",
    "img_map = torch.zeros(*vent_maps[0].shape[1:], 3)\n",
    "img_map[:,:,0] = vent_maps[scan_id][islice]\n",
    "img_map[:,:,1] = output_maps_for_umaps[IDs[scan_id][1]][0][islice]\n",
    "plt.imshow(img_map)"
   ]
  },
  {
   "cell_type": "markdown",
   "id": "72be1a31-b0e8-4d6c-b050-935489fec32d",
   "metadata": {},
   "source": [
    "### distance from the ventricles"
   ]
  },
  {
   "cell_type": "code",
   "execution_count": 31,
   "id": "2771725e-8dd0-4b3e-931f-440c9cff01a1",
   "metadata": {},
   "outputs": [],
   "source": [
    "import torch.nn.functional as F\n",
    "def edge_pixels_3D(img):\n",
    "    dtype = img.dtype # preserve original datatype for casting at the end\n",
    "    img = img.type(torch.float32).unsqueeze(0)\n",
    "    \n",
    "    max_pool = F.max_pool3d(img, 3, stride=1, padding=1)\n",
    "    outer_edge = (max_pool != img).type(torch.float32)\n",
    "    \n",
    "    dilated_edge = F.max_pool3d(outer_edge, 3, stride=1, padding=1)\n",
    "    inner_edge = dilated_edge * img\n",
    "    \n",
    "    return inner_edge.type(dtype).squeeze()\n",
    "\n",
    "def edge_pixels(img):\n",
    "    dtype = img.dtype # preserve original datatype for casting at the end\n",
    "    img = img.type(torch.float32)\n",
    "    \n",
    "    max_pool = F.max_pool2d(img, 3, stride=1, padding=1)\n",
    "    outer_edge = (max_pool != img).type(torch.float32)\n",
    "    \n",
    "    dilated_edge = F.max_pool2d(outer_edge, 3, stride=1, padding=1)\n",
    "    inner_edge = dilated_edge * img\n",
    "    \n",
    "    return inner_edge.type(dtype)"
   ]
  },
  {
   "cell_type": "code",
   "execution_count": 32,
   "id": "797998d4-cb20-4df3-a428-51e8c10dbd40",
   "metadata": {},
   "outputs": [],
   "source": [
    "def downsample_3d(img, avg=True):\n",
    "    if avg:\n",
    "        return F.avg_pool3d(img.unsqueeze(0).type(torch.float32), 2, stride=2).squeeze().type(img.dtype)\n",
    "    else:\n",
    "        return F.max_pool3d(img.unsqueeze(0).type(torch.float32), 2, stride=2).squeeze().type(img.dtype)"
   ]
  },
  {
   "cell_type": "code",
   "execution_count": 33,
   "id": "15bffcfa-ae41-4540-be47-21b725eebad1",
   "metadata": {},
   "outputs": [],
   "source": [
    "def min_distances(img, vmap):\n",
    "    # calculate the minimum distance between each point in a and each point in b\n",
    "    \n",
    "    spatial_dims = vmap.squeeze().shape\n",
    "    grid = torch.stack(\n",
    "            torch.meshgrid(\n",
    "                *[torch.arange(0, sdi, 1) for sdi in spatial_dims],\n",
    "                indexing='ij'\n",
    "            )\n",
    "        ).type(torch.float32).to(img.device)\n",
    "    \n",
    "    a = grid[:, img.squeeze() > 0].T.cuda()\n",
    "    b = grid[:, vmap.squeeze() > 0].T.cuda()\n",
    "    \n",
    "    # Calculate pairwise distances between all pairs of points\n",
    "    distances = torch.cdist(a, b)\n",
    "\n",
    "    # Find indices of closest points in b for each point in a\n",
    "    _, indices = torch.min(distances, dim=1)\n",
    "\n",
    "    # Use indices to index into b and get closest points\n",
    "    b_closest = b[indices]\n",
    "\n",
    "    # Calculate distances to closest points \n",
    "    distances_closest = torch.norm(a - b_closest, dim=1)\n",
    "    \n",
    "    distance_map = torch.zeros(img.shape).to(distances_closest.device)\n",
    "    distance_map[img > 0] = distances_closest\n",
    "    \n",
    "    return distances_closest, distance_map"
   ]
  },
  {
   "cell_type": "markdown",
   "id": "1f929aaf-6adb-4768-9d06-c094e44f912b",
   "metadata": {},
   "source": [
    "### connected components analysis"
   ]
  },
  {
   "cell_type": "code",
   "execution_count": 34,
   "id": "82c98c1a-a5a9-4406-b1e1-4e664f35d318",
   "metadata": {},
   "outputs": [],
   "source": [
    "import cc3d"
   ]
  },
  {
   "cell_type": "code",
   "execution_count": 35,
   "id": "cbc4edb3-d1b2-489b-b982-05ccad6d5b7e",
   "metadata": {},
   "outputs": [],
   "source": [
    "def get_conn_comps(img):\n",
    "    connectivity = 6 # only 4,8 (2D) and 26, 18, and 6 (3D) are allowed\n",
    "    labels_out_seg = cc3d.connected_components(img.cpu().numpy(), connectivity=connectivity)\n",
    "    return torch.from_numpy(labels_out_seg.astype(np.int16)).to(img.device)"
   ]
  },
  {
   "cell_type": "code",
   "execution_count": 36,
   "id": "ac76e703-7ae8-4118-8c06-b365887c36a2",
   "metadata": {},
   "outputs": [],
   "source": [
    "def get_edge_expanded_seg(seg, expansions=2):\n",
    "    expanded = seg.type(torch.float32).unsqueeze(1)\n",
    "    for _ in range(expansions):\n",
    "        expanded = torch.nn.functional.max_pool3d(expanded, kernel_size=3, padding=1, stride=1)\n",
    "    return expanded.type(seg.dtype).squeeze()"
   ]
  },
  {
   "cell_type": "code",
   "execution_count": 37,
   "id": "e8883d62-e40e-4883-9273-1f53465ee4d8",
   "metadata": {},
   "outputs": [],
   "source": [
    "def skew(t, dim=None):\n",
    "    \"\"\"\n",
    "    Computes the skewness of a :class:`Tensor`. Note: this function uses cross-approximation (:func:`tntorch.cross()`).\n",
    "\n",
    "    :param t: a :class:`Tensor`\n",
    "\n",
    "    :return: a scalar\n",
    "    \"\"\"\n",
    "\n",
    "    return (((t-t.mean(dim=dim).unsqueeze(dim))/t.std(dim=dim).unsqueeze(dim)).pow(3)).mean(dim=dim)\n",
    "\n",
    "\n",
    "def kurtosis(t, fisher=True, dim=None):\n",
    "    \"\"\"\n",
    "    Computes the kurtosis of a :class:`Tensor`. Note: this function uses cross-approximation (:func:`tntorch.cross()`).\n",
    "\n",
    "    :param t: a :class:`Tensor`\n",
    "    :param fisher: if True (default) Fisher's definition is used, otherwise Pearson's (aka excess)\n",
    "\n",
    "    :return: a scalar\n",
    "    \"\"\"\n",
    "        \n",
    "    return (((t-t.mean(dim=dim).unsqueeze(dim))/t.std(dim=dim).unsqueeze(dim)).pow(4)).mean(dim=dim) - fisher*3"
   ]
  },
  {
   "cell_type": "code",
   "execution_count": 38,
   "id": "99050b0c-0408-4bc0-8bc0-2f456a1d5be9",
   "metadata": {},
   "outputs": [],
   "source": [
    "def one_hot_encoded_image(image):\n",
    "    # for a 3D [H, W, D] shape image\n",
    "    # ensure all IDs are unique\n",
    "    return (image == image.unique().view(-1, 1, 1, 1))\n",
    "\n",
    "def one_hot_encoded_vector(vector):\n",
    "    return (vector == vector.unique().view(-1,1))"
   ]
  },
  {
   "cell_type": "code",
   "execution_count": 39,
   "id": "1658dd1c-4f71-4b56-b4e1-88b458889c04",
   "metadata": {},
   "outputs": [],
   "source": [
    "def conn_comp_basic_stats(umap, conn_comp_map, seg_map, dist_map):\n",
    "    # number of connected components\n",
    "    # size of connected components\n",
    "    # connected component size distribution information\n",
    "    cc_ids = conn_comp_map.unique()\n",
    "    cc_locs = conn_comp_map != 0\n",
    "    conn_comp_map = conn_comp_map[cc_locs]\n",
    "    umap = umap[cc_locs]\n",
    "    seg_map = seg_map[cc_locs]\n",
    "    dist_map = dist_map[cc_locs]\n",
    "    \n",
    "    assert dist_map.shape == seg_map.shape == umap.shape == conn_comp_map.shape\n",
    "    num_ccs = len(cc_ids) - 1\n",
    "    num_ccs_no_overlap = 0\n",
    "    cc_sizes = []\n",
    "    cc_means = []\n",
    "    cc_stds = []\n",
    "    cc_skews = []\n",
    "    cc_kurts = []\n",
    "    cc_vent_dists = []\n",
    "    for cc_id in cc_ids:\n",
    "        if cc_id == 0:\n",
    "            continue\n",
    "        cc = conn_comp_map == cc_id\n",
    "        cc_size = cc.sum().item()\n",
    "        cc_values = umap[cc]\n",
    "        _, mean, std, skew, kurtosis = gaussian_summary_statistics(cc_values.cpu())\n",
    "    \n",
    "        cc_sizes.append(cc_size)\n",
    "        cc_means.append(mean)\n",
    "        cc_stds.append(std)\n",
    "        cc_skews.append(skew)\n",
    "        cc_kurts.append(kurtosis)\n",
    "        \n",
    "        if seg_map[cc].sum() == 0:\n",
    "            num_ccs_no_overlap += 1\n",
    "            \n",
    "        cc_vent_dists.append(dist_map[cc].mean().item())\n",
    "    _, vd_mean, vd_std, vd_skew, vd_kurt = gaussian_summary_statistics(torch.Tensor(cc_vent_dists))\n",
    "    _, size_mean, size_std, size_skew, size_kurt = gaussian_summary_statistics(torch.Tensor(cc_sizes))\n",
    "    \n",
    "    return {\"num\":num_ccs, \"sizes\":cc_sizes, \"means\":cc_means, \"stds\":cc_stds, \"skews\":cc_skews, \"kurts\":cc_kurts, \"vent_dists\":cc_vent_dists, \"unsegmented_ccs\":num_ccs_no_overlap, \"size_mean\":size_mean, \"size_std\":size_std, \"size_skew\":size_skew, \"size_kurt\":size_kurt, \"vd_mean\":vd_mean, \"vd_std\":vd_std, \"vd_skew\":vd_skew, \"vd_kurt\":vd_kurt}\n",
    "\n"
   ]
  },
  {
   "cell_type": "code",
   "execution_count": 40,
   "id": "42ba9f0e-df02-41ad-b49c-e8cb69ede31b",
   "metadata": {},
   "outputs": [],
   "source": [
    "# idx = 0\n",
    "# example_umap = output_maps_for_umaps[IDs[idx][1]][0].cuda()\n",
    "# example_smap = output_maps_for_pred[IDs[idx][1]][2].cuda()\n",
    "# example_vmap = vent_maps[idx].cuda()\n",
    "\n",
    "# vmap_ds = downsample_3d(example_vmap)\n",
    "# umap_ds = downsample_3d(example_umap)\n",
    "# ut_ds = umap_ds > 0.1\n",
    "# ut = example_umap > 0.1\n",
    "# conn_comps = get_conn_comps(ut)\n",
    "\n",
    "# distances_closest, distance_map = min_distances(ut_ds, vmap_ds)\n",
    "# distance_map = F.interpolate(distance_map.view(1, 1, *distance_map.shape), example_umap.shape, mode='trilinear').squeeze()"
   ]
  },
  {
   "cell_type": "code",
   "execution_count": 41,
   "id": "27b30691-96b1-4505-837e-ed520d4f39d8",
   "metadata": {},
   "outputs": [],
   "source": [
    "# cc_data = conn_comp_basic_stats(example_umap, conn_comps, example_smap, distance_map) # from this we could get the mean mean, mean std, mean skew and mean kurtosis for each threshold I guess. # that would be somewhat interesting"
   ]
  },
  {
   "cell_type": "code",
   "execution_count": 42,
   "id": "9d108785-7bdc-4b9c-a1c3-3c8ece10e7e1",
   "metadata": {},
   "outputs": [],
   "source": [
    "# cc_data[\"num\"], cc_data[\"unsegmented_ccs\"]"
   ]
  },
  {
   "cell_type": "code",
   "execution_count": 43,
   "id": "2c033fce-1615-4392-827f-794d54d1046f",
   "metadata": {},
   "outputs": [],
   "source": [
    "# cc_data[\"log_sizes\"] = torch.Tensor(cc_data['sizes']).log()\n",
    "# sns.jointplot(cc_data, y=\"vent_dists\", x=\"log_sizes\", bins=5, kind='hist')"
   ]
  },
  {
   "cell_type": "code",
   "execution_count": 44,
   "id": "cd6c462d-9c5a-4e15-a9fe-80102b7611d0",
   "metadata": {},
   "outputs": [],
   "source": [
    "def joint_hist_values(data, x, y, minx, maxx, miny, maxy, bins=5):\n",
    "    values = torch.stack([torch.Tensor(data[x]), torch.Tensor(data[y])], dim=1) # shape [N, 2]\n",
    "    values = values.expand((bins, bins, *values.shape))\n",
    "    counts = torch.zeros(bins, bins)\n",
    "    bounds_x = torch.arange(minx,maxx, (maxx-minx)/(bins+1)).to(values.device)\n",
    "    bounds_y = torch.arange(miny,maxy, (maxy-miny)/(bins+1)).to(values.device)\n",
    "    upper_xlims = bounds_x[1:].view(1, 5, 1)\n",
    "    upper_ylims = bounds_y[1:].view(5, 1, 1)\n",
    "    lower_xlims = bounds_x[:-1].view(1, 5, 1)\n",
    "    lower_ylims = bounds_y[:-1].view(5, 1, 1)\n",
    "    counts = (values[:,:,:,0] < upper_xlims) * (values[:,:,:,0] > lower_xlims) * (values[:,:,:,1] < upper_ylims) * (values[:,:,:,1] > lower_ylims)\n",
    "    counts = counts.sum(dim=-1)\n",
    "\n",
    "    Z = counts.sum()\n",
    "    counts = counts / Z\n",
    "    return counts\n",
    "\n",
    "\n",
    "# def joint_hist_values2(data, x, y, minx, maxx, miny, maxy, bins=5):\n",
    "#     values = torch.stack([torch.Tensor(data[x]), torch.Tensor(data[y])], dim=1) # shape [N, 2]\n",
    "#     #values = values.expand((bins, bins, *values.shape))\n",
    "#     counts = torch.zeros(bins, bins)\n",
    "#     bounds_x = torch.arange(minx,maxx, (maxx-minx)/(bins+1))\n",
    "#     bounds_y = torch.arange(miny,maxy, (maxy-miny)/(bins+1))\n",
    "#     upper_xlims = bounds_x[1:]\n",
    "#     upper_ylims = bounds_y[1:]\n",
    "#     lower_xlims = bounds_x[:-1]\n",
    "#     lower_ylims = bounds_y[:-1]\n",
    "#     for i, (x1, x2) in enumerate(zip(lower_xlims, upper_xlims)):\n",
    "#         for j, (y1,y2) in enumerate(zip(lower_ylims, upper_ylims)):\n",
    "#             counts[i][j] = ((values[:,0] < x2) * (values[:,0] > x1) * (values[:,1] < y2) * (values[:,1] > y1)).sum()\n",
    "#     # counts = counts.sum(dim=-1)\n",
    "\n",
    "#     Z = counts.sum()\n",
    "#     counts = counts / Z\n",
    "#     return counts"
   ]
  },
  {
   "cell_type": "code",
   "execution_count": 45,
   "id": "37d0eba6-39ad-4676-bd96-ebef6cceacc5",
   "metadata": {},
   "outputs": [],
   "source": [
    "# joint_counts = joint_hist_values2(cc_data, \"log_sizes\", \"vent_dists\", 0, 8, 0, 10, 5)"
   ]
  },
  {
   "cell_type": "code",
   "execution_count": 46,
   "id": "2b06d7ae-154d-4dc5-ba32-07aa021a43cb",
   "metadata": {},
   "outputs": [],
   "source": [
    "# joint_counts.shape"
   ]
  },
  {
   "cell_type": "code",
   "execution_count": 47,
   "id": "2308fdae-8544-4b23-b8fb-3652fda95e33",
   "metadata": {},
   "outputs": [],
   "source": [
    "# plt.imshow(joint_counts); plt.colorbar()"
   ]
  },
  {
   "cell_type": "code",
   "execution_count": 48,
   "id": "020e6a43-cbd8-49b1-b338-e4859b4775cd",
   "metadata": {},
   "outputs": [],
   "source": [
    "# cc_data[\"num\"], cc_data[\"unsegmented_ccs\"]"
   ]
  },
  {
   "cell_type": "code",
   "execution_count": 49,
   "id": "a0a2b95e-a3db-4d48-bc37-a1a68cce0e2b",
   "metadata": {},
   "outputs": [],
   "source": [
    "# summary statistics of log conn comp size:\n",
    "# cc_summary_stats = gaussian_summary_statistics(torch.Tensor(cc_data['sizes']).log())"
   ]
  },
  {
   "cell_type": "code",
   "execution_count": 50,
   "id": "71afb931-324e-496b-b279-befd02a32062",
   "metadata": {},
   "outputs": [],
   "source": [
    "# sum, mean , std, skew, kurtosis of log size of connected components.\n",
    "# cc_summary_stats"
   ]
  },
  {
   "cell_type": "code",
   "execution_count": 51,
   "id": "0ee07ab6-ca8b-4e72-861d-f5d07d88acda",
   "metadata": {},
   "outputs": [],
   "source": [
    "# histogram_distribution(torch.Tensor(cc_data['sizes']).log(), 10)"
   ]
  },
  {
   "cell_type": "code",
   "execution_count": 52,
   "id": "2e29135a-257e-4aa4-b4f4-2d46da0757cd",
   "metadata": {},
   "outputs": [],
   "source": [
    "# plt.hist(torch.Tensor(cc_data['sizes']).log(), bins=10);"
   ]
  },
  {
   "cell_type": "code",
   "execution_count": 53,
   "id": "2432d653-937d-45bc-bbcf-3830a8d46e14",
   "metadata": {},
   "outputs": [],
   "source": [
    "# sns.jointplot(data=cc_data, x=\"sizes\", y=\"kurts\")\n",
    "# plt.xscale('log')"
   ]
  },
  {
   "cell_type": "code",
   "execution_count": 54,
   "id": "3804b34f-ffc4-4d8d-bac5-c4780be9738c",
   "metadata": {},
   "outputs": [],
   "source": [
    "# lets get basic distribution of connected component numbers and size. Then we can get some interesting plots later, so collect as much interesting information as possible...\n",
    "# I can compare this to number and size of connected components in the predicted map (at say tau > 0.5?)\n",
    "# I should get distance of each connected component from the ventricles and size. yes that is a good plot\n",
    "# also distance from the binarized segmentation... (but I need to be careful and do this for pred as well as umap)."
   ]
  },
  {
   "cell_type": "markdown",
   "id": "8b04e44d-d410-4598-a51a-7f5fdbb6c47d",
   "metadata": {},
   "source": [
    "### Uncertainty values that I intended to extract from the umap\n",
    "\n",
    "For SSN Ens for the ent and var maps, and SSN Ens Mean for the pred and seg maps. Nice.\n",
    "I should capture all of these metrics across a variety of metrics, and I can tune the thresholds in cross validation. simples.\n",
    "It may be the case that ent + var together give us some more information. That would be interesting.\n",
    "\n",
    "`output_maps_for_umaps` is the SSN_Ens output\n",
    "`output_maps_for_mean` is the SSN_Ens_mean output\n",
    "\n",
    "- [x] sum\n",
    "- [x] mean\n",
    "- [x] std\n",
    "- [x] skew\n",
    "- [x] kurtosis\n",
    "- [x] kde bins?\n",
    "- [x] ventricle size\n",
    "- [x] intensity distribution (need to ensure that the min and max of the bins are the same across all individuals) \n",
    "- [x] number of connected components\n",
    "- [x] size of connected components distribution, need to ensure that the min and max of the bins are the same across all individuals.\n",
    "- [x] number / distribution of connected components that have no overlap with the segmented mask... (again I need the umap and the pred map to do this) (and I should also compare to the seg map as well perhaps)\n",
    "- [x] uncertainty sum, mean, skew, kurtosis of each connected component. That may be interesting to plot.\n",
    "- [-] distance to the WMH binarized segmentation for each connected component (try to separate out those connected components that are highlighting other stuff).\n",
    "- [-] proportion of the segmented edge deemed uncertain (if we expand the edge of the segmentation then calculate the proportion, we can get the sum of the uncertainty that\n",
    "- [x] proportion of segmented area deemed uncertain (this requires access to SSN Ens and SSN Ens Mean at the same time\n",
    "- [x] proportion of uncertain area that is within the segmentation + edge area\n",
    "- [x] distribution of size of connected components (sum, mean, std, skew)\n",
    "- [x] distance from the ventricles (could do this in x, y and z distributions, or just overall...) I could measure distance x intensity\n",
    "- [x] stats for distance from the ventricles (mean, std, skew, kurtosis, etc)\n",
    "- [x] mean distance from the ventricles of each connected component joint with size in a 5x5 and 10x10 bin option I think. again ensure that the \n",
    "- [ ] predicted seg volume."
   ]
  },
  {
   "cell_type": "markdown",
   "id": "ec8e64dc-0b08-43a4-9e57-51a5468ab30c",
   "metadata": {},
   "source": [
    "### turning all of the above into a big loop\n",
    "\n",
    "need to compute values for:\n",
    "- [x] ent map\n",
    "- [x] var map\n",
    "- [x] pred map\n",
    "- [x] loop over [0.1, 0.15, 0.2, 0.25, 0.3, 0.35, 0.4, 0.45, 0.5] as threshold for ent map\n",
    "- [x] loop over [0.1, 0.2, 0.3, 0.4, 0.5, 0.6] for pred map\n",
    "- [x] loop over ? for ent map"
   ]
  },
  {
   "cell_type": "code",
   "execution_count": 55,
   "id": "5937bcb1-ccf1-4cd2-a703-586883fcea46",
   "metadata": {},
   "outputs": [
    {
     "name": "stderr",
     "output_type": "stream",
     "text": [
      "  0%|                                                                                                                                                                 | 0/290 [00:00<?, ?it/s]"
     ]
    },
    {
     "name": "stdout",
     "output_type": "stream",
     "text": [
      "ADNI_002_S_0729_20110816\n"
     ]
    },
    {
     "name": "stderr",
     "output_type": "stream",
     "text": [
      "/tmp/ipykernel_3633260/1284179010.py:5: RuntimeWarning: Precision loss occurred in moment calculation due to catastrophic cancellation. This occurs when the data are nearly identical. Results may be unreliable.\n",
      "  skew = scipy.stats.skew(values)\n",
      "/tmp/ipykernel_3633260/1284179010.py:6: RuntimeWarning: Precision loss occurred in moment calculation due to catastrophic cancellation. This occurs when the data are nearly identical. Results may be unreliable.\n",
      "  kurtosis = scipy.stats.kurtosis(values, fisher=False)\n"
     ]
    },
    {
     "name": "stdout",
     "output_type": "stream",
     "text": [
      "218 198\n",
      "164 138\n",
      "126 84\n",
      "167 82\n",
      "218 100\n",
      "297 111\n",
      "189 164\n",
      "175 124\n",
      "246 131\n",
      "387 158\n",
      "367 134\n",
      "159 58\n",
      "63 24\n",
      "55 14\n",
      "57 11\n",
      "59 9\n",
      "54 0\n"
     ]
    },
    {
     "name": "stderr",
     "output_type": "stream",
     "text": [
      "  0%|▌                                                                                                                                                      | 1/290 [00:22<1:48:49, 22.59s/it]"
     ]
    },
    {
     "name": "stdout",
     "output_type": "stream",
     "text": [
      "52 0\n",
      "ADNI_002_S_1155_20111222\n",
      "504 493\n",
      "351 337\n",
      "210 193\n",
      "140 123\n",
      "109 91\n",
      "77 56\n",
      "407 394\n",
      "318 303\n",
      "213 196\n",
      "133 114\n",
      "99 81\n"
     ]
    },
    {
     "name": "stderr",
     "output_type": "stream",
     "text": [
      "/home/s2208943/miniconda3/envs/uq/lib/python3.10/site-packages/scipy/stats/_stats_py.py:1304: RuntimeWarning: Mean of empty slice.\n",
      "  mean = a.mean(axis, keepdims=True)\n",
      "/home/s2208943/miniconda3/envs/uq/lib/python3.10/site-packages/numpy/core/_methods.py:184: RuntimeWarning: invalid value encountered in divide\n",
      "  ret = um.true_divide(\n",
      "/home/s2208943/miniconda3/envs/uq/lib/python3.10/site-packages/numpy/core/fromnumeric.py:3464: RuntimeWarning: Mean of empty slice.\n",
      "  return _methods._mean(a, axis=axis, dtype=dtype,\n",
      "/home/s2208943/miniconda3/envs/uq/lib/python3.10/site-packages/numpy/core/_methods.py:192: RuntimeWarning: invalid value encountered in divide\n",
      "  ret = ret.dtype.type(ret / rcount)\n",
      "/home/s2208943/miniconda3/envs/uq/lib/python3.10/site-packages/scipy/stats/_stats_py.py:1417: RuntimeWarning: Mean of empty slice.\n",
      "  mean = a.mean(axis, keepdims=True)\n"
     ]
    },
    {
     "name": "stdout",
     "output_type": "stream",
     "text": [
      "77 47\n",
      "29 12\n",
      "27 10\n",
      "27 9\n",
      "23 5\n"
     ]
    },
    {
     "name": "stderr",
     "output_type": "stream",
     "text": [
      "  1%|█                                                                                                                                                      | 2/290 [00:30<1:07:08, 13.99s/it]"
     ]
    },
    {
     "name": "stdout",
     "output_type": "stream",
     "text": [
      "20 0\n",
      "20 0\n",
      "ADNI_002_S_1261_20110314\n",
      "363 346\n",
      "246 228\n",
      "166 146\n",
      "132 107\n",
      "107 81\n",
      "94 66\n",
      "318 300\n",
      "233 212\n",
      "191 167\n",
      "133 108\n",
      "132 103\n",
      "93 57\n",
      "29 10\n",
      "28 8\n",
      "27 5\n",
      "27 4\n",
      "29 0\n"
     ]
    },
    {
     "name": "stderr",
     "output_type": "stream",
     "text": [
      "  1%|█▌                                                                                                                                                       | 3/290 [00:37<52:31, 10.98s/it]"
     ]
    },
    {
     "name": "stdout",
     "output_type": "stream",
     "text": [
      "26 0\n",
      "ADNI_002_S_1280_20110504\n",
      "240 208\n",
      "189 148\n",
      "197 128\n",
      "225 111\n",
      "246 114\n",
      "286 126\n",
      "239 192\n",
      "250 169\n",
      "272 159\n",
      "294 141\n",
      "222 125\n",
      "150 59\n",
      "64 18\n",
      "60 12\n",
      "62 10\n",
      "61 6\n"
     ]
    },
    {
     "name": "stderr",
     "output_type": "stream",
     "text": [
      "  1%|██                                                                                                                                                       | 4/290 [00:47<50:02, 10.50s/it]"
     ]
    },
    {
     "name": "stdout",
     "output_type": "stream",
     "text": [
      "58 0\n",
      "55 0\n",
      "ADNI_002_S_2010_20101022\n",
      "153 137\n",
      "134 115\n",
      "99 77\n",
      "89 65\n",
      "82 56\n",
      "76 49\n",
      "134 116\n",
      "128 106\n",
      "101 77\n",
      "91 65\n",
      "80 51\n",
      "52 35\n",
      "33 14\n",
      "27 8\n",
      "22 3\n"
     ]
    },
    {
     "name": "stderr",
     "output_type": "stream",
     "text": [
      "  2%|██▋                                                                                                                                                      | 5/290 [00:51<38:52,  8.18s/it]"
     ]
    },
    {
     "name": "stdout",
     "output_type": "stream",
     "text": [
      "19 0\n",
      "20 0\n",
      "18 0\n",
      "ADNI_002_S_4213_20111205\n",
      "436 416\n",
      "285 262\n",
      "141 113\n",
      "109 79\n",
      "95 60\n",
      "94 49\n",
      "343 321\n",
      "274 243\n",
      "195 161\n",
      "116 78\n",
      "100 64\n",
      "55 28\n",
      "33 12\n",
      "29 8\n",
      "25 3\n",
      "23 1\n",
      "22 0\n"
     ]
    },
    {
     "name": "stderr",
     "output_type": "stream",
     "text": [
      "  2%|███▏                                                                                                                                                     | 6/290 [00:58<36:22,  7.69s/it]"
     ]
    },
    {
     "name": "stdout",
     "output_type": "stream",
     "text": [
      "22 0\n",
      "ADNI_002_S_4225_20111226\n",
      "489 453\n",
      "319 276\n",
      "224 176\n",
      "204 147\n",
      "198 121\n",
      "199 109\n",
      "403 362\n",
      "308 260\n",
      "262 190\n",
      "262 164\n",
      "222 130\n",
      "136 79\n",
      "97 38\n",
      "85 23\n",
      "78 14\n",
      "78 8\n",
      "71 0\n"
     ]
    },
    {
     "name": "stderr",
     "output_type": "stream",
     "text": [
      "  2%|███▋                                                                                                                                                     | 7/290 [01:08<39:56,  8.47s/it]"
     ]
    },
    {
     "name": "stdout",
     "output_type": "stream",
     "text": [
      "71 0\n",
      "ADNI_002_S_4229_20111221\n",
      "539 511\n",
      "370 336\n",
      "248 211\n",
      "227 168\n",
      "229 131\n",
      "246 127\n",
      "449 415\n",
      "337 294\n",
      "322 227\n",
      "294 186\n",
      "261 166\n",
      "140 98\n",
      "61 23\n",
      "57 19\n",
      "50 11\n",
      "47 4\n",
      "48 0\n"
     ]
    },
    {
     "name": "stderr",
     "output_type": "stream",
     "text": [
      "  3%|████▏                                                                                                                                                    | 8/290 [01:19<43:14,  9.20s/it]"
     ]
    },
    {
     "name": "stdout",
     "output_type": "stream",
     "text": [
      "40 0\n",
      "ADNI_002_S_4237_20110926\n",
      "451 422\n",
      "366 330\n",
      "265 226\n",
      "225 182\n",
      "195 147\n",
      "177 116\n",
      "396 360\n",
      "348 307\n",
      "286 231\n",
      "266 194\n",
      "233 159\n",
      "154 107\n",
      "86 41\n",
      "76 29\n",
      "73 20\n",
      "68 12\n",
      "66 0\n"
     ]
    },
    {
     "name": "stderr",
     "output_type": "stream",
     "text": [
      "  3%|████▋                                                                                                                                                    | 9/290 [01:29<44:42,  9.55s/it]"
     ]
    },
    {
     "name": "stdout",
     "output_type": "stream",
     "text": [
      "59 0\n",
      "ADNI_002_S_4262_20111005\n",
      "423 370\n",
      "359 289\n",
      "354 251\n",
      "379 222\n",
      "417 225\n",
      "469 228\n",
      "427 352\n",
      "417 301\n",
      "481 300\n",
      "540 293\n",
      "477 269\n",
      "283 172\n",
      "118 35\n",
      "112 25\n",
      "105 15\n",
      "105 7\n",
      "102 0\n"
     ]
    },
    {
     "name": "stderr",
     "output_type": "stream",
     "text": [
      "  3%|█████▏                                                                                                                                                  | 10/290 [01:44<52:33, 11.26s/it]"
     ]
    },
    {
     "name": "stdout",
     "output_type": "stream",
     "text": [
      "102 0\n",
      "ADNI_002_S_4270_20111011\n",
      "259 244\n",
      "200 175\n",
      "133 102\n",
      "147 98\n",
      "151 86\n",
      "174 86\n",
      "223 199\n",
      "189 152\n",
      "190 122\n",
      "228 120\n",
      "203 112\n",
      "96 60\n",
      "39 16\n",
      "35 10\n",
      "32 6\n",
      "33 1\n",
      "36 0\n"
     ]
    },
    {
     "name": "stderr",
     "output_type": "stream",
     "text": [
      "  4%|█████▊                                                                                                                                                  | 11/290 [01:51<45:56,  9.88s/it]"
     ]
    },
    {
     "name": "stdout",
     "output_type": "stream",
     "text": [
      "35 0\n",
      "ADNI_002_S_4447_20120814\n",
      "418 389\n",
      "325 290\n",
      "191 132\n",
      "198 121\n",
      "196 109\n",
      "199 97\n",
      "395 362\n",
      "353 300\n",
      "302 231\n",
      "204 119\n",
      "179 91\n",
      "119 60\n",
      "72 26\n",
      "70 21\n",
      "66 15\n",
      "63 7\n"
     ]
    },
    {
     "name": "stderr",
     "output_type": "stream",
     "text": [
      "  4%|██████▎                                                                                                                                                 | 12/290 [02:01<46:32, 10.04s/it]"
     ]
    },
    {
     "name": "stdout",
     "output_type": "stream",
     "text": [
      "59 0\n",
      "56 0\n",
      "ADNI_002_S_4473_20120823\n",
      "627 605\n",
      "419 395\n",
      "287 258\n",
      "226 187\n",
      "183 138\n",
      "152 97\n",
      "495 470\n",
      "375 342\n",
      "275 229\n",
      "238 184\n",
      "201 148\n",
      "114 70\n",
      "62 26\n",
      "57 18\n",
      "52 13\n",
      "48 8\n"
     ]
    },
    {
     "name": "stderr",
     "output_type": "stream",
     "text": [
      "  4%|██████▊                                                                                                                                                 | 13/290 [02:13<48:50, 10.58s/it]"
     ]
    },
    {
     "name": "stdout",
     "output_type": "stream",
     "text": [
      "42 0\n",
      "40 0\n",
      "ADNI_002_S_4521_20120904\n",
      "421 407\n",
      "235 219\n",
      "139 121\n",
      "132 97\n",
      "132 82\n",
      "137 67\n",
      "318 304\n",
      "205 185\n",
      "175 127\n",
      "192 115\n",
      "180 100\n",
      "95 52\n",
      "39 15\n",
      "36 10\n",
      "32 4\n",
      "31 3\n",
      "35 0\n"
     ]
    },
    {
     "name": "stderr",
     "output_type": "stream",
     "text": [
      "  5%|███████▎                                                                                                                                                | 14/290 [02:21<45:06,  9.81s/it]"
     ]
    },
    {
     "name": "stdout",
     "output_type": "stream",
     "text": [
      "34 0\n",
      "ADNI_002_S_4654_20121023\n",
      "532 513\n",
      "356 336\n",
      "239 209\n",
      "185 139\n",
      "157 100\n",
      "168 87\n",
      "458 438\n",
      "342 312\n",
      "275 226\n",
      "260 162\n",
      "196 132\n",
      "83 52\n",
      "41 14\n",
      "39 11\n",
      "38 10\n",
      "35 4\n",
      "32 0\n"
     ]
    },
    {
     "name": "stderr",
     "output_type": "stream",
     "text": [
      "  5%|███████▊                                                                                                                                                | 15/290 [02:31<44:35,  9.73s/it]"
     ]
    },
    {
     "name": "stdout",
     "output_type": "stream",
     "text": [
      "27 0\n",
      "ADNI_006_S_4150_20111107\n",
      "373 363\n",
      "222 211\n",
      "102 89\n",
      "74 56\n",
      "71 45\n",
      "78 42\n",
      "305 295\n",
      "191 179\n",
      "119 96\n",
      "103 60\n",
      "110 63\n",
      "83 50\n",
      "26 14\n",
      "24 10\n",
      "21 4\n",
      "19 2\n",
      "19 0\n"
     ]
    },
    {
     "name": "stderr",
     "output_type": "stream",
     "text": [
      "  6%|████████▍                                                                                                                                               | 16/290 [02:36<38:47,  8.49s/it]"
     ]
    },
    {
     "name": "stdout",
     "output_type": "stream",
     "text": [
      "20 0\n",
      "ADNI_006_S_4153_20111104\n",
      "397 384\n",
      "275 260\n",
      "175 152\n",
      "162 120\n",
      "153 99\n",
      "165 90\n",
      "331 315\n",
      "259 229\n",
      "212 160\n",
      "229 159\n",
      "184 123\n",
      "105 65\n",
      "49 26\n",
      "50 25\n",
      "39 12\n",
      "31 3\n",
      "28 0\n"
     ]
    },
    {
     "name": "stderr",
     "output_type": "stream",
     "text": [
      "  6%|████████▉                                                                                                                                               | 17/290 [02:44<37:54,  8.33s/it]"
     ]
    },
    {
     "name": "stdout",
     "output_type": "stream",
     "text": [
      "28 0\n",
      "ADNI_006_S_4192_20111215\n",
      "560 531\n",
      "375 343\n",
      "261 224\n",
      "248 175\n",
      "243 155\n",
      "254 142\n",
      "457 423\n",
      "366 316\n",
      "368 277\n",
      "322 205\n",
      "275 172\n",
      "150 107\n",
      "83 33\n",
      "76 21\n",
      "70 14\n",
      "68 8\n",
      "64 0\n"
     ]
    },
    {
     "name": "stderr",
     "output_type": "stream",
     "text": [
      "  6%|█████████▍                                                                                                                                              | 18/290 [02:56<42:49,  9.45s/it]"
     ]
    },
    {
     "name": "stdout",
     "output_type": "stream",
     "text": [
      "63 0\n",
      "ADNI_006_S_4357_20111128\n",
      "308 294\n",
      "204 188\n",
      "145 128\n",
      "119 96\n",
      "109 84\n",
      "99 68\n",
      "238 223\n",
      "182 164\n",
      "144 118\n",
      "123 88\n",
      "123 82\n",
      "94 57\n",
      "31 13\n",
      "29 9\n",
      "30 9\n"
     ]
    },
    {
     "name": "stderr",
     "output_type": "stream",
     "text": [
      "  7%|█████████▉                                                                                                                                              | 19/290 [03:02<38:00,  8.42s/it]"
     ]
    },
    {
     "name": "stdout",
     "output_type": "stream",
     "text": [
      "27 2\n",
      "25 0\n",
      "19 0\n",
      "ADNI_006_S_4363_20111116\n",
      "253 244\n",
      "152 143\n",
      "97 84\n",
      "86 62\n",
      "81 54\n",
      "95 47\n",
      "201 192\n",
      "148 136\n",
      "119 95\n",
      "118 71\n",
      "126 65\n",
      "87 46\n",
      "35 12\n",
      "31 7\n",
      "31 5\n",
      "32 3\n",
      "35 0\n"
     ]
    },
    {
     "name": "stderr",
     "output_type": "stream",
     "text": [
      "  7%|██████████▍                                                                                                                                             | 20/290 [03:08<33:48,  7.51s/it]"
     ]
    },
    {
     "name": "stdout",
     "output_type": "stream",
     "text": [
      "33 0\n",
      "ADNI_006_S_4485_20120824\n",
      "426 377\n",
      "293 229\n",
      "267 174\n",
      "385 203\n",
      "456 211\n",
      "553 232\n",
      "351 288\n",
      "411 268\n",
      "522 282\n",
      "571 296\n",
      "313 156\n",
      "100 46\n",
      "92 28\n",
      "88 23\n",
      "84 16\n",
      "82 10\n",
      "76 0\n"
     ]
    },
    {
     "name": "stderr",
     "output_type": "stream",
     "text": [
      "  7%|███████████                                                                                                                                             | 21/290 [03:23<43:21,  9.67s/it]"
     ]
    },
    {
     "name": "stdout",
     "output_type": "stream",
     "text": [
      "78 0\n",
      "ADNI_006_S_4679_20120601\n",
      "322 297\n",
      "255 213\n",
      "221 155\n",
      "241 137\n",
      "241 119\n",
      "263 125\n",
      "293 248\n",
      "281 209\n",
      "294 182\n",
      "271 142\n",
      "209 111\n",
      "108 58\n",
      "50 17\n",
      "48 12\n",
      "45 8\n",
      "41 4\n",
      "38 0\n"
     ]
    },
    {
     "name": "stderr",
     "output_type": "stream",
     "text": [
      "  8%|███████████▌                                                                                                                                            | 22/290 [03:33<43:37,  9.77s/it]"
     ]
    },
    {
     "name": "stdout",
     "output_type": "stream",
     "text": [
      "39 0\n",
      "ADNI_006_S_4713_20121128\n",
      "334 318\n",
      "209 193\n",
      "132 100\n",
      "114 61\n",
      "130 68\n",
      "146 67\n",
      "277 260\n",
      "194 166\n",
      "177 115\n",
      "181 102\n",
      "153 85\n",
      "89 54\n",
      "38 15\n",
      "34 11\n",
      "31 7\n",
      "30 2\n",
      "28 0\n"
     ]
    },
    {
     "name": "stderr",
     "output_type": "stream",
     "text": [
      "  8%|████████████                                                                                                                                            | 23/290 [03:40<40:13,  9.04s/it]"
     ]
    },
    {
     "name": "stdout",
     "output_type": "stream",
     "text": [
      "29 0\n",
      "ADNI_006_S_4960_20121009\n",
      "545 517\n",
      "426 394\n",
      "269 220\n",
      "240 180\n",
      "205 138\n",
      "163 92\n",
      "487 456\n",
      "407 364\n",
      "316 255\n",
      "228 165\n",
      "237 173\n",
      "145 107\n",
      "65 29\n",
      "59 21\n",
      "50 12\n",
      "45 7\n",
      "41 0\n"
     ]
    },
    {
     "name": "stderr",
     "output_type": "stream",
     "text": [
      "  8%|████████████▌                                                                                                                                           | 24/290 [03:52<44:06,  9.95s/it]"
     ]
    },
    {
     "name": "stdout",
     "output_type": "stream",
     "text": [
      "38 0\n",
      "ADNI_009_S_2208_20101201\n",
      "396 385\n",
      "254 240\n",
      "144 127\n",
      "108 84\n",
      "84 50\n",
      "93 42\n",
      "324 311\n",
      "226 209\n",
      "174 150\n",
      "136 94\n",
      "126 72\n",
      "83 42\n",
      "23 10\n",
      "23 10\n",
      "19 5\n",
      "15 0\n"
     ]
    },
    {
     "name": "stderr",
     "output_type": "stream",
     "text": [
      "  9%|█████████████                                                                                                                                           | 25/290 [03:59<40:12,  9.11s/it]"
     ]
    },
    {
     "name": "stdout",
     "output_type": "stream",
     "text": [
      "15 0\n",
      "15 0\n",
      "ADNI_009_S_4324_20111101\n",
      "334 329\n",
      "221 213\n",
      "119 110\n",
      "85 67\n",
      "83 57\n",
      "77 41\n",
      "261 254\n",
      "191 182\n",
      "134 119\n",
      "110 72\n",
      "110 65\n",
      "82 41\n",
      "20 9\n",
      "20 8\n",
      "22 9\n",
      "16 2\n",
      "16 0\n"
     ]
    },
    {
     "name": "stderr",
     "output_type": "stream",
     "text": [
      "  9%|█████████████▋                                                                                                                                          | 26/290 [04:05<36:01,  8.19s/it]"
     ]
    },
    {
     "name": "stdout",
     "output_type": "stream",
     "text": [
      "16 0\n",
      "ADNI_009_S_4359_20111205\n",
      "325 316\n",
      "197 183\n",
      "123 98\n",
      "120 74\n",
      "127 66\n",
      "149 70\n",
      "262 247\n",
      "216 189\n",
      "206 152\n",
      "207 106\n",
      "192 91\n",
      "109 52\n",
      "34 16\n",
      "31 10\n",
      "28 4\n",
      "34 3\n",
      "33 0\n"
     ]
    },
    {
     "name": "stderr",
     "output_type": "stream",
     "text": [
      "  9%|██████████████▏                                                                                                                                         | 27/290 [04:12<34:22,  7.84s/it]"
     ]
    },
    {
     "name": "stdout",
     "output_type": "stream",
     "text": [
      "30 0\n",
      "ADNI_009_S_4388_20111213\n",
      "202 192\n",
      "132 114\n",
      "102 70\n",
      "131 63\n",
      "141 63\n",
      "154 62\n",
      "163 137\n",
      "138 97\n",
      "155 86\n",
      "178 88\n",
      "141 72\n",
      "74 36\n",
      "27 11\n",
      "27 10\n",
      "26 5\n"
     ]
    },
    {
     "name": "stderr",
     "output_type": "stream",
     "text": [
      " 10%|██████████████▋                                                                                                                                         | 28/290 [04:18<31:00,  7.10s/it]"
     ]
    },
    {
     "name": "stdout",
     "output_type": "stream",
     "text": [
      "28 4\n",
      "25 0\n",
      "25 0\n",
      "ADNI_009_S_4543_20120912\n",
      "245 234\n",
      "147 131\n",
      "120 86\n",
      "152 84\n",
      "157 74\n",
      "163 73\n",
      "201 184\n",
      "168 132\n",
      "163 105\n",
      "190 95\n",
      "171 92\n",
      "109 51\n",
      "27 11\n",
      "21 5\n",
      "21 4\n",
      "19 1\n"
     ]
    },
    {
     "name": "stderr",
     "output_type": "stream",
     "text": [
      " 10%|███████████████▏                                                                                                                                        | 29/290 [04:24<30:01,  6.90s/it]"
     ]
    },
    {
     "name": "stdout",
     "output_type": "stream",
     "text": [
      "19 0\n",
      "20 0\n",
      "ADNI_009_S_4612_20121011\n",
      "338 294\n",
      "303 251\n",
      "290 197\n",
      "394 213\n",
      "464 230\n",
      "514 240\n",
      "336 278\n",
      "402 277\n",
      "517 302\n",
      "501 241\n",
      "365 178\n",
      "172 84\n",
      "107 38\n",
      "93 17\n",
      "87 10\n",
      "89 9\n",
      "84 0\n"
     ]
    },
    {
     "name": "stderr",
     "output_type": "stream",
     "text": [
      " 10%|███████████████▋                                                                                                                                        | 30/290 [04:39<40:59,  9.46s/it]"
     ]
    },
    {
     "name": "stdout",
     "output_type": "stream",
     "text": [
      "85 0\n",
      "ADNI_009_S_4741_20121015\n",
      "458 440\n",
      "298 279\n",
      "210 189\n",
      "176 145\n",
      "154 116\n",
      "154 95\n",
      "358 339\n",
      "285 264\n",
      "203 171\n",
      "199 131\n",
      "196 118\n",
      "131 63\n",
      "65 38\n",
      "54 22\n",
      "46 14\n",
      "39 5\n"
     ]
    },
    {
     "name": "stderr",
     "output_type": "stream",
     "text": [
      " 11%|████████████████▏                                                                                                                                       | 31/290 [04:49<40:59,  9.49s/it]"
     ]
    },
    {
     "name": "stdout",
     "output_type": "stream",
     "text": [
      "38 0\n",
      "36 0\n",
      "ADNI_010_S_4345_20120920\n",
      "368 347\n",
      "285 259\n",
      "183 138\n",
      "203 122\n",
      "214 116\n",
      "214 98\n",
      "333 304\n",
      "315 251\n",
      "327 235\n",
      "241 135\n",
      "192 125\n",
      "114 58\n",
      "48 19\n",
      "43 13\n",
      "43 12\n",
      "39 5\n",
      "35 0\n"
     ]
    },
    {
     "name": "stderr",
     "output_type": "stream",
     "text": [
      " 11%|████████████████▊                                                                                                                                       | 32/290 [04:58<40:39,  9.46s/it]"
     ]
    },
    {
     "name": "stdout",
     "output_type": "stream",
     "text": [
      "34 0\n",
      "ADNI_011_S_0021_20101008\n",
      "419 402\n",
      "262 244\n",
      "162 133\n",
      "130 93\n",
      "131 90\n",
      "114 63\n",
      "338 314\n",
      "251 220\n",
      "199 158\n",
      "150 104\n",
      "115 83\n",
      "73 52\n",
      "33 14\n",
      "33 11\n",
      "29 5\n",
      "27 3\n",
      "28 0\n"
     ]
    },
    {
     "name": "stderr",
     "output_type": "stream",
     "text": [
      " 11%|█████████████████▎                                                                                                                                      | 33/290 [05:05<37:25,  8.74s/it]"
     ]
    },
    {
     "name": "stdout",
     "output_type": "stream",
     "text": [
      "26 0\n",
      "ADNI_011_S_0023_20121227\n",
      "367 354\n",
      "238 217\n",
      "148 121\n",
      "127 89\n",
      "118 75\n",
      "126 70\n",
      "298 279\n",
      "219 191\n",
      "177 128\n",
      "170 121\n",
      "141 94\n",
      "80 49\n",
      "35 19\n",
      "27 11\n",
      "23 6\n",
      "25 4\n"
     ]
    },
    {
     "name": "stderr",
     "output_type": "stream",
     "text": [
      " 12%|█████████████████▊                                                                                                                                      | 34/290 [05:12<34:35,  8.11s/it]"
     ]
    },
    {
     "name": "stdout",
     "output_type": "stream",
     "text": [
      "22 0\n",
      "20 0\n",
      "ADNI_011_S_2274_20110818\n",
      "477 470\n",
      "243 232\n",
      "177 148\n",
      "185 128\n",
      "170 99\n",
      "173 84\n",
      "371 360\n",
      "248 218\n",
      "222 151\n",
      "219 118\n",
      "178 97\n",
      "113 51\n",
      "40 25\n",
      "30 12\n",
      "34 13\n",
      "33 7\n",
      "29 0\n"
     ]
    },
    {
     "name": "stderr",
     "output_type": "stream",
     "text": [
      " 12%|██████████████████▎                                                                                                                                     | 35/290 [05:20<34:38,  8.15s/it]"
     ]
    },
    {
     "name": "stdout",
     "output_type": "stream",
     "text": [
      "37 0\n",
      "ADNI_011_S_4075_20111214\n",
      "408 403\n",
      "243 236\n",
      "141 127\n",
      "115 82\n",
      "100 55\n",
      "107 56\n",
      "335 329\n",
      "242 231\n",
      "192 155\n",
      "146 93\n",
      "124 73\n",
      "78 36\n",
      "32 20\n",
      "23 9\n",
      "22 4\n",
      "22 2\n"
     ]
    },
    {
     "name": "stderr",
     "output_type": "stream",
     "text": [
      " 12%|██████████████████▊                                                                                                                                     | 36/290 [05:27<32:36,  7.70s/it]"
     ]
    },
    {
     "name": "stdout",
     "output_type": "stream",
     "text": [
      "20 0\n",
      "19 0\n",
      "ADNI_011_S_4105_20111005\n",
      "363 351\n",
      "253 236\n",
      "176 155\n",
      "145 112\n",
      "142 96\n",
      "136 85\n",
      "317 300\n",
      "234 211\n",
      "196 160\n",
      "156 112\n",
      "124 85\n",
      "86 50\n",
      "20 8\n",
      "14 2\n",
      "14 1\n",
      "14 0\n",
      "15 0\n"
     ]
    },
    {
     "name": "stderr",
     "output_type": "stream",
     "text": [
      " 13%|███████████████████▍                                                                                                                                    | 37/290 [05:34<31:20,  7.43s/it]"
     ]
    },
    {
     "name": "stdout",
     "output_type": "stream",
     "text": [
      "12 0\n",
      "ADNI_011_S_4120_20111010\n",
      "446 436\n",
      "268 249\n",
      "158 128\n",
      "153 84\n",
      "167 80\n",
      "195 81\n",
      "368 346\n",
      "298 256\n",
      "249 172\n",
      "227 117\n",
      "184 81\n",
      "94 36\n",
      "35 14\n",
      "32 7\n",
      "31 3\n",
      "29 1\n",
      "30 0\n"
     ]
    },
    {
     "name": "stderr",
     "output_type": "stream",
     "text": [
      " 13%|███████████████████▉                                                                                                                                    | 38/290 [05:42<32:15,  7.68s/it]"
     ]
    },
    {
     "name": "stdout",
     "output_type": "stream",
     "text": [
      "34 0\n",
      "ADNI_011_S_4222_20111207\n",
      "231 218\n",
      "131 116\n",
      "121 88\n",
      "130 64\n",
      "166 69\n",
      "186 72\n",
      "159 138\n",
      "153 104\n",
      "202 96\n",
      "199 81\n",
      "154 78\n",
      "63 31\n",
      "35 17\n",
      "35 15\n",
      "31 10\n",
      "27 4\n",
      "25 0\n"
     ]
    },
    {
     "name": "stderr",
     "output_type": "stream",
     "text": [
      " 13%|████████████████████▍                                                                                                                                   | 39/290 [05:48<29:55,  7.15s/it]"
     ]
    },
    {
     "name": "stdout",
     "output_type": "stream",
     "text": [
      "20 0\n",
      "ADNI_011_S_4235_20111219\n",
      "441 426\n",
      "270 249\n",
      "187 155\n",
      "202 128\n",
      "219 120\n",
      "216 102\n",
      "348 328\n",
      "264 228\n",
      "272 179\n",
      "257 144\n",
      "193 101\n",
      "120 73\n",
      "53 30\n",
      "51 25\n",
      "52 21\n",
      "48 12\n",
      "39 0\n"
     ]
    },
    {
     "name": "stderr",
     "output_type": "stream",
     "text": [
      " 14%|████████████████████▉                                                                                                                                   | 40/290 [05:57<32:01,  7.69s/it]"
     ]
    },
    {
     "name": "stdout",
     "output_type": "stream",
     "text": [
      "38 0\n",
      "ADNI_011_S_4278_20111013\n",
      "306 298\n",
      "215 204\n",
      "192 147\n",
      "189 108\n",
      "184 87\n",
      "207 83\n",
      "262 247\n",
      "275 205\n",
      "297 184\n",
      "247 142\n",
      "145 88\n",
      "79 53\n",
      "33 17\n",
      "30 9\n",
      "31 9\n"
     ]
    },
    {
     "name": "stderr",
     "output_type": "stream",
     "text": [
      " 14%|█████████████████████▍                                                                                                                                  | 41/290 [06:05<31:52,  7.68s/it]"
     ]
    },
    {
     "name": "stdout",
     "output_type": "stream",
     "text": [
      "25 2\n",
      "26 0\n",
      "22 0\n",
      "ADNI_011_S_4547_20120912\n",
      "543 522\n",
      "361 333\n",
      "259 207\n",
      "268 173\n",
      "264 144\n",
      "262 118\n",
      "431 397\n",
      "384 310\n",
      "370 243\n",
      "268 161\n",
      "212 140\n",
      "106 81\n",
      "69 40\n",
      "52 21\n",
      "44 12\n",
      "36 3\n"
     ]
    },
    {
     "name": "stderr",
     "output_type": "stream",
     "text": [
      " 14%|██████████████████████                                                                                                                                  | 42/290 [06:15<35:40,  8.63s/it]"
     ]
    },
    {
     "name": "stdout",
     "output_type": "stream",
     "text": [
      "34 0\n",
      "32 0\n",
      "ADNI_012_S_4012_20111107\n",
      "184 170\n",
      "148 133\n",
      "101 86\n",
      "82 60\n",
      "86 55\n",
      "74 42\n",
      "150 134\n",
      "130 113\n",
      "101 78\n",
      "85 57\n",
      "68 41\n",
      "52 28\n",
      "27 10\n",
      "28 11\n",
      "23 6\n"
     ]
    },
    {
     "name": "stderr",
     "output_type": "stream",
     "text": [
      " 15%|██████████████████████▌                                                                                                                                 | 43/290 [06:20<30:00,  7.29s/it]"
     ]
    },
    {
     "name": "stdout",
     "output_type": "stream",
     "text": [
      "20 2\n",
      "19 0\n",
      "16 0\n",
      "ADNI_012_S_4094_20111006\n",
      "387 365\n",
      "256 232\n",
      "139 114\n",
      "106 80\n",
      "101 75\n",
      "87 59\n",
      "316 291\n",
      "251 225\n",
      "159 132\n",
      "115 89\n",
      "102 77\n",
      "67 49\n",
      "40 19\n",
      "38 17\n",
      "33 11\n"
     ]
    },
    {
     "name": "stderr",
     "output_type": "stream",
     "text": [
      " 15%|███████████████████████                                                                                                                                 | 44/290 [06:26<28:47,  7.02s/it]"
     ]
    },
    {
     "name": "stdout",
     "output_type": "stream",
     "text": [
      "28 5\n",
      "23 0\n",
      "22 0\n",
      "ADNI_012_S_4128_20111101\n",
      "442 420\n",
      "317 293\n",
      "220 192\n",
      "182 144\n",
      "153 109\n",
      "145 97\n",
      "382 358\n",
      "296 267\n",
      "238 201\n",
      "195 146\n",
      "160 113\n",
      "101 66\n",
      "55 26\n",
      "42 13\n",
      "36 6\n",
      "34 4\n",
      "34 0\n"
     ]
    },
    {
     "name": "stderr",
     "output_type": "stream",
     "text": [
      " 16%|███████████████████████▌                                                                                                                                | 45/290 [06:34<30:24,  7.45s/it]"
     ]
    },
    {
     "name": "stdout",
     "output_type": "stream",
     "text": [
      "34 0\n",
      "ADNI_012_S_4188_20111213\n",
      "422 407\n",
      "304 283\n",
      "160 130\n",
      "136 89\n",
      "132 64\n",
      "150 63\n",
      "363 343\n",
      "311 277\n",
      "247 186\n",
      "180 96\n",
      "153 86\n",
      "102 69\n",
      "32 12\n",
      "27 6\n",
      "24 2\n",
      "23 0\n"
     ]
    },
    {
     "name": "stderr",
     "output_type": "stream",
     "text": [
      " 16%|████████████████████████                                                                                                                                | 46/290 [06:42<30:42,  7.55s/it]"
     ]
    },
    {
     "name": "stdout",
     "output_type": "stream",
     "text": [
      "24 0\n",
      "25 0\n",
      "ADNI_012_S_4545_20120924\n",
      "361 325\n",
      "264 222\n",
      "212 150\n",
      "205 116\n",
      "196 96\n",
      "209 93\n",
      "333 286\n",
      "294 223\n",
      "272 175\n",
      "201 109\n",
      "160 87\n",
      "91 50\n",
      "59 16\n",
      "50 7\n",
      "50 5\n",
      "46 1\n",
      "45 0\n"
     ]
    },
    {
     "name": "stderr",
     "output_type": "stream",
     "text": [
      " 16%|████████████████████████▋                                                                                                                               | 47/290 [06:51<32:09,  7.94s/it]"
     ]
    },
    {
     "name": "stdout",
     "output_type": "stream",
     "text": [
      "42 0\n",
      "ADNI_012_S_4643_20120627\n",
      "299 288\n",
      "194 180\n",
      "115 95\n",
      "97 72\n",
      "87 60\n",
      "76 42\n",
      "244 230\n",
      "196 179\n",
      "166 139\n",
      "100 63\n",
      "91 56\n",
      "70 39\n",
      "34 16\n",
      "29 11\n",
      "28 10\n"
     ]
    },
    {
     "name": "stderr",
     "output_type": "stream",
     "text": [
      " 17%|█████████████████████████▏                                                                                                                              | 48/290 [06:57<29:37,  7.34s/it]"
     ]
    },
    {
     "name": "stdout",
     "output_type": "stream",
     "text": [
      "26 7\n",
      "19 0\n",
      "22 0\n",
      "ADNI_013_S_1186_20110223\n",
      "458 441\n",
      "340 313\n",
      "182 138\n",
      "246 143\n",
      "294 145\n",
      "370 163\n",
      "378 349\n",
      "348 283\n",
      "430 293\n",
      "410 215\n",
      "354 200\n",
      "161 98\n",
      "60 35\n",
      "46 19\n",
      "39 11\n",
      "37 5\n",
      "32 0\n"
     ]
    },
    {
     "name": "stderr",
     "output_type": "stream",
     "text": [
      " 17%|█████████████████████████▋                                                                                                                              | 49/290 [07:09<35:20,  8.80s/it]"
     ]
    },
    {
     "name": "stdout",
     "output_type": "stream",
     "text": [
      "30 0\n",
      "ADNI_013_S_4268_20111101\n",
      "383 371\n",
      "228 216\n",
      "142 126\n",
      "108 90\n",
      "92 74\n",
      "81 64\n",
      "314 302\n",
      "212 197\n",
      "157 138\n",
      "106 86\n",
      "89 72\n",
      "56 42\n",
      "22 8\n",
      "18 3\n",
      "18 3\n"
     ]
    },
    {
     "name": "stderr",
     "output_type": "stream",
     "text": [
      " 17%|██████████████████████████▏                                                                                                                             | 50/290 [07:16<32:35,  8.15s/it]"
     ]
    },
    {
     "name": "stdout",
     "output_type": "stream",
     "text": [
      "16 0\n",
      "18 0\n",
      "18 0\n",
      "ADNI_013_S_4395_20120815\n",
      "273 241\n",
      "202 159\n",
      "213 143\n",
      "300 158\n",
      "387 179\n",
      "515 205\n",
      "267 214\n",
      "326 210\n",
      "569 302\n",
      "642 309\n",
      "351 197\n",
      "111 64\n",
      "86 29\n",
      "77 16\n",
      "74 7\n",
      "76 5\n",
      "76 0\n"
     ]
    },
    {
     "name": "stderr",
     "output_type": "stream",
     "text": [
      " 18%|██████████████████████████▋                                                                                                                             | 51/290 [07:29<38:44,  9.73s/it]"
     ]
    },
    {
     "name": "stdout",
     "output_type": "stream",
     "text": [
      "77 0\n",
      "ADNI_013_S_4580_20121015\n",
      "479 460\n",
      "355 332\n",
      "213 180\n",
      "193 143\n",
      "182 117\n",
      "196 113\n",
      "412 388\n",
      "340 307\n",
      "296 232\n",
      "252 161\n",
      "279 157\n",
      "200 104\n",
      "62 28\n",
      "51 14\n",
      "51 11\n",
      "47 2\n"
     ]
    },
    {
     "name": "stderr",
     "output_type": "stream",
     "text": [
      " 18%|███████████████████████████▎                                                                                                                            | 52/290 [07:41<40:31, 10.21s/it]"
     ]
    },
    {
     "name": "stdout",
     "output_type": "stream",
     "text": [
      "51 0\n",
      "51 0\n",
      "ADNI_013_S_4595_20121024\n",
      "628 617\n",
      "452 438\n",
      "277 257\n",
      "215 182\n",
      "163 128\n",
      "141 95\n",
      "555 541\n",
      "415 395\n",
      "312 276\n",
      "227 182\n",
      "195 152\n",
      "109 84\n",
      "44 24\n",
      "37 15\n",
      "37 11\n",
      "33 4\n",
      "31 0\n"
     ]
    },
    {
     "name": "stderr",
     "output_type": "stream",
     "text": [
      " 18%|███████████████████████████▊                                                                                                                            | 53/290 [07:52<42:20, 10.72s/it]"
     ]
    },
    {
     "name": "stdout",
     "output_type": "stream",
     "text": [
      "29 0\n",
      "ADNI_013_S_4616_20121025\n",
      "502 482\n",
      "372 347\n",
      "300 260\n",
      "303 219\n",
      "317 189\n",
      "364 187\n",
      "450 420\n",
      "387 329\n",
      "419 288\n",
      "388 252\n",
      "344 210\n",
      "242 137\n",
      "57 28\n",
      "45 16\n",
      "40 8\n",
      "39 6\n",
      "39 0\n"
     ]
    },
    {
     "name": "stderr",
     "output_type": "stream",
     "text": [
      " 19%|████████████████████████████▎                                                                                                                           | 54/290 [08:05<44:49, 11.39s/it]"
     ]
    },
    {
     "name": "stdout",
     "output_type": "stream",
     "text": [
      "34 0\n",
      "ADNI_014_S_2308_20110908\n",
      "426 419\n",
      "268 260\n",
      "158 150\n",
      "109 99\n",
      "84 71\n",
      "72 52\n",
      "350 343\n",
      "261 251\n",
      "160 150\n",
      "123 108\n",
      "107 93\n",
      "74 61\n",
      "18 10\n",
      "15 7\n"
     ]
    },
    {
     "name": "stderr",
     "output_type": "stream",
     "text": [
      " 19%|████████████████████████████▊                                                                                                                           | 55/290 [08:12<38:45,  9.90s/it]"
     ]
    },
    {
     "name": "stdout",
     "output_type": "stream",
     "text": [
      "10 2\n",
      "9 0\n",
      "9 0\n",
      "9 0\n",
      "ADNI_014_S_4039_20111208\n",
      "435 426\n",
      "284 274\n",
      "183 172\n",
      "148 135\n",
      "103 90\n",
      "80 63\n",
      "352 342\n",
      "250 239\n",
      "179 167\n",
      "134 116\n",
      "107 85\n",
      "79 56\n",
      "28 14\n",
      "21 6\n",
      "18 3\n",
      "17 2\n",
      "16 0\n"
     ]
    },
    {
     "name": "stderr",
     "output_type": "stream",
     "text": [
      " 19%|█████████████████████████████▎                                                                                                                          | 56/290 [08:19<35:06,  9.00s/it]"
     ]
    },
    {
     "name": "stdout",
     "output_type": "stream",
     "text": [
      "16 0\n",
      "ADNI_014_S_4058_20111222\n",
      "354 341\n",
      "337 313\n",
      "124 89\n",
      "106 62\n",
      "115 60\n",
      "125 53\n",
      "366 344\n",
      "349 316\n",
      "251 204\n",
      "161 81\n",
      "152 78\n",
      "98 55\n",
      "43 13\n",
      "44 14\n",
      "41 7\n",
      "40 4\n",
      "40 0\n"
     ]
    },
    {
     "name": "stderr",
     "output_type": "stream",
     "text": [
      " 20%|█████████████████████████████▉                                                                                                                          | 57/290 [08:27<34:29,  8.88s/it]"
     ]
    },
    {
     "name": "stdout",
     "output_type": "stream",
     "text": [
      "40 0\n",
      "ADNI_014_S_4079_20111215\n",
      "353 341\n",
      "236 223\n",
      "155 133\n",
      "135 96\n",
      "133 78\n",
      "153 73\n",
      "279 266\n",
      "232 208\n",
      "206 158\n",
      "206 113\n",
      "192 105\n",
      "115 54\n",
      "47 29\n",
      "31 11\n",
      "31 7\n",
      "32 3\n",
      "33 0\n"
     ]
    },
    {
     "name": "stderr",
     "output_type": "stream",
     "text": [
      " 20%|██████████████████████████████▍                                                                                                                         | 58/290 [08:36<33:29,  8.66s/it]"
     ]
    },
    {
     "name": "stdout",
     "output_type": "stream",
     "text": [
      "31 0\n",
      "ADNI_014_S_4263_20111006\n",
      "681 650\n",
      "518 484\n",
      "331 292\n",
      "241 188\n",
      "205 148\n",
      "184 120\n",
      "612 580\n",
      "488 446\n",
      "356 303\n",
      "257 197\n",
      "213 158\n",
      "120 88\n",
      "56 18\n",
      "51 13\n",
      "48 8\n",
      "44 3\n",
      "42 0\n"
     ]
    },
    {
     "name": "stderr",
     "output_type": "stream",
     "text": [
      " 20%|██████████████████████████████▉                                                                                                                         | 59/290 [08:48<37:56,  9.86s/it]"
     ]
    },
    {
     "name": "stdout",
     "output_type": "stream",
     "text": [
      "39 0\n",
      "ADNI_014_S_4328_20111107\n",
      "359 350\n",
      "251 240\n",
      "184 172\n",
      "126 113\n",
      "73 58\n",
      "60 45\n",
      "300 289\n",
      "230 218\n",
      "183 170\n",
      "131 117\n",
      "112 98\n",
      "61 44\n",
      "23 11\n",
      "23 11\n",
      "18 6\n",
      "14 2\n"
     ]
    },
    {
     "name": "stderr",
     "output_type": "stream",
     "text": [
      " 21%|███████████████████████████████▍                                                                                                                        | 60/290 [08:55<33:45,  8.81s/it]"
     ]
    },
    {
     "name": "stdout",
     "output_type": "stream",
     "text": [
      "13 0\n",
      "12 0\n",
      "ADNI_014_S_4401_20111202\n",
      "520 510\n",
      "247 235\n",
      "136 122\n",
      "106 84\n",
      "77 52\n",
      "73 41\n",
      "385 372\n",
      "223 207\n",
      "151 128\n",
      "109 86\n",
      "102 81\n",
      "55 32\n",
      "27 12\n",
      "24 8\n",
      "20 4\n"
     ]
    },
    {
     "name": "stderr",
     "output_type": "stream",
     "text": [
      " 21%|███████████████████████████████▉                                                                                                                        | 61/290 [09:01<31:14,  8.18s/it]"
     ]
    },
    {
     "name": "stdout",
     "output_type": "stream",
     "text": [
      "17 1\n",
      "17 0\n",
      "18 0\n",
      "ADNI_014_S_4576_20120920\n",
      "337 324\n",
      "210 197\n",
      "140 125\n",
      "98 78\n",
      "81 55\n",
      "75 47\n",
      "276 262\n",
      "193 173\n",
      "143 119\n",
      "101 73\n",
      "78 51\n",
      "63 39\n",
      "33 15\n",
      "26 8\n",
      "23 4\n"
     ]
    },
    {
     "name": "stderr",
     "output_type": "stream",
     "text": [
      " 21%|████████████████████████████████▍                                                                                                                       | 62/290 [09:07<28:33,  7.51s/it]"
     ]
    },
    {
     "name": "stdout",
     "output_type": "stream",
     "text": [
      "24 3\n",
      "23 0\n",
      "19 0\n",
      "ADNI_018_S_2155_20101202\n",
      "344 330\n",
      "227 209\n",
      "137 111\n",
      "143 103\n",
      "158 104\n",
      "166 93\n",
      "260 243\n",
      "218 184\n",
      "164 124\n",
      "187 117\n",
      "152 96\n",
      "98 59\n",
      "53 26\n",
      "45 15\n",
      "46 10\n",
      "45 5\n",
      "43 0\n"
     ]
    },
    {
     "name": "stderr",
     "output_type": "stream",
     "text": [
      " 22%|█████████████████████████████████                                                                                                                       | 63/290 [09:15<28:50,  7.62s/it]"
     ]
    },
    {
     "name": "stdout",
     "output_type": "stream",
     "text": [
      "45 0\n",
      "ADNI_018_S_2180_20101209\n",
      "401 393\n",
      "247 239\n",
      "112 102\n",
      "76 65\n",
      "62 51\n",
      "54 41\n",
      "331 323\n",
      "233 225\n",
      "126 114\n",
      "71 59\n",
      "58 49\n",
      "34 27\n",
      "29 20\n",
      "18 9\n",
      "16 7\n"
     ]
    },
    {
     "name": "stderr",
     "output_type": "stream",
     "text": [
      " 22%|█████████████████████████████████▌                                                                                                                      | 64/290 [09:21<26:38,  7.07s/it]"
     ]
    },
    {
     "name": "stdout",
     "output_type": "stream",
     "text": [
      "10 0\n",
      "10 0\n",
      "9 0\n",
      "ADNI_018_S_4313_20111128\n",
      "321 307\n",
      "220 201\n",
      "116 87\n",
      "130 76\n",
      "147 70\n",
      "179 74\n",
      "270 251\n",
      "246 210\n",
      "218 158\n",
      "232 110\n",
      "235 124\n",
      "121 60\n",
      "37 12\n",
      "34 8\n",
      "34 6\n",
      "32 2\n",
      "35 0\n"
     ]
    },
    {
     "name": "stderr",
     "output_type": "stream",
     "text": [
      " 22%|██████████████████████████████████                                                                                                                      | 65/290 [09:28<26:58,  7.19s/it]"
     ]
    },
    {
     "name": "stdout",
     "output_type": "stream",
     "text": [
      "31 0\n",
      "ADNI_018_S_4349_20111115\n",
      "380 338\n",
      "306 257\n",
      "243 164\n",
      "293 166\n",
      "331 169\n",
      "410 188\n",
      "352 300\n",
      "359 268\n",
      "374 228\n",
      "448 226\n",
      "395 204\n",
      "244 128\n",
      "82 26\n",
      "86 24\n",
      "79 15\n",
      "74 7\n",
      "70 0\n"
     ]
    },
    {
     "name": "stderr",
     "output_type": "stream",
     "text": [
      " 23%|██████████████████████████████████▌                                                                                                                     | 66/290 [09:41<32:40,  8.75s/it]"
     ]
    },
    {
     "name": "stdout",
     "output_type": "stream",
     "text": [
      "71 0\n",
      "ADNI_018_S_4399_20111215\n",
      "348 335\n",
      "213 198\n",
      "100 81\n",
      "93 65\n",
      "93 60\n",
      "106 59\n",
      "308 293\n",
      "209 192\n",
      "163 131\n",
      "122 77\n",
      "103 58\n",
      "87 43\n",
      "28 10\n",
      "23 4\n",
      "24 3\n",
      "24 1\n",
      "25 0\n"
     ]
    },
    {
     "name": "stderr",
     "output_type": "stream",
     "text": [
      " 23%|███████████████████████████████████                                                                                                                     | 67/290 [09:47<30:06,  8.10s/it]"
     ]
    },
    {
     "name": "stdout",
     "output_type": "stream",
     "text": [
      "29 0\n",
      "ADNI_018_S_4400_20111220\n",
      "337 314\n",
      "215 192\n",
      "156 127\n",
      "128 92\n",
      "120 82\n",
      "110 71\n",
      "280 255\n",
      "206 178\n",
      "168 133\n",
      "132 96\n",
      "114 80\n",
      "90 60\n",
      "53 24\n",
      "44 15\n",
      "40 9\n",
      "38 6\n",
      "34 0\n"
     ]
    },
    {
     "name": "stderr",
     "output_type": "stream",
     "text": [
      " 23%|███████████████████████████████████▋                                                                                                                    | 68/290 [09:55<29:02,  7.85s/it]"
     ]
    },
    {
     "name": "stdout",
     "output_type": "stream",
     "text": [
      "34 0\n",
      "ADNI_018_S_4809_20121005\n",
      "594 575\n",
      "482 461\n",
      "370 341\n",
      "325 268\n",
      "313 225\n",
      "345 200\n",
      "539 516\n",
      "477 442\n",
      "528 441\n",
      "494 354\n",
      "408 300\n",
      "254 188\n",
      "69 39\n",
      "60 23\n",
      "56 15\n",
      "52 4\n"
     ]
    },
    {
     "name": "stderr",
     "output_type": "stream",
     "text": [
      " 24%|████████████████████████████████████▏                                                                                                                   | 69/290 [10:10<37:48, 10.26s/it]"
     ]
    },
    {
     "name": "stdout",
     "output_type": "stream",
     "text": [
      "58 0\n",
      "51 0\n",
      "ADNI_018_S_4868_20121114\n",
      "422 410\n",
      "248 233\n",
      "175 149\n",
      "130 99\n",
      "99 68\n",
      "114 70\n",
      "313 298\n",
      "236 209\n",
      "192 163\n",
      "155 108\n",
      "121 78\n",
      "94 43\n",
      "31 10\n",
      "31 9\n",
      "25 3\n",
      "23 0\n"
     ]
    },
    {
     "name": "stderr",
     "output_type": "stream",
     "text": [
      " 24%|████████████████████████████████████▋                                                                                                                   | 70/290 [10:18<34:38,  9.45s/it]"
     ]
    },
    {
     "name": "stdout",
     "output_type": "stream",
     "text": [
      "24 0\n",
      "23 0\n",
      "ADNI_018_S_4889_20121114\n",
      "530 489\n",
      "473 419\n",
      "360 288\n",
      "308 222\n",
      "298 198\n",
      "273 162\n",
      "524 470\n",
      "469 398\n",
      "422 328\n",
      "324 217\n",
      "258 170\n",
      "153 92\n",
      "94 35\n",
      "81 21\n",
      "76 14\n",
      "71 6\n",
      "66 0\n"
     ]
    },
    {
     "name": "stderr",
     "output_type": "stream",
     "text": [
      " 24%|█████████████████████████████████████▏                                                                                                                  | 71/290 [10:31<38:40, 10.59s/it]"
     ]
    },
    {
     "name": "stdout",
     "output_type": "stream",
     "text": [
      "64 0\n",
      "ADNI_019_S_4252_20111214\n",
      "319 298\n",
      "200 176\n",
      "146 116\n",
      "142 85\n",
      "165 86\n",
      "194 86\n",
      "253 228\n",
      "177 142\n",
      "181 120\n",
      "242 119\n",
      "230 109\n",
      "118 56\n",
      "33 8\n",
      "29 4\n",
      "30 5\n",
      "29 4\n",
      "25 0\n"
     ]
    },
    {
     "name": "stderr",
     "output_type": "stream",
     "text": [
      " 25%|█████████████████████████████████████▋                                                                                                                  | 72/290 [10:39<35:36,  9.80s/it]"
     ]
    },
    {
     "name": "stdout",
     "output_type": "stream",
     "text": [
      "25 0\n",
      "ADNI_019_S_4285_20111013\n",
      "486 445\n",
      "393 332\n",
      "289 201\n",
      "346 183\n",
      "416 191\n",
      "532 234\n",
      "425 363\n",
      "413 313\n",
      "587 353\n",
      "596 292\n",
      "344 160\n",
      "154 79\n",
      "96 30\n",
      "97 26\n",
      "92 17\n",
      "88 11\n",
      "78 0\n"
     ]
    },
    {
     "name": "stderr",
     "output_type": "stream",
     "text": [
      " 25%|██████████████████████████████████████▎                                                                                                                 | 73/290 [10:56<42:44, 11.82s/it]"
     ]
    },
    {
     "name": "stdout",
     "output_type": "stream",
     "text": [
      "76 0\n",
      "ADNI_019_S_4293_20111020\n",
      "367 348\n",
      "254 233\n",
      "172 143\n",
      "159 109\n",
      "124 71\n",
      "129 66\n",
      "301 280\n",
      "253 225\n",
      "205 154\n",
      "175 118\n",
      "140 79\n",
      "109 59\n",
      "47 17\n",
      "41 9\n",
      "42 9\n",
      "37 3\n",
      "37 0\n"
     ]
    },
    {
     "name": "stderr",
     "output_type": "stream",
     "text": [
      " 26%|██████████████████████████████████████▊                                                                                                                 | 74/290 [11:04<38:30, 10.70s/it]"
     ]
    },
    {
     "name": "stdout",
     "output_type": "stream",
     "text": [
      "38 0\n",
      "ADNI_019_S_4367_20111130\n",
      "319 308\n",
      "204 190\n",
      "132 107\n",
      "142 94\n",
      "151 90\n",
      "172 95\n",
      "276 261\n",
      "194 171\n",
      "195 136\n",
      "202 122\n",
      "188 111\n",
      "147 76\n",
      "45 26\n",
      "41 20\n",
      "36 13\n",
      "32 6\n",
      "29 0\n"
     ]
    },
    {
     "name": "stderr",
     "output_type": "stream",
     "text": [
      " 26%|███████████████████████████████████████▎                                                                                                                | 75/290 [11:11<34:27,  9.61s/it]"
     ]
    },
    {
     "name": "stdout",
     "output_type": "stream",
     "text": [
      "28 0\n",
      "ADNI_019_S_4477_20120807\n",
      "294 280\n",
      "234 218\n",
      "207 188\n",
      "177 156\n",
      "157 135\n",
      "123 100\n",
      "292 276\n",
      "237 219\n",
      "225 204\n",
      "193 169\n",
      "189 158\n",
      "159 112\n",
      "50 23\n",
      "46 17\n",
      "44 12\n",
      "45 8\n",
      "39 0\n"
     ]
    },
    {
     "name": "stderr",
     "output_type": "stream",
     "text": [
      " 26%|███████████████████████████████████████▊                                                                                                                | 76/290 [11:19<32:10,  9.02s/it]"
     ]
    },
    {
     "name": "stdout",
     "output_type": "stream",
     "text": [
      "35 0\n",
      "ADNI_019_S_4680_20121029\n",
      "270 252\n",
      "185 166\n",
      "130 101\n",
      "107 57\n",
      "105 52\n",
      "108 50\n",
      "230 210\n",
      "186 160\n",
      "141 96\n",
      "122 63\n",
      "111 60\n",
      "80 48\n",
      "29 8\n",
      "24 2\n",
      "24 2\n",
      "23 0\n"
     ]
    },
    {
     "name": "stderr",
     "output_type": "stream",
     "text": [
      " 27%|████████████████████████████████████████▎                                                                                                               | 77/290 [11:24<28:18,  7.97s/it]"
     ]
    },
    {
     "name": "stdout",
     "output_type": "stream",
     "text": [
      "23 0\n",
      "24 0\n",
      "ADNI_019_S_4835_20121008\n",
      "431 421\n",
      "263 248\n",
      "155 138\n",
      "124 101\n",
      "111 82\n",
      "105 68\n",
      "346 332\n",
      "235 218\n",
      "156 132\n",
      "152 106\n",
      "144 85\n",
      "108 66\n",
      "38 18\n",
      "34 11\n",
      "30 6\n",
      "30 5\n",
      "30 0\n"
     ]
    },
    {
     "name": "stderr",
     "output_type": "stream",
     "text": [
      " 27%|████████████████████████████████████████▉                                                                                                               | 78/290 [11:31<27:12,  7.70s/it]"
     ]
    },
    {
     "name": "stdout",
     "output_type": "stream",
     "text": [
      "31 0\n",
      "ADNI_022_S_2167_20101102\n",
      "624 616\n",
      "347 334\n",
      "191 171\n",
      "171 120\n",
      "173 108\n",
      "211 110\n",
      "495 483\n",
      "319 294\n",
      "272 210\n",
      "275 162\n",
      "249 124\n",
      "159 79\n",
      "41 28\n",
      "36 22\n",
      "32 14\n"
     ]
    },
    {
     "name": "stderr",
     "output_type": "stream",
     "text": [
      " 27%|█████████████████████████████████████████▍                                                                                                              | 79/290 [11:41<29:28,  8.38s/it]"
     ]
    },
    {
     "name": "stdout",
     "output_type": "stream",
     "text": [
      "27 6\n",
      "25 0\n",
      "18 0\n",
      "ADNI_022_S_2263_20110823\n",
      "426 405\n",
      "289 263\n",
      "174 125\n",
      "204 123\n",
      "213 109\n",
      "271 130\n",
      "352 325\n",
      "293 243\n",
      "294 200\n",
      "223 122\n",
      "194 106\n",
      "105 56\n",
      "47 22\n",
      "44 16\n",
      "45 13\n",
      "40 6\n",
      "37 0\n"
     ]
    },
    {
     "name": "stderr",
     "output_type": "stream",
     "text": [
      " 28%|█████████████████████████████████████████▉                                                                                                              | 80/290 [11:50<30:00,  8.57s/it]"
     ]
    },
    {
     "name": "stdout",
     "output_type": "stream",
     "text": [
      "38 0\n",
      "ADNI_022_S_4173_20110913\n",
      "251 236\n",
      "157 139\n",
      "118 91\n",
      "131 88\n",
      "139 79\n",
      "140 72\n",
      "208 190\n",
      "168 135\n",
      "160 114\n",
      "148 97\n",
      "107 67\n",
      "71 47\n",
      "32 16\n",
      "26 9\n",
      "20 3\n",
      "18 1\n"
     ]
    },
    {
     "name": "stderr",
     "output_type": "stream",
     "text": [
      " 28%|██████████████████████████████████████████▍                                                                                                             | 81/290 [11:56<26:43,  7.67s/it]"
     ]
    },
    {
     "name": "stdout",
     "output_type": "stream",
     "text": [
      "18 0\n",
      "20 0\n",
      "ADNI_022_S_4291_20111122\n",
      "350 339\n",
      "238 226\n",
      "158 138\n",
      "147 94\n",
      "154 79\n",
      "153 63\n",
      "284 270\n",
      "234 210\n",
      "201 143\n",
      "201 118\n",
      "176 98\n",
      "73 38\n",
      "23 11\n",
      "18 6\n",
      "15 2\n",
      "15 1\n",
      "16 0\n"
     ]
    },
    {
     "name": "stderr",
     "output_type": "stream",
     "text": [
      " 28%|██████████████████████████████████████████▉                                                                                                             | 82/290 [12:03<25:48,  7.45s/it]"
     ]
    },
    {
     "name": "stdout",
     "output_type": "stream",
     "text": [
      "13 0\n",
      "ADNI_022_S_4320_20111109\n",
      "371 353\n",
      "238 218\n",
      "167 143\n",
      "137 92\n",
      "126 75\n",
      "127 62\n",
      "292 272\n",
      "215 190\n",
      "186 134\n",
      "165 104\n",
      "121 79\n",
      "71 39\n",
      "33 14\n",
      "29 7\n",
      "28 6\n",
      "24 2\n"
     ]
    },
    {
     "name": "stderr",
     "output_type": "stream",
     "text": [
      " 29%|███████████████████████████████████████████▌                                                                                                            | 83/290 [12:09<24:54,  7.22s/it]"
     ]
    },
    {
     "name": "stdout",
     "output_type": "stream",
     "text": [
      "23 0\n",
      "23 0\n",
      "ADNI_022_S_4444_20120822\n",
      "300 292\n",
      "182 166\n",
      "134 97\n",
      "134 76\n",
      "139 71\n",
      "146 67\n",
      "249 229\n",
      "202 155\n",
      "199 128\n",
      "168 87\n",
      "154 83\n",
      "76 34\n",
      "23 10\n",
      "18 3\n",
      "18 3\n",
      "21 3\n",
      "18 0\n"
     ]
    },
    {
     "name": "stderr",
     "output_type": "stream",
     "text": [
      " 29%|████████████████████████████████████████████                                                                                                            | 84/290 [12:16<23:46,  6.92s/it]"
     ]
    },
    {
     "name": "stdout",
     "output_type": "stream",
     "text": [
      "18 0\n",
      "ADNI_023_S_2068_20101201\n",
      "387 377\n",
      "293 277\n",
      "169 137\n",
      "144 85\n",
      "147 73\n",
      "173 73\n",
      "312 299\n",
      "297 265\n",
      "267 207\n",
      "182 99\n",
      "164 86\n",
      "94 55\n",
      "27 9\n",
      "23 5\n",
      "26 4\n",
      "24 0\n",
      "24 0\n"
     ]
    },
    {
     "name": "stderr",
     "output_type": "stream",
     "text": [
      " 29%|████████████████████████████████████████████▌                                                                                                           | 85/290 [12:23<24:28,  7.16s/it]"
     ]
    },
    {
     "name": "stdout",
     "output_type": "stream",
     "text": [
      "22 0\n",
      "ADNI_023_S_4020_20110803\n",
      "454 424\n",
      "301 257\n",
      "232 169\n",
      "227 135\n",
      "220 107\n",
      "243 113\n",
      "373 326\n",
      "331 256\n",
      "287 182\n",
      "231 144\n",
      "166 95\n",
      "105 50\n",
      "71 23\n",
      "64 16\n",
      "60 10\n",
      "59 5\n"
     ]
    },
    {
     "name": "stderr",
     "output_type": "stream",
     "text": [
      " 30%|█████████████████████████████████████████████                                                                                                           | 86/290 [12:33<26:52,  7.91s/it]"
     ]
    },
    {
     "name": "stdout",
     "output_type": "stream",
     "text": [
      "58 0\n",
      "57 0\n",
      "ADNI_023_S_4035_20110728\n",
      "584 561\n",
      "450 414\n",
      "312 248\n",
      "342 199\n",
      "407 196\n",
      "511 209\n",
      "588 546\n",
      "508 411\n",
      "559 351\n",
      "550 283\n",
      "372 181\n",
      "154 79\n",
      "64 20\n",
      "62 15\n",
      "63 13\n",
      "60 7\n",
      "55 0\n"
     ]
    },
    {
     "name": "stderr",
     "output_type": "stream",
     "text": [
      " 30%|█████████████████████████████████████████████▌                                                                                                          | 87/290 [12:48<34:09, 10.10s/it]"
     ]
    },
    {
     "name": "stdout",
     "output_type": "stream",
     "text": [
      "50 0\n",
      "ADNI_023_S_4115_20111129\n",
      "277 267\n",
      "185 164\n",
      "129 100\n",
      "122 74\n",
      "130 66\n",
      "142 68\n",
      "224 205\n",
      "176 146\n",
      "147 99\n",
      "167 91\n",
      "163 82\n",
      "99 56\n",
      "50 22\n",
      "46 15\n",
      "40 7\n",
      "42 3\n",
      "44 0\n"
     ]
    },
    {
     "name": "stderr",
     "output_type": "stream",
     "text": [
      " 30%|██████████████████████████████████████████████                                                                                                          | 88/290 [12:54<30:10,  8.96s/it]"
     ]
    },
    {
     "name": "stdout",
     "output_type": "stream",
     "text": [
      "45 0\n",
      "ADNI_023_S_4164_20110830\n",
      "614 598\n",
      "415 395\n",
      "226 202\n",
      "196 160\n",
      "165 117\n",
      "153 100\n",
      "501 481\n",
      "393 369\n",
      "294 253\n",
      "203 149\n",
      "151 104\n",
      "88 56\n",
      "41 22\n",
      "33 13\n",
      "29 9\n"
     ]
    },
    {
     "name": "stderr",
     "output_type": "stream",
     "text": [
      " 31%|██████████████████████████████████████████████▋                                                                                                         | 89/290 [13:04<30:48,  9.20s/it]"
     ]
    },
    {
     "name": "stdout",
     "output_type": "stream",
     "text": [
      "26 6\n",
      "22 0\n",
      "19 0\n",
      "ADNI_023_S_4243_20111109\n",
      "587 569\n",
      "376 345\n",
      "282 227\n",
      "350 217\n",
      "372 176\n",
      "489 197\n",
      "478 441\n",
      "405 336\n",
      "481 300\n",
      "572 316\n",
      "405 236\n",
      "171 97\n",
      "51 18\n",
      "56 16\n",
      "50 6\n",
      "51 4\n",
      "54 0\n"
     ]
    },
    {
     "name": "stderr",
     "output_type": "stream",
     "text": [
      " 31%|███████████████████████████████████████████████▏                                                                                                        | 90/290 [13:18<35:37, 10.69s/it]"
     ]
    },
    {
     "name": "stdout",
     "output_type": "stream",
     "text": [
      "52 0\n",
      "ADNI_023_S_4448_20120816\n",
      "316 302\n",
      "228 213\n",
      "139 119\n",
      "99 76\n",
      "78 56\n",
      "79 56\n",
      "267 252\n",
      "207 190\n",
      "175 154\n",
      "105 82\n",
      "77 56\n",
      "66 48\n",
      "32 15\n",
      "26 7\n",
      "25 6\n",
      "22 3\n"
     ]
    },
    {
     "name": "stderr",
     "output_type": "stream",
     "text": [
      " 31%|███████████████████████████████████████████████▋                                                                                                        | 91/290 [13:24<30:26,  9.18s/it]"
     ]
    },
    {
     "name": "stdout",
     "output_type": "stream",
     "text": [
      "19 0\n",
      "21 0\n",
      "ADNI_023_S_4501_20121101\n",
      "384 372\n",
      "242 228\n",
      "161 140\n",
      "140 99\n",
      "145 91\n",
      "154 78\n",
      "310 295\n",
      "228 202\n",
      "212 155\n",
      "182 109\n",
      "146 91\n",
      "79 45\n",
      "28 11\n",
      "24 6\n",
      "20 2\n",
      "22 2\n"
     ]
    },
    {
     "name": "stderr",
     "output_type": "stream",
     "text": [
      " 32%|████████████████████████████████████████████████▏                                                                                                       | 92/290 [13:31<28:12,  8.55s/it]"
     ]
    },
    {
     "name": "stdout",
     "output_type": "stream",
     "text": [
      "22 0\n",
      "21 0\n",
      "ADNI_023_S_4502_20121025\n",
      "348 339\n",
      "253 237\n",
      "133 112\n",
      "103 74\n",
      "106 69\n",
      "111 59\n",
      "316 300\n",
      "268 243\n",
      "197 168\n",
      "140 97\n",
      "109 63\n",
      "68 34\n",
      "34 10\n",
      "35 8\n",
      "32 3\n",
      "31 1\n",
      "31 0\n"
     ]
    },
    {
     "name": "stderr",
     "output_type": "stream",
     "text": [
      " 32%|████████████████████████████████████████████████▋                                                                                                       | 93/290 [13:38<26:08,  7.96s/it]"
     ]
    },
    {
     "name": "stdout",
     "output_type": "stream",
     "text": [
      "33 0\n",
      "ADNI_023_S_4796_20121120\n",
      "407 391\n",
      "307 276\n",
      "275 188\n",
      "365 205\n",
      "393 190\n",
      "470 196\n",
      "396 361\n",
      "410 292\n",
      "485 286\n",
      "480 260\n",
      "356 201\n",
      "188 112\n",
      "42 20\n",
      "39 14\n",
      "35 9\n",
      "34 6\n",
      "30 0\n"
     ]
    },
    {
     "name": "stderr",
     "output_type": "stream",
     "text": [
      " 32%|█████████████████████████████████████████████████▎                                                                                                      | 94/290 [13:50<30:40,  9.39s/it]"
     ]
    },
    {
     "name": "stdout",
     "output_type": "stream",
     "text": [
      "32 0\n",
      "ADNI_024_S_4084_20110916\n",
      "287 275\n",
      "197 182\n",
      "147 123\n",
      "134 89\n",
      "141 82\n",
      "137 62\n",
      "223 209\n",
      "183 156\n",
      "176 128\n",
      "178 99\n",
      "156 81\n",
      "100 51\n",
      "32 15\n",
      "26 6\n",
      "27 5\n",
      "28 2\n",
      "34 0\n"
     ]
    },
    {
     "name": "stderr",
     "output_type": "stream",
     "text": [
      " 33%|█████████████████████████████████████████████████▊                                                                                                      | 95/290 [13:57<27:33,  8.48s/it]"
     ]
    },
    {
     "name": "stdout",
     "output_type": "stream",
     "text": [
      "30 0\n",
      "ADNI_024_S_4158_20111111\n",
      "321 310\n",
      "223 212\n",
      "154 138\n",
      "141 120\n",
      "128 101\n",
      "93 60\n",
      "273 261\n",
      "209 192\n",
      "174 154\n",
      "146 115\n",
      "139 104\n",
      "88 57\n",
      "25 13\n",
      "26 13\n",
      "23 9\n",
      "19 5\n",
      "14 0\n"
     ]
    },
    {
     "name": "stderr",
     "output_type": "stream",
     "text": [
      " 33%|██████████████████████████████████████████████████▎                                                                                                     | 96/290 [14:03<25:14,  7.81s/it]"
     ]
    },
    {
     "name": "stdout",
     "output_type": "stream",
     "text": [
      "13 0\n",
      "ADNI_024_S_4169_20111128\n",
      "333 318\n",
      "221 195\n",
      "157 123\n",
      "153 87\n",
      "152 79\n",
      "160 73\n",
      "267 242\n",
      "219 176\n",
      "198 129\n",
      "174 98\n",
      "123 74\n",
      "66 38\n",
      "45 21\n",
      "38 14\n",
      "35 11\n"
     ]
    },
    {
     "name": "stderr",
     "output_type": "stream",
     "text": [
      " 33%|██████████████████████████████████████████████████▊                                                                                                     | 97/290 [14:10<24:08,  7.51s/it]"
     ]
    },
    {
     "name": "stdout",
     "output_type": "stream",
     "text": [
      "34 8\n",
      "27 0\n",
      "26 0\n",
      "ADNI_024_S_4392_20120709\n",
      "403 393\n",
      "279 252\n",
      "225 142\n",
      "407 171\n",
      "511 190\n",
      "652 239\n",
      "349 316\n",
      "449 305\n",
      "624 356\n",
      "625 299\n",
      "391 200\n",
      "163 77\n",
      "26 11\n",
      "21 5\n",
      "19 2\n",
      "19 1\n",
      "20 0\n"
     ]
    },
    {
     "name": "stderr",
     "output_type": "stream",
     "text": [
      " 34%|███████████████████████████████████████████████████▎                                                                                                    | 98/290 [14:24<30:11,  9.44s/it]"
     ]
    },
    {
     "name": "stdout",
     "output_type": "stream",
     "text": [
      "21 0\n",
      "ADNI_024_S_4674_20121119\n",
      "287 238\n",
      "222 163\n",
      "214 122\n",
      "266 117\n",
      "288 121\n",
      "316 137\n",
      "254 196\n",
      "246 155\n",
      "283 138\n",
      "294 132\n",
      "254 100\n",
      "161 81\n",
      "71 15\n",
      "69 10\n",
      "70 9\n",
      "65 3\n"
     ]
    },
    {
     "name": "stderr",
     "output_type": "stream",
     "text": [
      " 34%|███████████████████████████████████████████████████▉                                                                                                    | 99/290 [14:33<30:08,  9.47s/it]"
     ]
    },
    {
     "name": "stdout",
     "output_type": "stream",
     "text": [
      "65 0\n",
      "56 0\n",
      "ADNI_031_S_2018_20100923\n",
      "499 477\n",
      "348 320\n",
      "223 179\n",
      "282 164\n",
      "324 146\n",
      "391 162\n",
      "429 400\n",
      "414 339\n",
      "433 274\n",
      "461 242\n",
      "336 194\n",
      "151 111\n",
      "48 13\n",
      "50 12\n",
      "47 6\n",
      "50 4\n",
      "49 0\n"
     ]
    },
    {
     "name": "stderr",
     "output_type": "stream",
     "text": [
      " 34%|████████████████████████████████████████████████████                                                                                                   | 100/290 [14:46<32:43, 10.33s/it]"
     ]
    },
    {
     "name": "stdout",
     "output_type": "stream",
     "text": [
      "47 0\n",
      "ADNI_031_S_2022_20101012\n",
      "369 352\n",
      "210 189\n",
      "127 105\n",
      "102 78\n",
      "85 58\n",
      "75 46\n",
      "281 260\n",
      "191 170\n",
      "137 112\n",
      "115 88\n",
      "92 62\n",
      "67 38\n",
      "37 11\n",
      "33 7\n",
      "30 3\n",
      "32 3\n",
      "30 0\n"
     ]
    },
    {
     "name": "stderr",
     "output_type": "stream",
     "text": [
      " 35%|████████████████████████████████████████████████████▌                                                                                                  | 101/290 [14:51<28:16,  8.98s/it]"
     ]
    },
    {
     "name": "stdout",
     "output_type": "stream",
     "text": [
      "28 0\n",
      "ADNI_031_S_2233_20101215\n",
      "373 341\n",
      "282 243\n",
      "188 143\n",
      "212 128\n",
      "200 109\n",
      "215 103\n",
      "360 323\n",
      "294 242\n",
      "284 199\n",
      "229 134\n",
      "182 102\n",
      "104 58\n",
      "71 24\n",
      "64 14\n",
      "61 9\n",
      "60 6\n"
     ]
    },
    {
     "name": "stderr",
     "output_type": "stream",
     "text": [
      " 35%|█████████████████████████████████████████████████████                                                                                                  | 102/290 [15:00<28:10,  8.99s/it]"
     ]
    },
    {
     "name": "stdout",
     "output_type": "stream",
     "text": [
      "57 0\n",
      "54 0\n",
      "ADNI_031_S_4021_20111020\n",
      "486 466\n",
      "283 257\n",
      "152 126\n",
      "134 104\n",
      "104 71\n",
      "94 57\n",
      "365 342\n",
      "237 211\n",
      "179 145\n",
      "139 104\n",
      "119 83\n",
      "70 38\n",
      "52 22\n",
      "43 12\n",
      "40 6\n",
      "36 2\n",
      "36 0\n"
     ]
    },
    {
     "name": "stderr",
     "output_type": "stream",
     "text": [
      " 36%|█████████████████████████████████████████████████████▋                                                                                                 | 103/290 [15:08<26:24,  8.47s/it]"
     ]
    },
    {
     "name": "stdout",
     "output_type": "stream",
     "text": [
      "36 0\n",
      "ADNI_031_S_4032_20111205\n",
      "279 266\n",
      "176 161\n",
      "100 80\n",
      "89 64\n",
      "91 63\n",
      "94 56\n",
      "239 224\n",
      "167 149\n",
      "113 86\n",
      "111 77\n",
      "106 70\n",
      "74 43\n",
      "39 12\n",
      "35 8\n",
      "37 10\n"
     ]
    },
    {
     "name": "stderr",
     "output_type": "stream",
     "text": [
      " 36%|██████████████████████████████████████████████████████▏                                                                                                | 104/290 [15:13<23:17,  7.51s/it]"
     ]
    },
    {
     "name": "stdout",
     "output_type": "stream",
     "text": [
      "30 3\n",
      "27 0\n",
      "24 0\n",
      "ADNI_031_S_4149_20111103\n",
      "439 411\n",
      "293 258\n",
      "240 181\n",
      "295 188\n",
      "319 161\n",
      "391 169\n",
      "374 337\n",
      "342 273\n",
      "427 262\n",
      "454 230\n",
      "326 190\n",
      "130 76\n",
      "54 15\n",
      "56 13\n",
      "51 8\n",
      "52 6\n",
      "46 0\n"
     ]
    },
    {
     "name": "stderr",
     "output_type": "stream",
     "text": [
      " 36%|██████████████████████████████████████████████████████▋                                                                                                | 105/290 [15:25<27:01,  8.77s/it]"
     ]
    },
    {
     "name": "stdout",
     "output_type": "stream",
     "text": [
      "44 0\n",
      "ADNI_031_S_4194_20111201\n",
      "274 267\n",
      "149 141\n",
      "102 93\n",
      "74 61\n",
      "73 53\n",
      "72 48\n",
      "211 203\n",
      "140 131\n",
      "100 83\n",
      "86 64\n",
      "73 49\n",
      "46 36\n",
      "31 20\n",
      "24 11\n",
      "20 7\n"
     ]
    },
    {
     "name": "stderr",
     "output_type": "stream",
     "text": [
      " 37%|███████████████████████████████████████████████████████▏                                                                                               | 106/290 [15:29<22:57,  7.49s/it]"
     ]
    },
    {
     "name": "stdout",
     "output_type": "stream",
     "text": [
      "19 4\n",
      "15 0\n",
      "14 0\n",
      "ADNI_031_S_4203_20111205\n",
      "295 290\n",
      "244 238\n",
      "194 188\n",
      "170 164\n",
      "145 138\n",
      "113 106\n",
      "278 272\n",
      "244 238\n",
      "217 210\n",
      "155 148\n",
      "149 142\n",
      "95 87\n",
      "30 23\n",
      "18 10\n"
     ]
    },
    {
     "name": "stderr",
     "output_type": "stream",
     "text": [
      " 37%|███████████████████████████████████████████████████████▋                                                                                               | 107/290 [15:36<22:08,  7.26s/it]"
     ]
    },
    {
     "name": "stdout",
     "output_type": "stream",
     "text": [
      "14 5\n",
      "11 2\n",
      "10 0\n",
      "9 0\n",
      "ADNI_031_S_4218_20111208\n",
      "557 540\n",
      "407 382\n",
      "248 216\n",
      "188 150\n",
      "173 125\n",
      "166 103\n",
      "486 459\n",
      "390 360\n",
      "284 245\n",
      "223 155\n",
      "190 129\n",
      "137 87\n",
      "47 23\n",
      "40 15\n",
      "33 7\n",
      "32 4\n",
      "30 0\n"
     ]
    },
    {
     "name": "stderr",
     "output_type": "stream",
     "text": [
      " 37%|████████████████████████████████████████████████████████▏                                                                                              | 108/290 [15:46<24:27,  8.06s/it]"
     ]
    },
    {
     "name": "stdout",
     "output_type": "stream",
     "text": [
      "32 0\n",
      "ADNI_031_S_4476_20120817\n",
      "391 372\n",
      "283 253\n",
      "240 182\n",
      "276 165\n",
      "288 132\n",
      "355 145\n",
      "369 340\n",
      "326 246\n",
      "403 251\n",
      "388 210\n",
      "316 172\n",
      "181 98\n",
      "47 20\n",
      "43 15\n",
      "37 9\n",
      "31 2\n",
      "31 0\n"
     ]
    },
    {
     "name": "stderr",
     "output_type": "stream",
     "text": [
      " 38%|████████████████████████████████████████████████████████▊                                                                                              | 109/290 [15:57<26:56,  8.93s/it]"
     ]
    },
    {
     "name": "stdout",
     "output_type": "stream",
     "text": [
      "31 0\n",
      "ADNI_031_S_4496_20120820\n",
      "248 233\n",
      "182 165\n",
      "107 88\n",
      "78 56\n",
      "73 48\n",
      "65 39\n",
      "211 194\n",
      "154 135\n",
      "110 87\n",
      "80 54\n",
      "75 52\n",
      "62 45\n",
      "30 13\n",
      "27 8\n",
      "24 4\n"
     ]
    },
    {
     "name": "stderr",
     "output_type": "stream",
     "text": [
      " 38%|█████████████████████████████████████████████████████████▎                                                                                             | 110/290 [16:01<22:57,  7.65s/it]"
     ]
    },
    {
     "name": "stdout",
     "output_type": "stream",
     "text": [
      "23 2\n",
      "21 0\n",
      "20 0\n",
      "ADNI_031_S_4947_20120928\n",
      "324 313\n",
      "205 193\n",
      "110 94\n",
      "90 67\n",
      "95 61\n",
      "95 57\n",
      "282 269\n",
      "183 168\n",
      "119 93\n",
      "105 69\n",
      "102 57\n",
      "80 55\n",
      "26 11\n",
      "25 7\n",
      "21 3\n",
      "23 4\n",
      "21 0\n"
     ]
    },
    {
     "name": "stderr",
     "output_type": "stream",
     "text": [
      " 38%|█████████████████████████████████████████████████████████▊                                                                                             | 111/290 [16:07<20:55,  7.02s/it]"
     ]
    },
    {
     "name": "stdout",
     "output_type": "stream",
     "text": [
      "22 0\n",
      "ADNI_032_S_2119_20101215\n",
      "373 348\n",
      "255 217\n",
      "215 149\n",
      "268 139\n",
      "324 146\n",
      "407 165\n",
      "317 277\n",
      "339 244\n",
      "428 231\n",
      "427 194\n",
      "353 170\n",
      "176 80\n",
      "58 20\n",
      "57 15\n",
      "59 13\n",
      "59 11\n",
      "49 0\n"
     ]
    },
    {
     "name": "stderr",
     "output_type": "stream",
     "text": [
      " 39%|██████████████████████████████████████████████████████████▎                                                                                            | 112/290 [16:18<24:40,  8.32s/it]"
     ]
    },
    {
     "name": "stdout",
     "output_type": "stream",
     "text": [
      "44 0\n",
      "ADNI_032_S_4277_20111019\n",
      "300 279\n",
      "205 180\n",
      "120 86\n",
      "132 66\n",
      "137 60\n",
      "147 49\n",
      "242 217\n",
      "220 173\n",
      "190 116\n",
      "159 82\n",
      "126 69\n",
      "53 28\n",
      "38 14\n",
      "36 9\n",
      "38 6\n",
      "37 3\n"
     ]
    },
    {
     "name": "stderr",
     "output_type": "stream",
     "text": [
      " 39%|██████████████████████████████████████████████████████████▊                                                                                            | 113/290 [16:25<22:48,  7.73s/it]"
     ]
    },
    {
     "name": "stdout",
     "output_type": "stream",
     "text": [
      "35 0\n",
      "34 0\n",
      "ADNI_032_S_4386_20111213\n",
      "361 349\n",
      "216 199\n",
      "148 116\n",
      "151 86\n",
      "159 78\n",
      "187 85\n",
      "281 265\n",
      "213 180\n",
      "224 148\n",
      "207 108\n",
      "161 95\n",
      "69 37\n",
      "42 23\n",
      "33 10\n",
      "32 7\n",
      "28 2\n",
      "30 0\n"
     ]
    },
    {
     "name": "stderr",
     "output_type": "stream",
     "text": [
      " 39%|███████████████████████████████████████████████████████████▎                                                                                           | 114/290 [16:32<22:11,  7.56s/it]"
     ]
    },
    {
     "name": "stdout",
     "output_type": "stream",
     "text": [
      "29 0\n",
      "ADNI_032_S_4429_20111222\n",
      "340 309\n",
      "265 224\n",
      "261 174\n",
      "316 168\n",
      "337 160\n",
      "376 167\n",
      "307 263\n",
      "325 236\n",
      "329 198\n",
      "365 174\n",
      "260 126\n",
      "127 65\n",
      "59 20\n",
      "55 10\n",
      "56 10\n",
      "52 3\n"
     ]
    },
    {
     "name": "stderr",
     "output_type": "stream",
     "text": [
      " 40%|███████████████████████████████████████████████████████████▉                                                                                           | 115/290 [16:43<25:28,  8.74s/it]"
     ]
    },
    {
     "name": "stdout",
     "output_type": "stream",
     "text": [
      "51 0\n",
      "53 0\n",
      "ADNI_033_S_4176_20130904\n",
      "291 263\n",
      "191 156\n",
      "161 108\n",
      "211 94\n",
      "270 105\n",
      "363 124\n",
      "247 212\n",
      "231 155\n",
      "310 140\n",
      "374 160\n",
      "297 132\n",
      "169 81\n",
      "59 23\n",
      "54 14\n",
      "52 9\n",
      "57 7\n"
     ]
    },
    {
     "name": "stderr",
     "output_type": "stream",
     "text": [
      " 40%|████████████████████████████████████████████████████████████▍                                                                                          | 116/290 [16:54<26:46,  9.23s/it]"
     ]
    },
    {
     "name": "stdout",
     "output_type": "stream",
     "text": [
      "53 0\n",
      "47 0\n",
      "ADNI_033_S_4177_20130911\n",
      "559 538\n",
      "396 367\n",
      "335 277\n",
      "367 242\n",
      "386 213\n",
      "446 228\n",
      "488 457\n",
      "446 362\n",
      "569 373\n",
      "506 296\n",
      "301 199\n",
      "113 87\n",
      "60 28\n",
      "50 18\n",
      "44 11\n",
      "44 8\n",
      "39 0\n"
     ]
    },
    {
     "name": "stderr",
     "output_type": "stream",
     "text": [
      " 40%|████████████████████████████████████████████████████████████▉                                                                                          | 117/290 [17:08<31:00, 10.75s/it]"
     ]
    },
    {
     "name": "stdout",
     "output_type": "stream",
     "text": [
      "37 0\n",
      "ADNI_035_S_4082_20111214\n",
      "672 660\n",
      "425 409\n",
      "272 244\n",
      "232 181\n",
      "218 144\n",
      "227 131\n",
      "564 542\n",
      "427 393\n",
      "381 317\n",
      "307 212\n",
      "255 177\n",
      "136 86\n",
      "29 13\n",
      "31 14\n",
      "28 9\n",
      "24 4\n"
     ]
    },
    {
     "name": "stderr",
     "output_type": "stream",
     "text": [
      " 41%|█████████████████████████████████████████████████████████████▍                                                                                         | 118/290 [17:20<31:31, 11.00s/it]"
     ]
    },
    {
     "name": "stdout",
     "output_type": "stream",
     "text": [
      "22 0\n",
      "23 0\n",
      "ADNI_035_S_4114_20130314\n",
      "461 439\n",
      "278 252\n",
      "207 166\n",
      "177 120\n",
      "153 85\n",
      "154 79\n",
      "399 374\n",
      "278 231\n",
      "248 181\n",
      "180 127\n",
      "104 58\n",
      "63 43\n",
      "44 17\n",
      "40 13\n",
      "33 5\n",
      "31 3\n",
      "29 0\n"
     ]
    },
    {
     "name": "stderr",
     "output_type": "stream",
     "text": [
      " 41%|█████████████████████████████████████████████████████████████▉                                                                                         | 119/290 [17:28<29:10, 10.23s/it]"
     ]
    },
    {
     "name": "stdout",
     "output_type": "stream",
     "text": [
      "28 0\n",
      "ADNI_035_S_4464_20120803\n",
      "470 454\n",
      "242 226\n",
      "123 103\n",
      "81 59\n",
      "74 45\n",
      "65 32\n",
      "351 335\n",
      "207 187\n",
      "130 105\n",
      "82 56\n",
      "79 48\n",
      "46 23\n",
      "29 11\n",
      "26 5\n",
      "27 3\n"
     ]
    },
    {
     "name": "stderr",
     "output_type": "stream",
     "text": [
      " 41%|██████████████████████████████████████████████████████████████▍                                                                                        | 120/290 [17:34<25:34,  9.03s/it]"
     ]
    },
    {
     "name": "stdout",
     "output_type": "stream",
     "text": [
      "24 0\n",
      "24 0\n",
      "23 0\n",
      "ADNI_035_S_4582_20120924\n",
      "412 404\n",
      "246 237\n",
      "166 149\n",
      "134 100\n",
      "113 71\n",
      "107 61\n",
      "335 326\n",
      "232 213\n",
      "166 131\n",
      "158 109\n",
      "125 88\n",
      "56 31\n",
      "21 9\n",
      "23 6\n",
      "21 2\n"
     ]
    },
    {
     "name": "stderr",
     "output_type": "stream",
     "text": [
      " 42%|███████████████████████████████████████████████████████████████                                                                                        | 121/290 [17:41<23:27,  8.33s/it]"
     ]
    },
    {
     "name": "stdout",
     "output_type": "stream",
     "text": [
      "20 1\n",
      "20 0\n",
      "18 0\n",
      "ADNI_035_S_4784_20121025\n",
      "331 272\n",
      "253 185\n",
      "267 146\n",
      "420 179\n",
      "535 204\n",
      "628 220\n",
      "277 209\n",
      "371 207\n",
      "547 256\n",
      "563 241\n",
      "363 162\n",
      "171 74\n",
      "101 32\n",
      "98 25\n",
      "85 9\n",
      "80 2\n",
      "86 0\n"
     ]
    },
    {
     "name": "stderr",
     "output_type": "stream",
     "text": [
      " 42%|███████████████████████████████████████████████████████████████▌                                                                                       | 122/290 [17:57<29:32, 10.55s/it]"
     ]
    },
    {
     "name": "stdout",
     "output_type": "stream",
     "text": [
      "83 0\n",
      "ADNI_036_S_4389_20111207\n",
      "319 306\n",
      "201 185\n",
      "147 127\n",
      "133 91\n",
      "134 77\n",
      "139 71\n",
      "250 234\n",
      "204 175\n",
      "177 130\n",
      "171 101\n",
      "169 88\n",
      "84 44\n",
      "38 15\n",
      "34 11\n",
      "33 6\n",
      "33 3\n",
      "30 0\n"
     ]
    },
    {
     "name": "stderr",
     "output_type": "stream",
     "text": [
      " 42%|████████████████████████████████████████████████████████████████                                                                                       | 123/290 [18:04<26:42,  9.59s/it]"
     ]
    },
    {
     "name": "stdout",
     "output_type": "stream",
     "text": [
      "32 0\n",
      "ADNI_036_S_4430_20111223\n",
      "584 572\n",
      "396 381\n",
      "173 148\n",
      "175 114\n",
      "177 97\n",
      "200 98\n",
      "513 499\n",
      "386 364\n",
      "343 273\n",
      "222 140\n",
      "183 101\n",
      "130 80\n",
      "31 15\n",
      "26 8\n",
      "23 5\n",
      "22 1\n"
     ]
    },
    {
     "name": "stderr",
     "output_type": "stream",
     "text": [
      " 43%|████████████████████████████████████████████████████████████████▌                                                                                      | 124/290 [18:15<27:47, 10.04s/it]"
     ]
    },
    {
     "name": "stdout",
     "output_type": "stream",
     "text": [
      "21 0\n",
      "23 0\n",
      "ADNI_036_S_4491_20120809\n",
      "385 381\n",
      "211 206\n",
      "136 129\n",
      "79 68\n",
      "54 39\n",
      "55 29\n",
      "291 286\n",
      "181 175\n",
      "133 120\n",
      "98 77\n",
      "87 60\n",
      "61 29\n",
      "7 0\n",
      "7 0\n",
      "7 0\n",
      "7 0\n"
     ]
    },
    {
     "name": "stderr",
     "output_type": "stream",
     "text": [
      " 43%|█████████████████████████████████████████████████████████████████                                                                                      | 125/290 [18:21<24:03,  8.75s/it]"
     ]
    },
    {
     "name": "stdout",
     "output_type": "stream",
     "text": [
      "8 0\n",
      "8 0\n",
      "ADNI_036_S_4538_20121101\n",
      "269 251\n",
      "162 143\n",
      "118 92\n",
      "86 57\n",
      "81 48\n",
      "81 35\n",
      "207 188\n",
      "157 132\n",
      "122 86\n",
      "93 56\n",
      "90 44\n",
      "36 20\n",
      "27 8\n",
      "26 7\n",
      "24 4\n"
     ]
    },
    {
     "name": "stderr",
     "output_type": "stream",
     "text": [
      " 43%|█████████████████████████████████████████████████████████████████▌                                                                                     | 126/290 [18:26<20:40,  7.56s/it]"
     ]
    },
    {
     "name": "stdout",
     "output_type": "stream",
     "text": [
      "22 2\n",
      "21 0\n",
      "21 0\n",
      "ADNI_036_S_4562_20121009\n",
      "546 527\n",
      "325 298\n",
      "232 185\n",
      "224 142\n",
      "238 135\n",
      "273 137\n",
      "432 404\n",
      "334 280\n",
      "344 239\n",
      "304 165\n",
      "198 113\n",
      "114 72\n",
      "62 26\n",
      "56 15\n",
      "53 6\n",
      "58 3\n",
      "59 0\n"
     ]
    },
    {
     "name": "stderr",
     "output_type": "stream",
     "text": [
      " 44%|██████████████████████████████████████████████████████████████████▏                                                                                    | 127/290 [18:36<23:02,  8.48s/it]"
     ]
    },
    {
     "name": "stdout",
     "output_type": "stream",
     "text": [
      "59 0\n",
      "ADNI_036_S_4714_20121204\n",
      "389 365\n",
      "266 236\n",
      "125 85\n",
      "130 81\n",
      "139 76\n",
      "153 85\n",
      "319 290\n",
      "250 212\n",
      "200 148\n",
      "164 96\n",
      "140 86\n",
      "100 67\n",
      "45 15\n",
      "40 9\n",
      "38 7\n",
      "33 2\n",
      "32 0\n"
     ]
    },
    {
     "name": "stderr",
     "output_type": "stream",
     "text": [
      " 44%|██████████████████████████████████████████████████████████████████▋                                                                                    | 128/290 [18:44<21:53,  8.11s/it]"
     ]
    },
    {
     "name": "stdout",
     "output_type": "stream",
     "text": [
      "31 0\n",
      "ADNI_036_S_4715_20121127\n",
      "349 337\n",
      "256 244\n",
      "138 125\n",
      "99 74\n",
      "111 73\n",
      "104 55\n",
      "303 291\n",
      "230 215\n",
      "165 139\n",
      "130 92\n",
      "101 70\n",
      "59 36\n",
      "31 18\n",
      "22 8\n",
      "22 8\n"
     ]
    },
    {
     "name": "stderr",
     "output_type": "stream",
     "text": [
      " 44%|███████████████████████████████████████████████████████████████████▏                                                                                   | 129/290 [18:50<20:11,  7.53s/it]"
     ]
    },
    {
     "name": "stdout",
     "output_type": "stream",
     "text": [
      "21 4\n",
      "18 0\n",
      "18 0\n",
      "ADNI_036_S_4736_20121206\n",
      "613 559\n",
      "410 342\n",
      "425 303\n",
      "567 319\n",
      "604 324\n",
      "671 341\n",
      "499 419\n",
      "516 332\n",
      "702 397\n",
      "590 361\n",
      "377 251\n",
      "223 157\n",
      "152 56\n",
      "141 43\n",
      "130 28\n",
      "114 9\n",
      "114 0\n"
     ]
    },
    {
     "name": "stderr",
     "output_type": "stream",
     "text": [
      " 45%|███████████████████████████████████████████████████████████████████▋                                                                                   | 130/290 [19:09<29:26, 11.04s/it]"
     ]
    },
    {
     "name": "stdout",
     "output_type": "stream",
     "text": [
      "109 0\n",
      "ADNI_036_S_4878_20121019\n",
      "341 337\n",
      "213 209\n",
      "111 107\n",
      "71 64\n",
      "65 56\n",
      "49 39\n",
      "255 251\n",
      "186 182\n",
      "127 121\n",
      "66 57\n",
      "61 48\n",
      "46 33\n",
      "17 11\n",
      "13 6\n",
      "8 1\n",
      "7 0\n"
     ]
    },
    {
     "name": "stderr",
     "output_type": "stream",
     "text": [
      " 45%|████████████████████████████████████████████████████████████████████▏                                                                                  | 131/290 [19:14<24:19,  9.18s/it]"
     ]
    },
    {
     "name": "stdout",
     "output_type": "stream",
     "text": [
      "7 0\n",
      "7 0\n",
      "ADNI_037_S_0501_20130422\n",
      "612 588\n",
      "427 398\n",
      "216 184\n",
      "174 124\n",
      "153 93\n",
      "148 80\n",
      "518 489\n",
      "397 365\n",
      "264 215\n",
      "177 117\n",
      "154 94\n",
      "90 51\n",
      "59 19\n",
      "52 11\n",
      "48 5\n",
      "52 6\n"
     ]
    },
    {
     "name": "stderr",
     "output_type": "stream",
     "text": [
      " 46%|████████████████████████████████████████████████████████████████████▋                                                                                  | 132/290 [19:24<25:13,  9.58s/it]"
     ]
    },
    {
     "name": "stdout",
     "output_type": "stream",
     "text": [
      "49 0\n",
      "48 0\n",
      "ADNI_037_S_0566_20150729\n",
      "488 476\n",
      "430 414\n",
      "297 272\n",
      "262 231\n",
      "204 170\n",
      "177 133\n",
      "443 428\n",
      "411 389\n",
      "371 338\n",
      "256 216\n",
      "222 185\n",
      "171 115\n",
      "62 39\n",
      "42 18\n",
      "36 10\n",
      "29 2\n"
     ]
    },
    {
     "name": "stderr",
     "output_type": "stream",
     "text": [
      " 46%|█████████████████████████████████████████████████████████████████████▎                                                                                 | 133/290 [19:36<26:57, 10.31s/it]"
     ]
    },
    {
     "name": "stdout",
     "output_type": "stream",
     "text": [
      "27 0\n",
      "26 0\n",
      "ADNI_037_S_4015_20150408\n",
      "434 417\n",
      "327 305\n",
      "266 225\n",
      "254 177\n",
      "237 133\n",
      "288 140\n",
      "385 357\n",
      "346 290\n",
      "351 237\n",
      "350 216\n",
      "288 187\n",
      "155 95\n",
      "48 19\n",
      "44 12\n",
      "41 8\n",
      "37 2\n",
      "35 0\n"
     ]
    },
    {
     "name": "stderr",
     "output_type": "stream",
     "text": [
      " 46%|█████████████████████████████████████████████████████████████████████▊                                                                                 | 134/290 [19:47<27:04, 10.41s/it]"
     ]
    },
    {
     "name": "stdout",
     "output_type": "stream",
     "text": [
      "33 0\n",
      "ADNI_037_S_4028_20150604\n",
      "269 252\n",
      "175 155\n",
      "148 113\n",
      "200 119\n",
      "209 103\n",
      "242 109\n",
      "254 233\n",
      "216 169\n",
      "245 153\n",
      "249 133\n",
      "187 90\n",
      "103 46\n",
      "29 5\n",
      "26 2\n",
      "28 1\n",
      "29 1\n",
      "28 0\n"
     ]
    },
    {
     "name": "stderr",
     "output_type": "stream",
     "text": [
      " 47%|██████████████████████████████████████████████████████████████████████▎                                                                                | 135/290 [19:54<24:34,  9.51s/it]"
     ]
    },
    {
     "name": "stdout",
     "output_type": "stream",
     "text": [
      "26 0\n",
      "ADNI_037_S_4030_20150527\n",
      "423 412\n",
      "251 231\n",
      "180 138\n",
      "233 120\n",
      "274 112\n",
      "355 132\n",
      "336 310\n",
      "263 207\n",
      "310 144\n",
      "382 168\n",
      "251 105\n",
      "150 63\n",
      "30 14\n",
      "27 7\n",
      "23 3\n",
      "27 2\n",
      "28 0\n"
     ]
    },
    {
     "name": "stderr",
     "output_type": "stream",
     "text": [
      " 47%|██████████████████████████████████████████████████████████████████████▊                                                                                | 136/290 [20:05<25:24,  9.90s/it]"
     ]
    },
    {
     "name": "stdout",
     "output_type": "stream",
     "text": [
      "32 0\n",
      "ADNI_037_S_4071_20151111\n",
      "449 437\n",
      "356 340\n",
      "247 222\n",
      "234 197\n",
      "220 174\n",
      "219 148\n",
      "400 385\n",
      "361 332\n",
      "342 292\n",
      "292 229\n",
      "269 194\n",
      "297 211\n",
      "82 43\n",
      "82 35\n",
      "69 20\n",
      "67 11\n",
      "66 0\n"
     ]
    },
    {
     "name": "stderr",
     "output_type": "stream",
     "text": [
      " 47%|███████████████████████████████████████████████████████████████████████▎                                                                               | 137/290 [20:17<26:38, 10.45s/it]"
     ]
    },
    {
     "name": "stdout",
     "output_type": "stream",
     "text": [
      "62 0\n",
      "ADNI_037_S_4146_20150902\n",
      "421 397\n",
      "283 254\n",
      "182 139\n",
      "180 111\n",
      "194 112\n",
      "178 86\n",
      "340 312\n",
      "290 232\n",
      "243 169\n",
      "186 114\n",
      "143 78\n",
      "86 46\n",
      "53 15\n",
      "45 7\n",
      "47 6\n",
      "46 3\n",
      "46 0\n"
     ]
    },
    {
     "name": "stderr",
     "output_type": "stream",
     "text": [
      " 48%|███████████████████████████████████████████████████████████████████████▊                                                                               | 138/290 [20:26<25:09,  9.93s/it]"
     ]
    },
    {
     "name": "stdout",
     "output_type": "stream",
     "text": [
      "42 0\n",
      "ADNI_037_S_4214_20151016\n",
      "305 294\n",
      "197 185\n",
      "164 146\n",
      "133 101\n",
      "101 61\n",
      "109 58\n",
      "253 240\n",
      "214 192\n",
      "188 149\n",
      "140 88\n",
      "114 65\n",
      "75 45\n",
      "32 18\n",
      "25 10\n",
      "26 11\n",
      "22 5\n"
     ]
    },
    {
     "name": "stderr",
     "output_type": "stream",
     "text": [
      " 48%|████████████████████████████████████████████████████████████████████████▍                                                                              | 139/290 [20:32<22:05,  8.78s/it]"
     ]
    },
    {
     "name": "stdout",
     "output_type": "stream",
     "text": [
      "20 0\n",
      "20 0\n",
      "ADNI_037_S_4302_20131211\n",
      "372 349\n",
      "259 232\n",
      "175 143\n",
      "182 124\n",
      "179 102\n",
      "194 88\n",
      "312 284\n",
      "254 215\n",
      "239 167\n",
      "244 146\n",
      "230 147\n",
      "154 98\n",
      "46 16\n",
      "42 11\n",
      "40 6\n",
      "40 2\n",
      "42 0\n"
     ]
    },
    {
     "name": "stderr",
     "output_type": "stream",
     "text": [
      " 48%|████████████████████████████████████████████████████████████████████████▉                                                                              | 140/290 [20:41<22:15,  8.90s/it]"
     ]
    },
    {
     "name": "stdout",
     "output_type": "stream",
     "text": [
      "44 0\n",
      "ADNI_037_S_4308_20140409\n",
      "324 307\n",
      "207 188\n",
      "117 94\n",
      "120 77\n",
      "124 69\n",
      "142 72\n",
      "254 235\n",
      "185 162\n",
      "163 117\n",
      "170 91\n",
      "162 86\n",
      "108 68\n",
      "46 16\n",
      "42 8\n",
      "41 5\n",
      "40 2\n",
      "42 0\n"
     ]
    },
    {
     "name": "stderr",
     "output_type": "stream",
     "text": [
      " 49%|█████████████████████████████████████████████████████████████████████████▍                                                                             | 141/290 [20:48<20:41,  8.33s/it]"
     ]
    },
    {
     "name": "stdout",
     "output_type": "stream",
     "text": [
      "41 0\n",
      "ADNI_037_S_4381_20140321\n",
      "297 290\n",
      "219 212\n",
      "167 159\n",
      "115 107\n",
      "62 54\n",
      "51 42\n",
      "231 224\n",
      "193 186\n",
      "269 261\n",
      "107 98\n",
      "88 78\n",
      "48 36\n",
      "18 9\n",
      "15 6\n",
      "12 3\n"
     ]
    },
    {
     "name": "stderr",
     "output_type": "stream",
     "text": [
      " 49%|█████████████████████████████████████████████████████████████████████████▉                                                                             | 142/290 [20:54<18:58,  7.69s/it]"
     ]
    },
    {
     "name": "stdout",
     "output_type": "stream",
     "text": [
      "9 0\n",
      "9 0\n",
      "9 0\n",
      "ADNI_037_S_4410_20140115\n",
      "232 217\n",
      "165 148\n",
      "111 90\n",
      "91 61\n",
      "86 49\n",
      "93 42\n",
      "197 181\n",
      "159 141\n",
      "116 87\n",
      "107 64\n",
      "100 56\n",
      "92 50\n",
      "38 17\n",
      "34 11\n",
      "33 7\n",
      "31 2\n",
      "30 0\n"
     ]
    },
    {
     "name": "stderr",
     "output_type": "stream",
     "text": [
      " 49%|██████████████████████████████████████████████████████████████████████████▍                                                                            | 143/290 [20:59<17:03,  6.96s/it]"
     ]
    },
    {
     "name": "stdout",
     "output_type": "stream",
     "text": [
      "28 0\n",
      "ADNI_037_S_4706_20140512\n",
      "310 298\n",
      "262 248\n",
      "130 115\n",
      "99 79\n",
      "80 54\n",
      "74 39\n",
      "264 252\n",
      "232 218\n",
      "280 260\n",
      "124 93\n",
      "108 70\n",
      "77 33\n",
      "31 12\n",
      "33 10\n",
      "35 8\n",
      "33 5\n",
      "31 0\n"
     ]
    },
    {
     "name": "stderr",
     "output_type": "stream",
     "text": [
      " 50%|██████████████████████████████████████████████████████████████████████████▉                                                                            | 144/290 [21:06<16:29,  6.78s/it]"
     ]
    },
    {
     "name": "stdout",
     "output_type": "stream",
     "text": [
      "26 0\n",
      "ADNI_041_S_4004_20140428\n",
      "382 371\n",
      "222 211\n",
      "113 96\n",
      "83 62\n",
      "73 48\n",
      "64 37\n",
      "319 307\n",
      "201 187\n",
      "110 88\n",
      "91 61\n",
      "86 56\n",
      "57 30\n",
      "28 14\n",
      "25 11\n",
      "24 8\n"
     ]
    },
    {
     "name": "stderr",
     "output_type": "stream",
     "text": [
      " 50%|███████████████████████████████████████████████████████████████████████████▌                                                                           | 145/290 [21:11<15:29,  6.41s/it]"
     ]
    },
    {
     "name": "stdout",
     "output_type": "stream",
     "text": [
      "21 4\n",
      "17 0\n",
      "15 0\n",
      "ADNI_041_S_4014_20111202\n",
      "550 531\n",
      "413 393\n",
      "269 248\n",
      "185 156\n",
      "156 116\n",
      "142 95\n",
      "461 441\n",
      "381 358\n",
      "285 246\n",
      "190 133\n",
      "172 114\n",
      "104 61\n",
      "52 25\n",
      "44 17\n",
      "33 5\n",
      "34 5\n",
      "29 0\n"
     ]
    },
    {
     "name": "stderr",
     "output_type": "stream",
     "text": [
      " 50%|████████████████████████████████████████████████████████████████████████████                                                                           | 146/290 [21:21<17:41,  7.37s/it]"
     ]
    },
    {
     "name": "stdout",
     "output_type": "stream",
     "text": [
      "25 0\n",
      "ADNI_041_S_4037_20111205\n",
      "445 431\n",
      "297 281\n",
      "209 189\n",
      "160 129\n",
      "132 93\n",
      "124 79\n",
      "392 375\n",
      "272 252\n",
      "201 163\n",
      "178 142\n",
      "122 88\n",
      "64 41\n",
      "41 22\n",
      "36 13\n",
      "30 6\n",
      "27 2\n",
      "26 0\n"
     ]
    },
    {
     "name": "stderr",
     "output_type": "stream",
     "text": [
      " 51%|████████████████████████████████████████████████████████████████████████████▌                                                                          | 147/290 [21:29<17:48,  7.47s/it]"
     ]
    },
    {
     "name": "stdout",
     "output_type": "stream",
     "text": [
      "23 0\n",
      "ADNI_041_S_4041_20111213\n",
      "228 223\n",
      "144 138\n",
      "78 68\n",
      "58 47\n",
      "47 37\n",
      "44 35\n",
      "186 179\n",
      "122 114\n",
      "72 63\n",
      "52 42\n",
      "51 39\n",
      "29 17\n",
      "11 5\n"
     ]
    },
    {
     "name": "stderr",
     "output_type": "stream",
     "text": [
      " 51%|█████████████████████████████████████████████████████████████████████████████                                                                          | 148/290 [21:32<14:53,  6.29s/it]"
     ]
    },
    {
     "name": "stdout",
     "output_type": "stream",
     "text": [
      "7 1\n",
      "7 1\n",
      "7 1\n",
      "6 0\n",
      "6 0\n",
      "ADNI_041_S_4051_20110923\n",
      "460 415\n",
      "302 251\n",
      "269 188\n",
      "310 163\n",
      "362 154\n",
      "395 141\n",
      "387 331\n",
      "380 262\n",
      "408 213\n",
      "390 176\n",
      "254 142\n",
      "112 59\n",
      "71 18\n",
      "65 10\n",
      "61 5\n",
      "66 4\n"
     ]
    },
    {
     "name": "stderr",
     "output_type": "stream",
     "text": [
      " 51%|█████████████████████████████████████████████████████████████████████████████▌                                                                         | 149/290 [21:44<18:43,  7.97s/it]"
     ]
    },
    {
     "name": "stdout",
     "output_type": "stream",
     "text": [
      "65 0\n",
      "64 0\n",
      "ADNI_041_S_4060_20111212\n",
      "460 417\n",
      "349 279\n",
      "292 170\n",
      "362 165\n",
      "440 183\n",
      "483 186\n",
      "423 341\n",
      "453 296\n",
      "515 275\n",
      "438 205\n",
      "317 149\n",
      "142 63\n",
      "67 17\n",
      "68 13\n",
      "65 8\n",
      "63 5\n"
     ]
    },
    {
     "name": "stderr",
     "output_type": "stream",
     "text": [
      " 52%|██████████████████████████████████████████████████████████████████████████████                                                                         | 150/290 [21:58<22:27,  9.62s/it]"
     ]
    },
    {
     "name": "stdout",
     "output_type": "stream",
     "text": [
      "60 0\n",
      "53 0\n",
      "ADNI_041_S_4138_20111021\n",
      "280 266\n",
      "218 193\n",
      "169 128\n",
      "233 122\n",
      "270 120\n",
      "407 175\n",
      "259 232\n",
      "258 190\n",
      "386 217\n",
      "472 243\n",
      "417 209\n",
      "246 111\n",
      "43 19\n",
      "43 17\n",
      "33 7\n",
      "29 2\n",
      "28 0\n"
     ]
    },
    {
     "name": "stderr",
     "output_type": "stream",
     "text": [
      " 52%|██████████████████████████████████████████████████████████████████████████████▌                                                                        | 151/290 [22:08<22:49,  9.86s/it]"
     ]
    },
    {
     "name": "stdout",
     "output_type": "stream",
     "text": [
      "29 0\n",
      "ADNI_041_S_4143_20111122\n",
      "401 384\n",
      "250 227\n",
      "195 155\n",
      "183 118\n",
      "183 110\n",
      "190 99\n",
      "321 300\n",
      "260 218\n",
      "237 185\n",
      "188 119\n",
      "139 79\n",
      "93 62\n",
      "32 12\n",
      "30 8\n",
      "29 7\n",
      "23 1\n"
     ]
    },
    {
     "name": "stderr",
     "output_type": "stream",
     "text": [
      " 52%|███████████████████████████████████████████████████████████████████████████████▏                                                                       | 152/290 [22:16<21:13,  9.23s/it]"
     ]
    },
    {
     "name": "stdout",
     "output_type": "stream",
     "text": [
      "22 0\n",
      "24 0\n",
      "ADNI_041_S_4200_20111219\n",
      "423 386\n",
      "308 262\n",
      "212 150\n",
      "193 110\n",
      "196 93\n",
      "209 96\n",
      "377 330\n",
      "323 259\n",
      "297 206\n",
      "243 146\n",
      "223 126\n",
      "89 47\n",
      "82 27\n",
      "75 20\n",
      "70 11\n",
      "65 4\n"
     ]
    },
    {
     "name": "stderr",
     "output_type": "stream",
     "text": [
      " 53%|███████████████████████████████████████████████████████████████████████████████▋                                                                       | 153/290 [22:25<21:17,  9.33s/it]"
     ]
    },
    {
     "name": "stdout",
     "output_type": "stream",
     "text": [
      "61 0\n",
      "65 0\n",
      "ADNI_041_S_4271_20111007\n",
      "312 306\n",
      "192 186\n",
      "131 124\n",
      "89 79\n",
      "69 56\n",
      "53 38\n",
      "259 253\n",
      "175 168\n",
      "142 129\n",
      "100 87\n",
      "69 59\n",
      "44 38\n",
      "13 6\n",
      "12 5\n",
      "11 3\n",
      "9 1\n"
     ]
    },
    {
     "name": "stderr",
     "output_type": "stream",
     "text": [
      " 53%|████████████████████████████████████████████████████████████████████████████████▏                                                                      | 154/290 [22:30<18:08,  8.01s/it]"
     ]
    },
    {
     "name": "stdout",
     "output_type": "stream",
     "text": [
      "8 0\n",
      "7 0\n",
      "ADNI_041_S_4427_20111219\n",
      "336 320\n",
      "215 195\n",
      "145 120\n",
      "136 89\n",
      "130 76\n",
      "127 64\n",
      "274 254\n",
      "213 181\n",
      "193 130\n",
      "160 98\n",
      "117 67\n",
      "75 45\n",
      "41 17\n",
      "36 9\n",
      "35 8\n",
      "33 5\n",
      "31 0\n"
     ]
    },
    {
     "name": "stderr",
     "output_type": "stream",
     "text": [
      " 53%|████████████████████████████████████████████████████████████████████████████████▋                                                                      | 155/290 [22:37<17:01,  7.57s/it]"
     ]
    },
    {
     "name": "stdout",
     "output_type": "stream",
     "text": [
      "30 0\n",
      "ADNI_041_S_4510_20120910\n",
      "318 308\n",
      "213 203\n",
      "131 117\n",
      "88 65\n",
      "75 46\n",
      "94 48\n",
      "248 237\n",
      "192 180\n",
      "136 111\n",
      "135 89\n",
      "129 75\n",
      "90 54\n",
      "30 15\n",
      "30 13\n",
      "32 12\n"
     ]
    },
    {
     "name": "stderr",
     "output_type": "stream",
     "text": [
      " 54%|█████████████████████████████████████████████████████████████████████████████████▏                                                                     | 156/290 [22:42<15:40,  7.02s/it]"
     ]
    },
    {
     "name": "stdout",
     "output_type": "stream",
     "text": [
      "25 3\n",
      "24 0\n",
      "23 0\n",
      "ADNI_041_S_4513_20120905\n",
      "569 562\n",
      "371 364\n",
      "230 223\n",
      "149 142\n",
      "114 107\n",
      "84 77\n",
      "441 434\n",
      "335 328\n",
      "223 216\n",
      "130 123\n",
      "103 97\n",
      "51 46\n",
      "29 22\n",
      "16 9\n",
      "12 5\n",
      "11 4\n"
     ]
    },
    {
     "name": "stderr",
     "output_type": "stream",
     "text": [
      " 54%|█████████████████████████████████████████████████████████████████████████████████▋                                                                     | 157/290 [22:50<16:10,  7.30s/it]"
     ]
    },
    {
     "name": "stdout",
     "output_type": "stream",
     "text": [
      "7 0\n",
      "6 0\n",
      "ADNI_041_S_4720_20121109\n",
      "345 332\n",
      "262 233\n",
      "228 157\n",
      "293 133\n",
      "339 127\n",
      "416 145\n",
      "322 285\n",
      "302 211\n",
      "394 191\n",
      "390 188\n",
      "257 136\n",
      "101 65\n",
      "27 13\n",
      "30 11\n",
      "29 7\n"
     ]
    },
    {
     "name": "stderr",
     "output_type": "stream",
     "text": [
      " 54%|██████████████████████████████████████████████████████████████████████████████████▎                                                                    | 158/290 [23:01<18:03,  8.21s/it]"
     ]
    },
    {
     "name": "stdout",
     "output_type": "stream",
     "text": [
      "25 2\n",
      "24 0\n",
      "23 0\n",
      "ADNI_041_S_4874_20121105\n",
      "247 229\n",
      "168 147\n",
      "127 105\n",
      "97 72\n",
      "81 53\n",
      "73 44\n",
      "201 180\n",
      "155 130\n",
      "118 91\n",
      "110 79\n",
      "89 60\n",
      "54 26\n",
      "36 12\n",
      "36 9\n",
      "34 5\n",
      "31 2\n"
     ]
    },
    {
     "name": "stderr",
     "output_type": "stream",
     "text": [
      " 55%|██████████████████████████████████████████████████████████████████████████████████▊                                                                    | 159/290 [23:06<15:48,  7.24s/it]"
     ]
    },
    {
     "name": "stdout",
     "output_type": "stream",
     "text": [
      "29 0\n",
      "31 0\n",
      "ADNI_041_S_4876_20121106\n",
      "417 401\n",
      "288 266\n",
      "264 207\n",
      "289 146\n",
      "377 165\n",
      "531 217\n",
      "346 318\n",
      "372 287\n",
      "491 277\n",
      "612 300\n",
      "423 204\n",
      "196 109\n",
      "46 18\n",
      "57 23\n",
      "50 12\n",
      "51 7\n",
      "51 0\n"
     ]
    },
    {
     "name": "stderr",
     "output_type": "stream",
     "text": [
      " 55%|███████████████████████████████████████████████████████████████████████████████████▎                                                                   | 160/290 [23:19<19:32,  9.02s/it]"
     ]
    },
    {
     "name": "stdout",
     "output_type": "stream",
     "text": [
      "47 0\n",
      "ADNI_041_S_4877_20121212\n",
      "366 348\n",
      "263 224\n",
      "239 156\n",
      "266 143\n",
      "276 138\n",
      "284 138\n",
      "326 274\n",
      "314 211\n",
      "318 195\n",
      "268 158\n",
      "182 99\n",
      "76 43\n",
      "45 15\n",
      "39 8\n",
      "38 5\n",
      "36 3\n",
      "34 0\n"
     ]
    },
    {
     "name": "stderr",
     "output_type": "stream",
     "text": [
      " 56%|███████████████████████████████████████████████████████████████████████████████████▊                                                                   | 161/290 [23:28<19:33,  9.10s/it]"
     ]
    },
    {
     "name": "stdout",
     "output_type": "stream",
     "text": [
      "33 0\n",
      "ADNI_041_S_4974_20121015\n",
      "444 427\n",
      "284 253\n",
      "212 153\n",
      "268 147\n",
      "303 142\n",
      "351 154\n",
      "360 323\n",
      "330 245\n",
      "350 208\n",
      "344 184\n",
      "222 110\n",
      "101 46\n",
      "43 21\n",
      "35 11\n",
      "31 6\n",
      "35 6\n",
      "30 0\n"
     ]
    },
    {
     "name": "stderr",
     "output_type": "stream",
     "text": [
      " 56%|████████████████████████████████████████████████████████████████████████████████████▎                                                                  | 162/290 [23:38<20:08,  9.44s/it]"
     ]
    },
    {
     "name": "stdout",
     "output_type": "stream",
     "text": [
      "28 0\n",
      "ADNI_041_S_4989_20121019\n",
      "377 363\n",
      "255 238\n",
      "156 132\n",
      "138 103\n",
      "104 65\n",
      "107 60\n",
      "316 300\n",
      "239 213\n",
      "185 146\n",
      "150 109\n",
      "121 86\n",
      "80 39\n",
      "40 12\n",
      "38 8\n",
      "37 4\n",
      "34 1\n",
      "35 0\n"
     ]
    },
    {
     "name": "stderr",
     "output_type": "stream",
     "text": [
      " 56%|████████████████████████████████████████████████████████████████████████████████████▊                                                                  | 163/290 [23:45<18:20,  8.66s/it]"
     ]
    },
    {
     "name": "stdout",
     "output_type": "stream",
     "text": [
      "36 0\n",
      "ADNI_053_S_4578_20121003\n",
      "352 324\n",
      "232 193\n",
      "236 167\n",
      "259 138\n",
      "300 135\n",
      "352 141\n",
      "290 244\n",
      "298 209\n",
      "359 211\n",
      "370 184\n",
      "331 186\n",
      "171 104\n",
      "58 17\n",
      "50 6\n",
      "49 3\n",
      "48 1\n",
      "47 0\n"
     ]
    },
    {
     "name": "stderr",
     "output_type": "stream",
     "text": [
      " 57%|█████████████████████████████████████████████████████████████████████████████████████▍                                                                 | 164/290 [23:56<19:19,  9.20s/it]"
     ]
    },
    {
     "name": "stdout",
     "output_type": "stream",
     "text": [
      "48 0\n",
      "ADNI_053_S_4661_20120528\n",
      "279 264\n",
      "174 157\n",
      "120 102\n",
      "111 85\n",
      "99 68\n",
      "93 49\n",
      "225 207\n",
      "151 131\n",
      "147 117\n",
      "132 92\n",
      "123 76\n",
      "78 40\n",
      "38 12\n",
      "34 6\n",
      "34 4\n",
      "36 3\n",
      "34 0\n"
     ]
    },
    {
     "name": "stderr",
     "output_type": "stream",
     "text": [
      " 57%|█████████████████████████████████████████████████████████████████████████████████████▉                                                                 | 165/290 [24:01<16:53,  8.11s/it]"
     ]
    },
    {
     "name": "stdout",
     "output_type": "stream",
     "text": [
      "33 0\n",
      "ADNI_053_S_4813_20120928\n",
      "361 338\n",
      "230 204\n",
      "153 112\n",
      "155 95\n",
      "158 91\n",
      "168 93\n",
      "293 270\n",
      "237 193\n",
      "231 166\n",
      "187 110\n",
      "140 74\n",
      "76 35\n",
      "47 14\n",
      "45 12\n",
      "40 4\n",
      "40 2\n",
      "38 0\n"
     ]
    },
    {
     "name": "stderr",
     "output_type": "stream",
     "text": [
      " 57%|██████████████████████████████████████████████████████████████████████████████████████▍                                                                | 166/290 [24:09<16:16,  7.88s/it]"
     ]
    },
    {
     "name": "stdout",
     "output_type": "stream",
     "text": [
      "34 0\n",
      "ADNI_067_S_2195_20101119\n",
      "303 296\n",
      "172 164\n",
      "126 109\n",
      "111 83\n",
      "101 67\n",
      "93 55\n",
      "224 216\n",
      "168 152\n",
      "149 117\n",
      "120 85\n",
      "100 74\n",
      "69 48\n",
      "29 21\n",
      "26 16\n",
      "25 12\n",
      "27 12\n"
     ]
    },
    {
     "name": "stderr",
     "output_type": "stream",
     "text": [
      " 58%|██████████████████████████████████████████████████████████████████████████████████████▉                                                                | 167/290 [24:14<14:39,  7.15s/it]"
     ]
    },
    {
     "name": "stdout",
     "output_type": "stream",
     "text": [
      "21 0\n",
      "19 0\n",
      "ADNI_067_S_2301_20110830\n",
      "495 483\n",
      "289 275\n",
      "174 155\n",
      "134 109\n",
      "97 71\n",
      "87 55\n",
      "381 367\n",
      "265 246\n",
      "180 156\n",
      "146 111\n",
      "115 81\n",
      "64 36\n",
      "37 20\n",
      "34 16\n",
      "25 5\n",
      "24 2\n",
      "23 0\n"
     ]
    },
    {
     "name": "stderr",
     "output_type": "stream",
     "text": [
      " 58%|███████████████████████████████████████████████████████████████████████████████████████▍                                                               | 168/290 [24:21<14:35,  7.17s/it]"
     ]
    },
    {
     "name": "stdout",
     "output_type": "stream",
     "text": [
      "17 0\n",
      "ADNI_067_S_2304_20110914\n",
      "370 364\n",
      "217 211\n",
      "103 91\n",
      "88 62\n",
      "88 49\n",
      "99 45\n",
      "290 284\n",
      "189 176\n",
      "135 104\n",
      "116 68\n",
      "129 65\n",
      "117 51\n",
      "16 6\n",
      "17 7\n",
      "15 3\n",
      "14 1\n",
      "14 0\n"
     ]
    },
    {
     "name": "stderr",
     "output_type": "stream",
     "text": [
      " 58%|███████████████████████████████████████████████████████████████████████████████████████▉                                                               | 169/290 [24:27<13:38,  6.76s/it]"
     ]
    },
    {
     "name": "stdout",
     "output_type": "stream",
     "text": [
      "14 0\n",
      "ADNI_067_S_4054_20111215\n",
      "497 479\n",
      "298 273\n",
      "221 171\n",
      "239 142\n",
      "267 138\n",
      "307 144\n",
      "423 400\n",
      "343 287\n",
      "316 212\n",
      "302 167\n",
      "241 133\n",
      "168 87\n",
      "49 18\n",
      "45 12\n",
      "43 7\n",
      "40 3\n",
      "40 0\n"
     ]
    },
    {
     "name": "stderr",
     "output_type": "stream",
     "text": [
      " 59%|████████████████████████████████████████████████████████████████████████████████████████▌                                                              | 170/290 [24:38<15:45,  7.88s/it]"
     ]
    },
    {
     "name": "stdout",
     "output_type": "stream",
     "text": [
      "39 0\n",
      "ADNI_067_S_4072_20111012\n",
      "381 370\n",
      "250 236\n",
      "182 164\n",
      "139 116\n",
      "127 101\n",
      "138 98\n",
      "289 274\n",
      "219 201\n",
      "179 157\n",
      "159 117\n",
      "137 95\n",
      "107 75\n",
      "43 28\n",
      "31 16\n",
      "28 12\n"
     ]
    },
    {
     "name": "stderr",
     "output_type": "stream",
     "text": [
      " 59%|█████████████████████████████████████████████████████████████████████████████████████████                                                              | 171/290 [24:45<15:05,  7.61s/it]"
     ]
    },
    {
     "name": "stdout",
     "output_type": "stream",
     "text": [
      "26 8\n",
      "18 0\n",
      "20 0\n",
      "ADNI_067_S_4184_20111219\n",
      "456 434\n",
      "334 309\n",
      "244 218\n",
      "207 179\n",
      "183 154\n",
      "157 121\n",
      "397 373\n",
      "333 308\n",
      "255 228\n",
      "210 180\n",
      "159 132\n",
      "96 74\n",
      "55 33\n",
      "40 18\n",
      "32 10\n"
     ]
    },
    {
     "name": "stderr",
     "output_type": "stream",
     "text": [
      " 59%|█████████████████████████████████████████████████████████████████████████████████████████▌                                                             | 172/290 [24:53<15:41,  7.98s/it]"
     ]
    },
    {
     "name": "stdout",
     "output_type": "stream",
     "text": [
      "27 5\n",
      "23 0\n",
      "20 0\n",
      "ADNI_067_S_4212_20111219\n",
      "777 753\n",
      "511 485\n",
      "298 270\n",
      "225 194\n",
      "177 146\n",
      "135 103\n",
      "695 669\n",
      "479 451\n",
      "330 300\n",
      "213 183\n",
      "160 127\n",
      "88 61\n",
      "42 16\n",
      "36 8\n",
      "32 4\n",
      "30 2\n",
      "29 0\n"
     ]
    },
    {
     "name": "stderr",
     "output_type": "stream",
     "text": [
      " 60%|██████████████████████████████████████████████████████████████████████████████████████████                                                             | 173/290 [25:05<17:39,  9.06s/it]"
     ]
    },
    {
     "name": "stdout",
     "output_type": "stream",
     "text": [
      "26 0\n",
      "ADNI_067_S_4310_20111027\n",
      "426 412\n",
      "270 253\n",
      "200 179\n",
      "149 122\n",
      "136 105\n",
      "112 76\n",
      "338 322\n",
      "238 217\n",
      "175 147\n",
      "158 114\n",
      "130 86\n",
      "90 55\n",
      "44 22\n",
      "33 10\n",
      "28 5\n",
      "25 2\n"
     ]
    },
    {
     "name": "stderr",
     "output_type": "stream",
     "text": [
      " 60%|██████████████████████████████████████████████████████████████████████████████████████████▌                                                            | 174/290 [25:12<16:26,  8.50s/it]"
     ]
    },
    {
     "name": "stdout",
     "output_type": "stream",
     "text": [
      "23 0\n",
      "18 0\n",
      "ADNI_067_S_4767_20121210\n",
      "560 550\n",
      "441 429\n",
      "229 215\n",
      "182 164\n",
      "152 130\n",
      "112 89\n",
      "508 496\n",
      "433 419\n",
      "304 283\n",
      "185 163\n",
      "171 147\n",
      "99 81\n",
      "40 24\n",
      "33 17\n",
      "25 9\n",
      "18 2\n"
     ]
    },
    {
     "name": "stderr",
     "output_type": "stream",
     "text": [
      " 60%|███████████████████████████████████████████████████████████████████████████████████████████                                                            | 175/290 [25:23<17:36,  9.19s/it]"
     ]
    },
    {
     "name": "stdout",
     "output_type": "stream",
     "text": [
      "17 0\n",
      "14 0\n",
      "ADNI_067_S_4782_20121026\n",
      "561 550\n",
      "380 367\n",
      "255 235\n",
      "207 176\n",
      "170 134\n",
      "153 99\n",
      "444 432\n",
      "351 328\n",
      "290 261\n",
      "218 177\n",
      "212 155\n",
      "177 98\n",
      "39 21\n",
      "28 8\n",
      "25 5\n",
      "24 2\n",
      "27 0\n"
     ]
    },
    {
     "name": "stderr",
     "output_type": "stream",
     "text": [
      " 61%|███████████████████████████████████████████████████████████████████████████████████████████▋                                                           | 176/290 [25:34<18:28,  9.72s/it]"
     ]
    },
    {
     "name": "stdout",
     "output_type": "stream",
     "text": [
      "23 0\n",
      "ADNI_068_S_4061_20111219\n",
      "373 358\n",
      "245 228\n",
      "142 114\n",
      "120 90\n",
      "118 80\n",
      "125 81\n",
      "309 291\n",
      "259 235\n",
      "206 176\n",
      "135 92\n",
      "112 75\n",
      "79 59\n",
      "42 22\n",
      "37 15\n",
      "32 6\n",
      "31 4\n",
      "29 0\n"
     ]
    },
    {
     "name": "stderr",
     "output_type": "stream",
     "text": [
      " 61%|████████████████████████████████████████████████████████████████████████████████████████████▏                                                          | 177/290 [25:42<17:06,  9.08s/it]"
     ]
    },
    {
     "name": "stdout",
     "output_type": "stream",
     "text": [
      "28 0\n",
      "ADNI_068_S_4217_20111214\n",
      "564 555\n",
      "313 301\n",
      "180 153\n",
      "135 95\n",
      "128 75\n",
      "144 79\n",
      "443 429\n",
      "303 270\n",
      "230 178\n",
      "176 116\n",
      "157 110\n",
      "80 51\n",
      "35 17\n",
      "26 8\n",
      "24 5\n",
      "20 1\n"
     ]
    },
    {
     "name": "stderr",
     "output_type": "stream",
     "text": [
      " 61%|████████████████████████████████████████████████████████████████████████████████████████████▋                                                          | 178/290 [25:51<16:58,  9.09s/it]"
     ]
    },
    {
     "name": "stdout",
     "output_type": "stream",
     "text": [
      "21 0\n",
      "23 0\n",
      "ADNI_072_S_2116_20101026\n"
     ]
    },
    {
     "name": "stderr",
     "output_type": "stream",
     "text": [
      " 62%|█████████████████████████████████████████████████████████████████████████████████████████████▏                                                         | 179/290 [25:51<11:57,  6.46s/it]"
     ]
    },
    {
     "name": "stdout",
     "output_type": "stream",
     "text": [
      "ADNI_072_S_4007_20111101\n",
      "350 343\n",
      "205 195\n",
      "128 114\n",
      "96 73\n",
      "87 60\n",
      "98 68\n",
      "285 277\n",
      "196 179\n",
      "154 125\n",
      "121 91\n",
      "109 71\n",
      "80 50\n",
      "33 16\n",
      "27 10\n",
      "22 2\n",
      "24 1\n"
     ]
    },
    {
     "name": "stderr",
     "output_type": "stream",
     "text": [
      " 62%|█████████████████████████████████████████████████████████████████████████████████████████████▋                                                         | 180/290 [25:57<11:40,  6.37s/it]"
     ]
    },
    {
     "name": "stdout",
     "output_type": "stream",
     "text": [
      "28 0\n",
      "27 0\n",
      "ADNI_072_S_4057_20111212\n",
      "ADNI_072_S_4063_20111219\n",
      "ADNI_072_S_4103_20110720\n",
      "276 264\n",
      "188 171\n",
      "131 110\n",
      "107 73\n",
      "101 57\n",
      "102 51\n",
      "233 216\n",
      "179 160\n",
      "147 114\n",
      "115 68\n",
      "109 64\n",
      "72 45\n",
      "35 13\n",
      "41 13\n",
      "36 8\n",
      "33 5\n",
      "31 0\n"
     ]
    },
    {
     "name": "stderr",
     "output_type": "stream",
     "text": [
      " 63%|███████████████████████████████████████████████████████████████████████████████████████████████▎                                                       | 183/290 [26:03<06:52,  3.85s/it]"
     ]
    },
    {
     "name": "stdout",
     "output_type": "stream",
     "text": [
      "24 0\n",
      "ADNI_072_S_4769_20121017\n",
      "284 247\n",
      "203 163\n",
      "156 108\n",
      "150 86\n",
      "140 72\n",
      "148 66\n",
      "230 191\n",
      "199 149\n",
      "183 116\n",
      "179 101\n",
      "141 77\n",
      "99 55\n",
      "53 14\n",
      "52 12\n",
      "53 9\n",
      "51 6\n",
      "45 0\n"
     ]
    },
    {
     "name": "stderr",
     "output_type": "stream",
     "text": [
      " 63%|███████████████████████████████████████████████████████████████████████████████████████████████▊                                                       | 184/290 [26:10<08:02,  4.55s/it]"
     ]
    },
    {
     "name": "stdout",
     "output_type": "stream",
     "text": [
      "43 0\n",
      "ADNI_073_S_0311_20110901\n",
      "336 321\n",
      "288 255\n",
      "253 196\n",
      "271 166\n",
      "257 141\n",
      "257 130\n",
      "339 301\n",
      "344 273\n",
      "339 237\n",
      "284 175\n",
      "214 135\n",
      "126 67\n",
      "32 10\n",
      "29 6\n",
      "32 7\n",
      "28 2\n",
      "30 0\n"
     ]
    },
    {
     "name": "stderr",
     "output_type": "stream",
     "text": [
      " 64%|████████████████████████████████████████████████████████████████████████████████████████████████▎                                                      | 185/290 [26:21<10:26,  5.96s/it]"
     ]
    },
    {
     "name": "stdout",
     "output_type": "stream",
     "text": [
      "28 0\n",
      "ADNI_073_S_0746_20120213\n",
      "439 416\n",
      "282 258\n",
      "217 187\n",
      "178 139\n",
      "138 87\n",
      "130 68\n",
      "372 348\n",
      "283 251\n",
      "230 182\n",
      "223 153\n",
      "191 128\n",
      "109 66\n",
      "39 13\n",
      "35 9\n",
      "31 5\n",
      "34 3\n",
      "32 0\n"
     ]
    },
    {
     "name": "stderr",
     "output_type": "stream",
     "text": [
      " 64%|████████████████████████████████████████████████████████████████████████████████████████████████▊                                                      | 186/290 [26:30<11:45,  6.78s/it]"
     ]
    },
    {
     "name": "stdout",
     "output_type": "stream",
     "text": [
      "38 0\n",
      "ADNI_073_S_2153_20101105\n",
      "394 378\n",
      "236 217\n",
      "149 124\n",
      "131 97\n",
      "105 63\n",
      "105 59\n",
      "297 277\n",
      "222 195\n",
      "149 114\n",
      "138 99\n",
      "110 78\n",
      "75 51\n",
      "30 12\n",
      "27 9\n",
      "19 1\n",
      "18 0\n"
     ]
    },
    {
     "name": "stderr",
     "output_type": "stream",
     "text": [
      " 64%|█████████████████████████████████████████████████████████████████████████████████████████████████▎                                                     | 187/290 [26:37<11:46,  6.86s/it]"
     ]
    },
    {
     "name": "stdout",
     "output_type": "stream",
     "text": [
      "18 0\n",
      "17 0\n",
      "ADNI_073_S_2191_20110708\n",
      "371 362\n",
      "218 202\n",
      "134 102\n",
      "126 80\n",
      "127 75\n",
      "139 80\n",
      "316 293\n",
      "218 188\n",
      "177 131\n",
      "135 85\n",
      "111 77\n",
      "77 51\n",
      "27 11\n",
      "20 4\n",
      "23 5\n",
      "19 0\n"
     ]
    },
    {
     "name": "stderr",
     "output_type": "stream",
     "text": [
      " 65%|█████████████████████████████████████████████████████████████████████████████████████████████████▉                                                     | 188/290 [26:43<11:30,  6.77s/it]"
     ]
    },
    {
     "name": "stdout",
     "output_type": "stream",
     "text": [
      "21 0\n",
      "20 0\n",
      "ADNI_073_S_2225_20110808\n",
      "553 541\n",
      "327 314\n",
      "165 142\n",
      "125 91\n",
      "106 66\n",
      "106 62\n",
      "460 446\n",
      "296 273\n",
      "204 172\n",
      "139 93\n",
      "129 81\n",
      "85 43\n",
      "42 20\n",
      "31 8\n",
      "28 4\n"
     ]
    },
    {
     "name": "stderr",
     "output_type": "stream",
     "text": [
      " 65%|██████████████████████████████████████████████████████████████████████████████████████████████████▍                                                    | 189/290 [26:52<12:13,  7.26s/it]"
     ]
    },
    {
     "name": "stdout",
     "output_type": "stream",
     "text": [
      "27 2\n",
      "25 0\n",
      "25 0\n",
      "ADNI_073_S_2264_20110721\n",
      "443 409\n",
      "312 263\n",
      "263 164\n",
      "332 157\n",
      "409 168\n",
      "467 172\n",
      "376 329\n",
      "401 283\n",
      "504 259\n",
      "501 228\n",
      "345 157\n",
      "140 79\n",
      "61 12\n",
      "57 6\n",
      "54 2\n",
      "55 1\n",
      "55 0\n"
     ]
    },
    {
     "name": "stderr",
     "output_type": "stream",
     "text": [
      " 66%|██████████████████████████████████████████████████████████████████████████████████████████████████▉                                                    | 190/290 [27:05<14:48,  8.88s/it]"
     ]
    },
    {
     "name": "stdout",
     "output_type": "stream",
     "text": [
      "57 0\n",
      "ADNI_073_S_4216_20111206\n",
      "605 593\n",
      "468 456\n",
      "304 292\n",
      "189 177\n",
      "143 131\n",
      "106 93\n",
      "536 524\n",
      "423 411\n",
      "347 335\n",
      "204 192\n",
      "152 139\n",
      "75 60\n",
      "39 26\n",
      "29 13\n",
      "28 11\n",
      "24 6\n"
     ]
    },
    {
     "name": "stderr",
     "output_type": "stream",
     "text": [
      " 66%|███████████████████████████████████████████████████████████████████████████████████████████████████▍                                                   | 191/290 [27:15<15:18,  9.28s/it]"
     ]
    },
    {
     "name": "stdout",
     "output_type": "stream",
     "text": [
      "18 0\n",
      "12 0\n",
      "ADNI_073_S_4300_20111012\n",
      "418 408\n",
      "268 250\n",
      "195 168\n",
      "192 118\n",
      "204 97\n",
      "245 98\n",
      "356 338\n",
      "292 244\n",
      "310 199\n",
      "306 170\n",
      "261 156\n",
      "154 91\n",
      "43 23\n",
      "39 16\n",
      "33 8\n",
      "32 4\n",
      "32 0\n"
     ]
    },
    {
     "name": "stderr",
     "output_type": "stream",
     "text": [
      " 66%|███████████████████████████████████████████████████████████████████████████████████████████████████▉                                                   | 192/290 [27:25<15:10,  9.29s/it]"
     ]
    },
    {
     "name": "stdout",
     "output_type": "stream",
     "text": [
      "29 0\n",
      "ADNI_073_S_4311_20111017\n",
      "353 343\n",
      "204 194\n",
      "148 130\n",
      "135 102\n",
      "115 75\n",
      "145 80\n",
      "268 257\n",
      "198 178\n",
      "187 134\n",
      "205 118\n",
      "197 104\n",
      "120 75\n",
      "40 20\n",
      "42 19\n",
      "40 9\n",
      "46 10\n",
      "40 0\n"
     ]
    },
    {
     "name": "stderr",
     "output_type": "stream",
     "text": [
      " 67%|████████████████████████████████████████████████████████████████████████████████████████████████████▍                                                  | 193/290 [27:32<13:56,  8.63s/it]"
     ]
    },
    {
     "name": "stdout",
     "output_type": "stream",
     "text": [
      "36 0\n",
      "ADNI_073_S_4312_20111017\n",
      "406 401\n",
      "348 342\n",
      "165 158\n",
      "111 101\n",
      "75 64\n",
      "58 45\n",
      "361 355\n",
      "321 315\n",
      "287 278\n",
      "109 96\n",
      "73 59\n",
      "46 35\n",
      "22 13\n",
      "14 5\n",
      "15 5\n"
     ]
    },
    {
     "name": "stderr",
     "output_type": "stream",
     "text": [
      " 67%|█████████████████████████████████████████████████████████████████████████████████████████████████████                                                  | 194/290 [27:38<12:58,  8.11s/it]"
     ]
    },
    {
     "name": "stdout",
     "output_type": "stream",
     "text": [
      "15 5\n",
      "10 0\n",
      "11 0\n",
      "ADNI_073_S_4360_20111104\n",
      "463 458\n",
      "310 303\n",
      "133 123\n",
      "112 94\n",
      "101 73\n",
      "102 62\n",
      "386 379\n",
      "295 287\n",
      "242 221\n",
      "152 112\n",
      "133 86\n",
      "89 53\n",
      "24 15\n",
      "21 10\n",
      "21 8\n",
      "18 4\n"
     ]
    },
    {
     "name": "stderr",
     "output_type": "stream",
     "text": [
      " 67%|█████████████████████████████████████████████████████████████████████████████████████████████████████▌                                                 | 195/290 [27:47<12:53,  8.14s/it]"
     ]
    },
    {
     "name": "stdout",
     "output_type": "stream",
     "text": [
      "16 0\n",
      "15 0\n",
      "ADNI_073_S_4382_20111115\n",
      "241 234\n",
      "145 134\n",
      "84 71\n",
      "66 50\n",
      "55 33\n",
      "56 30\n",
      "198 188\n",
      "148 133\n",
      "109 86\n",
      "81 46\n",
      "79 45\n",
      "64 37\n",
      "28 14\n",
      "27 10\n",
      "23 5\n"
     ]
    },
    {
     "name": "stderr",
     "output_type": "stream",
     "text": [
      " 68%|██████████████████████████████████████████████████████████████████████████████████████████████████████                                                 | 196/290 [27:52<11:13,  7.16s/it]"
     ]
    },
    {
     "name": "stdout",
     "output_type": "stream",
     "text": [
      "25 5\n",
      "20 0\n",
      "17 0\n",
      "ADNI_073_S_4393_20111122\n",
      "518 505\n",
      "343 330\n",
      "211 197\n",
      "158 142\n",
      "117 101\n",
      "91 75\n",
      "401 388\n",
      "295 282\n",
      "195 181\n",
      "150 133\n",
      "130 112\n",
      "71 59\n",
      "37 23\n",
      "24 10\n",
      "19 5\n",
      "16 2\n"
     ]
    },
    {
     "name": "stderr",
     "output_type": "stream",
     "text": [
      " 68%|██████████████████████████████████████████████████████████████████████████████████████████████████████▌                                                | 197/290 [28:00<11:40,  7.53s/it]"
     ]
    },
    {
     "name": "stdout",
     "output_type": "stream",
     "text": [
      "14 0\n",
      "13 0\n",
      "ADNI_073_S_4552_20120524\n",
      "598 574\n",
      "381 352\n",
      "254 213\n",
      "203 157\n",
      "167 116\n",
      "157 101\n",
      "480 449\n",
      "356 315\n",
      "284 238\n",
      "219 166\n",
      "169 124\n",
      "116 75\n",
      "62 26\n",
      "58 19\n",
      "50 8\n",
      "44 1\n",
      "46 0\n"
     ]
    },
    {
     "name": "stderr",
     "output_type": "stream",
     "text": [
      " 68%|███████████████████████████████████████████████████████████████████████████████████████████████████████                                                | 198/290 [28:10<12:56,  8.44s/it]"
     ]
    },
    {
     "name": "stdout",
     "output_type": "stream",
     "text": [
      "46 0\n",
      "ADNI_073_S_4559_20121012\n",
      "574 544\n",
      "431 393\n",
      "349 299\n",
      "298 227\n",
      "283 198\n",
      "273 177\n",
      "498 455\n",
      "444 391\n",
      "395 321\n",
      "331 255\n",
      "268 206\n",
      "172 128\n",
      "73 38\n",
      "59 22\n",
      "50 11\n",
      "42 2\n"
     ]
    },
    {
     "name": "stderr",
     "output_type": "stream",
     "text": [
      " 69%|███████████████████████████████████████████████████████████████████████████████████████████████████████▌                                               | 199/290 [28:23<14:36,  9.63s/it]"
     ]
    },
    {
     "name": "stdout",
     "output_type": "stream",
     "text": [
      "41 0\n",
      "39 0\n",
      "ADNI_073_S_4614_20120919\n",
      "471 462\n",
      "312 302\n",
      "146 134\n",
      "104 91\n",
      "70 55\n",
      "52 36\n",
      "410 400\n",
      "307 295\n",
      "204 190\n",
      "109 96\n",
      "81 63\n",
      "48 27\n",
      "23 11\n",
      "19 6\n",
      "22 7\n"
     ]
    },
    {
     "name": "stderr",
     "output_type": "stream",
     "text": [
      " 69%|████████████████████████████████████████████████████████████████████████████████████████████████████████▏                                              | 200/290 [28:30<13:09,  8.77s/it]"
     ]
    },
    {
     "name": "stdout",
     "output_type": "stream",
     "text": [
      "18 3\n",
      "15 0\n",
      "13 0\n",
      "ADNI_073_S_4739_20121114\n",
      "375 367\n",
      "223 214\n",
      "170 152\n",
      "136 108\n",
      "119 85\n",
      "110 65\n",
      "281 271\n",
      "214 196\n",
      "178 149\n",
      "142 100\n",
      "124 84\n",
      "87 47\n",
      "27 14\n",
      "20 6\n",
      "19 4\n",
      "17 2\n"
     ]
    },
    {
     "name": "stderr",
     "output_type": "stream",
     "text": [
      " 69%|████████████████████████████████████████████████████████████████████████████████████████████████████████▋                                              | 201/290 [28:37<12:15,  8.27s/it]"
     ]
    },
    {
     "name": "stdout",
     "output_type": "stream",
     "text": [
      "18 0\n",
      "16 0\n",
      "ADNI_073_S_4777_20121212\n",
      "470 454\n",
      "304 285\n",
      "222 185\n",
      "222 135\n",
      "247 114\n",
      "314 118\n",
      "391 365\n",
      "372 302\n",
      "452 272\n",
      "361 196\n",
      "214 124\n",
      "101 53\n",
      "36 13\n",
      "35 7\n",
      "37 6\n",
      "35 4\n",
      "32 0\n"
     ]
    },
    {
     "name": "stderr",
     "output_type": "stream",
     "text": [
      " 70%|█████████████████████████████████████████████████████████████████████████████████████████████████████████▏                                             | 202/290 [28:49<13:39,  9.32s/it]"
     ]
    },
    {
     "name": "stdout",
     "output_type": "stream",
     "text": [
      "29 0\n",
      "ADNI_073_S_4795_20120606\n",
      "231 223\n",
      "133 122\n",
      "82 70\n",
      "62 51\n",
      "61 47\n",
      "52 40\n",
      "167 156\n",
      "116 105\n",
      "85 74\n",
      "64 50\n",
      "56 42\n",
      "48 31\n",
      "20 9\n",
      "16 4\n",
      "17 5\n",
      "15 2\n",
      "13 0\n"
     ]
    },
    {
     "name": "stderr",
     "output_type": "stream",
     "text": [
      " 70%|█████████████████████████████████████████████████████████████████████████████████████████████████████████▋                                             | 203/290 [28:53<11:18,  7.80s/it]"
     ]
    },
    {
     "name": "stdout",
     "output_type": "stream",
     "text": [
      "12 0\n",
      "ADNI_073_S_5023_20130403\n",
      "272 261\n",
      "190 178\n",
      "136 123\n",
      "130 104\n",
      "127 83\n",
      "142 77\n",
      "217 206\n",
      "182 162\n",
      "153 119\n",
      "187 119\n",
      "183 114\n",
      "107 63\n",
      "34 16\n",
      "30 9\n",
      "31 8\n",
      "30 3\n",
      "29 0\n"
     ]
    },
    {
     "name": "stderr",
     "output_type": "stream",
     "text": [
      " 70%|██████████████████████████████████████████████████████████████████████████████████████████████████████████▏                                            | 204/290 [29:00<10:49,  7.55s/it]"
     ]
    },
    {
     "name": "stdout",
     "output_type": "stream",
     "text": [
      "28 0\n",
      "ADNI_082_S_2121_20101012\n",
      "312 300\n",
      "213 200\n",
      "184 168\n",
      "136 119\n",
      "100 83\n",
      "76 59\n",
      "250 238\n",
      "215 200\n",
      "164 147\n",
      "130 113\n",
      "110 93\n",
      "60 39\n",
      "29 14\n",
      "27 11\n",
      "23 6\n"
     ]
    },
    {
     "name": "stderr",
     "output_type": "stream",
     "text": [
      " 71%|██████████████████████████████████████████████████████████████████████████████████████████████████████████▋                                            | 205/290 [29:06<10:18,  7.28s/it]"
     ]
    },
    {
     "name": "stdout",
     "output_type": "stream",
     "text": [
      "24 6\n",
      "18 0\n",
      "19 0\n",
      "ADNI_082_S_4090_20110921\n",
      "430 417\n",
      "255 237\n",
      "161 131\n",
      "136 86\n",
      "140 73\n",
      "149 65\n",
      "334 318\n",
      "248 216\n",
      "184 124\n",
      "174 101\n",
      "180 97\n",
      "102 63\n",
      "41 16\n",
      "36 10\n",
      "37 8\n",
      "34 4\n",
      "32 0\n"
     ]
    },
    {
     "name": "stderr",
     "output_type": "stream",
     "text": [
      " 71%|███████████████████████████████████████████████████████████████████████████████████████████████████████████▎                                           | 206/290 [29:15<10:39,  7.62s/it]"
     ]
    },
    {
     "name": "stdout",
     "output_type": "stream",
     "text": [
      "30 0\n",
      "ADNI_082_S_4208_20111207\n",
      "591 581\n",
      "407 388\n",
      "258 229\n",
      "215 169\n",
      "194 141\n",
      "193 114\n",
      "513 497\n",
      "388 360\n",
      "314 259\n",
      "263 183\n",
      "214 143\n",
      "136 84\n",
      "36 19\n",
      "33 14\n",
      "33 12\n"
     ]
    },
    {
     "name": "stderr",
     "output_type": "stream",
     "text": [
      " 71%|███████████████████████████████████████████████████████████████████████████████████████████████████████████▊                                           | 207/290 [29:26<12:10,  8.80s/it]"
     ]
    },
    {
     "name": "stdout",
     "output_type": "stream",
     "text": [
      "25 2\n",
      "26 0\n",
      "24 0\n",
      "ADNI_082_S_4244_20111019\n",
      "440 429\n",
      "302 289\n",
      "232 206\n",
      "236 177\n",
      "225 140\n",
      "257 133\n",
      "379 364\n",
      "322 282\n",
      "306 225\n",
      "337 216\n",
      "277 180\n",
      "163 111\n",
      "36 20\n",
      "45 27\n",
      "32 13\n"
     ]
    },
    {
     "name": "stderr",
     "output_type": "stream",
     "text": [
      " 72%|████████████████████████████████████████████████████████████████████████████████████████████████████████████▎                                          | 208/290 [29:36<12:29,  9.14s/it]"
     ]
    },
    {
     "name": "stdout",
     "output_type": "stream",
     "text": [
      "26 6\n",
      "20 0\n",
      "15 0\n",
      "ADNI_082_S_4339_20111109\n",
      "249 242\n",
      "166 154\n",
      "119 104\n",
      "111 83\n",
      "100 64\n",
      "124 62\n",
      "207 195\n",
      "164 145\n",
      "154 115\n",
      "132 86\n",
      "118 70\n",
      "123 59\n",
      "48 31\n",
      "39 19\n",
      "39 16\n",
      "34 4\n",
      "35 0\n"
     ]
    },
    {
     "name": "stderr",
     "output_type": "stream",
     "text": [
      " 72%|████████████████████████████████████████████████████████████████████████████████████████████████████████████▊                                          | 209/290 [29:42<11:03,  8.19s/it]"
     ]
    },
    {
     "name": "stdout",
     "output_type": "stream",
     "text": [
      "29 0\n",
      "ADNI_100_S_4469_20121023\n",
      "272 264\n",
      "170 162\n",
      "110 102\n",
      "90 82\n",
      "68 60\n",
      "53 45\n",
      "212 204\n",
      "147 139\n",
      "105 97\n",
      "87 79\n",
      "61 55\n",
      "40 36\n",
      "17 9\n",
      "10 2\n",
      "9 1\n",
      "9 1\n"
     ]
    },
    {
     "name": "stderr",
     "output_type": "stream",
     "text": [
      " 72%|█████████████████████████████████████████████████████████████████████████████████████████████████████████████▎                                         | 210/290 [29:47<09:35,  7.20s/it]"
     ]
    },
    {
     "name": "stdout",
     "output_type": "stream",
     "text": [
      "8 0\n",
      "7 0\n",
      "ADNI_100_S_4512_20121106\n",
      "285 265\n",
      "210 182\n",
      "180 129\n",
      "248 145\n",
      "312 152\n",
      "380 167\n",
      "259 229\n",
      "293 209\n",
      "388 209\n",
      "455 234\n",
      "345 182\n",
      "179 105\n",
      "63 26\n",
      "60 17\n",
      "51 8\n",
      "51 6\n",
      "48 0\n"
     ]
    },
    {
     "name": "stderr",
     "output_type": "stream",
     "text": [
      " 73%|█████████████████████████████████████████████████████████████████████████████████████████████████████████████▊                                         | 211/290 [29:58<11:02,  8.39s/it]"
     ]
    },
    {
     "name": "stdout",
     "output_type": "stream",
     "text": [
      "48 0\n",
      "ADNI_100_S_4556_20121126\n",
      "538 524\n",
      "374 357\n",
      "224 206\n",
      "148 129\n",
      "98 77\n",
      "67 42\n",
      "490 474\n",
      "349 331\n",
      "223 205\n",
      "141 125\n",
      "99 83\n",
      "65 44\n",
      "24 9\n",
      "22 6\n",
      "19 2\n"
     ]
    },
    {
     "name": "stderr",
     "output_type": "stream",
     "text": [
      " 73%|██████████████████████████████████████████████████████████████████████████████████████████████████████████████▍                                        | 212/290 [30:06<10:48,  8.31s/it]"
     ]
    },
    {
     "name": "stdout",
     "output_type": "stream",
     "text": [
      "19 1\n",
      "20 0\n",
      "20 0\n",
      "ADNI_114_S_4404_20120802\n",
      "277 269\n",
      "176 167\n",
      "90 81\n",
      "67 58\n",
      "53 44\n",
      "44 33\n",
      "223 215\n",
      "161 152\n",
      "106 97\n",
      "63 53\n",
      "44 34\n",
      "30 17\n",
      "20 10\n",
      "15 5\n",
      "15 4\n",
      "13 1\n"
     ]
    },
    {
     "name": "stderr",
     "output_type": "stream",
     "text": [
      " 73%|██████████████████████████████████████████████████████████████████████████████████████████████████████████████▉                                        | 213/290 [30:11<09:06,  7.10s/it]"
     ]
    },
    {
     "name": "stdout",
     "output_type": "stream",
     "text": [
      "13 0\n",
      "13 0\n",
      "ADNI_116_S_4043_20111209\n",
      "544 531\n",
      "399 382\n",
      "274 253\n",
      "226 196\n",
      "181 134\n",
      "167 111\n",
      "464 447\n",
      "380 360\n",
      "316 284\n",
      "275 222\n",
      "238 187\n",
      "123 98\n",
      "28 9\n",
      "27 6\n",
      "25 3\n",
      "24 1\n"
     ]
    },
    {
     "name": "stderr",
     "output_type": "stream",
     "text": [
      " 74%|███████████████████████████████████████████████████████████████████████████████████████████████████████████████▍                                       | 214/290 [30:21<10:09,  8.02s/it]"
     ]
    },
    {
     "name": "stdout",
     "output_type": "stream",
     "text": [
      "24 0\n",
      "26 0\n",
      "ADNI_116_S_4092_20110921\n",
      "413 398\n",
      "277 247\n",
      "204 134\n",
      "282 135\n",
      "335 137\n",
      "427 173\n",
      "359 329\n",
      "317 237\n",
      "369 193\n",
      "460 223\n",
      "385 213\n",
      "194 105\n",
      "43 19\n",
      "34 7\n",
      "35 5\n",
      "34 3\n",
      "35 0\n"
     ]
    },
    {
     "name": "stderr",
     "output_type": "stream",
     "text": [
      " 74%|███████████████████████████████████████████████████████████████████████████████████████████████████████████████▉                                       | 215/290 [30:32<11:18,  9.05s/it]"
     ]
    },
    {
     "name": "stdout",
     "output_type": "stream",
     "text": [
      "35 0\n",
      "ADNI_116_S_4167_20111109\n",
      "326 316\n",
      "220 207\n",
      "164 151\n",
      "125 111\n",
      "104 89\n",
      "79 62\n",
      "251 238\n",
      "189 176\n",
      "150 136\n",
      "133 116\n",
      "109 88\n",
      "80 65\n",
      "36 21\n",
      "32 15\n",
      "27 9\n",
      "23 4\n"
     ]
    },
    {
     "name": "stderr",
     "output_type": "stream",
     "text": [
      " 74%|████████████████████████████████████████████████████████████████████████████████████████████████████████████████▍                                      | 216/290 [30:38<10:00,  8.12s/it]"
     ]
    },
    {
     "name": "stdout",
     "output_type": "stream",
     "text": [
      "20 0\n",
      "18 0\n",
      "ADNI_116_S_4175_20111114\n",
      "320 315\n",
      "260 253\n",
      "95 88\n",
      "65 58\n",
      "64 53\n",
      "61 47\n",
      "315 308\n",
      "229 222\n",
      "180 171\n",
      "74 60\n",
      "59 47\n",
      "54 45\n",
      "22 12\n",
      "15 5\n"
     ]
    },
    {
     "name": "stderr",
     "output_type": "stream",
     "text": [
      " 75%|████████████████████████████████████████████████████████████████████████████████████████████████████████████████▉                                      | 217/290 [30:44<08:52,  7.30s/it]"
     ]
    },
    {
     "name": "stdout",
     "output_type": "stream",
     "text": [
      "13 1\n",
      "12 0\n",
      "15 0\n",
      "13 0\n",
      "ADNI_116_S_4195_20111209\n",
      "318 306\n",
      "195 182\n",
      "96 83\n",
      "86 71\n",
      "65 50\n",
      "62 45\n",
      "254 241\n",
      "166 153\n",
      "116 101\n",
      "89 72\n",
      "76 57\n",
      "54 38\n",
      "27 12\n",
      "21 5\n",
      "19 3\n"
     ]
    },
    {
     "name": "stderr",
     "output_type": "stream",
     "text": [
      " 75%|█████████████████████████████████████████████████████████████████████████████████████████████████████████████████▌                                     | 218/290 [30:49<07:54,  6.59s/it]"
     ]
    },
    {
     "name": "stdout",
     "output_type": "stream",
     "text": [
      "17 0\n",
      "19 0\n",
      "17 0\n",
      "ADNI_116_S_4199_20111123\n",
      "381 375\n",
      "242 235\n",
      "117 105\n",
      "93 70\n",
      "93 67\n",
      "87 57\n",
      "317 311\n",
      "236 222\n",
      "195 174\n",
      "94 68\n",
      "73 60\n",
      "35 28\n",
      "18 10\n",
      "15 7\n",
      "12 3\n",
      "13 4\n"
     ]
    },
    {
     "name": "stderr",
     "output_type": "stream",
     "text": [
      " 76%|██████████████████████████████████████████████████████████████████████████████████████████████████████████████████                                     | 219/290 [30:54<07:31,  6.36s/it]"
     ]
    },
    {
     "name": "stdout",
     "output_type": "stream",
     "text": [
      "9 0\n",
      "6 0\n",
      "ADNI_116_S_4453_20120809\n",
      "382 371\n",
      "239 227\n",
      "165 150\n",
      "140 109\n",
      "118 74\n",
      "106 51\n",
      "293 280\n",
      "225 207\n",
      "195 161\n",
      "150 109\n",
      "135 87\n",
      "85 62\n",
      "38 16\n",
      "35 12\n",
      "32 8\n",
      "30 5\n",
      "27 0\n"
     ]
    },
    {
     "name": "stderr",
     "output_type": "stream",
     "text": [
      " 76%|██████████████████████████████████████████████████████████████████████████████████████████████████████████████████▌                                    | 220/290 [31:01<07:34,  6.49s/it]"
     ]
    },
    {
     "name": "stdout",
     "output_type": "stream",
     "text": [
      "27 0\n",
      "ADNI_116_S_4483_20120821\n",
      "286 277\n",
      "213 202\n",
      "142 125\n",
      "105 82\n",
      "96 62\n",
      "90 46\n",
      "249 238\n",
      "200 180\n",
      "154 120\n",
      "119 76\n",
      "131 72\n",
      "78 38\n",
      "31 10\n",
      "29 6\n",
      "25 2\n",
      "28 4\n",
      "28 0\n"
     ]
    },
    {
     "name": "stderr",
     "output_type": "stream",
     "text": [
      " 76%|███████████████████████████████████████████████████████████████████████████████████████████████████████████████████                                    | 221/290 [31:07<07:17,  6.35s/it]"
     ]
    },
    {
     "name": "stdout",
     "output_type": "stream",
     "text": [
      "28 0\n",
      "ADNI_116_S_4625_20121019\n",
      "535 524\n",
      "335 317\n",
      "223 203\n",
      "176 151\n",
      "130 101\n",
      "120 88\n",
      "421 405\n",
      "278 256\n",
      "235 196\n",
      "176 136\n",
      "136 106\n",
      "65 51\n",
      "36 20\n",
      "32 16\n",
      "26 10\n",
      "21 3\n"
     ]
    },
    {
     "name": "stderr",
     "output_type": "stream",
     "text": [
      " 77%|███████████████████████████████████████████████████████████████████████████████████████████████████████████████████▌                                   | 222/290 [31:16<07:53,  6.96s/it]"
     ]
    },
    {
     "name": "stdout",
     "output_type": "stream",
     "text": [
      "21 0\n",
      "18 0\n",
      "ADNI_116_S_4635_20121015\n",
      "424 384\n",
      "314 262\n",
      "289 192\n",
      "400 198\n",
      "452 192\n",
      "523 228\n",
      "396 340\n",
      "406 291\n",
      "493 276\n",
      "477 249\n",
      "287 157\n",
      "124 55\n",
      "89 29\n",
      "81 18\n",
      "80 11\n",
      "80 5\n",
      "77 0\n"
     ]
    },
    {
     "name": "stderr",
     "output_type": "stream",
     "text": [
      " 77%|████████████████████████████████████████████████████████████████████████████████████████████████████████████████████                                   | 223/290 [31:29<09:57,  8.93s/it]"
     ]
    },
    {
     "name": "stdout",
     "output_type": "stream",
     "text": [
      "72 0\n",
      "ADNI_116_S_4898_20121107\n",
      "513 494\n",
      "328 303\n",
      "216 176\n",
      "190 125\n",
      "183 106\n",
      "190 99\n",
      "417 389\n",
      "313 276\n",
      "264 186\n",
      "225 134\n",
      "184 106\n",
      "120 74\n",
      "48 22\n",
      "40 12\n",
      "35 7\n",
      "33 3\n",
      "32 0\n"
     ]
    },
    {
     "name": "stderr",
     "output_type": "stream",
     "text": [
      " 77%|████████████████████████████████████████████████████████████████████████████████████████████████████████████████████▋                                  | 224/290 [31:39<10:09,  9.24s/it]"
     ]
    },
    {
     "name": "stdout",
     "output_type": "stream",
     "text": [
      "34 0\n",
      "ADNI_123_S_2363_20110422\n",
      "270 256\n",
      "193 176\n",
      "120 100\n",
      "127 88\n",
      "119 77\n",
      "120 70\n",
      "221 204\n",
      "185 161\n",
      "142 109\n",
      "148 97\n",
      "131 74\n",
      "120 70\n",
      "42 17\n",
      "39 11\n",
      "40 8\n",
      "36 4\n",
      "38 0\n"
     ]
    },
    {
     "name": "stderr",
     "output_type": "stream",
     "text": [
      " 78%|█████████████████████████████████████████████████████████████████████████████████████████████████████████████████████▏                                 | 225/290 [31:46<09:12,  8.50s/it]"
     ]
    },
    {
     "name": "stdout",
     "output_type": "stream",
     "text": [
      "33 0\n",
      "ADNI_123_S_4127_20111114\n",
      "404 398\n",
      "249 242\n",
      "133 122\n",
      "86 74\n",
      "63 50\n",
      "53 35\n",
      "324 317\n",
      "223 212\n",
      "142 128\n",
      "86 66\n",
      "70 49\n",
      "50 31\n",
      "18 8\n",
      "17 6\n",
      "16 4\n"
     ]
    },
    {
     "name": "stderr",
     "output_type": "stream",
     "text": [
      " 78%|█████████████████████████████████████████████████████████████████████████████████████████████████████████████████████▋                                 | 226/290 [31:52<08:21,  7.84s/it]"
     ]
    },
    {
     "name": "stdout",
     "output_type": "stream",
     "text": [
      "17 4\n",
      "13 0\n",
      "11 0\n",
      "ADNI_123_S_4170_20111209\n",
      "442 423\n",
      "282 262\n",
      "184 157\n",
      "142 108\n",
      "128 93\n",
      "110 75\n",
      "372 352\n",
      "271 247\n",
      "199 167\n",
      "152 112\n",
      "109 76\n",
      "86 57\n",
      "50 23\n",
      "39 12\n",
      "36 8\n",
      "36 7\n",
      "31 0\n"
     ]
    },
    {
     "name": "stderr",
     "output_type": "stream",
     "text": [
      " 78%|██████████████████████████████████████████████████████████████████████████████████████████████████████████████████████▏                                | 227/290 [32:01<08:24,  8.01s/it]"
     ]
    },
    {
     "name": "stdout",
     "output_type": "stream",
     "text": [
      "29 0\n",
      "ADNI_123_S_4526_20120814\n",
      "542 520\n",
      "395 367\n",
      "264 234\n",
      "216 169\n",
      "181 123\n",
      "181 107\n",
      "457 428\n",
      "377 346\n",
      "310 264\n",
      "244 186\n",
      "177 130\n",
      "112 63\n",
      "52 25\n",
      "43 15\n",
      "43 10\n",
      "38 3\n",
      "36 0\n"
     ]
    },
    {
     "name": "stderr",
     "output_type": "stream",
     "text": [
      " 79%|██████████████████████████████████████████████████████████████████████████████████████████████████████████████████████▋                                | 228/290 [32:12<09:17,  8.99s/it]"
     ]
    },
    {
     "name": "stdout",
     "output_type": "stream",
     "text": [
      "37 0\n",
      "ADNI_123_S_4780_20121220\n",
      "380 372\n",
      "258 248\n",
      "159 145\n",
      "120 98\n",
      "104 71\n",
      "112 71\n",
      "323 312\n",
      "224 211\n",
      "192 166\n",
      "143 100\n",
      "132 88\n",
      "80 58\n",
      "19 8\n",
      "20 8\n"
     ]
    },
    {
     "name": "stderr",
     "output_type": "stream",
     "text": [
      " 79%|███████████████████████████████████████████████████████████████████████████████████████████████████████████████████████▏                               | 229/290 [32:19<08:29,  8.35s/it]"
     ]
    },
    {
     "name": "stdout",
     "output_type": "stream",
     "text": [
      "16 4\n",
      "14 2\n",
      "12 0\n",
      "13 0\n",
      "ADNI_130_S_2373_20111101\n",
      "298 285\n",
      "187 173\n",
      "120 104\n",
      "77 59\n",
      "68 50\n",
      "67 47\n",
      "242 228\n",
      "162 146\n",
      "115 98\n",
      "73 53\n",
      "64 40\n",
      "52 33\n",
      "43 24\n",
      "32 12\n",
      "26 4\n",
      "28 4\n"
     ]
    },
    {
     "name": "stderr",
     "output_type": "stream",
     "text": [
      " 79%|███████████████████████████████████████████████████████████████████████████████████████████████████████████████████████▊                               | 230/290 [32:24<07:26,  7.44s/it]"
     ]
    },
    {
     "name": "stdout",
     "output_type": "stream",
     "text": [
      "25 0\n",
      "23 0\n",
      "ADNI_130_S_4250_20111005\n",
      "343 326\n",
      "249 231\n",
      "147 127\n",
      "112 82\n",
      "100 59\n",
      "110 56\n",
      "291 273\n",
      "206 186\n",
      "152 119\n",
      "137 86\n",
      "131 74\n",
      "89 47\n",
      "51 23\n",
      "47 16\n",
      "43 11\n",
      "41 8\n",
      "34 0\n"
     ]
    },
    {
     "name": "stderr",
     "output_type": "stream",
     "text": [
      " 80%|████████████████████████████████████████████████████████████████████████████████████████████████████████████████████████▎                              | 231/290 [32:31<07:16,  7.40s/it]"
     ]
    },
    {
     "name": "stdout",
     "output_type": "stream",
     "text": [
      "32 0\n",
      "ADNI_130_S_4294_20111121\n",
      "475 463\n",
      "337 322\n",
      "201 181\n",
      "153 119\n",
      "135 86\n",
      "139 71\n",
      "406 392\n",
      "320 297\n",
      "287 238\n",
      "203 128\n",
      "175 116\n",
      "108 70\n",
      "40 17\n",
      "42 14\n",
      "39 11\n",
      "32 2\n",
      "31 0\n"
     ]
    },
    {
     "name": "stderr",
     "output_type": "stream",
     "text": [
      " 80%|████████████████████████████████████████████████████████████████████████████████████████████████████████████████████████▊                              | 232/290 [32:41<07:49,  8.10s/it]"
     ]
    },
    {
     "name": "stdout",
     "output_type": "stream",
     "text": [
      "31 0\n",
      "ADNI_130_S_4343_20111109\n",
      "482 440\n",
      "334 283\n",
      "286 201\n",
      "336 189\n",
      "341 156\n",
      "408 172\n",
      "410 358\n",
      "394 288\n",
      "463 254\n",
      "511 279\n",
      "341 195\n",
      "132 70\n",
      "89 29\n",
      "75 15\n",
      "71 8\n",
      "67 4\n",
      "66 0\n"
     ]
    },
    {
     "name": "stderr",
     "output_type": "stream",
     "text": [
      " 80%|█████████████████████████████████████████████████████████████████████████████████████████████████████████████████████████▎                             | 233/290 [32:56<09:33, 10.07s/it]"
     ]
    },
    {
     "name": "stdout",
     "output_type": "stream",
     "text": [
      "68 0\n",
      "ADNI_130_S_4405_20120416\n",
      "351 337\n",
      "231 207\n",
      "157 119\n",
      "146 101\n",
      "134 81\n",
      "130 65\n",
      "282 255\n",
      "230 191\n",
      "208 159\n",
      "163 106\n",
      "141 86\n",
      "88 54\n",
      "37 11\n",
      "38 9\n",
      "38 7\n",
      "34 1\n",
      "34 0\n"
     ]
    },
    {
     "name": "stderr",
     "output_type": "stream",
     "text": [
      " 81%|█████████████████████████████████████████████████████████████████████████████████████████████████████████████████████████▊                             | 234/290 [33:03<08:34,  9.19s/it]"
     ]
    },
    {
     "name": "stdout",
     "output_type": "stream",
     "text": [
      "29 0\n",
      "ADNI_130_S_4415_20120517\n",
      "369 326\n",
      "268 222\n",
      "211 151\n",
      "228 132\n",
      "237 117\n",
      "299 134\n",
      "321 276\n",
      "264 196\n",
      "287 188\n",
      "329 181\n",
      "266 145\n",
      "155 68\n",
      "71 16\n",
      "67 11\n",
      "65 6\n",
      "63 2\n",
      "65 0\n"
     ]
    },
    {
     "name": "stderr",
     "output_type": "stream",
     "text": [
      " 81%|██████████████████████████████████████████████████████████████████████████████████████████████████████████████████████████▎                            | 235/290 [33:13<08:36,  9.40s/it]"
     ]
    },
    {
     "name": "stdout",
     "output_type": "stream",
     "text": [
      "64 0\n",
      "ADNI_130_S_4417_20120727\n",
      "376 362\n",
      "264 241\n",
      "159 117\n",
      "198 100\n",
      "229 97\n",
      "269 102\n",
      "318 287\n",
      "292 228\n",
      "329 193\n",
      "297 146\n",
      "232 134\n",
      "107 59\n",
      "43 14\n",
      "41 10\n",
      "37 6\n",
      "38 4\n",
      "36 0\n"
     ]
    },
    {
     "name": "stderr",
     "output_type": "stream",
     "text": [
      " 81%|██████████████████████████████████████████████████████████████████████████████████████████████████████████████████████████▉                            | 236/290 [33:23<08:34,  9.52s/it]"
     ]
    },
    {
     "name": "stdout",
     "output_type": "stream",
     "text": [
      "34 0\n",
      "ADNI_130_S_4468_20120813\n",
      "334 325\n",
      "211 200\n",
      "143 127\n",
      "111 87\n",
      "98 69\n",
      "90 58\n",
      "266 254\n",
      "199 181\n",
      "147 121\n",
      "120 84\n",
      "112 75\n",
      "78 53\n",
      "41 25\n",
      "40 23\n",
      "30 13\n",
      "23 6\n"
     ]
    },
    {
     "name": "stderr",
     "output_type": "stream",
     "text": [
      " 82%|███████████████████████████████████████████████████████████████████████████████████████████████████████████████████████████▍                           | 237/290 [33:29<07:27,  8.44s/it]"
     ]
    },
    {
     "name": "stdout",
     "output_type": "stream",
     "text": [
      "17 0\n",
      "19 0\n",
      "ADNI_130_S_4641_20121010\n",
      "476 442\n",
      "318 271\n",
      "286 216\n",
      "349 181\n",
      "393 159\n",
      "465 158\n",
      "398 353\n",
      "379 297\n",
      "493 290\n",
      "494 226\n",
      "346 157\n",
      "137 49\n",
      "70 16\n",
      "71 14\n",
      "72 12\n",
      "69 7\n",
      "63 0\n"
     ]
    },
    {
     "name": "stderr",
     "output_type": "stream",
     "text": [
      " 82%|███████████████████████████████████████████████████████████████████████████████████████████████████████████████████████████▉                           | 238/290 [33:42<08:33,  9.88s/it]"
     ]
    },
    {
     "name": "stdout",
     "output_type": "stream",
     "text": [
      "61 0\n",
      "ADNI_135_S_4281_20111014\n",
      "269 229\n",
      "215 149\n",
      "285 132\n",
      "394 155\n",
      "455 165\n",
      "499 176\n",
      "273 187\n",
      "360 194\n",
      "454 204\n",
      "444 193\n",
      "233 103\n",
      "102 41\n",
      "61 13\n",
      "57 8\n",
      "56 6\n",
      "57 4\n",
      "55 0\n"
     ]
    },
    {
     "name": "stderr",
     "output_type": "stream",
     "text": [
      " 82%|████████████████████████████████████████████████████████████████████████████████████████████████████████████████████████████▍                          | 239/290 [33:53<08:50, 10.41s/it]"
     ]
    },
    {
     "name": "stdout",
     "output_type": "stream",
     "text": [
      "51 0\n",
      "ADNI_135_S_4309_20111026\n",
      "363 346\n",
      "234 210\n",
      "177 136\n",
      "185 108\n",
      "196 102\n",
      "217 102\n",
      "269 247\n",
      "239 192\n",
      "232 149\n",
      "227 126\n",
      "172 98\n",
      "102 58\n",
      "56 28\n",
      "48 18\n",
      "43 12\n",
      "36 2\n",
      "36 0\n"
     ]
    },
    {
     "name": "stderr",
     "output_type": "stream",
     "text": [
      " 83%|████████████████████████████████████████████████████████████████████████████████████████████████████████████████████████████▉                          | 240/290 [34:01<08:03,  9.67s/it]"
     ]
    },
    {
     "name": "stdout",
     "output_type": "stream",
     "text": [
      "33 0\n",
      "ADNI_135_S_4356_20111110\n",
      "353 342\n",
      "210 198\n",
      "113 99\n",
      "96 77\n",
      "91 70\n",
      "88 58\n",
      "293 280\n",
      "201 187\n",
      "140 122\n",
      "110 80\n",
      "102 68\n",
      "77 47\n",
      "40 21\n",
      "40 14\n",
      "35 7\n",
      "35 4\n",
      "33 0\n"
     ]
    },
    {
     "name": "stderr",
     "output_type": "stream",
     "text": [
      " 83%|█████████████████████████████████████████████████████████████████████████████████████████████████████████████████████████████▍                         | 241/290 [34:07<06:58,  8.55s/it]"
     ]
    },
    {
     "name": "stdout",
     "output_type": "stream",
     "text": [
      "31 0\n",
      "ADNI_135_S_4406_20111207\n",
      "536 532\n",
      "390 386\n",
      "182 178\n",
      "112 107\n",
      "72 67\n",
      "50 45\n",
      "468 464\n",
      "360 356\n",
      "250 245\n",
      "105 100\n",
      "82 77\n",
      "37 32\n",
      "14 9\n"
     ]
    },
    {
     "name": "stderr",
     "output_type": "stream",
     "text": [
      " 83%|██████████████████████████████████████████████████████████████████████████████████████████████████████████████████████████████                         | 242/290 [34:15<06:35,  8.23s/it]"
     ]
    },
    {
     "name": "stdout",
     "output_type": "stream",
     "text": [
      "8 3\n",
      "6 1\n",
      "5 0\n",
      "5 0\n",
      "5 0\n",
      "ADNI_135_S_4446_20120809\n",
      "339 289\n",
      "230 176\n",
      "195 127\n",
      "206 116\n",
      "234 123\n",
      "252 120\n",
      "292 239\n",
      "242 174\n",
      "223 139\n",
      "245 128\n",
      "210 105\n",
      "136 68\n",
      "81 19\n",
      "77 14\n",
      "72 6\n",
      "71 2\n"
     ]
    },
    {
     "name": "stderr",
     "output_type": "stream",
     "text": [
      " 84%|██████████████████████████████████████████████████████████████████████████████████████████████████████████████████████████████▌                        | 243/290 [34:24<06:36,  8.43s/it]"
     ]
    },
    {
     "name": "stdout",
     "output_type": "stream",
     "text": [
      "72 0\n",
      "66 0\n",
      "ADNI_135_S_4489_20120802\n",
      "259 247\n",
      "161 148\n",
      "144 116\n",
      "130 86\n",
      "133 76\n",
      "162 77\n",
      "204 190\n",
      "181 146\n",
      "168 107\n",
      "188 96\n",
      "157 76\n",
      "98 41\n",
      "35 18\n",
      "32 11\n",
      "25 4\n",
      "23 1\n"
     ]
    },
    {
     "name": "stderr",
     "output_type": "stream",
     "text": [
      " 84%|███████████████████████████████████████████████████████████████████████████████████████████████████████████████████████████████                        | 244/290 [34:30<05:55,  7.73s/it]"
     ]
    },
    {
     "name": "stdout",
     "output_type": "stream",
     "text": [
      "26 0\n",
      "27 0\n",
      "ADNI_135_S_4566_20120919\n",
      "306 290\n",
      "211 192\n",
      "130 105\n",
      "113 72\n",
      "118 59\n",
      "124 56\n",
      "253 234\n",
      "189 165\n",
      "164 121\n",
      "150 72\n",
      "137 65\n",
      "91 39\n",
      "35 15\n",
      "26 6\n",
      "27 6\n"
     ]
    },
    {
     "name": "stderr",
     "output_type": "stream",
     "text": [
      " 84%|███████████████████████████████████████████████████████████████████████████████████████████████████████████████████████████████▌                       | 245/290 [34:36<05:25,  7.24s/it]"
     ]
    },
    {
     "name": "stdout",
     "output_type": "stream",
     "text": [
      "27 5\n",
      "23 0\n",
      "26 0\n",
      "ADNI_135_S_4598_20121016\n",
      "656 652\n",
      "432 428\n",
      "164 160\n",
      "110 106\n",
      "76 72\n",
      "59 55\n",
      "587 583\n",
      "398 394\n",
      "253 249\n",
      "101 97\n",
      "71 67\n",
      "41 37\n",
      "19 15\n",
      "10 6\n",
      "5 1\n",
      "5 1\n",
      "4 0\n"
     ]
    },
    {
     "name": "stderr",
     "output_type": "stream",
     "text": [
      " 85%|████████████████████████████████████████████████████████████████████████████████████████████████████████████████████████████████                       | 246/290 [34:44<05:32,  7.55s/it]"
     ]
    },
    {
     "name": "stdout",
     "output_type": "stream",
     "text": [
      "3 0\n",
      "ADNI_135_S_4657_20121029\n",
      "528 507\n",
      "419 395\n",
      "258 229\n",
      "205 152\n",
      "203 128\n",
      "205 111\n",
      "499 478\n",
      "423 384\n",
      "359 293\n",
      "250 171\n",
      "185 124\n",
      "115 67\n",
      "79 44\n",
      "67 28\n",
      "60 16\n",
      "58 11\n",
      "54 0\n"
     ]
    },
    {
     "name": "stderr",
     "output_type": "stream",
     "text": [
      " 85%|████████████████████████████████████████████████████████████████████████████████████████████████████████████████████████████████▌                      | 247/290 [34:55<06:07,  8.55s/it]"
     ]
    },
    {
     "name": "stdout",
     "output_type": "stream",
     "text": [
      "52 0\n",
      "ADNI_135_S_4676_20121106\n",
      "442 428\n",
      "295 274\n",
      "206 176\n",
      "190 144\n",
      "177 114\n",
      "179 89\n",
      "347 325\n",
      "261 231\n",
      "257 190\n",
      "236 140\n",
      "196 111\n",
      "137 66\n",
      "41 16\n",
      "36 7\n",
      "33 1\n",
      "35 1\n",
      "37 0\n"
     ]
    },
    {
     "name": "stderr",
     "output_type": "stream",
     "text": [
      " 86%|█████████████████████████████████████████████████████████████████████████████████████████████████████████████████████████████████▏                     | 248/290 [35:04<06:00,  8.58s/it]"
     ]
    },
    {
     "name": "stdout",
     "output_type": "stream",
     "text": [
      "34 0\n",
      "ADNI_135_S_4689_20121116\n",
      "358 351\n",
      "215 208\n",
      "134 121\n",
      "111 84\n",
      "103 62\n",
      "110 58\n",
      "271 263\n",
      "182 165\n",
      "173 136\n",
      "167 103\n",
      "158 103\n",
      "85 50\n",
      "29 11\n",
      "24 5\n",
      "22 3\n",
      "21 2\n"
     ]
    },
    {
     "name": "stderr",
     "output_type": "stream",
     "text": [
      " 86%|█████████████████████████████████████████████████████████████████████████████████████████████████████████████████████████████████▋                     | 249/290 [35:10<05:22,  7.87s/it]"
     ]
    },
    {
     "name": "stdout",
     "output_type": "stream",
     "text": [
      "20 0\n",
      "17 0\n",
      "ADNI_135_S_4722_20121205\n",
      "279 250\n",
      "190 155\n",
      "146 102\n",
      "150 77\n",
      "155 76\n",
      "174 77\n",
      "238 206\n",
      "214 153\n",
      "198 129\n",
      "167 84\n",
      "137 61\n",
      "94 42\n",
      "40 9\n",
      "39 6\n",
      "39 4\n",
      "41 4\n",
      "44 0\n"
     ]
    },
    {
     "name": "stderr",
     "output_type": "stream",
     "text": [
      " 86%|██████████████████████████████████████████████████████████████████████████████████████████████████████████████████████████████████▏                    | 250/290 [35:17<05:00,  7.52s/it]"
     ]
    },
    {
     "name": "stdout",
     "output_type": "stream",
     "text": [
      "43 0\n",
      "ADNI_135_S_4723_20121205\n",
      "400 379\n",
      "272 236\n",
      "205 148\n",
      "196 118\n",
      "189 103\n",
      "188 97\n",
      "356 319\n",
      "283 228\n",
      "266 190\n",
      "183 107\n",
      "131 77\n",
      "86 48\n",
      "38 11\n",
      "44 16\n",
      "36 8\n",
      "35 3\n",
      "34 0\n"
     ]
    },
    {
     "name": "stderr",
     "output_type": "stream",
     "text": [
      " 87%|██████████████████████████████████████████████████████████████████████████████████████████████████████████████████████████████████▋                    | 251/290 [35:25<05:01,  7.72s/it]"
     ]
    },
    {
     "name": "stdout",
     "output_type": "stream",
     "text": [
      "34 0\n",
      "ADNI_137_S_4211_20111213\n",
      "216 207\n",
      "91 82\n",
      "69 55\n",
      "63 38\n",
      "61 26\n",
      "86 33\n",
      "139 130\n",
      "88 71\n",
      "94 63\n",
      "95 49\n",
      "107 43\n",
      "78 23\n",
      "17 5\n",
      "13 1\n",
      "13 0\n",
      "14 0\n",
      "15 0\n"
     ]
    },
    {
     "name": "stderr",
     "output_type": "stream",
     "text": [
      " 87%|███████████████████████████████████████████████████████████████████████████████████████████████████████████████████████████████████▏                   | 252/290 [35:29<04:09,  6.57s/it]"
     ]
    },
    {
     "name": "stdout",
     "output_type": "stream",
     "text": [
      "17 0\n",
      "ADNI_137_S_4258_20111011\n",
      "539 526\n",
      "373 359\n",
      "225 208\n",
      "175 156\n",
      "125 104\n",
      "107 80\n",
      "483 469\n",
      "365 348\n",
      "261 241\n",
      "175 148\n",
      "159 132\n",
      "92 71\n",
      "37 20\n",
      "34 14\n",
      "30 10\n"
     ]
    },
    {
     "name": "stderr",
     "output_type": "stream",
     "text": [
      " 87%|███████████████████████████████████████████████████████████████████████████████████████████████████████████████████████████████████▋                   | 253/290 [35:38<04:29,  7.28s/it]"
     ]
    },
    {
     "name": "stdout",
     "output_type": "stream",
     "text": [
      "31 6\n",
      "26 0\n",
      "23 0\n",
      "ADNI_137_S_4299_20111102\n",
      "532 500\n",
      "348 313\n",
      "253 211\n",
      "243 187\n",
      "222 154\n",
      "198 127\n",
      "430 395\n",
      "365 321\n",
      "291 234\n",
      "240 175\n",
      "225 158\n",
      "154 97\n",
      "77 36\n",
      "59 17\n",
      "58 15\n",
      "50 6\n"
     ]
    },
    {
     "name": "stderr",
     "output_type": "stream",
     "text": [
      " 88%|████████████████████████████████████████████████████████████████████████████████████████████████████████████████████████████████████▎                  | 254/290 [35:48<04:55,  8.22s/it]"
     ]
    },
    {
     "name": "stdout",
     "output_type": "stream",
     "text": [
      "47 0\n",
      "44 0\n",
      "ADNI_137_S_4331_20111116\n",
      "275 254\n",
      "270 239\n",
      "278 235\n",
      "275 217\n",
      "280 198\n",
      "333 213\n",
      "288 256\n",
      "281 233\n",
      "337 258\n",
      "385 274\n",
      "386 263\n",
      "346 209\n",
      "104 61\n",
      "74 29\n",
      "62 15\n",
      "59 8\n",
      "61 0\n"
     ]
    },
    {
     "name": "stderr",
     "output_type": "stream",
     "text": [
      " 88%|████████████████████████████████████████████████████████████████████████████████████████████████████████████████████████████████████▊                  | 255/290 [35:59<05:19,  9.14s/it]"
     ]
    },
    {
     "name": "stdout",
     "output_type": "stream",
     "text": [
      "61 0\n",
      "ADNI_137_S_4351_20111202\n",
      "375 363\n",
      "224 212\n",
      "162 145\n",
      "112 91\n",
      "81 60\n",
      "70 47\n",
      "301 288\n",
      "213 199\n",
      "164 145\n",
      "106 83\n",
      "97 71\n",
      "61 40\n",
      "32 13\n",
      "30 10\n",
      "23 3\n"
     ]
    },
    {
     "name": "stderr",
     "output_type": "stream",
     "text": [
      " 88%|█████████████████████████████████████████████████████████████████████████████████████████████████████████████████████████████████████▎                 | 256/290 [36:05<04:39,  8.21s/it]"
     ]
    },
    {
     "name": "stdout",
     "output_type": "stream",
     "text": [
      "22 2\n",
      "22 0\n",
      "21 0\n",
      "ADNI_137_S_4466_20120827\n",
      "350 340\n",
      "203 193\n",
      "138 126\n",
      "93 76\n",
      "69 44\n",
      "72 39\n",
      "274 264\n",
      "178 165\n",
      "138 114\n",
      "126 83\n",
      "119 70\n",
      "60 31\n",
      "19 6\n",
      "16 3\n",
      "15 2\n",
      "16 2\n",
      "15 0\n"
     ]
    },
    {
     "name": "stderr",
     "output_type": "stream",
     "text": [
      " 89%|█████████████████████████████████████████████████████████████████████████████████████████████████████████████████████████████████████▊                 | 257/290 [36:11<04:10,  7.59s/it]"
     ]
    },
    {
     "name": "stdout",
     "output_type": "stream",
     "text": [
      "15 0\n",
      "ADNI_137_S_4482_20120914\n",
      "143 132\n",
      "73 58\n",
      "73 52\n",
      "67 37\n",
      "70 36\n",
      "73 34\n",
      "102 84\n",
      "84 62\n",
      "87 57\n",
      "79 43\n",
      "76 46\n",
      "51 27\n",
      "18 7\n",
      "17 6\n",
      "15 3\n"
     ]
    },
    {
     "name": "stderr",
     "output_type": "stream",
     "text": [
      " 89%|██████████████████████████████████████████████████████████████████████████████████████████████████████████████████████████████████████▎                | 258/290 [36:15<03:25,  6.43s/it]"
     ]
    },
    {
     "name": "stdout",
     "output_type": "stream",
     "text": [
      "12 0\n",
      "12 0\n",
      "12 0\n",
      "ADNI_137_S_4520_20120926\n",
      "243 224\n",
      "180 159\n",
      "127 104\n",
      "113 82\n",
      "106 69\n",
      "98 57\n",
      "206 183\n",
      "162 137\n",
      "132 100\n",
      "120 75\n",
      "109 66\n",
      "79 38\n",
      "44 14\n",
      "40 8\n",
      "37 5\n",
      "34 1\n",
      "36 0\n"
     ]
    },
    {
     "name": "stderr",
     "output_type": "stream",
     "text": [
      " 89%|██████████████████████████████████████████████████████████████████████████████████████████████████████████████████████████████████████▊                | 259/290 [36:21<03:16,  6.34s/it]"
     ]
    },
    {
     "name": "stdout",
     "output_type": "stream",
     "text": [
      "34 0\n",
      "ADNI_137_S_4536_20120910\n",
      "282 268\n",
      "148 121\n",
      "161 95\n",
      "270 104\n",
      "350 122\n",
      "425 146\n",
      "201 164\n",
      "250 144\n",
      "367 159\n",
      "373 175\n",
      "205 106\n",
      "86 37\n",
      "18 6\n",
      "17 2\n",
      "18 1\n",
      "18 0\n",
      "19 0\n"
     ]
    },
    {
     "name": "stderr",
     "output_type": "stream",
     "text": [
      " 90%|███████████████████████████████████████████████████████████████████████████████████████████████████████████████████████████████████████▍               | 260/290 [36:31<03:42,  7.41s/it]"
     ]
    },
    {
     "name": "stdout",
     "output_type": "stream",
     "text": [
      "21 0\n",
      "ADNI_137_S_4587_20121018\n",
      "288 281\n",
      "173 166\n",
      "92 84\n",
      "59 50\n",
      "40 30\n",
      "36 23\n",
      "214 207\n",
      "154 146\n",
      "94 85\n",
      "65 50\n",
      "47 27\n",
      "33 11\n",
      "19 6\n",
      "16 3\n",
      "17 3\n"
     ]
    },
    {
     "name": "stderr",
     "output_type": "stream",
     "text": [
      " 90%|███████████████████████████████████████████████████████████████████████████████████████████████████████████████████████████████████████▉               | 261/290 [36:36<03:08,  6.50s/it]"
     ]
    },
    {
     "name": "stdout",
     "output_type": "stream",
     "text": [
      "17 2\n",
      "18 0\n",
      "17 0\n",
      "ADNI_137_S_4596_20121008\n",
      "388 379\n",
      "243 233\n",
      "133 120\n",
      "99 77\n",
      "92 59\n",
      "91 53\n",
      "309 298\n",
      "223 209\n",
      "164 142\n",
      "104 71\n",
      "82 51\n",
      "62 38\n",
      "37 20\n",
      "29 11\n",
      "22 3\n"
     ]
    },
    {
     "name": "stderr",
     "output_type": "stream",
     "text": [
      " 90%|████████████████████████████████████████████████████████████████████████████████████████████████████████████████████████████████████████▍              | 262/290 [36:42<03:03,  6.56s/it]"
     ]
    },
    {
     "name": "stdout",
     "output_type": "stream",
     "text": [
      "25 4\n",
      "22 0\n",
      "17 0\n",
      "ADNI_137_S_4623_20121112\n",
      "382 356\n",
      "268 236\n",
      "201 156\n",
      "177 118\n",
      "181 116\n",
      "185 112\n",
      "313 278\n",
      "267 220\n",
      "228 165\n",
      "217 147\n",
      "187 123\n",
      "123 78\n",
      "71 31\n",
      "62 20\n",
      "54 12\n",
      "48 4\n",
      "46 0\n"
     ]
    },
    {
     "name": "stderr",
     "output_type": "stream",
     "text": [
      " 91%|████████████████████████████████████████████████████████████████████████████████████████████████████████████████████████████████████████▉              | 263/290 [36:52<03:20,  7.43s/it]"
     ]
    },
    {
     "name": "stdout",
     "output_type": "stream",
     "text": [
      "44 0\n",
      "ADNI_137_S_4631_20121213\n",
      "353 336\n",
      "238 220\n",
      "182 162\n",
      "165 139\n",
      "151 122\n",
      "129 97\n",
      "278 260\n",
      "225 206\n",
      "197 175\n",
      "184 152\n",
      "172 140\n",
      "142 111\n",
      "91 49\n",
      "75 31\n",
      "71 18\n",
      "61 6\n"
     ]
    },
    {
     "name": "stderr",
     "output_type": "stream",
     "text": [
      " 91%|█████████████████████████████████████████████████████████████████████████████████████████████████████████████████████████████████████████▍             | 264/290 [37:00<03:23,  7.82s/it]"
     ]
    },
    {
     "name": "stdout",
     "output_type": "stream",
     "text": [
      "58 0\n",
      "51 0\n",
      "ADNI_137_S_4632_20121217\n",
      "228 217\n",
      "162 151\n",
      "148 137\n",
      "125 112\n",
      "99 85\n",
      "82 62\n",
      "177 166\n",
      "164 152\n",
      "148 132\n",
      "146 126\n",
      "140 114\n",
      "91 70\n",
      "20 9\n",
      "15 4\n"
     ]
    },
    {
     "name": "stderr",
     "output_type": "stream",
     "text": [
      " 91%|█████████████████████████████████████████████████████████████████████████████████████████████████████████████████████████████████████████▉             | 265/290 [37:06<02:55,  7.03s/it]"
     ]
    },
    {
     "name": "stdout",
     "output_type": "stream",
     "text": [
      "13 2\n",
      "12 1\n",
      "11 0\n",
      "11 0\n",
      "ADNI_137_S_4672_20121016\n",
      "356 351\n",
      "217 208\n",
      "136 126\n",
      "109 86\n",
      "94 68\n",
      "89 58\n",
      "278 269\n",
      "200 190\n",
      "134 112\n",
      "110 83\n",
      "98 74\n",
      "58 44\n",
      "20 8\n",
      "14 2\n",
      "13 0\n",
      "15 1\n",
      "15 0\n"
     ]
    },
    {
     "name": "stderr",
     "output_type": "stream",
     "text": [
      " 92%|██████████████████████████████████████████████████████████████████████████████████████████████████████████████████████████████████████████▌            | 266/290 [37:12<02:42,  6.76s/it]"
     ]
    },
    {
     "name": "stdout",
     "output_type": "stream",
     "text": [
      "12 0\n",
      "ADNI_137_S_4678_20121126\n",
      "226 207\n",
      "169 144\n",
      "135 94\n",
      "174 92\n",
      "199 90\n",
      "241 96\n",
      "191 161\n",
      "216 156\n",
      "253 142\n",
      "226 105\n",
      "136 59\n",
      "62 38\n",
      "38 15\n",
      "32 9\n",
      "29 5\n",
      "30 5\n"
     ]
    },
    {
     "name": "stderr",
     "output_type": "stream",
     "text": [
      " 92%|███████████████████████████████████████████████████████████████████████████████████████████████████████████████████████████████████████████            | 267/290 [37:19<02:39,  6.91s/it]"
     ]
    },
    {
     "name": "stdout",
     "output_type": "stream",
     "text": [
      "26 0\n",
      "25 0\n",
      "ADNI_137_S_4815_20121019\n",
      "222 197\n",
      "152 118\n",
      "168 91\n",
      "321 131\n",
      "386 142\n",
      "478 181\n",
      "194 158\n",
      "262 138\n",
      "419 172\n",
      "439 200\n",
      "262 125\n",
      "101 53\n",
      "48 13\n",
      "51 12\n",
      "50 9\n",
      "51 5\n",
      "47 0\n"
     ]
    },
    {
     "name": "stderr",
     "output_type": "stream",
     "text": [
      " 92%|███████████████████████████████████████████████████████████████████████████████████████████████████████████████████████████████████████████▌           | 268/290 [37:30<02:58,  8.13s/it]"
     ]
    },
    {
     "name": "stdout",
     "output_type": "stream",
     "text": [
      "44 0\n",
      "ADNI_137_S_4816_20121031\n",
      "390 350\n",
      "268 220\n",
      "285 161\n",
      "477 201\n",
      "579 220\n",
      "731 273\n",
      "332 282\n",
      "418 242\n",
      "602 254\n",
      "612 266\n",
      "398 187\n",
      "201 89\n",
      "63 15\n",
      "64 13\n",
      "62 9\n",
      "61 4\n",
      "58 0\n"
     ]
    },
    {
     "name": "stderr",
     "output_type": "stream",
     "text": [
      " 93%|████████████████████████████████████████████████████████████████████████████████████████████████████████████████████████████████████████████           | 269/290 [37:46<03:42, 10.59s/it]"
     ]
    },
    {
     "name": "stdout",
     "output_type": "stream",
     "text": [
      "63 0\n",
      "ADNI_141_S_4160_20111205\n",
      "430 420\n",
      "340 328\n",
      "244 232\n",
      "199 185\n",
      "135 120\n",
      "99 82\n",
      "385 373\n",
      "332 320\n",
      "249 236\n",
      "225 202\n",
      "181 159\n",
      "99 81\n",
      "32 17\n",
      "29 12\n",
      "29 11\n",
      "24 6\n"
     ]
    },
    {
     "name": "stderr",
     "output_type": "stream",
     "text": [
      " 93%|████████████████████████████████████████████████████████████████████████████████████████████████████████████████████████████████████████████▌          | 270/290 [37:55<03:18,  9.95s/it]"
     ]
    },
    {
     "name": "stdout",
     "output_type": "stream",
     "text": [
      "19 0\n",
      "15 0\n",
      "ADNI_141_S_4232_20110924\n",
      "408 392\n",
      "287 268\n",
      "190 163\n",
      "162 119\n",
      "138 84\n",
      "131 62\n",
      "360 341\n",
      "289 261\n",
      "231 183\n",
      "190 131\n",
      "134 84\n",
      "78 44\n",
      "31 9\n",
      "32 5\n",
      "36 6\n",
      "34 3\n",
      "31 0\n"
     ]
    },
    {
     "name": "stderr",
     "output_type": "stream",
     "text": [
      " 93%|█████████████████████████████████████████████████████████████████████████████████████████████████████████████████████████████████████████████          | 271/290 [38:03<02:56,  9.28s/it]"
     ]
    },
    {
     "name": "stdout",
     "output_type": "stream",
     "text": [
      "27 0\n",
      "ADNI_153_S_2109_20101005\n",
      "ADNI_153_S_2148_20101026\n",
      "294 285\n",
      "208 192\n",
      "169 107\n",
      "201 103\n",
      "214 86\n",
      "234 91\n",
      "261 239\n",
      "271 199\n",
      "302 186\n",
      "240 115\n",
      "205 106\n",
      "101 56\n",
      "23 9\n",
      "25 10\n",
      "24 8\n",
      "27 7\n",
      "24 0\n"
     ]
    },
    {
     "name": "stderr",
     "output_type": "stream",
     "text": [
      " 94%|██████████████████████████████████████████████████████████████████████████████████████████████████████████████████████████████████████████████▏        | 273/290 [38:11<01:56,  6.86s/it]"
     ]
    },
    {
     "name": "stdout",
     "output_type": "stream",
     "text": [
      "21 0\n",
      "ADNI_153_S_4077_20110920\n",
      "599 575\n",
      "400 371\n",
      "287 252\n",
      "267 216\n",
      "191 137\n",
      "167 109\n",
      "480 449\n",
      "346 307\n",
      "311 253\n",
      "293 228\n",
      "244 188\n",
      "138 91\n",
      "60 26\n",
      "52 16\n",
      "46 10\n",
      "45 5\n",
      "43 0\n"
     ]
    },
    {
     "name": "stderr",
     "output_type": "stream",
     "text": [
      " 94%|██████████████████████████████████████████████████████████████████████████████████████████████████████████████████████████████████████████████▋        | 274/290 [38:21<02:05,  7.85s/it]"
     ]
    },
    {
     "name": "stdout",
     "output_type": "stream",
     "text": [
      "43 0\n",
      "ADNI_153_S_4133_20111102\n",
      "317 301\n",
      "191 169\n",
      "130 102\n",
      "153 98\n",
      "147 71\n",
      "205 81\n",
      "233 209\n",
      "187 155\n",
      "185 120\n",
      "205 109\n",
      "193 98\n",
      "151 62\n",
      "25 7\n",
      "26 5\n",
      "26 4\n",
      "26 3\n"
     ]
    },
    {
     "name": "stderr",
     "output_type": "stream",
     "text": [
      " 95%|███████████████████████████████████████████████████████████████████████████████████████████████████████████████████████████████████████████████▏       | 275/290 [38:28<01:53,  7.60s/it]"
     ]
    },
    {
     "name": "stdout",
     "output_type": "stream",
     "text": [
      "26 0\n",
      "23 0\n",
      "ADNI_153_S_4151_20111107\n",
      "335 313\n",
      "204 177\n",
      "159 106\n",
      "194 101\n",
      "207 98\n",
      "212 88\n",
      "255 220\n",
      "228 164\n",
      "255 147\n",
      "237 120\n",
      "161 85\n",
      "71 39\n",
      "44 14\n",
      "41 9\n",
      "40 6\n",
      "40 5\n",
      "39 0\n"
     ]
    },
    {
     "name": "stderr",
     "output_type": "stream",
     "text": [
      " 95%|███████████████████████████████████████████████████████████████████████████████████████████████████████████████████████████████████████████████▋       | 276/290 [38:37<01:49,  7.82s/it]"
     ]
    },
    {
     "name": "stdout",
     "output_type": "stream",
     "text": [
      "37 0\n",
      "ADNI_153_S_4159_20111108\n",
      "452 445\n",
      "268 259\n",
      "125 113\n",
      "117 92\n",
      "101 71\n",
      "101 59\n",
      "354 345\n",
      "250 240\n",
      "154 132\n",
      "128 96\n",
      "121 80\n",
      "89 52\n",
      "24 13\n",
      "19 6\n",
      "19 4\n",
      "18 1\n",
      "17 0\n"
     ]
    },
    {
     "name": "stderr",
     "output_type": "stream",
     "text": [
      " 96%|████████████████████████████████████████████████████████████████████████████████████████████████████████████████████████████████████████████████▏      | 277/290 [38:44<01:38,  7.61s/it]"
     ]
    },
    {
     "name": "stdout",
     "output_type": "stream",
     "text": [
      "16 0\n",
      "ADNI_153_S_4172_20111031\n",
      "465 455\n",
      "279 266\n",
      "162 136\n",
      "138 93\n",
      "155 86\n",
      "165 77\n",
      "345 331\n",
      "256 222\n",
      "221 150\n",
      "188 102\n",
      "163 88\n",
      "108 60\n",
      "38 22\n",
      "36 18\n",
      "35 17\n"
     ]
    },
    {
     "name": "stderr",
     "output_type": "stream",
     "text": [
      " 96%|████████████████████████████████████████████████████████████████████████████████████████████████████████████████████████████████████████████████▊      | 278/290 [38:52<01:32,  7.68s/it]"
     ]
    },
    {
     "name": "stdout",
     "output_type": "stream",
     "text": [
      "35 13\n",
      "25 0\n",
      "26 0\n",
      "ADNI_153_S_4372_20111130\n",
      "451 442\n",
      "283 274\n",
      "141 131\n",
      "103 93\n",
      "68 58\n",
      "58 48\n",
      "360 351\n",
      "253 243\n",
      "169 159\n",
      "88 78\n",
      "72 64\n",
      "56 46\n",
      "19 9\n",
      "17 7\n",
      "14 4\n"
     ]
    },
    {
     "name": "stderr",
     "output_type": "stream",
     "text": [
      " 96%|█████████████████████████████████████████████████████████████████████████████████████████████████████████████████████████████████████████████████▎     | 279/290 [38:59<01:21,  7.43s/it]"
     ]
    },
    {
     "name": "stdout",
     "output_type": "stream",
     "text": [
      "13 3\n",
      "10 0\n",
      "8 0\n",
      "ADNI_153_S_4621_20121030\n",
      "577 550\n",
      "401 366\n",
      "344 302\n",
      "299 235\n",
      "309 223\n",
      "311 196\n",
      "496 459\n",
      "399 353\n",
      "391 317\n",
      "379 268\n",
      "322 230\n",
      "170 129\n",
      "62 23\n",
      "53 12\n",
      "49 8\n",
      "45 4\n"
     ]
    },
    {
     "name": "stderr",
     "output_type": "stream",
     "text": [
      " 97%|█████████████████████████████████████████████████████████████████████████████████████████████████████████████████████████████████████████████████▊     | 280/290 [39:11<01:30,  9.03s/it]"
     ]
    },
    {
     "name": "stdout",
     "output_type": "stream",
     "text": [
      "43 0\n",
      "40 0\n",
      "ADNI_941_S_1195_20110315\n",
      "545 531\n",
      "322 308\n",
      "117 100\n",
      "82 56\n",
      "82 48\n",
      "85 39\n",
      "429 415\n",
      "298 281\n",
      "202 177\n",
      "110 60\n",
      "110 59\n",
      "72 35\n",
      "32 11\n",
      "32 9\n",
      "35 8\n",
      "33 3\n",
      "35 0\n"
     ]
    },
    {
     "name": "stderr",
     "output_type": "stream",
     "text": [
      " 97%|██████████████████████████████████████████████████████████████████████████████████████████████████████████████████████████████████████████████████▎    | 281/290 [39:19<01:16,  8.55s/it]"
     ]
    },
    {
     "name": "stdout",
     "output_type": "stream",
     "text": [
      "31 0\n",
      "ADNI_941_S_2060_20101206\n",
      "342 324\n",
      "230 199\n",
      "270 163\n",
      "500 184\n",
      "677 223\n",
      "894 291\n",
      "311 256\n",
      "451 262\n",
      "802 309\n",
      "710 284\n",
      "334 159\n",
      "106 52\n",
      "45 17\n",
      "43 15\n",
      "40 8\n",
      "43 6\n",
      "40 0\n"
     ]
    },
    {
     "name": "stderr",
     "output_type": "stream",
     "text": [
      " 97%|██████████████████████████████████████████████████████████████████████████████████████████████████████████████████████████████████████████████████▊    | 282/290 [39:36<01:29, 11.22s/it]"
     ]
    },
    {
     "name": "stdout",
     "output_type": "stream",
     "text": [
      "39 0\n",
      "ADNI_941_S_4036_20111006\n",
      "443 433\n",
      "253 242\n",
      "151 141\n",
      "106 95\n",
      "77 64\n",
      "70 57\n",
      "327 317\n",
      "228 218\n",
      "157 146\n",
      "115 100\n",
      "92 78\n",
      "51 41\n",
      "15 5\n",
      "11 1\n",
      "11 1\n",
      "11 1\n"
     ]
    },
    {
     "name": "stderr",
     "output_type": "stream",
     "text": [
      " 98%|███████████████████████████████████████████████████████████████████████████████████████████████████████████████████████████████████████████████████▎   | 283/290 [39:43<01:08,  9.79s/it]"
     ]
    },
    {
     "name": "stdout",
     "output_type": "stream",
     "text": [
      "10 0\n",
      "8 0\n",
      "ADNI_941_S_4100_20111003\n",
      "224 198\n",
      "187 145\n",
      "190 102\n",
      "386 133\n",
      "548 169\n",
      "777 236\n",
      "249 193\n",
      "350 175\n",
      "654 221\n",
      "686 238\n",
      "367 150\n",
      "185 95\n",
      "61 26\n",
      "54 18\n",
      "50 13\n",
      "47 7\n"
     ]
    },
    {
     "name": "stderr",
     "output_type": "stream",
     "text": [
      " 98%|███████████████████████████████████████████████████████████████████████████████████████████████████████████████████████████████████████████████████▉   | 284/290 [39:57<01:07, 11.22s/it]"
     ]
    },
    {
     "name": "stdout",
     "output_type": "stream",
     "text": [
      "45 0\n",
      "48 0\n",
      "ADNI_941_S_4187_20111128\n",
      "378 366\n",
      "221 208\n",
      "142 125\n",
      "107 89\n",
      "81 63\n",
      "85 62\n",
      "276 263\n",
      "193 176\n",
      "125 108\n",
      "104 82\n",
      "97 65\n",
      "91 55\n",
      "45 26\n",
      "43 19\n",
      "36 10\n",
      "32 6\n",
      "27 0\n"
     ]
    },
    {
     "name": "stderr",
     "output_type": "stream",
     "text": [
      " 98%|████████████████████████████████████████████████████████████████████████████████████████████████████████████████████████████████████████████████████▍  | 285/290 [40:04<00:48,  9.72s/it]"
     ]
    },
    {
     "name": "stdout",
     "output_type": "stream",
     "text": [
      "29 0\n",
      "ADNI_941_S_4255_20111202\n",
      "470 461\n",
      "261 247\n",
      "129 107\n",
      "145 80\n",
      "160 81\n",
      "183 85\n",
      "399 386\n",
      "268 239\n",
      "207 146\n",
      "208 101\n",
      "177 88\n",
      "92 47\n",
      "30 14\n",
      "21 5\n",
      "23 4\n",
      "22 2\n"
     ]
    },
    {
     "name": "stderr",
     "output_type": "stream",
     "text": [
      " 99%|████████████████████████████████████████████████████████████████████████████████████████████████████████████████████████████████████████████████████▉  | 286/290 [40:12<00:37,  9.44s/it]"
     ]
    },
    {
     "name": "stdout",
     "output_type": "stream",
     "text": [
      "23 0\n",
      "20 0\n",
      "ADNI_941_S_4292_20111205\n",
      "274 267\n",
      "153 143\n",
      "89 77\n",
      "83 67\n",
      "65 44\n",
      "70 40\n",
      "209 199\n",
      "147 134\n",
      "95 78\n",
      "103 73\n",
      "106 69\n",
      "79 45\n",
      "23 10\n",
      "25 10\n",
      "23 7\n",
      "22 3\n"
     ]
    },
    {
     "name": "stderr",
     "output_type": "stream",
     "text": [
      " 99%|█████████████████████████████████████████████████████████████████████████████████████████████████████████████████████████████████████████████████████▍ | 287/290 [40:18<00:24,  8.20s/it]"
     ]
    },
    {
     "name": "stdout",
     "output_type": "stream",
     "text": [
      "23 0\n",
      "21 0\n",
      "ADNI_941_S_4365_20111122\n",
      "663 653\n",
      "471 457\n",
      "306 278\n",
      "275 206\n",
      "260 155\n",
      "244 113\n",
      "581 566\n",
      "472 444\n",
      "401 320\n",
      "372 230\n",
      "301 189\n",
      "150 103\n",
      "24 11\n",
      "22 7\n",
      "19 3\n",
      "21 2\n",
      "23 0\n"
     ]
    },
    {
     "name": "stderr",
     "output_type": "stream",
     "text": [
      " 99%|█████████████████████████████████████████████████████████████████████████████████████████████████████████████████████████████████████████████████████▉ | 288/290 [40:30<00:18,  9.47s/it]"
     ]
    },
    {
     "name": "stdout",
     "output_type": "stream",
     "text": [
      "22 0\n",
      "ADNI_941_S_4376_20110601\n",
      "561 523\n",
      "350 303\n",
      "265 181\n",
      "290 157\n",
      "295 136\n",
      "344 140\n",
      "481 435\n",
      "399 305\n",
      "384 236\n",
      "345 187\n",
      "258 148\n",
      "146 75\n",
      "62 14\n",
      "60 9\n",
      "59 8\n",
      "59 7\n",
      "55 0\n"
     ]
    },
    {
     "name": "stderr",
     "output_type": "stream",
     "text": [
      "100%|██████████████████████████████████████████████████████████████████████████████████████████████████████████████████████████████████████████████████████▍| 289/290 [40:43<00:10, 10.58s/it]"
     ]
    },
    {
     "name": "stdout",
     "output_type": "stream",
     "text": [
      "56 0\n",
      "ADNI_941_S_4764_20120820\n",
      "344 335\n",
      "215 185\n",
      "206 126\n",
      "282 104\n",
      "305 102\n",
      "366 117\n",
      "290 253\n",
      "283 178\n",
      "340 168\n",
      "341 152\n",
      "238 114\n",
      "121 59\n",
      "26 15\n",
      "20 8\n",
      "19 4\n",
      "19 4\n"
     ]
    },
    {
     "name": "stderr",
     "output_type": "stream",
     "text": [
      "100%|███████████████████████████████████████████████████████████████████████████████████████████████████████████████████████████████████████████████████████| 290/290 [40:54<00:00,  8.46s/it]"
     ]
    },
    {
     "name": "stdout",
     "output_type": "stream",
     "text": [
      "16 0\n",
      "14 0\n"
     ]
    },
    {
     "name": "stderr",
     "output_type": "stream",
     "text": [
      "\n"
     ]
    }
   ],
   "source": [
    "data = {}\n",
    "failed_ids = []\n",
    "for idx in tqdm(range(len(IDs)), position=0, leave=True):\n",
    "    ID = IDs[idx][0]\n",
    "    print(ID)\n",
    "    try:\n",
    "        vmap = vent_maps[idx].cuda()\n",
    "        smap = output_maps_for_pred[IDs[idx][1]][2].cuda()\n",
    "        smap_expanded = get_edge_expanded_seg(smap)\n",
    "        seg_volume = smap.sum().item()\n",
    "        vent_volume = vmap.sum().item()\n",
    "        vmap_ds = downsample_3d(vmap)\n",
    "\n",
    "        ind_data = {}\n",
    "\n",
    "        for input_type in [\"ent\", \"var\", \"pred\"]:\n",
    "            if input_type == \"ent\":\n",
    "                umap = output_maps_for_umaps[IDs[idx][1]][0].cuda()\n",
    "                ts = [0.1, 0.2, 0.3, 0.4, 0.45, 0.5]\n",
    "                maxv = 0.7\n",
    "            elif input_type == \"var\":\n",
    "                umap = output_maps_for_umaps[IDs[idx][1]][3].cuda()\n",
    "                ts = [0.01, 0.03, 0.06, 0.09, 0.12, 0.15]\n",
    "                maxv = 0.2\n",
    "            elif input_type == \"pred\":\n",
    "                umap = output_maps_for_pred[IDs[idx][1]][1].cuda()\n",
    "                ts = [0.1, 0.2, 0.3, 0.4, 0.5, 0.6]\n",
    "                maxv = 1.0\n",
    "            else:\n",
    "                raise ValueError  \n",
    "\n",
    "            umap_ds = downsample_3d(umap)\n",
    "\n",
    "            collected_data_t = {}\n",
    "\n",
    "            for t in ts:\n",
    "                ut = umap > t\n",
    "                umap_values = umap[ut]\n",
    "\n",
    "                #### summary statistics\n",
    "                sum, mean, std, skew, kurtosis = gaussian_summary_statistics(umap_values.cpu())\n",
    "                values_hist = histogram_distribution(umap_values, bins=20, minv=t, maxv=maxv)\n",
    "\n",
    "                #### overlap statistics\n",
    "                intersection = (ut * smap).sum()\n",
    "                expanded_intersection = (ut * smap_expanded).sum()\n",
    "\n",
    "                prop_umap_segmented = (intersection / ut.sum()).item()\n",
    "                prop_umap_within_expanded_seg = (expanded_intersection / ut.sum()).item()\n",
    "                prop_seg_uncertain = (intersection / smap.sum()).item()\n",
    "\n",
    "                ### ventricle distance statistics\n",
    "                ut_ds = umap_ds > t\n",
    "                distances_closest, distance_map = min_distances(ut_ds, vmap_ds)\n",
    "                distance_map = F.interpolate(distance_map.view(1, 1, *distance_map.shape), umap.shape, mode='trilinear').squeeze()\n",
    "                _, dist_mean, dist_std, dist_skew, dist_kurt = gaussian_summary_statistics(distances_closest.cpu())\n",
    "                umap_ds_values = umap_ds[ut_ds]\n",
    "                dist_value_joint = joint_hist_values({\"x\":distances_closest, \"y\":umap_ds_values}, x=\"x\", y=\"y\", minx=0, maxx=30, miny=t, maxy=maxv, bins=5).cpu()\n",
    "\n",
    "                ### connected component analysis statistics\n",
    "                conn_comps = get_conn_comps(ut)\n",
    "                cc_data = conn_comp_basic_stats(umap, conn_comps, smap, distance_map)\n",
    "                cc_data[\"log_sizes\"] = torch.Tensor(cc_data[\"sizes\"]).log()\n",
    "                cc_size_dist_joint = joint_hist_values(cc_data, \"log_sizes\", \"vent_dists\", 0, 8, 0, 10, 5).cpu()\n",
    "\n",
    "                # recorded values\n",
    "                all_data = {}\n",
    "                for key, value in cc_data.items():\n",
    "                    all_data[\"cc_\" + key] = value\n",
    "                all_data[\"sum\"] = sum\n",
    "                all_data[\"mean\"] = mean\n",
    "                all_data[\"std\"] = std\n",
    "                all_data[\"skew\"] = skew\n",
    "                all_data[\"kurtosis\"] = kurtosis\n",
    "                all_data[\"prop_umap_segmented\"] = prop_umap_segmented\n",
    "                all_data[\"prop_umap_within_expanded_seg\"] = prop_umap_within_expanded_seg\n",
    "                all_data[\"prop_seg_uncertain\"] = prop_seg_uncertain\n",
    "                all_data[\"dist_mean\"] = dist_mean\n",
    "                all_data[\"dist_std\"] = dist_std\n",
    "                all_data[\"dist_skew\"] = dist_skew\n",
    "                all_data[\"dist_kurt\"] = dist_kurt\n",
    "                all_data[\"dist_value_joint\"] = dist_value_joint\n",
    "                all_data[\"cc_dist_value_joint\"] = cc_size_dist_joint\n",
    "                all_data[\"seg_volume\"] = seg_volume\n",
    "                all_data[\"vent_volume\"] = vent_volume\n",
    "                all_data[\"values_hist\"] = values_hist\n",
    "\n",
    "                print(all_data[\"cc_num\"], all_data[\"cc_unsegmented_ccs\"])\n",
    "                collected_data_t[str(t)] = all_data\n",
    "\n",
    "\n",
    "                # break\n",
    "\n",
    "            ind_data[input_type] = collected_data_t\n",
    "            # break\n",
    "\n",
    "        data[ID] = ind_data\n",
    "        # break\n",
    "    except:\n",
    "        failed_ids.append((idx, ID))\n",
    "        "
   ]
  },
  {
   "cell_type": "code",
   "execution_count": 56,
   "id": "0390c9fa-e5c2-4dcf-a388-12e8c6807b72",
   "metadata": {},
   "outputs": [
    {
     "data": {
      "text/plain": [
       "dict_keys(['ent', 'var', 'pred'])"
      ]
     },
     "execution_count": 56,
     "metadata": {},
     "output_type": "execute_result"
    }
   ],
   "source": [
    "data['ADNI_002_S_0729_20110816'].keys()"
   ]
  },
  {
   "cell_type": "code",
   "execution_count": 57,
   "id": "1f00649e-426e-41b2-9c35-fd91650affeb",
   "metadata": {},
   "outputs": [],
   "source": [
    "example_data = data['ADNI_002_S_0729_20110816']"
   ]
  },
  {
   "cell_type": "code",
   "execution_count": 58,
   "id": "1af428f3-69c6-4076-a725-4a571eb25549",
   "metadata": {},
   "outputs": [
    {
     "data": {
      "text/plain": [
       "dict_keys(['cc_num', 'cc_sizes', 'cc_means', 'cc_stds', 'cc_skews', 'cc_kurts', 'cc_vent_dists', 'cc_unsegmented_ccs', 'cc_size_mean', 'cc_size_std', 'cc_size_skew', 'cc_size_kurt', 'cc_vd_mean', 'cc_vd_std', 'cc_vd_skew', 'cc_vd_kurt', 'cc_log_sizes', 'sum', 'mean', 'std', 'skew', 'kurtosis', 'prop_umap_segmented', 'prop_umap_within_expanded_seg', 'prop_seg_uncertain', 'dist_mean', 'dist_std', 'dist_skew', 'dist_kurt', 'dist_value_joint', 'cc_dist_value_joint', 'seg_volume', 'vent_volume', 'values_hist'])"
      ]
     },
     "execution_count": 58,
     "metadata": {},
     "output_type": "execute_result"
    }
   ],
   "source": [
    "example_data['ent']['0.45'].keys()"
   ]
  },
  {
   "cell_type": "code",
   "execution_count": 59,
   "id": "1ded3a69-4def-4372-9865-af1e389bbc2e",
   "metadata": {},
   "outputs": [
    {
     "data": {
      "text/plain": [
       "[0.24375000596046448,\n",
       " 0.09375,\n",
       " 0.0,\n",
       " 0.0,\n",
       " 0.0,\n",
       " 0.23125000298023224,\n",
       " 0.07500000298023224,\n",
       " 0.0062500000931322575,\n",
       " 0.0,\n",
       " 0.0,\n",
       " 0.18125000596046448,\n",
       " 0.03750000149011612,\n",
       " 0.0062500000931322575,\n",
       " 0.0,\n",
       " 0.0,\n",
       " 0.08124999701976776,\n",
       " 0.01875000074505806,\n",
       " 0.0062500000931322575,\n",
       " 0.0,\n",
       " 0.0,\n",
       " 0.01875000074505806,\n",
       " 0.0,\n",
       " 0.0,\n",
       " 0.0,\n",
       " 0.0]"
      ]
     },
     "execution_count": 59,
     "metadata": {},
     "output_type": "execute_result"
    }
   ],
   "source": [
    "example_data['ent']['0.45']['dist_value_joint'].view(-1).tolist()"
   ]
  },
  {
   "cell_type": "code",
   "execution_count": 60,
   "id": "ebcd0f33-21f4-497c-80f9-f72c7c1320b7",
   "metadata": {},
   "outputs": [],
   "source": [
    "row_data = example_data['ent']['0.45']"
   ]
  },
  {
   "cell_type": "code",
   "execution_count": 61,
   "id": "e39ef700-4103-4048-ae90-6dae3a101935",
   "metadata": {},
   "outputs": [
    {
     "data": {
      "text/plain": [
       "dict_keys(['cc_num', 'cc_sizes', 'cc_means', 'cc_stds', 'cc_skews', 'cc_kurts', 'cc_vent_dists', 'cc_unsegmented_ccs', 'cc_size_mean', 'cc_size_std', 'cc_size_skew', 'cc_size_kurt', 'cc_vd_mean', 'cc_vd_std', 'cc_vd_skew', 'cc_vd_kurt', 'cc_log_sizes', 'sum', 'mean', 'std', 'skew', 'kurtosis', 'prop_umap_segmented', 'prop_umap_within_expanded_seg', 'prop_seg_uncertain', 'dist_mean', 'dist_std', 'dist_skew', 'dist_kurt', 'dist_value_joint', 'cc_dist_value_joint', 'seg_volume', 'vent_volume', 'values_hist'])"
      ]
     },
     "execution_count": 61,
     "metadata": {},
     "output_type": "execute_result"
    }
   ],
   "source": [
    "row_data.keys()"
   ]
  },
  {
   "cell_type": "code",
   "execution_count": 62,
   "id": "0c18f0f5-8e8a-4764-9518-dd413a12db27",
   "metadata": {},
   "outputs": [],
   "source": [
    "import pandas as pd"
   ]
  },
  {
   "cell_type": "code",
   "execution_count": 63,
   "id": "4428a6cf-b376-4c46-b1a4-f44563314a15",
   "metadata": {},
   "outputs": [
    {
     "name": "stderr",
     "output_type": "stream",
     "text": [
      "100%|███████████████████████████████████████████████████████████████████████████████████████████████████████████████████████████████████████████████████████| 286/286 [00:05<00:00, 51.21it/s]\n"
     ]
    }
   ],
   "source": [
    "pd_dfs = defaultdict(lambda : defaultdict(lambda : defaultdict(lambda : [])))\n",
    "pd_other_data_dfs = defaultdict(lambda : [])\n",
    "\n",
    "for ID_key in tqdm(natsorted(data.keys()), position=0, leave=True):\n",
    "    ind_data = data[ID_key]\n",
    "    for input_key in natsorted(ind_data.keys()):\n",
    "        map_type_data = ind_data[input_key]\n",
    "        for t_key in natsorted(map_type_data.keys()):\n",
    "            row_data = map_type_data[t_key]\n",
    "            \n",
    "            #row = []\n",
    "            pd_dfs[input_key][t_key]['ID'].append(ID_key)\n",
    "            for key in ['cc_num', 'cc_unsegmented_ccs', 'cc_size_mean', 'cc_size_std', 'cc_size_skew', 'cc_size_kurt', 'cc_vd_mean', 'cc_vd_std', 'cc_vd_skew', 'cc_vd_kurt', 'sum', 'mean', 'std', 'skew', 'kurtosis', 'prop_umap_segmented', 'prop_umap_within_expanded_seg', 'prop_seg_uncertain', 'dist_mean', 'dist_std', 'dist_skew', 'dist_kurt', 'dist_value_joint', 'cc_dist_value_joint', 'seg_volume', 'vent_volume', 'values_hist']:\n",
    "                if 'joint' not in key and 'hist' not in key:\n",
    "                    #row.append((key, row_data[key]))\n",
    "                    pd_dfs[input_key][t_key][key].append(row_data[key])\n",
    "                else:\n",
    "                    table_vals = row_data[key].view(-1).tolist()\n",
    "                    for i in range(len(table_vals)):\n",
    "                        #row.append((f\"{key}_{i}\", table_vals[i]))\n",
    "                        pd_dfs[input_key][t_key][f\"{key}_{i}\"].append(table_vals[i])\n",
    "                        \n",
    "            for key in ['cc_sizes', 'cc_means', 'cc_stds', 'cc_skews', 'cc_kurts', 'cc_vent_dists', 'cc_log_sizes']:\n",
    "                pd_other_data_dfs[key].extend(row_data[key])\n",
    "            pd_other_data_dfs[\"id\"].extend([f\"{ID_key}_{input_key}_{t_key}\" for _ in range(len(row_data['cc_sizes']))])"
   ]
  },
  {
   "cell_type": "code",
   "execution_count": 64,
   "id": "9d02276f-8234-4486-81c6-d613c0706d8d",
   "metadata": {},
   "outputs": [
    {
     "name": "stderr",
     "output_type": "stream",
     "text": [
      "100%|███████████████████████████████████████████████████████████████████████████████████████████████████████████████████████████████████████████████████████████| 3/3 [00:01<00:00,  1.74it/s]\n"
     ]
    }
   ],
   "source": [
    "# save the summary statistics\n",
    "ind_data = data[list(data.keys())[0]]\n",
    "for input_key in tqdm(natsorted(ind_data.keys()), position=0, leave=True):\n",
    "    map_type_data = ind_data[input_key]\n",
    "    for t_key in natsorted(map_type_data.keys()):\n",
    "        df = pd.DataFrame(pd_dfs[input_key][t_key])\n",
    "        df.to_csv(f\"umap_data_spreadsheets/ADNI/CHAL_BASED_{input_key}_{t_key}.csv\")\n",
    "        \n",
    "    "
   ]
  },
  {
   "cell_type": "code",
   "execution_count": 65,
   "id": "a67c37fd-7ee2-4314-a315-c04d75652a1a",
   "metadata": {},
   "outputs": [],
   "source": [
    "# save the per individual connected component statistic\n",
    "np_df = {}\n",
    "for key in pd_other_data_dfs.keys():\n",
    "    np_df[key] = np.array(pd_other_data_dfs[key])\n",
    "np.save(\"umap_data_spreadsheets/ADNI/CHAL_BASED_connected_component_data.npy\", np_df)"
   ]
  },
  {
   "cell_type": "code",
   "execution_count": 66,
   "id": "67a3df88-370b-4734-9a19-0ae545482ac2",
   "metadata": {},
   "outputs": [
    {
     "data": {
      "text/plain": [
       "array(['ADNI_002_S_0729_20110816_ent_0.1',\n",
       "       'ADNI_002_S_0729_20110816_ent_0.1',\n",
       "       'ADNI_002_S_0729_20110816_ent_0.1', ...,\n",
       "       'ADNI_941_S_4764_20120820_var_0.15',\n",
       "       'ADNI_941_S_4764_20120820_var_0.15',\n",
       "       'ADNI_941_S_4764_20120820_var_0.15'], dtype='<U33')"
      ]
     },
     "execution_count": 66,
     "metadata": {},
     "output_type": "execute_result"
    }
   ],
   "source": [
    "np.array(pd_other_data_dfs['id'])"
   ]
  },
  {
   "cell_type": "code",
   "execution_count": null,
   "id": "7c70057a-444c-46a9-bd59-d0102785c1d5",
   "metadata": {},
   "outputs": [],
   "source": []
  },
  {
   "cell_type": "code",
   "execution_count": null,
   "id": "18723601-ab59-4076-aa80-fb1f3ca515e7",
   "metadata": {},
   "outputs": [],
   "source": []
  }
 ],
 "metadata": {
  "kernelspec": {
   "display_name": "Python 3 (ipykernel)",
   "language": "python",
   "name": "python3"
  },
  "language_info": {
   "codemirror_mode": {
    "name": "ipython",
    "version": 3
   },
   "file_extension": ".py",
   "mimetype": "text/x-python",
   "name": "python",
   "nbconvert_exporter": "python",
   "pygments_lexer": "ipython3",
   "version": "3.10.8"
  }
 },
 "nbformat": 4,
 "nbformat_minor": 5
}
