{
 "cells": [
  {
   "cell_type": "markdown",
   "id": "229f024d-8140-4c3e-8dd8-3240a867fde3",
   "metadata": {},
   "source": [
    "# feature extraction for logistic CVD models\n",
    "load the predictions for the validation model for each.\n",
    "\n",
    "and compute the confusion matrix, the precision and f1 score (multiclass)\n",
    "and roc curve maybe? what curves do we use for multiclass.\n"
   ]
  },
  {
   "cell_type": "code",
   "execution_count": 1,
   "id": "732f1512-609f-4f02-93e2-fc7da2a34a7b",
   "metadata": {},
   "outputs": [
    {
     "name": "stdout",
     "output_type": "stream",
     "text": [
      "strawberry\n",
      "banana\n"
     ]
    }
   ],
   "source": [
    "# trainer\n",
    "print(\"strawberry\")\n",
    "from trustworthai.utils.fitting_and_inference.fitters.basic_lightning_fitter import StandardLitModelWrapper\n",
    "from trustworthai.utils.fitting_and_inference.get_trainer import get_trainer\n",
    "\n",
    "# data\n",
    "from twaidata.torchdatasets.MRI_3D_nolabels_inram_ds import MRI_3D_nolabels_inram_ds\n",
    "\n",
    "# packages\n",
    "import os\n",
    "import numpy as np\n",
    "import pandas as pd\n",
    "import matplotlib.pyplot as plt\n",
    "import torch\n",
    "from torchinfo import summary\n",
    "from tqdm import tqdm\n",
    "from collections import defaultdict\n",
    "from natsort import natsorted\n",
    "import torchmetrics\n",
    "print(\"banana\")"
   ]
  },
  {
   "cell_type": "code",
   "execution_count": 2,
   "id": "52c197f2-3465-4660-9142-26346dfafa09",
   "metadata": {},
   "outputs": [],
   "source": [
    "import seaborn as sns\n",
    "import scipy"
   ]
  },
  {
   "cell_type": "markdown",
   "id": "f6f0b1ac-2587-41fe-94ac-e8f0d2a6657e",
   "metadata": {},
   "source": [
    "### Loading ADNI flair mask t1 dataset"
   ]
  },
  {
   "cell_type": "code",
   "execution_count": 3,
   "id": "c39c203e-a4f5-4921-9658-67adae8bc75b",
   "metadata": {},
   "outputs": [],
   "source": [
    "# ADNI_ds = MRI_3D_nolabels_inram_ds(\"/home/s2208943/ipdis/data/preprocessed_data/ADNI_300\")"
   ]
  },
  {
   "cell_type": "code",
   "execution_count": 4,
   "id": "1fc11900-d76a-4307-8387-88e2553073a6",
   "metadata": {},
   "outputs": [],
   "source": [
    "# IDs = ADNI_ds.getIDs()"
   ]
  },
  {
   "cell_type": "code",
   "execution_count": 5,
   "id": "7f86e3bb-9073-4965-8a81-3472553c364e",
   "metadata": {},
   "outputs": [],
   "source": [
    "# len(IDs)"
   ]
  },
  {
   "cell_type": "markdown",
   "id": "2ec7b53a-4ede-4b32-ba6a-80f23a7e392b",
   "metadata": {},
   "source": [
    "### Loading ADNI predictions"
   ]
  },
  {
   "cell_type": "code",
   "execution_count": 6,
   "id": "8cb4854c-4883-45ee-b6c2-2eac488bfa37",
   "metadata": {},
   "outputs": [],
   "source": [
    "# def get_output_maps_for_ds(output_maps_dir, ids):\n",
    "#     output_maps_lists = defaultdict(lambda : [])\n",
    "#     key_order = None\n",
    "#     for ID in tqdm(ids, position=0, leave=True):\n",
    "#         output_maps_data = np.load(f\"{output_maps_dir}{ID}_out_maps.npz\")\n",
    "#         key_order = natsorted(list(output_maps_data.keys()))\n",
    "#         for output_type in key_order:\n",
    "#             output_maps_lists[ID].append(torch.from_numpy(output_maps_data[output_type]))\n",
    "            \n",
    "#     return output_maps_lists, key_order\n",
    "def load_output_maps(output_maps_dir):\n",
    "    output_maps_lists = defaultdict(lambda: [])\n",
    "    for fID in tqdm(os.listdir(output_maps_dir), position=0, leave=True):\n",
    "        # print(fID)\n",
    "        # break\n",
    "        if \".npz\" in fID:\n",
    "            ID = fID.split(\".\")[0]\n",
    "            output_maps_data = np.load(output_maps_dir+fID)\n",
    "            key_order = natsorted(list(output_maps_data.keys()))\n",
    "            for key in key_order:\n",
    "                output_maps_lists[ID].append(torch.from_numpy(output_maps_data[key]))\n",
    "    return output_maps_lists, key_order"
   ]
  },
  {
   "cell_type": "code",
   "execution_count": 7,
   "id": "65539e27-5ae1-40cc-9a30-6a00f3c5fc87",
   "metadata": {},
   "outputs": [
    {
     "name": "stderr",
     "output_type": "stream",
     "text": [
      "100%|███████████████████████████████████████████████████████████████████████████████████████████████████████████████████████████████████████████████████████| 250/250 [01:26<00:00,  2.90it/s]\n"
     ]
    }
   ],
   "source": [
    "\n",
    "model_name = \"CHAL_based_SSN_Ensemble\"\n",
    "output_maps_dir = f\"/home/s2208943/ipdis/data/preprocessed_data/EdData_output_maps/{model_name}/\"\n",
    "output_maps_for_umaps, key_order = load_output_maps(output_maps_dir)"
   ]
  },
  {
   "cell_type": "code",
   "execution_count": 8,
   "id": "95247376-f196-40d9-aad0-50a629fbbb78",
   "metadata": {},
   "outputs": [
    {
     "name": "stderr",
     "output_type": "stream",
     "text": [
      "100%|███████████████████████████████████████████████████████████████████████████████████████████████████████████████████████████████████████████████████████| 250/250 [01:25<00:00,  2.91it/s]\n"
     ]
    }
   ],
   "source": [
    "\n",
    "model_name_for_pred = \"CHAL_based_SSN_Ensemble_Mean\"\n",
    "output_maps_dir_for_pred = f\"/home/s2208943/ipdis/data/preprocessed_data/EdData_output_maps/{model_name_for_pred}/\"\n",
    "output_maps_for_pred, key_order_for_pred = load_output_maps(output_maps_dir_for_pred)"
   ]
  },
  {
   "cell_type": "code",
   "execution_count": 9,
   "id": "3047b0a1-6dcd-4ba1-b997-6dd7831ae516",
   "metadata": {},
   "outputs": [
    {
     "data": {
      "text/plain": [
       "['ent', 'pred', 'seg', 'var']"
      ]
     },
     "execution_count": 9,
     "metadata": {},
     "output_type": "execute_result"
    }
   ],
   "source": [
    "key_order"
   ]
  },
  {
   "cell_type": "code",
   "execution_count": 10,
   "id": "04561be7-6226-4fd9-b6a0-144ad4a4ddb7",
   "metadata": {},
   "outputs": [],
   "source": [
    "ID = list(output_maps_for_umaps.keys())[2]"
   ]
  },
  {
   "cell_type": "code",
   "execution_count": 11,
   "id": "84b3b24a-bd85-4e3f-9754-f7d29761c706",
   "metadata": {},
   "outputs": [],
   "source": [
    "img_us = output_maps_for_umaps[ID]\n",
    "img_ps = output_maps_for_pred[ID]"
   ]
  },
  {
   "cell_type": "code",
   "execution_count": 12,
   "id": "a93ede23-90e1-4d83-9d33-495638d33c1c",
   "metadata": {},
   "outputs": [
    {
     "data": {
      "image/png": "[encoded data removed]",
      "text/plain": [
       "<Figure size 1500x400 with 4 Axes>"
      ]
     },
     "metadata": {},
     "output_type": "display_data"
    }
   ],
   "source": [
    "plt.figure(figsize=(15,4))\n",
    "islice = 31\n",
    "for i in range(4):\n",
    "    plt.subplot(1, 4, i+1)\n",
    "    plt.imshow(img_us[i][islice])\n",
    "    plt.axis('off')"
   ]
  },
  {
   "cell_type": "code",
   "execution_count": 13,
   "id": "6485cc67-1729-4388-affd-abefb31ff57a",
   "metadata": {},
   "outputs": [
    {
     "data": {
      "image/png": "[encoded data removed]",
      "text/plain": [
       "<Figure size 1500x400 with 4 Axes>"
      ]
     },
     "metadata": {},
     "output_type": "display_data"
    }
   ],
   "source": [
    "ent, pred, seg, var = img_ps\n",
    "plt.figure(figsize=(15,4))\n",
    "islice = 31\n",
    "for i in range(4):\n",
    "    plt.subplot(1, 4, i+1)\n",
    "    plt.imshow(img_ps[i][islice])\n",
    "    plt.axis('off')"
   ]
  },
  {
   "cell_type": "code",
   "execution_count": 14,
   "id": "35004640-9e97-4087-b165-2dd6860cb4c9",
   "metadata": {},
   "outputs": [],
   "source": [
    "t = 0.1\n",
    "ent_voxels = ent[ent > t]\n",
    "pred_voxels = pred[pred > t]\n",
    "var_voxels = var[var > t/10]"
   ]
  },
  {
   "cell_type": "code",
   "execution_count": 15,
   "id": "e5b57a0f-f991-4ecb-8b91-3555d78a3d2d",
   "metadata": {},
   "outputs": [
    {
     "data": {
      "text/plain": [
       "<matplotlib.colorbar.Colorbar at 0x7f45eb0028f0>"
      ]
     },
     "execution_count": 15,
     "metadata": {},
     "output_type": "execute_result"
    },
    {
     "data": {
      "image/png": "[encoded data removed]",
      "text/plain": [
       "<Figure size 640x480 with 2 Axes>"
      ]
     },
     "metadata": {},
     "output_type": "display_data"
    }
   ],
   "source": [
    "plt.imshow(var[islice]>0.01)\n",
    "plt.colorbar()"
   ]
  },
  {
   "cell_type": "code",
   "execution_count": 16,
   "id": "a7de86cc-dff5-4eb6-ae1a-d02522bab5a0",
   "metadata": {},
   "outputs": [
    {
     "data": {
      "text/plain": [
       "<AxesSubplot: ylabel='Density'>"
      ]
     },
     "execution_count": 16,
     "metadata": {},
     "output_type": "execute_result"
    },
    {
     "data": {
      "image/png": "[encoded data removed]",
      "text/plain": [
       "<Figure size 640x480 with 3 Axes>"
      ]
     },
     "metadata": {},
     "output_type": "display_data"
    }
   ],
   "source": [
    "plt.subplot(1,3,1)\n",
    "sns.kdeplot(ent_voxels)\n",
    "plt.subplot(1,3,2)\n",
    "sns.kdeplot(var_voxels)\n",
    "plt.subplot(1,3,3)\n",
    "sns.kdeplot(pred_voxels)"
   ]
  },
  {
   "cell_type": "code",
   "execution_count": 17,
   "id": "25fba1d1-4ec2-47b3-8cef-52de0786aa59",
   "metadata": {},
   "outputs": [],
   "source": [
    "def histogram_distribution(values, bins=20, minv=None, maxv=None):\n",
    "    # so that the output values are meaningful, I need to carefully set the min a max. mnin should be t, and max should be the max across all the data I think.\n",
    "    if minv == None:\n",
    "        minv = values.min()\n",
    "    if maxv == None:\n",
    "        maxv = values.max()\n",
    "    counts = torch.zeros(bins)\n",
    "    bounds = torch.arange(minv,maxv, (maxv-minv)/bins)\n",
    "    for i, (lower_bound, upper_bound) in enumerate(zip(bounds[:-1], bounds[1:])):\n",
    "        counts[i] = ((values >= lower_bound) * (values < upper_bound)).sum()\n",
    "\n",
    "    Z = counts.sum()\n",
    "    counts = counts / Z\n",
    "    return counts"
   ]
  },
  {
   "cell_type": "code",
   "execution_count": 18,
   "id": "dbb14042-f93b-488b-9226-bab70c005430",
   "metadata": {},
   "outputs": [],
   "source": [
    "def gaussian_summary_statistics(values):\n",
    "    sum = values.sum().item()\n",
    "    mean = values.mean().item()\n",
    "    std = values.std().item()\n",
    "    skew = scipy.stats.skew(values)\n",
    "    kurtosis = scipy.stats.kurtosis(values, fisher=False)\n",
    "    return sum, mean, std, skew, kurtosis"
   ]
  },
  {
   "cell_type": "code",
   "execution_count": 19,
   "id": "1d345beb-21d2-4d93-bbba-64bf0d7c05bf",
   "metadata": {},
   "outputs": [
    {
     "data": {
      "text/plain": [
       "tensor([0.0965, 0.0745, 0.0646, 0.0552, 0.0494, 0.0446, 0.0426, 0.0373, 0.0348,\n",
       "        0.0385, 0.0357, 0.0340, 0.0340, 0.0323, 0.0347, 0.0352, 0.0391, 0.0419,\n",
       "        0.0537, 0.1213])"
      ]
     },
     "execution_count": 19,
     "metadata": {},
     "output_type": "execute_result"
    }
   ],
   "source": [
    "histogram_distribution(ent_voxels, 20)"
   ]
  },
  {
   "cell_type": "code",
   "execution_count": 20,
   "id": "50440632-afa2-4412-aa15-feda68724897",
   "metadata": {},
   "outputs": [],
   "source": [
    "# counts, counts.sum()"
   ]
  },
  {
   "cell_type": "code",
   "execution_count": 21,
   "id": "e2057fc7-fb44-4b05-987b-9f95dbcf65a5",
   "metadata": {},
   "outputs": [
    {
     "data": {
      "text/plain": [
       "<AxesSubplot: ylabel='Count'>"
      ]
     },
     "execution_count": 21,
     "metadata": {},
     "output_type": "execute_result"
    },
    {
     "data": {
      "image/png": "[encoded data removed]",
      "text/plain": [
       "<Figure size 640x480 with 1 Axes>"
      ]
     },
     "metadata": {},
     "output_type": "display_data"
    }
   ],
   "source": [
    "sns.histplot(ent_voxels, bins=20)"
   ]
  },
  {
   "cell_type": "markdown",
   "id": "4a2eebb2-323b-49b9-9fc9-696eccd21f2e",
   "metadata": {},
   "source": [
    "### overlap proportions computation\n",
    "- [x] proportion of segmented area that is uncertain\n",
    "- [x] proportion of uncertain area that is segmented\n",
    "- [x] proportion of uncertain area that is within segmentation + edge expansion"
   ]
  },
  {
   "cell_type": "code",
   "execution_count": 22,
   "id": "9135e5b0-9ca4-4233-bad0-700764113bbc",
   "metadata": {},
   "outputs": [],
   "source": [
    "def get_edge_expanded_seg(seg, expansions=2):\n",
    "    expanded = seg.type(torch.float32).unsqueeze(1)\n",
    "    for _ in range(expansions):\n",
    "        expanded = torch.nn.functional.max_pool3d(expanded, kernel_size=3, padding=1, stride=1)\n",
    "    return expanded.type(seg.dtype).squeeze()"
   ]
  },
  {
   "cell_type": "markdown",
   "id": "29ff30eb-afd9-433d-a9a8-b58d83717eee",
   "metadata": {},
   "source": [
    "### loading the ventricles for ventricle distance analysis"
   ]
  },
  {
   "cell_type": "code",
   "execution_count": 23,
   "id": "b4f7a4bc-0c08-439b-8477-5deb907b7d92",
   "metadata": {},
   "outputs": [],
   "source": [
    "import SimpleITK as sitk\n",
    "import numpy as np\n",
    "import matplotlib.pyplot as plt\n",
    "import os\n",
    "import torchvision.transforms as tv\n",
    "\n",
    "# resamples an image\n",
    "def get_resampled_img(itk_image, out_spacing=[2.0, 2.0, 2.0], original_spacing=[1., 1., 3.], is_label=False):\n",
    "    \n",
    "    if not original_spacing:\n",
    "        # orig spacing can be specified when the input itk_image does not know its actual spacing.\n",
    "        original_spacing = itk_image.GetSpacing()\n",
    "    original_size = itk_image.GetSize()\n",
    "    \n",
    "    # what's this? its how to modify the output size I think...\n",
    "    out_size = [\n",
    "        int(np.round(orig_size * orig_spacing / out_spacing))\n",
    "        for (orig_size, orig_spacing, out_spacing) \n",
    "        in zip(original_size, original_spacing, out_spacing)\n",
    "    ]\n",
    "    \n",
    "    resample = sitk.ResampleImageFilter()\n",
    "    resample.SetOutputSpacing(out_spacing)\n",
    "    resample.SetSize(out_size)\n",
    "    resample.SetOutputDirection(itk_image.GetDirection())      # sets the output direction cosine matrix...\n",
    "    resample.SetOutputOrigin(itk_image.GetOrigin())\n",
    "    resample.SetTransform(sitk.Transform())\n",
    "    resample.SetDefaultPixelValue(itk_image.GetPixelIDValue())\n",
    "    \n",
    "    if is_label:\n",
    "        resample.SetInterpolator(sitk.sitkNearestNeighbor)\n",
    "    else:\n",
    "        resample.SetInterpolator(sitk.sitkBSpline)\n",
    "        \n",
    "    return resample.Execute(itk_image)\n",
    "      \n",
    "def resample_and_return(filename_in, is_label=False, out_spacing=[1., 1., 3.], original_spacing=None):\n",
    "    \"\"\"\n",
    "    resamples an image to custom voxel dimensions and returns image as a numpy array\n",
    "    \n",
    "    filename_in: .nii.gz file to load\n",
    "    is_label: is the file a brain scan or a segmentaion mask\n",
    "    outspacing: the spacing of the image to be resampled to.\n",
    "    \"\"\"\n",
    "        \n",
    "    # resample the image\n",
    "    image = sitk.ReadImage(filename_in)\n",
    "    resampled_image = get_resampled_img(image, out_spacing=out_spacing, original_spacing=original_spacing, is_label=is_label)\n",
    "    \n",
    "    return sitk.GetArrayFromImage(resampled_image)"
   ]
  },
  {
   "cell_type": "code",
   "execution_count": 24,
   "id": "ad90dcde-a922-4fe1-b331-c4e35f468366",
   "metadata": {},
   "outputs": [],
   "source": [
    "# this loop takes a while as its loading from disk and resampling\n",
    "# it takes around 11 minutes\n",
    "\n",
    "cropper = tv.transforms.CenterCrop((224, 160))\n",
    "\n",
    "def load_fast_output(file, slices):\n",
    "    timg = resample_and_return(file, is_label=True)\n",
    "        \n",
    "    # interpolate the channel number and centre crop\n",
    "    timg = torch.Tensor(timg)\n",
    "    timg = torch.nn.functional.interpolate(timg.unsqueeze(0).unsqueeze(0), (slices, *timg.shape[1:])).squeeze()\n",
    "    timg = cropper(timg.view((1, 1, *timg.shape))).squeeze()\n",
    "    \n",
    "    return timg\n",
    "\n"
   ]
  },
  {
   "cell_type": "code",
   "execution_count": 25,
   "id": "39e1b213-4cec-4b37-8c0a-68f628767553",
   "metadata": {},
   "outputs": [],
   "source": [
    "IDs_outmaps = natsorted(list(output_maps_for_umaps.keys()))\n",
    "IDs = [(\"_\".join(idx.split(\"_\")[:-2]), idx) for idx in IDs_outmaps if \"out_maps\" in idx]"
   ]
  },
  {
   "cell_type": "code",
   "execution_count": 26,
   "id": "7d812a4e-2796-42df-8c7e-b724d2e59c7f",
   "metadata": {},
   "outputs": [
    {
     "data": {
      "text/plain": [
       "(['CVD001_out_maps',\n",
       "  'CVD002_out_maps',\n",
       "  'CVD003_out_maps',\n",
       "  'CVD004_out_maps',\n",
       "  'CVD008_out_maps'],\n",
       " [('CVD001', 'CVD001_out_maps'),\n",
       "  ('CVD002', 'CVD002_out_maps'),\n",
       "  ('CVD003', 'CVD003_out_maps'),\n",
       "  ('CVD004', 'CVD004_out_maps'),\n",
       "  ('CVD008', 'CVD008_out_maps')])"
      ]
     },
     "execution_count": 26,
     "metadata": {},
     "output_type": "execute_result"
    }
   ],
   "source": [
    "IDs_outmaps[0:5], IDs[0:5]"
   ]
  },
  {
   "cell_type": "code",
   "execution_count": 27,
   "id": "8ede0b33-91db-4fae-8cfb-0dbe9bd5e089",
   "metadata": {},
   "outputs": [
    {
     "data": {
      "text/plain": [
       "torch.Size([48, 224, 160])"
      ]
     },
     "execution_count": 27,
     "metadata": {},
     "output_type": "execute_result"
    }
   ],
   "source": [
    "output_maps_for_umaps[IDs[0][1]][0].shape"
   ]
  },
  {
   "cell_type": "code",
   "execution_count": 28,
   "id": "0ddfb553-ff06-46cd-96a7-1d09e35faeb2",
   "metadata": {},
   "outputs": [
    {
     "name": "stderr",
     "output_type": "stream",
     "text": [
      "100%|███████████████████████████████████████████████████████████████████████████████████████████████████████████████████████████████████████████████████████| 250/250 [00:31<00:00,  7.90it/s]\n"
     ]
    }
   ],
   "source": [
    "vent_folder = \"/home/s2208943/ipdis/data/preprocessed_data/EdData_ventmapper/\"\n",
    "vent_filenames = os.listdir(vent_folder)\n",
    "ID_ventpath_map = {\"_\".join(f.split(\"_\")[:-1]): vent_folder + f for f in vent_filenames}\n",
    "vent_maps = []\n",
    "for i in tqdm(range(len(IDs)), position=0, leave=True):\n",
    "    ID = IDs[i]\n",
    "    num_slices = output_maps_for_umaps[ID[1]][0].shape[0]\n",
    "    vent_path = ID_ventpath_map[ID[0]]\n",
    "    vent_seg = load_fast_output(vent_path, num_slices)\n",
    "    vent_maps.append(vent_seg)"
   ]
  },
  {
   "cell_type": "code",
   "execution_count": 29,
   "id": "1436f375-8c10-41bf-bb3a-0857fe41f5ab",
   "metadata": {},
   "outputs": [
    {
     "data": {
      "text/plain": [
       "(torch.Size([48, 224, 160]), tensor(29))"
      ]
     },
     "execution_count": 29,
     "metadata": {},
     "output_type": "execute_result"
    }
   ],
   "source": [
    "vent_maps[0].shape, vent_maps[0].sum(dim=(1,2,)).argmax(0)"
   ]
  },
  {
   "cell_type": "code",
   "execution_count": 30,
   "id": "12a6d43a-6de6-4a0e-8950-cd704e667b9c",
   "metadata": {},
   "outputs": [
    {
     "name": "stdout",
     "output_type": "stream",
     "text": [
      "torch.Size([56, 224, 160])\n",
      "torch.Size([56, 224, 160])\n"
     ]
    },
    {
     "data": {
      "text/plain": [
       "<matplotlib.image.AxesImage at 0x7f45e949a9b0>"
      ]
     },
     "execution_count": 30,
     "metadata": {},
     "output_type": "execute_result"
    },
    {
     "data": {
      "image/png": "[encoded data removed]",
      "text/plain": [
       "<Figure size 1500x500 with 3 Axes>"
      ]
     },
     "metadata": {},
     "output_type": "display_data"
    }
   ],
   "source": [
    "islice = 32\n",
    "scan_id = 200\n",
    "plt.figure(figsize=(15, 5))\n",
    "plt.subplot(1,3,1)\n",
    "plt.imshow(vent_maps[scan_id][islice])\n",
    "plt.subplot(1,3,2)\n",
    "plt.imshow(output_maps_for_umaps[IDs[scan_id][1]][0][islice])\n",
    "plt.subplot(1,3,3)\n",
    "img_map = torch.zeros(*vent_maps[scan_id].shape[1:], 3)\n",
    "print(output_maps_for_umaps[IDs[scan_id][1]][0].shape)\n",
    "print(vent_maps[scan_id].shape)\n",
    "img_map[:,:,0] = vent_maps[scan_id][islice]\n",
    "img_map[:,:,1] = output_maps_for_umaps[IDs[scan_id][1]][0][islice]\n",
    "plt.imshow(img_map)"
   ]
  },
  {
   "cell_type": "markdown",
   "id": "72be1a31-b0e8-4d6c-b050-935489fec32d",
   "metadata": {},
   "source": [
    "### distance from the ventricles"
   ]
  },
  {
   "cell_type": "code",
   "execution_count": 31,
   "id": "2771725e-8dd0-4b3e-931f-440c9cff01a1",
   "metadata": {},
   "outputs": [],
   "source": [
    "import torch.nn.functional as F\n",
    "def edge_pixels_3D(img):\n",
    "    dtype = img.dtype # preserve original datatype for casting at the end\n",
    "    img = img.type(torch.float32).unsqueeze(0)\n",
    "    \n",
    "    max_pool = F.max_pool3d(img, 3, stride=1, padding=1)\n",
    "    outer_edge = (max_pool != img).type(torch.float32)\n",
    "    \n",
    "    dilated_edge = F.max_pool3d(outer_edge, 3, stride=1, padding=1)\n",
    "    inner_edge = dilated_edge * img\n",
    "    \n",
    "    return inner_edge.type(dtype).squeeze()\n",
    "\n",
    "def edge_pixels(img):\n",
    "    dtype = img.dtype # preserve original datatype for casting at the end\n",
    "    img = img.type(torch.float32)\n",
    "    \n",
    "    max_pool = F.max_pool2d(img, 3, stride=1, padding=1)\n",
    "    outer_edge = (max_pool != img).type(torch.float32)\n",
    "    \n",
    "    dilated_edge = F.max_pool2d(outer_edge, 3, stride=1, padding=1)\n",
    "    inner_edge = dilated_edge * img\n",
    "    \n",
    "    return inner_edge.type(dtype)"
   ]
  },
  {
   "cell_type": "code",
   "execution_count": 32,
   "id": "797998d4-cb20-4df3-a428-51e8c10dbd40",
   "metadata": {},
   "outputs": [],
   "source": [
    "def downsample_3d(img, avg=True):\n",
    "    if avg:\n",
    "        return F.avg_pool3d(img.unsqueeze(0).type(torch.float32), 2, stride=2).squeeze().type(img.dtype)\n",
    "    else:\n",
    "        return F.max_pool3d(img.unsqueeze(0).type(torch.float32), 2, stride=2).squeeze().type(img.dtype)"
   ]
  },
  {
   "cell_type": "code",
   "execution_count": 33,
   "id": "15bffcfa-ae41-4540-be47-21b725eebad1",
   "metadata": {},
   "outputs": [],
   "source": [
    "def min_distances(img, vmap):\n",
    "    # calculate the minimum distance between each point in a and each point in b\n",
    "    \n",
    "    spatial_dims = vmap.squeeze().shape\n",
    "    grid = torch.stack(\n",
    "            torch.meshgrid(\n",
    "                *[torch.arange(0, sdi, 1) for sdi in spatial_dims],\n",
    "                indexing='ij'\n",
    "            )\n",
    "        ).type(torch.float32).to(img.device)\n",
    "    \n",
    "    a = grid[:, img.squeeze() > 0].T.cuda()\n",
    "    b = grid[:, vmap.squeeze() > 0].T.cuda()\n",
    "    \n",
    "    # Calculate pairwise distances between all pairs of points\n",
    "    distances = torch.cdist(a, b)\n",
    "\n",
    "    # Find indices of closest points in b for each point in a\n",
    "    _, indices = torch.min(distances, dim=1)\n",
    "\n",
    "    # Use indices to index into b and get closest points\n",
    "    b_closest = b[indices]\n",
    "\n",
    "    # Calculate distances to closest points \n",
    "    distances_closest = torch.norm(a - b_closest, dim=1)\n",
    "    \n",
    "    distance_map = torch.zeros(img.shape).to(distances_closest.device)\n",
    "    distance_map[img > 0] = distances_closest\n",
    "    \n",
    "    return distances_closest, distance_map"
   ]
  },
  {
   "cell_type": "markdown",
   "id": "1f929aaf-6adb-4768-9d06-c094e44f912b",
   "metadata": {},
   "source": [
    "### connected components analysis"
   ]
  },
  {
   "cell_type": "code",
   "execution_count": 34,
   "id": "82c98c1a-a5a9-4406-b1e1-4e664f35d318",
   "metadata": {},
   "outputs": [],
   "source": [
    "import cc3d"
   ]
  },
  {
   "cell_type": "code",
   "execution_count": 35,
   "id": "cbc4edb3-d1b2-489b-b982-05ccad6d5b7e",
   "metadata": {},
   "outputs": [],
   "source": [
    "def get_conn_comps(img):\n",
    "    connectivity = 6 # only 4,8 (2D) and 26, 18, and 6 (3D) are allowed\n",
    "    labels_out_seg = cc3d.connected_components(img.cpu().numpy(), connectivity=connectivity)\n",
    "    return torch.from_numpy(labels_out_seg.astype(np.int16)).to(img.device)"
   ]
  },
  {
   "cell_type": "code",
   "execution_count": 36,
   "id": "ac76e703-7ae8-4118-8c06-b365887c36a2",
   "metadata": {},
   "outputs": [],
   "source": [
    "def get_edge_expanded_seg(seg, expansions=2):\n",
    "    expanded = seg.type(torch.float32).unsqueeze(1)\n",
    "    for _ in range(expansions):\n",
    "        expanded = torch.nn.functional.max_pool3d(expanded, kernel_size=3, padding=1, stride=1)\n",
    "    return expanded.type(seg.dtype).squeeze()"
   ]
  },
  {
   "cell_type": "code",
   "execution_count": 37,
   "id": "e8883d62-e40e-4883-9273-1f53465ee4d8",
   "metadata": {},
   "outputs": [],
   "source": [
    "def skew(t, dim=None):\n",
    "    \"\"\"\n",
    "    Computes the skewness of a :class:`Tensor`. Note: this function uses cross-approximation (:func:`tntorch.cross()`).\n",
    "\n",
    "    :param t: a :class:`Tensor`\n",
    "\n",
    "    :return: a scalar\n",
    "    \"\"\"\n",
    "\n",
    "    return (((t-t.mean(dim=dim).unsqueeze(dim))/t.std(dim=dim).unsqueeze(dim)).pow(3)).mean(dim=dim)\n",
    "\n",
    "\n",
    "def kurtosis(t, fisher=True, dim=None):\n",
    "    \"\"\"\n",
    "    Computes the kurtosis of a :class:`Tensor`. Note: this function uses cross-approximation (:func:`tntorch.cross()`).\n",
    "\n",
    "    :param t: a :class:`Tensor`\n",
    "    :param fisher: if True (default) Fisher's definition is used, otherwise Pearson's (aka excess)\n",
    "\n",
    "    :return: a scalar\n",
    "    \"\"\"\n",
    "        \n",
    "    return (((t-t.mean(dim=dim).unsqueeze(dim))/t.std(dim=dim).unsqueeze(dim)).pow(4)).mean(dim=dim) - fisher*3"
   ]
  },
  {
   "cell_type": "code",
   "execution_count": 38,
   "id": "99050b0c-0408-4bc0-8bc0-2f456a1d5be9",
   "metadata": {},
   "outputs": [],
   "source": [
    "def one_hot_encoded_image(image):\n",
    "    # for a 3D [H, W, D] shape image\n",
    "    # ensure all IDs are unique\n",
    "    return (image == image.unique().view(-1, 1, 1, 1))\n",
    "\n",
    "def one_hot_encoded_vector(vector):\n",
    "    return (vector == vector.unique().view(-1,1))"
   ]
  },
  {
   "cell_type": "code",
   "execution_count": 39,
   "id": "1658dd1c-4f71-4b56-b4e1-88b458889c04",
   "metadata": {},
   "outputs": [],
   "source": [
    "def conn_comp_basic_stats(umap, conn_comp_map, seg_map, dist_map):\n",
    "    # number of connected components\n",
    "    # size of connected components\n",
    "    # connected component size distribution information\n",
    "    cc_ids = conn_comp_map.unique()\n",
    "    cc_locs = conn_comp_map != 0\n",
    "    conn_comp_map = conn_comp_map[cc_locs]\n",
    "    umap = umap[cc_locs]\n",
    "    seg_map = seg_map[cc_locs]\n",
    "    dist_map = dist_map[cc_locs]\n",
    "    \n",
    "    assert dist_map.shape == seg_map.shape == umap.shape == conn_comp_map.shape\n",
    "    num_ccs = len(cc_ids) - 1\n",
    "    num_ccs_no_overlap = 0\n",
    "    cc_sizes = []\n",
    "    cc_means = []\n",
    "    cc_stds = []\n",
    "    cc_skews = []\n",
    "    cc_kurts = []\n",
    "    cc_vent_dists = []\n",
    "    for cc_id in cc_ids:\n",
    "        if cc_id == 0:\n",
    "            continue\n",
    "        cc = conn_comp_map == cc_id\n",
    "        cc_size = cc.sum().item()\n",
    "        cc_values = umap[cc]\n",
    "        _, mean, std, skew, kurtosis = gaussian_summary_statistics(cc_values.cpu())\n",
    "    \n",
    "        cc_sizes.append(cc_size)\n",
    "        cc_means.append(mean)\n",
    "        cc_stds.append(std)\n",
    "        cc_skews.append(skew)\n",
    "        cc_kurts.append(kurtosis)\n",
    "        \n",
    "        if seg_map[cc].sum() == 0:\n",
    "            num_ccs_no_overlap += 1\n",
    "            \n",
    "        cc_vent_dists.append(dist_map[cc].mean().item())\n",
    "    _, vd_mean, vd_std, vd_skew, vd_kurt = gaussian_summary_statistics(torch.Tensor(cc_vent_dists))\n",
    "    _, size_mean, size_std, size_skew, size_kurt = gaussian_summary_statistics(torch.Tensor(cc_sizes))\n",
    "    \n",
    "    return {\"num\":num_ccs, \"sizes\":cc_sizes, \"means\":cc_means, \"stds\":cc_stds, \"skews\":cc_skews, \"kurts\":cc_kurts, \"vent_dists\":cc_vent_dists, \"unsegmented_ccs\":num_ccs_no_overlap, \"size_mean\":size_mean, \"size_std\":size_std, \"size_skew\":size_skew, \"size_kurt\":size_kurt, \"vd_mean\":vd_mean, \"vd_std\":vd_std, \"vd_skew\":vd_skew, \"vd_kurt\":vd_kurt}\n",
    "\n"
   ]
  },
  {
   "cell_type": "code",
   "execution_count": 40,
   "id": "42ba9f0e-df02-41ad-b49c-e8cb69ede31b",
   "metadata": {},
   "outputs": [],
   "source": [
    "# idx = 0\n",
    "# example_umap = output_maps_for_umaps[IDs[idx][1]][0].cuda()\n",
    "# example_smap = output_maps_for_pred[IDs[idx][1]][2].cuda()\n",
    "# example_vmap = vent_maps[idx].cuda()\n",
    "\n",
    "# vmap_ds = downsample_3d(example_vmap)\n",
    "# umap_ds = downsample_3d(example_umap)\n",
    "# ut_ds = umap_ds > 0.1\n",
    "# ut = example_umap > 0.1\n",
    "# conn_comps = get_conn_comps(ut)\n",
    "\n",
    "# distances_closest, distance_map = min_distances(ut_ds, vmap_ds)\n",
    "# distance_map = F.interpolate(distance_map.view(1, 1, *distance_map.shape), example_umap.shape, mode='trilinear').squeeze()"
   ]
  },
  {
   "cell_type": "code",
   "execution_count": 41,
   "id": "27b30691-96b1-4505-837e-ed520d4f39d8",
   "metadata": {},
   "outputs": [],
   "source": [
    "# cc_data = conn_comp_basic_stats(example_umap, conn_comps, example_smap, distance_map) # from this we could get the mean mean, mean std, mean skew and mean kurtosis for each threshold I guess. # that would be somewhat interesting"
   ]
  },
  {
   "cell_type": "code",
   "execution_count": 42,
   "id": "9d108785-7bdc-4b9c-a1c3-3c8ece10e7e1",
   "metadata": {},
   "outputs": [],
   "source": [
    "# cc_data[\"num\"], cc_data[\"unsegmented_ccs\"]"
   ]
  },
  {
   "cell_type": "code",
   "execution_count": 43,
   "id": "2c033fce-1615-4392-827f-794d54d1046f",
   "metadata": {},
   "outputs": [],
   "source": [
    "# cc_data[\"log_sizes\"] = torch.Tensor(cc_data['sizes']).log()\n",
    "# sns.jointplot(cc_data, y=\"vent_dists\", x=\"log_sizes\", bins=5, kind='hist')"
   ]
  },
  {
   "cell_type": "code",
   "execution_count": 44,
   "id": "cd6c462d-9c5a-4e15-a9fe-80102b7611d0",
   "metadata": {},
   "outputs": [],
   "source": [
    "def joint_hist_values(data, x, y, minx, maxx, miny, maxy, bins=5):\n",
    "    values = torch.stack([torch.Tensor(data[x]), torch.Tensor(data[y])], dim=1) # shape [N, 2]\n",
    "    values = values.expand((bins, bins, *values.shape))\n",
    "    counts = torch.zeros(bins, bins)\n",
    "    bounds_x = torch.arange(minx,maxx, (maxx-minx)/(bins+1)).to(values.device)\n",
    "    bounds_y = torch.arange(miny,maxy, (maxy-miny)/(bins+1)).to(values.device)\n",
    "    upper_xlims = bounds_x[1:].view(1, 5, 1)\n",
    "    upper_ylims = bounds_y[1:].view(5, 1, 1)\n",
    "    lower_xlims = bounds_x[:-1].view(1, 5, 1)\n",
    "    lower_ylims = bounds_y[:-1].view(5, 1, 1)\n",
    "    counts = (values[:,:,:,0] < upper_xlims) * (values[:,:,:,0] > lower_xlims) * (values[:,:,:,1] < upper_ylims) * (values[:,:,:,1] > lower_ylims)\n",
    "    counts = counts.sum(dim=-1)\n",
    "\n",
    "    Z = counts.sum()\n",
    "    counts = counts / Z\n",
    "    return counts\n",
    "\n",
    "\n",
    "# def joint_hist_values2(data, x, y, minx, maxx, miny, maxy, bins=5):\n",
    "#     values = torch.stack([torch.Tensor(data[x]), torch.Tensor(data[y])], dim=1) # shape [N, 2]\n",
    "#     #values = values.expand((bins, bins, *values.shape))\n",
    "#     counts = torch.zeros(bins, bins)\n",
    "#     bounds_x = torch.arange(minx,maxx, (maxx-minx)/(bins+1))\n",
    "#     bounds_y = torch.arange(miny,maxy, (maxy-miny)/(bins+1))\n",
    "#     upper_xlims = bounds_x[1:]\n",
    "#     upper_ylims = bounds_y[1:]\n",
    "#     lower_xlims = bounds_x[:-1]\n",
    "#     lower_ylims = bounds_y[:-1]\n",
    "#     for i, (x1, x2) in enumerate(zip(lower_xlims, upper_xlims)):\n",
    "#         for j, (y1,y2) in enumerate(zip(lower_ylims, upper_ylims)):\n",
    "#             counts[i][j] = ((values[:,0] < x2) * (values[:,0] > x1) * (values[:,1] < y2) * (values[:,1] > y1)).sum()\n",
    "#     # counts = counts.sum(dim=-1)\n",
    "\n",
    "#     Z = counts.sum()\n",
    "#     counts = counts / Z\n",
    "#     return counts"
   ]
  },
  {
   "cell_type": "code",
   "execution_count": 45,
   "id": "37d0eba6-39ad-4676-bd96-ebef6cceacc5",
   "metadata": {},
   "outputs": [],
   "source": [
    "# joint_counts = joint_hist_values2(cc_data, \"log_sizes\", \"vent_dists\", 0, 8, 0, 10, 5)"
   ]
  },
  {
   "cell_type": "code",
   "execution_count": 46,
   "id": "2b06d7ae-154d-4dc5-ba32-07aa021a43cb",
   "metadata": {},
   "outputs": [],
   "source": [
    "# joint_counts.shape"
   ]
  },
  {
   "cell_type": "code",
   "execution_count": 47,
   "id": "2308fdae-8544-4b23-b8fb-3652fda95e33",
   "metadata": {},
   "outputs": [],
   "source": [
    "# plt.imshow(joint_counts); plt.colorbar()"
   ]
  },
  {
   "cell_type": "code",
   "execution_count": 48,
   "id": "020e6a43-cbd8-49b1-b338-e4859b4775cd",
   "metadata": {},
   "outputs": [],
   "source": [
    "# cc_data[\"num\"], cc_data[\"unsegmented_ccs\"]"
   ]
  },
  {
   "cell_type": "code",
   "execution_count": 49,
   "id": "a0a2b95e-a3db-4d48-bc37-a1a68cce0e2b",
   "metadata": {},
   "outputs": [],
   "source": [
    "# summary statistics of log conn comp size:\n",
    "# cc_summary_stats = gaussian_summary_statistics(torch.Tensor(cc_data['sizes']).log())"
   ]
  },
  {
   "cell_type": "code",
   "execution_count": 50,
   "id": "71afb931-324e-496b-b279-befd02a32062",
   "metadata": {},
   "outputs": [],
   "source": [
    "# sum, mean , std, skew, kurtosis of log size of connected components.\n",
    "# cc_summary_stats"
   ]
  },
  {
   "cell_type": "code",
   "execution_count": 51,
   "id": "0ee07ab6-ca8b-4e72-861d-f5d07d88acda",
   "metadata": {},
   "outputs": [],
   "source": [
    "# histogram_distribution(torch.Tensor(cc_data['sizes']).log(), 10)"
   ]
  },
  {
   "cell_type": "code",
   "execution_count": 52,
   "id": "2e29135a-257e-4aa4-b4f4-2d46da0757cd",
   "metadata": {},
   "outputs": [],
   "source": [
    "# plt.hist(torch.Tensor(cc_data['sizes']).log(), bins=10);"
   ]
  },
  {
   "cell_type": "code",
   "execution_count": 53,
   "id": "2432d653-937d-45bc-bbcf-3830a8d46e14",
   "metadata": {},
   "outputs": [],
   "source": [
    "# sns.jointplot(data=cc_data, x=\"sizes\", y=\"kurts\")\n",
    "# plt.xscale('log')"
   ]
  },
  {
   "cell_type": "code",
   "execution_count": 54,
   "id": "3804b34f-ffc4-4d8d-bac5-c4780be9738c",
   "metadata": {},
   "outputs": [],
   "source": [
    "# lets get basic distribution of connected component numbers and size. Then we can get some interesting plots later, so collect as much interesting information as possible...\n",
    "# I can compare this to number and size of connected components in the predicted map (at say tau > 0.5?)\n",
    "# I should get distance of each connected component from the ventricles and size. yes that is a good plot\n",
    "# also distance from the binarized segmentation... (but I need to be careful and do this for pred as well as umap)."
   ]
  },
  {
   "cell_type": "markdown",
   "id": "8b04e44d-d410-4598-a51a-7f5fdbb6c47d",
   "metadata": {},
   "source": [
    "### Uncertainty values that I intended to extract from the umap\n",
    "\n",
    "For SSN Ens for the ent and var maps, and SSN Ens Mean for the pred and seg maps. Nice.\n",
    "I should capture all of these metrics across a variety of metrics, and I can tune the thresholds in cross validation. simples.\n",
    "It may be the case that ent + var together give us some more information. That would be interesting.\n",
    "\n",
    "`output_maps_for_umaps` is the SSN_Ens output\n",
    "`output_maps_for_mean` is the SSN_Ens_mean output\n",
    "\n",
    "- [x] sum\n",
    "- [x] mean\n",
    "- [x] std\n",
    "- [x] skew\n",
    "- [x] kurtosis\n",
    "- [x] kde bins?\n",
    "- [x] ventricle size\n",
    "- [x] intensity distribution (need to ensure that the min and max of the bins are the same across all individuals) \n",
    "- [x] number of connected components\n",
    "- [x] size of connected components distribution, need to ensure that the min and max of the bins are the same across all individuals.\n",
    "- [x] number / distribution of connected components that have no overlap with the segmented mask... (again I need the umap and the pred map to do this) (and I should also compare to the seg map as well perhaps)\n",
    "- [x] uncertainty sum, mean, skew, kurtosis of each connected component. That may be interesting to plot.\n",
    "- [-] distance to the WMH binarized segmentation for each connected component (try to separate out those connected components that are highlighting other stuff).\n",
    "- [-] proportion of the segmented edge deemed uncertain (if we expand the edge of the segmentation then calculate the proportion, we can get the sum of the uncertainty that\n",
    "- [x] proportion of segmented area deemed uncertain (this requires access to SSN Ens and SSN Ens Mean at the same time\n",
    "- [x] proportion of uncertain area that is within the segmentation + edge area\n",
    "- [x] distribution of size of connected components (sum, mean, std, skew)\n",
    "- [x] distance from the ventricles (could do this in x, y and z distributions, or just overall...) I could measure distance x intensity\n",
    "- [x] stats for distance from the ventricles (mean, std, skew, kurtosis, etc)\n",
    "- [x] mean distance from the ventricles of each connected component joint with size in a 5x5 and 10x10 bin option I think. again ensure that the \n",
    "- [ ] predicted seg volume."
   ]
  },
  {
   "cell_type": "markdown",
   "id": "ec8e64dc-0b08-43a4-9e57-51a5468ab30c",
   "metadata": {},
   "source": [
    "### turning all of the above into a big loop\n",
    "\n",
    "need to compute values for:\n",
    "- [x] ent map\n",
    "- [x] var map\n",
    "- [x] pred map\n",
    "- [x] loop over [0.1, 0.15, 0.2, 0.25, 0.3, 0.35, 0.4, 0.45, 0.5] as threshold for ent map\n",
    "- [x] loop over [0.1, 0.2, 0.3, 0.4, 0.5, 0.6] for pred map\n",
    "- [x] loop over ? for ent map"
   ]
  },
  {
   "cell_type": "code",
   "execution_count": 55,
   "id": "5937bcb1-ccf1-4cd2-a703-586883fcea46",
   "metadata": {},
   "outputs": [
    {
     "name": "stderr",
     "output_type": "stream",
     "text": [
      "  0%|                                                                                                                                                                 | 0/250 [00:00<?, ?it/s]"
     ]
    },
    {
     "name": "stdout",
     "output_type": "stream",
     "text": [
      "CVD001\n"
     ]
    },
    {
     "name": "stderr",
     "output_type": "stream",
     "text": [
      "/tmp/ipykernel_3638774/1284179010.py:5: RuntimeWarning: Precision loss occurred in moment calculation due to catastrophic cancellation. This occurs when the data are nearly identical. Results may be unreliable.\n",
      "  skew = scipy.stats.skew(values)\n",
      "/tmp/ipykernel_3638774/1284179010.py:6: RuntimeWarning: Precision loss occurred in moment calculation due to catastrophic cancellation. This occurs when the data are nearly identical. Results may be unreliable.\n",
      "  kurtosis = scipy.stats.kurtosis(values, fisher=False)\n"
     ]
    },
    {
     "name": "stdout",
     "output_type": "stream",
     "text": [
      "254 254\n"
     ]
    },
    {
     "name": "stderr",
     "output_type": "stream",
     "text": [
      "/home/s2208943/miniconda3/envs/uq/lib/python3.10/site-packages/scipy/stats/_stats_py.py:1304: RuntimeWarning: Mean of empty slice.\n",
      "  mean = a.mean(axis, keepdims=True)\n",
      "/home/s2208943/miniconda3/envs/uq/lib/python3.10/site-packages/numpy/core/_methods.py:184: RuntimeWarning: invalid value encountered in divide\n",
      "  ret = um.true_divide(\n",
      "/home/s2208943/miniconda3/envs/uq/lib/python3.10/site-packages/numpy/core/fromnumeric.py:3464: RuntimeWarning: Mean of empty slice.\n",
      "  return _methods._mean(a, axis=axis, dtype=dtype,\n",
      "/home/s2208943/miniconda3/envs/uq/lib/python3.10/site-packages/numpy/core/_methods.py:192: RuntimeWarning: invalid value encountered in divide\n",
      "  ret = ret.dtype.type(ret / rcount)\n",
      "/home/s2208943/miniconda3/envs/uq/lib/python3.10/site-packages/scipy/stats/_stats_py.py:1417: RuntimeWarning: Mean of empty slice.\n",
      "  mean = a.mean(axis, keepdims=True)\n"
     ]
    },
    {
     "name": "stdout",
     "output_type": "stream",
     "text": [
      "87 87\n",
      "10 10\n",
      "1 1\n",
      "0 0\n",
      "0 0\n",
      "183 183\n",
      "76 76\n",
      "18 18\n",
      "5 5\n",
      "0 0\n",
      "0 0\n",
      "0 0\n",
      "0 0\n",
      "0 0\n"
     ]
    },
    {
     "name": "stderr",
     "output_type": "stream",
     "text": [
      "  0%|▌                                                                                                                                                        | 1/250 [00:03<14:10,  3.41s/it]"
     ]
    },
    {
     "name": "stdout",
     "output_type": "stream",
     "text": [
      "0 0\n",
      "0 0\n",
      "0 0\n",
      "CVD002\n",
      "473 461\n",
      "372 354\n",
      "231 193\n",
      "241 159\n",
      "251 134\n",
      "272 122\n",
      "394 370\n",
      "364 310\n",
      "366 253\n",
      "330 174\n",
      "276 141\n",
      "121 72\n",
      "38 17\n",
      "39 16\n",
      "36 10\n"
     ]
    },
    {
     "name": "stderr",
     "output_type": "stream",
     "text": [
      "  1%|█▏                                                                                                                                                       | 2/250 [00:14<33:15,  8.05s/it]"
     ]
    },
    {
     "name": "stdout",
     "output_type": "stream",
     "text": [
      "31 4\n",
      "29 0\n",
      "28 0\n",
      "CVD003\n",
      "399 380\n",
      "247 207\n",
      "247 151\n",
      "401 153\n",
      "587 199\n",
      "833 285\n",
      "344 277\n",
      "447 217\n",
      "798 324\n",
      "841 337\n",
      "504 244\n",
      "166 94\n",
      "51 24\n",
      "42 12\n",
      "44 12\n",
      "40 5\n",
      "43 0\n"
     ]
    },
    {
     "name": "stderr",
     "output_type": "stream",
     "text": [
      "  1%|█▊                                                                                                                                                       | 3/250 [00:30<48:24, 11.76s/it]"
     ]
    },
    {
     "name": "stdout",
     "output_type": "stream",
     "text": [
      "36 0\n",
      "CVD004\n",
      "694 674\n",
      "409 382\n",
      "246 202\n",
      "202 155\n",
      "175 122\n",
      "157 99\n",
      "555 528\n",
      "373 332\n",
      "268 217\n",
      "202 143\n",
      "179 122\n",
      "116 77\n",
      "69 32\n",
      "65 20\n",
      "55 8\n",
      "55 6\n",
      "52 0\n"
     ]
    },
    {
     "name": "stderr",
     "output_type": "stream",
     "text": [
      "  2%|██▍                                                                                                                                                      | 4/250 [00:41<46:23, 11.32s/it]"
     ]
    },
    {
     "name": "stdout",
     "output_type": "stream",
     "text": [
      "46 0\n",
      "CVD008\n",
      "463 432\n",
      "329 284\n",
      "248 154\n",
      "458 210\n",
      "635 260\n",
      "864 330\n",
      "410 364\n",
      "442 304\n",
      "930 472\n",
      "957 464\n",
      "502 235\n",
      "191 105\n",
      "113 44\n",
      "114 36\n",
      "102 20\n",
      "101 12\n",
      "98 0\n"
     ]
    },
    {
     "name": "stderr",
     "output_type": "stream",
     "text": [
      "  2%|███                                                                                                                                                      | 5/250 [01:01<58:36, 14.35s/it]"
     ]
    },
    {
     "name": "stdout",
     "output_type": "stream",
     "text": [
      "98 0\n",
      "CVD009\n",
      "810 792\n",
      "628 592\n",
      "530 469\n",
      "480 348\n",
      "463 277\n",
      "552 289\n",
      "740 698\n",
      "690 572\n",
      "768 497\n",
      "679 415\n",
      "383 227\n",
      "185 96\n",
      "125 82\n",
      "86 38\n",
      "75 25\n",
      "67 12\n"
     ]
    },
    {
     "name": "stderr",
     "output_type": "stream",
     "text": [
      "  2%|███▌                                                                                                                                                   | 6/250 [01:21<1:05:52, 16.20s/it]"
     ]
    },
    {
     "name": "stdout",
     "output_type": "stream",
     "text": [
      "62 0\n",
      "53 0\n",
      "CVD011\n",
      "493 466\n",
      "316 283\n",
      "221 178\n",
      "193 131\n",
      "189 119\n",
      "176 99\n",
      "418 384\n",
      "300 248\n",
      "228 162\n",
      "193 120\n",
      "152 96\n",
      "88 49\n",
      "63 27\n",
      "59 19\n",
      "57 13\n",
      "52 7\n",
      "48 0\n"
     ]
    },
    {
     "name": "stderr",
     "output_type": "stream",
     "text": [
      "  3%|████▎                                                                                                                                                    | 7/250 [01:30<56:22, 13.92s/it]"
     ]
    },
    {
     "name": "stdout",
     "output_type": "stream",
     "text": [
      "45 0\n",
      "CVD012\n",
      "491 489\n",
      "332 325\n",
      "174 158\n",
      "150 101\n",
      "158 98\n",
      "208 113\n",
      "377 372\n",
      "287 267\n",
      "270 216\n",
      "258 144\n",
      "219 116\n",
      "84 48\n",
      "59 41\n",
      "48 28\n",
      "38 17\n"
     ]
    },
    {
     "name": "stderr",
     "output_type": "stream",
     "text": [
      "  3%|████▉                                                                                                                                                    | 8/250 [01:39<49:35, 12.29s/it]"
     ]
    },
    {
     "name": "stdout",
     "output_type": "stream",
     "text": [
      "31 9\n",
      "29 0\n",
      "28 0\n",
      "CVD013\n",
      "335 330\n",
      "277 265\n",
      "212 174\n",
      "181 113\n",
      "192 108\n",
      "195 99\n",
      "332 316\n",
      "291 257\n",
      "251 190\n",
      "205 124\n",
      "180 103\n",
      "91 55\n",
      "39 21\n",
      "38 19\n",
      "33 13\n"
     ]
    },
    {
     "name": "stderr",
     "output_type": "stream",
     "text": [
      "  4%|█████▌                                                                                                                                                   | 9/250 [01:47<43:59, 10.95s/it]"
     ]
    },
    {
     "name": "stdout",
     "output_type": "stream",
     "text": [
      "28 5\n",
      "25 0\n",
      "26 0\n",
      "CVD014\n",
      "521 502\n",
      "361 339\n",
      "296 264\n",
      "246 199\n",
      "250 184\n",
      "264 169\n",
      "414 391\n",
      "347 312\n",
      "319 248\n",
      "366 217\n",
      "364 201\n",
      "213 130\n",
      "104 65\n",
      "82 34\n",
      "77 24\n",
      "72 11\n",
      "74 0\n"
     ]
    },
    {
     "name": "stderr",
     "output_type": "stream",
     "text": [
      "  4%|██████                                                                                                                                                  | 10/250 [01:58<44:58, 11.24s/it]"
     ]
    },
    {
     "name": "stdout",
     "output_type": "stream",
     "text": [
      "71 0\n",
      "CVD016\n",
      "650 610\n",
      "440 381\n",
      "406 287\n",
      "562 278\n",
      "774 315\n",
      "1053 374\n",
      "585 493\n",
      "775 488\n",
      "1223 580\n",
      "1086 541\n",
      "436 196\n",
      "128 68\n",
      "125 53\n",
      "115 36\n",
      "101 19\n",
      "104 13\n",
      "97 0\n"
     ]
    },
    {
     "name": "stderr",
     "output_type": "stream",
     "text": [
      "  4%|██████▋                                                                                                                                                 | 11/250 [02:22<59:16, 14.88s/it]"
     ]
    },
    {
     "name": "stdout",
     "output_type": "stream",
     "text": [
      "89 0\n",
      "CVD017\n",
      "356 342\n",
      "216 197\n",
      "148 123\n",
      "110 81\n",
      "110 74\n",
      "92 51\n",
      "268 248\n",
      "205 181\n",
      "149 118\n",
      "122 81\n",
      "104 70\n",
      "69 45\n",
      "53 28\n",
      "43 17\n",
      "43 14\n",
      "35 4\n",
      "33 0\n"
     ]
    },
    {
     "name": "stderr",
     "output_type": "stream",
     "text": [
      "  5%|███████▎                                                                                                                                                | 12/250 [02:28<48:27, 12.22s/it]"
     ]
    },
    {
     "name": "stdout",
     "output_type": "stream",
     "text": [
      "32 0\n",
      "CVD018\n",
      "145 145\n",
      "87 87\n",
      "39 39\n",
      "14 14\n",
      "14 14\n",
      "1 1\n",
      "123 123\n",
      "68 68\n",
      "34 34\n",
      "20 20\n",
      "16 16\n"
     ]
    },
    {
     "name": "stderr",
     "output_type": "stream",
     "text": [
      "  5%|███████▉                                                                                                                                                | 13/250 [02:30<35:53,  9.09s/it]"
     ]
    },
    {
     "name": "stdout",
     "output_type": "stream",
     "text": [
      "18 18\n",
      "0 0\n",
      "0 0\n",
      "0 0\n",
      "0 0\n",
      "0 0\n",
      "0 0\n",
      "CVD019\n",
      "397 378\n",
      "293 270\n",
      "185 154\n",
      "174 135\n",
      "156 109\n",
      "141 86\n",
      "365 340\n",
      "284 257\n",
      "233 185\n",
      "176 125\n",
      "145 95\n",
      "89 49\n",
      "62 35\n",
      "47 19\n",
      "48 15\n",
      "44 7\n",
      "39 0\n"
     ]
    },
    {
     "name": "stderr",
     "output_type": "stream",
     "text": [
      "  6%|████████▌                                                                                                                                               | 14/250 [02:38<34:25,  8.75s/it]"
     ]
    },
    {
     "name": "stdout",
     "output_type": "stream",
     "text": [
      "34 0\n",
      "CVD020\n",
      "484 456\n",
      "363 324\n",
      "237 178\n",
      "300 172\n",
      "351 167\n",
      "482 191\n",
      "423 378\n",
      "405 319\n",
      "486 273\n",
      "563 287\n",
      "335 158\n",
      "178 104\n",
      "100 36\n",
      "110 38\n",
      "100 25\n",
      "94 11\n",
      "89 0\n"
     ]
    },
    {
     "name": "stderr",
     "output_type": "stream",
     "text": [
      "  6%|█████████                                                                                                                                               | 15/250 [02:52<40:26, 10.33s/it]"
     ]
    },
    {
     "name": "stdout",
     "output_type": "stream",
     "text": [
      "83 0\n",
      "CVD021\n",
      "510 454\n",
      "412 339\n",
      "392 289\n",
      "421 271\n",
      "448 253\n",
      "491 261\n",
      "471 392\n",
      "464 347\n",
      "521 329\n",
      "516 304\n",
      "400 230\n",
      "197 119\n",
      "152 65\n",
      "128 33\n",
      "122 22\n",
      "113 10\n",
      "114 0\n"
     ]
    },
    {
     "name": "stderr",
     "output_type": "stream",
     "text": [
      "  6%|█████████▋                                                                                                                                              | 16/250 [03:08<46:54, 12.03s/it]"
     ]
    },
    {
     "name": "stdout",
     "output_type": "stream",
     "text": [
      "111 0\n",
      "CVD023\n",
      "769 741\n",
      "507 458\n",
      "390 305\n",
      "451 267\n",
      "518 252\n",
      "610 252\n",
      "555 504\n",
      "517 392\n",
      "689 376\n",
      "676 354\n",
      "292 181\n",
      "107 52\n",
      "136 81\n",
      "102 44\n",
      "90 27\n",
      "84 14\n",
      "73 0\n"
     ]
    },
    {
     "name": "stderr",
     "output_type": "stream",
     "text": [
      "  7%|██████████▎                                                                                                                                             | 17/250 [03:25<53:11, 13.70s/it]"
     ]
    },
    {
     "name": "stdout",
     "output_type": "stream",
     "text": [
      "73 0\n",
      "CVD024\n",
      "637 615\n",
      "381 356\n",
      "314 275\n",
      "232 172\n",
      "213 125\n",
      "214 108\n",
      "508 483\n",
      "381 333\n",
      "328 246\n",
      "268 173\n",
      "228 144\n",
      "154 95\n",
      "72 41\n",
      "60 25\n",
      "55 13\n",
      "51 6\n"
     ]
    },
    {
     "name": "stderr",
     "output_type": "stream",
     "text": [
      "  7%|██████████▉                                                                                                                                             | 18/250 [03:37<51:19, 13.28s/it]"
     ]
    },
    {
     "name": "stdout",
     "output_type": "stream",
     "text": [
      "48 0\n",
      "41 0\n",
      "CVD025\n",
      "259 235\n",
      "201 174\n",
      "233 147\n",
      "490 198\n",
      "746 243\n",
      "1094 328\n",
      "267 196\n",
      "686 311\n",
      "1185 479\n",
      "786 360\n",
      "342 164\n",
      "127 65\n",
      "56 30\n",
      "55 28\n",
      "52 22\n",
      "45 13\n",
      "37 0\n"
     ]
    },
    {
     "name": "stderr",
     "output_type": "stream",
     "text": [
      "  8%|███████████▌                                                                                                                                            | 19/250 [03:56<56:47, 14.75s/it]"
     ]
    },
    {
     "name": "stdout",
     "output_type": "stream",
     "text": [
      "39 0\n",
      "CVD028\n",
      "350 331\n",
      "248 205\n",
      "286 174\n",
      "547 200\n",
      "826 272\n",
      "1252 427\n",
      "358 286\n",
      "672 319\n",
      "1225 496\n",
      "1266 637\n",
      "601 280\n",
      "185 84\n",
      "84 35\n",
      "78 23\n",
      "76 18\n",
      "75 9\n",
      "71 0\n",
      "66 0\n"
     ]
    },
    {
     "name": "stderr",
     "output_type": "stream",
     "text": [
      "  8%|████████████                                                                                                                                          | 20/250 [04:17<1:04:45, 16.89s/it]"
     ]
    },
    {
     "name": "stdout",
     "output_type": "stream",
     "text": [
      "CVD030\n",
      "444 417\n",
      "265 233\n",
      "179 141\n",
      "121 81\n",
      "109 65\n",
      "103 61\n",
      "351 319\n",
      "242 206\n",
      "158 119\n",
      "117 74\n",
      "90 52\n",
      "61 31\n",
      "48 16\n",
      "42 10\n",
      "38 6\n",
      "37 3\n"
     ]
    },
    {
     "name": "stderr",
     "output_type": "stream",
     "text": [
      "  8%|████████████▊                                                                                                                                           | 21/250 [04:24<52:57, 13.88s/it]"
     ]
    },
    {
     "name": "stdout",
     "output_type": "stream",
     "text": [
      "34 0\n",
      "33 0\n",
      "CVD031\n",
      "619 593\n",
      "413 376\n",
      "284 225\n",
      "311 187\n",
      "379 190\n",
      "533 247\n",
      "525 482\n",
      "452 351\n",
      "547 316\n",
      "770 400\n",
      "542 286\n",
      "193 108\n",
      "109 50\n",
      "124 50\n",
      "115 33\n",
      "111 16\n",
      "100 0\n"
     ]
    },
    {
     "name": "stderr",
     "output_type": "stream",
     "text": [
      "  9%|█████████████▍                                                                                                                                          | 22/250 [04:43<58:09, 15.30s/it]"
     ]
    },
    {
     "name": "stdout",
     "output_type": "stream",
     "text": [
      "101 0\n",
      "CVD032\n",
      "372 349\n",
      "276 238\n",
      "233 156\n",
      "251 145\n",
      "272 140\n",
      "301 140\n",
      "347 309\n",
      "311 239\n",
      "328 197\n",
      "265 138\n",
      "176 90\n",
      "76 39\n",
      "65 32\n",
      "49 13\n",
      "45 7\n",
      "46 6\n"
     ]
    },
    {
     "name": "stderr",
     "output_type": "stream",
     "text": [
      "  9%|█████████████▉                                                                                                                                          | 23/250 [04:54<52:38, 13.91s/it]"
     ]
    },
    {
     "name": "stdout",
     "output_type": "stream",
     "text": [
      "43 0\n",
      "43 0\n",
      "CVD033\n",
      "456 427\n",
      "320 274\n",
      "314 221\n",
      "450 231\n",
      "516 227\n",
      "633 266\n",
      "406 350\n",
      "487 325\n",
      "647 338\n",
      "643 340\n",
      "402 227\n",
      "146 80\n",
      "77 26\n",
      "73 20\n",
      "65 9\n",
      "64 4\n",
      "62 0\n"
     ]
    },
    {
     "name": "stderr",
     "output_type": "stream",
     "text": [
      " 10%|██████████████▌                                                                                                                                         | 24/250 [05:11<56:21, 14.96s/it]"
     ]
    },
    {
     "name": "stdout",
     "output_type": "stream",
     "text": [
      "63 0\n",
      "CVD034\n",
      "488 472\n",
      "313 280\n",
      "285 220\n",
      "340 202\n",
      "379 194\n",
      "457 214\n",
      "411 365\n",
      "398 295\n",
      "488 279\n",
      "484 264\n",
      "282 188\n",
      "129 88\n",
      "84 42\n",
      "79 34\n",
      "78 24\n",
      "71 12\n",
      "64 0\n"
     ]
    },
    {
     "name": "stderr",
     "output_type": "stream",
     "text": [
      " 10%|███████████████▏                                                                                                                                        | 25/250 [05:24<54:03, 14.41s/it]"
     ]
    },
    {
     "name": "stdout",
     "output_type": "stream",
     "text": [
      "65 0\n",
      "CVD035\n",
      "454 438\n",
      "276 256\n",
      "196 172\n",
      "180 142\n",
      "175 127\n",
      "163 110\n",
      "339 320\n",
      "269 243\n",
      "220 184\n",
      "212 164\n",
      "182 132\n",
      "120 91\n",
      "65 37\n",
      "52 17\n",
      "51 15\n",
      "46 9\n"
     ]
    },
    {
     "name": "stderr",
     "output_type": "stream",
     "text": [
      " 10%|███████████████▊                                                                                                                                        | 26/250 [05:33<47:44, 12.79s/it]"
     ]
    },
    {
     "name": "stdout",
     "output_type": "stream",
     "text": [
      "40 0\n",
      "33 0\n",
      "CVD036\n",
      "464 435\n",
      "290 248\n",
      "324 211\n",
      "569 222\n",
      "809 272\n",
      "1134 378\n",
      "363 301\n",
      "610 299\n",
      "1331 551\n",
      "829 388\n",
      "345 153\n",
      "126 61\n",
      "105 44\n",
      "95 31\n",
      "82 16\n",
      "80 13\n",
      "68 0\n"
     ]
    },
    {
     "name": "stderr",
     "output_type": "stream",
     "text": [
      " 11%|████████████████▍                                                                                                                                       | 27/250 [05:56<58:50, 15.83s/it]"
     ]
    },
    {
     "name": "stdout",
     "output_type": "stream",
     "text": [
      "73 0\n",
      "CVD037\n",
      "105 105\n",
      "28 28\n",
      "9 9\n",
      "5 5\n",
      "0 0\n",
      "0 0\n",
      "62 62\n",
      "22 22\n",
      "7 7\n",
      "6 6\n"
     ]
    },
    {
     "name": "stderr",
     "output_type": "stream",
     "text": [
      " 11%|█████████████████                                                                                                                                       | 28/250 [05:57<42:19, 11.44s/it]"
     ]
    },
    {
     "name": "stdout",
     "output_type": "stream",
     "text": [
      "3 3\n",
      "2 2\n",
      "0 0\n",
      "0 0\n",
      "0 0\n",
      "0 0\n",
      "0 0\n",
      "0 0\n",
      "CVD038\n",
      "459 432\n",
      "311 276\n",
      "241 192\n",
      "281 189\n",
      "304 178\n",
      "356 186\n",
      "384 349\n",
      "316 260\n",
      "369 226\n",
      "393 237\n",
      "302 197\n",
      "141 90\n",
      "102 62\n",
      "94 50\n",
      "75 26\n",
      "62 9\n",
      "58 0\n"
     ]
    },
    {
     "name": "stderr",
     "output_type": "stream",
     "text": [
      " 12%|█████████████████▋                                                                                                                                      | 29/250 [06:10<43:08, 11.71s/it]"
     ]
    },
    {
     "name": "stdout",
     "output_type": "stream",
     "text": [
      "52 0\n",
      "CVD039\n",
      "506 470\n",
      "354 297\n",
      "323 196\n",
      "502 253\n",
      "608 280\n",
      "706 308\n",
      "436 376\n",
      "489 326\n",
      "668 329\n",
      "642 272\n",
      "334 148\n",
      "95 51\n",
      "117 38\n",
      "111 23\n",
      "111 15\n",
      "104 5\n",
      "106 0\n"
     ]
    },
    {
     "name": "stderr",
     "output_type": "stream",
     "text": [
      " 12%|██████████████████▏                                                                                                                                     | 30/250 [06:27<49:40, 13.55s/it]"
     ]
    },
    {
     "name": "stdout",
     "output_type": "stream",
     "text": [
      "111 0\n",
      "CVD040\n",
      "446 426\n",
      "280 243\n",
      "276 190\n",
      "428 223\n",
      "514 241\n",
      "656 275\n",
      "358 319\n",
      "448 302\n",
      "740 388\n",
      "655 338\n",
      "313 176\n",
      "143 78\n",
      "100 46\n",
      "83 26\n",
      "75 14\n",
      "72 7\n",
      "79 0\n",
      "68 0\n"
     ]
    },
    {
     "name": "stderr",
     "output_type": "stream",
     "text": [
      " 12%|██████████████████▊                                                                                                                                     | 31/250 [06:43<51:20, 14.06s/it]"
     ]
    },
    {
     "name": "stdout",
     "output_type": "stream",
     "text": [
      "CVD041\n",
      "581 575\n",
      "358 346\n",
      "266 207\n",
      "408 201\n",
      "590 241\n",
      "823 304\n",
      "426 407\n",
      "472 333\n",
      "977 468\n",
      "759 356\n",
      "356 175\n",
      "148 74\n",
      "46 31\n",
      "38 21\n",
      "31 12\n"
     ]
    },
    {
     "name": "stderr",
     "output_type": "stream",
     "text": [
      " 13%|███████████████████▍                                                                                                                                    | 32/250 [07:01<56:10, 15.46s/it]"
     ]
    },
    {
     "name": "stdout",
     "output_type": "stream",
     "text": [
      "29 8\n",
      "23 0\n",
      "23 0\n",
      "CVD042\n",
      "471 462\n",
      "282 273\n",
      "189 165\n",
      "169 126\n",
      "162 113\n",
      "157 94\n",
      "356 346\n",
      "241 215\n",
      "209 159\n",
      "189 129\n",
      "135 92\n",
      "70 52\n",
      "53 37\n",
      "45 27\n",
      "33 14\n",
      "22 3\n"
     ]
    },
    {
     "name": "stderr",
     "output_type": "stream",
     "text": [
      " 13%|████████████████████                                                                                                                                    | 33/250 [07:09<47:31, 13.14s/it]"
     ]
    },
    {
     "name": "stdout",
     "output_type": "stream",
     "text": [
      "20 0\n",
      "18 0\n",
      "CVD043\n",
      "349 337\n",
      "202 186\n",
      "213 157\n",
      "243 148\n",
      "260 135\n",
      "280 136\n",
      "271 246\n",
      "247 185\n",
      "282 167\n",
      "276 165\n",
      "205 131\n",
      "79 57\n",
      "57 39\n",
      "36 16\n",
      "32 10\n"
     ]
    },
    {
     "name": "stderr",
     "output_type": "stream",
     "text": [
      " 14%|████████████████████▋                                                                                                                                   | 34/250 [07:18<42:17, 11.75s/it]"
     ]
    },
    {
     "name": "stdout",
     "output_type": "stream",
     "text": [
      "30 5\n",
      "26 0\n",
      "26 0\n",
      "CVD045\n",
      "457 414\n",
      "317 251\n",
      "320 202\n",
      "551 231\n",
      "778 287\n",
      "1061 390\n",
      "401 319\n",
      "689 367\n",
      "1180 517\n",
      "856 376\n",
      "386 195\n",
      "130 58\n",
      "108 32\n",
      "106 19\n",
      "111 18\n",
      "123 15\n",
      "123 0\n"
     ]
    },
    {
     "name": "stderr",
     "output_type": "stream",
     "text": [
      " 14%|█████████████████████▎                                                                                                                                  | 35/250 [07:38<51:46, 14.45s/it]"
     ]
    },
    {
     "name": "stdout",
     "output_type": "stream",
     "text": [
      "122 0\n",
      "CVD047\n",
      "708 675\n",
      "520 475\n",
      "425 351\n",
      "454 306\n",
      "450 275\n",
      "489 272\n",
      "608 558\n",
      "581 435\n",
      "572 355\n",
      "483 291\n",
      "352 233\n",
      "198 126\n",
      "163 102\n",
      "137 69\n",
      "111 38\n",
      "102 21\n",
      "85 0\n"
     ]
    },
    {
     "name": "stderr",
     "output_type": "stream",
     "text": [
      " 14%|█████████████████████▉                                                                                                                                  | 36/250 [07:57<56:19, 15.79s/it]"
     ]
    },
    {
     "name": "stdout",
     "output_type": "stream",
     "text": [
      "80 0\n",
      "CVD048\n",
      "582 533\n",
      "429 358\n",
      "380 251\n",
      "504 253\n",
      "631 283\n",
      "777 322\n",
      "575 493\n",
      "620 384\n",
      "836 425\n",
      "622 318\n",
      "333 156\n",
      "158 76\n",
      "138 54\n",
      "128 35\n",
      "131 26\n",
      "142 19\n",
      "143 0\n"
     ]
    },
    {
     "name": "stderr",
     "output_type": "stream",
     "text": [
      " 15%|██████████████████████▏                                                                                                                               | 37/250 [08:19<1:02:15, 17.54s/it]"
     ]
    },
    {
     "name": "stdout",
     "output_type": "stream",
     "text": [
      "135 0\n",
      "CVD049\n",
      "546 534\n",
      "365 345\n",
      "243 208\n",
      "222 165\n",
      "223 146\n",
      "243 138\n",
      "467 442\n",
      "338 296\n",
      "282 198\n",
      "285 174\n",
      "275 163\n",
      "158 81\n",
      "69 43\n",
      "50 22\n",
      "45 14\n",
      "49 12\n"
     ]
    },
    {
     "name": "stderr",
     "output_type": "stream",
     "text": [
      " 15%|███████████████████████                                                                                                                                 | 38/250 [08:31<55:45, 15.78s/it]"
     ]
    },
    {
     "name": "stdout",
     "output_type": "stream",
     "text": [
      "49 0\n",
      "46 0\n",
      "CVD050\n",
      "386 351\n",
      "282 235\n",
      "240 170\n",
      "289 152\n",
      "324 149\n",
      "400 192\n",
      "321 271\n",
      "331 212\n",
      "405 229\n",
      "397 228\n",
      "241 149\n",
      "172 103\n",
      "105 47\n",
      "94 33\n",
      "87 25\n",
      "88 19\n",
      "71 0\n"
     ]
    },
    {
     "name": "stderr",
     "output_type": "stream",
     "text": [
      " 16%|███████████████████████▋                                                                                                                                | 39/250 [08:44<52:32, 14.94s/it]"
     ]
    },
    {
     "name": "stdout",
     "output_type": "stream",
     "text": [
      "76 0\n",
      "CVD052\n",
      "564 465\n",
      "469 348\n",
      "463 292\n",
      "532 281\n",
      "569 267\n",
      "640 300\n",
      "518 384\n",
      "510 327\n",
      "614 322\n",
      "596 308\n",
      "483 250\n",
      "360 201\n",
      "216 80\n",
      "191 46\n",
      "177 27\n",
      "171 13\n",
      "168 0\n"
     ]
    },
    {
     "name": "stderr",
     "output_type": "stream",
     "text": [
      " 16%|████████████████████████▎                                                                                                                               | 40/250 [09:05<59:04, 16.88s/it]"
     ]
    },
    {
     "name": "stdout",
     "output_type": "stream",
     "text": [
      "149 0\n",
      "CVD055\n",
      "453 442\n",
      "259 245\n",
      "186 160\n",
      "158 124\n",
      "136 100\n",
      "133 92\n",
      "347 330\n",
      "270 242\n",
      "220 186\n",
      "161 120\n",
      "126 87\n",
      "86 59\n",
      "58 31\n",
      "45 16\n",
      "41 12\n",
      "34 4\n",
      "31 0\n"
     ]
    },
    {
     "name": "stderr",
     "output_type": "stream",
     "text": [
      " 16%|████████████████████████▉                                                                                                                               | 41/250 [09:13<49:20, 14.17s/it]"
     ]
    },
    {
     "name": "stdout",
     "output_type": "stream",
     "text": [
      "28 0\n",
      "CVD056\n",
      "544 519\n",
      "329 300\n",
      "227 191\n",
      "159 121\n",
      "138 100\n",
      "119 75\n",
      "407 376\n",
      "285 252\n",
      "210 172\n",
      "144 108\n",
      "119 83\n",
      "94 57\n",
      "64 29\n",
      "59 20\n",
      "55 13\n",
      "48 6\n"
     ]
    },
    {
     "name": "stderr",
     "output_type": "stream",
     "text": [
      " 17%|█████████████████████████▌                                                                                                                              | 42/250 [09:22<44:09, 12.74s/it]"
     ]
    },
    {
     "name": "stdout",
     "output_type": "stream",
     "text": [
      "43 0\n",
      "39 0\n",
      "CVD060\n",
      "359 312\n",
      "279 202\n",
      "346 192\n",
      "548 253\n",
      "704 306\n",
      "862 362\n",
      "354 268\n",
      "520 293\n",
      "833 425\n",
      "787 382\n",
      "408 218\n",
      "166 86\n",
      "157 47\n",
      "151 30\n",
      "147 17\n",
      "144 6\n",
      "144 0\n"
     ]
    },
    {
     "name": "stderr",
     "output_type": "stream",
     "text": [
      " 17%|██████████████████████████▏                                                                                                                             | 43/250 [09:42<51:20, 14.88s/it]"
     ]
    },
    {
     "name": "stdout",
     "output_type": "stream",
     "text": [
      "141 0\n",
      "CVD061\n",
      "383 353\n",
      "280 231\n",
      "281 195\n",
      "352 190\n",
      "417 202\n",
      "464 193\n",
      "340 288\n",
      "355 256\n",
      "446 230\n",
      "481 231\n",
      "355 168\n",
      "170 91\n",
      "109 39\n",
      "108 31\n",
      "103 20\n",
      "97 10\n",
      "93 0\n"
     ]
    },
    {
     "name": "stderr",
     "output_type": "stream",
     "text": [
      " 18%|██████████████████████████▊                                                                                                                             | 44/250 [09:56<50:19, 14.66s/it]"
     ]
    },
    {
     "name": "stdout",
     "output_type": "stream",
     "text": [
      "94 0\n",
      "CVD063\n",
      "771 735\n",
      "505 459\n",
      "380 322\n",
      "328 242\n",
      "320 216\n",
      "302 184\n",
      "601 554\n",
      "455 394\n",
      "380 276\n",
      "348 220\n",
      "271 164\n",
      "141 84\n",
      "127 69\n",
      "102 37\n",
      "91 22\n",
      "90 15\n",
      "82 0\n"
     ]
    },
    {
     "name": "stderr",
     "output_type": "stream",
     "text": [
      " 18%|███████████████████████████▎                                                                                                                            | 45/250 [10:12<51:29, 15.07s/it]"
     ]
    },
    {
     "name": "stdout",
     "output_type": "stream",
     "text": [
      "80 0\n",
      "CVD064\n",
      "426 412\n",
      "234 214\n",
      "188 143\n",
      "282 170\n",
      "410 204\n",
      "656 271\n",
      "339 306\n",
      "426 259\n",
      "988 471\n",
      "979 405\n",
      "470 182\n",
      "182 73\n",
      "73 39\n",
      "78 28\n",
      "75 21\n",
      "67 11\n",
      "70 0\n"
     ]
    },
    {
     "name": "stderr",
     "output_type": "stream",
     "text": [
      " 18%|███████████████████████████▉                                                                                                                            | 46/250 [10:29<52:49, 15.54s/it]"
     ]
    },
    {
     "name": "stdout",
     "output_type": "stream",
     "text": [
      "69 0\n",
      "CVD065\n",
      "463 425\n",
      "316 261\n",
      "327 207\n",
      "546 239\n",
      "733 291\n",
      "957 337\n",
      "397 309\n",
      "676 332\n",
      "936 416\n",
      "613 274\n",
      "326 145\n",
      "91 42\n",
      "86 38\n",
      "79 26\n",
      "76 19\n",
      "70 10\n",
      "65 0\n"
     ]
    },
    {
     "name": "stderr",
     "output_type": "stream",
     "text": [
      " 19%|████████████████████████████▌                                                                                                                           | 47/250 [10:48<55:42, 16.47s/it]"
     ]
    },
    {
     "name": "stdout",
     "output_type": "stream",
     "text": [
      "65 0\n",
      "CVD068\n",
      "424 407\n",
      "303 277\n",
      "237 185\n",
      "258 165\n",
      "266 133\n",
      "296 137\n",
      "362 331\n",
      "320 251\n",
      "320 197\n",
      "332 181\n",
      "249 144\n",
      "156 97\n",
      "86 47\n",
      "72 29\n",
      "63 16\n",
      "57 9\n",
      "52 0\n"
     ]
    },
    {
     "name": "stderr",
     "output_type": "stream",
     "text": [
      " 19%|█████████████████████████████▏                                                                                                                          | 48/250 [10:58<49:45, 14.78s/it]"
     ]
    },
    {
     "name": "stdout",
     "output_type": "stream",
     "text": [
      "48 0\n",
      "CVD070\n",
      "317 293\n",
      "234 198\n",
      "249 159\n",
      "353 166\n",
      "399 166\n",
      "459 172\n",
      "310 263\n",
      "306 196\n",
      "461 226\n",
      "399 194\n",
      "217 131\n",
      "66 45\n",
      "92 51\n",
      "83 40\n",
      "67 23\n",
      "55 9\n",
      "48 0\n"
     ]
    },
    {
     "name": "stderr",
     "output_type": "stream",
     "text": [
      " 20%|█████████████████████████████▊                                                                                                                          | 49/250 [11:10<46:28, 13.87s/it]"
     ]
    },
    {
     "name": "stdout",
     "output_type": "stream",
     "text": [
      "41 0\n",
      "CVD073\n",
      "628 582\n",
      "445 386\n",
      "331 250\n",
      "294 185\n",
      "285 168\n",
      "277 149\n",
      "558 494\n",
      "423 340\n",
      "361 251\n",
      "299 180\n",
      "213 118\n",
      "118 63\n",
      "96 37\n",
      "89 27\n",
      "76 13\n",
      "74 4\n"
     ]
    },
    {
     "name": "stderr",
     "output_type": "stream",
     "text": [
      " 20%|██████████████████████████████▍                                                                                                                         | 50/250 [11:23<45:33, 13.67s/it]"
     ]
    },
    {
     "name": "stdout",
     "output_type": "stream",
     "text": [
      "72 0\n",
      "67 0\n",
      "CVD074\n",
      "554 510\n",
      "395 344\n",
      "319 251\n",
      "337 210\n",
      "353 179\n",
      "395 185\n",
      "447 393\n",
      "409 313\n",
      "457 286\n",
      "451 244\n",
      "338 188\n",
      "165 97\n",
      "102 47\n",
      "91 24\n",
      "90 19\n",
      "86 7\n",
      "87 0\n"
     ]
    },
    {
     "name": "stderr",
     "output_type": "stream",
     "text": [
      " 20%|███████████████████████████████                                                                                                                         | 51/250 [11:38<46:22, 13.98s/it]"
     ]
    },
    {
     "name": "stdout",
     "output_type": "stream",
     "text": [
      "75 0\n",
      "CVD075\n",
      "707 691\n",
      "414 397\n",
      "252 232\n",
      "186 160\n",
      "166 134\n",
      "144 104\n",
      "537 520\n",
      "370 351\n",
      "255 229\n",
      "190 153\n",
      "151 115\n",
      "75 50\n",
      "50 27\n",
      "42 16\n",
      "35 8\n"
     ]
    },
    {
     "name": "stderr",
     "output_type": "stream",
     "text": [
      " 21%|███████████████████████████████▌                                                                                                                        | 52/250 [11:49<43:11, 13.09s/it]"
     ]
    },
    {
     "name": "stdout",
     "output_type": "stream",
     "text": [
      "32 4\n",
      "30 0\n",
      "28 0\n",
      "CVD076\n",
      "393 347\n",
      "306 230\n",
      "350 205\n",
      "476 260\n",
      "541 264\n",
      "609 291\n",
      "384 293\n",
      "496 300\n",
      "641 345\n",
      "485 271\n",
      "264 139\n",
      "116 70\n",
      "130 59\n",
      "116 39\n",
      "101 22\n",
      "94 10\n",
      "94 0\n"
     ]
    },
    {
     "name": "stderr",
     "output_type": "stream",
     "text": [
      " 21%|████████████████████████████████▏                                                                                                                       | 53/250 [12:04<44:54, 13.68s/it]"
     ]
    },
    {
     "name": "stdout",
     "output_type": "stream",
     "text": [
      "89 0\n",
      "CVD077\n",
      "683 671\n",
      "449 430\n",
      "398 341\n",
      "456 305\n",
      "578 311\n",
      "730 333\n",
      "527 499\n",
      "599 445\n",
      "950 549\n",
      "801 447\n",
      "366 229\n",
      "175 103\n",
      "103 68\n",
      "84 43\n",
      "76 31\n",
      "57 6\n"
     ]
    },
    {
     "name": "stderr",
     "output_type": "stream",
     "text": [
      " 22%|████████████████████████████████▊                                                                                                                       | 54/250 [12:24<50:46, 15.54s/it]"
     ]
    },
    {
     "name": "stdout",
     "output_type": "stream",
     "text": [
      "61 0\n",
      "47 0\n",
      "CVD078\n",
      "794 752\n",
      "513 458\n",
      "281 205\n",
      "256 158\n",
      "257 145\n",
      "253 131\n",
      "661 610\n",
      "515 448\n",
      "397 295\n",
      "252 141\n",
      "182 97\n",
      "92 48\n",
      "70 12\n",
      "67 8\n",
      "65 3\n",
      "64 0\n",
      "65 0\n"
     ]
    },
    {
     "name": "stderr",
     "output_type": "stream",
     "text": [
      " 22%|█████████████████████████████████▍                                                                                                                      | 55/250 [12:39<49:33, 15.25s/it]"
     ]
    },
    {
     "name": "stdout",
     "output_type": "stream",
     "text": [
      "65 0\n",
      "CVD079\n",
      "615 577\n",
      "421 370\n",
      "323 256\n",
      "297 215\n",
      "282 187\n",
      "262 157\n",
      "494 443\n",
      "371 302\n",
      "339 245\n",
      "292 198\n",
      "242 162\n",
      "166 102\n",
      "133 75\n",
      "108 43\n",
      "97 27\n",
      "86 13\n",
      "81 0\n"
     ]
    },
    {
     "name": "stderr",
     "output_type": "stream",
     "text": [
      " 22%|██████████████████████████████████                                                                                                                      | 56/250 [12:52<47:08, 14.58s/it]"
     ]
    },
    {
     "name": "stdout",
     "output_type": "stream",
     "text": [
      "73 0\n",
      "CVD080\n",
      "294 275\n",
      "212 188\n",
      "176 132\n",
      "183 116\n",
      "175 102\n",
      "181 101\n",
      "244 221\n",
      "229 174\n",
      "192 124\n",
      "192 117\n",
      "170 99\n",
      "112 58\n",
      "61 31\n",
      "57 23\n",
      "48 13\n",
      "46 7\n",
      "44 0\n"
     ]
    },
    {
     "name": "stderr",
     "output_type": "stream",
     "text": [
      " 23%|██████████████████████████████████▋                                                                                                                     | 57/250 [12:59<40:01, 12.44s/it]"
     ]
    },
    {
     "name": "stdout",
     "output_type": "stream",
     "text": [
      "40 0\n",
      "CVD081\n",
      "555 531\n",
      "361 328\n",
      "301 246\n",
      "266 192\n",
      "248 158\n",
      "249 152\n",
      "454 417\n",
      "358 306\n",
      "344 251\n",
      "290 199\n",
      "213 143\n",
      "135 82\n",
      "77 35\n",
      "64 16\n",
      "64 13\n",
      "59 4\n"
     ]
    },
    {
     "name": "stderr",
     "output_type": "stream",
     "text": [
      " 23%|███████████████████████████████████▎                                                                                                                    | 58/250 [13:11<39:10, 12.24s/it]"
     ]
    },
    {
     "name": "stdout",
     "output_type": "stream",
     "text": [
      "56 0\n",
      "53 0\n",
      "CVD082\n",
      "484 474\n",
      "254 243\n",
      "157 144\n",
      "106 90\n",
      "78 61\n",
      "62 38\n",
      "334 324\n",
      "224 209\n",
      "147 131\n",
      "95 74\n",
      "81 55\n",
      "51 28\n",
      "28 17\n",
      "22 10\n",
      "17 4\n"
     ]
    },
    {
     "name": "stderr",
     "output_type": "stream",
     "text": [
      " 24%|███████████████████████████████████▊                                                                                                                    | 59/250 [13:17<33:22, 10.48s/it]"
     ]
    },
    {
     "name": "stdout",
     "output_type": "stream",
     "text": [
      "17 1\n",
      "19 0\n",
      "20 0\n",
      "CVD083\n",
      "683 652\n",
      "487 433\n",
      "408 302\n",
      "456 269\n",
      "542 279\n",
      "674 316\n",
      "655 585\n",
      "643 450\n",
      "833 450\n",
      "715 355\n",
      "377 220\n",
      "122 74\n",
      "130 73\n",
      "101 38\n",
      "93 24\n",
      "82 9\n",
      "81 0\n"
     ]
    },
    {
     "name": "stderr",
     "output_type": "stream",
     "text": [
      " 24%|████████████████████████████████████▍                                                                                                                   | 60/250 [13:38<42:41, 13.48s/it]"
     ]
    },
    {
     "name": "stdout",
     "output_type": "stream",
     "text": [
      "79 0\n",
      "CVD084\n",
      "648 612\n",
      "400 358\n",
      "300 236\n",
      "289 194\n",
      "288 169\n",
      "309 165\n",
      "502 452\n",
      "372 294\n",
      "346 235\n",
      "317 192\n",
      "277 166\n",
      "187 113\n",
      "85 37\n",
      "79 25\n",
      "73 15\n",
      "64 4\n",
      "67 0\n"
     ]
    },
    {
     "name": "stderr",
     "output_type": "stream",
     "text": [
      " 24%|█████████████████████████████████████                                                                                                                   | 61/250 [13:52<42:58, 13.64s/it]"
     ]
    },
    {
     "name": "stdout",
     "output_type": "stream",
     "text": [
      "64 0\n",
      "CVD085\n",
      "703 680\n",
      "464 427\n",
      "315 266\n",
      "263 191\n",
      "239 154\n",
      "228 129\n",
      "565 531\n",
      "477 424\n",
      "356 281\n",
      "291 209\n",
      "225 151\n",
      "138 95\n",
      "66 29\n",
      "68 24\n",
      "70 19\n",
      "59 6\n"
     ]
    },
    {
     "name": "stderr",
     "output_type": "stream",
     "text": [
      " 25%|█████████████████████████████████████▋                                                                                                                  | 62/250 [14:06<42:59, 13.72s/it]"
     ]
    },
    {
     "name": "stdout",
     "output_type": "stream",
     "text": [
      "58 0\n",
      "55 0\n",
      "CVD086\n",
      "517 488\n",
      "372 328\n",
      "239 155\n",
      "258 127\n",
      "292 131\n",
      "342 139\n",
      "475 431\n",
      "403 317\n",
      "431 262\n",
      "369 189\n",
      "238 114\n",
      "161 71\n",
      "95 40\n",
      "80 23\n",
      "79 14\n",
      "83 9\n",
      "75 0\n"
     ]
    },
    {
     "name": "stderr",
     "output_type": "stream",
     "text": [
      " 25%|██████████████████████████████████████▎                                                                                                                 | 63/250 [14:19<42:04, 13.50s/it]"
     ]
    },
    {
     "name": "stdout",
     "output_type": "stream",
     "text": [
      "75 0\n",
      "CVD088\n",
      "562 532\n",
      "328 289\n",
      "271 190\n",
      "337 168\n",
      "392 181\n",
      "423 181\n",
      "424 378\n",
      "341 248\n",
      "428 247\n",
      "424 218\n",
      "265 142\n",
      "119 70\n",
      "84 41\n",
      "67 22\n",
      "60 13\n",
      "54 6\n"
     ]
    },
    {
     "name": "stderr",
     "output_type": "stream",
     "text": [
      " 26%|██████████████████████████████████████▉                                                                                                                 | 64/250 [14:32<41:27, 13.37s/it]"
     ]
    },
    {
     "name": "stdout",
     "output_type": "stream",
     "text": [
      "52 0\n",
      "54 0\n",
      "CVD089\n",
      "576 540\n",
      "390 341\n",
      "323 232\n",
      "380 211\n",
      "404 206\n",
      "441 201\n",
      "448 393\n",
      "472 327\n",
      "516 305\n",
      "437 225\n",
      "271 140\n",
      "136 81\n",
      "97 49\n",
      "75 21\n",
      "71 14\n",
      "69 10\n",
      "65 0\n"
     ]
    },
    {
     "name": "stderr",
     "output_type": "stream",
     "text": [
      " 26%|███████████████████████████████████████▌                                                                                                                | 65/250 [14:46<41:51, 13.57s/it]"
     ]
    },
    {
     "name": "stdout",
     "output_type": "stream",
     "text": [
      "65 0\n",
      "CVD090\n",
      "532 508\n",
      "359 327\n",
      "275 223\n",
      "235 141\n",
      "245 126\n",
      "253 118\n",
      "426 399\n",
      "374 303\n",
      "356 234\n",
      "268 142\n",
      "197 113\n",
      "86 47\n",
      "64 29\n",
      "57 20\n",
      "47 10\n",
      "47 7\n",
      "42 0\n"
     ]
    },
    {
     "name": "stderr",
     "output_type": "stream",
     "text": [
      " 26%|████████████████████████████████████████▏                                                                                                               | 66/250 [14:56<38:46, 12.64s/it]"
     ]
    },
    {
     "name": "stdout",
     "output_type": "stream",
     "text": [
      "39 0\n",
      "CVD091\n",
      "357 344\n",
      "240 225\n",
      "161 143\n",
      "141 111\n",
      "128 89\n",
      "124 81\n",
      "278 263\n",
      "222 203\n",
      "166 133\n",
      "148 103\n",
      "122 80\n",
      "88 61\n",
      "44 24\n",
      "36 12\n",
      "34 7\n",
      "33 3\n",
      "34 0\n"
     ]
    },
    {
     "name": "stderr",
     "output_type": "stream",
     "text": [
      " 27%|████████████████████████████████████████▋                                                                                                               | 67/250 [15:03<33:02, 10.83s/it]"
     ]
    },
    {
     "name": "stdout",
     "output_type": "stream",
     "text": [
      "33 0\n",
      "CVD092\n",
      "631 612\n",
      "430 405\n",
      "261 229\n",
      "229 181\n",
      "207 148\n",
      "194 130\n",
      "515 494\n",
      "364 332\n",
      "297 247\n",
      "207 162\n",
      "150 110\n",
      "115 79\n",
      "56 28\n",
      "51 23\n",
      "48 18\n",
      "43 9\n",
      "37 0\n"
     ]
    },
    {
     "name": "stderr",
     "output_type": "stream",
     "text": [
      " 27%|█████████████████████████████████████████▎                                                                                                              | 68/250 [15:13<32:27, 10.70s/it]"
     ]
    },
    {
     "name": "stdout",
     "output_type": "stream",
     "text": [
      "32 0\n",
      "CVD096\n",
      "609 584\n",
      "399 370\n",
      "219 184\n",
      "154 106\n",
      "131 77\n",
      "124 69\n",
      "474 445\n",
      "382 343\n",
      "259 215\n",
      "162 113\n",
      "123 69\n",
      "75 34\n",
      "51 17\n",
      "51 12\n",
      "49 5\n",
      "48 3\n",
      "50 0\n"
     ]
    },
    {
     "name": "stderr",
     "output_type": "stream",
     "text": [
      " 28%|█████████████████████████████████████████▉                                                                                                              | 69/250 [15:22<30:57, 10.26s/it]"
     ]
    },
    {
     "name": "stdout",
     "output_type": "stream",
     "text": [
      "47 0\n",
      "CVD097\n",
      "552 524\n",
      "322 289\n",
      "241 191\n",
      "202 145\n",
      "185 121\n",
      "176 103\n",
      "395 361\n",
      "294 247\n",
      "263 197\n",
      "196 127\n",
      "163 102\n",
      "111 61\n",
      "58 23\n",
      "50 11\n",
      "48 8\n",
      "42 2\n",
      "42 0\n"
     ]
    },
    {
     "name": "stderr",
     "output_type": "stream",
     "text": [
      " 28%|██████████████████████████████████████████▌                                                                                                             | 70/250 [15:32<29:48,  9.94s/it]"
     ]
    },
    {
     "name": "stdout",
     "output_type": "stream",
     "text": [
      "41 0\n",
      "CVD098\n",
      "886 867\n",
      "560 530\n",
      "305 258\n",
      "315 218\n",
      "348 204\n",
      "412 212\n",
      "682 649\n",
      "568 507\n",
      "487 345\n",
      "426 224\n",
      "365 188\n",
      "181 98\n",
      "85 48\n",
      "67 26\n",
      "54 10\n",
      "52 4\n"
     ]
    },
    {
     "name": "stderr",
     "output_type": "stream",
     "text": [
      " 28%|███████████████████████████████████████████▏                                                                                                            | 71/250 [15:47<34:45, 11.65s/it]"
     ]
    },
    {
     "name": "stdout",
     "output_type": "stream",
     "text": [
      "52 0\n",
      "51 0\n",
      "CVD100\n",
      "682 663\n",
      "457 417\n",
      "330 255\n",
      "305 181\n",
      "301 146\n",
      "320 149\n",
      "579 537\n",
      "464 373\n",
      "379 252\n",
      "331 190\n",
      "221 134\n",
      "127 82\n",
      "75 41\n",
      "65 27\n",
      "50 12\n",
      "43 3\n",
      "44 0\n"
     ]
    },
    {
     "name": "stderr",
     "output_type": "stream",
     "text": [
      " 29%|███████████████████████████████████████████▊                                                                                                            | 72/250 [16:00<35:41, 12.03s/it]"
     ]
    },
    {
     "name": "stdout",
     "output_type": "stream",
     "text": [
      "42 0\n",
      "CVD102\n",
      "608 596\n",
      "387 361\n",
      "278 207\n",
      "361 173\n",
      "487 196\n",
      "681 239\n",
      "481 447\n",
      "475 329\n",
      "837 333\n",
      "838 356\n",
      "425 205\n",
      "149 81\n",
      "78 41\n",
      "78 34\n",
      "77 24\n",
      "66 9\n"
     ]
    },
    {
     "name": "stderr",
     "output_type": "stream",
     "text": [
      " 29%|████████████████████████████████████████████▍                                                                                                           | 73/250 [16:18<40:33, 13.75s/it]"
     ]
    },
    {
     "name": "stdout",
     "output_type": "stream",
     "text": [
      "60 0\n",
      "58 0\n",
      "CVD103\n",
      "369 345\n",
      "229 196\n",
      "199 142\n",
      "310 155\n",
      "457 188\n",
      "649 214\n",
      "298 247\n",
      "498 260\n",
      "810 325\n",
      "546 262\n",
      "308 176\n",
      "146 71\n",
      "83 42\n",
      "77 32\n",
      "69 22\n",
      "61 10\n",
      "59 0\n"
     ]
    },
    {
     "name": "stderr",
     "output_type": "stream",
     "text": [
      " 30%|████████████████████████████████████████████▉                                                                                                           | 74/250 [16:33<41:26, 14.13s/it]"
     ]
    },
    {
     "name": "stdout",
     "output_type": "stream",
     "text": [
      "59 0\n",
      "CVD104\n",
      "670 665\n",
      "345 333\n",
      "221 201\n",
      "185 148\n",
      "182 128\n",
      "177 112\n",
      "487 474\n",
      "322 298\n",
      "245 188\n",
      "222 146\n",
      "174 99\n",
      "109 58\n",
      "42 24\n",
      "34 14\n",
      "31 9\n",
      "29 7\n",
      "26 0\n"
     ]
    },
    {
     "name": "stderr",
     "output_type": "stream",
     "text": [
      " 30%|█████████████████████████████████████████████▌                                                                                                          | 75/250 [16:43<37:46, 12.95s/it]"
     ]
    },
    {
     "name": "stdout",
     "output_type": "stream",
     "text": [
      "30 0\n",
      "CVD105\n",
      "478 455\n",
      "316 283\n",
      "255 212\n",
      "243 189\n",
      "218 149\n",
      "193 118\n",
      "401 371\n",
      "324 274\n",
      "286 218\n",
      "261 188\n",
      "199 138\n",
      "136 94\n",
      "82 38\n",
      "66 20\n",
      "61 15\n",
      "55 8\n"
     ]
    },
    {
     "name": "stderr",
     "output_type": "stream",
     "text": [
      " 30%|██████████████████████████████████████████████▏                                                                                                         | 76/250 [16:54<35:57, 12.40s/it]"
     ]
    },
    {
     "name": "stdout",
     "output_type": "stream",
     "text": [
      "49 0\n",
      "49 0\n",
      "CVD106\n",
      "356 317\n",
      "286 234\n",
      "251 175\n",
      "346 185\n",
      "493 216\n",
      "697 289\n",
      "302 246\n",
      "410 254\n",
      "804 386\n",
      "727 364\n",
      "373 220\n",
      "158 98\n",
      "118 47\n",
      "112 36\n",
      "104 25\n",
      "95 12\n",
      "87 0\n"
     ]
    },
    {
     "name": "stderr",
     "output_type": "stream",
     "text": [
      " 31%|██████████████████████████████████████████████▊                                                                                                         | 77/250 [17:12<40:09, 13.93s/it]"
     ]
    },
    {
     "name": "stdout",
     "output_type": "stream",
     "text": [
      "91 0\n",
      "CVD107\n",
      "372 357\n",
      "221 190\n",
      "256 167\n",
      "516 219\n",
      "715 266\n",
      "994 348\n",
      "354 298\n",
      "673 352\n",
      "1096 534\n",
      "630 320\n",
      "166 87\n",
      "28 12\n",
      "53 30\n",
      "44 18\n",
      "43 14\n",
      "39 7\n"
     ]
    },
    {
     "name": "stderr",
     "output_type": "stream",
     "text": [
      " 31%|███████████████████████████████████████████████▍                                                                                                        | 78/250 [17:30<43:16, 15.10s/it]"
     ]
    },
    {
     "name": "stdout",
     "output_type": "stream",
     "text": [
      "37 0\n",
      "37 0\n",
      "CVD108\n",
      "384 356\n",
      "251 217\n",
      "190 140\n",
      "178 110\n",
      "175 99\n",
      "178 89\n",
      "303 267\n",
      "253 198\n",
      "217 143\n",
      "200 112\n",
      "166 83\n",
      "91 50\n",
      "63 21\n",
      "61 14\n",
      "58 7\n",
      "58 3\n",
      "58 0\n"
     ]
    },
    {
     "name": "stderr",
     "output_type": "stream",
     "text": [
      " 32%|████████████████████████████████████████████████                                                                                                        | 79/250 [17:38<37:31, 13.17s/it]"
     ]
    },
    {
     "name": "stdout",
     "output_type": "stream",
     "text": [
      "56 0\n",
      "CVD111\n",
      "716 678\n",
      "473 418\n",
      "349 254\n",
      "461 252\n",
      "556 271\n",
      "641 295\n",
      "590 514\n",
      "649 445\n",
      "772 450\n",
      "595 298\n",
      "369 193\n",
      "124 78\n",
      "132 67\n",
      "116 44\n",
      "114 32\n",
      "104 15\n",
      "99 0\n"
     ]
    },
    {
     "name": "stderr",
     "output_type": "stream",
     "text": [
      " 32%|████████████████████████████████████████████████▋                                                                                                       | 80/250 [17:57<41:45, 14.74s/it]"
     ]
    },
    {
     "name": "stdout",
     "output_type": "stream",
     "text": [
      "98 0\n",
      "CVD112\n",
      "706 638\n",
      "614 523\n",
      "367 252\n",
      "384 202\n",
      "402 181\n",
      "459 191\n",
      "629 538\n",
      "609 479\n",
      "592 380\n",
      "486 243\n",
      "296 152\n",
      "182 94\n",
      "160 51\n",
      "151 37\n",
      "146 24\n",
      "137 15\n",
      "128 0\n"
     ]
    },
    {
     "name": "stderr",
     "output_type": "stream",
     "text": [
      " 32%|█████████████████████████████████████████████████▏                                                                                                      | 81/250 [18:15<44:53, 15.94s/it]"
     ]
    },
    {
     "name": "stdout",
     "output_type": "stream",
     "text": [
      "126 0\n",
      "CVD113\n",
      "711 696\n",
      "394 377\n",
      "256 224\n",
      "198 145\n",
      "181 118\n",
      "203 108\n",
      "562 547\n",
      "374 341\n",
      "269 199\n",
      "247 154\n",
      "230 141\n",
      "164 104\n",
      "67 30\n",
      "60 17\n",
      "63 12\n",
      "59 4\n"
     ]
    },
    {
     "name": "stderr",
     "output_type": "stream",
     "text": [
      " 33%|█████████████████████████████████████████████████▊                                                                                                      | 82/250 [18:28<41:48, 14.93s/it]"
     ]
    },
    {
     "name": "stdout",
     "output_type": "stream",
     "text": [
      "65 0\n",
      "60 0\n",
      "CVD114\n",
      "440 376\n",
      "374 285\n",
      "377 228\n",
      "423 208\n",
      "450 215\n",
      "475 221\n",
      "428 326\n",
      "447 277\n",
      "497 270\n",
      "410 230\n",
      "237 137\n",
      "123 82\n",
      "104 36\n",
      "93 20\n",
      "84 9\n",
      "83 4\n",
      "79 0\n"
     ]
    },
    {
     "name": "stderr",
     "output_type": "stream",
     "text": [
      " 33%|██████████████████████████████████████████████████▍                                                                                                     | 83/250 [18:43<41:59, 15.09s/it]"
     ]
    },
    {
     "name": "stdout",
     "output_type": "stream",
     "text": [
      "71 0\n",
      "CVD115\n",
      "440 410\n",
      "328 277\n",
      "369 244\n",
      "567 259\n",
      "740 296\n",
      "964 378\n",
      "410 331\n",
      "676 377\n",
      "1077 506\n",
      "824 433\n",
      "392 228\n",
      "141 90\n",
      "97 45\n",
      "86 31\n",
      "76 20\n",
      "74 12\n",
      "67 0\n"
     ]
    },
    {
     "name": "stderr",
     "output_type": "stream",
     "text": [
      " 34%|███████████████████████████████████████████████████                                                                                                     | 84/250 [19:05<46:43, 16.89s/it]"
     ]
    },
    {
     "name": "stdout",
     "output_type": "stream",
     "text": [
      "66 0\n",
      "CVD116\n",
      "714 692\n",
      "512 483\n",
      "262 225\n",
      "246 183\n",
      "239 156\n",
      "255 143\n",
      "615 585\n",
      "492 452\n",
      "414 337\n",
      "310 196\n",
      "261 163\n",
      "185 111\n",
      "85 45\n",
      "83 37\n",
      "80 29\n",
      "73 14\n",
      "64 0\n"
     ]
    },
    {
     "name": "stderr",
     "output_type": "stream",
     "text": [
      " 34%|███████████████████████████████████████████████████▋                                                                                                    | 85/250 [19:18<43:46, 15.92s/it]"
     ]
    },
    {
     "name": "stdout",
     "output_type": "stream",
     "text": [
      "60 0\n",
      "CVD117\n",
      "534 526\n",
      "282 268\n",
      "194 169\n",
      "188 132\n",
      "206 121\n",
      "239 122\n",
      "365 349\n",
      "239 210\n",
      "260 180\n",
      "265 166\n",
      "207 133\n",
      "97 56\n",
      "49 30\n",
      "47 21\n",
      "44 14\n",
      "44 9\n",
      "38 0\n"
     ]
    },
    {
     "name": "stderr",
     "output_type": "stream",
     "text": [
      " 34%|████████████████████████████████████████████████████▎                                                                                                   | 86/250 [19:28<38:18, 14.02s/it]"
     ]
    },
    {
     "name": "stdout",
     "output_type": "stream",
     "text": [
      "34 0\n",
      "CVD118\n",
      "682 666\n",
      "508 474\n",
      "319 272\n",
      "375 216\n",
      "517 242\n",
      "813 307\n",
      "619 584\n",
      "608 454\n",
      "953 516\n",
      "862 453\n",
      "360 174\n",
      "124 60\n",
      "85 59\n",
      "67 35\n",
      "54 19\n",
      "55 13\n"
     ]
    },
    {
     "name": "stderr",
     "output_type": "stream",
     "text": [
      " 35%|████████████████████████████████████████████████████▉                                                                                                   | 87/250 [19:47<42:27, 15.63s/it]"
     ]
    },
    {
     "name": "stdout",
     "output_type": "stream",
     "text": [
      "49 0\n",
      "41 0\n",
      "CVD121\n",
      "622 573\n",
      "353 292\n",
      "283 192\n",
      "269 149\n",
      "283 153\n",
      "284 137\n",
      "495 433\n",
      "362 267\n",
      "315 194\n",
      "294 161\n",
      "203 110\n",
      "114 69\n",
      "110 42\n",
      "97 24\n",
      "94 16\n",
      "89 8\n",
      "85 0\n"
     ]
    },
    {
     "name": "stderr",
     "output_type": "stream",
     "text": [
      " 35%|█████████████████████████████████████████████████████▌                                                                                                  | 88/250 [19:59<39:07, 14.49s/it]"
     ]
    },
    {
     "name": "stdout",
     "output_type": "stream",
     "text": [
      "80 0\n",
      "CVD124\n",
      "618 589\n",
      "345 307\n",
      "255 198\n",
      "271 163\n",
      "323 167\n",
      "395 179\n",
      "455 409\n",
      "344 256\n",
      "410 226\n",
      "446 208\n",
      "302 168\n",
      "168 86\n",
      "86 33\n",
      "81 27\n",
      "77 22\n",
      "70 8\n",
      "68 0\n"
     ]
    },
    {
     "name": "stderr",
     "output_type": "stream",
     "text": [
      " 36%|██████████████████████████████████████████████████████                                                                                                  | 89/250 [20:12<37:30, 13.98s/it]"
     ]
    },
    {
     "name": "stdout",
     "output_type": "stream",
     "text": [
      "69 0\n",
      "CVD126\n",
      "366 321\n",
      "264 201\n",
      "255 137\n",
      "394 176\n",
      "493 206\n",
      "598 245\n",
      "306 235\n",
      "359 201\n",
      "603 278\n",
      "522 238\n",
      "353 173\n",
      "137 70\n",
      "108 46\n",
      "85 20\n",
      "81 12\n",
      "82 7\n",
      "81 0\n"
     ]
    },
    {
     "name": "stderr",
     "output_type": "stream",
     "text": [
      " 36%|██████████████████████████████████████████████████████▋                                                                                                 | 90/250 [20:26<37:19, 13.99s/it]"
     ]
    },
    {
     "name": "stdout",
     "output_type": "stream",
     "text": [
      "82 0\n",
      "CVD127\n",
      "858 832\n",
      "545 513\n",
      "271 230\n",
      "190 147\n",
      "152 104\n",
      "152 97\n",
      "740 710\n",
      "502 464\n",
      "274 233\n",
      "207 146\n",
      "203 137\n",
      "137 89\n",
      "80 33\n",
      "78 29\n",
      "72 19\n",
      "66 9\n",
      "59 0\n"
     ]
    },
    {
     "name": "stderr",
     "output_type": "stream",
     "text": [
      " 36%|███████████████████████████████████████████████████████▎                                                                                                | 91/250 [20:40<37:04, 13.99s/it]"
     ]
    },
    {
     "name": "stdout",
     "output_type": "stream",
     "text": [
      "61 0\n",
      "CVD128\n",
      "510 501\n",
      "360 346\n",
      "210 190\n",
      "198 145\n",
      "210 129\n",
      "233 121\n",
      "426 412\n",
      "342 307\n",
      "342 250\n",
      "324 202\n",
      "238 149\n",
      "146 81\n",
      "47 29\n",
      "36 15\n",
      "32 9\n",
      "39 12\n",
      "29 0\n"
     ]
    },
    {
     "name": "stderr",
     "output_type": "stream",
     "text": [
      " 37%|███████████████████████████████████████████████████████▉                                                                                                | 92/250 [20:51<34:46, 13.21s/it]"
     ]
    },
    {
     "name": "stdout",
     "output_type": "stream",
     "text": [
      "32 0\n",
      "CVD129\n",
      "513 499\n",
      "320 290\n",
      "256 199\n",
      "307 172\n",
      "396 174\n",
      "522 195\n",
      "418 385\n",
      "411 301\n",
      "737 368\n",
      "712 380\n",
      "365 200\n",
      "157 77\n",
      "95 49\n",
      "92 40\n",
      "81 24\n",
      "78 14\n"
     ]
    },
    {
     "name": "stderr",
     "output_type": "stream",
     "text": [
      " 37%|████████████████████████████████████████████████████████▌                                                                                               | 93/250 [21:07<36:39, 14.01s/it]"
     ]
    },
    {
     "name": "stdout",
     "output_type": "stream",
     "text": [
      "74 0\n",
      "66 0\n",
      "CVD130\n",
      "673 657\n",
      "405 388\n",
      "266 243\n",
      "206 167\n",
      "204 153\n",
      "190 126\n",
      "519 502\n",
      "363 338\n",
      "260 219\n",
      "243 174\n",
      "191 134\n",
      "109 55\n",
      "61 40\n",
      "47 24\n",
      "41 14\n",
      "30 2\n"
     ]
    },
    {
     "name": "stderr",
     "output_type": "stream",
     "text": [
      " 38%|█████████████████████████████████████████████████████████▏                                                                                              | 94/250 [21:18<33:56, 13.05s/it]"
     ]
    },
    {
     "name": "stdout",
     "output_type": "stream",
     "text": [
      "34 0\n",
      "30 0\n",
      "CVD132\n",
      "673 658\n",
      "413 395\n",
      "263 237\n",
      "212 167\n",
      "195 141\n",
      "190 121\n",
      "542 523\n",
      "393 365\n",
      "283 226\n",
      "225 155\n",
      "176 122\n",
      "127 69\n",
      "64 37\n",
      "52 24\n",
      "40 11\n",
      "35 5\n",
      "37 0\n"
     ]
    },
    {
     "name": "stderr",
     "output_type": "stream",
     "text": [
      " 38%|█████████████████████████████████████████████████████████▊                                                                                              | 95/250 [21:29<32:09, 12.45s/it]"
     ]
    },
    {
     "name": "stdout",
     "output_type": "stream",
     "text": [
      "33 0\n",
      "CVD133\n",
      "452 443\n",
      "270 259\n",
      "176 158\n",
      "143 119\n",
      "132 98\n",
      "117 80\n",
      "351 341\n",
      "236 219\n",
      "172 148\n",
      "138 108\n",
      "117 79\n",
      "82 49\n",
      "48 33\n",
      "42 24\n",
      "35 16\n"
     ]
    },
    {
     "name": "stderr",
     "output_type": "stream",
     "text": [
      " 38%|██████████████████████████████████████████████████████████▎                                                                                             | 96/250 [21:37<28:26, 11.08s/it]"
     ]
    },
    {
     "name": "stdout",
     "output_type": "stream",
     "text": [
      "26 7\n",
      "25 0\n",
      "23 0\n",
      "CVD134\n",
      "724 684\n",
      "417 361\n",
      "299 197\n",
      "349 154\n",
      "419 162\n",
      "548 200\n",
      "538 474\n",
      "464 314\n",
      "614 281\n",
      "573 230\n",
      "295 124\n",
      "135 62\n",
      "103 43\n",
      "94 29\n",
      "86 20\n",
      "77 8\n",
      "73 0\n"
     ]
    },
    {
     "name": "stderr",
     "output_type": "stream",
     "text": [
      " 39%|██████████████████████████████████████████████████████████▉                                                                                             | 97/250 [21:53<31:58, 12.54s/it]"
     ]
    },
    {
     "name": "stdout",
     "output_type": "stream",
     "text": [
      "70 0\n",
      "CVD137\n",
      "562 545\n",
      "380 351\n",
      "265 211\n",
      "255 161\n",
      "247 137\n",
      "274 131\n",
      "493 465\n",
      "395 327\n",
      "349 233\n",
      "287 166\n",
      "203 110\n",
      "114 58\n",
      "53 26\n",
      "44 13\n",
      "48 14\n",
      "40 4\n",
      "43 0\n"
     ]
    },
    {
     "name": "stderr",
     "output_type": "stream",
     "text": [
      " 39%|███████████████████████████████████████████████████████████▌                                                                                            | 98/250 [22:04<30:36, 12.08s/it]"
     ]
    },
    {
     "name": "stdout",
     "output_type": "stream",
     "text": [
      "38 0\n",
      "CVD138\n",
      "550 532\n",
      "335 309\n",
      "224 178\n",
      "242 135\n",
      "303 147\n",
      "397 173\n",
      "447 419\n",
      "381 291\n",
      "485 273\n",
      "474 256\n",
      "281 164\n",
      "125 77\n",
      "81 39\n",
      "78 30\n",
      "75 22\n",
      "69 9\n",
      "65 0\n"
     ]
    },
    {
     "name": "stderr",
     "output_type": "stream",
     "text": [
      " 40%|████████████████████████████████████████████████████████████▏                                                                                           | 99/250 [22:16<30:46, 12.23s/it]"
     ]
    },
    {
     "name": "stdout",
     "output_type": "stream",
     "text": [
      "65 0\n",
      "CVD140\n",
      "305 277\n",
      "226 168\n",
      "269 168\n",
      "380 196\n",
      "458 205\n",
      "551 228\n",
      "267 213\n",
      "324 187\n",
      "536 256\n",
      "581 281\n",
      "369 191\n",
      "147 76\n",
      "79 30\n",
      "69 16\n",
      "63 8\n",
      "61 5\n",
      "59 0\n"
     ]
    },
    {
     "name": "stderr",
     "output_type": "stream",
     "text": [
      " 40%|████████████████████████████████████████████████████████████▍                                                                                          | 100/250 [22:31<32:08, 12.86s/it]"
     ]
    },
    {
     "name": "stdout",
     "output_type": "stream",
     "text": [
      "56 0\n",
      "CVD141\n",
      "608 597\n",
      "646 626\n",
      "378 340\n",
      "295 230\n",
      "302 214\n",
      "300 192\n",
      "574 558\n",
      "594 558\n",
      "451 363\n",
      "371 246\n",
      "277 171\n",
      "165 113\n",
      "109 62\n",
      "102 51\n",
      "85 25\n",
      "85 16\n"
     ]
    },
    {
     "name": "stderr",
     "output_type": "stream",
     "text": [
      " 40%|█████████████████████████████████████████████████████████████                                                                                          | 101/250 [22:45<33:23, 13.45s/it]"
     ]
    },
    {
     "name": "stdout",
     "output_type": "stream",
     "text": [
      "78 0\n",
      "67 0\n",
      "CVD143\n",
      "797 777\n",
      "502 481\n",
      "302 274\n",
      "262 204\n",
      "285 200\n",
      "346 192\n",
      "629 602\n",
      "429 389\n",
      "407 302\n",
      "418 240\n",
      "334 205\n",
      "179 115\n",
      "101 59\n",
      "89 39\n",
      "82 28\n",
      "70 11\n",
      "69 0\n"
     ]
    },
    {
     "name": "stderr",
     "output_type": "stream",
     "text": [
      " 41%|█████████████████████████████████████████████████████████████▌                                                                                         | 102/250 [23:00<33:51, 13.73s/it]"
     ]
    },
    {
     "name": "stdout",
     "output_type": "stream",
     "text": [
      "66 0\n",
      "CVD145\n",
      "456 445\n",
      "300 280\n",
      "211 178\n",
      "207 153\n",
      "228 161\n",
      "258 170\n",
      "355 332\n",
      "285 245\n",
      "259 195\n",
      "254 159\n",
      "227 156\n",
      "139 98\n",
      "59 31\n",
      "58 26\n",
      "53 16\n",
      "48 7\n",
      "46 0\n"
     ]
    },
    {
     "name": "stderr",
     "output_type": "stream",
     "text": [
      " 41%|██████████████████████████████████████████████████████████████▏                                                                                        | 103/250 [23:10<31:20, 12.79s/it]"
     ]
    },
    {
     "name": "stdout",
     "output_type": "stream",
     "text": [
      "43 0\n",
      "CVD146\n",
      "710 691\n",
      "419 395\n",
      "324 266\n",
      "338 226\n",
      "332 192\n",
      "387 194\n",
      "542 514\n",
      "447 360\n",
      "466 298\n",
      "436 248\n",
      "301 171\n",
      "126 75\n",
      "88 59\n",
      "62 31\n",
      "46 14\n",
      "42 8\n"
     ]
    },
    {
     "name": "stderr",
     "output_type": "stream",
     "text": [
      " 42%|██████████████████████████████████████████████████████████████▊                                                                                        | 104/250 [23:24<31:49, 13.08s/it]"
     ]
    },
    {
     "name": "stdout",
     "output_type": "stream",
     "text": [
      "38 0\n",
      "39 0\n",
      "CVD148\n",
      "490 476\n",
      "292 275\n",
      "201 170\n",
      "187 128\n",
      "182 109\n",
      "179 92\n",
      "379 359\n",
      "285 251\n",
      "237 174\n",
      "206 128\n",
      "171 104\n",
      "100 70\n",
      "39 15\n",
      "37 10\n",
      "34 5\n",
      "36 5\n",
      "35 0\n"
     ]
    },
    {
     "name": "stderr",
     "output_type": "stream",
     "text": [
      " 42%|███████████████████████████████████████████████████████████████▍                                                                                       | 105/250 [23:33<28:17, 11.71s/it]"
     ]
    },
    {
     "name": "stdout",
     "output_type": "stream",
     "text": [
      "35 0\n",
      "CVD150\n",
      "470 436\n",
      "364 303\n",
      "302 180\n",
      "383 187\n",
      "432 198\n",
      "472 208\n",
      "420 347\n",
      "472 315\n",
      "525 307\n",
      "429 203\n",
      "295 146\n",
      "127 68\n",
      "70 29\n",
      "63 19\n",
      "50 5\n",
      "51 3\n"
     ]
    },
    {
     "name": "stderr",
     "output_type": "stream",
     "text": [
      " 42%|████████████████████████████████████████████████████████████████                                                                                       | 106/250 [23:46<29:17, 12.21s/it]"
     ]
    },
    {
     "name": "stdout",
     "output_type": "stream",
     "text": [
      "52 0\n",
      "47 0\n",
      "CVD151\n",
      "568 546\n",
      "356 316\n",
      "305 234\n",
      "313 194\n",
      "363 192\n",
      "430 211\n",
      "449 398\n",
      "462 350\n",
      "496 299\n",
      "463 260\n",
      "274 148\n",
      "161 77\n",
      "98 55\n",
      "91 43\n",
      "79 21\n",
      "77 14\n"
     ]
    },
    {
     "name": "stderr",
     "output_type": "stream",
     "text": [
      " 43%|████████████████████████████████████████████████████████████████▋                                                                                      | 107/250 [24:00<30:09, 12.65s/it]"
     ]
    },
    {
     "name": "stdout",
     "output_type": "stream",
     "text": [
      "71 0\n",
      "67 0\n",
      "CVD152\n",
      "725 716\n",
      "488 474\n",
      "341 317\n",
      "320 240\n",
      "328 204\n",
      "380 191\n",
      "567 552\n",
      "450 386\n",
      "489 302\n",
      "527 263\n",
      "357 187\n",
      "129 73\n",
      "79 54\n",
      "63 28\n",
      "64 22\n",
      "57 10\n"
     ]
    },
    {
     "name": "stderr",
     "output_type": "stream",
     "text": [
      " 43%|█████████████████████████████████████████████████████████████████▏                                                                                     | 108/250 [24:14<31:18, 13.23s/it]"
     ]
    },
    {
     "name": "stdout",
     "output_type": "stream",
     "text": [
      "52 0\n",
      "50 0\n",
      "CVD153\n",
      "548 524\n",
      "361 315\n",
      "279 212\n",
      "329 195\n",
      "406 197\n",
      "520 205\n",
      "440 389\n",
      "426 294\n",
      "614 310\n",
      "472 223\n",
      "246 106\n",
      "124 62\n",
      "80 34\n",
      "77 26\n",
      "78 21\n",
      "70 10\n"
     ]
    },
    {
     "name": "stderr",
     "output_type": "stream",
     "text": [
      " 44%|█████████████████████████████████████████████████████████████████▊                                                                                     | 109/250 [24:28<31:34, 13.44s/it]"
     ]
    },
    {
     "name": "stdout",
     "output_type": "stream",
     "text": [
      "68 0\n",
      "62 0\n",
      "CVD155\n",
      "304 288\n",
      "189 168\n",
      "173 128\n",
      "180 114\n",
      "177 94\n",
      "167 85\n",
      "244 224\n",
      "214 166\n",
      "210 140\n",
      "181 109\n",
      "132 79\n",
      "72 38\n",
      "32 13\n",
      "31 10\n",
      "29 7\n",
      "27 4\n"
     ]
    },
    {
     "name": "stderr",
     "output_type": "stream",
     "text": [
      " 44%|██████████████████████████████████████████████████████████████████▍                                                                                    | 110/250 [24:35<26:36, 11.41s/it]"
     ]
    },
    {
     "name": "stdout",
     "output_type": "stream",
     "text": [
      "25 0\n",
      "25 0\n",
      "CVD156\n",
      "480 456\n",
      "334 293\n",
      "244 186\n",
      "306 197\n",
      "332 187\n",
      "398 197\n",
      "427 384\n",
      "331 259\n",
      "386 241\n",
      "466 254\n",
      "414 235\n",
      "246 137\n",
      "110 51\n",
      "95 30\n",
      "96 24\n",
      "91 12\n",
      "87 0\n"
     ]
    },
    {
     "name": "stderr",
     "output_type": "stream",
     "text": [
      " 44%|███████████████████████████████████████████████████████████████████                                                                                    | 111/250 [24:49<28:19, 12.23s/it]"
     ]
    },
    {
     "name": "stdout",
     "output_type": "stream",
     "text": [
      "81 0\n",
      "CVD157\n",
      "365 353\n",
      "256 217\n",
      "325 194\n",
      "554 223\n",
      "759 245\n",
      "968 285\n",
      "341 271\n",
      "565 303\n",
      "1001 443\n",
      "843 369\n",
      "327 173\n",
      "90 53\n",
      "57 36\n",
      "55 32\n",
      "42 17\n",
      "30 3\n",
      "30 0\n"
     ]
    },
    {
     "name": "stderr",
     "output_type": "stream",
     "text": [
      " 45%|███████████████████████████████████████████████████████████████████▋                                                                                   | 112/250 [25:08<32:49, 14.27s/it]"
     ]
    },
    {
     "name": "stdout",
     "output_type": "stream",
     "text": [
      "28 0\n",
      "CVD158\n",
      "605 571\n",
      "386 314\n",
      "381 237\n",
      "505 253\n",
      "631 289\n",
      "755 331\n",
      "493 411\n",
      "581 371\n",
      "742 375\n",
      "668 320\n",
      "333 175\n",
      "113 61\n",
      "133 69\n",
      "106 40\n",
      "107 28\n",
      "97 7\n",
      "100 0\n"
     ]
    },
    {
     "name": "stderr",
     "output_type": "stream",
     "text": [
      " 45%|████████████████████████████████████████████████████████████████████▎                                                                                  | 113/250 [25:27<35:29, 15.55s/it]"
     ]
    },
    {
     "name": "stdout",
     "output_type": "stream",
     "text": [
      "93 0\n",
      "CVD161\n",
      "614 594\n",
      "395 367\n",
      "229 172\n",
      "319 174\n",
      "388 177\n",
      "484 192\n",
      "510 469\n",
      "449 337\n",
      "573 337\n",
      "456 252\n",
      "246 143\n",
      "135 68\n",
      "69 36\n",
      "66 31\n",
      "64 23\n",
      "63 16\n"
     ]
    },
    {
     "name": "stderr",
     "output_type": "stream",
     "text": [
      " 46%|████████████████████████████████████████████████████████████████████▊                                                                                  | 114/250 [25:41<34:29, 15.22s/it]"
     ]
    },
    {
     "name": "stdout",
     "output_type": "stream",
     "text": [
      "57 0\n",
      "52 0\n",
      "CVD165\n",
      "733 705\n",
      "477 443\n",
      "374 316\n",
      "358 251\n",
      "386 241\n",
      "427 212\n",
      "569 531\n",
      "469 380\n",
      "541 338\n",
      "437 272\n",
      "281 179\n",
      "145 101\n",
      "131 78\n",
      "95 42\n",
      "75 21\n",
      "70 12\n",
      "62 0\n"
     ]
    },
    {
     "name": "stderr",
     "output_type": "stream",
     "text": [
      " 46%|█████████████████████████████████████████████████████████████████████▍                                                                                 | 115/250 [25:58<35:31, 15.79s/it]"
     ]
    },
    {
     "name": "stdout",
     "output_type": "stream",
     "text": [
      "63 0\n",
      "CVD166\n",
      "821 771\n",
      "514 449\n",
      "419 296\n",
      "533 298\n",
      "610 300\n",
      "702 301\n",
      "653 577\n",
      "679 473\n",
      "807 454\n",
      "627 302\n",
      "336 175\n",
      "92 50\n",
      "142 61\n",
      "115 26\n",
      "112 18\n",
      "106 9\n",
      "102 0\n"
     ]
    },
    {
     "name": "stderr",
     "output_type": "stream",
     "text": [
      " 46%|██████████████████████████████████████████████████████████████████████                                                                                 | 116/250 [26:18<38:02, 17.03s/it]"
     ]
    },
    {
     "name": "stdout",
     "output_type": "stream",
     "text": [
      "103 0\n",
      "CVD167\n",
      "460 430\n",
      "300 260\n",
      "240 172\n",
      "370 176\n",
      "521 196\n",
      "744 237\n",
      "372 308\n",
      "465 271\n",
      "913 395\n",
      "856 376\n",
      "366 195\n",
      "90 52\n",
      "85 48\n",
      "73 32\n",
      "67 20\n",
      "65 13\n",
      "52 0\n"
     ]
    },
    {
     "name": "stderr",
     "output_type": "stream",
     "text": [
      " 47%|██████████████████████████████████████████████████████████████████████▋                                                                                | 117/250 [26:35<37:28, 16.90s/it]"
     ]
    },
    {
     "name": "stdout",
     "output_type": "stream",
     "text": [
      "41 0\n",
      "CVD169\n",
      "515 503\n",
      "327 308\n",
      "246 217\n",
      "219 163\n",
      "234 153\n",
      "291 166\n",
      "391 372\n",
      "301 259\n",
      "353 244\n",
      "412 250\n",
      "314 197\n",
      "164 92\n",
      "101 63\n",
      "79 34\n",
      "88 32\n",
      "80 19\n",
      "67 0\n"
     ]
    },
    {
     "name": "stderr",
     "output_type": "stream",
     "text": [
      " 47%|███████████████████████████████████████████████████████████████████████▎                                                                               | 118/250 [26:48<34:35, 15.73s/it]"
     ]
    },
    {
     "name": "stdout",
     "output_type": "stream",
     "text": [
      "70 0\n",
      "CVD170\n",
      "516 500\n",
      "386 348\n",
      "289 201\n",
      "414 184\n",
      "558 222\n",
      "754 282\n",
      "446 404\n",
      "495 359\n",
      "800 394\n",
      "743 332\n",
      "427 212\n",
      "149 78\n",
      "80 39\n",
      "61 19\n",
      "55 9\n",
      "58 9\n",
      "54 0\n"
     ]
    },
    {
     "name": "stderr",
     "output_type": "stream",
     "text": [
      " 48%|███████████████████████████████████████████████████████████████████████▉                                                                               | 119/250 [27:06<36:00, 16.49s/it]"
     ]
    },
    {
     "name": "stdout",
     "output_type": "stream",
     "text": [
      "54 0\n",
      "CVD171\n",
      "690 684\n",
      "475 465\n",
      "287 269\n",
      "232 175\n",
      "249 153\n",
      "285 146\n",
      "577 567\n",
      "435 409\n",
      "382 300\n",
      "343 223\n",
      "280 183\n",
      "196 129\n",
      "69 50\n",
      "52 30\n",
      "42 16\n",
      "40 10\n"
     ]
    },
    {
     "name": "stderr",
     "output_type": "stream",
     "text": [
      " 48%|████████████████████████████████████████████████████████████████████████▍                                                                              | 120/250 [27:19<33:43, 15.56s/it]"
     ]
    },
    {
     "name": "stdout",
     "output_type": "stream",
     "text": [
      "34 0\n",
      "33 0\n",
      "CVD172\n",
      "731 668\n",
      "527 451\n",
      "290 197\n",
      "299 163\n",
      "299 155\n",
      "320 152\n",
      "592 519\n",
      "494 400\n",
      "382 265\n",
      "310 161\n",
      "227 117\n",
      "128 68\n",
      "104 29\n",
      "95 18\n",
      "94 16\n",
      "82 4\n",
      "80 0\n"
     ]
    },
    {
     "name": "stderr",
     "output_type": "stream",
     "text": [
      " 48%|█████████████████████████████████████████████████████████████████████████                                                                              | 121/250 [27:33<32:14, 15.00s/it]"
     ]
    },
    {
     "name": "stdout",
     "output_type": "stream",
     "text": [
      "80 0\n",
      "CVD173\n",
      "808 782\n",
      "662 612\n",
      "533 389\n",
      "672 316\n",
      "841 348\n",
      "1019 385\n",
      "771 696\n",
      "831 583\n",
      "1120 556\n",
      "890 445\n",
      "337 176\n",
      "142 66\n",
      "109 73\n",
      "78 37\n",
      "66 23\n",
      "59 11\n",
      "55 0\n"
     ]
    },
    {
     "name": "stderr",
     "output_type": "stream",
     "text": [
      " 49%|█████████████████████████████████████████████████████████████████████████▋                                                                             | 122/250 [27:57<37:39, 17.66s/it]"
     ]
    },
    {
     "name": "stdout",
     "output_type": "stream",
     "text": [
      "48 0\n",
      "CVD174\n",
      "379 364\n",
      "261 240\n",
      "249 194\n",
      "396 215\n",
      "526 237\n",
      "708 264\n",
      "348 311\n",
      "493 307\n",
      "765 356\n",
      "744 340\n",
      "439 205\n",
      "197 94\n",
      "98 69\n",
      "84 46\n",
      "64 24\n",
      "61 9\n",
      "58 0\n"
     ]
    },
    {
     "name": "stderr",
     "output_type": "stream",
     "text": [
      " 49%|██████████████████████████████████████████████████████████████████████████▎                                                                            | 123/250 [28:13<36:11, 17.10s/it]"
     ]
    },
    {
     "name": "stdout",
     "output_type": "stream",
     "text": [
      "53 0\n",
      "CVD175\n",
      "661 645\n",
      "415 396\n",
      "264 238\n",
      "224 179\n",
      "219 159\n",
      "222 134\n",
      "524 505\n",
      "398 366\n",
      "318 262\n",
      "301 198\n",
      "267 172\n",
      "155 98\n",
      "71 40\n",
      "67 32\n",
      "60 21\n",
      "61 12\n"
     ]
    },
    {
     "name": "stderr",
     "output_type": "stream",
     "text": [
      " 50%|██████████████████████████████████████████████████████████████████████████▉                                                                            | 124/250 [28:24<32:26, 15.45s/it]"
     ]
    },
    {
     "name": "stdout",
     "output_type": "stream",
     "text": [
      "52 0\n",
      "44 0\n",
      "CVD176\n",
      "445 410\n",
      "291 250\n",
      "243 171\n",
      "341 165\n",
      "417 176\n",
      "491 199\n",
      "347 299\n",
      "341 219\n",
      "499 236\n",
      "471 206\n",
      "259 116\n",
      "109 59\n",
      "90 45\n",
      "76 29\n",
      "79 20\n",
      "69 8\n",
      "69 0\n"
     ]
    },
    {
     "name": "stderr",
     "output_type": "stream",
     "text": [
      " 50%|███████████████████████████████████████████████████████████████████████████▌                                                                           | 125/250 [28:37<30:24, 14.59s/it]"
     ]
    },
    {
     "name": "stdout",
     "output_type": "stream",
     "text": [
      "65 0\n",
      "CVD177\n",
      "692 670\n",
      "510 468\n",
      "407 325\n",
      "413 258\n",
      "436 240\n",
      "471 231\n",
      "599 555\n",
      "509 425\n",
      "511 348\n",
      "494 284\n",
      "374 199\n",
      "193 118\n",
      "92 57\n",
      "77 35\n",
      "73 29\n",
      "61 14\n"
     ]
    },
    {
     "name": "stderr",
     "output_type": "stream",
     "text": [
      " 50%|████████████████████████████████████████████████████████████████████████████                                                                           | 126/250 [28:53<31:17, 15.14s/it]"
     ]
    },
    {
     "name": "stdout",
     "output_type": "stream",
     "text": [
      "53 0\n",
      "47 0\n",
      "CVD178\n",
      "539 528\n",
      "343 321\n",
      "263 205\n",
      "277 179\n",
      "274 142\n",
      "300 136\n",
      "424 394\n",
      "352 270\n",
      "352 234\n",
      "316 187\n",
      "199 125\n",
      "94 59\n",
      "50 25\n",
      "44 13\n",
      "44 12\n",
      "39 5\n",
      "36 0\n"
     ]
    },
    {
     "name": "stderr",
     "output_type": "stream",
     "text": [
      " 51%|████████████████████████████████████████████████████████████████████████████▋                                                                          | 127/250 [29:04<28:31, 13.92s/it]"
     ]
    },
    {
     "name": "stdout",
     "output_type": "stream",
     "text": [
      "33 0\n",
      "CVD179\n",
      "548 525\n",
      "360 327\n",
      "329 246\n",
      "478 256\n",
      "630 272\n",
      "846 311\n",
      "437 377\n",
      "576 343\n",
      "982 459\n",
      "796 378\n",
      "374 187\n",
      "150 96\n",
      "94 50\n",
      "91 40\n",
      "78 21\n",
      "73 10\n"
     ]
    },
    {
     "name": "stderr",
     "output_type": "stream",
     "text": [
      " 51%|█████████████████████████████████████████████████████████████████████████████▎                                                                         | 128/250 [29:24<31:49, 15.65s/it]"
     ]
    },
    {
     "name": "stdout",
     "output_type": "stream",
     "text": [
      "73 0\n",
      "64 0\n",
      "CVD181\n",
      "485 461\n",
      "308 269\n",
      "260 178\n",
      "436 177\n",
      "632 226\n",
      "888 296\n",
      "399 347\n",
      "546 297\n",
      "1077 477\n",
      "747 355\n",
      "340 150\n",
      "108 57\n",
      "98 45\n",
      "90 31\n",
      "82 18\n",
      "76 9\n",
      "76 0\n"
     ]
    },
    {
     "name": "stderr",
     "output_type": "stream",
     "text": [
      " 52%|█████████████████████████████████████████████████████████████████████████████▉                                                                         | 129/250 [29:44<33:54, 16.81s/it]"
     ]
    },
    {
     "name": "stdout",
     "output_type": "stream",
     "text": [
      "65 0\n",
      "CVD183\n",
      "369 354\n",
      "269 241\n",
      "178 129\n",
      "177 113\n",
      "178 110\n",
      "178 101\n",
      "301 272\n",
      "277 224\n",
      "244 174\n",
      "210 139\n",
      "160 96\n",
      "69 46\n",
      "56 35\n",
      "40 17\n",
      "33 7\n"
     ]
    },
    {
     "name": "stderr",
     "output_type": "stream",
     "text": [
      " 52%|██████████████████████████████████████████████████████████████████████████████▌                                                                        | 130/250 [29:52<28:44, 14.37s/it]"
     ]
    },
    {
     "name": "stdout",
     "output_type": "stream",
     "text": [
      "28 2\n",
      "27 0\n",
      "23 0\n",
      "CVD184\n",
      "752 737\n",
      "498 480\n",
      "290 261\n",
      "260 202\n",
      "262 162\n",
      "306 162\n",
      "587 568\n",
      "415 376\n",
      "348 245\n",
      "409 202\n",
      "316 146\n",
      "167 85\n",
      "85 50\n",
      "73 33\n",
      "62 17\n",
      "65 16\n",
      "54 0\n"
     ]
    },
    {
     "name": "stderr",
     "output_type": "stream",
     "text": [
      " 52%|███████████████████████████████████████████████████████████████████████████████                                                                        | 131/250 [30:07<28:54, 14.58s/it]"
     ]
    },
    {
     "name": "stdout",
     "output_type": "stream",
     "text": [
      "58 0\n",
      "CVD186\n",
      "441 429\n",
      "281 264\n",
      "231 197\n",
      "267 184\n",
      "305 186\n",
      "382 206\n",
      "366 348\n",
      "320 260\n",
      "511 285\n",
      "515 322\n",
      "351 212\n",
      "230 146\n",
      "108 61\n",
      "94 41\n",
      "88 28\n",
      "80 14\n",
      "73 0\n"
     ]
    },
    {
     "name": "stderr",
     "output_type": "stream",
     "text": [
      " 53%|███████████████████████████████████████████████████████████████████████████████▋                                                                       | 132/250 [30:21<27:56, 14.21s/it]"
     ]
    },
    {
     "name": "stdout",
     "output_type": "stream",
     "text": [
      "75 0\n",
      "CVD188\n",
      "431 395\n",
      "325 250\n",
      "398 227\n",
      "655 267\n",
      "783 284\n",
      "939 334\n",
      "419 318\n",
      "664 329\n",
      "917 391\n",
      "611 272\n",
      "193 96\n",
      "54 33\n",
      "83 43\n",
      "66 22\n",
      "62 16\n",
      "53 5\n"
     ]
    },
    {
     "name": "stderr",
     "output_type": "stream",
     "text": [
      " 53%|████████████████████████████████████████████████████████████████████████████████▎                                                                      | 133/250 [30:41<31:05, 15.94s/it]"
     ]
    },
    {
     "name": "stdout",
     "output_type": "stream",
     "text": [
      "51 0\n",
      "47 0\n",
      "CVD191\n",
      "754 721\n",
      "506 461\n",
      "382 314\n",
      "446 269\n",
      "525 276\n",
      "696 319\n",
      "619 558\n",
      "647 449\n",
      "866 451\n",
      "618 322\n",
      "310 199\n",
      "154 106\n",
      "122 71\n",
      "115 58\n",
      "96 34\n",
      "83 13\n",
      "79 0\n"
     ]
    },
    {
     "name": "stderr",
     "output_type": "stream",
     "text": [
      " 54%|████████████████████████████████████████████████████████████████████████████████▉                                                                      | 134/250 [31:00<32:31, 16.82s/it]"
     ]
    },
    {
     "name": "stdout",
     "output_type": "stream",
     "text": [
      "80 0\n",
      "CVD192\n",
      "963 950\n",
      "675 654\n",
      "358 327\n",
      "272 225\n",
      "248 191\n",
      "240 178\n",
      "825 811\n",
      "643 612\n",
      "440 393\n",
      "271 207\n",
      "227 158\n",
      "171 105\n",
      "108 67\n",
      "90 42\n",
      "83 25\n",
      "77 12\n",
      "69 0\n"
     ]
    },
    {
     "name": "stderr",
     "output_type": "stream",
     "text": [
      " 54%|█████████████████████████████████████████████████████████████████████████████████▌                                                                     | 135/250 [31:15<31:27, 16.41s/it]"
     ]
    },
    {
     "name": "stdout",
     "output_type": "stream",
     "text": [
      "67 0\n",
      "CVD193\n",
      "609 594\n",
      "431 413\n",
      "270 247\n",
      "224 191\n",
      "190 153\n",
      "173 131\n",
      "519 503\n",
      "418 395\n",
      "310 275\n",
      "235 188\n",
      "202 158\n",
      "128 88\n",
      "87 54\n",
      "73 35\n",
      "59 19\n",
      "49 7\n",
      "47 0\n"
     ]
    },
    {
     "name": "stderr",
     "output_type": "stream",
     "text": [
      " 54%|██████████████████████████████████████████████████████████████████████████████████▏                                                                    | 136/250 [31:26<28:03, 14.76s/it]"
     ]
    },
    {
     "name": "stdout",
     "output_type": "stream",
     "text": [
      "36 0\n",
      "CVD194\n",
      "407 396\n",
      "267 245\n",
      "190 150\n",
      "178 111\n",
      "174 101\n",
      "168 87\n",
      "350 327\n",
      "279 238\n",
      "222 158\n",
      "178 115\n",
      "144 94\n",
      "77 53\n",
      "40 22\n",
      "34 15\n",
      "29 7\n",
      "30 6\n",
      "26 0\n"
     ]
    },
    {
     "name": "stderr",
     "output_type": "stream",
     "text": [
      " 55%|██████████████████████████████████████████████████████████████████████████████████▋                                                                    | 137/250 [31:35<24:23, 12.95s/it]"
     ]
    },
    {
     "name": "stdout",
     "output_type": "stream",
     "text": [
      "27 0\n",
      "CVD195\n",
      "548 541\n",
      "295 276\n",
      "207 162\n",
      "334 156\n",
      "536 186\n",
      "819 255\n",
      "403 365\n",
      "561 318\n",
      "910 403\n",
      "803 321\n",
      "460 196\n",
      "126 63\n",
      "36 23\n",
      "27 13\n",
      "23 8\n",
      "22 6\n"
     ]
    },
    {
     "name": "stderr",
     "output_type": "stream",
     "text": [
      " 55%|███████████████████████████████████████████████████████████████████████████████████▎                                                                   | 138/250 [31:52<26:52, 14.39s/it]"
     ]
    },
    {
     "name": "stdout",
     "output_type": "stream",
     "text": [
      "20 0\n",
      "18 0\n",
      "CVD200\n",
      "440 423\n",
      "290 263\n",
      "210 157\n",
      "304 150\n",
      "414 172\n",
      "561 213\n",
      "402 376\n",
      "356 272\n",
      "533 263\n",
      "613 275\n",
      "387 170\n",
      "175 74\n",
      "76 35\n",
      "70 24\n",
      "61 12\n",
      "62 5\n",
      "63 0\n"
     ]
    },
    {
     "name": "stderr",
     "output_type": "stream",
     "text": [
      " 56%|███████████████████████████████████████████████████████████████████████████████████▉                                                                   | 139/250 [32:06<26:22, 14.26s/it]"
     ]
    },
    {
     "name": "stdout",
     "output_type": "stream",
     "text": [
      "62 0\n",
      "CVD201\n",
      "470 448\n",
      "297 267\n",
      "229 185\n",
      "210 141\n",
      "216 121\n",
      "254 122\n",
      "378 350\n",
      "315 269\n",
      "283 196\n",
      "277 137\n",
      "245 119\n",
      "162 89\n",
      "85 44\n",
      "76 30\n",
      "67 19\n",
      "66 12\n",
      "62 0\n"
     ]
    },
    {
     "name": "stderr",
     "output_type": "stream",
     "text": [
      " 56%|████████████████████████████████████████████████████████████████████████████████████▌                                                                  | 140/250 [32:17<23:53, 13.03s/it]"
     ]
    },
    {
     "name": "stdout",
     "output_type": "stream",
     "text": [
      "55 0\n",
      "CVD202\n",
      "323 291\n",
      "185 165\n",
      "206 127\n",
      "507 189\n",
      "790 239\n",
      "1178 342\n",
      "327 229\n",
      "564 282\n",
      "1287 517\n",
      "771 336\n",
      "391 169\n",
      "226 99\n",
      "38 20\n",
      "30 12\n",
      "26 6\n",
      "30 5\n",
      "31 0\n"
     ]
    },
    {
     "name": "stderr",
     "output_type": "stream",
     "text": [
      " 56%|█████████████████████████████████████████████████████████████████████████████████████▏                                                                 | 141/250 [32:35<26:37, 14.66s/it]"
     ]
    },
    {
     "name": "stdout",
     "output_type": "stream",
     "text": [
      "33 0\n",
      "CVD203\n",
      "423 401\n",
      "284 248\n",
      "263 191\n",
      "355 195\n",
      "450 204\n",
      "581 243\n",
      "335 297\n",
      "354 233\n",
      "629 297\n",
      "649 330\n",
      "352 174\n",
      "140 66\n",
      "80 28\n",
      "77 20\n",
      "85 18\n",
      "84 11\n",
      "77 0\n"
     ]
    },
    {
     "name": "stderr",
     "output_type": "stream",
     "text": [
      " 57%|█████████████████████████████████████████████████████████████████████████████████████▊                                                                 | 142/250 [32:49<26:06, 14.50s/it]"
     ]
    },
    {
     "name": "stdout",
     "output_type": "stream",
     "text": [
      "76 0\n",
      "CVD204\n",
      "296 282\n",
      "177 149\n",
      "242 153\n",
      "376 164\n",
      "483 206\n",
      "586 238\n",
      "255 208\n",
      "373 200\n",
      "562 270\n",
      "485 225\n",
      "277 140\n",
      "110 64\n",
      "42 23\n",
      "37 13\n",
      "38 6\n",
      "38 2\n",
      "40 0\n"
     ]
    },
    {
     "name": "stderr",
     "output_type": "stream",
     "text": [
      " 57%|██████████████████████████████████████████████████████████████████████████████████████▎                                                                | 143/250 [33:01<24:29, 13.74s/it]"
     ]
    },
    {
     "name": "stdout",
     "output_type": "stream",
     "text": [
      "39 0\n",
      "CVD205\n",
      "349 327\n",
      "246 204\n",
      "232 168\n",
      "378 191\n",
      "561 230\n",
      "819 310\n",
      "307 255\n",
      "438 260\n",
      "919 450\n",
      "836 393\n",
      "355 192\n",
      "164 88\n",
      "104 52\n",
      "103 45\n",
      "96 27\n",
      "88 15\n",
      "79 0\n"
     ]
    },
    {
     "name": "stderr",
     "output_type": "stream",
     "text": [
      " 58%|██████████████████████████████████████████████████████████████████████████████████████▉                                                                | 144/250 [33:19<26:37, 15.07s/it]"
     ]
    },
    {
     "name": "stdout",
     "output_type": "stream",
     "text": [
      "71 0\n",
      "CVD206\n",
      "385 377\n",
      "213 200\n",
      "170 138\n",
      "170 118\n",
      "178 109\n",
      "192 105\n",
      "298 281\n",
      "225 181\n",
      "230 161\n",
      "214 137\n",
      "175 109\n",
      "79 44\n",
      "43 24\n",
      "35 15\n",
      "33 11\n"
     ]
    },
    {
     "name": "stderr",
     "output_type": "stream",
     "text": [
      " 58%|███████████████████████████████████████████████████████████████████████████████████████▌                                                               | 145/250 [33:27<22:24, 12.80s/it]"
     ]
    },
    {
     "name": "stdout",
     "output_type": "stream",
     "text": [
      "32 5\n",
      "28 0\n",
      "27 0\n",
      "CVD207\n",
      "293 281\n",
      "204 188\n",
      "156 113\n",
      "182 87\n",
      "232 96\n",
      "278 93\n",
      "249 225\n",
      "236 170\n",
      "289 131\n",
      "329 133\n",
      "198 79\n",
      "55 35\n",
      "48 22\n",
      "40 12\n",
      "38 7\n",
      "37 5\n"
     ]
    },
    {
     "name": "stderr",
     "output_type": "stream",
     "text": [
      " 58%|████████████████████████████████████████████████████████████████████████████████████████▏                                                              | 146/250 [33:35<19:56, 11.51s/it]"
     ]
    },
    {
     "name": "stdout",
     "output_type": "stream",
     "text": [
      "34 0\n",
      "28 0\n",
      "CVD208\n",
      "341 327\n",
      "247 218\n",
      "241 172\n",
      "302 167\n",
      "356 177\n",
      "413 180\n",
      "326 286\n",
      "338 231\n",
      "406 233\n",
      "425 247\n",
      "277 156\n",
      "162 99\n",
      "86 42\n",
      "88 37\n",
      "76 20\n",
      "65 3\n"
     ]
    },
    {
     "name": "stderr",
     "output_type": "stream",
     "text": [
      " 59%|████████████████████████████████████████████████████████████████████████████████████████▊                                                              | 147/250 [33:48<20:25, 11.90s/it]"
     ]
    },
    {
     "name": "stdout",
     "output_type": "stream",
     "text": [
      "66 0\n",
      "59 0\n",
      "CVD213\n",
      "356 344\n",
      "226 207\n",
      "163 132\n",
      "178 117\n",
      "200 115\n",
      "189 96\n",
      "299 282\n",
      "239 200\n",
      "229 151\n",
      "215 131\n",
      "173 107\n",
      "99 59\n",
      "32 14\n",
      "27 9\n",
      "24 5\n",
      "20 0\n"
     ]
    },
    {
     "name": "stderr",
     "output_type": "stream",
     "text": [
      " 59%|█████████████████████████████████████████████████████████████████████████████████████████▍                                                             | 148/250 [33:56<18:10, 10.69s/it]"
     ]
    },
    {
     "name": "stdout",
     "output_type": "stream",
     "text": [
      "20 0\n",
      "20 0\n",
      "CVD214\n",
      "287 271\n",
      "198 159\n",
      "254 133\n",
      "482 150\n",
      "662 197\n",
      "827 245\n",
      "271 216\n",
      "513 224\n",
      "790 316\n",
      "624 250\n",
      "298 123\n",
      "97 41\n",
      "60 28\n",
      "60 22\n",
      "57 16\n",
      "54 10\n",
      "47 0\n"
     ]
    },
    {
     "name": "stderr",
     "output_type": "stream",
     "text": [
      " 60%|█████████████████████████████████████████████████████████████████████████████████████████▉                                                             | 149/250 [34:11<20:12, 12.01s/it]"
     ]
    },
    {
     "name": "stdout",
     "output_type": "stream",
     "text": [
      "46 0\n",
      "CVD216\n",
      "642 624\n",
      "353 329\n",
      "213 177\n",
      "181 126\n",
      "184 124\n",
      "168 104\n",
      "501 477\n",
      "309 272\n",
      "224 166\n",
      "198 127\n",
      "166 95\n",
      "105 59\n",
      "59 35\n",
      "43 14\n",
      "43 13\n",
      "38 7\n",
      "35 0\n"
     ]
    },
    {
     "name": "stderr",
     "output_type": "stream",
     "text": [
      " 60%|██████████████████████████████████████████████████████████████████████████████████████████▌                                                            | 150/250 [34:21<19:01, 11.41s/it]"
     ]
    },
    {
     "name": "stdout",
     "output_type": "stream",
     "text": [
      "35 0\n",
      "CVD218\n",
      "545 534\n",
      "375 346\n",
      "267 213\n",
      "329 216\n",
      "359 201\n",
      "422 213\n",
      "434 399\n",
      "412 331\n",
      "509 330\n",
      "517 274\n",
      "329 185\n",
      "114 70\n",
      "70 43\n",
      "68 31\n",
      "60 15\n",
      "59 9\n"
     ]
    },
    {
     "name": "stderr",
     "output_type": "stream",
     "text": [
      " 60%|███████████████████████████████████████████████████████████████████████████████████████████▏                                                           | 151/250 [34:34<19:46, 11.99s/it]"
     ]
    },
    {
     "name": "stdout",
     "output_type": "stream",
     "text": [
      "59 0\n",
      "51 0\n",
      "CVD219\n",
      "595 574\n",
      "389 351\n",
      "295 226\n",
      "307 189\n",
      "341 173\n",
      "364 154\n",
      "459 425\n",
      "361 276\n",
      "432 248\n",
      "422 210\n",
      "245 122\n",
      "119 79\n",
      "77 33\n",
      "69 20\n",
      "68 14\n",
      "62 4\n"
     ]
    },
    {
     "name": "stderr",
     "output_type": "stream",
     "text": [
      " 61%|███████████████████████████████████████████████████████████████████████████████████████████▊                                                           | 152/250 [34:47<20:00, 12.25s/it]"
     ]
    },
    {
     "name": "stdout",
     "output_type": "stream",
     "text": [
      "60 0\n",
      "53 0\n",
      "CVD220\n",
      "275 261\n",
      "189 150\n",
      "172 111\n",
      "219 109\n",
      "230 99\n",
      "262 99\n",
      "233 201\n",
      "209 151\n",
      "255 133\n",
      "237 98\n",
      "214 95\n",
      "107 51\n",
      "58 29\n",
      "48 17\n",
      "44 7\n",
      "44 6\n",
      "41 0\n"
     ]
    },
    {
     "name": "stderr",
     "output_type": "stream",
     "text": [
      " 61%|████████████████████████████████████████████████████████████████████████████████████████████▍                                                          | 153/250 [34:56<17:53, 11.07s/it]"
     ]
    },
    {
     "name": "stdout",
     "output_type": "stream",
     "text": [
      "40 0\n",
      "CVD221\n",
      "537 515\n",
      "290 256\n",
      "220 171\n",
      "210 139\n",
      "218 126\n",
      "237 118\n",
      "383 354\n",
      "263 209\n",
      "261 166\n",
      "264 150\n",
      "262 135\n",
      "161 90\n",
      "89 50\n",
      "85 37\n",
      "73 21\n",
      "65 9\n",
      "59 0\n"
     ]
    },
    {
     "name": "stderr",
     "output_type": "stream",
     "text": [
      " 62%|█████████████████████████████████████████████████████████████████████████████████████████████                                                          | 154/250 [35:07<17:41, 11.06s/it]"
     ]
    },
    {
     "name": "stdout",
     "output_type": "stream",
     "text": [
      "51 0\n",
      "CVD225\n",
      "638 613\n",
      "547 508\n",
      "347 269\n",
      "420 226\n",
      "541 224\n",
      "719 276\n",
      "579 530\n",
      "669 498\n",
      "897 506\n",
      "714 349\n",
      "276 167\n",
      "127 75\n",
      "110 57\n",
      "92 33\n",
      "82 21\n",
      "72 9\n",
      "75 0\n"
     ]
    },
    {
     "name": "stderr",
     "output_type": "stream",
     "text": [
      " 62%|█████████████████████████████████████████████████████████████████████████████████████████████▌                                                         | 155/250 [35:27<22:05, 13.95s/it]"
     ]
    },
    {
     "name": "stdout",
     "output_type": "stream",
     "text": [
      "72 0\n",
      "CVD226\n",
      "736 699\n",
      "539 487\n",
      "343 263\n",
      "283 193\n",
      "270 178\n",
      "255 161\n",
      "651 597\n",
      "549 472\n",
      "407 315\n",
      "266 178\n",
      "191 136\n",
      "91 65\n",
      "89 45\n",
      "67 22\n",
      "60 14\n",
      "53 6\n",
      "50 0\n"
     ]
    },
    {
     "name": "stderr",
     "output_type": "stream",
     "text": [
      " 62%|██████████████████████████████████████████████████████████████████████████████████████████████▏                                                        | 156/250 [35:42<22:06, 14.11s/it]"
     ]
    },
    {
     "name": "stdout",
     "output_type": "stream",
     "text": [
      "51 0\n",
      "CVD229\n",
      "880 844\n",
      "589 541\n",
      "403 339\n",
      "353 265\n",
      "336 241\n",
      "304 199\n",
      "741 693\n",
      "546 484\n",
      "414 334\n",
      "331 234\n",
      "280 186\n",
      "160 99\n",
      "129 66\n",
      "105 38\n",
      "96 22\n",
      "91 15\n",
      "81 0\n"
     ]
    },
    {
     "name": "stderr",
     "output_type": "stream",
     "text": [
      " 63%|██████████████████████████████████████████████████████████████████████████████████████████████▊                                                        | 157/250 [35:59<23:31, 15.18s/it]"
     ]
    },
    {
     "name": "stdout",
     "output_type": "stream",
     "text": [
      "69 0\n",
      "CVD230\n",
      "687 666\n",
      "444 410\n",
      "316 268\n",
      "278 191\n",
      "282 183\n",
      "307 180\n",
      "544 510\n",
      "390 332\n",
      "340 237\n",
      "319 201\n",
      "249 148\n",
      "205 118\n",
      "135 81\n",
      "111 49\n",
      "103 33\n",
      "85 12\n"
     ]
    },
    {
     "name": "stderr",
     "output_type": "stream",
     "text": [
      " 63%|███████████████████████████████████████████████████████████████████████████████████████████████▍                                                       | 158/250 [36:14<22:54, 14.94s/it]"
     ]
    },
    {
     "name": "stdout",
     "output_type": "stream",
     "text": [
      "79 0\n",
      "63 0\n",
      "CVD231\n",
      "598 569\n",
      "382 345\n",
      "244 190\n",
      "267 163\n",
      "291 152\n",
      "354 168\n",
      "474 437\n",
      "402 333\n",
      "392 258\n",
      "387 224\n",
      "323 182\n",
      "162 90\n",
      "79 34\n",
      "60 14\n",
      "57 10\n",
      "60 7\n"
     ]
    },
    {
     "name": "stderr",
     "output_type": "stream",
     "text": [
      " 64%|████████████████████████████████████████████████████████████████████████████████████████████████                                                       | 159/250 [36:26<21:31, 14.19s/it]"
     ]
    },
    {
     "name": "stdout",
     "output_type": "stream",
     "text": [
      "57 0\n",
      "66 0\n",
      "CVD233\n",
      "421 408\n",
      "278 250\n",
      "236 176\n",
      "418 216\n",
      "573 246\n",
      "798 308\n",
      "330 300\n",
      "403 265\n",
      "818 378\n",
      "817 422\n",
      "352 198\n",
      "126 83\n",
      "79 50\n",
      "65 33\n",
      "62 23\n",
      "56 14\n"
     ]
    },
    {
     "name": "stderr",
     "output_type": "stream",
     "text": [
      " 64%|████████████████████████████████████████████████████████████████████████████████████████████████▋                                                      | 160/250 [36:43<22:16, 14.85s/it]"
     ]
    },
    {
     "name": "stdout",
     "output_type": "stream",
     "text": [
      "48 0\n",
      "46 0\n",
      "CVD234\n",
      "453 446\n",
      "252 239\n",
      "188 135\n",
      "266 147\n",
      "304 148\n",
      "370 166\n",
      "336 315\n",
      "294 202\n",
      "356 193\n",
      "402 202\n",
      "294 154\n",
      "120 64\n",
      "69 43\n",
      "56 26\n",
      "46 14\n",
      "44 10\n"
     ]
    },
    {
     "name": "stderr",
     "output_type": "stream",
     "text": [
      " 64%|█████████████████████████████████████████████████████████████████████████████████████████████████▏                                                     | 161/250 [36:54<20:40, 13.94s/it]"
     ]
    },
    {
     "name": "stdout",
     "output_type": "stream",
     "text": [
      "37 0\n",
      "33 0\n",
      "CVD235\n",
      "512 503\n",
      "257 242\n",
      "182 162\n",
      "152 126\n",
      "142 110\n",
      "133 94\n",
      "354 338\n",
      "228 206\n",
      "176 145\n",
      "162 122\n",
      "124 94\n",
      "95 67\n",
      "40 21\n",
      "36 15\n",
      "34 10\n"
     ]
    },
    {
     "name": "stderr",
     "output_type": "stream",
     "text": [
      " 65%|█████████████████████████████████████████████████████████████████████████████████████████████████▊                                                     | 162/250 [37:03<17:59, 12.26s/it]"
     ]
    },
    {
     "name": "stdout",
     "output_type": "stream",
     "text": [
      "27 3\n",
      "24 0\n",
      "23 0\n",
      "CVD236\n",
      "467 441\n",
      "330 285\n",
      "288 210\n",
      "321 182\n",
      "353 182\n",
      "399 182\n",
      "374 333\n",
      "365 272\n",
      "383 215\n",
      "380 196\n",
      "296 140\n",
      "122 63\n",
      "77 34\n",
      "67 19\n",
      "59 9\n",
      "61 6\n",
      "63 0\n"
     ]
    },
    {
     "name": "stderr",
     "output_type": "stream",
     "text": [
      " 65%|██████████████████████████████████████████████████████████████████████████████████████████████████▍                                                    | 163/250 [37:16<18:03, 12.46s/it]"
     ]
    },
    {
     "name": "stdout",
     "output_type": "stream",
     "text": [
      "61 0\n",
      "CVD237\n",
      "583 559\n",
      "415 367\n",
      "354 236\n",
      "548 260\n",
      "755 320\n",
      "1073 406\n",
      "509 453\n",
      "613 361\n",
      "1274 603\n",
      "980 523\n",
      "347 170\n",
      "142 76\n",
      "112 59\n",
      "101 39\n",
      "99 28\n",
      "88 11\n",
      "82 0\n"
     ]
    },
    {
     "name": "stderr",
     "output_type": "stream",
     "text": [
      " 66%|███████████████████████████████████████████████████████████████████████████████████████████████████                                                    | 164/250 [37:37<21:45, 15.18s/it]"
     ]
    },
    {
     "name": "stdout",
     "output_type": "stream",
     "text": [
      "84 0\n",
      "CVD238\n",
      "632 609\n",
      "410 377\n",
      "281 222\n",
      "272 163\n",
      "313 170\n",
      "334 165\n",
      "495 461\n",
      "408 337\n",
      "369 235\n",
      "324 203\n",
      "210 129\n",
      "104 58\n",
      "69 31\n",
      "65 20\n",
      "62 12\n",
      "58 3\n"
     ]
    },
    {
     "name": "stderr",
     "output_type": "stream",
     "text": [
      " 66%|███████████████████████████████████████████████████████████████████████████████████████████████████▋                                                   | 165/250 [37:49<20:11, 14.25s/it]"
     ]
    },
    {
     "name": "stdout",
     "output_type": "stream",
     "text": [
      "58 0\n",
      "54 0\n",
      "CVD239\n",
      "771 748\n",
      "462 424\n",
      "335 257\n",
      "435 245\n",
      "606 294\n",
      "823 347\n",
      "627 578\n",
      "626 482\n",
      "928 554\n",
      "750 407\n",
      "328 200\n",
      "125 78\n",
      "85 41\n",
      "84 32\n",
      "74 16\n",
      "67 7\n",
      "66 0\n"
     ]
    },
    {
     "name": "stderr",
     "output_type": "stream",
     "text": [
      " 66%|████████████████████████████████████████████████████████████████████████████████████████████████████▎                                                  | 166/250 [38:09<22:04, 15.77s/it]"
     ]
    },
    {
     "name": "stdout",
     "output_type": "stream",
     "text": [
      "65 0\n",
      "CVD240\n",
      "485 460\n",
      "311 281\n",
      "236 189\n",
      "212 139\n",
      "200 121\n",
      "191 105\n",
      "378 345\n",
      "292 240\n",
      "251 182\n",
      "226 151\n",
      "181 114\n",
      "114 71\n",
      "81 41\n",
      "77 31\n",
      "64 14\n",
      "63 10\n",
      "58 0\n"
     ]
    },
    {
     "name": "stderr",
     "output_type": "stream",
     "text": [
      " 67%|████████████████████████████████████████████████████████████████████████████████████████████████████▊                                                  | 167/250 [38:19<19:39, 14.21s/it]"
     ]
    },
    {
     "name": "stdout",
     "output_type": "stream",
     "text": [
      "57 0\n",
      "CVD241\n",
      "245 220\n",
      "139 121\n",
      "169 97\n",
      "482 160\n",
      "784 241\n",
      "1208 372\n",
      "211 172\n",
      "623 269\n",
      "1089 494\n",
      "625 301\n",
      "327 141\n",
      "194 67\n",
      "41 22\n",
      "34 12\n",
      "39 10\n",
      "32 3\n",
      "32 0\n"
     ]
    },
    {
     "name": "stderr",
     "output_type": "stream",
     "text": [
      " 67%|█████████████████████████████████████████████████████████████████████████████████████████████████████▍                                                 | 168/250 [38:37<21:03, 15.41s/it]"
     ]
    },
    {
     "name": "stdout",
     "output_type": "stream",
     "text": [
      "31 0\n",
      "CVD242\n",
      "426 383\n",
      "322 262\n",
      "338 226\n",
      "536 280\n",
      "694 305\n",
      "925 368\n",
      "397 313\n",
      "647 373\n",
      "1206 580\n",
      "986 529\n",
      "365 196\n",
      "117 69\n",
      "114 45\n",
      "104 28\n",
      "108 21\n",
      "101 8\n",
      "106 0\n"
     ]
    },
    {
     "name": "stderr",
     "output_type": "stream",
     "text": [
      " 68%|██████████████████████████████████████████████████████████████████████████████████████████████████████                                                 | 169/250 [39:00<23:29, 17.40s/it]"
     ]
    },
    {
     "name": "stdout",
     "output_type": "stream",
     "text": [
      "97 0\n",
      "CVD245\n",
      "799 767\n",
      "520 483\n",
      "333 283\n",
      "244 190\n",
      "211 150\n",
      "198 135\n",
      "644 608\n",
      "462 413\n",
      "332 278\n",
      "211 160\n",
      "188 139\n",
      "133 101\n",
      "90 52\n",
      "66 28\n",
      "55 14\n",
      "47 4\n",
      "43 0\n"
     ]
    },
    {
     "name": "stderr",
     "output_type": "stream",
     "text": [
      " 68%|██████████████████████████████████████████████████████████████████████████████████████████████████████▋                                                | 170/250 [39:13<21:44, 16.31s/it]"
     ]
    },
    {
     "name": "stdout",
     "output_type": "stream",
     "text": [
      "35 0\n",
      "CVD246\n",
      "452 419\n",
      "283 234\n",
      "240 170\n",
      "263 154\n",
      "279 149\n",
      "294 146\n",
      "372 319\n",
      "302 218\n",
      "336 206\n",
      "303 171\n",
      "203 109\n",
      "111 63\n",
      "96 41\n",
      "91 32\n",
      "83 22\n",
      "77 14\n"
     ]
    },
    {
     "name": "stderr",
     "output_type": "stream",
     "text": [
      " 68%|███████████████████████████████████████████████████████████████████████████████████████████████████████▎                                               | 171/250 [39:24<19:12, 14.59s/it]"
     ]
    },
    {
     "name": "stdout",
     "output_type": "stream",
     "text": [
      "68 0\n",
      "67 0\n",
      "CVD247\n",
      "558 518\n",
      "388 325\n",
      "321 231\n",
      "330 193\n",
      "322 161\n",
      "357 171\n",
      "468 402\n",
      "362 262\n",
      "388 225\n",
      "374 180\n",
      "317 147\n",
      "155 79\n",
      "100 45\n",
      "99 36\n",
      "89 21\n",
      "77 6\n",
      "79 0\n"
     ]
    },
    {
     "name": "stderr",
     "output_type": "stream",
     "text": [
      " 69%|███████████████████████████████████████████████████████████████████████████████████████████████████████▉                                               | 172/250 [39:37<18:19, 14.10s/it]"
     ]
    },
    {
     "name": "stdout",
     "output_type": "stream",
     "text": [
      "79 0\n",
      "CVD248\n",
      "438 426\n",
      "249 229\n",
      "198 152\n",
      "258 143\n",
      "305 140\n",
      "388 170\n",
      "322 296\n",
      "315 218\n",
      "403 214\n",
      "452 227\n",
      "315 166\n",
      "154 94\n",
      "56 30\n",
      "54 22\n",
      "49 12\n",
      "46 7\n",
      "50 0\n"
     ]
    },
    {
     "name": "stderr",
     "output_type": "stream",
     "text": [
      " 69%|████████████████████████████████████████████████████████████████████████████████████████████████████████▍                                              | 173/250 [39:48<16:56, 13.20s/it]"
     ]
    },
    {
     "name": "stdout",
     "output_type": "stream",
     "text": [
      "43 0\n",
      "CVD249\n",
      "429 419\n",
      "255 236\n",
      "187 147\n",
      "261 147\n",
      "371 172\n",
      "560 220\n",
      "347 324\n",
      "369 273\n",
      "757 349\n",
      "702 342\n",
      "414 231\n",
      "144 87\n",
      "65 33\n",
      "67 27\n",
      "60 14\n",
      "59 9\n",
      "56 0\n"
     ]
    },
    {
     "name": "stderr",
     "output_type": "stream",
     "text": [
      " 70%|█████████████████████████████████████████████████████████████████████████████████████████████████████████                                              | 174/250 [40:03<17:35, 13.89s/it]"
     ]
    },
    {
     "name": "stdout",
     "output_type": "stream",
     "text": [
      "54 0\n",
      "CVD250\n",
      "447 411\n",
      "318 266\n",
      "277 174\n",
      "349 166\n",
      "396 172\n",
      "483 183\n",
      "420 354\n",
      "438 293\n",
      "539 290\n",
      "421 213\n",
      "234 124\n",
      "80 41\n",
      "102 48\n",
      "87 27\n",
      "83 21\n",
      "75 10\n",
      "72 0\n"
     ]
    },
    {
     "name": "stderr",
     "output_type": "stream",
     "text": [
      " 70%|█████████████████████████████████████████████████████████████████████████████████████████████████████████▋                                             | 175/250 [40:17<17:08, 13.71s/it]"
     ]
    },
    {
     "name": "stdout",
     "output_type": "stream",
     "text": [
      "60 0\n",
      "CVD251\n",
      "610 571\n",
      "452 393\n",
      "312 204\n",
      "352 177\n",
      "370 165\n",
      "399 170\n",
      "557 489\n",
      "479 363\n",
      "444 282\n",
      "362 181\n",
      "232 122\n",
      "132 76\n",
      "95 49\n",
      "75 23\n",
      "72 18\n",
      "66 8\n"
     ]
    },
    {
     "name": "stderr",
     "output_type": "stream",
     "text": [
      " 70%|██████████████████████████████████████████████████████████████████████████████████████████████████████████▎                                            | 176/250 [40:31<17:14, 13.99s/it]"
     ]
    },
    {
     "name": "stdout",
     "output_type": "stream",
     "text": [
      "59 0\n",
      "58 0\n",
      "CVD252\n",
      "475 459\n",
      "323 290\n",
      "267 184\n",
      "416 188\n",
      "529 208\n",
      "675 236\n",
      "420 376\n",
      "440 310\n",
      "754 367\n",
      "763 345\n",
      "426 212\n",
      "126 70\n",
      "86 49\n",
      "83 37\n",
      "69 18\n",
      "68 9\n",
      "62 0\n"
     ]
    },
    {
     "name": "stderr",
     "output_type": "stream",
     "text": [
      " 71%|██████████████████████████████████████████████████████████████████████████████████████████████████████████▉                                            | 177/250 [40:49<18:22, 15.10s/it]"
     ]
    },
    {
     "name": "stdout",
     "output_type": "stream",
     "text": [
      "59 0\n",
      "CVD253\n",
      "415 372\n",
      "318 263\n",
      "303 217\n",
      "271 173\n",
      "266 154\n",
      "270 145\n",
      "342 289\n",
      "332 243\n",
      "297 186\n",
      "267 148\n",
      "231 122\n",
      "154 82\n",
      "115 58\n",
      "105 39\n",
      "92 23\n",
      "84 14\n",
      "79 0\n"
     ]
    },
    {
     "name": "stderr",
     "output_type": "stream",
     "text": [
      " 71%|███████████████████████████████████████████████████████████████████████████████████████████████████████████▌                                           | 178/250 [41:01<16:56, 14.12s/it]"
     ]
    },
    {
     "name": "stdout",
     "output_type": "stream",
     "text": [
      "69 0\n",
      "CVD254\n",
      "486 470\n",
      "357 330\n",
      "275 233\n",
      "260 184\n",
      "298 186\n",
      "334 187\n",
      "438 406\n",
      "349 290\n",
      "398 281\n",
      "450 294\n",
      "386 262\n",
      "213 150\n",
      "106 52\n",
      "95 30\n",
      "89 18\n",
      "91 8\n",
      "92 0\n"
     ]
    },
    {
     "name": "stderr",
     "output_type": "stream",
     "text": [
      " 72%|████████████████████████████████████████████████████████████████████████████████████████████████████████████                                           | 179/250 [41:14<16:18, 13.78s/it]"
     ]
    },
    {
     "name": "stdout",
     "output_type": "stream",
     "text": [
      "94 0\n",
      "CVD255\n",
      "533 513\n",
      "375 338\n",
      "359 250\n",
      "566 263\n",
      "696 271\n",
      "900 312\n",
      "466 396\n",
      "657 384\n",
      "943 420\n",
      "836 443\n",
      "315 158\n",
      "115 47\n",
      "94 48\n",
      "76 25\n",
      "68 15\n",
      "73 11\n"
     ]
    },
    {
     "name": "stderr",
     "output_type": "stream",
     "text": [
      " 72%|████████████████████████████████████████████████████████████████████████████████████████████████████████████▋                                          | 180/250 [41:33<17:57, 15.39s/it]"
     ]
    },
    {
     "name": "stdout",
     "output_type": "stream",
     "text": [
      "69 0\n",
      "62 0\n",
      "CVD256\n",
      "468 451\n",
      "304 282\n",
      "222 186\n",
      "208 145\n",
      "219 132\n",
      "239 132\n",
      "337 312\n",
      "282 234\n",
      "294 198\n",
      "273 159\n",
      "220 132\n",
      "121 76\n",
      "72 42\n",
      "63 31\n",
      "52 19\n",
      "41 5\n"
     ]
    },
    {
     "name": "stderr",
     "output_type": "stream",
     "text": [
      " 72%|█████████████████████████████████████████████████████████████████████████████████████████████████████████████▎                                         | 181/250 [41:43<15:40, 13.63s/it]"
     ]
    },
    {
     "name": "stdout",
     "output_type": "stream",
     "text": [
      "41 0\n",
      "39 0\n",
      "CVD257\n",
      "940 918\n",
      "563 532\n",
      "377 332\n",
      "272 210\n",
      "254 178\n",
      "242 154\n",
      "728 698\n",
      "486 433\n",
      "353 276\n",
      "287 195\n",
      "217 151\n",
      "143 94\n",
      "102 59\n",
      "87 39\n",
      "83 29\n",
      "71 13\n",
      "66 0\n"
     ]
    },
    {
     "name": "stderr",
     "output_type": "stream",
     "text": [
      " 73%|█████████████████████████████████████████████████████████████████████████████████████████████████████████████▉                                         | 182/250 [41:57<15:41, 13.84s/it]"
     ]
    },
    {
     "name": "stdout",
     "output_type": "stream",
     "text": [
      "60 0\n",
      "CVD258\n",
      "499 475\n",
      "334 295\n",
      "299 232\n",
      "391 219\n",
      "470 214\n",
      "567 228\n",
      "409 357\n",
      "482 322\n",
      "744 363\n",
      "664 302\n",
      "340 156\n",
      "130 68\n",
      "106 53\n",
      "93 32\n",
      "96 26\n",
      "93 14\n",
      "88 0\n"
     ]
    },
    {
     "name": "stderr",
     "output_type": "stream",
     "text": [
      " 73%|██████████████████████████████████████████████████████████████████████████████████████████████████████████████▌                                        | 183/250 [42:13<16:05, 14.40s/it]"
     ]
    },
    {
     "name": "stdout",
     "output_type": "stream",
     "text": [
      "84 0\n",
      "CVD259\n",
      "447 426\n",
      "313 281\n",
      "250 195\n",
      "252 160\n",
      "271 155\n",
      "298 158\n",
      "356 318\n",
      "291 226\n",
      "320 198\n",
      "327 180\n",
      "280 156\n",
      "146 91\n",
      "83 40\n",
      "83 29\n",
      "77 19\n",
      "72 12\n",
      "65 0\n"
     ]
    },
    {
     "name": "stderr",
     "output_type": "stream",
     "text": [
      " 74%|███████████████████████████████████████████████████████████████████████████████████████████████████████████████▏                                       | 184/250 [42:23<14:39, 13.33s/it]"
     ]
    },
    {
     "name": "stdout",
     "output_type": "stream",
     "text": [
      "56 0\n",
      "CVD260\n",
      "407 392\n",
      "259 232\n",
      "233 172\n",
      "296 152\n",
      "369 162\n",
      "445 168\n",
      "316 284\n",
      "335 230\n",
      "525 250\n",
      "560 280\n",
      "348 193\n",
      "136 91\n",
      "74 41\n",
      "62 27\n",
      "60 15\n",
      "63 5\n",
      "63 0\n"
     ]
    },
    {
     "name": "stderr",
     "output_type": "stream",
     "text": [
      " 74%|███████████████████████████████████████████████████████████████████████████████████████████████████████████████▋                                       | 185/250 [42:36<14:16, 13.17s/it]"
     ]
    },
    {
     "name": "stdout",
     "output_type": "stream",
     "text": [
      "61 0\n",
      "CVD261\n",
      "540 529\n",
      "325 307\n",
      "244 218\n",
      "224 169\n",
      "265 165\n",
      "292 168\n",
      "363 341\n",
      "302 249\n",
      "340 220\n",
      "328 194\n",
      "261 141\n",
      "133 58\n",
      "93 67\n",
      "69 38\n",
      "60 26\n",
      "54 14\n",
      "49 0\n"
     ]
    },
    {
     "name": "stderr",
     "output_type": "stream",
     "text": [
      " 74%|████████████████████████████████████████████████████████████████████████████████████████████████████████████████▎                                      | 186/250 [42:47<13:24, 12.57s/it]"
     ]
    },
    {
     "name": "stdout",
     "output_type": "stream",
     "text": [
      "43 0\n",
      "CVD262\n",
      "519 502\n",
      "305 282\n",
      "253 217\n",
      "212 157\n",
      "210 139\n",
      "205 121\n",
      "376 353\n",
      "320 277\n",
      "266 188\n",
      "231 142\n",
      "191 112\n",
      "132 72\n",
      "92 40\n",
      "92 35\n",
      "92 32\n",
      "78 17\n",
      "66 0\n"
     ]
    },
    {
     "name": "stderr",
     "output_type": "stream",
     "text": [
      " 75%|████████████████████████████████████████████████████████████████████████████████████████████████████████████████▉                                      | 187/250 [42:57<12:24, 11.82s/it]"
     ]
    },
    {
     "name": "stdout",
     "output_type": "stream",
     "text": [
      "59 0\n",
      "CVD263\n",
      "487 473\n",
      "268 246\n",
      "186 158\n",
      "174 126\n",
      "180 115\n",
      "183 107\n",
      "354 336\n",
      "249 211\n",
      "217 158\n",
      "185 109\n",
      "175 103\n",
      "107 56\n",
      "53 21\n",
      "55 18\n",
      "50 11\n",
      "48 3\n",
      "47 0\n"
     ]
    },
    {
     "name": "stderr",
     "output_type": "stream",
     "text": [
      " 75%|█████████████████████████████████████████████████████████████████████████████████████████████████████████████████▌                                     | 188/250 [43:06<11:08, 10.79s/it]"
     ]
    },
    {
     "name": "stdout",
     "output_type": "stream",
     "text": [
      "45 0\n",
      "CVD264\n",
      "483 456\n",
      "333 296\n",
      "266 208\n",
      "240 159\n",
      "255 151\n",
      "273 149\n",
      "401 358\n",
      "311 245\n",
      "315 213\n",
      "281 170\n",
      "252 142\n",
      "156 79\n",
      "70 30\n",
      "69 18\n",
      "76 18\n",
      "77 10\n"
     ]
    },
    {
     "name": "stderr",
     "output_type": "stream",
     "text": [
      " 76%|██████████████████████████████████████████████████████████████████████████████████████████████████████████████████▏                                    | 189/250 [43:17<10:58, 10.80s/it]"
     ]
    },
    {
     "name": "stdout",
     "output_type": "stream",
     "text": [
      "71 0\n",
      "64 0\n",
      "CVD265\n",
      "564 536\n",
      "438 399\n",
      "281 223\n",
      "292 184\n",
      "352 190\n",
      "407 196\n",
      "498 459\n",
      "452 373\n",
      "537 344\n",
      "460 242\n",
      "245 130\n",
      "118 69\n",
      "114 47\n",
      "106 35\n",
      "89 17\n",
      "84 9\n",
      "79 0\n"
     ]
    },
    {
     "name": "stderr",
     "output_type": "stream",
     "text": [
      " 76%|██████████████████████████████████████████████████████████████████████████████████████████████████████████████████▊                                    | 190/250 [43:31<11:43, 11.73s/it]"
     ]
    },
    {
     "name": "stdout",
     "output_type": "stream",
     "text": [
      "77 0\n",
      "CVD266\n",
      "463 451\n",
      "257 232\n",
      "233 183\n",
      "282 169\n",
      "354 165\n",
      "455 176\n",
      "351 315\n",
      "304 201\n",
      "491 265\n",
      "572 262\n",
      "401 178\n",
      "162 89\n",
      "65 43\n",
      "49 27\n",
      "37 12\n",
      "39 10\n"
     ]
    },
    {
     "name": "stderr",
     "output_type": "stream",
     "text": [
      " 76%|███████████████████████████████████████████████████████████████████████████████████████████████████████████████████▎                                   | 191/250 [43:43<11:44, 11.93s/it]"
     ]
    },
    {
     "name": "stdout",
     "output_type": "stream",
     "text": [
      "32 0\n",
      "36 0\n",
      "CVD267\n",
      "638 610\n",
      "437 404\n",
      "305 258\n",
      "256 196\n",
      "236 161\n",
      "226 138\n",
      "545 513\n",
      "405 358\n",
      "299 230\n",
      "254 179\n",
      "215 146\n",
      "131 82\n",
      "82 42\n",
      "70 26\n",
      "57 10\n",
      "55 5\n",
      "56 0\n"
     ]
    },
    {
     "name": "stderr",
     "output_type": "stream",
     "text": [
      " 77%|███████████████████████████████████████████████████████████████████████████████████████████████████████████████████▉                                   | 192/250 [43:55<11:26, 11.84s/it]"
     ]
    },
    {
     "name": "stdout",
     "output_type": "stream",
     "text": [
      "45 0\n",
      "CVD268\n",
      "642 609\n",
      "466 407\n",
      "419 286\n",
      "595 314\n",
      "787 348\n",
      "1055 418\n",
      "587 510\n",
      "759 468\n",
      "1248 567\n",
      "929 442\n",
      "299 161\n",
      "106 67\n",
      "117 57\n",
      "106 42\n",
      "96 26\n",
      "92 16\n",
      "82 0\n"
     ]
    },
    {
     "name": "stderr",
     "output_type": "stream",
     "text": [
      " 77%|████████████████████████████████████████████████████████████████████████████████████████████████████████████████████▌                                  | 193/250 [44:17<14:15, 15.01s/it]"
     ]
    },
    {
     "name": "stdout",
     "output_type": "stream",
     "text": [
      "82 0\n",
      "CVD269\n",
      "436 415\n",
      "269 232\n",
      "278 183\n",
      "427 208\n",
      "520 220\n",
      "610 250\n",
      "393 335\n",
      "447 270\n",
      "601 289\n",
      "566 289\n",
      "309 174\n",
      "117 77\n",
      "81 41\n",
      "70 25\n",
      "59 14\n",
      "55 8\n",
      "52 0\n"
     ]
    },
    {
     "name": "stderr",
     "output_type": "stream",
     "text": [
      " 78%|█████████████████████████████████████████████████████████████████████████████████████████████████████████████████████▏                                 | 194/250 [44:31<13:48, 14.80s/it]"
     ]
    },
    {
     "name": "stdout",
     "output_type": "stream",
     "text": [
      "47 0\n",
      "CVD270\n",
      "715 685\n",
      "476 425\n",
      "330 254\n",
      "394 229\n",
      "438 228\n",
      "503 235\n",
      "563 511\n",
      "464 349\n",
      "513 299\n",
      "446 246\n",
      "276 150\n",
      "124 71\n",
      "111 51\n",
      "94 26\n",
      "92 19\n",
      "92 13\n",
      "89 0\n"
     ]
    },
    {
     "name": "stderr",
     "output_type": "stream",
     "text": [
      " 78%|█████████████████████████████████████████████████████████████████████████████████████████████████████████████████████▊                                 | 195/250 [44:47<13:45, 15.00s/it]"
     ]
    },
    {
     "name": "stdout",
     "output_type": "stream",
     "text": [
      "81 0\n",
      "CVD271\n",
      "705 678\n",
      "451 414\n",
      "235 185\n",
      "210 119\n",
      "205 101\n",
      "212 91\n",
      "558 519\n",
      "403 337\n",
      "282 182\n",
      "245 145\n",
      "166 95\n",
      "95 58\n",
      "63 28\n",
      "55 19\n",
      "50 10\n",
      "51 8\n",
      "52 0\n"
     ]
    },
    {
     "name": "stderr",
     "output_type": "stream",
     "text": [
      " 78%|██████████████████████████████████████████████████████████████████████████████████████████████████████████████████████▍                                | 196/250 [44:58<12:27, 13.83s/it]"
     ]
    },
    {
     "name": "stdout",
     "output_type": "stream",
     "text": [
      "48 0\n",
      "CVD272\n",
      "481 475\n",
      "311 296\n",
      "204 178\n",
      "179 140\n",
      "168 117\n",
      "178 113\n",
      "397 379\n",
      "285 261\n",
      "221 174\n",
      "227 153\n",
      "193 129\n",
      "147 95\n",
      "72 46\n",
      "68 37\n",
      "55 22\n",
      "48 10\n",
      "46 0\n"
     ]
    },
    {
     "name": "stderr",
     "output_type": "stream",
     "text": [
      " 79%|██████████████████████████████████████████████████████████████████████████████████████████████████████████████████████▉                                | 197/250 [45:07<10:58, 12.42s/it]"
     ]
    },
    {
     "name": "stdout",
     "output_type": "stream",
     "text": [
      "48 0\n",
      "CVD273\n",
      "553 541\n",
      "313 295\n",
      "194 166\n",
      "150 102\n",
      "160 89\n",
      "187 99\n",
      "444 425\n",
      "291 259\n",
      "236 176\n",
      "196 113\n",
      "171 109\n",
      "99 73\n",
      "52 30\n",
      "44 17\n",
      "41 10\n",
      "38 7\n",
      "34 0\n"
     ]
    },
    {
     "name": "stderr",
     "output_type": "stream",
     "text": [
      " 79%|███████████████████████████████████████████████████████████████████████████████████████████████████████████████████████▌                               | 198/250 [45:16<09:50, 11.35s/it]"
     ]
    },
    {
     "name": "stdout",
     "output_type": "stream",
     "text": [
      "35 0\n",
      "CVD274\n",
      "696 679\n",
      "457 430\n",
      "282 240\n",
      "242 165\n",
      "242 144\n",
      "239 134\n",
      "557 532\n",
      "411 370\n",
      "329 256\n",
      "247 164\n",
      "187 109\n",
      "108 55\n",
      "62 21\n",
      "63 15\n",
      "61 10\n",
      "60 5\n",
      "58 0\n"
     ]
    },
    {
     "name": "stderr",
     "output_type": "stream",
     "text": [
      " 80%|████████████████████████████████████████████████████████████████████████████████████████████████████████████████████████▏                              | 199/250 [45:28<09:44, 11.47s/it]"
     ]
    },
    {
     "name": "stdout",
     "output_type": "stream",
     "text": [
      "53 0\n",
      "CVD275\n",
      "523 499\n",
      "359 323\n",
      "260 196\n",
      "375 205\n",
      "467 211\n",
      "588 224\n",
      "444 391\n",
      "575 364\n",
      "762 357\n",
      "624 305\n",
      "321 182\n",
      "131 88\n",
      "115 60\n",
      "86 30\n",
      "80 20\n",
      "73 10\n"
     ]
    },
    {
     "name": "stderr",
     "output_type": "stream",
     "text": [
      " 80%|████████████████████████████████████████████████████████████████████████████████████████████████████████████████████████▊                              | 200/250 [45:44<10:40, 12.81s/it]"
     ]
    },
    {
     "name": "stdout",
     "output_type": "stream",
     "text": [
      "67 0\n",
      "66 0\n",
      "CVD276\n",
      "492 464\n",
      "315 276\n",
      "232 157\n",
      "258 142\n",
      "278 136\n",
      "293 141\n",
      "383 344\n",
      "318 234\n",
      "341 204\n",
      "303 153\n",
      "239 126\n",
      "118 64\n",
      "71 29\n",
      "67 21\n",
      "59 12\n",
      "54 4\n"
     ]
    },
    {
     "name": "stderr",
     "output_type": "stream",
     "text": [
      " 80%|█████████████████████████████████████████████████████████████████████████████████████████████████████████████████████████▍                             | 201/250 [45:54<09:55, 12.15s/it]"
     ]
    },
    {
     "name": "stdout",
     "output_type": "stream",
     "text": [
      "51 0\n",
      "50 0\n",
      "CVD277\n",
      "466 448\n",
      "289 260\n",
      "250 202\n",
      "302 203\n",
      "333 177\n",
      "456 197\n",
      "376 347\n",
      "362 280\n",
      "580 286\n",
      "694 331\n",
      "424 190\n",
      "133 63\n",
      "105 65\n",
      "88 42\n",
      "86 33\n",
      "96 25\n",
      "84 0\n"
     ]
    },
    {
     "name": "stderr",
     "output_type": "stream",
     "text": [
      " 81%|██████████████████████████████████████████████████████████████████████████████████████████████████████████████████████████                             | 202/250 [46:08<10:09, 12.69s/it]"
     ]
    },
    {
     "name": "stdout",
     "output_type": "stream",
     "text": [
      "74 0\n",
      "CVD278\n",
      "555 538\n",
      "376 347\n",
      "250 191\n",
      "254 165\n",
      "256 156\n",
      "288 170\n",
      "405 374\n",
      "384 318\n",
      "361 257\n",
      "332 217\n",
      "248 158\n",
      "121 81\n",
      "104 58\n",
      "90 37\n",
      "88 29\n",
      "81 16\n",
      "65 0\n"
     ]
    },
    {
     "name": "stderr",
     "output_type": "stream",
     "text": [
      " 81%|██████████████████████████████████████████████████████████████████████████████████████████████████████████████████████████▌                            | 203/250 [46:20<09:42, 12.39s/it]"
     ]
    },
    {
     "name": "stdout",
     "output_type": "stream",
     "text": [
      "62 0\n",
      "CVD279\n",
      "552 536\n",
      "348 326\n",
      "218 184\n",
      "197 138\n",
      "211 138\n",
      "212 127\n",
      "442 419\n",
      "347 309\n",
      "255 192\n",
      "217 142\n",
      "184 111\n",
      "129 73\n",
      "80 48\n",
      "65 29\n",
      "59 18\n",
      "55 10\n"
     ]
    },
    {
     "name": "stderr",
     "output_type": "stream",
     "text": [
      " 82%|███████████████████████████████████████████████████████████████████████████████████████████████████████████████████████████▏                           | 204/250 [46:30<08:56, 11.66s/it]"
     ]
    },
    {
     "name": "stdout",
     "output_type": "stream",
     "text": [
      "47 0\n",
      "44 0\n",
      "CVD280\n",
      "618 597\n",
      "376 350\n",
      "256 221\n",
      "259 178\n",
      "274 166\n",
      "297 153\n",
      "490 460\n",
      "359 302\n",
      "372 230\n",
      "386 210\n",
      "289 163\n",
      "158 83\n",
      "79 39\n",
      "74 28\n",
      "72 20\n",
      "73 14\n",
      "65 0\n"
     ]
    },
    {
     "name": "stderr",
     "output_type": "stream",
     "text": [
      " 82%|███████████████████████████████████████████████████████████████████████████████████████████████████████████████████████████▊                           | 205/250 [46:42<08:53, 11.85s/it]"
     ]
    },
    {
     "name": "stdout",
     "output_type": "stream",
     "text": [
      "65 0\n",
      "CVD281\n",
      "618 582\n",
      "395 350\n",
      "300 221\n",
      "339 171\n",
      "382 172\n",
      "433 172\n",
      "491 444\n",
      "434 319\n",
      "496 258\n",
      "481 231\n",
      "300 155\n",
      "149 83\n",
      "91 41\n",
      "85 28\n",
      "77 19\n",
      "68 7\n",
      "67 0\n"
     ]
    },
    {
     "name": "stderr",
     "output_type": "stream",
     "text": [
      " 82%|████████████████████████████████████████████████████████████████████████████████████████████████████████████████████████████▍                          | 206/250 [46:56<09:11, 12.53s/it]"
     ]
    },
    {
     "name": "stdout",
     "output_type": "stream",
     "text": [
      "69 0\n",
      "CVD282\n",
      "541 520\n",
      "343 312\n",
      "223 176\n",
      "195 125\n",
      "215 115\n",
      "241 121\n",
      "421 391\n",
      "314 264\n",
      "261 177\n",
      "275 160\n",
      "206 118\n",
      "140 75\n",
      "74 36\n",
      "65 25\n",
      "52 9\n",
      "54 8\n"
     ]
    },
    {
     "name": "stderr",
     "output_type": "stream",
     "text": [
      " 83%|█████████████████████████████████████████████████████████████████████████████████████████████████████████████████████████████                          | 207/250 [47:06<08:27, 11.81s/it]"
     ]
    },
    {
     "name": "stdout",
     "output_type": "stream",
     "text": [
      "51 0\n",
      "51 0\n",
      "CVD283\n",
      "649 628\n",
      "415 388\n",
      "374 260\n",
      "655 291\n",
      "881 335\n",
      "1263 412\n",
      "604 532\n",
      "848 483\n",
      "1548 595\n",
      "1181 481\n",
      "498 238\n",
      "135 89\n",
      "73 47\n",
      "65 33\n",
      "54 21\n",
      "40 6\n",
      "40 0\n"
     ]
    },
    {
     "name": "stderr",
     "output_type": "stream",
     "text": [
      " 83%|█████████████████████████████████████████████████████████████████████████████████████████████████████████████████████████████▋                         | 208/250 [47:31<10:59, 15.71s/it]"
     ]
    },
    {
     "name": "stdout",
     "output_type": "stream",
     "text": [
      "40 0\n",
      "CVD284\n",
      "471 450\n",
      "327 294\n",
      "278 224\n",
      "327 208\n",
      "403 216\n",
      "508 233\n",
      "393 353\n",
      "381 293\n",
      "524 295\n",
      "532 269\n",
      "384 195\n",
      "199 95\n",
      "105 61\n",
      "91 42\n",
      "86 32\n",
      "75 17\n",
      "59 0\n"
     ]
    },
    {
     "name": "stderr",
     "output_type": "stream",
     "text": [
      " 84%|██████████████████████████████████████████████████████████████████████████████████████████████████████████████████████████████▏                        | 209/250 [47:45<10:22, 15.18s/it]"
     ]
    },
    {
     "name": "stdout",
     "output_type": "stream",
     "text": [
      "59 0\n",
      "CVD285\n",
      "518 505\n",
      "352 334\n",
      "189 161\n",
      "165 102\n",
      "178 85\n",
      "205 84\n",
      "411 394\n",
      "333 285\n",
      "311 211\n",
      "258 136\n",
      "200 107\n",
      "85 60\n",
      "49 20\n",
      "49 18\n",
      "46 11\n",
      "48 12\n",
      "39 0\n"
     ]
    },
    {
     "name": "stderr",
     "output_type": "stream",
     "text": [
      " 84%|██████████████████████████████████████████████████████████████████████████████████████████████████████████████████████████████▊                        | 210/250 [47:55<08:58, 13.47s/it]"
     ]
    },
    {
     "name": "stdout",
     "output_type": "stream",
     "text": [
      "38 0\n",
      "CVD286\n",
      "507 460\n",
      "418 342\n",
      "376 262\n",
      "402 234\n",
      "443 229\n",
      "501 230\n",
      "472 394\n",
      "482 332\n",
      "518 299\n",
      "473 266\n",
      "327 195\n",
      "151 100\n",
      "164 73\n",
      "145 48\n",
      "135 32\n",
      "127 12\n",
      "125 0\n"
     ]
    },
    {
     "name": "stderr",
     "output_type": "stream",
     "text": [
      " 84%|███████████████████████████████████████████████████████████████████████████████████████████████████████████████████████████████▍                       | 211/250 [48:10<09:11, 14.13s/it]"
     ]
    },
    {
     "name": "stdout",
     "output_type": "stream",
     "text": [
      "119 0\n",
      "CVD287\n",
      "464 389\n",
      "296 208\n",
      "357 218\n",
      "454 219\n",
      "518 233\n",
      "564 222\n",
      "360 259\n",
      "496 272\n",
      "622 309\n",
      "517 279\n",
      "328 177\n",
      "163 89\n",
      "146 51\n",
      "137 35\n",
      "121 16\n",
      "115 8\n",
      "111 0\n"
     ]
    },
    {
     "name": "stderr",
     "output_type": "stream",
     "text": [
      " 85%|████████████████████████████████████████████████████████████████████████████████████████████████████████████████████████████████                       | 212/250 [48:26<09:14, 14.61s/it]"
     ]
    },
    {
     "name": "stdout",
     "output_type": "stream",
     "text": [
      "113 0\n",
      "CVD288\n",
      "421 398\n",
      "247 217\n",
      "170 135\n",
      "167 106\n",
      "181 104\n",
      "192 97\n",
      "330 303\n",
      "243 203\n",
      "209 143\n",
      "205 116\n",
      "195 101\n",
      "141 88\n",
      "83 44\n",
      "72 30\n",
      "74 29\n",
      "59 6\n"
     ]
    },
    {
     "name": "stderr",
     "output_type": "stream",
     "text": [
      " 85%|████████████████████████████████████████████████████████████████████████████████████████████████████████████████████████████████▋                      | 213/250 [48:34<07:52, 12.78s/it]"
     ]
    },
    {
     "name": "stdout",
     "output_type": "stream",
     "text": [
      "59 0\n",
      "58 0\n",
      "CVD289\n",
      "560 547\n",
      "475 453\n",
      "308 269\n",
      "269 201\n",
      "274 186\n",
      "274 172\n",
      "543 521\n",
      "467 425\n",
      "395 322\n",
      "297 205\n",
      "244 159\n",
      "167 105\n",
      "101 61\n",
      "82 38\n",
      "72 25\n",
      "68 17\n",
      "55 0\n"
     ]
    },
    {
     "name": "stderr",
     "output_type": "stream",
     "text": [
      " 86%|█████████████████████████████████████████████████████████████████████████████████████████████████████████████████████████████████▎                     | 214/250 [48:47<07:38, 12.75s/it]"
     ]
    },
    {
     "name": "stdout",
     "output_type": "stream",
     "text": [
      "50 0\n",
      "CVD290\n",
      "727 710\n",
      "445 422\n",
      "312 277\n",
      "257 198\n",
      "264 187\n",
      "260 169\n",
      "563 540\n",
      "438 383\n",
      "323 258\n",
      "301 210\n",
      "251 173\n",
      "177 114\n",
      "92 48\n",
      "80 33\n",
      "78 23\n",
      "79 18\n",
      "73 0\n"
     ]
    },
    {
     "name": "stderr",
     "output_type": "stream",
     "text": [
      " 86%|█████████████████████████████████████████████████████████████████████████████████████████████████████████████████████████████████▊                     | 215/250 [49:00<07:27, 12.79s/it]"
     ]
    },
    {
     "name": "stdout",
     "output_type": "stream",
     "text": [
      "69 0\n",
      "CVD291\n",
      "654 633\n",
      "416 390\n",
      "306 245\n",
      "333 190\n",
      "393 174\n",
      "507 211\n",
      "522 483\n",
      "448 346\n",
      "494 271\n",
      "522 253\n",
      "288 156\n",
      "115 72\n",
      "77 42\n",
      "60 23\n",
      "55 13\n",
      "53 8\n"
     ]
    },
    {
     "name": "stderr",
     "output_type": "stream",
     "text": [
      " 86%|██████████████████████████████████████████████████████████████████████████████████████████████████████████████████████████████████▍                    | 216/250 [49:14<07:30, 13.24s/it]"
     ]
    },
    {
     "name": "stdout",
     "output_type": "stream",
     "text": [
      "50 0\n",
      "45 0\n",
      "CVD292\n",
      "60 60\n",
      "25 25\n",
      "19 19\n",
      "16 16\n",
      "11 11\n",
      "5 5\n",
      "33 33\n",
      "22 22\n",
      "20 20\n",
      "18 18\n",
      "22 22\n",
      "10 10\n",
      "0 0\n",
      "0 0\n",
      "0 0\n"
     ]
    },
    {
     "name": "stderr",
     "output_type": "stream",
     "text": [
      " 87%|███████████████████████████████████████████████████████████████████████████████████████████████████████████████████████████████████                    | 217/250 [49:15<05:17,  9.62s/it]"
     ]
    },
    {
     "name": "stdout",
     "output_type": "stream",
     "text": [
      "0 0\n",
      "0 0\n",
      "0 0\n",
      "CVD293\n",
      "643 626\n",
      "510 483\n",
      "402 339\n",
      "419 302\n",
      "468 295\n",
      "565 303\n",
      "593 556\n",
      "584 499\n",
      "670 452\n",
      "614 392\n",
      "288 176\n",
      "117 68\n",
      "146 96\n",
      "125 70\n",
      "100 41\n",
      "87 18\n",
      "76 0\n"
     ]
    },
    {
     "name": "stderr",
     "output_type": "stream",
     "text": [
      " 87%|███████████████████████████████████████████████████████████████████████████████████████████████████████████████████████████████████▋                   | 218/250 [49:33<06:20, 11.91s/it]"
     ]
    },
    {
     "name": "stdout",
     "output_type": "stream",
     "text": [
      "68 0\n",
      "CVD294\n",
      "603 591\n",
      "453 433\n",
      "335 295\n",
      "283 214\n",
      "261 161\n",
      "261 149\n",
      "487 461\n",
      "454 394\n",
      "427 335\n",
      "346 235\n",
      "218 144\n",
      "132 80\n",
      "65 37\n",
      "60 26\n",
      "50 13\n",
      "54 11\n",
      "47 0\n"
     ]
    },
    {
     "name": "stderr",
     "output_type": "stream",
     "text": [
      " 88%|████████████████████████████████████████████████████████████████████████████████████████████████████████████████████████████████████▎                  | 219/250 [49:45<06:13, 12.03s/it]"
     ]
    },
    {
     "name": "stdout",
     "output_type": "stream",
     "text": [
      "42 0\n",
      "CVD295\n",
      "395 367\n",
      "310 262\n",
      "280 206\n",
      "320 185\n",
      "400 186\n",
      "576 224\n",
      "367 317\n",
      "381 265\n",
      "740 297\n",
      "757 277\n",
      "354 139\n",
      "98 50\n",
      "82 37\n",
      "64 15\n",
      "63 9\n",
      "68 7\n",
      "66 0\n"
     ]
    },
    {
     "name": "stderr",
     "output_type": "stream",
     "text": [
      " 88%|████████████████████████████████████████████████████████████████████████████████████████████████████████████████████████████████████▉                  | 220/250 [49:59<06:22, 12.76s/it]"
     ]
    },
    {
     "name": "stdout",
     "output_type": "stream",
     "text": [
      "62 0\n",
      "CVD296\n",
      "461 418\n",
      "437 375\n",
      "332 216\n",
      "440 208\n",
      "511 209\n",
      "650 246\n",
      "482 411\n",
      "548 388\n",
      "686 395\n",
      "604 267\n",
      "370 201\n",
      "141 65\n",
      "113 39\n",
      "102 25\n",
      "104 23\n",
      "100 12\n",
      "92 0\n"
     ]
    },
    {
     "name": "stderr",
     "output_type": "stream",
     "text": [
      " 88%|█████████████████████████████████████████████████████████████████████████████████████████████████████████████████████████████████████▍                 | 221/250 [50:16<06:44, 13.94s/it]"
     ]
    },
    {
     "name": "stdout",
     "output_type": "stream",
     "text": [
      "88 0\n",
      "CVD297\n",
      "638 577\n",
      "448 361\n",
      "404 250\n",
      "561 264\n",
      "688 288\n",
      "797 296\n",
      "538 437\n",
      "643 413\n",
      "920 481\n",
      "694 335\n",
      "355 201\n",
      "128 80\n",
      "157 56\n",
      "141 32\n",
      "139 24\n",
      "138 16\n",
      "126 0\n"
     ]
    },
    {
     "name": "stderr",
     "output_type": "stream",
     "text": [
      " 89%|██████████████████████████████████████████████████████████████████████████████████████████████████████████████████████████████████████                 | 222/250 [50:36<07:23, 15.82s/it]"
     ]
    },
    {
     "name": "stdout",
     "output_type": "stream",
     "text": [
      "117 0\n",
      "CVD298\n",
      "339 327\n",
      "209 190\n",
      "153 127\n",
      "132 107\n",
      "120 92\n",
      "117 73\n",
      "258 239\n",
      "189 167\n",
      "150 122\n",
      "128 94\n",
      "124 79\n",
      "105 68\n",
      "49 30\n",
      "41 20\n",
      "37 15\n"
     ]
    },
    {
     "name": "stderr",
     "output_type": "stream",
     "text": [
      " 89%|██████████████████████████████████████████████████████████████████████████████████████████████████████████████████████████████████████▋                | 223/250 [50:43<05:49, 12.96s/it]"
     ]
    },
    {
     "name": "stdout",
     "output_type": "stream",
     "text": [
      "29 6\n",
      "26 0\n",
      "21 0\n",
      "CVD299\n",
      "527 500\n",
      "347 299\n",
      "313 211\n",
      "476 223\n",
      "576 219\n",
      "695 249\n",
      "455 401\n",
      "517 323\n",
      "715 315\n",
      "574 256\n",
      "323 160\n",
      "100 60\n",
      "66 35\n",
      "49 17\n",
      "39 6\n",
      "38 3\n"
     ]
    },
    {
     "name": "stderr",
     "output_type": "stream",
     "text": [
      " 90%|███████████████████████████████████████████████████████████████████████████████████████████████████████████████████████████████████████▎               | 224/250 [50:58<05:58, 13.80s/it]"
     ]
    },
    {
     "name": "stdout",
     "output_type": "stream",
     "text": [
      "45 0\n",
      "43 0\n",
      "CVD300\n",
      "568 553\n",
      "445 423\n",
      "298 270\n",
      "252 210\n",
      "222 177\n",
      "199 146\n",
      "472 450\n",
      "393 363\n",
      "267 225\n",
      "235 182\n",
      "202 139\n",
      "142 91\n",
      "94 59\n",
      "78 41\n",
      "70 28\n",
      "62 15\n"
     ]
    },
    {
     "name": "stderr",
     "output_type": "stream",
     "text": [
      " 90%|███████████████████████████████████████████████████████████████████████████████████████████████████████████████████████████████████████▉               | 225/250 [51:09<05:24, 12.98s/it]"
     ]
    },
    {
     "name": "stdout",
     "output_type": "stream",
     "text": [
      "48 0\n",
      "47 0\n",
      "CVD301\n",
      "620 598\n",
      "390 352\n",
      "298 228\n",
      "320 202\n",
      "354 205\n",
      "378 188\n",
      "489 447\n",
      "397 303\n",
      "441 268\n",
      "428 214\n",
      "295 149\n",
      "141 82\n",
      "95 47\n",
      "88 31\n",
      "84 23\n",
      "89 14\n",
      "86 0\n"
     ]
    },
    {
     "name": "stderr",
     "output_type": "stream",
     "text": [
      " 90%|████████████████████████████████████████████████████████████████████████████████████████████████████████████████████████████████████████▌              | 226/250 [51:23<05:15, 13.16s/it]"
     ]
    },
    {
     "name": "stdout",
     "output_type": "stream",
     "text": [
      "75 0\n",
      "CVD302\n",
      "427 404\n",
      "295 267\n",
      "236 200\n",
      "196 151\n",
      "187 136\n",
      "163 106\n",
      "359 331\n",
      "283 245\n",
      "240 185\n",
      "211 148\n",
      "192 133\n",
      "128 80\n",
      "65 25\n",
      "54 10\n",
      "56 7\n",
      "56 6\n",
      "52 0\n"
     ]
    },
    {
     "name": "stderr",
     "output_type": "stream",
     "text": [
      " 91%|█████████████████████████████████████████████████████████████████████████████████████████████████████████████████████████████████████████              | 227/250 [51:32<04:32, 11.87s/it]"
     ]
    },
    {
     "name": "stdout",
     "output_type": "stream",
     "text": [
      "51 0\n",
      "CVD303\n",
      "477 457\n",
      "273 249\n",
      "190 153\n",
      "166 113\n",
      "199 125\n",
      "224 126\n",
      "367 342\n",
      "252 210\n",
      "237 162\n",
      "230 134\n",
      "221 125\n",
      "115 73\n",
      "88 48\n",
      "70 22\n",
      "67 16\n",
      "67 12\n",
      "60 0\n"
     ]
    },
    {
     "name": "stderr",
     "output_type": "stream",
     "text": [
      " 91%|█████████████████████████████████████████████████████████████████████████████████████████████████████████████████████████████████████████▋             | 228/250 [51:41<04:03, 11.06s/it]"
     ]
    },
    {
     "name": "stdout",
     "output_type": "stream",
     "text": [
      "57 0\n",
      "CVD304\n",
      "475 459\n",
      "343 324\n",
      "266 234\n",
      "233 179\n",
      "204 138\n",
      "199 124\n",
      "381 362\n",
      "335 292\n",
      "294 226\n",
      "245 168\n",
      "187 125\n",
      "129 80\n",
      "75 43\n",
      "60 25\n",
      "61 21\n",
      "54 9\n"
     ]
    },
    {
     "name": "stderr",
     "output_type": "stream",
     "text": [
      " 92%|██████████████████████████████████████████████████████████████████████████████████████████████████████████████████████████████████████████▎            | 229/250 [51:51<03:44, 10.71s/it]"
     ]
    },
    {
     "name": "stdout",
     "output_type": "stream",
     "text": [
      "48 0\n",
      "46 0\n",
      "CVD305\n",
      "430 395\n",
      "314 268\n",
      "294 204\n",
      "427 218\n",
      "511 229\n",
      "605 260\n",
      "381 322\n",
      "492 305\n",
      "625 321\n",
      "587 318\n",
      "369 210\n",
      "156 94\n",
      "82 33\n",
      "78 20\n",
      "74 12\n",
      "68 5\n",
      "68 0\n"
     ]
    },
    {
     "name": "stderr",
     "output_type": "stream",
     "text": [
      " 92%|██████████████████████████████████████████████████████████████████████████████████████████████████████████████████████████████████████████▉            | 230/250 [52:06<04:00, 12.01s/it]"
     ]
    },
    {
     "name": "stdout",
     "output_type": "stream",
     "text": [
      "71 0\n",
      "CVD306\n",
      "507 499\n",
      "300 287\n",
      "196 168\n",
      "195 126\n",
      "250 132\n",
      "287 122\n",
      "405 388\n",
      "291 243\n",
      "325 188\n",
      "324 165\n",
      "243 123\n",
      "154 72\n",
      "42 28\n",
      "36 17\n",
      "34 11\n",
      "34 9\n",
      "33 0\n"
     ]
    },
    {
     "name": "stderr",
     "output_type": "stream",
     "text": [
      " 92%|███████████████████████████████████████████████████████████████████████████████████████████████████████████████████████████████████████████▌           | 231/250 [52:16<03:36, 11.41s/it]"
     ]
    },
    {
     "name": "stdout",
     "output_type": "stream",
     "text": [
      "27 0\n",
      "CVD307\n",
      "764 745\n",
      "456 432\n",
      "287 251\n",
      "238 177\n",
      "236 158\n",
      "243 145\n",
      "572 547\n",
      "409 359\n",
      "336 256\n",
      "258 173\n",
      "182 130\n",
      "91 64\n",
      "66 37\n",
      "59 28\n",
      "51 17\n",
      "48 10\n"
     ]
    },
    {
     "name": "stderr",
     "output_type": "stream",
     "text": [
      " 93%|████████████████████████████████████████████████████████████████████████████████████████████████████████████████████████████████████████████▏          | 232/250 [52:28<03:27, 11.53s/it]"
     ]
    },
    {
     "name": "stdout",
     "output_type": "stream",
     "text": [
      "41 0\n",
      "36 0\n",
      "CVD308\n",
      "464 447\n",
      "304 281\n",
      "206 179\n",
      "178 133\n",
      "158 110\n",
      "165 104\n",
      "379 354\n",
      "268 237\n",
      "217 174\n",
      "172 117\n",
      "159 103\n",
      "119 64\n",
      "77 47\n",
      "58 25\n",
      "49 13\n",
      "47 7\n"
     ]
    },
    {
     "name": "stderr",
     "output_type": "stream",
     "text": [
      " 93%|████████████████████████████████████████████████████████████████████████████████████████████████████████████████████████████████████████████▋          | 233/250 [52:36<03:00, 10.63s/it]"
     ]
    },
    {
     "name": "stdout",
     "output_type": "stream",
     "text": [
      "44 0\n",
      "39 0\n",
      "CVD309\n",
      "460 428\n",
      "328 287\n",
      "251 166\n",
      "398 182\n",
      "535 200\n",
      "676 222\n",
      "449 404\n",
      "448 304\n",
      "761 338\n",
      "751 292\n",
      "323 148\n",
      "103 48\n",
      "99 46\n",
      "84 29\n",
      "85 23\n",
      "71 6\n",
      "77 0\n"
     ]
    },
    {
     "name": "stderr",
     "output_type": "stream",
     "text": [
      " 94%|█████████████████████████████████████████████████████████████████████████████████████████████████████████████████████████████████████████████▎         | 234/250 [52:52<03:15, 12.21s/it]"
     ]
    },
    {
     "name": "stdout",
     "output_type": "stream",
     "text": [
      "75 0\n",
      "CVD310\n",
      "912 885\n",
      "733 693\n",
      "537 451\n",
      "587 386\n",
      "667 378\n",
      "883 410\n",
      "866 805\n",
      "895 727\n",
      "1189 741\n",
      "1074 587\n",
      "703 423\n",
      "346 250\n",
      "113 67\n",
      "98 49\n",
      "84 28\n",
      "77 15\n"
     ]
    },
    {
     "name": "stderr",
     "output_type": "stream",
     "text": [
      " 94%|█████████████████████████████████████████████████████████████████████████████████████████████████████████████████████████████████████████████▉         | 235/250 [53:18<04:06, 16.40s/it]"
     ]
    },
    {
     "name": "stdout",
     "output_type": "stream",
     "text": [
      "66 0\n",
      "62 0\n",
      "CVD311\n",
      "547 538\n",
      "318 305\n",
      "174 155\n",
      "178 109\n",
      "209 106\n",
      "254 113\n",
      "432 419\n",
      "290 266\n",
      "282 187\n",
      "299 161\n",
      "269 134\n",
      "187 97\n",
      "44 19\n",
      "48 13\n",
      "54 13\n",
      "56 8\n",
      "56 0\n"
     ]
    },
    {
     "name": "stderr",
     "output_type": "stream",
     "text": [
      " 94%|██████████████████████████████████████████████████████████████████████████████████████████████████████████████████████████████████████████████▌        | 236/250 [53:29<03:23, 14.55s/it]"
     ]
    },
    {
     "name": "stdout",
     "output_type": "stream",
     "text": [
      "52 0\n",
      "CVD312\n",
      "563 529\n",
      "383 323\n",
      "310 215\n",
      "403 208\n",
      "552 238\n",
      "755 294\n",
      "451 386\n",
      "576 374\n",
      "949 517\n",
      "772 390\n",
      "411 194\n",
      "145 62\n",
      "101 43\n",
      "81 19\n",
      "75 9\n",
      "76 8\n",
      "71 0\n"
     ]
    },
    {
     "name": "stderr",
     "output_type": "stream",
     "text": [
      " 95%|███████████████████████████████████████████████████████████████████████████████████████████████████████████████████████████████████████████████▏       | 237/250 [53:47<03:22, 15.57s/it]"
     ]
    },
    {
     "name": "stdout",
     "output_type": "stream",
     "text": [
      "68 0\n",
      "CVD313\n",
      "485 460\n",
      "371 340\n",
      "249 209\n",
      "249 166\n",
      "259 146\n",
      "309 151\n",
      "435 404\n",
      "374 298\n",
      "403 268\n",
      "325 187\n",
      "231 130\n",
      "118 68\n",
      "76 32\n",
      "66 16\n",
      "68 15\n",
      "62 7\n",
      "55 0\n"
     ]
    },
    {
     "name": "stderr",
     "output_type": "stream",
     "text": [
      " 95%|███████████████████████████████████████████████████████████████████████████████████████████████████████████████████████████████████████████████▊       | 238/250 [53:58<02:52, 14.37s/it]"
     ]
    },
    {
     "name": "stdout",
     "output_type": "stream",
     "text": [
      "52 0\n",
      "CVD314\n",
      "490 467\n",
      "302 269\n",
      "253 187\n",
      "350 163\n",
      "459 185\n",
      "576 223\n",
      "393 360\n",
      "388 275\n",
      "627 276\n",
      "666 306\n",
      "385 218\n",
      "118 81\n",
      "70 33\n",
      "67 27\n",
      "64 18\n",
      "56 8\n"
     ]
    },
    {
     "name": "stderr",
     "output_type": "stream",
     "text": [
      " 96%|████████████████████████████████████████████████████████████████████████████████████████████████████████████████████████████████████████████████▎      | 239/250 [54:14<02:43, 14.91s/it]"
     ]
    },
    {
     "name": "stdout",
     "output_type": "stream",
     "text": [
      "53 0\n",
      "49 0\n",
      "CVD315\n",
      "612 606\n",
      "413 405\n",
      "286 260\n",
      "243 188\n",
      "267 175\n",
      "321 189\n",
      "462 453\n",
      "366 335\n",
      "355 262\n",
      "380 240\n",
      "291 183\n",
      "160 109\n",
      "66 42\n",
      "59 30\n",
      "66 25\n",
      "65 15\n"
     ]
    },
    {
     "name": "stderr",
     "output_type": "stream",
     "text": [
      " 96%|████████████████████████████████████████████████████████████████████████████████████████████████████████████████████████████████████████████████▉      | 240/250 [54:27<02:22, 14.20s/it]"
     ]
    },
    {
     "name": "stdout",
     "output_type": "stream",
     "text": [
      "62 0\n",
      "49 0\n",
      "CVD316\n",
      "505 482\n",
      "354 325\n",
      "238 186\n",
      "263 166\n",
      "265 142\n",
      "292 142\n",
      "413 381\n",
      "333 277\n",
      "325 226\n",
      "308 184\n",
      "201 107\n",
      "95 55\n",
      "72 36\n",
      "60 22\n",
      "53 13\n",
      "45 4\n",
      "47 0\n"
     ]
    },
    {
     "name": "stderr",
     "output_type": "stream",
     "text": [
      " 96%|█████████████████████████████████████████████████████████████████████████████████████████████████████████████████████████████████████████████████▌     | 241/250 [54:38<01:59, 13.26s/it]"
     ]
    },
    {
     "name": "stdout",
     "output_type": "stream",
     "text": [
      "47 0\n",
      "CVD317\n",
      "657 651\n",
      "408 398\n",
      "239 217\n",
      "170 138\n",
      "150 113\n",
      "164 114\n",
      "553 545\n",
      "390 370\n",
      "251 215\n",
      "184 134\n",
      "171 109\n",
      "135 87\n",
      "63 35\n",
      "60 28\n",
      "51 17\n",
      "40 4\n",
      "39 0\n"
     ]
    },
    {
     "name": "stderr",
     "output_type": "stream",
     "text": [
      " 97%|██████████████████████████████████████████████████████████████████████████████████████████████████████████████████████████████████████████████████▏    | 242/250 [54:48<01:38, 12.35s/it]"
     ]
    },
    {
     "name": "stdout",
     "output_type": "stream",
     "text": [
      "38 0\n",
      "CVD318\n",
      "404 379\n",
      "279 243\n",
      "268 198\n",
      "313 172\n",
      "377 182\n",
      "489 197\n",
      "361 319\n",
      "389 244\n",
      "593 284\n",
      "573 280\n",
      "292 151\n",
      "142 77\n",
      "124 66\n",
      "105 41\n",
      "104 32\n",
      "90 13\n",
      "81 0\n"
     ]
    },
    {
     "name": "stderr",
     "output_type": "stream",
     "text": [
      " 97%|██████████████████████████████████████████████████████████████████████████████████████████████████████████████████████████████████████████████████▊    | 243/250 [55:03<01:31, 13.13s/it]"
     ]
    },
    {
     "name": "stdout",
     "output_type": "stream",
     "text": [
      "71 0\n",
      "CVD319\n",
      "574 529\n",
      "393 338\n",
      "334 236\n",
      "451 229\n",
      "665 285\n",
      "875 363\n",
      "468 395\n",
      "757 434\n",
      "1357 642\n",
      "780 410\n",
      "297 170\n",
      "101 58\n",
      "119 54\n",
      "102 31\n",
      "96 20\n",
      "95 12\n",
      "92 0\n"
     ]
    },
    {
     "name": "stderr",
     "output_type": "stream",
     "text": [
      " 98%|███████████████████████████████████████████████████████████████████████████████████████████████████████████████████████████████████████████████████▍   | 244/250 [55:26<01:35, 15.92s/it]"
     ]
    },
    {
     "name": "stdout",
     "output_type": "stream",
     "text": [
      "86 0\n",
      "CVD320\n",
      "671 657\n",
      "427 404\n",
      "310 257\n",
      "352 225\n",
      "391 210\n",
      "470 220\n",
      "557 534\n",
      "481 408\n",
      "506 313\n",
      "542 293\n",
      "410 250\n",
      "235 154\n",
      "106 62\n",
      "85 36\n",
      "73 22\n",
      "67 9\n",
      "68 0\n"
     ]
    },
    {
     "name": "stderr",
     "output_type": "stream",
     "text": [
      " 98%|███████████████████████████████████████████████████████████████████████████████████████████████████████████████████████████████████████████████████▉   | 245/250 [55:41<01:19, 15.82s/it]"
     ]
    },
    {
     "name": "stdout",
     "output_type": "stream",
     "text": [
      "68 0\n",
      "CVD321\n",
      "678 633\n",
      "489 431\n",
      "375 281\n",
      "391 228\n",
      "434 228\n",
      "499 234\n",
      "603 534\n",
      "611 449\n",
      "671 394\n",
      "469 262\n",
      "293 164\n",
      "126 77\n",
      "118 57\n",
      "90 24\n",
      "86 15\n",
      "83 10\n",
      "76 0\n"
     ]
    },
    {
     "name": "stderr",
     "output_type": "stream",
     "text": [
      " 98%|████████████████████████████████████████████████████████████████████████████████████████████████████████████████████████████████████████████████████▌  | 246/250 [55:58<01:04, 16.01s/it]"
     ]
    },
    {
     "name": "stdout",
     "output_type": "stream",
     "text": [
      "76 0\n",
      "CVD322\n",
      "531 510\n",
      "331 303\n",
      "208 174\n",
      "157 116\n",
      "135 86\n",
      "138 82\n",
      "391 363\n",
      "289 257\n",
      "205 158\n",
      "178 115\n",
      "166 104\n",
      "114 66\n",
      "58 27\n",
      "56 19\n",
      "50 11\n",
      "55 10\n",
      "48 0\n"
     ]
    },
    {
     "name": "stderr",
     "output_type": "stream",
     "text": [
      " 99%|█████████████████████████████████████████████████████████████████████████████████████████████████████████████████████████████████████████████████████▏ | 247/250 [56:06<00:41, 13.81s/it]"
     ]
    },
    {
     "name": "stdout",
     "output_type": "stream",
     "text": [
      "50 0\n",
      "CVD323\n",
      "589 558\n",
      "388 350\n",
      "328 267\n",
      "356 222\n",
      "390 210\n",
      "464 228\n",
      "471 429\n",
      "446 363\n",
      "498 326\n",
      "476 294\n",
      "310 194\n",
      "136 82\n",
      "122 64\n",
      "111 47\n",
      "98 27\n",
      "86 8\n",
      "88 0\n"
     ]
    },
    {
     "name": "stderr",
     "output_type": "stream",
     "text": [
      " 99%|█████████████████████████████████████████████████████████████████████████████████████████████████████████████████████████████████████████████████████▊ | 248/250 [56:21<00:28, 14.05s/it]"
     ]
    },
    {
     "name": "stdout",
     "output_type": "stream",
     "text": [
      "89 0\n",
      "CVD324\n",
      "482 439\n",
      "347 290\n",
      "329 216\n",
      "455 216\n",
      "585 247\n",
      "741 292\n",
      "426 356\n",
      "473 317\n",
      "660 348\n",
      "623 289\n",
      "376 182\n",
      "131 72\n",
      "96 40\n",
      "88 25\n",
      "82 14\n",
      "89 11\n",
      "89 0\n"
     ]
    },
    {
     "name": "stderr",
     "output_type": "stream",
     "text": [
      "100%|██████████████████████████████████████████████████████████████████████████████████████████████████████████████████████████████████████████████████████▍| 249/250 [56:37<00:14, 14.76s/it]"
     ]
    },
    {
     "name": "stdout",
     "output_type": "stream",
     "text": [
      "94 0\n",
      "CVD325\n",
      "468 443\n",
      "298 260\n",
      "227 148\n",
      "231 134\n",
      "241 122\n",
      "276 133\n",
      "389 347\n",
      "345 259\n",
      "319 203\n",
      "267 157\n",
      "210 128\n",
      "128 71\n",
      "69 32\n",
      "72 32\n",
      "71 23\n",
      "60 7\n"
     ]
    },
    {
     "name": "stderr",
     "output_type": "stream",
     "text": [
      "100%|███████████████████████████████████████████████████████████████████████████████████████████████████████████████████████████████████████████████████████| 250/250 [56:48<00:00, 13.63s/it]"
     ]
    },
    {
     "name": "stdout",
     "output_type": "stream",
     "text": [
      "63 0\n",
      "62 0\n"
     ]
    },
    {
     "name": "stderr",
     "output_type": "stream",
     "text": [
      "\n"
     ]
    }
   ],
   "source": [
    "data = {}\n",
    "failed_ids = []\n",
    "for idx in tqdm(range(len(IDs)), position=0, leave=True):\n",
    "    ID = IDs[idx][0]\n",
    "    print(ID)\n",
    "    try:\n",
    "        vmap = vent_maps[idx].cuda()\n",
    "        smap = output_maps_for_pred[IDs[idx][1]][2].cuda()\n",
    "        smap_expanded = get_edge_expanded_seg(smap)\n",
    "        seg_volume = smap.sum().item()\n",
    "        vent_volume = vmap.sum().item()\n",
    "        vmap_ds = downsample_3d(vmap)\n",
    "\n",
    "        ind_data = {}\n",
    "\n",
    "        for input_type in [\"ent\", \"var\", \"pred\"]:\n",
    "            if input_type == \"ent\":\n",
    "                umap = output_maps_for_umaps[IDs[idx][1]][0].cuda()\n",
    "                ts = [0.1, 0.2, 0.3, 0.4, 0.45, 0.5]\n",
    "                maxv = 0.7\n",
    "            elif input_type == \"var\":\n",
    "                umap = output_maps_for_umaps[IDs[idx][1]][3].cuda()\n",
    "                ts = [0.01, 0.03, 0.06, 0.09, 0.12, 0.15]\n",
    "                maxv = 0.2\n",
    "            elif input_type == \"pred\":\n",
    "                umap = output_maps_for_pred[IDs[idx][1]][1].cuda()\n",
    "                ts = [0.1, 0.2, 0.3, 0.4, 0.5, 0.6]\n",
    "                maxv = 1.0\n",
    "            else:\n",
    "                raise ValueError  \n",
    "\n",
    "            umap_ds = downsample_3d(umap)\n",
    "\n",
    "            collected_data_t = {}\n",
    "\n",
    "            for t in ts:\n",
    "                ut = umap > t\n",
    "                umap_values = umap[ut]\n",
    "\n",
    "                #### summary statistics\n",
    "                sum, mean, std, skew, kurtosis = gaussian_summary_statistics(umap_values.cpu())\n",
    "                values_hist = histogram_distribution(umap_values, bins=20, minv=t, maxv=maxv)\n",
    "\n",
    "                #### overlap statistics\n",
    "                intersection = (ut * smap).sum()\n",
    "                expanded_intersection = (ut * smap_expanded).sum()\n",
    "\n",
    "                prop_umap_segmented = (intersection / ut.sum()).item()\n",
    "                prop_umap_within_expanded_seg = (expanded_intersection / ut.sum()).item()\n",
    "                prop_seg_uncertain = (intersection / smap.sum()).item()\n",
    "\n",
    "                ### ventricle distance statistics\n",
    "                ut_ds = umap_ds > t\n",
    "                distances_closest, distance_map = min_distances(ut_ds, vmap_ds)\n",
    "                distance_map = F.interpolate(distance_map.view(1, 1, *distance_map.shape), umap.shape, mode='trilinear').squeeze()\n",
    "                _, dist_mean, dist_std, dist_skew, dist_kurt = gaussian_summary_statistics(distances_closest.cpu())\n",
    "                umap_ds_values = umap_ds[ut_ds]\n",
    "                dist_value_joint = joint_hist_values({\"x\":distances_closest, \"y\":umap_ds_values}, x=\"x\", y=\"y\", minx=0, maxx=30, miny=t, maxy=maxv, bins=5).cpu()\n",
    "\n",
    "                ### connected component analysis statistics\n",
    "                conn_comps = get_conn_comps(ut)\n",
    "                cc_data = conn_comp_basic_stats(umap, conn_comps, smap, distance_map)\n",
    "                cc_data[\"log_sizes\"] = torch.Tensor(cc_data[\"sizes\"]).log()\n",
    "                cc_size_dist_joint = joint_hist_values(cc_data, \"log_sizes\", \"vent_dists\", 0, 8, 0, 10, 5).cpu()\n",
    "\n",
    "                # recorded values\n",
    "                all_data = {}\n",
    "                for key, value in cc_data.items():\n",
    "                    all_data[\"cc_\" + key] = value\n",
    "                all_data[\"sum\"] = sum\n",
    "                all_data[\"mean\"] = mean\n",
    "                all_data[\"std\"] = std\n",
    "                all_data[\"skew\"] = skew\n",
    "                all_data[\"kurtosis\"] = kurtosis\n",
    "                all_data[\"prop_umap_segmented\"] = prop_umap_segmented\n",
    "                all_data[\"prop_umap_within_expanded_seg\"] = prop_umap_within_expanded_seg\n",
    "                all_data[\"prop_seg_uncertain\"] = prop_seg_uncertain\n",
    "                all_data[\"dist_mean\"] = dist_mean\n",
    "                all_data[\"dist_std\"] = dist_std\n",
    "                all_data[\"dist_skew\"] = dist_skew\n",
    "                all_data[\"dist_kurt\"] = dist_kurt\n",
    "                all_data[\"dist_value_joint\"] = dist_value_joint\n",
    "                all_data[\"cc_dist_value_joint\"] = cc_size_dist_joint\n",
    "                all_data[\"seg_volume\"] = seg_volume\n",
    "                all_data[\"vent_volume\"] = vent_volume\n",
    "                all_data[\"values_hist\"] = values_hist\n",
    "\n",
    "                print(all_data[\"cc_num\"], all_data[\"cc_unsegmented_ccs\"])\n",
    "                collected_data_t[str(t)] = all_data\n",
    "\n",
    "\n",
    "                # break\n",
    "\n",
    "            ind_data[input_type] = collected_data_t\n",
    "            # break\n",
    "\n",
    "        data[ID] = ind_data\n",
    "        # break\n",
    "    except:\n",
    "        failed_ids.append((idx, ID))\n",
    "        "
   ]
  },
  {
   "cell_type": "code",
   "execution_count": 56,
   "id": "176d84ba-04ba-4a5e-b1aa-3687bebbf429",
   "metadata": {},
   "outputs": [
    {
     "data": {
      "text/plain": [
       "250"
      ]
     },
     "execution_count": 56,
     "metadata": {},
     "output_type": "execute_result"
    }
   ],
   "source": [
    "len(data)"
   ]
  },
  {
   "cell_type": "code",
   "execution_count": 57,
   "id": "01be46d0-be09-49e6-8466-9c06fba4514b",
   "metadata": {},
   "outputs": [],
   "source": [
    "import pandas as pd"
   ]
  },
  {
   "cell_type": "code",
   "execution_count": 58,
   "id": "0f78e2f7-53e8-4a0b-8d26-695ea41bc7bf",
   "metadata": {},
   "outputs": [
    {
     "name": "stderr",
     "output_type": "stream",
     "text": [
      "100%|███████████████████████████████████████████████████████████████████████████████████████████████████████████████████████████████████████████████████████| 250/250 [00:07<00:00, 33.98it/s]\n"
     ]
    }
   ],
   "source": [
    "pd_dfs = defaultdict(lambda : defaultdict(lambda : defaultdict(lambda : [])))\n",
    "pd_other_data_dfs = defaultdict(lambda : [])\n",
    "\n",
    "for ID_key in tqdm(natsorted(data.keys()), position=0, leave=True):\n",
    "    ind_data = data[ID_key]\n",
    "    for input_key in natsorted(ind_data.keys()):\n",
    "        map_type_data = ind_data[input_key]\n",
    "        for t_key in natsorted(map_type_data.keys()):\n",
    "            row_data = map_type_data[t_key]\n",
    "            \n",
    "            #row = []\n",
    "            pd_dfs[input_key][t_key]['ID'].append(ID_key)\n",
    "            for key in ['cc_num', 'cc_unsegmented_ccs', 'cc_size_mean', 'cc_size_std', 'cc_size_skew', 'cc_size_kurt', 'cc_vd_mean', 'cc_vd_std', 'cc_vd_skew', 'cc_vd_kurt', 'sum', 'mean', 'std', 'skew', 'kurtosis', 'prop_umap_segmented', 'prop_umap_within_expanded_seg', 'prop_seg_uncertain', 'dist_mean', 'dist_std', 'dist_skew', 'dist_kurt', 'dist_value_joint', 'cc_dist_value_joint', 'seg_volume', 'vent_volume', 'values_hist']:\n",
    "                if 'joint' not in key and 'hist' not in key:\n",
    "                    #row.append((key, row_data[key]))\n",
    "                    pd_dfs[input_key][t_key][key].append(row_data[key])\n",
    "                else:\n",
    "                    table_vals = row_data[key].view(-1).tolist()\n",
    "                    for i in range(len(table_vals)):\n",
    "                        #row.append((f\"{key}_{i}\", table_vals[i]))\n",
    "                        pd_dfs[input_key][t_key][f\"{key}_{i}\"].append(table_vals[i])\n",
    "                        \n",
    "            for key in ['cc_sizes', 'cc_means', 'cc_stds', 'cc_skews', 'cc_kurts', 'cc_vent_dists', 'cc_log_sizes']:\n",
    "                pd_other_data_dfs[key].extend(row_data[key])\n",
    "            pd_other_data_dfs[\"id\"].extend([f\"{ID_key}_{input_key}_{t_key}\" for _ in range(len(row_data['cc_sizes']))])"
   ]
  },
  {
   "cell_type": "code",
   "execution_count": 59,
   "id": "32fff348-633b-46b8-934f-404e412b21de",
   "metadata": {},
   "outputs": [
    {
     "name": "stderr",
     "output_type": "stream",
     "text": [
      "100%|███████████████████████████████████████████████████████████████████████████████████████████████████████████████████████████████████████████████████████████| 3/3 [00:01<00:00,  1.82it/s]\n"
     ]
    }
   ],
   "source": [
    "# save the summary statistics\n",
    "ind_data = data[list(data.keys())[0]]\n",
    "for input_key in tqdm(natsorted(ind_data.keys()), position=0, leave=True):\n",
    "    map_type_data = ind_data[input_key]\n",
    "    for t_key in natsorted(map_type_data.keys()):\n",
    "        df = pd.DataFrame(pd_dfs[input_key][t_key])\n",
    "        df.to_csv(f\"umap_data_spreadsheets/CVD/CHAL_BASED_{input_key}_{t_key}.csv\")\n",
    "        \n",
    "    "
   ]
  },
  {
   "cell_type": "code",
   "execution_count": 60,
   "id": "654cc5c1-eeba-494d-9c94-3b82aa8ff0f4",
   "metadata": {},
   "outputs": [],
   "source": [
    "# save the per individual connected component statistic\n",
    "np_df = {}\n",
    "for key in pd_other_data_dfs.keys():\n",
    "    np_df[key] = np.array(pd_other_data_dfs[key])\n",
    "np.save(\"umap_data_spreadsheets/CVD/CHAL_BASED_connected_component_data.npy\", np_df)"
   ]
  },
  {
   "cell_type": "markdown",
   "id": "184b7ffe-5a47-4d59-b309-fb1159637d47",
   "metadata": {},
   "source": [
    "### stuff left to do\n",
    "\n",
    "- [ ] merge the data with the original ADNI and CVD spreadsheets\n",
    "- [ ] get code for training logistic regression\n",
    "- [ ] get code for cross validation\n",
    "- [ ] get code for SMOTE sampling\n",
    "- [ ] determine which settings of t for pred, ent and var are useful\n",
    "- [ ] start training models with all the features and weight decay and see what works\n",
    "- [ ] try a multilayer perceptron instead perhaps / see if there is a random forest or svm pytorch library? actualyl its okay it should be fairly easy to adapt the code.\n",
    "- [ ] right you know what I am going to church and I will see what work I get done this afternoon."
   ]
  },
  {
   "cell_type": "code",
   "execution_count": null,
   "id": "69ca21dd-c8be-43e5-af10-026de6b4eadb",
   "metadata": {},
   "outputs": [],
   "source": []
  },
  {
   "cell_type": "code",
   "execution_count": null,
   "id": "8a4f6f75-99a4-4e41-bdc2-c6041c079b8a",
   "metadata": {},
   "outputs": [],
   "source": []
  },
  {
   "cell_type": "code",
   "execution_count": null,
   "id": "6e23d5bf-23e2-4068-a7c7-18ef0034ca80",
   "metadata": {},
   "outputs": [],
   "source": []
  },
  {
   "cell_type": "code",
   "execution_count": null,
   "id": "27710691-f303-4139-b6ef-8eed88af295e",
   "metadata": {},
   "outputs": [],
   "source": []
  },
  {
   "cell_type": "code",
   "execution_count": null,
   "id": "da37da2a-3776-42c8-b1e4-fac6a6c52d2b",
   "metadata": {},
   "outputs": [],
   "source": []
  },
  {
   "cell_type": "code",
   "execution_count": null,
   "id": "880d3dc5-845f-492d-bb9a-7899cd510cb8",
   "metadata": {},
   "outputs": [],
   "source": []
  },
  {
   "cell_type": "code",
   "execution_count": null,
   "id": "7a21e17e-19d6-4032-9bf4-f9c765ee52f3",
   "metadata": {},
   "outputs": [],
   "source": []
  }
 ],
 "metadata": {
  "kernelspec": {
   "display_name": "Python 3 (ipykernel)",
   "language": "python",
   "name": "python3"
  },
  "language_info": {
   "codemirror_mode": {
    "name": "ipython",
    "version": 3
   },
   "file_extension": ".py",
   "mimetype": "text/x-python",
   "name": "python",
   "nbconvert_exporter": "python",
   "pygments_lexer": "ipython3",
   "version": "3.10.8"
  }
 },
 "nbformat": 4,
 "nbformat_minor": 5
}
