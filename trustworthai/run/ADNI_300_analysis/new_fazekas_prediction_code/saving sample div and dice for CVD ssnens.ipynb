{
 "cells": [
  {
   "cell_type": "markdown",
   "id": "f64cd201-3332-41bd-bf9a-f9e72526f963",
   "metadata": {},
   "source": [
    "### Load Model Samples"
   ]
  },
  {
   "cell_type": "code",
   "execution_count": 1,
   "id": "6aa71d21-3a35-4705-9d97-2718edcd5701",
   "metadata": {},
   "outputs": [
    {
     "name": "stdout",
     "output_type": "stream",
     "text": [
      "strawberry\n",
      "banana\n"
     ]
    }
   ],
   "source": [
    "print(\"strawberry\")\n",
    "\n",
    "# loss function and metrics\n",
    "from trustworthai.utils.losses_and_metrics.dice_loss import DiceLossWithWeightedEmptySlices\n",
    "from trustworthai.utils.losses_and_metrics.dice_loss_metric import DiceLossMetric, SsnDiceMeanMetricWrapper\n",
    "\n",
    "# predefined training dataset\n",
    "from trustworthai.utils.data_preprep.dataset_pipelines import load_data\n",
    "from torch.utils.data import ConcatDataset\n",
    "\n",
    "# fitter\n",
    "from trustworthai.utils.fitting_and_inference.fitters.basic_lightning_fitter import StandardLitModelWrapper\n",
    "from trustworthai.utils.fitting_and_inference.fitters.p_unet_fitter import PUNetLitModelWrapper\n",
    "from trustworthai.utils.fitting_and_inference.get_trainer import get_trainer\n",
    "\n",
    "# model\n",
    "from trustworthai.run.model_load.load_ssn import load_ssn\n",
    "from trustworthai.run.model_load.load_punet import load_p_unet\n",
    "from trustworthai.run.model_load.load_deterministic import load_deterministic\n",
    "from trustworthai.models.stochastic_wrappers.ssn.LowRankMVCustom import LowRankMultivariateNormalCustom\n",
    "from trustworthai.models.stochastic_wrappers.ssn.ReshapedDistribution import ReshapedDistribution\n",
    "\n",
    "# optimizer and lr scheduler\n",
    "import torch\n",
    "\n",
    "# misc\n",
    "import argparse\n",
    "import os\n",
    "import shutil\n",
    "import shlex\n",
    "from collections import defaultdict\n",
    "from tqdm import tqdm\n",
    "import sys\n",
    "from natsort import natsorted\n",
    "\n",
    "print(\"banana\")"
   ]
  },
  {
   "cell_type": "code",
   "execution_count": 2,
   "id": "d3561b57-8ba3-4fbc-b5f1-374837faa575",
   "metadata": {},
   "outputs": [],
   "source": [
    "from trustworthai.utils.data_preprep.dataset_pipelines import load_clinscores_data, load_data, ClinScoreDataRetriever"
   ]
  },
  {
   "cell_type": "code",
   "execution_count": 3,
   "id": "8a1343b8-a9a8-40ac-a68b-f895588c9a6b",
   "metadata": {},
   "outputs": [],
   "source": [
    "models_folder = \"/home/s2208943/ipdis/results/cross_validated_models/\""
   ]
  },
  {
   "cell_type": "code",
   "execution_count": 4,
   "id": "75c3060c-304f-4a17-98cc-7e9c4b19282e",
   "metadata": {},
   "outputs": [],
   "source": [
    "def construct_parser():\n",
    "    parser = argparse.ArgumentParser(description = \"train models\")\n",
    "    \n",
    "    # folder arguments\n",
    "    parser.add_argument('--ckpt_dir', default='s2208943/results/revamped_models/', type=str)\n",
    "    parser.add_argument('--model_name', default=None, type=str)\n",
    "    \n",
    "    # data generation arguments\n",
    "    parser.add_argument('--dataset', default='ed', type=str)\n",
    "    parser.add_argument('--seed', default=3407, type=int)\n",
    "    parser.add_argument('--test_split', default=0.15, type=float)\n",
    "    parser.add_argument('--val_split', default=0.15, type=float)\n",
    "    parser.add_argument('--empty_slice_retention', default=0.1, type=float)\n",
    "    \n",
    "    # model specific parameters SSN\n",
    "    parser.add_argument('--ssn_rank', default=15, type=int)\n",
    "    parser.add_argument('--ssn_epsilon', default=1e-5, type=float)\n",
    "    parser.add_argument('--ssn_mc_samples', default=10, type=int)\n",
    "    parser.add_argument('--ssn_sample_dice_coeff', default=0.05, type=float)\n",
    "    parser.add_argument('--ssn_pre_head_layers', default=16, type=int)\n",
    "    \n",
    "    # evidential loss parameters\n",
    "    parser.add_argument('--kl_factor', default=0.1, type=float)\n",
    "    parser.add_argument('--kl_anneal_count', default=452*4, type=int)\n",
    "    \n",
    "     # model specific parameters Punet\n",
    "    parser.add_argument('--kl_beta', default=10.0, type=float)\n",
    "    parser.add_argument('--use_prior_for_dice', default=False, type=bool)\n",
    "    parser.add_argument('--punet_sample_dice_coeff', default=0.05, type=float)\n",
    "    parser.add_argument('--latent_dim', default=12, type=int)\n",
    "    \n",
    "    # general arguments for the loss function\n",
    "    parser.add_argument('--dice_factor', default=5, type=float)\n",
    "    parser.add_argument('--xent_factor', default=0.01, type=float)\n",
    "    parser.add_argument('--dice_empty_slice_weight', default=0.5, type=float)\n",
    "    \n",
    "    # general arguments for the loss function\n",
    "    parser.add_argument('--loss_name', default='dice+xent', type=str)\n",
    "    # parser.add_argument('--dice_factor', default=5, type=float)\n",
    "    # parser.add_argument('--xent_factor', default=0.01, type=float)\n",
    "    parser.add_argument('--xent_weight', default='none', type=str)\n",
    "    #parser.add_argument('--dice_empty_slice_weight', default=0.5, type=float)\n",
    "    parser.add_argument('--tversky_beta', default=0.7, type=float)\n",
    "    parser.add_argument('--reduction', default='mean_sum', type=str)\n",
    "    \n",
    "    # training paradigm arguments\n",
    "    parser.add_argument('--lr', default=2e-4, type=float)\n",
    "    parser.add_argument('--dropout_p', default=0.0, type=float)\n",
    "    parser.add_argument('--max_epochs', default=100, type=int)\n",
    "    parser.add_argument('--early_stop_patience', default=15, type=int)\n",
    "    parser.add_argument('--batch_size', default=32, type=int)\n",
    "    parser.add_argument('--cross_validate', default=False, type=bool)\n",
    "    parser.add_argument('--cv_split', default=0, type=int)\n",
    "    parser.add_argument('--cv_test_fold_smooth', default=1, type=int)\n",
    "    parser.add_argument('--weight_decay', default=0.0001, type=float)\n",
    "    parser.add_argument('--overwrite', default=False, type=bool)\n",
    "    \n",
    "    return parser"
   ]
  },
  {
   "cell_type": "code",
   "execution_count": 5,
   "id": "4adbac25-a469-4bb1-9eb5-7095d1d03c3e",
   "metadata": {},
   "outputs": [],
   "source": [
    "def load_best_checkpoint(model, loss, model_ckpt_folder, punet=False):\n",
    "    # this is ultimately going to need to be passed a model wrapper when I implement P-Unet....\n",
    "    \n",
    "    # the path to the best checkpoint is stored as a single line in a txt file along with each model\n",
    "    with open(os.path.join(model_ckpt_folder, \"best_ckpt.txt\"), \"r\") as f:\n",
    "        ckpt_file = os.path.join(model_ckpt_folder, f.readlines()[0][:-1].split(\"/\")[-1])\n",
    "    \n",
    "    if punet:\n",
    "        return PUNetLitModelWrapper.load_from_checkpoint(ckpt_file, model=model, loss=loss, \n",
    "                                    logging_metric=lambda : None)\n",
    "    return StandardLitModelWrapper.load_from_checkpoint(ckpt_file, model=model, loss=loss, \n",
    "                                    logging_metric=lambda : None)"
   ]
  },
  {
   "cell_type": "code",
   "execution_count": 6,
   "id": "0baae5f6-42bf-4a39-aaf5-8cac2d7a9210",
   "metadata": {},
   "outputs": [],
   "source": [
    "def entropy_map_from_mean(mean, do_normalize=True):\n",
    "    \"samples is of shape samples, batch size, channels, image dims  [s, b, c *<dims>]\"\n",
    "    if mean.shape[1] == 1:\n",
    "        raise ValueError(\"not implemented for implicit background class\")\n",
    "    else:\n",
    "        assert mean.shape[1] == 2\n",
    "    \n",
    "    if do_normalize:\n",
    "        probs = torch.nn.functional.softmax(mean, dim=1)\n",
    "    else:\n",
    "        probs = mean\n",
    "    ent_map = torch.sum(-probs * torch.log(probs+1e-30), dim=1)\n",
    "\n",
    "    return ent_map"
   ]
  },
  {
   "cell_type": "code",
   "execution_count": 7,
   "id": "598f5d3b-2b60-4ce6-8918-f0d706b46631",
   "metadata": {},
   "outputs": [],
   "source": [
    "def generate_means_and_samples_SSN_Ens(splits=6, dataset_stride=2, temp=1, num_samples=10, use_updated_scores=False):\n",
    "    # load data\n",
    "    clin_retriever = ClinScoreDataRetriever(use_updated_scores=use_updated_scores)\n",
    "    \n",
    "    # load model\n",
    "    class TestArgs():\n",
    "        def __init__(self, ):\n",
    "            args_dict = {\n",
    "                \"dropout_p\":0,\n",
    "                \"ssn_pre_head_layers\":32,\n",
    "                \"ssn_rank\":15,\n",
    "                \"ssn_epsilon\":1e-5,\n",
    "                \"dice_empty_slice_weight\":0.5,\n",
    "                \"ssn_mc_samples\":10,\n",
    "                \"dice_factor\":5,\n",
    "                \"xent_factor\":0.01,\n",
    "                \"ssn_sample_dice_coeff\":0.05\n",
    "            }\n",
    "\n",
    "            for key, value in args_dict.items():\n",
    "                setattr(self, key, value)\n",
    "\n",
    "    args = TestArgs()\n",
    "\n",
    "    model_raw, loss = load_ssn(args)\n",
    "    model_raw = model_raw.cuda()\n",
    "    \n",
    "    models_folder = \"/home/s2208943/ipdis/results/cross_validated_models/\"\n",
    "    #model_names = os.listdir(models_folder)\n",
    "\n",
    "    model_base_name = \"ssn_cross_validate_32_\"\n",
    "\n",
    "    model_outs = defaultdict(lambda : defaultdict(lambda : {'means':[], 'samples':[]}))\n",
    "\n",
    "    test_datasets = []\n",
    "\n",
    "    for split in range(splits):\n",
    "        # load specific data split\n",
    "        train_ds_clin, val_ds_clin, test_ds_clin = clin_retriever.load_clinscores_data(\n",
    "            combine_all=False,\n",
    "            test_proportion=0.15, \n",
    "            validation_proportion=0.15,\n",
    "            seed=3407,\n",
    "            cross_validate=True,\n",
    "            cv_split=split,\n",
    "            cv_test_fold_smooth=1,\n",
    "            \n",
    "        )\n",
    "        test_datasets.append(test_ds_clin)\n",
    "        print(\"size: \", len(test_ds_clin))\n",
    "\n",
    "\n",
    "        for ens in range(10):\n",
    "            model_name = model_base_name + f\"split{split}_ens{ens}/\"\n",
    "            model_path = models_folder + model_name\n",
    "\n",
    "            # with open(model_path + \"best_ckpt.txt\") as f:\n",
    "            #     lines = f.readlines()\n",
    "            #     args_lines = [l[:-1].split(\": \") for l in lines[1:]]\n",
    "            #     args_lines = [f'--{l[0]} {l[1]}' for l in args_lines]\n",
    "            #     args_line = \" \".join(args_lines)\n",
    "            #     parser = construct_parser()\n",
    "            #     args = parser.parse_args(shlex.split(args_line))\n",
    "\n",
    "            # load the model\n",
    "            model = load_best_checkpoint(model_raw, loss, model_path)\n",
    "            model.eval()\n",
    "\n",
    "\n",
    "            dataskip = dataset_stride\n",
    "            # means = []\n",
    "            # samples = []\n",
    "            for i, data in enumerate(tqdm(test_ds_clin, position=0, leave=True)):\n",
    "                if i % dataskip == 0:\n",
    "                    x = data[0]\n",
    "                    with torch.no_grad():\n",
    "                        mean, sample = model.mean_and_sample(x.swapaxes(0,1).cuda(), num_samples=num_samples // 10, temperature=temp, symmetric=False)\n",
    "\n",
    "                        model_outs[split][i]['means'].append(mean.cpu())\n",
    "                        model_outs[split][i]['samples'].append(sample.cpu())\n",
    "\n",
    "    for split in model_outs.keys():\n",
    "        for idx in tqdm(model_outs[split].keys(), position=0, leave=True):\n",
    "            model_outs[split][idx]['means'] = torch.stack(model_outs[split][idx]['means'], dim=0).mean(dim=0)\n",
    "            model_outs[split][idx]['samples'] = torch.cat(model_outs[split][idx]['samples'], dim=0)\n",
    "\n",
    "    means = [model_outs[split][idx]['means'] for split in model_outs.keys() for idx in model_outs[split].keys()]\n",
    "    samples = [model_outs[split][idx]['samples'] for split in model_outs.keys() for idx in model_outs[split].keys()]\n",
    "\n",
    "    return means, samples, ConcatDataset(test_datasets)"
   ]
  },
  {
   "cell_type": "code",
   "execution_count": 8,
   "id": "fd1a7915-2419-4737-85bf-f8f4da925f6c",
   "metadata": {},
   "outputs": [],
   "source": [
    "def generate_means_and_samples_SSN_Ens_Efficient(splits=6, dataset_stride=2, temp=1, num_samples=10, use_updated_scores=False):\n",
    "    # load data\n",
    "    clin_retriever = ClinScoreDataRetriever(use_updated_scores=use_updated_scores)\n",
    "    \n",
    "    # load model\n",
    "    class TestArgs():\n",
    "        def __init__(self, ):\n",
    "            args_dict = {\n",
    "                \"dropout_p\":0,\n",
    "                \"ssn_pre_head_layers\":32,\n",
    "                \"ssn_rank\":15,\n",
    "                \"ssn_epsilon\":1e-5,\n",
    "                \"dice_empty_slice_weight\":0.5,\n",
    "                \"ssn_mc_samples\":10,\n",
    "                \"dice_factor\":5,\n",
    "                \"xent_factor\":0.01,\n",
    "                \"ssn_sample_dice_coeff\":0.05\n",
    "            }\n",
    "\n",
    "            for key, value in args_dict.items():\n",
    "                setattr(self, key, value)\n",
    "\n",
    "    args = TestArgs()\n",
    "\n",
    "    model_raw, loss = load_ssn(args)\n",
    "    model_raw = model_raw.cuda()\n",
    "    \n",
    "    models_folder = \"/home/s2208943/ipdis/results/cross_validated_models/\"\n",
    "    #model_names = os.listdir(models_folder)\n",
    "\n",
    "    model_base_name = \"ssn_cross_validate_32_\"\n",
    "\n",
    "    means = []\n",
    "    samples = []\n",
    "\n",
    "    test_datasets = []\n",
    "\n",
    "    for split in range(splits):\n",
    "        model_outs = defaultdict(lambda : {'means':[], 'samples':[]})\n",
    "        \n",
    "        # load specific data split\n",
    "        train_ds_clin, val_ds_clin, test_ds_clin = clin_retriever.load_clinscores_data(\n",
    "            combine_all=False,\n",
    "            test_proportion=0.15, \n",
    "            validation_proportion=0.15,\n",
    "            seed=3407,\n",
    "            cross_validate=True,\n",
    "            cv_split=split,\n",
    "            cv_test_fold_smooth=1,\n",
    "            \n",
    "        )\n",
    "        test_datasets.append(test_ds_clin)\n",
    "        print(\"size: \", len(test_ds_clin))\n",
    "\n",
    "\n",
    "        for ens in range(10):\n",
    "            model_name = model_base_name + f\"split{split}_ens{ens}/\"\n",
    "            model_path = models_folder + model_name\n",
    "\n",
    "            # with open(model_path + \"best_ckpt.txt\") as f:\n",
    "            #     lines = f.readlines()\n",
    "            #     args_lines = [l[:-1].split(\": \") for l in lines[1:]]\n",
    "            #     args_lines = [f'--{l[0]} {l[1]}' for l in args_lines]\n",
    "            #     args_line = \" \".join(args_lines)\n",
    "            #     parser = construct_parser()\n",
    "            #     args = parser.parse_args(shlex.split(args_line))\n",
    "\n",
    "            # load the model\n",
    "            model = load_best_checkpoint(model_raw, loss, model_path)\n",
    "            model.eval()\n",
    "\n",
    "\n",
    "            dataskip = dataset_stride\n",
    "            # means = []\n",
    "            # samples = []\n",
    "            for i, data in enumerate(tqdm(test_ds_clin, position=0, leave=True)):\n",
    "                if i % dataskip == 0:\n",
    "                    x = data[0]\n",
    "                    with torch.no_grad():\n",
    "                        mean, sample = model.mean_and_sample(x.swapaxes(0,1).cuda(), num_samples=num_samples // 10, temperature=temp, symmetric=False)\n",
    "\n",
    "                        model_outs[i]['means'].append(mean.cpu())\n",
    "                        model_outs[i]['samples'].append(sample.cpu())\n",
    "\n",
    "        for idx in tqdm(model_outs.keys(), position=0, leave=True):\n",
    "            means.append(torch.stack(model_outs[idx]['means'], dim=0).mean(dim=0))\n",
    "            samples.append(torch.cat(model_outs[idx]['samples'], dim=0))\n",
    "\n",
    "    return means, samples, ConcatDataset(test_datasets)"
   ]
  },
  {
   "cell_type": "code",
   "execution_count": 9,
   "id": "bd45e6b9-9ad2-4c56-9282-9fee523fdacf",
   "metadata": {
    "tags": []
   },
   "outputs": [],
   "source": [
    "def generate_means_and_samples_SSN_Ens_Mean(splits=6, dataset_stride=2, temp=1, num_samples=10, components=10, use_updated_scores=False):\n",
    "    # load data\n",
    "    print(\"loading\")\n",
    "    clin_retriever = ClinScoreDataRetriever(use_updated_scores=use_updated_scores)\n",
    "    print(\"loaded\")\n",
    "    \n",
    "    test_datasets = []\n",
    "\n",
    "    # load model\n",
    "    class TestArgs():\n",
    "        def __init__(self, ):\n",
    "            args_dict = {\n",
    "                \"dropout_p\":0,\n",
    "                \"ssn_pre_head_layers\":32,\n",
    "                \"ssn_rank\":15,\n",
    "                \"ssn_epsilon\":1e-5,\n",
    "                \"dice_empty_slice_weight\":0.5,\n",
    "                \"ssn_mc_samples\":10,\n",
    "                \"dice_factor\":5,\n",
    "                \"xent_factor\":0.01,\n",
    "                \"ssn_sample_dice_coeff\":0.05\n",
    "            }\n",
    "\n",
    "            for key, value in args_dict.items():\n",
    "                setattr(self, key, value)\n",
    "\n",
    "    args = TestArgs()\n",
    "\n",
    "    model_raw, loss = load_ssn(args)\n",
    "    model_raw = model_raw.cuda()\n",
    "    model_raw.return_cpu_dist = True\n",
    "\n",
    "    models_folder = \"/home/s2208943/ipdis/results/cross_validated_models/\"\n",
    "    #model_names = os.listdir(models_folder)\n",
    "\n",
    "    model_base_name = \"ssn_cross_validate_32_\"\n",
    "\n",
    "    means = []\n",
    "    samples = []\n",
    "\n",
    "    for split in range(splits):\n",
    "        # load specific data split\n",
    "        train_ds_clin, val_ds_clin, test_ds_clin = clin_retriever.load_clinscores_data(\n",
    "            combine_all=False,\n",
    "            test_proportion=0.15, \n",
    "            validation_proportion=0.12,\n",
    "            seed=3407,\n",
    "            cross_validate=True,\n",
    "            cv_split=split,\n",
    "            cv_test_fold_smooth=1,\n",
    "        )\n",
    "        test_datasets.append(test_ds_clin)\n",
    "        # print(\"size: \", len(test_ds_clin))\n",
    "\n",
    "        dataskip = dataset_stride\n",
    "\n",
    "        for i, data in enumerate(tqdm(test_ds_clin, position=0, leave=True)):\n",
    "            if i % dataskip == 0:\n",
    "                x = data[0].swapaxes(0,1).cuda()\n",
    "                distribution_means = []\n",
    "                distribution_cov_diags = []\n",
    "                distribution_cov_factors = []\n",
    "                distribution_event_shapes = []\n",
    "\n",
    "                for ens in range(components):\n",
    "                    # print(ens)\n",
    "                    model_name = model_base_name + f\"split{split}_ens{ens}/\"\n",
    "                    model_path = models_folder + model_name\n",
    "                    model = load_best_checkpoint(model_raw, loss, model_path)\n",
    "                    model.eval()\n",
    "\n",
    "                    with torch.no_grad():\n",
    "                        mean, cov_diag, cov_factor, event_shape = model(x)\n",
    "                    distribution_means.append(mean.cpu())\n",
    "                    distribution_cov_diags.append(cov_diag.cpu())\n",
    "                    distribution_cov_factors.append(cov_factor.cpu())\n",
    "                    distribution_event_shapes.append(event_shape)\n",
    "\n",
    "                # print(distribution_means[0].shape)\n",
    "\n",
    "                distribution_means = torch.stack(distribution_means, dim=0).mean(dim=0)\n",
    "                distribution_cov_diags = torch.stack(distribution_cov_diags, dim=0).mean(dim=0)\n",
    "                distribution_cov_factors = torch.stack(distribution_cov_factors, dim=0).mean(dim=0)\n",
    "\n",
    "                # print(distribution_means.shape)\n",
    "\n",
    "                dist = LowRankMultivariateNormalCustom(distribution_means, distribution_cov_factors, distribution_cov_diags)\n",
    "                dist = ReshapedDistribution(dist, distribution_event_shapes[0])\n",
    "\n",
    "                means.append((dist.mean / temp).cpu())\n",
    "                samples.append((model_raw._samples_from_dist(dist, num_samples=num_samples)/temp).cpu())\n",
    "\n",
    "    return means, samples, ConcatDataset(test_datasets)"
   ]
  },
  {
   "cell_type": "code",
   "execution_count": 10,
   "id": "4731c404-dce9-46b9-a4c5-f93f90d6a230",
   "metadata": {},
   "outputs": [],
   "source": [
    "import matplotlib.pyplot as plt\n",
    "from trustworthai.utils.uncertainty_maps.entropy_map import entropy_map_from_samples\n",
    "from trustworthai.utils.plotting.saving_plots import save, imsave\n",
    "from trustworthai.utils.print_and_write_func import print_and_write\n",
    "import pandas as pd"
   ]
  },
  {
   "cell_type": "code",
   "execution_count": 11,
   "id": "d84d4b30-19af-4747-9d9b-8359b42f089f",
   "metadata": {},
   "outputs": [],
   "source": [
    "#samples[0].shape"
   ]
  },
  {
   "cell_type": "code",
   "execution_count": 12,
   "id": "f1aa8527-7263-4c05-8505-215f7a7b468d",
   "metadata": {},
   "outputs": [],
   "source": [
    "stride = 1"
   ]
  },
  {
   "cell_type": "code",
   "execution_count": 13,
   "id": "0f879a8e-40da-46d2-a73d-58aad39c2d8b",
   "metadata": {},
   "outputs": [
    {
     "name": "stdout",
     "output_type": "stream",
     "text": [
      "size:  42\n"
     ]
    },
    {
     "name": "stderr",
     "output_type": "stream",
     "text": [
      "100%|█████████████████████████████████████████████████████████████████████████████████████████████████████████████████████████████████████████████████████████| 42/42 [00:06<00:00,  6.26it/s]\n",
      "100%|█████████████████████████████████████████████████████████████████████████████████████████████████████████████████████████████████████████████████████████| 42/42 [00:03<00:00, 11.12it/s]\n",
      "100%|█████████████████████████████████████████████████████████████████████████████████████████████████████████████████████████████████████████████████████████| 42/42 [00:03<00:00, 11.10it/s]\n",
      "100%|█████████████████████████████████████████████████████████████████████████████████████████████████████████████████████████████████████████████████████████| 42/42 [00:03<00:00, 11.11it/s]\n",
      "100%|█████████████████████████████████████████████████████████████████████████████████████████████████████████████████████████████████████████████████████████| 42/42 [00:03<00:00, 11.11it/s]\n",
      "100%|█████████████████████████████████████████████████████████████████████████████████████████████████████████████████████████████████████████████████████████| 42/42 [00:03<00:00, 11.11it/s]\n",
      "100%|█████████████████████████████████████████████████████████████████████████████████████████████████████████████████████████████████████████████████████████| 42/42 [00:03<00:00, 11.10it/s]\n",
      "100%|█████████████████████████████████████████████████████████████████████████████████████████████████████████████████████████████████████████████████████████| 42/42 [00:03<00:00, 11.09it/s]\n",
      "100%|█████████████████████████████████████████████████████████████████████████████████████████████████████████████████████████████████████████████████████████| 42/42 [00:03<00:00, 11.09it/s]\n",
      "100%|█████████████████████████████████████████████████████████████████████████████████████████████████████████████████████████████████████████████████████████| 42/42 [00:03<00:00, 11.10it/s]\n",
      "100%|█████████████████████████████████████████████████████████████████████████████████████████████████████████████████████████████████████████████████████████| 42/42 [00:06<00:00,  6.63it/s]\n"
     ]
    },
    {
     "name": "stdout",
     "output_type": "stream",
     "text": [
      "size:  42\n"
     ]
    },
    {
     "name": "stderr",
     "output_type": "stream",
     "text": [
      "100%|█████████████████████████████████████████████████████████████████████████████████████████████████████████████████████████████████████████████████████████| 42/42 [00:03<00:00, 13.18it/s]\n",
      "100%|█████████████████████████████████████████████████████████████████████████████████████████████████████████████████████████████████████████████████████████| 42/42 [00:03<00:00, 13.08it/s]\n",
      "100%|█████████████████████████████████████████████████████████████████████████████████████████████████████████████████████████████████████████████████████████| 42/42 [00:03<00:00, 12.83it/s]\n",
      "100%|█████████████████████████████████████████████████████████████████████████████████████████████████████████████████████████████████████████████████████████| 42/42 [00:03<00:00, 12.43it/s]\n",
      "100%|█████████████████████████████████████████████████████████████████████████████████████████████████████████████████████████████████████████████████████████| 42/42 [00:03<00:00, 12.56it/s]\n",
      "100%|█████████████████████████████████████████████████████████████████████████████████████████████████████████████████████████████████████████████████████████| 42/42 [00:03<00:00, 12.21it/s]\n",
      "100%|█████████████████████████████████████████████████████████████████████████████████████████████████████████████████████████████████████████████████████████| 42/42 [00:03<00:00, 12.35it/s]\n",
      "100%|█████████████████████████████████████████████████████████████████████████████████████████████████████████████████████████████████████████████████████████| 42/42 [00:03<00:00, 12.25it/s]\n",
      "100%|█████████████████████████████████████████████████████████████████████████████████████████████████████████████████████████████████████████████████████████| 42/42 [00:03<00:00, 12.28it/s]\n",
      "100%|█████████████████████████████████████████████████████████████████████████████████████████████████████████████████████████████████████████████████████████| 42/42 [00:03<00:00, 12.09it/s]\n",
      "100%|█████████████████████████████████████████████████████████████████████████████████████████████████████████████████████████████████████████████████████████| 42/42 [00:05<00:00,  8.34it/s]\n"
     ]
    },
    {
     "name": "stdout",
     "output_type": "stream",
     "text": [
      "size:  42\n"
     ]
    },
    {
     "name": "stderr",
     "output_type": "stream",
     "text": [
      "100%|█████████████████████████████████████████████████████████████████████████████████████████████████████████████████████████████████████████████████████████| 42/42 [00:03<00:00, 13.68it/s]\n",
      "100%|█████████████████████████████████████████████████████████████████████████████████████████████████████████████████████████████████████████████████████████| 42/42 [00:03<00:00, 13.77it/s]\n",
      "100%|█████████████████████████████████████████████████████████████████████████████████████████████████████████████████████████████████████████████████████████| 42/42 [00:03<00:00, 13.53it/s]\n",
      "100%|█████████████████████████████████████████████████████████████████████████████████████████████████████████████████████████████████████████████████████████| 42/42 [00:03<00:00, 13.42it/s]\n",
      "100%|█████████████████████████████████████████████████████████████████████████████████████████████████████████████████████████████████████████████████████████| 42/42 [00:03<00:00, 13.32it/s]\n",
      "100%|█████████████████████████████████████████████████████████████████████████████████████████████████████████████████████████████████████████████████████████| 42/42 [00:03<00:00, 11.59it/s]\n",
      "100%|█████████████████████████████████████████████████████████████████████████████████████████████████████████████████████████████████████████████████████████| 42/42 [00:03<00:00, 12.05it/s]\n",
      "100%|█████████████████████████████████████████████████████████████████████████████████████████████████████████████████████████████████████████████████████████| 42/42 [00:03<00:00, 11.41it/s]\n",
      "100%|█████████████████████████████████████████████████████████████████████████████████████████████████████████████████████████████████████████████████████████| 42/42 [00:03<00:00, 12.05it/s]\n",
      "100%|█████████████████████████████████████████████████████████████████████████████████████████████████████████████████████████████████████████████████████████| 42/42 [00:03<00:00, 12.08it/s]\n",
      "100%|█████████████████████████████████████████████████████████████████████████████████████████████████████████████████████████████████████████████████████████| 42/42 [00:05<00:00,  7.49it/s]\n"
     ]
    },
    {
     "name": "stdout",
     "output_type": "stream",
     "text": [
      "size:  42\n"
     ]
    },
    {
     "name": "stderr",
     "output_type": "stream",
     "text": [
      "100%|█████████████████████████████████████████████████████████████████████████████████████████████████████████████████████████████████████████████████████████| 42/42 [00:03<00:00, 13.81it/s]\n",
      "100%|█████████████████████████████████████████████████████████████████████████████████████████████████████████████████████████████████████████████████████████| 42/42 [00:03<00:00, 13.71it/s]\n",
      "100%|█████████████████████████████████████████████████████████████████████████████████████████████████████████████████████████████████████████████████████████| 42/42 [00:03<00:00, 13.56it/s]\n",
      "100%|█████████████████████████████████████████████████████████████████████████████████████████████████████████████████████████████████████████████████████████| 42/42 [00:03<00:00, 12.08it/s]\n",
      "100%|█████████████████████████████████████████████████████████████████████████████████████████████████████████████████████████████████████████████████████████| 42/42 [00:03<00:00, 12.13it/s]\n",
      "100%|█████████████████████████████████████████████████████████████████████████████████████████████████████████████████████████████████████████████████████████| 42/42 [00:03<00:00, 12.40it/s]\n",
      "100%|█████████████████████████████████████████████████████████████████████████████████████████████████████████████████████████████████████████████████████████| 42/42 [00:03<00:00, 12.49it/s]\n",
      "100%|█████████████████████████████████████████████████████████████████████████████████████████████████████████████████████████████████████████████████████████| 42/42 [00:03<00:00, 12.48it/s]\n",
      "100%|█████████████████████████████████████████████████████████████████████████████████████████████████████████████████████████████████████████████████████████| 42/42 [00:03<00:00, 12.48it/s]\n",
      "100%|█████████████████████████████████████████████████████████████████████████████████████████████████████████████████████████████████████████████████████████| 42/42 [00:03<00:00, 12.52it/s]\n",
      "100%|█████████████████████████████████████████████████████████████████████████████████████████████████████████████████████████████████████████████████████████| 42/42 [00:05<00:00,  7.59it/s]\n"
     ]
    },
    {
     "name": "stdout",
     "output_type": "stream",
     "text": [
      "size:  42\n"
     ]
    },
    {
     "name": "stderr",
     "output_type": "stream",
     "text": [
      "100%|█████████████████████████████████████████████████████████████████████████████████████████████████████████████████████████████████████████████████████████| 42/42 [00:02<00:00, 14.22it/s]\n",
      "100%|█████████████████████████████████████████████████████████████████████████████████████████████████████████████████████████████████████████████████████████| 42/42 [00:02<00:00, 14.22it/s]\n",
      "100%|█████████████████████████████████████████████████████████████████████████████████████████████████████████████████████████████████████████████████████████| 42/42 [00:02<00:00, 14.19it/s]\n",
      "100%|█████████████████████████████████████████████████████████████████████████████████████████████████████████████████████████████████████████████████████████| 42/42 [00:02<00:00, 14.01it/s]\n",
      "100%|█████████████████████████████████████████████████████████████████████████████████████████████████████████████████████████████████████████████████████████| 42/42 [00:03<00:00, 12.96it/s]\n",
      "100%|█████████████████████████████████████████████████████████████████████████████████████████████████████████████████████████████████████████████████████████| 42/42 [00:03<00:00, 12.74it/s]\n",
      "100%|█████████████████████████████████████████████████████████████████████████████████████████████████████████████████████████████████████████████████████████| 42/42 [00:03<00:00, 12.21it/s]\n",
      "100%|█████████████████████████████████████████████████████████████████████████████████████████████████████████████████████████████████████████████████████████| 42/42 [00:03<00:00, 12.41it/s]\n",
      "100%|█████████████████████████████████████████████████████████████████████████████████████████████████████████████████████████████████████████████████████████| 42/42 [00:03<00:00, 12.45it/s]\n",
      "100%|█████████████████████████████████████████████████████████████████████████████████████████████████████████████████████████████████████████████████████████| 42/42 [00:03<00:00, 12.53it/s]\n",
      "100%|█████████████████████████████████████████████████████████████████████████████████████████████████████████████████████████████████████████████████████████| 42/42 [00:06<00:00,  6.98it/s]\n"
     ]
    },
    {
     "name": "stdout",
     "output_type": "stream",
     "text": [
      "size:  40\n"
     ]
    },
    {
     "name": "stderr",
     "output_type": "stream",
     "text": [
      "100%|█████████████████████████████████████████████████████████████████████████████████████████████████████████████████████████████████████████████████████████| 40/40 [00:03<00:00, 12.72it/s]\n",
      "100%|█████████████████████████████████████████████████████████████████████████████████████████████████████████████████████████████████████████████████████████| 40/40 [00:03<00:00, 12.18it/s]\n",
      "100%|█████████████████████████████████████████████████████████████████████████████████████████████████████████████████████████████████████████████████████████| 40/40 [00:03<00:00, 12.15it/s]\n",
      "100%|█████████████████████████████████████████████████████████████████████████████████████████████████████████████████████████████████████████████████████████| 40/40 [00:03<00:00, 11.92it/s]\n",
      "100%|█████████████████████████████████████████████████████████████████████████████████████████████████████████████████████████████████████████████████████████| 40/40 [00:03<00:00, 11.85it/s]\n",
      "100%|█████████████████████████████████████████████████████████████████████████████████████████████████████████████████████████████████████████████████████████| 40/40 [00:03<00:00, 11.88it/s]\n",
      "100%|█████████████████████████████████████████████████████████████████████████████████████████████████████████████████████████████████████████████████████████| 40/40 [00:03<00:00, 11.88it/s]\n",
      "100%|█████████████████████████████████████████████████████████████████████████████████████████████████████████████████████████████████████████████████████████| 40/40 [00:03<00:00, 12.12it/s]\n",
      "100%|█████████████████████████████████████████████████████████████████████████████████████████████████████████████████████████████████████████████████████████| 40/40 [00:03<00:00, 12.04it/s]\n",
      "100%|█████████████████████████████████████████████████████████████████████████████████████████████████████████████████████████████████████████████████████████| 40/40 [00:03<00:00, 12.12it/s]\n",
      "100%|█████████████████████████████████████████████████████████████████████████████████████████████████████████████████████████████████████████████████████████| 40/40 [00:04<00:00,  8.82it/s]\n"
     ]
    }
   ],
   "source": [
    "means, samples, test_datasets = generate_means_and_samples_SSN_Ens_Efficient(splits=6, dataset_stride=stride, temp=1, num_samples=10, use_updated_scores=False)"
   ]
  },
  {
   "cell_type": "code",
   "execution_count": 14,
   "id": "fd26c099-11c4-46d1-94f7-c8a2eb68e8bc",
   "metadata": {},
   "outputs": [
    {
     "data": {
      "text/plain": [
       "(250, 250)"
      ]
     },
     "execution_count": 14,
     "metadata": {},
     "output_type": "execute_result"
    }
   ],
   "source": [
    "len(means), len(samples)"
   ]
  },
  {
   "cell_type": "code",
   "execution_count": 15,
   "id": "ff10b600-671d-4b56-8b7e-1266b4b64281",
   "metadata": {},
   "outputs": [],
   "source": [
    "# softmax entropy\n",
    "# ent_maps = [entropy_map_from_mean(means[scan_index], do_normalize=True) for scan_index in range(len(means))]\n",
    "\n",
    "# evidential\n",
    "# ent_maps = [entropy_map_from_mean(means[scan_index], do_normalize=False) for scan_index in range(len(means))]\n",
    "\n",
    "# other methods\n",
    "ent_maps = [entropy_map_from_samples(samples[scan_index]) for scan_index in range(len(means))]"
   ]
  },
  {
   "cell_type": "code",
   "execution_count": 17,
   "id": "def95313-527b-4a5d-b7a8-3ab661fc3506",
   "metadata": {},
   "outputs": [
    {
     "data": {
      "text/plain": [
       "(250, 3)"
      ]
     },
     "execution_count": 17,
     "metadata": {},
     "output_type": "execute_result"
    }
   ],
   "source": [
    "len(test_datasets), len(test_datasets[0])"
   ]
  },
  {
   "cell_type": "code",
   "execution_count": 18,
   "id": "da4709be-0856-4672-a659-e348b50a109e",
   "metadata": {},
   "outputs": [
    {
     "data": {
      "text/plain": [
       "(-0.5, 159.5, 223.5, -0.5)"
      ]
     },
     "execution_count": 18,
     "metadata": {},
     "output_type": "execute_result"
    },
    {
     "data": {
      "image/png": "[encoded data removed]",
      "text/plain": [
       "<Figure size 640x480 with 3 Axes>"
      ]
     },
     "metadata": {},
     "output_type": "display_data"
    }
   ],
   "source": [
    "scan_id = 0\n",
    "islice = 20\n",
    "plt.subplot(1,3,1)\n",
    "plt.imshow(ent_maps[scan_id][islice]); plt.axis('off')\n",
    "plt.subplot(1,3,2)\n",
    "plt.imshow(means[scan_id][islice].argmax(dim=0)); plt.axis('off')\n",
    "plt.subplot(1,3,3)\n",
    "plt.imshow(test_datasets[scan_id][1][0][islice]); plt.axis('off')"
   ]
  },
  {
   "cell_type": "code",
   "execution_count": 19,
   "id": "61713fea-f13b-46ca-9500-ee23142f982d",
   "metadata": {},
   "outputs": [],
   "source": [
    "def fast_dice(pred, target):\n",
    "    p1 = (pred == 1)\n",
    "    t1 = (target == 1)\n",
    "    intersection = (pred == 1) & (target == 1)\n",
    "    numerator = 2 * intersection.sum()\n",
    "    denominator = p1.sum() + t1.sum()\n",
    "    return (numerator/(denominator + 1e-30)).item()\n"
   ]
  },
  {
   "cell_type": "code",
   "execution_count": 20,
   "id": "b5ac8492-0263-48c4-b5b7-010d9471daa5",
   "metadata": {},
   "outputs": [
    {
     "data": {
      "text/plain": [
       "torch.Size([40, 2, 224, 160])"
      ]
     },
     "execution_count": 20,
     "metadata": {},
     "output_type": "execute_result"
    }
   ],
   "source": [
    "means[0].shape"
   ]
  },
  {
   "cell_type": "code",
   "execution_count": 21,
   "id": "669aebe3-1912-43fa-a997-ee3b90dfd429",
   "metadata": {},
   "outputs": [
    {
     "name": "stderr",
     "output_type": "stream",
     "text": [
      "100%|███████████████████████████████████████████████████████████████████████████████████████████████████████████████████████████████████████████████████████| 250/250 [00:03<00:00, 80.44it/s]\n"
     ]
    }
   ],
   "source": [
    "dices = []\n",
    "for i in tqdm(range(len(means)), position=0, leave=True):\n",
    "    pred = means[i].cuda().argmax(dim=1)\n",
    "    target = test_datasets[i][1][0].cuda()\n",
    "    dices.append(fast_dice(pred, target))"
   ]
  },
  {
   "cell_type": "code",
   "execution_count": 22,
   "id": "13e91abe-cffe-4931-8c84-cefe7a01d304",
   "metadata": {},
   "outputs": [],
   "source": [
    "f_dices = [d for d in dices if d > 0.01]"
   ]
  },
  {
   "cell_type": "code",
   "execution_count": 24,
   "id": "ef2568dc-d630-4059-b84a-6629c3ebe895",
   "metadata": {},
   "outputs": [],
   "source": [
    "#f_dices"
   ]
  },
  {
   "cell_type": "code",
   "execution_count": 25,
   "id": "494f1fc4-1f36-4d1f-899b-c5b425d48ccb",
   "metadata": {},
   "outputs": [
    {
     "data": {
      "text/plain": [
       "tensor(0.6899)"
      ]
     },
     "execution_count": 25,
     "metadata": {},
     "output_type": "execute_result"
    }
   ],
   "source": [
    "torch.Tensor(f_dices).mean()"
   ]
  },
  {
   "cell_type": "code",
   "execution_count": 27,
   "id": "7613af09-0e2e-495a-af8c-8c476b62db9c",
   "metadata": {},
   "outputs": [],
   "source": [
    "IDs = [data[2]['ID'] for data in test_datasets]"
   ]
  },
  {
   "cell_type": "code",
   "execution_count": 29,
   "id": "dacf2579-73fe-418a-af45-e2ca8ea4e5ca",
   "metadata": {},
   "outputs": [],
   "source": [
    "# now compute all the metrics for the mean prediction, dice, avd, lesion f1 score.\n",
    "\n",
    "import SimpleITK as sitk\n",
    "import numpy as np\n",
    "import torch\n",
    "from tqdm import tqdm\n",
    "import scipy\n",
    "\n",
    "def getDSC(testImage, resultImage):    \n",
    "        \"\"\"Compute the Dice Similarity Coefficient.\"\"\"\n",
    "        # testArray   = sitk.GetArrayFromImage(testImage).flatten()\n",
    "        # resultArray = sitk.GetArrayFromImage(resultImage).flatten()\n",
    "        testArray = testImage.reshape(-1).cpu().numpy()\n",
    "        resultArray = resultImage.reshape(-1).cpu().numpy()\n",
    "\n",
    "        # similarity = 1.0 - dissimilarity\n",
    "        return 1.0 - scipy.spatial.distance.dice(testArray, resultArray) \n",
    "\n",
    "def getLesionDetection(testImage, resultImage):    \n",
    "    \"\"\"Lesion detection metrics, both recall and F1.\"\"\"\n",
    "    testImage = sitk.GetImageFromArray(testImage)\n",
    "    resultImage = sitk.GetImageFromArray(resultImage)\n",
    "\n",
    "    # Connected components will give the background label 0, so subtract 1 from all results\n",
    "    ccFilter = sitk.ConnectedComponentImageFilter()    \n",
    "    ccFilter.SetFullyConnected(True)\n",
    "\n",
    "    # Connected components on the test image, to determine the number of true WMH.\n",
    "    # And to get the overlap between detected voxels and true WMH\n",
    "    ccTest = ccFilter.Execute(testImage)    \n",
    "    lResult = sitk.Multiply(ccTest, sitk.Cast(resultImage, sitk.sitkUInt32))\n",
    "\n",
    "    ccTestArray = sitk.GetArrayFromImage(ccTest)\n",
    "    lResultArray = sitk.GetArrayFromImage(lResult)\n",
    "\n",
    "    # recall = (number of detected WMH) / (number of true WMH) \n",
    "    nWMH = len(np.unique(ccTestArray)) - 1\n",
    "    if nWMH == 0:\n",
    "        recall = 1.0\n",
    "    else:\n",
    "        recall = float(len(np.unique(lResultArray)) - 1) / nWMH\n",
    "\n",
    "    # Connected components of results, to determine number of detected lesions\n",
    "    ccResult = ccFilter.Execute(resultImage)\n",
    "    lTest = sitk.Multiply(ccResult, sitk.Cast(testImage, sitk.sitkUInt32))\n",
    "\n",
    "    ccResultArray = sitk.GetArrayFromImage(ccResult)\n",
    "    lTestArray = sitk.GetArrayFromImage(lTest)\n",
    "\n",
    "    # precision = (number of detections that intersect with WMH) / (number of all detections)\n",
    "    nDetections = len(np.unique(ccResultArray)) - 1\n",
    "    if nDetections == 0:\n",
    "        precision = 1.0\n",
    "    else:\n",
    "        precision = float(len(np.unique(lTestArray)) - 1) / nDetections\n",
    "\n",
    "    if precision + recall == 0.0:\n",
    "        f1 = 0.0\n",
    "    else:\n",
    "        f1 = 2.0 * (precision * recall) / (precision + recall)\n",
    "\n",
    "    return recall, f1    \n",
    "\n",
    "\n",
    "def getAVD(testImage, resultImage):   \n",
    "    \"\"\"Volume statistics.\"\"\"\n",
    "    testImage = sitk.GetImageFromArray(testImage)\n",
    "    resultImage = sitk.GetImageFromArray(resultImage)\n",
    "\n",
    "    # Compute statistics of both images\n",
    "    testStatistics   = sitk.StatisticsImageFilter()\n",
    "    resultStatistics = sitk.StatisticsImageFilter()\n",
    "\n",
    "    testStatistics.Execute(testImage)\n",
    "    resultStatistics.Execute(resultImage)\n",
    "\n",
    "    return float(abs(testStatistics.GetSum() - resultStatistics.GetSum())) / float(testStatistics.GetSum()) * 100"
   ]
  },
  {
   "cell_type": "code",
   "execution_count": 39,
   "id": "c8d68268-6655-4428-999c-26b91c9f37fd",
   "metadata": {},
   "outputs": [
    {
     "name": "stderr",
     "output_type": "stream",
     "text": [
      "100%|███████████████████████████████████████████████████████████████████████████████████████████████████████████████████████████████████████████████████████| 250/250 [03:08<00:00,  1.33it/s]\n"
     ]
    }
   ],
   "source": [
    "dices = []\n",
    "avds = []\n",
    "f1s = []\n",
    "recalls = []\n",
    "for i in tqdm(range(len(means)), position=0, leave=True):\n",
    "    pred = means[i].argmax(dim=1)\n",
    "    target = test_datasets[i][1][0].type(torch.int64)\n",
    "    dices.append(getDSC(target, pred))\n",
    "    avds.append(getAVD(target.numpy(), pred.numpy()))\n",
    "    recall, f1 = getLesionDetection(target.numpy(), pred.numpy())\n",
    "    recalls.append(recall)\n",
    "    f1s.append(f1)\n",
    "    # break\n",
    "    "
   ]
  },
  {
   "cell_type": "code",
   "execution_count": 38,
   "id": "8dd0f661-ff7e-4608-b041-35c44996a657",
   "metadata": {},
   "outputs": [
    {
     "data": {
      "text/plain": [
       "([0.8111334429624216],\n",
       " [13.568752128988304],\n",
       " [0.5948275862068966],\n",
       " [0.5897435897435898])"
      ]
     },
     "execution_count": 38,
     "metadata": {},
     "output_type": "execute_result"
    }
   ],
   "source": [
    "dices, avds, f1s, recalls"
   ]
  },
  {
   "cell_type": "code",
   "execution_count": 106,
   "id": "32481833-a9bc-440d-9529-3dbb6def0144",
   "metadata": {},
   "outputs": [
    {
     "data": {
      "text/plain": [
       "[0.8111334429624216,\n",
       " 0.7953182573513474,\n",
       " 0.7766050530460462,\n",
       " 0.6802238805970149,\n",
       " 0.8791091075453592]"
      ]
     },
     "execution_count": 106,
     "metadata": {},
     "output_type": "execute_result"
    }
   ],
   "source": [
    "dices[0:5]"
   ]
  },
  {
   "cell_type": "code",
   "execution_count": null,
   "id": "83e5a216-453e-458b-a6ce-46ab775425d9",
   "metadata": {},
   "outputs": [
    {
     "name": "stderr",
     "output_type": "stream",
     "text": [
      " 48%|████████████████████████████████████████████████████████████████████████▍                                                                              | 120/250 [09:46<12:00,  5.54s/it]"
     ]
    }
   ],
   "source": [
    "### recording the sample diversity of volumes. (I can get range, IQR, coefficient of variation, skewness)\n",
    "results = []\n",
    "for i, s in tqdm(enumerate(samples), position=0, leave=True, total=len(samples)):\n",
    "    s_pred = s.cuda().argmax(dim=2)\n",
    "    slices = s.shape[1]\n",
    "    num_samples = s.shape[0]\n",
    "    s_pred = s.argmax(dim=2)\n",
    "    slice_vols = s_pred.sum(dim=(-2, -1))\n",
    "    sorted_slice_vols = torch.sort(slice_vols, dim=0)[1]\n",
    "    sorted_samples = torch.zeros(s_pred.shape)\n",
    "    for j in range(num_samples):\n",
    "        sorted_samples[j] = s_pred[sorted_slice_vols[j], torch.arange(0, slices, 1)]\n",
    "    sorted_sample_volumes = sorted_samples.sum(dim=(-3, -2, -1)).cpu()\n",
    "    \n",
    "    assert torch.equal(sorted_sample_volumes, torch.sort(sorted_sample_volumes)[0])\n",
    "    \n",
    "    mean_vol = means[i].cuda().argmax(dim=1).sum(dim=(-3, -2, -1)).item()\n",
    "    \n",
    "    ss_vds = ((sorted_sample_volumes - mean_vol).abs() / mean_vol) * 100\n",
    "    \n",
    "    results.append([\n",
    "        sorted_sample_volumes.std().item(),\n",
    "        scipy.stats.iqr(sorted_sample_volumes),\n",
    "        scipy.stats.skew(sorted_sample_volumes),\n",
    "        \n",
    "        ss_vds.std().item(),\n",
    "        scipy.stats.iqr(ss_vds),\n",
    "        scipy.stats.skew(ss_vds),\n",
    "        \n",
    "    ])\n",
    "    \n",
    "    # break"
   ]
  },
  {
   "cell_type": "code",
   "execution_count": 113,
   "id": "a4765f09-0fef-4744-99bf-ddd2ce627184",
   "metadata": {},
   "outputs": [],
   "source": [
    "import pandas as pd\n",
    "df = {\n",
    "    \"ID\":IDs,\n",
    "    \"dice\":dices,\n",
    "    \"f1\":f1s,\n",
    "    \"avd\":avds,\n",
    "    \"recall\":recall,\n",
    "    \"sample_div_std\":[r[0] for r in results],\n",
    "    \"sample_div_IQR\":[r[1] for r in results],\n",
    "    \"sample_div_skew\":[r[2] for r in results],\n",
    "    \"sample_div_vd_std\":[r[3] for r in results],\n",
    "    \"sample_div_vd_IQR\":[r[4] for r in results],\n",
    "    \"sample_div_vd_skew\":[r[5] for r in results],\n",
    "}\n",
    "\n",
    "df = pd.DataFrame(df)\n",
    "df.to_csv(\"umap_data_spreadsheets/CVD/sample_div_data_SSN_Ens.csv\")"
   ]
  },
  {
   "cell_type": "code",
   "execution_count": 110,
   "id": "da401cf3-a4da-4bcc-96c2-22505235dafa",
   "metadata": {},
   "outputs": [
    {
     "name": "stdout",
     "output_type": "stream",
     "text": [
      "[3069.76953125, 2830.75, 1.117674348899619, 29.423723220825195, 25.118234515190125, 1.7172935777798228]\n"
     ]
    }
   ],
   "source": [
    "print(results[0])"
   ]
  },
  {
   "cell_type": "code",
   "execution_count": 55,
   "id": "4a4c63ef-2249-49b8-b39b-568fab944c91",
   "metadata": {},
   "outputs": [],
   "source": [
    "s = samples[0]\n",
    "slices = s.shape[1]\n",
    "s_pred = s.argmax(dim=2)\n",
    "slice_vols = s_pred.sum(dim=(-2, -1))"
   ]
  },
  {
   "cell_type": "code",
   "execution_count": 48,
   "id": "e1192b42-bd6c-4ef8-8945-f38520ad5af4",
   "metadata": {},
   "outputs": [
    {
     "data": {
      "text/plain": [
       "torch.Size([10, 40])"
      ]
     },
     "execution_count": 48,
     "metadata": {},
     "output_type": "execute_result"
    }
   ],
   "source": [
    "slice_vols.shape"
   ]
  },
  {
   "cell_type": "code",
   "execution_count": 49,
   "id": "f95a6dde-851c-4cb3-807e-60ec6e5f024a",
   "metadata": {},
   "outputs": [],
   "source": [
    "sorted = torch.sort(slice_vols, dim=0)[1]"
   ]
  },
  {
   "cell_type": "code",
   "execution_count": 50,
   "id": "f60b9cb7-ae7e-482b-a93c-a9e4456383dd",
   "metadata": {},
   "outputs": [
    {
     "data": {
      "text/plain": [
       "torch.Size([10, 40])"
      ]
     },
     "execution_count": 50,
     "metadata": {},
     "output_type": "execute_result"
    }
   ],
   "source": [
    "sorted.shape"
   ]
  },
  {
   "cell_type": "code",
   "execution_count": 52,
   "id": "fa9c28a5-be7a-4076-bd5d-65cfb66ce607",
   "metadata": {},
   "outputs": [],
   "source": [
    "sorted_samples = torch.zeros(s_pred.shape)"
   ]
  },
  {
   "cell_type": "code",
   "execution_count": 56,
   "id": "19d97bbc-bec4-4844-a679-f226b7fe4123",
   "metadata": {},
   "outputs": [],
   "source": [
    "for j in range(10):\n",
    "    sorted_samples[j] = s_pred[sorted[j], torch.arange(0, slices, 1)]"
   ]
  },
  {
   "cell_type": "code",
   "execution_count": 77,
   "id": "fb3b7449-443e-474f-b77c-8a097f196f88",
   "metadata": {},
   "outputs": [
    {
     "data": {
      "text/plain": [
       "tensor([ 4746.,  5758.,  6448.,  7015.,  7474.,  8153.,  8831.,  9617., 11015.,\n",
       "        15425.])"
      ]
     },
     "execution_count": 77,
     "metadata": {},
     "output_type": "execute_result"
    }
   ],
   "source": [
    "ss_vols = sorted_samples.sum(dim=(1,2,3))\n",
    "ss_vols"
   ]
  },
  {
   "cell_type": "code",
   "execution_count": 78,
   "id": "f1c8a738-6dc5-4c0c-ab39-53a6889bb3b9",
   "metadata": {},
   "outputs": [
    {
     "data": {
      "text/plain": [
       "7612"
      ]
     },
     "execution_count": 78,
     "metadata": {},
     "output_type": "execute_result"
    }
   ],
   "source": [
    "mean_vol = means[0].argmax(dim=1).sum().item()#shape\n",
    "mean_vol"
   ]
  },
  {
   "cell_type": "code",
   "execution_count": 79,
   "id": "b386d1b8-9ab1-4287-9035-4b6cc6fdb6d7",
   "metadata": {},
   "outputs": [
    {
     "data": {
      "text/plain": [
       "-37.65107724645297"
      ]
     },
     "execution_count": 79,
     "metadata": {},
     "output_type": "execute_result"
    }
   ],
   "source": [
    "((4746 - 7612) / 7612) * 100"
   ]
  },
  {
   "cell_type": "code",
   "execution_count": 81,
   "id": "e3e0f281-8a04-4f51-84a3-84707c76c85e",
   "metadata": {},
   "outputs": [],
   "source": [
    "scaled_vols = ((ss_vols - mean_vol).abs() / mean_vol) * 100"
   ]
  },
  {
   "cell_type": "code",
   "execution_count": 86,
   "id": "a0b40868-c477-4dd2-9161-b3a4e0bd4d42",
   "metadata": {},
   "outputs": [
    {
     "data": {
      "text/plain": [
       "tensor([ 37.6511,  24.3563,  15.2916,   7.8429,   1.8129,   7.1072,  16.0142,\n",
       "         26.3400,  44.7057, 102.6406])"
      ]
     },
     "execution_count": 86,
     "metadata": {},
     "output_type": "execute_result"
    }
   ],
   "source": [
    "scaled_vols"
   ]
  },
  {
   "cell_type": "code",
   "execution_count": 90,
   "id": "031034b4-1f84-4b8b-a69e-8f5e066b3eb2",
   "metadata": {},
   "outputs": [
    {
     "data": {
      "text/plain": [
       "(25.118234515190125, 29.423723220825195, 1.7172935777798228)"
      ]
     },
     "execution_count": 90,
     "metadata": {},
     "output_type": "execute_result"
    }
   ],
   "source": [
    "scipy.stats.iqr(scaled_vols), scaled_vols.std().item(), scipy.stats.skew(scaled_vols)"
   ]
  },
  {
   "cell_type": "code",
   "execution_count": 91,
   "id": "85e63fc6-687a-4b71-ad1a-a28b9246d1df",
   "metadata": {},
   "outputs": [
    {
     "data": {
      "text/plain": [
       "(2830.75, 3069.76953125, 1.117674348899619)"
      ]
     },
     "execution_count": 91,
     "metadata": {},
     "output_type": "execute_result"
    }
   ],
   "source": [
    "scipy.stats.iqr(ss_vols), ss_vols.std().item(), scipy.stats.skew(ss_vols)"
   ]
  },
  {
   "cell_type": "code",
   "execution_count": null,
   "id": "203b9a51-9f7f-40c5-8942-68f2d6d00724",
   "metadata": {},
   "outputs": [],
   "source": []
  },
  {
   "cell_type": "code",
   "execution_count": null,
   "id": "4921b010-e6c3-43ac-a910-e0706c0926bd",
   "metadata": {},
   "outputs": [],
   "source": []
  },
  {
   "cell_type": "code",
   "execution_count": null,
   "id": "d0c6952a-4414-4670-b520-769ee2727a81",
   "metadata": {},
   "outputs": [],
   "source": []
  },
  {
   "cell_type": "code",
   "execution_count": null,
   "id": "eb1a30f6-d4fb-4760-b948-71b3a7339f3f",
   "metadata": {},
   "outputs": [],
   "source": []
  },
  {
   "cell_type": "code",
   "execution_count": null,
   "id": "f56b85d8-4807-49af-b509-3d0009096c30",
   "metadata": {},
   "outputs": [],
   "source": []
  },
  {
   "cell_type": "code",
   "execution_count": 59,
   "id": "9d1e22ab-2463-41e6-a049-2fe077a63aba",
   "metadata": {},
   "outputs": [
    {
     "data": {
      "text/plain": [
       "tensor([7859, 8514, 8859, 7961, 9671, 7997, 8344, 8254, 8532, 8491])"
      ]
     },
     "execution_count": 59,
     "metadata": {},
     "output_type": "execute_result"
    }
   ],
   "source": [
    "s_pred.sum(dim=(1,2,3))"
   ]
  },
  {
   "cell_type": "code",
   "execution_count": null,
   "id": "8c67f77e-4281-4e20-970c-a9ad36918a22",
   "metadata": {},
   "outputs": [],
   "source": [
    "# I will collect: standard deviation and IQR of true range, and standard deviation and IQR of VD from mean range. Nice."
   ]
  },
  {
   "cell_type": "code",
   "execution_count": 23,
   "id": "e562d62c-6536-45af-b9a0-3b34b4ea2366",
   "metadata": {},
   "outputs": [],
   "source": [
    "xs3d_test = []\n",
    "ys3d_test = []\n",
    "IDs = []\n",
    "clin_values = []\n",
    "\n",
    "for i, data in enumerate(test_datasets):\n",
    "    if i % stride == 0:\n",
    "        ys3d_test.append(data[1].squeeze())\n",
    "        xs3d_test.append(data[0])\n",
    "        IDs.append(data[-1]['ID'])\n",
    "        clin_values.append(data[-1])"
   ]
  },
  {
   "cell_type": "code",
   "execution_count": 24,
   "id": "0e477fff-3c75-4c65-a048-2c6d5c6b893a",
   "metadata": {},
   "outputs": [],
   "source": [
    "clin_values = pd.DataFrame.from_records(clin_values)"
   ]
  },
  {
   "cell_type": "code",
   "execution_count": 25,
   "id": "b4ff3bc8-ef67-4ef5-8275-f83d4f0c5b1f",
   "metadata": {},
   "outputs": [
    {
     "data": {
      "text/html": [
       "<div>\n",
       "<style scoped>\n",
       "    .dataframe tbody tr th:only-of-type {\n",
       "        vertical-align: middle;\n",
       "    }\n",
       "\n",
       "    .dataframe tbody tr th {\n",
       "        vertical-align: top;\n",
       "    }\n",
       "\n",
       "    .dataframe thead th {\n",
       "        text-align: right;\n",
       "    }\n",
       "</style>\n",
       "<table border=\"1\" class=\"dataframe\">\n",
       "  <thead>\n",
       "    <tr style=\"text-align: right;\">\n",
       "      <th></th>\n",
       "      <th>Unnamed: 0</th>\n",
       "      <th>ID</th>\n",
       "      <th>sbjGroup</th>\n",
       "      <th>age</th>\n",
       "      <th>sex</th>\n",
       "      <th>diabetes</th>\n",
       "      <th>hypertension</th>\n",
       "      <th>hyperlipidaemia</th>\n",
       "      <th>smoking</th>\n",
       "      <th>SBP</th>\n",
       "      <th>...</th>\n",
       "      <th>WMH</th>\n",
       "      <th>PVWMH</th>\n",
       "      <th>DWMH</th>\n",
       "      <th>deepAtrophy</th>\n",
       "      <th>supAtrophy</th>\n",
       "      <th>BGPVS</th>\n",
       "      <th>CSPVS</th>\n",
       "      <th>relLes</th>\n",
       "      <th>oldLes</th>\n",
       "      <th>micrBld</th>\n",
       "    </tr>\n",
       "  </thead>\n",
       "  <tbody>\n",
       "    <tr>\n",
       "      <th>0</th>\n",
       "      <td>107</td>\n",
       "      <td>CVD152</td>\n",
       "      <td>1</td>\n",
       "      <td>81.0</td>\n",
       "      <td>1</td>\n",
       "      <td>0</td>\n",
       "      <td>1</td>\n",
       "      <td>1.0</td>\n",
       "      <td>1.0</td>\n",
       "      <td>170.0</td>\n",
       "      <td>...</td>\n",
       "      <td>27.970046</td>\n",
       "      <td>2.0</td>\n",
       "      <td>1.0</td>\n",
       "      <td>6.0</td>\n",
       "      <td>2.0</td>\n",
       "      <td>3.0</td>\n",
       "      <td>2.0</td>\n",
       "      <td>1.0</td>\n",
       "      <td>0.0</td>\n",
       "      <td>1.0</td>\n",
       "    </tr>\n",
       "    <tr>\n",
       "      <th>1</th>\n",
       "      <td>16</td>\n",
       "      <td>CVD023</td>\n",
       "      <td>1</td>\n",
       "      <td>74.0</td>\n",
       "      <td>1</td>\n",
       "      <td>1</td>\n",
       "      <td>1</td>\n",
       "      <td>0.0</td>\n",
       "      <td>1.0</td>\n",
       "      <td>123.0</td>\n",
       "      <td>...</td>\n",
       "      <td>22.021616</td>\n",
       "      <td>3.0</td>\n",
       "      <td>2.0</td>\n",
       "      <td>4.0</td>\n",
       "      <td>4.0</td>\n",
       "      <td>3.0</td>\n",
       "      <td>2.0</td>\n",
       "      <td>1.0</td>\n",
       "      <td>1.0</td>\n",
       "      <td>0.0</td>\n",
       "    </tr>\n",
       "    <tr>\n",
       "      <th>2</th>\n",
       "      <td>4</td>\n",
       "      <td>CVD008</td>\n",
       "      <td>1</td>\n",
       "      <td>50.0</td>\n",
       "      <td>2</td>\n",
       "      <td>0</td>\n",
       "      <td>1</td>\n",
       "      <td>0.0</td>\n",
       "      <td>2.0</td>\n",
       "      <td>196.0</td>\n",
       "      <td>...</td>\n",
       "      <td>56.672922</td>\n",
       "      <td>2.0</td>\n",
       "      <td>3.0</td>\n",
       "      <td>0.0</td>\n",
       "      <td>0.0</td>\n",
       "      <td>2.0</td>\n",
       "      <td>2.0</td>\n",
       "      <td>1.0</td>\n",
       "      <td>1.0</td>\n",
       "      <td>1.0</td>\n",
       "    </tr>\n",
       "    <tr>\n",
       "      <th>3</th>\n",
       "      <td>100</td>\n",
       "      <td>CVD141</td>\n",
       "      <td>1</td>\n",
       "      <td>83.0</td>\n",
       "      <td>1</td>\n",
       "      <td>0</td>\n",
       "      <td>1</td>\n",
       "      <td>1.0</td>\n",
       "      <td>0.0</td>\n",
       "      <td>128.0</td>\n",
       "      <td>...</td>\n",
       "      <td>9.200202</td>\n",
       "      <td>1.0</td>\n",
       "      <td>1.0</td>\n",
       "      <td>4.0</td>\n",
       "      <td>2.0</td>\n",
       "      <td>1.0</td>\n",
       "      <td>0.0</td>\n",
       "      <td>1.0</td>\n",
       "      <td>0.0</td>\n",
       "      <td>0.0</td>\n",
       "    </tr>\n",
       "    <tr>\n",
       "      <th>4</th>\n",
       "      <td>31</td>\n",
       "      <td>CVD041</td>\n",
       "      <td>1</td>\n",
       "      <td>77.0</td>\n",
       "      <td>1</td>\n",
       "      <td>1</td>\n",
       "      <td>1</td>\n",
       "      <td>0.0</td>\n",
       "      <td>0.0</td>\n",
       "      <td>137.0</td>\n",
       "      <td>...</td>\n",
       "      <td>71.247656</td>\n",
       "      <td>3.0</td>\n",
       "      <td>3.0</td>\n",
       "      <td>6.0</td>\n",
       "      <td>2.0</td>\n",
       "      <td>1.0</td>\n",
       "      <td>1.0</td>\n",
       "      <td>0.0</td>\n",
       "      <td>0.0</td>\n",
       "      <td>0.0</td>\n",
       "    </tr>\n",
       "    <tr>\n",
       "      <th>...</th>\n",
       "      <td>...</td>\n",
       "      <td>...</td>\n",
       "      <td>...</td>\n",
       "      <td>...</td>\n",
       "      <td>...</td>\n",
       "      <td>...</td>\n",
       "      <td>...</td>\n",
       "      <td>...</td>\n",
       "      <td>...</td>\n",
       "      <td>...</td>\n",
       "      <td>...</td>\n",
       "      <td>...</td>\n",
       "      <td>...</td>\n",
       "      <td>...</td>\n",
       "      <td>...</td>\n",
       "      <td>...</td>\n",
       "      <td>...</td>\n",
       "      <td>...</td>\n",
       "      <td>...</td>\n",
       "      <td>...</td>\n",
       "      <td>...</td>\n",
       "    </tr>\n",
       "    <tr>\n",
       "      <th>245</th>\n",
       "      <td>213</td>\n",
       "      <td>CVD289</td>\n",
       "      <td>1</td>\n",
       "      <td>81.0</td>\n",
       "      <td>2</td>\n",
       "      <td>1</td>\n",
       "      <td>1</td>\n",
       "      <td>1.0</td>\n",
       "      <td>0.0</td>\n",
       "      <td>158.0</td>\n",
       "      <td>...</td>\n",
       "      <td>4.682812</td>\n",
       "      <td>2.0</td>\n",
       "      <td>2.0</td>\n",
       "      <td>4.0</td>\n",
       "      <td>2.0</td>\n",
       "      <td>2.0</td>\n",
       "      <td>2.0</td>\n",
       "      <td>0.0</td>\n",
       "      <td>0.0</td>\n",
       "      <td>0.0</td>\n",
       "    </tr>\n",
       "    <tr>\n",
       "      <th>246</th>\n",
       "      <td>242</td>\n",
       "      <td>CVD318</td>\n",
       "      <td>1</td>\n",
       "      <td>72.0</td>\n",
       "      <td>1</td>\n",
       "      <td>0</td>\n",
       "      <td>1</td>\n",
       "      <td>0.0</td>\n",
       "      <td>2.0</td>\n",
       "      <td>138.0</td>\n",
       "      <td>...</td>\n",
       "      <td>27.664453</td>\n",
       "      <td>3.0</td>\n",
       "      <td>2.0</td>\n",
       "      <td>5.0</td>\n",
       "      <td>2.0</td>\n",
       "      <td>2.0</td>\n",
       "      <td>3.0</td>\n",
       "      <td>1.0</td>\n",
       "      <td>1.0</td>\n",
       "      <td>1.0</td>\n",
       "    </tr>\n",
       "    <tr>\n",
       "      <th>247</th>\n",
       "      <td>226</td>\n",
       "      <td>CVD302</td>\n",
       "      <td>1</td>\n",
       "      <td>55.0</td>\n",
       "      <td>1</td>\n",
       "      <td>0</td>\n",
       "      <td>1</td>\n",
       "      <td>0.0</td>\n",
       "      <td>2.0</td>\n",
       "      <td>150.0</td>\n",
       "      <td>...</td>\n",
       "      <td>1.518750</td>\n",
       "      <td>1.0</td>\n",
       "      <td>1.0</td>\n",
       "      <td>1.0</td>\n",
       "      <td>1.0</td>\n",
       "      <td>2.0</td>\n",
       "      <td>2.0</td>\n",
       "      <td>1.0</td>\n",
       "      <td>1.0</td>\n",
       "      <td>0.0</td>\n",
       "    </tr>\n",
       "    <tr>\n",
       "      <th>248</th>\n",
       "      <td>203</td>\n",
       "      <td>CVD279</td>\n",
       "      <td>1</td>\n",
       "      <td>63.0</td>\n",
       "      <td>1</td>\n",
       "      <td>1</td>\n",
       "      <td>1</td>\n",
       "      <td>0.0</td>\n",
       "      <td>1.0</td>\n",
       "      <td>146.0</td>\n",
       "      <td>...</td>\n",
       "      <td>1.817578</td>\n",
       "      <td>1.0</td>\n",
       "      <td>1.0</td>\n",
       "      <td>1.0</td>\n",
       "      <td>1.0</td>\n",
       "      <td>1.0</td>\n",
       "      <td>2.0</td>\n",
       "      <td>0.0</td>\n",
       "      <td>0.0</td>\n",
       "      <td>0.0</td>\n",
       "    </tr>\n",
       "    <tr>\n",
       "      <th>249</th>\n",
       "      <td>73</td>\n",
       "      <td>CVD103</td>\n",
       "      <td>1</td>\n",
       "      <td>69.0</td>\n",
       "      <td>2</td>\n",
       "      <td>0</td>\n",
       "      <td>1</td>\n",
       "      <td>0.0</td>\n",
       "      <td>1.0</td>\n",
       "      <td>120.0</td>\n",
       "      <td>...</td>\n",
       "      <td>65.032031</td>\n",
       "      <td>3.0</td>\n",
       "      <td>3.0</td>\n",
       "      <td>1.0</td>\n",
       "      <td>2.0</td>\n",
       "      <td>3.0</td>\n",
       "      <td>4.0</td>\n",
       "      <td>1.0</td>\n",
       "      <td>1.0</td>\n",
       "      <td>0.0</td>\n",
       "    </tr>\n",
       "  </tbody>\n",
       "</table>\n",
       "<p>250 rows × 24 columns</p>\n",
       "</div>"
      ],
      "text/plain": [
       "     Unnamed: 0      ID  sbjGroup   age  sex  diabetes  hypertension  \\\n",
       "0           107  CVD152         1  81.0    1         0             1   \n",
       "1            16  CVD023         1  74.0    1         1             1   \n",
       "2             4  CVD008         1  50.0    2         0             1   \n",
       "3           100  CVD141         1  83.0    1         0             1   \n",
       "4            31  CVD041         1  77.0    1         1             1   \n",
       "..          ...     ...       ...   ...  ...       ...           ...   \n",
       "245         213  CVD289         1  81.0    2         1             1   \n",
       "246         242  CVD318         1  72.0    1         0             1   \n",
       "247         226  CVD302         1  55.0    1         0             1   \n",
       "248         203  CVD279         1  63.0    1         1             1   \n",
       "249          73  CVD103         1  69.0    2         0             1   \n",
       "\n",
       "     hyperlipidaemia  smoking    SBP  ...        WMH PVWMH  DWMH  deepAtrophy  \\\n",
       "0                1.0      1.0  170.0  ...  27.970046   2.0   1.0          6.0   \n",
       "1                0.0      1.0  123.0  ...  22.021616   3.0   2.0          4.0   \n",
       "2                0.0      2.0  196.0  ...  56.672922   2.0   3.0          0.0   \n",
       "3                1.0      0.0  128.0  ...   9.200202   1.0   1.0          4.0   \n",
       "4                0.0      0.0  137.0  ...  71.247656   3.0   3.0          6.0   \n",
       "..               ...      ...    ...  ...        ...   ...   ...          ...   \n",
       "245              1.0      0.0  158.0  ...   4.682812   2.0   2.0          4.0   \n",
       "246              0.0      2.0  138.0  ...  27.664453   3.0   2.0          5.0   \n",
       "247              0.0      2.0  150.0  ...   1.518750   1.0   1.0          1.0   \n",
       "248              0.0      1.0  146.0  ...   1.817578   1.0   1.0          1.0   \n",
       "249              0.0      1.0  120.0  ...  65.032031   3.0   3.0          1.0   \n",
       "\n",
       "     supAtrophy  BGPVS  CSPVS  relLes  oldLes  micrBld  \n",
       "0           2.0    3.0    2.0     1.0     0.0      1.0  \n",
       "1           4.0    3.0    2.0     1.0     1.0      0.0  \n",
       "2           0.0    2.0    2.0     1.0     1.0      1.0  \n",
       "3           2.0    1.0    0.0     1.0     0.0      0.0  \n",
       "4           2.0    1.0    1.0     0.0     0.0      0.0  \n",
       "..          ...    ...    ...     ...     ...      ...  \n",
       "245         2.0    2.0    2.0     0.0     0.0      0.0  \n",
       "246         2.0    2.0    3.0     1.0     1.0      1.0  \n",
       "247         1.0    2.0    2.0     1.0     1.0      0.0  \n",
       "248         1.0    1.0    2.0     0.0     0.0      0.0  \n",
       "249         2.0    3.0    4.0     1.0     1.0      0.0  \n",
       "\n",
       "[250 rows x 24 columns]"
      ]
     },
     "execution_count": 25,
     "metadata": {},
     "output_type": "execute_result"
    }
   ],
   "source": [
    "clin_values"
   ]
  },
  {
   "cell_type": "code",
   "execution_count": 26,
   "id": "e08acffc-1407-4353-8ab1-feced01f6371",
   "metadata": {},
   "outputs": [
    {
     "name": "stdout",
     "output_type": "stream",
     "text": [
      "good, empty folder\n"
     ]
    }
   ],
   "source": [
    "output_dir = \"/home/s2208943/ipdis/data/preprocessed_data/EdData_output_maps/\"\n",
    "model_name = \"SSN_Ens\"\n",
    "\n",
    "if len(os.listdir(output_dir + model_name)) > 0:\n",
    "    raise ValueError(\"directory is not empty\")\n",
    "else:\n",
    "    print(\"good, empty folder\")"
   ]
  },
  {
   "cell_type": "code",
   "execution_count": 27,
   "id": "46bd562a-3c1c-4bd4-ad42-5dde3afdbec7",
   "metadata": {},
   "outputs": [],
   "source": [
    "import numpy as np"
   ]
  },
  {
   "cell_type": "code",
   "execution_count": 28,
   "id": "8da80d93-df78-42d7-83e5-8545f1651585",
   "metadata": {},
   "outputs": [
    {
     "name": "stderr",
     "output_type": "stream",
     "text": [
      "100%|███████████████████████████████████████████████████████████████████████████████████████████████████████████████████████████████████████████████████████| 250/250 [07:31<00:00,  1.81s/it]\n"
     ]
    }
   ],
   "source": [
    "for i in tqdm(range(len(IDs)), position=0, leave=True):\n",
    "    ID = IDs[i]\n",
    "    var = var_maps[i]\n",
    "    ent = ent_maps[i]\n",
    "    pred = torch.nn.functional.softmax(means[i].cuda(), dim=1)[:,1]\n",
    "    seg = (pred > 0.5)\n",
    "    np.savez_compressed(f\"{output_dir}{model_name}/{ID}_out_maps.npz\", var=var, ent=ent, pred=pred.cpu(), seg=seg.cpu())\n",
    "    "
   ]
  },
  {
   "cell_type": "code",
   "execution_count": 29,
   "id": "e3c1ab26-c09e-4179-9512-f3004496f126",
   "metadata": {},
   "outputs": [
    {
     "data": {
      "text/plain": [
       "250"
      ]
     },
     "execution_count": 29,
     "metadata": {},
     "output_type": "execute_result"
    }
   ],
   "source": [
    "len(os.listdir(output_dir + model_name))"
   ]
  },
  {
   "cell_type": "code",
   "execution_count": 30,
   "id": "07209bc6-da46-49f0-8a15-700b78ff89e1",
   "metadata": {},
   "outputs": [],
   "source": [
    "example = np.load(f\"{output_dir}{model_name}/{'CVD152'}_out_maps.npz\")"
   ]
  },
  {
   "cell_type": "code",
   "execution_count": 34,
   "id": "65dbf637-34eb-4fc8-8446-f12311c2598e",
   "metadata": {},
   "outputs": [
    {
     "data": {
      "text/plain": [
       "<matplotlib.image.AxesImage at 0x7ff7c4842a10>"
      ]
     },
     "execution_count": 34,
     "metadata": {},
     "output_type": "execute_result"
    },
    {
     "data": {
      "image/png": "[encoded data removed]",
      "text/plain": [
       "<Figure size 640x480 with 1 Axes>"
      ]
     },
     "metadata": {},
     "output_type": "display_data"
    }
   ],
   "source": [
    "plt.imshow(example['seg'][25])"
   ]
  },
  {
   "cell_type": "code",
   "execution_count": null,
   "id": "6f3b969b-a82d-4b74-99f9-37bf85ecab1d",
   "metadata": {},
   "outputs": [],
   "source": []
  }
 ],
 "metadata": {
  "kernelspec": {
   "display_name": "Python 3 (ipykernel)",
   "language": "python",
   "name": "python3"
  },
  "language_info": {
   "codemirror_mode": {
    "name": "ipython",
    "version": 3
   },
   "file_extension": ".py",
   "mimetype": "text/x-python",
   "name": "python",
   "nbconvert_exporter": "python",
   "pygments_lexer": "ipython3",
   "version": "3.10.8"
  }
 },
 "nbformat": 4,
 "nbformat_minor": 5
}
