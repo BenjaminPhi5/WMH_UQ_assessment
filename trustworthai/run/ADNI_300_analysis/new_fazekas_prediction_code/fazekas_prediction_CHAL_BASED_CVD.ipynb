{
 "cells": [
  {
   "cell_type": "code",
   "execution_count": 1,
   "id": "5ef8f20b-1a4a-49d5-8e4a-66a1a46d903e",
   "metadata": {},
   "outputs": [],
   "source": [
    "import torch\n",
    "import pandas as pd\n",
    "import numpy as np\n",
    "import matplotlib.pyplot as plt"
   ]
  },
  {
   "cell_type": "markdown",
   "id": "376a325b-c7b5-40c5-b9b6-d687e67a018c",
   "metadata": {},
   "source": [
    "### Build the CVD training dataset\n",
    "I need to load the core spreadsheet, and load the extra spreadsheet where required\n",
    "Then I need to match the IDs. THen we have a spreadsheet that we can fit a logistic regression model with"
   ]
  },
  {
   "cell_type": "code",
   "execution_count": 2,
   "id": "40d34b53-d785-424d-a5e1-10ed1ead42bb",
   "metadata": {},
   "outputs": [],
   "source": [
    "CVD_core_df = pd.read_csv(\"umap_data_spreadsheets/CVD/clinscore_data.csv\")"
   ]
  },
  {
   "cell_type": "code",
   "execution_count": 3,
   "id": "01c3566a-3763-4270-a974-f61dcbb2decf",
   "metadata": {},
   "outputs": [
    {
     "data": {
      "text/html": [
       "<div>\n",
       "<style scoped>\n",
       "    .dataframe tbody tr th:only-of-type {\n",
       "        vertical-align: middle;\n",
       "    }\n",
       "\n",
       "    .dataframe tbody tr th {\n",
       "        vertical-align: top;\n",
       "    }\n",
       "\n",
       "    .dataframe thead th {\n",
       "        text-align: right;\n",
       "    }\n",
       "</style>\n",
       "<table border=\"1\" class=\"dataframe\">\n",
       "  <thead>\n",
       "    <tr style=\"text-align: right;\">\n",
       "      <th></th>\n",
       "      <th>Unnamed: 0.1</th>\n",
       "      <th>Unnamed: 0</th>\n",
       "      <th>ID</th>\n",
       "      <th>sbjGroup</th>\n",
       "      <th>age</th>\n",
       "      <th>sex</th>\n",
       "      <th>diabetes</th>\n",
       "      <th>hypertension</th>\n",
       "      <th>hyperlipidaemia</th>\n",
       "      <th>smoking</th>\n",
       "      <th>...</th>\n",
       "      <th>micrBld</th>\n",
       "      <th>smoking_0</th>\n",
       "      <th>smoking_1</th>\n",
       "      <th>smoking_2</th>\n",
       "      <th>total_fazekas</th>\n",
       "      <th>scale_fazekas</th>\n",
       "      <th>scale_pvs</th>\n",
       "      <th>scale_micrbld</th>\n",
       "      <th>stroke_les</th>\n",
       "      <th>scale_stroke</th>\n",
       "    </tr>\n",
       "  </thead>\n",
       "  <tbody>\n",
       "    <tr>\n",
       "      <th>0</th>\n",
       "      <td>146</td>\n",
       "      <td>146</td>\n",
       "      <td>CVD247</td>\n",
       "      <td>1</td>\n",
       "      <td>68.0</td>\n",
       "      <td>2</td>\n",
       "      <td>0</td>\n",
       "      <td>1</td>\n",
       "      <td>1.0</td>\n",
       "      <td>0.0</td>\n",
       "      <td>...</td>\n",
       "      <td>0.0</td>\n",
       "      <td>1.0</td>\n",
       "      <td>0.0</td>\n",
       "      <td>0.0</td>\n",
       "      <td>2.0</td>\n",
       "      <td>0.0</td>\n",
       "      <td>1.0</td>\n",
       "      <td>NaN</td>\n",
       "      <td>1.0</td>\n",
       "      <td>1.0</td>\n",
       "    </tr>\n",
       "    <tr>\n",
       "      <th>1</th>\n",
       "      <td>134</td>\n",
       "      <td>134</td>\n",
       "      <td>CVD219</td>\n",
       "      <td>1</td>\n",
       "      <td>81.0</td>\n",
       "      <td>1</td>\n",
       "      <td>0</td>\n",
       "      <td>0</td>\n",
       "      <td>0.0</td>\n",
       "      <td>0.0</td>\n",
       "      <td>...</td>\n",
       "      <td>0.0</td>\n",
       "      <td>1.0</td>\n",
       "      <td>0.0</td>\n",
       "      <td>0.0</td>\n",
       "      <td>3.0</td>\n",
       "      <td>0.0</td>\n",
       "      <td>1.0</td>\n",
       "      <td>NaN</td>\n",
       "      <td>1.0</td>\n",
       "      <td>0.0</td>\n",
       "    </tr>\n",
       "    <tr>\n",
       "      <th>2</th>\n",
       "      <td>131</td>\n",
       "      <td>131</td>\n",
       "      <td>CVD195</td>\n",
       "      <td>1</td>\n",
       "      <td>71.0</td>\n",
       "      <td>1</td>\n",
       "      <td>0</td>\n",
       "      <td>1</td>\n",
       "      <td>0.0</td>\n",
       "      <td>2.0</td>\n",
       "      <td>...</td>\n",
       "      <td>1.0</td>\n",
       "      <td>0.0</td>\n",
       "      <td>0.0</td>\n",
       "      <td>1.0</td>\n",
       "      <td>6.0</td>\n",
       "      <td>1.0</td>\n",
       "      <td>1.0</td>\n",
       "      <td>NaN</td>\n",
       "      <td>1.0</td>\n",
       "      <td>1.0</td>\n",
       "    </tr>\n",
       "    <tr>\n",
       "      <th>3</th>\n",
       "      <td>121</td>\n",
       "      <td>121</td>\n",
       "      <td>CVD173</td>\n",
       "      <td>1</td>\n",
       "      <td>68.0</td>\n",
       "      <td>1</td>\n",
       "      <td>0</td>\n",
       "      <td>1</td>\n",
       "      <td>0.0</td>\n",
       "      <td>2.0</td>\n",
       "      <td>...</td>\n",
       "      <td>0.0</td>\n",
       "      <td>0.0</td>\n",
       "      <td>0.0</td>\n",
       "      <td>1.0</td>\n",
       "      <td>4.0</td>\n",
       "      <td>1.0</td>\n",
       "      <td>0.0</td>\n",
       "      <td>NaN</td>\n",
       "      <td>1.0</td>\n",
       "      <td>0.0</td>\n",
       "    </tr>\n",
       "    <tr>\n",
       "      <th>4</th>\n",
       "      <td>104</td>\n",
       "      <td>104</td>\n",
       "      <td>CVD128</td>\n",
       "      <td>1</td>\n",
       "      <td>83.0</td>\n",
       "      <td>1</td>\n",
       "      <td>0</td>\n",
       "      <td>0</td>\n",
       "      <td>0.0</td>\n",
       "      <td>1.0</td>\n",
       "      <td>...</td>\n",
       "      <td>0.0</td>\n",
       "      <td>0.0</td>\n",
       "      <td>1.0</td>\n",
       "      <td>0.0</td>\n",
       "      <td>3.0</td>\n",
       "      <td>0.0</td>\n",
       "      <td>0.0</td>\n",
       "      <td>NaN</td>\n",
       "      <td>1.0</td>\n",
       "      <td>0.0</td>\n",
       "    </tr>\n",
       "    <tr>\n",
       "      <th>...</th>\n",
       "      <td>...</td>\n",
       "      <td>...</td>\n",
       "      <td>...</td>\n",
       "      <td>...</td>\n",
       "      <td>...</td>\n",
       "      <td>...</td>\n",
       "      <td>...</td>\n",
       "      <td>...</td>\n",
       "      <td>...</td>\n",
       "      <td>...</td>\n",
       "      <td>...</td>\n",
       "      <td>...</td>\n",
       "      <td>...</td>\n",
       "      <td>...</td>\n",
       "      <td>...</td>\n",
       "      <td>...</td>\n",
       "      <td>...</td>\n",
       "      <td>...</td>\n",
       "      <td>...</td>\n",
       "      <td>...</td>\n",
       "      <td>...</td>\n",
       "    </tr>\n",
       "    <tr>\n",
       "      <th>245</th>\n",
       "      <td>201</td>\n",
       "      <td>201</td>\n",
       "      <td>CVD302</td>\n",
       "      <td>1</td>\n",
       "      <td>55.0</td>\n",
       "      <td>1</td>\n",
       "      <td>0</td>\n",
       "      <td>1</td>\n",
       "      <td>0.0</td>\n",
       "      <td>2.0</td>\n",
       "      <td>...</td>\n",
       "      <td>0.0</td>\n",
       "      <td>0.0</td>\n",
       "      <td>0.0</td>\n",
       "      <td>1.0</td>\n",
       "      <td>2.0</td>\n",
       "      <td>0.0</td>\n",
       "      <td>1.0</td>\n",
       "      <td>NaN</td>\n",
       "      <td>1.0</td>\n",
       "      <td>1.0</td>\n",
       "    </tr>\n",
       "    <tr>\n",
       "      <th>246</th>\n",
       "      <td>138</td>\n",
       "      <td>138</td>\n",
       "      <td>CVD230</td>\n",
       "      <td>1</td>\n",
       "      <td>50.0</td>\n",
       "      <td>1</td>\n",
       "      <td>0</td>\n",
       "      <td>0</td>\n",
       "      <td>1.0</td>\n",
       "      <td>2.0</td>\n",
       "      <td>...</td>\n",
       "      <td>0.0</td>\n",
       "      <td>0.0</td>\n",
       "      <td>0.0</td>\n",
       "      <td>1.0</td>\n",
       "      <td>3.0</td>\n",
       "      <td>0.0</td>\n",
       "      <td>1.0</td>\n",
       "      <td>NaN</td>\n",
       "      <td>1.0</td>\n",
       "      <td>1.0</td>\n",
       "    </tr>\n",
       "    <tr>\n",
       "      <th>247</th>\n",
       "      <td>107</td>\n",
       "      <td>107</td>\n",
       "      <td>CVD132</td>\n",
       "      <td>1</td>\n",
       "      <td>56.0</td>\n",
       "      <td>1</td>\n",
       "      <td>0</td>\n",
       "      <td>0</td>\n",
       "      <td>0.0</td>\n",
       "      <td>2.0</td>\n",
       "      <td>...</td>\n",
       "      <td>0.0</td>\n",
       "      <td>0.0</td>\n",
       "      <td>0.0</td>\n",
       "      <td>1.0</td>\n",
       "      <td>2.0</td>\n",
       "      <td>0.0</td>\n",
       "      <td>0.0</td>\n",
       "      <td>NaN</td>\n",
       "      <td>1.0</td>\n",
       "      <td>0.0</td>\n",
       "    </tr>\n",
       "    <tr>\n",
       "      <th>248</th>\n",
       "      <td>215</td>\n",
       "      <td>215</td>\n",
       "      <td>CVD316</td>\n",
       "      <td>1</td>\n",
       "      <td>78.0</td>\n",
       "      <td>1</td>\n",
       "      <td>0</td>\n",
       "      <td>1</td>\n",
       "      <td>1.0</td>\n",
       "      <td>2.0</td>\n",
       "      <td>...</td>\n",
       "      <td>1.0</td>\n",
       "      <td>0.0</td>\n",
       "      <td>0.0</td>\n",
       "      <td>1.0</td>\n",
       "      <td>2.0</td>\n",
       "      <td>0.0</td>\n",
       "      <td>0.0</td>\n",
       "      <td>NaN</td>\n",
       "      <td>1.0</td>\n",
       "      <td>0.0</td>\n",
       "    </tr>\n",
       "    <tr>\n",
       "      <th>249</th>\n",
       "      <td>89</td>\n",
       "      <td>89</td>\n",
       "      <td>CVD089</td>\n",
       "      <td>1</td>\n",
       "      <td>54.0</td>\n",
       "      <td>1</td>\n",
       "      <td>0</td>\n",
       "      <td>0</td>\n",
       "      <td>0.0</td>\n",
       "      <td>2.0</td>\n",
       "      <td>...</td>\n",
       "      <td>1.0</td>\n",
       "      <td>0.0</td>\n",
       "      <td>0.0</td>\n",
       "      <td>1.0</td>\n",
       "      <td>3.0</td>\n",
       "      <td>0.0</td>\n",
       "      <td>0.0</td>\n",
       "      <td>NaN</td>\n",
       "      <td>1.0</td>\n",
       "      <td>1.0</td>\n",
       "    </tr>\n",
       "  </tbody>\n",
       "</table>\n",
       "<p>250 rows × 34 columns</p>\n",
       "</div>"
      ],
      "text/plain": [
       "     Unnamed: 0.1  Unnamed: 0      ID  sbjGroup   age  sex  diabetes  \\\n",
       "0             146         146  CVD247         1  68.0    2         0   \n",
       "1             134         134  CVD219         1  81.0    1         0   \n",
       "2             131         131  CVD195         1  71.0    1         0   \n",
       "3             121         121  CVD173         1  68.0    1         0   \n",
       "4             104         104  CVD128         1  83.0    1         0   \n",
       "..            ...         ...     ...       ...   ...  ...       ...   \n",
       "245           201         201  CVD302         1  55.0    1         0   \n",
       "246           138         138  CVD230         1  50.0    1         0   \n",
       "247           107         107  CVD132         1  56.0    1         0   \n",
       "248           215         215  CVD316         1  78.0    1         0   \n",
       "249            89          89  CVD089         1  54.0    1         0   \n",
       "\n",
       "     hypertension  hyperlipidaemia  smoking  ...  micrBld  smoking_0  \\\n",
       "0               1              1.0      0.0  ...      0.0        1.0   \n",
       "1               0              0.0      0.0  ...      0.0        1.0   \n",
       "2               1              0.0      2.0  ...      1.0        0.0   \n",
       "3               1              0.0      2.0  ...      0.0        0.0   \n",
       "4               0              0.0      1.0  ...      0.0        0.0   \n",
       "..            ...              ...      ...  ...      ...        ...   \n",
       "245             1              0.0      2.0  ...      0.0        0.0   \n",
       "246             0              1.0      2.0  ...      0.0        0.0   \n",
       "247             0              0.0      2.0  ...      0.0        0.0   \n",
       "248             1              1.0      2.0  ...      1.0        0.0   \n",
       "249             0              0.0      2.0  ...      1.0        0.0   \n",
       "\n",
       "    smoking_1  smoking_2  total_fazekas  scale_fazekas  scale_pvs  \\\n",
       "0         0.0        0.0            2.0            0.0        1.0   \n",
       "1         0.0        0.0            3.0            0.0        1.0   \n",
       "2         0.0        1.0            6.0            1.0        1.0   \n",
       "3         0.0        1.0            4.0            1.0        0.0   \n",
       "4         1.0        0.0            3.0            0.0        0.0   \n",
       "..        ...        ...            ...            ...        ...   \n",
       "245       0.0        1.0            2.0            0.0        1.0   \n",
       "246       0.0        1.0            3.0            0.0        1.0   \n",
       "247       0.0        1.0            2.0            0.0        0.0   \n",
       "248       0.0        1.0            2.0            0.0        0.0   \n",
       "249       0.0        1.0            3.0            0.0        0.0   \n",
       "\n",
       "     scale_micrbld  stroke_les  scale_stroke  \n",
       "0              NaN         1.0           1.0  \n",
       "1              NaN         1.0           0.0  \n",
       "2              NaN         1.0           1.0  \n",
       "3              NaN         1.0           0.0  \n",
       "4              NaN         1.0           0.0  \n",
       "..             ...         ...           ...  \n",
       "245            NaN         1.0           1.0  \n",
       "246            NaN         1.0           1.0  \n",
       "247            NaN         1.0           0.0  \n",
       "248            NaN         1.0           0.0  \n",
       "249            NaN         1.0           1.0  \n",
       "\n",
       "[250 rows x 34 columns]"
      ]
     },
     "execution_count": 3,
     "metadata": {},
     "output_type": "execute_result"
    }
   ],
   "source": [
    "CVD_core_df"
   ]
  },
  {
   "cell_type": "markdown",
   "id": "14dedb79-90e7-4d10-989b-b2172b039e4e",
   "metadata": {},
   "source": [
    "### Add the sample diversity data"
   ]
  },
  {
   "cell_type": "code",
   "execution_count": 4,
   "id": "283ff017-8d57-448e-bafe-a9f60e1d1235",
   "metadata": {},
   "outputs": [],
   "source": [
    "sample_div_df = pd.read_csv(\"umap_data_spreadsheets/CVD/CHAL_BASED_sample_div_data_SSN_Ens.csv\")"
   ]
  },
  {
   "cell_type": "code",
   "execution_count": 5,
   "id": "69dcf2f0-8b79-48b2-818e-7bd2ab3d7f1b",
   "metadata": {},
   "outputs": [],
   "source": [
    "sample_div_df = sample_div_df.drop(columns=\"Unnamed: 0\")"
   ]
  },
  {
   "cell_type": "code",
   "execution_count": 6,
   "id": "61741f4a-c6df-4320-8261-422c2d1368fb",
   "metadata": {},
   "outputs": [],
   "source": [
    "CVD_core_df = CVD_core_df.merge(sample_div_df, on=\"ID\")\n",
    "CVD_core_df = CVD_core_df.drop(columns=\"Unnamed: 0.1\")\n",
    "CVD_core_df = CVD_core_df.loc[CVD_core_df['dice'] > 0.005 ] # get rid of the examples where the image was broken when presented to the dataloader and resulted in dice of 0."
   ]
  },
  {
   "cell_type": "code",
   "execution_count": 7,
   "id": "96826a19-a940-4aaf-8425-8f84106b6c5b",
   "metadata": {},
   "outputs": [],
   "source": [
    "def load_model_output_stats(output_type, threshold, fields=None):\n",
    "    df = pd.read_csv(f\"umap_data_spreadsheets/CVD/CHAL_BASED_{output_type}_{threshold}.csv\")\n",
    "    if fields != None:\n",
    "        return df[fields]\n",
    "    return df"
   ]
  },
  {
   "cell_type": "code",
   "execution_count": 8,
   "id": "79739d48-2b32-4a43-990d-b4eedbbf62d5",
   "metadata": {},
   "outputs": [],
   "source": [
    "ent03 = load_model_output_stats(\"ent\", 0.3)"
   ]
  },
  {
   "cell_type": "code",
   "execution_count": 9,
   "id": "02c9ca4a-95dc-4653-a2e7-43523f5209ff",
   "metadata": {},
   "outputs": [
    {
     "data": {
      "text/plain": [
       "Index(['Unnamed: 0', 'ID', 'cc_num', 'cc_unsegmented_ccs', 'cc_size_mean',\n",
       "       'cc_size_std', 'cc_size_skew', 'cc_size_kurt', 'cc_vd_mean',\n",
       "       'cc_vd_std', 'cc_vd_skew', 'cc_vd_kurt', 'sum', 'mean', 'std', 'skew',\n",
       "       'kurtosis', 'prop_umap_segmented', 'prop_umap_within_expanded_seg',\n",
       "       'prop_seg_uncertain', 'dist_mean', 'dist_std', 'dist_skew', 'dist_kurt',\n",
       "       'dist_value_joint_0', 'dist_value_joint_1', 'dist_value_joint_2',\n",
       "       'dist_value_joint_3', 'dist_value_joint_4', 'dist_value_joint_5',\n",
       "       'dist_value_joint_6', 'dist_value_joint_7', 'dist_value_joint_8',\n",
       "       'dist_value_joint_9', 'dist_value_joint_10', 'dist_value_joint_11',\n",
       "       'dist_value_joint_12', 'dist_value_joint_13', 'dist_value_joint_14',\n",
       "       'dist_value_joint_15', 'dist_value_joint_16', 'dist_value_joint_17',\n",
       "       'dist_value_joint_18', 'dist_value_joint_19', 'dist_value_joint_20',\n",
       "       'dist_value_joint_21', 'dist_value_joint_22', 'dist_value_joint_23',\n",
       "       'dist_value_joint_24', 'cc_dist_value_joint_0', 'cc_dist_value_joint_1',\n",
       "       'cc_dist_value_joint_2', 'cc_dist_value_joint_3',\n",
       "       'cc_dist_value_joint_4', 'cc_dist_value_joint_5',\n",
       "       'cc_dist_value_joint_6', 'cc_dist_value_joint_7',\n",
       "       'cc_dist_value_joint_8', 'cc_dist_value_joint_9',\n",
       "       'cc_dist_value_joint_10', 'cc_dist_value_joint_11',\n",
       "       'cc_dist_value_joint_12', 'cc_dist_value_joint_13',\n",
       "       'cc_dist_value_joint_14', 'cc_dist_value_joint_15',\n",
       "       'cc_dist_value_joint_16', 'cc_dist_value_joint_17',\n",
       "       'cc_dist_value_joint_18', 'cc_dist_value_joint_19',\n",
       "       'cc_dist_value_joint_20', 'cc_dist_value_joint_21',\n",
       "       'cc_dist_value_joint_22', 'cc_dist_value_joint_23',\n",
       "       'cc_dist_value_joint_24', 'seg_volume', 'vent_volume', 'values_hist_0',\n",
       "       'values_hist_1', 'values_hist_2', 'values_hist_3', 'values_hist_4',\n",
       "       'values_hist_5', 'values_hist_6', 'values_hist_7', 'values_hist_8',\n",
       "       'values_hist_9', 'values_hist_10', 'values_hist_11', 'values_hist_12',\n",
       "       'values_hist_13', 'values_hist_14', 'values_hist_15', 'values_hist_16',\n",
       "       'values_hist_17', 'values_hist_18', 'values_hist_19'],\n",
       "      dtype='object')"
      ]
     },
     "execution_count": 9,
     "metadata": {},
     "output_type": "execute_result"
    }
   ],
   "source": [
    "ent03.keys()"
   ]
  },
  {
   "cell_type": "code",
   "execution_count": 10,
   "id": "8338b3f2-dd99-4ac2-bae2-3438d13c2e0e",
   "metadata": {},
   "outputs": [],
   "source": [
    "def merge_datasets(core_df, output_types, thresholds, selected_fields):\n",
    "    for output_type, thresh, fields in zip(output_types, thresholds, selected_fields):\n",
    "        \n",
    "        extra_df = load_model_output_stats(output_type, thresh, fields) # load the specific output type at the given threshold, and select the desired fields\n",
    "        \n",
    "        extra_df = extra_df.rename(columns={key: f\"{output_type}{thresh}_{key}\" if key != 'ID' else 'ID' for key in extra_df.keys()}) # modify the column name so that we know which columns belong to which input type\n",
    "        \n",
    "        core_df = core_df.merge(extra_df, on=\"ID\")\n",
    "    \n",
    "    core_df = core_df.drop(columns='ID')       \n",
    "    \n",
    "    return core_df"
   ]
  },
  {
   "cell_type": "code",
   "execution_count": 11,
   "id": "01fc7e4f-8941-4c36-839e-3111aecdaa04",
   "metadata": {},
   "outputs": [],
   "source": [
    "def remove_nans(dfc, verbose=False):\n",
    "    nan_rows = dfc[dfc.isnull().any(axis=1)]\n",
    "    nan_cols = dfc.columns[dfc.isnull().any()]\n",
    "    if verbose:\n",
    "        print(\"nans removed: \", len(nan_rows))\n",
    "    dfc = dfc.drop(labels=nan_rows.index.values, axis=0)\n",
    "    return dfc"
   ]
  },
  {
   "cell_type": "code",
   "execution_count": 12,
   "id": "417f0a2f-b97d-4230-9a73-d1a013bcf4df",
   "metadata": {},
   "outputs": [],
   "source": [
    "def extract_Xy(df, label_class, verbose=False, kept_column=None, label_categories=None):\n",
    "    df = remove_nans(df, verbose)\n",
    "    if label_categories == None:\n",
    "        label_categories = ['WMH', 'PVWMH', 'DWMH', 'deepAtrophy',\n",
    "           'supAtrophy', 'BGPVS', 'CSPVS', 'total_fazekas', 'scale_fazekas',\n",
    "           'scale_pvs', 'stroke_les', 'scale_stroke', 'dice',\n",
    "           'f1', 'avd', 'recall']\n",
    "    if kept_column != None:\n",
    "        y_reg = df[kept_column].values\n",
    "    y = df[label_class].values\n",
    "    X = df.drop(columns=label_categories)\n",
    "    if label_class not in label_categories:\n",
    "        X = X.drop(columns=label_class)\n",
    "    if kept_column != None:\n",
    "        X[kept_column] = y_reg\n",
    "    return X, y"
   ]
  },
  {
   "cell_type": "markdown",
   "id": "a4ed72a1-93e9-4a1f-8a4b-4e9735111b62",
   "metadata": {},
   "source": [
    "### fitting to predict fazekas"
   ]
  },
  {
   "cell_type": "code",
   "execution_count": 13,
   "id": "b5b26a54-2007-4c6f-b952-a8af375f5e95",
   "metadata": {},
   "outputs": [],
   "source": [
    "from sklearn.linear_model import LogisticRegression\n",
    "from sklearn.svm import SVC\n",
    "from sklearn.ensemble import RandomForestClassifier"
   ]
  },
  {
   "cell_type": "code",
   "execution_count": 14,
   "id": "1cb8a3b6-133e-4e4c-9a70-98fc4a7188d7",
   "metadata": {},
   "outputs": [],
   "source": [
    "class Rescaler():\n",
    "    def fit(self, X):\n",
    "        norm_parameters = []\n",
    "        for key in X.keys():\n",
    "            values = X[key].values\n",
    "            if len(np.unique(values)) > 2:\n",
    "                mean = np.mean(values)\n",
    "                std = np.std(values)\n",
    "                norm_parameters.append((key, mean, std))\n",
    "        self.norm_parameters = norm_parameters\n",
    "    def predict(self, X):\n",
    "        X = X.copy()\n",
    "        for key, mean, std in self.norm_parameters:\n",
    "            X[key] = (X[key] - mean) / std\n",
    "        \n",
    "        return X"
   ]
  },
  {
   "cell_type": "code",
   "execution_count": 15,
   "id": "9fb5acb4-5cb8-4a3a-a9a5-342fe1ce4282",
   "metadata": {},
   "outputs": [],
   "source": [
    "from sklearn.metrics import accuracy_score, f1_score, roc_auc_score"
   ]
  },
  {
   "cell_type": "code",
   "execution_count": 16,
   "id": "f13915f7-2960-4dcb-aafc-33aa9c7f83b9",
   "metadata": {},
   "outputs": [],
   "source": [
    "def shuffle(df, random_state=42):\n",
    "    df = df.copy()\n",
    "    df = df.sample(frac=1, random_state=random_state).reset_index(drop=True)\n",
    "    return df"
   ]
  },
  {
   "cell_type": "code",
   "execution_count": 17,
   "id": "813789c5-b265-4398-9bf1-abfcf7e7efb3",
   "metadata": {},
   "outputs": [],
   "source": [
    "from tqdm import tqdm"
   ]
  },
  {
   "cell_type": "markdown",
   "id": "2b074c42-0e85-4d02-ab86-482d76ca8589",
   "metadata": {},
   "source": [
    "## new training pipeline\n",
    "\n",
    "\n",
    "configure so that I can pick a specific input type and threshold and included features.\n",
    "Need the ability to include multiple sets of fields from the core df. to do this, I can combine all features into one large dataframe and then pull out only the ones I need from that. Once I have this, assess the performance, and predict Dice and F1 as well, and then summarise everything that I have done and am going to do for Maria.\n",
    "I will talk about the second test using the data trained on the WMH challenge data.\n",
    "Explain the limitations of the study (I need to hyperparameter tune for example).\n",
    "Explain the comparison with the CNN results that I have done. Nice."
   ]
  },
  {
   "cell_type": "markdown",
   "id": "c6cc6c0d-4971-4bfc-aa69-8585f75f82b3",
   "metadata": {},
   "source": [
    "### collating all the input data types together"
   ]
  },
  {
   "cell_type": "code",
   "execution_count": 18,
   "id": "c0069f82-f9de-4f23-8874-8292e4a384fc",
   "metadata": {},
   "outputs": [],
   "source": [
    "all_image_extracted_fields = ['cc_num', 'cc_unsegmented_ccs', 'cc_size_mean',\n",
    "       'cc_size_std', 'cc_size_skew', 'cc_size_kurt', 'cc_vd_mean',\n",
    "       'cc_vd_std', 'cc_vd_skew', 'cc_vd_kurt', 'sum', 'mean', 'std', 'skew',\n",
    "       'kurtosis', 'prop_umap_segmented', 'prop_umap_within_expanded_seg',\n",
    "       'prop_seg_uncertain', 'dist_mean', 'dist_std', 'dist_skew', 'dist_kurt',\n",
    "       'dist_value_joint_0', 'dist_value_joint_1', 'dist_value_joint_2',\n",
    "       'dist_value_joint_3', 'dist_value_joint_4', 'dist_value_joint_5',\n",
    "       'dist_value_joint_6', 'dist_value_joint_7', 'dist_value_joint_8',\n",
    "       'dist_value_joint_9', 'dist_value_joint_10', 'dist_value_joint_11',\n",
    "       'dist_value_joint_12', 'dist_value_joint_13', 'dist_value_joint_14',\n",
    "       'dist_value_joint_15', 'dist_value_joint_16', 'dist_value_joint_17',\n",
    "       'dist_value_joint_18', 'dist_value_joint_19', 'dist_value_joint_20',\n",
    "       'dist_value_joint_21', 'dist_value_joint_22', 'dist_value_joint_23',\n",
    "       'dist_value_joint_24', 'cc_dist_value_joint_0', 'cc_dist_value_joint_1',\n",
    "       'cc_dist_value_joint_2', 'cc_dist_value_joint_3',\n",
    "       'cc_dist_value_joint_4', 'cc_dist_value_joint_5',\n",
    "       'cc_dist_value_joint_6', 'cc_dist_value_joint_7',\n",
    "       'cc_dist_value_joint_8', 'cc_dist_value_joint_9',\n",
    "       'cc_dist_value_joint_10', 'cc_dist_value_joint_11',\n",
    "       'cc_dist_value_joint_12', 'cc_dist_value_joint_13',\n",
    "       'cc_dist_value_joint_14', 'cc_dist_value_joint_15',\n",
    "       'cc_dist_value_joint_16', 'cc_dist_value_joint_17',\n",
    "       'cc_dist_value_joint_18', 'cc_dist_value_joint_19',\n",
    "       'cc_dist_value_joint_20', 'cc_dist_value_joint_21',\n",
    "       'cc_dist_value_joint_22', 'cc_dist_value_joint_23',\n",
    "       'cc_dist_value_joint_24', 'values_hist_0',\n",
    "       'values_hist_1', 'values_hist_2', 'values_hist_3', 'values_hist_4',\n",
    "       'values_hist_5', 'values_hist_6', 'values_hist_7', 'values_hist_8',\n",
    "       'values_hist_9', 'values_hist_10', 'values_hist_11', 'values_hist_12',\n",
    "       'values_hist_13', 'values_hist_14', 'values_hist_15', 'values_hist_16',\n",
    "       'values_hist_17', 'values_hist_18', 'values_hist_19']\n",
    "\n",
    "pred_values = ['seg_volume', 'vent_volume']"
   ]
  },
  {
   "cell_type": "code",
   "execution_count": 19,
   "id": "f3a5ae14-49d7-406e-b8b4-4c20e8415762",
   "metadata": {},
   "outputs": [],
   "source": [
    "added_inps = [\"pred\"] + [\"pred\" for _ in range(6)] + [\"ent\" for _ in range(6)] + [\"var\" for _ in range(4)]\n",
    "added_thresholds = [0.5, 0.1, 0.2, 0.3, 0.4, 0.5, 0.6, 0.1, 0.2, 0.3, 0.4, 0.45, 0.5, 0.01, 0.03, 0.06, 0.09]\n",
    "added_fields = [pred_values] +  [all_image_extracted_fields for _ in range(len(added_inps) - 1)]\n",
    "added_fields = [f+['ID'] for f in added_fields]\n",
    "\n",
    "\n",
    "cvd_df_sel_fields = core_fields = ['ID', 'sbjGroup', 'age', 'sex',\n",
    "       'diabetes', 'hypertension', 'hyperlipidaemia', 'ICV', 'WMH', 'PVWMH', 'DWMH', 'deepAtrophy',\n",
    "       'supAtrophy', 'BGPVS', 'CSPVS', 'micrBld',\n",
    "       'smoking_0', 'smoking_1', 'smoking_2', 'total_fazekas', 'scale_fazekas',\n",
    "       'scale_pvs', 'stroke_les', 'scale_stroke', 'dice', 'f1', 'avd',\n",
    "       'recall', 'sample_div_std', 'sample_div_IQR', 'sample_div_skew',\n",
    "       'sample_div_vd_std', 'sample_div_vd_IQR', 'sample_div_vd_skew']\n",
    "\n",
    "full_combined_df = merge_datasets(CVD_core_df[cvd_df_sel_fields], added_inps, added_thresholds, added_fields)"
   ]
  },
  {
   "cell_type": "code",
   "execution_count": 20,
   "id": "bc1f2751-4a13-4e6b-a0de-4cfcabc3896f",
   "metadata": {},
   "outputs": [
    {
     "data": {
      "text/plain": [
       "0      0.050544\n",
       "1      0.043860\n",
       "2      0.044951\n",
       "3      0.042337\n",
       "4      0.047410\n",
       "         ...   \n",
       "241    0.047833\n",
       "242    0.042569\n",
       "243    0.036444\n",
       "244    0.042481\n",
       "245    0.047619\n",
       "Name: ent0.45_values_hist_10, Length: 246, dtype: float64"
      ]
     },
     "execution_count": 20,
     "metadata": {},
     "output_type": "execute_result"
    }
   ],
   "source": [
    "full_combined_df['ent0.45_values_hist_10']"
   ]
  },
  {
   "cell_type": "code",
   "execution_count": 21,
   "id": "f26b2b5a-d900-422e-9b9a-14c8ca142c7e",
   "metadata": {},
   "outputs": [],
   "source": [
    "def get_select_fields(df, fields_lists, input_types, thresholds):\n",
    "    full_fields_selection = []\n",
    "    for fieldset, t, inp in zip(fields_lists, thresholds, input_types):\n",
    "        if inp == None:\n",
    "            full_fields_selection.extend(fieldset)\n",
    "        else:\n",
    "            full_fields_selection.extend([f\"{inp}{t}_{f}\" for f in fieldset])\n",
    "    \n",
    "    df= df[full_fields_selection]\n",
    "    \n",
    "#     # Get duplicate columns names\n",
    "#     dup_cols = df.columns[df.columns.duplicated()]\n",
    "\n",
    "#     # Rename duplicate columns\n",
    "#     for x in dup_cols:\n",
    "#         cols = df.columns[df.columns.str.startswith(x)] \n",
    "#         for i in range(len(cols)):\n",
    "#             df = df.rename(columns={cols[i]: x + '_' + str(i+1)})\n",
    "            \n",
    "    return df"
   ]
  },
  {
   "cell_type": "code",
   "execution_count": 22,
   "id": "2d3119fe-209e-4cbb-bca8-85162b4c9d01",
   "metadata": {},
   "outputs": [],
   "source": [
    "clinical_fields = ['sbjGroup', 'age', 'sex',\n",
    " 'diabetes', 'hypertension', 'hyperlipidaemia',\n",
    "       'smoking_0', 'smoking_1', 'smoking_2']\n",
    "# ICV is a bad feature that breaks things!!!\n",
    "# clinical_fields = ['age', 'sex']\n",
    "\n",
    "target_fields = ['total_fazekas', 'scale_fazekas', \n",
    "       'scale_pvs', 'stroke_les', 'scale_stroke', 'dice', 'f1', 'avd',\n",
    "       'recall', 'deepAtrophy', 'supAtrophy', 'WMH', 'PVWMH', 'DWMH', 'BGPVS', 'CSPVS','micrBld']\n",
    "\n",
    "volume_fields = ['seg_volume', 'vent_volume']\n",
    "\n",
    "inp_map_fields_1 = ['cc_num', 'cc_unsegmented_ccs', 'cc_size_mean',\n",
    "       'cc_size_std', 'cc_size_skew', 'cc_size_kurt']\n",
    "\n",
    "inp_map_fields_2 = ['cc_vd_mean', 'cc_vd_std', 'cc_vd_skew', 'cc_vd_kurt']\n",
    "\n",
    "inp_map_fields_3 = ['sum', 'mean', 'std', 'skew', 'kurtosis', 'prop_umap_segmented',\n",
    "       'prop_seg_uncertain', 'dist_mean', 'dist_std', 'dist_skew', 'dist_kurt']\n",
    "\n",
    "joint_fields = [\n",
    "    'dist_value_joint_0', 'dist_value_joint_1', 'dist_value_joint_2',\n",
    "       'dist_value_joint_3', 'dist_value_joint_4', 'dist_value_joint_5',\n",
    "       'dist_value_joint_6', 'dist_value_joint_7', 'dist_value_joint_8',\n",
    "       'dist_value_joint_9', 'dist_value_joint_10', 'dist_value_joint_11',\n",
    "       'dist_value_joint_12', 'dist_value_joint_13', 'dist_value_joint_14',\n",
    "       'dist_value_joint_15', 'dist_value_joint_16', 'dist_value_joint_17',\n",
    "       'dist_value_joint_18', 'dist_value_joint_19', 'dist_value_joint_20',\n",
    "       'dist_value_joint_21', 'dist_value_joint_22', 'dist_value_joint_23',\n",
    "       'dist_value_joint_24', 'cc_dist_value_joint_0', 'cc_dist_value_joint_1',\n",
    "       'cc_dist_value_joint_2', 'cc_dist_value_joint_3',\n",
    "       'cc_dist_value_joint_4', 'cc_dist_value_joint_5',\n",
    "       'cc_dist_value_joint_6', 'cc_dist_value_joint_7',\n",
    "       'cc_dist_value_joint_8', 'cc_dist_value_joint_9',\n",
    "       'cc_dist_value_joint_10', 'cc_dist_value_joint_11',\n",
    "       'cc_dist_value_joint_12', 'cc_dist_value_joint_13',\n",
    "       'cc_dist_value_joint_14', 'cc_dist_value_joint_15',\n",
    "       'cc_dist_value_joint_16', 'cc_dist_value_joint_17',\n",
    "       'cc_dist_value_joint_18', 'cc_dist_value_joint_19',\n",
    "       'cc_dist_value_joint_20', 'cc_dist_value_joint_21',\n",
    "       'cc_dist_value_joint_22', 'cc_dist_value_joint_23',\n",
    "       'cc_dist_value_joint_24', 'values_hist_0',\n",
    "       'values_hist_1', 'values_hist_2', 'values_hist_3', 'values_hist_4',\n",
    "       'values_hist_5', 'values_hist_6', 'values_hist_7', 'values_hist_8',\n",
    "       'values_hist_9', 'values_hist_10', 'values_hist_11', 'values_hist_12',\n",
    "       'values_hist_13', 'values_hist_14', 'values_hist_15', 'values_hist_16',\n",
    "       'values_hist_17', 'values_hist_18', 'values_hist_19'\n",
    "]\n",
    "\n",
    "extracted_fields = [inp_map_fields_1, inp_map_fields_2, inp_map_fields_3]\n",
    "\n",
    "umap_specific_fields = ['sample_div_IQR', 'sample_div_vd_IQR', 'sample_div_vd_skew']"
   ]
  },
  {
   "cell_type": "code",
   "execution_count": 23,
   "id": "e476d357-1f45-4747-a479-0df4531a6605",
   "metadata": {},
   "outputs": [],
   "source": [
    "def load_model_df(df, model_name, pred1_t=None,pred2_t=None,pred3_t=None,ent1_t=None,ent2_t=None,ent3_t=None, pred_hists=None, ent_hists=None):\n",
    "\n",
    "    model_type = {\n",
    "        \"clinical_only\":[[target_fields, clinical_fields], [None, None], [None, None]],\n",
    "        \"c+volume\":[[target_fields, clinical_fields, volume_fields], [None, None, \"pred\"], [None, None, 0.5]],\n",
    "        \"cv_pred\":[[target_fields, clinical_fields, volume_fields, inp_map_fields_1, inp_map_fields_2, inp_map_fields_3], [None, None, \"pred\", \"pred\", \"pred\", \"pred\"], [None, None, 0.5, pred1_t, pred2_t, pred3_t]],\n",
    "        \"cv_pred0.5\": [[target_fields, clinical_fields, volume_fields, inp_map_fields_1, inp_map_fields_2, inp_map_fields_3], [None, None, \"pred\", \"pred\", \"pred\", \"pred\"], [None, None, 0.5, 0.5, 0.5, 0.5]],\n",
    "        \"cvs_umap\":[[target_fields, clinical_fields, volume_fields, inp_map_fields_1, inp_map_fields_2, inp_map_fields_3, umap_specific_fields], [None, None, \"pred\", \"ent\", \"ent\", \"ent\", None], [None, None, 0.5, ent1_t, ent2_t, ent3_t, None]],\n",
    "        \"cv_umap\":[[target_fields, clinical_fields, volume_fields, inp_map_fields_1, inp_map_fields_2, inp_map_fields_3], [None, None, \"pred\", \"ent\", \"ent\", \"ent\"], [None, None, 0.5, ent1_t, ent2_t, ent3_t]],\n",
    "        \"cvp+predhists\":[[target_fields, clinical_fields, volume_fields, inp_map_fields_1, inp_map_fields_2, inp_map_fields_3, joint_fields], [None, None, \"pred\", \"pred\", \"pred\", \"pred\", \"pred\"], [None, None, 0.5, pred1_t, pred2_t, pred3_t, pred_hists]],\n",
    "        \"cvp+samples\":[[target_fields, clinical_fields, volume_fields, inp_map_fields_1, inp_map_fields_2, inp_map_fields_3, umap_specific_fields], [None, None, \"pred\", \"pred\", \"pred\", \"pred\", None], [None, None, 0.5, pred1_t, pred2_t, pred3_t, None]],\n",
    "        \"cvps+umap\":[[target_fields, clinical_fields, volume_fields, inp_map_fields_1, inp_map_fields_2, inp_map_fields_3, umap_specific_fields, inp_map_fields_1, inp_map_fields_2, inp_map_fields_3], [None, None, \"pred\", \"pred\", \"pred\", \"pred\", None, \"ent\", \"ent\", \"ent\"], [None, None, 0.5, pred1_t, pred2_t, pred3_t, None, ent1_t, ent2_t, ent3_t]],\n",
    "        \"cvpsu+hists\":[[target_fields, clinical_fields, volume_fields, inp_map_fields_1, inp_map_fields_2, inp_map_fields_3, umap_specific_fields, inp_map_fields_1, inp_map_fields_2, inp_map_fields_3, joint_fields, joint_fields], [None, None, \"pred\", \"pred\", \"pred\", \"pred\", None, \"ent\", \"ent\", \"ent\", \"pred\", \"ent\"], [None, None, 0.5, pred1_t, pred2_t, pred3_t, None, ent1_t, ent2_t, ent3_t, pred_hists, ent_hists]],\n",
    "        \"cvps+hists_double_pred\":[[target_fields, clinical_fields, volume_fields, inp_map_fields_1, inp_map_fields_2, inp_map_fields_3, umap_specific_fields, inp_map_fields_1, inp_map_fields_2, inp_map_fields_3, joint_fields, joint_fields], [None, None, \"pred\", \"pred\", \"pred\", \"pred\", None, \"pred\", \"pred\", \"pred\", \"pred\", \"pred\"], [None, None, 0.5, pred1_t, pred2_t, pred3_t, None, ent1_t, ent2_t, ent3_t, pred_hists, ent_hists]],\n",
    "        \"cvpp\":[[target_fields, clinical_fields, volume_fields, inp_map_fields_1, inp_map_fields_2, inp_map_fields_3, inp_map_fields_1, inp_map_fields_2, inp_map_fields_3], [None, None, \"pred\", \"pred\", \"pred\", \"pred\", \"pred\", \"pred\", \"pred\"], [None, None, 0.5, pred1_t, pred2_t, pred3_t, ent1_t, ent2_t, ent3_t]]\n",
    "    }\n",
    "    \n",
    "    return get_select_fields(df, *model_type[model_name])\n",
    "    "
   ]
  },
  {
   "cell_type": "code",
   "execution_count": 24,
   "id": "d18a56ab-3937-4aa5-aaaf-5956f7d9c7a2",
   "metadata": {},
   "outputs": [],
   "source": [
    "features_df = load_model_df(full_combined_df, \"cvps+umap\", 0.1, 0.2, 0.3, 0.1, 0.2, 0.3, 0.1, 0.45)"
   ]
  },
  {
   "cell_type": "markdown",
   "id": "b7999bf7-7dce-46ba-bb97-96bf53861264",
   "metadata": {},
   "source": [
    "### Feature preprocessing (logging of some fields!)\n",
    "\n",
    "- rescale training data (and store rescale parameters?)\n",
    "- log some fields. Nice.\n",
    "- the stratified cross val code with new validation splitting can go here.\n",
    "- variance map is calculating a similar thing to entropy, so I shall ignore it for now.\n",
    "- colinearity test. (should do logging first I think? actually doing this before and after may return different results, lets see)"
   ]
  },
  {
   "cell_type": "code",
   "execution_count": 25,
   "id": "e8ee48c1-3b57-4058-8a03-411a71f49a8d",
   "metadata": {},
   "outputs": [],
   "source": [
    "def shift_and_log_features(df, feature_matches, verbose=False):\n",
    "    df = df.copy()\n",
    "    for key in df.keys():\n",
    "        for f in feature_matches:\n",
    "            if f in key:\n",
    "                if verbose:\n",
    "                    print(f\"taking log of {key}\")\n",
    "                values = df[key].values\n",
    "                df[key] = np.log(values - min(values) + 0.01)\n",
    "                continue\n",
    "    return df"
   ]
  },
  {
   "cell_type": "code",
   "execution_count": 26,
   "id": "752e90e0-636e-4521-bb67-eb578c9f227b",
   "metadata": {},
   "outputs": [],
   "source": [
    "log_feature_matches = ['sample_div', 'seg_volume', 'vent_volume', 'sum', 'mean', 'std', 'skew', 'kurt']"
   ]
  },
  {
   "cell_type": "code",
   "execution_count": 27,
   "id": "53948e09-69bc-46d6-b211-2f89e1b67434",
   "metadata": {},
   "outputs": [],
   "source": [
    "#logged_df = shift_and_log_features(features_df, log_feature_matches, verbose=True)"
   ]
  },
  {
   "cell_type": "code",
   "execution_count": 28,
   "id": "cfdf421b-4a50-4dee-80b9-f4ce59601236",
   "metadata": {},
   "outputs": [],
   "source": [
    "def create_minimal_correlation_keys(df, ignore_keys=None, threshold=0.8, verbose=False):\n",
    "    # we ignore the target keys when computing correlation and deciding which features to remove\n",
    "    \n",
    "    if ignore_keys != None:\n",
    "        df = df.drop(columns=ignore_keys)\n",
    "    \n",
    "    remaining_keys = list(df.keys())\n",
    "    current_keys = [remaining_keys[0]]\n",
    "    \n",
    "    for key in remaining_keys[1:]:\n",
    "        cols = df[current_keys + [key]]\n",
    "        corr = cols.corr()\n",
    "        corr_values = abs(corr[key].values[:-1])\n",
    "        corr_values[np.isnan(corr_values)] = 0 # nan correlation values are ignored (they will register as argmax so we set them to zero).\n",
    "        # print(corr_values)\n",
    "        try:\n",
    "            max_corr = max(corr_values)\n",
    "        except:\n",
    "            print(corr_values)\n",
    "        # if max_corr == 0:\n",
    "        #     print(key)\n",
    "        if max_corr > threshold:\n",
    "            if verbose:\n",
    "                print(f\"excluding {key}, max corr of {max_corr} with {list(corr.keys())[np.argmax(corr_values)]}\")\n",
    "            #print(corr[key].values)\n",
    "            continue\n",
    "        else:\n",
    "            current_keys.append(key)\n",
    "    \n",
    "    if verbose:\n",
    "        print(f\"retained keys = {len(current_keys)} (total {len(df.keys())})\")\n",
    "        \n",
    "    return current_keys\n",
    "    "
   ]
  },
  {
   "cell_type": "code",
   "execution_count": 29,
   "id": "e6009879-88ed-4205-ac23-2ae15add1862",
   "metadata": {},
   "outputs": [
    {
     "name": "stdout",
     "output_type": "stream",
     "text": [
      "excluding pred0.1_cc_unsegmented_ccs, max corr of 0.826792024129301 with pred0.1_cc_num\n",
      "excluding pred0.1_cc_size_mean, max corr of 0.8922341055168349 with pred0.5_seg_volume\n",
      "excluding pred0.1_cc_size_std, max corr of 0.9655851321918528 with pred0.5_seg_volume\n",
      "excluding pred0.1_cc_size_kurt, max corr of 0.9806643498836527 with pred0.1_cc_size_skew\n",
      "excluding pred0.2_cc_vd_std, max corr of 0.868875740405728 with pred0.2_cc_vd_mean\n",
      "excluding pred0.2_cc_vd_kurt, max corr of 0.9695131679460114 with pred0.2_cc_vd_skew\n",
      "excluding pred0.3_sum, max corr of 0.9999705505313004 with pred0.5_seg_volume\n",
      "excluding pred0.3_std, max corr of 0.9133833626748276 with pred0.3_mean\n",
      "excluding pred0.3_skew, max corr of 0.9846478238085159 with pred0.3_mean\n",
      "excluding pred0.3_kurtosis, max corr of 0.914105144551653 with pred0.3_mean\n",
      "excluding pred0.3_prop_umap_segmented, max corr of 0.9884079029065496 with pred0.3_mean\n",
      "excluding pred0.3_dist_kurt, max corr of 0.8996712320118535 with pred0.3_dist_skew\n",
      "excluding sample_div_IQR, max corr of 0.8476544565216321 with pred0.5_seg_volume\n",
      "excluding ent0.1_cc_unsegmented_ccs, max corr of 0.9954548057502356 with ent0.1_cc_num\n",
      "excluding ent0.1_cc_size_mean, max corr of 0.8735429685417141 with pred0.5_seg_volume\n",
      "excluding ent0.1_cc_size_std, max corr of 0.8757858285105041 with pred0.5_seg_volume\n",
      "excluding ent0.1_cc_size_kurt, max corr of 0.9790829830657123 with ent0.1_cc_size_skew\n",
      "excluding ent0.2_cc_vd_std, max corr of 0.9388804071971962 with ent0.2_cc_vd_mean\n",
      "excluding ent0.2_cc_vd_kurt, max corr of 0.9704960539296887 with ent0.2_cc_vd_skew\n",
      "excluding ent0.3_sum, max corr of 0.8981607946623299 with pred0.5_seg_volume\n",
      "excluding ent0.3_skew, max corr of 0.9937471981952583 with ent0.3_mean\n",
      "excluding ent0.3_kurtosis, max corr of 0.8487991759826143 with ent0.3_std\n",
      "excluding ent0.3_prop_umap_segmented, max corr of 0.8295867337282806 with pred0.5_seg_volume\n",
      "excluding ent0.3_prop_seg_uncertain, max corr of 0.9191346625983143 with pred0.3_mean\n",
      "excluding ent0.3_dist_mean, max corr of 0.8430610341242338 with pred0.3_dist_mean\n",
      "excluding ent0.3_dist_std, max corr of 0.8684810914385603 with pred0.3_dist_std\n",
      "excluding ent0.3_dist_kurt, max corr of 0.8741563278869866 with ent0.3_dist_skew\n",
      "retained keys = 29 (total 56)\n"
     ]
    },
    {
     "data": {
      "text/plain": [
       "['sbjGroup',\n",
       " 'age',\n",
       " 'sex',\n",
       " 'diabetes',\n",
       " 'hypertension',\n",
       " 'hyperlipidaemia',\n",
       " 'smoking_0',\n",
       " 'smoking_1',\n",
       " 'smoking_2',\n",
       " 'pred0.5_seg_volume',\n",
       " 'pred0.5_vent_volume',\n",
       " 'pred0.1_cc_num',\n",
       " 'pred0.1_cc_size_skew',\n",
       " 'pred0.2_cc_vd_mean',\n",
       " 'pred0.2_cc_vd_skew',\n",
       " 'pred0.3_mean',\n",
       " 'pred0.3_prop_seg_uncertain',\n",
       " 'pred0.3_dist_mean',\n",
       " 'pred0.3_dist_std',\n",
       " 'pred0.3_dist_skew',\n",
       " 'sample_div_vd_IQR',\n",
       " 'sample_div_vd_skew',\n",
       " 'ent0.1_cc_num',\n",
       " 'ent0.1_cc_size_skew',\n",
       " 'ent0.2_cc_vd_mean',\n",
       " 'ent0.2_cc_vd_skew',\n",
       " 'ent0.3_mean',\n",
       " 'ent0.3_std',\n",
       " 'ent0.3_dist_skew']"
      ]
     },
     "execution_count": 29,
     "metadata": {},
     "output_type": "execute_result"
    }
   ],
   "source": [
    "create_minimal_correlation_keys(features_df, ignore_keys=target_fields, threshold=0.80, verbose=True)\n",
    "# create_minimal_correlation_keys(logged_df, ignore_keys=target_fields, threshold=0.80, verbose=True)"
   ]
  },
  {
   "cell_type": "markdown",
   "id": "1242bdc7-588e-4bf6-a0f6-1f0570114f95",
   "metadata": {},
   "source": [
    "### run function"
   ]
  },
  {
   "cell_type": "code",
   "execution_count": 37,
   "id": "41ad27b7-0b6e-491d-ac86-31dd3408978e",
   "metadata": {},
   "outputs": [],
   "source": [
    "import pandas as pd\n",
    "from sklearn.model_selection import KFold, StratifiedKFold"
   ]
  },
  {
   "cell_type": "code",
   "execution_count": 38,
   "id": "551e3983-b482-4fb4-8b34-154d504ea5ad",
   "metadata": {},
   "outputs": [],
   "source": [
    "def get_fold2(X, y, fold_num, n_splits=5, val_proportion=0.2, stratify_target=None):\n",
    "    \n",
    "    X = X.reset_index(drop=True)\n",
    "    \n",
    "    kf = StratifiedKFold(n_splits=n_splits)\n",
    "    if stratify_target == None:\n",
    "        stratify_values = y\n",
    "    else:\n",
    "        stratify_values = X[stratify_target]\n",
    "\n",
    "    for i, (train_idx, test_idx) in enumerate(kf.split(X, stratify_values)):\n",
    "        if i == fold_num:\n",
    "            train_X = X.iloc[train_idx]\n",
    "            train_y = y[train_idx]\n",
    "            test_X = X.iloc[test_idx]\n",
    "            test_y = y[test_idx]\n",
    "            break\n",
    "        \n",
    "    train_X = train_X.reset_index(drop=True)\n",
    "\n",
    "    if val_proportion > 0:\n",
    "        kf_val = StratifiedKFold(n_splits=int(1//val_proportion))\n",
    "        if stratify_target == None:\n",
    "            stratify_values = train_y\n",
    "        else:\n",
    "            stratify_values = train_X[stratify_target]\n",
    "\n",
    "        for i, (train_idx, val_idx) in enumerate(kf_val.split(train_X, stratify_values)):\n",
    "            if i == 0:\n",
    "                val_X = train_X.iloc[val_idx]\n",
    "                val_y = train_y[val_idx]\n",
    "                train_X = train_X.iloc[train_idx]\n",
    "                train_y = train_y[train_idx]\n",
    "\n",
    "                break\n",
    "\n",
    "        if stratify_target != None:\n",
    "            train_X = train_X.drop(columns=stratify_target)\n",
    "            val_X = val_X.drop(columns=stratify_target)\n",
    "            test_X = test_X.drop(columns=stratify_target)\n",
    "\n",
    "        return (train_X, train_y), (test_X, test_y), (val_X, val_y)\n",
    "    \n",
    "    else:\n",
    "        if stratify_target != None:\n",
    "            train_X = train_X.drop(columns=stratify_target)\n",
    "            test_X = test_X.drop(columns=stratify_target)\n",
    "\n",
    "        return (train_X, train_y), (test_X, test_y), (test_X, test_y) # just return the test set as a dummy val in the val prop = 0 case."
   ]
  },
  {
   "cell_type": "code",
   "execution_count": 39,
   "id": "1d0971bd-36e6-41a0-a0ae-ad13d42d195c",
   "metadata": {},
   "outputs": [],
   "source": [
    "from collections import defaultdict\n",
    "\n",
    "class VPrint():\n",
    "    def __init__(self, verbose=True):\n",
    "        self.verbose = verbose\n",
    "    def __call__(self, *prompts):\n",
    "        if self.verbose:\n",
    "            print(*prompts)\n",
    "        # else do nothing.\n",
    "\n",
    "def run_prediction_new(df, model_type, thresholds_dict, clf, n_splits=5, val_proportion=0.25, target=\"DWMH\", label_categories=target_fields, stratify_target=None, \n",
    "                   rescale=True, predict_val=True, verbose=False, metric='accuracy', do_log=False, log_feature_matches=None, \n",
    "                   rem_colinear_feats=False, colinear_threshold=0.8, colinear_ignores=target_fields, regression=False):\n",
    "    \n",
    "    df = df.copy() # just to make sure I don't accidently modify the original at any point.\n",
    "    \n",
    "    vprint = VPrint(verbose)\n",
    "    vprint(model_type)\n",
    "    \n",
    "    # create the training data df\n",
    "    df = load_model_df(df, model_type, **thresholds_dict)\n",
    "    \n",
    "    # run preprocessing on the data\n",
    "    #df = shuffle(df)\n",
    "    #print(df.keys().values)\n",
    "    if do_log:\n",
    "        df = shift_and_log_features(df, log_feature_matches, verbose=verbose)\n",
    "    if rem_colinear_feats:\n",
    "        remaining_keys = create_minimal_correlation_keys(df, ignore_keys=colinear_ignores, threshold=colinear_threshold, verbose=verbose)\n",
    "        df = df[remaining_keys + colinear_ignores]\n",
    "    X, y = extract_Xy(df, target, verbose, kept_column=stratify_target, label_categories=label_categories)\n",
    "    X = X.reset_index()\n",
    "    vprint(X.keys())\n",
    "    # print(X.shape)\n",
    "    \n",
    "    all_results = []\n",
    "    for fold_num in range(n_splits):\n",
    "        (X_train, y_train), (X_test, y_test), (X_val, y_val) = get_fold2(X, y, fold_num=fold_num, n_splits=n_splits, val_proportion=val_proportion, stratify_target=stratify_target)\n",
    "        if rescale:\n",
    "            rescaler = Rescaler()\n",
    "            rescaler.fit(X_train)\n",
    "            X_train = rescaler.predict(X_train)\n",
    "            X_test = rescaler.predict(X_test)\n",
    "            X_val = rescaler.predict(X_val)\n",
    "\n",
    "        # print(len(X_train), len(X_val), len(X_test))\n",
    "\n",
    "        # train model\n",
    "        # vprint(X_train.keys().values)\n",
    "        clf.fit(X_train, y_train)\n",
    "\n",
    "        # evaluate model performance and return predictions\n",
    "        if predict_val:\n",
    "            X_target = X_val\n",
    "            y_target = y_val\n",
    "        else:\n",
    "            X_target = X_test\n",
    "            y_target = y_test\n",
    "\n",
    "        y_hat = clf.predict(X_target)\n",
    "        \n",
    "        if not regression:\n",
    "            y_pred = clf.predict_proba(X_target)\n",
    "\n",
    "        if metric == \"accuracy\":\n",
    "            accuracy = accuracy_score(y_target, y_hat)\n",
    "            # print(accuracy)\n",
    "            accuracy = (y_hat == y_target).mean()\n",
    "            # print(accuracy)\n",
    "        \n",
    "            class_preds = defaultdict(list)\n",
    "            for yi in range(len(y_target)):\n",
    "                yi_gt = y_target[yi]\n",
    "                yi_hat = y_hat[yi]\n",
    "                class_preds[yi_gt].append(yi_hat)\n",
    "            # print(class_preds)\n",
    "            class_preds = {yi: torch.Tensor(preds) for (yi, preds) in class_preds.items()}\n",
    "            # print(class_preds)\n",
    "            class_accs = [(preds == yi).sum().item()/preds.shape[0] for (yi, preds) in class_preds.items()]\n",
    "            balanced_accuracy = torch.Tensor(class_accs).mean().item()\n",
    "        \n",
    "            vprint(accuracy, balanced_accuracy)\n",
    "            results= ((accuracy, balanced_accuracy, y_target, y_hat, y_pred))\n",
    "            vprint(\"\\n----\")\n",
    "            #print(\"here\")\n",
    "            \n",
    "        elif metric == \"rmse\":\n",
    "            rmse = np.sqrt(np.mean(np.square(y_target - y_hat)))\n",
    "            #residual_standard_error = \n",
    "            results = (rmse, rmse, y_target, y_hat)\n",
    "\n",
    "        elif metric == \"f1\":\n",
    "            f1 = f1_score(y_target, y_hat, average='macro')\n",
    "            vprint(f1)\n",
    "            results = ((f1, f1, y_target, y_hat, y_pred))\n",
    "\n",
    "        elif metric == \"roc_auc\":\n",
    "            # print(np.unique(y_target))\n",
    "            auc_roc = roc_auc_score(y_target, y_pred, multi_class='ovr')\n",
    "            results = ((auc_roc, auc_roc, y_target, y_hat, y_pred))\n",
    "\n",
    "        all_results.append(results)\n",
    "        # print(y_target)\n",
    "        # print(\"---\")\n",
    "        # print(y_hat)\n",
    "    # print(len(all_results))\n",
    "    return [\n",
    "        torch.Tensor([all_results[k][0] for k in range(len(all_results))]).mean(),\n",
    "        torch.Tensor([all_results[k][1] for k in range(len(all_results))]).mean() ,\n",
    "        torch.cat([torch.Tensor(all_results[k][2]) for k in range(len(all_results))]),\n",
    "        torch.cat([torch.Tensor(all_results[k][3]) for k in range(len(all_results))])\n",
    "    ]"
   ]
  },
  {
   "cell_type": "code",
   "execution_count": 40,
   "id": "dddb8433-8f86-4e97-8987-ee357efab126",
   "metadata": {},
   "outputs": [],
   "source": [
    "from sklearn.neural_network import MLPClassifier\n",
    "from sklearn.linear_model import LinearRegression"
   ]
  },
  {
   "cell_type": "code",
   "execution_count": 41,
   "id": "93d0eeee-81e5-457f-98a5-e1a3eae47833",
   "metadata": {},
   "outputs": [
    {
     "name": "stdout",
     "output_type": "stream",
     "text": [
      "clinical_only, 0.28, 0.44\n",
      "c+volume, 0.48, 0.62\n",
      "cv_pred, 0.67, 0.54\n",
      "cvp+samples, 0.66, 0.53\n",
      "cv_umap, 0.67, 0.69\n",
      "cvs_umap, 0.65, 0.67\n",
      "cvps+umap, 0.65, 0.51\n"
     ]
    }
   ],
   "source": [
    "clf = LogisticRegression(penalty='l2', dual=False, tol=0.1, C=0.1, fit_intercept=True, intercept_scaling=1, class_weight='balanced', \n",
    "                         random_state=None, solver='lbfgs', max_iter=500, multi_class='multinomial', verbose=0, warm_start=False, n_jobs=None, l1_ratio=None)\n",
    "# clf = MLPClassifier(hidden_layer_sizes=(20,), activation='relu', solver='lbfgs', alpha=0.0001, batch_size='auto', learning_rate='constant', learning_rate_init=0.0001, power_t=0.5, max_iter=1000, shuffle=True, \n",
    "#                                            random_state=None, tol=0.0001, verbose=False, warm_start=False, momentum=0.9, nesterovs_momentum=True, early_stopping=False, validation_fraction=0.1, beta_1=0.9, beta_2=0.999, \n",
    "#                                            epsilon=1e-08, n_iter_no_change=10, max_fun=15000)\n",
    "\n",
    "# clf = LinearRegression()\n",
    "\n",
    "entt=0.3\n",
    "predt=0.3\n",
    "thresholds = {\n",
    "    \"ent1_t\":entt,\"ent2_t\":entt,\"ent3_t\":entt,\"pred1_t\":predt,\"pred2_t\":predt,\"pred3_t\":predt, \"pred_hists\":predt, \"ent_hists\":entt\n",
    "}\n",
    "\n",
    "\n",
    "# model_types = [\"clinical_only\",\"c+volume\",\"cv_pred\",\"cvp+predhists\",\"cvp+samples\",\"cvps+umap\",\"cvpsu+hists\", \"cvps+hists_double_pred\", \"cvpp\", \"cv_umap\"]\n",
    "model_types = [\"clinical_only\",\"c+volume\",\"cv_pred\", \"cvp+samples\", \"cv_umap\", \"cvs_umap\",\"cvps+umap\"]#, \"cvpp\"]\n",
    "\n",
    "# model_types = [\"cvpsu+hists\"]\n",
    "\n",
    "log_feature_matches = ['sample_div', 'seg_volume', 'vent_volume', 'sum', 'mean', 'std', 'skew', 'kurt']\n",
    "\n",
    "S = 12\n",
    "for model_type in model_types:\n",
    "    if model_type == \"cvpp\":\n",
    "        if entt == predt or entt==0.45:\n",
    "            print(\"skipping cvpp due to parameters\")\n",
    "            continue\n",
    "    results_acc = []\n",
    "    results_balacc = []\n",
    "    # for fn in range(S):\n",
    "    results = run_prediction_new(full_combined_df, model_type, thresholds, clf, n_splits=S, val_proportion=0.1, target=\"PVWMH\", stratify_target=None, \n",
    "                   rescale=True, predict_val=True, verbose=False, metric='accuracy', do_log=False, log_feature_matches=log_feature_matches, \n",
    "                   rem_colinear_feats=True, colinear_threshold=0.7, colinear_ignores=target_fields, regression=False)\n",
    "    # results = run_prediction_new(full_combined_df, model_type, thresholds, clf, n_splits=S, val_proportion=0.1, target=\"dice\", stratify_target=\"DWMH\", \n",
    "    #                rescale=True, predict_val=False, verbose=False, metric='mae', do_log=False, log_feature_matches=log_feature_matches, \n",
    "    #                rem_colinear_feats=True, colinear_threshold=0.7, colinear_ignores=target_fields, regression=True)\n",
    "    print(f\"{model_type}, {results[0]:.2}, {results[1]:.2}\")"
   ]
  },
  {
   "cell_type": "code",
   "execution_count": 42,
   "id": "a4b645ce-e927-4954-b539-9bc7b4100fa4",
   "metadata": {},
   "outputs": [
    {
     "data": {
      "text/plain": [
       "['sbjGroup',\n",
       " 'age',\n",
       " 'sex',\n",
       " 'diabetes',\n",
       " 'hypertension',\n",
       " 'hyperlipidaemia',\n",
       " 'smoking_0',\n",
       " 'smoking_1',\n",
       " 'smoking_2']"
      ]
     },
     "execution_count": 42,
     "metadata": {},
     "output_type": "execute_result"
    }
   ],
   "source": [
    "clinical_fields"
   ]
  },
  {
   "cell_type": "code",
   "execution_count": 43,
   "id": "99f29b9e-9440-4b9c-bf71-c17b063e0436",
   "metadata": {},
   "outputs": [],
   "source": [
    "# parameters to tune"
   ]
  },
  {
   "cell_type": "code",
   "execution_count": 44,
   "id": "dcebfdfb-72c7-4ff4-a78c-f2ccec661c1e",
   "metadata": {},
   "outputs": [],
   "source": [
    "clinical_fields = ['sbjGroup', \n",
    "                   'age', \n",
    "                   'sex',\n",
    "                   'diabetes',\n",
    "                   'hypertension',\n",
    "                   'hyperlipidaemia',\n",
    "                   'smoking_0',\n",
    "                   'smoking_1',\n",
    "                   'smoking_2'\n",
    "]\n",
    "# clinical_fields = ['sex']"
   ]
  },
  {
   "cell_type": "code",
   "execution_count": 46,
   "id": "1e4273be-3c22-4c6e-b8b7-1dd6a2f23a52",
   "metadata": {},
   "outputs": [],
   "source": [
    "import matplotlib.pyplot as plt\n",
    "import numpy as np\n",
    "from sklearn.metrics import confusion_matrix\n",
    "\n",
    "def plot_confusion_matrix(y_true, y_hat, fig=None, ax=None):\n",
    "    # Calculate N x N confusion matrix\n",
    "    N = int(max(y_true) + 1)\n",
    "    cm = confusion_matrix(y_true, y_hat)\n",
    "\n",
    "    # Normalize confusion matrix\n",
    "    cm = cm.astype('float') / cm.sum(axis=1)[:, np.newaxis]\n",
    "\n",
    "    # Plot confusion matrix\n",
    "    if fig == None:\n",
    "        fig, ax = plt.subplots()\n",
    "    im = ax.imshow(cm, interpolation='nearest', cmap=plt.cm.Blues)\n",
    "    ax.figure.colorbar(im, ax=ax)\n",
    "    ax.set(xticks=np.arange(cm.shape[1]),\n",
    "           yticks=np.arange(cm.shape[0]),\n",
    "           xticklabels=range(N), yticklabels=range(N),\n",
    "           ylabel='True label',\n",
    "           xlabel='Predicted label')\n",
    "\n",
    "    # Loop over data dimensions and create text annotations.\n",
    "    fmt = '.2f' \n",
    "    thresh = cm.max() / 2.\n",
    "    for i in range(cm.shape[0]):\n",
    "        for j in range(cm.shape[1]):\n",
    "            ax.text(j, i, format(cm[i, j], fmt),\n",
    "                    ha=\"center\", va=\"center\",\n",
    "                    color=\"white\" if cm[i, j] > thresh else \"black\")"
   ]
  },
  {
   "cell_type": "code",
   "execution_count": 48,
   "id": "7c0c8f72-198d-44bf-9853-27c3765be004",
   "metadata": {},
   "outputs": [
    {
     "name": "stdout",
     "output_type": "stream",
     "text": [
      "clinical_only, 0.34, 0.4\n",
      "c+volume, 0.56, 0.6\n"
     ]
    },
    {
     "name": "stderr",
     "output_type": "stream",
     "text": [
      "/home/s2208943/miniconda3/envs/uq/lib/python3.10/site-packages/sklearn/model_selection/_split.py:700: UserWarning: The least populated class in y has only 11 members, which is less than n_splits=12.\n",
      "  warnings.warn(\n",
      "/home/s2208943/miniconda3/envs/uq/lib/python3.10/site-packages/sklearn/model_selection/_split.py:700: UserWarning: The least populated class in y has only 11 members, which is less than n_splits=12.\n",
      "  warnings.warn(\n",
      "/home/s2208943/miniconda3/envs/uq/lib/python3.10/site-packages/sklearn/model_selection/_split.py:700: UserWarning: The least populated class in y has only 11 members, which is less than n_splits=12.\n",
      "  warnings.warn(\n",
      "/home/s2208943/miniconda3/envs/uq/lib/python3.10/site-packages/sklearn/model_selection/_split.py:700: UserWarning: The least populated class in y has only 11 members, which is less than n_splits=12.\n",
      "  warnings.warn(\n",
      "/home/s2208943/miniconda3/envs/uq/lib/python3.10/site-packages/sklearn/model_selection/_split.py:700: UserWarning: The least populated class in y has only 11 members, which is less than n_splits=12.\n",
      "  warnings.warn(\n",
      "/home/s2208943/miniconda3/envs/uq/lib/python3.10/site-packages/sklearn/model_selection/_split.py:700: UserWarning: The least populated class in y has only 11 members, which is less than n_splits=12.\n",
      "  warnings.warn(\n",
      "/home/s2208943/miniconda3/envs/uq/lib/python3.10/site-packages/sklearn/model_selection/_split.py:700: UserWarning: The least populated class in y has only 11 members, which is less than n_splits=12.\n",
      "  warnings.warn(\n",
      "/home/s2208943/miniconda3/envs/uq/lib/python3.10/site-packages/sklearn/model_selection/_split.py:700: UserWarning: The least populated class in y has only 11 members, which is less than n_splits=12.\n",
      "  warnings.warn(\n",
      "/home/s2208943/miniconda3/envs/uq/lib/python3.10/site-packages/sklearn/model_selection/_split.py:700: UserWarning: The least populated class in y has only 11 members, which is less than n_splits=12.\n",
      "  warnings.warn(\n",
      "/home/s2208943/miniconda3/envs/uq/lib/python3.10/site-packages/sklearn/model_selection/_split.py:700: UserWarning: The least populated class in y has only 11 members, which is less than n_splits=12.\n",
      "  warnings.warn(\n",
      "/home/s2208943/miniconda3/envs/uq/lib/python3.10/site-packages/sklearn/model_selection/_split.py:700: UserWarning: The least populated class in y has only 11 members, which is less than n_splits=12.\n",
      "  warnings.warn(\n",
      "/home/s2208943/miniconda3/envs/uq/lib/python3.10/site-packages/sklearn/model_selection/_split.py:700: UserWarning: The least populated class in y has only 11 members, which is less than n_splits=12.\n",
      "  warnings.warn(\n",
      "/home/s2208943/miniconda3/envs/uq/lib/python3.10/site-packages/sklearn/model_selection/_split.py:700: UserWarning: The least populated class in y has only 11 members, which is less than n_splits=12.\n",
      "  warnings.warn(\n",
      "/home/s2208943/miniconda3/envs/uq/lib/python3.10/site-packages/sklearn/model_selection/_split.py:700: UserWarning: The least populated class in y has only 11 members, which is less than n_splits=12.\n",
      "  warnings.warn(\n",
      "/home/s2208943/miniconda3/envs/uq/lib/python3.10/site-packages/sklearn/model_selection/_split.py:700: UserWarning: The least populated class in y has only 11 members, which is less than n_splits=12.\n",
      "  warnings.warn(\n",
      "/home/s2208943/miniconda3/envs/uq/lib/python3.10/site-packages/sklearn/model_selection/_split.py:700: UserWarning: The least populated class in y has only 11 members, which is less than n_splits=12.\n",
      "  warnings.warn(\n"
     ]
    },
    {
     "name": "stdout",
     "output_type": "stream",
     "text": [
      "cv_pred, 0.65, 0.65\n"
     ]
    },
    {
     "name": "stderr",
     "output_type": "stream",
     "text": [
      "/home/s2208943/miniconda3/envs/uq/lib/python3.10/site-packages/sklearn/model_selection/_split.py:700: UserWarning: The least populated class in y has only 11 members, which is less than n_splits=12.\n",
      "  warnings.warn(\n",
      "/home/s2208943/miniconda3/envs/uq/lib/python3.10/site-packages/sklearn/model_selection/_split.py:700: UserWarning: The least populated class in y has only 11 members, which is less than n_splits=12.\n",
      "  warnings.warn(\n",
      "/home/s2208943/miniconda3/envs/uq/lib/python3.10/site-packages/sklearn/model_selection/_split.py:700: UserWarning: The least populated class in y has only 11 members, which is less than n_splits=12.\n",
      "  warnings.warn(\n",
      "/home/s2208943/miniconda3/envs/uq/lib/python3.10/site-packages/sklearn/model_selection/_split.py:700: UserWarning: The least populated class in y has only 11 members, which is less than n_splits=12.\n",
      "  warnings.warn(\n",
      "/home/s2208943/miniconda3/envs/uq/lib/python3.10/site-packages/sklearn/model_selection/_split.py:700: UserWarning: The least populated class in y has only 11 members, which is less than n_splits=12.\n",
      "  warnings.warn(\n",
      "/home/s2208943/miniconda3/envs/uq/lib/python3.10/site-packages/sklearn/model_selection/_split.py:700: UserWarning: The least populated class in y has only 11 members, which is less than n_splits=12.\n",
      "  warnings.warn(\n",
      "/home/s2208943/miniconda3/envs/uq/lib/python3.10/site-packages/sklearn/model_selection/_split.py:700: UserWarning: The least populated class in y has only 11 members, which is less than n_splits=12.\n",
      "  warnings.warn(\n",
      "/home/s2208943/miniconda3/envs/uq/lib/python3.10/site-packages/sklearn/model_selection/_split.py:700: UserWarning: The least populated class in y has only 11 members, which is less than n_splits=12.\n",
      "  warnings.warn(\n"
     ]
    },
    {
     "name": "stdout",
     "output_type": "stream",
     "text": [
      "cvp+samples, 0.64, 0.64\n",
      "cv_umap, 0.63, 0.63\n",
      "cvs_umap, 0.61, 0.63\n"
     ]
    },
    {
     "name": "stderr",
     "output_type": "stream",
     "text": [
      "/home/s2208943/miniconda3/envs/uq/lib/python3.10/site-packages/sklearn/model_selection/_split.py:700: UserWarning: The least populated class in y has only 11 members, which is less than n_splits=12.\n",
      "  warnings.warn(\n",
      "/home/s2208943/miniconda3/envs/uq/lib/python3.10/site-packages/sklearn/model_selection/_split.py:700: UserWarning: The least populated class in y has only 11 members, which is less than n_splits=12.\n",
      "  warnings.warn(\n",
      "/home/s2208943/miniconda3/envs/uq/lib/python3.10/site-packages/sklearn/model_selection/_split.py:700: UserWarning: The least populated class in y has only 11 members, which is less than n_splits=12.\n",
      "  warnings.warn(\n",
      "/home/s2208943/miniconda3/envs/uq/lib/python3.10/site-packages/sklearn/model_selection/_split.py:700: UserWarning: The least populated class in y has only 11 members, which is less than n_splits=12.\n",
      "  warnings.warn(\n",
      "/home/s2208943/miniconda3/envs/uq/lib/python3.10/site-packages/sklearn/model_selection/_split.py:700: UserWarning: The least populated class in y has only 11 members, which is less than n_splits=12.\n",
      "  warnings.warn(\n",
      "/home/s2208943/miniconda3/envs/uq/lib/python3.10/site-packages/sklearn/model_selection/_split.py:700: UserWarning: The least populated class in y has only 11 members, which is less than n_splits=12.\n",
      "  warnings.warn(\n",
      "/home/s2208943/miniconda3/envs/uq/lib/python3.10/site-packages/sklearn/model_selection/_split.py:700: UserWarning: The least populated class in y has only 11 members, which is less than n_splits=12.\n",
      "  warnings.warn(\n",
      "/home/s2208943/miniconda3/envs/uq/lib/python3.10/site-packages/sklearn/model_selection/_split.py:700: UserWarning: The least populated class in y has only 11 members, which is less than n_splits=12.\n",
      "  warnings.warn(\n",
      "/home/s2208943/miniconda3/envs/uq/lib/python3.10/site-packages/sklearn/model_selection/_split.py:700: UserWarning: The least populated class in y has only 11 members, which is less than n_splits=12.\n",
      "  warnings.warn(\n"
     ]
    },
    {
     "name": "stdout",
     "output_type": "stream",
     "text": [
      "cvps+umap, 0.63, 0.6\n"
     ]
    },
    {
     "name": "stderr",
     "output_type": "stream",
     "text": [
      "/home/s2208943/miniconda3/envs/uq/lib/python3.10/site-packages/sklearn/model_selection/_split.py:700: UserWarning: The least populated class in y has only 11 members, which is less than n_splits=12.\n",
      "  warnings.warn(\n",
      "/home/s2208943/miniconda3/envs/uq/lib/python3.10/site-packages/sklearn/model_selection/_split.py:700: UserWarning: The least populated class in y has only 11 members, which is less than n_splits=12.\n",
      "  warnings.warn(\n",
      "/home/s2208943/miniconda3/envs/uq/lib/python3.10/site-packages/sklearn/model_selection/_split.py:700: UserWarning: The least populated class in y has only 11 members, which is less than n_splits=12.\n",
      "  warnings.warn(\n"
     ]
    }
   ],
   "source": [
    "entt=0.9\n",
    "predt=0.9\n",
    "thresholdsv1 = {\n",
    "    \"ent1_t\":0.45,\"ent2_t\":0.1,\"ent3_t\":0.1,\"pred1_t\":0.3,\"pred2_t\":0.3,\"pred3_t\":0.6\n",
    "}\n",
    "ct1 = 0.7 # for PVWMH\n",
    "\n",
    "thresholdsv2 = {\n",
    "    \"ent1_t\":0.45,\"ent2_t\":0.3,\"ent3_t\":0.45,\"pred1_t\":0.1,\"pred2_t\":0.3,\"pred3_t\":0.1\n",
    "}\n",
    "ct2 = 0.8 # for DWMH\n",
    "\n",
    "\n",
    "# model_types = [\"clinical_only\",\"c+volume\",\"cv_pred\",\"cvp+predhists\",\"cvp+samples\",\"cvps+umap\",\"cvpsu+hists\", \"cvps+hists_double_pred\", \"cvpp\", \"cv_umap\"]\n",
    "model_types = [\"clinical_only\",\"c+volume\",\"cv_pred\", \"cvp+samples\", \"cv_umap\", \"cvs_umap\",\"cvps+umap\"]# \"cvpp\"]\n",
    "\n",
    "# model_types = [\"cvpsu+hists\"]\n",
    "\n",
    "log_feature_matches = ['sample_div', 'seg_volume', 'vent_volume', 'sum', 'mean', 'std', 'skew', 'kurt']\n",
    "\n",
    "S = 12\n",
    "\n",
    "clf = LogisticRegression(penalty='l2', dual=False, tol=0.1, C=0.1, fit_intercept=True, intercept_scaling=1, class_weight='balanced', \n",
    "                         random_state=None, solver='lbfgs', max_iter=500, multi_class='multinomial', verbose=0, warm_start=False, n_jobs=None, l1_ratio=None)\n",
    "\n",
    "pvwmh_results = {}\n",
    "\n",
    "for model_type in model_types:\n",
    "    results = run_prediction_new(full_combined_df, model_type, clf=clf, thresholds_dict=thresholdsv1, colinear_threshold=ct1, n_splits=S, val_proportion=0.0, target=\"PVWMH\", stratify_target=None, \n",
    "                   rescale=True, predict_val=False, verbose=False, metric='accuracy', do_log=False, log_feature_matches=log_feature_matches, \n",
    "                   rem_colinear_feats=True, colinear_ignores=target_fields, regression=False)\n",
    "    print(f\"{model_type}, {results[0]:.2}, {results[1]:.2}\")\n",
    "    pvwmh_results[model_type] = results"
   ]
  },
  {
   "cell_type": "code",
   "execution_count": 49,
   "id": "41e71752-5291-45b7-ae62-ea2032357dc9",
   "metadata": {},
   "outputs": [
    {
     "data": {
      "image/png": "[encoded data removed]",
      "text/plain": [
       "<Figure size 1200x500 with 4 Axes>"
      ]
     },
     "metadata": {},
     "output_type": "display_data"
    }
   ],
   "source": [
    "fig, (ax1, ax2) = plt.subplots(1, 2, figsize=(12, 5))\n",
    "plot_confusion_matrix(pvwmh_results['cv_pred'][2], pvwmh_results['cv_pred'][3], fig, ax1)\n",
    "plot_confusion_matrix(pvwmh_results['cvs_umap'][2], pvwmh_results['cvs_umap'][3], fig, ax2)"
   ]
  },
  {
   "cell_type": "code",
   "execution_count": 51,
   "id": "40930c4f-edd2-44cf-bf37-99218ad950ff",
   "metadata": {},
   "outputs": [
    {
     "name": "stdout",
     "output_type": "stream",
     "text": [
      "clinical_only, 0.29, 0.32\n",
      "c+volume, 0.5, 0.53\n",
      "cv_pred, 0.62, 0.7\n",
      "cvp+samples, 0.62, 0.68\n",
      "cv_umap, 0.62, 0.66\n",
      "cvs_umap, 0.62, 0.66\n",
      "cvps+umap, 0.64, 0.67\n"
     ]
    }
   ],
   "source": [
    "S = 12\n",
    "ct2 = 0.9\n",
    "clf = LogisticRegression(penalty='l2', dual=False, tol=0.1, C=0.1, fit_intercept=True, intercept_scaling=1, class_weight='balanced', \n",
    "                         random_state=None, solver='lbfgs', max_iter=500, multi_class='multinomial', verbose=0, warm_start=False, n_jobs=None, l1_ratio=None)\n",
    "dwmh_results08 = {}\n",
    "\n",
    "for model_type in model_types:\n",
    "    results = run_prediction_new(full_combined_df, model_type, clf=clf, thresholds_dict=thresholdsv2, colinear_threshold=0.8, n_splits=S, val_proportion=0.1, target=\"DWMH\", stratify_target=None, \n",
    "                   rescale=True, predict_val=False, verbose=False, metric='accuracy', do_log=False, log_feature_matches=log_feature_matches, \n",
    "                   rem_colinear_feats=True, colinear_ignores=target_fields, regression=False)\n",
    "    print(f\"{model_type}, {results[0]:.2}, {results[1]:.2}\")\n",
    "    dwmh_results08[model_type] = results"
   ]
  },
  {
   "cell_type": "code",
   "execution_count": 52,
   "id": "9443ec77-3498-44a3-b535-cf82ee950bd2",
   "metadata": {},
   "outputs": [
    {
     "name": "stdout",
     "output_type": "stream",
     "text": [
      "clinical_only, 0.29, 0.32\n",
      "c+volume, 0.5, 0.53\n",
      "cv_pred, 0.62, 0.68\n",
      "cvp+samples, 0.63, 0.67\n",
      "cv_umap, 0.61, 0.65\n",
      "cvs_umap, 0.62, 0.65\n",
      "cvps+umap, 0.65, 0.68\n"
     ]
    }
   ],
   "source": [
    "S = 12\n",
    "ct2 = 0.8\n",
    "clf = LogisticRegression(penalty='l2', dual=False, tol=0.1, C=0.1, fit_intercept=True, intercept_scaling=1, class_weight='balanced', \n",
    "                         random_state=None, solver='lbfgs', max_iter=500, multi_class='multinomial', verbose=0, warm_start=False, n_jobs=None, l1_ratio=None)\n",
    "dwmh_results09 = {}\n",
    "\n",
    "for model_type in model_types:\n",
    "    results = run_prediction_new(full_combined_df, model_type, clf=clf, thresholds_dict=thresholdsv2, colinear_threshold=0.9, n_splits=S, val_proportion=0.1, target=\"DWMH\", stratify_target=None, \n",
    "                   rescale=True, predict_val=False, verbose=False, metric='accuracy', do_log=False, log_feature_matches=log_feature_matches, \n",
    "                   rem_colinear_feats=True, colinear_ignores=target_fields, regression=False)\n",
    "    print(f\"{model_type}, {results[0]:.2}, {results[1]:.2}\")\n",
    "    dwmh_results09[model_type] = results"
   ]
  },
  {
   "cell_type": "code",
   "execution_count": 53,
   "id": "28f13a90-8db8-4dbe-a22f-12f6d1eea3c7",
   "metadata": {},
   "outputs": [
    {
     "data": {
      "image/png": "[encoded data removed]",
      "text/plain": [
       "<Figure size 1200x500 with 4 Axes>"
      ]
     },
     "metadata": {},
     "output_type": "display_data"
    }
   ],
   "source": [
    "fig, (ax1, ax2) = plt.subplots(1, 2, figsize=(12, 5))\n",
    "plot_confusion_matrix(dwmh_results08['cv_pred'][2], dwmh_results08['cv_pred'][3], fig, ax1)\n",
    "plot_confusion_matrix(dwmh_results09['cvs_umap'][2], dwmh_results09['cvs_umap'][3], fig, ax2)"
   ]
  },
  {
   "cell_type": "code",
   "execution_count": 54,
   "id": "c062eccd-5a41-473f-b69c-fa901a8ece38",
   "metadata": {},
   "outputs": [
    {
     "name": "stdout",
     "output_type": "stream",
     "text": [
      "clinical_only, 0.61, 0.59\n",
      "c+volume, 0.64, 0.65\n",
      "cv_pred, 0.69, 0.69\n",
      "cvp+samples, 0.69, 0.7\n",
      "cv_umap, 0.69, 0.69\n",
      "cvs_umap, 0.71, 0.71\n",
      "cvps+umap, 0.7, 0.7\n"
     ]
    }
   ],
   "source": [
    "S = 12\n",
    "ct2 = 0.8\n",
    "clf = LogisticRegression(penalty='l2', dual=False, tol=0.1, C=0.1, fit_intercept=True, intercept_scaling=1, class_weight='balanced', \n",
    "                         random_state=None, solver='lbfgs', max_iter=500, multi_class='multinomial', verbose=0, warm_start=False, n_jobs=None, l1_ratio=None)\n",
    "\n",
    "for model_type in model_types:\n",
    "    results = run_prediction_new(full_combined_df, model_type, clf=clf, thresholds_dict=thresholdsv1, colinear_threshold=ct1, n_splits=S, val_proportion=0., target=\"scale_stroke\", stratify_target=None, \n",
    "                   rescale=True, predict_val=False, verbose=False, metric='accuracy', do_log=False, log_feature_matches=log_feature_matches, \n",
    "                   rem_colinear_feats=True, colinear_ignores=target_fields, regression=False)\n",
    "    print(f\"{model_type}, {results[0]:.2}, {results[1]:.2}\")"
   ]
  },
  {
   "cell_type": "code",
   "execution_count": 55,
   "id": "83b07c79-db56-4354-ae32-9349b00cc485",
   "metadata": {},
   "outputs": [
    {
     "data": {
      "text/plain": [
       "['total_fazekas',\n",
       " 'scale_fazekas',\n",
       " 'scale_pvs',\n",
       " 'stroke_les',\n",
       " 'scale_stroke',\n",
       " 'dice',\n",
       " 'f1',\n",
       " 'avd',\n",
       " 'recall',\n",
       " 'deepAtrophy',\n",
       " 'supAtrophy',\n",
       " 'WMH',\n",
       " 'PVWMH',\n",
       " 'DWMH',\n",
       " 'BGPVS',\n",
       " 'CSPVS',\n",
       " 'micrBld']"
      ]
     },
     "execution_count": 55,
     "metadata": {},
     "output_type": "execute_result"
    }
   ],
   "source": [
    "target_fields"
   ]
  },
  {
   "cell_type": "code",
   "execution_count": 56,
   "id": "c876858a-2b9e-4cd9-96f1-53d822598c80",
   "metadata": {},
   "outputs": [
    {
     "name": "stdout",
     "output_type": "stream",
     "text": [
      "clinical_only, 0.17, 0.24\n",
      "c+volume, 0.35, 0.38\n"
     ]
    },
    {
     "name": "stderr",
     "output_type": "stream",
     "text": [
      "/home/s2208943/miniconda3/envs/uq/lib/python3.10/site-packages/sklearn/model_selection/_split.py:700: UserWarning: The least populated class in y has only 5 members, which is less than n_splits=6.\n",
      "  warnings.warn(\n",
      "/home/s2208943/miniconda3/envs/uq/lib/python3.10/site-packages/sklearn/model_selection/_split.py:700: UserWarning: The least populated class in y has only 5 members, which is less than n_splits=6.\n",
      "  warnings.warn(\n",
      "/home/s2208943/miniconda3/envs/uq/lib/python3.10/site-packages/sklearn/model_selection/_split.py:700: UserWarning: The least populated class in y has only 5 members, which is less than n_splits=6.\n",
      "  warnings.warn(\n",
      "/home/s2208943/miniconda3/envs/uq/lib/python3.10/site-packages/sklearn/model_selection/_split.py:700: UserWarning: The least populated class in y has only 5 members, which is less than n_splits=6.\n",
      "  warnings.warn(\n",
      "/home/s2208943/miniconda3/envs/uq/lib/python3.10/site-packages/sklearn/model_selection/_split.py:700: UserWarning: The least populated class in y has only 5 members, which is less than n_splits=6.\n",
      "  warnings.warn(\n",
      "/home/s2208943/miniconda3/envs/uq/lib/python3.10/site-packages/sklearn/model_selection/_split.py:700: UserWarning: The least populated class in y has only 5 members, which is less than n_splits=6.\n",
      "  warnings.warn(\n",
      "/home/s2208943/miniconda3/envs/uq/lib/python3.10/site-packages/sklearn/model_selection/_split.py:700: UserWarning: The least populated class in y has only 5 members, which is less than n_splits=6.\n",
      "  warnings.warn(\n",
      "/home/s2208943/miniconda3/envs/uq/lib/python3.10/site-packages/sklearn/model_selection/_split.py:700: UserWarning: The least populated class in y has only 5 members, which is less than n_splits=6.\n",
      "  warnings.warn(\n"
     ]
    },
    {
     "name": "stdout",
     "output_type": "stream",
     "text": [
      "cv_pred, 0.47, 0.45\n",
      "cvp+samples, 0.46, 0.44\n"
     ]
    },
    {
     "name": "stderr",
     "output_type": "stream",
     "text": [
      "/home/s2208943/miniconda3/envs/uq/lib/python3.10/site-packages/sklearn/model_selection/_split.py:700: UserWarning: The least populated class in y has only 5 members, which is less than n_splits=6.\n",
      "  warnings.warn(\n",
      "/home/s2208943/miniconda3/envs/uq/lib/python3.10/site-packages/sklearn/model_selection/_split.py:700: UserWarning: The least populated class in y has only 5 members, which is less than n_splits=6.\n",
      "  warnings.warn(\n",
      "/home/s2208943/miniconda3/envs/uq/lib/python3.10/site-packages/sklearn/model_selection/_split.py:700: UserWarning: The least populated class in y has only 5 members, which is less than n_splits=6.\n",
      "  warnings.warn(\n",
      "/home/s2208943/miniconda3/envs/uq/lib/python3.10/site-packages/sklearn/model_selection/_split.py:700: UserWarning: The least populated class in y has only 5 members, which is less than n_splits=6.\n",
      "  warnings.warn(\n"
     ]
    },
    {
     "name": "stdout",
     "output_type": "stream",
     "text": [
      "cv_umap, 0.44, 0.48\n",
      "cvs_umap, 0.44, 0.47\n",
      "cvps+umap, 0.48, 0.44\n"
     ]
    },
    {
     "name": "stderr",
     "output_type": "stream",
     "text": [
      "/home/s2208943/miniconda3/envs/uq/lib/python3.10/site-packages/sklearn/model_selection/_split.py:700: UserWarning: The least populated class in y has only 5 members, which is less than n_splits=6.\n",
      "  warnings.warn(\n",
      "/home/s2208943/miniconda3/envs/uq/lib/python3.10/site-packages/sklearn/model_selection/_split.py:700: UserWarning: The least populated class in y has only 5 members, which is less than n_splits=6.\n",
      "  warnings.warn(\n",
      "/home/s2208943/miniconda3/envs/uq/lib/python3.10/site-packages/sklearn/model_selection/_split.py:700: UserWarning: The least populated class in y has only 5 members, which is less than n_splits=6.\n",
      "  warnings.warn(\n",
      "/home/s2208943/miniconda3/envs/uq/lib/python3.10/site-packages/sklearn/model_selection/_split.py:700: UserWarning: The least populated class in y has only 5 members, which is less than n_splits=6.\n",
      "  warnings.warn(\n",
      "/home/s2208943/miniconda3/envs/uq/lib/python3.10/site-packages/sklearn/model_selection/_split.py:700: UserWarning: The least populated class in y has only 5 members, which is less than n_splits=6.\n",
      "  warnings.warn(\n",
      "/home/s2208943/miniconda3/envs/uq/lib/python3.10/site-packages/sklearn/model_selection/_split.py:700: UserWarning: The least populated class in y has only 5 members, which is less than n_splits=6.\n",
      "  warnings.warn(\n"
     ]
    }
   ],
   "source": [
    "S = 6\n",
    "ct2 = 0.8\n",
    "clf = LogisticRegression(penalty='l2', dual=False, tol=0.1, C=0.1, fit_intercept=True, intercept_scaling=1, class_weight='balanced', \n",
    "                         random_state=None, solver='lbfgs', max_iter=500, multi_class='multinomial', verbose=0, warm_start=False, n_jobs=None, l1_ratio=None)\n",
    "\n",
    "for model_type in model_types:\n",
    "    results = run_prediction_new(full_combined_df, model_type, clf=clf, thresholds_dict=thresholdsv1, colinear_threshold=ct1, n_splits=S, val_proportion=0., target=\"total_fazekas\", stratify_target=None, \n",
    "                   rescale=True, predict_val=False, verbose=False, metric='accuracy', do_log=False, log_feature_matches=log_feature_matches, \n",
    "                   rem_colinear_feats=True, colinear_ignores=target_fields, regression=False)\n",
    "    print(f\"{model_type}, {results[0]:.2}, {results[1]:.2}\")"
   ]
  },
  {
   "cell_type": "code",
   "execution_count": 57,
   "id": "eeae56a2-733c-484f-ab59-dcc5c0fd2dc4",
   "metadata": {},
   "outputs": [],
   "source": [
    "from sklearn.linear_model import Ridge, BayesianRidge"
   ]
  },
  {
   "cell_type": "code",
   "execution_count": 59,
   "id": "c0520812-34f1-4b50-99fc-f78127891eb0",
   "metadata": {},
   "outputs": [],
   "source": [
    "clinical_fields = ['sbjGroup', 'age', 'sex',\n",
    " 'diabetes', 'hypertension', 'hyperlipidaemia',\n",
    "       'smoking_0', 'smoking_1', 'smoking_2']"
   ]
  },
  {
   "cell_type": "code",
   "execution_count": 60,
   "id": "64c51857-0095-4042-89d4-7e58b2e69c37",
   "metadata": {},
   "outputs": [
    {
     "data": {
      "text/plain": [
       "['sbjGroup',\n",
       " 'age',\n",
       " 'sex',\n",
       " 'diabetes',\n",
       " 'hypertension',\n",
       " 'hyperlipidaemia',\n",
       " 'smoking_0',\n",
       " 'smoking_1',\n",
       " 'smoking_2']"
      ]
     },
     "execution_count": 60,
     "metadata": {},
     "output_type": "execute_result"
    }
   ],
   "source": [
    "clinical_fields"
   ]
  },
  {
   "cell_type": "code",
   "execution_count": 61,
   "id": "c009dbd7-be66-497f-8de3-4585414f47c1",
   "metadata": {},
   "outputs": [],
   "source": [
    "def regression_task(target):\n",
    "\n",
    "    S = 12\n",
    "\n",
    "    # clf_reg = BayesianRidge()\n",
    "    clf_reg = LinearRegression()\n",
    "    \n",
    "    all_results = {}\n",
    "\n",
    "    for model_type in model_types:\n",
    "        results = run_prediction_new(full_combined_df, model_type, clf=clf_reg, thresholds_dict=thresholdsv2, colinear_threshold=ct2, n_splits=S, val_proportion=0.0, target=target, stratify_target=\"DWMH\", \n",
    "                       rescale=True, predict_val=False, verbose=False, metric='rmse', do_log=False, log_feature_matches=log_feature_matches, \n",
    "                       rem_colinear_feats=True, colinear_ignores=target_fields, regression=True)\n",
    "        all_results[model_type] = results\n",
    "        print(f\"{model_type}, {results[0]:.2}, {results[1]:.2}\")\n",
    "    \n",
    "    return all_results"
   ]
  },
  {
   "cell_type": "code",
   "execution_count": 63,
   "id": "1845c174-a5de-4bf7-9ffc-015bd334dff8",
   "metadata": {},
   "outputs": [
    {
     "name": "stdout",
     "output_type": "stream",
     "text": [
      "clinical_only, 9.9, 9.9\n",
      "c+volume, 8.6, 8.6\n",
      "cv_pred, 8.3, 8.3\n",
      "cvp+samples, 8.2, 8.2\n",
      "cv_umap, 8.6, 8.6\n",
      "cvs_umap, 8.7, 8.7\n",
      "cvps+umap, 8.5, 8.5\n"
     ]
    }
   ],
   "source": [
    "age_results = regression_task(\"age\")"
   ]
  },
  {
   "cell_type": "code",
   "execution_count": 64,
   "id": "4135c2e2-9632-4194-b992-fe65b9185efd",
   "metadata": {},
   "outputs": [
    {
     "name": "stdout",
     "output_type": "stream",
     "text": [
      "clinical_only, 0.48, 0.48\n",
      "c+volume, 0.46, 0.46\n",
      "cv_pred, 0.47, 0.47\n",
      "cvp+samples, 0.47, 0.47\n",
      "cv_umap, 0.45, 0.45\n",
      "cvs_umap, 0.46, 0.46\n",
      "cvps+umap, 0.48, 0.48\n"
     ]
    }
   ],
   "source": [
    "sex_results = regression_task(\"sex\")"
   ]
  },
  {
   "cell_type": "code",
   "execution_count": 65,
   "id": "55d40974-685b-4920-9d6a-1dc234beb5e9",
   "metadata": {},
   "outputs": [
    {
     "name": "stdout",
     "output_type": "stream",
     "text": [
      "clinical_only, 6.9e+01, 6.9e+01\n",
      "c+volume, 6.9e+01, 6.9e+01\n",
      "cv_pred, 7.3e+01, 7.3e+01\n",
      "cvp+samples, 7.2e+01, 7.2e+01\n",
      "cv_umap, 7.4e+01, 7.4e+01\n",
      "cvs_umap, 7.3e+01, 7.3e+01\n",
      "cvps+umap, 7.6e+01, 7.6e+01\n"
     ]
    }
   ],
   "source": [
    "avd_results = regression_task(\"avd\")"
   ]
  },
  {
   "cell_type": "code",
   "execution_count": 66,
   "id": "53156cf4-2445-400e-9265-467c2b6e46a6",
   "metadata": {},
   "outputs": [
    {
     "name": "stdout",
     "output_type": "stream",
     "text": [
      "clinical_only, 0.47, 0.47\n",
      "c+volume, 0.45, 0.45\n",
      "cv_pred, 0.43, 0.43\n",
      "cvp+samples, 0.43, 0.43\n",
      "cv_umap, 0.44, 0.44\n",
      "cvs_umap, 0.44, 0.44\n",
      "cvps+umap, 0.45, 0.45\n"
     ]
    }
   ],
   "source": [
    "scale_fazekas_results = regression_task(\"scale_pvs\")"
   ]
  },
  {
   "cell_type": "markdown",
   "id": "1e80a08e-5d22-4a13-8825-d87b5f679d48",
   "metadata": {},
   "source": [
    "### Quality control via dice prediction"
   ]
  },
  {
   "cell_type": "code",
   "execution_count": 67,
   "id": "2c0ed527-7e2f-4285-a50e-be207ca5d573",
   "metadata": {},
   "outputs": [
    {
     "name": "stdout",
     "output_type": "stream",
     "text": [
      "clinical_only, 0.17, 0.17\n",
      "c+volume, 0.14, 0.14\n",
      "cv_pred, 0.098, 0.098\n",
      "cvp+samples, 0.098, 0.098\n",
      "cv_umap, 0.093, 0.093\n",
      "cvs_umap, 0.093, 0.093\n",
      "cvps+umap, 0.091, 0.091\n"
     ]
    }
   ],
   "source": [
    "dice_results = regression_task(\"dice\")"
   ]
  },
  {
   "cell_type": "code",
   "execution_count": 69,
   "id": "3ad94cca-fcaf-458a-a755-ca53bafdc22e",
   "metadata": {},
   "outputs": [
    {
     "data": {
      "image/png": "[encoded data removed]",
      "text/plain": [
       "<Figure size 1000x700 with 4 Axes>"
      ]
     },
     "metadata": {},
     "output_type": "display_data"
    }
   ],
   "source": [
    "fig, axs = plt.subplots(2, 2, figsize=(10,7))\n",
    "\n",
    "name_key = {'clinical_only':'C', 'c+volume':'CV', 'cv_pred':'CVP', 'cv_umap':'CVU'}\n",
    "colour_key = {'clinical_only':'orange', 'c+volume':'red', 'cv_pred':'blue', 'cv_umap':'grey'}\n",
    "\n",
    "for ax, dice_thresh in zip(axs.flatten(), [0.5, 0.6, 0.7, 0.8]):\n",
    "    ax.grid(which=\"major\", axis='x', color='#DAD8D7', alpha=0.5, zorder=0)\n",
    "    ax.grid(which=\"major\", axis='y', color='#DAD8D7', alpha=0.5, zorder=0)\n",
    "    \n",
    "    for method in ['clinical_only', 'c+volume', 'cv_pred', 'cv_umap']:\n",
    "        # method = 'clinical_only'\n",
    "        target = dice_results[method][2]\n",
    "        pred = dice_results[method][3]\n",
    "\n",
    "        bad_images = target < dice_thresh\n",
    "        num_bad_images = bad_images.sum()\n",
    "\n",
    "        ax.plot([0, num_bad_images], [num_bad_images, 0], linestyle='dashed')\n",
    "\n",
    "        thresholds = torch.arange(0, 1, 0.01)\n",
    "\n",
    "        xs = []\n",
    "        ys = []\n",
    "\n",
    "        for t in thresholds:\n",
    "            flagged_images = pred < t\n",
    "            num_flagged_images = flagged_images.sum()\n",
    "            remaining_bad_images = bad_images * (torch.logical_not(flagged_images))\n",
    "            num_remaining_bad_images = remaining_bad_images.sum()\n",
    "\n",
    "            ys.append(num_remaining_bad_images)\n",
    "            xs.append(num_flagged_images)\n",
    "\n",
    "        ax.plot(xs, ys, label=name_key[method], c=colour_key[method])\n",
    "        ax.set_ylabel(f\"Num. images with \\n Dice < {dice_thresh}\")\n",
    "        ax.set_xlabel(\"Num. flagged images\")\n",
    "        ax.spines[['top','right']].set_visible(False) # Remove the top and right spines\n",
    "        ax.spines[['left', 'bottom']].set_linewidth(1.1) # make the left and bottom spines thicker#\n",
    "        ax.spines[['left', 'bottom']].set_color('#585858')\n",
    "        # break\n",
    "    ax.legend()\n",
    "fig.tight_layout()\n",
    "\n",
    "plt.suptitle(\"Performance of poor segmentation classifiers on in-house data\\n (WMH seg model trained on Challenge data)\")\n",
    "fig.tight_layout()\n",
    "\n",
    "plt.savefig(\"qual_control_CVD_with_challenge.pdf\")"
   ]
  },
  {
   "cell_type": "markdown",
   "id": "2392a958-c980-4fb9-96bb-3a6fab768c85",
   "metadata": {},
   "source": [
    "### saving the models for the generalization test"
   ]
  },
  {
   "cell_type": "code",
   "execution_count": 160,
   "id": "c8504685-0f6c-4c46-bcd6-ad700a10f9c6",
   "metadata": {},
   "outputs": [],
   "source": [
    "def compute_accuracy_classification(clf, X, y):\n",
    "    y_hat = clf.predict(X)\n",
    "    y_target = y\n",
    "    \n",
    "    accuracy = accuracy_score(y_target, y_hat)\n",
    "    # print(accuracy)\n",
    "    accuracy = (y_hat == y_target).mean()\n",
    "    # print(accuracy)\n",
    "\n",
    "    class_preds = defaultdict(list)\n",
    "    for yi in range(len(y_target)):\n",
    "        yi_gt = y_target[yi]\n",
    "        yi_hat = y_hat[yi]\n",
    "        class_preds[yi_gt].append(yi_hat)\n",
    "    # print(class_preds)\n",
    "    class_preds = {yi: torch.Tensor(preds) for (yi, preds) in class_preds.items()}\n",
    "    # print(class_preds)\n",
    "    class_accs = [(preds == yi).sum().item()/preds.shape[0] for (yi, preds) in class_preds.items()]\n",
    "    balanced_accuracy = torch.Tensor(class_accs).mean().item()\n",
    "    \n",
    "    return accuracy, balanced_accuracy, y_target, y_hat"
   ]
  },
  {
   "cell_type": "code",
   "execution_count": 42,
   "id": "17e06d44-c8ad-4156-b8ed-df3156403845",
   "metadata": {},
   "outputs": [],
   "source": [
    "def compute_accuracy_regression(clf, X, y):\n",
    "    y_hat = clf.predict(X)\n",
    "    y_target = y\n",
    "    \n",
    "    return np.mean(np.abs(y_target - y_hat)), 0."
   ]
  },
  {
   "cell_type": "code",
   "execution_count": 43,
   "id": "255a6270-447c-4391-8063-be7a8b9178cd",
   "metadata": {},
   "outputs": [],
   "source": [
    "def train_final_model(df, model_type, thresholds_dict, clf, target=\"DWMH\", label_categories=target_fields, \n",
    "                   rescale=True, do_log=False, log_feature_matches=None, \n",
    "                   rem_colinear_feats=False, colinear_threshold=0.8, colinear_ignores=target_fields, regression=False, stratify_target=None):\n",
    "    verbose=False\n",
    "    df = df.copy() # just to make sure I don't accidently modify the original at any point.\n",
    "    \n",
    "    # create the training data df\n",
    "    df = load_model_df(df, model_type, **thresholds_dict)\n",
    "    \n",
    "    # run preprocessing on the data\n",
    "    #df = shuffle(df)\n",
    "    #print(df.keys().values)\n",
    "    if do_log:\n",
    "        df = shift_and_log_features(df, log_feature_matches, verbose=verbose)\n",
    "    if rem_colinear_feats:\n",
    "        remaining_keys = create_minimal_correlation_keys(df, ignore_keys=colinear_ignores, threshold=colinear_threshold, verbose=verbose)\n",
    "        df = df[remaining_keys + colinear_ignores]\n",
    "    X, y = extract_Xy(df, target, verbose, kept_column=stratify_target, label_categories=label_categories)\n",
    "    X = X.reset_index()\n",
    "    \n",
    "    rescaler = None\n",
    "    if rescale:\n",
    "        rescaler = Rescaler()\n",
    "        rescaler.fit(X)\n",
    "        X = rescaler.predict(X)\n",
    "    \n",
    "    clf.fit(X, y)\n",
    "    \n",
    "    return X, y, clf, rescaler, remaining_keys"
   ]
  },
  {
   "cell_type": "code",
   "execution_count": 73,
   "id": "ea98e6d3-a123-408e-b523-aad2229e41dc",
   "metadata": {},
   "outputs": [],
   "source": [
    "def load_and_evaluate_model(clf, rescaler, df, model_type, remaining_keys, target=\"DWMH\", label_categories=target_fields, \n",
    "                   rescale=True, do_log=False, log_feature_matches=None, \n",
    "                   rem_colinear_feats=False, colinear_ignores=target_fields, regression=False, stratify_target=None):\n",
    "    verbose=False\n",
    "    df = df.copy() # just to make sure I don't accidently modify the original at any point.\n",
    "    \n",
    "    # create the training data df\n",
    "    #df = load_model_df(df, model_type, **thresholds_dict)\n",
    "    \n",
    "    key_replace = {\"AGE\": \"age\", \"PTGENDER\": \"sex\"}\n",
    "    columns = df.columns\n",
    "    for new_key, key in key_replace.items():\n",
    "        if key in columns:\n",
    "            df[new_key] = df[key]\n",
    "            df.drop(columns=key)\n",
    "    \n",
    "    # run preprocessing on the data\n",
    "    #df = shuffle(df)\n",
    "    #print(df.keys().values)\n",
    "    if do_log:\n",
    "        df = shift_and_log_features(df, log_feature_matches, verbose=verbose)\n",
    "        \n",
    "    if rem_colinear_feats:\n",
    "        df = df[remaining_keys + colinear_ignores]\n",
    "        \n",
    "    # print(\"BEFORE HAND -----------\")\n",
    "    # print(df.keys())\n",
    "    X, y = extract_Xy(df, target, verbose, kept_column=stratify_target, label_categories=label_categories)\n",
    "    X = X.reset_index()\n",
    "    # print(\"AFTER -----------------\")\n",
    "    # print(X.keys())\n",
    "    \n",
    "    if rescale:\n",
    "        X = rescaler.predict(X)\n",
    "    \n",
    "    if regression:\n",
    "        return compute_accuracy_regression(clf, X, y)\n",
    "    else:\n",
    "        return compute_accuracy_classification(clf, X, y)"
   ]
  },
  {
   "cell_type": "code",
   "execution_count": 45,
   "id": "f67a86e9-95fb-4447-bdd7-ba812f0922d0",
   "metadata": {},
   "outputs": [],
   "source": [
    "import pickle"
   ]
  },
  {
   "cell_type": "code",
   "execution_count": 46,
   "id": "9db223bd-cba9-4374-a538-ed05b83f6123",
   "metadata": {},
   "outputs": [],
   "source": [
    "thresholdsv1 = {\n",
    "    \"ent1_t\":0.45,\"ent2_t\":0.1,\"ent3_t\":0.1,\"pred1_t\":0.3,\"pred2_t\":0.3,\"pred3_t\":0.6\n",
    "}\n",
    "ct1 = 0.7 # for PVWMH\n",
    "\n",
    "thresholdsv2 = {\n",
    "    \"ent1_t\":0.45,\"ent2_t\":0.3,\"ent3_t\":0.45,\"pred1_t\":0.1,\"pred2_t\":0.3,\"pred3_t\":0.1\n",
    "}\n",
    "ct2 = 0.8 # for DWMH"
   ]
  },
  {
   "cell_type": "code",
   "execution_count": 62,
   "id": "8280cf8c-5bc8-416d-9469-66f43bfc594c",
   "metadata": {},
   "outputs": [],
   "source": [
    "def train_and_save_model(filename, target, thresholds_dict, colinear_threshold, stratify_target=None, regression=False):\n",
    "    \n",
    "    model_data = {}\n",
    "    model_types = [\"clinical_only\",\"c+volume\",\"cv_pred\", \"cv_pred0.5\", \"cvp+samples\", \"cv_umap\", \"cvs_umap\",\"cvps+umap\"]\n",
    "\n",
    "    # PVWMH\n",
    "    for model_type in model_types:\n",
    "            if regression:\n",
    "                clf = LinearRegression()\n",
    "            else:\n",
    "                clf = LogisticRegression(penalty='l2', dual=False, tol=0.1, C=0.1, fit_intercept=True, intercept_scaling=1, class_weight='balanced', \n",
    "                                     random_state=None, solver='lbfgs', max_iter=500, multi_class='multinomial', verbose=0, warm_start=False, n_jobs=None, l1_ratio=None)\n",
    "\n",
    "            X, y, clf, rescaler, remaining_keys = train_final_model(full_combined_df, model_type, clf=clf, thresholds_dict=thresholds_dict, colinear_threshold=colinear_threshold, \n",
    "                                                                    target=target, rescale=True,  do_log=False, log_feature_matches=log_feature_matches, \n",
    "                           rem_colinear_feats=True, colinear_ignores=target_fields, regression=regression, stratify_target=stratify_target)\n",
    "\n",
    "            model_data[model_type] = {\"clf\":clf, \"rescaler\": rescaler, \"remaining_keys\": remaining_keys}\n",
    "\n",
    "            if not regression:\n",
    "                acc, balanced_acc = compute_accuracy_classification(clf, X, y)\n",
    "                print(f\"{model_type}: {acc:.2}, {balanced_acc:.2}\")\n",
    "            else:\n",
    "                mae, _ = compute_accuracy_regression(clf, X, y)\n",
    "                print(f\"{model_type}: {mae:.2}\")\n",
    "                \n",
    "    with open(f'saved_models/{filename}.model', 'wb') as handle:\n",
    "        pickle.dump(model_data, handle, protocol=pickle.HIGHEST_PROTOCOL)\n",
    "\n",
    "    with open(f'saved_models/{filename}.model', 'rb') as pickle_file:\n",
    "        content = pickle.load(pickle_file)\n",
    "\n",
    "    print(\"\\nassess that saved model has the same performance\")\n",
    "\n",
    "    for key in content:\n",
    "        data = content[key]\n",
    "        acc, balanced_acc = load_and_evaluate_model(data['clf'], data['rescaler'], full_combined_df, model_type=key, remaining_keys = data['remaining_keys'],\n",
    "                       target=target, label_categories=target_fields, \n",
    "                       rescale=True, do_log=False, log_feature_matches=None, \n",
    "                       rem_colinear_feats=True, colinear_ignores=target_fields, regression=regression, stratify_target=stratify_target)\n",
    "        print(f\"{key}: {acc:.2}, {balanced_acc:.2}\")"
   ]
  },
  {
   "cell_type": "code",
   "execution_count": 151,
   "id": "bcb9c763-6ae3-4ba1-a87c-5744db1e081e",
   "metadata": {},
   "outputs": [],
   "source": [
    "# clinical_fields = ['sbjGroup', 'age', 'sex',\n",
    "#  'diabetes', 'hypertension', 'hyperlipidaemia',\n",
    "#        'smoking_0', 'smoking_1', 'smoking_2']\n",
    "# ICV is a bad feature that breaks things!!!\n",
    "clinical_fields = ['sex']"
   ]
  },
  {
   "cell_type": "code",
   "execution_count": 152,
   "id": "fa7c64d1-21bd-42fa-a3e9-c1956d80b98d",
   "metadata": {},
   "outputs": [
    {
     "name": "stdout",
     "output_type": "stream",
     "text": [
      "clinical_only: 0.22, 0.3\n",
      "c+volume: 0.49, 0.63\n",
      "cv_pred: 0.7, 0.75\n",
      "cv_pred0.5: 0.66, 0.72\n",
      "cvp+samples: 0.69, 0.74\n",
      "cv_umap: 0.69, 0.73\n",
      "cvs_umap: 0.68, 0.73\n",
      "cvps+umap: 0.72, 0.77\n",
      "\n",
      "assess that saved model has the same performance\n",
      "clinical_only: 0.22, 0.3\n",
      "c+volume: 0.49, 0.63\n",
      "cv_pred: 0.7, 0.75\n",
      "cv_pred0.5: 0.66, 0.72\n",
      "cvp+samples: 0.69, 0.74\n",
      "cv_umap: 0.69, 0.73\n",
      "cvs_umap: 0.68, 0.73\n",
      "cvps+umap: 0.72, 0.77\n"
     ]
    }
   ],
   "source": [
    "train_and_save_model('CHAL_BASED_CVD_PVWMH', target=\"PVWMH\", thresholds_dict = thresholdsv1, colinear_threshold = ct1)"
   ]
  },
  {
   "cell_type": "code",
   "execution_count": 153,
   "id": "1f1a0ef0-809b-489d-ac9d-5563aa01b990",
   "metadata": {},
   "outputs": [
    {
     "name": "stdout",
     "output_type": "stream",
     "text": [
      "clinical_only: 0.25, 0.34\n",
      "c+volume: 0.52, 0.58\n",
      "cv_pred: 0.69, 0.74\n",
      "cv_pred0.5: 0.66, 0.72\n",
      "cvp+samples: 0.67, 0.73\n",
      "cv_umap: 0.69, 0.75\n",
      "cvs_umap: 0.68, 0.75\n",
      "cvps+umap: 0.74, 0.78\n",
      "\n",
      "assess that saved model has the same performance\n",
      "clinical_only: 0.25, 0.34\n",
      "c+volume: 0.52, 0.58\n",
      "cv_pred: 0.69, 0.74\n",
      "cv_pred0.5: 0.66, 0.72\n",
      "cvp+samples: 0.67, 0.73\n",
      "cv_umap: 0.69, 0.75\n",
      "cvs_umap: 0.68, 0.75\n",
      "cvps+umap: 0.74, 0.78\n"
     ]
    }
   ],
   "source": [
    "train_and_save_model('CHAL_BASED_CVD_DWMH_0.8', target=\"DWMH\", thresholds_dict = thresholdsv2, colinear_threshold = 0.8)"
   ]
  },
  {
   "cell_type": "code",
   "execution_count": 154,
   "id": "4808f36b-bc96-42cb-9c46-52b3c0a78dfe",
   "metadata": {},
   "outputs": [
    {
     "name": "stdout",
     "output_type": "stream",
     "text": [
      "clinical_only: 0.25, 0.34\n",
      "c+volume: 0.52, 0.58\n",
      "cv_pred: 0.7, 0.76\n",
      "cv_pred0.5: 0.66, 0.72\n",
      "cvp+samples: 0.71, 0.77\n",
      "cv_umap: 0.67, 0.74\n",
      "cvs_umap: 0.68, 0.75\n",
      "cvps+umap: 0.76, 0.8\n",
      "\n",
      "assess that saved model has the same performance\n",
      "clinical_only: 0.25, 0.34\n",
      "c+volume: 0.52, 0.58\n",
      "cv_pred: 0.7, 0.76\n",
      "cv_pred0.5: 0.66, 0.72\n",
      "cvp+samples: 0.71, 0.77\n",
      "cv_umap: 0.67, 0.74\n",
      "cvs_umap: 0.68, 0.75\n",
      "cvps+umap: 0.76, 0.8\n"
     ]
    }
   ],
   "source": [
    "train_and_save_model('CHAL_BASED_CVD_DWMH_0.9', target=\"DWMH\", thresholds_dict = thresholdsv2, colinear_threshold = 0.9)"
   ]
  },
  {
   "cell_type": "code",
   "execution_count": 155,
   "id": "87f1ec9d-8e72-4896-bb89-fbaab14e5bfc",
   "metadata": {},
   "outputs": [
    {
     "name": "stdout",
     "output_type": "stream",
     "text": [
      "clinical_only: 0.17, 0.26\n",
      "c+volume: 0.36, 0.47\n",
      "cv_pred: 0.57, 0.61\n",
      "cv_pred0.5: 0.53, 0.59\n",
      "cvp+samples: 0.58, 0.64\n",
      "cv_umap: 0.53, 0.62\n",
      "cvs_umap: 0.55, 0.62\n",
      "cvps+umap: 0.6, 0.65\n",
      "\n",
      "assess that saved model has the same performance\n",
      "clinical_only: 0.17, 0.26\n",
      "c+volume: 0.36, 0.47\n",
      "cv_pred: 0.57, 0.61\n",
      "cv_pred0.5: 0.53, 0.59\n",
      "cvp+samples: 0.58, 0.64\n",
      "cv_umap: 0.53, 0.62\n",
      "cvs_umap: 0.55, 0.62\n",
      "cvps+umap: 0.6, 0.65\n"
     ]
    }
   ],
   "source": [
    "train_and_save_model('CHAL_BASED_CVD_total_fazekas', target=\"total_fazekas\", thresholds_dict = thresholdsv1, colinear_threshold = ct1)"
   ]
  },
  {
   "cell_type": "code",
   "execution_count": 157,
   "id": "62a26157-c5f3-472f-b68d-a2e84fc9d922",
   "metadata": {},
   "outputs": [],
   "source": [
    "#train_and_save_model('CHAL_BASED_CVD_age', target=\"age\", thresholds_dict = thresholdsv1, colinear_threshold = ct1, regression=True)"
   ]
  },
  {
   "cell_type": "code",
   "execution_count": 158,
   "id": "cf2c8267-2daa-4ea1-9896-28690256dc4e",
   "metadata": {},
   "outputs": [
    {
     "name": "stdout",
     "output_type": "stream",
     "text": [
      "clinical_only: 0.45\n",
      "c+volume: 0.43\n",
      "cv_pred: 0.41\n",
      "cv_pred0.5: 0.42\n",
      "cvp+samples: 0.41\n",
      "cv_umap: 0.39\n",
      "cvs_umap: 0.39\n",
      "cvps+umap: 0.39\n",
      "\n",
      "assess that saved model has the same performance\n",
      "clinical_only: 0.45, 0.0\n",
      "c+volume: 0.43, 0.0\n",
      "cv_pred: 0.41, 0.0\n",
      "cv_pred0.5: 0.42, 0.0\n",
      "cvp+samples: 0.41, 0.0\n",
      "cv_umap: 0.39, 0.0\n",
      "cvs_umap: 0.39, 0.0\n",
      "cvps+umap: 0.39, 0.0\n"
     ]
    }
   ],
   "source": [
    "train_and_save_model('CHAL_BASED_CVD_sex', target=\"sex\", thresholds_dict = thresholdsv1, colinear_threshold = ct1, regression=True)"
   ]
  },
  {
   "cell_type": "code",
   "execution_count": null,
   "id": "275044d4-36cc-4d3f-8a10-cfae041cdbb0",
   "metadata": {},
   "outputs": [],
   "source": []
  },
  {
   "cell_type": "markdown",
   "id": "652f1e94-4e2a-4cb3-9738-77fdc8e7bb23",
   "metadata": {
    "tags": []
   },
   "source": [
    "### evaluating the models trained on the on the ADNI dataset"
   ]
  },
  {
   "cell_type": "code",
   "execution_count": 159,
   "id": "a67cf9dc-af0f-454c-b315-ae06ba58e12d",
   "metadata": {},
   "outputs": [],
   "source": [
    "def load_and_save_all_models(filename, target, stratify_target=None, regression=False, seg_eval_ds=\"CVD\"):\n",
    "    with open(f'saved_models/{filename}.model', 'rb') as pickle_file:\n",
    "        content = pickle.load(pickle_file)\n",
    "\n",
    "    model_type_name_map = {\"clinical_only\":\"C\",\"c+volume\":\"CV\",\"cv_pred\":\"CVP\", \"cv_pred0.5\":\"CVP0.5\", \"cvp+samples\":\"CVPS\", \"cv_umap\":\"CVH\", \"cvs_umap\":\"CVSH\",\"cvps+umap\":\"CVPSH\"}\n",
    "        \n",
    "    print(\"\\nassess that saved model has the same performance\")\n",
    "\n",
    "    model_results = {}\n",
    "    \n",
    "    for key in content:\n",
    "        data = content[key]\n",
    "        #print(data['remaining_keys'])\n",
    "        acc, balanced_acc, targets, preds = load_and_evaluate_model(data['clf'], data['rescaler'], full_combined_df, model_type=key, remaining_keys = data['remaining_keys'],\n",
    "                       target=target, label_categories=target_fields, \n",
    "                       rescale=True, do_log=False, log_feature_matches=None, \n",
    "                       rem_colinear_feats=True, colinear_ignores=target_fields, regression=regression, stratify_target=stratify_target)\n",
    "        print(f\"{key}: {acc:.2}, {balanced_acc:.2}\")\n",
    "        model_results[key] = (acc, balanced_acc, targets, preds)\n",
    "        \n",
    "#         with open(\"generalization_tests_results.csv\", \"a\") as f:\n",
    "#             model_name = model_type_name_map[key]\n",
    "            \n",
    "#             if \"CHAL\" in filename:\n",
    "#                 wmh_seg_train_ds = \"WMH Challenge\"\n",
    "#             else:\n",
    "#                 wmh_seg_train_ds = \"CVD\"\n",
    "                \n",
    "            \n",
    "#             if \"ADNI\" in filename:\n",
    "#                 fazekas_pred_ds = \"ADNI\"\n",
    "#                 fazekas_eval_ds = \"CVD\"\n",
    "#             else:\n",
    "#                 fazekas_pred_ds = \"CVD\"\n",
    "#                 fazekas_eval_ds = \"ADNI\"\n",
    "                \n",
    "            #f.write(f\"{model_name}, {wmh_seg_train_ds}, {fazekas_pred_ds}, {fazekas_eval_ds}, {seg_eval_ds}, {target}, {filename}, {acc:.2}, {balanced_acc:.2}\\n\")\n",
    "    return model_results"
   ]
  },
  {
   "cell_type": "code",
   "execution_count": 101,
   "id": "d3c0be55-d698-489d-b901-b43ff87f37dc",
   "metadata": {},
   "outputs": [
    {
     "name": "stdout",
     "output_type": "stream",
     "text": [
      "\n",
      "assess that saved model has the same performance\n",
      "clinical_only: 0.24, 0.25\n",
      "c+volume: 0.26, 0.27\n",
      "cv_pred: 0.25, 0.26\n",
      "cv_pred0.5: 0.4, 0.39\n",
      "cvp+samples: 0.42, 0.41\n",
      "cv_umap: 0.24, 0.25\n",
      "cvs_umap: 0.24, 0.25\n",
      "cvps+umap: 0.26, 0.25\n"
     ]
    }
   ],
   "source": [
    "load_and_save_all_models(\"ADNI_PVWMH\", \"PVWMH\", seg_eval_ds=\"WMH_Challenge\")"
   ]
  },
  {
   "cell_type": "code",
   "execution_count": 102,
   "id": "399e1215-25b8-4049-8f29-39fc75922e6a",
   "metadata": {},
   "outputs": [
    {
     "name": "stdout",
     "output_type": "stream",
     "text": [
      "\n",
      "assess that saved model has the same performance\n",
      "clinical_only: 0.18, 0.25\n",
      "c+volume: 0.21, 0.25\n",
      "cv_pred: 0.24, 0.3\n",
      "cv_pred0.5: 0.18, 0.25\n",
      "cvp+samples: 0.21, 0.25\n",
      "cv_umap: 0.21, 0.25\n",
      "cvs_umap: 0.21, 0.25\n",
      "cvps+umap: 0.21, 0.25\n"
     ]
    }
   ],
   "source": [
    "load_and_save_all_models(\"ADNI_DWMH_0.8\", \"DWMH\", seg_eval_ds=\"WMH_Challenge\")"
   ]
  },
  {
   "cell_type": "code",
   "execution_count": 103,
   "id": "396a5d13-8492-47bb-b2a0-a08fabe9d0a3",
   "metadata": {},
   "outputs": [
    {
     "name": "stdout",
     "output_type": "stream",
     "text": [
      "\n",
      "assess that saved model has the same performance\n",
      "clinical_only: 0.18, 0.25\n",
      "c+volume: 0.21, 0.25\n",
      "cv_pred: 0.21, 0.25\n",
      "cv_pred0.5: 0.28, 0.36\n",
      "cvp+samples: 0.22, 0.25\n",
      "cv_umap: 0.21, 0.26\n",
      "cvs_umap: 0.22, 0.26\n",
      "cvps+umap: 0.21, 0.25\n"
     ]
    }
   ],
   "source": [
    "load_and_save_all_models(\"ADNI_DWMH_0.9\", \"DWMH\", seg_eval_ds=\"WMH_Challenge\")"
   ]
  },
  {
   "cell_type": "code",
   "execution_count": 104,
   "id": "4aad0e6c-85c8-48e3-bbd5-1a54bbea73dc",
   "metadata": {},
   "outputs": [
    {
     "name": "stdout",
     "output_type": "stream",
     "text": [
      "\n",
      "assess that saved model has the same performance\n",
      "clinical_only: 0.15, 0.14\n",
      "c+volume: 0.15, 0.14\n",
      "cv_pred: 0.15, 0.14\n",
      "cv_pred0.5: 0.15, 0.14\n",
      "cvp+samples: 0.17, 0.16\n",
      "cv_umap: 0.16, 0.15\n",
      "cvs_umap: 0.16, 0.15\n",
      "cvps+umap: 0.19, 0.21\n"
     ]
    }
   ],
   "source": [
    "load_and_save_all_models(\"ADNI_total_fazekas\", \"total_fazekas\", seg_eval_ds=\"WMH_Challenge\")"
   ]
  },
  {
   "cell_type": "code",
   "execution_count": 105,
   "id": "cd733a64-6363-4851-a2e5-65f5ca288f3b",
   "metadata": {},
   "outputs": [
    {
     "name": "stdout",
     "output_type": "stream",
     "text": [
      "\n",
      "assess that saved model has the same performance\n",
      "clinical_only: 5.6, 0.0\n",
      "c+volume: 2.7, 0.0\n",
      "cv_pred: 3.7, 0.0\n",
      "cv_pred0.5: 2.5, 0.0\n",
      "cvp+samples: 3.5, 0.0\n",
      "cv_umap: 5.7, 0.0\n",
      "cvs_umap: 5.9, 0.0\n",
      "cvps+umap: 5.2, 0.0\n"
     ]
    }
   ],
   "source": [
    "load_and_save_all_models(\"ADNI_sex\", \"PTGENDER\", regression=True, seg_eval_ds=\"WMH_Challenge\")"
   ]
  },
  {
   "cell_type": "markdown",
   "id": "6ce616d3-cae6-4e7f-9e8c-1148265fadd1",
   "metadata": {},
   "source": [
    "### Evaluate the models trained with the WMH Challenge uncertainty maps"
   ]
  },
  {
   "cell_type": "code",
   "execution_count": 106,
   "id": "92df18cf-3bf6-420e-b586-8f0a1a6fb671",
   "metadata": {},
   "outputs": [
    {
     "name": "stdout",
     "output_type": "stream",
     "text": [
      "\n",
      "assess that saved model has the same performance\n",
      "clinical_only: 0.24, 0.25\n",
      "c+volume: 0.26, 0.27\n",
      "cv_pred: 0.25, 0.26\n",
      "cv_pred0.5: 0.4, 0.39\n",
      "cvp+samples: 0.41, 0.41\n",
      "cv_umap: 0.24, 0.25\n",
      "cvs_umap: 0.25, 0.26\n",
      "cvps+umap: 0.26, 0.25\n"
     ]
    }
   ],
   "source": [
    "load_and_save_all_models(\"CHAL_BASED_ADNI_PVWMH\", \"PVWMH\", seg_eval_ds=\"WMH_Challenge\")"
   ]
  },
  {
   "cell_type": "code",
   "execution_count": 107,
   "id": "72830025-819b-4e3a-aa6d-2710ee9bb42d",
   "metadata": {},
   "outputs": [
    {
     "name": "stdout",
     "output_type": "stream",
     "text": [
      "\n",
      "assess that saved model has the same performance\n",
      "clinical_only: 0.18, 0.25\n",
      "c+volume: 0.21, 0.25\n",
      "cv_pred: 0.24, 0.3\n",
      "cv_pred0.5: 0.18, 0.25\n",
      "cvp+samples: 0.21, 0.25\n",
      "cv_umap: 0.21, 0.25\n",
      "cvs_umap: 0.21, 0.25\n",
      "cvps+umap: 0.21, 0.25\n"
     ]
    }
   ],
   "source": [
    "load_and_save_all_models(\"CHAL_BASED_ADNI_DWMH_0.8\", \"DWMH\", seg_eval_ds=\"WMH_Challenge\")"
   ]
  },
  {
   "cell_type": "code",
   "execution_count": 108,
   "id": "71410fe0-e223-4b51-922e-dcf8911168eb",
   "metadata": {},
   "outputs": [
    {
     "name": "stdout",
     "output_type": "stream",
     "text": [
      "\n",
      "assess that saved model has the same performance\n",
      "clinical_only: 0.18, 0.25\n",
      "c+volume: 0.21, 0.25\n",
      "cv_pred: 0.21, 0.25\n",
      "cv_pred0.5: 0.28, 0.36\n",
      "cvp+samples: 0.21, 0.25\n",
      "cv_umap: 0.21, 0.26\n",
      "cvs_umap: 0.22, 0.26\n",
      "cvps+umap: 0.21, 0.25\n"
     ]
    }
   ],
   "source": [
    "load_and_save_all_models(\"CHAL_BASED_ADNI_DWMH_0.9\", \"DWMH\", seg_eval_ds=\"WMH_Challenge\")"
   ]
  },
  {
   "cell_type": "code",
   "execution_count": 109,
   "id": "48f06e6c-df58-4fa2-8ae4-d01db0c8ee08",
   "metadata": {},
   "outputs": [
    {
     "name": "stdout",
     "output_type": "stream",
     "text": [
      "\n",
      "assess that saved model has the same performance\n",
      "clinical_only: 0.15, 0.14\n",
      "c+volume: 0.15, 0.14\n",
      "cv_pred: 0.15, 0.14\n",
      "cv_pred0.5: 0.15, 0.14\n",
      "cvp+samples: 0.19, 0.19\n",
      "cv_umap: 0.16, 0.15\n",
      "cvs_umap: 0.17, 0.16\n",
      "cvps+umap: 0.18, 0.2\n"
     ]
    }
   ],
   "source": [
    "load_and_save_all_models(\"CHAL_BASED_ADNI_total_fazekas\", \"total_fazekas\", seg_eval_ds=\"WMH_Challenge\")"
   ]
  },
  {
   "cell_type": "code",
   "execution_count": 110,
   "id": "fc314963-609b-46d4-abfe-d3f1700c722b",
   "metadata": {},
   "outputs": [
    {
     "name": "stdout",
     "output_type": "stream",
     "text": [
      "\n",
      "assess that saved model has the same performance\n",
      "clinical_only: 5.6, 0.0\n",
      "c+volume: 2.7, 0.0\n",
      "cv_pred: 3.7, 0.0\n",
      "cv_pred0.5: 2.5, 0.0\n",
      "cvp+samples: 3.5, 0.0\n",
      "cv_umap: 5.7, 0.0\n",
      "cvs_umap: 5.7, 0.0\n",
      "cvps+umap: 5.4, 0.0\n"
     ]
    }
   ],
   "source": [
    "load_and_save_all_models(\"CHAL_BASED_ADNI_sex\", \"PTGENDER\", regression=True, seg_eval_ds=\"WMH_Challenge\")"
   ]
  },
  {
   "cell_type": "code",
   "execution_count": null,
   "id": "51e5847e-6cf3-4ccb-bdb9-43e62c225ea3",
   "metadata": {},
   "outputs": [],
   "source": []
  },
  {
   "cell_type": "code",
   "execution_count": null,
   "id": "4da1be85-a722-4798-82b9-d6e114b3aa0a",
   "metadata": {},
   "outputs": [],
   "source": []
  },
  {
   "cell_type": "code",
   "execution_count": null,
   "id": "717e3b54-b524-4a0f-9e43-0a6eee319aea",
   "metadata": {},
   "outputs": [],
   "source": []
  },
  {
   "cell_type": "code",
   "execution_count": null,
   "id": "5caa4aca-b37e-4f47-95b5-2662ea74f9f6",
   "metadata": {},
   "outputs": [],
   "source": []
  },
  {
   "cell_type": "code",
   "execution_count": null,
   "id": "a7ae47a7-a9b2-4d42-b549-f4d17f9c296d",
   "metadata": {},
   "outputs": [],
   "source": []
  },
  {
   "cell_type": "code",
   "execution_count": null,
   "id": "2b107a45-72fd-4670-9303-b314122f2b5d",
   "metadata": {},
   "outputs": [],
   "source": []
  }
 ],
 "metadata": {
  "kernelspec": {
   "display_name": "Python 3 (ipykernel)",
   "language": "python",
   "name": "python3"
  },
  "language_info": {
   "codemirror_mode": {
    "name": "ipython",
    "version": 3
   },
   "file_extension": ".py",
   "mimetype": "text/x-python",
   "name": "python",
   "nbconvert_exporter": "python",
   "pygments_lexer": "ipython3",
   "version": "3.10.8"
  }
 },
 "nbformat": 4,
 "nbformat_minor": 5
}
