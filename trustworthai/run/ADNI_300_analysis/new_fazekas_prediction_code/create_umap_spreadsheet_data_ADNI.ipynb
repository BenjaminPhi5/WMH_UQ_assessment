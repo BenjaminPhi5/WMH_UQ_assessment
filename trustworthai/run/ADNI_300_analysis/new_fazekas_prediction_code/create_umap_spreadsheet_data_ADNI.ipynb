{
 "cells": [
  {
   "cell_type": "markdown",
   "id": "229f024d-8140-4c3e-8dd8-3240a867fde3",
   "metadata": {},
   "source": [
    "# feature extraction for logistic ADNI models\n",
    "load the predictions for the validation model for each.\n",
    "\n",
    "and compute the confusion matrix, the precision and f1 score (multiclass)\n",
    "and roc curve maybe? what curves do we use for multiclass.\n"
   ]
  },
  {
   "cell_type": "code",
   "execution_count": 20,
   "id": "732f1512-609f-4f02-93e2-fc7da2a34a7b",
   "metadata": {},
   "outputs": [
    {
     "name": "stdout",
     "output_type": "stream",
     "text": [
      "strawberry\n",
      "banana\n"
     ]
    }
   ],
   "source": [
    "# trainer\n",
    "print(\"strawberry\")\n",
    "from trustworthai.utils.fitting_and_inference.fitters.basic_lightning_fitter import StandardLitModelWrapper\n",
    "from trustworthai.utils.fitting_and_inference.get_trainer import get_trainer\n",
    "\n",
    "# data\n",
    "from twaidata.torchdatasets.MRI_3D_nolabels_inram_ds import MRI_3D_nolabels_inram_ds\n",
    "\n",
    "# packages\n",
    "import os\n",
    "import numpy as np\n",
    "import pandas as pd\n",
    "import matplotlib.pyplot as plt\n",
    "import torch\n",
    "from torchinfo import summary\n",
    "from tqdm import tqdm\n",
    "from collections import defaultdict\n",
    "from natsort import natsorted\n",
    "import torchmetrics\n",
    "print(\"banana\")"
   ]
  },
  {
   "cell_type": "code",
   "execution_count": 21,
   "id": "52c197f2-3465-4660-9142-26346dfafa09",
   "metadata": {},
   "outputs": [],
   "source": [
    "import seaborn as sns\n",
    "import scipy"
   ]
  },
  {
   "cell_type": "markdown",
   "id": "f6f0b1ac-2587-41fe-94ac-e8f0d2a6657e",
   "metadata": {},
   "source": [
    "### Loading ADNI flair mask t1 dataset"
   ]
  },
  {
   "cell_type": "code",
   "execution_count": 22,
   "id": "c39c203e-a4f5-4921-9658-67adae8bc75b",
   "metadata": {},
   "outputs": [],
   "source": [
    "# ADNI_ds = MRI_3D_nolabels_inram_ds(\"/home/s2208943/ipdis/data/preprocessed_data/ADNI_300\")"
   ]
  },
  {
   "cell_type": "code",
   "execution_count": 23,
   "id": "1fc11900-d76a-4307-8387-88e2553073a6",
   "metadata": {},
   "outputs": [],
   "source": [
    "# IDs = ADNI_ds.getIDs()"
   ]
  },
  {
   "cell_type": "code",
   "execution_count": 24,
   "id": "7f86e3bb-9073-4965-8a81-3472553c364e",
   "metadata": {},
   "outputs": [],
   "source": [
    "# len(IDs)"
   ]
  },
  {
   "cell_type": "markdown",
   "id": "2ec7b53a-4ede-4b32-ba6a-80f23a7e392b",
   "metadata": {},
   "source": [
    "### Loading ADNI predictions"
   ]
  },
  {
   "cell_type": "code",
   "execution_count": 25,
   "id": "8cb4854c-4883-45ee-b6c2-2eac488bfa37",
   "metadata": {},
   "outputs": [],
   "source": [
    "# def get_output_maps_for_ds(output_maps_dir, ids):\n",
    "#     output_maps_lists = defaultdict(lambda : [])\n",
    "#     key_order = None\n",
    "#     for ID in tqdm(ids, position=0, leave=True):\n",
    "#         output_maps_data = np.load(f\"{output_maps_dir}{ID}_out_maps.npz\")\n",
    "#         key_order = natsorted(list(output_maps_data.keys()))\n",
    "#         for output_type in key_order:\n",
    "#             output_maps_lists[ID].append(torch.from_numpy(output_maps_data[output_type]))\n",
    "            \n",
    "#     return output_maps_lists, key_order\n",
    "def load_output_maps(output_maps_dir):\n",
    "    output_maps_lists = defaultdict(lambda: [])\n",
    "    for fID in tqdm(os.listdir(output_maps_dir), position=0, leave=True):\n",
    "        # print(fID)\n",
    "        # break\n",
    "        if \".npz\" in fID:\n",
    "            ID = fID.split(\".\")[0]\n",
    "            output_maps_data = np.load(output_maps_dir+fID)\n",
    "            key_order = natsorted(list(output_maps_data.keys()))\n",
    "            for key in key_order:\n",
    "                output_maps_lists[ID].append(torch.from_numpy(output_maps_data[key]))\n",
    "    return output_maps_lists, key_order"
   ]
  },
  {
   "cell_type": "code",
   "execution_count": 26,
   "id": "65539e27-5ae1-40cc-9a30-6a00f3c5fc87",
   "metadata": {},
   "outputs": [
    {
     "name": "stderr",
     "output_type": "stream",
     "text": [
      "100%|███████████████████████████████████████████████████████████████████████████████████████████████████████████████████████████████████████████████████████| 290/290 [03:12<00:00,  1.51it/s]\n"
     ]
    }
   ],
   "source": [
    "# model_name = \"SSN_Ens_Mean\"\n",
    "model_name = \"SSN_Ens\"\n",
    "output_maps_dir = f\"/home/s2208943/ipdis/data/preprocessed_data/ADNI_300_output_maps/{model_name}/\"\n",
    "output_maps_for_umaps, key_order = load_output_maps(output_maps_dir)"
   ]
  },
  {
   "cell_type": "code",
   "execution_count": 27,
   "id": "95247376-f196-40d9-aad0-50a629fbbb78",
   "metadata": {},
   "outputs": [
    {
     "name": "stderr",
     "output_type": "stream",
     "text": [
      "100%|███████████████████████████████████████████████████████████████████████████████████████████████████████████████████████████████████████████████████████| 290/290 [04:52<00:00,  1.01s/it]\n"
     ]
    }
   ],
   "source": [
    "model_name_for_pred = \"SSN_Ens_Mean\"\n",
    "output_maps_dir_for_pred = f\"/home/s2208943/ipdis/data/preprocessed_data/ADNI_300_output_maps/{model_name_for_pred}/\"\n",
    "output_maps_for_pred, key_order_for_pred = load_output_maps(output_maps_dir_for_pred)"
   ]
  },
  {
   "cell_type": "code",
   "execution_count": 28,
   "id": "3047b0a1-6dcd-4ba1-b997-6dd7831ae516",
   "metadata": {},
   "outputs": [
    {
     "data": {
      "text/plain": [
       "['ent', 'pred', 'seg', 'var']"
      ]
     },
     "execution_count": 28,
     "metadata": {},
     "output_type": "execute_result"
    }
   ],
   "source": [
    "key_order"
   ]
  },
  {
   "cell_type": "code",
   "execution_count": 29,
   "id": "04561be7-6226-4fd9-b6a0-144ad4a4ddb7",
   "metadata": {},
   "outputs": [],
   "source": [
    "ID = list(output_maps_for_umaps.keys())[2]"
   ]
  },
  {
   "cell_type": "code",
   "execution_count": 30,
   "id": "84b3b24a-bd85-4e3f-9754-f7d29761c706",
   "metadata": {},
   "outputs": [],
   "source": [
    "img_us = output_maps_for_umaps[ID]\n",
    "img_ps = output_maps_for_pred[ID]"
   ]
  },
  {
   "cell_type": "code",
   "execution_count": 31,
   "id": "a93ede23-90e1-4d83-9d33-495638d33c1c",
   "metadata": {},
   "outputs": [
    {
     "data": {
      "image/png": "[encoded data removed]",
      "text/plain": [
       "<Figure size 1500x400 with 4 Axes>"
      ]
     },
     "metadata": {},
     "output_type": "display_data"
    }
   ],
   "source": [
    "plt.figure(figsize=(15,4))\n",
    "islice = 31\n",
    "for i in range(4):\n",
    "    plt.subplot(1, 4, i+1)\n",
    "    plt.imshow(img_us[i][islice])\n",
    "    plt.axis('off')"
   ]
  },
  {
   "cell_type": "code",
   "execution_count": 32,
   "id": "6485cc67-1729-4388-affd-abefb31ff57a",
   "metadata": {},
   "outputs": [
    {
     "data": {
      "image/png": "[encoded data removed]",
      "text/plain": [
       "<Figure size 1500x400 with 4 Axes>"
      ]
     },
     "metadata": {},
     "output_type": "display_data"
    }
   ],
   "source": [
    "ent, pred, seg, var = img_ps\n",
    "plt.figure(figsize=(15,4))\n",
    "islice = 31\n",
    "for i in range(4):\n",
    "    plt.subplot(1, 4, i+1)\n",
    "    plt.imshow(img_ps[i][islice])\n",
    "    plt.axis('off')"
   ]
  },
  {
   "cell_type": "code",
   "execution_count": 33,
   "id": "35004640-9e97-4087-b165-2dd6860cb4c9",
   "metadata": {},
   "outputs": [],
   "source": [
    "t = 0.1\n",
    "ent_voxels = ent[ent > t]\n",
    "pred_voxels = pred[pred > t]\n",
    "var_voxels = var[var > t/10]"
   ]
  },
  {
   "cell_type": "code",
   "execution_count": 34,
   "id": "e5b57a0f-f991-4ecb-8b91-3555d78a3d2d",
   "metadata": {},
   "outputs": [
    {
     "data": {
      "text/plain": [
       "<matplotlib.colorbar.Colorbar at 0x7f6751612dd0>"
      ]
     },
     "execution_count": 34,
     "metadata": {},
     "output_type": "execute_result"
    },
    {
     "data": {
      "image/png": "[encoded data removed]",
      "text/plain": [
       "<Figure size 640x480 with 2 Axes>"
      ]
     },
     "metadata": {},
     "output_type": "display_data"
    }
   ],
   "source": [
    "plt.imshow(var[islice]>0.01)\n",
    "plt.colorbar()"
   ]
  },
  {
   "cell_type": "code",
   "execution_count": 35,
   "id": "a7de86cc-dff5-4eb6-ae1a-d02522bab5a0",
   "metadata": {},
   "outputs": [
    {
     "data": {
      "text/plain": [
       "<AxesSubplot: ylabel='Density'>"
      ]
     },
     "execution_count": 35,
     "metadata": {},
     "output_type": "execute_result"
    },
    {
     "data": {
      "image/png": "[encoded data removed]",
      "text/plain": [
       "<Figure size 640x480 with 3 Axes>"
      ]
     },
     "metadata": {},
     "output_type": "display_data"
    }
   ],
   "source": [
    "plt.subplot(1,3,1)\n",
    "sns.kdeplot(ent_voxels)\n",
    "plt.subplot(1,3,2)\n",
    "sns.kdeplot(var_voxels)\n",
    "plt.subplot(1,3,3)\n",
    "sns.kdeplot(pred_voxels)"
   ]
  },
  {
   "cell_type": "code",
   "execution_count": 36,
   "id": "25fba1d1-4ec2-47b3-8cef-52de0786aa59",
   "metadata": {},
   "outputs": [],
   "source": [
    "def histogram_distribution(values, bins=20, minv=None, maxv=None):\n",
    "    # so that the output values are meaningful, I need to carefully set the min a max. mnin should be t, and max should be the max across all the data I think.\n",
    "    if minv == None:\n",
    "        minv = values.min()\n",
    "    if maxv == None:\n",
    "        maxv = values.max()\n",
    "    counts = torch.zeros(bins)\n",
    "    bounds = torch.arange(minv,maxv, (maxv-minv)/bins)\n",
    "    for i, (lower_bound, upper_bound) in enumerate(zip(bounds[:-1], bounds[1:])):\n",
    "        counts[i] = ((values >= lower_bound) * (values < upper_bound)).sum()\n",
    "\n",
    "    Z = counts.sum()\n",
    "    counts = counts / Z\n",
    "    return counts"
   ]
  },
  {
   "cell_type": "code",
   "execution_count": 37,
   "id": "dbb14042-f93b-488b-9226-bab70c005430",
   "metadata": {},
   "outputs": [],
   "source": [
    "def gaussian_summary_statistics(values):\n",
    "    sum = values.sum().item()\n",
    "    mean = values.mean().item()\n",
    "    std = values.std().item()\n",
    "    skew = scipy.stats.skew(values)\n",
    "    kurtosis = scipy.stats.kurtosis(values, fisher=False)\n",
    "    return sum, mean, std, skew, kurtosis"
   ]
  },
  {
   "cell_type": "code",
   "execution_count": 38,
   "id": "1d345beb-21d2-4d93-bbba-64bf0d7c05bf",
   "metadata": {},
   "outputs": [
    {
     "data": {
      "text/plain": [
       "tensor([0.1462, 0.1206, 0.0885, 0.0729, 0.0589, 0.0457, 0.0461, 0.0408, 0.0399,\n",
       "        0.0309, 0.0379, 0.0325, 0.0276, 0.0342, 0.0309, 0.0280, 0.0362, 0.0333,\n",
       "        0.0490, 0.0000])"
      ]
     },
     "execution_count": 38,
     "metadata": {},
     "output_type": "execute_result"
    }
   ],
   "source": [
    "histogram_distribution(ent_voxels, 20)"
   ]
  },
  {
   "cell_type": "code",
   "execution_count": 39,
   "id": "50440632-afa2-4412-aa15-feda68724897",
   "metadata": {},
   "outputs": [],
   "source": [
    "# counts, counts.sum()"
   ]
  },
  {
   "cell_type": "code",
   "execution_count": 40,
   "id": "e2057fc7-fb44-4b05-987b-9f95dbcf65a5",
   "metadata": {},
   "outputs": [
    {
     "data": {
      "text/plain": [
       "<AxesSubplot: ylabel='Count'>"
      ]
     },
     "execution_count": 40,
     "metadata": {},
     "output_type": "execute_result"
    },
    {
     "data": {
      "image/png": "[encoded data removed]",
      "text/plain": [
       "<Figure size 640x480 with 1 Axes>"
      ]
     },
     "metadata": {},
     "output_type": "display_data"
    }
   ],
   "source": [
    "sns.histplot(ent_voxels, bins=20)"
   ]
  },
  {
   "cell_type": "markdown",
   "id": "4a2eebb2-323b-49b9-9fc9-696eccd21f2e",
   "metadata": {},
   "source": [
    "### overlap proportions computation\n",
    "- [x] proportion of segmented area that is uncertain\n",
    "- [x] proportion of uncertain area that is segmented\n",
    "- [x] proportion of uncertain area that is within segmentation + edge expansion"
   ]
  },
  {
   "cell_type": "code",
   "execution_count": 41,
   "id": "9135e5b0-9ca4-4233-bad0-700764113bbc",
   "metadata": {},
   "outputs": [],
   "source": [
    "def get_edge_expanded_seg(seg, expansions=2):\n",
    "    expanded = seg.type(torch.float32).unsqueeze(1)\n",
    "    for _ in range(expansions):\n",
    "        expanded = torch.nn.functional.max_pool3d(expanded, kernel_size=3, padding=1, stride=1)\n",
    "    return expanded.type(seg.dtype).squeeze()"
   ]
  },
  {
   "cell_type": "markdown",
   "id": "29ff30eb-afd9-433d-a9a8-b58d83717eee",
   "metadata": {},
   "source": [
    "### loading the ventricles for ventricle distance analysis"
   ]
  },
  {
   "cell_type": "code",
   "execution_count": 42,
   "id": "b4f7a4bc-0c08-439b-8477-5deb907b7d92",
   "metadata": {},
   "outputs": [],
   "source": [
    "import SimpleITK as sitk\n",
    "import numpy as np\n",
    "import matplotlib.pyplot as plt\n",
    "import os\n",
    "import torchvision.transforms as tv\n",
    "\n",
    "# resamples an image\n",
    "def get_resampled_img(itk_image, out_spacing=[2.0, 2.0, 2.0], original_spacing=[1., 1., 3.], is_label=False):\n",
    "    \n",
    "    if not original_spacing:\n",
    "        # orig spacing can be specified when the input itk_image does not know its actual spacing.\n",
    "        original_spacing = itk_image.GetSpacing()\n",
    "    original_size = itk_image.GetSize()\n",
    "    \n",
    "    # what's this? its how to modify the output size I think...\n",
    "    out_size = [\n",
    "        int(np.round(orig_size * orig_spacing / out_spacing))\n",
    "        for (orig_size, orig_spacing, out_spacing) \n",
    "        in zip(original_size, original_spacing, out_spacing)\n",
    "    ]\n",
    "    \n",
    "    resample = sitk.ResampleImageFilter()\n",
    "    resample.SetOutputSpacing(out_spacing)\n",
    "    resample.SetSize(out_size)\n",
    "    resample.SetOutputDirection(itk_image.GetDirection())      # sets the output direction cosine matrix...\n",
    "    resample.SetOutputOrigin(itk_image.GetOrigin())\n",
    "    resample.SetTransform(sitk.Transform())\n",
    "    resample.SetDefaultPixelValue(itk_image.GetPixelIDValue())\n",
    "    \n",
    "    if is_label:\n",
    "        resample.SetInterpolator(sitk.sitkNearestNeighbor)\n",
    "    else:\n",
    "        resample.SetInterpolator(sitk.sitkBSpline)\n",
    "        \n",
    "    return resample.Execute(itk_image)\n",
    "      \n",
    "def resample_and_return(filename_in, is_label=False, out_spacing=[1., 1., 3.], original_spacing=None):\n",
    "    \"\"\"\n",
    "    resamples an image to custom voxel dimensions and returns image as a numpy array\n",
    "    \n",
    "    filename_in: .nii.gz file to load\n",
    "    is_label: is the file a brain scan or a segmentaion mask\n",
    "    outspacing: the spacing of the image to be resampled to.\n",
    "    \"\"\"\n",
    "        \n",
    "    # resample the image\n",
    "    image = sitk.ReadImage(filename_in)\n",
    "    resampled_image = get_resampled_img(image, out_spacing=out_spacing, original_spacing=original_spacing, is_label=is_label)\n",
    "    \n",
    "    return sitk.GetArrayFromImage(resampled_image)"
   ]
  },
  {
   "cell_type": "code",
   "execution_count": 43,
   "id": "ad90dcde-a922-4fe1-b331-c4e35f468366",
   "metadata": {},
   "outputs": [],
   "source": [
    "# this loop takes a while as its loading from disk and resampling\n",
    "# it takes around 11 minutes\n",
    "\n",
    "cropper = tv.transforms.CenterCrop((220, 220))\n",
    "\n",
    "def load_fast_output(file, slices):\n",
    "    timg = resample_and_return(file, is_label=True)\n",
    "        \n",
    "    # interpolate the channel number and centre crop\n",
    "    timg = torch.Tensor(timg)\n",
    "    timg = torch.nn.functional.interpolate(timg.unsqueeze(0).unsqueeze(0), (slices, *timg.shape[1:])).squeeze()\n",
    "    timg = cropper(timg.view((1, 1, *timg.shape))).squeeze()\n",
    "    \n",
    "    return timg\n",
    "\n"
   ]
  },
  {
   "cell_type": "code",
   "execution_count": 44,
   "id": "39e1b213-4cec-4b37-8c0a-68f628767553",
   "metadata": {},
   "outputs": [],
   "source": [
    "IDs_outmaps = natsorted(list(output_maps_for_umaps.keys()))\n",
    "IDs = [(\"_\".join(idx.split(\"_\")[:-2]), idx) for idx in IDs_outmaps if \"out_maps\" in idx]"
   ]
  },
  {
   "cell_type": "code",
   "execution_count": 45,
   "id": "8ede0b33-91db-4fae-8cfb-0dbe9bd5e089",
   "metadata": {},
   "outputs": [
    {
     "data": {
      "text/plain": [
       "torch.Size([58, 220, 220])"
      ]
     },
     "execution_count": 45,
     "metadata": {},
     "output_type": "execute_result"
    }
   ],
   "source": [
    "output_maps_for_umaps[IDs[0][1]][0].shape"
   ]
  },
  {
   "cell_type": "code",
   "execution_count": 46,
   "id": "0ddfb553-ff06-46cd-96a7-1d09e35faeb2",
   "metadata": {},
   "outputs": [
    {
     "name": "stderr",
     "output_type": "stream",
     "text": [
      "100%|███████████████████████████████████████████████████████████████████████████████████████████████████████████████████████████████████████████████████████| 290/290 [00:47<00:00,  6.17it/s]\n"
     ]
    }
   ],
   "source": [
    "vent_folder = \"/home/s2208943/ipdis/data/preprocessed_data/ADNI_300_ventmapper/\"\n",
    "vent_filenames = os.listdir(vent_folder)\n",
    "ID_ventpath_map = {\"_\".join(f.split(\"_\")[:-1]): vent_folder + f for f in vent_filenames}\n",
    "vent_maps = []\n",
    "for i in tqdm(range(len(IDs)), position=0, leave=True):\n",
    "    ID = IDs[i]\n",
    "    num_slices = output_maps_for_umaps[ID[1]][0].shape[0]\n",
    "    vent_path = ID_ventpath_map[ID[0]]\n",
    "    vent_seg = load_fast_output(vent_path, num_slices)\n",
    "    vent_maps.append(vent_seg)"
   ]
  },
  {
   "cell_type": "code",
   "execution_count": 47,
   "id": "1436f375-8c10-41bf-bb3a-0857fe41f5ab",
   "metadata": {},
   "outputs": [
    {
     "data": {
      "text/plain": [
       "(torch.Size([58, 220, 220]), tensor(33))"
      ]
     },
     "execution_count": 47,
     "metadata": {},
     "output_type": "execute_result"
    }
   ],
   "source": [
    "vent_maps[0].shape, vent_maps[0].sum(dim=(1,2,)).argmax(0)"
   ]
  },
  {
   "cell_type": "code",
   "execution_count": 48,
   "id": "12a6d43a-6de6-4a0e-8950-cd704e667b9c",
   "metadata": {},
   "outputs": [
    {
     "data": {
      "text/plain": [
       "<matplotlib.image.AxesImage at 0x7f674f38c340>"
      ]
     },
     "execution_count": 48,
     "metadata": {},
     "output_type": "execute_result"
    },
    {
     "data": {
      "image/png": "[encoded data removed]",
      "text/plain": [
       "<Figure size 1500x500 with 3 Axes>"
      ]
     },
     "metadata": {},
     "output_type": "display_data"
    }
   ],
   "source": [
    "islice = 26\n",
    "scan_id = 200\n",
    "plt.figure(figsize=(15, 5))\n",
    "plt.subplot(1,3,1)\n",
    "plt.imshow(vent_maps[scan_id][islice])\n",
    "plt.subplot(1,3,2)\n",
    "plt.imshow(output_maps_for_umaps[IDs[scan_id][1]][0][islice])\n",
    "plt.subplot(1,3,3)\n",
    "img_map = torch.zeros(*vent_maps[0].shape[1:], 3)\n",
    "img_map[:,:,0] = vent_maps[scan_id][islice]\n",
    "img_map[:,:,1] = output_maps_for_umaps[IDs[scan_id][1]][0][islice]\n",
    "plt.imshow(img_map)"
   ]
  },
  {
   "cell_type": "markdown",
   "id": "72be1a31-b0e8-4d6c-b050-935489fec32d",
   "metadata": {},
   "source": [
    "### distance from the ventricles"
   ]
  },
  {
   "cell_type": "code",
   "execution_count": 49,
   "id": "2771725e-8dd0-4b3e-931f-440c9cff01a1",
   "metadata": {},
   "outputs": [],
   "source": [
    "import torch.nn.functional as F\n",
    "def edge_pixels_3D(img):\n",
    "    dtype = img.dtype # preserve original datatype for casting at the end\n",
    "    img = img.type(torch.float32).unsqueeze(0)\n",
    "    \n",
    "    max_pool = F.max_pool3d(img, 3, stride=1, padding=1)\n",
    "    outer_edge = (max_pool != img).type(torch.float32)\n",
    "    \n",
    "    dilated_edge = F.max_pool3d(outer_edge, 3, stride=1, padding=1)\n",
    "    inner_edge = dilated_edge * img\n",
    "    \n",
    "    return inner_edge.type(dtype).squeeze()\n",
    "\n",
    "def edge_pixels(img):\n",
    "    dtype = img.dtype # preserve original datatype for casting at the end\n",
    "    img = img.type(torch.float32)\n",
    "    \n",
    "    max_pool = F.max_pool2d(img, 3, stride=1, padding=1)\n",
    "    outer_edge = (max_pool != img).type(torch.float32)\n",
    "    \n",
    "    dilated_edge = F.max_pool2d(outer_edge, 3, stride=1, padding=1)\n",
    "    inner_edge = dilated_edge * img\n",
    "    \n",
    "    return inner_edge.type(dtype)"
   ]
  },
  {
   "cell_type": "code",
   "execution_count": 50,
   "id": "797998d4-cb20-4df3-a428-51e8c10dbd40",
   "metadata": {},
   "outputs": [],
   "source": [
    "def downsample_3d(img, avg=True):\n",
    "    if avg:\n",
    "        return F.avg_pool3d(img.unsqueeze(0).type(torch.float32), 2, stride=2).squeeze().type(img.dtype)\n",
    "    else:\n",
    "        return F.max_pool3d(img.unsqueeze(0).type(torch.float32), 2, stride=2).squeeze().type(img.dtype)"
   ]
  },
  {
   "cell_type": "code",
   "execution_count": 51,
   "id": "15bffcfa-ae41-4540-be47-21b725eebad1",
   "metadata": {},
   "outputs": [],
   "source": [
    "def min_distances(img, vmap):\n",
    "    # calculate the minimum distance between each point in a and each point in b\n",
    "    \n",
    "    spatial_dims = vmap.squeeze().shape\n",
    "    grid = torch.stack(\n",
    "            torch.meshgrid(\n",
    "                *[torch.arange(0, sdi, 1) for sdi in spatial_dims],\n",
    "                indexing='ij'\n",
    "            )\n",
    "        ).type(torch.float32).to(img.device)\n",
    "    \n",
    "    a = grid[:, img.squeeze() > 0].T.cuda()\n",
    "    b = grid[:, vmap.squeeze() > 0].T.cuda()\n",
    "    \n",
    "    # Calculate pairwise distances between all pairs of points\n",
    "    distances = torch.cdist(a, b)\n",
    "\n",
    "    # Find indices of closest points in b for each point in a\n",
    "    _, indices = torch.min(distances, dim=1)\n",
    "\n",
    "    # Use indices to index into b and get closest points\n",
    "    b_closest = b[indices]\n",
    "\n",
    "    # Calculate distances to closest points \n",
    "    distances_closest = torch.norm(a - b_closest, dim=1)\n",
    "    \n",
    "    distance_map = torch.zeros(img.shape).to(distances_closest.device)\n",
    "    distance_map[img > 0] = distances_closest\n",
    "    \n",
    "    return distances_closest, distance_map"
   ]
  },
  {
   "cell_type": "markdown",
   "id": "1f929aaf-6adb-4768-9d06-c094e44f912b",
   "metadata": {},
   "source": [
    "### connected components analysis"
   ]
  },
  {
   "cell_type": "code",
   "execution_count": 52,
   "id": "82c98c1a-a5a9-4406-b1e1-4e664f35d318",
   "metadata": {},
   "outputs": [],
   "source": [
    "import cc3d"
   ]
  },
  {
   "cell_type": "code",
   "execution_count": 53,
   "id": "cbc4edb3-d1b2-489b-b982-05ccad6d5b7e",
   "metadata": {},
   "outputs": [],
   "source": [
    "def get_conn_comps(img):\n",
    "    connectivity = 6 # only 4,8 (2D) and 26, 18, and 6 (3D) are allowed\n",
    "    labels_out_seg = cc3d.connected_components(img.cpu().numpy(), connectivity=connectivity)\n",
    "    return torch.from_numpy(labels_out_seg.astype(np.int16)).to(img.device)"
   ]
  },
  {
   "cell_type": "code",
   "execution_count": 54,
   "id": "ac76e703-7ae8-4118-8c06-b365887c36a2",
   "metadata": {},
   "outputs": [],
   "source": [
    "def get_edge_expanded_seg(seg, expansions=2):\n",
    "    expanded = seg.type(torch.float32).unsqueeze(1)\n",
    "    for _ in range(expansions):\n",
    "        expanded = torch.nn.functional.max_pool3d(expanded, kernel_size=3, padding=1, stride=1)\n",
    "    return expanded.type(seg.dtype).squeeze()"
   ]
  },
  {
   "cell_type": "code",
   "execution_count": 55,
   "id": "e8883d62-e40e-4883-9273-1f53465ee4d8",
   "metadata": {},
   "outputs": [],
   "source": [
    "def skew(t, dim=None):\n",
    "    \"\"\"\n",
    "    Computes the skewness of a :class:`Tensor`. Note: this function uses cross-approximation (:func:`tntorch.cross()`).\n",
    "\n",
    "    :param t: a :class:`Tensor`\n",
    "\n",
    "    :return: a scalar\n",
    "    \"\"\"\n",
    "\n",
    "    return (((t-t.mean(dim=dim).unsqueeze(dim))/t.std(dim=dim).unsqueeze(dim)).pow(3)).mean(dim=dim)\n",
    "\n",
    "\n",
    "def kurtosis(t, fisher=True, dim=None):\n",
    "    \"\"\"\n",
    "    Computes the kurtosis of a :class:`Tensor`. Note: this function uses cross-approximation (:func:`tntorch.cross()`).\n",
    "\n",
    "    :param t: a :class:`Tensor`\n",
    "    :param fisher: if True (default) Fisher's definition is used, otherwise Pearson's (aka excess)\n",
    "\n",
    "    :return: a scalar\n",
    "    \"\"\"\n",
    "        \n",
    "    return (((t-t.mean(dim=dim).unsqueeze(dim))/t.std(dim=dim).unsqueeze(dim)).pow(4)).mean(dim=dim) - fisher*3"
   ]
  },
  {
   "cell_type": "code",
   "execution_count": 56,
   "id": "99050b0c-0408-4bc0-8bc0-2f456a1d5be9",
   "metadata": {},
   "outputs": [],
   "source": [
    "def one_hot_encoded_image(image):\n",
    "    # for a 3D [H, W, D] shape image\n",
    "    # ensure all IDs are unique\n",
    "    return (image == image.unique().view(-1, 1, 1, 1))\n",
    "\n",
    "def one_hot_encoded_vector(vector):\n",
    "    return (vector == vector.unique().view(-1,1))"
   ]
  },
  {
   "cell_type": "code",
   "execution_count": 57,
   "id": "1658dd1c-4f71-4b56-b4e1-88b458889c04",
   "metadata": {},
   "outputs": [],
   "source": [
    "def conn_comp_basic_stats(umap, conn_comp_map, seg_map, dist_map):\n",
    "    # number of connected components\n",
    "    # size of connected components\n",
    "    # connected component size distribution information\n",
    "    cc_ids = conn_comp_map.unique()\n",
    "    cc_locs = conn_comp_map != 0\n",
    "    conn_comp_map = conn_comp_map[cc_locs]\n",
    "    umap = umap[cc_locs]\n",
    "    seg_map = seg_map[cc_locs]\n",
    "    dist_map = dist_map[cc_locs]\n",
    "    \n",
    "    assert dist_map.shape == seg_map.shape == umap.shape == conn_comp_map.shape\n",
    "    num_ccs = len(cc_ids) - 1\n",
    "    num_ccs_no_overlap = 0\n",
    "    cc_sizes = []\n",
    "    cc_means = []\n",
    "    cc_stds = []\n",
    "    cc_skews = []\n",
    "    cc_kurts = []\n",
    "    cc_vent_dists = []\n",
    "    for cc_id in cc_ids:\n",
    "        if cc_id == 0:\n",
    "            continue\n",
    "        cc = conn_comp_map == cc_id\n",
    "        cc_size = cc.sum().item()\n",
    "        cc_values = umap[cc]\n",
    "        _, mean, std, skew, kurtosis = gaussian_summary_statistics(cc_values.cpu())\n",
    "    \n",
    "        cc_sizes.append(cc_size)\n",
    "        cc_means.append(mean)\n",
    "        cc_stds.append(std)\n",
    "        cc_skews.append(skew)\n",
    "        cc_kurts.append(kurtosis)\n",
    "        \n",
    "        if seg_map[cc].sum() == 0:\n",
    "            num_ccs_no_overlap += 1\n",
    "            \n",
    "        cc_vent_dists.append(dist_map[cc].mean().item())\n",
    "    _, vd_mean, vd_std, vd_skew, vd_kurt = gaussian_summary_statistics(torch.Tensor(cc_vent_dists))\n",
    "    _, size_mean, size_std, size_skew, size_kurt = gaussian_summary_statistics(torch.Tensor(cc_sizes))\n",
    "    \n",
    "    return {\"num\":num_ccs, \"sizes\":cc_sizes, \"means\":cc_means, \"stds\":cc_stds, \"skews\":cc_skews, \"kurts\":cc_kurts, \"vent_dists\":cc_vent_dists, \"unsegmented_ccs\":num_ccs_no_overlap, \"size_mean\":size_mean, \"size_std\":size_std, \"size_skew\":size_skew, \"size_kurt\":size_kurt, \"vd_mean\":vd_mean, \"vd_std\":vd_std, \"vd_skew\":vd_skew, \"vd_kurt\":vd_kurt}\n",
    "\n"
   ]
  },
  {
   "cell_type": "code",
   "execution_count": 58,
   "id": "42ba9f0e-df02-41ad-b49c-e8cb69ede31b",
   "metadata": {},
   "outputs": [],
   "source": [
    "# idx = 0\n",
    "# example_umap = output_maps_for_umaps[IDs[idx][1]][0].cuda()\n",
    "# example_smap = output_maps_for_pred[IDs[idx][1]][2].cuda()\n",
    "# example_vmap = vent_maps[idx].cuda()\n",
    "\n",
    "# vmap_ds = downsample_3d(example_vmap)\n",
    "# umap_ds = downsample_3d(example_umap)\n",
    "# ut_ds = umap_ds > 0.1\n",
    "# ut = example_umap > 0.1\n",
    "# conn_comps = get_conn_comps(ut)\n",
    "\n",
    "# distances_closest, distance_map = min_distances(ut_ds, vmap_ds)\n",
    "# distance_map = F.interpolate(distance_map.view(1, 1, *distance_map.shape), example_umap.shape, mode='trilinear').squeeze()"
   ]
  },
  {
   "cell_type": "code",
   "execution_count": 59,
   "id": "27b30691-96b1-4505-837e-ed520d4f39d8",
   "metadata": {},
   "outputs": [],
   "source": [
    "# cc_data = conn_comp_basic_stats(example_umap, conn_comps, example_smap, distance_map) # from this we could get the mean mean, mean std, mean skew and mean kurtosis for each threshold I guess. # that would be somewhat interesting"
   ]
  },
  {
   "cell_type": "code",
   "execution_count": 60,
   "id": "9d108785-7bdc-4b9c-a1c3-3c8ece10e7e1",
   "metadata": {},
   "outputs": [],
   "source": [
    "# cc_data[\"num\"], cc_data[\"unsegmented_ccs\"]"
   ]
  },
  {
   "cell_type": "code",
   "execution_count": 61,
   "id": "2c033fce-1615-4392-827f-794d54d1046f",
   "metadata": {},
   "outputs": [],
   "source": [
    "# cc_data[\"log_sizes\"] = torch.Tensor(cc_data['sizes']).log()\n",
    "# sns.jointplot(cc_data, y=\"vent_dists\", x=\"log_sizes\", bins=5, kind='hist')"
   ]
  },
  {
   "cell_type": "code",
   "execution_count": 62,
   "id": "cd6c462d-9c5a-4e15-a9fe-80102b7611d0",
   "metadata": {},
   "outputs": [],
   "source": [
    "def joint_hist_values(data, x, y, minx, maxx, miny, maxy, bins=5):\n",
    "    values = torch.stack([torch.Tensor(data[x]), torch.Tensor(data[y])], dim=1) # shape [N, 2]\n",
    "    values = values.expand((bins, bins, *values.shape))\n",
    "    counts = torch.zeros(bins, bins)\n",
    "    bounds_x = torch.arange(minx,maxx, (maxx-minx)/(bins+1)).to(values.device)\n",
    "    bounds_y = torch.arange(miny,maxy, (maxy-miny)/(bins+1)).to(values.device)\n",
    "    upper_xlims = bounds_x[1:].view(1, 5, 1)\n",
    "    upper_ylims = bounds_y[1:].view(5, 1, 1)\n",
    "    lower_xlims = bounds_x[:-1].view(1, 5, 1)\n",
    "    lower_ylims = bounds_y[:-1].view(5, 1, 1)\n",
    "    counts = (values[:,:,:,0] < upper_xlims) * (values[:,:,:,0] > lower_xlims) * (values[:,:,:,1] < upper_ylims) * (values[:,:,:,1] > lower_ylims)\n",
    "    counts = counts.sum(dim=-1)\n",
    "\n",
    "    Z = counts.sum()\n",
    "    counts = counts / Z\n",
    "    return counts\n",
    "\n",
    "\n",
    "# def joint_hist_values2(data, x, y, minx, maxx, miny, maxy, bins=5):\n",
    "#     values = torch.stack([torch.Tensor(data[x]), torch.Tensor(data[y])], dim=1) # shape [N, 2]\n",
    "#     #values = values.expand((bins, bins, *values.shape))\n",
    "#     counts = torch.zeros(bins, bins)\n",
    "#     bounds_x = torch.arange(minx,maxx, (maxx-minx)/(bins+1))\n",
    "#     bounds_y = torch.arange(miny,maxy, (maxy-miny)/(bins+1))\n",
    "#     upper_xlims = bounds_x[1:]\n",
    "#     upper_ylims = bounds_y[1:]\n",
    "#     lower_xlims = bounds_x[:-1]\n",
    "#     lower_ylims = bounds_y[:-1]\n",
    "#     for i, (x1, x2) in enumerate(zip(lower_xlims, upper_xlims)):\n",
    "#         for j, (y1,y2) in enumerate(zip(lower_ylims, upper_ylims)):\n",
    "#             counts[i][j] = ((values[:,0] < x2) * (values[:,0] > x1) * (values[:,1] < y2) * (values[:,1] > y1)).sum()\n",
    "#     # counts = counts.sum(dim=-1)\n",
    "\n",
    "#     Z = counts.sum()\n",
    "#     counts = counts / Z\n",
    "#     return counts"
   ]
  },
  {
   "cell_type": "code",
   "execution_count": 63,
   "id": "37d0eba6-39ad-4676-bd96-ebef6cceacc5",
   "metadata": {},
   "outputs": [],
   "source": [
    "# joint_counts = joint_hist_values2(cc_data, \"log_sizes\", \"vent_dists\", 0, 8, 0, 10, 5)"
   ]
  },
  {
   "cell_type": "code",
   "execution_count": 64,
   "id": "2b06d7ae-154d-4dc5-ba32-07aa021a43cb",
   "metadata": {},
   "outputs": [],
   "source": [
    "# joint_counts.shape"
   ]
  },
  {
   "cell_type": "code",
   "execution_count": 65,
   "id": "2308fdae-8544-4b23-b8fb-3652fda95e33",
   "metadata": {},
   "outputs": [],
   "source": [
    "# plt.imshow(joint_counts); plt.colorbar()"
   ]
  },
  {
   "cell_type": "code",
   "execution_count": 66,
   "id": "020e6a43-cbd8-49b1-b338-e4859b4775cd",
   "metadata": {},
   "outputs": [],
   "source": [
    "# cc_data[\"num\"], cc_data[\"unsegmented_ccs\"]"
   ]
  },
  {
   "cell_type": "code",
   "execution_count": 67,
   "id": "a0a2b95e-a3db-4d48-bc37-a1a68cce0e2b",
   "metadata": {},
   "outputs": [],
   "source": [
    "# summary statistics of log conn comp size:\n",
    "# cc_summary_stats = gaussian_summary_statistics(torch.Tensor(cc_data['sizes']).log())"
   ]
  },
  {
   "cell_type": "code",
   "execution_count": 68,
   "id": "71afb931-324e-496b-b279-befd02a32062",
   "metadata": {},
   "outputs": [],
   "source": [
    "# sum, mean , std, skew, kurtosis of log size of connected components.\n",
    "# cc_summary_stats"
   ]
  },
  {
   "cell_type": "code",
   "execution_count": 69,
   "id": "0ee07ab6-ca8b-4e72-861d-f5d07d88acda",
   "metadata": {},
   "outputs": [],
   "source": [
    "# histogram_distribution(torch.Tensor(cc_data['sizes']).log(), 10)"
   ]
  },
  {
   "cell_type": "code",
   "execution_count": 70,
   "id": "2e29135a-257e-4aa4-b4f4-2d46da0757cd",
   "metadata": {},
   "outputs": [],
   "source": [
    "# plt.hist(torch.Tensor(cc_data['sizes']).log(), bins=10);"
   ]
  },
  {
   "cell_type": "code",
   "execution_count": 71,
   "id": "2432d653-937d-45bc-bbcf-3830a8d46e14",
   "metadata": {},
   "outputs": [],
   "source": [
    "# sns.jointplot(data=cc_data, x=\"sizes\", y=\"kurts\")\n",
    "# plt.xscale('log')"
   ]
  },
  {
   "cell_type": "code",
   "execution_count": 72,
   "id": "3804b34f-ffc4-4d8d-bac5-c4780be9738c",
   "metadata": {},
   "outputs": [],
   "source": [
    "# lets get basic distribution of connected component numbers and size. Then we can get some interesting plots later, so collect as much interesting information as possible...\n",
    "# I can compare this to number and size of connected components in the predicted map (at say tau > 0.5?)\n",
    "# I should get distance of each connected component from the ventricles and size. yes that is a good plot\n",
    "# also distance from the binarized segmentation... (but I need to be careful and do this for pred as well as umap)."
   ]
  },
  {
   "cell_type": "markdown",
   "id": "8b04e44d-d410-4598-a51a-7f5fdbb6c47d",
   "metadata": {},
   "source": [
    "### Uncertainty values that I intended to extract from the umap\n",
    "\n",
    "For SSN Ens for the ent and var maps, and SSN Ens Mean for the pred and seg maps. Nice.\n",
    "I should capture all of these metrics across a variety of metrics, and I can tune the thresholds in cross validation. simples.\n",
    "It may be the case that ent + var together give us some more information. That would be interesting.\n",
    "\n",
    "`output_maps_for_umaps` is the SSN_Ens output\n",
    "`output_maps_for_mean` is the SSN_Ens_mean output\n",
    "\n",
    "- [x] sum\n",
    "- [x] mean\n",
    "- [x] std\n",
    "- [x] skew\n",
    "- [x] kurtosis\n",
    "- [x] kde bins?\n",
    "- [x] ventricle size\n",
    "- [x] intensity distribution (need to ensure that the min and max of the bins are the same across all individuals) \n",
    "- [x] number of connected components\n",
    "- [x] size of connected components distribution, need to ensure that the min and max of the bins are the same across all individuals.\n",
    "- [x] number / distribution of connected components that have no overlap with the segmented mask... (again I need the umap and the pred map to do this) (and I should also compare to the seg map as well perhaps)\n",
    "- [x] uncertainty sum, mean, skew, kurtosis of each connected component. That may be interesting to plot.\n",
    "- [-] distance to the WMH binarized segmentation for each connected component (try to separate out those connected components that are highlighting other stuff).\n",
    "- [-] proportion of the segmented edge deemed uncertain (if we expand the edge of the segmentation then calculate the proportion, we can get the sum of the uncertainty that\n",
    "- [x] proportion of segmented area deemed uncertain (this requires access to SSN Ens and SSN Ens Mean at the same time\n",
    "- [x] proportion of uncertain area that is within the segmentation + edge area\n",
    "- [x] distribution of size of connected components (sum, mean, std, skew)\n",
    "- [x] distance from the ventricles (could do this in x, y and z distributions, or just overall...) I could measure distance x intensity\n",
    "- [x] stats for distance from the ventricles (mean, std, skew, kurtosis, etc)\n",
    "- [x] mean distance from the ventricles of each connected component joint with size in a 5x5 and 10x10 bin option I think. again ensure that the \n",
    "- [ ] predicted seg volume."
   ]
  },
  {
   "cell_type": "markdown",
   "id": "ec8e64dc-0b08-43a4-9e57-51a5468ab30c",
   "metadata": {},
   "source": [
    "### turning all of the above into a big loop\n",
    "\n",
    "need to compute values for:\n",
    "- [x] ent map\n",
    "- [x] var map\n",
    "- [x] pred map\n",
    "- [x] loop over [0.1, 0.15, 0.2, 0.25, 0.3, 0.35, 0.4, 0.45, 0.5] as threshold for ent map\n",
    "- [x] loop over [0.1, 0.2, 0.3, 0.4, 0.5, 0.6] for pred map\n",
    "- [x] loop over ? for ent map"
   ]
  },
  {
   "cell_type": "code",
   "execution_count": 73,
   "id": "5937bcb1-ccf1-4cd2-a703-586883fcea46",
   "metadata": {},
   "outputs": [
    {
     "name": "stderr",
     "output_type": "stream",
     "text": [
      "  0%|                                                                                                                                                                 | 0/290 [00:00<?, ?it/s]"
     ]
    },
    {
     "name": "stdout",
     "output_type": "stream",
     "text": [
      "ADNI_002_S_0729_20110816\n"
     ]
    },
    {
     "name": "stderr",
     "output_type": "stream",
     "text": [
      "/tmp/ipykernel_318894/1284179010.py:5: RuntimeWarning: Precision loss occurred in moment calculation due to catastrophic cancellation. This occurs when the data are nearly identical. Results may be unreliable.\n",
      "  skew = scipy.stats.skew(values)\n",
      "/tmp/ipykernel_318894/1284179010.py:6: RuntimeWarning: Precision loss occurred in moment calculation due to catastrophic cancellation. This occurs when the data are nearly identical. Results may be unreliable.\n",
      "  kurtosis = scipy.stats.kurtosis(values, fisher=False)\n"
     ]
    },
    {
     "name": "stdout",
     "output_type": "stream",
     "text": [
      "250 244\n",
      "211 197\n",
      "178 156\n",
      "226 144\n",
      "250 131\n",
      "348 145\n",
      "229 209\n",
      "299 213\n",
      "392 236\n",
      "365 197\n",
      "222 122\n"
     ]
    },
    {
     "name": "stderr",
     "output_type": "stream",
     "text": [
      "/home/s2208943/miniconda3/envs/uq/lib/python3.10/site-packages/scipy/stats/_stats_py.py:1304: RuntimeWarning: Mean of empty slice.\n",
      "  mean = a.mean(axis, keepdims=True)\n",
      "/home/s2208943/miniconda3/envs/uq/lib/python3.10/site-packages/numpy/core/_methods.py:184: RuntimeWarning: invalid value encountered in divide\n",
      "  ret = um.true_divide(\n",
      "/home/s2208943/miniconda3/envs/uq/lib/python3.10/site-packages/numpy/core/fromnumeric.py:3464: RuntimeWarning: Mean of empty slice.\n",
      "  return _methods._mean(a, axis=axis, dtype=dtype,\n",
      "/home/s2208943/miniconda3/envs/uq/lib/python3.10/site-packages/numpy/core/_methods.py:192: RuntimeWarning: invalid value encountered in divide\n",
      "  ret = ret.dtype.type(ret / rcount)\n",
      "/home/s2208943/miniconda3/envs/uq/lib/python3.10/site-packages/scipy/stats/_stats_py.py:1417: RuntimeWarning: Mean of empty slice.\n",
      "  mean = a.mean(axis, keepdims=True)\n"
     ]
    },
    {
     "name": "stdout",
     "output_type": "stream",
     "text": [
      "86 45\n",
      "58 31\n",
      "58 22\n",
      "53 12\n",
      "52 6\n",
      "56 0\n"
     ]
    },
    {
     "name": "stderr",
     "output_type": "stream",
     "text": [
      "  0%|▌                                                                                                                                                      | 1/290 [00:24<1:56:02, 24.09s/it]"
     ]
    },
    {
     "name": "stdout",
     "output_type": "stream",
     "text": [
      "55 0\n",
      "ADNI_002_S_1155_20111222\n",
      "289 282\n",
      "184 173\n",
      "146 126\n",
      "84 52\n",
      "88 44\n",
      "102 41\n",
      "235 223\n",
      "194 171\n",
      "166 129\n",
      "136 88\n",
      "77 45\n",
      "36 22\n",
      "35 21\n",
      "26 12\n",
      "17 3\n"
     ]
    },
    {
     "name": "stderr",
     "output_type": "stream",
     "text": [
      "  1%|█                                                                                                                                                      | 2/290 [00:29<1:02:54, 13.10s/it]"
     ]
    },
    {
     "name": "stdout",
     "output_type": "stream",
     "text": [
      "15 1\n",
      "16 0\n",
      "14 0\n",
      "ADNI_002_S_1261_20110314\n",
      "270 259\n",
      "177 162\n",
      "141 123\n",
      "118 82\n",
      "117 70\n",
      "109 56\n",
      "207 195\n",
      "201 166\n",
      "191 144\n",
      "153 110\n",
      "104 79\n",
      "59 30\n",
      "48 28\n",
      "37 15\n",
      "34 8\n",
      "31 4\n"
     ]
    },
    {
     "name": "stderr",
     "output_type": "stream",
     "text": [
      "  1%|█▌                                                                                                                                                       | 3/290 [00:35<47:01,  9.83s/it]"
     ]
    },
    {
     "name": "stdout",
     "output_type": "stream",
     "text": [
      "29 0\n",
      "27 0\n",
      "ADNI_002_S_1280_20110504\n",
      "236 224\n",
      "166 152\n",
      "130 106\n",
      "145 86\n",
      "183 96\n",
      "231 100\n",
      "214 195\n",
      "239 182\n",
      "282 131\n",
      "265 111\n",
      "106 50\n",
      "37 22\n",
      "57 34\n",
      "49 19\n",
      "43 10\n",
      "43 6\n"
     ]
    },
    {
     "name": "stderr",
     "output_type": "stream",
     "text": [
      "  1%|██                                                                                                                                                       | 4/290 [00:42<41:44,  8.76s/it]"
     ]
    },
    {
     "name": "stdout",
     "output_type": "stream",
     "text": [
      "42 0\n",
      "36 0\n",
      "ADNI_002_S_2010_20101022\n",
      "265 255\n",
      "168 154\n",
      "103 85\n",
      "80 54\n",
      "86 52\n",
      "85 45\n",
      "205 192\n",
      "150 130\n",
      "115 89\n",
      "96 65\n",
      "57 30\n",
      "43 20\n",
      "30 15\n",
      "26 11\n",
      "21 5\n",
      "19 3\n"
     ]
    },
    {
     "name": "stderr",
     "output_type": "stream",
     "text": [
      "  2%|██▋                                                                                                                                                      | 5/290 [00:47<34:34,  7.28s/it]"
     ]
    },
    {
     "name": "stdout",
     "output_type": "stream",
     "text": [
      "16 0\n",
      "17 0\n",
      "ADNI_002_S_4213_20111205\n",
      "207 197\n",
      "130 117\n",
      "103 84\n",
      "80 50\n",
      "109 59\n",
      "112 53\n",
      "168 155\n",
      "121 100\n",
      "116 86\n",
      "134 84\n",
      "92 50\n",
      "61 33\n",
      "41 20\n",
      "40 17\n",
      "35 8\n",
      "35 3\n"
     ]
    },
    {
     "name": "stderr",
     "output_type": "stream",
     "text": [
      "  2%|███▏                                                                                                                                                     | 6/290 [00:52<30:32,  6.45s/it]"
     ]
    },
    {
     "name": "stdout",
     "output_type": "stream",
     "text": [
      "37 0\n",
      "35 0\n",
      "ADNI_002_S_4225_20111226\n",
      "380 352\n",
      "227 192\n",
      "142 103\n",
      "125 71\n",
      "147 80\n",
      "173 79\n",
      "283 242\n",
      "229 177\n",
      "183 108\n",
      "162 80\n",
      "117 62\n",
      "80 51\n",
      "67 27\n",
      "68 27\n",
      "59 14\n",
      "63 9\n",
      "59 0\n"
     ]
    },
    {
     "name": "stderr",
     "output_type": "stream",
     "text": [
      "  2%|███▋                                                                                                                                                     | 7/290 [00:59<32:03,  6.80s/it]"
     ]
    },
    {
     "name": "stdout",
     "output_type": "stream",
     "text": [
      "54 0\n",
      "ADNI_002_S_4229_20111221\n",
      "414 392\n",
      "270 241\n",
      "219 180\n",
      "187 133\n",
      "195 130\n",
      "216 135\n",
      "341 309\n",
      "293 234\n",
      "296 209\n",
      "267 178\n",
      "177 131\n",
      "130 96\n",
      "63 26\n",
      "54 13\n",
      "54 11\n",
      "47 2\n",
      "49 0\n"
     ]
    },
    {
     "name": "stderr",
     "output_type": "stream",
     "text": [
      "  3%|████▏                                                                                                                                                    | 8/290 [01:08<35:34,  7.57s/it]"
     ]
    },
    {
     "name": "stdout",
     "output_type": "stream",
     "text": [
      "48 0\n",
      "ADNI_002_S_4237_20110926\n",
      "436 423\n",
      "310 293\n",
      "282 259\n",
      "205 169\n",
      "216 162\n",
      "233 154\n",
      "359 343\n",
      "335 309\n",
      "300 244\n",
      "298 209\n",
      "237 147\n",
      "180 115\n",
      "114 66\n",
      "89 30\n",
      "89 23\n",
      "81 9\n",
      "81 0\n"
     ]
    },
    {
     "name": "stderr",
     "output_type": "stream",
     "text": [
      "  3%|████▋                                                                                                                                                    | 9/290 [01:19<40:09,  8.57s/it]"
     ]
    },
    {
     "name": "stdout",
     "output_type": "stream",
     "text": [
      "72 0\n",
      "ADNI_002_S_4262_20111005\n",
      "299 274\n",
      "276 237\n",
      "255 204\n",
      "268 176\n",
      "322 181\n",
      "388 196\n",
      "299 252\n",
      "355 247\n",
      "495 286\n",
      "460 270\n",
      "237 139\n",
      "147 91\n",
      "124 55\n",
      "104 31\n",
      "105 23\n",
      "93 8\n",
      "95 0\n"
     ]
    },
    {
     "name": "stderr",
     "output_type": "stream",
     "text": [
      "  3%|█████▏                                                                                                                                                  | 10/290 [01:31<45:02,  9.65s/it]"
     ]
    },
    {
     "name": "stdout",
     "output_type": "stream",
     "text": [
      "97 0\n",
      "ADNI_002_S_4270_20111011\n",
      "189 182\n",
      "132 120\n",
      "91 77\n",
      "101 64\n",
      "127 65\n",
      "171 71\n",
      "156 143\n",
      "138 102\n",
      "180 98\n",
      "176 73\n",
      "98 41\n",
      "34 19\n",
      "43 24\n",
      "34 13\n",
      "30 7\n",
      "33 6\n"
     ]
    },
    {
     "name": "stderr",
     "output_type": "stream",
     "text": [
      "  4%|█████▊                                                                                                                                                  | 11/290 [01:36<38:38,  8.31s/it]"
     ]
    },
    {
     "name": "stdout",
     "output_type": "stream",
     "text": [
      "32 0\n",
      "35 0\n",
      "ADNI_002_S_4447_20120814\n",
      "204 187\n",
      "169 147\n",
      "141 111\n",
      "109 55\n",
      "138 62\n",
      "172 65\n",
      "154 132\n",
      "193 147\n",
      "246 140\n",
      "190 91\n",
      "89 38\n",
      "42 17\n",
      "48 18\n",
      "54 19\n",
      "47 10\n",
      "51 7\n"
     ]
    },
    {
     "name": "stderr",
     "output_type": "stream",
     "text": [
      "  4%|██████▎                                                                                                                                                 | 12/290 [01:42<35:19,  7.63s/it]"
     ]
    },
    {
     "name": "stdout",
     "output_type": "stream",
     "text": [
      "48 0\n",
      "45 0\n",
      "ADNI_002_S_4473_20120823\n",
      "421 402\n",
      "307 285\n",
      "246 219\n",
      "179 140\n",
      "151 106\n",
      "144 84\n",
      "334 310\n",
      "295 268\n",
      "257 206\n",
      "214 133\n",
      "156 86\n",
      "102 55\n",
      "66 31\n",
      "56 20\n",
      "53 11\n",
      "51 5\n"
     ]
    },
    {
     "name": "stderr",
     "output_type": "stream",
     "text": [
      "  4%|██████▊                                                                                                                                                 | 13/290 [01:51<36:35,  7.93s/it]"
     ]
    },
    {
     "name": "stdout",
     "output_type": "stream",
     "text": [
      "52 0\n",
      "49 0\n",
      "ADNI_002_S_4521_20120904\n",
      "284 270\n",
      "188 173\n",
      "124 103\n",
      "108 64\n",
      "111 56\n",
      "130 58\n",
      "213 195\n",
      "186 147\n",
      "168 109\n",
      "164 86\n",
      "102 58\n",
      "50 35\n",
      "28 11\n",
      "38 14\n",
      "33 8\n",
      "34 6\n"
     ]
    },
    {
     "name": "stderr",
     "output_type": "stream",
     "text": [
      "  5%|███████▎                                                                                                                                                | 14/290 [01:57<33:27,  7.27s/it]"
     ]
    },
    {
     "name": "stdout",
     "output_type": "stream",
     "text": [
      "33 0\n",
      "28 0\n",
      "ADNI_002_S_4654_20121023\n",
      "201 185\n",
      "149 129\n",
      "116 94\n",
      "112 63\n",
      "140 72\n",
      "155 67\n",
      "178 159\n",
      "159 124\n",
      "208 131\n",
      "166 112\n",
      "94 51\n",
      "44 27\n",
      "53 26\n",
      "42 14\n",
      "40 9\n",
      "41 8\n"
     ]
    },
    {
     "name": "stderr",
     "output_type": "stream",
     "text": [
      "  5%|███████▊                                                                                                                                                | 15/290 [02:02<31:03,  6.78s/it]"
     ]
    },
    {
     "name": "stdout",
     "output_type": "stream",
     "text": [
      "36 0\n",
      "32 0\n",
      "ADNI_006_S_4150_20111107\n",
      "261 251\n",
      "140 129\n",
      "107 90\n",
      "68 46\n",
      "79 41\n",
      "101 43\n",
      "185 174\n",
      "159 129\n",
      "188 117\n",
      "91 46\n",
      "56 29\n",
      "48 19\n",
      "23 9\n",
      "21 7\n",
      "19 4\n",
      "18 3\n",
      "16 0\n"
     ]
    },
    {
     "name": "stderr",
     "output_type": "stream",
     "text": [
      "  6%|████████▍                                                                                                                                               | 16/290 [02:07<28:06,  6.15s/it]"
     ]
    },
    {
     "name": "stdout",
     "output_type": "stream",
     "text": [
      "15 0\n",
      "ADNI_006_S_4153_20111104\n",
      "218 212\n",
      "142 136\n",
      "88 78\n",
      "76 56\n",
      "90 49\n",
      "127 57\n",
      "188 180\n",
      "130 116\n",
      "159 93\n",
      "201 89\n",
      "133 52\n",
      "61 20\n",
      "35 18\n",
      "46 24\n",
      "40 17\n",
      "36 8\n"
     ]
    },
    {
     "name": "stderr",
     "output_type": "stream",
     "text": [
      "  6%|████████▉                                                                                                                                               | 17/290 [02:13<26:53,  5.91s/it]"
     ]
    },
    {
     "name": "stdout",
     "output_type": "stream",
     "text": [
      "33 0\n",
      "30 0\n",
      "ADNI_006_S_4192_20111215\n",
      "342 321\n",
      "249 223\n",
      "189 156\n",
      "165 119\n",
      "206 134\n",
      "238 133\n",
      "273 247\n",
      "290 233\n",
      "340 227\n",
      "321 210\n",
      "201 120\n",
      "124 84\n",
      "92 52\n",
      "77 35\n",
      "62 18\n",
      "55 8\n",
      "50 0\n"
     ]
    },
    {
     "name": "stderr",
     "output_type": "stream",
     "text": [
      "  6%|█████████▍                                                                                                                                              | 18/290 [02:22<31:13,  6.89s/it]"
     ]
    },
    {
     "name": "stdout",
     "output_type": "stream",
     "text": [
      "54 0\n",
      "ADNI_006_S_4357_20111128\n",
      "222 219\n",
      "127 122\n",
      "85 71\n",
      "118 75\n",
      "123 64\n",
      "147 67\n",
      "157 151\n",
      "136 105\n",
      "134 82\n",
      "141 81\n",
      "71 41\n",
      "28 17\n",
      "38 22\n",
      "27 11\n",
      "24 8\n",
      "29 8\n",
      "26 0\n"
     ]
    },
    {
     "name": "stderr",
     "output_type": "stream",
     "text": [
      "  7%|█████████▉                                                                                                                                              | 19/290 [02:27<28:26,  6.30s/it]"
     ]
    },
    {
     "name": "stdout",
     "output_type": "stream",
     "text": [
      "30 0\n",
      "ADNI_006_S_4363_20111116\n",
      "136 129\n",
      "83 74\n",
      "61 39\n",
      "74 35\n",
      "100 41\n",
      "130 53\n",
      "89 80\n",
      "116 78\n",
      "142 69\n",
      "119 58\n",
      "63 36\n",
      "36 19\n",
      "28 15\n",
      "27 10\n",
      "24 7\n",
      "24 4\n"
     ]
    },
    {
     "name": "stderr",
     "output_type": "stream",
     "text": [
      "  7%|██████████▍                                                                                                                                             | 20/290 [02:31<25:07,  5.58s/it]"
     ]
    },
    {
     "name": "stdout",
     "output_type": "stream",
     "text": [
      "21 0\n",
      "22 0\n",
      "ADNI_006_S_4485_20120824\n",
      "298 270\n",
      "217 182\n",
      "168 118\n",
      "233 114\n",
      "330 124\n",
      "434 145\n",
      "248 205\n",
      "295 159\n",
      "414 161\n",
      "320 110\n",
      "142 66\n",
      "57 28\n",
      "71 32\n",
      "70 26\n",
      "68 18\n",
      "62 9\n"
     ]
    },
    {
     "name": "stderr",
     "output_type": "stream",
     "text": [
      "  7%|███████████                                                                                                                                             | 21/290 [02:40<30:33,  6.82s/it]"
     ]
    },
    {
     "name": "stdout",
     "output_type": "stream",
     "text": [
      "62 0\n",
      "59 0\n",
      "ADNI_006_S_4679_20120601\n",
      "291 276\n",
      "189 163\n",
      "163 116\n",
      "177 94\n",
      "222 108\n",
      "264 113\n",
      "261 230\n",
      "232 162\n",
      "260 129\n",
      "231 95\n",
      "135 67\n",
      "54 36\n",
      "61 31\n",
      "56 22\n",
      "51 16\n",
      "43 8\n"
     ]
    },
    {
     "name": "stderr",
     "output_type": "stream",
     "text": [
      "  8%|███████████▌                                                                                                                                            | 22/290 [02:48<31:41,  7.09s/it]"
     ]
    },
    {
     "name": "stdout",
     "output_type": "stream",
     "text": [
      "40 0\n",
      "42 0\n",
      "ADNI_006_S_4713_20121128\n",
      "194 184\n",
      "127 115\n",
      "87 68\n",
      "112 71\n",
      "139 74\n",
      "148 63\n",
      "149 135\n",
      "159 101\n",
      "168 86\n",
      "137 63\n",
      "79 41\n",
      "19 14\n",
      "35 22\n",
      "26 10\n",
      "22 5\n"
     ]
    },
    {
     "name": "stderr",
     "output_type": "stream",
     "text": [
      "  8%|████████████                                                                                                                                            | 23/290 [02:53<28:34,  6.42s/it]"
     ]
    },
    {
     "name": "stdout",
     "output_type": "stream",
     "text": [
      "23 3\n",
      "22 0\n",
      "22 0\n",
      "ADNI_006_S_4960_20121009\n",
      "282 263\n",
      "187 161\n",
      "192 153\n",
      "156 107\n",
      "160 112\n",
      "165 110\n",
      "230 202\n",
      "196 153\n",
      "199 145\n",
      "192 137\n",
      "161 106\n",
      "107 72\n",
      "74 42\n",
      "70 33\n",
      "62 21\n",
      "53 7\n",
      "51 0\n"
     ]
    },
    {
     "name": "stderr",
     "output_type": "stream",
     "text": [
      "  8%|████████████▌                                                                                                                                           | 24/290 [03:00<29:37,  6.68s/it]"
     ]
    },
    {
     "name": "stdout",
     "output_type": "stream",
     "text": [
      "44 0\n",
      "ADNI_009_S_2208_20101201\n",
      "166 158\n",
      "95 87\n",
      "80 60\n",
      "82 43\n",
      "110 44\n",
      "120 40\n",
      "122 114\n",
      "121 83\n",
      "170 86\n",
      "125 57\n",
      "63 29\n",
      "29 19\n",
      "23 11\n",
      "21 6\n",
      "24 8\n",
      "22 5\n",
      "17 0\n"
     ]
    },
    {
     "name": "stderr",
     "output_type": "stream",
     "text": [
      "  9%|█████████████                                                                                                                                           | 25/290 [03:04<26:14,  5.94s/it]"
     ]
    },
    {
     "name": "stdout",
     "output_type": "stream",
     "text": [
      "15 0\n",
      "ADNI_009_S_4324_20111101\n",
      "228 227\n",
      "136 131\n",
      "82 66\n",
      "89 42\n",
      "131 53\n",
      "166 64\n",
      "198 192\n",
      "149 111\n",
      "178 119\n",
      "139 78\n",
      "81 45\n",
      "39 21\n",
      "26 13\n",
      "23 9\n",
      "24 8\n"
     ]
    },
    {
     "name": "stderr",
     "output_type": "stream",
     "text": [
      "  9%|█████████████▋                                                                                                                                          | 26/290 [03:09<25:04,  5.70s/it]"
     ]
    },
    {
     "name": "stdout",
     "output_type": "stream",
     "text": [
      "19 0\n",
      "22 0\n",
      "19 0\n",
      "ADNI_009_S_4359_20111205\n",
      "158 153\n",
      "65 58\n",
      "58 44\n",
      "107 48\n",
      "143 52\n",
      "188 67\n",
      "96 89\n",
      "79 60\n",
      "145 63\n",
      "169 69\n",
      "136 63\n",
      "80 40\n",
      "15 5\n",
      "22 9\n",
      "23 4\n",
      "28 3\n"
     ]
    },
    {
     "name": "stderr",
     "output_type": "stream",
     "text": [
      "  9%|██████████████▏                                                                                                                                         | 27/290 [03:14<23:51,  5.44s/it]"
     ]
    },
    {
     "name": "stdout",
     "output_type": "stream",
     "text": [
      "33 0\n",
      "28 0\n",
      "ADNI_009_S_4388_20111213\n",
      "250 244\n",
      "129 120\n",
      "92 70\n",
      "103 39\n",
      "144 51\n",
      "186 65\n",
      "182 168\n",
      "167 132\n",
      "193 115\n",
      "146 70\n",
      "70 31\n",
      "39 17\n",
      "22 9\n",
      "22 7\n",
      "22 5\n"
     ]
    },
    {
     "name": "stderr",
     "output_type": "stream",
     "text": [
      " 10%|██████████████▋                                                                                                                                         | 28/290 [03:20<23:49,  5.45s/it]"
     ]
    },
    {
     "name": "stdout",
     "output_type": "stream",
     "text": [
      "22 3\n",
      "19 0\n",
      "19 0\n",
      "ADNI_009_S_4543_20120912\n",
      "177 171\n",
      "94 81\n",
      "87 50\n",
      "142 67\n",
      "185 80\n",
      "256 99\n",
      "144 123\n",
      "194 113\n",
      "212 91\n",
      "164 76\n",
      "49 22\n",
      "15 8\n",
      "40 26\n",
      "31 14\n",
      "27 6\n",
      "32 4\n",
      "30 0\n"
     ]
    },
    {
     "name": "stderr",
     "output_type": "stream",
     "text": [
      " 10%|███████████████▏                                                                                                                                        | 29/290 [03:26<24:17,  5.59s/it]"
     ]
    },
    {
     "name": "stdout",
     "output_type": "stream",
     "text": [
      "28 0\n",
      "ADNI_009_S_4612_20121011\n",
      "278 258\n",
      "236 208\n",
      "164 116\n",
      "210 110\n",
      "291 150\n",
      "381 170\n",
      "263 229\n",
      "266 185\n",
      "402 204\n",
      "365 195\n",
      "167 86\n",
      "77 51\n",
      "89 34\n",
      "90 29\n",
      "90 23\n",
      "84 7\n",
      "87 0\n"
     ]
    },
    {
     "name": "stderr",
     "output_type": "stream",
     "text": [
      " 10%|███████████████▋                                                                                                                                        | 30/290 [03:36<30:02,  6.93s/it]"
     ]
    },
    {
     "name": "stdout",
     "output_type": "stream",
     "text": [
      "83 0\n",
      "ADNI_009_S_4741_20121015\n",
      "313 298\n",
      "249 226\n",
      "198 170\n",
      "169 117\n",
      "174 100\n",
      "199 94\n",
      "272 248\n",
      "242 200\n",
      "287 194\n",
      "238 133\n",
      "158 83\n",
      "95 52\n",
      "73 38\n",
      "62 23\n",
      "56 12\n",
      "57 10\n"
     ]
    },
    {
     "name": "stderr",
     "output_type": "stream",
     "text": [
      " 11%|████████████████▏                                                                                                                                       | 31/290 [03:44<31:28,  7.29s/it]"
     ]
    },
    {
     "name": "stdout",
     "output_type": "stream",
     "text": [
      "48 0\n",
      "46 0\n",
      "ADNI_010_S_4345_20120920\n",
      "197 185\n",
      "129 115\n",
      "114 95\n",
      "116 65\n",
      "131 60\n",
      "175 64\n",
      "170 154\n",
      "145 103\n",
      "211 112\n",
      "203 99\n",
      "92 44\n",
      "57 32\n",
      "40 18\n",
      "35 12\n",
      "34 11\n",
      "31 7\n"
     ]
    },
    {
     "name": "stderr",
     "output_type": "stream",
     "text": [
      " 11%|████████████████▊                                                                                                                                       | 32/290 [03:49<29:07,  6.77s/it]"
     ]
    },
    {
     "name": "stdout",
     "output_type": "stream",
     "text": [
      "29 0\n",
      "32 0\n",
      "ADNI_011_S_0021_20101008\n",
      "253 246\n",
      "152 140\n",
      "103 90\n",
      "80 59\n",
      "86 55\n",
      "118 57\n",
      "184 173\n",
      "136 117\n",
      "146 84\n",
      "126 75\n",
      "66 41\n",
      "29 18\n",
      "29 17\n",
      "25 11\n",
      "16 2\n"
     ]
    },
    {
     "name": "stderr",
     "output_type": "stream",
     "text": [
      " 11%|█████████████████▎                                                                                                                                      | 33/290 [03:54<26:23,  6.16s/it]"
     ]
    },
    {
     "name": "stdout",
     "output_type": "stream",
     "text": [
      "14 0\n",
      "15 0\n",
      "17 0\n",
      "ADNI_011_S_0023_20121227\n",
      "228 217\n",
      "123 109\n",
      "114 87\n",
      "123 63\n",
      "139 55\n",
      "171 70\n",
      "143 125\n",
      "160 109\n",
      "206 114\n",
      "133 72\n",
      "40 18\n",
      "22 6\n",
      "38 18\n",
      "32 11\n",
      "25 3\n"
     ]
    },
    {
     "name": "stderr",
     "output_type": "stream",
     "text": [
      " 12%|█████████████████▊                                                                                                                                      | 34/290 [03:59<25:00,  5.86s/it]"
     ]
    },
    {
     "name": "stdout",
     "output_type": "stream",
     "text": [
      "28 3\n",
      "26 0\n",
      "24 0\n",
      "ADNI_011_S_2274_20110818\n",
      "498 494\n",
      "301 295\n",
      "171 159\n",
      "132 82\n",
      "184 89\n",
      "217 80\n",
      "393 382\n",
      "300 261\n",
      "324 198\n",
      "269 155\n",
      "104 47\n",
      "33 17\n",
      "46 28\n",
      "42 19\n",
      "44 17\n",
      "41 6\n"
     ]
    },
    {
     "name": "stderr",
     "output_type": "stream",
     "text": [
      " 12%|██████████████████▎                                                                                                                                     | 35/290 [04:08<28:38,  6.74s/it]"
     ]
    },
    {
     "name": "stdout",
     "output_type": "stream",
     "text": [
      "47 0\n",
      "38 0\n",
      "ADNI_011_S_4075_20111214\n",
      "120 114\n",
      "84 77\n",
      "71 52\n",
      "96 43\n",
      "119 46\n",
      "169 55\n",
      "114 103\n",
      "133 95\n",
      "180 75\n",
      "145 48\n",
      "68 25\n",
      "36 7\n",
      "24 13\n",
      "23 8\n",
      "26 7\n"
     ]
    },
    {
     "name": "stderr",
     "output_type": "stream",
     "text": [
      " 12%|██████████████████▊                                                                                                                                     | 36/290 [04:13<25:34,  6.04s/it]"
     ]
    },
    {
     "name": "stdout",
     "output_type": "stream",
     "text": [
      "24 2\n",
      "25 0\n",
      "22 0\n",
      "ADNI_011_S_4105_20111005\n",
      "199 192\n",
      "137 121\n",
      "108 80\n",
      "123 57\n",
      "147 60\n",
      "174 61\n",
      "190 166\n",
      "178 118\n",
      "183 92\n",
      "148 85\n",
      "56 36\n",
      "32 17\n",
      "31 17\n",
      "32 16\n",
      "26 9\n",
      "27 4\n"
     ]
    },
    {
     "name": "stderr",
     "output_type": "stream",
     "text": [
      " 13%|███████████████████▍                                                                                                                                    | 37/290 [04:18<24:37,  5.84s/it]"
     ]
    },
    {
     "name": "stdout",
     "output_type": "stream",
     "text": [
      "26 0\n",
      "24 0\n",
      "ADNI_011_S_4120_20111010\n",
      "151 145\n",
      "86 75\n",
      "82 57\n",
      "128 67\n",
      "153 63\n",
      "202 76\n",
      "103 84\n",
      "146 70\n",
      "211 104\n",
      "189 89\n",
      "90 37\n",
      "23 8\n",
      "22 10\n",
      "27 8\n",
      "27 6\n",
      "24 1\n",
      "28 0\n"
     ]
    },
    {
     "name": "stderr",
     "output_type": "stream",
     "text": [
      " 13%|███████████████████▉                                                                                                                                    | 38/290 [04:23<24:05,  5.74s/it]"
     ]
    },
    {
     "name": "stdout",
     "output_type": "stream",
     "text": [
      "26 0\n",
      "ADNI_011_S_4222_20111207\n",
      "228 217\n",
      "150 138\n",
      "135 118\n",
      "130 67\n",
      "183 79\n",
      "223 77\n",
      "172 155\n",
      "198 140\n",
      "282 171\n",
      "206 130\n",
      "87 50\n",
      "31 19\n",
      "32 16\n",
      "25 7\n",
      "21 2\n"
     ]
    },
    {
     "name": "stderr",
     "output_type": "stream",
     "text": [
      " 13%|████████████████████▍                                                                                                                                   | 39/290 [04:30<24:33,  5.87s/it]"
     ]
    },
    {
     "name": "stdout",
     "output_type": "stream",
     "text": [
      "21 1\n",
      "22 0\n",
      "22 0\n",
      "ADNI_011_S_4235_20111219\n",
      "475 461\n",
      "343 327\n",
      "186 160\n",
      "138 71\n",
      "166 67\n",
      "219 81\n",
      "393 369\n",
      "342 287\n",
      "333 222\n",
      "204 105\n",
      "101 41\n",
      "61 26\n",
      "43 23\n",
      "40 17\n",
      "38 10\n",
      "34 2\n"
     ]
    },
    {
     "name": "stderr",
     "output_type": "stream",
     "text": [
      " 14%|████████████████████▉                                                                                                                                   | 40/290 [04:39<28:41,  6.88s/it]"
     ]
    },
    {
     "name": "stdout",
     "output_type": "stream",
     "text": [
      "42 0\n",
      "49 0\n",
      "ADNI_011_S_4278_20111013\n",
      "378 373\n",
      "183 176\n",
      "93 85\n",
      "96 66\n",
      "132 75\n",
      "159 65\n",
      "292 285\n",
      "175 155\n",
      "221 134\n",
      "193 102\n",
      "99 42\n",
      "53 26\n",
      "41 23\n",
      "29 10\n",
      "29 7\n",
      "33 6\n"
     ]
    },
    {
     "name": "stderr",
     "output_type": "stream",
     "text": [
      " 14%|█████████████████████▍                                                                                                                                  | 41/290 [04:45<28:00,  6.75s/it]"
     ]
    },
    {
     "name": "stdout",
     "output_type": "stream",
     "text": [
      "33 0\n",
      "29 0\n",
      "ADNI_011_S_4547_20120912\n",
      "336 324\n",
      "234 218\n",
      "142 119\n",
      "118 70\n",
      "142 67\n",
      "196 81\n",
      "268 251\n",
      "248 197\n",
      "296 185\n",
      "198 115\n",
      "96 63\n",
      "55 32\n",
      "40 14\n",
      "42 13\n",
      "49 17\n",
      "47 14\n"
     ]
    },
    {
     "name": "stderr",
     "output_type": "stream",
     "text": [
      " 14%|██████████████████████                                                                                                                                  | 42/290 [04:53<28:31,  6.90s/it]"
     ]
    },
    {
     "name": "stdout",
     "output_type": "stream",
     "text": [
      "37 0\n",
      "38 0\n",
      "ADNI_012_S_4012_20111107\n",
      "299 293\n",
      "190 181\n",
      "106 95\n",
      "64 45\n",
      "73 41\n",
      "83 36\n",
      "250 240\n",
      "174 158\n",
      "126 99\n",
      "116 60\n",
      "92 37\n",
      "46 23\n",
      "21 9\n",
      "16 4\n",
      "14 2\n"
     ]
    },
    {
     "name": "stderr",
     "output_type": "stream",
     "text": [
      " 15%|██████████████████████▌                                                                                                                                 | 43/290 [04:58<26:04,  6.33s/it]"
     ]
    },
    {
     "name": "stdout",
     "output_type": "stream",
     "text": [
      "14 1\n",
      "19 0\n",
      "21 0\n",
      "ADNI_012_S_4094_20111006\n",
      "219 206\n",
      "169 155\n",
      "118 103\n",
      "76 61\n",
      "73 54\n",
      "61 34\n",
      "202 188\n",
      "152 137\n",
      "102 82\n",
      "86 64\n",
      "55 33\n",
      "36 22\n",
      "36 18\n",
      "24 6\n",
      "24 5\n",
      "24 4\n"
     ]
    },
    {
     "name": "stderr",
     "output_type": "stream",
     "text": [
      " 15%|███████████████████████                                                                                                                                 | 44/290 [05:02<23:36,  5.76s/it]"
     ]
    },
    {
     "name": "stdout",
     "output_type": "stream",
     "text": [
      "22 0\n",
      "21 0\n",
      "ADNI_012_S_4128_20111101\n",
      "286 269\n",
      "226 202\n",
      "179 151\n",
      "164 119\n",
      "171 112\n",
      "192 112\n",
      "252 229\n",
      "232 201\n",
      "251 173\n",
      "245 149\n",
      "131 90\n",
      "85 58\n",
      "64 31\n",
      "57 21\n",
      "55 16\n",
      "52 9\n",
      "49 0\n"
     ]
    },
    {
     "name": "stderr",
     "output_type": "stream",
     "text": [
      " 16%|███████████████████████▌                                                                                                                                | 45/290 [05:10<25:48,  6.32s/it]"
     ]
    },
    {
     "name": "stdout",
     "output_type": "stream",
     "text": [
      "43 0\n",
      "ADNI_012_S_4188_20111213\n",
      "213 203\n",
      "135 122\n",
      "95 73\n",
      "148 76\n",
      "161 66\n",
      "188 67\n",
      "152 137\n",
      "155 97\n",
      "213 102\n",
      "165 87\n",
      "117 58\n",
      "65 30\n",
      "34 13\n",
      "35 11\n",
      "32 5\n",
      "34 4\n"
     ]
    },
    {
     "name": "stderr",
     "output_type": "stream",
     "text": [
      " 16%|████████████████████████                                                                                                                                | 46/290 [05:15<25:07,  6.18s/it]"
     ]
    },
    {
     "name": "stdout",
     "output_type": "stream",
     "text": [
      "32 0\n",
      "31 0\n",
      "ADNI_012_S_4545_20120924\n",
      "227 208\n",
      "169 148\n",
      "116 91\n",
      "117 73\n",
      "136 78\n",
      "184 88\n",
      "203 182\n",
      "162 126\n",
      "158 92\n",
      "177 91\n",
      "100 32\n",
      "63 24\n",
      "59 31\n",
      "51 21\n",
      "39 8\n",
      "38 5\n"
     ]
    },
    {
     "name": "stderr",
     "output_type": "stream",
     "text": [
      " 16%|████████████████████████▋                                                                                                                               | 47/290 [05:21<24:45,  6.11s/it]"
     ]
    },
    {
     "name": "stdout",
     "output_type": "stream",
     "text": [
      "33 0\n",
      "36 0\n",
      "ADNI_012_S_4643_20120627\n",
      "177 166\n",
      "118 102\n",
      "92 65\n",
      "110 54\n",
      "122 54\n",
      "125 49\n",
      "151 124\n",
      "153 105\n",
      "131 74\n",
      "90 46\n",
      "50 31\n",
      "28 19\n",
      "27 11\n",
      "22 4\n",
      "22 3\n",
      "22 2\n",
      "20 0\n"
     ]
    },
    {
     "name": "stderr",
     "output_type": "stream",
     "text": [
      " 17%|█████████████████████████▏                                                                                                                              | 48/290 [05:26<22:33,  5.59s/it]"
     ]
    },
    {
     "name": "stdout",
     "output_type": "stream",
     "text": [
      "19 0\n",
      "ADNI_013_S_1186_20110223\n",
      "210 205\n",
      "163 152\n",
      "133 101\n",
      "179 85\n",
      "251 105\n",
      "340 133\n",
      "188 168\n",
      "262 162\n",
      "395 221\n",
      "275 156\n",
      "161 81\n",
      "68 31\n",
      "60 40\n",
      "44 24\n",
      "35 13\n",
      "30 6\n",
      "29 0\n"
     ]
    },
    {
     "name": "stderr",
     "output_type": "stream",
     "text": [
      " 17%|█████████████████████████▋                                                                                                                              | 49/290 [05:34<25:18,  6.30s/it]"
     ]
    },
    {
     "name": "stdout",
     "output_type": "stream",
     "text": [
      "29 0\n",
      "ADNI_013_S_4268_20111101\n",
      "291 281\n",
      "177 165\n",
      "110 97\n",
      "87 66\n",
      "86 53\n",
      "104 57\n",
      "222 211\n",
      "153 139\n",
      "148 107\n",
      "126 79\n",
      "84 48\n",
      "60 33\n",
      "29 9\n",
      "31 7\n",
      "31 4\n",
      "31 2\n"
     ]
    },
    {
     "name": "stderr",
     "output_type": "stream",
     "text": [
      " 17%|██████████████████████████▏                                                                                                                             | 50/290 [05:39<23:58,  5.99s/it]"
     ]
    },
    {
     "name": "stdout",
     "output_type": "stream",
     "text": [
      "31 0\n",
      "27 0\n",
      "ADNI_013_S_4395_20120815\n",
      "179 162\n",
      "142 114\n",
      "128 88\n",
      "205 101\n",
      "305 126\n",
      "464 164\n",
      "186 153\n",
      "276 168\n",
      "461 233\n",
      "390 180\n",
      "167 74\n",
      "52 29\n",
      "84 46\n",
      "78 34\n",
      "78 27\n",
      "66 14\n"
     ]
    },
    {
     "name": "stderr",
     "output_type": "stream",
     "text": [
      " 18%|██████████████████████████▋                                                                                                                             | 51/290 [05:48<27:51,  6.99s/it]"
     ]
    },
    {
     "name": "stdout",
     "output_type": "stream",
     "text": [
      "60 0\n",
      "57 0\n",
      "ADNI_013_S_4580_20121015\n",
      "370 360\n",
      "292 277\n",
      "207 186\n",
      "132 102\n",
      "132 93\n",
      "157 82\n",
      "322 307\n",
      "255 231\n",
      "265 202\n",
      "269 168\n",
      "189 107\n",
      "111 66\n",
      "53 25\n",
      "51 19\n",
      "51 13\n",
      "46 5\n",
      "43 0\n"
     ]
    },
    {
     "name": "stderr",
     "output_type": "stream",
     "text": [
      " 18%|███████████████████████████▎                                                                                                                            | 52/290 [05:57<29:16,  7.38s/it]"
     ]
    },
    {
     "name": "stdout",
     "output_type": "stream",
     "text": [
      "33 0\n",
      "ADNI_013_S_4595_20121024\n",
      "298 288\n",
      "233 218\n",
      "189 161\n",
      "135 101\n",
      "142 97\n",
      "136 73\n",
      "250 234\n",
      "239 208\n",
      "213 168\n",
      "183 120\n",
      "129 73\n",
      "91 50\n",
      "50 27\n",
      "51 23\n",
      "44 12\n",
      "39 6\n",
      "38 0\n"
     ]
    },
    {
     "name": "stderr",
     "output_type": "stream",
     "text": [
      " 18%|███████████████████████████▊                                                                                                                            | 53/290 [06:04<28:43,  7.27s/it]"
     ]
    },
    {
     "name": "stdout",
     "output_type": "stream",
     "text": [
      "36 0\n",
      "ADNI_013_S_4616_20121025\n",
      "480 468\n",
      "356 340\n",
      "263 239\n",
      "227 168\n",
      "273 157\n",
      "352 156\n",
      "404 385\n",
      "450 370\n",
      "521 335\n",
      "463 252\n",
      "223 118\n",
      "115 75\n",
      "77 54\n",
      "54 29\n",
      "44 13\n",
      "38 6\n"
     ]
    },
    {
     "name": "stderr",
     "output_type": "stream",
     "text": [
      " 19%|████████████████████████████▎                                                                                                                           | 54/290 [06:16<34:15,  8.71s/it]"
     ]
    },
    {
     "name": "stdout",
     "output_type": "stream",
     "text": [
      "38 0\n",
      "35 0\n",
      "ADNI_014_S_2308_20110908\n",
      "234 227\n",
      "157 150\n",
      "123 113\n",
      "113 81\n",
      "109 67\n",
      "118 69\n",
      "188 181\n",
      "143 125\n",
      "142 113\n",
      "141 104\n",
      "88 69\n",
      "70 56\n",
      "29 18\n",
      "21 9\n",
      "20 5\n",
      "21 5\n",
      "18 0\n"
     ]
    },
    {
     "name": "stderr",
     "output_type": "stream",
     "text": [
      " 19%|████████████████████████████▊                                                                                                                           | 55/290 [06:21<29:53,  7.63s/it]"
     ]
    },
    {
     "name": "stdout",
     "output_type": "stream",
     "text": [
      "16 0\n",
      "ADNI_014_S_4039_20111208\n",
      "296 288\n",
      "198 188\n",
      "119 107\n",
      "67 48\n",
      "64 46\n",
      "74 39\n",
      "244 235\n",
      "192 178\n",
      "147 123\n",
      "97 63\n",
      "74 40\n",
      "32 21\n",
      "22 8\n",
      "20 3\n",
      "20 3\n"
     ]
    },
    {
     "name": "stderr",
     "output_type": "stream",
     "text": [
      " 19%|█████████████████████████████▎                                                                                                                          | 56/290 [06:26<26:47,  6.87s/it]"
     ]
    },
    {
     "name": "stdout",
     "output_type": "stream",
     "text": [
      "19 1\n",
      "21 0\n",
      "20 0\n",
      "ADNI_014_S_4058_20111222\n",
      "162 150\n",
      "110 92\n",
      "81 61\n",
      "86 40\n",
      "119 50\n",
      "166 58\n",
      "131 117\n",
      "120 89\n",
      "169 106\n",
      "179 94\n",
      "124 58\n",
      "67 31\n",
      "37 12\n",
      "34 9\n",
      "32 6\n",
      "31 5\n",
      "30 0\n"
     ]
    },
    {
     "name": "stderr",
     "output_type": "stream",
     "text": [
      " 20%|█████████████████████████████▉                                                                                                                          | 57/290 [06:31<24:29,  6.31s/it]"
     ]
    },
    {
     "name": "stdout",
     "output_type": "stream",
     "text": [
      "30 0\n",
      "ADNI_014_S_4079_20111215\n",
      "249 241\n",
      "152 141\n",
      "90 74\n",
      "95 35\n",
      "118 48\n",
      "144 51\n",
      "200 189\n",
      "155 116\n",
      "183 111\n",
      "151 78\n",
      "103 42\n",
      "47 20\n",
      "25 10\n",
      "22 6\n",
      "31 8\n",
      "31 1\n",
      "36 0\n"
     ]
    },
    {
     "name": "stderr",
     "output_type": "stream",
     "text": [
      " 20%|██████████████████████████████▍                                                                                                                         | 58/290 [06:36<23:20,  6.04s/it]"
     ]
    },
    {
     "name": "stdout",
     "output_type": "stream",
     "text": [
      "36 0\n",
      "ADNI_014_S_4263_20111006\n",
      "431 400\n",
      "273 237\n",
      "227 182\n",
      "200 140\n",
      "191 123\n",
      "186 106\n",
      "332 295\n",
      "262 217\n",
      "258 194\n",
      "224 158\n",
      "123 78\n",
      "96 65\n",
      "88 43\n",
      "68 21\n",
      "57 9\n",
      "55 6\n",
      "50 0\n"
     ]
    },
    {
     "name": "stderr",
     "output_type": "stream",
     "text": [
      " 20%|██████████████████████████████▉                                                                                                                         | 59/290 [06:45<26:23,  6.85s/it]"
     ]
    },
    {
     "name": "stdout",
     "output_type": "stream",
     "text": [
      "41 0\n",
      "ADNI_014_S_4328_20111107\n",
      "268 261\n",
      "221 214\n",
      "191 184\n",
      "93 83\n",
      "76 65\n",
      "66 48\n",
      "232 225\n",
      "234 227\n",
      "203 193\n",
      "144 127\n",
      "81 59\n",
      "57 44\n",
      "23 12\n",
      "20 8\n",
      "15 3\n"
     ]
    },
    {
     "name": "stderr",
     "output_type": "stream",
     "text": [
      " 21%|███████████████████████████████▍                                                                                                                        | 60/290 [06:51<24:54,  6.50s/it]"
     ]
    },
    {
     "name": "stdout",
     "output_type": "stream",
     "text": [
      "15 3\n",
      "12 0\n",
      "11 0\n",
      "ADNI_014_S_4401_20111202\n",
      "266 258\n",
      "183 174\n",
      "136 126\n",
      "71 54\n",
      "73 49\n",
      "66 37\n",
      "199 190\n",
      "174 163\n",
      "171 139\n",
      "152 101\n",
      "60 34\n",
      "33 21\n",
      "24 14\n",
      "22 9\n",
      "20 6\n",
      "21 5\n",
      "20 0\n"
     ]
    },
    {
     "name": "stderr",
     "output_type": "stream",
     "text": [
      " 21%|███████████████████████████████▉                                                                                                                        | 61/290 [06:56<23:05,  6.05s/it]"
     ]
    },
    {
     "name": "stdout",
     "output_type": "stream",
     "text": [
      "21 0\n",
      "ADNI_014_S_4576_20120920\n",
      "145 137\n",
      "87 79\n",
      "59 46\n",
      "76 48\n",
      "88 43\n",
      "106 39\n",
      "97 89\n",
      "93 68\n",
      "103 63\n",
      "109 52\n",
      "64 27\n",
      "29 17\n",
      "18 9\n",
      "16 5\n",
      "15 2\n",
      "14 1\n",
      "16 0\n"
     ]
    },
    {
     "name": "stderr",
     "output_type": "stream",
     "text": [
      " 21%|████████████████████████████████▍                                                                                                                       | 62/290 [06:59<20:10,  5.31s/it]"
     ]
    },
    {
     "name": "stdout",
     "output_type": "stream",
     "text": [
      "17 0\n",
      "ADNI_018_S_2155_20101202\n",
      "197 188\n",
      "141 131\n",
      "101 88\n",
      "97 66\n",
      "109 53\n",
      "128 51\n",
      "190 180\n",
      "144 125\n",
      "158 102\n",
      "177 84\n",
      "109 45\n",
      "54 26\n",
      "34 15\n",
      "31 8\n",
      "36 7\n",
      "34 1\n"
     ]
    },
    {
     "name": "stderr",
     "output_type": "stream",
     "text": [
      " 22%|█████████████████████████████████                                                                                                                       | 63/290 [07:05<20:06,  5.32s/it]"
     ]
    },
    {
     "name": "stdout",
     "output_type": "stream",
     "text": [
      "46 0\n",
      "40 0\n",
      "ADNI_018_S_2180_20101209\n",
      "210 200\n",
      "123 106\n",
      "97 77\n",
      "83 56\n",
      "81 50\n",
      "79 45\n",
      "146 131\n",
      "119 96\n",
      "98 72\n",
      "78 47\n",
      "71 36\n",
      "43 18\n",
      "34 15\n",
      "30 9\n",
      "21 0\n"
     ]
    },
    {
     "name": "stderr",
     "output_type": "stream",
     "text": [
      " 22%|█████████████████████████████████▌                                                                                                                      | 64/290 [07:09<18:45,  4.98s/it]"
     ]
    },
    {
     "name": "stdout",
     "output_type": "stream",
     "text": [
      "23 1\n",
      "24 0\n",
      "21 0\n",
      "ADNI_018_S_4313_20111128\n",
      "176 167\n",
      "130 114\n",
      "79 59\n",
      "84 42\n",
      "115 47\n",
      "164 55\n",
      "159 141\n",
      "172 116\n",
      "208 100\n",
      "159 66\n",
      "84 34\n",
      "47 13\n",
      "37 21\n",
      "34 15\n",
      "35 10\n",
      "35 8\n"
     ]
    },
    {
     "name": "stderr",
     "output_type": "stream",
     "text": [
      " 22%|██████████████████████████████████                                                                                                                      | 65/290 [07:14<18:58,  5.06s/it]"
     ]
    },
    {
     "name": "stdout",
     "output_type": "stream",
     "text": [
      "34 0\n",
      "32 0\n",
      "ADNI_018_S_4349_20111115\n",
      "255 226\n",
      "208 165\n",
      "200 128\n",
      "236 106\n",
      "322 135\n",
      "401 163\n",
      "274 206\n",
      "325 184\n",
      "353 177\n",
      "293 142\n",
      "196 101\n",
      "91 62\n",
      "86 38\n",
      "81 25\n",
      "77 18\n",
      "72 10\n"
     ]
    },
    {
     "name": "stderr",
     "output_type": "stream",
     "text": [
      " 23%|██████████████████████████████████▌                                                                                                                     | 66/290 [07:24<24:19,  6.52s/it]"
     ]
    },
    {
     "name": "stdout",
     "output_type": "stream",
     "text": [
      "71 0\n",
      "64 0\n",
      "ADNI_018_S_4399_20111215\n",
      "105 96\n",
      "73 63\n",
      "49 38\n",
      "66 42\n",
      "87 44\n",
      "106 47\n",
      "92 82\n",
      "77 60\n",
      "103 52\n",
      "101 44\n",
      "67 29\n",
      "25 12\n",
      "25 14\n",
      "20 9\n",
      "15 2\n",
      "15 1\n"
     ]
    },
    {
     "name": "stderr",
     "output_type": "stream",
     "text": [
      " 23%|███████████████████████████████████                                                                                                                     | 67/290 [07:27<20:41,  5.57s/it]"
     ]
    },
    {
     "name": "stdout",
     "output_type": "stream",
     "text": [
      "14 0\n",
      "13 0\n",
      "ADNI_018_S_4400_20111220\n",
      "279 256\n",
      "206 180\n",
      "130 102\n",
      "112 79\n",
      "101 63\n",
      "106 59\n",
      "226 200\n",
      "179 149\n",
      "151 115\n",
      "130 84\n",
      "92 49\n",
      "60 28\n",
      "53 25\n",
      "38 9\n",
      "38 6\n",
      "35 0\n"
     ]
    },
    {
     "name": "stderr",
     "output_type": "stream",
     "text": [
      " 23%|███████████████████████████████████▋                                                                                                                    | 68/290 [07:33<20:50,  5.63s/it]"
     ]
    },
    {
     "name": "stdout",
     "output_type": "stream",
     "text": [
      "35 0\n",
      "34 0\n",
      "ADNI_018_S_4809_20121005\n",
      "411 400\n",
      "337 317\n",
      "304 282\n",
      "219 191\n",
      "204 167\n",
      "206 148\n",
      "348 330\n",
      "370 339\n",
      "379 297\n",
      "355 234\n",
      "289 196\n",
      "213 132\n",
      "97 54\n",
      "84 32\n",
      "90 32\n",
      "81 15\n",
      "71 0\n"
     ]
    },
    {
     "name": "stderr",
     "output_type": "stream",
     "text": [
      " 24%|████████████████████████████████████▏                                                                                                                   | 69/290 [07:44<27:02,  7.34s/it]"
     ]
    },
    {
     "name": "stdout",
     "output_type": "stream",
     "text": [
      "72 0\n",
      "ADNI_018_S_4868_20121114\n",
      "383 378\n",
      "265 257\n",
      "141 132\n",
      "93 72\n",
      "97 61\n",
      "112 61\n",
      "291 283\n",
      "260 239\n",
      "239 190\n",
      "158 100\n",
      "78 44\n",
      "48 28\n",
      "35 21\n",
      "21 6\n",
      "23 3\n",
      "24 3\n",
      "25 0\n"
     ]
    },
    {
     "name": "stderr",
     "output_type": "stream",
     "text": [
      " 24%|████████████████████████████████████▋                                                                                                                   | 70/290 [07:51<26:10,  7.14s/it]"
     ]
    },
    {
     "name": "stdout",
     "output_type": "stream",
     "text": [
      "28 0\n",
      "ADNI_018_S_4889_20121114\n",
      "413 377\n",
      "350 307\n",
      "270 218\n",
      "247 157\n",
      "264 157\n",
      "269 139\n",
      "367 323\n",
      "399 315\n",
      "344 245\n",
      "285 187\n",
      "203 119\n",
      "129 78\n",
      "110 54\n",
      "86 28\n",
      "72 14\n",
      "64 4\n",
      "65 0\n"
     ]
    },
    {
     "name": "stderr",
     "output_type": "stream",
     "text": [
      " 24%|█████████████████████████████████████▏                                                                                                                  | 71/290 [08:02<30:15,  8.29s/it]"
     ]
    },
    {
     "name": "stdout",
     "output_type": "stream",
     "text": [
      "66 0\n",
      "ADNI_019_S_4252_20111214\n",
      "281 269\n",
      "204 185\n",
      "173 152\n",
      "174 117\n",
      "208 107\n",
      "253 98\n",
      "227 207\n",
      "246 184\n",
      "337 208\n",
      "244 152\n",
      "119 85\n",
      "75 59\n",
      "47 28\n",
      "35 14\n",
      "33 12\n"
     ]
    },
    {
     "name": "stderr",
     "output_type": "stream",
     "text": [
      " 25%|█████████████████████████████████████▋                                                                                                                  | 72/290 [08:10<29:27,  8.11s/it]"
     ]
    },
    {
     "name": "stdout",
     "output_type": "stream",
     "text": [
      "26 4\n",
      "25 0\n",
      "26 0\n",
      "ADNI_019_S_4285_20111013\n",
      "308 287\n",
      "208 182\n",
      "164 123\n",
      "208 114\n",
      "273 134\n",
      "408 149\n",
      "261 230\n",
      "262 182\n",
      "404 198\n",
      "355 171\n",
      "207 127\n",
      "100 73\n",
      "87 39\n",
      "72 19\n",
      "71 13\n",
      "70 7\n"
     ]
    },
    {
     "name": "stderr",
     "output_type": "stream",
     "text": [
      " 25%|██████████████████████████████████████▎                                                                                                                 | 73/290 [08:20<31:16,  8.65s/it]"
     ]
    },
    {
     "name": "stdout",
     "output_type": "stream",
     "text": [
      "68 0\n",
      "57 0\n",
      "ADNI_019_S_4293_20111020\n",
      "173 163\n",
      "117 102\n",
      "111 89\n",
      "90 52\n",
      "111 53\n",
      "133 57\n",
      "135 119\n",
      "145 111\n",
      "141 92\n",
      "145 76\n",
      "89 34\n",
      "55 19\n",
      "58 29\n",
      "50 16\n",
      "50 12\n",
      "48 8\n"
     ]
    },
    {
     "name": "stderr",
     "output_type": "stream",
     "text": [
      " 26%|██████████████████████████████████████▊                                                                                                                 | 74/290 [08:25<27:17,  7.58s/it]"
     ]
    },
    {
     "name": "stdout",
     "output_type": "stream",
     "text": [
      "42 0\n",
      "37 0\n",
      "ADNI_019_S_4367_20111130\n",
      "240 233\n",
      "193 185\n",
      "133 120\n",
      "127 86\n",
      "154 88\n",
      "198 100\n",
      "214 204\n",
      "205 173\n",
      "243 148\n",
      "225 120\n",
      "121 75\n",
      "67 47\n",
      "38 25\n",
      "37 20\n",
      "32 11\n",
      "34 7\n",
      "35 0\n"
     ]
    },
    {
     "name": "stderr",
     "output_type": "stream",
     "text": [
      " 26%|███████████████████████████████████████▎                                                                                                                | 75/290 [08:31<26:10,  7.31s/it]"
     ]
    },
    {
     "name": "stdout",
     "output_type": "stream",
     "text": [
      "31 0\n",
      "ADNI_019_S_4477_20120807\n",
      "220 210\n",
      "151 138\n",
      "155 141\n",
      "128 107\n",
      "137 111\n",
      "131 93\n",
      "194 181\n",
      "171 155\n",
      "189 155\n",
      "200 151\n",
      "152 111\n",
      "111 80\n",
      "74 48\n",
      "60 32\n",
      "60 26\n",
      "58 18\n"
     ]
    },
    {
     "name": "stderr",
     "output_type": "stream",
     "text": [
      " 26%|███████████████████████████████████████▊                                                                                                                | 76/290 [08:38<25:13,  7.07s/it]"
     ]
    },
    {
     "name": "stdout",
     "output_type": "stream",
     "text": [
      "49 0\n",
      "39 0\n",
      "ADNI_019_S_4680_20121029\n",
      "162 145\n",
      "105 86\n",
      "91 65\n",
      "80 38\n",
      "95 37\n",
      "118 34\n",
      "133 110\n",
      "137 86\n",
      "127 62\n",
      "120 50\n",
      "60 23\n",
      "33 13\n",
      "28 9\n",
      "24 4\n",
      "24 4\n",
      "27 5\n",
      "24 0\n"
     ]
    },
    {
     "name": "stderr",
     "output_type": "stream",
     "text": [
      " 27%|████████████████████████████████████████▎                                                                                                               | 77/290 [08:42<22:05,  6.22s/it]"
     ]
    },
    {
     "name": "stdout",
     "output_type": "stream",
     "text": [
      "26 0\n",
      "ADNI_019_S_4835_20121008\n",
      "247 239\n",
      "151 141\n",
      "99 83\n",
      "74 54\n",
      "85 52\n",
      "108 48\n",
      "162 150\n",
      "139 119\n",
      "125 87\n",
      "132 68\n",
      "106 45\n",
      "68 34\n",
      "41 21\n",
      "36 11\n",
      "34 8\n",
      "33 5\n",
      "37 0\n"
     ]
    },
    {
     "name": "stderr",
     "output_type": "stream",
     "text": [
      " 27%|████████████████████████████████████████▉                                                                                                               | 78/290 [08:47<20:49,  5.89s/it]"
     ]
    },
    {
     "name": "stdout",
     "output_type": "stream",
     "text": [
      "37 0\n",
      "ADNI_022_S_2167_20101102\n",
      "404 401\n",
      "242 236\n",
      "156 126\n",
      "196 101\n",
      "236 108\n",
      "293 129\n",
      "306 294\n",
      "267 210\n",
      "310 188\n",
      "292 177\n",
      "135 76\n",
      "65 33\n",
      "35 20\n",
      "33 16\n",
      "31 11\n",
      "32 7\n"
     ]
    },
    {
     "name": "stderr",
     "output_type": "stream",
     "text": [
      " 27%|█████████████████████████████████████████▍                                                                                                              | 79/290 [08:56<23:36,  6.71s/it]"
     ]
    },
    {
     "name": "stdout",
     "output_type": "stream",
     "text": [
      "27 0\n",
      "29 0\n",
      "ADNI_022_S_2263_20110823\n",
      "291 278\n",
      "152 136\n",
      "131 88\n",
      "202 83\n",
      "269 100\n",
      "320 105\n",
      "204 182\n",
      "231 139\n",
      "350 155\n",
      "173 84\n",
      "73 35\n",
      "36 8\n",
      "37 16\n",
      "34 9\n",
      "33 7\n",
      "33 5\n"
     ]
    },
    {
     "name": "stderr",
     "output_type": "stream",
     "text": [
      " 28%|█████████████████████████████████████████▉                                                                                                              | 80/290 [09:03<24:14,  6.93s/it]"
     ]
    },
    {
     "name": "stdout",
     "output_type": "stream",
     "text": [
      "35 0\n",
      "33 0\n",
      "ADNI_022_S_4173_20110913\n",
      "77 71\n",
      "58 51\n",
      "68 45\n",
      "104 43\n",
      "148 55\n",
      "180 65\n",
      "70 55\n",
      "97 56\n",
      "153 73\n",
      "143 63\n",
      "46 21\n",
      "14 6\n",
      "36 20\n",
      "29 11\n",
      "24 6\n",
      "26 4\n"
     ]
    },
    {
     "name": "stderr",
     "output_type": "stream",
     "text": [
      " 28%|██████████████████████████████████████████▍                                                                                                             | 81/290 [09:07<21:05,  6.05s/it]"
     ]
    },
    {
     "name": "stdout",
     "output_type": "stream",
     "text": [
      "26 0\n",
      "23 0\n",
      "ADNI_022_S_4291_20111122\n",
      "286 280\n",
      "235 228\n",
      "172 150\n",
      "123 52\n",
      "150 53\n",
      "184 58\n",
      "280 271\n",
      "257 206\n",
      "299 191\n",
      "214 146\n",
      "67 45\n",
      "28 18\n",
      "26 12\n",
      "20 6\n",
      "18 3\n"
     ]
    },
    {
     "name": "stderr",
     "output_type": "stream",
     "text": [
      " 28%|██████████████████████████████████████████▉                                                                                                             | 82/290 [09:14<21:47,  6.29s/it]"
     ]
    },
    {
     "name": "stdout",
     "output_type": "stream",
     "text": [
      "19 1\n",
      "19 0\n",
      "16 0\n",
      "ADNI_022_S_4320_20111109\n",
      "355 342\n",
      "226 211\n",
      "125 103\n",
      "125 62\n",
      "153 64\n",
      "184 83\n",
      "321 302\n",
      "246 205\n",
      "247 162\n",
      "155 106\n",
      "41 27\n",
      "17 15\n",
      "32 18\n",
      "30 15\n",
      "27 11\n"
     ]
    },
    {
     "name": "stderr",
     "output_type": "stream",
     "text": [
      " 29%|███████████████████████████████████████████▌                                                                                                            | 83/290 [09:21<22:06,  6.41s/it]"
     ]
    },
    {
     "name": "stdout",
     "output_type": "stream",
     "text": [
      "22 5\n",
      "18 0\n",
      "17 0\n",
      "ADNI_022_S_4444_20120822\n",
      "224 221\n",
      "103 96\n",
      "99 72\n",
      "126 46\n",
      "168 54\n",
      "207 66\n",
      "155 139\n",
      "166 102\n",
      "211 98\n",
      "193 94\n",
      "71 34\n",
      "26 14\n",
      "26 14\n",
      "22 8\n",
      "22 6\n"
     ]
    },
    {
     "name": "stderr",
     "output_type": "stream",
     "text": [
      " 29%|████████████████████████████████████████████                                                                                                            | 84/290 [09:26<21:05,  6.14s/it]"
     ]
    },
    {
     "name": "stdout",
     "output_type": "stream",
     "text": [
      "24 4\n",
      "22 0\n",
      "24 0\n",
      "ADNI_023_S_2068_20101201\n",
      "207 198\n",
      "123 109\n",
      "111 78\n",
      "124 49\n",
      "150 46\n",
      "184 53\n",
      "169 147\n",
      "173 101\n",
      "182 92\n",
      "143 62\n",
      "59 24\n",
      "40 10\n",
      "37 21\n",
      "29 11\n",
      "23 4\n"
     ]
    },
    {
     "name": "stderr",
     "output_type": "stream",
     "text": [
      " 29%|████████████████████████████████████████████▌                                                                                                           | 85/290 [09:32<20:12,  5.92s/it]"
     ]
    },
    {
     "name": "stdout",
     "output_type": "stream",
     "text": [
      "24 2\n",
      "25 0\n",
      "23 0\n",
      "ADNI_023_S_4020_20110803\n",
      "307 288\n",
      "207 184\n",
      "136 106\n",
      "125 71\n",
      "130 61\n",
      "170 61\n",
      "253 229\n",
      "228 175\n",
      "213 122\n",
      "186 86\n",
      "117 47\n",
      "49 26\n",
      "56 22\n",
      "54 16\n",
      "53 11\n",
      "56 5\n"
     ]
    },
    {
     "name": "stderr",
     "output_type": "stream",
     "text": [
      " 30%|█████████████████████████████████████████████                                                                                                           | 86/290 [09:39<21:10,  6.23s/it]"
     ]
    },
    {
     "name": "stdout",
     "output_type": "stream",
     "text": [
      "57 0\n",
      "58 0\n",
      "ADNI_023_S_4035_20110728\n",
      "295 287\n",
      "214 201\n",
      "181 153\n",
      "218 122\n",
      "317 145\n",
      "462 198\n",
      "269 235\n",
      "407 255\n",
      "425 256\n",
      "332 196\n",
      "165 106\n",
      "65 51\n",
      "71 42\n",
      "67 34\n",
      "61 23\n",
      "59 12\n",
      "55 0\n"
     ]
    },
    {
     "name": "stderr",
     "output_type": "stream",
     "text": [
      " 30%|█████████████████████████████████████████████▌                                                                                                          | 87/290 [09:49<25:06,  7.42s/it]"
     ]
    },
    {
     "name": "stdout",
     "output_type": "stream",
     "text": [
      "54 0\n",
      "ADNI_023_S_4115_20111129\n",
      "231 222\n",
      "125 113\n",
      "87 65\n",
      "94 48\n",
      "125 52\n",
      "171 68\n",
      "190 176\n",
      "153 111\n",
      "189 111\n",
      "135 65\n",
      "83 41\n",
      "46 23\n",
      "51 33\n",
      "46 22\n",
      "38 10\n",
      "40 5\n"
     ]
    },
    {
     "name": "stderr",
     "output_type": "stream",
     "text": [
      " 30%|██████████████████████████████████████████████                                                                                                          | 88/290 [09:54<22:59,  6.83s/it]"
     ]
    },
    {
     "name": "stdout",
     "output_type": "stream",
     "text": [
      "37 0\n",
      "32 0\n",
      "ADNI_023_S_4164_20110830\n",
      "438 427\n",
      "298 286\n",
      "124 101\n",
      "110 58\n",
      "119 57\n",
      "148 65\n",
      "369 357\n",
      "266 237\n",
      "183 130\n",
      "170 89\n",
      "99 56\n",
      "42 22\n",
      "37 21\n",
      "41 22\n",
      "34 11\n",
      "34 8\n"
     ]
    },
    {
     "name": "stderr",
     "output_type": "stream",
     "text": [
      " 31%|██████████████████████████████████████████████▋                                                                                                         | 89/290 [10:02<23:19,  6.96s/it]"
     ]
    },
    {
     "name": "stdout",
     "output_type": "stream",
     "text": [
      "35 0\n",
      "31 0\n",
      "ADNI_023_S_4243_20111109\n",
      "254 238\n",
      "216 196\n",
      "197 158\n",
      "250 112\n",
      "370 131\n",
      "507 155\n",
      "257 221\n",
      "387 234\n",
      "432 196\n",
      "415 160\n",
      "157 63\n",
      "62 40\n",
      "58 34\n",
      "54 25\n",
      "48 15\n",
      "46 9\n"
     ]
    },
    {
     "name": "stderr",
     "output_type": "stream",
     "text": [
      " 31%|███████████████████████████████████████████████▏                                                                                                        | 90/290 [10:12<26:39,  8.00s/it]"
     ]
    },
    {
     "name": "stdout",
     "output_type": "stream",
     "text": [
      "42 0\n",
      "42 0\n",
      "ADNI_023_S_4448_20120816\n",
      "201 191\n",
      "104 93\n",
      "73 54\n",
      "80 38\n",
      "83 38\n",
      "92 36\n",
      "129 117\n",
      "95 74\n",
      "102 59\n",
      "93 48\n",
      "74 35\n",
      "40 23\n",
      "24 8\n",
      "26 8\n",
      "23 4\n",
      "23 0\n",
      "29 0\n"
     ]
    },
    {
     "name": "stderr",
     "output_type": "stream",
     "text": [
      " 31%|███████████████████████████████████████████████▋                                                                                                        | 91/290 [10:16<22:33,  6.80s/it]"
     ]
    },
    {
     "name": "stdout",
     "output_type": "stream",
     "text": [
      "28 0\n",
      "ADNI_023_S_4501_20121101\n",
      "252 241\n",
      "194 179\n",
      "157 132\n",
      "170 114\n",
      "193 104\n",
      "214 94\n",
      "218 201\n",
      "205 160\n",
      "257 146\n",
      "212 122\n",
      "140 86\n",
      "91 63\n",
      "62 39\n",
      "47 21\n",
      "45 14\n",
      "40 5\n",
      "42 0\n"
     ]
    },
    {
     "name": "stderr",
     "output_type": "stream",
     "text": [
      " 32%|████████████████████████████████████████████████▏                                                                                                       | 92/290 [10:23<22:55,  6.95s/it]"
     ]
    },
    {
     "name": "stdout",
     "output_type": "stream",
     "text": [
      "40 0\n",
      "ADNI_023_S_4502_20121025\n",
      "156 150\n",
      "101 93\n",
      "78 59\n",
      "95 52\n",
      "105 50\n",
      "147 58\n",
      "149 136\n",
      "124 90\n",
      "161 88\n",
      "153 71\n",
      "93 44\n",
      "33 13\n",
      "30 17\n",
      "31 15\n",
      "30 11\n",
      "34 10\n"
     ]
    },
    {
     "name": "stderr",
     "output_type": "stream",
     "text": [
      " 32%|████████████████████████████████████████████████▋                                                                                                       | 93/290 [10:28<20:38,  6.29s/it]"
     ]
    },
    {
     "name": "stdout",
     "output_type": "stream",
     "text": [
      "31 0\n",
      "30 0\n",
      "ADNI_023_S_4796_20121120\n",
      "252 240\n",
      "199 183\n",
      "196 147\n",
      "249 113\n",
      "339 131\n",
      "436 150\n",
      "263 229\n",
      "363 225\n",
      "460 256\n",
      "293 165\n",
      "136 56\n",
      "57 30\n",
      "33 15\n",
      "34 14\n",
      "33 10\n",
      "30 5\n"
     ]
    },
    {
     "name": "stderr",
     "output_type": "stream",
     "text": [
      " 32%|█████████████████████████████████████████████████▎                                                                                                      | 94/290 [10:38<23:42,  7.26s/it]"
     ]
    },
    {
     "name": "stdout",
     "output_type": "stream",
     "text": [
      "30 0\n",
      "27 0\n",
      "ADNI_024_S_4084_20110916\n",
      "284 278\n",
      "189 181\n",
      "130 111\n",
      "106 72\n",
      "107 62\n",
      "127 64\n",
      "215 205\n",
      "173 158\n",
      "168 127\n",
      "169 108\n",
      "136 72\n",
      "92 50\n",
      "27 13\n",
      "22 5\n",
      "22 2\n",
      "30 2\n"
     ]
    },
    {
     "name": "stderr",
     "output_type": "stream",
     "text": [
      " 33%|█████████████████████████████████████████████████▊                                                                                                      | 95/290 [10:44<22:18,  6.86s/it]"
     ]
    },
    {
     "name": "stdout",
     "output_type": "stream",
     "text": [
      "32 0\n",
      "27 0\n",
      "ADNI_024_S_4158_20111111\n",
      "207 196\n",
      "161 148\n",
      "120 102\n",
      "91 70\n",
      "87 62\n",
      "81 55\n",
      "178 166\n",
      "139 124\n",
      "142 118\n",
      "123 86\n",
      "109 70\n",
      "90 64\n",
      "33 16\n",
      "31 10\n",
      "27 4\n"
     ]
    },
    {
     "name": "stderr",
     "output_type": "stream",
     "text": [
      " 33%|██████████████████████████████████████████████████▎                                                                                                     | 96/290 [10:49<20:24,  6.31s/it]"
     ]
    },
    {
     "name": "stdout",
     "output_type": "stream",
     "text": [
      "30 4\n",
      "28 0\n",
      "23 0\n",
      "ADNI_024_S_4169_20111128\n",
      "226 218\n",
      "120 109\n",
      "79 56\n",
      "93 41\n",
      "119 46\n",
      "155 54\n",
      "171 154\n",
      "125 83\n",
      "158 80\n",
      "147 68\n",
      "96 41\n",
      "58 28\n",
      "35 19\n",
      "33 14\n",
      "24 5\n",
      "22 1\n",
      "25 0\n"
     ]
    },
    {
     "name": "stderr",
     "output_type": "stream",
     "text": [
      " 33%|██████████████████████████████████████████████████▊                                                                                                     | 97/290 [10:54<19:03,  5.93s/it]"
     ]
    },
    {
     "name": "stdout",
     "output_type": "stream",
     "text": [
      "21 0\n",
      "ADNI_024_S_4392_20120709\n",
      "225 219\n",
      "113 95\n",
      "179 97\n",
      "417 147\n",
      "555 171\n",
      "720 204\n",
      "233 167\n",
      "486 183\n",
      "593 196\n",
      "352 125\n",
      "99 33\n",
      "19 5\n",
      "36 24\n",
      "31 17\n",
      "30 12\n",
      "26 6\n"
     ]
    },
    {
     "name": "stderr",
     "output_type": "stream",
     "text": [
      " 34%|███████████████████████████████████████████████████▎                                                                                                    | 98/290 [11:05<24:12,  7.57s/it]"
     ]
    },
    {
     "name": "stdout",
     "output_type": "stream",
     "text": [
      "27 0\n",
      "23 0\n",
      "ADNI_024_S_4674_20121119\n",
      "253 217\n",
      "210 168\n",
      "183 116\n",
      "208 82\n",
      "246 92\n",
      "299 114\n",
      "234 185\n",
      "258 168\n",
      "324 168\n",
      "278 136\n",
      "165 72\n",
      "80 35\n",
      "67 15\n",
      "72 18\n",
      "68 13\n",
      "65 6\n"
     ]
    },
    {
     "name": "stderr",
     "output_type": "stream",
     "text": [
      " 34%|███████████████████████████████████████████████████▉                                                                                                    | 99/290 [11:14<25:12,  7.92s/it]"
     ]
    },
    {
     "name": "stdout",
     "output_type": "stream",
     "text": [
      "60 0\n",
      "54 0\n",
      "ADNI_031_S_2018_20100923\n",
      "282 268\n",
      "221 202\n",
      "187 154\n",
      "224 126\n",
      "281 133\n",
      "364 145\n",
      "252 227\n",
      "283 197\n",
      "323 197\n",
      "280 169\n",
      "234 148\n",
      "118 84\n",
      "75 40\n",
      "60 21\n",
      "63 17\n",
      "61 12\n"
     ]
    },
    {
     "name": "stderr",
     "output_type": "stream",
     "text": [
      " 34%|████████████████████████████████████████████████████                                                                                                   | 100/290 [11:24<27:09,  8.58s/it]"
     ]
    },
    {
     "name": "stdout",
     "output_type": "stream",
     "text": [
      "51 0\n",
      "47 0\n",
      "ADNI_031_S_2022_20101012\n",
      "229 218\n",
      "138 124\n",
      "69 51\n",
      "49 25\n",
      "57 30\n",
      "68 30\n",
      "179 164\n",
      "98 77\n",
      "74 52\n",
      "78 42\n",
      "84 42\n",
      "59 20\n",
      "30 9\n",
      "33 9\n",
      "33 7\n",
      "29 3\n"
     ]
    },
    {
     "name": "stderr",
     "output_type": "stream",
     "text": [
      " 35%|████████████████████████████████████████████████████▌                                                                                                  | 101/290 [11:28<22:52,  7.26s/it]"
     ]
    },
    {
     "name": "stdout",
     "output_type": "stream",
     "text": [
      "28 0\n",
      "24 0\n",
      "ADNI_031_S_2233_20101215\n",
      "249 234\n",
      "189 168\n",
      "138 113\n",
      "136 87\n",
      "155 87\n",
      "186 95\n",
      "231 206\n",
      "192 151\n",
      "213 134\n",
      "215 125\n",
      "125 73\n",
      "64 41\n",
      "70 41\n",
      "55 20\n",
      "47 11\n",
      "48 8\n"
     ]
    },
    {
     "name": "stderr",
     "output_type": "stream",
     "text": [
      " 35%|█████████████████████████████████████████████████████                                                                                                  | 102/290 [11:35<22:21,  7.13s/it]"
     ]
    },
    {
     "name": "stdout",
     "output_type": "stream",
     "text": [
      "42 0\n",
      "37 0\n",
      "ADNI_031_S_4021_20111020\n",
      "268 258\n",
      "198 183\n",
      "152 134\n",
      "118 92\n",
      "117 86\n",
      "107 67\n",
      "210 194\n",
      "207 181\n",
      "152 119\n",
      "148 107\n",
      "134 82\n",
      "70 49\n",
      "41 21\n",
      "29 9\n",
      "26 6\n",
      "24 2\n"
     ]
    },
    {
     "name": "stderr",
     "output_type": "stream",
     "text": [
      " 36%|█████████████████████████████████████████████████████▋                                                                                                 | 103/290 [11:41<21:05,  6.77s/it]"
     ]
    },
    {
     "name": "stdout",
     "output_type": "stream",
     "text": [
      "25 0\n",
      "26 0\n",
      "ADNI_031_S_4032_20111205\n",
      "243 234\n",
      "149 138\n",
      "102 82\n",
      "82 51\n",
      "91 54\n",
      "96 48\n",
      "208 194\n",
      "159 136\n",
      "157 114\n",
      "118 73\n",
      "69 35\n",
      "59 32\n",
      "34 17\n",
      "25 8\n",
      "22 5\n"
     ]
    },
    {
     "name": "stderr",
     "output_type": "stream",
     "text": [
      " 36%|██████████████████████████████████████████████████████▏                                                                                                | 104/290 [11:46<19:17,  6.22s/it]"
     ]
    },
    {
     "name": "stdout",
     "output_type": "stream",
     "text": [
      "24 3\n",
      "24 0\n",
      "22 0\n",
      "ADNI_031_S_4149_20111103\n",
      "206 197\n",
      "154 134\n",
      "129 94\n",
      "155 72\n",
      "205 89\n",
      "289 112\n",
      "199 177\n",
      "200 132\n",
      "274 127\n",
      "261 123\n",
      "131 68\n",
      "34 20\n",
      "46 18\n",
      "45 16\n",
      "43 13\n",
      "41 9\n"
     ]
    },
    {
     "name": "stderr",
     "output_type": "stream",
     "text": [
      " 36%|██████████████████████████████████████████████████████▋                                                                                                | 105/290 [11:53<19:55,  6.46s/it]"
     ]
    },
    {
     "name": "stdout",
     "output_type": "stream",
     "text": [
      "35 0\n",
      "35 0\n",
      "ADNI_031_S_4194_20111201\n",
      "170 165\n",
      "94 87\n",
      "70 63\n",
      "44 33\n",
      "46 31\n",
      "55 28\n",
      "127 120\n",
      "82 73\n",
      "85 64\n",
      "99 57\n",
      "62 28\n",
      "46 26\n",
      "27 15\n",
      "25 11\n",
      "24 8\n",
      "23 5\n",
      "20 0\n"
     ]
    },
    {
     "name": "stderr",
     "output_type": "stream",
     "text": [
      " 37%|███████████████████████████████████████████████████████▏                                                                                               | 106/290 [11:56<17:04,  5.57s/it]"
     ]
    },
    {
     "name": "stdout",
     "output_type": "stream",
     "text": [
      "21 0\n",
      "ADNI_031_S_4203_20111205\n",
      "285 283\n",
      "250 246\n",
      "177 173\n",
      "120 116\n",
      "87 83\n",
      "62 58\n",
      "280 276\n",
      "243 239\n",
      "217 213\n",
      "150 144\n",
      "92 85\n",
      "72 66\n",
      "28 24\n",
      "15 9\n"
     ]
    },
    {
     "name": "stderr",
     "output_type": "stream",
     "text": [
      " 37%|███████████████████████████████████████████████████████▋                                                                                               | 107/290 [12:02<17:28,  5.73s/it]"
     ]
    },
    {
     "name": "stdout",
     "output_type": "stream",
     "text": [
      "8 2\n",
      "14 5\n",
      "14 0\n",
      "11 0\n",
      "ADNI_031_S_4218_20111208\n",
      "386 369\n",
      "271 250\n",
      "219 195\n",
      "163 125\n",
      "183 117\n",
      "196 108\n",
      "327 304\n",
      "260 231\n",
      "279 220\n",
      "235 163\n",
      "159 96\n",
      "135 95\n",
      "78 45\n",
      "57 20\n",
      "47 9\n",
      "45 4\n"
     ]
    },
    {
     "name": "stderr",
     "output_type": "stream",
     "text": [
      " 37%|████████████████████████████████████████████████████████▏                                                                                              | 108/290 [12:11<20:03,  6.61s/it]"
     ]
    },
    {
     "name": "stdout",
     "output_type": "stream",
     "text": [
      "45 0\n",
      "41 0\n",
      "ADNI_031_S_4476_20120817\n",
      "223 211\n",
      "137 124\n",
      "122 102\n",
      "156 94\n",
      "205 101\n",
      "307 132\n",
      "185 167\n",
      "186 131\n",
      "307 158\n",
      "333 182\n",
      "159 93\n",
      "86 47\n",
      "47 26\n",
      "36 14\n",
      "34 9\n",
      "33 5\n",
      "30 0\n"
     ]
    },
    {
     "name": "stderr",
     "output_type": "stream",
     "text": [
      " 38%|████████████████████████████████████████████████████████▊                                                                                              | 109/290 [12:18<20:38,  6.84s/it]"
     ]
    },
    {
     "name": "stdout",
     "output_type": "stream",
     "text": [
      "29 0\n",
      "ADNI_031_S_4496_20120820\n",
      "208 194\n",
      "138 121\n",
      "105 87\n",
      "85 50\n",
      "91 46\n",
      "102 46\n",
      "156 138\n",
      "130 107\n",
      "155 98\n",
      "154 88\n",
      "79 43\n",
      "41 22\n",
      "35 16\n",
      "29 8\n",
      "30 8\n",
      "27 3\n"
     ]
    },
    {
     "name": "stderr",
     "output_type": "stream",
     "text": [
      " 38%|█████████████████████████████████████████████████████████▎                                                                                             | 110/290 [12:23<18:39,  6.22s/it]"
     ]
    },
    {
     "name": "stdout",
     "output_type": "stream",
     "text": [
      "26 0\n",
      "22 0\n",
      "ADNI_031_S_4947_20120928\n",
      "163 156\n",
      "107 98\n",
      "84 74\n",
      "44 30\n",
      "53 34\n",
      "68 34\n",
      "126 117\n",
      "91 81\n",
      "100 72\n",
      "123 67\n",
      "79 43\n",
      "37 23\n",
      "26 16\n",
      "25 11\n",
      "24 6\n"
     ]
    },
    {
     "name": "stderr",
     "output_type": "stream",
     "text": [
      " 38%|█████████████████████████████████████████████████████████▊                                                                                             | 111/290 [12:27<16:20,  5.48s/it]"
     ]
    },
    {
     "name": "stdout",
     "output_type": "stream",
     "text": [
      "19 1\n",
      "21 0\n",
      "20 0\n",
      "ADNI_032_S_2119_20101215\n",
      "248 237\n",
      "169 154\n",
      "146 91\n",
      "232 101\n",
      "318 130\n",
      "418 155\n",
      "235 201\n",
      "298 190\n",
      "412 215\n",
      "394 186\n",
      "245 104\n",
      "74 40\n",
      "62 33\n",
      "52 20\n",
      "59 18\n",
      "57 11\n",
      "52 0\n"
     ]
    },
    {
     "name": "stderr",
     "output_type": "stream",
     "text": [
      " 39%|██████████████████████████████████████████████████████████▎                                                                                            | 112/290 [12:37<20:02,  6.76s/it]"
     ]
    },
    {
     "name": "stdout",
     "output_type": "stream",
     "text": [
      "47 0\n",
      "ADNI_032_S_4277_20111019\n",
      "219 207\n",
      "133 118\n",
      "96 74\n",
      "89 50\n",
      "117 58\n",
      "161 78\n",
      "180 158\n",
      "177 132\n",
      "191 125\n",
      "141 76\n",
      "68 41\n",
      "30 17\n",
      "45 25\n",
      "38 15\n",
      "42 16\n",
      "43 11\n"
     ]
    },
    {
     "name": "stderr",
     "output_type": "stream",
     "text": [
      " 39%|██████████████████████████████████████████████████████████▊                                                                                            | 113/290 [12:42<18:44,  6.35s/it]"
     ]
    },
    {
     "name": "stdout",
     "output_type": "stream",
     "text": [
      "37 0\n",
      "35 0\n",
      "ADNI_032_S_4386_20111213\n",
      "191 183\n",
      "129 114\n",
      "86 69\n",
      "109 50\n",
      "160 67\n",
      "196 67\n",
      "155 138\n",
      "180 122\n",
      "196 98\n",
      "128 63\n",
      "72 38\n",
      "32 16\n",
      "38 19\n",
      "28 9\n",
      "34 11\n",
      "31 5\n"
     ]
    },
    {
     "name": "stderr",
     "output_type": "stream",
     "text": [
      " 39%|███████████████████████████████████████████████████████████▎                                                                                           | 114/290 [12:48<17:44,  6.05s/it]"
     ]
    },
    {
     "name": "stdout",
     "output_type": "stream",
     "text": [
      "28 0\n",
      "26 0\n",
      "ADNI_032_S_4429_20111222\n",
      "209 195\n",
      "130 105\n",
      "110 68\n",
      "190 87\n",
      "269 104\n",
      "335 125\n",
      "168 136\n",
      "176 103\n",
      "300 147\n",
      "248 103\n",
      "147 57\n",
      "74 36\n",
      "62 26\n",
      "60 21\n",
      "53 12\n",
      "52 6\n",
      "52 0\n"
     ]
    },
    {
     "name": "stderr",
     "output_type": "stream",
     "text": [
      " 40%|███████████████████████████████████████████████████████████▉                                                                                           | 115/290 [12:55<18:55,  6.49s/it]"
     ]
    },
    {
     "name": "stdout",
     "output_type": "stream",
     "text": [
      "44 0\n",
      "ADNI_033_S_4176_20130904\n",
      "168 155\n",
      "116 99\n",
      "114 87\n",
      "145 83\n",
      "187 92\n",
      "276 116\n",
      "132 113\n",
      "159 112\n",
      "224 128\n",
      "305 150\n",
      "224 102\n",
      "96 43\n",
      "52 24\n",
      "52 17\n",
      "49 11\n",
      "50 8\n",
      "44 0\n"
     ]
    },
    {
     "name": "stderr",
     "output_type": "stream",
     "text": [
      " 40%|████████████████████████████████████████████████████████████▍                                                                                          | 116/290 [13:02<19:10,  6.61s/it]"
     ]
    },
    {
     "name": "stdout",
     "output_type": "stream",
     "text": [
      "43 0\n",
      "ADNI_033_S_4177_20130911\n",
      "321 297\n",
      "255 230\n",
      "238 201\n",
      "260 188\n",
      "283 172\n",
      "367 183\n",
      "280 244\n",
      "354 254\n",
      "432 267\n",
      "366 229\n",
      "198 114\n",
      "125 94\n",
      "120 81\n",
      "89 46\n",
      "68 21\n",
      "62 7\n"
     ]
    },
    {
     "name": "stderr",
     "output_type": "stream",
     "text": [
      " 40%|████████████████████████████████████████████████████████████▉                                                                                          | 117/290 [13:13<22:40,  7.87s/it]"
     ]
    },
    {
     "name": "stdout",
     "output_type": "stream",
     "text": [
      "60 0\n",
      "50 0\n",
      "ADNI_035_S_4082_20111214\n",
      "480 473\n",
      "283 272\n",
      "206 186\n",
      "172 125\n",
      "188 119\n",
      "254 123\n",
      "368 355\n",
      "333 278\n",
      "365 258\n",
      "283 186\n",
      "149 80\n",
      "43 30\n",
      "30 15\n",
      "25 9\n",
      "24 5\n",
      "24 3\n",
      "30 0\n"
     ]
    },
    {
     "name": "stderr",
     "output_type": "stream",
     "text": [
      " 41%|█████████████████████████████████████████████████████████████▍                                                                                         | 118/290 [13:22<23:37,  8.24s/it]"
     ]
    },
    {
     "name": "stdout",
     "output_type": "stream",
     "text": [
      "26 0\n",
      "ADNI_035_S_4114_20130314\n",
      "201 191\n",
      "138 126\n",
      "99 82\n",
      "97 61\n",
      "112 52\n",
      "133 59\n",
      "145 132\n",
      "148 112\n",
      "134 74\n",
      "104 47\n",
      "68 26\n",
      "32 12\n",
      "37 15\n",
      "37 14\n",
      "31 7\n",
      "27 3\n",
      "26 0\n"
     ]
    },
    {
     "name": "stderr",
     "output_type": "stream",
     "text": [
      " 41%|█████████████████████████████████████████████████████████████▉                                                                                         | 119/290 [13:27<20:28,  7.19s/it]"
     ]
    },
    {
     "name": "stdout",
     "output_type": "stream",
     "text": [
      "28 0\n",
      "ADNI_035_S_4464_20120803\n",
      "265 257\n",
      "141 132\n",
      "82 72\n",
      "54 37\n",
      "66 38\n",
      "85 43\n",
      "186 177\n",
      "133 120\n",
      "123 93\n",
      "98 61\n",
      "56 36\n",
      "38 27\n",
      "21 10\n",
      "16 5\n",
      "21 8\n",
      "15 2\n",
      "15 0\n"
     ]
    },
    {
     "name": "stderr",
     "output_type": "stream",
     "text": [
      " 41%|██████████████████████████████████████████████████████████████▍                                                                                        | 120/290 [13:31<17:54,  6.32s/it]"
     ]
    },
    {
     "name": "stdout",
     "output_type": "stream",
     "text": [
      "14 0\n",
      "ADNI_035_S_4582_20120924\n",
      "149 140\n",
      "90 80\n",
      "57 44\n",
      "59 28\n",
      "99 33\n",
      "136 39\n",
      "95 85\n",
      "81 63\n",
      "129 59\n",
      "136 59\n",
      "78 38\n",
      "22 15\n",
      "20 8\n",
      "21 9\n",
      "22 9\n",
      "17 3\n"
     ]
    },
    {
     "name": "stderr",
     "output_type": "stream",
     "text": [
      " 42%|███████████████████████████████████████████████████████████████                                                                                        | 121/290 [13:35<15:41,  5.57s/it]"
     ]
    },
    {
     "name": "stdout",
     "output_type": "stream",
     "text": [
      "18 0\n",
      "17 0\n",
      "ADNI_035_S_4784_20121025\n",
      "222 186\n",
      "169 127\n",
      "168 103\n",
      "266 100\n",
      "359 116\n",
      "465 149\n",
      "223 163\n",
      "316 158\n",
      "436 190\n",
      "332 143\n",
      "152 56\n",
      "53 10\n",
      "85 31\n",
      "83 26\n",
      "73 16\n",
      "69 9\n",
      "62 0\n"
     ]
    },
    {
     "name": "stderr",
     "output_type": "stream",
     "text": [
      " 42%|███████████████████████████████████████████████████████████████▌                                                                                       | 122/290 [13:45<19:14,  6.87s/it]"
     ]
    },
    {
     "name": "stdout",
     "output_type": "stream",
     "text": [
      "60 0\n",
      "ADNI_036_S_4389_20111207\n",
      "173 166\n",
      "111 103\n",
      "89 74\n",
      "78 46\n",
      "88 40\n",
      "128 48\n",
      "130 122\n",
      "133 97\n",
      "145 74\n",
      "130 67\n",
      "65 37\n",
      "37 20\n",
      "34 15\n",
      "33 12\n",
      "32 10\n",
      "28 6\n"
     ]
    },
    {
     "name": "stderr",
     "output_type": "stream",
     "text": [
      " 42%|████████████████████████████████████████████████████████████████                                                                                       | 123/290 [13:49<17:05,  6.14s/it]"
     ]
    },
    {
     "name": "stdout",
     "output_type": "stream",
     "text": [
      "26 0\n",
      "26 0\n",
      "ADNI_036_S_4430_20111223\n",
      "186 175\n",
      "143 132\n",
      "136 102\n",
      "187 86\n",
      "258 102\n",
      "305 108\n",
      "160 143\n",
      "213 138\n",
      "310 148\n",
      "228 120\n",
      "107 47\n",
      "58 28\n",
      "24 12\n",
      "20 6\n",
      "21 4\n"
     ]
    },
    {
     "name": "stderr",
     "output_type": "stream",
     "text": [
      " 43%|████████████████████████████████████████████████████████████████▌                                                                                      | 124/290 [13:56<17:33,  6.35s/it]"
     ]
    },
    {
     "name": "stdout",
     "output_type": "stream",
     "text": [
      "20 1\n",
      "22 0\n",
      "23 0\n",
      "ADNI_036_S_4491_20120809\n",
      "324 319\n",
      "200 193\n",
      "131 104\n",
      "107 62\n",
      "111 58\n",
      "101 48\n",
      "262 249\n",
      "233 188\n",
      "197 141\n",
      "141 99\n",
      "56 35\n",
      "33 23\n",
      "16 8\n",
      "15 6\n",
      "14 3\n",
      "16 2\n",
      "14 0\n"
     ]
    },
    {
     "name": "stderr",
     "output_type": "stream",
     "text": [
      " 43%|█████████████████████████████████████████████████████████████████                                                                                      | 125/290 [14:02<16:55,  6.16s/it]"
     ]
    },
    {
     "name": "stdout",
     "output_type": "stream",
     "text": [
      "12 0\n",
      "ADNI_036_S_4538_20121101\n",
      "170 161\n",
      "73 61\n",
      "57 37\n",
      "66 31\n",
      "73 29\n",
      "88 32\n",
      "110 99\n",
      "88 56\n",
      "93 48\n",
      "89 41\n",
      "75 29\n",
      "38 21\n",
      "25 10\n",
      "23 6\n",
      "22 4\n"
     ]
    },
    {
     "name": "stderr",
     "output_type": "stream",
     "text": [
      " 43%|█████████████████████████████████████████████████████████████████▌                                                                                     | 126/290 [14:05<14:42,  5.38s/it]"
     ]
    },
    {
     "name": "stdout",
     "output_type": "stream",
     "text": [
      "20 1\n",
      "19 0\n",
      "15 0\n",
      "ADNI_036_S_4562_20121009\n",
      "257 239\n",
      "151 131\n",
      "96 69\n",
      "140 61\n",
      "214 81\n",
      "278 101\n",
      "182 156\n",
      "192 120\n",
      "235 117\n",
      "183 82\n",
      "105 46\n",
      "57 25\n",
      "43 18\n",
      "48 20\n",
      "41 11\n",
      "36 4\n",
      "36 0\n"
     ]
    },
    {
     "name": "stderr",
     "output_type": "stream",
     "text": [
      " 44%|██████████████████████████████████████████████████████████████████▏                                                                                    | 127/290 [14:12<15:38,  5.76s/it]"
     ]
    },
    {
     "name": "stdout",
     "output_type": "stream",
     "text": [
      "36 0\n",
      "ADNI_036_S_4714_20121204\n",
      "197 185\n",
      "115 101\n",
      "69 53\n",
      "67 36\n",
      "85 38\n",
      "98 35\n",
      "158 144\n",
      "118 96\n",
      "82 51\n",
      "76 30\n",
      "91 34\n",
      "57 22\n",
      "29 9\n",
      "25 5\n",
      "22 2\n"
     ]
    },
    {
     "name": "stderr",
     "output_type": "stream",
     "text": [
      " 44%|██████████████████████████████████████████████████████████████████▋                                                                                    | 128/290 [14:16<14:12,  5.26s/it]"
     ]
    },
    {
     "name": "stdout",
     "output_type": "stream",
     "text": [
      "24 2\n",
      "23 0\n",
      "25 0\n",
      "ADNI_036_S_4715_20121127\n",
      "207 198\n",
      "144 132\n",
      "70 54\n",
      "65 30\n",
      "83 28\n",
      "105 30\n",
      "183 171\n",
      "151 128\n",
      "121 87\n",
      "86 45\n",
      "59 21\n",
      "26 6\n",
      "27 13\n",
      "25 10\n",
      "22 7\n",
      "23 6\n"
     ]
    },
    {
     "name": "stderr",
     "output_type": "stream",
     "text": [
      " 44%|███████████████████████████████████████████████████████████████████▏                                                                                   | 129/290 [14:20<13:21,  4.98s/it]"
     ]
    },
    {
     "name": "stdout",
     "output_type": "stream",
     "text": [
      "20 0\n",
      "25 0\n",
      "ADNI_036_S_4736_20121206\n",
      "417 384\n",
      "298 254\n",
      "264 209\n",
      "304 184\n",
      "386 188\n",
      "499 211\n",
      "333 285\n",
      "348 238\n",
      "458 262\n",
      "381 223\n",
      "254 161\n",
      "165 100\n",
      "130 51\n",
      "123 35\n",
      "112 21\n",
      "108 11\n",
      "107 0\n"
     ]
    },
    {
     "name": "stderr",
     "output_type": "stream",
     "text": [
      " 45%|███████████████████████████████████████████████████████████████████▋                                                                                   | 130/290 [14:33<19:42,  7.39s/it]"
     ]
    },
    {
     "name": "stdout",
     "output_type": "stream",
     "text": [
      "102 0\n",
      "ADNI_036_S_4878_20121019\n",
      "83 79\n",
      "57 50\n",
      "59 42\n",
      "53 27\n",
      "54 27\n",
      "56 28\n",
      "68 58\n",
      "67 48\n",
      "64 42\n",
      "48 27\n",
      "28 14\n",
      "17 9\n",
      "14 5\n",
      "14 4\n",
      "11 1\n",
      "11 0\n"
     ]
    },
    {
     "name": "stderr",
     "output_type": "stream",
     "text": [
      " 45%|████████████████████████████████████████████████████████████████████▏                                                                                  | 131/290 [14:36<15:42,  5.92s/it]"
     ]
    },
    {
     "name": "stdout",
     "output_type": "stream",
     "text": [
      "13 0\n",
      "13 0\n",
      "ADNI_037_S_0501_20130422\n",
      "366 351\n",
      "292 275\n",
      "203 180\n",
      "145 105\n",
      "144 99\n",
      "154 91\n",
      "317 301\n",
      "260 228\n",
      "225 172\n",
      "215 149\n",
      "139 86\n",
      "91 65\n",
      "55 30\n",
      "45 17\n",
      "35 7\n",
      "34 4\n",
      "32 0\n"
     ]
    },
    {
     "name": "stderr",
     "output_type": "stream",
     "text": [
      " 46%|████████████████████████████████████████████████████████████████████▋                                                                                  | 132/290 [14:44<17:05,  6.49s/it]"
     ]
    },
    {
     "name": "stdout",
     "output_type": "stream",
     "text": [
      "29 0\n",
      "ADNI_037_S_0566_20150729\n",
      "324 315\n",
      "258 246\n",
      "214 199\n",
      "156 132\n",
      "159 122\n",
      "187 131\n",
      "280 268\n",
      "255 241\n",
      "243 217\n",
      "220 179\n",
      "202 144\n",
      "176 130\n",
      "78 49\n",
      "62 30\n",
      "54 18\n",
      "51 10\n"
     ]
    },
    {
     "name": "stderr",
     "output_type": "stream",
     "text": [
      " 46%|█████████████████████████████████████████████████████████████████████▎                                                                                 | 133/290 [14:52<18:29,  7.07s/it]"
     ]
    },
    {
     "name": "stdout",
     "output_type": "stream",
     "text": [
      "46 0\n",
      "39 0\n",
      "ADNI_037_S_4015_20150408\n",
      "372 360\n",
      "293 274\n",
      "219 186\n",
      "215 125\n",
      "267 117\n",
      "330 128\n",
      "340 317\n",
      "353 263\n",
      "467 285\n",
      "288 169\n",
      "112 84\n",
      "75 63\n",
      "46 21\n",
      "39 13\n",
      "42 13\n",
      "39 7\n",
      "38 0\n"
     ]
    },
    {
     "name": "stderr",
     "output_type": "stream",
     "text": [
      " 46%|█████████████████████████████████████████████████████████████████████▊                                                                                 | 134/290 [15:02<20:32,  7.90s/it]"
     ]
    },
    {
     "name": "stdout",
     "output_type": "stream",
     "text": [
      "29 0\n",
      "ADNI_037_S_4028_20150604\n",
      "102 89\n",
      "72 56\n",
      "87 51\n",
      "165 60\n",
      "218 83\n",
      "287 118\n",
      "99 81\n",
      "122 69\n",
      "254 117\n",
      "234 126\n",
      "95 46\n",
      "51 28\n",
      "28 8\n",
      "33 11\n",
      "37 13\n",
      "28 3\n"
     ]
    },
    {
     "name": "stderr",
     "output_type": "stream",
     "text": [
      " 47%|██████████████████████████████████████████████████████████████████████▎                                                                                | 135/290 [15:07<18:42,  7.24s/it]"
     ]
    },
    {
     "name": "stdout",
     "output_type": "stream",
     "text": [
      "29 0\n",
      "27 0\n",
      "ADNI_037_S_4030_20150527\n",
      "199 195\n",
      "144 134\n",
      "142 94\n",
      "237 91\n",
      "337 108\n",
      "439 128\n",
      "175 147\n",
      "344 180\n",
      "398 177\n",
      "172 90\n",
      "55 21\n",
      "29 10\n",
      "25 14\n",
      "28 17\n",
      "29 14\n"
     ]
    },
    {
     "name": "stderr",
     "output_type": "stream",
     "text": [
      " 47%|██████████████████████████████████████████████████████████████████████▊                                                                                | 136/290 [15:15<19:05,  7.44s/it]"
     ]
    },
    {
     "name": "stdout",
     "output_type": "stream",
     "text": [
      "24 4\n",
      "26 0\n",
      "23 0\n",
      "ADNI_037_S_4071_20151111\n",
      "398 393\n",
      "350 343\n",
      "257 244\n",
      "185 156\n",
      "182 128\n",
      "206 117\n",
      "390 382\n",
      "369 338\n",
      "392 299\n",
      "351 232\n",
      "311 194\n",
      "221 114\n",
      "64 38\n",
      "65 35\n",
      "64 25\n",
      "63 15\n",
      "75 0\n"
     ]
    },
    {
     "name": "stderr",
     "output_type": "stream",
     "text": [
      " 47%|███████████████████████████████████████████████████████████████████████▎                                                                               | 137/290 [15:26<21:45,  8.53s/it]"
     ]
    },
    {
     "name": "stdout",
     "output_type": "stream",
     "text": [
      "74 0\n",
      "ADNI_037_S_4146_20150902\n",
      "273 263\n",
      "162 147\n",
      "99 76\n",
      "128 69\n",
      "145 71\n",
      "165 70\n",
      "215 198\n",
      "172 130\n",
      "186 122\n",
      "131 82\n",
      "74 45\n",
      "45 21\n",
      "44 21\n",
      "37 14\n",
      "38 13\n",
      "38 8\n"
     ]
    },
    {
     "name": "stderr",
     "output_type": "stream",
     "text": [
      " 48%|███████████████████████████████████████████████████████████████████████▊                                                                               | 138/290 [15:32<19:34,  7.73s/it]"
     ]
    },
    {
     "name": "stdout",
     "output_type": "stream",
     "text": [
      "35 0\n",
      "35 0\n",
      "ADNI_037_S_4214_20151016\n",
      "198 189\n",
      "116 103\n",
      "76 60\n",
      "107 51\n",
      "136 54\n",
      "151 50\n",
      "140 123\n",
      "155 95\n",
      "159 74\n",
      "139 64\n",
      "83 38\n",
      "36 16\n",
      "32 16\n",
      "30 11\n",
      "27 6\n",
      "25 0\n"
     ]
    },
    {
     "name": "stderr",
     "output_type": "stream",
     "text": [
      " 48%|████████████████████████████████████████████████████████████████████████▍                                                                              | 139/290 [15:37<17:19,  6.88s/it]"
     ]
    },
    {
     "name": "stdout",
     "output_type": "stream",
     "text": [
      "32 0\n",
      "30 0\n",
      "ADNI_037_S_4302_20131211\n",
      "330 316\n",
      "276 256\n",
      "168 140\n",
      "99 53\n",
      "141 64\n",
      "178 61\n",
      "313 291\n",
      "278 245\n",
      "275 191\n",
      "277 146\n",
      "121 50\n",
      "76 30\n",
      "33 10\n",
      "34 11\n",
      "32 9\n",
      "30 5\n",
      "27 0\n"
     ]
    },
    {
     "name": "stderr",
     "output_type": "stream",
     "text": [
      " 48%|████████████████████████████████████████████████████████████████████████▉                                                                              | 140/290 [15:45<17:45,  7.10s/it]"
     ]
    },
    {
     "name": "stdout",
     "output_type": "stream",
     "text": [
      "29 0\n",
      "ADNI_037_S_4308_20140409\n",
      "217 205\n",
      "145 130\n",
      "81 62\n",
      "66 35\n",
      "71 33\n",
      "93 40\n",
      "173 157\n",
      "135 106\n",
      "126 77\n",
      "101 48\n",
      "96 40\n",
      "58 26\n",
      "37 16\n",
      "35 10\n",
      "37 8\n",
      "37 3\n"
     ]
    },
    {
     "name": "stderr",
     "output_type": "stream",
     "text": [
      " 49%|█████████████████████████████████████████████████████████████████████████▍                                                                             | 141/290 [15:50<15:50,  6.38s/it]"
     ]
    },
    {
     "name": "stdout",
     "output_type": "stream",
     "text": [
      "44 0\n",
      "36 0\n",
      "ADNI_037_S_4381_20140321\n",
      "195 189\n",
      "110 102\n",
      "89 80\n",
      "50 40\n",
      "42 28\n",
      "32 15\n",
      "145 137\n",
      "106 97\n",
      "108 96\n",
      "93 74\n",
      "59 39\n",
      "52 36\n",
      "18 7\n",
      "16 5\n",
      "17 2\n",
      "17 1\n",
      "20 0\n"
     ]
    },
    {
     "name": "stderr",
     "output_type": "stream",
     "text": [
      " 49%|█████████████████████████████████████████████████████████████████████████▉                                                                             | 142/290 [15:53<13:43,  5.56s/it]"
     ]
    },
    {
     "name": "stdout",
     "output_type": "stream",
     "text": [
      "20 0\n",
      "ADNI_037_S_4410_20140115\n",
      "206 197\n",
      "118 106\n",
      "80 52\n",
      "109 47\n",
      "128 59\n",
      "159 69\n",
      "167 152\n",
      "143 111\n",
      "148 87\n",
      "123 60\n",
      "95 40\n",
      "56 28\n",
      "31 11\n",
      "27 6\n",
      "28 5\n",
      "26 2\n",
      "26 0\n"
     ]
    },
    {
     "name": "stderr",
     "output_type": "stream",
     "text": [
      " 49%|██████████████████████████████████████████████████████████████████████████▍                                                                            | 143/290 [15:58<13:11,  5.38s/it]"
     ]
    },
    {
     "name": "stdout",
     "output_type": "stream",
     "text": [
      "25 0\n",
      "ADNI_037_S_4706_20140512\n",
      "256 249\n",
      "188 177\n",
      "144 126\n",
      "95 71\n",
      "106 67\n",
      "122 65\n",
      "206 193\n",
      "205 183\n",
      "161 123\n",
      "148 103\n",
      "102 54\n",
      "58 29\n",
      "33 17\n",
      "32 12\n",
      "32 8\n",
      "31 5\n"
     ]
    },
    {
     "name": "stderr",
     "output_type": "stream",
     "text": [
      " 50%|██████████████████████████████████████████████████████████████████████████▉                                                                            | 144/290 [16:04<13:19,  5.47s/it]"
     ]
    },
    {
     "name": "stdout",
     "output_type": "stream",
     "text": [
      "27 0\n",
      "24 0\n",
      "ADNI_041_S_4004_20140428\n",
      "225 215\n",
      "129 115\n",
      "70 46\n",
      "86 39\n",
      "110 35\n",
      "147 43\n",
      "146 129\n",
      "163 107\n",
      "160 83\n",
      "125 62\n",
      "72 30\n",
      "48 24\n",
      "24 10\n",
      "20 6\n",
      "23 5\n"
     ]
    },
    {
     "name": "stderr",
     "output_type": "stream",
     "text": [
      " 50%|███████████████████████████████████████████████████████████████████████████▌                                                                           | 145/290 [16:09<12:43,  5.27s/it]"
     ]
    },
    {
     "name": "stdout",
     "output_type": "stream",
     "text": [
      "25 3\n",
      "29 0\n",
      "22 0\n",
      "ADNI_041_S_4014_20111202\n",
      "366 358\n",
      "267 255\n",
      "195 182\n",
      "138 100\n",
      "158 91\n",
      "189 91\n",
      "289 277\n",
      "281 236\n",
      "355 241\n",
      "254 153\n",
      "86 45\n",
      "39 25\n",
      "61 39\n",
      "50 23\n",
      "50 20\n",
      "44 10\n"
     ]
    },
    {
     "name": "stderr",
     "output_type": "stream",
     "text": [
      " 50%|████████████████████████████████████████████████████████████████████████████                                                                           | 146/290 [16:17<14:38,  6.10s/it]"
     ]
    },
    {
     "name": "stdout",
     "output_type": "stream",
     "text": [
      "36 0\n",
      "33 0\n",
      "ADNI_041_S_4037_20111205\n",
      "219 205\n",
      "125 108\n",
      "91 70\n",
      "89 53\n",
      "99 52\n",
      "114 50\n",
      "153 136\n",
      "120 93\n",
      "130 80\n",
      "129 66\n",
      "102 49\n",
      "54 26\n",
      "50 26\n",
      "42 16\n",
      "41 12\n",
      "35 4\n"
     ]
    },
    {
     "name": "stderr",
     "output_type": "stream",
     "text": [
      " 51%|████████████████████████████████████████████████████████████████████████████▌                                                                          | 147/290 [16:22<13:39,  5.73s/it]"
     ]
    },
    {
     "name": "stdout",
     "output_type": "stream",
     "text": [
      "33 0\n",
      "33 0\n",
      "ADNI_041_S_4041_20111213\n",
      "118 111\n",
      "52 43\n",
      "33 23\n",
      "26 11\n",
      "33 12\n",
      "34 10\n",
      "68 58\n",
      "39 27\n",
      "38 21\n",
      "45 19\n",
      "40 16\n",
      "21 8\n",
      "15 4\n",
      "17 4\n",
      "16 2\n",
      "18 1\n"
     ]
    },
    {
     "name": "stderr",
     "output_type": "stream",
     "text": [
      " 51%|█████████████████████████████████████████████████████████████████████████████                                                                          | 148/290 [16:24<11:06,  4.69s/it]"
     ]
    },
    {
     "name": "stdout",
     "output_type": "stream",
     "text": [
      "20 0\n",
      "18 0\n",
      "ADNI_041_S_4051_20110923\n",
      "544 519\n",
      "301 271\n",
      "215 172\n",
      "212 121\n",
      "253 108\n",
      "345 117\n",
      "384 342\n",
      "363 248\n",
      "413 212\n",
      "238 120\n",
      "114 72\n",
      "59 34\n",
      "66 26\n",
      "63 20\n",
      "58 13\n",
      "59 5\n"
     ]
    },
    {
     "name": "stderr",
     "output_type": "stream",
     "text": [
      " 51%|█████████████████████████████████████████████████████████████████████████████▌                                                                         | 149/290 [16:34<15:02,  6.40s/it]"
     ]
    },
    {
     "name": "stdout",
     "output_type": "stream",
     "text": [
      "59 0\n",
      "59 0\n",
      "ADNI_041_S_4060_20111212\n",
      "237 212\n",
      "155 117\n",
      "174 82\n",
      "259 83\n",
      "335 99\n",
      "417 127\n",
      "225 145\n",
      "344 162\n",
      "335 131\n",
      "209 88\n",
      "84 29\n",
      "43 18\n",
      "68 26\n",
      "64 20\n",
      "62 15\n",
      "55 7\n"
     ]
    },
    {
     "name": "stderr",
     "output_type": "stream",
     "text": [
      " 52%|██████████████████████████████████████████████████████████████████████████████                                                                         | 150/290 [16:43<16:33,  7.10s/it]"
     ]
    },
    {
     "name": "stdout",
     "output_type": "stream",
     "text": [
      "53 0\n",
      "48 0\n",
      "ADNI_041_S_4138_20111021\n",
      "173 165\n",
      "120 103\n",
      "122 81\n",
      "263 113\n",
      "385 139\n",
      "588 188\n",
      "159 126\n",
      "318 172\n",
      "442 188\n",
      "462 199\n",
      "244 95\n",
      "89 37\n",
      "48 22\n",
      "43 15\n",
      "43 12\n",
      "42 5\n",
      "37 0\n"
     ]
    },
    {
     "name": "stderr",
     "output_type": "stream",
     "text": [
      " 52%|██████████████████████████████████████████████████████████████████████████████▌                                                                        | 151/290 [16:53<18:24,  7.94s/it]"
     ]
    },
    {
     "name": "stdout",
     "output_type": "stream",
     "text": [
      "36 0\n",
      "ADNI_041_S_4143_20111122\n",
      "178 165\n",
      "97 81\n",
      "65 42\n",
      "123 48\n",
      "160 52\n",
      "196 59\n",
      "130 112\n",
      "133 74\n",
      "181 68\n",
      "175 52\n",
      "105 41\n",
      "36 17\n",
      "32 14\n",
      "36 13\n",
      "34 9\n",
      "30 3\n"
     ]
    },
    {
     "name": "stderr",
     "output_type": "stream",
     "text": [
      " 52%|███████████████████████████████████████████████████████████████████████████████▏                                                                       | 152/290 [16:58<16:20,  7.11s/it]"
     ]
    },
    {
     "name": "stdout",
     "output_type": "stream",
     "text": [
      "31 0\n",
      "30 0\n",
      "ADNI_041_S_4200_20111219\n",
      "321 292\n",
      "210 174\n",
      "138 88\n",
      "178 83\n",
      "217 99\n",
      "262 106\n",
      "251 213\n",
      "230 165\n",
      "282 159\n",
      "224 97\n",
      "117 37\n",
      "42 16\n",
      "75 26\n",
      "73 23\n",
      "67 15\n",
      "63 7\n"
     ]
    },
    {
     "name": "stderr",
     "output_type": "stream",
     "text": [
      " 53%|███████████████████████████████████████████████████████████████████████████████▋                                                                       | 153/290 [17:06<16:47,  7.36s/it]"
     ]
    },
    {
     "name": "stdout",
     "output_type": "stream",
     "text": [
      "60 0\n",
      "58 0\n",
      "ADNI_041_S_4271_20111007\n",
      "290 284\n",
      "116 109\n",
      "56 48\n",
      "43 30\n",
      "55 30\n",
      "54 24\n",
      "169 162\n",
      "95 85\n",
      "72 55\n",
      "84 48\n",
      "59 28\n",
      "33 14\n",
      "18 7\n",
      "16 2\n",
      "18 1\n",
      "18 1\n",
      "22 0\n"
     ]
    },
    {
     "name": "stderr",
     "output_type": "stream",
     "text": [
      " 53%|████████████████████████████████████████████████████████████████████████████████▏                                                                      | 154/290 [17:10<14:13,  6.28s/it]"
     ]
    },
    {
     "name": "stdout",
     "output_type": "stream",
     "text": [
      "21 0\n",
      "ADNI_041_S_4427_20111219\n",
      "246 238\n",
      "150 140\n",
      "105 86\n",
      "108 65\n",
      "126 67\n",
      "147 61\n",
      "178 162\n",
      "165 121\n",
      "161 100\n",
      "126 73\n",
      "68 33\n",
      "42 21\n",
      "36 20\n",
      "32 16\n",
      "33 12\n",
      "26 4\n",
      "27 0\n"
     ]
    },
    {
     "name": "stderr",
     "output_type": "stream",
     "text": [
      " 53%|████████████████████████████████████████████████████████████████████████████████▋                                                                      | 155/290 [17:15<13:24,  5.96s/it]"
     ]
    },
    {
     "name": "stdout",
     "output_type": "stream",
     "text": [
      "31 0\n",
      "ADNI_041_S_4510_20120910\n",
      "118 110\n",
      "73 61\n",
      "56 39\n",
      "61 27\n",
      "80 33\n",
      "114 43\n",
      "85 72\n",
      "81 54\n",
      "105 51\n",
      "100 39\n",
      "75 29\n",
      "30 12\n",
      "32 18\n",
      "30 14\n",
      "23 5\n"
     ]
    },
    {
     "name": "stderr",
     "output_type": "stream",
     "text": [
      " 54%|█████████████████████████████████████████████████████████████████████████████████▏                                                                     | 156/290 [17:18<11:39,  5.22s/it]"
     ]
    },
    {
     "name": "stdout",
     "output_type": "stream",
     "text": [
      "21 1\n",
      "24 0\n",
      "20 0\n",
      "ADNI_041_S_4513_20120905\n",
      "390 383\n",
      "257 248\n",
      "186 177\n",
      "71 59\n",
      "75 55\n",
      "68 48\n",
      "305 296\n",
      "228 217\n",
      "207 193\n",
      "156 134\n",
      "67 39\n",
      "42 29\n",
      "33 21\n",
      "20 8\n",
      "17 5\n"
     ]
    },
    {
     "name": "stderr",
     "output_type": "stream",
     "text": [
      " 54%|█████████████████████████████████████████████████████████████████████████████████▋                                                                     | 157/290 [17:25<12:12,  5.51s/it]"
     ]
    },
    {
     "name": "stdout",
     "output_type": "stream",
     "text": [
      "16 2\n",
      "14 0\n",
      "14 0\n",
      "ADNI_041_S_4720_20121109\n",
      "251 242\n",
      "134 119\n",
      "118 76\n",
      "210 78\n",
      "289 95\n",
      "368 118\n",
      "211 172\n",
      "302 155\n",
      "311 155\n",
      "137 66\n",
      "74 25\n",
      "22 11\n",
      "27 11\n",
      "28 10\n",
      "23 5\n",
      "26 1\n"
     ]
    },
    {
     "name": "stderr",
     "output_type": "stream",
     "text": [
      " 54%|██████████████████████████████████████████████████████████████████████████████████▎                                                                    | 158/290 [17:32<13:15,  6.03s/it]"
     ]
    },
    {
     "name": "stdout",
     "output_type": "stream",
     "text": [
      "30 0\n",
      "24 0\n",
      "ADNI_041_S_4874_20121105\n",
      "210 201\n",
      "148 139\n",
      "80 63\n",
      "93 53\n",
      "102 55\n",
      "109 53\n",
      "170 160\n",
      "147 126\n",
      "162 104\n",
      "88 50\n",
      "43 20\n",
      "26 15\n",
      "25 14\n",
      "25 12\n",
      "20 7\n",
      "18 5\n",
      "13 0\n"
     ]
    },
    {
     "name": "stderr",
     "output_type": "stream",
     "text": [
      " 55%|██████████████████████████████████████████████████████████████████████████████████▊                                                                    | 159/290 [17:36<12:07,  5.55s/it]"
     ]
    },
    {
     "name": "stdout",
     "output_type": "stream",
     "text": [
      "12 0\n",
      "ADNI_041_S_4876_20121106\n",
      "369 354\n",
      "256 233\n",
      "186 118\n",
      "296 114\n",
      "391 129\n",
      "515 145\n",
      "347 298\n",
      "450 262\n",
      "600 271\n",
      "429 162\n",
      "155 60\n",
      "49 27\n",
      "45 25\n",
      "39 12\n",
      "47 12\n",
      "44 4\n"
     ]
    },
    {
     "name": "stderr",
     "output_type": "stream",
     "text": [
      " 55%|███████████████████████████████████████████████████████████████████████████████████▎                                                                   | 160/290 [17:48<16:01,  7.40s/it]"
     ]
    },
    {
     "name": "stdout",
     "output_type": "stream",
     "text": [
      "45 0\n",
      "43 0\n",
      "ADNI_041_S_4877_20121212\n",
      "228 214\n",
      "133 116\n",
      "89 64\n",
      "108 42\n",
      "153 67\n",
      "198 76\n",
      "182 163\n",
      "129 98\n",
      "146 75\n",
      "161 66\n",
      "89 23\n",
      "34 9\n",
      "41 11\n",
      "40 9\n",
      "36 5\n",
      "37 3\n"
     ]
    },
    {
     "name": "stderr",
     "output_type": "stream",
     "text": [
      " 56%|███████████████████████████████████████████████████████████████████████████████████▊                                                                   | 161/290 [17:53<14:41,  6.84s/it]"
     ]
    },
    {
     "name": "stdout",
     "output_type": "stream",
     "text": [
      "35 0\n",
      "31 0\n",
      "ADNI_041_S_4974_20121015\n",
      "232 228\n",
      "131 117\n",
      "131 84\n",
      "221 98\n",
      "299 113\n",
      "403 146\n",
      "180 158\n",
      "223 120\n",
      "392 195\n",
      "263 127\n",
      "124 60\n",
      "22 11\n",
      "40 26\n",
      "33 19\n",
      "35 16\n",
      "30 7\n"
     ]
    },
    {
     "name": "stderr",
     "output_type": "stream",
     "text": [
      " 56%|████████████████████████████████████████████████████████████████████████████████████▎                                                                  | 162/290 [18:01<15:13,  7.14s/it]"
     ]
    },
    {
     "name": "stdout",
     "output_type": "stream",
     "text": [
      "28 0\n",
      "29 0\n",
      "ADNI_041_S_4989_20121019\n",
      "198 191\n",
      "125 114\n",
      "112 85\n",
      "93 52\n",
      "100 46\n",
      "124 45\n",
      "142 125\n",
      "166 124\n",
      "176 107\n",
      "131 69\n",
      "66 30\n",
      "35 23\n",
      "27 10\n",
      "32 13\n",
      "31 9\n"
     ]
    },
    {
     "name": "stderr",
     "output_type": "stream",
     "text": [
      " 56%|████████████████████████████████████████████████████████████████████████████████████▊                                                                  | 163/290 [18:06<13:37,  6.44s/it]"
     ]
    },
    {
     "name": "stdout",
     "output_type": "stream",
     "text": [
      "26 2\n",
      "27 0\n",
      "24 0\n",
      "ADNI_053_S_4578_20121003\n",
      "285 269\n",
      "222 199\n",
      "154 117\n",
      "165 80\n",
      "214 86\n",
      "280 114\n",
      "262 232\n",
      "241 181\n",
      "341 196\n",
      "248 113\n",
      "158 69\n",
      "73 27\n",
      "56 21\n",
      "59 17\n",
      "54 10\n",
      "47 2\n",
      "48 0\n"
     ]
    },
    {
     "name": "stderr",
     "output_type": "stream",
     "text": [
      " 57%|█████████████████████████████████████████████████████████████████████████████████████▍                                                                 | 164/290 [18:14<14:38,  6.98s/it]"
     ]
    },
    {
     "name": "stdout",
     "output_type": "stream",
     "text": [
      "46 0\n",
      "ADNI_053_S_4661_20120528\n",
      "207 198\n",
      "153 138\n",
      "87 69\n",
      "79 56\n",
      "77 49\n",
      "95 47\n",
      "181 167\n",
      "136 119\n",
      "127 91\n",
      "128 74\n",
      "67 39\n",
      "39 15\n",
      "37 19\n",
      "31 12\n",
      "26 6\n",
      "26 4\n",
      "23 0\n"
     ]
    },
    {
     "name": "stderr",
     "output_type": "stream",
     "text": [
      " 57%|█████████████████████████████████████████████████████████████████████████████████████▉                                                                 | 165/290 [18:19<13:03,  6.26s/it]"
     ]
    },
    {
     "name": "stdout",
     "output_type": "stream",
     "text": [
      "24 0\n",
      "ADNI_053_S_4813_20120928\n",
      "167 152\n",
      "117 97\n",
      "113 86\n",
      "113 66\n",
      "133 61\n",
      "158 68\n",
      "137 113\n",
      "132 97\n",
      "157 92\n",
      "168 80\n",
      "98 40\n",
      "42 27\n",
      "46 21\n",
      "38 11\n",
      "37 9\n",
      "34 4\n"
     ]
    },
    {
     "name": "stderr",
     "output_type": "stream",
     "text": [
      " 57%|██████████████████████████████████████████████████████████████████████████████████████▍                                                                | 166/290 [18:24<12:13,  5.92s/it]"
     ]
    },
    {
     "name": "stdout",
     "output_type": "stream",
     "text": [
      "31 0\n",
      "29 0\n",
      "ADNI_067_S_2195_20101119\n",
      "281 274\n",
      "180 171\n",
      "118 104\n",
      "88 58\n",
      "91 46\n",
      "110 51\n",
      "209 197\n",
      "165 146\n",
      "154 112\n",
      "168 104\n",
      "107 56\n",
      "39 19\n",
      "23 11\n",
      "22 9\n",
      "20 7\n"
     ]
    },
    {
     "name": "stderr",
     "output_type": "stream",
     "text": [
      " 58%|██████████████████████████████████████████████████████████████████████████████████████▉                                                                | 167/290 [18:29<11:44,  5.73s/it]"
     ]
    },
    {
     "name": "stdout",
     "output_type": "stream",
     "text": [
      "21 6\n",
      "16 0\n",
      "14 0\n",
      "ADNI_067_S_2301_20110830\n",
      "203 194\n",
      "140 129\n",
      "92 80\n",
      "67 40\n",
      "69 38\n",
      "83 43\n",
      "154 143\n",
      "126 108\n",
      "107 81\n",
      "100 63\n",
      "66 35\n",
      "49 36\n",
      "26 13\n",
      "29 15\n",
      "24 9\n",
      "21 6\n"
     ]
    },
    {
     "name": "stderr",
     "output_type": "stream",
     "text": [
      " 58%|███████████████████████████████████████████████████████████████████████████████████████▍                                                               | 168/290 [18:34<10:42,  5.26s/it]"
     ]
    },
    {
     "name": "stdout",
     "output_type": "stream",
     "text": [
      "21 0\n",
      "19 0\n",
      "ADNI_067_S_2304_20110914\n",
      "203 197\n",
      "149 142\n",
      "79 68\n",
      "90 51\n",
      "113 52\n",
      "154 59\n",
      "190 181\n",
      "164 131\n",
      "182 107\n",
      "156 76\n",
      "102 39\n",
      "51 20\n",
      "19 11\n",
      "17 8\n",
      "16 7\n"
     ]
    },
    {
     "name": "stderr",
     "output_type": "stream",
     "text": [
      " 58%|███████████████████████████████████████████████████████████████████████████████████████▉                                                               | 169/290 [18:39<10:28,  5.19s/it]"
     ]
    },
    {
     "name": "stdout",
     "output_type": "stream",
     "text": [
      "11 2\n",
      "12 0\n",
      "12 0\n",
      "ADNI_067_S_4054_20111215\n",
      "301 292\n",
      "184 170\n",
      "124 93\n",
      "157 64\n",
      "234 74\n",
      "304 97\n",
      "230 209\n",
      "272 177\n",
      "319 162\n",
      "207 97\n",
      "71 32\n",
      "23 11\n",
      "37 18\n",
      "37 15\n",
      "29 6\n",
      "30 5\n"
     ]
    },
    {
     "name": "stderr",
     "output_type": "stream",
     "text": [
      " 59%|████████████████████████████████████████████████████████████████████████████████████████▌                                                              | 170/290 [18:46<11:39,  5.83s/it]"
     ]
    },
    {
     "name": "stdout",
     "output_type": "stream",
     "text": [
      "26 0\n",
      "22 0\n",
      "ADNI_067_S_4072_20111012\n",
      "164 157\n",
      "89 78\n",
      "64 50\n",
      "58 33\n",
      "78 37\n",
      "82 27\n",
      "107 94\n",
      "85 68\n",
      "104 57\n",
      "110 57\n",
      "76 29\n",
      "59 21\n",
      "30 15\n",
      "31 15\n",
      "28 10\n",
      "27 7\n"
     ]
    },
    {
     "name": "stderr",
     "output_type": "stream",
     "text": [
      " 59%|█████████████████████████████████████████████████████████████████████████████████████████                                                              | 171/290 [18:50<10:21,  5.22s/it]"
     ]
    },
    {
     "name": "stdout",
     "output_type": "stream",
     "text": [
      "26 0\n",
      "27 0\n",
      "ADNI_067_S_4184_20111219\n",
      "284 272\n",
      "192 179\n",
      "136 122\n",
      "91 64\n",
      "98 62\n",
      "97 56\n",
      "223 207\n",
      "169 148\n",
      "149 122\n",
      "114 82\n",
      "93 60\n",
      "50 33\n",
      "49 32\n",
      "37 19\n",
      "32 12\n",
      "25 4\n",
      "23 0\n"
     ]
    },
    {
     "name": "stderr",
     "output_type": "stream",
     "text": [
      " 59%|█████████████████████████████████████████████████████████████████████████████████████████▌                                                             | 172/290 [18:55<10:26,  5.31s/it]"
     ]
    },
    {
     "name": "stdout",
     "output_type": "stream",
     "text": [
      "17 0\n",
      "ADNI_067_S_4212_20111219\n",
      "499 487\n",
      "349 335\n",
      "228 212\n",
      "147 125\n",
      "130 100\n",
      "119 86\n",
      "389 376\n",
      "299 278\n",
      "259 229\n",
      "188 155\n",
      "119 85\n",
      "82 58\n",
      "41 20\n",
      "39 13\n",
      "33 6\n",
      "32 3\n",
      "33 0\n"
     ]
    },
    {
     "name": "stderr",
     "output_type": "stream",
     "text": [
      " 60%|██████████████████████████████████████████████████████████████████████████████████████████                                                             | 173/290 [19:04<12:10,  6.25s/it]"
     ]
    },
    {
     "name": "stdout",
     "output_type": "stream",
     "text": [
      "30 0\n",
      "ADNI_067_S_4310_20111027\n",
      "245 235\n",
      "101 90\n",
      "158 138\n",
      "65 35\n",
      "81 32\n",
      "102 39\n",
      "149 135\n",
      "117 84\n",
      "144 104\n",
      "212 157\n",
      "64 25\n",
      "33 13\n",
      "23 9\n",
      "23 5\n",
      "26 4\n",
      "29 5\n"
     ]
    },
    {
     "name": "stderr",
     "output_type": "stream",
     "text": [
      " 60%|██████████████████████████████████████████████████████████████████████████████████████████▌                                                            | 174/290 [19:08<11:15,  5.83s/it]"
     ]
    },
    {
     "name": "stdout",
     "output_type": "stream",
     "text": [
      "26 0\n",
      "21 0\n",
      "ADNI_067_S_4767_20121210\n",
      "286 272\n",
      "216 196\n",
      "157 135\n",
      "101 77\n",
      "98 68\n",
      "100 66\n",
      "245 226\n",
      "199 178\n",
      "156 129\n",
      "141 113\n",
      "93 66\n",
      "83 59\n",
      "47 26\n",
      "42 19\n",
      "33 9\n",
      "32 6\n",
      "28 0\n",
      "25 0\n"
     ]
    },
    {
     "name": "stderr",
     "output_type": "stream",
     "text": [
      " 60%|███████████████████████████████████████████████████████████████████████████████████████████                                                            | 175/290 [19:15<11:17,  5.89s/it]"
     ]
    },
    {
     "name": "stdout",
     "output_type": "stream",
     "text": [
      "ADNI_067_S_4782_20121026\n",
      "306 300\n",
      "213 202\n",
      "163 143\n",
      "169 122\n",
      "192 126\n",
      "186 112\n",
      "253 240\n",
      "220 190\n",
      "240 183\n",
      "224 150\n",
      "146 98\n",
      "94 73\n",
      "46 32\n",
      "33 18\n",
      "28 12\n"
     ]
    },
    {
     "name": "stderr",
     "output_type": "stream",
     "text": [
      " 61%|███████████████████████████████████████████████████████████████████████████████████████████▋                                                           | 176/290 [19:22<12:13,  6.43s/it]"
     ]
    },
    {
     "name": "stdout",
     "output_type": "stream",
     "text": [
      "23 7\n",
      "16 0\n",
      "17 0\n",
      "ADNI_068_S_4061_20111219\n",
      "146 136\n",
      "76 64\n",
      "57 40\n",
      "52 28\n",
      "68 30\n",
      "85 31\n",
      "96 82\n",
      "78 57\n",
      "91 48\n",
      "110 55\n",
      "75 28\n",
      "42 13\n",
      "43 23\n",
      "31 10\n",
      "30 8\n",
      "27 3\n"
     ]
    },
    {
     "name": "stderr",
     "output_type": "stream",
     "text": [
      " 61%|████████████████████████████████████████████████████████████████████████████████████████████▏                                                          | 177/290 [19:26<10:45,  5.71s/it]"
     ]
    },
    {
     "name": "stdout",
     "output_type": "stream",
     "text": [
      "31 0\n",
      "27 0\n",
      "ADNI_068_S_4217_20111214\n",
      "224 217\n",
      "133 122\n",
      "98 83\n",
      "81 45\n",
      "106 51\n",
      "127 43\n",
      "168 157\n",
      "152 128\n",
      "175 119\n",
      "128 73\n",
      "79 28\n",
      "24 9\n",
      "29 14\n",
      "27 9\n",
      "28 6\n"
     ]
    },
    {
     "name": "stderr",
     "output_type": "stream",
     "text": [
      " 61%|████████████████████████████████████████████████████████████████████████████████████████████▋                                                          | 178/290 [19:31<10:18,  5.52s/it]"
     ]
    },
    {
     "name": "stdout",
     "output_type": "stream",
     "text": [
      "28 5\n",
      "26 0\n",
      "22 0\n",
      "ADNI_072_S_2116_20101026\n"
     ]
    },
    {
     "name": "stderr",
     "output_type": "stream",
     "text": [
      " 62%|█████████████████████████████████████████████████████████████████████████████████████████████▏                                                         | 179/290 [19:32<07:24,  4.01s/it]"
     ]
    },
    {
     "name": "stdout",
     "output_type": "stream",
     "text": [
      "ADNI_072_S_4007_20111101\n",
      "257 254\n",
      "147 139\n",
      "116 104\n",
      "82 59\n",
      "102 57\n",
      "121 62\n",
      "199 191\n",
      "154 128\n",
      "164 115\n",
      "149 85\n",
      "122 63\n",
      "54 34\n",
      "30 14\n",
      "32 12\n",
      "35 10\n",
      "32 5\n"
     ]
    },
    {
     "name": "stderr",
     "output_type": "stream",
     "text": [
      " 62%|█████████████████████████████████████████████████████████████████████████████████████████████▋                                                         | 180/290 [19:37<08:12,  4.47s/it]"
     ]
    },
    {
     "name": "stdout",
     "output_type": "stream",
     "text": [
      "31 0\n",
      "33 0\n",
      "ADNI_072_S_4057_20111212\n",
      "ADNI_072_S_4063_20111219\n",
      "ADNI_072_S_4103_20110720\n",
      "148 141\n",
      "82 74\n",
      "65 54\n",
      "63 36\n",
      "91 48\n",
      "115 55\n",
      "90 81\n",
      "74 57\n",
      "130 71\n",
      "160 80\n",
      "69 33\n",
      "23 17\n",
      "28 12\n",
      "28 10\n",
      "28 8\n"
     ]
    },
    {
     "name": "stderr",
     "output_type": "stream",
     "text": [
      " 63%|███████████████████████████████████████████████████████████████████████████████████████████████▎                                                       | 183/290 [19:41<04:47,  2.69s/it]"
     ]
    },
    {
     "name": "stdout",
     "output_type": "stream",
     "text": [
      "28 5\n",
      "23 0\n",
      "25 0\n",
      "ADNI_072_S_4769_20121017\n",
      "229 201\n",
      "151 120\n",
      "116 68\n",
      "142 62\n",
      "165 72\n",
      "193 81\n",
      "169 136\n",
      "175 106\n",
      "208 99\n",
      "168 76\n",
      "112 46\n",
      "75 33\n",
      "64 25\n",
      "59 16\n",
      "59 12\n",
      "56 8\n",
      "49 0\n"
     ]
    },
    {
     "name": "stderr",
     "output_type": "stream",
     "text": [
      " 63%|███████████████████████████████████████████████████████████████████████████████████████████████▊                                                       | 184/290 [19:48<06:06,  3.46s/it]"
     ]
    },
    {
     "name": "stdout",
     "output_type": "stream",
     "text": [
      "50 0\n",
      "ADNI_073_S_0311_20110901\n",
      "265 248\n",
      "182 158\n",
      "175 137\n",
      "178 93\n",
      "197 85\n",
      "239 93\n",
      "216 188\n",
      "246 175\n",
      "306 189\n",
      "237 144\n",
      "147 78\n",
      "105 59\n",
      "54 22\n",
      "50 14\n",
      "52 10\n",
      "50 7\n",
      "46 0\n"
     ]
    },
    {
     "name": "stderr",
     "output_type": "stream",
     "text": [
      " 64%|████████████████████████████████████████████████████████████████████████████████████████████████▎                                                      | 185/290 [19:55<07:47,  4.45s/it]"
     ]
    },
    {
     "name": "stdout",
     "output_type": "stream",
     "text": [
      "48 0\n",
      "ADNI_073_S_0746_20120213\n",
      "245 225\n",
      "168 148\n",
      "123 102\n",
      "107 70\n",
      "118 69\n",
      "132 64\n",
      "185 165\n",
      "165 132\n",
      "212 133\n",
      "142 89\n",
      "93 54\n",
      "51 32\n",
      "33 13\n",
      "30 9\n",
      "27 5\n",
      "26 4\n",
      "25 0\n"
     ]
    },
    {
     "name": "stderr",
     "output_type": "stream",
     "text": [
      " 64%|████████████████████████████████████████████████████████████████████████████████████████████████▊                                                      | 186/290 [20:01<08:09,  4.71s/it]"
     ]
    },
    {
     "name": "stdout",
     "output_type": "stream",
     "text": [
      "24 0\n",
      "ADNI_073_S_2153_20101105\n",
      "334 318\n",
      "250 233\n",
      "194 176\n",
      "148 115\n",
      "154 108\n",
      "153 91\n",
      "293 275\n",
      "242 216\n",
      "245 200\n",
      "210 158\n",
      "109 77\n",
      "70 53\n",
      "34 15\n",
      "34 11\n",
      "33 9\n",
      "30 4\n",
      "29 0\n"
     ]
    },
    {
     "name": "stderr",
     "output_type": "stream",
     "text": [
      " 64%|█████████████████████████████████████████████████████████████████████████████████████████████████▎                                                     | 187/290 [20:08<09:13,  5.37s/it]"
     ]
    },
    {
     "name": "stdout",
     "output_type": "stream",
     "text": [
      "29 0\n",
      "ADNI_073_S_2191_20110708\n",
      "182 177\n",
      "99 93\n",
      "51 37\n",
      "82 26\n",
      "107 35\n",
      "140 48\n",
      "133 123\n",
      "128 91\n",
      "136 65\n",
      "127 57\n",
      "88 38\n",
      "38 18\n",
      "21 9\n",
      "23 6\n",
      "28 10\n"
     ]
    },
    {
     "name": "stderr",
     "output_type": "stream",
     "text": [
      " 65%|█████████████████████████████████████████████████████████████████████████████████████████████████▉                                                     | 188/290 [20:12<08:38,  5.08s/it]"
     ]
    },
    {
     "name": "stdout",
     "output_type": "stream",
     "text": [
      "28 9\n",
      "19 0\n",
      "16 0\n",
      "ADNI_073_S_2225_20110808\n",
      "243 235\n",
      "106 97\n",
      "82 64\n",
      "87 47\n",
      "100 44\n",
      "127 54\n",
      "145 135\n",
      "131 94\n",
      "155 81\n",
      "116 55\n",
      "54 19\n",
      "33 12\n",
      "34 19\n",
      "29 14\n",
      "22 7\n",
      "22 4\n"
     ]
    },
    {
     "name": "stderr",
     "output_type": "stream",
     "text": [
      " 65%|██████████████████████████████████████████████████████████████████████████████████████████████████▍                                                    | 189/290 [20:17<08:17,  4.92s/it]"
     ]
    },
    {
     "name": "stdout",
     "output_type": "stream",
     "text": [
      "21 0\n",
      "25 0\n",
      "ADNI_073_S_2264_20110721\n",
      "287 270\n",
      "158 133\n",
      "123 80\n",
      "198 90\n",
      "258 103\n",
      "355 138\n",
      "210 180\n",
      "251 162\n",
      "370 151\n",
      "254 94\n",
      "117 26\n",
      "39 9\n",
      "62 24\n",
      "62 18\n",
      "64 14\n",
      "59 6\n"
     ]
    },
    {
     "name": "stderr",
     "output_type": "stream",
     "text": [
      " 66%|██████████████████████████████████████████████████████████████████████████████████████████████████▉                                                    | 190/290 [20:25<09:47,  5.87s/it]"
     ]
    },
    {
     "name": "stdout",
     "output_type": "stream",
     "text": [
      "56 0\n",
      "55 0\n",
      "ADNI_073_S_4216_20111206\n",
      "311 301\n",
      "193 182\n",
      "140 129\n",
      "61 49\n",
      "54 38\n",
      "46 27\n",
      "225 214\n",
      "170 157\n",
      "140 125\n",
      "117 95\n",
      "78 51\n",
      "57 38\n",
      "31 19\n",
      "26 14\n",
      "24 12\n"
     ]
    },
    {
     "name": "stderr",
     "output_type": "stream",
     "text": [
      " 66%|███████████████████████████████████████████████████████████████████████████████████████████████████▍                                                   | 191/290 [20:30<09:16,  5.62s/it]"
     ]
    },
    {
     "name": "stdout",
     "output_type": "stream",
     "text": [
      "20 6\n",
      "16 0\n",
      "19 0\n",
      "ADNI_073_S_4300_20111012\n",
      "352 339\n",
      "231 217\n",
      "167 137\n",
      "180 117\n",
      "198 114\n",
      "248 116\n",
      "316 290\n",
      "277 216\n",
      "278 190\n",
      "260 157\n",
      "178 104\n",
      "102 67\n",
      "61 41\n",
      "61 36\n",
      "44 15\n",
      "39 6\n",
      "39 0\n"
     ]
    },
    {
     "name": "stderr",
     "output_type": "stream",
     "text": [
      " 66%|███████████████████████████████████████████████████████████████████████████████████████████████████▉                                                   | 192/290 [20:39<10:33,  6.46s/it]"
     ]
    },
    {
     "name": "stdout",
     "output_type": "stream",
     "text": [
      "38 0\n",
      "ADNI_073_S_4311_20111017\n",
      "136 130\n",
      "115 108\n",
      "76 60\n",
      "94 52\n",
      "158 70\n",
      "200 75\n",
      "138 124\n",
      "151 112\n",
      "194 103\n",
      "149 72\n",
      "95 43\n",
      "37 18\n",
      "32 23\n",
      "29 12\n",
      "24 4\n",
      "27 2\n",
      "30 0\n"
     ]
    },
    {
     "name": "stderr",
     "output_type": "stream",
     "text": [
      " 67%|████████████████████████████████████████████████████████████████████████████████████████████████████▍                                                  | 193/290 [20:44<09:45,  6.04s/it]"
     ]
    },
    {
     "name": "stdout",
     "output_type": "stream",
     "text": [
      "37 0\n",
      "ADNI_073_S_4312_20111017\n",
      "248 239\n",
      "171 160\n",
      "76 64\n",
      "49 30\n",
      "51 26\n",
      "69 27\n",
      "235 224\n",
      "161 145\n",
      "121 88\n",
      "77 44\n",
      "48 23\n",
      "36 11\n",
      "27 11\n",
      "25 8\n",
      "30 8\n",
      "27 3\n",
      "26 0\n"
     ]
    },
    {
     "name": "stderr",
     "output_type": "stream",
     "text": [
      " 67%|█████████████████████████████████████████████████████████████████████████████████████████████████████                                                  | 194/290 [20:48<08:54,  5.57s/it]"
     ]
    },
    {
     "name": "stdout",
     "output_type": "stream",
     "text": [
      "30 0\n",
      "ADNI_073_S_4360_20111104\n",
      "150 147\n",
      "73 68\n",
      "55 40\n",
      "107 40\n",
      "141 44\n",
      "185 55\n",
      "112 102\n",
      "130 83\n",
      "185 80\n",
      "109 41\n",
      "57 17\n",
      "22 8\n",
      "24 12\n",
      "18 5\n",
      "21 7\n",
      "27 7\n",
      "22 0\n"
     ]
    },
    {
     "name": "stderr",
     "output_type": "stream",
     "text": [
      " 67%|█████████████████████████████████████████████████████████████████████████████████████████████████████▌                                                 | 195/290 [20:52<08:14,  5.20s/it]"
     ]
    },
    {
     "name": "stdout",
     "output_type": "stream",
     "text": [
      "18 0\n",
      "ADNI_073_S_4382_20111115\n",
      "150 141\n",
      "97 88\n",
      "71 59\n",
      "67 36\n",
      "78 34\n",
      "98 35\n",
      "119 109\n",
      "102 72\n",
      "123 66\n",
      "105 65\n",
      "44 19\n",
      "26 11\n",
      "22 10\n",
      "18 6\n",
      "18 4\n",
      "18 4\n",
      "16 0\n"
     ]
    },
    {
     "name": "stderr",
     "output_type": "stream",
     "text": [
      " 68%|██████████████████████████████████████████████████████████████████████████████████████████████████████                                                 | 196/290 [20:56<07:24,  4.73s/it]"
     ]
    },
    {
     "name": "stdout",
     "output_type": "stream",
     "text": [
      "12 0\n",
      "ADNI_073_S_4393_20111122\n",
      "444 432\n",
      "245 233\n",
      "154 140\n",
      "104 85\n",
      "85 64\n",
      "86 60\n",
      "341 329\n",
      "219 204\n",
      "147 124\n",
      "134 97\n",
      "104 63\n",
      "61 43\n",
      "48 30\n",
      "34 15\n",
      "31 8\n",
      "29 5\n",
      "25 0\n"
     ]
    },
    {
     "name": "stderr",
     "output_type": "stream",
     "text": [
      " 68%|██████████████████████████████████████████████████████████████████████████████████████████████████████▌                                                | 197/290 [21:03<08:10,  5.27s/it]"
     ]
    },
    {
     "name": "stdout",
     "output_type": "stream",
     "text": [
      "25 0\n",
      "ADNI_073_S_4552_20120524\n",
      "386 363\n",
      "226 199\n",
      "167 132\n",
      "151 93\n",
      "169 96\n",
      "189 101\n",
      "276 249\n",
      "221 179\n",
      "209 144\n",
      "191 105\n",
      "127 76\n",
      "101 65\n",
      "75 42\n",
      "63 22\n",
      "55 9\n",
      "53 5\n"
     ]
    },
    {
     "name": "stderr",
     "output_type": "stream",
     "text": [
      " 68%|███████████████████████████████████████████████████████████████████████████████████████████████████████                                                | 198/290 [21:10<09:12,  6.00s/it]"
     ]
    },
    {
     "name": "stdout",
     "output_type": "stream",
     "text": [
      "50 0\n",
      "51 0\n",
      "ADNI_073_S_4559_20121012\n",
      "489 481\n",
      "441 424\n",
      "281 253\n",
      "198 152\n",
      "212 141\n",
      "228 134\n",
      "460 443\n",
      "406 363\n",
      "341 266\n",
      "275 201\n",
      "212 138\n",
      "161 109\n",
      "86 48\n",
      "75 30\n",
      "69 18\n",
      "66 13\n"
     ]
    },
    {
     "name": "stderr",
     "output_type": "stream",
     "text": [
      " 69%|███████████████████████████████████████████████████████████████████████████████████████████████████████▌                                               | 199/290 [21:22<11:30,  7.58s/it]"
     ]
    },
    {
     "name": "stdout",
     "output_type": "stream",
     "text": [
      "66 0\n",
      "56 0\n",
      "ADNI_073_S_4614_20120919\n",
      "311 305\n",
      "204 198\n",
      "186 179\n",
      "53 45\n",
      "58 40\n",
      "70 40\n",
      "231 225\n",
      "188 181\n",
      "183 169\n",
      "218 192\n",
      "70 46\n",
      "37 22\n",
      "23 12\n",
      "24 11\n",
      "25 9\n"
     ]
    },
    {
     "name": "stderr",
     "output_type": "stream",
     "text": [
      " 69%|████████████████████████████████████████████████████████████████████████████████████████████████████████▏                                              | 200/290 [21:27<10:29,  7.00s/it]"
     ]
    },
    {
     "name": "stdout",
     "output_type": "stream",
     "text": [
      "23 6\n",
      "19 0\n",
      "17 0\n",
      "ADNI_073_S_4739_20121114\n",
      "199 190\n",
      "111 100\n",
      "67 56\n",
      "66 40\n",
      "91 47\n",
      "119 51\n",
      "146 135\n",
      "80 67\n",
      "97 60\n",
      "108 46\n",
      "63 21\n",
      "27 11\n",
      "21 9\n",
      "17 5\n",
      "18 4\n",
      "19 2\n",
      "18 0\n"
     ]
    },
    {
     "name": "stderr",
     "output_type": "stream",
     "text": [
      " 69%|████████████████████████████████████████████████████████████████████████████████████████████████████████▋                                              | 201/290 [21:31<08:59,  6.06s/it]"
     ]
    },
    {
     "name": "stdout",
     "output_type": "stream",
     "text": [
      "19 0\n",
      "ADNI_073_S_4777_20121212\n",
      "345 337\n",
      "212 196\n",
      "178 151\n",
      "155 99\n",
      "183 88\n",
      "235 80\n",
      "267 249\n",
      "234 179\n",
      "334 201\n",
      "343 193\n",
      "200 100\n",
      "84 44\n",
      "37 19\n",
      "35 14\n",
      "36 12\n",
      "34 7\n",
      "33 0\n"
     ]
    },
    {
     "name": "stderr",
     "output_type": "stream",
     "text": [
      " 70%|█████████████████████████████████████████████████████████████████████████████████████████████████████████▏                                             | 202/290 [21:39<09:51,  6.72s/it]"
     ]
    },
    {
     "name": "stdout",
     "output_type": "stream",
     "text": [
      "31 0\n",
      "ADNI_073_S_4795_20120606\n",
      "202 196\n",
      "115 109\n",
      "66 56\n",
      "52 37\n",
      "55 35\n",
      "60 33\n",
      "139 132\n",
      "109 97\n",
      "92 72\n",
      "100 54\n",
      "76 29\n",
      "46 19\n",
      "33 14\n",
      "33 10\n",
      "31 4\n",
      "34 3\n"
     ]
    },
    {
     "name": "stderr",
     "output_type": "stream",
     "text": [
      " 70%|█████████████████████████████████████████████████████████████████████████████████████████████████████████▋                                             | 203/290 [21:43<08:32,  5.89s/it]"
     ]
    },
    {
     "name": "stdout",
     "output_type": "stream",
     "text": [
      "35 0\n",
      "33 0\n",
      "ADNI_073_S_5023_20130403\n",
      "199 194\n",
      "106 100\n",
      "74 60\n",
      "92 55\n",
      "114 61\n",
      "154 59\n",
      "146 138\n",
      "135 99\n",
      "165 94\n",
      "156 78\n",
      "64 30\n",
      "34 13\n",
      "32 22\n",
      "23 11\n",
      "23 7\n",
      "22 4\n"
     ]
    },
    {
     "name": "stderr",
     "output_type": "stream",
     "text": [
      " 70%|██████████████████████████████████████████████████████████████████████████████████████████████████████████▏                                            | 204/290 [21:48<07:55,  5.53s/it]"
     ]
    },
    {
     "name": "stdout",
     "output_type": "stream",
     "text": [
      "22 0\n",
      "21 0\n",
      "ADNI_082_S_2121_20101012\n",
      "209 202\n",
      "108 100\n",
      "73 62\n",
      "63 41\n",
      "63 35\n",
      "63 27\n",
      "134 126\n",
      "100 84\n",
      "78 54\n",
      "83 41\n",
      "60 30\n",
      "32 18\n",
      "29 16\n",
      "24 9\n",
      "25 9\n",
      "23 3\n",
      "25 0\n"
     ]
    },
    {
     "name": "stderr",
     "output_type": "stream",
     "text": [
      " 71%|██████████████████████████████████████████████████████████████████████████████████████████████████████████▋                                            | 205/290 [21:52<07:03,  4.98s/it]"
     ]
    },
    {
     "name": "stdout",
     "output_type": "stream",
     "text": [
      "23 0\n",
      "ADNI_082_S_4090_20110921\n",
      "188 180\n",
      "83 73\n",
      "74 54\n",
      "102 51\n",
      "122 47\n",
      "165 58\n",
      "140 121\n",
      "130 85\n",
      "175 95\n",
      "135 77\n",
      "84 41\n",
      "57 25\n",
      "22 7\n",
      "25 10\n",
      "25 9\n"
     ]
    },
    {
     "name": "stderr",
     "output_type": "stream",
     "text": [
      " 71%|███████████████████████████████████████████████████████████████████████████████████████████████████████████▎                                           | 206/290 [21:56<06:51,  4.90s/it]"
     ]
    },
    {
     "name": "stdout",
     "output_type": "stream",
     "text": [
      "25 7\n",
      "24 0\n",
      "26 0\n",
      "ADNI_082_S_4208_20111207\n",
      "285 275\n",
      "216 203\n",
      "166 148\n",
      "163 114\n",
      "188 109\n",
      "217 107\n",
      "249 232\n",
      "234 192\n",
      "268 179\n",
      "244 162\n",
      "122 80\n",
      "58 47\n",
      "49 31\n",
      "35 17\n",
      "31 11\n",
      "28 6\n",
      "26 0\n"
     ]
    },
    {
     "name": "stderr",
     "output_type": "stream",
     "text": [
      " 71%|███████████████████████████████████████████████████████████████████████████████████████████████████████████▊                                           | 207/290 [22:04<07:44,  5.60s/it]"
     ]
    },
    {
     "name": "stdout",
     "output_type": "stream",
     "text": [
      "24 0\n",
      "ADNI_082_S_4244_20111019\n",
      "312 306\n",
      "202 195\n",
      "149 126\n",
      "180 113\n",
      "224 119\n",
      "290 122\n",
      "262 250\n",
      "244 185\n",
      "344 187\n",
      "359 192\n",
      "225 132\n",
      "87 64\n",
      "34 24\n",
      "27 14\n",
      "36 20\n"
     ]
    },
    {
     "name": "stderr",
     "output_type": "stream",
     "text": [
      " 72%|████████████████████████████████████████████████████████████████████████████████████████████████████████████▎                                          | 208/290 [22:12<08:48,  6.44s/it]"
     ]
    },
    {
     "name": "stdout",
     "output_type": "stream",
     "text": [
      "27 10\n",
      "20 0\n",
      "18 0\n",
      "ADNI_082_S_4339_20111109\n",
      "132 125\n",
      "71 62\n",
      "51 41\n",
      "61 34\n",
      "88 40\n",
      "147 60\n",
      "100 92\n",
      "95 64\n",
      "147 71\n",
      "157 64\n",
      "131 50\n",
      "81 39\n",
      "29 15\n",
      "38 19\n",
      "38 16\n",
      "30 4\n",
      "35 0\n"
     ]
    },
    {
     "name": "stderr",
     "output_type": "stream",
     "text": [
      " 72%|████████████████████████████████████████████████████████████████████████████████████████████████████████████▊                                          | 209/290 [22:16<07:50,  5.81s/it]"
     ]
    },
    {
     "name": "stdout",
     "output_type": "stream",
     "text": [
      "36 0\n",
      "ADNI_100_S_4469_20121023\n",
      "209 202\n",
      "163 156\n",
      "105 98\n",
      "54 44\n",
      "46 34\n",
      "46 27\n",
      "181 174\n",
      "146 138\n",
      "125 110\n",
      "153 132\n",
      "67 39\n",
      "54 30\n",
      "21 9\n",
      "21 5\n",
      "23 5\n",
      "24 4\n",
      "21 0\n"
     ]
    },
    {
     "name": "stderr",
     "output_type": "stream",
     "text": [
      " 72%|█████████████████████████████████████████████████████████████████████████████████████████████████████████████▎                                         | 210/290 [22:21<07:11,  5.39s/it]"
     ]
    },
    {
     "name": "stdout",
     "output_type": "stream",
     "text": [
      "25 0\n",
      "ADNI_100_S_4512_20121106\n",
      "239 226\n",
      "182 163\n",
      "140 115\n",
      "134 74\n",
      "195 88\n",
      "272 102\n",
      "219 198\n",
      "235 158\n",
      "395 190\n",
      "308 148\n",
      "146 87\n",
      "75 41\n",
      "56 26\n",
      "45 11\n",
      "46 11\n",
      "50 12\n",
      "44 0\n"
     ]
    },
    {
     "name": "stderr",
     "output_type": "stream",
     "text": [
      " 73%|█████████████████████████████████████████████████████████████████████████████████████████████████████████████▊                                         | 211/290 [22:29<08:03,  6.12s/it]"
     ]
    },
    {
     "name": "stdout",
     "output_type": "stream",
     "text": [
      "39 0\n",
      "ADNI_100_S_4556_20121126\n",
      "314 300\n",
      "160 152\n",
      "109 96\n",
      "123 72\n",
      "115 57\n",
      "83 37\n",
      "47 18\n",
      "26 10\n",
      "25 7\n",
      "25 5\n"
     ]
    },
    {
     "name": "stderr",
     "output_type": "stream",
     "text": [
      " 96%|████████████████████████████████████████████████████████████████████████████████████████████████████████████████████████████████████████████████▏      | 277/290 [28:42<01:11,  5.51s/it]"
     ]
    },
    {
     "name": "stdout",
     "output_type": "stream",
     "text": [
      "26 5\n",
      "22 0\n",
      "18 0\n",
      "ADNI_153_S_4172_20111031\n",
      "255 248\n",
      "151 142\n",
      "101 83\n",
      "98 54\n",
      "125 51\n",
      "174 66\n",
      "200 186\n",
      "188 139\n",
      "233 128\n",
      "149 87\n",
      "67 35\n",
      "22 10\n",
      "32 18\n",
      "34 15\n",
      "30 10\n",
      "24 4\n",
      "26 0\n"
     ]
    },
    {
     "name": "stderr",
     "output_type": "stream",
     "text": [
      " 96%|████████████████████████████████████████████████████████████████████████████████████████████████████████████████████████████████████████████████▊      | 278/290 [28:48<01:06,  5.53s/it]"
     ]
    },
    {
     "name": "stdout",
     "output_type": "stream",
     "text": [
      "22 0\n",
      "ADNI_153_S_4372_20111130\n",
      "102 96\n",
      "60 53\n",
      "49 40\n",
      "43 26\n",
      "48 26\n",
      "48 21\n",
      "80 73\n",
      "67 53\n",
      "73 42\n",
      "55 31\n",
      "41 21\n",
      "37 13\n",
      "18 7\n",
      "16 5\n",
      "19 5\n"
     ]
    },
    {
     "name": "stderr",
     "output_type": "stream",
     "text": [
      " 96%|█████████████████████████████████████████████████████████████████████████████████████████████████████████████████████████████████████████████████▎     | 279/290 [28:51<00:51,  4.69s/it]"
     ]
    },
    {
     "name": "stdout",
     "output_type": "stream",
     "text": [
      "16 1\n",
      "16 0\n",
      "13 0\n",
      "ADNI_153_S_4621_20121030\n",
      "445 420\n",
      "301 271\n",
      "227 191\n",
      "205 149\n",
      "217 140\n",
      "241 134\n",
      "331 298\n",
      "313 248\n",
      "366 248\n",
      "296 211\n",
      "169 119\n",
      "124 91\n",
      "74 34\n",
      "71 26\n",
      "65 17\n",
      "57 9\n",
      "50 0\n"
     ]
    },
    {
     "name": "stderr",
     "output_type": "stream",
     "text": [
      " 97%|█████████████████████████████████████████████████████████████████████████████████████████████████████████████████████████████████████████████████▊     | 280/290 [29:00<01:02,  6.21s/it]"
     ]
    },
    {
     "name": "stdout",
     "output_type": "stream",
     "text": [
      "48 0\n",
      "ADNI_941_S_1195_20110315\n",
      "193 181\n",
      "108 94\n",
      "98 74\n",
      "106 50\n",
      "130 56\n",
      "144 51\n",
      "159 137\n",
      "149 102\n",
      "142 63\n",
      "126 63\n",
      "64 34\n",
      "40 20\n",
      "29 13\n",
      "32 12\n",
      "30 10\n"
     ]
    },
    {
     "name": "stderr",
     "output_type": "stream",
     "text": [
      " 97%|██████████████████████████████████████████████████████████████████████████████████████████████████████████████████████████████████████████████████▎    | 281/290 [29:05<00:52,  5.79s/it]"
     ]
    },
    {
     "name": "stdout",
     "output_type": "stream",
     "text": [
      "26 4\n",
      "24 0\n",
      "19 0\n",
      "ADNI_941_S_2060_20101206\n",
      "286 275\n",
      "164 147\n",
      "160 96\n",
      "349 106\n",
      "546 146\n",
      "776 215\n",
      "253 200\n",
      "515 217\n",
      "634 224\n",
      "473 240\n",
      "143 58\n",
      "31 9\n",
      "41 21\n",
      "44 20\n",
      "45 15\n",
      "44 10\n"
     ]
    },
    {
     "name": "stderr",
     "output_type": "stream",
     "text": [
      " 97%|██████████████████████████████████████████████████████████████████████████████████████████████████████████████████████████████████████████████████▊    | 282/290 [29:18<01:03,  7.91s/it]"
     ]
    },
    {
     "name": "stdout",
     "output_type": "stream",
     "text": [
      "42 0\n",
      "44 0\n",
      "ADNI_941_S_4036_20111006\n",
      "234 224\n",
      "160 150\n",
      "130 113\n",
      "81 53\n",
      "75 42\n",
      "66 31\n",
      "186 173\n",
      "154 136\n",
      "135 110\n",
      "117 85\n",
      "42 29\n",
      "22 15\n",
      "17 6\n",
      "15 2\n"
     ]
    },
    {
     "name": "stderr",
     "output_type": "stream",
     "text": [
      " 98%|███████████████████████████████████████████████████████████████████████████████████████████████████████████████████████████████████████████████████▎   | 283/290 [29:23<00:48,  6.87s/it]"
     ]
    },
    {
     "name": "stdout",
     "output_type": "stream",
     "text": [
      "14 1\n",
      "13 0\n",
      "13 0\n",
      "11 0\n",
      "ADNI_941_S_4100_20111003\n",
      "228 211\n",
      "194 165\n",
      "198 130\n",
      "326 110\n",
      "498 141\n",
      "758 197\n",
      "267 209\n",
      "444 232\n",
      "723 268\n",
      "561 208\n",
      "205 60\n",
      "45 21\n",
      "51 23\n",
      "44 15\n",
      "42 12\n",
      "39 5\n"
     ]
    },
    {
     "name": "stderr",
     "output_type": "stream",
     "text": [
      " 98%|███████████████████████████████████████████████████████████████████████████████████████████████████████████████████████████████████████████████████▉   | 284/290 [29:35<00:51,  8.62s/it]"
     ]
    },
    {
     "name": "stdout",
     "output_type": "stream",
     "text": [
      "39 0\n",
      "41 0\n",
      "ADNI_941_S_4187_20111128\n",
      "239 237\n",
      "223 216\n",
      "133 124\n",
      "58 33\n",
      "76 32\n",
      "113 43\n",
      "238 231\n",
      "216 202\n",
      "215 173\n",
      "198 124\n",
      "92 46\n",
      "40 22\n",
      "32 15\n",
      "30 10\n",
      "26 5\n",
      "31 4\n"
     ]
    },
    {
     "name": "stderr",
     "output_type": "stream",
     "text": [
      " 98%|████████████████████████████████████████████████████████████████████████████████████████████████████████████████████████████████████████████████████▍  | 285/290 [29:41<00:38,  7.78s/it]"
     ]
    },
    {
     "name": "stdout",
     "output_type": "stream",
     "text": [
      "37 0\n",
      "33 0\n",
      "ADNI_941_S_4255_20111202\n",
      "354 351\n",
      "200 194\n",
      "112 98\n",
      "105 56\n",
      "141 58\n",
      "174 64\n",
      "288 280\n",
      "215 180\n",
      "216 128\n",
      "179 86\n",
      "101 57\n",
      "58 24\n",
      "24 15\n",
      "24 12\n",
      "28 12\n"
     ]
    },
    {
     "name": "stderr",
     "output_type": "stream",
     "text": [
      " 99%|████████████████████████████████████████████████████████████████████████████████████████████████████████████████████████████████████████████████████▉  | 286/290 [29:48<00:29,  7.39s/it]"
     ]
    },
    {
     "name": "stdout",
     "output_type": "stream",
     "text": [
      "28 8\n",
      "21 0\n",
      "21 0\n",
      "ADNI_941_S_4292_20111205\n",
      "184 178\n",
      "87 79\n",
      "56 46\n",
      "72 32\n",
      "84 33\n",
      "112 40\n",
      "119 110\n",
      "109 81\n",
      "125 59\n",
      "119 60\n",
      "67 32\n",
      "33 12\n",
      "25 12\n",
      "23 6\n",
      "22 5\n",
      "23 4\n",
      "25 0\n"
     ]
    },
    {
     "name": "stderr",
     "output_type": "stream",
     "text": [
      " 99%|█████████████████████████████████████████████████████████████████████████████████████████████████████████████████████████████████████████████████████▍ | 287/290 [29:52<00:19,  6.35s/it]"
     ]
    },
    {
     "name": "stdout",
     "output_type": "stream",
     "text": [
      "23 0\n",
      "ADNI_941_S_4365_20111122\n",
      "361 351\n",
      "205 194\n",
      "168 149\n",
      "161 102\n",
      "196 115\n",
      "235 108\n",
      "254 241\n",
      "231 182\n",
      "291 189\n",
      "283 178\n",
      "184 117\n",
      "103 65\n",
      "52 28\n",
      "46 20\n",
      "43 17\n",
      "35 7\n",
      "32 0\n"
     ]
    },
    {
     "name": "stderr",
     "output_type": "stream",
     "text": [
      " 99%|█████████████████████████████████████████████████████████████████████████████████████████████████████████████████████████████████████████████████████▉ | 288/290 [30:00<00:13,  6.86s/it]"
     ]
    },
    {
     "name": "stdout",
     "output_type": "stream",
     "text": [
      "30 0\n",
      "ADNI_941_S_4376_20110601\n",
      "290 264\n",
      "161 131\n",
      "160 113\n",
      "200 93\n",
      "248 97\n",
      "327 116\n",
      "218 185\n",
      "274 174\n",
      "342 158\n",
      "256 129\n",
      "133 48\n",
      "54 25\n",
      "55 22\n",
      "43 7\n",
      "40 2\n",
      "41 0\n"
     ]
    },
    {
     "name": "stderr",
     "output_type": "stream",
     "text": [
      "100%|██████████████████████████████████████████████████████████████████████████████████████████████████████████████████████████████████████████████████████▍| 289/290 [30:08<00:07,  7.24s/it]"
     ]
    },
    {
     "name": "stdout",
     "output_type": "stream",
     "text": [
      "44 0\n",
      "48 0\n",
      "ADNI_941_S_4764_20120820\n",
      "151 144\n",
      "78 68\n",
      "72 56\n",
      "133 55\n",
      "205 72\n",
      "277 83\n",
      "105 88\n",
      "148 81\n",
      "225 100\n",
      "198 80\n",
      "172 58\n",
      "91 19\n",
      "16 6\n",
      "21 8\n",
      "17 3\n",
      "19 1\n",
      "19 0\n"
     ]
    },
    {
     "name": "stderr",
     "output_type": "stream",
     "text": [
      "100%|███████████████████████████████████████████████████████████████████████████████████████████████████████████████████████████████████████████████████████| 290/290 [30:13<00:00,  6.25s/it]"
     ]
    },
    {
     "name": "stdout",
     "output_type": "stream",
     "text": [
      "19 0\n"
     ]
    },
    {
     "name": "stderr",
     "output_type": "stream",
     "text": [
      "\n"
     ]
    }
   ],
   "source": [
    "data = {}\n",
    "failed_ids = []\n",
    "for idx in tqdm(range(len(IDs)), position=0, leave=True):\n",
    "    ID = IDs[idx][0]\n",
    "    print(ID)\n",
    "    try:\n",
    "        vmap = vent_maps[idx].cuda()\n",
    "        smap = output_maps_for_pred[IDs[idx][1]][2].cuda()\n",
    "        smap_expanded = get_edge_expanded_seg(smap)\n",
    "        seg_volume = smap.sum().item()\n",
    "        vent_volume = vmap.sum().item()\n",
    "        vmap_ds = downsample_3d(vmap)\n",
    "\n",
    "        ind_data = {}\n",
    "\n",
    "        for input_type in [\"ent\", \"var\", \"pred\"]:\n",
    "            if input_type == \"ent\":\n",
    "                umap = output_maps_for_umaps[IDs[idx][1]][0].cuda()\n",
    "                ts = [0.1, 0.2, 0.3, 0.4, 0.45, 0.5]\n",
    "                maxv = 0.7\n",
    "            elif input_type == \"var\":\n",
    "                umap = output_maps_for_umaps[IDs[idx][1]][3].cuda()\n",
    "                ts = [0.01, 0.03, 0.06, 0.09, 0.12, 0.15]\n",
    "                maxv = 0.2\n",
    "            elif input_type == \"pred\":\n",
    "                umap = output_maps_for_pred[IDs[idx][1]][1].cuda()\n",
    "                ts = [0.1, 0.2, 0.3, 0.4, 0.5, 0.6]\n",
    "                maxv = 1.0\n",
    "            else:\n",
    "                raise ValueError  \n",
    "\n",
    "            umap_ds = downsample_3d(umap)\n",
    "\n",
    "            collected_data_t = {}\n",
    "\n",
    "            for t in ts:\n",
    "                ut = umap > t\n",
    "                umap_values = umap[ut]\n",
    "\n",
    "                #### summary statistics\n",
    "                sum, mean, std, skew, kurtosis = gaussian_summary_statistics(umap_values.cpu())\n",
    "                values_hist = histogram_distribution(umap_values, bins=20, minv=t, maxv=maxv)\n",
    "\n",
    "                #### overlap statistics\n",
    "                intersection = (ut * smap).sum()\n",
    "                expanded_intersection = (ut * smap_expanded).sum()\n",
    "\n",
    "                prop_umap_segmented = (intersection / ut.sum()).item()\n",
    "                prop_umap_within_expanded_seg = (expanded_intersection / ut.sum()).item()\n",
    "                prop_seg_uncertain = (intersection / smap.sum()).item()\n",
    "\n",
    "                ### ventricle distance statistics\n",
    "                ut_ds = umap_ds > t\n",
    "                distances_closest, distance_map = min_distances(ut_ds, vmap_ds)\n",
    "                distance_map = F.interpolate(distance_map.view(1, 1, *distance_map.shape), umap.shape, mode='trilinear').squeeze()\n",
    "                _, dist_mean, dist_std, dist_skew, dist_kurt = gaussian_summary_statistics(distances_closest.cpu())\n",
    "                umap_ds_values = umap_ds[ut_ds]\n",
    "                dist_value_joint = joint_hist_values({\"x\":distances_closest, \"y\":umap_ds_values}, x=\"x\", y=\"y\", minx=0, maxx=30, miny=t, maxy=maxv, bins=5).cpu()\n",
    "\n",
    "                ### connected component analysis statistics\n",
    "                conn_comps = get_conn_comps(ut)\n",
    "                cc_data = conn_comp_basic_stats(umap, conn_comps, smap, distance_map)\n",
    "                cc_data[\"log_sizes\"] = torch.Tensor(cc_data[\"sizes\"]).log()\n",
    "                cc_size_dist_joint = joint_hist_values(cc_data, \"log_sizes\", \"vent_dists\", 0, 8, 0, 10, 5).cpu()\n",
    "\n",
    "                # recorded values\n",
    "                all_data = {}\n",
    "                for key, value in cc_data.items():\n",
    "                    all_data[\"cc_\" + key] = value\n",
    "                all_data[\"sum\"] = sum\n",
    "                all_data[\"mean\"] = mean\n",
    "                all_data[\"std\"] = std\n",
    "                all_data[\"skew\"] = skew\n",
    "                all_data[\"kurtosis\"] = kurtosis\n",
    "                all_data[\"prop_umap_segmented\"] = prop_umap_segmented\n",
    "                all_data[\"prop_umap_within_expanded_seg\"] = prop_umap_within_expanded_seg\n",
    "                all_data[\"prop_seg_uncertain\"] = prop_seg_uncertain\n",
    "                all_data[\"dist_mean\"] = dist_mean\n",
    "                all_data[\"dist_std\"] = dist_std\n",
    "                all_data[\"dist_skew\"] = dist_skew\n",
    "                all_data[\"dist_kurt\"] = dist_kurt\n",
    "                all_data[\"dist_value_joint\"] = dist_value_joint\n",
    "                all_data[\"cc_dist_value_joint\"] = cc_size_dist_joint\n",
    "                all_data[\"seg_volume\"] = seg_volume\n",
    "                all_data[\"vent_volume\"] = vent_volume\n",
    "                all_data[\"values_hist\"] = values_hist\n",
    "\n",
    "                print(all_data[\"cc_num\"], all_data[\"cc_unsegmented_ccs\"])\n",
    "                collected_data_t[str(t)] = all_data\n",
    "\n",
    "\n",
    "                # break\n",
    "\n",
    "            ind_data[input_type] = collected_data_t\n",
    "            # break\n",
    "\n",
    "        data[ID] = ind_data\n",
    "        # break\n",
    "    except:\n",
    "        failed_ids.append((idx, ID))\n",
    "        "
   ]
  },
  {
   "cell_type": "code",
   "execution_count": 82,
   "id": "0390c9fa-e5c2-4dcf-a388-12e8c6807b72",
   "metadata": {},
   "outputs": [
    {
     "data": {
      "text/plain": [
       "dict_keys(['ent', 'var', 'pred'])"
      ]
     },
     "execution_count": 82,
     "metadata": {},
     "output_type": "execute_result"
    }
   ],
   "source": [
    "data['ADNI_002_S_0729_20110816'].keys()"
   ]
  },
  {
   "cell_type": "code",
   "execution_count": 83,
   "id": "1f00649e-426e-41b2-9c35-fd91650affeb",
   "metadata": {},
   "outputs": [],
   "source": [
    "example_data = data['ADNI_002_S_0729_20110816']"
   ]
  },
  {
   "cell_type": "code",
   "execution_count": 84,
   "id": "1af428f3-69c6-4076-a725-4a571eb25549",
   "metadata": {},
   "outputs": [
    {
     "data": {
      "text/plain": [
       "dict_keys(['cc_num', 'cc_sizes', 'cc_means', 'cc_stds', 'cc_skews', 'cc_kurts', 'cc_vent_dists', 'cc_unsegmented_ccs', 'cc_size_mean', 'cc_size_std', 'cc_size_skew', 'cc_size_kurt', 'cc_vd_mean', 'cc_vd_std', 'cc_vd_skew', 'cc_vd_kurt', 'cc_log_sizes', 'sum', 'mean', 'std', 'skew', 'kurtosis', 'prop_umap_segmented', 'prop_umap_within_expanded_seg', 'prop_seg_uncertain', 'dist_mean', 'dist_std', 'dist_skew', 'dist_kurt', 'dist_value_joint', 'cc_dist_value_joint', 'seg_volume', 'vent_volume', 'values_hist'])"
      ]
     },
     "execution_count": 84,
     "metadata": {},
     "output_type": "execute_result"
    }
   ],
   "source": [
    "example_data['ent']['0.45'].keys()"
   ]
  },
  {
   "cell_type": "code",
   "execution_count": 85,
   "id": "1ded3a69-4def-4372-9865-af1e389bbc2e",
   "metadata": {},
   "outputs": [
    {
     "data": {
      "text/plain": [
       "[0.2511848211288452,\n",
       " 0.09478673338890076,\n",
       " 0.004739336669445038,\n",
       " 0.0,\n",
       " 0.0,\n",
       " 0.20379146933555603,\n",
       " 0.04265403002500534,\n",
       " 0.004739336669445038,\n",
       " 0.0,\n",
       " 0.0,\n",
       " 0.17061612010002136,\n",
       " 0.04739336669445038,\n",
       " 0.0,\n",
       " 0.0,\n",
       " 0.0,\n",
       " 0.09004739671945572,\n",
       " 0.0071090045385062695,\n",
       " 0.002369668334722519,\n",
       " 0.0,\n",
       " 0.0,\n",
       " 0.07109005004167557,\n",
       " 0.009478673338890076,\n",
       " 0.0,\n",
       " 0.0,\n",
       " 0.0]"
      ]
     },
     "execution_count": 85,
     "metadata": {},
     "output_type": "execute_result"
    }
   ],
   "source": [
    "example_data['ent']['0.45']['dist_value_joint'].view(-1).tolist()"
   ]
  },
  {
   "cell_type": "code",
   "execution_count": 86,
   "id": "ebcd0f33-21f4-497c-80f9-f72c7c1320b7",
   "metadata": {},
   "outputs": [],
   "source": [
    "row_data = example_data['ent']['0.45']"
   ]
  },
  {
   "cell_type": "code",
   "execution_count": 87,
   "id": "e39ef700-4103-4048-ae90-6dae3a101935",
   "metadata": {},
   "outputs": [
    {
     "data": {
      "text/plain": [
       "dict_keys(['cc_num', 'cc_sizes', 'cc_means', 'cc_stds', 'cc_skews', 'cc_kurts', 'cc_vent_dists', 'cc_unsegmented_ccs', 'cc_size_mean', 'cc_size_std', 'cc_size_skew', 'cc_size_kurt', 'cc_vd_mean', 'cc_vd_std', 'cc_vd_skew', 'cc_vd_kurt', 'cc_log_sizes', 'sum', 'mean', 'std', 'skew', 'kurtosis', 'prop_umap_segmented', 'prop_umap_within_expanded_seg', 'prop_seg_uncertain', 'dist_mean', 'dist_std', 'dist_skew', 'dist_kurt', 'dist_value_joint', 'cc_dist_value_joint', 'seg_volume', 'vent_volume', 'values_hist'])"
      ]
     },
     "execution_count": 87,
     "metadata": {},
     "output_type": "execute_result"
    }
   ],
   "source": [
    "row_data.keys()"
   ]
  },
  {
   "cell_type": "code",
   "execution_count": 88,
   "id": "0c18f0f5-8e8a-4764-9518-dd413a12db27",
   "metadata": {},
   "outputs": [],
   "source": [
    "import pandas as pd"
   ]
  },
  {
   "cell_type": "code",
   "execution_count": 92,
   "id": "4428a6cf-b376-4c46-b1a4-f44563314a15",
   "metadata": {},
   "outputs": [
    {
     "name": "stderr",
     "output_type": "stream",
     "text": [
      "100%|███████████████████████████████████████████████████████████████████████████████████████████████████████████████████████████████████████████████████████| 286/286 [00:03<00:00, 75.32it/s]\n"
     ]
    }
   ],
   "source": [
    "pd_dfs = defaultdict(lambda : defaultdict(lambda : defaultdict(lambda : [])))\n",
    "pd_other_data_dfs = defaultdict(lambda : [])\n",
    "\n",
    "for ID_key in tqdm(natsorted(data.keys()), position=0, leave=True):\n",
    "    ind_data = data[ID_key]\n",
    "    for input_key in natsorted(ind_data.keys()):\n",
    "        map_type_data = ind_data[input_key]\n",
    "        for t_key in natsorted(map_type_data.keys()):\n",
    "            row_data = map_type_data[t_key]\n",
    "            \n",
    "            #row = []\n",
    "            pd_dfs[input_key][t_key]['ID'].append(ID_key)\n",
    "            for key in ['cc_num', 'cc_unsegmented_ccs', 'cc_size_mean', 'cc_size_std', 'cc_size_skew', 'cc_size_kurt', 'cc_vd_mean', 'cc_vd_std', 'cc_vd_skew', 'cc_vd_kurt', 'sum', 'mean', 'std', 'skew', 'kurtosis', 'prop_umap_segmented', 'prop_umap_within_expanded_seg', 'prop_seg_uncertain', 'dist_mean', 'dist_std', 'dist_skew', 'dist_kurt', 'dist_value_joint', 'cc_dist_value_joint', 'seg_volume', 'vent_volume', 'values_hist']:\n",
    "                if 'joint' not in key and 'hist' not in key:\n",
    "                    #row.append((key, row_data[key]))\n",
    "                    pd_dfs[input_key][t_key][key].append(row_data[key])\n",
    "                else:\n",
    "                    table_vals = row_data[key].view(-1).tolist()\n",
    "                    for i in range(len(table_vals)):\n",
    "                        #row.append((f\"{key}_{i}\", table_vals[i]))\n",
    "                        pd_dfs[input_key][t_key][f\"{key}_{i}\"].append(table_vals[i])\n",
    "                        \n",
    "            for key in ['cc_sizes', 'cc_means', 'cc_stds', 'cc_skews', 'cc_kurts', 'cc_vent_dists', 'cc_log_sizes']:\n",
    "                pd_other_data_dfs[key].extend(row_data[key])\n",
    "            pd_other_data_dfs[\"id\"].extend([f\"{ID_key}_{input_key}_{t_key}\" for _ in range(len(row_data['cc_sizes']))])"
   ]
  },
  {
   "cell_type": "code",
   "execution_count": 93,
   "id": "9d02276f-8234-4486-81c6-d613c0706d8d",
   "metadata": {},
   "outputs": [
    {
     "name": "stderr",
     "output_type": "stream",
     "text": [
      "100%|███████████████████████████████████████████████████████████████████████████████████████████████████████████████████████████████████████████████████████████| 3/3 [00:01<00:00,  1.86it/s]\n"
     ]
    }
   ],
   "source": [
    "# save the summary statistics\n",
    "ind_data = data[list(data.keys())[0]]\n",
    "for input_key in tqdm(natsorted(ind_data.keys()), position=0, leave=True):\n",
    "    map_type_data = ind_data[input_key]\n",
    "    for t_key in natsorted(map_type_data.keys()):\n",
    "        df = pd.DataFrame(pd_dfs[input_key][t_key])\n",
    "        df.to_csv(f\"umap_data_spreadsheets/ADNI/{input_key}_{t_key}.csv\")\n",
    "        \n",
    "    "
   ]
  },
  {
   "cell_type": "code",
   "execution_count": 94,
   "id": "a67c37fd-7ee2-4314-a315-c04d75652a1a",
   "metadata": {},
   "outputs": [],
   "source": [
    "# save the per individual connected component statistic\n",
    "np_df = {}\n",
    "for key in pd_other_data_dfs.keys():\n",
    "    np_df[key] = np.array(pd_other_data_dfs[key])\n",
    "np.save(\"umap_data_spreadsheets/ADNI/connected_component_data.npy\", np_df)"
   ]
  },
  {
   "cell_type": "code",
   "execution_count": 158,
   "id": "67a3df88-370b-4734-9a19-0ae545482ac2",
   "metadata": {},
   "outputs": [
    {
     "data": {
      "text/plain": [
       "array(['ADNI_002_S_0729_20110816_ent_0.1',\n",
       "       'ADNI_002_S_0729_20110816_ent_0.1',\n",
       "       'ADNI_002_S_0729_20110816_ent_0.1', ...,\n",
       "       'ADNI_941_S_4764_20120820_var_0.15',\n",
       "       'ADNI_941_S_4764_20120820_var_0.15',\n",
       "       'ADNI_941_S_4764_20120820_var_0.15'], dtype='<U33')"
      ]
     },
     "execution_count": 158,
     "metadata": {},
     "output_type": "execute_result"
    }
   ],
   "source": [
    "np.array(pd_other_data_dfs['id'])"
   ]
  },
  {
   "cell_type": "code",
   "execution_count": 160,
   "id": "c741287a-508a-447f-8668-75d6301d2901",
   "metadata": {},
   "outputs": [
    {
     "data": {
      "text/plain": [
       "defaultdict(<function __main__.<lambda>()>,\n",
       "            {'cc_sizes': array([  1,   1, 490, ...,   1,   1,   3]),\n",
       "             'cc_means': array([0.13346593, 0.17618921, 0.28443772, ..., 0.15607032, 0.16764523,\n",
       "                    0.1954367 ]),\n",
       "             'cc_stds': array([       nan,        nan, 0.11580656, ...,        nan,        nan,\n",
       "                    0.02121089]),\n",
       "             'cc_skews': array([        nan,         nan,  0.22686591, ...,         nan,\n",
       "                            nan, -0.66704236]),\n",
       "             'cc_kurts': array([       nan,        nan, 2.1985433 , ...,        nan,        nan,\n",
       "                    1.50000003]),\n",
       "             'cc_vent_dists': array([0.        , 0.        , 5.00307798, ..., 0.        , 0.        ,\n",
       "                    0.        ]),\n",
       "             'cc_log_sizes': array([0.       , 0.       , 6.1944056, ..., 0.       , 0.       ,\n",
       "                    1.0986123], dtype=float32),\n",
       "             'id': array(['ADNI_002_S_0729_20110816_ent_0.1',\n",
       "                    'ADNI_002_S_0729_20110816_ent_0.1',\n",
       "                    'ADNI_002_S_0729_20110816_ent_0.1', ...,\n",
       "                    'ADNI_941_S_4764_20120820_var_0.15',\n",
       "                    'ADNI_941_S_4764_20120820_var_0.15',\n",
       "                    'ADNI_941_S_4764_20120820_var_0.15'], dtype='<U33')})"
      ]
     },
     "execution_count": 160,
     "metadata": {},
     "output_type": "execute_result"
    }
   ],
   "source": [
    "pd_other_data_dfs"
   ]
  },
  {
   "cell_type": "markdown",
   "id": "dee81e2c-c384-4002-be38-dcd8378887b1",
   "metadata": {},
   "source": [
    "### building the clinscore dataset"
   ]
  },
  {
   "cell_type": "code",
   "execution_count": 1,
   "id": "29982f7c-939d-49f6-b8de-bbf0acb97e38",
   "metadata": {},
   "outputs": [
    {
     "name": "stdout",
     "output_type": "stream",
     "text": [
      "strawberry\n",
      "banana\n"
     ]
    }
   ],
   "source": [
    "# trainer\n",
    "print(\"strawberry\")\n",
    "from trustworthai.utils.fitting_and_inference.fitters.basic_lightning_fitter import StandardLitModelWrapper\n",
    "from trustworthai.utils.fitting_and_inference.get_trainer import get_trainer\n",
    "\n",
    "# data\n",
    "from twaidata.torchdatasets.MRI_3D_nolabels_inram_ds import MRI_3D_nolabels_inram_ds\n",
    "\n",
    "# packages\n",
    "import os\n",
    "import numpy as np\n",
    "import pandas as pd\n",
    "import matplotlib.pyplot as plt\n",
    "import torch\n",
    "from torchinfo import summary\n",
    "from tqdm import tqdm\n",
    "from collections import defaultdict\n",
    "from natsort import natsorted\n",
    "import torchmetrics\n",
    "print(\"banana\")"
   ]
  },
  {
   "cell_type": "markdown",
   "id": "b3448abb-7ecc-4bfa-95b0-7bb6ccfd4269",
   "metadata": {},
   "source": [
    "### Loading ADNI spreadsheets"
   ]
  },
  {
   "cell_type": "code",
   "execution_count": 2,
   "id": "1489a2eb-cc47-40d5-a818-48f2f91e484f",
   "metadata": {},
   "outputs": [
    {
     "name": "stderr",
     "output_type": "stream",
     "text": [
      "/home/s2208943/miniconda3/envs/uq/lib/python3.10/site-packages/openpyxl/worksheet/_reader.py:312: UserWarning: Unknown extension is not supported and will be removed\n",
      "  warn(msg)\n"
     ]
    }
   ],
   "source": [
    "adni_dir = \"/home/s2208943/ipdis/data/ADNI_data/\"\n",
    "spreadsheet_dir = adni_dir\n",
    "# dataset with clinical variables (e.g age, and a bunch of other factors)\n",
    "variables_df = pd.read_excel(spreadsheet_dir + \"ADNI_300_Variables_for_Analysis.xlsx\")"
   ]
  },
  {
   "cell_type": "code",
   "execution_count": 3,
   "id": "c5706528-8528-4bbe-bdd0-8ad1fdd93e67",
   "metadata": {},
   "outputs": [
    {
     "data": {
      "text/plain": [
       "[('Unnamed: 0', 'Patient ID'),\n",
       " ('GENERAL INFO ', 'DX.bl'),\n",
       " ('Unnamed: 2', 'AGE'),\n",
       " ('Unnamed: 3', 'PTGENDER'),\n",
       " ('Unnamed: 4', 'PTEDUCAT'),\n",
       " ('Unnamed: 5', 'PTRACCAT'),\n",
       " ('Unnamed: 6', 'APOE4'),\n",
       " ('BASELINE BRAIN MEASUREMENTS (% of ICV)', 'Ventricles_bl %'),\n",
       " ('Unnamed: 8', 'Hippocampus_bl %'),\n",
       " ('Unnamed: 9', 'WholeBrain_bl %'),\n",
       " ('Unnamed: 10', 'Entorhinal_bl %'),\n",
       " ('Unnamed: 11', 'Fusiform_bl %'),\n",
       " ('Unnamed: 12', 'MidTemp_bl %'),\n",
       " ('IMAGE ANALYSIS FINDINGS ', 'BMB Y1 Count'),\n",
       " ('Unnamed: 14', 'BMB Y2 Count'),\n",
       " ('Unnamed: 15', 'BMB Y3 Count'),\n",
       " ('MEDICAL HISTORY', 'VSBPDIA'),\n",
       " ('Unnamed: 17', 'VSBPSYS'),\n",
       " ('Unnamed: 18', 'VSPULSE'),\n",
       " ('Unnamed: 19', 'BMI'),\n",
       " ('Unnamed: 20', 'CV RISK FACTORS'),\n",
       " ('Unnamed: 21', 'E-M RISK FACTORS')]"
      ]
     },
     "execution_count": 3,
     "metadata": {},
     "output_type": "execute_result"
    }
   ],
   "source": [
    "list(variables_df.iloc[0].items())"
   ]
  },
  {
   "cell_type": "code",
   "execution_count": 4,
   "id": "fb218b88-610f-4be6-91ff-a6ef62917c54",
   "metadata": {},
   "outputs": [
    {
     "name": "stderr",
     "output_type": "stream",
     "text": [
      "/home/s2208943/miniconda3/envs/uq/lib/python3.10/site-packages/openpyxl/worksheet/_reader.py:312: UserWarning: Unknown extension is not supported and will be removed\n",
      "  warn(msg)\n"
     ]
    }
   ],
   "source": [
    "# dataset with fazekas ratings by Maria. I only have 290 of the 298 due to a few images missing matches, which is a shame\n",
    "# but hopefully this is enough information. Nice.\n",
    "ratings_df = pd.read_excel(spreadsheet_dir + \"ADNI_300_Sample_MVH_ratings.xlsx\")"
   ]
  },
  {
   "cell_type": "code",
   "execution_count": 5,
   "id": "a27facda-bf45-471f-9926-bd2caf82827a",
   "metadata": {},
   "outputs": [],
   "source": [
    "def normalize_column(df, column_id):\n",
    "    # normalizes a column (not inlcuding nan values)\n",
    "    values = df[column_id].values.astype(np.float32)\n",
    "    values = values[~np.isnan(values)]\n",
    "    mean = values.mean()\n",
    "    std = values.std()\n",
    "    df[column_id] = (df[column_id].values - mean)/std"
   ]
  },
  {
   "cell_type": "code",
   "execution_count": 6,
   "id": "a2fecfd0-ea63-4dfb-a3c6-683f2358729c",
   "metadata": {},
   "outputs": [],
   "source": [
    "def one_hot_encode(df, field, remove_original=True):\n",
    "    \"\"\"computes a one hot encoding of the given field\"\"\"\n",
    "    \n",
    "    onehot_cols = pd.get_dummies(df[field], prefix=field)\n",
    "    \n",
    "    if remove_original:\n",
    "        df = df.drop(columns=[field], inplace=False)\n",
    "        \n",
    "    df = pd.concat([df, onehot_cols], axis=1)\n",
    "    \n",
    "    return df\n",
    "    "
   ]
  },
  {
   "cell_type": "code",
   "execution_count": 7,
   "id": "26831f8b-ca64-4043-bb09-2b78d110977b",
   "metadata": {},
   "outputs": [],
   "source": [
    "def convert_symbol_to_nan(df, field, symbol):\n",
    "    df = df.copy()\n",
    "    \"\"\"\n",
    "    converts all inputs conforming to 'symbol' to np.nan for the given 'field' in the 'df'\n",
    "    e.g if symbol=' ' and field='totalChl' then any instances of ' ' in the 'totalChl' column will be replaced with np.nan\n",
    "    \"\"\"\n",
    "    values = df[field].values\n",
    "    locs = values == symbol\n",
    "    values[locs] = np.nan\n",
    "    \n",
    "    df[field] = values\n",
    "    \n",
    "    return df"
   ]
  },
  {
   "cell_type": "code",
   "execution_count": 8,
   "id": "54f4749c-5458-4070-87b2-f3f8277380a9",
   "metadata": {},
   "outputs": [],
   "source": [
    "def filter_rows_with_nans(df, field, inplace=False):\n",
    "    \"\"\"\n",
    "    removes all rows from df which have nan for the given field value\n",
    "    \"\"\"\n",
    "    values = df[field].values.astype(np.float32)\n",
    "    nan_locs = np.where(np.isnan(values))[0]\n",
    "    df = df.drop(nan_locs, inplace=inplace)\n",
    "    df = df.reset_index(drop=True)\n",
    "    \n",
    "    return df"
   ]
  },
  {
   "cell_type": "code",
   "execution_count": 9,
   "id": "0b158987-083a-4e41-9caa-1152a9ff5ec7",
   "metadata": {},
   "outputs": [],
   "source": [
    "def prepare_ADNI_dfs(\n",
    "    ratings_df, variables_df,\n",
    "    selected_columns=[\n",
    "        'Patient ID', 'AGE', 'Ventricles_bl %', 'Hippocampus_bl %',\n",
    "        'WholeBrain_bl %', 'Entorhinal_bl %', 'Fusiform_bl %',\n",
    "        'MidTemp_bl %', 'BMI', 'DX.bl', 'CV RISK FACTORS', 'APOE4',\n",
    "        'WMH_PV', 'WMH_Deep', 'Total', 'PTGENDER', 'E-M RISK FACTORS',\n",
    "    ]):\n",
    "    \n",
    "    r_df = ratings_df.copy()\n",
    "    v_df = variables_df.copy()\n",
    "\n",
    "    # in the variables df, put all the column headings actually in the heading,\n",
    "    variables_heading_map = {\n",
    "        key:column_heading \n",
    "        for (column_heading, key) in v_df.iloc[0].items()\n",
    "    }\n",
    "    for key, column_heading in variables_heading_map.items():\n",
    "        v_df[key] = v_df[column_heading].values\n",
    "        v_df = v_df.drop(columns=[column_heading], inplace=False)\n",
    "    \n",
    "    \n",
    "    # remove any * characters and ' ' from patient IDs\n",
    "    r_df['Patient ID'] = [str(pid).replace('*', '').replace(' ', '') for pid in r_df['Patient ID'].values]\n",
    "    v_df['Patient ID'] = [str(pid).replace('*', '').replace(' ', '') for pid in v_df['Patient ID'].values]\n",
    "    \n",
    "    # remove any rows that do not have a patient ID. patient ID can be detected due to having a '_S_' string in it.\n",
    "    pid_locs_rdf = ['_S_' in pid for pid in r_df['Patient ID'].values]\n",
    "    pid_locs_vdf = ['_S_' in pid for pid in v_df['Patient ID'].values]\n",
    "    r_df = r_df.loc[pid_locs_rdf]\n",
    "    v_df = v_df.loc[pid_locs_vdf]\n",
    "    \n",
    "    # join the two dataframes\n",
    "    df = pd.merge(r_df, v_df, how='left')\n",
    "    \n",
    "    print(df.keys())\n",
    "    \n",
    "    # drop any column that isn't selected\n",
    "    df = df[selected_columns]\n",
    "    \n",
    "    # normalize columns\n",
    "    for norm_column in ['AGE', 'Ventricles_bl %', 'Hippocampus_bl %', 'WholeBrain_bl %', 'Entorhinal_bl %', 'Fusiform_bl %', 'MidTemp_bl %', 'BMI', 'PTEDUCAT', 'PTRACCAT']:\n",
    "        if norm_column in selected_columns:\n",
    "            normalize_column(df, norm_column)\n",
    "            \n",
    "    # one hot encoder columns\n",
    "    for one_hot_col in ['DX.bl', 'CV RISK FACTORS', 'APOE4']:\n",
    "        if one_hot_col in selected_columns:\n",
    "            df = one_hot_encode(df, one_hot_col)\n",
    "            \n",
    "    # set values of zero to nan for brain measurement fields\n",
    "    for no_zero_col in ['Ventricles_bl %', 'Hippocampus_bl %', 'WholeBrain_bl %', 'Entorhinal_bl %', 'Fusiform_bl %', 'MidTemp_bl %']:\n",
    "        df = convert_symbol_to_nan(df, no_zero_col, 0)\n",
    "            \n",
    "    # change PTGENDER column to 0,1 (as opposed to 1, 2)\n",
    "    df['PTGENDER'] = df['PTGENDER'] - 1\n",
    "    \n",
    "    # in all selected columns, drop rows that contain a nan value\n",
    "    for col in df.keys():\n",
    "        if col not in ['Patient ID']:\n",
    "            try:\n",
    "                df = filter_rows_with_nans(df, col)\n",
    "            except:\n",
    "                print(\"failed on: \", col)\n",
    "    \n",
    "    return df"
   ]
  },
  {
   "cell_type": "code",
   "execution_count": 10,
   "id": "138f187c-eb5d-45b6-8e90-17a71c429d5f",
   "metadata": {},
   "outputs": [
    {
     "name": "stdout",
     "output_type": "stream",
     "text": [
      "Index(['Patient ID', 'Image_year', 'PVS_BG', 'PVS_CS', 'Unnamed: 4',\n",
      "       'Image_year.1', 'WMH_PV', 'WMH_Deep', 'Total', 'Obs', 'DX.bl', 'AGE',\n",
      "       'PTGENDER', 'PTEDUCAT', 'PTRACCAT', 'APOE4', 'Ventricles_bl %',\n",
      "       'Hippocampus_bl %', 'WholeBrain_bl %', 'Entorhinal_bl %',\n",
      "       'Fusiform_bl %', 'MidTemp_bl %', 'BMB Y1 Count', 'BMB Y2 Count',\n",
      "       'BMB Y3 Count', 'VSBPDIA', 'VSBPSYS', 'VSPULSE', 'BMI',\n",
      "       'CV RISK FACTORS', 'E-M RISK FACTORS'],\n",
      "      dtype='object')\n"
     ]
    },
    {
     "name": "stderr",
     "output_type": "stream",
     "text": [
      "/tmp/ipykernel_318894/2912575546.py:4: FutureWarning: In a future version, the Index constructor will not infer numeric dtypes when passed object-dtype sequences (matching Series behavior)\n",
      "  onehot_cols = pd.get_dummies(df[field], prefix=field)\n",
      "/tmp/ipykernel_318894/2912575546.py:4: FutureWarning: In a future version, the Index constructor will not infer numeric dtypes when passed object-dtype sequences (matching Series behavior)\n",
      "  onehot_cols = pd.get_dummies(df[field], prefix=field)\n",
      "/tmp/ipykernel_318894/2912575546.py:4: FutureWarning: In a future version, the Index constructor will not infer numeric dtypes when passed object-dtype sequences (matching Series behavior)\n",
      "  onehot_cols = pd.get_dummies(df[field], prefix=field)\n"
     ]
    }
   ],
   "source": [
    "combined_df = prepare_ADNI_dfs(ratings_df, variables_df)"
   ]
  },
  {
   "cell_type": "code",
   "execution_count": 11,
   "id": "be1bba70-b49a-454a-b327-6a28b233ceeb",
   "metadata": {},
   "outputs": [
    {
     "data": {
      "text/html": [
       "<div>\n",
       "<style scoped>\n",
       "    .dataframe tbody tr th:only-of-type {\n",
       "        vertical-align: middle;\n",
       "    }\n",
       "\n",
       "    .dataframe tbody tr th {\n",
       "        vertical-align: top;\n",
       "    }\n",
       "\n",
       "    .dataframe thead th {\n",
       "        text-align: right;\n",
       "    }\n",
       "</style>\n",
       "<table border=\"1\" class=\"dataframe\">\n",
       "  <thead>\n",
       "    <tr style=\"text-align: right;\">\n",
       "      <th></th>\n",
       "      <th>Patient ID</th>\n",
       "      <th>AGE</th>\n",
       "      <th>Ventricles_bl %</th>\n",
       "      <th>Hippocampus_bl %</th>\n",
       "      <th>WholeBrain_bl %</th>\n",
       "      <th>Entorhinal_bl %</th>\n",
       "      <th>Fusiform_bl %</th>\n",
       "      <th>MidTemp_bl %</th>\n",
       "      <th>BMI</th>\n",
       "      <th>WMH_PV</th>\n",
       "      <th>...</th>\n",
       "      <th>DX.bl_0</th>\n",
       "      <th>DX.bl_1</th>\n",
       "      <th>DX.bl_2</th>\n",
       "      <th>DX.bl_3</th>\n",
       "      <th>CV RISK FACTORS_0</th>\n",
       "      <th>CV RISK FACTORS_1</th>\n",
       "      <th>CV RISK FACTORS_2</th>\n",
       "      <th>APOE4_0</th>\n",
       "      <th>APOE4_1</th>\n",
       "      <th>APOE4_2</th>\n",
       "    </tr>\n",
       "  </thead>\n",
       "  <tbody>\n",
       "    <tr>\n",
       "      <th>0</th>\n",
       "      <td>002_S_0729</td>\n",
       "      <td>-0.907124</td>\n",
       "      <td>-0.599118</td>\n",
       "      <td>0.20911</td>\n",
       "      <td>0.410522</td>\n",
       "      <td>-0.386959</td>\n",
       "      <td>0.803329</td>\n",
       "      <td>0.252266</td>\n",
       "      <td>-0.935346</td>\n",
       "      <td>2.0</td>\n",
       "      <td>...</td>\n",
       "      <td>0</td>\n",
       "      <td>0</td>\n",
       "      <td>1</td>\n",
       "      <td>0</td>\n",
       "      <td>0</td>\n",
       "      <td>1</td>\n",
       "      <td>0</td>\n",
       "      <td>0</td>\n",
       "      <td>1</td>\n",
       "      <td>0</td>\n",
       "    </tr>\n",
       "    <tr>\n",
       "      <th>1</th>\n",
       "      <td>002_S_1155</td>\n",
       "      <td>-1.913287</td>\n",
       "      <td>-1.640056</td>\n",
       "      <td>-2.9568</td>\n",
       "      <td>-3.247881</td>\n",
       "      <td>-2.848414</td>\n",
       "      <td>-3.151439</td>\n",
       "      <td>-3.17256</td>\n",
       "      <td>-0.778481</td>\n",
       "      <td>1.0</td>\n",
       "      <td>...</td>\n",
       "      <td>0</td>\n",
       "      <td>0</td>\n",
       "      <td>1</td>\n",
       "      <td>0</td>\n",
       "      <td>0</td>\n",
       "      <td>1</td>\n",
       "      <td>0</td>\n",
       "      <td>1</td>\n",
       "      <td>0</td>\n",
       "      <td>0</td>\n",
       "    </tr>\n",
       "    <tr>\n",
       "      <th>2</th>\n",
       "      <td>002_S_1261</td>\n",
       "      <td>-0.08014</td>\n",
       "      <td>0.09773</td>\n",
       "      <td>-0.15541</td>\n",
       "      <td>0.197169</td>\n",
       "      <td>-0.629183</td>\n",
       "      <td>0.0498</td>\n",
       "      <td>0.232463</td>\n",
       "      <td>-0.908899</td>\n",
       "      <td>1.0</td>\n",
       "      <td>...</td>\n",
       "      <td>1</td>\n",
       "      <td>0</td>\n",
       "      <td>0</td>\n",
       "      <td>0</td>\n",
       "      <td>0</td>\n",
       "      <td>0</td>\n",
       "      <td>1</td>\n",
       "      <td>1</td>\n",
       "      <td>0</td>\n",
       "      <td>0</td>\n",
       "    </tr>\n",
       "    <tr>\n",
       "      <th>3</th>\n",
       "      <td>002_S_1280</td>\n",
       "      <td>-0.135273</td>\n",
       "      <td>-0.49072</td>\n",
       "      <td>0.148831</td>\n",
       "      <td>0.182368</td>\n",
       "      <td>0.396004</td>\n",
       "      <td>0.125605</td>\n",
       "      <td>-0.024744</td>\n",
       "      <td>2.393686</td>\n",
       "      <td>3.0</td>\n",
       "      <td>...</td>\n",
       "      <td>1</td>\n",
       "      <td>0</td>\n",
       "      <td>0</td>\n",
       "      <td>0</td>\n",
       "      <td>0</td>\n",
       "      <td>0</td>\n",
       "      <td>1</td>\n",
       "      <td>0</td>\n",
       "      <td>1</td>\n",
       "      <td>0</td>\n",
       "    </tr>\n",
       "    <tr>\n",
       "      <th>4</th>\n",
       "      <td>002_S_2010</td>\n",
       "      <td>-1.210351</td>\n",
       "      <td>-0.724175</td>\n",
       "      <td>0.889532</td>\n",
       "      <td>0.357138</td>\n",
       "      <td>0.261112</td>\n",
       "      <td>0.243122</td>\n",
       "      <td>0.582234</td>\n",
       "      <td>3.287072</td>\n",
       "      <td>1.0</td>\n",
       "      <td>...</td>\n",
       "      <td>0</td>\n",
       "      <td>1</td>\n",
       "      <td>0</td>\n",
       "      <td>0</td>\n",
       "      <td>0</td>\n",
       "      <td>1</td>\n",
       "      <td>0</td>\n",
       "      <td>0</td>\n",
       "      <td>1</td>\n",
       "      <td>0</td>\n",
       "    </tr>\n",
       "    <tr>\n",
       "      <th>...</th>\n",
       "      <td>...</td>\n",
       "      <td>...</td>\n",
       "      <td>...</td>\n",
       "      <td>...</td>\n",
       "      <td>...</td>\n",
       "      <td>...</td>\n",
       "      <td>...</td>\n",
       "      <td>...</td>\n",
       "      <td>...</td>\n",
       "      <td>...</td>\n",
       "      <td>...</td>\n",
       "      <td>...</td>\n",
       "      <td>...</td>\n",
       "      <td>...</td>\n",
       "      <td>...</td>\n",
       "      <td>...</td>\n",
       "      <td>...</td>\n",
       "      <td>...</td>\n",
       "      <td>...</td>\n",
       "      <td>...</td>\n",
       "      <td>...</td>\n",
       "    </tr>\n",
       "    <tr>\n",
       "      <th>278</th>\n",
       "      <td>941_S_4255</td>\n",
       "      <td>0.099039</td>\n",
       "      <td>0.032813</td>\n",
       "      <td>-0.126676</td>\n",
       "      <td>0.208292</td>\n",
       "      <td>0.009422</td>\n",
       "      <td>0.287841</td>\n",
       "      <td>0.377825</td>\n",
       "      <td>0.013404</td>\n",
       "      <td>1.0</td>\n",
       "      <td>...</td>\n",
       "      <td>1</td>\n",
       "      <td>0</td>\n",
       "      <td>0</td>\n",
       "      <td>0</td>\n",
       "      <td>1</td>\n",
       "      <td>0</td>\n",
       "      <td>0</td>\n",
       "      <td>0</td>\n",
       "      <td>1</td>\n",
       "      <td>0</td>\n",
       "    </tr>\n",
       "    <tr>\n",
       "      <th>279</th>\n",
       "      <td>941_S_4292</td>\n",
       "      <td>-0.107707</td>\n",
       "      <td>-0.280526</td>\n",
       "      <td>0.599915</td>\n",
       "      <td>0.374701</td>\n",
       "      <td>0.714687</td>\n",
       "      <td>0.126096</td>\n",
       "      <td>0.437157</td>\n",
       "      <td>-0.017095</td>\n",
       "      <td>1.0</td>\n",
       "      <td>...</td>\n",
       "      <td>1</td>\n",
       "      <td>0</td>\n",
       "      <td>0</td>\n",
       "      <td>0</td>\n",
       "      <td>0</td>\n",
       "      <td>1</td>\n",
       "      <td>0</td>\n",
       "      <td>1</td>\n",
       "      <td>0</td>\n",
       "      <td>0</td>\n",
       "    </tr>\n",
       "    <tr>\n",
       "      <th>280</th>\n",
       "      <td>941_S_4365</td>\n",
       "      <td>1.1879</td>\n",
       "      <td>1.205062</td>\n",
       "      <td>-0.016664</td>\n",
       "      <td>0.10102</td>\n",
       "      <td>0.432068</td>\n",
       "      <td>0.203846</td>\n",
       "      <td>-0.216243</td>\n",
       "      <td>-0.803431</td>\n",
       "      <td>1.0</td>\n",
       "      <td>...</td>\n",
       "      <td>1</td>\n",
       "      <td>0</td>\n",
       "      <td>0</td>\n",
       "      <td>0</td>\n",
       "      <td>0</td>\n",
       "      <td>0</td>\n",
       "      <td>1</td>\n",
       "      <td>1</td>\n",
       "      <td>0</td>\n",
       "      <td>0</td>\n",
       "    </tr>\n",
       "    <tr>\n",
       "      <th>281</th>\n",
       "      <td>941_S_4376</td>\n",
       "      <td>0.664144</td>\n",
       "      <td>-1.640056</td>\n",
       "      <td>-2.9568</td>\n",
       "      <td>-3.247881</td>\n",
       "      <td>-2.848414</td>\n",
       "      <td>-3.151439</td>\n",
       "      <td>-3.17256</td>\n",
       "      <td>0.442142</td>\n",
       "      <td>2.0</td>\n",
       "      <td>...</td>\n",
       "      <td>1</td>\n",
       "      <td>0</td>\n",
       "      <td>0</td>\n",
       "      <td>0</td>\n",
       "      <td>0</td>\n",
       "      <td>1</td>\n",
       "      <td>0</td>\n",
       "      <td>1</td>\n",
       "      <td>0</td>\n",
       "      <td>0</td>\n",
       "    </tr>\n",
       "    <tr>\n",
       "      <th>282</th>\n",
       "      <td>941_S_4764</td>\n",
       "      <td>1.518694</td>\n",
       "      <td>1.579927</td>\n",
       "      <td>-0.144363</td>\n",
       "      <td>-0.065999</td>\n",
       "      <td>0.773153</td>\n",
       "      <td>0.25089</td>\n",
       "      <td>-0.029618</td>\n",
       "      <td>0.131969</td>\n",
       "      <td>2.0</td>\n",
       "      <td>...</td>\n",
       "      <td>0</td>\n",
       "      <td>1</td>\n",
       "      <td>0</td>\n",
       "      <td>0</td>\n",
       "      <td>0</td>\n",
       "      <td>1</td>\n",
       "      <td>0</td>\n",
       "      <td>1</td>\n",
       "      <td>0</td>\n",
       "      <td>0</td>\n",
       "    </tr>\n",
       "  </tbody>\n",
       "</table>\n",
       "<p>283 rows × 24 columns</p>\n",
       "</div>"
      ],
      "text/plain": [
       "     Patient ID       AGE Ventricles_bl % Hippocampus_bl % WholeBrain_bl %  \\\n",
       "0    002_S_0729 -0.907124       -0.599118          0.20911        0.410522   \n",
       "1    002_S_1155 -1.913287       -1.640056          -2.9568       -3.247881   \n",
       "2    002_S_1261  -0.08014         0.09773         -0.15541        0.197169   \n",
       "3    002_S_1280 -0.135273        -0.49072         0.148831        0.182368   \n",
       "4    002_S_2010 -1.210351       -0.724175         0.889532        0.357138   \n",
       "..          ...       ...             ...              ...             ...   \n",
       "278  941_S_4255  0.099039        0.032813        -0.126676        0.208292   \n",
       "279  941_S_4292 -0.107707       -0.280526         0.599915        0.374701   \n",
       "280  941_S_4365    1.1879        1.205062        -0.016664         0.10102   \n",
       "281  941_S_4376  0.664144       -1.640056          -2.9568       -3.247881   \n",
       "282  941_S_4764  1.518694        1.579927        -0.144363       -0.065999   \n",
       "\n",
       "    Entorhinal_bl % Fusiform_bl % MidTemp_bl %       BMI  WMH_PV  ...  \\\n",
       "0         -0.386959      0.803329     0.252266 -0.935346     2.0  ...   \n",
       "1         -2.848414     -3.151439     -3.17256 -0.778481     1.0  ...   \n",
       "2         -0.629183        0.0498     0.232463 -0.908899     1.0  ...   \n",
       "3          0.396004      0.125605    -0.024744  2.393686     3.0  ...   \n",
       "4          0.261112      0.243122     0.582234  3.287072     1.0  ...   \n",
       "..              ...           ...          ...       ...     ...  ...   \n",
       "278        0.009422      0.287841     0.377825  0.013404     1.0  ...   \n",
       "279        0.714687      0.126096     0.437157 -0.017095     1.0  ...   \n",
       "280        0.432068      0.203846    -0.216243 -0.803431     1.0  ...   \n",
       "281       -2.848414     -3.151439     -3.17256  0.442142     2.0  ...   \n",
       "282        0.773153       0.25089    -0.029618  0.131969     2.0  ...   \n",
       "\n",
       "     DX.bl_0  DX.bl_1 DX.bl_2 DX.bl_3  CV RISK FACTORS_0  CV RISK FACTORS_1  \\\n",
       "0          0        0       1       0                  0                  1   \n",
       "1          0        0       1       0                  0                  1   \n",
       "2          1        0       0       0                  0                  0   \n",
       "3          1        0       0       0                  0                  0   \n",
       "4          0        1       0       0                  0                  1   \n",
       "..       ...      ...     ...     ...                ...                ...   \n",
       "278        1        0       0       0                  1                  0   \n",
       "279        1        0       0       0                  0                  1   \n",
       "280        1        0       0       0                  0                  0   \n",
       "281        1        0       0       0                  0                  1   \n",
       "282        0        1       0       0                  0                  1   \n",
       "\n",
       "     CV RISK FACTORS_2  APOE4_0  APOE4_1  APOE4_2  \n",
       "0                    0        0        1        0  \n",
       "1                    0        1        0        0  \n",
       "2                    1        1        0        0  \n",
       "3                    1        0        1        0  \n",
       "4                    0        0        1        0  \n",
       "..                 ...      ...      ...      ...  \n",
       "278                  0        0        1        0  \n",
       "279                  0        1        0        0  \n",
       "280                  1        1        0        0  \n",
       "281                  0        1        0        0  \n",
       "282                  0        1        0        0  \n",
       "\n",
       "[283 rows x 24 columns]"
      ]
     },
     "execution_count": 11,
     "metadata": {},
     "output_type": "execute_result"
    }
   ],
   "source": [
    "combined_df"
   ]
  },
  {
   "cell_type": "code",
   "execution_count": 15,
   "id": "ffe77521-c8e3-4a35-b5db-09fde7f07a67",
   "metadata": {},
   "outputs": [],
   "source": [
    "combined_df['totatal_fazekas'] = (combined_df['WMH_Deep'].values + combined_df['WMH_PV'].values)"
   ]
  },
  {
   "cell_type": "code",
   "execution_count": 17,
   "id": "93e5be8a-a564-4eca-a1b0-1bdb63e7d355",
   "metadata": {},
   "outputs": [
    {
     "data": {
      "text/plain": [
       "array([4., 1., 2., 5., 2., 1., 3., 4., 5., 2., 2., 2., 1., 2., 1., 2., 4.,\n",
       "       2., 1., 4., 2., 2., 2., 2., 2., 3., 1., 5., 4., 3., 2., 2., 2., 2.,\n",
       "       2., 3., 2., 3., 3., 1., 2., 2., 2., 2., 4., 1., 6., 3., 3., 5., 1.,\n",
       "       1., 3., 3., 2., 2., 1., 2., 1., 3., 2., 0., 4., 1., 5., 3., 2., 2.,\n",
       "       4., 3., 3., 2., 2., 2., 2., 2., 2., 2., 2., 2., 2., 2., 5., 2., 2.,\n",
       "       4., 2., 2., 2., 5., 1., 2., 1., 5., 3., 4., 2., 2., 2., 2., 1., 0.,\n",
       "       3., 0., 0., 1., 4., 1., 2., 4., 2., 2., 2., 4., 2., 2., 2., 1., 4.,\n",
       "       2., 2., 2., 2., 1., 4., 0., 4., 2., 3., 6., 2., 2., 4., 2., 0., 2.,\n",
       "       0., 2., 0., 0., 3., 4., 6., 2., 3., 0., 2., 2., 0., 3., 2., 4., 3.,\n",
       "       3., 1., 3., 2., 2., 0., 0., 1., 2., 0., 1., 2., 1., 0., 2., 1., 2.,\n",
       "       0., 1., 2., 0., 1., 2., 2., 2., 2., 1., 2., 4., 0., 2., 3., 2., 0.,\n",
       "       1., 1., 1., 2., 2., 1., 1., 5., 0., 1., 2., 2., 2., 4., 1., 0., 4.,\n",
       "       2., 2., 4., 0., 1., 0., 0., 1., 1., 1., 4., 2., 2., 2., 1., 2., 1.,\n",
       "       1., 2., 3., 4., 0., 1., 2., 3., 2., 4., 4., 2., 1., 1., 3., 2., 2.,\n",
       "       0., 2., 2., 1., 2., 2., 2., 1., 3., 5., 2., 2., 1., 2., 3., 1., 1.,\n",
       "       2., 1., 2., 0., 2., 4., 5., 1., 2., 3., 2., 2., 3., 2., 1., 1., 0.,\n",
       "       2., 2., 6., 0., 6., 0., 1., 1., 2., 4., 3.])"
      ]
     },
     "execution_count": 17,
     "metadata": {},
     "output_type": "execute_result"
    }
   ],
   "source": [
    "combined_df['totatal_fazekas'].values"
   ]
  },
  {
   "cell_type": "code",
   "execution_count": 18,
   "id": "dfb3ffb0-718f-43e4-a791-c9ec4f984f12",
   "metadata": {},
   "outputs": [],
   "source": [
    "combined_df.to_csv(f\"umap_data_spreadsheets/ADNI/clinscore_data.csv\")"
   ]
  },
  {
   "cell_type": "code",
   "execution_count": null,
   "id": "cd5c97be-881c-4701-a2fc-9e082b141625",
   "metadata": {},
   "outputs": [],
   "source": []
  }
 ],
 "metadata": {
  "kernelspec": {
   "display_name": "Python 3 (ipykernel)",
   "language": "python",
   "name": "python3"
  },
  "language_info": {
   "codemirror_mode": {
    "name": "ipython",
    "version": 3
   },
   "file_extension": ".py",
   "mimetype": "text/x-python",
   "name": "python",
   "nbconvert_exporter": "python",
   "pygments_lexer": "ipython3",
   "version": "3.10.8"
  }
 },
 "nbformat": 4,
 "nbformat_minor": 5
}
