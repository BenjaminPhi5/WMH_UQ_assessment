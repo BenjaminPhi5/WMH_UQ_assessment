{
 "cells": [
  {
   "cell_type": "markdown",
   "id": "229f024d-8140-4c3e-8dd8-3240a867fde3",
   "metadata": {},
   "source": [
    "# finetune ADNI models and analysis\n",
    "load the predictions for the validation model for each.\n",
    "\n",
    "and compute the confusion matrix, the precision and f1 score (multiclass)\n",
    "and roc curve maybe? what curves do we use for multiclass.\n"
   ]
  },
  {
   "cell_type": "code",
   "execution_count": 1,
   "id": "732f1512-609f-4f02-93e2-fc7da2a34a7b",
   "metadata": {},
   "outputs": [
    {
     "name": "stdout",
     "output_type": "stream",
     "text": [
      "strawberry\n",
      "banana\n"
     ]
    }
   ],
   "source": [
    "# trainer\n",
    "print(\"strawberry\")\n",
    "from trustworthai.utils.fitting_and_inference.fitters.basic_lightning_fitter import StandardLitModelWrapper\n",
    "from trustworthai.utils.fitting_and_inference.get_trainer import get_trainer\n",
    "\n",
    "# data\n",
    "from twaidata.torchdatasets.MRI_3D_nolabels_inram_ds import MRI_3D_nolabels_inram_ds\n",
    "\n",
    "# packages\n",
    "import os\n",
    "import numpy as np\n",
    "import pandas as pd\n",
    "import matplotlib.pyplot as plt\n",
    "import torch\n",
    "from torchinfo import summary\n",
    "from tqdm import tqdm\n",
    "from collections import defaultdict\n",
    "from natsort import natsorted\n",
    "import torchmetrics\n",
    "from torchsampler import ImbalancedDatasetSampler\n",
    "print(\"banana\")"
   ]
  },
  {
   "cell_type": "markdown",
   "id": "f6f0b1ac-2587-41fe-94ac-e8f0d2a6657e",
   "metadata": {},
   "source": [
    "### Loading ADNI flair mask t1 dataset"
   ]
  },
  {
   "cell_type": "code",
   "execution_count": 2,
   "id": "c39c203e-a4f5-4921-9658-67adae8bc75b",
   "metadata": {},
   "outputs": [
    {
     "name": "stderr",
     "output_type": "stream",
     "text": [
      "100%|███████████████████████████████████████████████████████████████████████████████████████████████████████████████████████████████████████████████████████| 290/290 [02:34<00:00,  1.88it/s]\n"
     ]
    }
   ],
   "source": [
    "ADNI_ds = MRI_3D_nolabels_inram_ds(\"/home/s2208943/ipdis/data/preprocessed_data/ADNI_300\")"
   ]
  },
  {
   "cell_type": "code",
   "execution_count": 3,
   "id": "1fc11900-d76a-4307-8387-88e2553073a6",
   "metadata": {},
   "outputs": [],
   "source": [
    "IDs = ADNI_ds.getIDs()"
   ]
  },
  {
   "cell_type": "code",
   "execution_count": 4,
   "id": "7f86e3bb-9073-4965-8a81-3472553c364e",
   "metadata": {},
   "outputs": [
    {
     "data": {
      "text/plain": [
       "290"
      ]
     },
     "execution_count": 4,
     "metadata": {},
     "output_type": "execute_result"
    }
   ],
   "source": [
    "len(IDs)"
   ]
  },
  {
   "cell_type": "markdown",
   "id": "2ec7b53a-4ede-4b32-ba6a-80f23a7e392b",
   "metadata": {},
   "source": [
    "### Loading ADNI predictions"
   ]
  },
  {
   "cell_type": "code",
   "execution_count": 5,
   "id": "8cb4854c-4883-45ee-b6c2-2eac488bfa37",
   "metadata": {},
   "outputs": [],
   "source": [
    "def get_output_maps_for_ds(output_maps_dir, ids):\n",
    "    output_maps_lists = defaultdict(lambda : [])\n",
    "    key_order = None\n",
    "    for ID in tqdm(ids, position=0, leave=True):\n",
    "        output_maps_data = np.load(f\"{output_maps_dir}{ID}_out_maps.npz\")\n",
    "        key_order = natsorted(list(output_maps_data.keys()))\n",
    "        for output_type in key_order:\n",
    "            output_maps_lists[ID].append(torch.from_numpy(output_maps_data[output_type]))\n",
    "            \n",
    "    return output_maps_lists, key_order"
   ]
  },
  {
   "cell_type": "code",
   "execution_count": 6,
   "id": "65539e27-5ae1-40cc-9a30-6a00f3c5fc87",
   "metadata": {},
   "outputs": [
    {
     "name": "stderr",
     "output_type": "stream",
     "text": [
      "100%|███████████████████████████████████████████████████████████████████████████████████████████████████████████████████████████████████████████████████████| 290/290 [02:03<00:00,  2.35it/s]\n"
     ]
    }
   ],
   "source": [
    "model_name = \"SSN\"\n",
    "output_maps_dir = f\"/home/s2208943/ipdis/data/preprocessed_data/ADNI_300_output_maps/{model_name}/\"\n",
    "output_maps, key_order = get_output_maps_for_ds(output_maps_dir, IDs)"
   ]
  },
  {
   "cell_type": "code",
   "execution_count": 7,
   "id": "a6e9a02a-cf47-4154-bb66-006aade7636a",
   "metadata": {},
   "outputs": [
    {
     "data": {
      "text/plain": [
       "['ent', 'pred', 'seg', 'var']"
      ]
     },
     "execution_count": 7,
     "metadata": {},
     "output_type": "execute_result"
    }
   ],
   "source": [
    "key_order"
   ]
  },
  {
   "cell_type": "code",
   "execution_count": 8,
   "id": "84b3b24a-bd85-4e3f-9754-f7d29761c706",
   "metadata": {},
   "outputs": [
    {
     "data": {
      "text/plain": [
       "290"
      ]
     },
     "execution_count": 8,
     "metadata": {},
     "output_type": "execute_result"
    }
   ],
   "source": [
    "len(output_maps)"
   ]
  },
  {
   "cell_type": "markdown",
   "id": "58593ead-f28a-45ed-aa7c-9425d0a8773a",
   "metadata": {},
   "source": [
    "### Loading ADNI spreadsheets"
   ]
  },
  {
   "cell_type": "code",
   "execution_count": 9,
   "id": "1f6f421c-1361-45b3-bdb0-393b100699bf",
   "metadata": {},
   "outputs": [
    {
     "name": "stderr",
     "output_type": "stream",
     "text": [
      "/home/s2208943/miniconda3/envs/uq/lib/python3.10/site-packages/openpyxl/worksheet/_reader.py:312: UserWarning: Unknown extension is not supported and will be removed\n",
      "  warn(msg)\n"
     ]
    }
   ],
   "source": [
    "adni_dir = \"/home/s2208943/ipdis/data/ADNI_data/\"\n",
    "spreadsheet_dir = adni_dir\n",
    "# dataset with clinical variables (e.g age, and a bunch of other factors)\n",
    "variables_df = pd.read_excel(spreadsheet_dir + \"ADNI_300_Variables_for_Analysis.xlsx\")"
   ]
  },
  {
   "cell_type": "code",
   "execution_count": 10,
   "id": "dcc8f533-1a50-479a-8e22-63f3887a68b8",
   "metadata": {},
   "outputs": [
    {
     "data": {
      "text/plain": [
       "[('Unnamed: 0', 'Patient ID'),\n",
       " ('GENERAL INFO ', 'DX.bl'),\n",
       " ('Unnamed: 2', 'AGE'),\n",
       " ('Unnamed: 3', 'PTGENDER'),\n",
       " ('Unnamed: 4', 'PTEDUCAT'),\n",
       " ('Unnamed: 5', 'PTRACCAT'),\n",
       " ('Unnamed: 6', 'APOE4'),\n",
       " ('BASELINE BRAIN MEASUREMENTS (% of ICV)', 'Ventricles_bl %'),\n",
       " ('Unnamed: 8', 'Hippocampus_bl %'),\n",
       " ('Unnamed: 9', 'WholeBrain_bl %'),\n",
       " ('Unnamed: 10', 'Entorhinal_bl %'),\n",
       " ('Unnamed: 11', 'Fusiform_bl %'),\n",
       " ('Unnamed: 12', 'MidTemp_bl %'),\n",
       " ('IMAGE ANALYSIS FINDINGS ', 'BMB Y1 Count'),\n",
       " ('Unnamed: 14', 'BMB Y2 Count'),\n",
       " ('Unnamed: 15', 'BMB Y3 Count'),\n",
       " ('MEDICAL HISTORY', 'VSBPDIA'),\n",
       " ('Unnamed: 17', 'VSBPSYS'),\n",
       " ('Unnamed: 18', 'VSPULSE'),\n",
       " ('Unnamed: 19', 'BMI'),\n",
       " ('Unnamed: 20', 'CV RISK FACTORS'),\n",
       " ('Unnamed: 21', 'E-M RISK FACTORS')]"
      ]
     },
     "execution_count": 10,
     "metadata": {},
     "output_type": "execute_result"
    }
   ],
   "source": [
    "list(variables_df.iloc[0].items())"
   ]
  },
  {
   "cell_type": "code",
   "execution_count": 11,
   "id": "e6af5872-198d-4227-a661-bc0425a98fab",
   "metadata": {},
   "outputs": [
    {
     "name": "stderr",
     "output_type": "stream",
     "text": [
      "/home/s2208943/miniconda3/envs/uq/lib/python3.10/site-packages/openpyxl/worksheet/_reader.py:312: UserWarning: Unknown extension is not supported and will be removed\n",
      "  warn(msg)\n"
     ]
    }
   ],
   "source": [
    "# dataset with fazekas ratings by Maria. I only have 290 of the 298 due to a few images missing matches, which is a shame\n",
    "# but hopefully this is enough information. Nice.\n",
    "ratings_df = pd.read_excel(spreadsheet_dir + \"ADNI_300_Sample_MVH_ratings.xlsx\")"
   ]
  },
  {
   "cell_type": "code",
   "execution_count": 12,
   "id": "6668ddf9-fb40-4acb-968e-37e433bb73ad",
   "metadata": {},
   "outputs": [],
   "source": [
    "def normalize_column(df, column_id):\n",
    "    # normalizes a column (not inlcuding nan values)\n",
    "    values = df[column_id].values.astype(np.float32)\n",
    "    values = values[~np.isnan(values)]\n",
    "    mean = values.mean()\n",
    "    std = values.std()\n",
    "    df[column_id] = (df[column_id].values - mean)/std"
   ]
  },
  {
   "cell_type": "code",
   "execution_count": 13,
   "id": "06040914-7956-4547-af0e-f3158f9e28bb",
   "metadata": {},
   "outputs": [],
   "source": [
    "def one_hot_encode(df, field, remove_original=True):\n",
    "    \"\"\"computes a one hot encoding of the given field\"\"\"\n",
    "    \n",
    "    onehot_cols = pd.get_dummies(df[field], prefix=field)\n",
    "    \n",
    "    if remove_original:\n",
    "        df = df.drop(columns=[field], inplace=False)\n",
    "        \n",
    "    df = pd.concat([df, onehot_cols], axis=1)\n",
    "    \n",
    "    return df\n",
    "    "
   ]
  },
  {
   "cell_type": "code",
   "execution_count": 14,
   "id": "ada2a29c-ce21-4660-97f8-576f62c3f146",
   "metadata": {},
   "outputs": [],
   "source": [
    "def convert_symbol_to_nan(df, field, symbol):\n",
    "    df = df.copy()\n",
    "    \"\"\"\n",
    "    converts all inputs conforming to 'symbol' to np.nan for the given 'field' in the 'df'\n",
    "    e.g if symbol=' ' and field='totalChl' then any instances of ' ' in the 'totalChl' column will be replaced with np.nan\n",
    "    \"\"\"\n",
    "    values = df[field].values\n",
    "    locs = values == symbol\n",
    "    values[locs] = np.nan\n",
    "    \n",
    "    df[field] = values\n",
    "    \n",
    "    return df"
   ]
  },
  {
   "cell_type": "code",
   "execution_count": 15,
   "id": "dd69e81e-3ec3-4cd3-9c7f-5b0f3ddeaa77",
   "metadata": {},
   "outputs": [],
   "source": [
    "def filter_rows_with_nans(df, field, inplace=False):\n",
    "    \"\"\"\n",
    "    removes all rows from df which have nan for the given field value\n",
    "    \"\"\"\n",
    "    values = df[field].values.astype(np.float32)\n",
    "    nan_locs = np.where(np.isnan(values))[0]\n",
    "    df = df.drop(nan_locs, inplace=inplace)\n",
    "    df = df.reset_index(drop=True)\n",
    "    \n",
    "    return df"
   ]
  },
  {
   "cell_type": "code",
   "execution_count": 16,
   "id": "b78c941f-0646-45bf-825b-c25bf87cbb5c",
   "metadata": {},
   "outputs": [],
   "source": [
    "def prepare_ADNI_dfs(\n",
    "    ratings_df, variables_df,\n",
    "    selected_columns=[\n",
    "        'Patient ID', 'AGE', 'Ventricles_bl %', 'Hippocampus_bl %',\n",
    "        'WholeBrain_bl %', 'Entorhinal_bl %', 'Fusiform_bl %',\n",
    "        'MidTemp_bl %', 'BMI', 'DX.bl', 'CV RISK FACTORS', 'APOE4',\n",
    "        'WMH_PV', 'WMH_Deep', 'Total', 'PTGENDER', 'E-M RISK FACTORS',\n",
    "    ]):\n",
    "    \n",
    "    r_df = ratings_df.copy()\n",
    "    v_df = variables_df.copy()\n",
    "\n",
    "    # in the variables df, put all the column headings actually in the heading,\n",
    "    variables_heading_map = {\n",
    "        key:column_heading \n",
    "        for (column_heading, key) in v_df.iloc[0].items()\n",
    "    }\n",
    "    for key, column_heading in variables_heading_map.items():\n",
    "        v_df[key] = v_df[column_heading].values\n",
    "        v_df = v_df.drop(columns=[column_heading], inplace=False)\n",
    "    \n",
    "    \n",
    "    # remove any * characters and ' ' from patient IDs\n",
    "    r_df['Patient ID'] = [str(pid).replace('*', '').replace(' ', '') for pid in r_df['Patient ID'].values]\n",
    "    v_df['Patient ID'] = [str(pid).replace('*', '').replace(' ', '') for pid in v_df['Patient ID'].values]\n",
    "    \n",
    "    # remove any rows that do not have a patient ID. patient ID can be detected due to having a '_S_' string in it.\n",
    "    pid_locs_rdf = ['_S_' in pid for pid in r_df['Patient ID'].values]\n",
    "    pid_locs_vdf = ['_S_' in pid for pid in v_df['Patient ID'].values]\n",
    "    r_df = r_df.loc[pid_locs_rdf]\n",
    "    v_df = v_df.loc[pid_locs_vdf]\n",
    "    \n",
    "    # join the two dataframes\n",
    "    df = pd.merge(r_df, v_df, how='left')\n",
    "    \n",
    "    print(df.keys())\n",
    "    \n",
    "    # drop any column that isn't selected\n",
    "    df = df[selected_columns]\n",
    "    \n",
    "    # normalize columns\n",
    "    for norm_column in ['AGE', 'Ventricles_bl %', 'Hippocampus_bl %', 'WholeBrain_bl %', 'Entorhinal_bl %', 'Fusiform_bl %', 'MidTemp_bl %', 'BMI', 'PTEDUCAT', 'PTRACCAT']:\n",
    "        if norm_column in selected_columns:\n",
    "            normalize_column(df, norm_column)\n",
    "            \n",
    "    # one hot encoder columns\n",
    "    for one_hot_col in ['DX.bl', 'CV RISK FACTORS', 'APOE4']:\n",
    "        if one_hot_col in selected_columns:\n",
    "            df = one_hot_encode(df, one_hot_col)\n",
    "            \n",
    "    # set values of zero to nan for brain measurement fields\n",
    "    for no_zero_col in ['Ventricles_bl %', 'Hippocampus_bl %', 'WholeBrain_bl %', 'Entorhinal_bl %', 'Fusiform_bl %', 'MidTemp_bl %']:\n",
    "        df = convert_symbol_to_nan(df, no_zero_col, 0)\n",
    "            \n",
    "    # change PTGENDER column to 0,1 (as opposed to 1, 2)\n",
    "    df['PTGENDER'] = df['PTGENDER'] - 1\n",
    "    \n",
    "    # in all selected columns, drop rows that contain a nan value\n",
    "    for col in df.keys():\n",
    "        if col not in ['Patient ID']:\n",
    "            try:\n",
    "                df = filter_rows_with_nans(df, col)\n",
    "            except:\n",
    "                print(\"failed on: \", col)\n",
    "    \n",
    "    return df"
   ]
  },
  {
   "cell_type": "code",
   "execution_count": 17,
   "id": "c5c4fc5d-7fb4-4a2a-bba6-c43ae8327536",
   "metadata": {},
   "outputs": [
    {
     "name": "stdout",
     "output_type": "stream",
     "text": [
      "Index(['Patient ID', 'Image_year', 'PVS_BG', 'PVS_CS', 'Unnamed: 4',\n",
      "       'Image_year.1', 'WMH_PV', 'WMH_Deep', 'Total', 'Obs', 'DX.bl', 'AGE',\n",
      "       'PTGENDER', 'PTEDUCAT', 'PTRACCAT', 'APOE4', 'Ventricles_bl %',\n",
      "       'Hippocampus_bl %', 'WholeBrain_bl %', 'Entorhinal_bl %',\n",
      "       'Fusiform_bl %', 'MidTemp_bl %', 'BMB Y1 Count', 'BMB Y2 Count',\n",
      "       'BMB Y3 Count', 'VSBPDIA', 'VSBPSYS', 'VSPULSE', 'BMI',\n",
      "       'CV RISK FACTORS', 'E-M RISK FACTORS'],\n",
      "      dtype='object')\n"
     ]
    },
    {
     "name": "stderr",
     "output_type": "stream",
     "text": [
      "/tmp/ipykernel_2140956/2912575546.py:4: FutureWarning: In a future version, the Index constructor will not infer numeric dtypes when passed object-dtype sequences (matching Series behavior)\n",
      "  onehot_cols = pd.get_dummies(df[field], prefix=field)\n",
      "/tmp/ipykernel_2140956/2912575546.py:4: FutureWarning: In a future version, the Index constructor will not infer numeric dtypes when passed object-dtype sequences (matching Series behavior)\n",
      "  onehot_cols = pd.get_dummies(df[field], prefix=field)\n",
      "/tmp/ipykernel_2140956/2912575546.py:4: FutureWarning: In a future version, the Index constructor will not infer numeric dtypes when passed object-dtype sequences (matching Series behavior)\n",
      "  onehot_cols = pd.get_dummies(df[field], prefix=field)\n"
     ]
    }
   ],
   "source": [
    "combined_df = prepare_ADNI_dfs(ratings_df, variables_df)"
   ]
  },
  {
   "cell_type": "code",
   "execution_count": 18,
   "id": "82e7f2b0-6e0e-453b-8726-dda709848c5e",
   "metadata": {},
   "outputs": [
    {
     "data": {
      "text/plain": [
       "283"
      ]
     },
     "execution_count": 18,
     "metadata": {},
     "output_type": "execute_result"
    }
   ],
   "source": [
    "len(combined_df)"
   ]
  },
  {
   "cell_type": "code",
   "execution_count": 19,
   "id": "d1cbd0cc-7ac6-4ebe-ab0c-44f4f6e725a3",
   "metadata": {},
   "outputs": [
    {
     "data": {
      "text/plain": [
       "Index(['Patient ID', 'AGE', 'Ventricles_bl %', 'Hippocampus_bl %',\n",
       "       'WholeBrain_bl %', 'Entorhinal_bl %', 'Fusiform_bl %', 'MidTemp_bl %',\n",
       "       'BMI', 'WMH_PV', 'WMH_Deep', 'Total', 'PTGENDER', 'E-M RISK FACTORS',\n",
       "       'DX.bl_0', 'DX.bl_1', 'DX.bl_2', 'DX.bl_3', 'CV RISK FACTORS_0',\n",
       "       'CV RISK FACTORS_1', 'CV RISK FACTORS_2', 'APOE4_0', 'APOE4_1',\n",
       "       'APOE4_2'],\n",
       "      dtype='object')"
      ]
     },
     "execution_count": 19,
     "metadata": {},
     "output_type": "execute_result"
    }
   ],
   "source": [
    "combined_df.keys()"
   ]
  },
  {
   "cell_type": "markdown",
   "id": "fc932546-dffc-4a69-bfaf-8738aaf2c97d",
   "metadata": {},
   "source": [
    "### Setting up combined dataset and dataloader\n",
    "\n",
    "1) [x] add the extra channels (output predictions) to the ADNI dataloader\n",
    "2) [x] split the data into train test and validate\n",
    "3) [x] add the augmentation for the train (and optionally for val and test)\n",
    "4) [x] combine each dataset with its set of clinical data\n",
    "5) [x] add ability to select specific columns as input and labels"
   ]
  },
  {
   "cell_type": "code",
   "execution_count": 20,
   "id": "97523199-307e-4b77-a630-134ad244d54b",
   "metadata": {},
   "outputs": [],
   "source": [
    "from torch.utils.data import Dataset, ConcatDataset, DataLoader\n",
    "from trustworthai.utils.data_preprep.splits import cross_validate_split"
   ]
  },
  {
   "cell_type": "code",
   "execution_count": 21,
   "id": "cdaafd49-64bf-42b0-aa6f-ec6fbcbdcf74",
   "metadata": {
    "tags": []
   },
   "outputs": [],
   "source": [
    "### defining the augmentation procedure\n",
    "from trustworthai.utils.augmentation.standard_transforms import (\n",
    "    RandomFlip, GaussianBlur, GaussianNoise,\n",
    "    RandomResizeCrop, RandomAffine,\n",
    "    NormalizeImg, PairedCompose, LabelSelect,\n",
    "    PairedCentreCrop, CropZDim,\n",
    ")\n",
    "import torch\n",
    "\n",
    "\n",
    "def get_transforms():\n",
    "    transforms = [\n",
    "        LabelSelect(label_id=1),\n",
    "        RandomFlip(p=0.5, orientation=\"horizontal\"),\n",
    "        # GaussianBlur(p=0.5, kernel_size=7, sigma=(.1, 1.5)),\n",
    "        # GaussianNoise(p=0.2, mean=0, sigma=0.2),\n",
    "        RandomAffine(p=0.2, shear=(-18,18)),\n",
    "        RandomAffine(p=0.2, degrees=15),\n",
    "        RandomAffine(p=0.2, translate=(-0.1,0.1)),\n",
    "        RandomAffine(p=0.2, scale=(0.9, 1.1)),\n",
    "#         #RandomResizeCrop(p=1., scale=(0.6, 1.), ratio=(3./4., 4./3.))\n",
    "\n",
    "#         #RandomResizeCrop(p=1., scale=(0.3, 0.5), ratio=(3./4., 4./3.)) # ssn\n",
    "    ]\n",
    "    transforms.append(lambda x, y: (x, y.squeeze().type(torch.long)))\n",
    "    return PairedCompose(transforms)"
   ]
  },
  {
   "cell_type": "code",
   "execution_count": 22,
   "id": "1ed2b8e5-9ecb-4f2d-b971-e3f2c08a6036",
   "metadata": {
    "tags": []
   },
   "outputs": [],
   "source": [
    "### combine the clinical scores data into the x information.\n",
    "# generated with chatgpt\n",
    "class ClinicalDataset(torch.utils.data.Dataset):\n",
    "    def __init__(self, base_dataset, fields, target_field):\n",
    "        self.base_dataset = base_dataset\n",
    "        self.fields = fields\n",
    "        self.target_field = target_field\n",
    "\n",
    "    def __len__(self):\n",
    "        return len(self.base_dataset)\n",
    "\n",
    "    def __getitem__(self, index):\n",
    "        x, y, clin_data = self.base_dataset[index]\n",
    "        clin_data_fields = clin_data[self.fields].values\n",
    "        clin_data_tensor = torch.from_numpy(clin_data_fields.astype(np.float32))\n",
    "        target_field = clin_data[self.target_field]\n",
    "        return (x, clin_data_tensor), target_field"
   ]
  },
  {
   "cell_type": "code",
   "execution_count": 23,
   "id": "b6f6a949-0d1b-4d3c-962f-2ad87e3769f7",
   "metadata": {},
   "outputs": [],
   "source": [
    "# torch dataset that filters out nans\n",
    "class NonNanDataset(Dataset):\n",
    "    def __init__(self, original_dataset):\n",
    "        self.original_dataset = original_dataset\n",
    "        self.indices = []\n",
    "\n",
    "        for i in range(len(self.original_dataset)):\n",
    "            (x, clin_data), y = self.original_dataset[i]\n",
    "            if not (np.isnan(y) or torch.any(torch.isnan(clin_data))):\n",
    "                self.indices.append(i)\n",
    "\n",
    "    def __getitem__(self, index):\n",
    "        original_index = self.indices[index]\n",
    "        return self.original_dataset[original_index]\n",
    "\n",
    "    def __len__(self):\n",
    "        return len(self.indices)\n"
   ]
  },
  {
   "cell_type": "code",
   "execution_count": 24,
   "id": "561fa5e3-d938-4edb-840d-27666640b16f",
   "metadata": {},
   "outputs": [],
   "source": [
    "class RepeatDataset(Dataset):\n",
    "    def __init__(self, original_dataset, repeats):\n",
    "        self.original_dataset = original_dataset\n",
    "        self.repeats=repeats\n",
    "        \n",
    "    def __getitem__(self, idx):\n",
    "        return self.original_dataset[idx % len(self.original_dataset)]\n",
    "    \n",
    "    def __len__(self):\n",
    "        return len(self.original_dataset) * self.repeats"
   ]
  },
  {
   "cell_type": "code",
   "execution_count": 25,
   "id": "4424e44f-8512-4015-8517-081fec9eb43e",
   "metadata": {},
   "outputs": [],
   "source": [
    "class AddChannelsDataset(torch.utils.data.Dataset):\n",
    "    def __init__(self, base_dataset, extra_x_channels_lists, IDs):\n",
    "        self.base_dataset = base_dataset\n",
    "        self.extra_x_channels_lists = extra_x_channels_lists\n",
    "        self.IDs = IDs\n",
    "        \n",
    "    def __getitem__(self, idx):\n",
    "        data = self.base_dataset[idx]\n",
    "        ID = self.IDs[idx]\n",
    "        x = data[0]\n",
    "        # print(x.shape)\n",
    "        # print(torch.stack(self.extra_x_channels_lists[ID]).shape)\n",
    "        x = torch.cat([x, torch.stack(self.extra_x_channels_lists[ID])], dim=0)\n",
    "        \n",
    "        return (x, *data[1:], ID)\n",
    "        \n",
    "    def __len__(self):\n",
    "        return len(self.base_dataset)"
   ]
  },
  {
   "cell_type": "code",
   "execution_count": 26,
   "id": "1e2b9963-b33f-46f7-ac68-55f52a648b64",
   "metadata": {},
   "outputs": [],
   "source": [
    "class ExtractYChannelDataset(torch.utils.data.Dataset):\n",
    "    def __init__(self, base_dataset, y_channel_idx):\n",
    "        self.base_dataset = base_dataset\n",
    "        self.y_channel_idx = y_channel_idx\n",
    "        \n",
    "        self.x_channels = [i for i in range(base_dataset[0].shape[0])]\n",
    "        self.x_channels.remove(y_channel_idx)\n",
    "        \n",
    "    def __getitem__(self, idx):\n",
    "        data = self.base_dataset[idx]\n",
    "        return data[self.x_channels], data[self.y_channel_idx].unsqueeze(0)\n",
    "    \n",
    "    def __len__(self):\n",
    "        return len(self.base_dataset)"
   ]
  },
  {
   "cell_type": "code",
   "execution_count": 27,
   "id": "34381bb3-1b66-4087-a68d-5cc670557bb9",
   "metadata": {},
   "outputs": [],
   "source": [
    "class AugmentedDataset(Dataset):\n",
    "    def __init__(self, base_dataset, transforms):\n",
    "        self.base_dataset = base_dataset\n",
    "        self.transforms = transforms\n",
    "        \n",
    "    def __getitem__(self, idx):\n",
    "        (x, y, clin_data), label = self.base_dataset[idx]\n",
    "        return (*self.transforms(x, y), clin_data), label\n",
    "    \n",
    "    def __len__(self):\n",
    "        return len(self.base_dataset)"
   ]
  },
  {
   "cell_type": "code",
   "execution_count": 28,
   "id": "a889a571-4338-4274-9612-acae739a9f78",
   "metadata": {},
   "outputs": [],
   "source": [
    "class ImgsAndDfDataset(Dataset):\n",
    "    def __init__(self, base_dataset, df, selected_fields, label_field):\n",
    "        self.base_dataset = base_dataset\n",
    "        self.df = df\n",
    "        self.selected_fields = selected_fields\n",
    "        self.label_field = label_field\n",
    "        \n",
    "    def __getitem__(self, idx):\n",
    "        x, y, ID = self.base_dataset[idx]\n",
    "        clin_data = self.df.loc[self.df['Patient ID'] == \"_\".join(ID.split('_')[1:-1])]\n",
    "        fields = clin_data[self.selected_fields].values\n",
    "        \n",
    "        # print(len(fields))\n",
    "        label = clin_data[self.label_field].values[0]\n",
    "        \n",
    "        return (x, y, fields), label\n",
    "    \n",
    "    def __len__(self):\n",
    "        return len(self.base_dataset)"
   ]
  },
  {
   "cell_type": "code",
   "execution_count": 29,
   "id": "ce70a744-0180-4a2b-8b9d-a4ac77d78b52",
   "metadata": {},
   "outputs": [],
   "source": [
    "class SkipBadIndexesDs(Dataset):\n",
    "    def __init__(self, base_dataset):\n",
    "        self.base_dataset = base_dataset\n",
    "        valid_indexes = []\n",
    "        \n",
    "        for idx in tqdm(range(len(base_dataset)), position=0, leave=True):\n",
    "            try:\n",
    "                _ = base_dataset[idx]\n",
    "                valid_indexes.append(idx)\n",
    "            except IndexError:\n",
    "                continue\n",
    "                \n",
    "        self.valid_indexes = valid_indexes\n",
    "    \n",
    "    def __getitem__(self, idx):\n",
    "        return self.base_dataset[self.valid_indexes[idx]]\n",
    "    \n",
    "    def __len__(self):\n",
    "        return len(self.valid_indexes)"
   ]
  },
  {
   "cell_type": "code",
   "execution_count": 30,
   "id": "654961b7-d52f-4992-974f-d70c99789db5",
   "metadata": {},
   "outputs": [],
   "source": [
    "class ConsumedDataset(Dataset):\n",
    "    def __init__(self, base_dataset):\n",
    "        self.elements = [data for data in tqdm(base_dataset, position=0, leave=True)]\n",
    "        \n",
    "    def __getitem__(self, idx):\n",
    "        return self.elements[idx]\n",
    "    \n",
    "    def __len__(self):\n",
    "        return len(self.elements)"
   ]
  },
  {
   "cell_type": "code",
   "execution_count": 31,
   "id": "ad81a882-6e07-4c90-8210-3929fcccb184",
   "metadata": {},
   "outputs": [
    {
     "name": "stderr",
     "output_type": "stream",
     "text": [
      "100%|███████████████████████████████████████████████████████████████████████████████████████████████████████████████████████████████████████████████████████| 290/290 [00:17<00:00, 16.63it/s]\n",
      "100%|███████████████████████████████████████████████████████████████████████████████████████████████████████████████████████████████████████████████████████| 276/276 [00:15<00:00, 17.63it/s]\n"
     ]
    }
   ],
   "source": [
    "fields = ['AGE', 'Ventricles_bl %', 'Hippocampus_bl %',\n",
    "       'WholeBrain_bl %', 'Entorhinal_bl %', 'Fusiform_bl %', 'MidTemp_bl %',\n",
    "       'BMI', 'PTGENDER', 'E-M RISK FACTORS',\n",
    "       'DX.bl_0', 'DX.bl_1', 'DX.bl_2', 'DX.bl_3', 'CV RISK FACTORS_0',\n",
    "       'CV RISK FACTORS_1', 'CV RISK FACTORS_2', 'APOE4_0', 'APOE4_1',\n",
    "       'APOE4_2']\n",
    "\n",
    "label = 'WMH_Deep'\n",
    "\n",
    "imgs_ds = ADNI_ds\n",
    "imgs_ds = ExtractYChannelDataset(imgs_ds, 1)\n",
    "imgs_ds = AddChannelsDataset(imgs_ds, output_maps, IDs)\n",
    "imgs_ds = ImgsAndDfDataset(imgs_ds, combined_df, selected_fields=fields, label_field=label)\n",
    "imgs_ds = SkipBadIndexesDs(imgs_ds)\n",
    "imgs_ds = ConsumedDataset(imgs_ds)"
   ]
  },
  {
   "cell_type": "code",
   "execution_count": 34,
   "id": "3d948bc4-37aa-4987-8ba5-286a347bfa08",
   "metadata": {},
   "outputs": [],
   "source": [
    "train_ds, val_ds, test_ds = cross_validate_split(imgs_ds, val_prop=0.15, test_prop=0.15, seed=3407, split=0, test_fold_smooth=1)"
   ]
  },
  {
   "cell_type": "code",
   "execution_count": 35,
   "id": "90d23caf-67b7-4ab0-b178-b3f59be89c10",
   "metadata": {},
   "outputs": [],
   "source": [
    "train_ds = AugmentedDataset(train_ds, get_transforms())\n",
    "val_ds = AugmentedDataset(val_ds, get_transforms())\n",
    "test_ds = test_ds# AugmentedDataset(test_ds, get_transforms())"
   ]
  },
  {
   "cell_type": "code",
   "execution_count": 36,
   "id": "f1041f54-04a3-4451-9e5a-c6d5fab2afb0",
   "metadata": {},
   "outputs": [
    {
     "data": {
      "text/plain": [
       "(193, 41, 42)"
      ]
     },
     "execution_count": 36,
     "metadata": {},
     "output_type": "execute_result"
    }
   ],
   "source": [
    "# so quite a few images are missing a matching ID row it seems....\n",
    "len(train_ds), len(val_ds), len(test_ds)"
   ]
  },
  {
   "cell_type": "markdown",
   "id": "d5cc1821-5ace-4a92-a95b-0c4c9e4db20b",
   "metadata": {},
   "source": [
    "### formatting the data into input types to use and creating the dataloader\n",
    "\n",
    "current data shape is ((x, mask, clin_values), label)"
   ]
  },
  {
   "cell_type": "code",
   "execution_count": 92,
   "id": "c07c55c9-0a87-4fc8-bf07-10408c9dafa7",
   "metadata": {
    "tags": []
   },
   "outputs": [],
   "source": [
    "import torchvision as tv\n",
    "\n",
    "class FormatDataset(Dataset):\n",
    "    def __init__(self, base_dataset, slice_range=(25,45), centre_crop=(220,160), channels=['flair']):\n",
    "        self.base_dataset = base_dataset\n",
    "        self.slice_range = slice_range\n",
    "        self.centre_crop = centre_crop\n",
    "        self.channels = channels\n",
    "        \n",
    "    def __getitem__(self, idx):\n",
    "        channels_id = {\n",
    "            \"flair\":0,\n",
    "            \"t1\":1,\n",
    "            \"ent\":2,\n",
    "            \"pred\":3,\n",
    "            \"seg\":4,\n",
    "            \"var\":5,\n",
    "        }\n",
    "        \n",
    "        (x_3d, mask, clin_data), label = self.base_dataset[idx]\n",
    "        \n",
    "        # print(x_3d.shape)\n",
    "        \n",
    "        selected_channels = [channels_id[c] for c in self.channels]\n",
    "        \n",
    "        # Select the slices from the 3D image\n",
    "        x_3d = x_3d[selected_channels]\n",
    "        # print(x_3d.shape)\n",
    "        \n",
    "        slices = np.arange(self.slice_range[0], self.slice_range[1], 1)\n",
    "        x_3d = x_3d[:, slices]\n",
    "        # print(x_3d.shape)\n",
    "        \n",
    "        # Reshape the slices into C*v 2D tensors\n",
    "        x_2d = torch.reshape(x_3d, (-1, x_3d.shape[-2], x_3d.shape[-1]))\n",
    "        # x_2d = x_3d\n",
    "        \n",
    "        # print(x_2d.shape)\n",
    "        \n",
    "        x_2d = tv.transforms.functional.center_crop(x_2d, self.centre_crop)\n",
    "        \n",
    "        # print(x_2d.shape)\n",
    "        \n",
    "        return (x_2d, clin_data.astype(np.float32).squeeze()), label\n",
    "        \n",
    "    \n",
    "    def __len__(self):\n",
    "        return len(self.base_dataset)"
   ]
  },
  {
   "cell_type": "code",
   "execution_count": 93,
   "id": "af4fa3a2-b45d-4bd3-94b1-d144b15c0d6d",
   "metadata": {
    "tags": []
   },
   "outputs": [],
   "source": [
    "class GetLabelsDs(Dataset):\n",
    "    def __init__(self, base_dataset):\n",
    "        self.base_dataset = base_dataset\n",
    "        \n",
    "    def __getitem__(self, idx):\n",
    "        return self.base_dataset[idx]\n",
    "    \n",
    "    def __len__(self):\n",
    "        return len(self.base_dataset)\n",
    "    \n",
    "    def get_labels(self):\n",
    "        labels = []\n",
    "        for (x, clin_data), y in self.base_dataset:\n",
    "            labels.append(y)\n",
    "            \n",
    "        return labels"
   ]
  },
  {
   "cell_type": "code",
   "execution_count": 98,
   "id": "615fac08-a615-4e26-a30b-36c99da7b939",
   "metadata": {},
   "outputs": [],
   "source": [
    "channels = ['ent', 'pred']\n",
    "train_ds_2d = FormatDataset(train_ds, channels=channels)\n",
    "val_ds_2d = FormatDataset(val_ds, channels=channels)\n",
    "test_ds_2d = FormatDataset(test_ds, channels=channels)"
   ]
  },
  {
   "cell_type": "code",
   "execution_count": 99,
   "id": "ff72e6b4-d1d7-4644-9081-19e9b806542d",
   "metadata": {},
   "outputs": [
    {
     "data": {
      "text/plain": [
       "1.0"
      ]
     },
     "execution_count": 99,
     "metadata": {},
     "output_type": "execute_result"
    }
   ],
   "source": [
    "y"
   ]
  },
  {
   "cell_type": "code",
   "execution_count": 102,
   "id": "26b55c1d-135f-4f90-8def-09e4f8df37a0",
   "metadata": {},
   "outputs": [
    {
     "data": {
      "image/png": "[encoded data removed]",
      "text/plain": [
       "<Figure size 2000x500 with 20 Axes>"
      ]
     },
     "metadata": {},
     "output_type": "display_data"
    }
   ],
   "source": [
    "# assess the level of augmentation\n",
    "(x, clin_data), y = train_ds_2d[0]\n",
    "\n",
    "plt.figure(figsize=(20, 5))\n",
    "for islice in range(20):\n",
    "    plt.subplot(2, 10, islice+1)\n",
    "    plt.imshow(x[islice])\n",
    "    plt.axis('off')"
   ]
  },
  {
   "cell_type": "code",
   "execution_count": 103,
   "id": "0122a514-f6e0-4652-97cd-aa2cf45cff83",
   "metadata": {},
   "outputs": [
    {
     "data": {
      "text/plain": [
       "torch.Size([40, 220, 160])"
      ]
     },
     "execution_count": 103,
     "metadata": {},
     "output_type": "execute_result"
    }
   ],
   "source": [
    "x.shape"
   ]
  },
  {
   "cell_type": "code",
   "execution_count": 104,
   "id": "130c4ef5-dafd-4d3b-b71f-6d82c9857f57",
   "metadata": {},
   "outputs": [
    {
     "data": {
      "text/plain": [
       "torch.Size([40, 220, 160])"
      ]
     },
     "execution_count": 104,
     "metadata": {},
     "output_type": "execute_result"
    }
   ],
   "source": [
    "x.shape"
   ]
  },
  {
   "cell_type": "code",
   "execution_count": 105,
   "id": "735553fb-8a4f-44b8-aefc-070b57eb0f15",
   "metadata": {},
   "outputs": [],
   "source": [
    "from pytorch_lightning.callbacks.model_checkpoint import ModelCheckpoint"
   ]
  },
  {
   "cell_type": "code",
   "execution_count": 106,
   "id": "0cb95a6e-c79d-46c0-83ad-b7e27b95a50f",
   "metadata": {},
   "outputs": [],
   "source": [
    "def get_best_checkpoint(trainer):\n",
    "    # get the ModelCheckpoint callback\n",
    "    for callback in trainer.callbacks:\n",
    "        if isinstance(callback, ModelCheckpoint):\n",
    "            checkpoint_callback = callback\n",
    "            break\n",
    "\n",
    "    # use the checkpoint_callback object as desired\n",
    "    best_checkpoint_path = checkpoint_callback.best_model_path\n",
    "    \n",
    "    return best_checkpoint_path"
   ]
  },
  {
   "cell_type": "code",
   "execution_count": 107,
   "id": "9e012268-32eb-4632-bacc-17e475949af6",
   "metadata": {},
   "outputs": [
    {
     "data": {
      "image/png": "[encoded data removed]",
      "text/plain": [
       "<Figure size 640x480 with 6 Axes>"
      ]
     },
     "metadata": {},
     "output_type": "display_data"
    }
   ],
   "source": [
    "data = train_ds[50]\n",
    "x = data[0][0]\n",
    "mask = data[0][1]\n",
    "#x, mask = transforms(x, mask)\n",
    "for i in range(6):\n",
    "    plt.subplot(2, 3, i+1)\n",
    "    plt.imshow(x[i][30])\n",
    "    plt.axis('off')"
   ]
  },
  {
   "cell_type": "code",
   "execution_count": 108,
   "id": "f59f2bf1-8216-4e65-a975-33d08e6c6f05",
   "metadata": {},
   "outputs": [],
   "source": [
    "# batch_size = 12\n",
    "# train_dataloader = DataLoader(train_ds_2d, batch_size=batch_size, shuffle=True, num_workers=4)\n",
    "# val_dataloader = DataLoader(val_ds_2d, batch_size=batch_size, shuffle=False, num_workers=4)\n",
    "# test_dataloader = DataLoader(test_ds_2d, batch_size=batch_size, shuffle=False, num_workers=4)"
   ]
  },
  {
   "cell_type": "code",
   "execution_count": 109,
   "id": "9f098174-341b-42dc-b20a-0e2d36390616",
   "metadata": {},
   "outputs": [
    {
     "data": {
      "text/plain": [
       "array([-0.02500828,  0.66227365, -0.582079  ,  0.21757682, -1.0463433 ,\n",
       "       -1.0485672 , -1.0964288 ,  0.39493522,  1.        ,  1.        ,\n",
       "        0.        ,  0.        ,  0.        ,  1.        ,  1.        ,\n",
       "        0.        ,  0.        ,  0.        ,  1.        ,  0.        ],\n",
       "      dtype=float32)"
      ]
     },
     "execution_count": 109,
     "metadata": {},
     "output_type": "execute_result"
    }
   ],
   "source": [
    "val_ds_2d[0][0][1].astype(np.float32).squeeze()"
   ]
  },
  {
   "cell_type": "markdown",
   "id": "e1d2d072-88da-4278-8551-d1ca86d408c0",
   "metadata": {},
   "source": [
    "### Setting up model for training"
   ]
  },
  {
   "cell_type": "code",
   "execution_count": 110,
   "id": "1f804ffe-f381-4080-baf2-ca156c274ea1",
   "metadata": {
    "tags": []
   },
   "outputs": [],
   "source": [
    "from functools import partial\n",
    "from typing import Any, Callable, List, Optional, Type, Union\n",
    "\n",
    "import torch\n",
    "import torch.nn as nn\n",
    "from torch import Tensor\n",
    "\n",
    "\n",
    "def conv3x3(in_planes: int, out_planes: int, stride: int = 1, groups: int = 1, dilation: int = 1) -> nn.Conv2d:\n",
    "    \"\"\"3x3 convolution with padding\"\"\"\n",
    "    return nn.Conv2d(\n",
    "        in_planes,\n",
    "        out_planes,\n",
    "        kernel_size=3,\n",
    "        stride=stride,\n",
    "        padding=dilation,\n",
    "        groups=groups,\n",
    "        bias=False,\n",
    "        dilation=dilation,\n",
    "    )\n",
    "\n",
    "\n",
    "def conv1x1(in_planes: int, out_planes: int, stride: int = 1) -> nn.Conv2d:\n",
    "    \"\"\"1x1 convolution\"\"\"\n",
    "    return nn.Conv2d(in_planes, out_planes, kernel_size=1, stride=stride, bias=False)\n",
    "\n",
    "\n",
    "class BasicBlock(nn.Module):\n",
    "    expansion: int = 1\n",
    "\n",
    "    def __init__(\n",
    "        self,\n",
    "        inplanes: int,\n",
    "        planes: int,\n",
    "        stride: int = 1,\n",
    "        downsample: Optional[nn.Module] = None,\n",
    "        groups: int = 1,\n",
    "        base_width: int = 64,\n",
    "        dilation: int = 1,\n",
    "        norm_layer: Optional[Callable[..., nn.Module]] = None,\n",
    "    ) -> None:\n",
    "        super().__init__()\n",
    "        if norm_layer is None:\n",
    "            norm_layer = nn.BatchNorm2d\n",
    "        if groups != 1 or base_width != 64:\n",
    "            raise ValueError(\"BasicBlock only supports groups=1 and base_width=64\")\n",
    "        if dilation > 1:\n",
    "            raise NotImplementedError(\"Dilation > 1 not supported in BasicBlock\")\n",
    "        # Both self.conv1 and self.downsample layers downsample the input when stride != 1\n",
    "        self.conv1 = conv3x3(inplanes, planes, stride)\n",
    "        self.bn1 = norm_layer(planes)\n",
    "        self.relu = nn.ReLU(inplace=True)\n",
    "        self.conv2 = conv3x3(planes, planes)\n",
    "        self.bn2 = norm_layer(planes)\n",
    "        self.downsample = downsample\n",
    "        self.stride = stride\n",
    "\n",
    "    def forward(self, x: Tensor) -> Tensor:\n",
    "        identity = x\n",
    "\n",
    "        out = self.conv1(x)\n",
    "        out = self.bn1(out)\n",
    "        out = self.relu(out)\n",
    "\n",
    "        out = self.conv2(out)\n",
    "        out = self.bn2(out)\n",
    "\n",
    "        if self.downsample is not None:\n",
    "            identity = self.downsample(x)\n",
    "\n",
    "        out += identity\n",
    "        out = self.relu(out)\n",
    "\n",
    "        return out\n",
    "\n",
    "\n",
    "class Bottleneck(nn.Module):\n",
    "    # Bottleneck in torchvision places the stride for downsampling at 3x3 convolution(self.conv2)\n",
    "    # while original implementation places the stride at the first 1x1 convolution(self.conv1)\n",
    "    # according to \"Deep residual learning for image recognition\" https://arxiv.org/abs/1512.03385.\n",
    "    # This variant is also known as ResNet V1.5 and improves accuracy according to\n",
    "    # https://ngc.nvidia.com/catalog/model-scripts/nvidia:resnet_50_v1_5_for_pytorch.\n",
    "\n",
    "    expansion: int = 4\n",
    "\n",
    "    def __init__(\n",
    "        self,\n",
    "        inplanes: int,\n",
    "        planes: int,\n",
    "        stride: int = 1,\n",
    "        downsample: Optional[nn.Module] = None,\n",
    "        groups: int = 1,\n",
    "        base_width: int = 64,\n",
    "        dilation: int = 1,\n",
    "        norm_layer: Optional[Callable[..., nn.Module]] = None,\n",
    "    ) -> None:\n",
    "        super().__init__()\n",
    "        if norm_layer is None:\n",
    "            norm_layer = nn.BatchNorm2d\n",
    "        width = int(planes * (base_width / 64.0)) * groups\n",
    "        # Both self.conv2 and self.downsample layers downsample the input when stride != 1\n",
    "        self.conv1 = conv1x1(inplanes, width)\n",
    "        self.bn1 = norm_layer(width)\n",
    "        self.conv2 = conv3x3(width, width, stride, groups, dilation)\n",
    "        self.bn2 = norm_layer(width)\n",
    "        self.conv3 = conv1x1(width, planes * self.expansion)\n",
    "        self.bn3 = norm_layer(planes * self.expansion)\n",
    "        self.relu = nn.ReLU(inplace=True)\n",
    "        self.downsample = downsample\n",
    "        self.stride = stride\n",
    "\n",
    "    def forward(self, x: Tensor) -> Tensor:\n",
    "        identity = x\n",
    "\n",
    "        out = self.conv1(x)\n",
    "        out = self.bn1(out)\n",
    "        out = self.relu(out)\n",
    "\n",
    "        out = self.conv2(out)\n",
    "        out = self.bn2(out)\n",
    "        out = self.relu(out)\n",
    "\n",
    "        out = self.conv3(out)\n",
    "        out = self.bn3(out)\n",
    "\n",
    "        if self.downsample is not None:\n",
    "            identity = self.downsample(x)\n",
    "\n",
    "        out += identity\n",
    "        out = self.relu(out)\n",
    "\n",
    "        return out\n",
    "\n",
    "\n",
    "class ResNet(nn.Module):\n",
    "    def __init__(\n",
    "        self,\n",
    "        block: Type[Union[BasicBlock, Bottleneck]],\n",
    "        layers: List[int],\n",
    "        channel_size_divide=1,\n",
    "        num_classes: int = 1000,\n",
    "        zero_init_residual: bool = False,\n",
    "        groups: int = 1,\n",
    "        width_per_group: int = 64,\n",
    "        replace_stride_with_dilation: Optional[List[bool]] = None,\n",
    "        norm_layer: Optional[Callable[..., nn.Module]] = None,\n",
    "    ) -> None:\n",
    "        super().__init__()\n",
    "        if norm_layer is None:\n",
    "            norm_layer = nn.BatchNorm2d\n",
    "        self._norm_layer = norm_layer\n",
    "\n",
    "        self.inplanes = 64//channel_size_divide\n",
    "        self.init_inplanes = self.inplanes\n",
    "        self.dilation = 1\n",
    "        if replace_stride_with_dilation is None:\n",
    "            # each element in the tuple indicates if we should replace\n",
    "            # the 2x2 stride with a dilated convolution instead\n",
    "            replace_stride_with_dilation = [False, False, False]\n",
    "        if len(replace_stride_with_dilation) != 3:\n",
    "            raise ValueError(\n",
    "                \"replace_stride_with_dilation should be None \"\n",
    "                f\"or a 3-element tuple, got {replace_stride_with_dilation}\"\n",
    "            )\n",
    "        self.groups = groups\n",
    "        self.base_width = width_per_group\n",
    "        self.conv1 = nn.Conv2d(3, self.inplanes, kernel_size=7, stride=2, padding=3, bias=False)\n",
    "        self.bn1 = norm_layer(self.inplanes)\n",
    "        self.relu = nn.ReLU(inplace=True)\n",
    "        self.maxpool = nn.MaxPool2d(kernel_size=3, stride=2, padding=1)\n",
    "        self.layer1 = self._make_layer(block, 64//channel_size_divide, layers[0])\n",
    "        self.layer2 = self._make_layer(block, 128//channel_size_divide, layers[1], stride=2, dilate=replace_stride_with_dilation[0])\n",
    "        self.layer3 = self._make_layer(block, 256//channel_size_divide, layers[2], stride=2, dilate=replace_stride_with_dilation[1])\n",
    "        self.layer4 = self._make_layer(block, 512//channel_size_divide, layers[3], stride=2, dilate=replace_stride_with_dilation[2])\n",
    "        self.avgpool = nn.AdaptiveAvgPool2d((1, 1))\n",
    "        self.fc = nn.Linear(512 * block.expansion, num_classes)\n",
    "\n",
    "        for m in self.modules():\n",
    "            if isinstance(m, nn.Conv2d):\n",
    "                nn.init.kaiming_normal_(m.weight, mode=\"fan_out\", nonlinearity=\"relu\")\n",
    "            elif isinstance(m, (nn.BatchNorm2d, nn.GroupNorm)):\n",
    "                nn.init.constant_(m.weight, 1)\n",
    "                nn.init.constant_(m.bias, 0)\n",
    "\n",
    "        # Zero-initialize the last BN in each residual branch,\n",
    "        # so that the residual branch starts with zeros, and each residual block behaves like an identity.\n",
    "        # This improves the model by 0.2~0.3% according to https://arxiv.org/abs/1706.02677\n",
    "        if zero_init_residual:\n",
    "            for m in self.modules():\n",
    "                if isinstance(m, Bottleneck) and m.bn3.weight is not None:\n",
    "                    nn.init.constant_(m.bn3.weight, 0)  # type: ignore[arg-type]\n",
    "                elif isinstance(m, BasicBlock) and m.bn2.weight is not None:\n",
    "                    nn.init.constant_(m.bn2.weight, 0)  # type: ignore[arg-type]\n",
    "\n",
    "    def _make_layer(\n",
    "        self,\n",
    "        block: Type[Union[BasicBlock, Bottleneck]],\n",
    "        planes: int,\n",
    "        blocks: int,\n",
    "        stride: int = 1,\n",
    "        dilate: bool = False,\n",
    "    ) -> nn.Sequential:\n",
    "        norm_layer = self._norm_layer\n",
    "        downsample = None\n",
    "        previous_dilation = self.dilation\n",
    "        if dilate:\n",
    "            self.dilation *= stride\n",
    "            stride = 1\n",
    "        if stride != 1 or self.inplanes != planes * block.expansion:\n",
    "            downsample = nn.Sequential(\n",
    "                conv1x1(self.inplanes, planes * block.expansion, stride),\n",
    "                norm_layer(planes * block.expansion),\n",
    "            )\n",
    "\n",
    "        layers = []\n",
    "        layers.append(\n",
    "            block(\n",
    "                self.inplanes, planes, stride, downsample, self.groups, self.base_width, previous_dilation, norm_layer\n",
    "            )\n",
    "        )\n",
    "        self.inplanes = planes * block.expansion\n",
    "        for _ in range(1, blocks):\n",
    "            layers.append(\n",
    "                block(\n",
    "                    self.inplanes,\n",
    "                    planes,\n",
    "                    groups=self.groups,\n",
    "                    base_width=self.base_width,\n",
    "                    dilation=self.dilation,\n",
    "                    norm_layer=norm_layer,\n",
    "                )\n",
    "            )\n",
    "\n",
    "        return nn.Sequential(*layers)\n",
    "\n",
    "    def _forward_impl(self, x: Tensor) -> Tensor:\n",
    "        # See note [TorchScript super()]\n",
    "        x = self.conv1(x)\n",
    "        x = self.bn1(x)\n",
    "        x = self.relu(x)\n",
    "        x = self.maxpool(x)\n",
    "\n",
    "        x = self.layer1(x)\n",
    "        x = self.layer2(x)\n",
    "        x = self.layer3(x)\n",
    "        x = self.layer4(x)\n",
    "\n",
    "        x = self.avgpool(x)\n",
    "        x = torch.flatten(x, 1)\n",
    "        #x = self.fc(x)\n",
    "\n",
    "        return x\n",
    "\n",
    "    def forward(self, x: Tensor) -> Tensor:\n",
    "        return self._forward_impl(x)\n",
    "\n",
    "\n",
    "def _resnet(\n",
    "    block: Type[Union[BasicBlock, Bottleneck]],\n",
    "    layers: List[int],\n",
    "    weights,#: Optional[WeightsEnum],\n",
    "    progress: bool,\n",
    "    channel_size_divide,\n",
    "    **kwargs: Any,\n",
    ") -> ResNet:\n",
    "    if weights is not None:\n",
    "        _ovewrite_named_param(kwargs, \"num_classes\", len(weights.meta[\"categories\"]))\n",
    "\n",
    "    model = ResNet(block, layers, channel_size_divide, **kwargs)\n",
    "\n",
    "    if weights is not None:\n",
    "        model.load_state_dict(weights.get_state_dict(progress=progress))\n",
    "\n",
    "    return model\n",
    "\n",
    "def resnet18(*, progress: bool = True, channel_size_divide=2, **kwargs: Any) -> ResNet:\n",
    "    return _resnet(BasicBlock, [2, 2, 2, 2], None, progress, channel_size_divide=channel_size_divide, **kwargs)\n",
    "\n",
    "def resnet34(*, progress: bool = True, **kwargs: Any) -> ResNet:\n",
    "\n",
    "    return _resnet(BasicBlock, [3, 4, 6, 3], None, progress, **kwargs)"
   ]
  },
  {
   "cell_type": "code",
   "execution_count": 111,
   "id": "622aeb85-bbe2-4b58-8e4f-39e2aa2a4167",
   "metadata": {},
   "outputs": [],
   "source": [
    "### selecting a model\n",
    "\n",
    "class PredictionModel(torch.nn.Module):\n",
    "    # uses a modified resnet that bypasses the usual \n",
    "    def __init__(self, image_channels, num_clin_features, out_classes, latent_fc_features=64, channel_size_divide=2, finetune_head=False):\n",
    "        super().__init__()\n",
    "        model_base = resnet18(channel_size_divide=channel_size_divide)\n",
    "        self.channel_size_divide = channel_size_divide\n",
    "        model_base.conv1 = nn.Conv2d(image_channels, model_base.init_inplanes, kernel_size=7, stride=2, padding=3, bias=False)\n",
    "        \n",
    "        self.model_base = model_base\n",
    "        self.finetune_head = finetune_head\n",
    "        \n",
    "        # replace the head of the model with another layer.\n",
    "        self.fc1 = nn.Linear(model_base.fc.in_features//channel_size_divide + num_clin_features, latent_fc_features)\n",
    "        self.a = nn.ReLU()\n",
    "        self.fc2 = nn.Linear(latent_fc_features, out_classes)\n",
    "        \n",
    "    def forward(self, inp):\n",
    "        \n",
    "        \n",
    "        x = inp[0]\n",
    "        clin_data = inp[1]\n",
    "        \n",
    "        # x = None\n",
    "        \n",
    "        if x != None:\n",
    "            if not self.finetune_head:\n",
    "                features = self.model_base(x)\n",
    "            else:\n",
    "                with torch.no_grad():\n",
    "                    features = self.model_base(x)\n",
    "        else:\n",
    "            features = torch.zeros(inp[0].shape[0], 512//self.channel_size_divide).cuda()\n",
    "        dense_input = torch.cat([features, clin_data], dim=1)\n",
    "        \n",
    "        out = self.fc2(self.a(self.fc1(dense_input)))\n",
    "        \n",
    "        return out\n",
    "        \n",
    "        "
   ]
  },
  {
   "cell_type": "code",
   "execution_count": 112,
   "id": "cdf5f346-1ab9-4bf3-8113-2397a3f8de34",
   "metadata": {},
   "outputs": [],
   "source": [
    "class xent_wrapper(nn.Module):\n",
    "    def __init__(self):\n",
    "        super().__init__()\n",
    "        self.base_loss = torch.nn.CrossEntropyLoss()\n",
    "    def forward(self, y_hat, y):\n",
    "        return self.base_loss(y_hat, y.type(torch.long))"
   ]
  },
  {
   "cell_type": "code",
   "execution_count": 113,
   "id": "76073b10-0196-48c2-a6c6-9a9fdf44c48b",
   "metadata": {},
   "outputs": [],
   "source": [
    "import torchmetrics\n",
    "f1_metric = torchmetrics.F1Score(task='multiclass', num_classes=4) # note need to set the F1 score correctly depending on the number of classes in the task!!"
   ]
  },
  {
   "cell_type": "code",
   "execution_count": 114,
   "id": "ee813455-4c27-488b-b555-1e53bd09296f",
   "metadata": {},
   "outputs": [],
   "source": [
    "def run_eval_2(mdl, dataloader):\n",
    "    # reimplementing this, because my old code was behaving strangely....\n",
    "    \n",
    "    y_hats = []\n",
    "    ys = []\n",
    "    \n",
    "    for (x, clin_data), y in dataloader:\n",
    "        with torch.no_grad():\n",
    "            mdl.eval()\n",
    "            out = mdl.cuda()((x.cuda(), clin_data.cuda())).cpu()\n",
    "            y_hat = out.argmax(dim=1)\n",
    "            y_hats.append(y_hat)\n",
    "            ys.append(y)\n",
    "    \n",
    "    y_hats = torch.cat(y_hats)\n",
    "    ys = torch.cat(ys)\n",
    "    \n",
    "    print(ys.shape, y_hats.shape)\n",
    "    \n",
    "    mean_acc = (y_hats == ys).sum() / ys.shape[0]\n",
    "    \n",
    "    return mean_acc\n",
    "            \n",
    "    \n",
    "    "
   ]
  },
  {
   "cell_type": "code",
   "execution_count": null,
   "id": "9b144e57-6b5a-4b23-a4c8-b77fd1f4cd99",
   "metadata": {},
   "outputs": [
    {
     "name": "stderr",
     "output_type": "stream",
     "text": [
      "/home/s2208943/miniconda3/envs/uq/lib/python3.10/site-packages/lightning_lite/plugins/environments/slurm.py:167: PossibleUserWarning: The `srun` command is available on your system but is not used. HINT: If your intention is to run Lightning on SLURM, prepend your python command with `srun` like so: srun python /home/s2208943/miniconda3/envs/uq/lib/python3.10/sit ...\n",
      "  rank_zero_warn(\n",
      "GPU available: True (cuda), used: True\n",
      "TPU available: False, using: 0 TPU cores\n",
      "IPU available: False, using: 0 IPUs\n",
      "HPU available: False, using: 0 HPUs\n",
      "/home/s2208943/miniconda3/envs/uq/lib/python3.10/site-packages/pytorch_lightning/callbacks/model_checkpoint.py:604: UserWarning: Checkpoint directory /home/s2208943/ipdis/UQ_WMH_methods/trustworthai/run/ADNI_300_analysis exists and is not empty.\n",
      "  rank_zero_warn(f\"Checkpoint directory {dirpath} exists and is not empty.\")\n",
      "LOCAL_RANK: 0 - CUDA_VISIBLE_DEVICES: [0]\n",
      "\n",
      "  | Name  | Type            | Params\n",
      "------------------------------------------\n",
      "0 | model | PredictionModel | 709 K \n",
      "1 | loss  | xent_wrapper    | 0     \n",
      "------------------------------------------\n",
      "709 K     Trainable params\n",
      "0         Non-trainable params\n",
      "709 K     Total params\n",
      "2.840     Total estimated model params size (MB)\n"
     ]
    },
    {
     "data": {
      "application/vnd.jupyter.widget-view+json": {
       "model_id": "",
       "version_major": 2,
       "version_minor": 0
      },
      "text/plain": [
       "Sanity Checking: 0it [00:00, ?it/s]"
      ]
     },
     "metadata": {},
     "output_type": "display_data"
    },
    {
     "name": "stderr",
     "output_type": "stream",
     "text": [
      "/home/s2208943/miniconda3/envs/uq/lib/python3.10/site-packages/pytorch_lightning/trainer/trainer.py:1595: PossibleUserWarning: The number of training batches (17) is smaller than the logging interval Trainer(log_every_n_steps=50). Set a lower value for log_every_n_steps if you want to see logs for the training epoch.\n",
      "  rank_zero_warn(\n"
     ]
    },
    {
     "data": {
      "application/vnd.jupyter.widget-view+json": {
       "model_id": "38f941a80125479fa09f1bdf9223e0ec",
       "version_major": 2,
       "version_minor": 0
      },
      "text/plain": [
       "Training: 0it [00:00, ?it/s]"
      ]
     },
     "metadata": {},
     "output_type": "display_data"
    },
    {
     "data": {
      "application/vnd.jupyter.widget-view+json": {
       "model_id": "",
       "version_major": 2,
       "version_minor": 0
      },
      "text/plain": [
       "Validation: 0it [00:00, ?it/s]"
      ]
     },
     "metadata": {},
     "output_type": "display_data"
    },
    {
     "name": "stderr",
     "output_type": "stream",
     "text": [
      "Metric val_loss improved. New best score: 1.397\n"
     ]
    },
    {
     "data": {
      "application/vnd.jupyter.widget-view+json": {
       "model_id": "",
       "version_major": 2,
       "version_minor": 0
      },
      "text/plain": [
       "Validation: 0it [00:00, ?it/s]"
      ]
     },
     "metadata": {},
     "output_type": "display_data"
    },
    {
     "data": {
      "application/vnd.jupyter.widget-view+json": {
       "model_id": "",
       "version_major": 2,
       "version_minor": 0
      },
      "text/plain": [
       "Validation: 0it [00:00, ?it/s]"
      ]
     },
     "metadata": {},
     "output_type": "display_data"
    },
    {
     "name": "stderr",
     "output_type": "stream",
     "text": [
      "Metric val_loss improved by 0.025 >= min_delta = 0.01. New best score: 1.372\n"
     ]
    },
    {
     "data": {
      "application/vnd.jupyter.widget-view+json": {
       "model_id": "",
       "version_major": 2,
       "version_minor": 0
      },
      "text/plain": [
       "Validation: 0it [00:00, ?it/s]"
      ]
     },
     "metadata": {},
     "output_type": "display_data"
    },
    {
     "name": "stderr",
     "output_type": "stream",
     "text": [
      "Metric val_loss improved by 0.031 >= min_delta = 0.01. New best score: 1.341\n"
     ]
    },
    {
     "data": {
      "application/vnd.jupyter.widget-view+json": {
       "model_id": "",
       "version_major": 2,
       "version_minor": 0
      },
      "text/plain": [
       "Validation: 0it [00:00, ?it/s]"
      ]
     },
     "metadata": {},
     "output_type": "display_data"
    },
    {
     "name": "stderr",
     "output_type": "stream",
     "text": [
      "Metric val_loss improved by 0.056 >= min_delta = 0.01. New best score: 1.285\n"
     ]
    },
    {
     "data": {
      "application/vnd.jupyter.widget-view+json": {
       "model_id": "",
       "version_major": 2,
       "version_minor": 0
      },
      "text/plain": [
       "Validation: 0it [00:00, ?it/s]"
      ]
     },
     "metadata": {},
     "output_type": "display_data"
    },
    {
     "name": "stderr",
     "output_type": "stream",
     "text": [
      "Metric val_loss improved by 0.036 >= min_delta = 0.01. New best score: 1.249\n"
     ]
    },
    {
     "data": {
      "application/vnd.jupyter.widget-view+json": {
       "model_id": "",
       "version_major": 2,
       "version_minor": 0
      },
      "text/plain": [
       "Validation: 0it [00:00, ?it/s]"
      ]
     },
     "metadata": {},
     "output_type": "display_data"
    },
    {
     "name": "stderr",
     "output_type": "stream",
     "text": [
      "Metric val_loss improved by 0.093 >= min_delta = 0.01. New best score: 1.156\n"
     ]
    },
    {
     "data": {
      "application/vnd.jupyter.widget-view+json": {
       "model_id": "",
       "version_major": 2,
       "version_minor": 0
      },
      "text/plain": [
       "Validation: 0it [00:00, ?it/s]"
      ]
     },
     "metadata": {},
     "output_type": "display_data"
    },
    {
     "data": {
      "application/vnd.jupyter.widget-view+json": {
       "model_id": "",
       "version_major": 2,
       "version_minor": 0
      },
      "text/plain": [
       "Validation: 0it [00:00, ?it/s]"
      ]
     },
     "metadata": {},
     "output_type": "display_data"
    },
    {
     "data": {
      "application/vnd.jupyter.widget-view+json": {
       "model_id": "",
       "version_major": 2,
       "version_minor": 0
      },
      "text/plain": [
       "Validation: 0it [00:00, ?it/s]"
      ]
     },
     "metadata": {},
     "output_type": "display_data"
    },
    {
     "data": {
      "application/vnd.jupyter.widget-view+json": {
       "model_id": "",
       "version_major": 2,
       "version_minor": 0
      },
      "text/plain": [
       "Validation: 0it [00:00, ?it/s]"
      ]
     },
     "metadata": {},
     "output_type": "display_data"
    },
    {
     "name": "stderr",
     "output_type": "stream",
     "text": [
      "Metric val_loss improved by 0.026 >= min_delta = 0.01. New best score: 1.130\n"
     ]
    },
    {
     "data": {
      "application/vnd.jupyter.widget-view+json": {
       "model_id": "",
       "version_major": 2,
       "version_minor": 0
      },
      "text/plain": [
       "Validation: 0it [00:00, ?it/s]"
      ]
     },
     "metadata": {},
     "output_type": "display_data"
    }
   ],
   "source": [
    "ys_map = {}\n",
    "preds_map = {}\n",
    "\n",
    "split = 0\n",
    "channel = 'ent'\n",
    "\n",
    "train_ds, val_ds, test_ds = cross_validate_split(imgs_ds, val_prop=0.15, test_prop=0.15, seed=3407, split=0, test_fold_smooth=1)\n",
    "train_ds = AugmentedDataset(train_ds, get_transforms())\n",
    "val_ds = AugmentedDataset(val_ds, get_transforms())\n",
    "test_ds = test_ds# AugmentedDataset(test_ds, get_transforms()) # no augmentation on test\n",
    "\n",
    "channels = ['ent', 'pred']\n",
    "train_ds_2d = GetLabelsDs(FormatDataset(train_ds, channels=channels))\n",
    "val_ds_2d = GetLabelsDs(FormatDataset(val_ds, channels=channels))\n",
    "test_ds_2d = GetLabelsDs(FormatDataset(test_ds, channels=channels))\n",
    "\n",
    "batch_size = 12\n",
    "# train_dataloader = DataLoader(train_ds_2d, batch_size=batch_size, shuffle=True, num_workers=4)\n",
    "# val_dataloader = DataLoader(val_ds_2d, batch_size=batch_size, shuffle=False, num_workers=4)\n",
    "# test_dataloader = DataLoader(test_ds_2d, batch_size=batch_size, shuffle=False, num_workers=4)\n",
    "train_dataloader = DataLoader(train_ds_2d, batch_size=batch_size, sampler=ImbalancedDatasetSampler(train_ds_2d), num_workers=4)\n",
    "val_dataloader = DataLoader(val_ds_2d, batch_size=batch_size, sampler=ImbalancedDatasetSampler(val_ds_2d), num_workers=4)\n",
    "test_dataloader = DataLoader(test_ds_2d, batch_size=batch_size, sampler=ImbalancedDatasetSampler(test_ds_2d), num_workers=4)\n",
    "\n",
    "image_channels = train_ds_2d[0][0][0].shape[0]\n",
    "clin_features = len(fields)\n",
    "model_raw = PredictionModel(image_channels=image_channels, num_clin_features=clin_features, out_classes=4, channel_size_divide=8, finetune_head=True)#.cuda()\n",
    "loss = xent_wrapper()\n",
    "\n",
    "\n",
    "### training the model\n",
    "# setup optimizer and model wrapper\n",
    "\n",
    "weight_decay = 0.01#0.05\n",
    "max_epochs = 100\n",
    "lr=2e-4\n",
    "early_stop_patience = 7\n",
    "\n",
    "optimizer_params={\"lr\":lr, \"weight_decay\":weight_decay}\n",
    "optimizer = torch.optim.Adam\n",
    "lr_scheduler_params={\"milestones\":[1000], \"gamma\":0.5}\n",
    "lr_scheduler_constructor = torch.optim.lr_scheduler.MultiStepLR\n",
    "\n",
    "# wrap the model in the pytorch_lightning module that automates training\n",
    "ckpt_path = f\"/home/s2208943/ipdis/results/ADNI_300_Fazekas_CV_run1/WMH_Deep_{channels[0]}_{split}.ckpt\"\n",
    "\n",
    "# model = StandardLitModelWrapper.load_from_checkpoint(ckpt_path, model=model_raw, loss=loss, \n",
    "#                                 logging_metric=lambda : None,\n",
    "#                                 optimizer_params=optimizer_params,\n",
    "#                                 lr_scheduler_params=lr_scheduler_params,\n",
    "#                                 optimizer_constructor=optimizer,\n",
    "#                                 lr_scheduler_constructor=lr_scheduler_constructor\n",
    "#                                )\n",
    "model = StandardLitModelWrapper(\n",
    "    model=model_raw, loss=loss, \n",
    "    logging_metric=lambda : None,\n",
    "    optimizer_params=optimizer_params,\n",
    "    lr_scheduler_params=lr_scheduler_params,\n",
    "    optimizer_constructor=optimizer,\n",
    "    lr_scheduler_constructor=lr_scheduler_constructor\n",
    ")\n",
    "\n",
    "# train the model\n",
    "trainer = get_trainer(max_epochs, \".\", early_stop_patience=early_stop_patience)\n",
    "\n",
    "trainer.fit(model, train_dataloader, val_dataloader)\n",
    "print(run_eval_2(model, test_dataloader))"
   ]
  },
  {
   "cell_type": "code",
   "execution_count": 116,
   "id": "a0cb8535-0562-4258-9b18-4fd22ace4938",
   "metadata": {},
   "outputs": [
    {
     "data": {
      "text/plain": [
       "40"
      ]
     },
     "execution_count": 116,
     "metadata": {},
     "output_type": "execute_result"
    }
   ],
   "source": [
    "train_ds_2d[0][0][0].shape[0]"
   ]
  },
  {
   "cell_type": "code",
   "execution_count": 60,
   "id": "d93d564f-754f-4a3a-b941-b05d8af4f847",
   "metadata": {},
   "outputs": [
    {
     "name": "stderr",
     "output_type": "stream",
     "text": [
      "Restoring states from the checkpoint path at /home/s2208943/ipdis/UQ_WMH_methods/trustworthai/run/ADNI_300_analysis/epoch=19-step=340-v1.ckpt\n",
      "LOCAL_RANK: 0 - CUDA_VISIBLE_DEVICES: [0]\n",
      "Loaded model weights from checkpoint at /home/s2208943/ipdis/UQ_WMH_methods/trustworthai/run/ADNI_300_analysis/epoch=19-step=340-v1.ckpt\n"
     ]
    },
    {
     "data": {
      "application/vnd.jupyter.widget-view+json": {
       "model_id": "ce854998e65e4fc698f74dcc2f45147a",
       "version_major": 2,
       "version_minor": 0
      },
      "text/plain": [
       "Validation: 0it [00:00, ?it/s]"
      ]
     },
     "metadata": {},
     "output_type": "display_data"
    },
    {
     "name": "stdout",
     "output_type": "stream",
     "text": [
      "────────────────────────────────────────────────────────────────────────────────────────────────────────────────────────\n",
      "     Validate metric           DataLoader 0\n",
      "────────────────────────────────────────────────────────────────────────────────────────────────────────────────────────\n",
      "        val_loss             1.108062505722046\n",
      "────────────────────────────────────────────────────────────────────────────────────────────────────────────────────────\n"
     ]
    },
    {
     "data": {
      "text/plain": [
       "[{'val_loss': 1.108062505722046}]"
      ]
     },
     "execution_count": 60,
     "metadata": {},
     "output_type": "execute_result"
    }
   ],
   "source": [
    "trainer.validate(model, val_dataloader, ckpt_path='best')"
   ]
  },
  {
   "cell_type": "code",
   "execution_count": null,
   "id": "3f651db2-02f6-477d-a0ef-84561feeb6f1",
   "metadata": {},
   "outputs": [],
   "source": []
  },
  {
   "cell_type": "code",
   "execution_count": null,
   "id": "b43cb990-5636-48e5-9467-53007cd58225",
   "metadata": {},
   "outputs": [],
   "source": []
  },
  {
   "cell_type": "code",
   "execution_count": 161,
   "id": "ece09e9c-a3e2-491c-abe9-1160eefbbbc9",
   "metadata": {},
   "outputs": [
    {
     "name": "stderr",
     "output_type": "stream",
     "text": [
      "Restoring states from the checkpoint path at /home/s2208943/ipdis/UQ_WMH_methods/trustworthai/run/ADNI_300_analysis/epoch=15-step=272.ckpt\n",
      "LOCAL_RANK: 0 - CUDA_VISIBLE_DEVICES: [0]\n",
      "Loaded model weights from checkpoint at /home/s2208943/ipdis/UQ_WMH_methods/trustworthai/run/ADNI_300_analysis/epoch=15-step=272.ckpt\n"
     ]
    },
    {
     "data": {
      "application/vnd.jupyter.widget-view+json": {
       "model_id": "37d55ba60ccc4da5bb2fa1b77cef6c8f",
       "version_major": 2,
       "version_minor": 0
      },
      "text/plain": [
       "Validation: 0it [00:00, ?it/s]"
      ]
     },
     "metadata": {},
     "output_type": "display_data"
    },
    {
     "name": "stdout",
     "output_type": "stream",
     "text": [
      "────────────────────────────────────────────────────────────────────────────────────────────────────────────────────────\n",
      "     Validate metric           DataLoader 0\n",
      "────────────────────────────────────────────────────────────────────────────────────────────────────────────────────────\n",
      "        val_loss            0.9371167421340942\n",
      "────────────────────────────────────────────────────────────────────────────────────────────────────────────────────────\n"
     ]
    },
    {
     "data": {
      "text/plain": [
       "[{'val_loss': 0.9371167421340942}]"
      ]
     },
     "execution_count": 161,
     "metadata": {},
     "output_type": "execute_result"
    }
   ],
   "source": [
    "\n",
    "# previous run with resampled dataset\n",
    "trainer.validate(model, val_dataloader, ckpt_path='best')"
   ]
  },
  {
   "cell_type": "code",
   "execution_count": 170,
   "id": "0ecce7a1-857d-4433-b746-6b3c2ad19e49",
   "metadata": {},
   "outputs": [
    {
     "data": {
      "text/plain": [
       "'/home/s2208943/ipdis/UQ_WMH_methods/trustworthai/run/ADNI_300_analysis/epoch=15-step=272.ckpt'"
      ]
     },
     "execution_count": 170,
     "metadata": {},
     "output_type": "execute_result"
    }
   ],
   "source": [
    "get_best_checkpoint(trainer)"
   ]
  },
  {
   "cell_type": "code",
   "execution_count": 61,
   "id": "2080dc75-7083-439e-99b6-dedc00557d5f",
   "metadata": {},
   "outputs": [],
   "source": [
    "import torch\n",
    "import numpy as np\n",
    "import matplotlib.pyplot as plt\n",
    "import matplotlib.patheffects as PathEffects\n",
    "from sklearn.metrics import confusion_matrix\n",
    "from tqdm import tqdm\n",
    "\n",
    "def plot_confusion_matrix(dataloader, model):\n",
    "    model.eval()\n",
    "    all_preds = []\n",
    "    all_labels = []\n",
    "    \n",
    "    with torch.no_grad():\n",
    "        for (x, clin_data), labels in tqdm(dataloader, position=0, leave=True):\n",
    "            outputs = model.cuda()((x.cuda(), clin_data.cuda()))\n",
    "            probs = torch.softmax(outputs, dim=1)\n",
    "            preds = torch.argmax(probs, dim=1)\n",
    "            all_preds.extend(preds.cpu().numpy())\n",
    "            all_labels.extend(labels.cpu().numpy())\n",
    "    \n",
    "    cm = confusion_matrix(all_labels, all_preds, normalize='true')\n",
    "    num_classes = cm.shape[0]\n",
    "    class_names = [str(i) for i in range(num_classes)]\n",
    "    \n",
    "    fig, ax = plt.subplots()\n",
    "    im = ax.imshow(cm, cmap=plt.cm.Blues)\n",
    "    ax.set_xticks(np.arange(num_classes))\n",
    "    ax.set_yticks(np.arange(num_classes))\n",
    "    ax.set_xticklabels(class_names)\n",
    "    ax.set_yticklabels(class_names)\n",
    "    plt.setp(ax.get_xticklabels(), rotation=45, ha=\"right\",\n",
    "             rotation_mode=\"anchor\")\n",
    "    \n",
    "    \n",
    "    for i in range(num_classes):\n",
    "        for j in range(num_classes):\n",
    "            text = ax.text(j, i, np.round(cm[i, j], 3),\n",
    "                           ha=\"center\", va=\"center\", color=\"black\")\n",
    "            text.set_path_effects([PathEffects.withStroke(linewidth=2, foreground='w')])\n",
    "\n",
    "    \n",
    "    ax.set_title(\"Confusion Matrix\")\n",
    "    fig.tight_layout()\n",
    "    plt.show()\n",
    "\n",
    "    return all_preds, all_labels"
   ]
  },
  {
   "cell_type": "code",
   "execution_count": 62,
   "id": "10137f5e-08a6-44e5-9544-0cc1d98617f2",
   "metadata": {},
   "outputs": [
    {
     "name": "stderr",
     "output_type": "stream",
     "text": [
      "100%|███████████████████████████████████████████████████████████████████████████████████████████████████████████████████████████████████████████████████████████| 4/4 [00:09<00:00,  2.39s/it]\n"
     ]
    },
    {
     "data": {
      "image/png": "[encoded data removed]",
      "text/plain": [
       "<Figure size 640x480 with 1 Axes>"
      ]
     },
     "metadata": {},
     "output_type": "display_data"
    }
   ],
   "source": [
    "ps, ls = plot_confusion_matrix(test_dataloader, model)"
   ]
  },
  {
   "cell_type": "code",
   "execution_count": null,
   "id": "db1e3b2c-0e58-40d4-97b8-180d46c2b11f",
   "metadata": {},
   "outputs": [],
   "source": []
  },
  {
   "cell_type": "code",
   "execution_count": 147,
   "id": "bb663e45-c44c-4169-b860-6ae53b44fc64",
   "metadata": {},
   "outputs": [],
   "source": [
    "def plot_confusion_matrix_from_results(all_preds, all_labels):\n",
    "    model.eval()\n",
    "    \n",
    "    cm = confusion_matrix(all_labels, all_preds, normalize='true')\n",
    "    num_classes = cm.shape[0]\n",
    "    class_names = [str(i) for i in range(num_classes)]\n",
    "    \n",
    "    fig, ax = plt.subplots()\n",
    "    im = ax.imshow(cm, cmap=plt.cm.Blues)\n",
    "    ax.set_xticks(np.arange(num_classes))\n",
    "    ax.set_yticks(np.arange(num_classes))\n",
    "    ax.set_xticklabels(class_names)\n",
    "    ax.set_yticklabels(class_names)\n",
    "    plt.setp(ax.get_xticklabels(), rotation=45, ha=\"right\",\n",
    "             rotation_mode=\"anchor\")\n",
    "    \n",
    "    \n",
    "    for i in range(num_classes):\n",
    "        for j in range(num_classes):\n",
    "            text = ax.text(j, i, np.round(cm[i, j], 3),\n",
    "                           ha=\"center\", va=\"center\", color=\"black\")\n",
    "            text.set_path_effects([PathEffects.withStroke(linewidth=2, foreground='w')])\n",
    "\n",
    "    \n",
    "    ax.set_title(\"Confusion Matrix\")\n",
    "    fig.tight_layout()\n",
    "    plt.show()\n",
    "    \n",
    "    return cm"
   ]
  },
  {
   "cell_type": "code",
   "execution_count": 148,
   "id": "d20f7a28-ea14-471b-b3a1-214cd9867720",
   "metadata": {},
   "outputs": [
    {
     "data": {
      "image/png": "[encoded data removed]",
      "text/plain": [
       "<Figure size 640x480 with 1 Axes>"
      ]
     },
     "metadata": {},
     "output_type": "display_data"
    },
    {
     "data": {
      "text/plain": [
       "array([[0.56060606, 0.43939394, 0.        ],\n",
       "       [0.11333333, 0.87333333, 0.01333333],\n",
       "       [0.        , 0.11111111, 0.88888889]])"
      ]
     },
     "execution_count": 148,
     "metadata": {},
     "output_type": "execute_result"
    }
   ],
   "source": [
    "plot_confusion_matrix_from_results(preds_map['ent'], ys_map['ent'])"
   ]
  },
  {
   "cell_type": "code",
   "execution_count": 149,
   "id": "7fb56964-ac93-4970-a968-4447e65c2a28",
   "metadata": {},
   "outputs": [
    {
     "data": {
      "image/png": "[encoded data removed]",
      "text/plain": [
       "<Figure size 640x480 with 1 Axes>"
      ]
     },
     "metadata": {},
     "output_type": "display_data"
    },
    {
     "data": {
      "text/plain": [
       "array([[0.48484848, 0.51515152, 0.        ],\n",
       "       [0.14666667, 0.83333333, 0.02      ],\n",
       "       [0.        , 0.27777778, 0.72222222]])"
      ]
     },
     "execution_count": 149,
     "metadata": {},
     "output_type": "execute_result"
    }
   ],
   "source": [
    "plot_confusion_matrix_from_results(preds_map['pred'], ys_map['pred'])"
   ]
  },
  {
   "cell_type": "code",
   "execution_count": 150,
   "id": "596a84f0-43dc-412f-ab26-7a4a08891de6",
   "metadata": {},
   "outputs": [],
   "source": [
    "import socket"
   ]
  },
  {
   "cell_type": "code",
   "execution_count": 152,
   "id": "8313c93a-9e28-4cde-85ef-bc5298a29d82",
   "metadata": {},
   "outputs": [
    {
     "name": "stdout",
     "output_type": "stream",
     "text": [
      "landonia09.inf.ed.ac.uk\n"
     ]
    }
   ],
   "source": [
    "print(socket.gethostname())"
   ]
  },
  {
   "cell_type": "code",
   "execution_count": 154,
   "id": "c052ba3c-3a52-4d7e-ae3e-d4d7894faee9",
   "metadata": {},
   "outputs": [],
   "source": [
    "torch.save(model, \"test.ckpt\")"
   ]
  },
  {
   "cell_type": "code",
   "execution_count": 157,
   "id": "a04d378c-1963-428e-9687-63be7fdc2f0d",
   "metadata": {},
   "outputs": [],
   "source": [
    "model = torch.load(\"test.ckpt\")"
   ]
  },
  {
   "cell_type": "code",
   "execution_count": 156,
   "id": "e6d35279-5a85-4443-ba72-19814d91a297",
   "metadata": {},
   "outputs": [
    {
     "ename": "AttributeError",
     "evalue": "'StandardLitModelWrapper' object has no attribute 'setdefault'",
     "output_type": "error",
     "traceback": [
      "\u001b[0;31m---------------------------------------------------------------------------\u001b[0m",
      "\u001b[0;31mAttributeError\u001b[0m                            Traceback (most recent call last)",
      "Cell \u001b[0;32mIn[156], line 1\u001b[0m\n\u001b[0;32m----> 1\u001b[0m model \u001b[38;5;241m=\u001b[39m \u001b[43mStandardLitModelWrapper\u001b[49m\u001b[38;5;241;43m.\u001b[39;49m\u001b[43mload_from_checkpoint\u001b[49m\u001b[43m(\u001b[49m\u001b[38;5;124;43m\"\u001b[39;49m\u001b[38;5;124;43mtest.ckpt\u001b[39;49m\u001b[38;5;124;43m\"\u001b[39;49m\u001b[43m,\u001b[49m\u001b[43m \u001b[49m\u001b[43mmodel\u001b[49m\u001b[38;5;241;43m=\u001b[39;49m\u001b[43mmodel\u001b[49m\u001b[43m,\u001b[49m\u001b[43m \u001b[49m\u001b[43mloss\u001b[49m\u001b[38;5;241;43m=\u001b[39;49m\u001b[43mloss\u001b[49m\u001b[43m,\u001b[49m\u001b[43m \u001b[49m\n\u001b[1;32m      2\u001b[0m \u001b[43m                                        \u001b[49m\u001b[43mlogging_metric\u001b[49m\u001b[38;5;241;43m=\u001b[39;49m\u001b[38;5;28;43;01mlambda\u001b[39;49;00m\u001b[43m \u001b[49m\u001b[43m:\u001b[49m\u001b[43m \u001b[49m\u001b[38;5;28;43;01mNone\u001b[39;49;00m\u001b[43m,\u001b[49m\n\u001b[1;32m      3\u001b[0m \u001b[43m                                        \u001b[49m\u001b[43moptimizer_params\u001b[49m\u001b[38;5;241;43m=\u001b[39;49m\u001b[43moptimizer_params\u001b[49m\u001b[43m,\u001b[49m\n\u001b[1;32m      4\u001b[0m \u001b[43m                                        \u001b[49m\u001b[43mlr_scheduler_params\u001b[49m\u001b[38;5;241;43m=\u001b[39;49m\u001b[43mlr_scheduler_params\u001b[49m\u001b[43m,\u001b[49m\n\u001b[1;32m      5\u001b[0m \u001b[43m                                        \u001b[49m\u001b[43moptimizer_constructor\u001b[49m\u001b[38;5;241;43m=\u001b[39;49m\u001b[43moptimizer\u001b[49m\u001b[43m,\u001b[49m\n\u001b[1;32m      6\u001b[0m \u001b[43m                                        \u001b[49m\u001b[43mlr_scheduler_constructor\u001b[49m\u001b[38;5;241;43m=\u001b[39;49m\u001b[43mlr_scheduler_constructor\u001b[49m\n\u001b[1;32m      7\u001b[0m \u001b[43m                                       \u001b[49m\u001b[43m)\u001b[49m\n",
      "File \u001b[0;32m~/miniconda3/envs/uq/lib/python3.10/site-packages/pytorch_lightning/core/saving.py:137\u001b[0m, in \u001b[0;36mModelIO.load_from_checkpoint\u001b[0;34m(cls, checkpoint_path, map_location, hparams_file, strict, **kwargs)\u001b[0m\n\u001b[1;32m     57\u001b[0m \u001b[38;5;129m@classmethod\u001b[39m\n\u001b[1;32m     58\u001b[0m \u001b[38;5;28;01mdef\u001b[39;00m \u001b[38;5;21mload_from_checkpoint\u001b[39m(\n\u001b[1;32m     59\u001b[0m     \u001b[38;5;28mcls\u001b[39m,\n\u001b[0;32m   (...)\u001b[0m\n\u001b[1;32m     64\u001b[0m     \u001b[38;5;241m*\u001b[39m\u001b[38;5;241m*\u001b[39mkwargs: Any,\n\u001b[1;32m     65\u001b[0m ) \u001b[38;5;241m-\u001b[39m\u001b[38;5;241m>\u001b[39m Self:  \u001b[38;5;66;03m# type: ignore[valid-type]\u001b[39;00m\n\u001b[1;32m     66\u001b[0m \u001b[38;5;250m    \u001b[39m\u001b[38;5;124mr\u001b[39m\u001b[38;5;124;03m\"\"\"\u001b[39;00m\n\u001b[1;32m     67\u001b[0m \u001b[38;5;124;03m    Primary way of loading a model from a checkpoint. When Lightning saves a checkpoint\u001b[39;00m\n\u001b[1;32m     68\u001b[0m \u001b[38;5;124;03m    it stores the arguments passed to ``__init__``  in the checkpoint under ``\"hyper_parameters\"``.\u001b[39;00m\n\u001b[0;32m   (...)\u001b[0m\n\u001b[1;32m    135\u001b[0m \u001b[38;5;124;03m        y_hat = pretrained_model(x)\u001b[39;00m\n\u001b[1;32m    136\u001b[0m \u001b[38;5;124;03m    \"\"\"\u001b[39;00m\n\u001b[0;32m--> 137\u001b[0m     \u001b[38;5;28;01mreturn\u001b[39;00m \u001b[43m_load_from_checkpoint\u001b[49m\u001b[43m(\u001b[49m\n\u001b[1;32m    138\u001b[0m \u001b[43m        \u001b[49m\u001b[38;5;28;43mcls\u001b[39;49m\u001b[43m,\u001b[49m\n\u001b[1;32m    139\u001b[0m \u001b[43m        \u001b[49m\u001b[43mcheckpoint_path\u001b[49m\u001b[43m,\u001b[49m\n\u001b[1;32m    140\u001b[0m \u001b[43m        \u001b[49m\u001b[43mmap_location\u001b[49m\u001b[43m,\u001b[49m\n\u001b[1;32m    141\u001b[0m \u001b[43m        \u001b[49m\u001b[43mhparams_file\u001b[49m\u001b[43m,\u001b[49m\n\u001b[1;32m    142\u001b[0m \u001b[43m        \u001b[49m\u001b[43mstrict\u001b[49m\u001b[43m,\u001b[49m\n\u001b[1;32m    143\u001b[0m \u001b[43m        \u001b[49m\u001b[38;5;241;43m*\u001b[39;49m\u001b[38;5;241;43m*\u001b[39;49m\u001b[43mkwargs\u001b[49m\u001b[43m,\u001b[49m\n\u001b[1;32m    144\u001b[0m \u001b[43m    \u001b[49m\u001b[43m)\u001b[49m\n",
      "File \u001b[0;32m~/miniconda3/envs/uq/lib/python3.10/site-packages/pytorch_lightning/core/saving.py:173\u001b[0m, in \u001b[0;36m_load_from_checkpoint\u001b[0;34m(cls, checkpoint_path, map_location, hparams_file, strict, **kwargs)\u001b[0m\n\u001b[1;32m    170\u001b[0m     checkpoint[\u001b[38;5;28mcls\u001b[39m\u001b[38;5;241m.\u001b[39mCHECKPOINT_HYPER_PARAMS_KEY] \u001b[38;5;241m=\u001b[39m hparams\n\u001b[1;32m    172\u001b[0m \u001b[38;5;66;03m# for past checkpoint need to add the new key\u001b[39;00m\n\u001b[0;32m--> 173\u001b[0m \u001b[43mcheckpoint\u001b[49m\u001b[38;5;241;43m.\u001b[39;49m\u001b[43msetdefault\u001b[49m(\u001b[38;5;28mcls\u001b[39m\u001b[38;5;241m.\u001b[39mCHECKPOINT_HYPER_PARAMS_KEY, {})\n\u001b[1;32m    174\u001b[0m \u001b[38;5;66;03m# override the hparams with values that were passed in\u001b[39;00m\n\u001b[1;32m    175\u001b[0m checkpoint[\u001b[38;5;28mcls\u001b[39m\u001b[38;5;241m.\u001b[39mCHECKPOINT_HYPER_PARAMS_KEY]\u001b[38;5;241m.\u001b[39mupdate(kwargs)\n",
      "File \u001b[0;32m~/miniconda3/envs/uq/lib/python3.10/site-packages/torch/nn/modules/module.py:1269\u001b[0m, in \u001b[0;36mModule.__getattr__\u001b[0;34m(self, name)\u001b[0m\n\u001b[1;32m   1267\u001b[0m     \u001b[38;5;28;01mif\u001b[39;00m name \u001b[38;5;129;01min\u001b[39;00m modules:\n\u001b[1;32m   1268\u001b[0m         \u001b[38;5;28;01mreturn\u001b[39;00m modules[name]\n\u001b[0;32m-> 1269\u001b[0m \u001b[38;5;28;01mraise\u001b[39;00m \u001b[38;5;167;01mAttributeError\u001b[39;00m(\u001b[38;5;124m\"\u001b[39m\u001b[38;5;124m'\u001b[39m\u001b[38;5;132;01m{}\u001b[39;00m\u001b[38;5;124m'\u001b[39m\u001b[38;5;124m object has no attribute \u001b[39m\u001b[38;5;124m'\u001b[39m\u001b[38;5;132;01m{}\u001b[39;00m\u001b[38;5;124m'\u001b[39m\u001b[38;5;124m\"\u001b[39m\u001b[38;5;241m.\u001b[39mformat(\n\u001b[1;32m   1270\u001b[0m     \u001b[38;5;28mtype\u001b[39m(\u001b[38;5;28mself\u001b[39m)\u001b[38;5;241m.\u001b[39m\u001b[38;5;18m__name__\u001b[39m, name))\n",
      "\u001b[0;31mAttributeError\u001b[0m: 'StandardLitModelWrapper' object has no attribute 'setdefault'"
     ]
    }
   ],
   "source": [
    "model = StandardLitModelWrapper.load_from_checkpoint(\"test.ckpt\", model=model, loss=loss, \n",
    "                                        logging_metric=lambda : None,\n",
    "                                        optimizer_params=optimizer_params,\n",
    "                                        lr_scheduler_params=lr_scheduler_params,\n",
    "                                        optimizer_constructor=optimizer,\n",
    "                                        lr_scheduler_constructor=lr_scheduler_constructor\n",
    "                                       )"
   ]
  },
  {
   "cell_type": "code",
   "execution_count": 118,
   "id": "e88d219a-4702-428d-956e-7a0f5dbfc8e9",
   "metadata": {},
   "outputs": [],
   "source": [
    "#ys_map['ent']"
   ]
  },
  {
   "cell_type": "code",
   "execution_count": 121,
   "id": "c8c93255-0300-4ddd-bcb1-df4156b63a54",
   "metadata": {},
   "outputs": [],
   "source": [
    "allys = torch.Tensor(ys_map['ent'])"
   ]
  },
  {
   "cell_type": "code",
   "execution_count": 125,
   "id": "ec87276d-fac8-44df-ae21-70af2c44e3b0",
   "metadata": {},
   "outputs": [
    {
     "data": {
      "text/plain": [
       "tensor(7)"
      ]
     },
     "execution_count": 125,
     "metadata": {},
     "output_type": "execute_result"
    }
   ],
   "source": [
    "(allys == 3).sum()"
   ]
  },
  {
   "cell_type": "code",
   "execution_count": 128,
   "id": "edeb36f7-519d-4261-907a-2e9916a1e51c",
   "metadata": {},
   "outputs": [
    {
     "data": {
      "text/plain": [
       "276"
      ]
     },
     "execution_count": 128,
     "metadata": {},
     "output_type": "execute_result"
    }
   ],
   "source": [
    "len(allys) # so I need to try this model on the non ADNI data where there are more threes maybe? or combine them together?"
   ]
  },
  {
   "cell_type": "markdown",
   "id": "9d7d6931-7b63-420a-b4e6-2878ab5e21cb",
   "metadata": {},
   "source": [
    "### Notes:\n",
    "\n",
    "the accuracies reported above are wrong!!\n",
    "I need to check what I should be expecting and retry.\n",
    "\n",
    "\n",
    "the results are here though showing that the model greatly improved its\n",
    "separation of deep fazekas 0 and 1.\n",
    "\n",
    "but I should replace with a resamped version that is reweighted (reweight the test set too)\n",
    "and see how it affects both the deep fazekas and the pv fazekas, because I should care about the reweighted accuracies,\n",
    "(and state that that is what I have done?)\n",
    "it may be the the uncertinaty allows better separation of 2 and 3, but it introduces more two to 3 errors, which is an issue.\n",
    "\n",
    "Then try it for total fazekas (and try reweighted for PV as well). Also, need to get the variance down more (make the model even smaller..., don't use two layers?).\n",
    "\n",
    "run three different models that try each different thing.\n",
    "\n",
    "only have 7 of fazekas 3.... (do the same test on the CVD dataset as well then....)\n",
    "\n",
    "try EMA for the models also\n",
    "\n",
    "and try more augmentation...\n",
    "\n",
    "\n",
    "before it was actually only running on one fold.... so while the average was better my oh my the variance overall is quite high depending on initialization and I do need\n",
    "to sort this out....\n",
    "\n",
    "okay so things to try:\n",
    "\n",
    "- [ ] more augmentation\n",
    "- [ ] resampling from the dataloader\n",
    "- [ ] EMA of model weights\n",
    "- [ ] get the model results fixed...."
   ]
  },
  {
   "cell_type": "code",
   "execution_count": 119,
   "id": "4706c9d9-db8b-4581-98b5-7a7cc2340951",
   "metadata": {},
   "outputs": [
    {
     "data": {
      "image/png": "[encoded data removed]",
      "text/plain": [
       "<Figure size 640x480 with 1 Axes>"
      ]
     },
     "metadata": {},
     "output_type": "display_data"
    }
   ],
   "source": [
    "cm = plot_confusion_matrix_from_results(preds_map['ent'], ys_map['ent'])"
   ]
  },
  {
   "cell_type": "code",
   "execution_count": 117,
   "id": "8891463e-b5e8-400f-a944-b03121a23162",
   "metadata": {},
   "outputs": [
    {
     "data": {
      "image/png": "[encoded data removed]",
      "text/plain": [
       "<Figure size 640x480 with 1 Axes>"
      ]
     },
     "metadata": {},
     "output_type": "display_data"
    }
   ],
   "source": [
    "cm = plot_confusion_matrix_from_results(preds_map['pred'], ys_map['pred'])"
   ]
  },
  {
   "cell_type": "code",
   "execution_count": 107,
   "id": "9feed2fd-a250-4452-ace0-30d328b112b5",
   "metadata": {},
   "outputs": [
    {
     "data": {
      "text/plain": [
       "array([], shape=(0, 0), dtype=float64)"
      ]
     },
     "execution_count": 107,
     "metadata": {},
     "output_type": "execute_result"
    }
   ],
   "source": [
    "cm"
   ]
  },
  {
   "cell_type": "code",
   "execution_count": 82,
   "id": "1016b865-1ba3-4e51-a6f9-9db3d8b382b6",
   "metadata": {},
   "outputs": [
    {
     "data": {
      "text/plain": [
       "0.123"
      ]
     },
     "execution_count": 82,
     "metadata": {},
     "output_type": "execute_result"
    }
   ],
   "source": [
    "np.round(0.1234456, 3)"
   ]
  },
  {
   "cell_type": "code",
   "execution_count": 85,
   "id": "99ad450d-b210-41fb-b917-fb0b8a5b7644",
   "metadata": {},
   "outputs": [
    {
     "name": "stderr",
     "output_type": "stream",
     "text": [
      "100%|███████████████████████████████████████████████████████████████████████████████████████████████████████████████████████████████████████████████████████████| 4/4 [00:02<00:00,  1.43it/s]\n"
     ]
    },
    {
     "data": {
      "image/png": "[encoded data removed]",
      "text/plain": [
       "<Figure size 640x480 with 1 Axes>"
      ]
     },
     "metadata": {},
     "output_type": "display_data"
    }
   ],
   "source": [
    "plot_confusion_matrix(test_dataloader, model)"
   ]
  },
  {
   "cell_type": "code",
   "execution_count": 95,
   "id": "16570bba-ee3c-4cd8-bd6f-a4482a9fedcb",
   "metadata": {},
   "outputs": [
    {
     "name": "stderr",
     "output_type": "stream",
     "text": [
      "LOCAL_RANK: 0 - CUDA_VISIBLE_DEVICES: [0]\n",
      "\n",
      "  | Name  | Type            | Params\n",
      "------------------------------------------\n",
      "0 | model | PredictionModel | 702 K \n",
      "1 | loss  | xent_wrapper    | 0     \n",
      "------------------------------------------\n",
      "702 K     Trainable params\n",
      "0         Non-trainable params\n",
      "702 K     Total params\n",
      "2.808     Total estimated model params size (MB)\n"
     ]
    },
    {
     "data": {
      "application/vnd.jupyter.widget-view+json": {
       "model_id": "",
       "version_major": 2,
       "version_minor": 0
      },
      "text/plain": [
       "Sanity Checking: 0it [00:00, ?it/s]"
      ]
     },
     "metadata": {},
     "output_type": "display_data"
    },
    {
     "data": {
      "application/vnd.jupyter.widget-view+json": {
       "model_id": "0041c827c1da49d9b97fe23ad7e6a24a",
       "version_major": 2,
       "version_minor": 0
      },
      "text/plain": [
       "Training: 0it [00:00, ?it/s]"
      ]
     },
     "metadata": {},
     "output_type": "display_data"
    },
    {
     "data": {
      "application/vnd.jupyter.widget-view+json": {
       "model_id": "",
       "version_major": 2,
       "version_minor": 0
      },
      "text/plain": [
       "Validation: 0it [00:00, ?it/s]"
      ]
     },
     "metadata": {},
     "output_type": "display_data"
    },
    {
     "name": "stderr",
     "output_type": "stream",
     "text": [
      "Metric val_loss improved. New best score: 0.851\n"
     ]
    },
    {
     "data": {
      "application/vnd.jupyter.widget-view+json": {
       "model_id": "",
       "version_major": 2,
       "version_minor": 0
      },
      "text/plain": [
       "Validation: 0it [00:00, ?it/s]"
      ]
     },
     "metadata": {},
     "output_type": "display_data"
    },
    {
     "name": "stderr",
     "output_type": "stream",
     "text": [
      "Metric val_loss improved by 0.033 >= min_delta = 0.01. New best score: 0.817\n"
     ]
    },
    {
     "data": {
      "application/vnd.jupyter.widget-view+json": {
       "model_id": "",
       "version_major": 2,
       "version_minor": 0
      },
      "text/plain": [
       "Validation: 0it [00:00, ?it/s]"
      ]
     },
     "metadata": {},
     "output_type": "display_data"
    },
    {
     "data": {
      "application/vnd.jupyter.widget-view+json": {
       "model_id": "",
       "version_major": 2,
       "version_minor": 0
      },
      "text/plain": [
       "Validation: 0it [00:00, ?it/s]"
      ]
     },
     "metadata": {},
     "output_type": "display_data"
    },
    {
     "data": {
      "application/vnd.jupyter.widget-view+json": {
       "model_id": "",
       "version_major": 2,
       "version_minor": 0
      },
      "text/plain": [
       "Validation: 0it [00:00, ?it/s]"
      ]
     },
     "metadata": {},
     "output_type": "display_data"
    },
    {
     "name": "stderr",
     "output_type": "stream",
     "text": [
      "Metric val_loss improved by 0.012 >= min_delta = 0.01. New best score: 0.805\n"
     ]
    },
    {
     "data": {
      "application/vnd.jupyter.widget-view+json": {
       "model_id": "",
       "version_major": 2,
       "version_minor": 0
      },
      "text/plain": [
       "Validation: 0it [00:00, ?it/s]"
      ]
     },
     "metadata": {},
     "output_type": "display_data"
    },
    {
     "data": {
      "application/vnd.jupyter.widget-view+json": {
       "model_id": "",
       "version_major": 2,
       "version_minor": 0
      },
      "text/plain": [
       "Validation: 0it [00:00, ?it/s]"
      ]
     },
     "metadata": {},
     "output_type": "display_data"
    },
    {
     "name": "stderr",
     "output_type": "stream",
     "text": [
      "Metric val_loss improved by 0.010 >= min_delta = 0.01. New best score: 0.795\n"
     ]
    },
    {
     "data": {
      "application/vnd.jupyter.widget-view+json": {
       "model_id": "",
       "version_major": 2,
       "version_minor": 0
      },
      "text/plain": [
       "Validation: 0it [00:00, ?it/s]"
      ]
     },
     "metadata": {},
     "output_type": "display_data"
    },
    {
     "data": {
      "application/vnd.jupyter.widget-view+json": {
       "model_id": "",
       "version_major": 2,
       "version_minor": 0
      },
      "text/plain": [
       "Validation: 0it [00:00, ?it/s]"
      ]
     },
     "metadata": {},
     "output_type": "display_data"
    },
    {
     "name": "stderr",
     "output_type": "stream",
     "text": [
      "Metric val_loss improved by 0.012 >= min_delta = 0.01. New best score: 0.783\n"
     ]
    },
    {
     "data": {
      "application/vnd.jupyter.widget-view+json": {
       "model_id": "",
       "version_major": 2,
       "version_minor": 0
      },
      "text/plain": [
       "Validation: 0it [00:00, ?it/s]"
      ]
     },
     "metadata": {},
     "output_type": "display_data"
    },
    {
     "data": {
      "application/vnd.jupyter.widget-view+json": {
       "model_id": "",
       "version_major": 2,
       "version_minor": 0
      },
      "text/plain": [
       "Validation: 0it [00:00, ?it/s]"
      ]
     },
     "metadata": {},
     "output_type": "display_data"
    },
    {
     "name": "stderr",
     "output_type": "stream",
     "text": [
      "Metric val_loss improved by 0.013 >= min_delta = 0.01. New best score: 0.770\n"
     ]
    },
    {
     "data": {
      "application/vnd.jupyter.widget-view+json": {
       "model_id": "",
       "version_major": 2,
       "version_minor": 0
      },
      "text/plain": [
       "Validation: 0it [00:00, ?it/s]"
      ]
     },
     "metadata": {},
     "output_type": "display_data"
    },
    {
     "data": {
      "application/vnd.jupyter.widget-view+json": {
       "model_id": "",
       "version_major": 2,
       "version_minor": 0
      },
      "text/plain": [
       "Validation: 0it [00:00, ?it/s]"
      ]
     },
     "metadata": {},
     "output_type": "display_data"
    },
    {
     "data": {
      "application/vnd.jupyter.widget-view+json": {
       "model_id": "",
       "version_major": 2,
       "version_minor": 0
      },
      "text/plain": [
       "Validation: 0it [00:00, ?it/s]"
      ]
     },
     "metadata": {},
     "output_type": "display_data"
    },
    {
     "data": {
      "application/vnd.jupyter.widget-view+json": {
       "model_id": "",
       "version_major": 2,
       "version_minor": 0
      },
      "text/plain": [
       "Validation: 0it [00:00, ?it/s]"
      ]
     },
     "metadata": {},
     "output_type": "display_data"
    },
    {
     "data": {
      "application/vnd.jupyter.widget-view+json": {
       "model_id": "",
       "version_major": 2,
       "version_minor": 0
      },
      "text/plain": [
       "Validation: 0it [00:00, ?it/s]"
      ]
     },
     "metadata": {},
     "output_type": "display_data"
    },
    {
     "data": {
      "application/vnd.jupyter.widget-view+json": {
       "model_id": "",
       "version_major": 2,
       "version_minor": 0
      },
      "text/plain": [
       "Validation: 0it [00:00, ?it/s]"
      ]
     },
     "metadata": {},
     "output_type": "display_data"
    },
    {
     "data": {
      "application/vnd.jupyter.widget-view+json": {
       "model_id": "",
       "version_major": 2,
       "version_minor": 0
      },
      "text/plain": [
       "Validation: 0it [00:00, ?it/s]"
      ]
     },
     "metadata": {},
     "output_type": "display_data"
    },
    {
     "name": "stderr",
     "output_type": "stream",
     "text": [
      "Metric val_loss improved by 0.019 >= min_delta = 0.01. New best score: 0.751\n"
     ]
    },
    {
     "data": {
      "application/vnd.jupyter.widget-view+json": {
       "model_id": "",
       "version_major": 2,
       "version_minor": 0
      },
      "text/plain": [
       "Validation: 0it [00:00, ?it/s]"
      ]
     },
     "metadata": {},
     "output_type": "display_data"
    },
    {
     "data": {
      "application/vnd.jupyter.widget-view+json": {
       "model_id": "",
       "version_major": 2,
       "version_minor": 0
      },
      "text/plain": [
       "Validation: 0it [00:00, ?it/s]"
      ]
     },
     "metadata": {},
     "output_type": "display_data"
    },
    {
     "data": {
      "application/vnd.jupyter.widget-view+json": {
       "model_id": "",
       "version_major": 2,
       "version_minor": 0
      },
      "text/plain": [
       "Validation: 0it [00:00, ?it/s]"
      ]
     },
     "metadata": {},
     "output_type": "display_data"
    },
    {
     "data": {
      "application/vnd.jupyter.widget-view+json": {
       "model_id": "",
       "version_major": 2,
       "version_minor": 0
      },
      "text/plain": [
       "Validation: 0it [00:00, ?it/s]"
      ]
     },
     "metadata": {},
     "output_type": "display_data"
    },
    {
     "data": {
      "application/vnd.jupyter.widget-view+json": {
       "model_id": "",
       "version_major": 2,
       "version_minor": 0
      },
      "text/plain": [
       "Validation: 0it [00:00, ?it/s]"
      ]
     },
     "metadata": {},
     "output_type": "display_data"
    },
    {
     "data": {
      "application/vnd.jupyter.widget-view+json": {
       "model_id": "",
       "version_major": 2,
       "version_minor": 0
      },
      "text/plain": [
       "Validation: 0it [00:00, ?it/s]"
      ]
     },
     "metadata": {},
     "output_type": "display_data"
    },
    {
     "data": {
      "application/vnd.jupyter.widget-view+json": {
       "model_id": "",
       "version_major": 2,
       "version_minor": 0
      },
      "text/plain": [
       "Validation: 0it [00:00, ?it/s]"
      ]
     },
     "metadata": {},
     "output_type": "display_data"
    },
    {
     "name": "stderr",
     "output_type": "stream",
     "text": [
      "Monitored metric val_loss did not improve in the last 7 records. Best score: 0.751. Signaling Trainer to stop.\n"
     ]
    }
   ],
   "source": [
    "trainer.fit(model, train_dataloader, val_dataloader)"
   ]
  },
  {
   "cell_type": "code",
   "execution_count": 96,
   "id": "cd7962a7-ecbc-4bcb-a363-605544fb3890",
   "metadata": {},
   "outputs": [
    {
     "name": "stderr",
     "output_type": "stream",
     "text": [
      "Restoring states from the checkpoint path at /home/s2208943/ipdis/UQ_WMH_methods/trustworthai/run/ADNI_300_analysis/epoch=24-step=425.ckpt\n",
      "LOCAL_RANK: 0 - CUDA_VISIBLE_DEVICES: [0]\n",
      "Loaded model weights from checkpoint at /home/s2208943/ipdis/UQ_WMH_methods/trustworthai/run/ADNI_300_analysis/epoch=24-step=425.ckpt\n"
     ]
    },
    {
     "data": {
      "application/vnd.jupyter.widget-view+json": {
       "model_id": "b26ff8c3f0e44ca59631bd6ec3e1f813",
       "version_major": 2,
       "version_minor": 0
      },
      "text/plain": [
       "Validation: 0it [00:00, ?it/s]"
      ]
     },
     "metadata": {},
     "output_type": "display_data"
    },
    {
     "name": "stdout",
     "output_type": "stream",
     "text": [
      "────────────────────────────────────────────────────────────────────────────────────────────────────────────────────────\n",
      "     Validate metric           DataLoader 0\n",
      "────────────────────────────────────────────────────────────────────────────────────────────────────────────────────────\n",
      "        val_loss            0.7412368059158325\n",
      "────────────────────────────────────────────────────────────────────────────────────────────────────────────────────────\n"
     ]
    },
    {
     "data": {
      "text/plain": [
       "[{'val_loss': 0.7412368059158325}]"
      ]
     },
     "execution_count": 96,
     "metadata": {},
     "output_type": "execute_result"
    }
   ],
   "source": [
    "trainer.validate(model, val_dataloader, ckpt_path='best')"
   ]
  },
  {
   "cell_type": "code",
   "execution_count": 97,
   "id": "35d5a31b-be45-45bb-8701-1fcbfe822522",
   "metadata": {},
   "outputs": [
    {
     "name": "stdout",
     "output_type": "stream",
     "text": [
      "torch.Size([42]) torch.Size([42])\n",
      "eval stat:  tensor(0.7619)\n"
     ]
    }
   ],
   "source": [
    "eval_stat = run_eval_2(model, test_dataloader)\n",
    "print(\"eval stat: \", eval_stat)"
   ]
  },
  {
   "cell_type": "code",
   "execution_count": 90,
   "id": "29936199-f548-4091-85e7-92549add7e4f",
   "metadata": {},
   "outputs": [
    {
     "name": "stdout",
     "output_type": "stream",
     "text": [
      "torch.Size([42]) torch.Size([42])\n",
      "eval stat:  tensor(0.7857)\n"
     ]
    }
   ],
   "source": [
    "eval_stat = run_eval_2(model, test_dataloader)\n",
    "print(\"eval stat: \", eval_stat)"
   ]
  },
  {
   "cell_type": "code",
   "execution_count": null,
   "id": "cd41c105-4645-4c2f-9df9-1438a1f75f44",
   "metadata": {},
   "outputs": [],
   "source": []
  },
  {
   "cell_type": "code",
   "execution_count": null,
   "id": "870fc042-ba80-42dd-b179-f5487c42de24",
   "metadata": {},
   "outputs": [],
   "source": []
  },
  {
   "cell_type": "code",
   "execution_count": null,
   "id": "774ca78b-27ea-4cb9-88a0-caabf80ff60c",
   "metadata": {},
   "outputs": [
    {
     "name": "stdout",
     "output_type": "stream",
     "text": [
      "torch.Size([42]) torch.Size([42])\n",
      "eval stat:  tensor(0.8571)\n"
     ]
    }
   ],
   "source": [
    "eval_stat = run_eval_2(model, test_dataloader)\n",
    "print(\"eval stat: \", eval_stat)"
   ]
  },
  {
   "cell_type": "code",
   "execution_count": 72,
   "id": "e1458c69-55dd-4988-b8ae-2e5573f860d5",
   "metadata": {},
   "outputs": [],
   "source": [
    "# check checkpoint changes, (this folder, target, split, run\n",
    "# switch to doing eval on train val and test.\n",
    "# plot a batch of the dataset, middle slice"
   ]
  },
  {
   "cell_type": "code",
   "execution_count": 74,
   "id": "c2e44c14-4c01-4186-9ca1-cde439602860",
   "metadata": {},
   "outputs": [
    {
     "name": "stdout",
     "output_type": "stream",
     "text": [
      "torch.Size([42]) torch.Size([42])\n"
     ]
    },
    {
     "data": {
      "text/plain": [
       "tensor(0.7619)"
      ]
     },
     "execution_count": 74,
     "metadata": {},
     "output_type": "execute_result"
    }
   ],
   "source": [
    "# new run\n",
    "run_eval_2(model, test_dataloader)"
   ]
  },
  {
   "cell_type": "code",
   "execution_count": 75,
   "id": "e8f19679-5e59-4b77-8d2f-ff9d57f2b216",
   "metadata": {},
   "outputs": [
    {
     "name": "stdout",
     "output_type": "stream",
     "text": [
      "torch.Size([41]) torch.Size([41])\n"
     ]
    },
    {
     "data": {
      "text/plain": [
       "tensor(0.6585)"
      ]
     },
     "execution_count": 75,
     "metadata": {},
     "output_type": "execute_result"
    }
   ],
   "source": [
    "run_eval_2(model, val_dataloader)"
   ]
  },
  {
   "cell_type": "code",
   "execution_count": 76,
   "id": "a8dca311-d8fa-417f-9ba7-09804324d989",
   "metadata": {},
   "outputs": [
    {
     "name": "stdout",
     "output_type": "stream",
     "text": [
      "torch.Size([193]) torch.Size([193])\n"
     ]
    },
    {
     "data": {
      "text/plain": [
       "tensor(0.7461)"
      ]
     },
     "execution_count": 76,
     "metadata": {},
     "output_type": "execute_result"
    }
   ],
   "source": [
    "run_eval_2(model, train_dataloader)"
   ]
  },
  {
   "cell_type": "code",
   "execution_count": 54,
   "id": "38615ac1-88c8-4641-a98c-69d3ce75060d",
   "metadata": {},
   "outputs": [
    {
     "name": "stderr",
     "output_type": "stream",
     "text": [
      "100%|███████████████████████████████████████████████████████████████████████████████████████████████████████████████████████████████████████████████████████████| 2/2 [01:08<00:00, 34.17s/it]"
     ]
    },
    {
     "name": "stdout",
     "output_type": "stream",
     "text": [
      "torch.Size([2, 193])\n"
     ]
    },
    {
     "name": "stderr",
     "output_type": "stream",
     "text": [
      "\n"
     ]
    },
    {
     "data": {
      "text/plain": [
       "(tensor(0.3679), tensor(0.8578), tensor(0.9877))"
      ]
     },
     "execution_count": 54,
     "metadata": {},
     "output_type": "execute_result"
    }
   ],
   "source": [
    "run_eval(model, train_dataloader)"
   ]
  },
  {
   "cell_type": "code",
   "execution_count": 66,
   "id": "67bc793a-53df-4128-aeb2-d9c08e2619c9",
   "metadata": {},
   "outputs": [],
   "source": [
    "batch = next(iter(train_dataloader))"
   ]
  },
  {
   "cell_type": "code",
   "execution_count": 67,
   "id": "ff276eaf-f78e-4e35-b5ae-a27e594f6a0e",
   "metadata": {},
   "outputs": [
    {
     "data": {
      "text/plain": [
       "2"
      ]
     },
     "execution_count": 67,
     "metadata": {},
     "output_type": "execute_result"
    }
   ],
   "source": [
    "len(batch)"
   ]
  },
  {
   "cell_type": "code",
   "execution_count": 68,
   "id": "79c7107f-d11c-4d66-ac2d-d57cfc622a34",
   "metadata": {},
   "outputs": [
    {
     "data": {
      "text/plain": [
       "torch.Size([12, 20, 220, 160])"
      ]
     },
     "execution_count": 68,
     "metadata": {},
     "output_type": "execute_result"
    }
   ],
   "source": [
    "batch[0][0].shape"
   ]
  },
  {
   "cell_type": "code",
   "execution_count": 69,
   "id": "fcbd825b-4147-4584-b7ac-7f0dee7cd638",
   "metadata": {},
   "outputs": [
    {
     "data": {
      "image/png": "[encoded data removed]",
      "text/plain": [
       "<Figure size 640x480 with 12 Axes>"
      ]
     },
     "metadata": {},
     "output_type": "display_data"
    }
   ],
   "source": [
    "for i in range(12):\n",
    "    plt.subplot(3, 4, i+1)\n",
    "    plt.imshow(batch[0][0][i][10]); plt.axis('off')"
   ]
  },
  {
   "cell_type": "code",
   "execution_count": 310,
   "id": "5fafb733-4221-496b-af41-2475ed16e491",
   "metadata": {},
   "outputs": [
    {
     "name": "stderr",
     "output_type": "stream",
     "text": [
      "100%|███████████████████████████████████████████████████████████████████████████████████████████████████████████████████████████████████████████████████████████| 2/2 [00:05<00:00,  2.98s/it]"
     ]
    },
    {
     "name": "stdout",
     "output_type": "stream",
     "text": [
      "torch.Size([2, 42])\n"
     ]
    },
    {
     "name": "stderr",
     "output_type": "stream",
     "text": [
      "\n"
     ]
    },
    {
     "data": {
      "text/plain": [
       "(tensor(0.7619), tensor(0.7500), tensor(1.))"
      ]
     },
     "execution_count": 310,
     "metadata": {},
     "output_type": "execute_result"
    }
   ],
   "source": [
    "# new run\n",
    "run_eval(model, test_dataloader)"
   ]
  },
  {
   "cell_type": "code",
   "execution_count": 311,
   "id": "fd6c8b6d-4847-41f7-b56e-1999d39fdd29",
   "metadata": {},
   "outputs": [
    {
     "name": "stderr",
     "output_type": "stream",
     "text": [
      "100%|███████████████████████████████████████████████████████████████████████████████████████████████████████████████████████████████████████████████████████████| 2/2 [00:15<00:00,  7.78s/it]"
     ]
    },
    {
     "name": "stdout",
     "output_type": "stream",
     "text": [
      "torch.Size([2, 41])\n"
     ]
    },
    {
     "name": "stderr",
     "output_type": "stream",
     "text": [
      "\n"
     ]
    },
    {
     "data": {
      "text/plain": [
       "(tensor(0.7317), tensor(0.7708), tensor(0.9792))"
      ]
     },
     "execution_count": 311,
     "metadata": {},
     "output_type": "execute_result"
    }
   ],
   "source": [
    "run_eval(model, val_dataloader)"
   ]
  },
  {
   "cell_type": "code",
   "execution_count": 312,
   "id": "b9bafd4f-45ed-47fd-ad3f-3b5f838683a2",
   "metadata": {},
   "outputs": [
    {
     "name": "stderr",
     "output_type": "stream",
     "text": [
      "100%|███████████████████████████████████████████████████████████████████████████████████████████████████████████████████████████████████████████████████████████| 2/2 [00:45<00:00, 22.98s/it]"
     ]
    },
    {
     "name": "stdout",
     "output_type": "stream",
     "text": [
      "torch.Size([2, 193])\n"
     ]
    },
    {
     "name": "stderr",
     "output_type": "stream",
     "text": [
      "\n"
     ]
    },
    {
     "data": {
      "text/plain": [
       "(tensor(0.4197), tensor(0.8627), tensor(0.9877))"
      ]
     },
     "execution_count": 312,
     "metadata": {},
     "output_type": "execute_result"
    }
   ],
   "source": [
    "run_eval(model, train_dataloader)"
   ]
  },
  {
   "cell_type": "code",
   "execution_count": null,
   "id": "77b936a2-c3c8-4ba7-867c-0bbc13c496f2",
   "metadata": {},
   "outputs": [],
   "source": []
  },
  {
   "cell_type": "code",
   "execution_count": null,
   "id": "35275b52-7db0-470e-82fe-638c26a1ae7c",
   "metadata": {},
   "outputs": [],
   "source": []
  },
  {
   "cell_type": "code",
   "execution_count": null,
   "id": "887332c7-0283-43d9-9318-94c0a7deff42",
   "metadata": {},
   "outputs": [],
   "source": []
  },
  {
   "cell_type": "code",
   "execution_count": null,
   "id": "70a74d7a-89f9-4aa8-9c81-108100c9d745",
   "metadata": {},
   "outputs": [],
   "source": []
  },
  {
   "cell_type": "code",
   "execution_count": 307,
   "id": "304bafa5-f174-4b28-b517-038d77941ce4",
   "metadata": {},
   "outputs": [
    {
     "name": "stderr",
     "output_type": "stream",
     "text": [
      "100%|███████████████████████████████████████████████████████████████████████████████████████████████████████████████████████████████████████████████████████████| 2/2 [00:06<00:00,  3.04s/it]"
     ]
    },
    {
     "name": "stdout",
     "output_type": "stream",
     "text": [
      "torch.Size([2, 42])\n"
     ]
    },
    {
     "name": "stderr",
     "output_type": "stream",
     "text": [
      "\n"
     ]
    },
    {
     "data": {
      "text/plain": [
       "(tensor(0.8095), tensor(0.7917), tensor(1.))"
      ]
     },
     "execution_count": 307,
     "metadata": {},
     "output_type": "execute_result"
    }
   ],
   "source": [
    "run_eval(model, test_dataloader)"
   ]
  },
  {
   "cell_type": "code",
   "execution_count": 261,
   "id": "81e02163-e7c5-49bd-b465-e402e8443adb",
   "metadata": {},
   "outputs": [
    {
     "name": "stderr",
     "output_type": "stream",
     "text": [
      "100%|███████████████████████████████████████████████████████████████████████████████████████████████████████████████████████████████████████████████████████████| 2/2 [00:05<00:00,  2.85s/it]"
     ]
    },
    {
     "name": "stdout",
     "output_type": "stream",
     "text": [
      "torch.Size([2, 42])\n"
     ]
    },
    {
     "name": "stderr",
     "output_type": "stream",
     "text": [
      "\n"
     ]
    },
    {
     "data": {
      "text/plain": [
       "(tensor(0.8095), tensor(0.8125), tensor(1.))"
      ]
     },
     "execution_count": 261,
     "metadata": {},
     "output_type": "execute_result"
    }
   ],
   "source": [
    "run_eval(model, test_dataloader)"
   ]
  },
  {
   "cell_type": "code",
   "execution_count": null,
   "id": "702e93be-ba98-4720-a4a5-6176436d11a4",
   "metadata": {},
   "outputs": [],
   "source": []
  },
  {
   "cell_type": "code",
   "execution_count": null,
   "id": "5a10d2ec-e934-41e3-9429-3860082aa263",
   "metadata": {},
   "outputs": [],
   "source": []
  },
  {
   "cell_type": "code",
   "execution_count": null,
   "id": "b8e25f07-428a-460a-a58f-beb8080479ea",
   "metadata": {},
   "outputs": [],
   "source": [
    "# with smaller model, higher weight decay, we got 0.8 in 7 epochs.\n",
    "# lets try again. I could try training the same model, where I just finetune the fc layers afterwards.\n",
    "# again: 0.76\n",
    "# again 0.71. eugh it is so variable.\n",
    "\n",
    "# when i just train with the clinical scores, it goes on for 50 epochs.\n",
    "# so there is useful information there, that I am perhaps loosing when I get a model\n",
    "# that trains in 7 epochs on the umap. I need to be careful with that and reduce the number of output features\n",
    "# that the model gives perhaps.\n",
    "# when it did that training, it got to 0.57 accuracy when it had no umaps.\n",
    "\n",
    "\n",
    "# so: things I can try to get more consistency:\n",
    "# 1) add more weight decay.\n",
    "# 2) reduce the model parameters\n",
    "# 3) go from two fc layers to one."
   ]
  },
  {
   "cell_type": "code",
   "execution_count": 300,
   "id": "cb253d48-b6e9-4323-b311-4a377442ad9a",
   "metadata": {},
   "outputs": [
    {
     "name": "stdout",
     "output_type": "stream",
     "text": [
      "torch.Size([12])\n",
      "tensor(0.8333)\n",
      "tensor([1., 1., 1., 1., 2., 1., 1., 1., 2., 1., 1., 1.])\n",
      "tensor([1., 1., 0., 1., 2., 1., 1., 1., 2., 1., 1., 2.], dtype=torch.float64)\n",
      "torch.Size([12])\n",
      "tensor(0.6667)\n",
      "tensor([1., 2., 1., 1., 1., 1., 1., 1., 1., 1., 1., 1.])\n",
      "tensor([1., 2., 1., 1., 1., 0., 1., 0., 1., 2., 1., 0.], dtype=torch.float64)\n",
      "torch.Size([12])\n",
      "tensor(0.4167)\n",
      "tensor([1., 1., 1., 1., 1., 1., 2., 1., 1., 1., 1., 2.])\n",
      "tensor([2., 1., 1., 0., 1., 1., 1., 1., 0., 0., 2., 1.], dtype=torch.float64)\n",
      "torch.Size([12])\n",
      "tensor(0.5000)\n",
      "tensor([1., 1., 1., 1., 1., 1., 1., 1., 1., 1., 1., 1.])\n",
      "tensor([2., 0., 1., 2., 1., 1., 1., 3., 0., 1., 1., 0.], dtype=torch.float64)\n",
      "torch.Size([12])\n",
      "tensor(0.5000)\n",
      "tensor([2., 1., 1., 1., 1., 1., 2., 1., 1., 1., 1., 1.])\n",
      "tensor([2., 1., 0., 0., 0., 1., 0., 0., 0., 1., 1., 1.], dtype=torch.float64)\n",
      "torch.Size([12])\n",
      "tensor(0.5833)\n",
      "tensor([1., 1., 1., 1., 1., 1., 1., 1., 1., 1., 1., 1.])\n",
      "tensor([2., 1., 0., 0., 1., 0., 1., 1., 1., 1., 1., 0.], dtype=torch.float64)\n",
      "torch.Size([12])\n",
      "tensor(0.5000)\n",
      "tensor([1., 1., 1., 1., 1., 1., 2., 1., 1., 1., 1., 1.])\n",
      "tensor([1., 1., 1., 0., 1., 2., 1., 2., 0., 0., 1., 1.], dtype=torch.float64)\n",
      "torch.Size([12])\n",
      "tensor(0.5833)\n",
      "tensor([1., 1., 1., 1., 1., 2., 1., 1., 1., 1., 1., 1.])\n",
      "tensor([0., 1., 2., 1., 2., 2., 1., 1., 0., 1., 1., 3.], dtype=torch.float64)\n",
      "torch.Size([12])\n",
      "tensor(0.5000)\n",
      "tensor([1., 1., 1., 1., 1., 1., 1., 1., 1., 1., 1., 2.])\n",
      "tensor([1., 2., 1., 2., 3., 1., 2., 0., 0., 1., 1., 2.], dtype=torch.float64)\n",
      "torch.Size([12])\n",
      "tensor(0.7500)\n",
      "tensor([1., 1., 1., 1., 1., 2., 2., 1., 1., 1., 1., 1.])\n",
      "tensor([1., 1., 1., 2., 1., 1., 1., 1., 1., 1., 1., 1.], dtype=torch.float64)\n",
      "torch.Size([12])\n",
      "tensor(0.6667)\n",
      "tensor([1., 1., 1., 1., 1., 1., 1., 2., 1., 1., 2., 1.])\n",
      "tensor([1., 1., 1., 0., 1., 0., 2., 2., 0., 1., 2., 1.], dtype=torch.float64)\n",
      "torch.Size([12])\n",
      "tensor(0.5833)\n",
      "tensor([1., 1., 1., 1., 1., 1., 1., 1., 1., 1., 1., 1.])\n",
      "tensor([2., 0., 1., 2., 1., 3., 1., 1., 1., 1., 0., 1.], dtype=torch.float64)\n",
      "torch.Size([12])\n",
      "tensor(0.4167)\n",
      "tensor([1., 1., 1., 1., 1., 1., 1., 1., 1., 1., 1., 1.])\n",
      "tensor([1., 2., 0., 2., 0., 1., 1., 0., 1., 1., 0., 0.], dtype=torch.float64)\n",
      "torch.Size([12])\n",
      "tensor(0.5000)\n",
      "tensor([1., 1., 2., 1., 1., 1., 1., 1., 1., 1., 2., 1.])\n",
      "tensor([0., 0., 3., 1., 2., 1., 1., 0., 1., 1., 2., 0.], dtype=torch.float64)\n",
      "torch.Size([12])\n",
      "tensor(0.7500)\n",
      "tensor([1., 2., 1., 1., 1., 1., 1., 1., 1., 1., 1., 1.])\n",
      "tensor([0., 1., 1., 1., 1., 1., 1., 3., 1., 1., 1., 1.], dtype=torch.float64)\n",
      "torch.Size([12])\n",
      "tensor(0.3333)\n",
      "tensor([1., 2., 1., 1., 1., 1., 1., 1., 1., 1., 1., 1.])\n",
      "tensor([2., 0., 1., 0., 0., 1., 0., 0., 1., 2., 0., 1.], dtype=torch.float64)\n",
      "torch.Size([1])\n",
      "tensor(1.)\n",
      "tensor([2.])\n",
      "tensor([2.], dtype=torch.float64)\n"
     ]
    }
   ],
   "source": [
    "for (x, clin_data), label in train_dataloader:\n",
    "    with torch.no_grad():\n",
    "        outs = model.cuda()((x.cuda(), clin_data.cuda())).cpu()\n",
    "        outs = torch.nn.functional.softmax(outs, dim=1).argmax(dim=1)\n",
    "        print(outs.shape)\n",
    "    \n",
    "    print((outs == label).sum() / len(label))\n",
    "    print(outs.type(torch.float32))\n",
    "    print(label)"
   ]
  },
  {
   "cell_type": "code",
   "execution_count": null,
   "id": "f0abc776-1fa5-4a81-8558-cfb731adc1ee",
   "metadata": {},
   "outputs": [],
   "source": []
  }
 ],
 "metadata": {
  "kernelspec": {
   "display_name": "Python 3 (ipykernel)",
   "language": "python",
   "name": "python3"
  },
  "language_info": {
   "codemirror_mode": {
    "name": "ipython",
    "version": 3
   },
   "file_extension": ".py",
   "mimetype": "text/x-python",
   "name": "python",
   "nbconvert_exporter": "python",
   "pygments_lexer": "ipython3",
   "version": "3.10.8"
  }
 },
 "nbformat": 4,
 "nbformat_minor": 5
}
