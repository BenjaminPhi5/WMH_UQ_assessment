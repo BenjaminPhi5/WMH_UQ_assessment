{
 "cells": [
  {
   "cell_type": "markdown",
   "id": "229f024d-8140-4c3e-8dd8-3240a867fde3",
   "metadata": {},
   "source": [
    "# Training combined CVD ADNI models"
   ]
  },
  {
   "cell_type": "code",
   "execution_count": 1,
   "id": "d4ed9886-3d01-42cb-a751-ae84b493a88d",
   "metadata": {},
   "outputs": [
    {
     "name": "stdout",
     "output_type": "stream",
     "text": [
      "strawberry\n",
      "strawberry\n",
      "banana\n",
      "strawberry\n",
      "banana\n",
      "banana\n"
     ]
    }
   ],
   "source": [
    "print(\"strawberry\")\n",
    "\n",
    "import torch\n",
    "from trustworthai.utils.augmentation.standard_transforms import (\n",
    "    RandomFlip, GaussianBlur, GaussianNoise,\n",
    "    RandomResizeCrop, RandomAffine,\n",
    "    NormalizeImg, PairedCompose, LabelSelect,\n",
    "    PairedCentreCrop, CropZDim,\n",
    ")\n",
    "from trustworthai.run.ADNI_300_analysis.ADNI_model_train import ExtractYChannelDataset as adni_ExtractYChannelDataset\n",
    "from trustworthai.run.ADNI_300_analysis.ADNI_model_train import AddChannelsDataset as adni_AddChannelsDataset\n",
    "from trustworthai.run.ADNI_300_analysis.ADNI_model_train import ImgsAndDfDataset as adni_ImgsAndDfDataset\n",
    "from trustworthai.run.ADNI_300_analysis.ADNI_model_train import SkipBadIndexesDs as adni_SkipBadIndexesDs\n",
    "from trustworthai.run.ADNI_300_analysis.ADNI_model_train import AugmentedDataset as adni_AugmentedDataset\n",
    "from trustworthai.run.ADNI_300_analysis.ADNI_model_train import FormatDataset as adni_FormatDataset\n",
    "from trustworthai.run.ADNI_300_analysis.ADNI_model_train import get_output_maps_for_ds as adni_get_output_maps_for_ds\n",
    "from trustworthai.run.ADNI_300_analysis.ADNI_model_train import prepare_ADNI_dfs\n",
    "import pandas as pd\n",
    "import numpy as np\n",
    "from natsort import natsorted\n",
    "import os\n",
    "from tqdm import tqdm\n",
    "import matplotlib.pyplot as plt\n",
    "from trustworthai.utils.data_preprep.splits import cross_validate_split\n",
    "\n",
    "# training\n",
    "from trustworthai.utils.fitting_and_inference.fitters.basic_lightning_fitter import StandardLitModelWrapper\n",
    "from pytorch_lightning.callbacks.model_checkpoint import ModelCheckpoint\n",
    "from trustworthai.utils.fitting_and_inference.get_trainer import get_trainer\n",
    "\n",
    "from trustworthai.run.model_load.training_fazekas_3_script import build_clinscores_prediction_dataset, FormatDataset_CVD_Data, GetLabelsDs\n",
    "\n",
    "# data\n",
    "from twaidata.torchdatasets.MRI_3D_nolabels_inram_ds import MRI_3D_nolabels_inram_ds\n",
    "from trustworthai.utils.data_preprep.dataset_pipelines import load_clinscores_data, load_data, ClinScoreDataRetriever\n",
    "from torch.utils.data import ConcatDataset, Dataset, DataLoader\n",
    "from torchsampler import ImbalancedDatasetSampler\n",
    "\n",
    "print(\"banana\")"
   ]
  },
  {
   "cell_type": "code",
   "execution_count": 2,
   "id": "f0bc6a58-4c65-46fa-b330-18bf6e9fa2ca",
   "metadata": {},
   "outputs": [],
   "source": [
    "class ResampledDataset(Dataset):\n",
    "    def __init__(self, base_dataset):\n",
    "        self.base_dataset = base_dataset\n",
    "        labels = [y for _, y in base_dataset]\n",
    "        # print(labels)\n",
    "        labels = np.array(labels)\n",
    "        uniques = natsorted(np.unique(labels))\n",
    "\n",
    "        label_counts = [np.sum(labels == label) for label in uniques]\n",
    "        \n",
    "        largest_group_size = max(label_counts)\n",
    "            \n",
    "        label_positions = {label:[] for label in uniques}\n",
    "\n",
    "        for i, label in enumerate(labels):\n",
    "            label_positions[label].append(i)\n",
    "            \n",
    "        #label_positions = {label:}\n",
    "            \n",
    "        resampled_indexes = []\n",
    "        for label in uniques:\n",
    "            count = 0\n",
    "            i = 0\n",
    "            while count < largest_group_size:\n",
    "                label_pos = label_positions[label]\n",
    "                label_total = len(label_pos)\n",
    "                resampled_indexes.append(label_pos[i % label_total])\n",
    "                i += 1\n",
    "                count += 1\n",
    "                \n",
    "        self.resampled_indexes = resampled_indexes\n",
    "        # print(resampled_indexes)\n",
    "        \n",
    "    def __getitem__(self, idx):\n",
    "        return self.base_dataset[self.resampled_indexes[idx]]\n",
    "    \n",
    "    def __len__(self):\n",
    "        return len(self.resampled_indexes)"
   ]
  },
  {
   "cell_type": "code",
   "execution_count": 3,
   "id": "fdf4a937-53d6-4ede-97d9-190e007490f1",
   "metadata": {},
   "outputs": [],
   "source": [
    "class GetLabelsDs(Dataset):\n",
    "    def __init__(self, base_dataset):\n",
    "        self.base_dataset = base_dataset\n",
    "        \n",
    "    def __getitem__(self, idx):\n",
    "        return self.base_dataset[idx]\n",
    "    \n",
    "    def __len__(self):\n",
    "        return len(self.base_dataset)\n",
    "    \n",
    "    def get_labels(self):\n",
    "        labels = []\n",
    "        for (x, clin_data), y in self.base_dataset:\n",
    "            labels.append(y)\n",
    "            \n",
    "        return labels"
   ]
  },
  {
   "cell_type": "code",
   "execution_count": 4,
   "id": "5ce3fdc4-6f41-4927-b9ca-19a6b24c7f4d",
   "metadata": {
    "tags": []
   },
   "outputs": [],
   "source": [
    "def get_transforms():\n",
    "    transforms = [\n",
    "        LabelSelect(label_id=1),\n",
    "        RandomFlip(p=0.5, orientation=\"horizontal\"),\n",
    "        # GaussianBlur(p=0.5, kernel_size=7, sigma=(.1, 1.5)),\n",
    "        # GaussianNoise(p=0.2, mean=0, sigma=0.2),\n",
    "        RandomAffine(p=0.2, shear=(-18,18)),\n",
    "        RandomAffine(p=0.2, degrees=15),\n",
    "        RandomAffine(p=0.2, translate=(-0.1,0.1)),\n",
    "        RandomAffine(p=0.2, scale=(0.9, 1.1)),\n",
    "#         #RandomResizeCrop(p=1., scale=(0.6, 1.), ratio=(3./4., 4./3.))\n",
    "\n",
    "#         #RandomResizeCrop(p=1., scale=(0.3, 0.5), ratio=(3./4., 4./3.)) # ssn\n",
    "    ]\n",
    "    transforms.append(lambda x, y: (x, y.squeeze().type(torch.long)))\n",
    "    return PairedCompose(transforms)\n"
   ]
  },
  {
   "cell_type": "code",
   "execution_count": 5,
   "id": "7eb725f7-15d5-4304-be8a-428df26c763e",
   "metadata": {},
   "outputs": [],
   "source": [
    "# # load and manipulate spreadsheet data\n",
    "# adni_dir = \"/home/s2208943/ipdis/data/ADNI_data/\"\n",
    "# spreadsheet_dir = adni_dir\n",
    "# # dataset with clinical variables (e.g age, and a bunch of other factors)\n",
    "# variables_df = pd.read_excel(spreadsheet_dir + \"ADNI_300_Variables_for_Analysis.xlsx\")\n",
    "\n",
    "# # dataset with fazekas ratings by Maria. I only have 290 of the 298 due to a few images missing matches, which is a shame\n",
    "# # but hopefully this is enough information. Nice.\n",
    "# ratings_df = pd.read_excel(spreadsheet_dir + \"ADNI_300_Sample_MVH_ratings.xlsx\")\n",
    "\n",
    "# combined_df = prepare_ADNI_dfs(ratings_df, variables_df)"
   ]
  },
  {
   "cell_type": "code",
   "execution_count": 6,
   "id": "7e4a0372-6595-4fa9-aa42-81e3a89d4c8a",
   "metadata": {},
   "outputs": [],
   "source": [
    "# load the adni data\n",
    "class ADNIDataLoader:\n",
    "    def __init__(self, umap_model_name):    \n",
    "        # load the adni data\n",
    "        ADNI_ds = MRI_3D_nolabels_inram_ds(\"/home/s2208943/ipdis/data/preprocessed_data/ADNI_300\")\n",
    "        IDs = ADNI_ds.getIDs()\n",
    "\n",
    "        model_name = umap_model_name\n",
    "        output_maps_dir = f\"/home/s2208943/ipdis/data/preprocessed_data/ADNI_300_output_maps/{model_name}/\"\n",
    "        output_maps, key_order = adni_get_output_maps_for_ds(output_maps_dir, IDs)\n",
    "\n",
    "\n",
    "        # load and manipulate spreadsheet data\n",
    "        adni_dir = \"/home/s2208943/ipdis/data/ADNI_data/\"\n",
    "        spreadsheet_dir = adni_dir\n",
    "        # dataset with clinical variables (e.g age, and a bunch of other factors)\n",
    "        variables_df = pd.read_excel(spreadsheet_dir + \"ADNI_300_Variables_for_Analysis.xlsx\")\n",
    "\n",
    "        # dataset with fazekas ratings by Maria. I only have 290 of the 298 due to a few images missing matches, which is a shame\n",
    "        # but hopefully this is enough information. Nice.\n",
    "        ratings_df = pd.read_excel(spreadsheet_dir + \"ADNI_300_Sample_MVH_ratings.xlsx\")\n",
    "\n",
    "        combined_df = prepare_ADNI_dfs(ratings_df, variables_df)\n",
    "\n",
    "        imgs_ds = ADNI_ds\n",
    "        imgs_ds = adni_ExtractYChannelDataset(imgs_ds, 1)\n",
    "        imgs_ds = adni_AddChannelsDataset(imgs_ds, output_maps, IDs)\n",
    "        \n",
    "        self.imgs_ds = imgs_ds\n",
    "        self.combined_df = combined_df\n",
    "    \n",
    "    def get_datasets(self, split, target, input_type, add_standard_augment=True, val_prop=0.15, test_prop=0.15, seed=3407, fields = ['AGE', 'Ventricles_bl %', 'Hippocampus_bl %',\n",
    "           'WholeBrain_bl %', 'Entorhinal_bl %', 'Fusiform_bl %', 'MidTemp_bl %',\n",
    "           'BMI', 'PTGENDER', 'E-M RISK FACTORS',\n",
    "           'DX.bl_0', 'DX.bl_1', 'DX.bl_2', 'DX.bl_3', 'CV RISK FACTORS_0',\n",
    "           'CV RISK FACTORS_1', 'CV RISK FACTORS_2', 'APOE4_0', 'APOE4_1',\n",
    "           'APOE4_2']):\n",
    "        \n",
    "        imgs_ds = self.imgs_ds\n",
    "        imgs_ds = adni_ImgsAndDfDataset(imgs_ds, self.combined_df, selected_fields=fields, label_field=target)\n",
    "        imgs_ds = adni_SkipBadIndexesDs(imgs_ds)\n",
    "        #imgs_ds = ConsumedDataset(imgs_ds)\n",
    "        \n",
    "        train_ds, val_ds, test_ds = cross_validate_split(imgs_ds, val_prop=val_prop, test_prop=test_prop, seed=seed, split=split, test_fold_smooth=1)\n",
    "        if add_standard_augment:\n",
    "            augments = get_transforms()\n",
    "        else:\n",
    "            augments = None\n",
    "        \n",
    "        \n",
    "        train_ds = adni_AugmentedDataset(train_ds, augments)\n",
    "        val_ds = adni_AugmentedDataset(val_ds, augments)\n",
    "        test_ds = adni_AugmentedDataset(test_ds, augments)\n",
    "\n",
    "        if input_type == 'both':\n",
    "            channels = ['ent', 'pred']\n",
    "        else:\n",
    "            channels = [input_type]\n",
    "\n",
    "        train_ds_2d = adni_FormatDataset(train_ds, channels=channels)\n",
    "        val_ds_2d = adni_FormatDataset(val_ds, channels=channels)\n",
    "        test_ds_2d = adni_FormatDataset(test_ds, channels=channels)\n",
    "\n",
    "        return train_ds_2d, val_ds_2d, test_ds_2d"
   ]
  },
  {
   "cell_type": "code",
   "execution_count": 7,
   "id": "54382d82-dc16-4180-b584-5e1b27fed16c",
   "metadata": {},
   "outputs": [],
   "source": [
    "umap_model_name = \"CHAL_based_SSN\""
   ]
  },
  {
   "cell_type": "code",
   "execution_count": 8,
   "id": "d42fd32c-2000-4272-84fb-f8a9d387de4a",
   "metadata": {},
   "outputs": [
    {
     "name": "stderr",
     "output_type": "stream",
     "text": [
      "100%|███████████████████████████████████████████████████████████████████████████████████████████████████████████████████████████████████████████████████████| 290/290 [02:10<00:00,  2.23it/s]\n",
      "100%|███████████████████████████████████████████████████████████████████████████████████████████████████████████████████████████████████████████████████████| 290/290 [04:53<00:00,  1.01s/it]\n",
      "/home/s2208943/miniconda3/envs/uq/lib/python3.10/site-packages/openpyxl/worksheet/_reader.py:312: UserWarning: Unknown extension is not supported and will be removed\n",
      "  warn(msg)\n",
      "/home/s2208943/miniconda3/envs/uq/lib/python3.10/site-packages/openpyxl/worksheet/_reader.py:312: UserWarning: Unknown extension is not supported and will be removed\n",
      "  warn(msg)\n"
     ]
    },
    {
     "name": "stdout",
     "output_type": "stream",
     "text": [
      "Index(['Patient ID', 'Image_year', 'PVS_BG', 'PVS_CS', 'Unnamed: 4',\n",
      "       'Image_year.1', 'WMH_PV', 'WMH_Deep', 'Total', 'Obs', 'DX.bl', 'AGE',\n",
      "       'PTGENDER', 'PTEDUCAT', 'PTRACCAT', 'APOE4', 'Ventricles_bl %',\n",
      "       'Hippocampus_bl %', 'WholeBrain_bl %', 'Entorhinal_bl %',\n",
      "       'Fusiform_bl %', 'MidTemp_bl %', 'BMB Y1 Count', 'BMB Y2 Count',\n",
      "       'BMB Y3 Count', 'VSBPDIA', 'VSBPSYS', 'VSPULSE', 'BMI',\n",
      "       'CV RISK FACTORS', 'E-M RISK FACTORS'],\n",
      "      dtype='object')\n",
      "AGE\n",
      "71.68144\n",
      "7.255286\n",
      "Ventricles_bl %\n",
      "2.0359201\n",
      "1.2413726\n",
      "Hippocampus_bl %\n",
      "0.4417514\n",
      "0.14940187\n",
      "WholeBrain_bl %\n",
      "63.80321\n",
      "19.644567\n",
      "Entorhinal_bl %\n",
      "0.2250529\n",
      "0.07900988\n",
      "Fusiform_bl %\n",
      "1.1153746\n",
      "0.35392547\n",
      "MidTemp_bl %\n",
      "1.2349646\n",
      "0.38926435\n",
      "BMI\n",
      "27.25382\n",
      "4.750693\n"
     ]
    },
    {
     "name": "stderr",
     "output_type": "stream",
     "text": [
      "/home/s2208943/ipdis/UQ_WMH_methods/trustworthai/run/ADNI_300_analysis/ADNI_model_train.py:75: FutureWarning: In a future version, the Index constructor will not infer numeric dtypes when passed object-dtype sequences (matching Series behavior)\n",
      "  onehot_cols = pd.get_dummies(df[field], prefix=field)\n",
      "/home/s2208943/ipdis/UQ_WMH_methods/trustworthai/run/ADNI_300_analysis/ADNI_model_train.py:75: FutureWarning: In a future version, the Index constructor will not infer numeric dtypes when passed object-dtype sequences (matching Series behavior)\n",
      "  onehot_cols = pd.get_dummies(df[field], prefix=field)\n",
      "/home/s2208943/ipdis/UQ_WMH_methods/trustworthai/run/ADNI_300_analysis/ADNI_model_train.py:75: FutureWarning: In a future version, the Index constructor will not infer numeric dtypes when passed object-dtype sequences (matching Series behavior)\n",
      "  onehot_cols = pd.get_dummies(df[field], prefix=field)\n"
     ]
    }
   ],
   "source": [
    "adni_loader = ADNIDataLoader(umap_model_name=umap_model_name)"
   ]
  },
  {
   "cell_type": "code",
   "execution_count": 9,
   "id": "8f9e7110-6367-444c-8a6f-0d23adf2a7c2",
   "metadata": {},
   "outputs": [
    {
     "name": "stderr",
     "output_type": "stream",
     "text": [
      "100%|███████████████████████████████████████████████████████████████████████████████████████████████████████████████████████████████████████████████████████| 290/290 [00:17<00:00, 17.05it/s]\n"
     ]
    }
   ],
   "source": [
    "adni_train, adni_val, adni_test = adni_loader.get_datasets(\n",
    "    split=0,\n",
    "    target='WMH_Deep',\n",
    "    input_type='both',\n",
    "    add_standard_augment=True,\n",
    "    val_prop=0.15,\n",
    "    test_prop=0.15,\n",
    "    seed=3407,\n",
    "    fields = ['AGE', 'PTGENDER']\n",
    ")"
   ]
  },
  {
   "cell_type": "code",
   "execution_count": 10,
   "id": "509a97cf-586a-4165-b319-4889d944901e",
   "metadata": {},
   "outputs": [],
   "source": [
    "# load the cvd data\n",
    "\n",
    "def load_cvd_data(clin_retriever, split, target, input_type, umap_model_name, add_standard_augment=True, val_prop=0.15, test_prop=0.15, seed=3407, clin_fields = ['age', 'sex', 'diabetes', 'hypertension', 'hyperlipidaemia', 'smoking_0', 'smoking_1', 'smoking_2']\n",
    "    ):\n",
    "    umap_model = umap_model_name\n",
    "    \n",
    "    if input_type == 'both':\n",
    "        channels = ['ent', 'pred']\n",
    "    else:\n",
    "        channels = [input_type]\n",
    "        \n",
    "    if target == \"DWMH\" or target == \"PVWMH\":\n",
    "        num_classes = 4\n",
    "    elif target == \"total_fazekas\" or target == \"supAtrophy\" or target == \"deepAtrophy\":\n",
    "        num_classes = 7 # includes the 6 class.\n",
    "    else:\n",
    "        num_classes = 2 # for stroke, or tab fazekas, or the other tab variables etc.\n",
    "    \n",
    "        \n",
    "        \n",
    "    ### load the data\n",
    "    train_ds_clin, val_ds_clin, test_ds_clin = clin_retriever.load_clinscores_data(\n",
    "            combine_all=False,\n",
    "            test_proportion=test_prop, \n",
    "            validation_proportion=val_prop,\n",
    "            seed=seed,\n",
    "            cross_validate=True,\n",
    "            cv_split=split,\n",
    "            cv_test_fold_smooth=1,\n",
    "\n",
    "        )\n",
    "    \n",
    "    ### load the extra information (e.g uncertainty maps, var maps, preds etc)\n",
    "    umap_model_name = umap_model\n",
    "    output_maps_dir = f\"/home/s2208943/ipdis/data/preprocessed_data/EdData_output_maps/{umap_model_name}/\"\n",
    "\n",
    "    output_maps_files = os.listdir(output_maps_dir)\n",
    "\n",
    "    ds = train_ds_clin\n",
    "    \n",
    "    target_field = target\n",
    "    \n",
    "    new_test_ds = build_clinscores_prediction_dataset(output_maps_dir, test_ds_clin, clin_fields=clin_fields, target_field=target_field,  apply_augmentation=add_standard_augment)\n",
    "    new_val_ds = build_clinscores_prediction_dataset(output_maps_dir, val_ds_clin, clin_fields=clin_fields, target_field=target_field, apply_augmentation=add_standard_augment)\n",
    "    new_train_ds = build_clinscores_prediction_dataset(output_maps_dir, train_ds_clin, clin_fields=clin_fields, target_field=target_field, apply_augmentation=add_standard_augment)\n",
    "    \n",
    "    train_ds_2d = GetLabelsDs(FormatDataset_CVD_Data(new_train_ds, channels=channels))\n",
    "    val_ds_2d = GetLabelsDs(FormatDataset_CVD_Data(new_val_ds, channels=channels))\n",
    "    test_ds_2d = GetLabelsDs(FormatDataset_CVD_Data(new_test_ds, channels=channels))\n",
    "    \n",
    "    return train_ds_2d, val_ds_2d, test_ds_2d"
   ]
  },
  {
   "cell_type": "code",
   "execution_count": 11,
   "id": "1e617f7d-72e8-4b77-a835-cefb8fa3cc0d",
   "metadata": {},
   "outputs": [],
   "source": [
    "clin_retriever = ClinScoreDataRetriever(use_updated_scores=True)"
   ]
  },
  {
   "cell_type": "code",
   "execution_count": 12,
   "id": "289a0572-8848-44a6-97e0-748f6530cfbb",
   "metadata": {},
   "outputs": [
    {
     "name": "stdout",
     "output_type": "stream",
     "text": [
      "loading umaps and wmh preds images\n"
     ]
    },
    {
     "name": "stderr",
     "output_type": "stream",
     "text": [
      "100%|█████████████████████████████████████████████████████████████████████████████████████████████████████████████████████████████████████████████████████████| 42/42 [00:24<00:00,  1.74it/s]\n"
     ]
    },
    {
     "name": "stdout",
     "output_type": "stream",
     "text": [
      "loading umaps and wmh preds images\n"
     ]
    },
    {
     "name": "stderr",
     "output_type": "stream",
     "text": [
      "100%|█████████████████████████████████████████████████████████████████████████████████████████████████████████████████████████████████████████████████████████| 35/35 [00:22<00:00,  1.53it/s]\n"
     ]
    },
    {
     "name": "stdout",
     "output_type": "stream",
     "text": [
      "loading umaps and wmh preds images\n"
     ]
    },
    {
     "name": "stderr",
     "output_type": "stream",
     "text": [
      "100%|███████████████████████████████████████████████████████████████████████████████████████████████████████████████████████████████████████████████████████| 173/173 [01:49<00:00,  1.57it/s]\n"
     ]
    }
   ],
   "source": [
    "train_ds_2d, val_ds_2d, test_ds_2d = load_cvd_data(\n",
    "    clin_retriever,\n",
    "    split=0,\n",
    "    target=\"DWMH\",\n",
    "    input_type='both',\n",
    "    umap_model_name=umap_model_name,\n",
    "    add_standard_augment=True,\n",
    "    val_prop=0.15,\n",
    "    test_prop=0.15,\n",
    "    seed=3407,\n",
    "    clin_fields = ['age', 'sex']\n",
    "    \n",
    ")\n",
    "  "
   ]
  },
  {
   "cell_type": "code",
   "execution_count": 13,
   "id": "b4d8db8c-2aba-420d-b2f8-3a6a068d773f",
   "metadata": {},
   "outputs": [],
   "source": [
    "class CVD_adjust_fields_dataset(torch.utils.data.Dataset):\n",
    "    def __init__(self, base_dataset):\n",
    "        self.base_dataset = base_dataset\n",
    "        \n",
    "    def __len__(self):\n",
    "        return len(self.base_dataset)\n",
    "    \n",
    "    def __getitem__(self, idx):\n",
    "        \n",
    "        (x, clin_data), label = self.base_dataset[idx]\n",
    "        age_mean = 71.68144\n",
    "        age_std = 7.255286\n",
    "        clin_data[1] -= 1.\n",
    "        clin_data[0] = (clin_data[0] - age_mean) / age_std\n",
    "        clin_data = torch.Tensor(clin_data)\n",
    "        \n",
    "        return (x, clin_data), label"
   ]
  },
  {
   "cell_type": "code",
   "execution_count": 14,
   "id": "f7fcc746-ac9e-4b62-8b84-8d7531f3b600",
   "metadata": {},
   "outputs": [],
   "source": [
    "class ADNI_torch_ds(torch.utils.data.Dataset):\n",
    "    def __init__(self, base_dataset):\n",
    "        self.base_dataset = base_dataset\n",
    "        \n",
    "    def __len__(self):\n",
    "        return len(self.base_dataset)\n",
    "    \n",
    "    def __getitem__(self, idx):\n",
    "        \n",
    "        (x, clin_data), label = self.base_dataset[idx]\n",
    "        clin_data = torch.Tensor(clin_data)\n",
    "        \n",
    "        return (x, clin_data), label"
   ]
  },
  {
   "cell_type": "code",
   "execution_count": 15,
   "id": "ff8a5b5e-24a2-4574-af4f-5bab87e5ab20",
   "metadata": {},
   "outputs": [],
   "source": [
    "cvd_train = CVD_adjust_fields_dataset(train_ds_2d)\n",
    "cvd_val = CVD_adjust_fields_dataset(val_ds_2d)\n",
    "cvd_test = CVD_adjust_fields_dataset(test_ds_2d)"
   ]
  },
  {
   "cell_type": "code",
   "execution_count": 16,
   "id": "ae5797fc-3122-4350-80e7-bb57b6dbfb2e",
   "metadata": {},
   "outputs": [],
   "source": [
    "tadni_train = ADNI_torch_ds(adni_train)\n",
    "tadni_val = ADNI_torch_ds(adni_val)\n",
    "tadni_test = ADNI_torch_ds(adni_test)"
   ]
  },
  {
   "cell_type": "code",
   "execution_count": 17,
   "id": "fa145902-8c2e-4ab3-ba8e-a4ec2ce0d8f4",
   "metadata": {},
   "outputs": [],
   "source": [
    "example0 = adni_train[0]\n",
    "example1 = cvd_train[0]"
   ]
  },
  {
   "cell_type": "code",
   "execution_count": 18,
   "id": "180126af-7d8b-4665-9cc0-a7d15ad2a9c0",
   "metadata": {},
   "outputs": [
    {
     "data": {
      "text/plain": [
       "1.0"
      ]
     },
     "execution_count": 18,
     "metadata": {},
     "output_type": "execute_result"
    }
   ],
   "source": [
    "example0[1]"
   ]
  },
  {
   "cell_type": "code",
   "execution_count": 19,
   "id": "211c0354-0a03-4a74-9202-9a8375c32801",
   "metadata": {},
   "outputs": [
    {
     "data": {
      "text/plain": [
       "1.0"
      ]
     },
     "execution_count": 19,
     "metadata": {},
     "output_type": "execute_result"
    }
   ],
   "source": [
    "example0[1]"
   ]
  },
  {
   "cell_type": "code",
   "execution_count": 20,
   "id": "98948daf-05c9-452c-9d50-8fcfecadbf7e",
   "metadata": {},
   "outputs": [
    {
     "data": {
      "text/plain": [
       "<matplotlib.image.AxesImage at 0x7f6f706c6b90>"
      ]
     },
     "execution_count": 20,
     "metadata": {},
     "output_type": "execute_result"
    },
    {
     "data": {
      "image/png": "[encoded data removed]",
      "text/plain": [
       "<Figure size 640x480 with 1 Axes>"
      ]
     },
     "metadata": {},
     "output_type": "display_data"
    }
   ],
   "source": [
    "plt.imshow(example0[0][0][11])"
   ]
  },
  {
   "cell_type": "code",
   "execution_count": 21,
   "id": "23b8d0dc-31aa-4333-ae18-89cc4c2a96ce",
   "metadata": {},
   "outputs": [
    {
     "data": {
      "text/plain": [
       "<matplotlib.image.AxesImage at 0x7f6f7052f6d0>"
      ]
     },
     "execution_count": 21,
     "metadata": {},
     "output_type": "execute_result"
    },
    {
     "data": {
      "image/png": "[encoded data removed]",
      "text/plain": [
       "<Figure size 640x480 with 1 Axes>"
      ]
     },
     "metadata": {},
     "output_type": "display_data"
    }
   ],
   "source": [
    "plt.imshow(example0[0][0][11])"
   ]
  },
  {
   "cell_type": "markdown",
   "id": "b0bdbf7e-79fe-436d-9a21-8948274a715f",
   "metadata": {},
   "source": [
    "### combine the datasets and get dataloaders"
   ]
  },
  {
   "cell_type": "code",
   "execution_count": 22,
   "id": "239fd546-1205-4485-a20b-489a99fe7023",
   "metadata": {},
   "outputs": [],
   "source": [
    "train_ds = ConcatDataset([cvd_train, tadni_train])\n",
    "val_ds = ConcatDataset([cvd_val, cvd_test, tadni_val, tadni_test])"
   ]
  },
  {
   "cell_type": "code",
   "execution_count": 23,
   "id": "d841cada-a3eb-4a73-8e57-d2989f79f9c9",
   "metadata": {},
   "outputs": [
    {
     "data": {
      "text/plain": [
       "array([-0.02500828,  1.        ], dtype=float32)"
      ]
     },
     "execution_count": 23,
     "metadata": {},
     "output_type": "execute_result"
    }
   ],
   "source": [
    "adni_val[0][0][1]"
   ]
  },
  {
   "cell_type": "code",
   "execution_count": 24,
   "id": "17005bf3-3a7d-4ac3-95a2-1999b2d5b949",
   "metadata": {},
   "outputs": [
    {
     "data": {
      "text/plain": [
       "1.0"
      ]
     },
     "execution_count": 24,
     "metadata": {},
     "output_type": "execute_result"
    }
   ],
   "source": [
    "val_ds[0][1]"
   ]
  },
  {
   "cell_type": "code",
   "execution_count": 25,
   "id": "8e6107ec-c5f5-476f-8941-81edb24df254",
   "metadata": {},
   "outputs": [],
   "source": [
    "resampled_val_ds = ResampledDataset(val_ds)"
   ]
  },
  {
   "cell_type": "code",
   "execution_count": 26,
   "id": "960fe53c-5bd6-4e5e-8aec-b434c535c28b",
   "metadata": {},
   "outputs": [
    {
     "data": {
      "text/plain": [
       "0.0"
      ]
     },
     "execution_count": 26,
     "metadata": {},
     "output_type": "execute_result"
    }
   ],
   "source": [
    "resampled_val_ds[0][1]"
   ]
  },
  {
   "cell_type": "code",
   "execution_count": 27,
   "id": "fbdd18b3-59da-4364-90ea-f0311af0564e",
   "metadata": {},
   "outputs": [],
   "source": [
    "batch_size=12\n",
    "train_dataloader = DataLoader(train_ds, batch_size=batch_size, sampler=ImbalancedDatasetSampler(GetLabelsDs(train_ds)), num_workers=4)\n",
    "val_dataloader = DataLoader(resampled_val_ds, batch_size=batch_size, shuffle=False, num_workers=4)"
   ]
  },
  {
   "cell_type": "code",
   "execution_count": 28,
   "id": "05b4331e-5c25-45f1-a6a6-38907ca3b62e",
   "metadata": {},
   "outputs": [
    {
     "data": {
      "text/plain": [
       "tensor([-1.6101,  0.0000])"
      ]
     },
     "execution_count": 28,
     "metadata": {},
     "output_type": "execute_result"
    }
   ],
   "source": [
    "resampled_val_ds[0][0][1]"
   ]
  },
  {
   "cell_type": "code",
   "execution_count": 29,
   "id": "dd465021-6d93-4998-8c70-70c0aca3a384",
   "metadata": {},
   "outputs": [],
   "source": [
    "out = next(iter(val_dataloader))"
   ]
  },
  {
   "cell_type": "code",
   "execution_count": 30,
   "id": "79174fd4-1dc7-4ed3-b468-60a8678e6fa1",
   "metadata": {},
   "outputs": [
    {
     "data": {
      "text/plain": [
       "(365, 160)"
      ]
     },
     "execution_count": 30,
     "metadata": {},
     "output_type": "execute_result"
    }
   ],
   "source": [
    "len(train_ds), len(val_ds)"
   ]
  },
  {
   "cell_type": "markdown",
   "id": "e1d2d072-88da-4278-8551-d1ca86d408c0",
   "metadata": {},
   "source": [
    "### Setting up model for training"
   ]
  },
  {
   "cell_type": "code",
   "execution_count": 31,
   "id": "1f804ffe-f381-4080-baf2-ca156c274ea1",
   "metadata": {
    "tags": []
   },
   "outputs": [],
   "source": [
    "from functools import partial\n",
    "from typing import Any, Callable, List, Optional, Type, Union\n",
    "\n",
    "import torch\n",
    "import torch.nn as nn\n",
    "from torch import Tensor\n",
    "\n",
    "\n",
    "def conv3x3(in_planes: int, out_planes: int, stride: int = 1, groups: int = 1, dilation: int = 1) -> nn.Conv2d:\n",
    "    \"\"\"3x3 convolution with padding\"\"\"\n",
    "    return nn.Conv2d(\n",
    "        in_planes,\n",
    "        out_planes,\n",
    "        kernel_size=3,\n",
    "        stride=stride,\n",
    "        padding=dilation,\n",
    "        groups=groups,\n",
    "        bias=False,\n",
    "        dilation=dilation,\n",
    "    )\n",
    "\n",
    "\n",
    "def conv1x1(in_planes: int, out_planes: int, stride: int = 1) -> nn.Conv2d:\n",
    "    \"\"\"1x1 convolution\"\"\"\n",
    "    return nn.Conv2d(in_planes, out_planes, kernel_size=1, stride=stride, bias=False)\n",
    "\n",
    "\n",
    "class BasicBlock(nn.Module):\n",
    "    expansion: int = 1\n",
    "\n",
    "    def __init__(\n",
    "        self,\n",
    "        inplanes: int,\n",
    "        planes: int,\n",
    "        stride: int = 1,\n",
    "        downsample: Optional[nn.Module] = None,\n",
    "        groups: int = 1,\n",
    "        base_width: int = 64,\n",
    "        dilation: int = 1,\n",
    "        norm_layer: Optional[Callable[..., nn.Module]] = None,\n",
    "    ) -> None:\n",
    "        super().__init__()\n",
    "        if norm_layer is None:\n",
    "            norm_layer = nn.BatchNorm2d\n",
    "        if groups != 1 or base_width != 64:\n",
    "            raise ValueError(\"BasicBlock only supports groups=1 and base_width=64\")\n",
    "        if dilation > 1:\n",
    "            raise NotImplementedError(\"Dilation > 1 not supported in BasicBlock\")\n",
    "        # Both self.conv1 and self.downsample layers downsample the input when stride != 1\n",
    "        self.conv1 = conv3x3(inplanes, planes, stride)\n",
    "        self.bn1 = norm_layer(planes)\n",
    "        self.relu = nn.ReLU(inplace=True)\n",
    "        self.conv2 = conv3x3(planes, planes)\n",
    "        self.bn2 = norm_layer(planes)\n",
    "        self.downsample = downsample\n",
    "        self.stride = stride\n",
    "\n",
    "    def forward(self, x: Tensor) -> Tensor:\n",
    "        identity = x\n",
    "\n",
    "        out = self.conv1(x)\n",
    "        out = self.bn1(out)\n",
    "        out = self.relu(out)\n",
    "\n",
    "        out = self.conv2(out)\n",
    "        out = self.bn2(out)\n",
    "\n",
    "        if self.downsample is not None:\n",
    "            identity = self.downsample(x)\n",
    "\n",
    "        out += identity\n",
    "        out = self.relu(out)\n",
    "\n",
    "        return out\n",
    "\n",
    "\n",
    "class Bottleneck(nn.Module):\n",
    "    # Bottleneck in torchvision places the stride for downsampling at 3x3 convolution(self.conv2)\n",
    "    # while original implementation places the stride at the first 1x1 convolution(self.conv1)\n",
    "    # according to \"Deep residual learning for image recognition\" https://arxiv.org/abs/1512.03385.\n",
    "    # This variant is also known as ResNet V1.5 and improves accuracy according to\n",
    "    # https://ngc.nvidia.com/catalog/model-scripts/nvidia:resnet_50_v1_5_for_pytorch.\n",
    "\n",
    "    expansion: int = 4\n",
    "\n",
    "    def __init__(\n",
    "        self,\n",
    "        inplanes: int,\n",
    "        planes: int,\n",
    "        stride: int = 1,\n",
    "        downsample: Optional[nn.Module] = None,\n",
    "        groups: int = 1,\n",
    "        base_width: int = 64,\n",
    "        dilation: int = 1,\n",
    "        norm_layer: Optional[Callable[..., nn.Module]] = None,\n",
    "    ) -> None:\n",
    "        super().__init__()\n",
    "        if norm_layer is None:\n",
    "            norm_layer = nn.BatchNorm2d\n",
    "        width = int(planes * (base_width / 64.0)) * groups\n",
    "        # Both self.conv2 and self.downsample layers downsample the input when stride != 1\n",
    "        self.conv1 = conv1x1(inplanes, width)\n",
    "        self.bn1 = norm_layer(width)\n",
    "        self.conv2 = conv3x3(width, width, stride, groups, dilation)\n",
    "        self.bn2 = norm_layer(width)\n",
    "        self.conv3 = conv1x1(width, planes * self.expansion)\n",
    "        self.bn3 = norm_layer(planes * self.expansion)\n",
    "        self.relu = nn.ReLU(inplace=True)\n",
    "        self.downsample = downsample\n",
    "        self.stride = stride\n",
    "\n",
    "    def forward(self, x: Tensor) -> Tensor:\n",
    "        identity = x\n",
    "\n",
    "        out = self.conv1(x)\n",
    "        out = self.bn1(out)\n",
    "        out = self.relu(out)\n",
    "\n",
    "        out = self.conv2(out)\n",
    "        out = self.bn2(out)\n",
    "        out = self.relu(out)\n",
    "\n",
    "        out = self.conv3(out)\n",
    "        out = self.bn3(out)\n",
    "\n",
    "        if self.downsample is not None:\n",
    "            identity = self.downsample(x)\n",
    "\n",
    "        out += identity\n",
    "        out = self.relu(out)\n",
    "\n",
    "        return out\n",
    "\n",
    "\n",
    "class ResNet(nn.Module):\n",
    "    def __init__(\n",
    "        self,\n",
    "        block: Type[Union[BasicBlock, Bottleneck]],\n",
    "        layers: List[int],\n",
    "        channel_size_divide=1,\n",
    "        num_classes: int = 1000,\n",
    "        zero_init_residual: bool = False,\n",
    "        groups: int = 1,\n",
    "        width_per_group: int = 64,\n",
    "        replace_stride_with_dilation: Optional[List[bool]] = None,\n",
    "        norm_layer: Optional[Callable[..., nn.Module]] = None,\n",
    "    ) -> None:\n",
    "        super().__init__()\n",
    "        if norm_layer is None:\n",
    "            norm_layer = nn.BatchNorm2d\n",
    "        self._norm_layer = norm_layer\n",
    "\n",
    "        self.inplanes = 64//channel_size_divide\n",
    "        self.init_inplanes = self.inplanes\n",
    "        self.dilation = 1\n",
    "        if replace_stride_with_dilation is None:\n",
    "            # each element in the tuple indicates if we should replace\n",
    "            # the 2x2 stride with a dilated convolution instead\n",
    "            replace_stride_with_dilation = [False, False, False]\n",
    "        if len(replace_stride_with_dilation) != 3:\n",
    "            raise ValueError(\n",
    "                \"replace_stride_with_dilation should be None \"\n",
    "                f\"or a 3-element tuple, got {replace_stride_with_dilation}\"\n",
    "            )\n",
    "        self.groups = groups\n",
    "        self.base_width = width_per_group\n",
    "        self.conv1 = nn.Conv2d(3, self.inplanes, kernel_size=7, stride=2, padding=3, bias=False)\n",
    "        self.bn1 = norm_layer(self.inplanes)\n",
    "        self.relu = nn.ReLU(inplace=True)\n",
    "        self.maxpool = nn.MaxPool2d(kernel_size=3, stride=2, padding=1)\n",
    "        self.layer1 = self._make_layer(block, 64//channel_size_divide, layers[0])\n",
    "        self.layer2 = self._make_layer(block, 128//channel_size_divide, layers[1], stride=2, dilate=replace_stride_with_dilation[0])\n",
    "        self.layer3 = self._make_layer(block, 256//channel_size_divide, layers[2], stride=2, dilate=replace_stride_with_dilation[1])\n",
    "        self.layer4 = self._make_layer(block, 512//channel_size_divide, layers[3], stride=2, dilate=replace_stride_with_dilation[2])\n",
    "        self.avgpool = nn.AdaptiveAvgPool2d((1, 1))\n",
    "        self.fc = nn.Linear(512 * block.expansion, num_classes)\n",
    "\n",
    "        for m in self.modules():\n",
    "            if isinstance(m, nn.Conv2d):\n",
    "                nn.init.kaiming_normal_(m.weight, mode=\"fan_out\", nonlinearity=\"relu\")\n",
    "            elif isinstance(m, (nn.BatchNorm2d, nn.GroupNorm)):\n",
    "                nn.init.constant_(m.weight, 1)\n",
    "                nn.init.constant_(m.bias, 0)\n",
    "\n",
    "        # Zero-initialize the last BN in each residual branch,\n",
    "        # so that the residual branch starts with zeros, and each residual block behaves like an identity.\n",
    "        # This improves the model by 0.2~0.3% according to https://arxiv.org/abs/1706.02677\n",
    "        if zero_init_residual:\n",
    "            for m in self.modules():\n",
    "                if isinstance(m, Bottleneck) and m.bn3.weight is not None:\n",
    "                    nn.init.constant_(m.bn3.weight, 0)  # type: ignore[arg-type]\n",
    "                elif isinstance(m, BasicBlock) and m.bn2.weight is not None:\n",
    "                    nn.init.constant_(m.bn2.weight, 0)  # type: ignore[arg-type]\n",
    "\n",
    "    def _make_layer(\n",
    "        self,\n",
    "        block: Type[Union[BasicBlock, Bottleneck]],\n",
    "        planes: int,\n",
    "        blocks: int,\n",
    "        stride: int = 1,\n",
    "        dilate: bool = False,\n",
    "    ) -> nn.Sequential:\n",
    "        norm_layer = self._norm_layer\n",
    "        downsample = None\n",
    "        previous_dilation = self.dilation\n",
    "        if dilate:\n",
    "            self.dilation *= stride\n",
    "            stride = 1\n",
    "        if stride != 1 or self.inplanes != planes * block.expansion:\n",
    "            downsample = nn.Sequential(\n",
    "                conv1x1(self.inplanes, planes * block.expansion, stride),\n",
    "                norm_layer(planes * block.expansion),\n",
    "            )\n",
    "\n",
    "        layers = []\n",
    "        layers.append(\n",
    "            block(\n",
    "                self.inplanes, planes, stride, downsample, self.groups, self.base_width, previous_dilation, norm_layer\n",
    "            )\n",
    "        )\n",
    "        self.inplanes = planes * block.expansion\n",
    "        for _ in range(1, blocks):\n",
    "            layers.append(\n",
    "                block(\n",
    "                    self.inplanes,\n",
    "                    planes,\n",
    "                    groups=self.groups,\n",
    "                    base_width=self.base_width,\n",
    "                    dilation=self.dilation,\n",
    "                    norm_layer=norm_layer,\n",
    "                )\n",
    "            )\n",
    "\n",
    "        return nn.Sequential(*layers)\n",
    "\n",
    "    def _forward_impl(self, x: Tensor) -> Tensor:\n",
    "        # See note [TorchScript super()]\n",
    "        x = self.conv1(x)\n",
    "        x = self.bn1(x)\n",
    "        x = self.relu(x)\n",
    "        x = self.maxpool(x)\n",
    "\n",
    "        x = self.layer1(x)\n",
    "        x = self.layer2(x)\n",
    "        x = self.layer3(x)\n",
    "        x = self.layer4(x)\n",
    "\n",
    "        x = self.avgpool(x)\n",
    "        x = torch.flatten(x, 1)\n",
    "        #x = self.fc(x)\n",
    "\n",
    "        return x\n",
    "\n",
    "    def forward(self, x: Tensor) -> Tensor:\n",
    "        return self._forward_impl(x)\n",
    "\n",
    "\n",
    "def _resnet(\n",
    "    block: Type[Union[BasicBlock, Bottleneck]],\n",
    "    layers: List[int],\n",
    "    weights,#: Optional[WeightsEnum],\n",
    "    progress: bool,\n",
    "    channel_size_divide,\n",
    "    **kwargs: Any,\n",
    ") -> ResNet:\n",
    "    if weights is not None:\n",
    "        _ovewrite_named_param(kwargs, \"num_classes\", len(weights.meta[\"categories\"]))\n",
    "\n",
    "    model = ResNet(block, layers, channel_size_divide, **kwargs)\n",
    "\n",
    "    if weights is not None:\n",
    "        model.load_state_dict(weights.get_state_dict(progress=progress))\n",
    "\n",
    "    return model\n",
    "\n",
    "def resnet18(*, progress: bool = True, channel_size_divide=2, **kwargs: Any) -> ResNet:\n",
    "    return _resnet(BasicBlock, [2, 2, 2, 2], None, progress, channel_size_divide=channel_size_divide, **kwargs)\n",
    "\n",
    "def resnet34(*, progress: bool = True, **kwargs: Any) -> ResNet:\n",
    "\n",
    "    return _resnet(BasicBlock, [3, 4, 6, 3], None, progress, **kwargs)"
   ]
  },
  {
   "cell_type": "code",
   "execution_count": 32,
   "id": "622aeb85-bbe2-4b58-8e4f-39e2aa2a4167",
   "metadata": {},
   "outputs": [],
   "source": [
    "### selecting a model\n",
    "\n",
    "class PredictionModel(torch.nn.Module):\n",
    "    # uses a modified resnet that bypasses the usual \n",
    "    def __init__(self, image_channels, num_clin_features, out_classes, latent_fc_features=64, channel_size_divide=2):\n",
    "        super().__init__()\n",
    "        model_base = resnet18(channel_size_divide=channel_size_divide)\n",
    "        self.channel_size_divide = channel_size_divide\n",
    "        model_base.conv1 = nn.Conv2d(image_channels, model_base.init_inplanes, kernel_size=7, stride=2, padding=3, bias=False)\n",
    "        \n",
    "        self.model_base = model_base\n",
    "        \n",
    "        # replace the head of the model with another layer.\n",
    "        self.fc1 = nn.Linear(model_base.fc.in_features//channel_size_divide + num_clin_features, latent_fc_features)\n",
    "        self.a = nn.ReLU()\n",
    "        self.fc2 = nn.Linear(latent_fc_features, out_classes)\n",
    "        \n",
    "    def forward(self, inp):\n",
    "        x = inp[0]\n",
    "        clin_data = inp[1]\n",
    "        \n",
    "        # x = None\n",
    "        \n",
    "        if x != None:\n",
    "            features = self.model_base(x)\n",
    "        else:\n",
    "            features = torch.zeros(inp[0].shape[0], 512//self.channel_size_divide).cuda()\n",
    "        dense_input = torch.cat([features, clin_data], dim=1)\n",
    "        \n",
    "        out = self.fc2(self.a(self.fc1(dense_input)))\n",
    "        \n",
    "        return out\n",
    "        \n",
    "        "
   ]
  },
  {
   "cell_type": "code",
   "execution_count": 33,
   "id": "cdf5f346-1ab9-4bf3-8113-2397a3f8de34",
   "metadata": {},
   "outputs": [],
   "source": [
    "class xent_wrapper(nn.Module):\n",
    "    def __init__(self):\n",
    "        super().__init__()\n",
    "        self.base_loss = torch.nn.CrossEntropyLoss()\n",
    "    def forward(self, y_hat, y):\n",
    "        return self.base_loss(y_hat, y.type(torch.long))"
   ]
  },
  {
   "cell_type": "code",
   "execution_count": 34,
   "id": "ee813455-4c27-488b-b555-1e53bd09296f",
   "metadata": {},
   "outputs": [],
   "source": [
    "def run_eval_2(mdl, dataloader):\n",
    "    # reimplementing this, because my old code was behaving strangely....\n",
    "    \n",
    "    y_hats = []\n",
    "    ys = []\n",
    "    \n",
    "    for (x, clin_data), y in dataloader:\n",
    "        with torch.no_grad():\n",
    "            mdl.eval()\n",
    "            out = mdl.cuda()((x.cuda(), clin_data.cuda())).cpu()\n",
    "            y_hat = out.argmax(dim=1)\n",
    "            y_hats.append(y_hat)\n",
    "            ys.append(y)\n",
    "    \n",
    "    y_hats = torch.cat(y_hats)\n",
    "    ys = torch.cat(ys)\n",
    "    \n",
    "    print(ys.shape, y_hats.shape)\n",
    "    \n",
    "    mean_acc = (y_hats == ys).sum() / ys.shape[0]\n",
    "    \n",
    "    return mean_acc\n",
    "            \n",
    "    \n",
    "    "
   ]
  },
  {
   "cell_type": "code",
   "execution_count": 35,
   "id": "889d782a-3088-442e-a32e-398e8b9dbe0c",
   "metadata": {},
   "outputs": [
    {
     "data": {
      "text/plain": [
       "40"
      ]
     },
     "execution_count": 35,
     "metadata": {},
     "output_type": "execute_result"
    }
   ],
   "source": [
    "train_ds_2d[0][0][0].shape[0]"
   ]
  },
  {
   "cell_type": "code",
   "execution_count": 36,
   "id": "774ca78b-27ea-4cb9-88a0-caabf80ff60c",
   "metadata": {},
   "outputs": [
    {
     "name": "stderr",
     "output_type": "stream",
     "text": [
      "/home/s2208943/miniconda3/envs/uq/lib/python3.10/site-packages/lightning_lite/plugins/environments/slurm.py:167: PossibleUserWarning: The `srun` command is available on your system but is not used. HINT: If your intention is to run Lightning on SLURM, prepend your python command with `srun` like so: srun python /home/s2208943/miniconda3/envs/uq/lib/python3.10/sit ...\n",
      "  rank_zero_warn(\n",
      "GPU available: True (cuda), used: True\n",
      "TPU available: False, using: 0 TPU cores\n",
      "IPU available: False, using: 0 IPUs\n",
      "HPU available: False, using: 0 HPUs\n",
      "/home/s2208943/miniconda3/envs/uq/lib/python3.10/site-packages/pytorch_lightning/callbacks/model_checkpoint.py:604: UserWarning: Checkpoint directory /disk/scratch_big/s2208943/example_pred_0 exists and is not empty.\n",
      "  rank_zero_warn(f\"Checkpoint directory {dirpath} exists and is not empty.\")\n",
      "LOCAL_RANK: 0 - CUDA_VISIBLE_DEVICES: [0]\n",
      "\n",
      "  | Name  | Type            | Params\n",
      "------------------------------------------\n",
      "0 | model | PredictionModel | 708 K \n",
      "1 | loss  | xent_wrapper    | 0     \n",
      "------------------------------------------\n",
      "708 K     Trainable params\n",
      "0         Non-trainable params\n",
      "708 K     Total params\n",
      "2.835     Total estimated model params size (MB)\n"
     ]
    },
    {
     "data": {
      "application/vnd.jupyter.widget-view+json": {
       "model_id": "",
       "version_major": 2,
       "version_minor": 0
      },
      "text/plain": [
       "Sanity Checking: 0it [00:00, ?it/s]"
      ]
     },
     "metadata": {},
     "output_type": "display_data"
    },
    {
     "name": "stderr",
     "output_type": "stream",
     "text": [
      "/home/s2208943/miniconda3/envs/uq/lib/python3.10/site-packages/pytorch_lightning/trainer/trainer.py:1595: PossibleUserWarning: The number of training batches (31) is smaller than the logging interval Trainer(log_every_n_steps=50). Set a lower value for log_every_n_steps if you want to see logs for the training epoch.\n",
      "  rank_zero_warn(\n"
     ]
    },
    {
     "data": {
      "application/vnd.jupyter.widget-view+json": {
       "model_id": "7dcc57bcdeed4e04a467e13b45712266",
       "version_major": 2,
       "version_minor": 0
      },
      "text/plain": [
       "Training: 0it [00:00, ?it/s]"
      ]
     },
     "metadata": {},
     "output_type": "display_data"
    },
    {
     "data": {
      "application/vnd.jupyter.widget-view+json": {
       "model_id": "",
       "version_major": 2,
       "version_minor": 0
      },
      "text/plain": [
       "Validation: 0it [00:00, ?it/s]"
      ]
     },
     "metadata": {},
     "output_type": "display_data"
    },
    {
     "name": "stderr",
     "output_type": "stream",
     "text": [
      "Metric val_loss improved. New best score: 1.379\n"
     ]
    },
    {
     "data": {
      "application/vnd.jupyter.widget-view+json": {
       "model_id": "",
       "version_major": 2,
       "version_minor": 0
      },
      "text/plain": [
       "Validation: 0it [00:00, ?it/s]"
      ]
     },
     "metadata": {},
     "output_type": "display_data"
    },
    {
     "name": "stderr",
     "output_type": "stream",
     "text": [
      "Metric val_loss improved by 0.186 >= min_delta = 0.01. New best score: 1.193\n"
     ]
    },
    {
     "data": {
      "application/vnd.jupyter.widget-view+json": {
       "model_id": "",
       "version_major": 2,
       "version_minor": 0
      },
      "text/plain": [
       "Validation: 0it [00:00, ?it/s]"
      ]
     },
     "metadata": {},
     "output_type": "display_data"
    },
    {
     "name": "stderr",
     "output_type": "stream",
     "text": [
      "Metric val_loss improved by 0.241 >= min_delta = 0.01. New best score: 0.952\n"
     ]
    },
    {
     "data": {
      "application/vnd.jupyter.widget-view+json": {
       "model_id": "",
       "version_major": 2,
       "version_minor": 0
      },
      "text/plain": [
       "Validation: 0it [00:00, ?it/s]"
      ]
     },
     "metadata": {},
     "output_type": "display_data"
    },
    {
     "data": {
      "application/vnd.jupyter.widget-view+json": {
       "model_id": "",
       "version_major": 2,
       "version_minor": 0
      },
      "text/plain": [
       "Validation: 0it [00:00, ?it/s]"
      ]
     },
     "metadata": {},
     "output_type": "display_data"
    },
    {
     "data": {
      "application/vnd.jupyter.widget-view+json": {
       "model_id": "",
       "version_major": 2,
       "version_minor": 0
      },
      "text/plain": [
       "Validation: 0it [00:00, ?it/s]"
      ]
     },
     "metadata": {},
     "output_type": "display_data"
    },
    {
     "name": "stderr",
     "output_type": "stream",
     "text": [
      "Metric val_loss improved by 0.052 >= min_delta = 0.01. New best score: 0.901\n"
     ]
    },
    {
     "data": {
      "application/vnd.jupyter.widget-view+json": {
       "model_id": "",
       "version_major": 2,
       "version_minor": 0
      },
      "text/plain": [
       "Validation: 0it [00:00, ?it/s]"
      ]
     },
     "metadata": {},
     "output_type": "display_data"
    },
    {
     "name": "stderr",
     "output_type": "stream",
     "text": [
      "Metric val_loss improved by 0.059 >= min_delta = 0.01. New best score: 0.842\n"
     ]
    },
    {
     "data": {
      "application/vnd.jupyter.widget-view+json": {
       "model_id": "",
       "version_major": 2,
       "version_minor": 0
      },
      "text/plain": [
       "Validation: 0it [00:00, ?it/s]"
      ]
     },
     "metadata": {},
     "output_type": "display_data"
    },
    {
     "name": "stderr",
     "output_type": "stream",
     "text": [
      "Metric val_loss improved by 0.015 >= min_delta = 0.01. New best score: 0.827\n"
     ]
    },
    {
     "data": {
      "application/vnd.jupyter.widget-view+json": {
       "model_id": "",
       "version_major": 2,
       "version_minor": 0
      },
      "text/plain": [
       "Validation: 0it [00:00, ?it/s]"
      ]
     },
     "metadata": {},
     "output_type": "display_data"
    },
    {
     "data": {
      "application/vnd.jupyter.widget-view+json": {
       "model_id": "",
       "version_major": 2,
       "version_minor": 0
      },
      "text/plain": [
       "Validation: 0it [00:00, ?it/s]"
      ]
     },
     "metadata": {},
     "output_type": "display_data"
    },
    {
     "data": {
      "application/vnd.jupyter.widget-view+json": {
       "model_id": "",
       "version_major": 2,
       "version_minor": 0
      },
      "text/plain": [
       "Validation: 0it [00:00, ?it/s]"
      ]
     },
     "metadata": {},
     "output_type": "display_data"
    },
    {
     "name": "stderr",
     "output_type": "stream",
     "text": [
      "Metric val_loss improved by 0.055 >= min_delta = 0.01. New best score: 0.772\n"
     ]
    },
    {
     "data": {
      "application/vnd.jupyter.widget-view+json": {
       "model_id": "",
       "version_major": 2,
       "version_minor": 0
      },
      "text/plain": [
       "Validation: 0it [00:00, ?it/s]"
      ]
     },
     "metadata": {},
     "output_type": "display_data"
    },
    {
     "data": {
      "application/vnd.jupyter.widget-view+json": {
       "model_id": "",
       "version_major": 2,
       "version_minor": 0
      },
      "text/plain": [
       "Validation: 0it [00:00, ?it/s]"
      ]
     },
     "metadata": {},
     "output_type": "display_data"
    },
    {
     "data": {
      "application/vnd.jupyter.widget-view+json": {
       "model_id": "",
       "version_major": 2,
       "version_minor": 0
      },
      "text/plain": [
       "Validation: 0it [00:00, ?it/s]"
      ]
     },
     "metadata": {},
     "output_type": "display_data"
    },
    {
     "data": {
      "application/vnd.jupyter.widget-view+json": {
       "model_id": "",
       "version_major": 2,
       "version_minor": 0
      },
      "text/plain": [
       "Validation: 0it [00:00, ?it/s]"
      ]
     },
     "metadata": {},
     "output_type": "display_data"
    },
    {
     "data": {
      "application/vnd.jupyter.widget-view+json": {
       "model_id": "",
       "version_major": 2,
       "version_minor": 0
      },
      "text/plain": [
       "Validation: 0it [00:00, ?it/s]"
      ]
     },
     "metadata": {},
     "output_type": "display_data"
    },
    {
     "data": {
      "application/vnd.jupyter.widget-view+json": {
       "model_id": "",
       "version_major": 2,
       "version_minor": 0
      },
      "text/plain": [
       "Validation: 0it [00:00, ?it/s]"
      ]
     },
     "metadata": {},
     "output_type": "display_data"
    },
    {
     "data": {
      "application/vnd.jupyter.widget-view+json": {
       "model_id": "",
       "version_major": 2,
       "version_minor": 0
      },
      "text/plain": [
       "Validation: 0it [00:00, ?it/s]"
      ]
     },
     "metadata": {},
     "output_type": "display_data"
    },
    {
     "name": "stderr",
     "output_type": "stream",
     "text": [
      "Monitored metric val_loss did not improve in the last 7 records. Best score: 0.772. Signaling Trainer to stop.\n",
      "Restoring states from the checkpoint path at /disk/scratch_big/s2208943/example_pred_0/epoch=10-step=341.ckpt\n",
      "LOCAL_RANK: 0 - CUDA_VISIBLE_DEVICES: [0]\n",
      "Loaded model weights from checkpoint at /disk/scratch_big/s2208943/example_pred_0/epoch=10-step=341.ckpt\n"
     ]
    },
    {
     "data": {
      "application/vnd.jupyter.widget-view+json": {
       "model_id": "e02533e654f243d59c8b00a2ddca5e98",
       "version_major": 2,
       "version_minor": 0
      },
      "text/plain": [
       "Validation: 0it [00:00, ?it/s]"
      ]
     },
     "metadata": {},
     "output_type": "display_data"
    },
    {
     "name": "stdout",
     "output_type": "stream",
     "text": [
      "────────────────────────────────────────────────────────────────────────────────────────────────────────────────────────\n",
      "     Validate metric           DataLoader 0\n",
      "────────────────────────────────────────────────────────────────────────────────────────────────────────────────────────\n",
      "        val_loss            0.7716361880302429\n",
      "────────────────────────────────────────────────────────────────────────────────────────────────────────────────────────\n"
     ]
    },
    {
     "name": "stderr",
     "output_type": "stream",
     "text": [
      "Restoring states from the checkpoint path at /disk/scratch_big/s2208943/example_pred_0/epoch=10-step=341.ckpt\n",
      "LOCAL_RANK: 0 - CUDA_VISIBLE_DEVICES: [0]\n",
      "Loaded model weights from checkpoint at /disk/scratch_big/s2208943/example_pred_0/epoch=10-step=341.ckpt\n"
     ]
    },
    {
     "data": {
      "application/vnd.jupyter.widget-view+json": {
       "model_id": "3061bdbc5d2e421ab5b9a8f58bd31000",
       "version_major": 2,
       "version_minor": 0
      },
      "text/plain": [
       "Validation: 0it [00:00, ?it/s]"
      ]
     },
     "metadata": {},
     "output_type": "display_data"
    },
    {
     "name": "stdout",
     "output_type": "stream",
     "text": [
      "────────────────────────────────────────────────────────────────────────────────────────────────────────────────────────\n",
      "     Validate metric           DataLoader 0\n",
      "────────────────────────────────────────────────────────────────────────────────────────────────────────────────────────\n",
      "        val_loss            0.7716361880302429\n",
      "────────────────────────────────────────────────────────────────────────────────────────────────────────────────────────\n"
     ]
    },
    {
     "name": "stderr",
     "output_type": "stream",
     "text": [
      "Restoring states from the checkpoint path at /disk/scratch_big/s2208943/example_pred_0/epoch=10-step=341.ckpt\n",
      "LOCAL_RANK: 0 - CUDA_VISIBLE_DEVICES: [0]\n",
      "Loaded model weights from checkpoint at /disk/scratch_big/s2208943/example_pred_0/epoch=10-step=341.ckpt\n"
     ]
    },
    {
     "data": {
      "application/vnd.jupyter.widget-view+json": {
       "model_id": "67c43b204bb04a7e8c15d03c14494599",
       "version_major": 2,
       "version_minor": 0
      },
      "text/plain": [
       "Validation: 0it [00:00, ?it/s]"
      ]
     },
     "metadata": {},
     "output_type": "display_data"
    },
    {
     "name": "stdout",
     "output_type": "stream",
     "text": [
      "────────────────────────────────────────────────────────────────────────────────────────────────────────────────────────\n",
      "     Validate metric           DataLoader 0\n",
      "────────────────────────────────────────────────────────────────────────────────────────────────────────────────────────\n",
      "        val_loss            0.7716361880302429\n",
      "────────────────────────────────────────────────────────────────────────────────────────────────────────────────────────\n"
     ]
    }
   ],
   "source": [
    "val_results = []\n",
    "eval_results = []\n",
    "for i in range(1):\n",
    "    image_channels = train_ds_2d[0][0][0].shape[0]\n",
    "    clin_features = 2\n",
    "    model_raw = PredictionModel(image_channels=image_channels, num_clin_features=clin_features, out_classes=4, channel_size_divide=8)#.cuda()\n",
    "    loss = xent_wrapper()\n",
    "    \n",
    "    ### training the model\n",
    "    # setup optimizer and model wrapper\n",
    "\n",
    "    weight_decay = 0.01#0.05\n",
    "    max_epochs = 100\n",
    "    lr=2e-4\n",
    "    early_stop_patience = 7\n",
    "\n",
    "    optimizer_params={\"lr\":lr, \"weight_decay\":weight_decay}\n",
    "    optimizer = torch.optim.Adam\n",
    "    lr_scheduler_params={\"milestones\":[1000], \"gamma\":0.5}\n",
    "    lr_scheduler_constructor = torch.optim.lr_scheduler.MultiStepLR\n",
    "\n",
    "    # wrap the model in the pytorch_lightning module that automates training\n",
    "    model = StandardLitModelWrapper(model_raw, loss, \n",
    "                                    logging_metric=lambda : None,\n",
    "                                    optimizer_params=optimizer_params,\n",
    "                                    lr_scheduler_params=lr_scheduler_params,\n",
    "                                    optimizer_constructor=optimizer,\n",
    "                                    lr_scheduler_constructor=lr_scheduler_constructor\n",
    "                                   )\n",
    "\n",
    "    # train the model\n",
    "    trainer = get_trainer(max_epochs, \"/disk/scratch_big/s2208943/example_pred_0/\", early_stop_patience=early_stop_patience)\n",
    "    \n",
    "    trainer.fit(model, train_dataloader, val_dataloader)\n",
    "    \n",
    "    model_results = []\n",
    "    for _ in range(3):\n",
    "        result = trainer.validate(model, val_dataloader, ckpt_path='best')\n",
    "#         model_results.append(result[0]['val_loss'])\n",
    "        \n",
    "#     val_results.append(torch.Tensor(model_results).mean())\n",
    "#     print(\"val score: \", val_results[-1])\n",
    "        \n",
    "#     eval_stat = run_eval(model, test_dataloader)\n",
    "#     print(\"eval stat: \", eval_stat)\n",
    "#     eval_results.append(eval_stat)"
   ]
  },
  {
   "cell_type": "code",
   "execution_count": 37,
   "id": "c66acc9a-3047-4122-a1e7-c42a7ff1f38d",
   "metadata": {},
   "outputs": [
    {
     "data": {
      "text/plain": [
       "40"
      ]
     },
     "execution_count": 37,
     "metadata": {},
     "output_type": "execute_result"
    }
   ],
   "source": [
    "image_channels"
   ]
  },
  {
   "cell_type": "code",
   "execution_count": 38,
   "id": "e1458c69-55dd-4988-b8ae-2e5573f860d5",
   "metadata": {},
   "outputs": [],
   "source": [
    "# check checkpoint changes, (this folder, target, split, run\n",
    "# switch to doing eval on train val and test.\n",
    "# plot a batch of the dataset, middle slice"
   ]
  },
  {
   "cell_type": "code",
   "execution_count": 39,
   "id": "b5a7100e-7609-437a-836a-e55fb5eea78e",
   "metadata": {},
   "outputs": [],
   "source": [
    "import torch\n",
    "import numpy as np\n",
    "import matplotlib.pyplot as plt\n",
    "import matplotlib.patheffects as PathEffects\n",
    "from sklearn.metrics import confusion_matrix\n",
    "from tqdm import tqdm\n",
    "\n",
    "def plot_confusion_matrix(dataloader, model):\n",
    "    model.eval()\n",
    "    all_preds = []\n",
    "    all_labels = []\n",
    "    \n",
    "    with torch.no_grad():\n",
    "        for (x, clin_data), labels in tqdm(dataloader, position=0, leave=True):\n",
    "            outputs = model.cuda()((x.cuda(), clin_data.cuda()))\n",
    "            probs = torch.softmax(outputs, dim=1)\n",
    "            preds = torch.argmax(probs, dim=1)\n",
    "            all_preds.extend(preds.cpu().numpy())\n",
    "            all_labels.extend(labels.cpu().numpy())\n",
    "    \n",
    "    cm = confusion_matrix(all_labels, all_preds, normalize='true')\n",
    "    num_classes = cm.shape[0]\n",
    "    class_names = [str(i) for i in range(num_classes)]\n",
    "    \n",
    "    fig, ax = plt.subplots()\n",
    "    im = ax.imshow(cm, cmap=plt.cm.Blues)\n",
    "    ax.set_xticks(np.arange(num_classes))\n",
    "    ax.set_yticks(np.arange(num_classes))\n",
    "    ax.set_xticklabels(class_names)\n",
    "    ax.set_yticklabels(class_names)\n",
    "    plt.setp(ax.get_xticklabels(), rotation=45, ha=\"right\",\n",
    "             rotation_mode=\"anchor\")\n",
    "    \n",
    "    \n",
    "    for i in range(num_classes):\n",
    "        for j in range(num_classes):\n",
    "            text = ax.text(j, i, np.round(cm[i, j], 3),\n",
    "                           ha=\"center\", va=\"center\", color=\"black\")\n",
    "            text.set_path_effects([PathEffects.withStroke(linewidth=2, foreground='w')])\n",
    "\n",
    "    \n",
    "    ax.set_title(\"Confusion Matrix\")\n",
    "    fig.tight_layout()\n",
    "    plt.show()\n",
    "\n",
    "    #return all_preds, all_labels"
   ]
  },
  {
   "cell_type": "code",
   "execution_count": 40,
   "id": "355285ce-8011-4b57-9f13-6fc96b4035aa",
   "metadata": {},
   "outputs": [
    {
     "name": "stderr",
     "output_type": "stream",
     "text": [
      "100%|█████████████████████████████████████████████████████████████████████████████████████████████████████████████████████████████████████████████████████████| 30/30 [00:49<00:00,  1.66s/it]\n"
     ]
    },
    {
     "data": {
      "image/png": "[encoded data removed]",
      "text/plain": [
       "<Figure size 640x480 with 1 Axes>"
      ]
     },
     "metadata": {},
     "output_type": "display_data"
    }
   ],
   "source": [
    "# rebalanced dataset (both )\n",
    "plot_confusion_matrix(val_dataloader, model)"
   ]
  },
  {
   "cell_type": "code",
   "execution_count": null,
   "id": "968cd7e9-05fa-4b87-9fb9-4defe88de269",
   "metadata": {},
   "outputs": [],
   "source": []
  }
 ],
 "metadata": {
  "kernelspec": {
   "display_name": "Python 3 (ipykernel)",
   "language": "python",
   "name": "python3"
  },
  "language_info": {
   "codemirror_mode": {
    "name": "ipython",
    "version": 3
   },
   "file_extension": ".py",
   "mimetype": "text/x-python",
   "name": "python",
   "nbconvert_exporter": "python",
   "pygments_lexer": "ipython3",
   "version": "3.10.8"
  }
 },
 "nbformat": 4,
 "nbformat_minor": 5
}
