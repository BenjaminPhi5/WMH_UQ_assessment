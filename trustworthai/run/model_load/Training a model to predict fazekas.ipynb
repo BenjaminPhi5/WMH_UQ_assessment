{
 "cells": [
  {
   "cell_type": "markdown",
   "id": "8a7216b1-f979-4921-b472-a2594968d7a5",
   "metadata": {},
   "source": [
    "### Prediction of Fazekas/clinical scores from uncertainty\n",
    "\n",
    "we will use the full uncertianty map, on a few selected slices, and attempt to train a model to predict fazekas or clinical scores, and see what they show."
   ]
  },
  {
   "cell_type": "code",
   "execution_count": 1,
   "id": "a5a707b8-9797-4de2-b8ac-7f8d279565da",
   "metadata": {},
   "outputs": [
    {
     "name": "stdout",
     "output_type": "stream",
     "text": [
      "strawberry\n",
      "banana\n"
     ]
    }
   ],
   "source": [
    "# trainer\n",
    "print(\"strawberry\")\n",
    "from trustworthai.utils.fitting_and_inference.fitters.basic_lightning_fitter import StandardLitModelWrapper\n",
    "from trustworthai.utils.fitting_and_inference.get_trainer import get_trainer\n",
    "\n",
    "# data\n",
    "from trustworthai.utils.data_preprep.dataset_pipelines import load_clinscores_data, load_data, ClinScoreDataRetriever\n",
    "from torch.utils.data import ConcatDataset, Dataset, DataLoader\n",
    "\n",
    "# packages\n",
    "import os\n",
    "import numpy as np\n",
    "import pandas as pd\n",
    "import matplotlib.pyplot as plt\n",
    "import torch\n",
    "from torchinfo import summary\n",
    "from tqdm import tqdm\n",
    "from collections import defaultdict\n",
    "from natsort import natsorted\n",
    "import torchmetrics\n",
    "print(\"banana\")"
   ]
  },
  {
   "cell_type": "code",
   "execution_count": 2,
   "id": "e516a065-4175-491a-a14e-d4db8f5bf455",
   "metadata": {},
   "outputs": [],
   "source": [
    "a = torch.randn(12, 3)"
   ]
  },
  {
   "cell_type": "code",
   "execution_count": 4,
   "id": "4177f5b2-1ce4-48cb-9fa2-92cf3b7fef0e",
   "metadata": {},
   "outputs": [
    {
     "name": "stdout",
     "output_type": "stream",
     "text": [
      "[[-1.2909899950027466, -0.29722467064857483, 0.2797778248786926], [-1.3678717613220215, 0.6004063487052917, 0.8180018663406372], [0.681077778339386, 0.8565403819084167, 0.7433484792709351], [0.4244858920574188, -1.2686867713928223, -1.2010217905044556], [0.4175659418106079, -0.7870716452598572, 0.4505966901779175], [-0.20952408015727997, 1.4196722507476807, -1.0284515619277954], [0.054718125611543655, 0.08008485287427902, 1.0245919227600098], [0.18501140177249908, -0.5533344745635986, 0.23479677736759186], [-1.3929345607757568, -0.783789873123169, 0.261030375957489], [0.4799298942089081, 1.4396705627441406, -0.07006285339593887], [-1.6289207935333252, -0.7018457055091858, 1.0820434093475342], [1.6048171520233154, 0.16421790421009064, -0.8603100180625916]]\n"
     ]
    }
   ],
   "source": [
    "print(a.tolist())"
   ]
  },
  {
   "cell_type": "code",
   "execution_count": null,
   "id": "d37d0534-0197-4b10-a085-93752e46e128",
   "metadata": {},
   "outputs": [],
   "source": []
  },
  {
   "cell_type": "code",
   "execution_count": 5,
   "id": "4eb27a16-a336-46fd-a193-9507d9e1fc9d",
   "metadata": {},
   "outputs": [],
   "source": [
    "### load the data\n",
    "clin_retriever = ClinScoreDataRetriever(use_updated_scores=True)\n",
    "split = 0\n",
    "train_ds_clin, val_ds_clin, test_ds_clin = clin_retriever.load_clinscores_data(\n",
    "        combine_all=False,\n",
    "        test_proportion=0.15, \n",
    "        validation_proportion=0.12,\n",
    "        seed=3407,\n",
    "        cross_validate=True,\n",
    "        cv_split=split,\n",
    "        cv_test_fold_smooth=1,\n",
    "\n",
    "    )"
   ]
  },
  {
   "cell_type": "code",
   "execution_count": 6,
   "id": "bf48d3aa-8952-4991-b16c-61def74468c6",
   "metadata": {},
   "outputs": [],
   "source": [
    "r = test_ds_clin[0][2].copy()"
   ]
  },
  {
   "cell_type": "code",
   "execution_count": 7,
   "id": "340afc16-e200-47c9-ac59-3ddfc239f4eb",
   "metadata": {},
   "outputs": [],
   "source": [
    "r['smoking_0'] = (r['smoking'] == 0).astype(np.float32)"
   ]
  },
  {
   "cell_type": "code",
   "execution_count": 8,
   "id": "4523af27-ca2e-4f51-9ad4-af5008448f7c",
   "metadata": {},
   "outputs": [
    {
     "data": {
      "text/plain": [
       "Unnamed: 0                 112\n",
       "ID                      CVD152\n",
       "sbjGroup                     1\n",
       "age                       81.0\n",
       "sex                          1\n",
       "diabetes                     0\n",
       "hypertension                 1\n",
       "hyperlipidaemia            1.0\n",
       "smoking                    1.0\n",
       "SBP                      170.0\n",
       "DBP                       84.0\n",
       "totalChl                   4.2\n",
       "MMSE                       NaN\n",
       "ICV                1388.830933\n",
       "WMH                  27.970046\n",
       "PVWMH                      2.0\n",
       "DWMH                       1.0\n",
       "deepAtrophy                6.0\n",
       "supAtrophy                 2.0\n",
       "BGPVS                      3.0\n",
       "CSPVS                      2.0\n",
       "relLes                       1\n",
       "oldLes                     0.0\n",
       "micrBld                    1.0\n",
       "smoking_0                  0.0\n",
       "Name: 112, dtype: object"
      ]
     },
     "execution_count": 8,
     "metadata": {},
     "output_type": "execute_result"
    }
   ],
   "source": [
    "r"
   ]
  },
  {
   "cell_type": "code",
   "execution_count": 9,
   "id": "54868b0b-2dad-4600-97a4-cf6ada19cf7a",
   "metadata": {},
   "outputs": [],
   "source": [
    "class CustomClinFieldsDataset(torch.utils.data.Dataset):\n",
    "    # this is just a wrapper on the clinical dataset where I am hard coding a few things, such as one hot encodings, and all the other stuff that\n",
    "    # I might want to compute like tab fazekas and total fazekas etc\n",
    "    def __init__(self, base_dataset):\n",
    "        super().__init__()\n",
    "        self.base_dataset = base_dataset\n",
    "        \n",
    "    def __getitem__(self, idx):\n",
    "        x, y, clin_data = self.base_dataset[idx]\n",
    "        r = clin_data.copy()\n",
    "        \n",
    "        # smoking\n",
    "        r['smoking_0'] = (r['smoking'] == 0).astype(np.float32)\n",
    "        r['smoking_1'] = (r['smoking'] == 1).astype(np.float32)\n",
    "        r['smoking_2'] = (r['smoking'] == 2).astype(np.float32)\n",
    "        \n",
    "        # total fazekas and scale fazekas\n",
    "        dwmh = r['DWMH']\n",
    "        pvwmh = r['PVWMH']\n",
    "        total_fazekas = np.nan\n",
    "        if (not np.isnan(dwmh)) and (not np.isnan(pvwmh)):\n",
    "            total_fazekas = dwmh + pvwmh\n",
    "        r['total_fazekas'] = total_fazekas\n",
    "        r['scale_fazekas'] = ((pvwmh == 3) | (dwmh > 1)).astype(np.float32)\n",
    "        \n",
    "        # scale PVS\n",
    "        bgpvs = r['BGPVS']\n",
    "        scale_pvs = np.nan\n",
    "        if not np.isnan(bgpvs):\n",
    "            scale_pvs = (bgpvs >= 2).astype(np.float32)\n",
    "        r['scale_pvs'] = scale_pvs\n",
    "        \n",
    "        # scale micrBld\n",
    "        micrbld = r['micrBld']\n",
    "        scale_micrbld = np.nan\n",
    "        if not np.isnan(scale_micrbld):\n",
    "            scale_micrbld = (micrbld > 0).astype(np.float32)\n",
    "        r['scale_micrbld'] = scale_micrbld\n",
    "        \n",
    "        # stroke_les and scale stroke\n",
    "        oldLes = r['oldLes']\n",
    "        relLes = r['relLes']\n",
    "        stroke_les = np.nan\n",
    "        scale_stroke = np.nan\n",
    "        if not np.isnan(oldLes):\n",
    "            if type(relLes) == str:\n",
    "                if relLes != ' ':\n",
    "                    relLes = float(relLes)\n",
    "                else:\n",
    "                    relLes = 0.0\n",
    "            if type(oldLes) == str:\n",
    "                if oldLes != ' ':\n",
    "                    oldLes = float(oldLes)\n",
    "                else:\n",
    "                    oldLes = 0.0\n",
    "            try:\n",
    "                if np.isnan(relLes):\n",
    "                    relLes = 0.0\n",
    "            except:\n",
    "                print(\"failed on : \", relLes, type(relLes))\n",
    "            \n",
    "            try:\n",
    "                stroke_les = ((oldLes ==1)| (relLes==1)).astype(np.float32)\n",
    "            except:\n",
    "                print(f\"failed: old:{oldLes}, rel:{relLes}\")\n",
    "            scale_stroke = (oldLes * relLes).astype(np.float32)\n",
    "        r['stroke_les'] = stroke_les\n",
    "        r['scale_stroke'] = scale_stroke\n",
    "            \n",
    "        return x, y, r\n",
    "    \n",
    "    def __len__(self):\n",
    "        return len(self.base_dataset)"
   ]
  },
  {
   "cell_type": "code",
   "execution_count": 10,
   "id": "69328df4-26cb-4d38-99cb-db40ecc69e41",
   "metadata": {},
   "outputs": [],
   "source": [
    "### load the extra information (e.g uncertainty maps, var maps, preds etc)\n",
    "umap_model_name = \"SSN_Ens\"\n",
    "output_maps_dir = f\"/home/s2208943/ipdis/data/preprocessed_data/EdData_output_maps/{umap_model_name}/\"\n",
    "\n",
    "output_maps_files = os.listdir(output_maps_dir)"
   ]
  },
  {
   "cell_type": "code",
   "execution_count": 11,
   "id": "179c7df3-433f-43a6-aecf-d8e1298c23d5",
   "metadata": {},
   "outputs": [],
   "source": [
    "ds = train_ds_clin\n",
    "\n",
    "def get_output_maps_for_ds(ds):\n",
    "    output_maps_lists = defaultdict(lambda : [])\n",
    "    for data in tqdm(ds, position=0, leave=True):\n",
    "        ID = data[2]['ID']\n",
    "        output_maps_data = np.load(f\"{output_maps_dir}{ID}_out_maps.npz\")\n",
    "        for output_type in output_maps_data.keys():\n",
    "            output_maps_lists[output_type].append(torch.from_numpy(output_maps_data[output_type]))\n",
    "            \n",
    "    return output_maps_lists"
   ]
  },
  {
   "cell_type": "code",
   "execution_count": 12,
   "id": "b9e9df8a-19df-4ad6-9785-5b6658b01266",
   "metadata": {},
   "outputs": [],
   "source": [
    "#output_maps_test = get_output_maps_for_ds(test_ds_clin)"
   ]
  },
  {
   "cell_type": "code",
   "execution_count": 13,
   "id": "68a53c28-50e4-4718-a752-863fec367519",
   "metadata": {},
   "outputs": [],
   "source": [
    "### dataset to load in the uncertainty maps and prediction data and add it into the existing dataset.\n",
    "\n",
    "class AddChannelsDataset(torch.utils.data.Dataset):\n",
    "    def __init__(self, base_dataset, extra_x_channels_lists):\n",
    "        self.base_dataset = base_dataset\n",
    "        self.extra_x_channels_lists = extra_x_channels_lists\n",
    "        \n",
    "    def __getitem__(self, idx):\n",
    "        data = self.base_dataset[idx]\n",
    "        x = data[0]\n",
    "        x = torch.cat([x, *[self.extra_x_channels_lists[key][idx].unsqueeze(0) for key in natsorted(self.extra_x_channels_lists.keys())]], dim=0)\n",
    "        \n",
    "        return (x, *data[1:])\n",
    "        \n",
    "    def __len__(self):\n",
    "        return len(self.base_dataset)"
   ]
  },
  {
   "cell_type": "code",
   "execution_count": 14,
   "id": "2b2ef5d6-f775-4f09-a7a1-d2d7a478ff13",
   "metadata": {},
   "outputs": [],
   "source": [
    "#added_channels_testds = AddChannelsDataset(test_ds_clin, output_maps_test)"
   ]
  },
  {
   "cell_type": "code",
   "execution_count": 15,
   "id": "d45f59f6-7c48-48b5-995e-ea655407fdf1",
   "metadata": {},
   "outputs": [],
   "source": [
    "#test_ds_clin[0][0].shape, added_channels_testds[0][0].shape"
   ]
  },
  {
   "cell_type": "code",
   "execution_count": 16,
   "id": "e6918fa0-595e-4c25-a42c-fcd51b38b014",
   "metadata": {},
   "outputs": [],
   "source": [
    "### code to select slices - will need to do that randomly, and implement an augmentation procedure (I should add noise maybe)\n",
    "\n",
    "# a bunch of stuff that I generated with chat-gpt\n",
    "\n",
    "def find_largest_slice(tensor):\n",
    "    \"\"\"\n",
    "    Find the slice of a PyTorch tensor with the largest sum.\n",
    "    \n",
    "    Args:\n",
    "        tensor: A PyTorch tensor of shape (S, H, W).\n",
    "        \n",
    "    Returns:\n",
    "        A tuple (slice_H, slice_W) representing the slice with the largest sum.\n",
    "    \"\"\"\n",
    "    # Compute the sum along the H and W dimensions\n",
    "    sum_H = torch.sum(tensor, dim=2)\n",
    "    sum_W = torch.sum(tensor, dim=1)\n",
    "    \n",
    "    # Find the indices with the largest sum\n",
    "    idx_H = torch.argmax(sum_H)\n",
    "    idx_W = torch.argmax(sum_W)\n",
    "    \n",
    "    # Return the corresponding slices\n",
    "    return idx_H, idx_W\n",
    "\n",
    "def compute_std_of_sum(tensor):\n",
    "    \"\"\"\n",
    "    Compute the standard deviation of the sum along H and W dimensions for the given image.\n",
    "    \n",
    "    Args:\n",
    "        tensor: A PyTorch tensor of shape (S, H, W).\n",
    "        \n",
    "    Returns:\n",
    "        A float of standard deviation of the sum along H and W dimensions for the given image.\n",
    "    \"\"\"\n",
    "    # Compute the sum along the H and W dimensions\n",
    "    sum_HW = torch.sum(tensor, dim=(1, 2))\n",
    "    \n",
    "    # Compute the standard deviation of the sum along the H and W dimensions\n",
    "    #print(tensor.shape, sum_HW.shape)\n",
    "    std_HW = torch.std(sum_HW, dim=0)\n",
    "    \n",
    "    return std_HW.item()\n",
    "\n",
    "def find_slices_within_std(tensor, t=1.0):\n",
    "    \"\"\"\n",
    "    Find the slices whose sum are within t standard deviations away from the max slice sum for the given image.\n",
    "    \n",
    "    Args:\n",
    "        tensor: A PyTorch tensor of shape (S, H, W).\n",
    "        t: A float representing the number of standard deviations away from the max slice sum to include.\n",
    "        \n",
    "    Returns:\n",
    "        A list containing the indices of the slices whose sum is within t standard deviations away from the max slice sum in the given image.\n",
    "    \"\"\"\n",
    "    # Compute the sum along the H and W dimensions\n",
    "    sum_HW = torch.sum(tensor, dim=(1, 2))\n",
    "    \n",
    "    # Compute the standard deviation of the sum for each image\n",
    "    std_sum = compute_std_of_sum(tensor)\n",
    "    \n",
    "    # Compute the max slice sum for the image\n",
    "    max_sum = torch.max(sum_HW, dim=0)[0]\n",
    "    \n",
    "    # Compute the threshold for including a slice\n",
    "    threshold = max_sum - t * std_sum\n",
    "    \n",
    "    # Find the slices whose sum is within the threshold for each image\n",
    "    indices_within_std = torch.where(sum_HW >= threshold)[0].tolist()\n",
    "    \n",
    "    if len(indices_within_std) < 3: # edge cases where too few slices are selected.\n",
    "        indices_within_std += [indices_within_std[-1] + 1, indices_within_std[0] - 1]\n",
    "    \n",
    "    return indices_within_std\n"
   ]
  },
  {
   "cell_type": "code",
   "execution_count": 17,
   "id": "3d623d45-d101-4c72-9f38-75b99eabfc0f",
   "metadata": {},
   "outputs": [],
   "source": [
    "# generated using chat-gpt.\n",
    "import torch\n",
    "import random\n",
    "from torch.utils.data import Dataset\n",
    "\n",
    "class SlicesDataset(Dataset):\n",
    "    \"\"\"\n",
    "    A PyTorch Dataset that selects v slices from 3D images within the range of standard deviations of the max slice sum.\n",
    "    \"\"\"\n",
    "    \n",
    "    def __init__(self, base_dataset, slices_within_std, v, transform=None):\n",
    "        \"\"\"\n",
    "        Initialize the SlicesDataset.\n",
    "        \n",
    "        Args:\n",
    "            base_dataset: A PyTorch Dataset that returns 3D images of shape (C, S, H, W).\n",
    "            slices_within_std: A list of N lists, where the i-th list contains the indices of the slices whose sum is within t standard deviations away from the max slice sum for the i-th image in the batch.\n",
    "            v: An integer representing the number of slices to select from each image.\n",
    "            transform: A function to be applied to both x and y when returning a value from __getitem__. Default is None.\n",
    "        \"\"\"\n",
    "        self.base_dataset = base_dataset\n",
    "        self.slices_within_std = slices_within_std\n",
    "        self.v = v\n",
    "        self.transform = transform\n",
    "    \n",
    "    def __getitem__(self, index):\n",
    "        \"\"\"\n",
    "        Select v random slices from the 3D image within the range of standard deviations, and return a tensor of shape (C * v, H, W).\n",
    "        \n",
    "        Args:\n",
    "            index: An integer representing the index of the image to retrieve.\n",
    "            \n",
    "        Returns:\n",
    "            A tuple containing a PyTorch tensor of shape (C * v, H, W) and its corresponding label.\n",
    "        \"\"\"\n",
    "        # Get the original 3D image and its corresponding label\n",
    "        x_3d, y_3d, clin_data = self.base_dataset[index]\n",
    "        \n",
    "        # Get the indices of the slices within the range of standard deviations\n",
    "        indices_within_std = self.slices_within_std[index]\n",
    "        \n",
    "        # Randomly select v slices from the indices within the range of standard deviations\n",
    "        selected_indices = random.sample(indices_within_std, self.v)\n",
    "        \n",
    "        # Select the slices from the 3D image\n",
    "        x_slices = x_3d[:, selected_indices]\n",
    "        y_slices = y_3d[:, selected_indices]\n",
    "        \n",
    "        # Reshape the slices into C*v 2D tensors\n",
    "        x_2d = torch.reshape(x_slices, (-1, x_slices.shape[-2], x_slices.shape[-1]))\n",
    "        y_2d = torch.reshape(y_slices, (-1, y_slices.shape[-2], y_slices.shape[-1]))\n",
    "        \n",
    "        # Apply the transform function to both x and y\n",
    "        if self.transform:\n",
    "            x_2d, y_2d = self.transform(x_2d, y_2d)\n",
    "        \n",
    "        return x_2d, y_2d, clin_data\n",
    "    \n",
    "    def __len__(self):\n",
    "        \"\"\"\n",
    "        Return the number of images in the dataset.\n",
    "        \n",
    "        Returns:\n",
    "            An integer representing the number of images in the dataset.\n",
    "        \"\"\"\n",
    "        return len(self.base_dataset)"
   ]
  },
  {
   "cell_type": "code",
   "execution_count": 18,
   "id": "fd10dc18-5371-4c4e-8604-11bbdddea0f4",
   "metadata": {
    "tags": []
   },
   "outputs": [],
   "source": [
    "ds = train_ds_clin\n",
    "\n",
    "\n",
    "def get_slices_within_std_for_ds(ds, t=2.5):\n",
    "    # get slices with wmh sum within 3 std of the maximum\n",
    "    # I could also replace with for slices within 3 std of the max uncertainty?\n",
    "    slices_within_std = []\n",
    "    for data in tqdm(ds, position=0, leave=True):\n",
    "        y = data[1].squeeze()\n",
    "        slices_within_std.append(find_slices_within_std(y, t=t))\n",
    "        \n",
    "    return slices_within_std"
   ]
  },
  {
   "cell_type": "code",
   "execution_count": 19,
   "id": "cd4345af-22a9-4d02-bbb3-82b76e829230",
   "metadata": {
    "tags": []
   },
   "outputs": [],
   "source": [
    "#slices_within_std_for_ds = get_slices_within_std_for_ds(ds)"
   ]
  },
  {
   "cell_type": "code",
   "execution_count": 20,
   "id": "fc1182a8-2a07-4076-9b4d-7008c9125913",
   "metadata": {
    "tags": []
   },
   "outputs": [],
   "source": [
    "#(torch.Tensor([len(s) for s in slices_within_std_for_ds]))"
   ]
  },
  {
   "cell_type": "code",
   "execution_count": 21,
   "id": "cdaafd49-64bf-42b0-aa6f-ec6fbcbdcf74",
   "metadata": {
    "tags": []
   },
   "outputs": [],
   "source": [
    "### defining the augmentation procedure\n",
    "from trustworthai.utils.augmentation.standard_transforms import (\n",
    "    RandomFlip, GaussianBlur, GaussianNoise,\n",
    "    RandomResizeCrop, RandomAffine,\n",
    "    NormalizeImg, PairedCompose, LabelSelect,\n",
    "    PairedCentreCrop, CropZDim,\n",
    ")\n",
    "import torch\n",
    "\n",
    "\n",
    "def get_transforms():\n",
    "    transforms = [\n",
    "        LabelSelect(label_id=1),\n",
    "        RandomFlip(p=0.5, orientation=\"horizontal\"),\n",
    "        # GaussianBlur(p=0.5, kernel_size=7, sigma=(.1, 1.5)),\n",
    "        # GaussianNoise(p=0.2, mean=0, sigma=0.2),\n",
    "        RandomAffine(p=0.2, shear=(-18,18)),\n",
    "        RandomAffine(p=0.2, degrees=15),\n",
    "        RandomAffine(p=0.2, translate=(-0.1,0.1)),\n",
    "        RandomAffine(p=0.2, scale=(0.9, 1.1)),\n",
    "#         #RandomResizeCrop(p=1., scale=(0.6, 1.), ratio=(3./4., 4./3.))\n",
    "\n",
    "#         #RandomResizeCrop(p=1., scale=(0.3, 0.5), ratio=(3./4., 4./3.)) # ssn\n",
    "    ]\n",
    "    transforms.append(lambda x, y: (x, y.squeeze().type(torch.long)))\n",
    "    return PairedCompose(transforms)"
   ]
  },
  {
   "cell_type": "code",
   "execution_count": 22,
   "id": "1ed2b8e5-9ecb-4f2d-b971-e3f2c08a6036",
   "metadata": {
    "tags": []
   },
   "outputs": [],
   "source": [
    "### combine the clinical scores data into the x information.\n",
    "# generated with chatgpt\n",
    "class ClinicalDataset(torch.utils.data.Dataset):\n",
    "    def __init__(self, base_dataset, fields, target_field):\n",
    "        self.base_dataset = base_dataset\n",
    "        self.fields = fields\n",
    "        self.target_field = target_field\n",
    "\n",
    "    def __len__(self):\n",
    "        return len(self.base_dataset)\n",
    "\n",
    "    def __getitem__(self, index):\n",
    "        x, y, clin_data = self.base_dataset[index]\n",
    "        clin_data_fields = clin_data[self.fields].values\n",
    "        clin_data_tensor = torch.from_numpy(clin_data_fields.astype(np.float32))\n",
    "        target_field = clin_data[self.target_field]\n",
    "        return (x, clin_data_tensor), target_field"
   ]
  },
  {
   "cell_type": "code",
   "execution_count": 23,
   "id": "b6f6a949-0d1b-4d3c-962f-2ad87e3769f7",
   "metadata": {},
   "outputs": [],
   "source": [
    "# torch dataset that filters out nans\n",
    "class NonNanDataset(Dataset):\n",
    "    def __init__(self, original_dataset):\n",
    "        self.original_dataset = original_dataset\n",
    "        self.indices = []\n",
    "\n",
    "        for i in range(len(self.original_dataset)):\n",
    "            (x, clin_data), y = self.original_dataset[i]\n",
    "            if not (np.isnan(y) or torch.any(torch.isnan(clin_data))):\n",
    "                self.indices.append(i)\n",
    "\n",
    "    def __getitem__(self, index):\n",
    "        original_index = self.indices[index]\n",
    "        return self.original_dataset[original_index]\n",
    "\n",
    "    def __len__(self):\n",
    "        return len(self.indices)\n"
   ]
  },
  {
   "cell_type": "code",
   "execution_count": 99,
   "id": "561fa5e3-d938-4edb-840d-27666640b16f",
   "metadata": {},
   "outputs": [],
   "source": [
    "class RepeatDataset(Dataset):\n",
    "    def __init__(self, original_dataset, repeats):\n",
    "        self.original_dataset = original_dataset\n",
    "        self.repeats=repeats\n",
    "        \n",
    "    def __getitem__(self, idx):\n",
    "        return self.original_dataset[idx % len(self.original_dataset)]\n",
    "    \n",
    "    def __len__(self):\n",
    "        return len(self.original_dataset) * self.repeats"
   ]
  },
  {
   "cell_type": "code",
   "execution_count": 24,
   "id": "05a1a7f9-6410-4927-9b8e-308f800edcaa",
   "metadata": {},
   "outputs": [
    {
     "data": {
      "text/plain": [
       "True"
      ]
     },
     "execution_count": 24,
     "metadata": {},
     "output_type": "execute_result"
    }
   ],
   "source": [
    "np.isnan(np.nan)"
   ]
  },
  {
   "cell_type": "code",
   "execution_count": 54,
   "id": "9448382c-3071-4566-8103-73098284e60f",
   "metadata": {
    "tags": []
   },
   "outputs": [],
   "source": [
    "### building the combined datasets with \n",
    "# augmentation transforms, added in umaps and predictions as channels\n",
    "# and code to select 3 slices from the image.\n",
    "\n",
    "def build_clinscores_prediction_dataset(ds, t=2.5, v=3, clin_fields=['age'], target_field='DWMH', apply_augmentation=False):\n",
    "    \n",
    "    # sort out the extra fields I need (e.g smoking one hot encoded)\n",
    "    ds = CustomClinFieldsDataset(ds)\n",
    "    \n",
    "    # load in the extra data (e.g umaps) to build a combined dataset\n",
    "    print(\"loading umaps and wmh preds images\")\n",
    "    output_maps_test = get_output_maps_for_ds(ds)\n",
    "    added_channels_ds = AddChannelsDataset(ds, output_maps_test)\n",
    "    \n",
    "    # compute which slices have wmh burdern with 3 std of the max\n",
    "    slices_within_std_for_ds = get_slices_within_std_for_ds(ds, t=t)\n",
    "    \n",
    "    # get dataset that randomly samples three slices for each input from within the range of slices within one std\n",
    "    new_ds = SlicesDataset(added_channels_ds, slices_within_std_for_ds, v=v, transform=get_transforms() if apply_augmentation else None)\n",
    "    \n",
    "    # combine the clin scores data into the x\n",
    "    new_ds = ClinicalDataset(new_ds, clin_fields, target_field)\n",
    "    \n",
    "    new_ds = NonNanDataset(new_ds)\n",
    "    \n",
    "    return new_ds"
   ]
  },
  {
   "cell_type": "code",
   "execution_count": 418,
   "id": "20d1d258-c187-47e8-915f-0f3932dbe4d2",
   "metadata": {},
   "outputs": [
    {
     "name": "stdout",
     "output_type": "stream",
     "text": [
      "loading umaps and wmh preds images\n"
     ]
    },
    {
     "name": "stderr",
     "output_type": "stream",
     "text": [
      "100%|█████████████████████████████████████████████████████████████████████████████████████████████████████████████████████████████████████████████████████████| 42/42 [00:06<00:00,  6.19it/s]\n",
      "100%|████████████████████████████████████████████████████████████████████████████████████████████████████████████████████████████████████████████████████████| 42/42 [00:00<00:00, 158.51it/s]\n"
     ]
    }
   ],
   "source": [
    "t = 2.5\n",
    "v = 3\n",
    "# clin_fields = ['age', 'sex', 'diabetes']\n",
    "# clin_fields = ['age', 'sex', 'diabetes', 'hypertension', 'hyperlipidaemia', 'smoking_0', 'smoking_1', 'smoking_2', 'ICV']\n",
    "clin_fields = ['age', 'sex', 'diabetes', 'hypertension', 'hyperlipidaemia', 'smoking_0', 'smoking_1', 'smoking_2']\n",
    "target_field = \"DWMH\"\n",
    "new_test_ds = build_clinscores_prediction_dataset(test_ds_clin, t=t, v=v, clin_fields=clin_fields, target_field=target_field,  apply_augmentation=True)"
   ]
  },
  {
   "cell_type": "code",
   "execution_count": 362,
   "id": "8c31f4cc-aec9-416a-be3f-a49d294e8b36",
   "metadata": {},
   "outputs": [
    {
     "name": "stdout",
     "output_type": "stream",
     "text": [
      "loading umaps and wmh preds images\n"
     ]
    },
    {
     "name": "stderr",
     "output_type": "stream",
     "text": [
      "100%|█████████████████████████████████████████████████████████████████████████████████████████████████████████████████████████████████████████████████████████| 29/29 [00:04<00:00,  6.70it/s]\n",
      "100%|████████████████████████████████████████████████████████████████████████████████████████████████████████████████████████████████████████████████████████| 29/29 [00:00<00:00, 154.52it/s]\n"
     ]
    }
   ],
   "source": [
    "new_val_ds = build_clinscores_prediction_dataset(val_ds_clin, t=t, v=v, clin_fields=clin_fields)\n",
    "new_val_ds = RepeatDataset(new_val_ds, repeats=15)"
   ]
  },
  {
   "cell_type": "code",
   "execution_count": 58,
   "id": "7d109d95-e477-458c-9be1-e2a56f312809",
   "metadata": {},
   "outputs": [
    {
     "name": "stdout",
     "output_type": "stream",
     "text": [
      "loading umaps and wmh preds images\n"
     ]
    },
    {
     "name": "stderr",
     "output_type": "stream",
     "text": [
      "100%|███████████████████████████████████████████████████████████████████████████████████████████████████████████████████████████████████████████████████████| 179/179 [01:27<00:00,  2.06it/s]\n",
      "100%|██████████████████████████████████████████████████████████████████████████████████████████████████████████████████████████████████████████████████████| 179/179 [00:01<00:00, 172.41it/s]\n"
     ]
    }
   ],
   "source": [
    "new_train_ds = build_clinscores_prediction_dataset(train_ds_clin, t=t, v=v, clin_fields=clin_fields, apply_augmentation=True)"
   ]
  },
  {
   "cell_type": "code",
   "execution_count": 419,
   "id": "15a9f65e-27a3-46c4-a795-97b76dd2bfcf",
   "metadata": {},
   "outputs": [],
   "source": [
    "### defining the dataloader\n",
    "\n",
    "batch_size = 12\n",
    "train_dataloader = DataLoader(new_train_ds, batch_size=batch_size, shuffle=True, num_workers=4)\n",
    "val_dataloader = DataLoader(new_val_ds, batch_size=batch_size, shuffle=False, num_workers=4)\n",
    "test_dataloader = DataLoader(new_test_ds, batch_size=batch_size, shuffle=False, num_workers=4)"
   ]
  },
  {
   "cell_type": "code",
   "execution_count": 180,
   "id": "811486e1-fc82-4c20-b832-d847ddf363d0",
   "metadata": {},
   "outputs": [],
   "source": [
    "(x, clin_data), y = new_test_ds[0]#next(iter(test_dataloader))"
   ]
  },
  {
   "cell_type": "code",
   "execution_count": 181,
   "id": "ae86c0c2-ef92-480b-812c-ad8e8bce764a",
   "metadata": {},
   "outputs": [
    {
     "data": {
      "text/plain": [
       "(torch.Size([21, 224, 160]), ())"
      ]
     },
     "execution_count": 181,
     "metadata": {},
     "output_type": "execute_result"
    }
   ],
   "source": [
    "x.shape, y.shape"
   ]
  },
  {
   "cell_type": "code",
   "execution_count": 182,
   "id": "04ef73d6-5200-48d6-b3ec-3ca2897eb50d",
   "metadata": {},
   "outputs": [
    {
     "data": {
      "text/plain": [
       "1.0"
      ]
     },
     "execution_count": 182,
     "metadata": {},
     "output_type": "execute_result"
    }
   ],
   "source": [
    "y"
   ]
  },
  {
   "cell_type": "code",
   "execution_count": 183,
   "id": "9ecf4d42-a0ae-492f-aae2-c8175e433d62",
   "metadata": {},
   "outputs": [],
   "source": [
    "#clin_data"
   ]
  },
  {
   "cell_type": "raw",
   "id": "9fedf586-30c4-4102-9af3-8877831ae247",
   "metadata": {},
   "source": [
    "flair: 0-2\n",
    "mask: 3-5\n",
    "t1: 6-8\n",
    "var: 9-11\n",
    "ent: 12-14\n",
    "pred: 15-17\n",
    "seg: 18-20"
   ]
  },
  {
   "cell_type": "code",
   "execution_count": 184,
   "id": "78e94f2e-f234-4f0a-a2ee-9b398121737c",
   "metadata": {},
   "outputs": [
    {
     "data": {
      "text/plain": [
       "<matplotlib.image.AxesImage at 0x7f1f651869b0>"
      ]
     },
     "execution_count": 184,
     "metadata": {},
     "output_type": "execute_result"
    },
    {
     "data": {
      "image/png": "[encoded data removed]",
      "text/plain": [
       "<Figure size 640x480 with 1 Axes>"
      ]
     },
     "metadata": {},
     "output_type": "display_data"
    }
   ],
   "source": [
    "# this image can vary because of the slice sampling!\n",
    "plt.imshow(x[9])"
   ]
  },
  {
   "cell_type": "code",
   "execution_count": 108,
   "id": "ad0222a6-739f-4a88-b34b-a886014934e5",
   "metadata": {},
   "outputs": [],
   "source": [
    "### defining the model"
   ]
  },
  {
   "cell_type": "code",
   "execution_count": 109,
   "id": "1f804ffe-f381-4080-baf2-ca156c274ea1",
   "metadata": {
    "tags": []
   },
   "outputs": [],
   "source": [
    "from functools import partial\n",
    "from typing import Any, Callable, List, Optional, Type, Union\n",
    "\n",
    "import torch\n",
    "import torch.nn as nn\n",
    "from torch import Tensor\n",
    "\n",
    "\n",
    "def conv3x3(in_planes: int, out_planes: int, stride: int = 1, groups: int = 1, dilation: int = 1) -> nn.Conv2d:\n",
    "    \"\"\"3x3 convolution with padding\"\"\"\n",
    "    return nn.Conv2d(\n",
    "        in_planes,\n",
    "        out_planes,\n",
    "        kernel_size=3,\n",
    "        stride=stride,\n",
    "        padding=dilation,\n",
    "        groups=groups,\n",
    "        bias=False,\n",
    "        dilation=dilation,\n",
    "    )\n",
    "\n",
    "\n",
    "def conv1x1(in_planes: int, out_planes: int, stride: int = 1) -> nn.Conv2d:\n",
    "    \"\"\"1x1 convolution\"\"\"\n",
    "    return nn.Conv2d(in_planes, out_planes, kernel_size=1, stride=stride, bias=False)\n",
    "\n",
    "\n",
    "class BasicBlock(nn.Module):\n",
    "    expansion: int = 1\n",
    "\n",
    "    def __init__(\n",
    "        self,\n",
    "        inplanes: int,\n",
    "        planes: int,\n",
    "        stride: int = 1,\n",
    "        downsample: Optional[nn.Module] = None,\n",
    "        groups: int = 1,\n",
    "        base_width: int = 64,\n",
    "        dilation: int = 1,\n",
    "        norm_layer: Optional[Callable[..., nn.Module]] = None,\n",
    "    ) -> None:\n",
    "        super().__init__()\n",
    "        if norm_layer is None:\n",
    "            norm_layer = nn.BatchNorm2d\n",
    "        if groups != 1 or base_width != 64:\n",
    "            raise ValueError(\"BasicBlock only supports groups=1 and base_width=64\")\n",
    "        if dilation > 1:\n",
    "            raise NotImplementedError(\"Dilation > 1 not supported in BasicBlock\")\n",
    "        # Both self.conv1 and self.downsample layers downsample the input when stride != 1\n",
    "        self.conv1 = conv3x3(inplanes, planes, stride)\n",
    "        self.bn1 = norm_layer(planes)\n",
    "        self.relu = nn.ReLU(inplace=True)\n",
    "        self.conv2 = conv3x3(planes, planes)\n",
    "        self.bn2 = norm_layer(planes)\n",
    "        self.downsample = downsample\n",
    "        self.stride = stride\n",
    "\n",
    "    def forward(self, x: Tensor) -> Tensor:\n",
    "        identity = x\n",
    "\n",
    "        out = self.conv1(x)\n",
    "        out = self.bn1(out)\n",
    "        out = self.relu(out)\n",
    "\n",
    "        out = self.conv2(out)\n",
    "        out = self.bn2(out)\n",
    "\n",
    "        if self.downsample is not None:\n",
    "            identity = self.downsample(x)\n",
    "\n",
    "        out += identity\n",
    "        out = self.relu(out)\n",
    "\n",
    "        return out\n",
    "\n",
    "\n",
    "class Bottleneck(nn.Module):\n",
    "    # Bottleneck in torchvision places the stride for downsampling at 3x3 convolution(self.conv2)\n",
    "    # while original implementation places the stride at the first 1x1 convolution(self.conv1)\n",
    "    # according to \"Deep residual learning for image recognition\" https://arxiv.org/abs/1512.03385.\n",
    "    # This variant is also known as ResNet V1.5 and improves accuracy according to\n",
    "    # https://ngc.nvidia.com/catalog/model-scripts/nvidia:resnet_50_v1_5_for_pytorch.\n",
    "\n",
    "    expansion: int = 4\n",
    "\n",
    "    def __init__(\n",
    "        self,\n",
    "        inplanes: int,\n",
    "        planes: int,\n",
    "        stride: int = 1,\n",
    "        downsample: Optional[nn.Module] = None,\n",
    "        groups: int = 1,\n",
    "        base_width: int = 64,\n",
    "        dilation: int = 1,\n",
    "        norm_layer: Optional[Callable[..., nn.Module]] = None,\n",
    "    ) -> None:\n",
    "        super().__init__()\n",
    "        if norm_layer is None:\n",
    "            norm_layer = nn.BatchNorm2d\n",
    "        width = int(planes * (base_width / 64.0)) * groups\n",
    "        # Both self.conv2 and self.downsample layers downsample the input when stride != 1\n",
    "        self.conv1 = conv1x1(inplanes, width)\n",
    "        self.bn1 = norm_layer(width)\n",
    "        self.conv2 = conv3x3(width, width, stride, groups, dilation)\n",
    "        self.bn2 = norm_layer(width)\n",
    "        self.conv3 = conv1x1(width, planes * self.expansion)\n",
    "        self.bn3 = norm_layer(planes * self.expansion)\n",
    "        self.relu = nn.ReLU(inplace=True)\n",
    "        self.downsample = downsample\n",
    "        self.stride = stride\n",
    "\n",
    "    def forward(self, x: Tensor) -> Tensor:\n",
    "        identity = x\n",
    "\n",
    "        out = self.conv1(x)\n",
    "        out = self.bn1(out)\n",
    "        out = self.relu(out)\n",
    "\n",
    "        out = self.conv2(out)\n",
    "        out = self.bn2(out)\n",
    "        out = self.relu(out)\n",
    "\n",
    "        out = self.conv3(out)\n",
    "        out = self.bn3(out)\n",
    "\n",
    "        if self.downsample is not None:\n",
    "            identity = self.downsample(x)\n",
    "\n",
    "        out += identity\n",
    "        out = self.relu(out)\n",
    "\n",
    "        return out\n",
    "\n",
    "\n",
    "class ResNet(nn.Module):\n",
    "    def __init__(\n",
    "        self,\n",
    "        block: Type[Union[BasicBlock, Bottleneck]],\n",
    "        layers: List[int],\n",
    "        num_classes: int = 1000,\n",
    "        zero_init_residual: bool = False,\n",
    "        groups: int = 1,\n",
    "        width_per_group: int = 64,\n",
    "        replace_stride_with_dilation: Optional[List[bool]] = None,\n",
    "        norm_layer: Optional[Callable[..., nn.Module]] = None,\n",
    "    ) -> None:\n",
    "        super().__init__()\n",
    "        if norm_layer is None:\n",
    "            norm_layer = nn.BatchNorm2d\n",
    "        self._norm_layer = norm_layer\n",
    "\n",
    "        self.inplanes = 64\n",
    "        self.init_inplanes = self.inplanes\n",
    "        self.dilation = 1\n",
    "        if replace_stride_with_dilation is None:\n",
    "            # each element in the tuple indicates if we should replace\n",
    "            # the 2x2 stride with a dilated convolution instead\n",
    "            replace_stride_with_dilation = [False, False, False]\n",
    "        if len(replace_stride_with_dilation) != 3:\n",
    "            raise ValueError(\n",
    "                \"replace_stride_with_dilation should be None \"\n",
    "                f\"or a 3-element tuple, got {replace_stride_with_dilation}\"\n",
    "            )\n",
    "        self.groups = groups\n",
    "        self.base_width = width_per_group\n",
    "        self.conv1 = nn.Conv2d(3, self.inplanes, kernel_size=7, stride=2, padding=3, bias=False)\n",
    "        self.bn1 = norm_layer(self.inplanes)\n",
    "        self.relu = nn.ReLU(inplace=True)\n",
    "        self.maxpool = nn.MaxPool2d(kernel_size=3, stride=2, padding=1)\n",
    "        self.layer1 = self._make_layer(block, 64, layers[0])\n",
    "        self.layer2 = self._make_layer(block, 128, layers[1], stride=2, dilate=replace_stride_with_dilation[0])\n",
    "        self.layer3 = self._make_layer(block, 256, layers[2], stride=2, dilate=replace_stride_with_dilation[1])\n",
    "        self.layer4 = self._make_layer(block, 512, layers[3], stride=2, dilate=replace_stride_with_dilation[2])\n",
    "        self.avgpool = nn.AdaptiveAvgPool2d((1, 1))\n",
    "        self.fc = nn.Linear(512 * block.expansion, num_classes)\n",
    "\n",
    "        for m in self.modules():\n",
    "            if isinstance(m, nn.Conv2d):\n",
    "                nn.init.kaiming_normal_(m.weight, mode=\"fan_out\", nonlinearity=\"relu\")\n",
    "            elif isinstance(m, (nn.BatchNorm2d, nn.GroupNorm)):\n",
    "                nn.init.constant_(m.weight, 1)\n",
    "                nn.init.constant_(m.bias, 0)\n",
    "\n",
    "        # Zero-initialize the last BN in each residual branch,\n",
    "        # so that the residual branch starts with zeros, and each residual block behaves like an identity.\n",
    "        # This improves the model by 0.2~0.3% according to https://arxiv.org/abs/1706.02677\n",
    "        if zero_init_residual:\n",
    "            for m in self.modules():\n",
    "                if isinstance(m, Bottleneck) and m.bn3.weight is not None:\n",
    "                    nn.init.constant_(m.bn3.weight, 0)  # type: ignore[arg-type]\n",
    "                elif isinstance(m, BasicBlock) and m.bn2.weight is not None:\n",
    "                    nn.init.constant_(m.bn2.weight, 0)  # type: ignore[arg-type]\n",
    "\n",
    "    def _make_layer(\n",
    "        self,\n",
    "        block: Type[Union[BasicBlock, Bottleneck]],\n",
    "        planes: int,\n",
    "        blocks: int,\n",
    "        stride: int = 1,\n",
    "        dilate: bool = False,\n",
    "    ) -> nn.Sequential:\n",
    "        norm_layer = self._norm_layer\n",
    "        downsample = None\n",
    "        previous_dilation = self.dilation\n",
    "        if dilate:\n",
    "            self.dilation *= stride\n",
    "            stride = 1\n",
    "        if stride != 1 or self.inplanes != planes * block.expansion:\n",
    "            downsample = nn.Sequential(\n",
    "                conv1x1(self.inplanes, planes * block.expansion, stride),\n",
    "                norm_layer(planes * block.expansion),\n",
    "            )\n",
    "\n",
    "        layers = []\n",
    "        layers.append(\n",
    "            block(\n",
    "                self.inplanes, planes, stride, downsample, self.groups, self.base_width, previous_dilation, norm_layer\n",
    "            )\n",
    "        )\n",
    "        self.inplanes = planes * block.expansion\n",
    "        for _ in range(1, blocks):\n",
    "            layers.append(\n",
    "                block(\n",
    "                    self.inplanes,\n",
    "                    planes,\n",
    "                    groups=self.groups,\n",
    "                    base_width=self.base_width,\n",
    "                    dilation=self.dilation,\n",
    "                    norm_layer=norm_layer,\n",
    "                )\n",
    "            )\n",
    "\n",
    "        return nn.Sequential(*layers)\n",
    "\n",
    "    def _forward_impl(self, x: Tensor) -> Tensor:\n",
    "        # See note [TorchScript super()]\n",
    "        x = self.conv1(x)\n",
    "        x = self.bn1(x)\n",
    "        x = self.relu(x)\n",
    "        x = self.maxpool(x)\n",
    "\n",
    "        x = self.layer1(x)\n",
    "        x = self.layer2(x)\n",
    "        x = self.layer3(x)\n",
    "        x = self.layer4(x)\n",
    "\n",
    "        x = self.avgpool(x)\n",
    "        x = torch.flatten(x, 1)\n",
    "        #x = self.fc(x)\n",
    "\n",
    "        return x\n",
    "\n",
    "    def forward(self, x: Tensor) -> Tensor:\n",
    "        return self._forward_impl(x)\n",
    "\n",
    "\n",
    "def _resnet(\n",
    "    block: Type[Union[BasicBlock, Bottleneck]],\n",
    "    layers: List[int],\n",
    "    weights,#: Optional[WeightsEnum],\n",
    "    progress: bool,\n",
    "    **kwargs: Any,\n",
    ") -> ResNet:\n",
    "    if weights is not None:\n",
    "        _ovewrite_named_param(kwargs, \"num_classes\", len(weights.meta[\"categories\"]))\n",
    "\n",
    "    model = ResNet(block, layers, **kwargs)\n",
    "\n",
    "    if weights is not None:\n",
    "        model.load_state_dict(weights.get_state_dict(progress=progress))\n",
    "\n",
    "    return model\n",
    "\n",
    "def resnet18(*, progress: bool = True, **kwargs: Any) -> ResNet:\n",
    "    return _resnet(BasicBlock, [2, 2, 2, 2], None, progress, **kwargs)\n",
    "\n",
    "def resnet34(*, progress: bool = True, **kwargs: Any) -> ResNet:\n",
    "\n",
    "    return _resnet(BasicBlock, [3, 4, 6, 3], None, progress, **kwargs)"
   ]
  },
  {
   "cell_type": "code",
   "execution_count": 403,
   "id": "622aeb85-bbe2-4b58-8e4f-39e2aa2a4167",
   "metadata": {},
   "outputs": [],
   "source": [
    "### selecting a model\n",
    "\n",
    "class PredictionModel(torch.nn.Module):\n",
    "    # uses a modified resnet that bypasses the usual \n",
    "    def __init__(self, image_channels, num_slices, num_clin_features, out_classes, latent_fc_features=64):\n",
    "        super().__init__()\n",
    "        model_base = resnet18()\n",
    "        model_base.conv1 = nn.Conv2d(image_channels*num_slices, model_base.init_inplanes, kernel_size=7, stride=2, padding=3, bias=False)\n",
    "        \n",
    "        self.model_base = model_base\n",
    "        \n",
    "        # replace the head of the model with another layer.\n",
    "        \n",
    "        self.fc1 = nn.Linear(model_base.fc.in_features + num_clin_features, latent_fc_features)\n",
    "        self.a = nn.ReLU()\n",
    "        self.fc2 = nn.Linear(latent_fc_features, out_classes)\n",
    "        \n",
    "    def forward(self, inp):\n",
    "        \n",
    "        xid = {\"flair\":[0,1,2], \"mask\": [3,4,5], \"t1\":[6,7,8], \"var\": [9,10,11], \"ent\":[12,13,14], \"pred\":[15,16,17], \"seg\":[18,19,20]}\n",
    "        \n",
    "        x = inp[0]\n",
    "        \n",
    "        x = x[:,[*xid[\"flair\"], *xid[\"pred\"], *xid[\"ent\"]]]\n",
    "        # x = x[:,[*xid[\"flair\"], *xid[\"pred\"], *xid[\"var\"]]] \n",
    "        # x = x[:,[*xid[\"flair\"], *xid[\"pred\"], *xid[\"ent\"], *xid[\"var\"]]]\n",
    "        # x = x[:,[*xid[\"flair\"], *xid[\"pred\"]]]\n",
    "        # x = None\n",
    "        \n",
    "        # print(x.shape, [*xid[\"flair\"], *xid[\"pred\"]])\n",
    "        \n",
    "        clin_data = inp[1]\n",
    "        \n",
    "        if x != None:\n",
    "            features = self.model_base(x)\n",
    "        else:\n",
    "            features = torch.zeros(inp[0].shape[0], 512).cuda()\n",
    "        dense_input = torch.cat([features, clin_data], dim=1)\n",
    "        \n",
    "        #print\n",
    "        \n",
    "        out = self.fc2(self.a(self.fc1(dense_input)))\n",
    "        \n",
    "        return out\n",
    "        \n",
    "        "
   ]
  },
  {
   "cell_type": "code",
   "execution_count": 404,
   "id": "58dc5169-b871-4ef7-a67e-2f23f0021a0e",
   "metadata": {},
   "outputs": [],
   "source": [
    "# I will train a model that has access to:\n",
    "\n",
    "# clin scores\n",
    "# clin scores + flair + pred seg\n",
    "# clin scores + flair + pred seg + umap/vmap.\n",
    "# see how the accuracies of each perform. Nice. its just a prelim test, I don't need to do class re-weighting and all that stuff just yet.\n",
    "\n",
    "# I will try doing DWMH, PWMH, and then I can try adding in other classes, which can be done by just changing the ClinDataset class to have a differnt label\n",
    "# so could do Total and tab fazekas. If I can do tab fazekas well then I can predict total SVD better maybe?\n",
    "# see if the accuracy of the model does any better. I suspect that it might not though..."
   ]
  },
  {
   "cell_type": "code",
   "execution_count": 405,
   "id": "1099c259-b5e1-4ffb-ac99-9320b8bd64b9",
   "metadata": {},
   "outputs": [
    {
     "data": {
      "text/plain": [
       "torch.Size([6, 8])"
      ]
     },
     "execution_count": 405,
     "metadata": {},
     "output_type": "execute_result"
    }
   ],
   "source": [
    "clin_data.shape"
   ]
  },
  {
   "cell_type": "code",
   "execution_count": 406,
   "id": "bdeddd04-cc02-4b4c-b0e7-6b09f96fdd15",
   "metadata": {},
   "outputs": [],
   "source": [
    "model_raw = PredictionModel(image_channels=3, num_slices=3, num_clin_features=8, out_classes=4)#.cuda()"
   ]
  },
  {
   "cell_type": "code",
   "execution_count": 407,
   "id": "cdf5f346-1ab9-4bf3-8113-2397a3f8de34",
   "metadata": {},
   "outputs": [],
   "source": [
    "class xent_wrapper(nn.Module):\n",
    "    def __init__(self):\n",
    "        super().__init__()\n",
    "        self.base_loss = torch.nn.CrossEntropyLoss()\n",
    "    def forward(self, y_hat, y):\n",
    "        return self.base_loss(y_hat, y.type(torch.long))"
   ]
  },
  {
   "cell_type": "code",
   "execution_count": 408,
   "id": "909c447f-69ae-45f3-8c1a-135120a0d331",
   "metadata": {},
   "outputs": [],
   "source": [
    "loss = xent_wrapper()"
   ]
  },
  {
   "cell_type": "code",
   "execution_count": 425,
   "id": "b502ea83-cae6-4b20-84b4-7775c230c597",
   "metadata": {},
   "outputs": [
    {
     "name": "stderr",
     "output_type": "stream",
     "text": [
      "/home/s2208943/miniconda3/envs/uq/lib/python3.10/site-packages/lightning_lite/plugins/environments/slurm.py:167: PossibleUserWarning: The `srun` command is available on your system but is not used. HINT: If your intention is to run Lightning on SLURM, prepend your python command with `srun` like so: srun python /home/s2208943/miniconda3/envs/uq/lib/python3.10/sit ...\n",
      "  rank_zero_warn(\n",
      "GPU available: True (cuda), used: True\n",
      "TPU available: False, using: 0 TPU cores\n",
      "IPU available: False, using: 0 IPUs\n",
      "HPU available: False, using: 0 HPUs\n"
     ]
    }
   ],
   "source": [
    "### training the model\n",
    "# setup optimizer and model wrapper\n",
    "\n",
    "weight_decay = 0.0001#0.05\n",
    "max_epochs = 100\n",
    "lr=2e-4\n",
    "early_stop_patience = 15\n",
    "\n",
    "optimizer_params={\"lr\":lr, \"weight_decay\":weight_decay}\n",
    "optimizer = torch.optim.Adam\n",
    "lr_scheduler_params={\"milestones\":[1000], \"gamma\":0.5}\n",
    "lr_scheduler_constructor = torch.optim.lr_scheduler.MultiStepLR\n",
    "\n",
    "# wrap the model in the pytorch_lightning module that automates training\n",
    "model = StandardLitModelWrapper(model_raw, loss, \n",
    "                                logging_metric=lambda : None,\n",
    "                                optimizer_params=optimizer_params,\n",
    "                                lr_scheduler_params=lr_scheduler_params,\n",
    "                                optimizer_constructor=optimizer,\n",
    "                                lr_scheduler_constructor=lr_scheduler_constructor\n",
    "                               )\n",
    "\n",
    "# train the model\n",
    "trainer = get_trainer(max_epochs, \".\", early_stop_patience=early_stop_patience)\n"
   ]
  },
  {
   "cell_type": "code",
   "execution_count": 426,
   "id": "ec3e7b12-d519-4203-9fd8-4ca112f9c409",
   "metadata": {},
   "outputs": [
    {
     "name": "stderr",
     "output_type": "stream",
     "text": [
      "/home/s2208943/miniconda3/envs/uq/lib/python3.10/site-packages/pytorch_lightning/callbacks/model_checkpoint.py:604: UserWarning: Checkpoint directory /home/s2208943/ipdis/UQ_WMH_methods/trustworthai/run/model_load exists and is not empty.\n",
      "  rank_zero_warn(f\"Checkpoint directory {dirpath} exists and is not empty.\")\n",
      "LOCAL_RANK: 0 - CUDA_VISIBLE_DEVICES: [0]\n",
      "\n",
      "  | Name  | Type            | Params\n",
      "------------------------------------------\n",
      "0 | model | PredictionModel | 11.7 M\n",
      "1 | loss  | xent_wrapper    | 0     \n",
      "------------------------------------------\n",
      "11.7 M    Trainable params\n",
      "0         Non-trainable params\n",
      "11.7 M    Total params\n",
      "46.968    Total estimated model params size (MB)\n"
     ]
    },
    {
     "data": {
      "application/vnd.jupyter.widget-view+json": {
       "model_id": "",
       "version_major": 2,
       "version_minor": 0
      },
      "text/plain": [
       "Sanity Checking: 0it [00:00, ?it/s]"
      ]
     },
     "metadata": {},
     "output_type": "display_data"
    },
    {
     "name": "stderr",
     "output_type": "stream",
     "text": [
      "/home/s2208943/miniconda3/envs/uq/lib/python3.10/site-packages/pytorch_lightning/trainer/trainer.py:1595: PossibleUserWarning: The number of training batches (15) is smaller than the logging interval Trainer(log_every_n_steps=50). Set a lower value for log_every_n_steps if you want to see logs for the training epoch.\n",
      "  rank_zero_warn(\n"
     ]
    },
    {
     "data": {
      "application/vnd.jupyter.widget-view+json": {
       "model_id": "7f9ceb80c6c14c3eb84de181caeafdd8",
       "version_major": 2,
       "version_minor": 0
      },
      "text/plain": [
       "Training: 0it [00:00, ?it/s]"
      ]
     },
     "metadata": {},
     "output_type": "display_data"
    },
    {
     "data": {
      "application/vnd.jupyter.widget-view+json": {
       "model_id": "",
       "version_major": 2,
       "version_minor": 0
      },
      "text/plain": [
       "Validation: 0it [00:00, ?it/s]"
      ]
     },
     "metadata": {},
     "output_type": "display_data"
    },
    {
     "name": "stderr",
     "output_type": "stream",
     "text": [
      "Metric val_loss improved. New best score: 0.786\n"
     ]
    },
    {
     "data": {
      "application/vnd.jupyter.widget-view+json": {
       "model_id": "",
       "version_major": 2,
       "version_minor": 0
      },
      "text/plain": [
       "Validation: 0it [00:00, ?it/s]"
      ]
     },
     "metadata": {},
     "output_type": "display_data"
    },
    {
     "data": {
      "application/vnd.jupyter.widget-view+json": {
       "model_id": "",
       "version_major": 2,
       "version_minor": 0
      },
      "text/plain": [
       "Validation: 0it [00:00, ?it/s]"
      ]
     },
     "metadata": {},
     "output_type": "display_data"
    },
    {
     "data": {
      "application/vnd.jupyter.widget-view+json": {
       "model_id": "",
       "version_major": 2,
       "version_minor": 0
      },
      "text/plain": [
       "Validation: 0it [00:00, ?it/s]"
      ]
     },
     "metadata": {},
     "output_type": "display_data"
    },
    {
     "data": {
      "application/vnd.jupyter.widget-view+json": {
       "model_id": "",
       "version_major": 2,
       "version_minor": 0
      },
      "text/plain": [
       "Validation: 0it [00:00, ?it/s]"
      ]
     },
     "metadata": {},
     "output_type": "display_data"
    },
    {
     "data": {
      "application/vnd.jupyter.widget-view+json": {
       "model_id": "",
       "version_major": 2,
       "version_minor": 0
      },
      "text/plain": [
       "Validation: 0it [00:00, ?it/s]"
      ]
     },
     "metadata": {},
     "output_type": "display_data"
    },
    {
     "data": {
      "application/vnd.jupyter.widget-view+json": {
       "model_id": "",
       "version_major": 2,
       "version_minor": 0
      },
      "text/plain": [
       "Validation: 0it [00:00, ?it/s]"
      ]
     },
     "metadata": {},
     "output_type": "display_data"
    },
    {
     "data": {
      "application/vnd.jupyter.widget-view+json": {
       "model_id": "",
       "version_major": 2,
       "version_minor": 0
      },
      "text/plain": [
       "Validation: 0it [00:00, ?it/s]"
      ]
     },
     "metadata": {},
     "output_type": "display_data"
    },
    {
     "data": {
      "application/vnd.jupyter.widget-view+json": {
       "model_id": "",
       "version_major": 2,
       "version_minor": 0
      },
      "text/plain": [
       "Validation: 0it [00:00, ?it/s]"
      ]
     },
     "metadata": {},
     "output_type": "display_data"
    },
    {
     "data": {
      "application/vnd.jupyter.widget-view+json": {
       "model_id": "",
       "version_major": 2,
       "version_minor": 0
      },
      "text/plain": [
       "Validation: 0it [00:00, ?it/s]"
      ]
     },
     "metadata": {},
     "output_type": "display_data"
    },
    {
     "data": {
      "application/vnd.jupyter.widget-view+json": {
       "model_id": "",
       "version_major": 2,
       "version_minor": 0
      },
      "text/plain": [
       "Validation: 0it [00:00, ?it/s]"
      ]
     },
     "metadata": {},
     "output_type": "display_data"
    },
    {
     "data": {
      "application/vnd.jupyter.widget-view+json": {
       "model_id": "",
       "version_major": 2,
       "version_minor": 0
      },
      "text/plain": [
       "Validation: 0it [00:00, ?it/s]"
      ]
     },
     "metadata": {},
     "output_type": "display_data"
    },
    {
     "data": {
      "application/vnd.jupyter.widget-view+json": {
       "model_id": "",
       "version_major": 2,
       "version_minor": 0
      },
      "text/plain": [
       "Validation: 0it [00:00, ?it/s]"
      ]
     },
     "metadata": {},
     "output_type": "display_data"
    },
    {
     "data": {
      "application/vnd.jupyter.widget-view+json": {
       "model_id": "",
       "version_major": 2,
       "version_minor": 0
      },
      "text/plain": [
       "Validation: 0it [00:00, ?it/s]"
      ]
     },
     "metadata": {},
     "output_type": "display_data"
    },
    {
     "data": {
      "application/vnd.jupyter.widget-view+json": {
       "model_id": "",
       "version_major": 2,
       "version_minor": 0
      },
      "text/plain": [
       "Validation: 0it [00:00, ?it/s]"
      ]
     },
     "metadata": {},
     "output_type": "display_data"
    },
    {
     "data": {
      "application/vnd.jupyter.widget-view+json": {
       "model_id": "",
       "version_major": 2,
       "version_minor": 0
      },
      "text/plain": [
       "Validation: 0it [00:00, ?it/s]"
      ]
     },
     "metadata": {},
     "output_type": "display_data"
    },
    {
     "name": "stderr",
     "output_type": "stream",
     "text": [
      "Monitored metric val_loss did not improve in the last 15 records. Best score: 0.786. Signaling Trainer to stop.\n"
     ]
    }
   ],
   "source": [
    "trainer.fit(model, train_dataloader, val_dataloader)"
   ]
  },
  {
   "cell_type": "code",
   "execution_count": 428,
   "id": "a20b974c-cf6a-4a0f-a861-6c1363752a0a",
   "metadata": {},
   "outputs": [
    {
     "name": "stderr",
     "output_type": "stream",
     "text": [
      "Restoring states from the checkpoint path at /home/s2208943/ipdis/UQ_WMH_methods/trustworthai/run/model_load/epoch=0-step=15-v1.ckpt\n",
      "LOCAL_RANK: 0 - CUDA_VISIBLE_DEVICES: [0]\n",
      "Loaded model weights from checkpoint at /home/s2208943/ipdis/UQ_WMH_methods/trustworthai/run/model_load/epoch=0-step=15-v1.ckpt\n"
     ]
    },
    {
     "data": {
      "application/vnd.jupyter.widget-view+json": {
       "model_id": "6f1c15d2aa194235a589036bd9c8b70f",
       "version_major": 2,
       "version_minor": 0
      },
      "text/plain": [
       "Validation: 0it [00:00, ?it/s]"
      ]
     },
     "metadata": {},
     "output_type": "display_data"
    },
    {
     "name": "stdout",
     "output_type": "stream",
     "text": [
      "────────────────────────────────────────────────────────────────────────────────────────────────────────────────────────\n",
      "     Validate metric           DataLoader 0\n",
      "────────────────────────────────────────────────────────────────────────────────────────────────────────────────────────\n",
      "        val_loss            0.7918273210525513\n",
      "────────────────────────────────────────────────────────────────────────────────────────────────────────────────────────\n"
     ]
    },
    {
     "data": {
      "text/plain": [
       "[{'val_loss': 0.7918273210525513}]"
      ]
     },
     "execution_count": 428,
     "metadata": {},
     "output_type": "execute_result"
    }
   ],
   "source": [
    "trainer.validate(model, val_dataloader, ckpt_path='best')"
   ]
  },
  {
   "cell_type": "code",
   "execution_count": 429,
   "id": "c910d4de-9fc9-45e1-aeb5-608b8c74d9ba",
   "metadata": {},
   "outputs": [],
   "source": [
    "#os.listdir(\"/home/s2208943/ipdis/UQ_WMH_methods/trustworthai/run/model_load/\")"
   ]
  },
  {
   "cell_type": "code",
   "execution_count": 430,
   "id": "c7dafe6e-e7cb-446a-bd21-c2dba782db2d",
   "metadata": {},
   "outputs": [
    {
     "data": {
      "text/plain": [
       "Conv2d(9, 64, kernel_size=(7, 7), stride=(2, 2), padding=(3, 3), bias=False)"
      ]
     },
     "execution_count": 430,
     "metadata": {},
     "output_type": "execute_result"
    }
   ],
   "source": [
    "model.model.model_base.conv1"
   ]
  },
  {
   "cell_type": "code",
   "execution_count": 431,
   "id": "24b35c5c-c0bd-443d-b32f-8e3e4294347a",
   "metadata": {},
   "outputs": [],
   "source": [
    "# so: my three metrics that I want to compute are: top k, mode accuracy form 15 runs, accuracy over 15 runs"
   ]
  },
  {
   "cell_type": "code",
   "execution_count": 432,
   "id": "a84acef4-a363-43a3-b6dc-ceab56e25f14",
   "metadata": {},
   "outputs": [],
   "source": [
    "f1_metric = torchmetrics.F1Score(task='multiclass', num_classes=4) # note need to set the F1 score correctly depending on the number of classes in the task!!\n"
   ]
  },
  {
   "cell_type": "code",
   "execution_count": 437,
   "id": "b51afefe-90b1-4be0-8a66-8d6104bbced6",
   "metadata": {},
   "outputs": [
    {
     "name": "stderr",
     "output_type": "stream",
     "text": [
      "100%|█████████████████████████████████████████████████████████████████████████████████████████████████████████████████████████████████████████████████████████| 30/30 [00:45<00:00,  1.52s/it]"
     ]
    },
    {
     "name": "stdout",
     "output_type": "stream",
     "text": [
      "torch.Size([30, 42])\n"
     ]
    },
    {
     "name": "stderr",
     "output_type": "stream",
     "text": [
      "\n"
     ]
    }
   ],
   "source": [
    "# since the val dataloader does not have shuffle, its actually easy to take the\n",
    "# mode...\n",
    "all_y_hats = []\n",
    "accs = []\n",
    "top2_accs = []\n",
    "\n",
    "batch_accs = []\n",
    "\n",
    "runs = 30\n",
    "model.eval()\n",
    "\n",
    "for _ in tqdm(range(runs), position=0, leave=True):\n",
    "    y_hat_preds = []\n",
    "    \n",
    "    for i, ((x, clin_data), y) in enumerate(test_dataloader):\n",
    "        with torch.no_grad():\n",
    "            pred = torch.nn.functional.softmax(model.cuda()((x.cuda(), clin_data.cuda())), dim=1).cpu()\n",
    "            y_hat = pred.argmax(dim=1)\n",
    "            \n",
    "            y_hat_preds += list(y_hat)\n",
    "            \n",
    "            acc = (y == y_hat).sum() / len(y)\n",
    "            accs.append(acc)\n",
    "            \n",
    "            top2 = pred.topk(dim=1, k=2)[1]\n",
    "            top2_acc = ((y == top2[:,0]) | (y == top2[:,1])).sum() / len(y)\n",
    "            top2_accs.append(top2_acc)\n",
    "            \n",
    "    all_y_hats.append(y_hat_preds)\n",
    "\n",
    "# calculate the mode accuracy (which is usually higher than mean over multiple runs but can vary quite a bit...\n",
    "print(torch.Tensor(all_y_hats).shape)\n",
    "mode_preds = torch.Tensor(all_y_hats).mode(dim=0)[0]\n",
    "all_ys = []\n",
    "for i, ((x, clin_data), y) in enumerate(test_dataloader):\n",
    "    all_ys += list(y)\n",
    "all_ys = torch.Tensor(all_ys)\n",
    "\n",
    "mode_acc = (mode_preds == all_ys).sum() / len(all_ys)\n",
    "runs_mean_acc = torch.Tensor(accs).mean()\n",
    "runs_mean_top2 = torch.Tensor(top2_accs).mean()\n",
    "\n",
    "# f1 on mode predictions\n",
    "mode_f1 = f1_metric(mode_preds, all_ys)"
   ]
  },
  {
   "cell_type": "code",
   "execution_count": 438,
   "id": "b092007b-87b8-4520-8ed5-4eebb5013ce6",
   "metadata": {},
   "outputs": [
    {
     "name": "stdout",
     "output_type": "stream",
     "text": [
      "mode acc: 0.7857142686843872, run mean acc: 0.7479166388511658, top-2 acc:0.9527778029441833\n"
     ]
    }
   ],
   "source": [
    "# this is with + ent\n",
    "print(f\"mode acc: {mode_acc}, run mean acc: {runs_mean_acc}, top-2 acc:{runs_mean_top2}\")"
   ]
  },
  {
   "cell_type": "code",
   "execution_count": 312,
   "id": "8bbae5c2-9aea-4243-bef9-17dce549f107",
   "metadata": {},
   "outputs": [
    {
     "name": "stdout",
     "output_type": "stream",
     "text": [
      "mode acc: 0.738095223903656, run mean acc: 0.7486110925674438, top-2 acc:0.9284722208976746, mode f1: 0.738095223903656\n"
     ]
    }
   ],
   "source": [
    "# this is with just the seg, another run on same model....\n",
    "print(f\"mode acc: {mode_acc}, run mean acc: {runs_mean_acc}, top-2 acc:{runs_mean_top2}, mode f1: {mode_f1}\")"
   ]
  },
  {
   "cell_type": "code",
   "execution_count": 280,
   "id": "51ad4809-5d37-4ec3-8aa6-b7fdf724e7be",
   "metadata": {},
   "outputs": [
    {
     "name": "stdout",
     "output_type": "stream",
     "text": [
      "mode acc: 0.7857142686843872, run mean acc: 0.7736110687255859, top-2 acc:0.9576388001441956\n"
     ]
    }
   ],
   "source": [
    "# this is with + ent, another run on the same model....\n",
    "print(f\"mode acc: {mode_acc}, run mean acc: {runs_mean_acc}, top-2 acc:{runs_mean_top2}\")"
   ]
  },
  {
   "cell_type": "code",
   "execution_count": 259,
   "id": "ad080501-1c84-4a36-b089-7233198f67c3",
   "metadata": {},
   "outputs": [
    {
     "name": "stdout",
     "output_type": "stream",
     "text": [
      "mode acc: 0.761904776096344, run mean acc: 0.7166667580604553, top-2 acc:0.913194477558136\n"
     ]
    }
   ],
   "source": [
    "# this is with + var map\n",
    "print(f\"mode acc: {mode_acc}, run mean acc: {runs_mean_acc}, top-2 acc:{runs_mean_top2}\")"
   ]
  },
  {
   "cell_type": "code",
   "execution_count": 138,
   "id": "3435a11c-399b-4260-b548-961e344fad2b",
   "metadata": {},
   "outputs": [
    {
     "name": "stdout",
     "output_type": "stream",
     "text": [
      "mode acc: 0.7142857313156128, run mean acc: 0.736111044883728, top-2 acc:0.9395833611488342, mode f1: 0.7142857313156128\n"
     ]
    }
   ],
   "source": [
    "# this is with just the seg, another run on same model....\n",
    "print(f\"mode acc: {mode_acc}, run mean acc: {runs_mean_acc}, top-2 acc:{runs_mean_top2}, mode f1: {mode_f1}\")"
   ]
  },
  {
   "cell_type": "code",
   "execution_count": 591,
   "id": "cb1a280e-eddd-48f4-8490-6574a38bab7d",
   "metadata": {},
   "outputs": [
    {
     "name": "stdout",
     "output_type": "stream",
     "text": [
      "mode acc: 0.7142857313156128, run mean acc: 0.7364583015441895, top-2 acc:0.9125000238418579\n"
     ]
    }
   ],
   "source": [
    "# this is with just the seg\n",
    "print(f\"mode acc: {mode_acc}, run mean acc: {runs_mean_acc}, top-2 acc:{runs_mean_top2}\")"
   ]
  },
  {
   "cell_type": "code",
   "execution_count": 569,
   "id": "e35dd6e0-80d7-4fbd-b954-d4fe8fde783a",
   "metadata": {},
   "outputs": [
    {
     "data": {
      "text/plain": [
       "tensor([0, 2, 1, 3, 2, 1, 0, 1, 2, 3, 0, 3])"
      ]
     },
     "execution_count": 569,
     "metadata": {},
     "output_type": "execute_result"
    }
   ],
   "source": [
    "a = torch.rand(12, 4)\n",
    "a.topk(dim=1, k=2)[1][:,1]"
   ]
  },
  {
   "cell_type": "code",
   "execution_count": null,
   "id": "187c9e13-11f7-415a-8361-ef906ff9e733",
   "metadata": {},
   "outputs": [],
   "source": [
    "### changes\n",
    "\n",
    "# validation and test have no augmentation\n",
    "# validation is made to repeat over itself 4 times for a less nooisy val choice.\n",
    "# regularization is increased to 0.05, set a max number of epochs to 30, pick best on val\n",
    "# pick the mode prediction over 50 runs instead of 30.\n",
    "\n",
    "# no but sometimes the model fails so we need the val dataloader. so maybe\n",
    "# I should make the repeats of the val dataloader much bigger, like * 10"
   ]
  },
  {
   "cell_type": "code",
   "execution_count": 592,
   "id": "17d7e778-7d52-4bbf-ab8f-695f330f6d88",
   "metadata": {},
   "outputs": [],
   "source": [
    "# accs = []\n",
    "\n",
    "# runs = 15\n",
    "# for _ in range(runs):\n",
    "#     for (x, clin_data), y in test_dataloader:\n",
    "#         with torch.no_grad():\n",
    "#             pred = torch.nn.functional.softmax(model.cuda()((x.cuda(), clin_data.cuda())), dim=1).cpu()\n",
    "#             acc = (y == pred.argmax(dim=1)).sum() / len(y)\n",
    "#             print(acc)\n",
    "#             accs.append(acc)"
   ]
  },
  {
   "cell_type": "code",
   "execution_count": 535,
   "id": "595dc146-2288-4d20-9df8-a9255accb8da",
   "metadata": {},
   "outputs": [
    {
     "data": {
      "text/plain": [
       "tensor(0.7069)"
      ]
     },
     "execution_count": 535,
     "metadata": {},
     "output_type": "execute_result"
    }
   ],
   "source": [
    "# this is with + ent (another run, lets see the variance)\n",
    "torch.stack(accs).mean()"
   ]
  },
  {
   "cell_type": "code",
   "execution_count": 490,
   "id": "bb8d26a8-980f-4bec-91bb-834cedd319eb",
   "metadata": {},
   "outputs": [
    {
     "data": {
      "text/plain": [
       "tensor(0.7292)"
      ]
     },
     "execution_count": 490,
     "metadata": {},
     "output_type": "execute_result"
    }
   ],
   "source": [
    "# this is with + ent\n",
    "torch.stack(accs).mean()"
   ]
  },
  {
   "cell_type": "code",
   "execution_count": 503,
   "id": "591030f5-9f5b-4547-8a25-cebc41b234ca",
   "metadata": {},
   "outputs": [
    {
     "data": {
      "text/plain": [
       "tensor(0.6792)"
      ]
     },
     "execution_count": 503,
     "metadata": {},
     "output_type": "execute_result"
    }
   ],
   "source": [
    "# this is with just the seg\n",
    "torch.stack(accs).mean()"
   ]
  },
  {
   "cell_type": "code",
   "execution_count": 515,
   "id": "86f4c639-642f-41f8-b214-47f1665921cb",
   "metadata": {},
   "outputs": [
    {
     "data": {
      "text/plain": [
       "tensor(0.6042)"
      ]
     },
     "execution_count": 515,
     "metadata": {},
     "output_type": "execute_result"
    }
   ],
   "source": [
    "# this is clin data only\n",
    "torch.stack(accs).mean()"
   ]
  },
  {
   "cell_type": "code",
   "execution_count": 538,
   "id": "0b128a0c-7ce5-4f91-b9cb-92120d77fe0f",
   "metadata": {},
   "outputs": [],
   "source": [
    "# two things. \n",
    "# [x] 1) I need to put in all the clinical scores (including volume and damage scores maybe?)\n",
    "# [ ] 2) I need to cross validate because I'm not sure if the overall results are just quite good when cross validating (and I should compare to 6 fold cross validation of the logistic regression model for a fair comparison)\n",
    "# [x] 3) I need to compute over the same data a bunch of times and take the mode (and try taking the mode top-k as well for some actually good analysis).\n",
    "# [ ] 4) I can also try with just a single linear regression layer, that way it matches more with the lgositic regression model I am using.\n",
    "# [ ] 5) I also need to try predicting other things, such as PVWMH, total fazekas, tab fazekas, and get a whole training pipeline going. Nice.\n",
    "# [ ] 6) at the earliest opportunity, see if I have statistical significance? Then I know if I am not wasting my time (and compare to just the logistic regression model... \n",
    "#    its an interesting result if just a logistic regression models with just mean seg does as well as the nn, like the whole map doesn't really add anything...\n",
    "# [ ] 7) compare to using the binarized segmentation instead of the pred for the mean model....\n",
    "# [ ] 8) I was also using age normalized and a total prediction of WMH mass in the logistic regression model..., so those features could actually be useful.... including WMH mass, umap mass etc.\n",
    "# [ ] 9) the validation dataset effectively changes each iteration and it is small, so the early stopping is very noisy. perhaps I should just take the model after 20 epochs instead and see\n",
    "# what the difference is, because if it lucks out on epoch two then I'm not gonna get a very good model.\n",
    "# [x] 10) training with just the clinscores, no extra information.\n",
    "# [ ] 11) training with a fixed number of epochs (because there is a high level of stochasticity in the early stopping validation score... would also give a bigger test set.... worth a try).\n",
    "# [ ] 12) using a pretrained model and 'finetuning'."
   ]
  },
  {
   "cell_type": "raw",
   "id": "7d752d56-1689-410d-9292-5e4aa6554bc4",
   "metadata": {},
   "source": [
    "1) - adding in the other clinical scores. Okay, in the logistic regression model I used: \n",
    "\n",
    "'age', 'sex', 'diabetes', 'hypertension', 'hyperlipidaemia', 'ICV', I also need to add smoking, its an important covariate I think. so I need to one-hot-encode smoking...\n",
    "So, my model with just the mean seg got better, but my model with the uncertianty map wasn't a great run. so things to go forward:\n",
    "\n",
    "- take out ICV? take out smoking? normalize age?"
   ]
  },
  {
   "cell_type": "raw",
   "id": "03d8ccad-51d8-4d6f-bb4e-a63f27f6cce1",
   "metadata": {},
   "source": [
    "6) + 2) significance testing. I will need to compute the values for each fold and do a significance test on my k fold cross validation. However, I could also compute the\n",
    "values of interest per batch, then I would have k * batches roughly of values to compare for my significance test. Nice. "
   ]
  },
  {
   "cell_type": "raw",
   "id": "a5a91b34-ece3-4ee0-b8a8-884a1f2c9da0",
   "metadata": {},
   "source": [
    "3) - taking the mode of the predicitons, do I actually get a performance difference then? Yes, its always higher (and the difference between using uncertainty and not\n",
    "is actually bigger, which is quite interesting....)"
   ]
  },
  {
   "cell_type": "raw",
   "id": "1199cdce-8ff6-4e76-945d-37e097e68d6b",
   "metadata": {},
   "source": [
    "10) - mode, trained on just clin scores\n",
    "done it - accuracy is suprisingly high for the 2 layer nn model than the logistic regression model. (but also it does just predict class 1 each time for the split I was looking at....)\n",
    "it was getting around 0.6 accuracy, so im guessing 0.6 of the inputs are class 1....\n",
    "to discuss this issue I can talk about the difference between uncertianty levels for deep fazekas 3 vs 1 and 0, and show clear separation, but when we introduce 2 it becomes much more blurry."
   ]
  },
  {
   "cell_type": "raw",
   "id": "d26a8260-3d72-412a-be13-36cae2cc3cf7",
   "metadata": {},
   "source": [
    "I need to look at the mode prediction, but for now lets look at the accuracy over 15 runs I think."
   ]
  },
  {
   "cell_type": "raw",
   "id": "c5644dea-8de2-4999-a2cc-fe0cc810173f",
   "metadata": {},
   "source": [
    "## issue about the quality of predictions\n",
    "\n",
    "its getting slightly less than the linear regression models were. But that is partly because these models have access to less data (I have a val and a test split here), and are more prone to overfitting\n",
    "due to the larger number of parameters etc. The results are pretty conclusive actually, and that will be a statistically significant result. Nice!!!\n",
    "\n",
    "I need to point out that these models actually perform better than the linear regression models despite the imperfect (and arguably a bit arbitrary?) slice choice mechanism.\n",
    "\n",
    "# because my splits are not even sizes, then I can calculate the evaluation results for each individual separately for each fold, and then \n",
    "# recalculate all my metrics on new splits of the data (I can just divide the data into 10 even splits for example and compute the p-values that way. Nice). Okay, this is good\n",
    "now, I should train 3 models and pick the best of the three models that I train for each fold for each task. nice, shouldn"
   ]
  },
  {
   "cell_type": "raw",
   "id": "f83964c5-eec4-49d8-83ce-d013dad4e6e6",
   "metadata": {},
   "source": [
    "## What I will want in my final analysis\n",
    "show top 2, mode and f1 score on the mode, with significance testing. So I am going to need to keep track of\n",
    "the mode predictions for each model, the actual y for each model, and do this per batch as well as per fold then I have more values to compare?\n",
    "I should also do this three times and take the results of the best model?\n",
    "and I should increase the number of samples I do to say 30 to reduce the variance?\n",
    "Maria likes to see ROI curve for each plot.\n",
    "ROI curve and confusion matrix.\n",
    "I can also put the in the plot of as we go above the ventricles, how much uncertainty mass do we see, and show clear separation of fazekas 0, 1, and 3."
   ]
  }
 ],
 "metadata": {
  "kernelspec": {
   "display_name": "Python 3 (ipykernel)",
   "language": "python",
   "name": "python3"
  },
  "language_info": {
   "codemirror_mode": {
    "name": "ipython",
    "version": 3
   },
   "file_extension": ".py",
   "mimetype": "text/x-python",
   "name": "python",
   "nbconvert_exporter": "python",
   "pygments_lexer": "ipython3",
   "version": "3.10.8"
  }
 },
 "nbformat": 4,
 "nbformat_minor": 5
}
