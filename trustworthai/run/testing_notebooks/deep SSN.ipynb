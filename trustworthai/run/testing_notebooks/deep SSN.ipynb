{
 "cells": [
  {
   "cell_type": "code",
   "execution_count": null,
   "id": "51a3a95a-b7c6-4c81-817d-f79f95d674e4",
   "metadata": {},
   "outputs": [],
   "source": []
  },
  {
   "cell_type": "code",
   "execution_count": 32,
   "id": "b29092f1-d887-48a1-8c0c-a6abb1572a0f",
   "metadata": {},
   "outputs": [],
   "source": [
    "import torch\n",
    "import torch.nn as nn\n",
    "import torch.nn.functional as F\n",
    "from trustworthai.models.building_blocks.hypermapp3r_blocks import *\n",
    "import torchvision.transforms.functional as TF\n",
    "\n",
    "class HyperMapp3r(nn.Module):\n",
    "    def __init__(self,dropout_p = 0., encoder_sizes=[16,32,64,128,256], inchannels=3, outchannels=2, p_unet_hook=False):\n",
    "        super().__init__()\n",
    "        self.out_channels = outchannels\n",
    "        self.dropout_p = dropout_p\n",
    "        self.p_unet_hook = p_unet_hook\n",
    "        \n",
    "        # input layer\n",
    "        self.conv_first = nn.Conv2d(inchannels, encoder_sizes[0], kernel_size=5, stride=1, dilation=1, padding='same')\n",
    "        self.activ = nn.ReLU()\n",
    "        \n",
    "        # encoder section\n",
    "        l = len(encoder_sizes) - 1\n",
    "        self.down_blocks = nn.ModuleList([\n",
    "            DownBlock(encoder_sizes[i], encoder_sizes[i+1]) for i in range(0, l)\n",
    "        ])\n",
    "        \n",
    "        self.res_blocks = nn.ModuleList([\n",
    "            HmResBlock(c, dropout_p) for c in encoder_sizes\n",
    "        ])\n",
    "        \n",
    "        # decoder section\n",
    "        self.upsample_blocks = nn.ModuleList([\n",
    "            HmUpsampBlock(c) for c in encoder_sizes[:-1][::-1]\n",
    "        ])\n",
    "        \n",
    "        self.feature_blocks = nn.ModuleList([\n",
    "            HmFeatureBlock(encoder_sizes[l - i]) for i in range(l-1)\n",
    "        ])\n",
    "        \n",
    "        \n",
    "        # multi-scale feature section\n",
    "        self.ms_feature_layers = nn.ModuleList([\n",
    "            nn.Conv2d(encoder_sizes[2], encoder_sizes[1], 3, padding='same'),\n",
    "            nn.Conv2d(encoder_sizes[1], encoder_sizes[1], 3, padding='same'),\n",
    "            nn.Conv2d(encoder_sizes[1], encoder_sizes[1], 3, padding='same')\n",
    "        ])\n",
    "        \n",
    "        \n",
    "        # output layer\n",
    "        self.last_1 = nn.Conv2d(encoder_sizes[1], encoder_sizes[1], 3, padding='same')\n",
    "        self.last_2 = nn.Conv2d(encoder_sizes[1], encoder_sizes[1], 1)\n",
    "        self.last_3 = nn.Conv2d(encoder_sizes[1], outchannels, 1)\n",
    "        self.last_norm = nn.InstanceNorm2d(encoder_sizes[1])\n",
    "        self.num_out_features = encoder_sizes[1]\n",
    "        \n",
    "    def forward(self, x):\n",
    "        # input layer\n",
    "        out = self.activ(self.conv_first(x))\n",
    "        # print(out.shape)\n",
    "        \n",
    "        skips = []\n",
    "        \n",
    "        # encoder section\n",
    "        out = self.res_blocks[0](out)\n",
    "        # print(out.shape)\n",
    "        skips.append(out)\n",
    "        for i in range(len(self.res_blocks) - 1):\n",
    "            out = self.down_blocks[i](out)\n",
    "            out = self.res_blocks[i+1](out)\n",
    "            # print(\"loop: \", out.shape)\n",
    "            skips.append(out)\n",
    "        \n",
    "        # decoder section\n",
    "        ml_features = []\n",
    "        out = skips.pop()\n",
    "        for i in range(len(self.upsample_blocks)):\n",
    "            # print(\"dec\")\n",
    "            if i > 0:\n",
    "                sk = skips.pop()\n",
    "                sk = TF.center_crop(sk, out.shape[-2:])\n",
    "                out = torch.cat([out, sk], dim=1)\n",
    "                out = self.feature_blocks[i-1](out)\n",
    "            \n",
    "            if i > 1:\n",
    "                ml_features.append(self.ms_feature_layers[i-2](out))\n",
    "                \n",
    "            out = self.upsample_blocks[i](out)\n",
    "        \n",
    "        # final layers\n",
    "        sk = skips.pop()\n",
    "        sk = TF.center_crop(sk, out.shape[-2:])\n",
    "        out = torch.cat([out, sk], dim=1)\n",
    "        out = self.last_norm(self.activ(self.last_1(out)))\n",
    "        \n",
    "        # multiscale feature section\n",
    "        ml_features = [out] + ml_features\n",
    "        \n",
    "        for mlf in ml_features:\n",
    "            print(\"mlf: \", mlf.shape)\n",
    "        \n",
    "        ml_features = [F.interpolate(mf, size=x.shape[-2:], mode='bilinear') for mf in ml_features]\n",
    "        #combined_features = torch.cat(ml_features, dim=1)\n",
    "        combined_features = ml_features[0]\n",
    "        for mlf in ml_features[1:]:\n",
    "            combined_features += mlf\n",
    "        print(combined_features.shape)\n",
    "        \n",
    "        out = self.activ(self.last_2(combined_features))\n",
    "        \n",
    "        if self.p_unet_hook:\n",
    "            return out\n",
    "        \n",
    "        out = self.last_3(out)\n",
    "        \n",
    "        return out\n",
    "\n",
    "    \n",
    "    @property\n",
    "    def output_channels(self):\n",
    "        return self.out_channels"
   ]
  },
  {
   "cell_type": "code",
   "execution_count": 35,
   "id": "8f2bd622-6650-49ce-b26a-5b9b80eaa464",
   "metadata": {},
   "outputs": [],
   "source": [
    "encoder_sizes=[16,32,64,128,256]\n",
    "base_model = HyperMapp3r(\n",
    "    dropout_p=0.,\n",
    "    encoder_sizes=encoder_sizes,\n",
    "    inchannels=3,\n",
    "    outchannels=2,\n",
    ")"
   ]
  },
  {
   "cell_type": "code",
   "execution_count": 38,
   "id": "94bc3935-e09d-4562-8e5d-93c898a59a2a",
   "metadata": {},
   "outputs": [],
   "source": [
    "import sys"
   ]
  },
  {
   "cell_type": "code",
   "execution_count": 41,
   "id": "84517862-5cdb-4d92-ab6d-abfa8a088e37",
   "metadata": {},
   "outputs": [],
   "source": [
    "a = torch.randn(250, 20, 10, 2, 224, 160)"
   ]
  },
  {
   "cell_type": "code",
   "execution_count": 42,
   "id": "4f5ec59a-4b3f-49e8-9257-4a6e9ec7b957",
   "metadata": {},
   "outputs": [
    {
     "data": {
      "text/plain": [
       "14336000048"
      ]
     },
     "execution_count": 42,
     "metadata": {},
     "output_type": "execute_result"
    }
   ],
   "source": [
    "sys.getsizeof(a.storage())"
   ]
  },
  {
   "cell_type": "code",
   "execution_count": 36,
   "id": "3688809b-528d-4c24-a73b-996c84aa2f1a",
   "metadata": {},
   "outputs": [
    {
     "name": "stdout",
     "output_type": "stream",
     "text": [
      "mlf:  torch.Size([12, 32, 224, 160])\n",
      "mlf:  torch.Size([12, 32, 56, 40])\n",
      "mlf:  torch.Size([12, 32, 112, 80])\n",
      "torch.Size([12, 32, 224, 160])\n"
     ]
    }
   ],
   "source": [
    "inp = torch.randn(12, 3, 224, 160)\n",
    "with torch.no_grad():\n",
    "    out = base_model.cuda()(inp.cuda())"
   ]
  },
  {
   "cell_type": "code",
   "execution_count": 27,
   "id": "7aa72111-2c1b-4354-8a01-0d30248d9860",
   "metadata": {},
   "outputs": [
    {
     "data": {
      "text/plain": [
       "torch.Size([12, 2, 224, 160])"
      ]
     },
     "execution_count": 27,
     "metadata": {},
     "output_type": "execute_result"
    }
   ],
   "source": [
    "out.shape"
   ]
  },
  {
   "cell_type": "code",
   "execution_count": 28,
   "id": "f579b8e7-dc74-46a7-9ddb-46b39096ed77",
   "metadata": {},
   "outputs": [],
   "source": [
    "from torchinfo import summary"
   ]
  },
  {
   "cell_type": "code",
   "execution_count": 14,
   "id": "ba48cc58-a99f-4624-b087-c7bfada27473",
   "metadata": {},
   "outputs": [
    {
     "data": {
      "text/plain": [
       "==========================================================================================\n",
       "Layer (type:depth-idx)                   Output Shape              Param #\n",
       "==========================================================================================\n",
       "HyperMapp3r                              [12, 2, 224, 160]         9,248\n",
       "├─Conv2d: 1-1                            [12, 16, 224, 160]        1,216\n",
       "├─ReLU: 1-2                              [12, 16, 224, 160]        --\n",
       "├─ModuleList: 1-11                       --                        (recursive)\n",
       "│    └─HmResBlock: 2-1                   [12, 16, 224, 160]        --\n",
       "│    │    └─Conv2d: 3-1                  [12, 16, 224, 160]        12,560\n",
       "│    │    └─InstanceNorm2d: 3-2          [12, 16, 224, 160]        --\n",
       "│    │    └─ReLU: 3-3                    [12, 16, 224, 160]        --\n",
       "│    │    └─Dropout2d: 3-4               [12, 16, 224, 160]        --\n",
       "│    │    └─Conv2d: 3-5                  [12, 16, 224, 160]        2,320\n",
       "│    │    └─InstanceNorm2d: 3-6          [12, 16, 224, 160]        --\n",
       "│    │    └─ReLU: 3-7                    [12, 16, 224, 160]        --\n",
       "├─ModuleList: 1-10                       --                        (recursive)\n",
       "│    └─DownBlock: 2-2                    [12, 32, 112, 80]         --\n",
       "│    │    └─Conv2d: 3-8                  [12, 32, 112, 80]         4,640\n",
       "│    │    └─InstanceNorm2d: 3-9          [12, 32, 112, 80]         --\n",
       "│    │    └─ReLU: 3-10                   [12, 32, 112, 80]         --\n",
       "├─ModuleList: 1-11                       --                        (recursive)\n",
       "│    └─HmResBlock: 2-3                   [12, 32, 112, 80]         --\n",
       "│    │    └─Conv2d: 3-11                 [12, 32, 112, 80]         50,208\n",
       "│    │    └─InstanceNorm2d: 3-12         [12, 32, 112, 80]         --\n",
       "│    │    └─ReLU: 3-13                   [12, 32, 112, 80]         --\n",
       "│    │    └─Dropout2d: 3-14              [12, 32, 112, 80]         --\n",
       "│    │    └─Conv2d: 3-15                 [12, 32, 112, 80]         9,248\n",
       "│    │    └─InstanceNorm2d: 3-16         [12, 32, 112, 80]         --\n",
       "│    │    └─ReLU: 3-17                   [12, 32, 112, 80]         --\n",
       "├─ModuleList: 1-10                       --                        (recursive)\n",
       "│    └─DownBlock: 2-4                    [12, 64, 56, 40]          --\n",
       "│    │    └─Conv2d: 3-18                 [12, 64, 56, 40]          18,496\n",
       "│    │    └─InstanceNorm2d: 3-19         [12, 64, 56, 40]          --\n",
       "│    │    └─ReLU: 3-20                   [12, 64, 56, 40]          --\n",
       "├─ModuleList: 1-11                       --                        (recursive)\n",
       "│    └─HmResBlock: 2-5                   [12, 64, 56, 40]          --\n",
       "│    │    └─Conv2d: 3-21                 [12, 64, 56, 40]          200,768\n",
       "│    │    └─InstanceNorm2d: 3-22         [12, 64, 56, 40]          --\n",
       "│    │    └─ReLU: 3-23                   [12, 64, 56, 40]          --\n",
       "│    │    └─Dropout2d: 3-24              [12, 64, 56, 40]          --\n",
       "│    │    └─Conv2d: 3-25                 [12, 64, 56, 40]          36,928\n",
       "│    │    └─InstanceNorm2d: 3-26         [12, 64, 56, 40]          --\n",
       "│    │    └─ReLU: 3-27                   [12, 64, 56, 40]          --\n",
       "├─ModuleList: 1-10                       --                        (recursive)\n",
       "│    └─DownBlock: 2-6                    [12, 128, 28, 20]         --\n",
       "│    │    └─Conv2d: 3-28                 [12, 128, 28, 20]         73,856\n",
       "│    │    └─InstanceNorm2d: 3-29         [12, 128, 28, 20]         --\n",
       "│    │    └─ReLU: 3-30                   [12, 128, 28, 20]         --\n",
       "├─ModuleList: 1-11                       --                        (recursive)\n",
       "│    └─HmResBlock: 2-7                   [12, 128, 28, 20]         --\n",
       "│    │    └─Conv2d: 3-31                 [12, 128, 28, 20]         802,944\n",
       "│    │    └─InstanceNorm2d: 3-32         [12, 128, 28, 20]         --\n",
       "│    │    └─ReLU: 3-33                   [12, 128, 28, 20]         --\n",
       "│    │    └─Dropout2d: 3-34              [12, 128, 28, 20]         --\n",
       "│    │    └─Conv2d: 3-35                 [12, 128, 28, 20]         147,584\n",
       "│    │    └─InstanceNorm2d: 3-36         [12, 128, 28, 20]         --\n",
       "│    │    └─ReLU: 3-37                   [12, 128, 28, 20]         --\n",
       "├─ModuleList: 1-10                       --                        (recursive)\n",
       "│    └─DownBlock: 2-8                    [12, 256, 14, 10]         --\n",
       "│    │    └─Conv2d: 3-38                 [12, 256, 14, 10]         295,168\n",
       "│    │    └─InstanceNorm2d: 3-39         [12, 256, 14, 10]         --\n",
       "│    │    └─ReLU: 3-40                   [12, 256, 14, 10]         --\n",
       "├─ModuleList: 1-11                       --                        (recursive)\n",
       "│    └─HmResBlock: 2-9                   [12, 256, 14, 10]         --\n",
       "│    │    └─Conv2d: 3-41                 [12, 256, 14, 10]         3,211,520\n",
       "│    │    └─InstanceNorm2d: 3-42         [12, 256, 14, 10]         --\n",
       "│    │    └─ReLU: 3-43                   [12, 256, 14, 10]         --\n",
       "│    │    └─Dropout2d: 3-44              [12, 256, 14, 10]         --\n",
       "│    │    └─Conv2d: 3-45                 [12, 256, 14, 10]         590,080\n",
       "│    │    └─InstanceNorm2d: 3-46         [12, 256, 14, 10]         --\n",
       "│    │    └─ReLU: 3-47                   [12, 256, 14, 10]         --\n",
       "├─ModuleList: 1-20                       --                        (recursive)\n",
       "│    └─HmUpsampBlock: 2-10               [12, 128, 28, 20]         --\n",
       "│    │    └─Conv2d: 3-48                 [12, 128, 28, 20]         295,040\n",
       "│    │    └─InstanceNorm2d: 3-49         [12, 128, 28, 20]         --\n",
       "│    │    └─ReLU: 3-50                   [12, 128, 28, 20]         --\n",
       "├─ModuleList: 1-18                       --                        (recursive)\n",
       "│    └─HmFeatureBlock: 2-11              [12, 128, 28, 20]         --\n",
       "│    │    └─Conv2d: 3-51                 [12, 128, 28, 20]         295,040\n",
       "│    │    └─InstanceNorm2d: 3-52         [12, 128, 28, 20]         --\n",
       "│    │    └─ReLU: 3-53                   [12, 128, 28, 20]         --\n",
       "│    │    └─Conv2d: 3-54                 [12, 128, 28, 20]         16,512\n",
       "│    │    └─InstanceNorm2d: 3-55         [12, 128, 28, 20]         --\n",
       "│    │    └─ReLU: 3-56                   [12, 128, 28, 20]         --\n",
       "├─ModuleList: 1-20                       --                        (recursive)\n",
       "│    └─HmUpsampBlock: 2-12               [12, 64, 56, 40]          --\n",
       "│    │    └─Conv2d: 3-57                 [12, 64, 56, 40]          73,792\n",
       "│    │    └─InstanceNorm2d: 3-58         [12, 64, 56, 40]          --\n",
       "│    │    └─ReLU: 3-59                   [12, 64, 56, 40]          --\n",
       "├─ModuleList: 1-18                       --                        (recursive)\n",
       "│    └─HmFeatureBlock: 2-13              [12, 64, 56, 40]          --\n",
       "│    │    └─Conv2d: 3-60                 [12, 64, 56, 40]          73,792\n",
       "│    │    └─InstanceNorm2d: 3-61         [12, 64, 56, 40]          --\n",
       "│    │    └─ReLU: 3-62                   [12, 64, 56, 40]          --\n",
       "│    │    └─Conv2d: 3-63                 [12, 64, 56, 40]          4,160\n",
       "│    │    └─InstanceNorm2d: 3-64         [12, 64, 56, 40]          --\n",
       "│    │    └─ReLU: 3-65                   [12, 64, 56, 40]          --\n",
       "├─ModuleList: 1-19                       --                        (recursive)\n",
       "│    └─Conv2d: 2-14                      [12, 32, 56, 40]          18,464\n",
       "├─ModuleList: 1-20                       --                        (recursive)\n",
       "│    └─HmUpsampBlock: 2-15               [12, 32, 112, 80]         --\n",
       "│    │    └─Conv2d: 3-66                 [12, 32, 112, 80]         18,464\n",
       "│    │    └─InstanceNorm2d: 3-67         [12, 32, 112, 80]         --\n",
       "│    │    └─ReLU: 3-68                   [12, 32, 112, 80]         --\n",
       "├─ModuleList: 1-18                       --                        (recursive)\n",
       "│    └─HmFeatureBlock: 2-16              [12, 32, 112, 80]         --\n",
       "│    │    └─Conv2d: 3-69                 [12, 32, 112, 80]         18,464\n",
       "│    │    └─InstanceNorm2d: 3-70         [12, 32, 112, 80]         --\n",
       "│    │    └─ReLU: 3-71                   [12, 32, 112, 80]         --\n",
       "│    │    └─Conv2d: 3-72                 [12, 32, 112, 80]         1,056\n",
       "│    │    └─InstanceNorm2d: 3-73         [12, 32, 112, 80]         --\n",
       "│    │    └─ReLU: 3-74                   [12, 32, 112, 80]         --\n",
       "├─ModuleList: 1-19                       --                        (recursive)\n",
       "│    └─Conv2d: 2-17                      [12, 32, 112, 80]         9,248\n",
       "├─ModuleList: 1-20                       --                        (recursive)\n",
       "│    └─HmUpsampBlock: 2-18               [12, 16, 224, 160]        --\n",
       "│    │    └─Conv2d: 3-75                 [12, 16, 224, 160]        4,624\n",
       "│    │    └─InstanceNorm2d: 3-76         [12, 16, 224, 160]        --\n",
       "│    │    └─ReLU: 3-77                   [12, 16, 224, 160]        --\n",
       "├─Conv2d: 1-21                           [12, 32, 224, 160]        9,248\n",
       "├─ReLU: 1-22                             [12, 32, 224, 160]        --\n",
       "├─InstanceNorm2d: 1-23                   [12, 32, 224, 160]        --\n",
       "├─Conv2d: 1-24                           [12, 32, 224, 160]        3,104\n",
       "├─ReLU: 1-25                             [12, 32, 224, 160]        --\n",
       "├─Conv2d: 1-26                           [12, 2, 224, 160]         66\n",
       "==========================================================================================\n",
       "Total params: 6,307,858\n",
       "Trainable params: 6,307,858\n",
       "Non-trainable params: 0\n",
       "Total mult-adds (G): 55.53\n",
       "==========================================================================================\n",
       "Input size (MB): 5.16\n",
       "Forward/backward pass size (MB): 781.03\n",
       "Params size (MB): 25.19\n",
       "Estimated Total Size (MB): 811.38\n",
       "=========================================================================================="
      ]
     },
     "execution_count": 14,
     "metadata": {},
     "output_type": "execute_result"
    }
   ],
   "source": [
    "summary(base_model, (12, 3, 224, 160))"
   ]
  },
  {
   "cell_type": "code",
   "execution_count": null,
   "id": "92430e3f-cb3e-4bbb-b048-2c63e8a7caa1",
   "metadata": {},
   "outputs": [],
   "source": []
  },
  {
   "cell_type": "code",
   "execution_count": null,
   "id": "97b4cbcf-17a2-409c-9289-b3fe4b129c59",
   "metadata": {},
   "outputs": [],
   "source": []
  },
  {
   "cell_type": "code",
   "execution_count": null,
   "id": "d512d180-6c76-4c2f-8ce9-724f45351890",
   "metadata": {},
   "outputs": [],
   "source": []
  },
  {
   "cell_type": "code",
   "execution_count": 4,
   "id": "897d8747-e693-49f5-a3e8-166a7d1e2f1f",
   "metadata": {},
   "outputs": [],
   "source": [
    "import torch\n",
    "import torch.nn as nn\n",
    "from trustworthai.models.stochastic_wrappers.ssn.LowRankMVCustom import LowRankMultivariateNormalCustom\n",
    "from trustworthai.models.stochastic_wrappers.ssn.ReshapedDistribution import ReshapedDistribution\n",
    "from trustworthai.models.uq_model import UncertaintyQuantificationModel\n",
    "from tqdm import tqdm\n",
    "import torch.distributions as td\n",
    "\n",
    "class DeepSSN(UncertaintyQuantificationModel):\n",
    "    def __init__(self, base_model, rank, diagonal, epsilon, intermediate_channels, out_channels, dims):\n",
    "        super().__init__()\n",
    "        self.base_model = base_model\n",
    "        self.ssn_rank = rank\n",
    "        self.ssn_diagonal = diagonal\n",
    "        self.ssn_epsilon = epsilon\n",
    "        self.ssn_num_classes = out_channels\n",
    "        \n",
    "        self.lrelu = nn.LeakyReLU(0.01)\n",
    "        \n",
    "        self.mean_l = nn.Conv2d(intermediate_channels, out_channels, kernel_size = (1,) *  dims, padding='same')\n",
    "        self.log_cov_diag_l = nn.Conv2d(intermediate_channels, out_channels, kernel_size = (1,) * dims, padding='same')\n",
    "        self.cov_factor_l = nn.Conv2d(intermediate_channels, out_channels * self.ssn_rank, kernel_size = (1,) * dims, padding='same')\n",
    "        \n",
    "    def forward(self, x):\n",
    "        logits = self.lrelu(self.base_model(x))\n",
    "\n",
    "        batch_size = logits.shape[0]\n",
    "        event_shape = (self.ssn_num_classes,) + logits.shape[2:]\n",
    "        \n",
    "        mean = self.mean_l(logits)\n",
    "        mean = mean.view((batch_size, -1))\n",
    "        \n",
    "        cov_diag = self.log_cov_diag_l(logits).exp() + self.ssn_epsilon\n",
    "        cov_diag = cov_diag.view((batch_size, -1))\n",
    "        \n",
    "        cov_factor = self.cov_factor_l(logits)\n",
    "        cov_factor = cov_factor.view((batch_size, self.ssn_rank, self.ssn_num_classes, -1))\n",
    "        cov_factor = cov_factor.flatten(2,3)\n",
    "        cov_factor = cov_factor.transpose(1,2)\n",
    "        \n",
    "        # covariance tends to blow up to infinity, hence set to 0 outside the ROI\n",
    "        mask = x[:,1]\n",
    "        mask = mask.unsqueeze(1).expand((batch_size, self.ssn_num_classes) + mask.shape[1:]).reshape(batch_size, -1)\n",
    "        cov_factor = cov_factor * mask.unsqueeze(-1)\n",
    "        cov_diag = cov_diag * mask + self.ssn_epsilon\n",
    "    \n",
    "        \n",
    "        if self.ssn_diagonal:\n",
    "            base_distribution = td.Independent(td.Normal(loc=mean, scale=torch.sqrt(cov_diag)), 1)\n",
    "        else:\n",
    "            try:\n",
    "                base_distribution = LowRankMultivariateNormalCustom(loc=mean, cov_factor=cov_factor, cov_diag=cov_diag)\n",
    "            except Exception as e:\n",
    "                print(\"was thrown: \", e)\n",
    "                print('hmm: Covariance became non invertible using independent normals for this batch!')\n",
    "                print(\"cov diag okay: \", torch.sum(cov_diag <=0))\n",
    "                print(\"sqrt cov diag okay: \", torch.sum(torch.sqrt(cov_diag) <=0))\n",
    "                \n",
    "                try:\n",
    "                    base_distribution = td.Independent(td.Normal(loc=mean, scale=torch.sqrt(cov_diag)),1)\n",
    "                except Exception as e:\n",
    "                    print(\"second fail: \", e)\n",
    "                    print(torch.min(torch.sqrt(cov_diag), torch.max(torch.sqrt(cov_diag))))\n",
    "        \n",
    "        distribution = ReshapedDistribution(base_distribution, event_shape)\n",
    "        \n",
    "        shape = (batch_size,) + event_shape\n",
    "        logit_mean_view = mean.view(shape).detach()\n",
    "        cov_diag_view = cov_diag.view(shape).detach()\n",
    "        cov_factor_view = cov_factor.transpose(2,1).view((batch_size, self.ssn_num_classes * self.ssn_rank) + event_shape[1:]).detach()\n",
    "        \n",
    "        output_dict = {\n",
    "            'logit_mean':logit_mean_view,\n",
    "            'cov_diag':cov_diag_view,\n",
    "            'cov_factor':cov_factor_view,\n",
    "            'distribution':distribution,\n",
    "        }\n",
    "        \n",
    "        return output_dict\n",
    "    \n",
    "    def mean(self, x, temperature=1):\n",
    "        return self(x)['logit_mean'] / temperature\n",
    "    \n",
    "    def _samples_from_dist(self, dist, num_samples, rsample=True, symmetric=True):\n",
    "        if symmetric:\n",
    "            assert num_samples % 2 == 0\n",
    "            num_samples = num_samples // 2\n",
    "            \n",
    "        if rsample:\n",
    "            samples = dist.rsample((num_samples,))\n",
    "        else:\n",
    "            samples = dist.sample((num_samples,))\n",
    "        \n",
    "        if symmetric:\n",
    "            mean = dist.mean\n",
    "            samples = samples - mean\n",
    "            return torch.cat([samples, -samples]) + mean\n",
    "        else:\n",
    "            return samples\n",
    "    \n",
    "    def mean_and_sample(self, x, num_samples, rsample=True, temperature=1):\n",
    "        # NOTE: this does temperature scaling!!\n",
    "        t = temperature\n",
    "        out = self(x)\n",
    "        mean = out['logit_mean']\n",
    "        dist = out['distribution']\n",
    "        samples = self._samples_from_dist(dist, num_samples, rsample)\n",
    "        return mean/t, samples/t\n",
    "        \n",
    "            "
   ]
  },
  {
   "cell_type": "code",
   "execution_count": null,
   "id": "6f0aad64-23ed-4efa-973a-2babf9783049",
   "metadata": {},
   "outputs": [],
   "source": []
  },
  {
   "cell_type": "code",
   "execution_count": 5,
   "id": "159888e6-3225-46fd-bab2-b2f8a639dea3",
   "metadata": {
    "tags": []
   },
   "outputs": [],
   "source": [
    "from trustworthai.utils.data_preprep.dataset_pipelines import load_data\n",
    "from trustworthai.utils.fitting_and_inference.fitters.basic_lightning_fitter import StandardLitModelWrapper\n",
    "from trustworthai.utils.fitting_and_inference.get_trainer import get_trainer\n",
    "from trustworthai.models.core_models.Hypermapp3r import HyperMapp3r\n",
    "from trustworthai.models.stochastic_wrappers.ssn.ssn import SSN\n",
    "from torchinfo import summary\n",
    "import torch"
   ]
  },
  {
   "cell_type": "code",
   "execution_count": 2,
   "id": "b76510f5-f9ee-481d-b955-5b03f1c666e8",
   "metadata": {
    "tags": []
   },
   "outputs": [
    {
     "ename": "NameError",
     "evalue": "name 'load_data' is not defined",
     "output_type": "error",
     "traceback": [
      "\u001b[0;31m---------------------------------------------------------------------------\u001b[0m",
      "\u001b[0;31mNameError\u001b[0m                                 Traceback (most recent call last)",
      "Cell \u001b[0;32mIn[2], line 2\u001b[0m\n\u001b[1;32m      1\u001b[0m \u001b[38;5;66;03m# get the 2d axial slice dataloaders\u001b[39;00m\n\u001b[0;32m----> 2\u001b[0m train_dl, val_dl, test_dl \u001b[38;5;241m=\u001b[39m \u001b[43mload_data\u001b[49m(\n\u001b[1;32m      3\u001b[0m     dataset\u001b[38;5;241m=\u001b[39m\u001b[38;5;124m\"\u001b[39m\u001b[38;5;124med\u001b[39m\u001b[38;5;124m\"\u001b[39m, \n\u001b[1;32m      4\u001b[0m     test_proportion\u001b[38;5;241m=\u001b[39m\u001b[38;5;241m0.15\u001b[39m, \n\u001b[1;32m      5\u001b[0m     validation_proportion\u001b[38;5;241m=\u001b[39m\u001b[38;5;241m0.15\u001b[39m,\n\u001b[1;32m      6\u001b[0m     seed\u001b[38;5;241m=\u001b[39m\u001b[38;5;241m3407\u001b[39m,\n\u001b[1;32m      7\u001b[0m     empty_proportion_retained\u001b[38;5;241m=\u001b[39m\u001b[38;5;241m0.1\u001b[39m,\n\u001b[1;32m      8\u001b[0m     batch_size\u001b[38;5;241m=\u001b[39m\u001b[38;5;241m32\u001b[39m,\n\u001b[1;32m      9\u001b[0m     dataloader2d_only\u001b[38;5;241m=\u001b[39m\u001b[38;5;28;01mTrue\u001b[39;00m,\n\u001b[1;32m     10\u001b[0m     cross_validate\u001b[38;5;241m=\u001b[39m\u001b[38;5;28;01mTrue\u001b[39;00m,\n\u001b[1;32m     11\u001b[0m     cv_split\u001b[38;5;241m=\u001b[39m\u001b[38;5;241m0\u001b[39m\n\u001b[1;32m     12\u001b[0m )\n",
      "\u001b[0;31mNameError\u001b[0m: name 'load_data' is not defined"
     ]
    }
   ],
   "source": [
    "# get the 2d axial slice dataloaders\n",
    "train_dl, val_dl, test_dl = load_data(\n",
    "    dataset=\"ed\", \n",
    "    test_proportion=0.15, \n",
    "    validation_proportion=0.15,\n",
    "    seed=3407,\n",
    "    empty_proportion_retained=0.1,\n",
    "    batch_size=32,\n",
    "    dataloader2d_only=True,\n",
    "    cross_validate=True,\n",
    "    cv_split=0\n",
    ")"
   ]
  },
  {
   "cell_type": "code",
   "execution_count": null,
   "id": "ccb9cabd-5481-4308-bc6d-54f56f32dd07",
   "metadata": {},
   "outputs": [],
   "source": [
    "train_dl.dataset[0][0].sum(), test_dl.dataset[0][0].sum(), val_dl.dataset[0][0].sum()"
   ]
  },
  {
   "cell_type": "code",
   "execution_count": 56,
   "id": "2be4116e-1c8b-45f0-9643-95236b691434",
   "metadata": {
    "tags": []
   },
   "outputs": [],
   "source": []
  },
  {
   "cell_type": "code",
   "execution_count": 57,
   "id": "a4ee73b1-455f-4895-b046-14ec99b324de",
   "metadata": {
    "tags": []
   },
   "outputs": [
    {
     "data": {
      "text/plain": [
       "[16, 32, 64, 128, 256]"
      ]
     },
     "execution_count": 57,
     "metadata": {},
     "output_type": "execute_result"
    }
   ],
   "source": [
    "encoder_sizes"
   ]
  },
  {
   "cell_type": "code",
   "execution_count": 58,
   "id": "586f2f3d-0471-401c-9c74-8ce03d875178",
   "metadata": {
    "tags": []
   },
   "outputs": [],
   "source": [
    "#summary(base_model, (12, 3, 224, 160))"
   ]
  },
  {
   "cell_type": "code",
   "execution_count": 59,
   "id": "c14d18d1-bce4-4e96-9cdc-653e1aefc089",
   "metadata": {
    "tags": []
   },
   "outputs": [],
   "source": [
    "model_raw = SSN(\n",
    "    base_model=base_model,\n",
    "    rank=15,\n",
    "    diagonal=False,\n",
    "    epsilon=1e-5,\n",
    "    intermediate_channels=base_model.output_channels,\n",
    "    out_channels=2,\n",
    "    dims=2\n",
    "    ).cuda()"
   ]
  },
  {
   "cell_type": "code",
   "execution_count": 60,
   "id": "773a4d56-0ad4-4556-92e0-16c58db01df8",
   "metadata": {
    "tags": []
   },
   "outputs": [],
   "source": [
    "optimizer_params={\"lr\":2e-4, \"weight_decay\":0.0001}\n",
    "optimizer = torch.optim.Adam\n",
    "lr_scheduler_params={\"milestones\":[1000], \"gamma\":0.5}\n",
    "lr_scheduler_constructor = torch.optim.lr_scheduler.MultiStepLR"
   ]
  },
  {
   "cell_type": "code",
   "execution_count": 61,
   "id": "50178fab-d3ee-4436-a617-c0ec5e8064d6",
   "metadata": {
    "tags": []
   },
   "outputs": [],
   "source": [
    "loss = SSNCombinedDiceXentLoss(\n",
    "    empty_slice_weight=0.5,\n",
    "    mc_samples=10,\n",
    "    dice_factor=5,\n",
    "    xent_factor=0.01,\n",
    "    sample_dice_coeff=0.05,\n",
    ")"
   ]
  },
  {
   "cell_type": "code",
   "execution_count": 62,
   "id": "c57fea5d-39e5-4b6b-b6a7-5c4a66b7c9dd",
   "metadata": {
    "tags": []
   },
   "outputs": [],
   "source": [
    "model = StandardLitModelWrapper(model_raw, loss, \n",
    "                                    logging_metric=lambda : None,\n",
    "                                    optimizer_params=optimizer_params,\n",
    "                                    lr_scheduler_params=lr_scheduler_params,\n",
    "                                    optimizer_constructor=optimizer,\n",
    "                                    lr_scheduler_constructor=lr_scheduler_constructor\n",
    "                                   )"
   ]
  },
  {
   "cell_type": "code",
   "execution_count": 63,
   "id": "795dd140-82d7-46e8-869a-c4a3b2ca23c8",
   "metadata": {
    "tags": []
   },
   "outputs": [
    {
     "name": "stderr",
     "output_type": "stream",
     "text": [
      "GPU available: True (cuda), used: True\n",
      "TPU available: False, using: 0 TPU cores\n",
      "IPU available: False, using: 0 IPUs\n",
      "HPU available: False, using: 0 HPUs\n"
     ]
    }
   ],
   "source": [
    "trainer = get_trainer(max_epochs=100, results_dir=\"/home/s2208943/ipdis/results/test/ssn_test/\", early_stop_patience=15)"
   ]
  },
  {
   "cell_type": "code",
   "execution_count": 64,
   "id": "0a881c2f-262d-47f6-aac7-d4c021de8f15",
   "metadata": {
    "tags": []
   },
   "outputs": [
    {
     "name": "stderr",
     "output_type": "stream",
     "text": [
      "Missing logger folder: /home/s2208943/ipdis/results/test/ssn_test/lightning_logs\n",
      "LOCAL_RANK: 0 - CUDA_VISIBLE_DEVICES: [0]\n",
      "\n",
      "  | Name  | Type                    | Params\n",
      "--------------------------------------------------\n",
      "0 | model | SSN                     | 6.3 M \n",
      "1 | loss  | SSNCombinedDiceXentLoss | 0     \n",
      "--------------------------------------------------\n",
      "6.3 M     Trainable params\n",
      "0         Non-trainable params\n",
      "6.3 M     Total params\n",
      "25.240    Total estimated model params size (MB)\n"
     ]
    },
    {
     "data": {
      "application/vnd.jupyter.widget-view+json": {
       "model_id": "",
       "version_major": 2,
       "version_minor": 0
      },
      "text/plain": [
       "Sanity Checking: 0it [00:00, ?it/s]"
      ]
     },
     "metadata": {},
     "output_type": "display_data"
    },
    {
     "data": {
      "application/vnd.jupyter.widget-view+json": {
       "model_id": "840f32702ea34e1fabcd372d82cc2bea",
       "version_major": 2,
       "version_minor": 0
      },
      "text/plain": [
       "Training: 0it [00:00, ?it/s]"
      ]
     },
     "metadata": {},
     "output_type": "display_data"
    },
    {
     "data": {
      "application/vnd.jupyter.widget-view+json": {
       "model_id": "",
       "version_major": 2,
       "version_minor": 0
      },
      "text/plain": [
       "Validation: 0it [00:00, ?it/s]"
      ]
     },
     "metadata": {},
     "output_type": "display_data"
    },
    {
     "name": "stderr",
     "output_type": "stream",
     "text": [
      "Metric val_loss improved. New best score: 11.096\n"
     ]
    },
    {
     "data": {
      "application/vnd.jupyter.widget-view+json": {
       "model_id": "",
       "version_major": 2,
       "version_minor": 0
      },
      "text/plain": [
       "Validation: 0it [00:00, ?it/s]"
      ]
     },
     "metadata": {},
     "output_type": "display_data"
    },
    {
     "name": "stderr",
     "output_type": "stream",
     "text": [
      "Metric val_loss improved by 3.011 >= min_delta = 0.01. New best score: 8.085\n"
     ]
    },
    {
     "data": {
      "application/vnd.jupyter.widget-view+json": {
       "model_id": "",
       "version_major": 2,
       "version_minor": 0
      },
      "text/plain": [
       "Validation: 0it [00:00, ?it/s]"
      ]
     },
     "metadata": {},
     "output_type": "display_data"
    },
    {
     "name": "stderr",
     "output_type": "stream",
     "text": [
      "Metric val_loss improved by 1.136 >= min_delta = 0.01. New best score: 6.949\n"
     ]
    },
    {
     "data": {
      "application/vnd.jupyter.widget-view+json": {
       "model_id": "",
       "version_major": 2,
       "version_minor": 0
      },
      "text/plain": [
       "Validation: 0it [00:00, ?it/s]"
      ]
     },
     "metadata": {},
     "output_type": "display_data"
    },
    {
     "name": "stderr",
     "output_type": "stream",
     "text": [
      "Metric val_loss improved by 0.822 >= min_delta = 0.01. New best score: 6.127\n"
     ]
    },
    {
     "data": {
      "application/vnd.jupyter.widget-view+json": {
       "model_id": "",
       "version_major": 2,
       "version_minor": 0
      },
      "text/plain": [
       "Validation: 0it [00:00, ?it/s]"
      ]
     },
     "metadata": {},
     "output_type": "display_data"
    },
    {
     "name": "stderr",
     "output_type": "stream",
     "text": [
      "Metric val_loss improved by 0.233 >= min_delta = 0.01. New best score: 5.895\n"
     ]
    },
    {
     "data": {
      "application/vnd.jupyter.widget-view+json": {
       "model_id": "",
       "version_major": 2,
       "version_minor": 0
      },
      "text/plain": [
       "Validation: 0it [00:00, ?it/s]"
      ]
     },
     "metadata": {},
     "output_type": "display_data"
    },
    {
     "name": "stderr",
     "output_type": "stream",
     "text": [
      "Metric val_loss improved by 0.445 >= min_delta = 0.01. New best score: 5.449\n"
     ]
    },
    {
     "data": {
      "application/vnd.jupyter.widget-view+json": {
       "model_id": "",
       "version_major": 2,
       "version_minor": 0
      },
      "text/plain": [
       "Validation: 0it [00:00, ?it/s]"
      ]
     },
     "metadata": {},
     "output_type": "display_data"
    },
    {
     "name": "stderr",
     "output_type": "stream",
     "text": [
      "Metric val_loss improved by 0.074 >= min_delta = 0.01. New best score: 5.376\n"
     ]
    },
    {
     "data": {
      "application/vnd.jupyter.widget-view+json": {
       "model_id": "",
       "version_major": 2,
       "version_minor": 0
      },
      "text/plain": [
       "Validation: 0it [00:00, ?it/s]"
      ]
     },
     "metadata": {},
     "output_type": "display_data"
    },
    {
     "name": "stderr",
     "output_type": "stream",
     "text": [
      "Metric val_loss improved by 0.057 >= min_delta = 0.01. New best score: 5.319\n"
     ]
    }
   ],
   "source": [
    "trainer.fit(model, train_dl, val_dl)"
   ]
  }
 ],
 "metadata": {
  "kernelspec": {
   "display_name": "Python 3 (ipykernel)",
   "language": "python",
   "name": "python3"
  },
  "language_info": {
   "codemirror_mode": {
    "name": "ipython",
    "version": 3
   },
   "file_extension": ".py",
   "mimetype": "text/x-python",
   "name": "python",
   "nbconvert_exporter": "python",
   "pygments_lexer": "ipython3",
   "version": "3.10.8"
  }
 },
 "nbformat": 4,
 "nbformat_minor": 5
}
