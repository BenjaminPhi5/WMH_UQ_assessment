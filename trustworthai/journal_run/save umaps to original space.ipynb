{
 "cells": [
  {
   "cell_type": "markdown",
   "id": "f166d9e2-99b9-4777-901a-f649eff1f0a9",
   "metadata": {},
   "source": [
    "## Save umaps to the original space\n",
    "\n",
    "Just gonna do SSN_Ens and SSN_Ens Mean with the CVD dataset."
   ]
  },
  {
   "cell_type": "markdown",
   "id": "2b5f3e3e-deef-4f57-9b4e-bb172e0bdf5b",
   "metadata": {},
   "source": [
    "### Load in the resampled flair, and the uncertainty maps"
   ]
  },
  {
   "cell_type": "code",
   "execution_count": 1,
   "id": "2ab78878-57e9-46e2-8172-a0a1079b975e",
   "metadata": {
    "tags": []
   },
   "outputs": [],
   "source": [
    "import torch"
   ]
  },
  {
   "cell_type": "code",
   "execution_count": 2,
   "id": "a4b26776-53b1-4410-a3df-5e2dfc60f20d",
   "metadata": {},
   "outputs": [
    {
     "name": "stdout",
     "output_type": "stream",
     "text": [
      "strawberry\n",
      "banana\n"
     ]
    }
   ],
   "source": [
    "# data\n",
    "print(\"strawberry\")\n",
    "from twaidata.torchdatasets.MRI_3D_nolabels_inram_ds import MRI_3D_nolabels_inram_ds\n",
    "\n",
    "# packages\n",
    "import os\n",
    "import numpy as np\n",
    "import pandas as pd\n",
    "import matplotlib.pyplot as plt\n",
    "import torch\n",
    "from torchinfo import summary\n",
    "from tqdm import tqdm\n",
    "from collections import defaultdict\n",
    "from natsort import natsorted\n",
    "import torchmetrics\n",
    "import SimpleITK as sitk\n",
    "import nibabel as nib\n",
    "from twaidata.MRI_preprep.resample import resample_and_return, get_resampled_img\n",
    "print(\"banana\")"
   ]
  },
  {
   "cell_type": "markdown",
   "id": "6e366276-5fba-44b7-8918-a64cb74f6226",
   "metadata": {},
   "source": [
    "#### loading the uncertainty maps"
   ]
  },
  {
   "cell_type": "code",
   "execution_count": 3,
   "id": "084d74aa-35c3-412a-b3ff-c64d21dc7b1a",
   "metadata": {},
   "outputs": [],
   "source": [
    "def load_output_maps(output_maps_dir):\n",
    "    output_maps_lists = defaultdict(lambda: [])\n",
    "    for fID in tqdm(os.listdir(output_maps_dir), position=0, leave=True):\n",
    "        # print(fID)\n",
    "        # break\n",
    "        if \".npz\" in fID:\n",
    "            ID = fID.split(\".\")[0]\n",
    "            output_maps_data = np.load(output_maps_dir+fID)\n",
    "            key_order = natsorted(list(output_maps_data.keys()))\n",
    "            for key in key_order:\n",
    "                output_maps_lists[ID].append(torch.from_numpy(output_maps_data[key]))\n",
    "    return output_maps_lists, key_order"
   ]
  },
  {
   "cell_type": "code",
   "execution_count": 4,
   "id": "be79f293-8827-4c12-b163-bc008a2c17b3",
   "metadata": {},
   "outputs": [
    {
     "name": "stderr",
     "output_type": "stream",
     "text": [
      "100%|███████████████████████████████████████████████████████████████████████████████████████████████████████████████████████████████████████████████████████| 250/250 [01:01<00:00,  4.05it/s]\n"
     ]
    }
   ],
   "source": [
    "# model_name = \"SSN_Ens_Mean\"\n",
    "model_name = \"SSN_Ens\"\n",
    "output_maps_dir = f\"/home/s2208943/ipdis/data/preprocessed_data/EdData_output_maps/{model_name}/\"\n",
    "output_maps_for_umaps, key_order = load_output_maps(output_maps_dir)"
   ]
  },
  {
   "cell_type": "code",
   "execution_count": 5,
   "id": "caf6e37a-735d-49f2-8b90-bf5a963a18ce",
   "metadata": {},
   "outputs": [
    {
     "data": {
      "text/plain": [
       "['ent', 'pred', 'seg', 'var']"
      ]
     },
     "execution_count": 5,
     "metadata": {},
     "output_type": "execute_result"
    }
   ],
   "source": [
    "key_order"
   ]
  },
  {
   "cell_type": "markdown",
   "id": "85e63aa0-960f-4422-9e20-bc1b9822fea6",
   "metadata": {},
   "source": [
    "#### loading the preprocessed data in the resampled space"
   ]
  },
  {
   "cell_type": "code",
   "execution_count": 6,
   "id": "0065ea72-a2b2-43f1-9bd6-6508c74a7b1a",
   "metadata": {},
   "outputs": [],
   "source": [
    "preproc_folder_path = \"/home/s2208943/ipdis/data/preprocessed_data/EdData/\"\n",
    "domains_storage_name = [\"domainA\", \"domainB\", \"domainC\", \"domainD\"] # the name of the domain in the filesystem\n",
    "\n",
    "filepaths_flair = []\n",
    "filepaths_mask = []\n",
    "for domain in domains_storage_name:\n",
    "    imgs_folder = preproc_folder_path + domain + \"/imgs/\"\n",
    "    filepaths_flair.extend([imgs_folder + f for f in os.listdir(imgs_folder) if \"FLAIR.nii.gz\" in f and \"BET\" not in f and \"NORMALIZE\" not in f])\n",
    "    filepaths_mask.extend([imgs_folder + f for f in os.listdir(imgs_folder) if \"FLAIR_BET_mask.nii.gz\" in f])"
   ]
  },
  {
   "cell_type": "code",
   "execution_count": 7,
   "id": "cbddee9e-0b22-40e5-9ded-d4c14a3a98b0",
   "metadata": {},
   "outputs": [],
   "source": [
    "filepaths_mask_map = {f.split(\"/\")[-1].split(\"_\")[0]:f for f in filepaths_mask}\n",
    "filepaths_flair_map = {f.split(\"/\")[-1].split(\"_\")[0]:f for f in filepaths_flair}"
   ]
  },
  {
   "cell_type": "code",
   "execution_count": 8,
   "id": "d443c63e-e88d-45fd-8dcb-a35483648f1e",
   "metadata": {},
   "outputs": [],
   "source": [
    "def load_file(fp):\n",
    "    return sitk.GetArrayFromImage(\n",
    "        sitk.ReadImage(fp)\n",
    "    ).astype(np.float32)"
   ]
  },
  {
   "cell_type": "code",
   "execution_count": 9,
   "id": "304287de-41fc-4420-b1e2-eca38fc29ad8",
   "metadata": {},
   "outputs": [],
   "source": [
    "def load_flair_and_mask(key):\n",
    "    return load_file(filepaths_flair_map[key]), load_file(filepaths_mask_map[key])"
   ]
  },
  {
   "cell_type": "code",
   "execution_count": 11,
   "id": "f50b8ad6-1cec-4a61-8f68-3c7bd2701ec2",
   "metadata": {},
   "outputs": [],
   "source": [
    "umap_names = list(output_maps_for_umaps.keys())\n",
    "# for i in range(0, 200):\n",
    "# umap_name = umap_names[i]\n",
    "umap_name = \"CVD103_out_maps\"\n",
    "umap_id = umap_name.split(\"_\")[0]\n",
    "\n",
    "flair, mask = load_flair_and_mask(umap_id)\n",
    "\n",
    "umap = output_maps_for_umaps[umap_name][0]\n",
    "\n",
    "# print(umap.shape, flair.shape, i)\n",
    "\n",
    "# if umap.shape[0] != flair.shape[0]:\n",
    "#     break"
   ]
  },
  {
   "cell_type": "code",
   "execution_count": 12,
   "id": "57178215-16ab-4537-863f-a575929cefbf",
   "metadata": {},
   "outputs": [
    {
     "data": {
      "text/plain": [
       "(torch.Size([56, 224, 160]), (56, 240, 240), (56, 240, 240))"
      ]
     },
     "execution_count": 12,
     "metadata": {},
     "output_type": "execute_result"
    }
   ],
   "source": [
    "umap.shape, flair.shape, mask.shape"
   ]
  },
  {
   "cell_type": "markdown",
   "id": "2ae13c77-a510-46ec-bfe7-bd3010cb2841",
   "metadata": {
    "tags": []
   },
   "source": [
    "### pad the height and width back to the right space"
   ]
  },
  {
   "cell_type": "code",
   "execution_count": 13,
   "id": "54736544-f51d-449c-b204-6bae8878ed04",
   "metadata": {},
   "outputs": [],
   "source": [
    "def pad_height_and_width(umap, flair_resampled):\n",
    "    umap_shape = umap.shape\n",
    "    flair_resampled_shape = flair_resampled.shape\n",
    "    \n",
    "    pad = ((flair_resampled_shape[1] - umap_shape[1]) // 2, (flair_resampled_shape[2] - umap_shape[2]) // 2)\n",
    "    umap = torch.nn.functional.pad(umap, pad=(pad[1], pad[1], pad[0], pad[0]), mode='constant', value=0)\n",
    "    \n",
    "    assert umap.shape[1] == flair_resampled_shape[1]\n",
    "    assert umap.shape[2] == flair_resampled_shape[2]\n",
    "    \n",
    "    return umap"
   ]
  },
  {
   "cell_type": "code",
   "execution_count": 14,
   "id": "9013219f-4fe4-4365-a20e-cbecefcda00f",
   "metadata": {},
   "outputs": [
    {
     "name": "stdout",
     "output_type": "stream",
     "text": [
      "torch.Size([56, 240, 240]) (56, 240, 240)\n"
     ]
    }
   ],
   "source": [
    "umap = pad_height_and_width(umap, flair)\n",
    "print(umap.shape, flair.shape)"
   ]
  },
  {
   "cell_type": "markdown",
   "id": "ec75c157-e993-4fb0-b601-918f2f365ea6",
   "metadata": {
    "tags": []
   },
   "source": [
    "### pad the channel dimension if it doesn't match properly"
   ]
  },
  {
   "cell_type": "code",
   "execution_count": 15,
   "id": "f0b6a841-e5d6-4606-8a45-90391dd0cd94",
   "metadata": {},
   "outputs": [],
   "source": [
    "def channel_pad(umap, flair_resampled):\n",
    "    if umap.shape[0] == flair_resampled.shape[0]:\n",
    "        return umap\n",
    "    \n",
    "    # the policy that was used was umap shape is equivalent to flair[start:start+centre_cut]\n",
    "    # where start (is equivalent to) = (flair_resampled.shape[0] - umap.shape[0]) // 2\n",
    "    \n",
    "    # so padding at the beginning is start\n",
    "    # and padding at the end is flair_resampled.shape[0] - umap.shape[0] - start\n",
    "    \n",
    "    padding_beginning = (flair_resampled.shape[0] - umap.shape[0]) // 2\n",
    "    \n",
    "    zeros = torch.zeros(flair_resampled.shape, dtype=umap.dtype)\n",
    "    zeros[padding_beginning:padding_beginning+umap.shape[0]] = umap\n",
    "    umap = zeros\n",
    "    \n",
    "    return umap"
   ]
  },
  {
   "cell_type": "code",
   "execution_count": 16,
   "id": "3e1fa88a-b558-4f6b-8c6d-218b59527a62",
   "metadata": {},
   "outputs": [],
   "source": [
    "umap = channel_pad(umap, flair)"
   ]
  },
  {
   "cell_type": "code",
   "execution_count": 17,
   "id": "c53d28e5-4497-4718-b8f8-4691b5d2fdef",
   "metadata": {},
   "outputs": [
    {
     "data": {
      "text/plain": [
       "(torch.Size([56, 240, 240]), (56, 240, 240))"
      ]
     },
     "execution_count": 17,
     "metadata": {},
     "output_type": "execute_result"
    }
   ],
   "source": [
    "umap.shape, flair.shape"
   ]
  },
  {
   "cell_type": "markdown",
   "id": "6f3dc8d7-14ed-4393-8bbb-82e972d3b51b",
   "metadata": {
    "tags": []
   },
   "source": [
    "### set uncertainty to zero outside the mask"
   ]
  },
  {
   "cell_type": "code",
   "execution_count": 18,
   "id": "7a7d72f3-c767-41f8-a746-1d5d74471cdb",
   "metadata": {},
   "outputs": [],
   "source": [
    "def zero_outside_mask(img, mask):\n",
    "    img = img * torch.tensor(mask)\n",
    "    return img"
   ]
  },
  {
   "cell_type": "code",
   "execution_count": 19,
   "id": "45ba1f06-37aa-4f2f-bfc1-100430ea2616",
   "metadata": {},
   "outputs": [],
   "source": [
    "umap = zero_outside_mask(umap, mask)"
   ]
  },
  {
   "cell_type": "markdown",
   "id": "10bfd235-5964-46a2-8f02-4717efff1b1a",
   "metadata": {
    "tags": []
   },
   "source": [
    "### check that all the channels match up correctly"
   ]
  },
  {
   "cell_type": "code",
   "execution_count": 20,
   "id": "1bec6423-87d8-4055-978e-d72a88f13506",
   "metadata": {},
   "outputs": [
    {
     "name": "stderr",
     "output_type": "stream",
     "text": [
      "Clipping input data to the valid range for imshow with RGB data ([0..1] for floats or [0..255] for integers).\n"
     ]
    },
    {
     "data": {
      "text/plain": [
       "<matplotlib.image.AxesImage at 0x7f2aec32c880>"
      ]
     },
     "execution_count": 20,
     "metadata": {},
     "output_type": "execute_result"
    },
    {
     "data": {
      "image/png": "[encoded data removed]",
      "text/plain": [
       "<Figure size 1500x1000 with 3 Axes>"
      ]
     },
     "metadata": {},
     "output_type": "display_data"
    }
   ],
   "source": [
    "plt.figure(figsize=(15, 10))\n",
    "islice=36\n",
    "plt.subplot(1,3,1)\n",
    "plt.imshow(umap[islice])\n",
    "plt.subplot(1,3,2)\n",
    "plt.imshow(flair[islice])\n",
    "plt.subplot(1,3,3)\n",
    "zeros = torch.zeros(umap.shape[1], umap.shape[2], 3)\n",
    "zeros[:,:,1] = torch.tensor(flair[islice]) / 3\n",
    "zeros[:,:,2] = umap[islice] / umap.max()\n",
    "plt.imshow(zeros)"
   ]
  },
  {
   "cell_type": "markdown",
   "id": "cfd7edff-57e4-48aa-980e-f4bd1ff83614",
   "metadata": {
    "tags": []
   },
   "source": [
    "### convert image to nifti and set header to hold the correct space"
   ]
  },
  {
   "cell_type": "code",
   "execution_count": 21,
   "id": "b6b333e5-a56c-4519-b1e7-f36478999a18",
   "metadata": {},
   "outputs": [],
   "source": [
    "def convert_torch_to_nifti(img, spacing=(1.,1.,3.)):\n",
    "    nifti_img = sitk.GetImageFromArray(img.numpy())\n",
    "    nifti_img.SetSpacing(spacing)\n",
    "    \n",
    "    return nifti_img"
   ]
  },
  {
   "cell_type": "code",
   "execution_count": 22,
   "id": "aa4d140a-a4cf-4822-89de-8e3f468c4b89",
   "metadata": {},
   "outputs": [],
   "source": [
    "umap_nifti = convert_torch_to_nifti(umap)"
   ]
  },
  {
   "cell_type": "code",
   "execution_count": 23,
   "id": "cb3fe7a4-24d1-44bb-a806-3887b9a55eaa",
   "metadata": {},
   "outputs": [
    {
     "data": {
      "text/plain": [
       "(torch.Size([56, 240, 240]), (56, 240, 240))"
      ]
     },
     "execution_count": 23,
     "metadata": {},
     "output_type": "execute_result"
    }
   ],
   "source": [
    "umap.shape, flair.shape"
   ]
  },
  {
   "cell_type": "markdown",
   "id": "aa1ca831-e7e3-4ccf-a21e-30c7ad2c8955",
   "metadata": {
    "tags": []
   },
   "source": [
    "### loading original image to find out it's spacing and shape"
   ]
  },
  {
   "cell_type": "code",
   "execution_count": 24,
   "id": "9cd3a1b4-e2eb-42c9-8d36-c24df6b1e333",
   "metadata": {},
   "outputs": [],
   "source": [
    "orig_folder = \"/home/s2208943/ipdis/data/core_data/EdData/\""
   ]
  },
  {
   "cell_type": "code",
   "execution_count": 25,
   "id": "42bae29e-9a44-450e-9736-723b6f0a3178",
   "metadata": {},
   "outputs": [],
   "source": [
    "def load_orig_image(img_id):\n",
    "    fp = orig_folder + img_id + \"/MRI/FLAIR.nii.gz\"\n",
    "    return sitk.ReadImage(fp)"
   ]
  },
  {
   "cell_type": "code",
   "execution_count": 26,
   "id": "a5ea6a0b-538d-4f3c-b74f-a5dec2aa1547",
   "metadata": {},
   "outputs": [],
   "source": [
    "orig_flair = load_orig_image(umap_id)"
   ]
  },
  {
   "cell_type": "code",
   "execution_count": 27,
   "id": "51fa8af0-865d-4371-a899-297402598e00",
   "metadata": {},
   "outputs": [
    {
     "data": {
      "text/plain": [
       "(0.9375, 0.9375, 4.0)"
      ]
     },
     "execution_count": 27,
     "metadata": {},
     "output_type": "execute_result"
    }
   ],
   "source": [
    "orig_flair.GetSpacing()"
   ]
  },
  {
   "cell_type": "markdown",
   "id": "6b057a92-d05e-4ff6-8cba-9686bbfe34d6",
   "metadata": {
    "tags": []
   },
   "source": [
    "### resample the nifti umap back to the space of the original flair\n",
    "\n",
    "it is ***very important*** that is_label is on, otherwise the resampling process yields values that are incorrect (outside the 0 to max ent range that the umap is constrained to)"
   ]
  },
  {
   "cell_type": "code",
   "execution_count": 28,
   "id": "1d343ad0-6fb2-4b9f-a453-bbf00f401169",
   "metadata": {},
   "outputs": [
    {
     "name": "stdout",
     "output_type": "stream",
     "text": [
      "original spacing:  (1.0, 1.0, 3.0)\n"
     ]
    }
   ],
   "source": [
    "resampled_umap_nifti = get_resampled_img(umap_nifti, out_spacing=orig_flair.GetSpacing(), original_spacing=umap_nifti.GetSpacing(), is_label=True)"
   ]
  },
  {
   "cell_type": "code",
   "execution_count": 29,
   "id": "b19af689-2039-43b8-9ef9-4aa8fde6ab4c",
   "metadata": {},
   "outputs": [
    {
     "name": "stdout",
     "output_type": "stream",
     "text": [
      "Help on function get_resampled_img in module twaidata.MRI_preprep.resample:\n",
      "\n",
      "get_resampled_img(itk_image, out_spacing=[2.0, 2.0, 2.0], original_spacing=[1.0, 1.0, 3.0], is_label=False)\n",
      "    # resamples an image\n",
      "\n"
     ]
    }
   ],
   "source": [
    "help(get_resampled_img)"
   ]
  },
  {
   "cell_type": "code",
   "execution_count": 30,
   "id": "2216ef8e-e9bd-4814-b923-94bcc1d1bc8e",
   "metadata": {},
   "outputs": [],
   "source": [
    "resampled_umap = torch.tensor(sitk.GetArrayFromImage(resampled_umap_nifti).astype(np.float32))"
   ]
  },
  {
   "cell_type": "code",
   "execution_count": 31,
   "id": "91814877-89ad-4fc7-90f1-aa62f0acd6b3",
   "metadata": {},
   "outputs": [
    {
     "data": {
      "text/plain": [
       "torch.Size([42, 256, 256])"
      ]
     },
     "execution_count": 31,
     "metadata": {},
     "output_type": "execute_result"
    }
   ],
   "source": [
    "resampled_umap.shape"
   ]
  },
  {
   "cell_type": "markdown",
   "id": "fed418c4-c1c8-4d0b-b07c-97e675360f78",
   "metadata": {
    "tags": []
   },
   "source": [
    "### multiply by the mask in the original space to deal with resampling errors"
   ]
  },
  {
   "cell_type": "code",
   "execution_count": 32,
   "id": "a6d6bfb3-2612-4241-bc91-5b0c4ae3cfb7",
   "metadata": {},
   "outputs": [],
   "source": [
    "def load_orig_mask(img_id):\n",
    "    fp = orig_folder + img_id + \"/masks/ICV.nii.gz\"\n",
    "    return sitk.GetArrayFromImage(sitk.ReadImage(fp)).astype(np.float32)"
   ]
  },
  {
   "cell_type": "code",
   "execution_count": 33,
   "id": "28381b6d-ac74-4a4d-a2a7-88cc3b02e9a7",
   "metadata": {},
   "outputs": [],
   "source": [
    "# orig_mask = load_orig_mask(umap_id)"
   ]
  },
  {
   "cell_type": "code",
   "execution_count": 34,
   "id": "8b89e789-b5ce-454d-b137-838f128b59fd",
   "metadata": {},
   "outputs": [],
   "source": [
    "# plt.imshow(orig_mask[29])"
   ]
  },
  {
   "cell_type": "code",
   "execution_count": 35,
   "id": "34ea6824-0a23-4187-ad58-61b80a0ee5d7",
   "metadata": {},
   "outputs": [],
   "source": [
    "def multiply_by_orig_mask(resampled_umap, img_id):\n",
    "    orig_mask = load_orig_mask(umap_id)\n",
    "    resampled_umap = resampled_umap * torch.tensor(orig_mask)\n",
    "    return resampled_umap"
   ]
  },
  {
   "cell_type": "code",
   "execution_count": 36,
   "id": "2ab5d6ab-0023-4722-b81b-0e6b88b9a3cb",
   "metadata": {},
   "outputs": [],
   "source": [
    "resampled_umap = multiply_by_orig_mask(resampled_umap, umap_id)"
   ]
  },
  {
   "cell_type": "markdown",
   "id": "52e1250e-aece-4b6b-aa4a-3aacc8d8a05b",
   "metadata": {
    "tags": []
   },
   "source": [
    "### check that the resampled image maps up correctly"
   ]
  },
  {
   "cell_type": "code",
   "execution_count": 37,
   "id": "bf6ef3c0-c049-4a91-bc97-e374982b196d",
   "metadata": {},
   "outputs": [
    {
     "data": {
      "text/plain": [
       "torch.Size([42, 256, 256])"
      ]
     },
     "execution_count": 37,
     "metadata": {},
     "output_type": "execute_result"
    }
   ],
   "source": [
    "resampled_umap.shape"
   ]
  },
  {
   "cell_type": "code",
   "execution_count": 38,
   "id": "82fcd4de-0926-44ce-94eb-513d6d2cc09e",
   "metadata": {},
   "outputs": [
    {
     "name": "stderr",
     "output_type": "stream",
     "text": [
      "Clipping input data to the valid range for imshow with RGB data ([0..1] for floats or [0..255] for integers).\n"
     ]
    },
    {
     "data": {
      "text/plain": [
       "<matplotlib.colorbar.Colorbar at 0x7f2aecc1d990>"
      ]
     },
     "execution_count": 38,
     "metadata": {},
     "output_type": "execute_result"
    },
    {
     "data": {
      "image/png": "[encoded data removed]",
      "text/plain": [
       "<Figure size 1500x1000 with 6 Axes>"
      ]
     },
     "metadata": {},
     "output_type": "display_data"
    }
   ],
   "source": [
    "plt.figure(figsize=(15, 10))\n",
    "islice=28\n",
    "orig_flair_numpy = sitk.GetArrayFromImage(orig_flair)\n",
    "plt.subplot(1,3,1)\n",
    "plt.imshow(resampled_umap[islice]); plt.colorbar(location=\"bottom\")\n",
    "plt.subplot(1,3,2)\n",
    "plt.imshow(orig_flair_numpy[islice]); plt.colorbar(location=\"bottom\")\n",
    "plt.subplot(1,3,3)\n",
    "zeros = torch.zeros(resampled_umap.shape[1], resampled_umap.shape[2], 3)\n",
    "zeros[:,:,1] = torch.tensor(orig_flair_numpy[islice]) / 2500\n",
    "zeros[:,:,2] = resampled_umap[islice] / 0.69\n",
    "plt.imshow(zeros); plt.colorbar(location=\"bottom\")"
   ]
  },
  {
   "cell_type": "code",
   "execution_count": 39,
   "id": "679be9b7-c736-4aed-aeee-a63f9b11bdc5",
   "metadata": {},
   "outputs": [],
   "source": [
    "assert orig_flair_numpy.shape[0] == resampled_umap.shape[0]\n",
    "assert orig_flair_numpy.shape[1] == resampled_umap.shape[1]\n",
    "assert orig_flair_numpy.shape[2] == resampled_umap.shape[2]"
   ]
  },
  {
   "cell_type": "markdown",
   "id": "5362c97a-26f4-4a8a-8890-80e0f6c2d851",
   "metadata": {
    "tags": []
   },
   "source": [
    "### convert the resampled image to int16 (skipped now)"
   ]
  },
  {
   "cell_type": "code",
   "execution_count": 40,
   "id": "b58f36d1-12dc-4719-97a6-86cd5ddb71d7",
   "metadata": {},
   "outputs": [],
   "source": [
    "# umap.max(), resampled_umap.max(), -torch.log(torch.tensor(1/2)).item(), umap.max() / -torch.log(torch.tensor(1/2)).item()"
   ]
  },
  {
   "cell_type": "code",
   "execution_count": 41,
   "id": "57eacfe7-fde4-4f28-9e33-a58dae887641",
   "metadata": {},
   "outputs": [],
   "source": [
    "# ent_max = -torch.log(torch.tensor(1/2)).item()\n",
    "# resampled_umap = resampled_umap / ent_max\n",
    "# resampled_umap = resampled_umap * 32767"
   ]
  },
  {
   "cell_type": "code",
   "execution_count": 42,
   "id": "2e5b751a-5e63-4205-972b-c8ea3a6323be",
   "metadata": {},
   "outputs": [],
   "source": [
    "# resampled_umap_inty = resampled_umap.type(torch.int32)"
   ]
  },
  {
   "cell_type": "code",
   "execution_count": 43,
   "id": "4fd8e7cb-6808-4fe4-813a-a5346118c28c",
   "metadata": {},
   "outputs": [],
   "source": [
    "# plt.imshow(resampled_umap_inty[27]); plt.colorbar()"
   ]
  },
  {
   "cell_type": "markdown",
   "id": "6dced35b-4f28-474c-82eb-0bddff66b058",
   "metadata": {
    "tags": []
   },
   "source": [
    "### save the file, along with the correct header"
   ]
  },
  {
   "cell_type": "code",
   "execution_count": 44,
   "id": "17bdd904-d64a-4ad7-8583-f0ad5ece4b50",
   "metadata": {},
   "outputs": [
    {
     "data": {
      "text/plain": [
       "'CVD103'"
      ]
     },
     "execution_count": 44,
     "metadata": {},
     "output_type": "execute_result"
    }
   ],
   "source": [
    "umap_id"
   ]
  },
  {
   "cell_type": "code",
   "execution_count": 45,
   "id": "19aa6e9a-5404-4dbf-826f-8c0a3a3b4fd2",
   "metadata": {},
   "outputs": [],
   "source": [
    "def convert_dtype_and_save(resampled_umap, orig_flair, umap_id, save_location=\"/home/s2208943/ipdis/data/preprocessed_data/orig_space_EdData_umaps/SSN_Ens/\"):\n",
    "    # convert to int16\n",
    "    ent_max = -torch.log(torch.tensor(1/2)).item()\n",
    "    resampled_umap = resampled_umap / ent_max\n",
    "    # resampled_umap = resampled_umap * 32767\n",
    "    # resampled_umap_inty = resampled_umap\n",
    "    # resampled_umap = resampled_umap.type(torch.int32)\n",
    "    resampled_umap = resampled_umap.numpy()\n",
    "    new_img = sitk.GetImageFromArray(resampled_umap)\n",
    "\n",
    "    new_img.SetDirection(orig_flair.GetDirection())\n",
    "    #print(new_img.GetSpacing())\n",
    "\n",
    "    \n",
    "    save_path = f\"{save_location}{umap_id}_umap.nii.gz\"\n",
    "    sitk.WriteImage(new_img, save_path)\n",
    "\n",
    "    # adjust the nifti file fields\n",
    "    nib_flair = nib.load(orig_folder + umap_id + \"/MRI/FLAIR.nii.gz\")\n",
    "    new_img = nib.load(save_path)\n",
    "    new_img = nib.nifti1.Nifti1Image(new_img.dataobj[:], nib_flair.affine, nib_flair.header)\n",
    "    \n",
    "    # set the min and max values so that the uncertainty maps appear correctly in MRI-CRON.\n",
    "    new_img.header['cal_max'] = 1#32767\n",
    "    new_img.header['cal_min'] = 0\n",
    "    new_img.set_data_dtype(np.float32) # the original flair is int16 but ive scaled my uncertainty 0-1.\n",
    "\n",
    "    # the one line above does all of the below, and fixes pixdim4\n",
    "    #new_img.header.set_xyzt_units(*flair.header.get_xyzt_units())\n",
    "    # new_img.set_sform(flair.get_sform())\n",
    "    # new_img.set_qform(flair.get_qform())\n",
    "\n",
    "    nib.save(new_img, save_path)"
   ]
  },
  {
   "cell_type": "code",
   "execution_count": 46,
   "id": "ba06342b-879b-46cb-8617-b57488923c7b",
   "metadata": {},
   "outputs": [],
   "source": [
    "convert_dtype_and_save(resampled_umap, orig_flair, umap_id, save_location=\"./\")"
   ]
  },
  {
   "cell_type": "code",
   "execution_count": 47,
   "id": "3d51861f-1499-42b9-b8d9-e683d451f00f",
   "metadata": {},
   "outputs": [],
   "source": [
    "result_umap = sitk.ReadImage(\"./CVD103_umap.nii.gz\")"
   ]
  },
  {
   "cell_type": "code",
   "execution_count": 48,
   "id": "404cdc3b-1217-4ddf-87e3-f8548063fc86",
   "metadata": {},
   "outputs": [],
   "source": [
    "result_umap_arr = sitk.GetArrayFromImage(result_umap)"
   ]
  },
  {
   "cell_type": "code",
   "execution_count": 49,
   "id": "d8a72bf5-5f72-46c2-8254-7a269a90f9e7",
   "metadata": {},
   "outputs": [
    {
     "data": {
      "text/plain": [
       "dtype('float32')"
      ]
     },
     "execution_count": 49,
     "metadata": {},
     "output_type": "execute_result"
    }
   ],
   "source": [
    "result_umap_arr.dtype"
   ]
  },
  {
   "cell_type": "code",
   "execution_count": 50,
   "id": "b2f596b7-d80f-41fa-b0b1-a3ae371e8bc2",
   "metadata": {},
   "outputs": [
    {
     "data": {
      "text/plain": [
       "tensor(0.6931)"
      ]
     },
     "execution_count": 50,
     "metadata": {},
     "output_type": "execute_result"
    }
   ],
   "source": [
    "resampled_umap.max()"
   ]
  },
  {
   "cell_type": "code",
   "execution_count": 51,
   "id": "09c3f2e3-11e0-4149-9c9e-34066b522178",
   "metadata": {},
   "outputs": [
    {
     "data": {
      "text/plain": [
       "1.0"
      ]
     },
     "execution_count": 51,
     "metadata": {},
     "output_type": "execute_result"
    }
   ],
   "source": [
    "result_umap_arr.max()"
   ]
  },
  {
   "cell_type": "code",
   "execution_count": 52,
   "id": "3c256579-16a5-425a-a77e-716942f81b85",
   "metadata": {},
   "outputs": [
    {
     "data": {
      "text/plain": [
       "<matplotlib.colorbar.Colorbar at 0x7f299e67bc10>"
      ]
     },
     "execution_count": 52,
     "metadata": {},
     "output_type": "execute_result"
    },
    {
     "data": {
      "image/png": "[encoded data removed]",
      "text/plain": [
       "<Figure size 640x480 with 2 Axes>"
      ]
     },
     "metadata": {},
     "output_type": "display_data"
    }
   ],
   "source": [
    "plt.imshow(result_umap_arr[26]); plt.colorbar(location='bottom')"
   ]
  },
  {
   "cell_type": "markdown",
   "id": "c72630e6-fca5-489a-bab0-fcf02c67582a",
   "metadata": {},
   "source": [
    "### Putting the whole loop together"
   ]
  },
  {
   "cell_type": "code",
   "execution_count": 53,
   "id": "5926d49c-6afc-4c1c-9e82-cf408618154c",
   "metadata": {},
   "outputs": [
    {
     "name": "stderr",
     "output_type": "stream",
     "text": [
      "  0%|                                                                                                                                                                 | 0/250 [00:00<?, ?it/s]"
     ]
    },
    {
     "name": "stdout",
     "output_type": "stream",
     "text": [
      "CVD152\n",
      "original spacing:  (1.0, 1.0, 3.0)\n"
     ]
    },
    {
     "name": "stderr",
     "output_type": "stream",
     "text": [
      "  0%|▌                                                                                                                                                        | 1/250 [00:00<02:42,  1.53it/s]"
     ]
    },
    {
     "name": "stdout",
     "output_type": "stream",
     "text": [
      "CVD023\n",
      "original spacing:  (1.0, 1.0, 3.0)\n"
     ]
    },
    {
     "name": "stderr",
     "output_type": "stream",
     "text": [
      "  1%|█▏                                                                                                                                                       | 2/250 [00:01<02:39,  1.56it/s]"
     ]
    },
    {
     "name": "stdout",
     "output_type": "stream",
     "text": [
      "CVD008\n",
      "original spacing:  (1.0, 1.0, 3.0)\n"
     ]
    },
    {
     "name": "stderr",
     "output_type": "stream",
     "text": [
      "  1%|█▊                                                                                                                                                       | 3/250 [00:01<02:38,  1.56it/s]"
     ]
    },
    {
     "name": "stdout",
     "output_type": "stream",
     "text": [
      "CVD141\n",
      "original spacing:  (1.0, 1.0, 3.0)\n"
     ]
    },
    {
     "name": "stderr",
     "output_type": "stream",
     "text": [
      "  2%|██▍                                                                                                                                                      | 4/250 [00:02<02:46,  1.47it/s]"
     ]
    },
    {
     "name": "stdout",
     "output_type": "stream",
     "text": [
      "CVD041\n",
      "original spacing:  (1.0, 1.0, 3.0)\n"
     ]
    },
    {
     "name": "stderr",
     "output_type": "stream",
     "text": [
      "  2%|███                                                                                                                                                      | 5/250 [00:03<02:44,  1.49it/s]"
     ]
    },
    {
     "name": "stdout",
     "output_type": "stream",
     "text": [
      "CVD102\n",
      "original spacing:  (1.0, 1.0, 3.0)\n"
     ]
    },
    {
     "name": "stderr",
     "output_type": "stream",
     "text": [
      "  2%|███▋                                                                                                                                                     | 6/250 [00:03<02:40,  1.52it/s]"
     ]
    },
    {
     "name": "stdout",
     "output_type": "stream",
     "text": [
      "CVD143\n",
      "original spacing:  (1.0, 1.0, 3.0)\n"
     ]
    },
    {
     "name": "stderr",
     "output_type": "stream",
     "text": [
      "  3%|████▎                                                                                                                                                    | 7/250 [00:04<02:39,  1.52it/s]"
     ]
    },
    {
     "name": "stdout",
     "output_type": "stream",
     "text": [
      "CVD100\n",
      "original spacing:  (1.0, 1.0, 3.0)\n"
     ]
    },
    {
     "name": "stderr",
     "output_type": "stream",
     "text": [
      "  3%|████▉                                                                                                                                                    | 8/250 [00:05<02:37,  1.54it/s]"
     ]
    },
    {
     "name": "stdout",
     "output_type": "stream",
     "text": [
      "CVD052\n",
      "original spacing:  (1.0, 1.0, 3.0)\n"
     ]
    },
    {
     "name": "stderr",
     "output_type": "stream",
     "text": [
      "  4%|█████▌                                                                                                                                                   | 9/250 [00:05<02:34,  1.56it/s]"
     ]
    },
    {
     "name": "stdout",
     "output_type": "stream",
     "text": [
      "CVD188\n",
      "original spacing:  (1.0, 1.0, 3.0)\n"
     ]
    },
    {
     "name": "stderr",
     "output_type": "stream",
     "text": [
      "  4%|██████                                                                                                                                                  | 10/250 [00:07<03:53,  1.03it/s]"
     ]
    },
    {
     "name": "stdout",
     "output_type": "stream",
     "text": [
      "CVD117\n",
      "original spacing:  (1.0, 1.0, 3.0)\n"
     ]
    },
    {
     "name": "stderr",
     "output_type": "stream",
     "text": [
      "  4%|██████▋                                                                                                                                                 | 11/250 [00:09<04:45,  1.20s/it]"
     ]
    },
    {
     "name": "stdout",
     "output_type": "stream",
     "text": [
      "CVD065\n",
      "original spacing:  (1.0, 1.0, 3.0)\n"
     ]
    },
    {
     "name": "stderr",
     "output_type": "stream",
     "text": [
      "  5%|███████▎                                                                                                                                                | 12/250 [00:11<05:24,  1.36s/it]"
     ]
    },
    {
     "name": "stdout",
     "output_type": "stream",
     "text": [
      "CVD075\n",
      "original spacing:  (1.0, 1.0, 3.0)\n"
     ]
    },
    {
     "name": "stderr",
     "output_type": "stream",
     "text": [
      "  5%|███████▉                                                                                                                                                | 13/250 [00:12<06:03,  1.53s/it]"
     ]
    },
    {
     "name": "stdout",
     "output_type": "stream",
     "text": [
      "CVD158\n",
      "original spacing:  (1.0, 1.0, 3.0)\n"
     ]
    },
    {
     "name": "stderr",
     "output_type": "stream",
     "text": [
      "  6%|████████▌                                                                                                                                               | 14/250 [00:15<07:29,  1.90s/it]"
     ]
    },
    {
     "name": "stdout",
     "output_type": "stream",
     "text": [
      "CVD206\n",
      "original spacing:  (1.0, 1.0, 3.0)\n"
     ]
    },
    {
     "name": "stderr",
     "output_type": "stream",
     "text": [
      "  6%|█████████                                                                                                                                               | 15/250 [00:17<07:17,  1.86s/it]"
     ]
    },
    {
     "name": "stdout",
     "output_type": "stream",
     "text": [
      "CVD226\n",
      "original spacing:  (1.0, 1.0, 3.0)\n"
     ]
    },
    {
     "name": "stderr",
     "output_type": "stream",
     "text": [
      "  6%|█████████▋                                                                                                                                              | 16/250 [00:18<06:37,  1.70s/it]"
     ]
    },
    {
     "name": "stdout",
     "output_type": "stream",
     "text": [
      "CVD013\n",
      "original spacing:  (1.0, 1.0, 3.0)\n"
     ]
    },
    {
     "name": "stderr",
     "output_type": "stream",
     "text": [
      "  7%|██████████▎                                                                                                                                             | 17/250 [00:20<06:06,  1.58s/it]"
     ]
    },
    {
     "name": "stdout",
     "output_type": "stream",
     "text": [
      "CVD061\n",
      "original spacing:  (1.0, 1.0, 3.0)\n"
     ]
    },
    {
     "name": "stderr",
     "output_type": "stream",
     "text": [
      "  7%|██████████▉                                                                                                                                             | 18/250 [00:21<05:49,  1.51s/it]"
     ]
    },
    {
     "name": "stdout",
     "output_type": "stream",
     "text": [
      "CVD146\n",
      "original spacing:  (1.0, 1.0, 3.0)\n"
     ]
    },
    {
     "name": "stderr",
     "output_type": "stream",
     "text": [
      "  8%|███████████▌                                                                                                                                            | 19/250 [00:22<05:40,  1.48s/it]"
     ]
    },
    {
     "name": "stdout",
     "output_type": "stream",
     "text": [
      "CVD019\n",
      "original spacing:  (1.0, 1.0, 3.0)\n"
     ]
    },
    {
     "name": "stderr",
     "output_type": "stream",
     "text": [
      "  8%|████████████▏                                                                                                                                           | 20/250 [00:24<05:33,  1.45s/it]"
     ]
    },
    {
     "name": "stdout",
     "output_type": "stream",
     "text": [
      "CVD043\n",
      "original spacing:  (1.0, 1.0, 3.0)\n"
     ]
    },
    {
     "name": "stderr",
     "output_type": "stream",
     "text": [
      "  8%|████████████▊                                                                                                                                           | 21/250 [00:25<05:17,  1.39s/it]"
     ]
    },
    {
     "name": "stdout",
     "output_type": "stream",
     "text": [
      "CVD001\n",
      "original spacing:  (1.0, 1.0, 3.0)\n"
     ]
    },
    {
     "name": "stderr",
     "output_type": "stream",
     "text": [
      "  9%|█████████████▍                                                                                                                                          | 22/250 [00:26<05:14,  1.38s/it]"
     ]
    },
    {
     "name": "stdout",
     "output_type": "stream",
     "text": [
      "CVD025\n",
      "original spacing:  (1.0, 1.0, 3.0)\n"
     ]
    },
    {
     "name": "stderr",
     "output_type": "stream",
     "text": [
      "  9%|█████████████▉                                                                                                                                          | 23/250 [00:27<04:58,  1.32s/it]"
     ]
    },
    {
     "name": "stdout",
     "output_type": "stream",
     "text": [
      "CVD208\n",
      "original spacing:  (1.0, 1.0, 3.0)\n"
     ]
    },
    {
     "name": "stderr",
     "output_type": "stream",
     "text": [
      " 10%|██████████████▌                                                                                                                                         | 24/250 [00:28<04:32,  1.21s/it]"
     ]
    },
    {
     "name": "stdout",
     "output_type": "stream",
     "text": [
      "CVD104\n",
      "original spacing:  (1.0, 1.0, 3.0)\n"
     ]
    },
    {
     "name": "stderr",
     "output_type": "stream",
     "text": [
      " 10%|███████████████▏                                                                                                                                        | 25/250 [00:29<03:58,  1.06s/it]"
     ]
    },
    {
     "name": "stdout",
     "output_type": "stream",
     "text": [
      "CVD292\n",
      "original spacing:  (1.0, 1.0, 3.0)\n"
     ]
    },
    {
     "name": "stderr",
     "output_type": "stream",
     "text": [
      " 10%|███████████████▊                                                                                                                                        | 26/250 [00:30<03:26,  1.09it/s]"
     ]
    },
    {
     "name": "stdout",
     "output_type": "stream",
     "text": [
      "CVD315\n",
      "original spacing:  (1.0, 1.0, 3.0)\n"
     ]
    },
    {
     "name": "stderr",
     "output_type": "stream",
     "text": [
      " 11%|████████████████▍                                                                                                                                       | 27/250 [00:30<03:10,  1.17it/s]"
     ]
    },
    {
     "name": "stdout",
     "output_type": "stream",
     "text": [
      "CVD320\n",
      "original spacing:  (1.0, 1.0, 3.0)\n"
     ]
    },
    {
     "name": "stderr",
     "output_type": "stream",
     "text": [
      " 11%|█████████████████                                                                                                                                       | 28/250 [00:31<03:01,  1.23it/s]"
     ]
    },
    {
     "name": "stdout",
     "output_type": "stream",
     "text": [
      "CVD271\n",
      "original spacing:  (1.0, 1.0, 3.0)\n"
     ]
    },
    {
     "name": "stderr",
     "output_type": "stream",
     "text": [
      " 12%|█████████████████▋                                                                                                                                      | 29/250 [00:32<02:52,  1.28it/s]"
     ]
    },
    {
     "name": "stdout",
     "output_type": "stream",
     "text": [
      "CVD269\n",
      "original spacing:  (1.0, 1.0, 3.0)\n"
     ]
    },
    {
     "name": "stderr",
     "output_type": "stream",
     "text": [
      " 12%|██████████████████▏                                                                                                                                     | 30/250 [00:33<02:45,  1.33it/s]"
     ]
    },
    {
     "name": "stdout",
     "output_type": "stream",
     "text": [
      "CVD126\n",
      "original spacing:  (1.0, 1.0, 3.0)\n"
     ]
    },
    {
     "name": "stderr",
     "output_type": "stream",
     "text": [
      " 12%|██████████████████▊                                                                                                                                     | 31/250 [00:33<02:42,  1.35it/s]"
     ]
    },
    {
     "name": "stdout",
     "output_type": "stream",
     "text": [
      "CVD317\n",
      "original spacing:  (1.0, 1.0, 3.0)\n"
     ]
    },
    {
     "name": "stderr",
     "output_type": "stream",
     "text": [
      " 13%|███████████████████▍                                                                                                                                    | 32/250 [00:34<02:37,  1.39it/s]"
     ]
    },
    {
     "name": "stdout",
     "output_type": "stream",
     "text": [
      "CVD277\n",
      "original spacing:  (1.0, 1.0, 3.0)\n"
     ]
    },
    {
     "name": "stderr",
     "output_type": "stream",
     "text": [
      " 13%|████████████████████                                                                                                                                    | 33/250 [00:35<02:31,  1.43it/s]"
     ]
    },
    {
     "name": "stdout",
     "output_type": "stream",
     "text": [
      "CVD036\n",
      "original spacing:  (1.0, 1.0, 3.0)\n"
     ]
    },
    {
     "name": "stderr",
     "output_type": "stream",
     "text": [
      " 14%|████████████████████▋                                                                                                                                   | 34/250 [00:35<02:32,  1.42it/s]"
     ]
    },
    {
     "name": "stdout",
     "output_type": "stream",
     "text": [
      "CVD257\n",
      "original spacing:  (1.0, 1.0, 3.0)\n"
     ]
    },
    {
     "name": "stderr",
     "output_type": "stream",
     "text": [
      " 14%|█████████████████████▎                                                                                                                                  | 35/250 [00:36<02:33,  1.40it/s]"
     ]
    },
    {
     "name": "stdout",
     "output_type": "stream",
     "text": [
      "CVD278\n",
      "original spacing:  (1.0, 1.0, 3.0)\n"
     ]
    },
    {
     "name": "stderr",
     "output_type": "stream",
     "text": [
      " 14%|█████████████████████▉                                                                                                                                  | 36/250 [00:37<02:34,  1.39it/s]"
     ]
    },
    {
     "name": "stdout",
     "output_type": "stream",
     "text": [
      "CVD049\n",
      "original spacing:  (1.0, 1.0, 3.0)\n"
     ]
    },
    {
     "name": "stderr",
     "output_type": "stream",
     "text": [
      " 15%|██████████████████████▍                                                                                                                                 | 37/250 [00:38<02:36,  1.36it/s]"
     ]
    },
    {
     "name": "stdout",
     "output_type": "stream",
     "text": [
      "CVD266\n",
      "original spacing:  (1.0, 1.0, 3.0)\n"
     ]
    },
    {
     "name": "stderr",
     "output_type": "stream",
     "text": [
      " 15%|███████████████████████                                                                                                                                 | 38/250 [00:38<02:32,  1.39it/s]"
     ]
    },
    {
     "name": "stdout",
     "output_type": "stream",
     "text": [
      "CVD273\n",
      "original spacing:  (1.0, 1.0, 3.0)\n"
     ]
    },
    {
     "name": "stderr",
     "output_type": "stream",
     "text": [
      " 16%|███████████████████████▋                                                                                                                                | 39/250 [00:39<02:29,  1.41it/s]"
     ]
    },
    {
     "name": "stdout",
     "output_type": "stream",
     "text": [
      "CVD233\n",
      "original spacing:  (1.0, 1.0, 3.0)\n"
     ]
    },
    {
     "name": "stderr",
     "output_type": "stream",
     "text": [
      " 16%|████████████████████████▎                                                                                                                               | 40/250 [00:40<02:30,  1.40it/s]"
     ]
    },
    {
     "name": "stdout",
     "output_type": "stream",
     "text": [
      "CVD089\n",
      "original spacing:  (1.0, 1.0, 3.0)\n"
     ]
    },
    {
     "name": "stderr",
     "output_type": "stream",
     "text": [
      " 16%|████████████████████████▉                                                                                                                               | 41/250 [00:40<02:32,  1.37it/s]"
     ]
    },
    {
     "name": "stdout",
     "output_type": "stream",
     "text": [
      "CVD263\n",
      "original spacing:  (1.0, 1.0, 3.0)\n"
     ]
    },
    {
     "name": "stderr",
     "output_type": "stream",
     "text": [
      " 17%|█████████████████████████▌                                                                                                                              | 42/250 [00:41<02:31,  1.38it/s]"
     ]
    },
    {
     "name": "stdout",
     "output_type": "stream",
     "text": [
      "CVD229\n",
      "original spacing:  (1.0, 1.0, 3.0)\n"
     ]
    },
    {
     "name": "stderr",
     "output_type": "stream",
     "text": [
      " 17%|██████████████████████████▏                                                                                                                             | 43/250 [00:42<02:27,  1.41it/s]"
     ]
    },
    {
     "name": "stdout",
     "output_type": "stream",
     "text": [
      "CVD181\n",
      "original spacing:  (1.0, 1.0, 3.0)\n"
     ]
    },
    {
     "name": "stderr",
     "output_type": "stream",
     "text": [
      " 18%|██████████████████████████▊                                                                                                                             | 44/250 [00:42<02:21,  1.46it/s]"
     ]
    },
    {
     "name": "stdout",
     "output_type": "stream",
     "text": [
      "CVD231\n",
      "original spacing:  (1.0, 1.0, 3.0)\n"
     ]
    },
    {
     "name": "stderr",
     "output_type": "stream",
     "text": [
      " 18%|███████████████████████████▎                                                                                                                            | 45/250 [00:43<02:16,  1.50it/s]"
     ]
    },
    {
     "name": "stdout",
     "output_type": "stream",
     "text": [
      "CVD192\n",
      "original spacing:  (1.0, 1.0, 3.0)\n"
     ]
    },
    {
     "name": "stderr",
     "output_type": "stream",
     "text": [
      " 18%|███████████████████████████▉                                                                                                                            | 46/250 [00:44<02:14,  1.52it/s]"
     ]
    },
    {
     "name": "stdout",
     "output_type": "stream",
     "text": [
      "CVD195\n",
      "original spacing:  (1.0, 1.0, 3.0)\n"
     ]
    },
    {
     "name": "stderr",
     "output_type": "stream",
     "text": [
      " 19%|████████████████████████████▌                                                                                                                           | 47/250 [00:44<02:13,  1.52it/s]"
     ]
    },
    {
     "name": "stdout",
     "output_type": "stream",
     "text": [
      "CVD056\n",
      "original spacing:  (1.0, 1.0, 3.0)\n"
     ]
    },
    {
     "name": "stderr",
     "output_type": "stream",
     "text": [
      " 19%|█████████████████████████████▏                                                                                                                          | 48/250 [00:45<02:11,  1.53it/s]"
     ]
    },
    {
     "name": "stdout",
     "output_type": "stream",
     "text": [
      "CVD035\n",
      "original spacing:  (1.0, 1.0, 3.0)\n"
     ]
    },
    {
     "name": "stderr",
     "output_type": "stream",
     "text": [
      " 20%|█████████████████████████████▊                                                                                                                          | 49/250 [00:46<02:10,  1.54it/s]"
     ]
    },
    {
     "name": "stdout",
     "output_type": "stream",
     "text": [
      "CVD245\n",
      "original spacing:  (1.0, 1.0, 3.0)\n"
     ]
    },
    {
     "name": "stderr",
     "output_type": "stream",
     "text": [
      " 20%|██████████████████████████████▍                                                                                                                         | 50/250 [00:46<02:09,  1.55it/s]"
     ]
    },
    {
     "name": "stdout",
     "output_type": "stream",
     "text": [
      "CVD145\n",
      "original spacing:  (1.0, 1.0, 3.0)\n"
     ]
    },
    {
     "name": "stderr",
     "output_type": "stream",
     "text": [
      " 20%|███████████████████████████████                                                                                                                         | 51/250 [00:47<02:04,  1.60it/s]"
     ]
    },
    {
     "name": "stdout",
     "output_type": "stream",
     "text": [
      "CVD078\n",
      "original spacing:  (1.0, 1.0, 3.0)\n"
     ]
    },
    {
     "name": "stderr",
     "output_type": "stream",
     "text": [
      " 21%|███████████████████████████████▌                                                                                                                        | 52/250 [00:48<02:55,  1.13it/s]"
     ]
    },
    {
     "name": "stdout",
     "output_type": "stream",
     "text": [
      "CVD073\n",
      "original spacing:  (1.0, 1.0, 3.0)\n"
     ]
    },
    {
     "name": "stderr",
     "output_type": "stream",
     "text": [
      " 21%|████████████████████████████████▏                                                                                                                       | 53/250 [00:50<03:30,  1.07s/it]"
     ]
    },
    {
     "name": "stdout",
     "output_type": "stream",
     "text": [
      "CVD004\n",
      "original spacing:  (1.0, 1.0, 3.0)\n"
     ]
    },
    {
     "name": "stderr",
     "output_type": "stream",
     "text": [
      " 22%|████████████████████████████████▊                                                                                                                       | 54/250 [00:51<03:57,  1.21s/it]"
     ]
    },
    {
     "name": "stdout",
     "output_type": "stream",
     "text": [
      "CVD127\n",
      "original spacing:  (1.0, 1.0, 3.0)\n"
     ]
    },
    {
     "name": "stderr",
     "output_type": "stream",
     "text": [
      " 22%|█████████████████████████████████▍                                                                                                                      | 55/250 [00:53<04:16,  1.31s/it]"
     ]
    },
    {
     "name": "stdout",
     "output_type": "stream",
     "text": [
      "CVD121\n",
      "original spacing:  (1.0, 1.0, 3.0)\n"
     ]
    },
    {
     "name": "stderr",
     "output_type": "stream",
     "text": [
      " 22%|██████████████████████████████████                                                                                                                      | 56/250 [00:54<04:26,  1.37s/it]"
     ]
    },
    {
     "name": "stdout",
     "output_type": "stream",
     "text": [
      "CVD133\n",
      "original spacing:  (1.0, 1.0, 3.0)\n"
     ]
    },
    {
     "name": "stderr",
     "output_type": "stream",
     "text": [
      " 23%|██████████████████████████████████▋                                                                                                                     | 57/250 [00:56<04:12,  1.31s/it]"
     ]
    },
    {
     "name": "stdout",
     "output_type": "stream",
     "text": [
      "CVD063\n",
      "original spacing:  (1.0, 1.0, 3.0)\n"
     ]
    },
    {
     "name": "stderr",
     "output_type": "stream",
     "text": [
      " 23%|███████████████████████████████████▎                                                                                                                    | 58/250 [00:57<04:01,  1.26s/it]"
     ]
    },
    {
     "name": "stdout",
     "output_type": "stream",
     "text": [
      "CVD137\n",
      "original spacing:  (1.0, 1.0, 3.0)\n"
     ]
    },
    {
     "name": "stderr",
     "output_type": "stream",
     "text": [
      " 24%|███████████████████████████████████▊                                                                                                                    | 59/250 [00:58<03:52,  1.22s/it]"
     ]
    },
    {
     "name": "stdout",
     "output_type": "stream",
     "text": [
      "CVD028\n",
      "original spacing:  (1.0, 1.0, 3.0)\n"
     ]
    },
    {
     "name": "stderr",
     "output_type": "stream",
     "text": [
      " 24%|████████████████████████████████████▍                                                                                                                   | 60/250 [00:59<03:52,  1.23s/it]"
     ]
    },
    {
     "name": "stdout",
     "output_type": "stream",
     "text": [
      "CVD204\n",
      "original spacing:  (1.0, 1.0, 3.0)\n"
     ]
    },
    {
     "name": "stderr",
     "output_type": "stream",
     "text": [
      " 24%|█████████████████████████████████████                                                                                                                   | 61/250 [01:00<03:41,  1.17s/it]"
     ]
    },
    {
     "name": "stdout",
     "output_type": "stream",
     "text": [
      "CVD178\n",
      "original spacing:  (1.0, 1.0, 3.0)\n"
     ]
    },
    {
     "name": "stderr",
     "output_type": "stream",
     "text": [
      " 25%|█████████████████████████████████████▋                                                                                                                  | 62/250 [01:01<03:35,  1.15s/it]"
     ]
    },
    {
     "name": "stdout",
     "output_type": "stream",
     "text": [
      "CVD148\n",
      "original spacing:  (1.0, 1.0, 3.0)\n"
     ]
    },
    {
     "name": "stderr",
     "output_type": "stream",
     "text": [
      " 25%|██████████████████████████████████████▎                                                                                                                 | 63/250 [01:02<03:31,  1.13s/it]"
     ]
    },
    {
     "name": "stdout",
     "output_type": "stream",
     "text": [
      "CVD038\n",
      "original spacing:  (1.0, 1.0, 3.0)\n"
     ]
    },
    {
     "name": "stderr",
     "output_type": "stream",
     "text": [
      " 26%|██████████████████████████████████████▉                                                                                                                 | 64/250 [01:04<03:32,  1.14s/it]"
     ]
    },
    {
     "name": "stdout",
     "output_type": "stream",
     "text": [
      "CVD151\n",
      "original spacing:  (1.0, 1.0, 3.0)\n"
     ]
    },
    {
     "name": "stderr",
     "output_type": "stream",
     "text": [
      " 26%|███████████████████████████████████████▌                                                                                                                | 65/250 [01:05<03:23,  1.10s/it]"
     ]
    },
    {
     "name": "stdout",
     "output_type": "stream",
     "text": [
      "CVD205\n",
      "original spacing:  (1.0, 1.0, 3.0)\n"
     ]
    },
    {
     "name": "stderr",
     "output_type": "stream",
     "text": [
      " 26%|████████████████████████████████████████▏                                                                                                               | 66/250 [01:05<03:08,  1.02s/it]"
     ]
    },
    {
     "name": "stdout",
     "output_type": "stream",
     "text": [
      "CVD156\n",
      "original spacing:  (1.0, 1.0, 3.0)\n"
     ]
    },
    {
     "name": "stderr",
     "output_type": "stream",
     "text": [
      " 27%|████████████████████████████████████████▋                                                                                                               | 67/250 [01:06<02:51,  1.07it/s]"
     ]
    },
    {
     "name": "stdout",
     "output_type": "stream",
     "text": [
      "CVD250\n",
      "original spacing:  (1.0, 1.0, 3.0)\n"
     ]
    },
    {
     "name": "stderr",
     "output_type": "stream",
     "text": [
      " 27%|█████████████████████████████████████████▎                                                                                                              | 68/250 [01:07<02:34,  1.18it/s]"
     ]
    },
    {
     "name": "stdout",
     "output_type": "stream",
     "text": [
      "CVD313\n",
      "original spacing:  (1.0, 1.0, 3.0)\n"
     ]
    },
    {
     "name": "stderr",
     "output_type": "stream",
     "text": [
      " 28%|█████████████████████████████████████████▉                                                                                                              | 69/250 [01:07<02:24,  1.25it/s]"
     ]
    },
    {
     "name": "stdout",
     "output_type": "stream",
     "text": [
      "CVD153\n",
      "original spacing:  (1.0, 1.0, 3.0)\n"
     ]
    },
    {
     "name": "stderr",
     "output_type": "stream",
     "text": [
      " 28%|██████████████████████████████████████████▌                                                                                                             | 70/250 [01:08<02:21,  1.27it/s]"
     ]
    },
    {
     "name": "stdout",
     "output_type": "stream",
     "text": [
      "CVD264\n",
      "original spacing:  (1.0, 1.0, 3.0)\n"
     ]
    },
    {
     "name": "stderr",
     "output_type": "stream",
     "text": [
      " 28%|███████████████████████████████████████████▏                                                                                                            | 71/250 [01:09<02:16,  1.31it/s]"
     ]
    },
    {
     "name": "stdout",
     "output_type": "stream",
     "text": [
      "CVD249\n",
      "original spacing:  (1.0, 1.0, 3.0)\n"
     ]
    },
    {
     "name": "stderr",
     "output_type": "stream",
     "text": [
      " 29%|███████████████████████████████████████████▊                                                                                                            | 72/250 [01:10<02:12,  1.34it/s]"
     ]
    },
    {
     "name": "stdout",
     "output_type": "stream",
     "text": [
      "CVD316\n",
      "original spacing:  (1.0, 1.0, 3.0)\n"
     ]
    },
    {
     "name": "stderr",
     "output_type": "stream",
     "text": [
      " 29%|████████████████████████████████████████████▍                                                                                                           | 73/250 [01:10<02:09,  1.37it/s]"
     ]
    },
    {
     "name": "stdout",
     "output_type": "stream",
     "text": [
      "CVD275\n",
      "original spacing:  (1.0, 1.0, 3.0)\n"
     ]
    },
    {
     "name": "stderr",
     "output_type": "stream",
     "text": [
      " 30%|████████████████████████████████████████████▉                                                                                                           | 74/250 [01:11<02:08,  1.37it/s]"
     ]
    },
    {
     "name": "stdout",
     "output_type": "stream",
     "text": [
      "CVD045\n",
      "original spacing:  (1.0, 1.0, 3.0)\n"
     ]
    },
    {
     "name": "stderr",
     "output_type": "stream",
     "text": [
      " 30%|█████████████████████████████████████████████▌                                                                                                          | 75/250 [01:12<02:10,  1.35it/s]"
     ]
    },
    {
     "name": "stdout",
     "output_type": "stream",
     "text": [
      "CVD242\n",
      "original spacing:  (1.0, 1.0, 3.0)\n"
     ]
    },
    {
     "name": "stderr",
     "output_type": "stream",
     "text": [
      " 30%|██████████████████████████████████████████████▏                                                                                                         | 76/250 [01:13<02:08,  1.35it/s]"
     ]
    },
    {
     "name": "stdout",
     "output_type": "stream",
     "text": [
      "CVD252\n",
      "original spacing:  (1.0, 1.0, 3.0)\n"
     ]
    },
    {
     "name": "stderr",
     "output_type": "stream",
     "text": [
      " 31%|██████████████████████████████████████████████▊                                                                                                         | 77/250 [01:13<02:06,  1.36it/s]"
     ]
    },
    {
     "name": "stdout",
     "output_type": "stream",
     "text": [
      "CVD324\n",
      "original spacing:  (1.0, 1.0, 3.0)\n"
     ]
    },
    {
     "name": "stderr",
     "output_type": "stream",
     "text": [
      " 31%|███████████████████████████████████████████████▍                                                                                                        | 78/250 [01:14<02:05,  1.37it/s]"
     ]
    },
    {
     "name": "stdout",
     "output_type": "stream",
     "text": [
      "CVD267\n",
      "original spacing:  (1.0, 1.0, 3.0)\n"
     ]
    },
    {
     "name": "stderr",
     "output_type": "stream",
     "text": [
      " 32%|████████████████████████████████████████████████                                                                                                        | 79/250 [01:15<02:01,  1.41it/s]"
     ]
    },
    {
     "name": "stdout",
     "output_type": "stream",
     "text": [
      "CVD130\n",
      "original spacing:  (1.0, 1.0, 3.0)\n"
     ]
    },
    {
     "name": "stderr",
     "output_type": "stream",
     "text": [
      " 32%|████████████████████████████████████████████████▋                                                                                                       | 80/250 [01:15<02:02,  1.38it/s]"
     ]
    },
    {
     "name": "stdout",
     "output_type": "stream",
     "text": [
      "CVD009\n",
      "original spacing:  (1.0, 1.0, 3.0)\n"
     ]
    },
    {
     "name": "stderr",
     "output_type": "stream",
     "text": [
      " 32%|█████████████████████████████████████████████████▏                                                                                                      | 81/250 [01:16<02:03,  1.37it/s]"
     ]
    },
    {
     "name": "stdout",
     "output_type": "stream",
     "text": [
      "CVD294\n",
      "original spacing:  (1.0, 1.0, 3.0)\n"
     ]
    },
    {
     "name": "stderr",
     "output_type": "stream",
     "text": [
      " 33%|█████████████████████████████████████████████████▊                                                                                                      | 82/250 [01:17<02:04,  1.35it/s]"
     ]
    },
    {
     "name": "stdout",
     "output_type": "stream",
     "text": [
      "CVD194\n",
      "original spacing:  (1.0, 1.0, 3.0)\n"
     ]
    },
    {
     "name": "stderr",
     "output_type": "stream",
     "text": [
      " 33%|██████████████████████████████████████████████████▍                                                                                                     | 83/250 [01:18<02:05,  1.33it/s]"
     ]
    },
    {
     "name": "stdout",
     "output_type": "stream",
     "text": [
      "CVD285\n",
      "original spacing:  (1.0, 1.0, 3.0)\n"
     ]
    },
    {
     "name": "stderr",
     "output_type": "stream",
     "text": [
      " 34%|███████████████████████████████████████████████████                                                                                                     | 84/250 [01:18<01:58,  1.40it/s]"
     ]
    },
    {
     "name": "stdout",
     "output_type": "stream",
     "text": [
      "CVD175\n",
      "original spacing:  (1.0, 1.0, 3.0)\n"
     ]
    },
    {
     "name": "stderr",
     "output_type": "stream",
     "text": [
      " 34%|███████████████████████████████████████████████████▋                                                                                                    | 85/250 [01:19<01:54,  1.45it/s]"
     ]
    },
    {
     "name": "stdout",
     "output_type": "stream",
     "text": [
      "CVD118\n",
      "original spacing:  (1.0, 1.0, 3.0)\n"
     ]
    },
    {
     "name": "stderr",
     "output_type": "stream",
     "text": [
      " 34%|████████████████████████████████████████████████████▎                                                                                                   | 86/250 [01:20<01:51,  1.47it/s]"
     ]
    },
    {
     "name": "stdout",
     "output_type": "stream",
     "text": [
      "CVD170\n",
      "original spacing:  (1.0, 1.0, 3.0)\n"
     ]
    },
    {
     "name": "stderr",
     "output_type": "stream",
     "text": [
      " 35%|████████████████████████████████████████████████████▉                                                                                                   | 87/250 [01:20<01:46,  1.52it/s]"
     ]
    },
    {
     "name": "stdout",
     "output_type": "stream",
     "text": [
      "CVD098\n",
      "original spacing:  (1.0, 1.0, 3.0)\n"
     ]
    },
    {
     "name": "stderr",
     "output_type": "stream",
     "text": [
      " 35%|█████████████████████████████████████████████████████▌                                                                                                  | 88/250 [01:21<01:47,  1.51it/s]"
     ]
    },
    {
     "name": "stdout",
     "output_type": "stream",
     "text": [
      "CVD081\n",
      "original spacing:  (1.0, 1.0, 3.0)\n"
     ]
    },
    {
     "name": "stderr",
     "output_type": "stream",
     "text": [
      " 36%|██████████████████████████████████████████████████████                                                                                                  | 89/250 [01:21<01:43,  1.55it/s]"
     ]
    },
    {
     "name": "stdout",
     "output_type": "stream",
     "text": [
      "CVD173\n",
      "original spacing:  (1.0, 1.0, 3.0)\n"
     ]
    },
    {
     "name": "stderr",
     "output_type": "stream",
     "text": [
      " 36%|██████████████████████████████████████████████████████▋                                                                                                 | 90/250 [01:22<01:43,  1.55it/s]"
     ]
    },
    {
     "name": "stdout",
     "output_type": "stream",
     "text": [
      "CVD084\n",
      "original spacing:  (1.0, 1.0, 3.0)\n"
     ]
    },
    {
     "name": "stderr",
     "output_type": "stream",
     "text": [
      " 36%|███████████████████████████████████████████████████████▎                                                                                                | 91/250 [01:23<01:42,  1.54it/s]"
     ]
    },
    {
     "name": "stdout",
     "output_type": "stream",
     "text": [
      "CVD077\n",
      "original spacing:  (1.0, 1.0, 3.0)\n"
     ]
    },
    {
     "name": "stderr",
     "output_type": "stream",
     "text": [
      " 37%|███████████████████████████████████████████████████████▉                                                                                                | 92/250 [01:23<01:42,  1.54it/s]"
     ]
    },
    {
     "name": "stdout",
     "output_type": "stream",
     "text": [
      "CVD247\n",
      "original spacing:  (1.0, 1.0, 3.0)\n"
     ]
    },
    {
     "name": "stderr",
     "output_type": "stream",
     "text": [
      " 37%|████████████████████████████████████████████████████████▌                                                                                               | 93/250 [01:24<01:42,  1.53it/s]"
     ]
    },
    {
     "name": "stdout",
     "output_type": "stream",
     "text": [
      "CVD172\n",
      "original spacing:  (1.0, 1.0, 3.0)\n"
     ]
    },
    {
     "name": "stderr",
     "output_type": "stream",
     "text": [
      " 38%|█████████████████████████████████████████████████████████▏                                                                                              | 94/250 [01:26<02:22,  1.10it/s]"
     ]
    },
    {
     "name": "stdout",
     "output_type": "stream",
     "text": [
      "CVD124\n",
      "original spacing:  (1.0, 1.0, 3.0)\n"
     ]
    },
    {
     "name": "stderr",
     "output_type": "stream",
     "text": [
      " 38%|█████████████████████████████████████████████████████████▊                                                                                              | 95/250 [01:27<02:48,  1.09s/it]"
     ]
    },
    {
     "name": "stdout",
     "output_type": "stream",
     "text": [
      "CVD030\n",
      "original spacing:  (1.0, 1.0, 3.0)\n"
     ]
    },
    {
     "name": "stderr",
     "output_type": "stream",
     "text": [
      " 38%|██████████████████████████████████████████████████████████▎                                                                                             | 96/250 [01:29<03:04,  1.20s/it]"
     ]
    },
    {
     "name": "stdout",
     "output_type": "stream",
     "text": [
      "CVD083\n",
      "original spacing:  (1.0, 1.0, 3.0)\n"
     ]
    },
    {
     "name": "stderr",
     "output_type": "stream",
     "text": [
      " 39%|██████████████████████████████████████████████████████████▉                                                                                             | 97/250 [01:30<03:18,  1.29s/it]"
     ]
    },
    {
     "name": "stdout",
     "output_type": "stream",
     "text": [
      "CVD216\n",
      "original spacing:  (1.0, 1.0, 3.0)\n"
     ]
    },
    {
     "name": "stderr",
     "output_type": "stream",
     "text": [
      " 39%|███████████████████████████████████████████████████████████▌                                                                                            | 98/250 [01:32<03:26,  1.36s/it]"
     ]
    },
    {
     "name": "stdout",
     "output_type": "stream",
     "text": [
      "CVD114\n",
      "original spacing:  (1.0, 1.0, 3.0)\n"
     ]
    },
    {
     "name": "stderr",
     "output_type": "stream",
     "text": [
      " 40%|████████████████████████████████████████████████████████████▏                                                                                           | 99/250 [01:33<03:14,  1.29s/it]"
     ]
    },
    {
     "name": "stdout",
     "output_type": "stream",
     "text": [
      "CVD032\n",
      "original spacing:  (1.0, 1.0, 3.0)\n"
     ]
    },
    {
     "name": "stderr",
     "output_type": "stream",
     "text": [
      " 40%|████████████████████████████████████████████████████████████▍                                                                                          | 100/250 [01:34<03:02,  1.22s/it]"
     ]
    },
    {
     "name": "stdout",
     "output_type": "stream",
     "text": [
      "CVD240\n",
      "original spacing:  (1.0, 1.0, 3.0)\n"
     ]
    },
    {
     "name": "stderr",
     "output_type": "stream",
     "text": [
      " 40%|█████████████████████████████████████████████████████████████                                                                                          | 101/250 [01:35<02:58,  1.20s/it]"
     ]
    },
    {
     "name": "stdout",
     "output_type": "stream",
     "text": [
      "CVD183\n",
      "original spacing:  (1.0, 1.0, 3.0)\n"
     ]
    },
    {
     "name": "stderr",
     "output_type": "stream",
     "text": [
      " 41%|█████████████████████████████████████████████████████████████▌                                                                                         | 102/250 [01:36<02:51,  1.16s/it]"
     ]
    },
    {
     "name": "stdout",
     "output_type": "stream",
     "text": [
      "CVD003\n",
      "original spacing:  (1.0, 1.0, 3.0)\n"
     ]
    },
    {
     "name": "stderr",
     "output_type": "stream",
     "text": [
      " 41%|██████████████████████████████████████████████████████████████▏                                                                                        | 103/250 [01:37<02:39,  1.09s/it]"
     ]
    },
    {
     "name": "stdout",
     "output_type": "stream",
     "text": [
      "CVD080\n",
      "original spacing:  (1.0, 1.0, 3.0)\n"
     ]
    },
    {
     "name": "stderr",
     "output_type": "stream",
     "text": [
      " 42%|██████████████████████████████████████████████████████████████▊                                                                                        | 104/250 [01:38<02:38,  1.08s/it]"
     ]
    },
    {
     "name": "stdout",
     "output_type": "stream",
     "text": [
      "CVD202\n",
      "original spacing:  (1.0, 1.0, 3.0)\n"
     ]
    },
    {
     "name": "stderr",
     "output_type": "stream",
     "text": [
      " 42%|███████████████████████████████████████████████████████████████▍                                                                                       | 105/250 [01:39<02:29,  1.03s/it]"
     ]
    },
    {
     "name": "stdout",
     "output_type": "stream",
     "text": [
      "CVD155\n",
      "original spacing:  (1.0, 1.0, 3.0)\n"
     ]
    },
    {
     "name": "stderr",
     "output_type": "stream",
     "text": [
      " 42%|████████████████████████████████████████████████████████████████                                                                                       | 106/250 [01:40<02:27,  1.03s/it]"
     ]
    },
    {
     "name": "stdout",
     "output_type": "stream",
     "text": [
      "CVD060\n",
      "original spacing:  (1.0, 1.0, 3.0)\n"
     ]
    },
    {
     "name": "stderr",
     "output_type": "stream",
     "text": [
      " 43%|████████████████████████████████████████████████████████████████▋                                                                                      | 107/250 [01:41<02:26,  1.02s/it]"
     ]
    },
    {
     "name": "stdout",
     "output_type": "stream",
     "text": [
      "CVD107\n",
      "original spacing:  (1.0, 1.0, 3.0)\n"
     ]
    },
    {
     "name": "stderr",
     "output_type": "stream",
     "text": [
      " 43%|█████████████████████████████████████████████████████████████████▏                                                                                     | 108/250 [01:42<02:18,  1.02it/s]"
     ]
    },
    {
     "name": "stdout",
     "output_type": "stream",
     "text": [
      "CVD299\n",
      "original spacing:  (1.0, 1.0, 3.0)\n"
     ]
    },
    {
     "name": "stderr",
     "output_type": "stream",
     "text": [
      " 44%|█████████████████████████████████████████████████████████████████▊                                                                                     | 109/250 [01:42<02:05,  1.13it/s]"
     ]
    },
    {
     "name": "stdout",
     "output_type": "stream",
     "text": [
      "CVD230\n",
      "original spacing:  (1.0, 1.0, 3.0)\n"
     ]
    },
    {
     "name": "stderr",
     "output_type": "stream",
     "text": [
      " 44%|██████████████████████████████████████████████████████████████████▍                                                                                    | 110/250 [01:43<01:59,  1.17it/s]"
     ]
    },
    {
     "name": "stdout",
     "output_type": "stream",
     "text": [
      "CVD167\n",
      "original spacing:  (1.0, 1.0, 3.0)\n"
     ]
    },
    {
     "name": "stderr",
     "output_type": "stream",
     "text": [
      " 44%|███████████████████████████████████████████████████████████████████                                                                                    | 111/250 [01:44<01:54,  1.22it/s]"
     ]
    },
    {
     "name": "stdout",
     "output_type": "stream",
     "text": [
      "CVD310\n",
      "original spacing:  (1.0, 1.0, 3.0)\n",
      "no ICV available probably, skipping using the orginal space mask\n"
     ]
    },
    {
     "name": "stderr",
     "output_type": "stream",
     "text": [
      " 45%|███████████████████████████████████████████████████████████████████▋                                                                                   | 112/250 [01:45<01:56,  1.19it/s]"
     ]
    },
    {
     "name": "stdout",
     "output_type": "stream",
     "text": [
      "CVD286\n",
      "original spacing:  (1.0, 1.0, 3.0)\n"
     ]
    },
    {
     "name": "stderr",
     "output_type": "stream",
     "text": [
      " 45%|████████████████████████████████████████████████████████████████████▎                                                                                  | 113/250 [01:46<01:49,  1.25it/s]"
     ]
    },
    {
     "name": "stdout",
     "output_type": "stream",
     "text": [
      "CVD298\n",
      "original spacing:  (1.0, 1.0, 3.0)\n"
     ]
    },
    {
     "name": "stderr",
     "output_type": "stream",
     "text": [
      " 46%|████████████████████████████████████████████████████████████████████▊                                                                                  | 114/250 [01:46<01:43,  1.32it/s]"
     ]
    },
    {
     "name": "stdout",
     "output_type": "stream",
     "text": [
      "CVD290\n",
      "original spacing:  (1.0, 1.0, 3.0)\n"
     ]
    },
    {
     "name": "stderr",
     "output_type": "stream",
     "text": [
      " 46%|█████████████████████████████████████████████████████████████████████▍                                                                                 | 115/250 [01:47<01:41,  1.32it/s]"
     ]
    },
    {
     "name": "stdout",
     "output_type": "stream",
     "text": [
      "CVD258\n",
      "original spacing:  (1.0, 1.0, 3.0)\n"
     ]
    },
    {
     "name": "stderr",
     "output_type": "stream",
     "text": [
      " 46%|██████████████████████████████████████████████████████████████████████                                                                                 | 116/250 [01:48<01:40,  1.34it/s]"
     ]
    },
    {
     "name": "stdout",
     "output_type": "stream",
     "text": [
      "CVD268\n",
      "original spacing:  (1.0, 1.0, 3.0)\n"
     ]
    },
    {
     "name": "stderr",
     "output_type": "stream",
     "text": [
      " 47%|██████████████████████████████████████████████████████████████████████▋                                                                                | 117/250 [01:48<01:38,  1.35it/s]"
     ]
    },
    {
     "name": "stdout",
     "output_type": "stream",
     "text": [
      "CVD129\n",
      "original spacing:  (1.0, 1.0, 3.0)\n"
     ]
    },
    {
     "name": "stderr",
     "output_type": "stream",
     "text": [
      " 47%|███████████████████████████████████████████████████████████████████████▎                                                                               | 118/250 [01:49<01:39,  1.32it/s]"
     ]
    },
    {
     "name": "stdout",
     "output_type": "stream",
     "text": [
      "CVD280\n",
      "original spacing:  (1.0, 1.0, 3.0)\n"
     ]
    },
    {
     "name": "stderr",
     "output_type": "stream",
     "text": [
      " 48%|███████████████████████████████████████████████████████████████████████▉                                                                               | 119/250 [01:50<01:39,  1.32it/s]"
     ]
    },
    {
     "name": "stdout",
     "output_type": "stream",
     "text": [
      "CVD174\n",
      "original spacing:  (1.0, 1.0, 3.0)\n"
     ]
    },
    {
     "name": "stderr",
     "output_type": "stream",
     "text": [
      " 48%|████████████████████████████████████████████████████████████████████████▍                                                                              | 120/250 [01:51<01:37,  1.33it/s]"
     ]
    },
    {
     "name": "stdout",
     "output_type": "stream",
     "text": [
      "CVD306\n",
      "original spacing:  (1.0, 1.0, 3.0)\n"
     ]
    },
    {
     "name": "stderr",
     "output_type": "stream",
     "text": [
      " 48%|█████████████████████████████████████████████████████████████████████████                                                                              | 121/250 [01:51<01:34,  1.36it/s]"
     ]
    },
    {
     "name": "stdout",
     "output_type": "stream",
     "text": [
      "CVD261\n",
      "original spacing:  (1.0, 1.0, 3.0)\n"
     ]
    },
    {
     "name": "stderr",
     "output_type": "stream",
     "text": [
      " 49%|█████████████████████████████████████████████████████████████████████████▋                                                                             | 122/250 [01:52<01:33,  1.37it/s]"
     ]
    },
    {
     "name": "stdout",
     "output_type": "stream",
     "text": [
      "CVD284\n",
      "original spacing:  (1.0, 1.0, 3.0)\n"
     ]
    },
    {
     "name": "stderr",
     "output_type": "stream",
     "text": [
      " 49%|██████████████████████████████████████████████████████████████████████████▎                                                                            | 123/250 [01:53<01:32,  1.37it/s]"
     ]
    },
    {
     "name": "stdout",
     "output_type": "stream",
     "text": [
      "CVD287\n",
      "original spacing:  (1.0, 1.0, 3.0)\n"
     ]
    },
    {
     "name": "stderr",
     "output_type": "stream",
     "text": [
      " 50%|██████████████████████████████████████████████████████████████████████████▉                                                                            | 124/250 [01:54<01:33,  1.35it/s]"
     ]
    },
    {
     "name": "stdout",
     "output_type": "stream",
     "text": [
      "CVD239\n",
      "original spacing:  (1.0, 1.0, 3.0)\n"
     ]
    },
    {
     "name": "stderr",
     "output_type": "stream",
     "text": [
      " 50%|███████████████████████████████████████████████████████████████████████████▌                                                                           | 125/250 [01:54<01:33,  1.34it/s]"
     ]
    },
    {
     "name": "stdout",
     "output_type": "stream",
     "text": [
      "CVD254\n",
      "original spacing:  (1.0, 1.0, 3.0)\n"
     ]
    },
    {
     "name": "stderr",
     "output_type": "stream",
     "text": [
      " 50%|████████████████████████████████████████████████████████████████████████████                                                                           | 126/250 [01:55<01:31,  1.36it/s]"
     ]
    },
    {
     "name": "stdout",
     "output_type": "stream",
     "text": [
      "CVD179\n",
      "original spacing:  (1.0, 1.0, 3.0)\n"
     ]
    },
    {
     "name": "stderr",
     "output_type": "stream",
     "text": [
      " 51%|████████████████████████████████████████████████████████████████████████████▋                                                                          | 127/250 [01:56<01:27,  1.40it/s]"
     ]
    },
    {
     "name": "stdout",
     "output_type": "stream",
     "text": [
      "CVD128\n",
      "original spacing:  (1.0, 1.0, 3.0)\n"
     ]
    },
    {
     "name": "stderr",
     "output_type": "stream",
     "text": [
      " 51%|█████████████████████████████████████████████████████████████████████████████▎                                                                         | 128/250 [01:56<01:24,  1.44it/s]"
     ]
    },
    {
     "name": "stdout",
     "output_type": "stream",
     "text": [
      "CVD024\n",
      "original spacing:  (1.0, 1.0, 3.0)\n"
     ]
    },
    {
     "name": "stderr",
     "output_type": "stream",
     "text": [
      " 52%|█████████████████████████████████████████████████████████████████████████████▉                                                                         | 129/250 [01:57<01:22,  1.47it/s]"
     ]
    },
    {
     "name": "stdout",
     "output_type": "stream",
     "text": [
      "CVD085\n",
      "original spacing:  (1.0, 1.0, 3.0)\n"
     ]
    },
    {
     "name": "stderr",
     "output_type": "stream",
     "text": [
      " 52%|██████████████████████████████████████████████████████████████████████████████▌                                                                        | 130/250 [01:58<01:22,  1.46it/s]"
     ]
    },
    {
     "name": "stdout",
     "output_type": "stream",
     "text": [
      "CVD016\n",
      "original spacing:  (1.0, 1.0, 3.0)\n"
     ]
    },
    {
     "name": "stderr",
     "output_type": "stream",
     "text": [
      " 52%|███████████████████████████████████████████████████████████████████████████████                                                                        | 131/250 [01:58<01:22,  1.45it/s]"
     ]
    },
    {
     "name": "stdout",
     "output_type": "stream",
     "text": [
      "CVD134\n",
      "original spacing:  (1.0, 1.0, 3.0)\n"
     ]
    },
    {
     "name": "stderr",
     "output_type": "stream",
     "text": [
      " 53%|███████████████████████████████████████████████████████████████████████████████▋                                                                       | 132/250 [01:59<01:20,  1.46it/s]"
     ]
    },
    {
     "name": "stdout",
     "output_type": "stream",
     "text": [
      "CVD225\n",
      "original spacing:  (1.0, 1.0, 3.0)\n"
     ]
    },
    {
     "name": "stderr",
     "output_type": "stream",
     "text": [
      " 53%|████████████████████████████████████████████████████████████████████████████████▎                                                                      | 133/250 [02:00<01:19,  1.48it/s]"
     ]
    },
    {
     "name": "stdout",
     "output_type": "stream",
     "text": [
      "CVD079\n",
      "original spacing:  (1.0, 1.0, 3.0)\n"
     ]
    },
    {
     "name": "stderr",
     "output_type": "stream",
     "text": [
      " 54%|████████████████████████████████████████████████████████████████████████████████▉                                                                      | 134/250 [02:00<01:17,  1.50it/s]"
     ]
    },
    {
     "name": "stdout",
     "output_type": "stream",
     "text": [
      "CVD105\n",
      "original spacing:  (1.0, 1.0, 3.0)\n"
     ]
    },
    {
     "name": "stderr",
     "output_type": "stream",
     "text": [
      " 54%|█████████████████████████████████████████████████████████████████████████████████▌                                                                     | 135/250 [02:01<01:15,  1.52it/s]"
     ]
    },
    {
     "name": "stdout",
     "output_type": "stream",
     "text": [
      "CVD112\n",
      "original spacing:  (1.0, 1.0, 3.0)\n"
     ]
    },
    {
     "name": "stderr",
     "output_type": "stream",
     "text": [
      " 54%|██████████████████████████████████████████████████████████████████████████████████▏                                                                    | 136/250 [02:03<01:44,  1.09it/s]"
     ]
    },
    {
     "name": "stdout",
     "output_type": "stream",
     "text": [
      "CVD238\n",
      "original spacing:  (1.0, 1.0, 3.0)\n"
     ]
    },
    {
     "name": "stderr",
     "output_type": "stream",
     "text": [
      " 55%|██████████████████████████████████████████████████████████████████████████████████▋                                                                    | 137/250 [02:04<02:04,  1.10s/it]"
     ]
    },
    {
     "name": "stdout",
     "output_type": "stream",
     "text": [
      "CVD111\n",
      "original spacing:  (1.0, 1.0, 3.0)\n"
     ]
    },
    {
     "name": "stderr",
     "output_type": "stream",
     "text": [
      " 55%|███████████████████████████████████████████████████████████████████████████████████▎                                                                   | 138/250 [02:06<02:18,  1.23s/it]"
     ]
    },
    {
     "name": "stdout",
     "output_type": "stream",
     "text": [
      "CVD031\n",
      "original spacing:  (1.0, 1.0, 3.0)\n"
     ]
    },
    {
     "name": "stderr",
     "output_type": "stream",
     "text": [
      " 56%|███████████████████████████████████████████████████████████████████████████████████▉                                                                   | 139/250 [02:07<02:26,  1.32s/it]"
     ]
    },
    {
     "name": "stdout",
     "output_type": "stream",
     "text": [
      "CVD166\n",
      "original spacing:  (1.0, 1.0, 3.0)\n"
     ]
    },
    {
     "name": "stderr",
     "output_type": "stream",
     "text": [
      " 56%|████████████████████████████████████████████████████████████████████████████████████▌                                                                  | 140/250 [02:09<02:32,  1.39s/it]"
     ]
    },
    {
     "name": "stdout",
     "output_type": "stream",
     "text": [
      "CVD040\n",
      "original spacing:  (1.0, 1.0, 3.0)\n"
     ]
    },
    {
     "name": "stderr",
     "output_type": "stream",
     "text": [
      " 56%|█████████████████████████████████████████████████████████████████████████████████████▏                                                                 | 141/250 [02:10<02:25,  1.34s/it]"
     ]
    },
    {
     "name": "stdout",
     "output_type": "stream",
     "text": [
      "CVD234\n",
      "original spacing:  (1.0, 1.0, 3.0)\n"
     ]
    },
    {
     "name": "stderr",
     "output_type": "stream",
     "text": [
      " 57%|█████████████████████████████████████████████████████████████████████████████████████▊                                                                 | 142/250 [02:11<02:20,  1.30s/it]"
     ]
    },
    {
     "name": "stdout",
     "output_type": "stream",
     "text": [
      "CVD042\n",
      "original spacing:  (1.0, 1.0, 3.0)\n"
     ]
    },
    {
     "name": "stderr",
     "output_type": "stream",
     "text": [
      " 57%|██████████████████████████████████████████████████████████████████████████████████████▎                                                                | 143/250 [02:13<02:22,  1.33s/it]"
     ]
    },
    {
     "name": "stdout",
     "output_type": "stream",
     "text": [
      "CVD241\n",
      "original spacing:  (1.0, 1.0, 3.0)\n"
     ]
    },
    {
     "name": "stderr",
     "output_type": "stream",
     "text": [
      " 58%|██████████████████████████████████████████████████████████████████████████████████████▉                                                                | 144/250 [02:14<02:14,  1.27s/it]"
     ]
    },
    {
     "name": "stdout",
     "output_type": "stream",
     "text": [
      "CVD091\n",
      "original spacing:  (1.0, 1.0, 3.0)\n"
     ]
    },
    {
     "name": "stderr",
     "output_type": "stream",
     "text": [
      " 58%|███████████████████████████████████████████████████████████████████████████████████████▌                                                               | 145/250 [02:15<02:19,  1.33s/it]"
     ]
    },
    {
     "name": "stdout",
     "output_type": "stream",
     "text": [
      "CVD017\n",
      "original spacing:  (1.0, 1.0, 3.0)\n"
     ]
    },
    {
     "name": "stderr",
     "output_type": "stream",
     "text": [
      " 58%|████████████████████████████████████████████████████████████████████████████████████████▏                                                              | 146/250 [02:16<02:17,  1.32s/it]"
     ]
    },
    {
     "name": "stdout",
     "output_type": "stream",
     "text": [
      "CVD140\n",
      "original spacing:  (1.0, 1.0, 3.0)\n"
     ]
    },
    {
     "name": "stderr",
     "output_type": "stream",
     "text": [
      " 59%|████████████████████████████████████████████████████████████████████████████████████████▊                                                              | 147/250 [02:18<02:16,  1.33s/it]"
     ]
    },
    {
     "name": "stdout",
     "output_type": "stream",
     "text": [
      "CVD097\n",
      "original spacing:  (1.0, 1.0, 3.0)\n"
     ]
    },
    {
     "name": "stderr",
     "output_type": "stream",
     "text": [
      " 59%|█████████████████████████████████████████████████████████████████████████████████████████▍                                                             | 148/250 [02:22<03:31,  2.07s/it]"
     ]
    },
    {
     "name": "stdout",
     "output_type": "stream",
     "text": [
      "CVD213\n",
      "original spacing:  (1.0, 1.0, 3.0)\n"
     ]
    },
    {
     "name": "stderr",
     "output_type": "stream",
     "text": [
      " 60%|█████████████████████████████████████████████████████████████████████████████████████████▉                                                             | 149/250 [02:23<03:04,  1.83s/it]"
     ]
    },
    {
     "name": "stdout",
     "output_type": "stream",
     "text": [
      "CVD039\n",
      "original spacing:  (1.0, 1.0, 3.0)\n"
     ]
    },
    {
     "name": "stderr",
     "output_type": "stream",
     "text": [
      " 60%|██████████████████████████████████████████████████████████████████████████████████████████▌                                                            | 150/250 [02:24<02:45,  1.66s/it]"
     ]
    },
    {
     "name": "stdout",
     "output_type": "stream",
     "text": [
      "CVD050\n",
      "original spacing:  (1.0, 1.0, 3.0)\n"
     ]
    },
    {
     "name": "stderr",
     "output_type": "stream",
     "text": [
      " 60%|███████████████████████████████████████████████████████████████████████████████████████████▏                                                           | 151/250 [02:25<02:26,  1.48s/it]"
     ]
    },
    {
     "name": "stdout",
     "output_type": "stream",
     "text": [
      "CVD272\n",
      "original spacing:  (1.0, 1.0, 3.0)\n"
     ]
    },
    {
     "name": "stderr",
     "output_type": "stream",
     "text": [
      " 61%|███████████████████████████████████████████████████████████████████████████████████████████▊                                                           | 152/250 [02:26<02:10,  1.33s/it]"
     ]
    },
    {
     "name": "stdout",
     "output_type": "stream",
     "text": [
      "CVD086\n",
      "original spacing:  (1.0, 1.0, 3.0)\n"
     ]
    },
    {
     "name": "stderr",
     "output_type": "stream",
     "text": [
      " 61%|████████████████████████████████████████████████████████████████████████████████████████████▍                                                          | 153/250 [02:27<01:58,  1.22s/it]"
     ]
    },
    {
     "name": "stdout",
     "output_type": "stream",
     "text": [
      "CVD309\n",
      "original spacing:  (1.0, 1.0, 3.0)\n"
     ]
    },
    {
     "name": "stderr",
     "output_type": "stream",
     "text": [
      " 62%|█████████████████████████████████████████████████████████████████████████████████████████████                                                          | 154/250 [02:28<01:48,  1.13s/it]"
     ]
    },
    {
     "name": "stdout",
     "output_type": "stream",
     "text": [
      "CVD300\n",
      "original spacing:  (1.0, 1.0, 3.0)\n"
     ]
    },
    {
     "name": "stderr",
     "output_type": "stream",
     "text": [
      " 62%|█████████████████████████████████████████████████████████████████████████████████████████████▌                                                         | 155/250 [02:29<01:45,  1.11s/it]"
     ]
    },
    {
     "name": "stdout",
     "output_type": "stream",
     "text": [
      "CVD253\n",
      "original spacing:  (1.0, 1.0, 3.0)\n"
     ]
    },
    {
     "name": "stderr",
     "output_type": "stream",
     "text": [
      " 62%|██████████████████████████████████████████████████████████████████████████████████████████████▏                                                        | 156/250 [02:30<01:39,  1.06s/it]"
     ]
    },
    {
     "name": "stdout",
     "output_type": "stream",
     "text": [
      "CVD276\n",
      "original spacing:  (1.0, 1.0, 3.0)\n"
     ]
    },
    {
     "name": "stderr",
     "output_type": "stream",
     "text": [
      " 63%|██████████████████████████████████████████████████████████████████████████████████████████████▊                                                        | 157/250 [02:31<01:35,  1.03s/it]"
     ]
    },
    {
     "name": "stdout",
     "output_type": "stream",
     "text": [
      "CVD282\n",
      "original spacing:  (1.0, 1.0, 3.0)\n"
     ]
    },
    {
     "name": "stderr",
     "output_type": "stream",
     "text": [
      " 63%|███████████████████████████████████████████████████████████████████████████████████████████████▍                                                       | 158/250 [02:32<01:31,  1.00it/s]"
     ]
    },
    {
     "name": "stdout",
     "output_type": "stream",
     "text": [
      "CVD305\n",
      "original spacing:  (1.0, 1.0, 3.0)\n"
     ]
    },
    {
     "name": "stderr",
     "output_type": "stream",
     "text": [
      " 64%|████████████████████████████████████████████████████████████████████████████████████████████████                                                       | 159/250 [02:33<01:30,  1.01it/s]"
     ]
    },
    {
     "name": "stdout",
     "output_type": "stream",
     "text": [
      "CVD314\n",
      "original spacing:  (1.0, 1.0, 3.0)\n"
     ]
    },
    {
     "name": "stderr",
     "output_type": "stream",
     "text": [
      " 64%|████████████████████████████████████████████████████████████████████████████████████████████████▋                                                      | 160/250 [02:34<01:28,  1.02it/s]"
     ]
    },
    {
     "name": "stdout",
     "output_type": "stream",
     "text": [
      "CVD021\n",
      "original spacing:  (1.0, 1.0, 3.0)\n"
     ]
    },
    {
     "name": "stderr",
     "output_type": "stream",
     "text": [
      " 64%|█████████████████████████████████████████████████████████████████████████████████████████████████▏                                                     | 161/250 [02:35<01:27,  1.02it/s]"
     ]
    },
    {
     "name": "stdout",
     "output_type": "stream",
     "text": [
      "CVD303\n",
      "original spacing:  (1.0, 1.0, 3.0)\n"
     ]
    },
    {
     "name": "stderr",
     "output_type": "stream",
     "text": [
      " 65%|█████████████████████████████████████████████████████████████████████████████████████████████████▊                                                     | 162/250 [02:36<01:27,  1.00it/s]"
     ]
    },
    {
     "name": "stdout",
     "output_type": "stream",
     "text": [
      "CVD116\n",
      "original spacing:  (1.0, 1.0, 3.0)\n"
     ]
    },
    {
     "name": "stderr",
     "output_type": "stream",
     "text": [
      " 65%|██████████████████████████████████████████████████████████████████████████████████████████████████▍                                                    | 163/250 [02:37<01:27,  1.01s/it]"
     ]
    },
    {
     "name": "stdout",
     "output_type": "stream",
     "text": [
      "CVD106\n",
      "original spacing:  (1.0, 1.0, 3.0)\n"
     ]
    },
    {
     "name": "stderr",
     "output_type": "stream",
     "text": [
      " 66%|███████████████████████████████████████████████████████████████████████████████████████████████████                                                    | 164/250 [02:38<01:28,  1.02s/it]"
     ]
    },
    {
     "name": "stdout",
     "output_type": "stream",
     "text": [
      "CVD321\n",
      "original spacing:  (1.0, 1.0, 3.0)\n"
     ]
    },
    {
     "name": "stderr",
     "output_type": "stream",
     "text": [
      " 66%|███████████████████████████████████████████████████████████████████████████████████████████████████▋                                                   | 165/250 [02:39<01:26,  1.01s/it]"
     ]
    },
    {
     "name": "stdout",
     "output_type": "stream",
     "text": [
      "CVD295\n",
      "original spacing:  (1.0, 1.0, 3.0)\n"
     ]
    },
    {
     "name": "stderr",
     "output_type": "stream",
     "text": [
      " 66%|████████████████████████████████████████████████████████████████████████████████████████████████████▎                                                  | 166/250 [02:40<01:21,  1.03it/s]"
     ]
    },
    {
     "name": "stdout",
     "output_type": "stream",
     "text": [
      "CVD307\n",
      "original spacing:  (1.0, 1.0, 3.0)\n"
     ]
    },
    {
     "name": "stderr",
     "output_type": "stream",
     "text": [
      " 67%|████████████████████████████████████████████████████████████████████████████████████████████████████▊                                                  | 167/250 [02:41<01:20,  1.03it/s]"
     ]
    },
    {
     "name": "stdout",
     "output_type": "stream",
     "text": [
      "CVD169\n",
      "original spacing:  (1.0, 1.0, 3.0)\n"
     ]
    },
    {
     "name": "stderr",
     "output_type": "stream",
     "text": [
      " 67%|█████████████████████████████████████████████████████████████████████████████████████████████████████▍                                                 | 168/250 [02:42<01:20,  1.02it/s]"
     ]
    },
    {
     "name": "stdout",
     "output_type": "stream",
     "text": [
      "CVD092\n",
      "original spacing:  (1.0, 1.0, 3.0)\n"
     ]
    },
    {
     "name": "stderr",
     "output_type": "stream",
     "text": [
      " 68%|██████████████████████████████████████████████████████████████████████████████████████████████████████                                                 | 169/250 [02:43<01:18,  1.04it/s]"
     ]
    },
    {
     "name": "stdout",
     "output_type": "stream",
     "text": [
      "CVD237\n",
      "original spacing:  (1.0, 1.0, 3.0)\n"
     ]
    },
    {
     "name": "stderr",
     "output_type": "stream",
     "text": [
      " 68%|██████████████████████████████████████████████████████████████████████████████████████████████████████▋                                                | 170/250 [02:44<01:16,  1.05it/s]"
     ]
    },
    {
     "name": "stdout",
     "output_type": "stream",
     "text": [
      "CVD177\n",
      "original spacing:  (1.0, 1.0, 3.0)\n"
     ]
    },
    {
     "name": "stderr",
     "output_type": "stream",
     "text": [
      " 68%|███████████████████████████████████████████████████████████████████████████████████████████████████████▎                                               | 171/250 [02:45<01:15,  1.05it/s]"
     ]
    },
    {
     "name": "stdout",
     "output_type": "stream",
     "text": [
      "CVD088\n",
      "original spacing:  (1.0, 1.0, 3.0)\n"
     ]
    },
    {
     "name": "stderr",
     "output_type": "stream",
     "text": [
      " 69%|███████████████████████████████████████████████████████████████████████████████████████████████████████▉                                               | 172/250 [02:46<01:15,  1.04it/s]"
     ]
    },
    {
     "name": "stdout",
     "output_type": "stream",
     "text": [
      "CVD219\n",
      "original spacing:  (1.0, 1.0, 3.0)\n"
     ]
    },
    {
     "name": "stderr",
     "output_type": "stream",
     "text": [
      " 69%|████████████████████████████████████████████████████████████████████████████████████████████████████████▍                                              | 173/250 [02:47<01:11,  1.07it/s]"
     ]
    },
    {
     "name": "stdout",
     "output_type": "stream",
     "text": [
      "CVD090\n",
      "original spacing:  (1.0, 1.0, 3.0)\n"
     ]
    },
    {
     "name": "stderr",
     "output_type": "stream",
     "text": [
      " 70%|█████████████████████████████████████████████████████████████████████████████████████████████████████████                                              | 174/250 [02:47<01:11,  1.06it/s]"
     ]
    },
    {
     "name": "stdout",
     "output_type": "stream",
     "text": [
      "CVD115\n",
      "original spacing:  (1.0, 1.0, 3.0)\n"
     ]
    },
    {
     "name": "stderr",
     "output_type": "stream",
     "text": [
      " 70%|█████████████████████████████████████████████████████████████████████████████████████████████████████████▋                                             | 175/250 [02:48<01:09,  1.08it/s]"
     ]
    },
    {
     "name": "stdout",
     "output_type": "stream",
     "text": [
      "CVD161\n",
      "original spacing:  (1.0, 1.0, 3.0)\n"
     ]
    },
    {
     "name": "stderr",
     "output_type": "stream",
     "text": [
      " 70%|██████████████████████████████████████████████████████████████████████████████████████████████████████████▎                                            | 176/250 [02:49<01:08,  1.08it/s]"
     ]
    },
    {
     "name": "stdout",
     "output_type": "stream",
     "text": [
      "CVD221\n",
      "original spacing:  (1.0, 1.0, 3.0)\n"
     ]
    },
    {
     "name": "stderr",
     "output_type": "stream",
     "text": [
      " 71%|██████████████████████████████████████████████████████████████████████████████████████████████████████████▉                                            | 177/250 [02:50<01:08,  1.07it/s]"
     ]
    },
    {
     "name": "stdout",
     "output_type": "stream",
     "text": [
      "CVD108\n",
      "original spacing:  (1.0, 1.0, 3.0)\n"
     ]
    },
    {
     "name": "stderr",
     "output_type": "stream",
     "text": [
      " 71%|███████████████████████████████████████████████████████████████████████████████████████████████████████████▌                                           | 178/250 [02:52<01:24,  1.17s/it]"
     ]
    },
    {
     "name": "stdout",
     "output_type": "stream",
     "text": [
      "CVD082\n",
      "original spacing:  (1.0, 1.0, 3.0)\n"
     ]
    },
    {
     "name": "stderr",
     "output_type": "stream",
     "text": [
      " 72%|████████████████████████████████████████████████████████████████████████████████████████████████████████████                                           | 179/250 [02:54<01:37,  1.37s/it]"
     ]
    },
    {
     "name": "stdout",
     "output_type": "stream",
     "text": [
      "CVD012\n",
      "original spacing:  (1.0, 1.0, 3.0)\n"
     ]
    },
    {
     "name": "stderr",
     "output_type": "stream",
     "text": [
      " 72%|████████████████████████████████████████████████████████████████████████████████████████████████████████████▋                                          | 180/250 [02:56<01:44,  1.49s/it]"
     ]
    },
    {
     "name": "stdout",
     "output_type": "stream",
     "text": [
      "CVD096\n",
      "original spacing:  (1.0, 1.0, 3.0)\n"
     ]
    },
    {
     "name": "stderr",
     "output_type": "stream",
     "text": [
      " 72%|█████████████████████████████████████████████████████████████████████████████████████████████████████████████▎                                         | 181/250 [02:57<01:48,  1.58s/it]"
     ]
    },
    {
     "name": "stdout",
     "output_type": "stream",
     "text": [
      "CVD191\n",
      "original spacing:  (1.0, 1.0, 3.0)\n"
     ]
    },
    {
     "name": "stderr",
     "output_type": "stream",
     "text": [
      " 73%|█████████████████████████████████████████████████████████████████████████████████████████████████████████████▉                                         | 182/250 [02:59<01:52,  1.65s/it]"
     ]
    },
    {
     "name": "stdout",
     "output_type": "stream",
     "text": [
      "CVD068\n",
      "original spacing:  (1.0, 1.0, 3.0)\n"
     ]
    },
    {
     "name": "stderr",
     "output_type": "stream",
     "text": [
      " 73%|██████████████████████████████████████████████████████████████████████████████████████████████████████████████▌                                        | 183/250 [03:01<01:46,  1.59s/it]"
     ]
    },
    {
     "name": "stdout",
     "output_type": "stream",
     "text": [
      "CVD055\n",
      "original spacing:  (1.0, 1.0, 3.0)\n"
     ]
    },
    {
     "name": "stderr",
     "output_type": "stream",
     "text": [
      " 74%|███████████████████████████████████████████████████████████████████████████████████████████████████████████████▏                                       | 184/250 [03:02<01:40,  1.53s/it]"
     ]
    },
    {
     "name": "stdout",
     "output_type": "stream",
     "text": [
      "CVD235\n",
      "original spacing:  (1.0, 1.0, 3.0)\n"
     ]
    },
    {
     "name": "stderr",
     "output_type": "stream",
     "text": [
      " 74%|███████████████████████████████████████████████████████████████████████████████████████████████████████████████▋                                       | 185/250 [03:03<01:37,  1.50s/it]"
     ]
    },
    {
     "name": "stdout",
     "output_type": "stream",
     "text": [
      "CVD150\n",
      "original spacing:  (1.0, 1.0, 3.0)\n"
     ]
    },
    {
     "name": "stderr",
     "output_type": "stream",
     "text": [
      " 74%|████████████████████████████████████████████████████████████████████████████████████████████████████████████████▎                                      | 186/250 [03:05<01:33,  1.45s/it]"
     ]
    },
    {
     "name": "stdout",
     "output_type": "stream",
     "text": [
      "CVD176\n",
      "original spacing:  (1.0, 1.0, 3.0)\n"
     ]
    },
    {
     "name": "stderr",
     "output_type": "stream",
     "text": [
      " 75%|████████████████████████████████████████████████████████████████████████████████████████████████████████████████▉                                      | 187/250 [03:06<01:29,  1.42s/it]"
     ]
    },
    {
     "name": "stdout",
     "output_type": "stream",
     "text": [
      "CVD047\n",
      "original spacing:  (1.0, 1.0, 3.0)\n"
     ]
    },
    {
     "name": "stderr",
     "output_type": "stream",
     "text": [
      " 75%|█████████████████████████████████████████████████████████████████████████████████████████████████████████████████▌                                     | 188/250 [03:07<01:26,  1.40s/it]"
     ]
    },
    {
     "name": "stdout",
     "output_type": "stream",
     "text": [
      "CVD220\n",
      "original spacing:  (1.0, 1.0, 3.0)\n"
     ]
    },
    {
     "name": "stderr",
     "output_type": "stream",
     "text": [
      " 76%|██████████████████████████████████████████████████████████████████████████████████████████████████████████████████▏                                    | 189/250 [03:09<01:26,  1.42s/it]"
     ]
    },
    {
     "name": "stdout",
     "output_type": "stream",
     "text": [
      "CVD048\n",
      "original spacing:  (1.0, 1.0, 3.0)\n"
     ]
    },
    {
     "name": "stderr",
     "output_type": "stream",
     "text": [
      " 76%|██████████████████████████████████████████████████████████████████████████████████████████████████████████████████▊                                    | 190/250 [03:10<01:24,  1.41s/it]"
     ]
    },
    {
     "name": "stdout",
     "output_type": "stream",
     "text": [
      "CVD203\n",
      "original spacing:  (1.0, 1.0, 3.0)\n"
     ]
    },
    {
     "name": "stderr",
     "output_type": "stream",
     "text": [
      " 76%|███████████████████████████████████████████████████████████████████████████████████████████████████████████████████▎                                   | 191/250 [03:12<01:19,  1.34s/it]"
     ]
    },
    {
     "name": "stdout",
     "output_type": "stream",
     "text": [
      "CVD076\n",
      "original spacing:  (1.0, 1.0, 3.0)\n"
     ]
    },
    {
     "name": "stderr",
     "output_type": "stream",
     "text": [
      " 77%|███████████████████████████████████████████████████████████████████████████████████████████████████████████████████▉                                   | 192/250 [03:13<01:16,  1.32s/it]"
     ]
    },
    {
     "name": "stdout",
     "output_type": "stream",
     "text": [
      "CVD020\n",
      "original spacing:  (1.0, 1.0, 3.0)\n"
     ]
    },
    {
     "name": "stderr",
     "output_type": "stream",
     "text": [
      " 77%|████████████████████████████████████████████████████████████████████████████████████████████████████████████████████▌                                  | 193/250 [03:14<01:11,  1.26s/it]"
     ]
    },
    {
     "name": "stdout",
     "output_type": "stream",
     "text": [
      "CVD304\n",
      "original spacing:  (1.0, 1.0, 3.0)\n"
     ]
    },
    {
     "name": "stderr",
     "output_type": "stream",
     "text": [
      " 78%|█████████████████████████████████████████████████████████████████████████████████████████████████████████████████████▏                                 | 194/250 [03:15<01:05,  1.16s/it]"
     ]
    },
    {
     "name": "stdout",
     "output_type": "stream",
     "text": [
      "CVD308\n",
      "original spacing:  (1.0, 1.0, 3.0)\n"
     ]
    },
    {
     "name": "stderr",
     "output_type": "stream",
     "text": [
      " 78%|█████████████████████████████████████████████████████████████████████████████████████████████████████████████████████▊                                 | 195/250 [03:16<01:00,  1.10s/it]"
     ]
    },
    {
     "name": "stdout",
     "output_type": "stream",
     "text": [
      "CVD256\n",
      "original spacing:  (1.0, 1.0, 3.0)\n"
     ]
    },
    {
     "name": "stderr",
     "output_type": "stream",
     "text": [
      " 78%|██████████████████████████████████████████████████████████████████████████████████████████████████████████████████████▍                                | 196/250 [03:17<00:57,  1.07s/it]"
     ]
    },
    {
     "name": "stdout",
     "output_type": "stream",
     "text": [
      "CVD325\n",
      "original spacing:  (1.0, 1.0, 3.0)\n"
     ]
    },
    {
     "name": "stderr",
     "output_type": "stream",
     "text": [
      " 79%|██████████████████████████████████████████████████████████████████████████████████████████████████████████████████████▉                                | 197/250 [03:18<00:54,  1.02s/it]"
     ]
    },
    {
     "name": "stdout",
     "output_type": "stream",
     "text": [
      "CVD165\n",
      "original spacing:  (1.0, 1.0, 3.0)\n"
     ]
    },
    {
     "name": "stderr",
     "output_type": "stream",
     "text": [
      " 79%|███████████████████████████████████████████████████████████████████████████████████████████████████████████████████████▌                               | 198/250 [03:19<00:53,  1.03s/it]"
     ]
    },
    {
     "name": "stdout",
     "output_type": "stream",
     "text": [
      "CVD236\n",
      "original spacing:  (1.0, 1.0, 3.0)\n"
     ]
    },
    {
     "name": "stderr",
     "output_type": "stream",
     "text": [
      " 80%|████████████████████████████████████████████████████████████████████████████████████████████████████████████████████████▏                              | 199/250 [03:20<00:51,  1.01s/it]"
     ]
    },
    {
     "name": "stdout",
     "output_type": "stream",
     "text": [
      "CVD260\n",
      "original spacing:  (1.0, 1.0, 3.0)\n"
     ]
    },
    {
     "name": "stderr",
     "output_type": "stream",
     "text": [
      " 80%|████████████████████████████████████████████████████████████████████████████████████████████████████████████████████████▊                              | 200/250 [03:21<00:49,  1.01it/s]"
     ]
    },
    {
     "name": "stdout",
     "output_type": "stream",
     "text": [
      "CVD171\n",
      "original spacing:  (1.0, 1.0, 3.0)\n"
     ]
    },
    {
     "name": "stderr",
     "output_type": "stream",
     "text": [
      " 80%|█████████████████████████████████████████████████████████████████████████████████████████████████████████████████████████▍                             | 201/250 [03:22<00:48,  1.02it/s]"
     ]
    },
    {
     "name": "stdout",
     "output_type": "stream",
     "text": [
      "CVD293\n",
      "original spacing:  (1.0, 1.0, 3.0)\n"
     ]
    },
    {
     "name": "stderr",
     "output_type": "stream",
     "text": [
      " 81%|██████████████████████████████████████████████████████████████████████████████████████████████████████████████████████████                             | 202/250 [03:23<00:45,  1.05it/s]"
     ]
    },
    {
     "name": "stdout",
     "output_type": "stream",
     "text": [
      "CVD288\n",
      "original spacing:  (1.0, 1.0, 3.0)\n"
     ]
    },
    {
     "name": "stderr",
     "output_type": "stream",
     "text": [
      " 81%|██████████████████████████████████████████████████████████████████████████████████████████████████████████████████████████▌                            | 203/250 [03:23<00:44,  1.06it/s]"
     ]
    },
    {
     "name": "stdout",
     "output_type": "stream",
     "text": [
      "CVD270\n",
      "original spacing:  (1.0, 1.0, 3.0)\n"
     ]
    },
    {
     "name": "stderr",
     "output_type": "stream",
     "text": [
      " 82%|███████████████████████████████████████████████████████████████████████████████████████████████████████████████████████████▏                           | 204/250 [03:24<00:45,  1.02it/s]"
     ]
    },
    {
     "name": "stdout",
     "output_type": "stream",
     "text": [
      "CVD201\n",
      "original spacing:  (1.0, 1.0, 3.0)\n"
     ]
    },
    {
     "name": "stderr",
     "output_type": "stream",
     "text": [
      " 82%|███████████████████████████████████████████████████████████████████████████████████████████████████████████████████████████▊                           | 205/250 [03:26<00:47,  1.05s/it]"
     ]
    },
    {
     "name": "stdout",
     "output_type": "stream",
     "text": [
      "CVD283\n",
      "original spacing:  (1.0, 1.0, 3.0)\n",
      "no ICV available probably, skipping using the orginal space mask\n"
     ]
    },
    {
     "name": "stderr",
     "output_type": "stream",
     "text": [
      " 82%|████████████████████████████████████████████████████████████████████████████████████████████████████████████████████████████▍                          | 206/250 [03:27<00:46,  1.06s/it]"
     ]
    },
    {
     "name": "stdout",
     "output_type": "stream",
     "text": [
      "CVD312\n",
      "original spacing:  (1.0, 1.0, 3.0)\n"
     ]
    },
    {
     "name": "stderr",
     "output_type": "stream",
     "text": [
      " 83%|█████████████████████████████████████████████████████████████████████████████████████████████████████████████████████████████                          | 207/250 [03:28<00:45,  1.05s/it]"
     ]
    },
    {
     "name": "stdout",
     "output_type": "stream",
     "text": [
      "CVD248\n",
      "original spacing:  (1.0, 1.0, 3.0)\n"
     ]
    },
    {
     "name": "stderr",
     "output_type": "stream",
     "text": [
      " 83%|█████████████████████████████████████████████████████████████████████████████████████████████████████████████████████████████▋                         | 208/250 [03:29<00:43,  1.03s/it]"
     ]
    },
    {
     "name": "stdout",
     "output_type": "stream",
     "text": [
      "CVD214\n",
      "original spacing:  (1.0, 1.0, 3.0)\n"
     ]
    },
    {
     "name": "stderr",
     "output_type": "stream",
     "text": [
      " 84%|██████████████████████████████████████████████████████████████████████████████████████████████████████████████████████████████▏                        | 209/250 [03:30<00:42,  1.03s/it]"
     ]
    },
    {
     "name": "stdout",
     "output_type": "stream",
     "text": [
      "CVD034\n",
      "original spacing:  (1.0, 1.0, 3.0)\n"
     ]
    },
    {
     "name": "stderr",
     "output_type": "stream",
     "text": [
      " 84%|██████████████████████████████████████████████████████████████████████████████████████████████████████████████████████████████▊                        | 210/250 [03:31<00:41,  1.03s/it]"
     ]
    },
    {
     "name": "stdout",
     "output_type": "stream",
     "text": [
      "CVD018\n",
      "original spacing:  (1.0, 1.0, 3.0)\n"
     ]
    },
    {
     "name": "stderr",
     "output_type": "stream",
     "text": [
      " 84%|███████████████████████████████████████████████████████████████████████████████████████████████████████████████████████████████▍                       | 211/250 [03:32<00:38,  1.00it/s]"
     ]
    },
    {
     "name": "stdout",
     "output_type": "stream",
     "text": [
      "CVD074\n",
      "original spacing:  (1.0, 1.0, 3.0)\n"
     ]
    },
    {
     "name": "stderr",
     "output_type": "stream",
     "text": [
      " 85%|████████████████████████████████████████████████████████████████████████████████████████████████████████████████████████████████                       | 212/250 [03:33<00:37,  1.01it/s]"
     ]
    },
    {
     "name": "stdout",
     "output_type": "stream",
     "text": [
      "CVD184\n",
      "original spacing:  (1.0, 1.0, 3.0)\n"
     ]
    },
    {
     "name": "stderr",
     "output_type": "stream",
     "text": [
      " 85%|████████████████████████████████████████████████████████████████████████████████████████████████████████████████████████████████▋                      | 213/250 [03:34<00:35,  1.04it/s]"
     ]
    },
    {
     "name": "stdout",
     "output_type": "stream",
     "text": [
      "CVD113\n",
      "original spacing:  (1.0, 1.0, 3.0)\n"
     ]
    },
    {
     "name": "stderr",
     "output_type": "stream",
     "text": [
      " 86%|█████████████████████████████████████████████████████████████████████████████████████████████████████████████████████████████████▎                     | 214/250 [03:35<00:34,  1.05it/s]"
     ]
    },
    {
     "name": "stdout",
     "output_type": "stream",
     "text": [
      "CVD014\n",
      "original spacing:  (1.0, 1.0, 3.0)\n"
     ]
    },
    {
     "name": "stderr",
     "output_type": "stream",
     "text": [
      " 86%|█████████████████████████████████████████████████████████████████████████████████████████████████████████████████████████████████▊                     | 215/250 [03:35<00:32,  1.08it/s]"
     ]
    },
    {
     "name": "stdout",
     "output_type": "stream",
     "text": [
      "CVD064\n",
      "original spacing:  (1.0, 1.0, 3.0)\n"
     ]
    },
    {
     "name": "stderr",
     "output_type": "stream",
     "text": [
      " 86%|██████████████████████████████████████████████████████████████████████████████████████████████████████████████████████████████████▍                    | 216/250 [03:36<00:30,  1.10it/s]"
     ]
    },
    {
     "name": "stdout",
     "output_type": "stream",
     "text": [
      "CVD200\n",
      "original spacing:  (1.0, 1.0, 3.0)\n"
     ]
    },
    {
     "name": "stderr",
     "output_type": "stream",
     "text": [
      " 87%|███████████████████████████████████████████████████████████████████████████████████████████████████████████████████████████████████                    | 217/250 [03:38<00:33,  1.01s/it]"
     ]
    },
    {
     "name": "stdout",
     "output_type": "stream",
     "text": [
      "CVD138\n",
      "original spacing:  (1.0, 1.0, 3.0)\n"
     ]
    },
    {
     "name": "stderr",
     "output_type": "stream",
     "text": [
      " 87%|███████████████████████████████████████████████████████████████████████████████████████████████████████████████████████████████████▋                   | 218/250 [03:39<00:34,  1.07s/it]"
     ]
    },
    {
     "name": "stdout",
     "output_type": "stream",
     "text": [
      "CVD193\n",
      "original spacing:  (1.0, 1.0, 3.0)\n"
     ]
    },
    {
     "name": "stderr",
     "output_type": "stream",
     "text": [
      " 88%|████████████████████████████████████████████████████████████████████████████████████████████████████████████████████████████████████▎                  | 219/250 [03:40<00:36,  1.17s/it]"
     ]
    },
    {
     "name": "stdout",
     "output_type": "stream",
     "text": [
      "CVD011\n",
      "original spacing:  (1.0, 1.0, 3.0)\n"
     ]
    },
    {
     "name": "stderr",
     "output_type": "stream",
     "text": [
      " 88%|████████████████████████████████████████████████████████████████████████████████████████████████████████████████████████████████████▉                  | 220/250 [03:42<00:36,  1.22s/it]"
     ]
    },
    {
     "name": "stdout",
     "output_type": "stream",
     "text": [
      "CVD246\n",
      "original spacing:  (1.0, 1.0, 3.0)\n"
     ]
    },
    {
     "name": "stderr",
     "output_type": "stream",
     "text": [
      " 88%|█████████████████████████████████████████████████████████████████████████████████████████████████████████████████████████████████████▍                 | 221/250 [03:43<00:37,  1.29s/it]"
     ]
    },
    {
     "name": "stdout",
     "output_type": "stream",
     "text": [
      "CVD207\n",
      "original spacing:  (1.0, 1.0, 3.0)\n"
     ]
    },
    {
     "name": "stderr",
     "output_type": "stream",
     "text": [
      " 89%|██████████████████████████████████████████████████████████████████████████████████████████████████████████████████████████████████████                 | 222/250 [03:44<00:34,  1.24s/it]"
     ]
    },
    {
     "name": "stdout",
     "output_type": "stream",
     "text": [
      "CVD037\n",
      "original spacing:  (1.0, 1.0, 3.0)\n"
     ]
    },
    {
     "name": "stderr",
     "output_type": "stream",
     "text": [
      " 89%|██████████████████████████████████████████████████████████████████████████████████████████████████████████████████████████████████████▋                | 223/250 [03:45<00:32,  1.20s/it]"
     ]
    },
    {
     "name": "stdout",
     "output_type": "stream",
     "text": [
      "CVD157\n",
      "original spacing:  (1.0, 1.0, 3.0)\n"
     ]
    },
    {
     "name": "stderr",
     "output_type": "stream",
     "text": [
      " 90%|███████████████████████████████████████████████████████████████████████████████████████████████████████████████████████████████████████▎               | 224/250 [03:46<00:31,  1.19s/it]"
     ]
    },
    {
     "name": "stdout",
     "output_type": "stream",
     "text": [
      "CVD070\n",
      "original spacing:  (1.0, 1.0, 3.0)\n"
     ]
    },
    {
     "name": "stderr",
     "output_type": "stream",
     "text": [
      " 90%|███████████████████████████████████████████████████████████████████████████████████████████████████████████████████████████████████████▉               | 225/250 [03:48<00:31,  1.24s/it]"
     ]
    },
    {
     "name": "stdout",
     "output_type": "stream",
     "text": [
      "CVD002\n",
      "original spacing:  (1.0, 1.0, 3.0)\n"
     ]
    },
    {
     "name": "stderr",
     "output_type": "stream",
     "text": [
      " 90%|████████████████████████████████████████████████████████████████████████████████████████████████████████████████████████████████████████▌              | 226/250 [03:49<00:31,  1.30s/it]"
     ]
    },
    {
     "name": "stdout",
     "output_type": "stream",
     "text": [
      "CVD033\n",
      "original spacing:  (1.0, 1.0, 3.0)\n"
     ]
    },
    {
     "name": "stderr",
     "output_type": "stream",
     "text": [
      " 91%|█████████████████████████████████████████████████████████████████████████████████████████████████████████████████████████████████████████              | 227/250 [03:51<00:30,  1.34s/it]"
     ]
    },
    {
     "name": "stdout",
     "output_type": "stream",
     "text": [
      "CVD218\n",
      "original spacing:  (1.0, 1.0, 3.0)\n"
     ]
    },
    {
     "name": "stderr",
     "output_type": "stream",
     "text": [
      " 91%|█████████████████████████████████████████████████████████████████████████████████████████████████████████████████████████████████████████▋             | 228/250 [03:52<00:29,  1.35s/it]"
     ]
    },
    {
     "name": "stdout",
     "output_type": "stream",
     "text": [
      "CVD291\n",
      "original spacing:  (1.0, 1.0, 3.0)\n"
     ]
    },
    {
     "name": "stderr",
     "output_type": "stream",
     "text": [
      " 92%|██████████████████████████████████████████████████████████████████████████████████████████████████████████████████████████████████████████▎            | 229/250 [03:53<00:26,  1.26s/it]"
     ]
    },
    {
     "name": "stdout",
     "output_type": "stream",
     "text": [
      "CVD265\n",
      "original spacing:  (1.0, 1.0, 3.0)\n"
     ]
    },
    {
     "name": "stderr",
     "output_type": "stream",
     "text": [
      " 92%|██████████████████████████████████████████████████████████████████████████████████████████████████████████████████████████████████████████▉            | 230/250 [03:54<00:23,  1.19s/it]"
     ]
    },
    {
     "name": "stdout",
     "output_type": "stream",
     "text": [
      "CVD322\n",
      "original spacing:  (1.0, 1.0, 3.0)\n"
     ]
    },
    {
     "name": "stderr",
     "output_type": "stream",
     "text": [
      " 92%|███████████████████████████████████████████████████████████████████████████████████████████████████████████████████████████████████████████▌           | 231/250 [03:55<00:21,  1.11s/it]"
     ]
    },
    {
     "name": "stdout",
     "output_type": "stream",
     "text": [
      "CVD274\n",
      "original spacing:  (1.0, 1.0, 3.0)\n"
     ]
    },
    {
     "name": "stderr",
     "output_type": "stream",
     "text": [
      " 93%|████████████████████████████████████████████████████████████████████████████████████████████████████████████████████████████████████████████▏          | 232/250 [03:56<00:19,  1.06s/it]"
     ]
    },
    {
     "name": "stdout",
     "output_type": "stream",
     "text": [
      "CVD301\n",
      "original spacing:  (1.0, 1.0, 3.0)\n"
     ]
    },
    {
     "name": "stderr",
     "output_type": "stream",
     "text": [
      " 93%|████████████████████████████████████████████████████████████████████████████████████████████████████████████████████████████████████████████▋          | 233/250 [03:57<00:18,  1.07s/it]"
     ]
    },
    {
     "name": "stdout",
     "output_type": "stream",
     "text": [
      "CVD297\n",
      "original spacing:  (1.0, 1.0, 3.0)\n"
     ]
    },
    {
     "name": "stderr",
     "output_type": "stream",
     "text": [
      " 94%|█████████████████████████████████████████████████████████████████████████████████████████████████████████████████████████████████████████████▎         | 234/250 [03:58<00:16,  1.05s/it]"
     ]
    },
    {
     "name": "stdout",
     "output_type": "stream",
     "text": [
      "CVD323\n",
      "original spacing:  (1.0, 1.0, 3.0)\n"
     ]
    },
    {
     "name": "stderr",
     "output_type": "stream",
     "text": [
      " 94%|█████████████████████████████████████████████████████████████████████████████████████████████████████████████████████████████████████████████▉         | 235/250 [03:59<00:15,  1.05s/it]"
     ]
    },
    {
     "name": "stdout",
     "output_type": "stream",
     "text": [
      "CVD251\n",
      "original spacing:  (1.0, 1.0, 3.0)\n"
     ]
    },
    {
     "name": "stderr",
     "output_type": "stream",
     "text": [
      " 94%|██████████████████████████████████████████████████████████████████████████████████████████████████████████████████████████████████████████████▌        | 236/250 [04:00<00:14,  1.04s/it]"
     ]
    },
    {
     "name": "stdout",
     "output_type": "stream",
     "text": [
      "CVD262\n",
      "original spacing:  (1.0, 1.0, 3.0)\n"
     ]
    },
    {
     "name": "stderr",
     "output_type": "stream",
     "text": [
      " 95%|███████████████████████████████████████████████████████████████████████████████████████████████████████████████████████████████████████████████▏       | 237/250 [04:01<00:13,  1.04s/it]"
     ]
    },
    {
     "name": "stdout",
     "output_type": "stream",
     "text": [
      "CVD255\n",
      "original spacing:  (1.0, 1.0, 3.0)\n"
     ]
    },
    {
     "name": "stderr",
     "output_type": "stream",
     "text": [
      " 95%|███████████████████████████████████████████████████████████████████████████████████████████████████████████████████████████████████████████████▊       | 238/250 [04:02<00:12,  1.03s/it]"
     ]
    },
    {
     "name": "stdout",
     "output_type": "stream",
     "text": [
      "CVD132\n",
      "original spacing:  (1.0, 1.0, 3.0)\n"
     ]
    },
    {
     "name": "stderr",
     "output_type": "stream",
     "text": [
      " 96%|████████████████████████████████████████████████████████████████████████████████████████████████████████████████████████████████████████████████▎      | 239/250 [04:03<00:11,  1.01s/it]"
     ]
    },
    {
     "name": "stdout",
     "output_type": "stream",
     "text": [
      "CVD319\n",
      "original spacing:  (1.0, 1.0, 3.0)\n"
     ]
    },
    {
     "name": "stderr",
     "output_type": "stream",
     "text": [
      " 96%|████████████████████████████████████████████████████████████████████████████████████████████████████████████████████████████████████████████████▉      | 240/250 [04:04<00:10,  1.02s/it]"
     ]
    },
    {
     "name": "stdout",
     "output_type": "stream",
     "text": [
      "CVD296\n",
      "original spacing:  (1.0, 1.0, 3.0)\n"
     ]
    },
    {
     "name": "stderr",
     "output_type": "stream",
     "text": [
      " 96%|█████████████████████████████████████████████████████████████████████████████████████████████████████████████████████████████████████████████████▌     | 241/250 [04:05<00:09,  1.02s/it]"
     ]
    },
    {
     "name": "stdout",
     "output_type": "stream",
     "text": [
      "CVD186\n",
      "original spacing:  (1.0, 1.0, 3.0)\n"
     ]
    },
    {
     "name": "stderr",
     "output_type": "stream",
     "text": [
      " 97%|██████████████████████████████████████████████████████████████████████████████████████████████████████████████████████████████████████████████████▏    | 242/250 [04:06<00:08,  1.03s/it]"
     ]
    },
    {
     "name": "stdout",
     "output_type": "stream",
     "text": [
      "CVD259\n",
      "original spacing:  (1.0, 1.0, 3.0)\n"
     ]
    },
    {
     "name": "stderr",
     "output_type": "stream",
     "text": [
      " 97%|██████████████████████████████████████████████████████████████████████████████████████████████████████████████████████████████████████████████████▊    | 243/250 [04:07<00:07,  1.01s/it]"
     ]
    },
    {
     "name": "stdout",
     "output_type": "stream",
     "text": [
      "CVD311\n",
      "original spacing:  (1.0, 1.0, 3.0)\n"
     ]
    },
    {
     "name": "stderr",
     "output_type": "stream",
     "text": [
      " 98%|███████████████████████████████████████████████████████████████████████████████████████████████████████████████████████████████████████████████████▍   | 244/250 [04:08<00:06,  1.01s/it]"
     ]
    },
    {
     "name": "stdout",
     "output_type": "stream",
     "text": [
      "CVD281\n",
      "original spacing:  (1.0, 1.0, 3.0)\n"
     ]
    },
    {
     "name": "stderr",
     "output_type": "stream",
     "text": [
      " 98%|███████████████████████████████████████████████████████████████████████████████████████████████████████████████████████████████████████████████████▉   | 245/250 [04:09<00:05,  1.05s/it]"
     ]
    },
    {
     "name": "stdout",
     "output_type": "stream",
     "text": [
      "CVD289\n",
      "original spacing:  (1.0, 1.0, 3.0)\n"
     ]
    },
    {
     "name": "stderr",
     "output_type": "stream",
     "text": [
      " 98%|████████████████████████████████████████████████████████████████████████████████████████████████████████████████████████████████████████████████████▌  | 246/250 [04:10<00:04,  1.01s/it]"
     ]
    },
    {
     "name": "stdout",
     "output_type": "stream",
     "text": [
      "CVD318\n",
      "original spacing:  (1.0, 1.0, 3.0)\n"
     ]
    },
    {
     "name": "stderr",
     "output_type": "stream",
     "text": [
      " 99%|█████████████████████████████████████████████████████████████████████████████████████████████████████████████████████████████████████████████████████▏ | 247/250 [04:11<00:02,  1.01it/s]"
     ]
    },
    {
     "name": "stdout",
     "output_type": "stream",
     "text": [
      "CVD302\n",
      "original spacing:  (1.0, 1.0, 3.0)\n"
     ]
    },
    {
     "name": "stderr",
     "output_type": "stream",
     "text": [
      " 99%|█████████████████████████████████████████████████████████████████████████████████████████████████████████████████████████████████████████████████████▊ | 248/250 [04:12<00:01,  1.01it/s]"
     ]
    },
    {
     "name": "stdout",
     "output_type": "stream",
     "text": [
      "CVD279\n",
      "original spacing:  (1.0, 1.0, 3.0)\n"
     ]
    },
    {
     "name": "stderr",
     "output_type": "stream",
     "text": [
      "100%|██████████████████████████████████████████████████████████████████████████████████████████████████████████████████████████████████████████████████████▍| 249/250 [04:13<00:00,  1.04it/s]"
     ]
    },
    {
     "name": "stdout",
     "output_type": "stream",
     "text": [
      "CVD103\n",
      "original spacing:  (1.0, 1.0, 3.0)\n"
     ]
    },
    {
     "name": "stderr",
     "output_type": "stream",
     "text": [
      "100%|███████████████████████████████████████████████████████████████████████████████████████████████████████████████████████████████████████████████████████| 250/250 [04:14<00:00,  1.02s/it]\n"
     ]
    }
   ],
   "source": [
    "umap_names = list(output_maps_for_umaps.keys())\n",
    "for i in tqdm(range(len(umap_names)), position=0, leave=True):\n",
    "    try:\n",
    "        umap_name = umap_names[i]\n",
    "        umap_id = umap_name.split(\"_\")[0]\n",
    "        # if umap_name != \"CVD103_out_maps\":\n",
    "        #     continue\n",
    "\n",
    "        print(umap_id)\n",
    "\n",
    "        # load the data in the resampled space\n",
    "        flair, mask = load_flair_and_mask(umap_id)\n",
    "        umap = output_maps_for_umaps[umap_name][0]\n",
    "\n",
    "\n",
    "        # pad to make the slice size match\n",
    "        umap = pad_height_and_width(umap, flair)\n",
    "        umap = channel_pad(umap, flair)\n",
    "\n",
    "        # set umap to zero outside mask\n",
    "        umap = zero_outside_mask(umap, mask)\n",
    "\n",
    "        # convert umap to nifti\n",
    "        umap_nifti = convert_torch_to_nifti(umap)\n",
    "\n",
    "        # load the original flair\n",
    "        orig_flair = load_orig_image(umap_id)\n",
    "\n",
    "        # resample the umap\n",
    "        resampled_umap_nifti = get_resampled_img(umap_nifti, out_spacing=orig_flair.GetSpacing(), original_spacing=umap_nifti.GetSpacing(), is_label=True)\n",
    "        resampled_umap = torch.tensor(sitk.GetArrayFromImage(resampled_umap_nifti).astype(np.float32))\n",
    "\n",
    "        # make the resampled umap zero outside the original mask\n",
    "        try:\n",
    "            resampled_umap = multiply_by_orig_mask(resampled_umap, umap_id)\n",
    "        except:\n",
    "            print(\"no ICV available probably, skipping using the orginal space mask\")\n",
    "\n",
    "        # convert dtype to int16 and save the new umap\n",
    "        convert_dtype_and_save(resampled_umap, orig_flair, umap_id)\n",
    "\n",
    "    except:\n",
    "        print(\"FAILED!!!!!! for \", umap_id)"
   ]
  },
  {
   "cell_type": "markdown",
   "id": "713e9c18-aa19-4e8a-a6b9-bca072c8bf3f",
   "metadata": {},
   "source": [
    "### random other stuff being tested"
   ]
  },
  {
   "cell_type": "code",
   "execution_count": 54,
   "id": "a0240c8f-d36d-444e-967a-ca98a3ca7af2",
   "metadata": {},
   "outputs": [],
   "source": [
    "import shutil"
   ]
  },
  {
   "cell_type": "code",
   "execution_count": 55,
   "id": "30a721ce-f3cc-44eb-a951-cbdf5df7bb09",
   "metadata": {},
   "outputs": [
    {
     "data": {
      "text/plain": [
       "'/home/s2208943/ipdis/UQ_WMH_methods/trustworthai/run/ADNI_300_analysis/new_fazekas_prediction_code'"
      ]
     },
     "execution_count": 55,
     "metadata": {},
     "output_type": "execute_result"
    }
   ],
   "source": [
    "os.getcwd()"
   ]
  },
  {
   "cell_type": "code",
   "execution_count": 58,
   "id": "b993cd93-d2cf-46e5-aff7-a0f6bc111421",
   "metadata": {},
   "outputs": [
    {
     "data": {
      "text/plain": [
       "'./CVD260_umap.nii.gz'"
      ]
     },
     "execution_count": 58,
     "metadata": {},
     "output_type": "execute_result"
    }
   ],
   "source": [
    "shutil.copy(\"/home/s2208943/ipdis/data/preprocessed_data/orig_space_EdData_umaps/SSN_Ens/CVD260_umap.nii.gz\", \".\")"
   ]
  },
  {
   "cell_type": "code",
   "execution_count": 59,
   "id": "389e4008-04fb-4114-8a08-2c2056463252",
   "metadata": {},
   "outputs": [
    {
     "data": {
      "text/plain": [
       "'./FLAIR_CVD260.nii.gz'"
      ]
     },
     "execution_count": 59,
     "metadata": {},
     "output_type": "execute_result"
    }
   ],
   "source": [
    "\n",
    "shutil.copy(orig_folder + \"CVD260\" + \"/MRI/FLAIR.nii.gz\", \"./FLAIR_CVD260.nii.gz\")"
   ]
  },
  {
   "cell_type": "code",
   "execution_count": 266,
   "id": "bb1cdd63-01aa-43a8-8419-6fb552f6c28b",
   "metadata": {},
   "outputs": [
    {
     "data": {
      "text/plain": [
       "tensor([0.0000e+00, 4.5537e-26, 2.4872e-25,  ..., 6.9314e-01, 6.9315e-01,\n",
       "        6.9315e-01])"
      ]
     },
     "execution_count": 266,
     "metadata": {},
     "output_type": "execute_result"
    }
   ],
   "source": [
    "resampled_umap.unique()"
   ]
  },
  {
   "cell_type": "code",
   "execution_count": 247,
   "id": "adfd8a4f-db09-46d1-bda4-2497b971cc59",
   "metadata": {},
   "outputs": [
    {
     "data": {
      "text/plain": [
       "(tensor([ 2,  2,  2,  ..., 75, 75, 75]),\n",
       " tensor([ 89,  89,  89,  ..., 125, 125, 126]),\n",
       " tensor([126, 127, 128,  ..., 140, 142, 124]))"
      ]
     },
     "execution_count": 247,
     "metadata": {},
     "output_type": "execute_result"
    }
   ],
   "source": [
    "torch.where(resampled_umap < 0)"
   ]
  },
  {
   "cell_type": "code",
   "execution_count": 240,
   "id": "df62a2fd-1c03-4d33-9e7a-b8f547e55e99",
   "metadata": {},
   "outputs": [
    {
     "data": {
      "text/plain": [
       "<matplotlib.image.AxesImage at 0x7f30dfddd630>"
      ]
     },
     "execution_count": 240,
     "metadata": {},
     "output_type": "execute_result"
    },
    {
     "data": {
      "image/png": "[encoded data removed]",
      "text/plain": [
       "<Figure size 640x480 with 1 Axes>"
      ]
     },
     "metadata": {},
     "output_type": "display_data"
    }
   ],
   "source": [
    "plt.imshow(resampled_umap[53])"
   ]
  },
  {
   "cell_type": "code",
   "execution_count": null,
   "id": "f60d66f4-ed3d-46c3-97c0-c1f4cae693e7",
   "metadata": {},
   "outputs": [],
   "source": []
  }
 ],
 "metadata": {
  "kernelspec": {
   "display_name": "Python 3 (ipykernel)",
   "language": "python",
   "name": "python3"
  },
  "language_info": {
   "codemirror_mode": {
    "name": "ipython",
    "version": 3
   },
   "file_extension": ".py",
   "mimetype": "text/x-python",
   "name": "python",
   "nbconvert_exporter": "python",
   "pygments_lexer": "ipython3",
   "version": "3.8.10"
  }
 },
 "nbformat": 4,
 "nbformat_minor": 5
}
