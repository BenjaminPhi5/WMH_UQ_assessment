{
 "cells": [
  {
   "cell_type": "code",
   "execution_count": 3,
   "id": "44347668-eb61-4535-baa1-b23c380f8f48",
   "metadata": {
    "tags": []
   },
   "outputs": [
    {
     "name": "stdout",
     "output_type": "stream",
     "text": [
      "strawberry\n",
      "banana\n"
     ]
    }
   ],
   "source": [
    "print(\"strawberry\")\n",
    "\n",
    "\n",
    "import torch\n",
    "import numpy as np\n",
    "from tqdm import tqdm\n",
    "import scipy.stats\n",
    "import argparse\n",
    "import os\n",
    "import shutil\n",
    "import shlex\n",
    "from collections import defaultdict\n",
    "from tqdm import tqdm\n",
    "import sys\n",
    "from natsort import natsorted\n",
    "import proplot as pplt\n",
    "import seaborn as sns\n",
    "import pandas as pd\n",
    "import matplotlib.pyplot as plt\n",
    "from twaidata.torchdatasets.DirectoryParser3DMRIDataset import *\n",
    "print(\"banana\")\n"
   ]
  },
  {
   "cell_type": "code",
   "execution_count": 5,
   "id": "00cc21fc-e7d6-4fd6-839e-71493d01559b",
   "metadata": {
    "tags": []
   },
   "outputs": [],
   "source": [
    "# get the 3d dataloader\n",
    "mss3_ds = MSS3InterRaterDataset()\n",
    "lbc_ds = LBCInterRaterDataset()\n",
    "challenge_ds = WMHChallengeInterRaterDataset()\n",
    "\n",
    "#WMHChallengeInterRaterDataset()#LBCInterRaterDataset()#MSS3InterRaterDataset()\n"
   ]
  },
  {
   "cell_type": "code",
   "execution_count": 9,
   "id": "fd0d07d3-0b2e-476c-850d-02eb1c4a5656",
   "metadata": {
    "tags": []
   },
   "outputs": [],
   "source": [
    "def get_xs_ys_vents(ds, ds_name):\n",
    "    xs3d_test = []\n",
    "    ys3d_test = []\n",
    "    pv_region_masks = []\n",
    "\n",
    "    if ds_name == \"mss3\":\n",
    "        r0_id = \"wmhes\"\n",
    "        r1_id = \"wmhmvh\"\n",
    "        ds_ir_folder = \"MSS3_InterRaterData\"\n",
    "    elif ds_name == \"lbc\":\n",
    "        r0_id = \"wmh\"\n",
    "        r1_id = \"wmh_flthresh\"\n",
    "        ds_ir_folder = \"LBC_InterRaterData\"\n",
    "    elif ds_name == \"challenge\":\n",
    "        r0_id = \"wmho3\"\n",
    "        r1_id = \"wmho4\"\n",
    "        ds_ir_folder = \"WMHChallenge_InterRaterData\"\n",
    "\n",
    "\n",
    "    for (xs, ys, ind) in tqdm(ds):\n",
    "        if ind in ['MSS3_ED_073_V1', 'MSS3_ED_075_V1', 'MSS3_ED_078_V1', 'MSS3_ED_079_V1']:\n",
    "            print(\"found\")\n",
    "            continue\n",
    "        if r0_id in ys.keys() and r1_id in ys.keys():\n",
    "            try:\n",
    "                x = torch.stack([xs['FLAIR'], xs['mask'], xs['T1']], dim=0)\n",
    "                y = torch.stack([ys[r0_id], ys[r1_id]], dim=0)\n",
    "\n",
    "                vent_distance_map = f\"/home/s2208943/ipdis/data/preprocessed_data/{ds_ir_folder}/imgs/{ind}_T1_vent_distance.nii.gz\"\n",
    "                vent_distance_map = sitk.ReadImage(vent_distance_map)\n",
    "                vent_distance_map = sitk.GetArrayFromImage(vent_distance_map)\n",
    "            except:\n",
    "                print(f\"failed for {ind}\")\n",
    "                continue\n",
    "\n",
    "            xs3d_test.append(x)\n",
    "            ys3d_test.append(y)\n",
    "            pv_region_masks.append(torch.from_numpy(vent_distance_map < 10).type(torch.float32))\n",
    "            \n",
    "    return xs3d_test, ys3d_test, pv_region_masks"
   ]
  },
  {
   "cell_type": "code",
   "execution_count": 10,
   "id": "0de0e72f-6e23-491f-a5c8-346015c90385",
   "metadata": {
    "tags": []
   },
   "outputs": [
    {
     "name": "stderr",
     "output_type": "stream",
     "text": [
      " 90%|████████████████████████████████████████████████████████████████████████████████████████████████████████████████████████████████████████████████████████████████████████████████████▎                    | 61/68 [00:16<00:01,  5.10it/s]"
     ]
    },
    {
     "name": "stdout",
     "output_type": "stream",
     "text": [
      "found\n",
      "found\n"
     ]
    },
    {
     "name": "stderr",
     "output_type": "stream",
     "text": [
      " 94%|█████████████████████████████████████████████████████████████████████████████████████████████████████████████████████████████████████████████████████████████████████████████████████████████▏           | 64/68 [00:17<00:00,  5.78it/s]"
     ]
    },
    {
     "name": "stdout",
     "output_type": "stream",
     "text": [
      "found\n",
      "found\n"
     ]
    },
    {
     "name": "stderr",
     "output_type": "stream",
     "text": [
      "100%|█████████████████████████████████████████████████████████████████████████████████████████████████████████████████████████████████████████████████████████████████████████████████████████████████████████| 68/68 [00:17<00:00,  3.80it/s]\n"
     ]
    }
   ],
   "source": [
    "xs_mss3, ys_mss3, pvs_mss3 = get_xs_ys_vents(mss3_ds, \"mss3\")"
   ]
  },
  {
   "cell_type": "code",
   "execution_count": 11,
   "id": "975852e1-3aa1-425f-80d7-b567672e9a6c",
   "metadata": {
    "tags": []
   },
   "outputs": [
    {
     "name": "stderr",
     "output_type": "stream",
     "text": [
      "100%|█████████████████████████████████████████████████████████████████████████████████████████████████████████████████████████████████████████████████████████████████████████████████████████████████████████| 12/12 [00:04<00:00,  2.55it/s]\n"
     ]
    }
   ],
   "source": [
    "xs_lbc, ys_lbc, pvs_lbc = get_xs_ys_vents(lbc_ds, \"lbc\")"
   ]
  },
  {
   "cell_type": "code",
   "execution_count": 19,
   "id": "7d45a038-8d5b-4df2-a220-cc74e5b118a1",
   "metadata": {
    "tags": []
   },
   "outputs": [
    {
     "name": "stderr",
     "output_type": "stream",
     "text": [
      " 38%|█████████████████████████████████████████████████████████████████████████████                                                                                                                            | 23/60 [00:10<00:15,  2.39it/s]"
     ]
    },
    {
     "name": "stdout",
     "output_type": "stream",
     "text": [
      "failed for Singapore_52\n"
     ]
    },
    {
     "name": "stderr",
     "output_type": "stream",
     "text": [
      " 48%|█████████████████████████████████████████████████████████████████████████████████████████████████▏                                                                                                       | 29/60 [00:13<00:11,  2.60it/s]"
     ]
    },
    {
     "name": "stdout",
     "output_type": "stream",
     "text": [
      "failed for Singapore_58\n"
     ]
    },
    {
     "name": "stderr",
     "output_type": "stream",
     "text": [
      " 52%|███████████████████████████████████████████████████████████████████████████████████████████████████████▊                                                                                                 | 31/60 [00:13<00:10,  2.81it/s]"
     ]
    },
    {
     "name": "stdout",
     "output_type": "stream",
     "text": [
      "failed for Singapore_60\n"
     ]
    },
    {
     "name": "stderr",
     "output_type": "stream",
     "text": [
      " 57%|█████████████████████████████████████████████████████████████████████████████████████████████████████████████████▉                                                                                       | 34/60 [00:15<00:09,  2.66it/s]"
     ]
    },
    {
     "name": "stdout",
     "output_type": "stream",
     "text": [
      "failed for Singapore_63\n"
     ]
    },
    {
     "name": "stderr",
     "output_type": "stream",
     "text": [
      "100%|█████████████████████████████████████████████████████████████████████████████████████████████████████████████████████████████████████████████████████████████████████████████████████████████████████████| 60/60 [00:25<00:00,  2.33it/s]\n"
     ]
    }
   ],
   "source": [
    "xs_challenge, ys_challenge, pvs_challenge = get_xs_ys_vents(challenge_ds, \"challenge\")"
   ]
  },
  {
   "cell_type": "code",
   "execution_count": 20,
   "id": "76ed0048-b21f-4f6c-b063-321921c36698",
   "metadata": {
    "tags": []
   },
   "outputs": [],
   "source": [
    "mss3_mean_sum = [(a.cuda().sum() + b.cuda().sum()).item() / 2 for (a, b) in ys_mss3]\n",
    "lbc_mean_sum = [(a.cuda().sum() + b.cuda().sum()).item() / 2 for (a, b) in ys_lbc]\n",
    "challenge_mean_sum = [(a.cuda().sum() + b.cuda().sum()).item() / 2 for (a, b) in ys_challenge]"
   ]
  },
  {
   "cell_type": "code",
   "execution_count": 25,
   "id": "fe983b65-7517-4448-b3d5-935dae0976ab",
   "metadata": {
    "tags": []
   },
   "outputs": [],
   "source": [
    "lbc_mean_sum = torch.Tensor(lbc_mean_sum)\n",
    "challenge_mean_sum = torch.Tensor(challenge_mean_sum)\n",
    "mss3_mean_sum = torch.Tensor(mss3_mean_sum)"
   ]
  },
  {
   "cell_type": "code",
   "execution_count": 31,
   "id": "e4f938b4-d029-4cce-9ad5-199a57b169c3",
   "metadata": {},
   "outputs": [
    {
     "data": {
      "text/plain": [
       "(tensor(4882.5000), tensor(1))"
      ]
     },
     "execution_count": 31,
     "metadata": {},
     "output_type": "execute_result"
    }
   ],
   "source": [
    "lbc_mean_sum.max(), lbc_mean_sum.argmax()"
   ]
  },
  {
   "cell_type": "code",
   "execution_count": 32,
   "id": "eaad0f65-bf1e-4bfc-800f-5b45b7d374a2",
   "metadata": {
    "tags": []
   },
   "outputs": [
    {
     "data": {
      "text/plain": [
       "(tensor(22.5000), tensor(27))"
      ]
     },
     "execution_count": 32,
     "metadata": {},
     "output_type": "execute_result"
    }
   ],
   "source": [
    "(challenge_mean_sum - 4882.5).abs().min(), (challenge_mean_sum - 4882.5).abs().argmin()"
   ]
  },
  {
   "cell_type": "code",
   "execution_count": 33,
   "id": "e35bff63-9593-439d-a569-3e180518e30c",
   "metadata": {
    "tags": []
   },
   "outputs": [
    {
     "data": {
      "text/plain": [
       "(tensor(11.5000), tensor(46))"
      ]
     },
     "execution_count": 33,
     "metadata": {},
     "output_type": "execute_result"
    }
   ],
   "source": [
    "(mss3_mean_sum - 4882.5).abs().min(), (mss3_mean_sum - 4882.5).abs().argmin()"
   ]
  },
  {
   "cell_type": "code",
   "execution_count": null,
   "id": "26648844-9538-4c60-8f8d-4429a3103dc0",
   "metadata": {},
   "outputs": [],
   "source": [
    "lbc_idx = 1\n",
    "challenge_idx = 27\n",
    "mss3_idx = 46"
   ]
  }
 ],
 "metadata": {
  "kernelspec": {
   "display_name": "Python 3 (ipykernel)",
   "language": "python",
   "name": "python3"
  },
  "language_info": {
   "codemirror_mode": {
    "name": "ipython",
    "version": 3
   },
   "file_extension": ".py",
   "mimetype": "text/x-python",
   "name": "python",
   "nbconvert_exporter": "python",
   "pygments_lexer": "ipython3",
   "version": "3.8.10"
  }
 },
 "nbformat": 4,
 "nbformat_minor": 5
}
