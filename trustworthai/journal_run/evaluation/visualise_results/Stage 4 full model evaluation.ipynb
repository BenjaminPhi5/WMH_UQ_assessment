{
 "cells": [
  {
   "cell_type": "markdown",
   "id": "0f7d147d-35cd-4c4c-aeca-b7bc3114888d",
   "metadata": {},
   "source": [
    "### Stage 4: Full evaluation of cross validated models\n",
    "\n",
    "this notebook is only to visualize previously collected results, which should be over the whole dataset and also per split of the dataset.\n",
    "Good. A previous notebook does the actual results collection. Nice."
   ]
  },
  {
   "cell_type": "code",
   "execution_count": null,
   "id": "7ab7ddeb-c387-4409-b6a8-0dae11d5b5cc",
   "metadata": {},
   "outputs": [],
   "source": []
  }
 ],
 "metadata": {
  "kernelspec": {
   "display_name": "Python 3 (ipykernel)",
   "language": "python",
   "name": "python3"
  },
  "language_info": {
   "codemirror_mode": {
    "name": "ipython",
    "version": 3
   },
   "file_extension": ".py",
   "mimetype": "text/x-python",
   "name": "python",
   "nbconvert_exporter": "python",
   "pygments_lexer": "ipython3",
   "version": "3.10.8"
  }
 },
 "nbformat": 4,
 "nbformat_minor": 5
}
