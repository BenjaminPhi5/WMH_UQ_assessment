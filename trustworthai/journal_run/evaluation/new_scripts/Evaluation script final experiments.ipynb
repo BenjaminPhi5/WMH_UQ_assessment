{
 "cells": [
  {
   "cell_type": "code",
   "execution_count": 46,
   "id": "819e0d96-9757-4217-899f-f2c042094629",
   "metadata": {
    "tags": []
   },
   "outputs": [
    {
     "name": "stdout",
     "output_type": "stream",
     "text": [
      "strawberry\n",
      "banana\n"
     ]
    }
   ],
   "source": [
    "print(\"strawberry\")\n",
    "\n",
    "# loss function and metrics\n",
    "from trustworthai.utils.losses_and_metrics.dice_loss import DiceLossWithWeightedEmptySlices\n",
    "from trustworthai.utils.losses_and_metrics.dice_loss_metric import DiceLossMetric, SsnDiceMeanMetricWrapper\n",
    "\n",
    "# predefined training dataset\n",
    "from trustworthai.utils.data_preprep.dataset_pipelines import load_data\n",
    "from torch.utils.data import ConcatDataset\n",
    "\n",
    "# fitter\n",
    "from trustworthai.utils.fitting_and_inference.fitters.basic_lightning_fitter import StandardLitModelWrapper\n",
    "from trustworthai.utils.fitting_and_inference.fitters.p_unet_fitter import PUNetLitModelWrapper\n",
    "from trustworthai.utils.fitting_and_inference.get_trainer import get_trainer\n",
    "\n",
    "# model\n",
    "from trustworthai.journal_run.model_load.load_ssn import load_ssn\n",
    "from trustworthai.journal_run.model_load.load_punet import load_p_unet\n",
    "from trustworthai.journal_run.model_load.load_deterministic import load_deterministic\n",
    "from trustworthai.journal_run.model_load.load_evidential import load_evidential\n",
    "from trustworthai.models.stochastic_wrappers.ssn.LowRankMVCustom import LowRankMultivariateNormalCustom\n",
    "from trustworthai.models.stochastic_wrappers.ssn.ReshapedDistribution import ReshapedDistribution\n",
    "\n",
    "# optimizer and lr scheduler\n",
    "import torch\n",
    "\n",
    "\n",
    "import numpy as np\n",
    "from tqdm import tqdm\n",
    "import scipy.stats\n",
    "from trustworthai.utils.plotting.saving_plots import save, imsave\n",
    "from trustworthai.utils.print_and_write_func import print_and_write\n",
    "\n",
    "# misc\n",
    "import argparse\n",
    "import os\n",
    "import shutil\n",
    "import shlex\n",
    "from collections import defaultdict\n",
    "from tqdm import tqdm\n",
    "import sys\n",
    "from natsort import natsorted\n",
    "\n",
    "import pandas as pd\n",
    "from trustworthai.analysis.connected_components.connected_comps_2d import conn_comp_2d_analysis\n",
    "from trustworthai.analysis.evaluation_metrics.challenge_metrics import getAVD, getDSC, getHausdorff, getLesionDetection, do_challenge_metrics\n",
    "from sklearn import metrics\n",
    "import math\n",
    "\n",
    "import torch\n",
    "import matplotlib.pyplot as plt\n",
    "from trustworthai.utils.plotting.saving_plots import save\n",
    "from trustworthai.utils.print_and_write_func import print_and_write\n",
    "from trustworthai.analysis.calibration.helper_funcs import *\n",
    "from tqdm import tqdm\n",
    "from trustworthai.utils.logits_to_preds import normalize_samples\n",
    "\n",
    "# data\n",
    "from trustworthai.utils.data_preprep.dataset_pipelines import load_clinscores_data, load_data, ClinScoreDataRetriever\n",
    "from trustworthai.utils.uncertainty_maps.entropy_map import entropy_map_from_samples\n",
    "\n",
    "\n",
    "# evaluation code\n",
    "from trustworthai.journal_run.evaluation.new_scripts.eval_helper_functions import *\n",
    "from trustworthai.journal_run.evaluation.new_scripts.model_predictions import *\n",
    "from trustworthai.analysis.connected_components.connected_comps_2d import *\n",
    "print(\"banana\")\n"
   ]
  },
  {
   "cell_type": "code",
   "execution_count": 4,
   "id": "bb96711a-9fcf-4b7d-8a62-3746161b36f4",
   "metadata": {
    "tags": []
   },
   "outputs": [],
   "source": [
    "from trustworthai.utils.data_preprep.dataset_pipelines import load_clinscores_data, load_data, ClinScoreDataRetriever"
   ]
  },
  {
   "cell_type": "code",
   "execution_count": 5,
   "id": "2aa71d77-8274-4c91-a73c-9505b479ff28",
   "metadata": {
    "tags": []
   },
   "outputs": [],
   "source": [
    "import matplotlib.pyplot as plt\n",
    "from trustworthai.utils.uncertainty_maps.entropy_map import entropy_map_from_samples"
   ]
  },
  {
   "cell_type": "code",
   "execution_count": 6,
   "id": "7894acbc-6a1f-4bf8-b7c8-3692681f58be",
   "metadata": {
    "tags": []
   },
   "outputs": [],
   "source": [
    "%load_ext autoreload"
   ]
  },
  {
   "cell_type": "code",
   "execution_count": 7,
   "id": "b087c098-0605-4a6c-880a-8284dab25bda",
   "metadata": {
    "tags": []
   },
   "outputs": [],
   "source": [
    "import seaborn as sns"
   ]
  },
  {
   "cell_type": "code",
   "execution_count": 10,
   "id": "2231e224-e227-4995-8e77-eb3d62112ee1",
   "metadata": {
    "tags": []
   },
   "outputs": [],
   "source": [
    "VOXELS_TO_WMH_RATIO = 382\n",
    "VOXELS_TO_WMH_RATIO_EXCLUDING_EMPTY_SLICES = 140"
   ]
  },
  {
   "cell_type": "code",
   "execution_count": 11,
   "id": "65d23420-9835-45ff-8bc3-ed90ef3da014",
   "metadata": {
    "tags": []
   },
   "outputs": [],
   "source": [
    "class ARGS():\n",
    "    def __init__(self):\n",
    "    \n",
    "        # folder arguments\n",
    "        self.ckpt_dir = '/media/benp/NVMEspare/model_data/journal_models/ssn_tune'\n",
    "        self.model_name = \"ssn_prehead16_rank15_sdice0\"\n",
    "        self.model_ckpts_folder = \"/media/benp/NVMEspare/model_data/journal_models/ssn_tune\" # \"/home/s2208943/ipdis/results/cross_validated_models/\"\n",
    "        self.repo_dir = \"/home/benp/Documents/PhD_projects/WMH_UQ_assessment\"\n",
    "        self.result_dir = \"trustworthai/journal_run/evaluation/results/cross_validated_results/out_domain_results\"\n",
    "        self.model_type = \"ssn\"\n",
    "        self.uncertainty_type = \"ssn\"\n",
    "        \n",
    "        # data generation arguments\n",
    "        self.dataset = 'chal'\n",
    "        self.seed = 3407\n",
    "        self.test_split = 0.15\n",
    "        self.val_split = 0.15\n",
    "        self.empty_slice_retention = 0.1\n",
    "        \n",
    "        # general arguments for the loss function\n",
    "        self.loss_name = 'dice+xent'#'dicev2'#'dice+xent'\n",
    "        self.dice_factor = 1#5\n",
    "        self.xent_factor = 1#0.01\n",
    "        self.xent_weight = 'none'\n",
    "        self.xent_reweighting=1\n",
    "        self.dice_empty_slice_weight = 0.5\n",
    "        self.tversky_beta = 0.7\n",
    "        self.reduction = 'mean'#'mean_sum'\n",
    "        \n",
    "        # evidential arguments\n",
    "        self.kl_factor=0.1\n",
    "        self.kl_anneal_count=452*4\n",
    "        self.use_mle=0\n",
    "        self.analytic_kl=0\n",
    "\n",
    "        # p-unet arguments\n",
    "        self.kl_beta=10.\n",
    "        self.use_prior_for_dice=\"false\"\n",
    "        self.punet_sample_dice_coeff=0.05\n",
    "        self.latent_dim=12\n",
    "\n",
    "        # ssn arguments\n",
    "        self.ssn_rank=15\n",
    "        self.ssn_epsilon=1e-5\n",
    "        self.ssn_mc_samples=10\n",
    "        self.ssn_sample_dice_coeff=0.05\n",
    "        self.ssn_pre_head_layers=16\n",
    "        \n",
    "        # training paradigm arguments\n",
    "        self.lr = 2e-4\n",
    "        self.dropout_p = 0.1\n",
    "        self.encoder_dropout1 = 0\n",
    "        self.encoder_dropout2 = 0\n",
    "        self.decoder_dropout1 = 0\n",
    "        self.decoder_dropout2 = 0\n",
    "        self.max_epochs = 100\n",
    "        self.early_stop_patience = 15\n",
    "        self.batch_size = 8#32\n",
    "        self.cross_validate = \"true\"\n",
    "        self.cv_split = 0\n",
    "        self.cv_test_fold_smooth = 1\n",
    "        self.weight_decay = 0.0001\n",
    "        self.overwrite = \"true\"\n",
    "        self.no_test_fold = 'false'"
   ]
  },
  {
   "cell_type": "code",
   "execution_count": 12,
   "id": "16772c69-c3ca-484e-bdcb-fa3f934c4ea0",
   "metadata": {
    "tags": []
   },
   "outputs": [
    {
     "name": "stdout",
     "output_type": "stream",
     "text": [
      "CHECKPOINT DIR: /media/benp/NVMEspare/model_data/journal_models/ssn_tune\n"
     ]
    }
   ],
   "source": [
    "args = ARGS()\n",
    "\n",
    "# sanitise arguments\n",
    "args.overwrite = True if args.overwrite.lower() == \"true\" else False\n",
    "args.cross_validate = True if args.cross_validate.lower() == \"true\" else False\n",
    "args.use_prior_for_dice = True if args.use_prior_for_dice.lower() == \"true\" else False\n",
    "print(f\"CHECKPOINT DIR: {args.ckpt_dir}\")\n",
    "#print(args)\n",
    "\n",
    "\n",
    "# check if folder exists\n",
    "model_result_folder = os.path.join(args.repo_dir, args.result_dir)\n",
    "if not args.overwrite:\n",
    "    existing_files = os.listdir(model_result_folder)\n",
    "    for f in existing_files:\n",
    "        if args.model_name + \"_\" in f:\n",
    "            raise ValueError(f\"ovewrite = false and model results exist! folder={model_result_folder}, model_name={args.model_name}\")\n",
    "with open(os.path.join(model_result_folder, f\"{args.model_name}_init.txt\"), \"w\") as f:\n",
    "                      f.write(\"generating results\\n\")\n",
    "        \n",
    "# setup xent reweighting factor\n",
    "XENT_VOXEL_RESCALE = VOXELS_TO_WMH_RATIO - (1-args.empty_slice_retention) * (VOXELS_TO_WMH_RATIO - VOXELS_TO_WMH_RATIO_EXCLUDING_EMPTY_SLICES)\n",
    "\n",
    "XENT_WEIGHTING = XENT_VOXEL_RESCALE/2\n",
    "args.xent_reweighting = XENT_WEIGHTING"
   ]
  },
  {
   "cell_type": "code",
   "execution_count": 13,
   "id": "99eb3375-1a41-4cfe-b8db-1e070214b975",
   "metadata": {
    "tags": []
   },
   "outputs": [],
   "source": [
    "MODEL_LOADERS = {\n",
    "    \"deterministic\":load_deterministic,\n",
    "    \"mc_drop\":load_deterministic,\n",
    "    \"evidential\":load_evidential,\n",
    "    \"ssn\":load_ssn,\n",
    "    \"punet\":load_p_unet,\n",
    "}\n",
    "\n",
    "MODEL_OUTPUT_GENERATORS = {\n",
    "    \"deterministic\":mc_drop_mean_and_samples,\n",
    "    \"mc_drop\":mc_drop_mean_and_samples,\n",
    "    \"evidential\":evid_mean,\n",
    "    \"ssn\":ssn_mean_and_samples,\n",
    "    \"punet\":punet_mean_and_samples,\n",
    "}"
   ]
  },
  {
   "cell_type": "markdown",
   "id": "fac72edc-8413-4417-a7f7-411b5368958c",
   "metadata": {},
   "source": [
    "### setting up model and data"
   ]
  },
  {
   "cell_type": "code",
   "execution_count": 14,
   "id": "a36938db-ee4d-4cba-9749-8f85e4fb0c0b",
   "metadata": {
    "tags": []
   },
   "outputs": [
    {
     "name": "stdout",
     "output_type": "stream",
     "text": [
      "39 9 12\n"
     ]
    }
   ],
   "source": [
    "# get the 3d dataloader\n",
    "data_dict = load_data(\n",
    "    dataset=args.dataset, \n",
    "    test_proportion=args.test_split, \n",
    "    validation_proportion=args.val_split,\n",
    "    seed=args.seed,\n",
    "    empty_proportion_retained=args.empty_slice_retention,\n",
    "    batch_size=args.batch_size,\n",
    "    dataloader2d_only=False,\n",
    "    cross_validate=args.cross_validate,\n",
    "    cv_split=args.cv_split,\n",
    "    cv_test_fold_smooth=args.cv_test_fold_smooth,\n",
    "    merge_val_test=args.no_test_fold\n",
    ")\n"
   ]
  },
  {
   "cell_type": "code",
   "execution_count": 15,
   "id": "ddb51232-e194-4a89-bb2a-fcd665c4e245",
   "metadata": {
    "tags": []
   },
   "outputs": [],
   "source": [
    "train_imgs = data_dict['train_dataset3d']\n",
    "val_imgs = data_dict['val_dataset3d']\n",
    "test_imgs = data_dict['test_dataset3d']"
   ]
  },
  {
   "cell_type": "code",
   "execution_count": 16,
   "id": "8dc4ebdc-c9c2-46c9-8243-87768c969be3",
   "metadata": {
    "tags": []
   },
   "outputs": [],
   "source": [
    "eval_ds = train_imgs"
   ]
  },
  {
   "cell_type": "code",
   "execution_count": 17,
   "id": "20ca7bce-24bf-4b48-8fa7-0a2573589b16",
   "metadata": {
    "tags": []
   },
   "outputs": [],
   "source": [
    "# get data as lists\n",
    "xs3d_test, ys3d_test = get_xs_and_ys(eval_ds)\n",
    "gt_vols = GT_volumes(ys3d_test)"
   ]
  },
  {
   "cell_type": "code",
   "execution_count": 18,
   "id": "ad3318c1-c7b1-4ace-9801-2725a4fcd194",
   "metadata": {
    "tags": []
   },
   "outputs": [],
   "source": [
    "uncertainty_thresholds = torch.arange(0, 0.7, 0.01)"
   ]
  },
  {
   "cell_type": "code",
   "execution_count": 19,
   "id": "72eff1f7-1eae-4fe0-96f2-0723a20e63d3",
   "metadata": {
    "tags": []
   },
   "outputs": [
    {
     "name": "stdout",
     "output_type": "stream",
     "text": [
      "model dir:  /media/benp/NVMEspare/model_data/journal_models/ssn_tune/ssn_prehead16_rank15_sdice0\n"
     ]
    },
    {
     "name": "stderr",
     "output_type": "stream",
     "text": [
      "/home/benp/.local/lib/python3.10/site-packages/pytorch_lightning/utilities/migration/utils.py:49: PossibleUserWarning: The loaded checkpoint was produced with Lightning v2.1.2, which is newer than your current Lightning version: v2.0.2\n",
      "  rank_zero_warn(\n"
     ]
    }
   ],
   "source": [
    "# load the model\n",
    "model_dir = os.path.join(args.ckpt_dir, args.model_name)  \n",
    "print(\"model dir: \", model_dir)\n",
    "model_raw, loss, val_loss = MODEL_LOADERS[args.model_type](args)\n",
    "model = load_best_checkpoint(model_raw, loss, model_dir, punet=args.model_type == \"punet\")"
   ]
  },
  {
   "cell_type": "markdown",
   "id": "46df1799-526c-4a3f-8823-0a085af755f1",
   "metadata": {},
   "source": [
    "### collecting basic results"
   ]
  },
  {
   "cell_type": "code",
   "execution_count": 20,
   "id": "fffef482-f578-43a7-bb77-06c9a89c15fa",
   "metadata": {
    "tags": []
   },
   "outputs": [
    {
     "name": "stderr",
     "output_type": "stream",
     "text": [
      "100%|█████████████████████████████████████████████████████████████████████████████████████████████████████████████████████████████████████████████████████████| 39/39 [00:16<00:00,  2.41it/s]\n",
      "100%|█████████████████████████████████████████████████████████████████████████████████████████████████████████████████████████████████████████████████████████| 39/39 [00:28<00:00,  1.37it/s]\n",
      "100%|█████████████████████████████████████████████████████████████████████████████████████████████████████████████████████████████████████████████████████████| 39/39 [00:01<00:00, 28.77it/s]\n",
      "100%|█████████████████████████████████████████████████████████████████████████████████████████████████████████████████████████████████████████████████████████| 39/39 [00:01<00:00, 35.32it/s]\n",
      "100%|█████████████████████████████████████████████████████████████████████████████████████████████████████████████████████████████████████████████████████████| 39/39 [00:01<00:00, 26.69it/s]\n"
     ]
    }
   ],
   "source": [
    "# get data as lists\n",
    "xs3d_test, ys3d_test = get_xs_and_ys(eval_ds)\n",
    "gt_vols = GT_volumes(ys3d_test)\n",
    "\n",
    "# load the predictions\n",
    "means, samples, misc = get_means_and_samples(model_raw, eval_ds, num_samples=10, model_func=MODEL_OUTPUT_GENERATORS[args.model_type])\n",
    "\n",
    "# run the evaluation on the means\n",
    "chal_results = per_model_chal_stats(means, ys3d_test)\n",
    "\n",
    "rmses = []\n",
    "for m, y in zip(means, ys3d_test):\n",
    "    rmses.append(fast_rmse(m.cuda().softmax(dim=1), y.cuda()).cpu())\n",
    "rmses = torch.Tensor(rmses)\n",
    "chal_results['rmse'] = rmses\n",
    "\n",
    "chal_results['gt_vols'] = gt_vols\n",
    "\n",
    "# run the evaluation on the samples\n",
    "if samples[0] is not None:\n",
    "    samples = [reorder_samples(s) for s in samples]\n",
    "    sample_top_dices, sample_dices = per_sample_metric(samples, ys3d_test, f=fast_dice, do_argmax=True, do_softmax=False, minimise=False)\n",
    "    sample_best_avds, sample_avds = per_sample_metric(samples, ys3d_test, f=fast_avd, do_argmax=True, do_softmax=False, minimise=True)\n",
    "    sample_best_rmses, sample_rmses = per_sample_metric(samples, ys3d_test, f=fast_rmse, do_argmax=False, do_softmax=True, minimise=True)\n",
    "\n",
    "    chal_results['best_dice'] = sample_top_dices\n",
    "    chal_results['best_avd'] = sample_best_avds\n",
    "    chal_results['best_rmse'] = sample_best_rmses"
   ]
  },
  {
   "cell_type": "markdown",
   "id": "c36f3964-a3ae-4100-a3f2-d428476a4013",
   "metadata": {},
   "source": [
    "### collecting the full set of results"
   ]
  },
  {
   "cell_type": "markdown",
   "id": "50d0e45e-f04c-4e83-a119-87e50abd62c5",
   "metadata": {},
   "source": [
    "#### calculating the uncertainty maps"
   ]
  },
  {
   "cell_type": "code",
   "execution_count": 21,
   "id": "b89e1bc5-4d65-4f1f-a40b-675f93b41960",
   "metadata": {
    "tags": []
   },
   "outputs": [],
   "source": [
    "def entropy_map_from_samples(samples, do_normalize=True, **kwargs):\n",
    "    \"samples is of shape samples, batch size, channels, image dims  [s, b, c *<dims>]\"\n",
    "    if samples.shape[2] == 1:\n",
    "        return entropy_map_from_samples_implicit(samples, do_normalize)\n",
    "    else:\n",
    "        assert samples.shape[2] == 2\n",
    "    \n",
    "    if do_normalize:\n",
    "        probs = torch.nn.functional.softmax(samples, dim=2)\n",
    "    else:\n",
    "        probs = samples\n",
    "\n",
    "    pic = torch.mean(probs, dim=0)\n",
    "    ent_map = torch.sum(-pic * torch.log(pic+1e-30), dim=1)\n",
    "\n",
    "    return ent_map\n",
    "\n",
    "\n",
    "def entropy_map_from_samples_implicit(samples, do_normalize, **kwargs):\n",
    "    if do_normalize:\n",
    "        probs = torch.sigmoid(samples)\n",
    "    else:\n",
    "        probs = samples\n",
    "        \n",
    "    pic = torch.mean(probs, dim=0)\n",
    "    ent_map = (\n",
    "        (-pic * torch.log(pic + 1e-30)) \n",
    "        + (-(1-pic) * torch.log((1-pic) + 1e-30))\n",
    "    )\n",
    "    return ent_map.squeeze()\n",
    "\n",
    "\n",
    "def entropy_map_from_mean(mean, do_normalize=True, **kwargs):\n",
    "    \"samples is of shape samples, batch size, channels, image dims  [s, b, c *<dims>]\"\n",
    "    if mean.shape[1] == 1:\n",
    "        raise ValueError(\"not implemented for implicit background class\")\n",
    "    else:\n",
    "        assert mean.shape[1] == 2\n",
    "    \n",
    "    if do_normalize:\n",
    "        probs = torch.nn.functional.softmax(mean, dim=1)\n",
    "    else:\n",
    "        probs = mean\n",
    "    ent_map = torch.sum(-probs * torch.log(probs+1e-30), dim=1)\n",
    "\n",
    "    return ent_map\n",
    "\n",
    "\n",
    "UNCERTAINTY_MAP_GENERATORS = {\n",
    "    \"deterministic\":entropy_map_from_mean,\n",
    "    \"mc_drop\":entropy_map_from_samples,\n",
    "    \"evidential_mean\":entropy_map_from_mean,\n",
    "    \"evidential_aleatoric\":None,\n",
    "    \"ssn\":entropy_map_from_samples,\n",
    "    \"punet\":entropy_map_from_samples,\n",
    "    \"ssn_ens\":entropy_map_from_samples,\n",
    "    \"ens\":entropy_map_from_samples,\n",
    "    \"softmax_ent\":entropy_map_from_mean,\n",
    "    \"ind\":entropy_map_from_samples,\n",
    "}\n",
    "\n",
    "\n",
    "def get_uncertainty_maps(means, samples, misc):\n",
    "    ent_maps = []\n",
    "    umap_func = UNCERTAINTY_MAP_GENERATORS[args.uncertainty_type]\n",
    "    print(\"generating uncertainty maps\")\n",
    "    for idx in tqdm(range(len(means)), position=0, leave=True):\n",
    "        umap_params = {\"mean\":means[idx], \"samples\":samples[idx], \"misc\":misc[idx], \"do_normalize\":True}\n",
    "        ent_maps.append(umap_func(**umap_params))\n",
    "    return ent_maps"
   ]
  },
  {
   "cell_type": "code",
   "execution_count": 22,
   "id": "aa5f9e22-fd1c-4639-9814-addb4ea4bb61",
   "metadata": {
    "tags": []
   },
   "outputs": [
    {
     "name": "stdout",
     "output_type": "stream",
     "text": [
      "generating uncertainty maps\n"
     ]
    },
    {
     "name": "stderr",
     "output_type": "stream",
     "text": [
      "100%|█████████████████████████████████████████████████████████████████████████████████████████████████████████████████████████████████████████████████████████| 39/39 [00:02<00:00, 14.53it/s]\n"
     ]
    }
   ],
   "source": [
    "ent_maps = get_uncertainty_maps(means, samples, misc)"
   ]
  },
  {
   "cell_type": "code",
   "execution_count": 23,
   "id": "282d9f78-0634-45cb-951c-ef14c2a08a3c",
   "metadata": {
    "tags": []
   },
   "outputs": [
    {
     "data": {
      "text/plain": [
       "<matplotlib.image.AxesImage at 0x7fec901f8dc0>"
      ]
     },
     "execution_count": 23,
     "metadata": {},
     "output_type": "execute_result"
    },
    {
     "data": {
      "image/png": "[encoded data removed]",
      "text/plain": [
       "<Figure size 640x480 with 1 Axes>"
      ]
     },
     "metadata": {},
     "output_type": "display_data"
    }
   ],
   "source": [
    "ent_maps[0].shape\n",
    "plt.imshow(ent_maps[0][40])"
   ]
  },
  {
   "cell_type": "markdown",
   "id": "a405d4a3-9324-4d35-af1e-4268f0aa34eb",
   "metadata": {},
   "source": [
    "#### best vd\n",
    "I would like to say whether we can make say a deterministic policy, so we could go with what is the skew of the data for example. Nice."
   ]
  },
  {
   "cell_type": "code",
   "execution_count": 24,
   "id": "828f1f7c-0d3e-4196-98ac-c31d2c008acf",
   "metadata": {
    "tags": []
   },
   "outputs": [],
   "source": [
    "vds = []\n",
    "for m, y in zip(means, ys3d_test):\n",
    "    vds.append(fast_vd(m.cuda().argmax(dim=1), y.cuda()))"
   ]
  },
  {
   "cell_type": "code",
   "execution_count": 25,
   "id": "8a0f2cfe-a7b8-41ce-a42d-37e43964bb61",
   "metadata": {
    "tags": []
   },
   "outputs": [],
   "source": [
    "%autoreload"
   ]
  },
  {
   "cell_type": "code",
   "execution_count": 26,
   "id": "898c29b5-3aca-4d4e-889b-acd2e84c584c",
   "metadata": {
    "tags": []
   },
   "outputs": [
    {
     "name": "stderr",
     "output_type": "stream",
     "text": [
      "100%|█████████████████████████████████████████████████████████████████████████████████████████████████████████████████████████████████████████████████████████| 39/39 [00:01<00:00, 35.38it/s]\n"
     ]
    }
   ],
   "source": [
    "_, sample_vds = per_sample_metric(samples, ys3d_test, f=fast_vd, do_argmax=True, do_softmax=False, minimise=True, take_abs=False)\n",
    "sample_vd_skew = scipy.stats.skew(sample_vds, axis=1, bias=True)\n",
    "\n",
    "chal_results['sample_vd_skew'] = sample_vd_skew\n",
    "for s in range(sample_vds.shape[1]):\n",
    "    chal_results[f'sample_{s}_vd'] = sample_vds[:,s]\n",
    "\n"
   ]
  },
  {
   "cell_type": "code",
   "execution_count": 27,
   "id": "a7de26ee-6cda-45e4-82e0-c140fb2ba41f",
   "metadata": {
    "tags": []
   },
   "outputs": [
    {
     "data": {
      "text/plain": [
       "array([ 0.43106982,  0.7320493 ,  0.614016  ,  0.68601817,  0.20023157,\n",
       "        0.36903787,  0.55334795,  0.3515581 ,  1.2922055 ,  0.49675456,\n",
       "        1.0869612 ,  0.32062492,  0.44202304, -0.27539796,  0.0714476 ,\n",
       "        1.035503  ,  0.5587101 ,  0.5255462 ,  0.0472811 ,  0.8587471 ,\n",
       "        1.0440565 ,  1.0551349 ,  0.97264117,  0.33513355,  0.6309724 ,\n",
       "        0.24015582,  0.9445252 ,  1.4514832 ,  1.5271953 ,  1.323211  ,\n",
       "        0.81383795,  0.5762319 ,  1.3245233 ,  1.0556139 ,  0.33007947,\n",
       "        1.3545253 ,  2.43919   ,  1.1658721 ,  1.0184891 ], dtype=float32)"
      ]
     },
     "execution_count": 27,
     "metadata": {},
     "output_type": "execute_result"
    }
   ],
   "source": [
    "scipy.stats.skew(sample_vds, axis=1)"
   ]
  },
  {
   "cell_type": "markdown",
   "id": "ab862d99-7cab-4ece-a78a-05ab294ffe90",
   "metadata": {},
   "source": [
    "### GeD"
   ]
  },
  {
   "cell_type": "code",
   "execution_count": 28,
   "id": "451928e0-cfae-4375-aa5a-57df9ee025dd",
   "metadata": {
    "tags": []
   },
   "outputs": [],
   "source": [
    "def fast_iou(pred, target):\n",
    "    p1 = (pred == 1)\n",
    "    t1 = (target == 1)\n",
    "    intersection = (pred == 1) & (target == 1)\n",
    "    numerator = intersection.sum()\n",
    "    denominator = p1.sum() + t1.sum() - numerator\n",
    "    return (numerator/(denominator + 1e-30)).item()"
   ]
  },
  {
   "cell_type": "code",
   "execution_count": 29,
   "id": "a5b79f0e-a9bb-4a5b-b804-a04171d499eb",
   "metadata": {
    "tags": []
   },
   "outputs": [],
   "source": [
    "def iou_GED(means, ys3d_test, samples):\n",
    "    geds = []\n",
    "    \n",
    "    for i in tqdm(range(len(means)), position=0, leave=True):\n",
    "        y = ys3d_test[i].cuda()\n",
    "        ss = samples[i].cuda().argmax(dim=2)\n",
    "        num_samples = ss.shape[0]\n",
    "        \n",
    "        dists_ab = 0\n",
    "        \n",
    "        # print(y.sum())\n",
    "        \n",
    "        for s in ss:\n",
    "            pred = s#.argmax(dim=1)\n",
    "            dists_ab += (1 - fast_iou(pred, y))\n",
    "            # print(dists_ab)\n",
    "            # print(s.shape)\n",
    "        \n",
    "        dists_ab /= num_samples\n",
    "        dists_ab *= 2\n",
    "        \n",
    "        dists_ss = 0\n",
    "        for j, s1 in enumerate(ss):\n",
    "            for k, s2 in enumerate(ss):\n",
    "                if j == k:\n",
    "                    continue\n",
    "                dists_ss += (1 - fast_iou(s1, s2))\n",
    "        \n",
    "        dists_ss /= (num_samples * (num_samples - 1))\n",
    "        \n",
    "        ged = dists_ab - dists_ss\n",
    "        if not np.isnan(ged):\n",
    "            geds.append(ged)\n",
    "        #break\n",
    "        \n",
    "    return torch.Tensor(geds)"
   ]
  },
  {
   "cell_type": "code",
   "execution_count": 30,
   "id": "7187bc3a-22bf-48d6-91eb-929e6939b055",
   "metadata": {
    "tags": []
   },
   "outputs": [
    {
     "data": {
      "text/plain": [
       "torch.Size([10, 48, 2, 224, 160])"
      ]
     },
     "execution_count": 30,
     "metadata": {},
     "output_type": "execute_result"
    }
   ],
   "source": [
    "samples[0].shape"
   ]
  },
  {
   "cell_type": "code",
   "execution_count": 31,
   "id": "b1753e6e-122e-420d-8960-6ad05d9317d0",
   "metadata": {
    "tags": []
   },
   "outputs": [
    {
     "name": "stderr",
     "output_type": "stream",
     "text": [
      "100%|█████████████████████████████████████████████████████████████████████████████████████████████████████████████████████████████████████████████████████████| 39/39 [00:03<00:00,  9.84it/s]\n"
     ]
    }
   ],
   "source": [
    "geds = iou_GED(means, ys3d_test, samples)"
   ]
  },
  {
   "cell_type": "code",
   "execution_count": 32,
   "id": "abc5574e-4d61-4422-8cc3-bc1eb73071d1",
   "metadata": {
    "tags": []
   },
   "outputs": [],
   "source": [
    "chal_results['GED^2'] = sample_top_dices"
   ]
  },
  {
   "cell_type": "markdown",
   "id": "000c15a6-84ec-4640-8a07-c36b23a897b3",
   "metadata": {},
   "source": [
    "#### PAVPU (replace bras with pavpu)? \n",
    "actually BRAS is okay when all the methods are equally well calibrated?"
   ]
  },
  {
   "cell_type": "code",
   "execution_count": 77,
   "id": "17f768f2-be0f-4bbd-9693-380897e01f63",
   "metadata": {
    "tags": []
   },
   "outputs": [
    {
     "data": {
      "text/plain": [
       "(torch.Size([48, 2, 224, 160]),\n",
       " torch.Size([48, 224, 160]),\n",
       " torch.Size([48, 224, 160]))"
      ]
     },
     "execution_count": 77,
     "metadata": {},
     "output_type": "execute_result"
    }
   ],
   "source": [
    "means[0].shape, ent_maps[0].shape, ys3d_test[0].shape"
   ]
  },
  {
   "cell_type": "code",
   "execution_count": 165,
   "id": "64150b1b-e4b7-49d7-be73-18c201eaf872",
   "metadata": {
    "tags": []
   },
   "outputs": [],
   "source": [
    "def individual_pavpu(mean, ent_map, label, ws=4, acc_t=0.8):\n",
    "    pred_unfolded = mean.argmax(dim=1).unfold(0, ws, ws).unfold(1, ws, ws).unfold(2, ws, ws).reshape(-1, ws, ws, ws)\n",
    "    ent_unfolded = ent_map.unfold(0, ws, ws).unfold(1, ws, ws).unfold(2, ws, ws).reshape(-1, ws, ws, ws)\n",
    "    ys_unfolded = label.unfold(0, ws, ws).unfold(1, ws, ws).unfold(2, ws, ws).reshape(-1, ws, ws, ws)\n",
    "\n",
    "    patch_acc = (pred_unfolded == ys_unfolded).type(torch.float32).mean(dim=(1,2,3))\n",
    "    patch_uncert = ent_unfolded.mean(dim=(1,2,3))\n",
    "    patch_non_empty = ys_unfolded.sum(dim=(1,2,3)) > 0\n",
    "\n",
    "    p_acc_cert = []\n",
    "    p_uncert_inacc = []\n",
    "    pavpu = []\n",
    "\n",
    "    for tau in uncertainty_thresholds:\n",
    "        acc = (patch_acc >= acc_t) * patch_non_empty\n",
    "        inacc = (patch_acc < acc_t) * patch_non_empty\n",
    "        cert = (patch_uncert < tau) * patch_non_empty\n",
    "        uncert = (patch_uncert >= tau) * patch_non_empty\n",
    "\n",
    "        n_ac = (acc * cert).sum().item()\n",
    "        n_au = (acc * uncert).sum().item()\n",
    "        n_iu = (inacc * uncert).sum().item()\n",
    "        n_ic = (inacc * cert).sum().item()\n",
    "\n",
    "        p_acc_cert.append(n_ac / (n_ac + n_ic + 1e-30))\n",
    "        p_uncert_inacc.append(n_iu / (n_ic + n_iu + 1e-30))\n",
    "        pavpu.append((n_ac + n_iu) / (n_ac + n_au + n_ic + n_iu + 1e-30))\n",
    "        \n",
    "    return p_acc_cert, p_uncert_inacc, pavpu\n",
    "\n",
    "def all_individuals_pavpu(means, ent_maps, ys, window_size=4, accuracy_threshold=0.8):\n",
    "    all_acc_cert = []\n",
    "    all_uncert_inacc = []\n",
    "    all_pavpu = []\n",
    "    for i in tqdm(range(len(means)), position=0, leave=True):\n",
    "        p_acc_cert, p_uncert_inacc, pavpu = individual_pavpu(means[i].cuda(), ent_maps[i].cuda(), ys[i].cuda(), window_size, accuracy_threshold)\n",
    "        all_acc_cert.append(p_acc_cert)\n",
    "        all_uncert_inacc.append(p_uncert_inacc)\n",
    "        all_pavpu.append(pavpu)\n",
    "        # break\n",
    "    \n",
    "    return torch.Tensor(all_acc_cert), torch.Tensor(all_uncert_inacc), torch.Tensor(all_pavpu)"
   ]
  },
  {
   "cell_type": "code",
   "execution_count": 166,
   "id": "1e536025-ca37-4120-a43b-f338151f21ea",
   "metadata": {
    "tags": []
   },
   "outputs": [
    {
     "name": "stderr",
     "output_type": "stream",
     "text": [
      "100%|█████████████████████████████████████████████████████████████████████████████████████████████████████████████████████████████████████████████████████████| 39/39 [00:00<00:00, 42.94it/s]\n"
     ]
    }
   ],
   "source": [
    "all_acc_cert, all_uncert_inacc,all_pavpu = all_individuals_pavpu(means, ent_maps, ys3d_test, 4, 0.8)"
   ]
  },
  {
   "cell_type": "code",
   "execution_count": 170,
   "id": "0bdf3e93-4d4c-40fa-b61f-c53cfba1ea13",
   "metadata": {
    "tags": []
   },
   "outputs": [
    {
     "data": {
      "text/plain": [
       "(torch.Size([39]), torch.Size([70]))"
      ]
     },
     "execution_count": 170,
     "metadata": {},
     "output_type": "execute_result"
    }
   ],
   "source": [
    "all_acc_cert.mean(dim=1).shape, uncertainty_thresholds.shape"
   ]
  },
  {
   "cell_type": "code",
   "execution_count": 184,
   "id": "39c995a8-5c24-4600-be0f-987714becd87",
   "metadata": {
    "tags": []
   },
   "outputs": [
    {
     "data": {
      "text/plain": [
       "torch.Size([39, 70])"
      ]
     },
     "execution_count": 184,
     "metadata": {},
     "output_type": "execute_result"
    }
   ],
   "source": [
    "all_acc_cert.shape"
   ]
  },
  {
   "cell_type": "code",
   "execution_count": 187,
   "id": "56369b80-c90f-4532-beb6-d8631e75477e",
   "metadata": {
    "tags": []
   },
   "outputs": [],
   "source": [
    "for i, tau in enumerate(uncertainty_thresholds):\n",
    "    chal_results[f'p_acc_cert_{tau:.2f}'] = all_acc_cert[:,i]\n",
    "    chal_results[f'p_uncert_inacc_{tau:.2f}'] = all_uncert_inacc[:,i]\n",
    "    chal_results[f'pavpu_{tau:.2f}'] = all_pavpu[:,i]\n",
    "    "
   ]
  },
  {
   "cell_type": "code",
   "execution_count": 183,
   "id": "2551325c-0530-4052-a568-bbabb9f3cb24",
   "metadata": {
    "tags": []
   },
   "outputs": [
    {
     "data": {
      "image/png": "[encoded data removed]",
      "text/plain": [
       "<Figure size 640x480 with 3 Axes>"
      ]
     },
     "metadata": {},
     "output_type": "display_data"
    }
   ],
   "source": [
    "plt.subplot(1,3,1)\n",
    "m = all_acc_cert.mean(dim=0)\n",
    "plt.plot(uncertainty_thresholds, m)\n",
    "si = all_acc_cert.std(dim=0)/(len(means)**0.5)\n",
    "plt.fill_between(uncertainty_thresholds, m-si, m+si, alpha=0.3)\n",
    "plt.ylim((0, 1))\n",
    "plt.subplot(1,3,2)\n",
    "m = all_uncert_inacc.mean(dim=0)\n",
    "plt.plot(uncertainty_thresholds, m)\n",
    "si = all_uncert_inacc.std(dim=0)/(len(means)**0.5)\n",
    "plt.fill_between(uncertainty_thresholds, m-si, m+si, alpha=0.3)\n",
    "plt.ylim((0, 1))\n",
    "plt.subplot(1,3,3)\n",
    "m = all_pavpu.mean(dim=0)\n",
    "plt.plot(uncertainty_thresholds, m)\n",
    "si = all_pavpu.std(dim=0)/(len(means)**0.5)\n",
    "plt.fill_between(uncertainty_thresholds, m-si, m+si, alpha=0.3)\n",
    "plt.ylim((0, 1))\n",
    "plt.tight_layout()"
   ]
  },
  {
   "cell_type": "markdown",
   "id": "0141e1b7-1533-4f48-85c4-3fd983fa1770",
   "metadata": {},
   "source": [
    "#### sUEO score, UEO per threshold, max UEO?\n",
    "\n",
    "I need to filter out bad predictions (broken images) in the visualisation of results section."
   ]
  },
  {
   "cell_type": "code",
   "execution_count": 33,
   "id": "3190de0c-cb88-42f8-9da9-2a211238ad68",
   "metadata": {
    "tags": []
   },
   "outputs": [],
   "source": [
    "def sUEO(pred, ent_map, target):\n",
    "    errors = (pred != target)\n",
    "    \n",
    "    numerator = 2 * (ent_map * errors).sum()\n",
    "    denominator = (errors**2).sum() + (ent_map**2).sum()\n",
    "    \n",
    "    return (numerator / denominator).item()"
   ]
  },
  {
   "cell_type": "code",
   "execution_count": 34,
   "id": "7f9b4030-70d6-4905-9192-bfb6224d26c4",
   "metadata": {
    "tags": []
   },
   "outputs": [],
   "source": [
    "def get_sUEOs(means, ys3d_test, ent_maps):\n",
    "    sUEOs = []\n",
    "    for i in tqdm(range(len(ent_maps)), position=0, leave=True):\n",
    "        pred = means[i].argmax(dim=1).cuda()\n",
    "        target = ys3d_test[i].cuda()\n",
    "        ent = ent_maps[i].cuda()\n",
    "\n",
    "        if pred.sum() == 0:\n",
    "            continue\n",
    "\n",
    "        sUEOs.append(sUEO(pred, ent, target))\n",
    "\n",
    "    sUEOs = torch.Tensor(sUEOs)\n",
    "    return sUEOs"
   ]
  },
  {
   "cell_type": "code",
   "execution_count": 37,
   "id": "7fc7c72a-734f-46ba-bf55-f98be504c8ea",
   "metadata": {
    "tags": []
   },
   "outputs": [
    {
     "name": "stderr",
     "output_type": "stream",
     "text": [
      "100%|█████████████████████████████████████████████████████████████████████████████████████████████████████████████████████████████████████████████████████████| 39/39 [00:06<00:00,  6.46it/s]\n"
     ]
    }
   ],
   "source": [
    "sUEOs = get_sUEOs(means, ys3d_test, ent_maps)\n",
    "chal_results['sUEO'] = sUEOs"
   ]
  },
  {
   "cell_type": "code",
   "execution_count": 189,
   "id": "e2a37582-1830-480f-bdc3-354310f3d446",
   "metadata": {
    "tags": []
   },
   "outputs": [
    {
     "data": {
      "text/plain": [
       "tensor([0.0000, 0.0100, 0.0200, 0.0300, 0.0400, 0.0500, 0.0600, 0.0700, 0.0800,\n",
       "        0.0900, 0.1000, 0.1100, 0.1200, 0.1300, 0.1400, 0.1500, 0.1600, 0.1700,\n",
       "        0.1800, 0.1900, 0.2000, 0.2100, 0.2200, 0.2300, 0.2400, 0.2500, 0.2600,\n",
       "        0.2700, 0.2800, 0.2900, 0.3000, 0.3100, 0.3200, 0.3300, 0.3400, 0.3500,\n",
       "        0.3600, 0.3700, 0.3800, 0.3900, 0.4000, 0.4100, 0.4200, 0.4300, 0.4400,\n",
       "        0.4500, 0.4600, 0.4700, 0.4800, 0.4900, 0.5000, 0.5100, 0.5200, 0.5300,\n",
       "        0.5400, 0.5500, 0.5600, 0.5700, 0.5800, 0.5900, 0.6000, 0.6100, 0.6200,\n",
       "        0.6300, 0.6400, 0.6500, 0.6600, 0.6700, 0.6800, 0.6900])"
      ]
     },
     "execution_count": 189,
     "metadata": {},
     "output_type": "execute_result"
    }
   ],
   "source": [
    "uncertainty_thresholds"
   ]
  },
  {
   "cell_type": "code",
   "execution_count": 38,
   "id": "9b98e791-9024-42b8-898e-5108ab0bd5fc",
   "metadata": {
    "tags": []
   },
   "outputs": [],
   "source": [
    "def UEO_per_threshold_analysis(uncertainty_thresholds, ys3d, ind_ent_maps, means, max_ent):\n",
    "    ueos = [[] for _ in range(len(uncertainty_thresholds))]\n",
    "                              \n",
    "    for i in tqdm(range(len(ys3d)), position=0, leave=True):\n",
    "        pred = means[i].argmax(dim=1).cuda()\n",
    "        target = ys3d[i].cuda()\n",
    "        ent = ind_ent_maps[i].cuda()\n",
    "        \n",
    "        # if pred.sum() == 0:\n",
    "        #     continue\n",
    "        \n",
    "        for j, t in enumerate((uncertainty_thresholds)):\n",
    "            ueos[j].append(sUEO(pred, (ent > t).type(torch.float32), target))\n",
    "    \n",
    "    ueos = torch.stack([torch.Tensor(ind_ueo) for ind_ueo in ueos], dim=0)\n",
    "#     ueos_mean = ueos.mean(dim=1)\n",
    "#     ueos_std = ueos.std(dim=1)\n",
    "\n",
    "#     best_index = torch.Tensor(ueos).argmax()\n",
    "#     return ueos_mean, ueos_std\n",
    "    return ueos"
   ]
  },
  {
   "cell_type": "code",
   "execution_count": 39,
   "id": "6dc21857-58ab-4c26-96de-d922ebff7cdd",
   "metadata": {
    "tags": []
   },
   "outputs": [
    {
     "name": "stderr",
     "output_type": "stream",
     "text": [
      "100%|█████████████████████████████████████████████████████████████████████████████████████████████████████████████████████████████████████████████████████████| 39/39 [00:08<00:00,  4.82it/s]\n"
     ]
    }
   ],
   "source": [
    "ueos = UEO_per_threshold_analysis(uncertainty_thresholds, ys3d_test, ent_maps, means, 0.7)"
   ]
  },
  {
   "cell_type": "code",
   "execution_count": 40,
   "id": "0d96b183-cd1e-42f2-9542-d29b581326cf",
   "metadata": {
    "tags": []
   },
   "outputs": [],
   "source": [
    "ueos_mean = ueos.mean(dim=1)\n",
    "ueos_std = ueos.std(dim=1)"
   ]
  },
  {
   "cell_type": "code",
   "execution_count": 41,
   "id": "5daf4dad-126f-4e32-ac49-7ecf8f40b3a9",
   "metadata": {
    "tags": []
   },
   "outputs": [
    {
     "data": {
      "text/plain": [
       "<matplotlib.collections.PolyCollection at 0x7fec12a3e680>"
      ]
     },
     "execution_count": 41,
     "metadata": {},
     "output_type": "execute_result"
    },
    {
     "data": {
      "image/png": "[encoded data removed]",
      "text/plain": [
       "<Figure size 640x480 with 1 Axes>"
      ]
     },
     "metadata": {},
     "output_type": "display_data"
    }
   ],
   "source": [
    "plt.plot(uncertainty_thresholds, ueos_mean)\n",
    "sn = len(ueos_mean) ** 0.5\n",
    "plt.fill_between(uncertainty_thresholds, ueos_mean - ueos_std/sn, ueos_mean + ueos_std/sn, alpha=0.3)\n"
   ]
  },
  {
   "cell_type": "code",
   "execution_count": 190,
   "id": "ba3bbae1-d1d5-43d9-80f8-aa1f8f29280e",
   "metadata": {
    "tags": []
   },
   "outputs": [],
   "source": [
    "for i, tau in enumerate(uncertainty_thresholds):\n",
    "    chal_results[f'UEO_{tau:.2f}'] = ueos[i]"
   ]
  },
  {
   "cell_type": "code",
   "execution_count": 43,
   "id": "19ff3f11-b2b8-4e57-a423-36ed1332d392",
   "metadata": {
    "tags": []
   },
   "outputs": [
    {
     "data": {
      "text/plain": [
       "torch.Size([70, 39])"
      ]
     },
     "execution_count": 43,
     "metadata": {},
     "output_type": "execute_result"
    }
   ],
   "source": [
    "ueos.shape"
   ]
  },
  {
   "cell_type": "code",
   "execution_count": 44,
   "id": "165fa9ee-f2d8-48db-a196-91081baafad2",
   "metadata": {
    "tags": []
   },
   "outputs": [
    {
     "data": {
      "text/plain": [
       "70"
      ]
     },
     "execution_count": 44,
     "metadata": {},
     "output_type": "execute_result"
    }
   ],
   "source": [
    "len(uncertainty_thresholds)"
   ]
  },
  {
   "cell_type": "markdown",
   "id": "23b25362-feba-4aa0-99d3-a7e68076a7ea",
   "metadata": {},
   "source": [
    "### 2D connected components analysis"
   ]
  },
  {
   "cell_type": "code",
   "execution_count": 49,
   "id": "928c84e0-91cc-4add-ade6-bf9df947c093",
   "metadata": {},
   "outputs": [],
   "source": [
    "def conn_comp_2d_analysis(uncertainty_thresholds, ys3d, means3d, ind_ent_maps):\n",
    "    conncomp_outs = []\n",
    "\n",
    "    for y in tqdm(ys3d, position=0, leave=True, ncols=150):\n",
    "        labels_out = K.contrib.connected_components(y.unsqueeze(1).type(torch.float32), num_iterations=150)\n",
    "        conncomp_outs.append(labels_out)\n",
    "\n",
    "    # this is the 1 pixel is covered by the entropy\n",
    "    #c_thresholds = [0.05, 0.1, 0.2, 0.3, 0.6]\n",
    "    c_thresholds = [t.item() for t in uncertainty_thresholds]\n",
    "    coverages = [0.1, 0.5, 0.9]\n",
    "    missing_lesion_size_ent = []\n",
    "    existing_lesion_size_ent = []\n",
    "\n",
    "    missing_lesion_size_mean = []\n",
    "\n",
    "    num_entirely_missed_lesions = {ct:0 for ct in c_thresholds}\n",
    "    entirely_missed_lesions_size = {ct:[] for ct in c_thresholds}\n",
    "    proportion_missing_lesion_covered_ent = {ct:[] for ct in c_thresholds}\n",
    "    num_lesions = 0\n",
    "    sizes = []\n",
    "    missing_area_sizes = []\n",
    "    missing_area_coverage = {ct:[] for ct in c_thresholds}\n",
    "    for batch in tqdm(range(len(ys3d)), position=0, leave=True, ncols=150):\n",
    "        for i in range(0, ys3d[batch].shape[0], 3):\n",
    "            conncomps = conncomp_outs[batch][i]\n",
    "            ent = ind_ent_maps[batch][i]\n",
    "            mean = means3d[batch].argmax(dim=1)[i]\n",
    "\n",
    "            ids = conncomps.unique()[1:]\n",
    "            for idx in ids:\n",
    "                cc = (conncomps == idx)\n",
    "                num_lesions += 1\n",
    "                size = torch.sum(cc)\n",
    "                sizes.append(size)\n",
    "\n",
    "                missing_area = (mean == 0) & cc\n",
    "                ma_size = missing_area.sum()\n",
    "                missing_area_sizes.append(ma_size)\n",
    "\n",
    "                # get uncertain pixels for each threshold\n",
    "                for tau in c_thresholds:\n",
    "                    uncert = (ent > tau).type(torch.long)\n",
    "\n",
    "                    # coverage proportion\n",
    "                    coverage = (uncert * missing_area).sum() / ma_size\n",
    "                    missing_area_coverage[tau].append(coverage)\n",
    "\n",
    "\n",
    "                    if torch.max(mean * cc) == 0:\n",
    "                        # proportion of those lesions that are missing from mean covered by uncertainty\n",
    "                        proportion_missing_lesion_covered_ent[tau].append(torch.sum(uncert * cc) / size)\n",
    "\n",
    "                        # lesions entirely missed by both mean prediction and uncertainty map\n",
    "                        # i.e not a single voxel is identified as uncertain or mean, total silent failure.\n",
    "                        if torch.max(uncert * cc) == 0:\n",
    "                            num_entirely_missed_lesions[tau] += 1\n",
    "                            entirely_missed_lesions_size[tau].append(size)\n",
    "\n",
    "    # replace nans and convert to tensor\n",
    "    for tau in c_thresholds:\n",
    "        missing_area_coverage[tau] = torch.Tensor([c.item() if not torch.isnan(c) else 0 for c in missing_area_coverage[tau]])\n",
    "    \n",
    "    mean_missed_area = torch.Tensor([missing_area_coverage[tau].mean().item() for tau in c_thresholds])\n",
    "    mean_size_missed_lesions = torch.Tensor([torch.Tensor(entirely_missed_lesions_size[tau]).mean().item() for tau in c_thresholds])\n",
    "    mean_cov_mean_missed_lesions = torch.Tensor([torch.Tensor(proportion_missing_lesion_covered_ent[tau]).mean().item() for tau in c_thresholds])\n",
    "    num_missed_lesions = torch.Tensor([num_entirely_missed_lesions[tau] for tau in c_thresholds])\n",
    "    prop_lesions_missed = torch.Tensor([num_entirely_missed_lesions[tau]/num_lesions for tau in c_thresholds])\n",
    "\n",
    "    return mean_missed_area, mean_size_missed_lesions, mean_cov_mean_missed_lesions, num_missed_lesions, prop_lesions_missed, num_lesions\n",
    "\n"
   ]
  },
  {
   "cell_type": "code",
   "execution_count": 50,
   "id": "7faaa92e-a48b-4c8a-b6ed-8a595b1e4fbc",
   "metadata": {
    "tags": []
   },
   "outputs": [
    {
     "name": "stderr",
     "output_type": "stream",
     "text": [
      "100%|█████████████████████████████████████████████████████████████████████████████████████████████████████████████████| 39/39 [00:35<00:00,  1.11it/s]\n",
      "100%|█████████████████████████████████████████████████████████████████████████████████████████████████████████████████| 39/39 [02:29<00:00,  3.82s/it]\n"
     ]
    }
   ],
   "source": [
    "mean_missed_area, mean_size_missed_lesions, mean_cov_mean_missed_lesions, num_missed_lesions, prop_lesions_missed, num_lesions = conn_comp_2d_analysis(uncertainty_thresholds, ys3d_test, means, ent_maps)"
   ]
  },
  {
   "cell_type": "code",
   "execution_count": 52,
   "id": "85d6036f-b8de-4d51-89e3-a88509465a2e",
   "metadata": {
    "tags": []
   },
   "outputs": [],
   "source": [
    "# mean_missed_area,\n",
    "# mean_size_missed_lesions,\n",
    "# mean_cov_mean_missed_lesions,\n",
    "# num_missed_lesions,\n",
    "# prop_lesions_missed,\n",
    "# num_lesions"
   ]
  },
  {
   "cell_type": "code",
   "execution_count": 58,
   "id": "2bb96398-0a92-4922-afdc-82dacf8767c2",
   "metadata": {
    "tags": []
   },
   "outputs": [
    {
     "data": {
      "text/plain": [
       "[<matplotlib.lines.Line2D at 0x7fec08d338b0>]"
      ]
     },
     "execution_count": 58,
     "metadata": {},
     "output_type": "execute_result"
    },
    {
     "data": {
      "image/png": "[encoded data removed]",
      "text/plain": [
       "<Figure size 640x480 with 1 Axes>"
      ]
     },
     "metadata": {},
     "output_type": "display_data"
    }
   ],
   "source": [
    "plt.plot(uncertainty_thresholds, prop_lesions_missed)"
   ]
  },
  {
   "cell_type": "code",
   "execution_count": 59,
   "id": "c4e989ce-98fc-40f5-8437-a35e91372ee3",
   "metadata": {
    "tags": []
   },
   "outputs": [
    {
     "data": {
      "text/plain": [
       "2178"
      ]
     },
     "execution_count": 59,
     "metadata": {},
     "output_type": "execute_result"
    }
   ],
   "source": [
    "num_lesions"
   ]
  },
  {
   "cell_type": "markdown",
   "id": "67c5011f-bc0d-4903-946a-5d6d7ffe1627",
   "metadata": {},
   "source": [
    "#### calibration"
   ]
  },
  {
   "cell_type": "code",
   "execution_count": null,
   "id": "f1f8197d-3685-4fec-90d7-1094a3a59e60",
   "metadata": {},
   "outputs": [],
   "source": []
  },
  {
   "cell_type": "code",
   "execution_count": null,
   "id": "12d18ad5-f718-47fa-8636-b4f637980496",
   "metadata": {},
   "outputs": [],
   "source": []
  },
  {
   "cell_type": "code",
   "execution_count": null,
   "id": "791d6e65-9179-4134-9495-f596a4b3b409",
   "metadata": {},
   "outputs": [],
   "source": []
  },
  {
   "cell_type": "markdown",
   "id": "514e4b77-4086-4191-b8ac-8f9a4728e271",
   "metadata": {},
   "source": [
    "#### best sample metrics as we increase the number of samples\n",
    "need to collect best dice, DGed, best rmse, mean sample rmse, best avd and best vd as we increase number of samples..... Also store something like uoe score and mean dice for ensemble, to see how well it generalizes as the sample size increases).\n",
    "The way to do this is to collect the 10 or 60 samples whatever and then do the ordering each time for a new set of the samples. Then recompute the metrics each time and record the best dice for each individual, so best dice at 1, 2, 3 n samples etc. Love it, great.\n",
    "How we will do 60 samples or 10 samples for the ensemble depending on the dataset needs to be worked through. Good stuff though. Love it."
   ]
  },
  {
   "cell_type": "code",
   "execution_count": null,
   "id": "b8808670-c682-4916-873a-56c185f58286",
   "metadata": {},
   "outputs": [],
   "source": []
  },
  {
   "cell_type": "code",
   "execution_count": null,
   "id": "e3a71cfd-263a-4e4f-9416-780d0dcb9166",
   "metadata": {},
   "outputs": [],
   "source": []
  },
  {
   "cell_type": "markdown",
   "id": "a9e6fa66-a8b2-489b-88d0-233e71e493de",
   "metadata": {},
   "source": [
    "### saving the results"
   ]
  },
  {
   "cell_type": "code",
   "execution_count": 52,
   "id": "1ecf1f6b-e46b-48e1-bf38-ee2f1414eced",
   "metadata": {
    "tags": []
   },
   "outputs": [],
   "source": [
    "# save the results\n",
    "write_per_model_channel_stats(preds=None, ys3d_test=None, args=args, chal_results=chal_results)"
   ]
  },
  {
   "cell_type": "code",
   "execution_count": null,
   "id": "623ff1b0-ea75-43b3-bb56-dca94958e98b",
   "metadata": {},
   "outputs": [],
   "source": []
  }
 ],
 "metadata": {
  "kernelspec": {
   "display_name": "Python 3 (ipykernel)",
   "language": "python",
   "name": "python3"
  },
  "language_info": {
   "codemirror_mode": {
    "name": "ipython",
    "version": 3
   },
   "file_extension": ".py",
   "mimetype": "text/x-python",
   "name": "python",
   "nbconvert_exporter": "python",
   "pygments_lexer": "ipython3",
   "version": "3.10.8"
  }
 },
 "nbformat": 4,
 "nbformat_minor": 5
}
