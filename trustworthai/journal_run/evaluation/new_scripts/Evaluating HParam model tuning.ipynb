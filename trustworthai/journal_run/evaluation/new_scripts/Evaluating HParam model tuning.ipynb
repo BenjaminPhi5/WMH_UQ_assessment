{
 "cells": [
  {
   "cell_type": "code",
   "execution_count": 1,
   "id": "819e0d96-9757-4217-899f-f2c042094629",
   "metadata": {
    "tags": []
   },
   "outputs": [
    {
     "name": "stdout",
     "output_type": "stream",
     "text": [
      "strawberry\n",
      "banana\n"
     ]
    }
   ],
   "source": [
    "print(\"strawberry\")\n",
    "\n",
    "# loss function and metrics\n",
    "from trustworthai.utils.losses_and_metrics.dice_loss import DiceLossWithWeightedEmptySlices\n",
    "from trustworthai.utils.losses_and_metrics.dice_loss_metric import DiceLossMetric, SsnDiceMeanMetricWrapper\n",
    "\n",
    "# predefined training dataset\n",
    "from trustworthai.utils.data_preprep.dataset_pipelines import load_data\n",
    "from torch.utils.data import ConcatDataset\n",
    "\n",
    "# fitter\n",
    "from trustworthai.utils.fitting_and_inference.fitters.basic_lightning_fitter import StandardLitModelWrapper\n",
    "from trustworthai.utils.fitting_and_inference.fitters.p_unet_fitter import PUNetLitModelWrapper\n",
    "from trustworthai.utils.fitting_and_inference.get_trainer import get_trainer\n",
    "\n",
    "# model\n",
    "from trustworthai.journal_run.model_load.load_ssn import load_ssn\n",
    "from trustworthai.journal_run.model_load.load_punet import load_p_unet\n",
    "from trustworthai.journal_run.model_load.load_deterministic import load_deterministic\n",
    "from trustworthai.journal_run.model_load.load_evidential import load_evidential\n",
    "from trustworthai.models.stochastic_wrappers.ssn.LowRankMVCustom import LowRankMultivariateNormalCustom\n",
    "from trustworthai.models.stochastic_wrappers.ssn.ReshapedDistribution import ReshapedDistribution\n",
    "\n",
    "from trustworthai.utils.losses_and_metrics.evidential_bayes_risks import softplus_evidence, get_alpha, get_S, get_mean_p_hat\n",
    "\n",
    "# optimizer and lr scheduler\n",
    "import torch\n",
    "\n",
    "\n",
    "import numpy as np\n",
    "import scipy.stats\n",
    "from trustworthai.utils.plotting.saving_plots import save, imsave\n",
    "from trustworthai.utils.print_and_write_func import print_and_write\n",
    "\n",
    "# misc\n",
    "import argparse\n",
    "import os\n",
    "import shutil\n",
    "import shlex\n",
    "from collections import defaultdict\n",
    "from tqdm import tqdm\n",
    "import sys\n",
    "from natsort import natsorted\n",
    "\n",
    "import pandas as pd\n",
    "from trustworthai.analysis.connected_components.connected_comps_2d import conn_comp_2d_analysis\n",
    "from trustworthai.analysis.evaluation_metrics.challenge_metrics import getAVD, getDSC, getHausdorff, getLesionDetection, do_challenge_metrics\n",
    "from sklearn import metrics\n",
    "import math\n",
    "\n",
    "import torch\n",
    "import matplotlib.pyplot as plt\n",
    "from trustworthai.utils.plotting.saving_plots import save\n",
    "from trustworthai.utils.print_and_write_func import print_and_write\n",
    "from trustworthai.analysis.calibration.helper_funcs import *\n",
    "from tqdm import tqdm\n",
    "from trustworthai.utils.logits_to_preds import normalize_samples\n",
    "\n",
    "# evaluation code\n",
    "from trustworthai.journal_run.evaluation.new_scripts.eval_helper_functions import *\n",
    "print(\"banana\")\n"
   ]
  },
  {
   "cell_type": "code",
   "execution_count": 2,
   "id": "bb96711a-9fcf-4b7d-8a62-3746161b36f4",
   "metadata": {
    "tags": []
   },
   "outputs": [],
   "source": [
    "from trustworthai.utils.data_preprep.dataset_pipelines import load_clinscores_data, load_data, ClinScoreDataRetriever"
   ]
  },
  {
   "cell_type": "code",
   "execution_count": 3,
   "id": "2aa71d77-8274-4c91-a73c-9505b479ff28",
   "metadata": {
    "tags": []
   },
   "outputs": [],
   "source": [
    "import matplotlib.pyplot as plt\n",
    "from trustworthai.utils.uncertainty_maps.entropy_map import entropy_map_from_samples"
   ]
  },
  {
   "cell_type": "code",
   "execution_count": 4,
   "id": "7894acbc-6a1f-4bf8-b7c8-3692681f58be",
   "metadata": {
    "tags": []
   },
   "outputs": [],
   "source": [
    "%load_ext autoreload"
   ]
  },
  {
   "cell_type": "code",
   "execution_count": 5,
   "id": "b087c098-0605-4a6c-880a-8284dab25bda",
   "metadata": {
    "tags": []
   },
   "outputs": [],
   "source": [
    "import seaborn as sns"
   ]
  },
  {
   "cell_type": "code",
   "execution_count": 6,
   "id": "65d23420-9835-45ff-8bc3-ed90ef3da014",
   "metadata": {
    "tags": []
   },
   "outputs": [],
   "source": [
    "class ARGS():\n",
    "    def __init__(self):\n",
    "    \n",
    "        # folder arguments\n",
    "        self.ckpt_dir = '/home/s2208943/ipdis/results/journal_models/'#'/media/benp/NVMEspare/model_dump/eval_pl_outdump/'\n",
    "        self.model_name = \"ssn_tune/ssn_prehead32_rank25_sdice0\"\n",
    "        self.model_ckpts_folder = '/home/s2208943/ipdis/results/journal_models/'#\"/media/benp/NVMEspare/model_data/journal_models/\" # \"/home/s2208943/ipdis/results/cross_validated_models/\"\n",
    "        self.repo_dir = '/home/s2208943/ipdis/WMH_UQ_assessment'#\"/home/benp/Documents/PhD_projects/WMH_UQ_assessment\"\n",
    "        self.result_dir = \"trustworthai/journal_run/evaluation/results/initial_hparam_tuning/in_domain_results\"\n",
    "        self.model_type = \"ssn\"\n",
    "        \n",
    "        # data generation arguments\n",
    "        self.dataset = 'ed'\n",
    "        self.seed = 3407\n",
    "        self.test_split = 0.15\n",
    "        self.val_split = 0.15\n",
    "        self.empty_slice_retention = 0.1\n",
    "        \n",
    "        # general arguments for the loss function\n",
    "        self.loss_name = 'dice+xent'#'dicev2'#'dice+xent'\n",
    "        self.dice_factor = 1#5\n",
    "        self.xent_factor = 1#0.01\n",
    "        self.xent_weight = 'none'\n",
    "        self.xent_reweighting=1\n",
    "        self.dice_empty_slice_weight = 0.5\n",
    "        self.tversky_beta = 0.7\n",
    "        self.reduction = 'mean'#'mean_sum'\n",
    "        \n",
    "        # evidential arguments\n",
    "        self.kl_factor=0.1\n",
    "        self.kl_anneal_count=452*4\n",
    "        self.use_mle=0\n",
    "        self.analytic_kl=0\n",
    "\n",
    "        # p-unet arguments\n",
    "        self.kl_beta=10.\n",
    "        self.use_prior_for_dice=\"false\"\n",
    "        self.punet_sample_dice_coeff=0.05\n",
    "        self.latent_dim=12\n",
    "\n",
    "        # ssn arguments\n",
    "        self.ssn_rank=25\n",
    "        self.ssn_epsilon=1e-5\n",
    "        self.ssn_mc_samples=10\n",
    "        self.ssn_sample_dice_coeff=0.05\n",
    "        self.ssn_pre_head_layers=32\n",
    "        \n",
    "        # training paradigm arguments\n",
    "        self.lr = 2e-4\n",
    "        self.dropout_p = 0.1\n",
    "        self.encoder_dropout1 = 0\n",
    "        self.encoder_dropout2 = 0\n",
    "        self.decoder_dropout1 = 0\n",
    "        self.decoder_dropout2 = 0\n",
    "        self.max_epochs = 100\n",
    "        self.early_stop_patience = 15\n",
    "        self.batch_size = 8#32\n",
    "        self.cross_validate = False\n",
    "        self.cv_split = 0\n",
    "        self.cv_test_fold_smooth = 1\n",
    "        self.weight_decay = 0.0001\n",
    "        self.overwrite = \"false\"\n",
    "        self.no_test_fold = 'false'"
   ]
  },
  {
   "cell_type": "code",
   "execution_count": 7,
   "id": "16772c69-c3ca-484e-bdcb-fa3f934c4ea0",
   "metadata": {
    "tags": []
   },
   "outputs": [],
   "source": [
    "args = ARGS()\n",
    "args.overwrite = True if args.overwrite.lower() == \"true\" else False\n",
    "args.cross_validate = True\n",
    "\n",
    "model_ckpts_folder = args.model_ckpts_folder\n",
    "\n",
    "VOXELS_TO_WMH_RATIO = 382\n",
    "VOXELS_TO_WMH_RATIO_EXCLUDING_EMPTY_SLICES = 140\n",
    "\n",
    "# setup xent reweighting factor\n",
    "XENT_VOXEL_RESCALE = VOXELS_TO_WMH_RATIO - (1-args.empty_slice_retention) * (VOXELS_TO_WMH_RATIO - VOXELS_TO_WMH_RATIO_EXCLUDING_EMPTY_SLICES)\n",
    "\n",
    "XENT_WEIGHTING = XENT_VOXEL_RESCALE/2\n",
    "args.xent_reweighting = XENT_WEIGHTING"
   ]
  },
  {
   "cell_type": "code",
   "execution_count": 8,
   "id": "99eb3375-1a41-4cfe-b8db-1e070214b975",
   "metadata": {
    "tags": []
   },
   "outputs": [],
   "source": [
    "MODEL_LOADERS = {\n",
    "    \"deterministic\":load_deterministic,\n",
    "    \"mc_drop\":load_deterministic,\n",
    "    \"evidential\":load_evidential,\n",
    "    \"ssn\":load_ssn,\n",
    "    \"punet\":load_p_unet,\n",
    "}"
   ]
  },
  {
   "cell_type": "code",
   "execution_count": 9,
   "id": "f23a9e19-cc20-4583-92e6-ec454dc18294",
   "metadata": {
    "tags": []
   },
   "outputs": [],
   "source": [
    "def load_best_checkpoint(model, loss, model_ckpt_folder, punet=False):\n",
    "    # this is ultimately going to need to be passed a model wrapper when I implement P-Unet....\n",
    "    \n",
    "    # the path to the best checkpoint is stored as a single line in a txt file along with each model\n",
    "    with open(os.path.join(model_ckpt_folder, \"best_ckpt.txt\"), \"r\") as f:\n",
    "        ckpt_file = os.path.join(model_ckpt_folder, f.readlines()[0][:-1].split(\"/\")[-1])\n",
    "    \n",
    "    if punet:\n",
    "        return PUNetLitModelWrapper.load_from_checkpoint(ckpt_file, model=model, loss=loss, \n",
    "                                    logging_metric=lambda : None)\n",
    "    return StandardLitModelWrapper.load_from_checkpoint(ckpt_file, model=model, loss=loss, \n",
    "                                    logging_metric=lambda : None)"
   ]
  },
  {
   "cell_type": "code",
   "execution_count": 10,
   "id": "20efa587-37a9-4726-b3ce-ce33fb96ed6f",
   "metadata": {
    "tags": []
   },
   "outputs": [],
   "source": [
    "\n",
    "\n",
    "def write_model_metric_results(results_file, data):\n",
    "    for key in data.keys():\n",
    "        print_and_write(results_file, key, newline=1)\n",
    "        print_and_write(results_file, data[key])\n",
    "        \n",
    "        # ignore any bad images, that will cause values of 0 to appear\n",
    "        values = data[key]\n",
    "        ignores = (values < 0.001) | torch.isnan(values)\n",
    "        if key == 'avd':\n",
    "            ignores = ignores | (values == 100)\n",
    "        values = values[~ignores]\n",
    "        \n",
    "        print_and_write(results_file, f\"{key} mean\", newline=1)\n",
    "        print_and_write(results_file, values.mean())\n",
    "        \n",
    "        print_and_write(results_file, f\"{key} standard error\", newline=1)\n",
    "        print_and_write(results_file, scipy.stats.sem(values))\n",
    "        \n",
    "        \n",
    "def fast_dice(pred, target):\n",
    "    p1 = (pred == 1)\n",
    "    t1 = (target == 1)\n",
    "    intersection = (pred == 1) & (target == 1)\n",
    "    numerator = 2 * intersection.sum()\n",
    "    denominator = p1.sum() + t1.sum()\n",
    "    return (numerator/(denominator + 1e-30)).item()\n",
    "\n",
    "def fast_avd(pred, target):\n",
    "    p1 = pred.sum()\n",
    "    t1 = target.sum()\n",
    "    \n",
    "    return (((p1 - t1).abs() / t1) * 100).item()\n",
    "\n",
    "\n",
    "def fast_dice(pred, target):\n",
    "    p1 = (pred == 1)\n",
    "    t1 = (target == 1)\n",
    "    intersection = (pred == 1) & (target == 1)\n",
    "    numerator = 2 * intersection.sum()\n",
    "    denominator = p1.sum() + t1.sum()\n",
    "    return (numerator/(denominator + 1e-30)).item()\n",
    "\n",
    "def fast_vd(pred, target):\n",
    "    p1 = pred.sum()\n",
    "    t1 = target.sum()\n",
    "    \n",
    "    return (((p1 - t1) / t1) * 100).item()"
   ]
  },
  {
   "cell_type": "code",
   "execution_count": 11,
   "id": "e39bce46-526c-4b5f-8c60-8d292eb0b36c",
   "metadata": {
    "tags": []
   },
   "outputs": [],
   "source": [
    "def GT_volumes(ys3d):\n",
    "    volumes = []\n",
    "    for y in ys3d:\n",
    "        volumes.append(y.sum())\n",
    "    return torch.Tensor(volumes)"
   ]
  },
  {
   "cell_type": "code",
   "execution_count": 12,
   "id": "a36938db-ee4d-4cba-9749-8f85e4fb0c0b",
   "metadata": {
    "tags": []
   },
   "outputs": [
    {
     "name": "stdout",
     "output_type": "stream",
     "text": [
      "173 35 42\n"
     ]
    }
   ],
   "source": [
    "# get the 3d dataloader\n",
    "data_dict = load_data(\n",
    "    dataset=args.dataset, \n",
    "    test_proportion=args.test_split, \n",
    "    validation_proportion=args.val_split,\n",
    "    seed=args.seed,\n",
    "    empty_proportion_retained=args.empty_slice_retention,\n",
    "    batch_size=args.batch_size,\n",
    "    dataloader2d_only=False,\n",
    "    cross_validate=args.cross_validate,\n",
    "    cv_split=args.cv_split,\n",
    "    cv_test_fold_smooth=args.cv_test_fold_smooth,\n",
    "    merge_val_test=args.no_test_fold\n",
    ")\n"
   ]
  },
  {
   "cell_type": "code",
   "execution_count": 13,
   "id": "ddb51232-e194-4a89-bb2a-fcd665c4e245",
   "metadata": {
    "tags": []
   },
   "outputs": [],
   "source": [
    "train_imgs = data_dict['train_dataset3d']\n",
    "val_imgs = data_dict['val_dataset3d']\n",
    "test_imgs = data_dict['test_dataset3d']"
   ]
  },
  {
   "cell_type": "code",
   "execution_count": 14,
   "id": "8dc4ebdc-c9c2-46c9-8243-87768c969be3",
   "metadata": {
    "tags": []
   },
   "outputs": [],
   "source": [
    "eval_ds = val_imgs"
   ]
  },
  {
   "cell_type": "code",
   "execution_count": 15,
   "id": "8501dd34-7388-4b5a-acc8-6fddbaa03fdd",
   "metadata": {
    "tags": []
   },
   "outputs": [],
   "source": [
    "xs3d_test = []\n",
    "ys3d_test = []\n",
    "\n",
    "for i, data in enumerate(eval_ds):\n",
    "    ys3d_test.append(data[1].squeeze())\n",
    "    xs3d_test.append(data[0])"
   ]
  },
  {
   "cell_type": "code",
   "execution_count": 16,
   "id": "17043744-83cd-4c50-9c5a-cd49e1cb9086",
   "metadata": {
    "tags": []
   },
   "outputs": [
    {
     "data": {
      "text/plain": [
       "82.1"
      ]
     },
     "execution_count": 16,
     "metadata": {},
     "output_type": "execute_result"
    }
   ],
   "source": [
    "args.xent_reweighting"
   ]
  },
  {
   "cell_type": "code",
   "execution_count": 17,
   "id": "ee00f9c7-e567-49f0-b39b-661c51d3cf9d",
   "metadata": {
    "tags": []
   },
   "outputs": [],
   "source": [
    "# load the model and loss function\n",
    "try:\n",
    "    model_loader = MODEL_LOADERS[args.model_type]\n",
    "except:\n",
    "    raise ValueError(f\"argument model_type should be one of {MODEL_LOADERS.keys()} not {args.model_type}\")\n",
    "model_raw, loss, val_loss = model_loader(args)"
   ]
  },
  {
   "cell_type": "code",
   "execution_count": 18,
   "id": "a3eb5d54-b450-4602-b56e-8af17d918820",
   "metadata": {
    "tags": []
   },
   "outputs": [
    {
     "name": "stdout",
     "output_type": "stream",
     "text": [
      "model dir:  /home/s2208943/ipdis/results/journal_models/ssn_tune/ssn_prehead32_rank25_sdice0\n"
     ]
    }
   ],
   "source": [
    "model_dir = os.path.join(args.model_ckpts_folder, args.model_name) \n",
    "print(\"model dir: \", model_dir)\n",
    "model = load_best_checkpoint(model_raw, loss, model_dir)"
   ]
  },
  {
   "cell_type": "markdown",
   "id": "7ec67b0f-2567-4101-a653-19b9112fe83c",
   "metadata": {},
   "source": [
    "### generating a bunch of samples"
   ]
  },
  {
   "cell_type": "code",
   "execution_count": 19,
   "id": "9d1456c9-cdd0-47e3-9c0c-68fc1de39d13",
   "metadata": {
    "tags": []
   },
   "outputs": [],
   "source": [
    "def punet_mean_and_samples(inputs):\n",
    "    model_raw=inputs['model']\n",
    "    x=inputs['x']\n",
    "    y=inputs['y']\n",
    "    num_samples = inputs['num_samples']\n",
    "    \n",
    "    model_raw(x.swapaxes(0,1).cuda(), y.cuda(), training=False)\n",
    "    mean = model_raw.sample(use_prior_mean=True).cpu()\n",
    "    \n",
    "    ind_samples = []\n",
    "    for j in range(num_samples):\n",
    "                ind_samples.append(model_raw.sample(testing=False).cpu())\n",
    "\n",
    "    ind_samples = torch.stack(ind_samples, dim=0)\n",
    "    \n",
    "    return mean, ind_samples\n",
    "\n",
    "\n",
    "def evid_mean(inputs):\n",
    "    model_raw=inputs['model']\n",
    "    x=inputs['x']\n",
    "    y=inputs['y']\n",
    "    logits = model_raw(x.swapaxes(0,1).cuda()).cpu()\n",
    "    evidence = softplus_evidence(logits)\n",
    "    alpha = get_alpha(evidence)\n",
    "    # print(alpha.shape)\n",
    "    S = get_S(alpha)\n",
    "    K = alpha.shape[1]\n",
    "    mean_p_hat = get_mean_p_hat(alpha, S)\n",
    "    return mean_p_hat, None\n",
    "\n",
    "def deterministic_mean(inputs):\n",
    "    model_raw=inputs['model']\n",
    "    x=inputs['x']\n",
    "    y=inputs['y']\n",
    "    num_samples = inputs['num_samples']\n",
    "    pass\n",
    "\n",
    "def ssn_mean_and_samples(inputs):\n",
    "    model_raw=inputs['model']\n",
    "    x=inputs['x']\n",
    "    y=inputs['y']\n",
    "    num_samples = inputs['num_samples']\n",
    "    mean, sample = model_raw.mean_and_sample(x.swapaxes(0,1).cuda(), num_samples=num_samples, temperature=1)\n",
    "    \n",
    "    return mean, sample\n",
    "\n",
    "def mc_drop_mean_and_samples(inputs):\n",
    "    model_raw=inputs['model']\n",
    "    x=inputs['x']\n",
    "    y=inputs['y']\n",
    "    num_samples = inputs['num_samples']\n",
    "    x = x.swapaxes(0,1).cuda()\n",
    "    mean = model_raw(x)\n",
    "    model.train()\n",
    "    ind_samples = []\n",
    "    for j in range(num_samples):\n",
    "        ind_samples.append(model_raw(x))\n",
    "    model.eval()\n",
    "    ind_samples = torch.stack(ind_samples, dim=0)\n",
    "    return mean, ind_samples\n",
    "\n",
    "def ensemble_mean_and_sample(inputs):\n",
    "    model_raw=inputs['model']\n",
    "    x=inputs['x']\n",
    "    y=inputs['y']\n",
    "    num_samples = inputs['num_samples']\n",
    "    pass\n",
    "\n",
    "def ssn_ensemble_mean_and_sample(inputs):\n",
    "    model_raw=inputs['model']\n",
    "    x=inputs['x']\n",
    "    y=inputs['y']\n",
    "    num_samples = inputs['num_samples']\n",
    "    pass"
   ]
  },
  {
   "cell_type": "code",
   "execution_count": 20,
   "id": "26cfc5b6-d61b-4548-8746-f36fa405e180",
   "metadata": {
    "tags": []
   },
   "outputs": [],
   "source": [
    "def get_means_and_samples(model_raw, eval_ds, num_samples, model_func, extra_kwargs={}):\n",
    "    means = []\n",
    "    samples = []\n",
    "\n",
    "    model_raw.eval()\n",
    "    for i, data in enumerate(tqdm(eval_ds, position=0, leave=True)):\n",
    "        x = data[0]\n",
    "        y = data[1]\n",
    "        inputs = {**{\"model\":model_raw, \"x\":x, \"y\":y, \"num_samples\":num_samples}, **extra_kwargs}\n",
    "        with torch.no_grad():\n",
    "            mean, sample = model_func(inputs)\n",
    "            means.append(mean.cpu())\n",
    "            samples.append(sample.cpu())\n",
    "            \n",
    "    return means, samples\n",
    "\n"
   ]
  },
  {
   "cell_type": "code",
   "execution_count": 21,
   "id": "55e26e0a-24be-44d0-a91a-2b424edf1e02",
   "metadata": {
    "tags": []
   },
   "outputs": [
    {
     "name": "stderr",
     "output_type": "stream",
     "text": [
      "  0%|                                                                                                                                                                  | 0/35 [00:00<?, ?it/s]/home/s2208943/miniconda3/envs/wmh/lib/python3.8/site-packages/torch/nn/modules/instancenorm.py:80: UserWarning: input's size at dim=1 does not match num_features. You can silence this warning by not passing in num_features, which is not used because affine=False\n",
      "  warnings.warn(f\"input's size at dim={feature_dim} does not match num_features. \"\n",
      "100%|█████████████████████████████████████████████████████████████████████████████████████████████████████████████████████████████████████████████████████████| 35/35 [00:11<00:00,  3.14it/s]\n"
     ]
    }
   ],
   "source": [
    "means, samples = get_means_and_samples(model_raw, eval_ds, num_samples=10, model_func=ssn_mean_and_samples)"
   ]
  },
  {
   "cell_type": "code",
   "execution_count": 22,
   "id": "246b19fb-83dc-46cd-8a7d-6b262382b7ba",
   "metadata": {
    "tags": []
   },
   "outputs": [],
   "source": [
    "def reorder_samples(sample):\n",
    "    sample = sample.cuda()\n",
    "    slice_volumes = sample.argmax(dim=2).sum(dim=(-1, -2))\n",
    "    slice_volume_orders = torch.sort(slice_volumes.T, dim=1)[1]\n",
    "    \n",
    "    # rearrange the samples into one...\n",
    "    new_sample = torch.zeros(sample.shape).to(sample.device)\n",
    "    for i, slice_volumes_orders in enumerate(slice_volume_orders):\n",
    "        for j, sample_index in enumerate(slice_volumes_orders):\n",
    "            new_sample[j][i] = sample[sample_index][i]\n",
    "            \n",
    "    return new_sample.cpu()"
   ]
  },
  {
   "cell_type": "code",
   "execution_count": 23,
   "id": "c21f1b9d-7625-400b-bb7e-2e144df0943f",
   "metadata": {
    "tags": []
   },
   "outputs": [
    {
     "data": {
      "text/plain": [
       "torch.Size([10, 40, 2, 224, 160])"
      ]
     },
     "execution_count": 23,
     "metadata": {},
     "output_type": "execute_result"
    }
   ],
   "source": [
    "samples[0].shape"
   ]
  },
  {
   "cell_type": "code",
   "execution_count": 24,
   "id": "3399cec6-61b6-462a-acb9-742b96fd41b6",
   "metadata": {
    "tags": []
   },
   "outputs": [],
   "source": [
    "samples = [reorder_samples(s) for s in samples]"
   ]
  },
  {
   "cell_type": "code",
   "execution_count": 25,
   "id": "d2d7178a-68dc-4e26-8e9b-95eea985962c",
   "metadata": {
    "tags": []
   },
   "outputs": [],
   "source": [
    "preds = [torch.softmax(m.cuda(), dim=1).cpu() for m in means]"
   ]
  },
  {
   "cell_type": "code",
   "execution_count": 26,
   "id": "0c5b57e7-368f-49a1-bc6f-cb32b7fcd9c3",
   "metadata": {
    "tags": []
   },
   "outputs": [
    {
     "name": "stderr",
     "output_type": "stream",
     "text": [
      "100%|█████████████████████████████████████████████████████████████████████████████████████████████████████████████████████████████████████████████████████████| 35/35 [00:44<00:00,  1.26s/it]\n"
     ]
    }
   ],
   "source": [
    "chal_results = per_model_chal_stats(means, ys3d_test)"
   ]
  },
  {
   "cell_type": "code",
   "execution_count": 27,
   "id": "58e2f892-c09f-4519-b0d2-17a8eb6707c7",
   "metadata": {
    "tags": []
   },
   "outputs": [],
   "source": [
    "avds = []\n",
    "for m, y in zip(means, ys3d_test):\n",
    "    avds.append(fast_avd(m.cuda().argmax(dim=1), y.cuda()))\n",
    "    \n",
    "dices = []\n",
    "for m, y in zip(means, ys3d_test):\n",
    "    dices.append(fast_dice(m.cuda().argmax(dim=1), y.cuda()))"
   ]
  },
  {
   "cell_type": "code",
   "execution_count": 28,
   "id": "6a84d047-d5fb-4580-8251-a56d1c3cf96c",
   "metadata": {
    "tags": []
   },
   "outputs": [
    {
     "data": {
      "text/plain": [
       "tensor(0.7391)"
      ]
     },
     "execution_count": 28,
     "metadata": {},
     "output_type": "execute_result"
    }
   ],
   "source": [
    "torch.Tensor(dices).mean()"
   ]
  },
  {
   "cell_type": "code",
   "execution_count": 29,
   "id": "c78183de-782a-44f0-9deb-10f9354dc8c6",
   "metadata": {
    "tags": []
   },
   "outputs": [
    {
     "data": {
      "text/plain": [
       "35"
      ]
     },
     "execution_count": 29,
     "metadata": {},
     "output_type": "execute_result"
    }
   ],
   "source": [
    "len(samples)"
   ]
  },
  {
   "cell_type": "code",
   "execution_count": 30,
   "id": "45b8994f-f8a6-4c4d-a533-382bd7b4f4c5",
   "metadata": {
    "tags": []
   },
   "outputs": [],
   "source": [
    "def per_sample_metric(samples, ys3d_test, f, do_argmax, do_softmax, minimise):\n",
    "    num_samples = len(samples[0])\n",
    "    samples_f = []\n",
    "    for i in tqdm(range(len(ys3d_test)), position=0, leave=True):\n",
    "        scores = []\n",
    "        y = ys3d_test[i].cuda()\n",
    "        for j in range(num_samples):\n",
    "            if do_argmax:\n",
    "                s = samples[i][j].cuda().argmax(dim=1)\n",
    "            elif do_softmax:\n",
    "                s = torch.softmax(samples[i][j].cuda(), dim=1)\n",
    "            else:\n",
    "                s = samples[i][j].cuda()\n",
    "            scores.append(f(s, y))\n",
    "        scores = torch.Tensor(scores)\n",
    "        samples_f.append(scores)\n",
    "\n",
    "    samples_f = torch.stack(samples_f)\n",
    "\n",
    "    if minimise:\n",
    "        return samples_f.min(dim=1)[0], samples_f\n",
    "    else:\n",
    "        return samples_f.max(dim=1)[0], samples_f"
   ]
  },
  {
   "cell_type": "code",
   "execution_count": 31,
   "id": "02f7579d-db07-43b8-a571-285e8f70703c",
   "metadata": {
    "tags": []
   },
   "outputs": [
    {
     "name": "stderr",
     "output_type": "stream",
     "text": [
      "100%|█████████████████████████████████████████████████████████████████████████████████████████████████████████████████████████████████████████████████████████| 35/35 [00:00<00:00, 35.85it/s]\n",
      "100%|█████████████████████████████████████████████████████████████████████████████████████████████████████████████████████████████████████████████████████████| 35/35 [00:00<00:00, 41.36it/s]\n"
     ]
    }
   ],
   "source": [
    "sample_top_dices, sample_dices = per_sample_metric(samples, ys3d_test, f=fast_dice, do_argmax=True, do_softmax=False, minimise=False)\n",
    "sample_best_avds, sample_avds = per_sample_metric(samples, ys3d_test, f=fast_avd, do_argmax=True, do_softmax=False, minimise=True)"
   ]
  },
  {
   "cell_type": "code",
   "execution_count": 32,
   "id": "f3e86b48-4770-4768-a4c3-a857fd0eb591",
   "metadata": {
    "tags": []
   },
   "outputs": [],
   "source": [
    "def fast_rmse(pred, y, p=0.1):\n",
    "    locs = (pred[:,1] > p)\n",
    "    onehot = (y.unsqueeze(dim=1)==y.unique().view(1, -1, 1, 1)).type(torch.float32)\n",
    "    \n",
    "    pred = pred.moveaxis(1, -1)[locs]\n",
    "    onehot = onehot.moveaxis(1, -1)[locs]\n",
    "    \n",
    "    return (pred - onehot).square().sum(dim=1).mean().sqrt()"
   ]
  },
  {
   "cell_type": "code",
   "execution_count": 33,
   "id": "1aa43791-2e9c-44f2-b0a6-cc3a8af552e7",
   "metadata": {
    "tags": []
   },
   "outputs": [],
   "source": [
    "rmses = []\n",
    "for m, y in zip(means, ys3d_test):\n",
    "    rmses.append(fast_rmse(m.cuda().softmax(dim=1), y.cuda()).cpu())\n",
    "rmses = torch.Tensor(rmses)"
   ]
  },
  {
   "cell_type": "code",
   "execution_count": 34,
   "id": "1943bd58-247d-4fa3-801e-9e40539706f9",
   "metadata": {
    "tags": []
   },
   "outputs": [
    {
     "name": "stderr",
     "output_type": "stream",
     "text": [
      "100%|█████████████████████████████████████████████████████████████████████████████████████████████████████████████████████████████████████████████████████████| 35/35 [00:01<00:00, 32.69it/s]\n"
     ]
    }
   ],
   "source": [
    "sample_best_rmses, sample_rmses = per_sample_metric(samples, ys3d_test, f=fast_rmse, do_argmax=False, do_softmax=True, minimise=True)"
   ]
  },
  {
   "cell_type": "code",
   "execution_count": 35,
   "id": "92df1e07-215e-49df-a782-1c0091d108f1",
   "metadata": {
    "tags": []
   },
   "outputs": [
    {
     "data": {
      "text/plain": [
       "(tensor(0.5242), tensor(0.5379))"
      ]
     },
     "execution_count": 35,
     "metadata": {},
     "output_type": "execute_result"
    }
   ],
   "source": [
    "sample_best_rmses.mean(), rmses.mean()"
   ]
  },
  {
   "cell_type": "code",
   "execution_count": 36,
   "id": "6d049e13-5d7e-421e-ba55-32b6b30f664e",
   "metadata": {
    "tags": []
   },
   "outputs": [],
   "source": [
    "gt_vols = GT_volumes(ys3d_test)"
   ]
  },
  {
   "cell_type": "code",
   "execution_count": 37,
   "id": "27fbb043-a46a-4221-9e50-12d09b0530e2",
   "metadata": {
    "tags": []
   },
   "outputs": [
    {
     "data": {
      "image/png": "[encoded data removed]",
      "text/plain": [
       "<Figure size 640x480 with 1 Axes>"
      ]
     },
     "metadata": {},
     "output_type": "display_data"
    }
   ],
   "source": [
    "plt.scatter(gt_vols * 0.003, sample_best_rmses)\n",
    "plt.scatter(gt_vols * 0.003, rmses, c='orange')\n",
    "plt.xscale('log')"
   ]
  },
  {
   "cell_type": "code",
   "execution_count": 38,
   "id": "a3a81269-1b9b-4ea1-81b2-ca1a3440325a",
   "metadata": {
    "tags": []
   },
   "outputs": [],
   "source": [
    "import pandas as pd"
   ]
  },
  {
   "cell_type": "code",
   "execution_count": 39,
   "id": "e3bf2a91-acdf-41d8-9222-3a7477a48848",
   "metadata": {
    "tags": []
   },
   "outputs": [],
   "source": [
    "chal_results['best_dice'] = sample_top_dices\n",
    "chal_results['best_avd'] = sample_best_avds\n",
    "chal_results['rmse'] = rmses\n",
    "chal_results['best_rmse'] = sample_best_rmses"
   ]
  },
  {
   "cell_type": "code",
   "execution_count": 40,
   "id": "b241e08a-1286-4245-b38e-301b7fd41990",
   "metadata": {
    "tags": []
   },
   "outputs": [],
   "source": [
    "df = pd.DataFrame(chal_results)\n",
    "df['model_name'] = [args.model_name for _ in range(len(df))]"
   ]
  },
  {
   "cell_type": "code",
   "execution_count": 41,
   "id": "105a1877-4196-45fa-8973-36331ccde181",
   "metadata": {
    "tags": []
   },
   "outputs": [
    {
     "data": {
      "text/html": [
       "<div>\n",
       "<style scoped>\n",
       "    .dataframe tbody tr th:only-of-type {\n",
       "        vertical-align: middle;\n",
       "    }\n",
       "\n",
       "    .dataframe tbody tr th {\n",
       "        vertical-align: top;\n",
       "    }\n",
       "\n",
       "    .dataframe thead th {\n",
       "        text-align: right;\n",
       "    }\n",
       "</style>\n",
       "<table border=\"1\" class=\"dataframe\">\n",
       "  <thead>\n",
       "    <tr style=\"text-align: right;\">\n",
       "      <th></th>\n",
       "      <th>dice</th>\n",
       "      <th>hd95</th>\n",
       "      <th>avd</th>\n",
       "      <th>recall</th>\n",
       "      <th>f1</th>\n",
       "      <th>best_dice</th>\n",
       "      <th>best_avd</th>\n",
       "      <th>rmse</th>\n",
       "      <th>best_rmse</th>\n",
       "      <th>model_name</th>\n",
       "    </tr>\n",
       "  </thead>\n",
       "  <tbody>\n",
       "    <tr>\n",
       "      <th>0</th>\n",
       "      <td>0.647578</td>\n",
       "      <td>3.162278</td>\n",
       "      <td>16.986900</td>\n",
       "      <td>0.555556</td>\n",
       "      <td>0.619469</td>\n",
       "      <td>0.649362</td>\n",
       "      <td>4.847161</td>\n",
       "      <td>0.554620</td>\n",
       "      <td>0.548435</td>\n",
       "      <td>ssn_tune/ssn_prehead32_rank25_sdice0</td>\n",
       "    </tr>\n",
       "    <tr>\n",
       "      <th>1</th>\n",
       "      <td>0.873671</td>\n",
       "      <td>1.414214</td>\n",
       "      <td>5.954548</td>\n",
       "      <td>0.780000</td>\n",
       "      <td>0.692685</td>\n",
       "      <td>0.877018</td>\n",
       "      <td>1.591346</td>\n",
       "      <td>0.470739</td>\n",
       "      <td>0.458705</td>\n",
       "      <td>ssn_tune/ssn_prehead32_rank25_sdice0</td>\n",
       "    </tr>\n",
       "    <tr>\n",
       "      <th>2</th>\n",
       "      <td>0.588161</td>\n",
       "      <td>5.000000</td>\n",
       "      <td>19.248423</td>\n",
       "      <td>0.750000</td>\n",
       "      <td>0.774194</td>\n",
       "      <td>0.587675</td>\n",
       "      <td>2.954676</td>\n",
       "      <td>0.591945</td>\n",
       "      <td>0.584549</td>\n",
       "      <td>ssn_tune/ssn_prehead32_rank25_sdice0</td>\n",
       "    </tr>\n",
       "    <tr>\n",
       "      <th>3</th>\n",
       "      <td>0.646564</td>\n",
       "      <td>2.236068</td>\n",
       "      <td>1.553510</td>\n",
       "      <td>0.729167</td>\n",
       "      <td>0.629105</td>\n",
       "      <td>0.636950</td>\n",
       "      <td>12.830840</td>\n",
       "      <td>0.547760</td>\n",
       "      <td>0.551873</td>\n",
       "      <td>ssn_tune/ssn_prehead32_rank25_sdice0</td>\n",
       "    </tr>\n",
       "    <tr>\n",
       "      <th>4</th>\n",
       "      <td>0.912884</td>\n",
       "      <td>1.414214</td>\n",
       "      <td>1.481999</td>\n",
       "      <td>0.650000</td>\n",
       "      <td>0.643110</td>\n",
       "      <td>0.909098</td>\n",
       "      <td>2.096128</td>\n",
       "      <td>0.418764</td>\n",
       "      <td>0.425343</td>\n",
       "      <td>ssn_tune/ssn_prehead32_rank25_sdice0</td>\n",
       "    </tr>\n",
       "    <tr>\n",
       "      <th>5</th>\n",
       "      <td>0.628240</td>\n",
       "      <td>4.898980</td>\n",
       "      <td>18.048780</td>\n",
       "      <td>0.448980</td>\n",
       "      <td>0.610707</td>\n",
       "      <td>0.642348</td>\n",
       "      <td>6.097561</td>\n",
       "      <td>0.577126</td>\n",
       "      <td>0.566099</td>\n",
       "      <td>ssn_tune/ssn_prehead32_rank25_sdice0</td>\n",
       "    </tr>\n",
       "    <tr>\n",
       "      <th>6</th>\n",
       "      <td>0.725482</td>\n",
       "      <td>2.236068</td>\n",
       "      <td>2.412451</td>\n",
       "      <td>0.393939</td>\n",
       "      <td>0.483271</td>\n",
       "      <td>0.720570</td>\n",
       "      <td>14.241245</td>\n",
       "      <td>0.529485</td>\n",
       "      <td>0.531720</td>\n",
       "      <td>ssn_tune/ssn_prehead32_rank25_sdice0</td>\n",
       "    </tr>\n",
       "    <tr>\n",
       "      <th>7</th>\n",
       "      <td>0.554024</td>\n",
       "      <td>11.108498</td>\n",
       "      <td>39.392380</td>\n",
       "      <td>0.410256</td>\n",
       "      <td>0.561404</td>\n",
       "      <td>0.624861</td>\n",
       "      <td>1.338826</td>\n",
       "      <td>0.626890</td>\n",
       "      <td>0.584508</td>\n",
       "      <td>ssn_tune/ssn_prehead32_rank25_sdice0</td>\n",
       "    </tr>\n",
       "    <tr>\n",
       "      <th>8</th>\n",
       "      <td>0.636974</td>\n",
       "      <td>2.236068</td>\n",
       "      <td>38.293335</td>\n",
       "      <td>0.887500</td>\n",
       "      <td>0.830750</td>\n",
       "      <td>0.654385</td>\n",
       "      <td>3.946667</td>\n",
       "      <td>0.599198</td>\n",
       "      <td>0.584381</td>\n",
       "      <td>ssn_tune/ssn_prehead32_rank25_sdice0</td>\n",
       "    </tr>\n",
       "    <tr>\n",
       "      <th>9</th>\n",
       "      <td>0.487484</td>\n",
       "      <td>10.289964</td>\n",
       "      <td>36.069115</td>\n",
       "      <td>0.347222</td>\n",
       "      <td>0.442834</td>\n",
       "      <td>0.489018</td>\n",
       "      <td>3.815695</td>\n",
       "      <td>0.589048</td>\n",
       "      <td>0.587236</td>\n",
       "      <td>ssn_tune/ssn_prehead32_rank25_sdice0</td>\n",
       "    </tr>\n",
       "    <tr>\n",
       "      <th>10</th>\n",
       "      <td>0.663652</td>\n",
       "      <td>1.414214</td>\n",
       "      <td>33.994709</td>\n",
       "      <td>0.928571</td>\n",
       "      <td>0.790055</td>\n",
       "      <td>0.664294</td>\n",
       "      <td>3.306878</td>\n",
       "      <td>0.596408</td>\n",
       "      <td>0.566337</td>\n",
       "      <td>ssn_tune/ssn_prehead32_rank25_sdice0</td>\n",
       "    </tr>\n",
       "    <tr>\n",
       "      <th>11</th>\n",
       "      <td>0.708868</td>\n",
       "      <td>11.000000</td>\n",
       "      <td>43.563637</td>\n",
       "      <td>0.916667</td>\n",
       "      <td>0.514019</td>\n",
       "      <td>0.779434</td>\n",
       "      <td>4.800000</td>\n",
       "      <td>0.537777</td>\n",
       "      <td>0.486527</td>\n",
       "      <td>ssn_tune/ssn_prehead32_rank25_sdice0</td>\n",
       "    </tr>\n",
       "    <tr>\n",
       "      <th>12</th>\n",
       "      <td>0.793089</td>\n",
       "      <td>1.414214</td>\n",
       "      <td>3.845025</td>\n",
       "      <td>0.564103</td>\n",
       "      <td>0.650888</td>\n",
       "      <td>0.802465</td>\n",
       "      <td>3.522160</td>\n",
       "      <td>0.500678</td>\n",
       "      <td>0.483661</td>\n",
       "      <td>ssn_tune/ssn_prehead32_rank25_sdice0</td>\n",
       "    </tr>\n",
       "    <tr>\n",
       "      <th>13</th>\n",
       "      <td>0.922588</td>\n",
       "      <td>1.000000</td>\n",
       "      <td>0.440304</td>\n",
       "      <td>0.652174</td>\n",
       "      <td>0.721649</td>\n",
       "      <td>0.918099</td>\n",
       "      <td>3.240530</td>\n",
       "      <td>0.384625</td>\n",
       "      <td>0.389863</td>\n",
       "      <td>ssn_tune/ssn_prehead32_rank25_sdice0</td>\n",
       "    </tr>\n",
       "    <tr>\n",
       "      <th>14</th>\n",
       "      <td>0.891585</td>\n",
       "      <td>1.000000</td>\n",
       "      <td>0.011182</td>\n",
       "      <td>0.826087</td>\n",
       "      <td>0.760000</td>\n",
       "      <td>0.887903</td>\n",
       "      <td>5.982333</td>\n",
       "      <td>0.426628</td>\n",
       "      <td>0.432749</td>\n",
       "      <td>ssn_tune/ssn_prehead32_rank25_sdice0</td>\n",
       "    </tr>\n",
       "    <tr>\n",
       "      <th>15</th>\n",
       "      <td>0.818729</td>\n",
       "      <td>3.000000</td>\n",
       "      <td>4.170646</td>\n",
       "      <td>0.769231</td>\n",
       "      <td>0.743802</td>\n",
       "      <td>0.813172</td>\n",
       "      <td>5.858007</td>\n",
       "      <td>0.479097</td>\n",
       "      <td>0.479712</td>\n",
       "      <td>ssn_tune/ssn_prehead32_rank25_sdice0</td>\n",
       "    </tr>\n",
       "    <tr>\n",
       "      <th>16</th>\n",
       "      <td>0.775803</td>\n",
       "      <td>1.414214</td>\n",
       "      <td>18.358210</td>\n",
       "      <td>0.666667</td>\n",
       "      <td>0.631579</td>\n",
       "      <td>0.774945</td>\n",
       "      <td>4.925373</td>\n",
       "      <td>0.532888</td>\n",
       "      <td>0.513714</td>\n",
       "      <td>ssn_tune/ssn_prehead32_rank25_sdice0</td>\n",
       "    </tr>\n",
       "    <tr>\n",
       "      <th>17</th>\n",
       "      <td>0.785703</td>\n",
       "      <td>1.414214</td>\n",
       "      <td>3.639241</td>\n",
       "      <td>0.826923</td>\n",
       "      <td>0.835592</td>\n",
       "      <td>0.783814</td>\n",
       "      <td>1.360759</td>\n",
       "      <td>0.512855</td>\n",
       "      <td>0.509879</td>\n",
       "      <td>ssn_tune/ssn_prehead32_rank25_sdice0</td>\n",
       "    </tr>\n",
       "    <tr>\n",
       "      <th>18</th>\n",
       "      <td>0.782495</td>\n",
       "      <td>2.000000</td>\n",
       "      <td>28.582628</td>\n",
       "      <td>0.853659</td>\n",
       "      <td>0.668258</td>\n",
       "      <td>0.820301</td>\n",
       "      <td>4.515522</td>\n",
       "      <td>0.526310</td>\n",
       "      <td>0.491479</td>\n",
       "      <td>ssn_tune/ssn_prehead32_rank25_sdice0</td>\n",
       "    </tr>\n",
       "    <tr>\n",
       "      <th>19</th>\n",
       "      <td>0.767279</td>\n",
       "      <td>2.000000</td>\n",
       "      <td>3.179787</td>\n",
       "      <td>0.651163</td>\n",
       "      <td>0.669323</td>\n",
       "      <td>0.770958</td>\n",
       "      <td>7.064283</td>\n",
       "      <td>0.528012</td>\n",
       "      <td>0.524892</td>\n",
       "      <td>ssn_tune/ssn_prehead32_rank25_sdice0</td>\n",
       "    </tr>\n",
       "    <tr>\n",
       "      <th>20</th>\n",
       "      <td>0.780502</td>\n",
       "      <td>2.236068</td>\n",
       "      <td>12.637728</td>\n",
       "      <td>0.358491</td>\n",
       "      <td>0.497915</td>\n",
       "      <td>0.789004</td>\n",
       "      <td>0.398248</td>\n",
       "      <td>0.552993</td>\n",
       "      <td>0.533651</td>\n",
       "      <td>ssn_tune/ssn_prehead32_rank25_sdice0</td>\n",
       "    </tr>\n",
       "    <tr>\n",
       "      <th>21</th>\n",
       "      <td>0.757843</td>\n",
       "      <td>2.000000</td>\n",
       "      <td>23.355869</td>\n",
       "      <td>0.488889</td>\n",
       "      <td>0.554331</td>\n",
       "      <td>0.755503</td>\n",
       "      <td>0.491702</td>\n",
       "      <td>0.549018</td>\n",
       "      <td>0.551830</td>\n",
       "      <td>ssn_tune/ssn_prehead32_rank25_sdice0</td>\n",
       "    </tr>\n",
       "    <tr>\n",
       "      <th>22</th>\n",
       "      <td>0.832690</td>\n",
       "      <td>1.414214</td>\n",
       "      <td>5.284937</td>\n",
       "      <td>0.839286</td>\n",
       "      <td>0.773328</td>\n",
       "      <td>0.835642</td>\n",
       "      <td>0.307401</td>\n",
       "      <td>0.497013</td>\n",
       "      <td>0.496275</td>\n",
       "      <td>ssn_tune/ssn_prehead32_rank25_sdice0</td>\n",
       "    </tr>\n",
       "    <tr>\n",
       "      <th>23</th>\n",
       "      <td>0.658159</td>\n",
       "      <td>5.099020</td>\n",
       "      <td>59.031876</td>\n",
       "      <td>0.678571</td>\n",
       "      <td>0.514741</td>\n",
       "      <td>0.706427</td>\n",
       "      <td>3.896104</td>\n",
       "      <td>0.570652</td>\n",
       "      <td>0.525847</td>\n",
       "      <td>ssn_tune/ssn_prehead32_rank25_sdice0</td>\n",
       "    </tr>\n",
       "    <tr>\n",
       "      <th>24</th>\n",
       "      <td>0.805506</td>\n",
       "      <td>2.236068</td>\n",
       "      <td>22.262480</td>\n",
       "      <td>0.578125</td>\n",
       "      <td>0.544825</td>\n",
       "      <td>0.817699</td>\n",
       "      <td>2.520129</td>\n",
       "      <td>0.570769</td>\n",
       "      <td>0.541482</td>\n",
       "      <td>ssn_tune/ssn_prehead32_rank25_sdice0</td>\n",
       "    </tr>\n",
       "    <tr>\n",
       "      <th>25</th>\n",
       "      <td>0.667785</td>\n",
       "      <td>11.027217</td>\n",
       "      <td>11.987382</td>\n",
       "      <td>0.300000</td>\n",
       "      <td>0.402985</td>\n",
       "      <td>0.670194</td>\n",
       "      <td>2.814851</td>\n",
       "      <td>0.619944</td>\n",
       "      <td>0.602396</td>\n",
       "      <td>ssn_tune/ssn_prehead32_rank25_sdice0</td>\n",
       "    </tr>\n",
       "    <tr>\n",
       "      <th>26</th>\n",
       "      <td>0.829467</td>\n",
       "      <td>2.000000</td>\n",
       "      <td>7.155421</td>\n",
       "      <td>0.279221</td>\n",
       "      <td>0.399447</td>\n",
       "      <td>0.829214</td>\n",
       "      <td>1.913741</td>\n",
       "      <td>0.505424</td>\n",
       "      <td>0.504699</td>\n",
       "      <td>ssn_tune/ssn_prehead32_rank25_sdice0</td>\n",
       "    </tr>\n",
       "    <tr>\n",
       "      <th>27</th>\n",
       "      <td>0.861017</td>\n",
       "      <td>1.414214</td>\n",
       "      <td>6.351391</td>\n",
       "      <td>0.858696</td>\n",
       "      <td>0.803697</td>\n",
       "      <td>0.862167</td>\n",
       "      <td>2.080988</td>\n",
       "      <td>0.483836</td>\n",
       "      <td>0.472995</td>\n",
       "      <td>ssn_tune/ssn_prehead32_rank25_sdice0</td>\n",
       "    </tr>\n",
       "    <tr>\n",
       "      <th>28</th>\n",
       "      <td>0.856714</td>\n",
       "      <td>1.414214</td>\n",
       "      <td>0.938023</td>\n",
       "      <td>0.707317</td>\n",
       "      <td>0.736007</td>\n",
       "      <td>0.856046</td>\n",
       "      <td>4.283321</td>\n",
       "      <td>0.483585</td>\n",
       "      <td>0.482492</td>\n",
       "      <td>ssn_tune/ssn_prehead32_rank25_sdice0</td>\n",
       "    </tr>\n",
       "    <tr>\n",
       "      <th>29</th>\n",
       "      <td>0.783075</td>\n",
       "      <td>3.605551</td>\n",
       "      <td>2.546075</td>\n",
       "      <td>0.219512</td>\n",
       "      <td>0.316678</td>\n",
       "      <td>0.783448</td>\n",
       "      <td>3.563140</td>\n",
       "      <td>0.557455</td>\n",
       "      <td>0.531593</td>\n",
       "      <td>ssn_tune/ssn_prehead32_rank25_sdice0</td>\n",
       "    </tr>\n",
       "    <tr>\n",
       "      <th>30</th>\n",
       "      <td>0.805596</td>\n",
       "      <td>1.414214</td>\n",
       "      <td>5.495185</td>\n",
       "      <td>0.486486</td>\n",
       "      <td>0.627608</td>\n",
       "      <td>0.807137</td>\n",
       "      <td>0.044174</td>\n",
       "      <td>0.531136</td>\n",
       "      <td>0.530633</td>\n",
       "      <td>ssn_tune/ssn_prehead32_rank25_sdice0</td>\n",
       "    </tr>\n",
       "    <tr>\n",
       "      <th>31</th>\n",
       "      <td>0.443690</td>\n",
       "      <td>8.804491</td>\n",
       "      <td>42.517006</td>\n",
       "      <td>0.319444</td>\n",
       "      <td>0.440575</td>\n",
       "      <td>0.495377</td>\n",
       "      <td>0.291545</td>\n",
       "      <td>0.673481</td>\n",
       "      <td>0.629358</td>\n",
       "      <td>ssn_tune/ssn_prehead32_rank25_sdice0</td>\n",
       "    </tr>\n",
       "    <tr>\n",
       "      <th>32</th>\n",
       "      <td>0.720263</td>\n",
       "      <td>11.607935</td>\n",
       "      <td>26.276596</td>\n",
       "      <td>0.818182</td>\n",
       "      <td>0.555985</td>\n",
       "      <td>0.744140</td>\n",
       "      <td>2.553191</td>\n",
       "      <td>0.560900</td>\n",
       "      <td>0.521852</td>\n",
       "      <td>ssn_tune/ssn_prehead32_rank25_sdice0</td>\n",
       "    </tr>\n",
       "    <tr>\n",
       "      <th>33</th>\n",
       "      <td>0.772434</td>\n",
       "      <td>3.605551</td>\n",
       "      <td>24.913277</td>\n",
       "      <td>0.863636</td>\n",
       "      <td>0.488353</td>\n",
       "      <td>0.791767</td>\n",
       "      <td>1.750237</td>\n",
       "      <td>0.557602</td>\n",
       "      <td>0.537869</td>\n",
       "      <td>ssn_tune/ssn_prehead32_rank25_sdice0</td>\n",
       "    </tr>\n",
       "    <tr>\n",
       "      <th>34</th>\n",
       "      <td>0.681714</td>\n",
       "      <td>3.625967</td>\n",
       "      <td>19.139786</td>\n",
       "      <td>0.451613</td>\n",
       "      <td>0.567863</td>\n",
       "      <td>0.661759</td>\n",
       "      <td>5.089606</td>\n",
       "      <td>0.582521</td>\n",
       "      <td>0.583242</td>\n",
       "      <td>ssn_tune/ssn_prehead32_rank25_sdice0</td>\n",
       "    </tr>\n",
       "  </tbody>\n",
       "</table>\n",
       "</div>"
      ],
      "text/plain": [
       "        dice       hd95        avd    recall        f1  best_dice   best_avd  \\\n",
       "0   0.647578   3.162278  16.986900  0.555556  0.619469   0.649362   4.847161   \n",
       "1   0.873671   1.414214   5.954548  0.780000  0.692685   0.877018   1.591346   \n",
       "2   0.588161   5.000000  19.248423  0.750000  0.774194   0.587675   2.954676   \n",
       "3   0.646564   2.236068   1.553510  0.729167  0.629105   0.636950  12.830840   \n",
       "4   0.912884   1.414214   1.481999  0.650000  0.643110   0.909098   2.096128   \n",
       "5   0.628240   4.898980  18.048780  0.448980  0.610707   0.642348   6.097561   \n",
       "6   0.725482   2.236068   2.412451  0.393939  0.483271   0.720570  14.241245   \n",
       "7   0.554024  11.108498  39.392380  0.410256  0.561404   0.624861   1.338826   \n",
       "8   0.636974   2.236068  38.293335  0.887500  0.830750   0.654385   3.946667   \n",
       "9   0.487484  10.289964  36.069115  0.347222  0.442834   0.489018   3.815695   \n",
       "10  0.663652   1.414214  33.994709  0.928571  0.790055   0.664294   3.306878   \n",
       "11  0.708868  11.000000  43.563637  0.916667  0.514019   0.779434   4.800000   \n",
       "12  0.793089   1.414214   3.845025  0.564103  0.650888   0.802465   3.522160   \n",
       "13  0.922588   1.000000   0.440304  0.652174  0.721649   0.918099   3.240530   \n",
       "14  0.891585   1.000000   0.011182  0.826087  0.760000   0.887903   5.982333   \n",
       "15  0.818729   3.000000   4.170646  0.769231  0.743802   0.813172   5.858007   \n",
       "16  0.775803   1.414214  18.358210  0.666667  0.631579   0.774945   4.925373   \n",
       "17  0.785703   1.414214   3.639241  0.826923  0.835592   0.783814   1.360759   \n",
       "18  0.782495   2.000000  28.582628  0.853659  0.668258   0.820301   4.515522   \n",
       "19  0.767279   2.000000   3.179787  0.651163  0.669323   0.770958   7.064283   \n",
       "20  0.780502   2.236068  12.637728  0.358491  0.497915   0.789004   0.398248   \n",
       "21  0.757843   2.000000  23.355869  0.488889  0.554331   0.755503   0.491702   \n",
       "22  0.832690   1.414214   5.284937  0.839286  0.773328   0.835642   0.307401   \n",
       "23  0.658159   5.099020  59.031876  0.678571  0.514741   0.706427   3.896104   \n",
       "24  0.805506   2.236068  22.262480  0.578125  0.544825   0.817699   2.520129   \n",
       "25  0.667785  11.027217  11.987382  0.300000  0.402985   0.670194   2.814851   \n",
       "26  0.829467   2.000000   7.155421  0.279221  0.399447   0.829214   1.913741   \n",
       "27  0.861017   1.414214   6.351391  0.858696  0.803697   0.862167   2.080988   \n",
       "28  0.856714   1.414214   0.938023  0.707317  0.736007   0.856046   4.283321   \n",
       "29  0.783075   3.605551   2.546075  0.219512  0.316678   0.783448   3.563140   \n",
       "30  0.805596   1.414214   5.495185  0.486486  0.627608   0.807137   0.044174   \n",
       "31  0.443690   8.804491  42.517006  0.319444  0.440575   0.495377   0.291545   \n",
       "32  0.720263  11.607935  26.276596  0.818182  0.555985   0.744140   2.553191   \n",
       "33  0.772434   3.605551  24.913277  0.863636  0.488353   0.791767   1.750237   \n",
       "34  0.681714   3.625967  19.139786  0.451613  0.567863   0.661759   5.089606   \n",
       "\n",
       "        rmse  best_rmse                            model_name  \n",
       "0   0.554620   0.548435  ssn_tune/ssn_prehead32_rank25_sdice0  \n",
       "1   0.470739   0.458705  ssn_tune/ssn_prehead32_rank25_sdice0  \n",
       "2   0.591945   0.584549  ssn_tune/ssn_prehead32_rank25_sdice0  \n",
       "3   0.547760   0.551873  ssn_tune/ssn_prehead32_rank25_sdice0  \n",
       "4   0.418764   0.425343  ssn_tune/ssn_prehead32_rank25_sdice0  \n",
       "5   0.577126   0.566099  ssn_tune/ssn_prehead32_rank25_sdice0  \n",
       "6   0.529485   0.531720  ssn_tune/ssn_prehead32_rank25_sdice0  \n",
       "7   0.626890   0.584508  ssn_tune/ssn_prehead32_rank25_sdice0  \n",
       "8   0.599198   0.584381  ssn_tune/ssn_prehead32_rank25_sdice0  \n",
       "9   0.589048   0.587236  ssn_tune/ssn_prehead32_rank25_sdice0  \n",
       "10  0.596408   0.566337  ssn_tune/ssn_prehead32_rank25_sdice0  \n",
       "11  0.537777   0.486527  ssn_tune/ssn_prehead32_rank25_sdice0  \n",
       "12  0.500678   0.483661  ssn_tune/ssn_prehead32_rank25_sdice0  \n",
       "13  0.384625   0.389863  ssn_tune/ssn_prehead32_rank25_sdice0  \n",
       "14  0.426628   0.432749  ssn_tune/ssn_prehead32_rank25_sdice0  \n",
       "15  0.479097   0.479712  ssn_tune/ssn_prehead32_rank25_sdice0  \n",
       "16  0.532888   0.513714  ssn_tune/ssn_prehead32_rank25_sdice0  \n",
       "17  0.512855   0.509879  ssn_tune/ssn_prehead32_rank25_sdice0  \n",
       "18  0.526310   0.491479  ssn_tune/ssn_prehead32_rank25_sdice0  \n",
       "19  0.528012   0.524892  ssn_tune/ssn_prehead32_rank25_sdice0  \n",
       "20  0.552993   0.533651  ssn_tune/ssn_prehead32_rank25_sdice0  \n",
       "21  0.549018   0.551830  ssn_tune/ssn_prehead32_rank25_sdice0  \n",
       "22  0.497013   0.496275  ssn_tune/ssn_prehead32_rank25_sdice0  \n",
       "23  0.570652   0.525847  ssn_tune/ssn_prehead32_rank25_sdice0  \n",
       "24  0.570769   0.541482  ssn_tune/ssn_prehead32_rank25_sdice0  \n",
       "25  0.619944   0.602396  ssn_tune/ssn_prehead32_rank25_sdice0  \n",
       "26  0.505424   0.504699  ssn_tune/ssn_prehead32_rank25_sdice0  \n",
       "27  0.483836   0.472995  ssn_tune/ssn_prehead32_rank25_sdice0  \n",
       "28  0.483585   0.482492  ssn_tune/ssn_prehead32_rank25_sdice0  \n",
       "29  0.557455   0.531593  ssn_tune/ssn_prehead32_rank25_sdice0  \n",
       "30  0.531136   0.530633  ssn_tune/ssn_prehead32_rank25_sdice0  \n",
       "31  0.673481   0.629358  ssn_tune/ssn_prehead32_rank25_sdice0  \n",
       "32  0.560900   0.521852  ssn_tune/ssn_prehead32_rank25_sdice0  \n",
       "33  0.557602   0.537869  ssn_tune/ssn_prehead32_rank25_sdice0  \n",
       "34  0.582521   0.583242  ssn_tune/ssn_prehead32_rank25_sdice0  "
      ]
     },
     "execution_count": 41,
     "metadata": {},
     "output_type": "execute_result"
    }
   ],
   "source": [
    "df"
   ]
  },
  {
   "cell_type": "code",
   "execution_count": 42,
   "id": "72a05093-c811-44c4-85da-eb7ac8944444",
   "metadata": {
    "tags": []
   },
   "outputs": [
    {
     "name": "stdout",
     "output_type": "stream",
     "text": [
      "95% confidence interval for dice: [0.701, 0.777], conf_int=0.038\n",
      "95% confidence interval for hd95: [2.627, 4.868], conf_int=1.120\n",
      "95% confidence interval for avd: [11.697, 21.967], conf_int=5.135\n",
      "95% confidence interval for recall: [0.555, 0.694], conf_int=0.070\n",
      "95% confidence interval for f1: [0.570, 0.659], conf_int=0.045\n",
      "95% confidence interval for best_dice: [0.713, 0.785], conf_int=0.036\n",
      "95% confidence interval for best_avd: [2.710, 4.738], conf_int=1.014\n",
      "95% confidence interval for rmse: [0.518, 0.558], conf_int=0.020\n",
      "95% confidence interval for best_rmse: [0.507, 0.542], conf_int=0.017\n"
     ]
    }
   ],
   "source": [
    "overall_stats = {\"model_name\":[args.model_name]}\n",
    "\n",
    "for key, value in chal_results.items():\n",
    "    mean = value.mean()\n",
    "    std = value.std(correction=1) # https://en.wikipedia.org/wiki/Bessel%27s_correction#Source_of_bias in this case we know the true mean..?\n",
    "    # I want the standard deviation across this dataset, and I have a full sample, so I should use correction = 0? Or are we saying we have a limited sample of data from\n",
    "    # an infinite distribution, and we want to know the model performance on that distribution, so correction = 1. Hmm this is a bit of a headache.\n",
    "    conf_int = 1.96 * std / np.sqrt(len(value))\n",
    "\n",
    "    lower_bound = mean - conf_int\n",
    "    upper_bound = mean + conf_int\n",
    "    \n",
    "    overall_stats[f\"{key}_mean\"] = [mean.item()]\n",
    "    overall_stats[f\"{key}_95%conf\"] = [conf_int.item()]\n",
    "\n",
    "    print(f\"95% confidence interval for {key}: [{lower_bound:.3f}, {upper_bound:.3f}], conf_int={conf_int:.3f}\")"
   ]
  },
  {
   "cell_type": "code",
   "execution_count": 43,
   "id": "f880d70f-714e-4144-ab5f-0f70d8eb63be",
   "metadata": {
    "tags": []
   },
   "outputs": [
    {
     "data": {
      "text/plain": [
       "{'model_name': ['ssn_tune/ssn_prehead32_rank25_sdice0'],\n",
       " 'dice_mean': [0.7390660047531128],\n",
       " 'dice_95%conf': [0.038097236305475235],\n",
       " 'hd95_mean': [3.7473692893981934],\n",
       " 'hd95_95%conf': [1.120322585105896],\n",
       " 'avd_mean': [16.831995010375977],\n",
       " 'avd_95%conf': [5.135120391845703],\n",
       " 'recall_mean': [0.6244380474090576],\n",
       " 'recall_95%conf': [0.06957070529460907],\n",
       " 'f1_mean': [0.6142008304595947],\n",
       " 'f1_95%conf': [0.0445595309138298],\n",
       " 'best_dice_mean': [0.7489198446273804],\n",
       " 'best_dice_95%conf': [0.03575572371482849],\n",
       " 'best_avd_mean': [3.723839044570923],\n",
       " 'best_avd_95%conf': [1.0136934518814087],\n",
       " 'rmse_mean': [0.5379194617271423],\n",
       " 'rmse_95%conf': [0.019884785637259483],\n",
       " 'best_rmse_mean': [0.5242250561714172],\n",
       " 'best_rmse_95%conf': [0.017451206222176552]}"
      ]
     },
     "execution_count": 43,
     "metadata": {},
     "output_type": "execute_result"
    }
   ],
   "source": [
    "overall_stats"
   ]
  },
  {
   "cell_type": "code",
   "execution_count": 44,
   "id": "549d8e30-88b1-4896-a31e-3044ad02f317",
   "metadata": {
    "tags": []
   },
   "outputs": [
    {
     "data": {
      "text/plain": [
       "(tensor(0.7391), tensor(16.8320))"
      ]
     },
     "execution_count": 44,
     "metadata": {},
     "output_type": "execute_result"
    }
   ],
   "source": [
    "torch.Tensor(dices).mean(), torch.Tensor(avds).mean()"
   ]
  },
  {
   "cell_type": "code",
   "execution_count": 45,
   "id": "9ef21e89-ee67-48e8-a011-352723c8d129",
   "metadata": {},
   "outputs": [
    {
     "data": {
      "image/png": "[encoded data removed]",
      "text/plain": [
       "<Figure size 640x480 with 1 Axes>"
      ]
     },
     "metadata": {},
     "output_type": "display_data"
    }
   ],
   "source": [
    "plt.scatter(gt_vols * 0.003, sample_best_avds)\n",
    "plt.scatter(gt_vols * 0.003, avds, c='orange')\n",
    "plt.xscale('log')"
   ]
  },
  {
   "cell_type": "code",
   "execution_count": null,
   "id": "5b99bbba-6641-4a7a-bb59-a9a75028d48f",
   "metadata": {},
   "outputs": [
    {
     "data": {
      "text/plain": [
       "torch.Size([35, 50])"
      ]
     },
     "execution_count": 117,
     "metadata": {},
     "output_type": "execute_result"
    }
   ],
   "source": [
    "samples_f.shape"
   ]
  },
  {
   "cell_type": "code",
   "execution_count": null,
   "id": "d253aa43-5ec5-4e6e-84a8-caabc3e643d4",
   "metadata": {},
   "outputs": [
    {
     "data": {
      "text/plain": [
       "50"
      ]
     },
     "execution_count": 122,
     "metadata": {},
     "output_type": "execute_result"
    }
   ],
   "source": [
    "len(samples[0])"
   ]
  },
  {
   "cell_type": "code",
   "execution_count": null,
   "id": "8b57c140-b319-4d7a-b7fc-5ebdde0dd156",
   "metadata": {},
   "outputs": [
    {
     "data": {
      "text/plain": [
       "tensor(18.5293)"
      ]
     },
     "execution_count": 120,
     "metadata": {},
     "output_type": "execute_result"
    }
   ],
   "source": [
    "samples_f.min(dim=1)[0].mean()"
   ]
  },
  {
   "cell_type": "code",
   "execution_count": 119,
   "id": "d587dfd3-c805-4c1b-a326-1d87af77c537",
   "metadata": {
    "tags": []
   },
   "outputs": [],
   "source": [
    "s0sum = samples[0].cuda().argmax(dim=2).view(50, -1).sum(dim=1).cpu()"
   ]
  },
  {
   "cell_type": "code",
   "execution_count": 50,
   "id": "a8f70d44-c818-4c8e-b958-13877069eb4e",
   "metadata": {
    "tags": []
   },
   "outputs": [
    {
     "data": {
      "text/plain": [
       "torch.Size([50, 40, 2, 224, 160])"
      ]
     },
     "execution_count": 50,
     "metadata": {},
     "output_type": "execute_result"
    }
   ],
   "source": [
    "samples[0].shape"
   ]
  },
  {
   "cell_type": "code",
   "execution_count": 51,
   "id": "dba4d26f-5aa9-49fa-9315-f4d61bee99e0",
   "metadata": {
    "tags": []
   },
   "outputs": [
    {
     "data": {
      "text/plain": [
       "(tensor(1043), tensor(1168))"
      ]
     },
     "execution_count": 51,
     "metadata": {},
     "output_type": "execute_result"
    }
   ],
   "source": [
    "s0sum.min(), s0sum.max()"
   ]
  },
  {
   "cell_type": "code",
   "execution_count": 54,
   "id": "fef1f6a6-d755-4077-9584-fb5c7d1cb1a2",
   "metadata": {
    "tags": []
   },
   "outputs": [],
   "source": [
    "new_sample = reorder_samples(samples[0].cuda().argmax(dim=2))"
   ]
  },
  {
   "cell_type": "code",
   "execution_count": 57,
   "id": "7b58b366-839d-41f9-bf6e-5013cda2f121",
   "metadata": {
    "tags": []
   },
   "outputs": [
    {
     "data": {
      "text/plain": [
       "(tensor(736., device='cuda:0'), tensor(1415., device='cuda:0'))"
      ]
     },
     "execution_count": 57,
     "metadata": {},
     "output_type": "execute_result"
    }
   ],
   "source": [
    "new_sample.view(50, -1).sum(-1).min(), new_sample.view(50, -1).sum(-1).max()"
   ]
  },
  {
   "cell_type": "code",
   "execution_count": 2,
   "id": "7dc1cab8-8897-4e48-b8b4-5a7c69890680",
   "metadata": {
    "tags": []
   },
   "outputs": [],
   "source": [
    "import os"
   ]
  },
  {
   "cell_type": "code",
   "execution_count": 4,
   "id": "79f6d285-d001-4b45-a340-c7709f55aaf9",
   "metadata": {
    "tags": []
   },
   "outputs": [
    {
     "data": {
      "text/plain": [
       "['ssn_prehead16_rank15_sdice0']"
      ]
     },
     "execution_count": 4,
     "metadata": {},
     "output_type": "execute_result"
    }
   ],
   "source": [
    "os.listdir(\"/media/benp/NVMEspare/model_data/journal_models/ssn_tune\")"
   ]
  },
  {
   "cell_type": "code",
   "execution_count": null,
   "id": "fe91f6ac-05d1-4778-81e0-30e2a578acbb",
   "metadata": {},
   "outputs": [],
   "source": []
  },
  {
   "cell_type": "code",
   "execution_count": null,
   "id": "157b97d1-2dc2-4999-9f7d-b4b61545bfef",
   "metadata": {},
   "outputs": [],
   "source": []
  },
  {
   "cell_type": "code",
   "execution_count": null,
   "id": "5fcfb2f8-0457-498b-8327-48c61731bc3c",
   "metadata": {},
   "outputs": [],
   "source": []
  },
  {
   "cell_type": "code",
   "execution_count": 30,
   "id": "07f120fa-e25f-4d56-aade-00071994e3b7",
   "metadata": {
    "tags": []
   },
   "outputs": [],
   "source": [
    "model_result_dir = os.path.join(args.repo_dir, args.result_dir, args.model_name)"
   ]
  },
  {
   "cell_type": "code",
   "execution_count": 84,
   "id": "352c7409-70d3-4943-ad8c-a5455fde7cfd",
   "metadata": {
    "tags": []
   },
   "outputs": [],
   "source": [
    "df.to_csv(model_result_dir + \"_individual_stats.csv\")\n",
    "overall_stats.to_csv(model_result_dir + \"_overall_stats.csv\")"
   ]
  },
  {
   "cell_type": "code",
   "execution_count": 82,
   "id": "13d484e8-8ab1-492d-bd94-09eef003d13b",
   "metadata": {
    "tags": []
   },
   "outputs": [
    {
     "data": {
      "text/plain": [
       "'/home/benp/Documents/PhD_projects/WMH_UQ_assessment/trustworthai/journal_run/evaluation/results/initial_hparam_tuning/out_domain_results/standard_model_duplicate'"
      ]
     },
     "execution_count": 82,
     "metadata": {},
     "output_type": "execute_result"
    }
   ],
   "source": [
    "model_result_dir"
   ]
  },
  {
   "cell_type": "code",
   "execution_count": null,
   "id": "382c7de4-17a0-472b-84ca-0545cf30bf49",
   "metadata": {},
   "outputs": [],
   "source": [
    "model_result_dir"
   ]
  },
  {
   "cell_type": "code",
   "execution_count": 39,
   "id": "ba8bb81b-600d-443f-b043-06218ac83d49",
   "metadata": {
    "tags": []
   },
   "outputs": [],
   "source": [
    "import scipy.stats"
   ]
  },
  {
   "cell_type": "code",
   "execution_count": 45,
   "id": "061dc9e3-fead-4b54-9927-be5b9cbf3791",
   "metadata": {
    "tags": []
   },
   "outputs": [
    {
     "data": {
      "text/plain": [
       "0.057390846351506014"
      ]
     },
     "execution_count": 45,
     "metadata": {},
     "output_type": "execute_result"
    }
   ],
   "source": [
    "1.96 * scipy.stats.sem(data['dice'], ddof=1)"
   ]
  },
  {
   "cell_type": "code",
   "execution_count": 32,
   "id": "9bfadcde-6d33-4e82-842b-64fd83cee5d5",
   "metadata": {
    "tags": []
   },
   "outputs": [],
   "source": [
    "################################### The actual run script ##################################\n",
    "################################### Nice ###################################################\n",
    "\n",
    "\n",
    "# The only run script that I need for a deterministic model is to find the challenge metrics etc for the model predictions. Nice.\n",
    "\n",
    "\n",
    "def run_eval(args):\n",
    "    \n",
    "    name = args.name\n",
    "    splits = args.splits\n",
    "    stride = args.stride\n",
    "    temp = 1\n",
    "    num_samples = 10\n",
    "        \n",
    "    \n",
    "    name_to_method_map = {\n",
    "        \"softmax_ent\":[generate_means_and_samples_CategoricalSoftmax],\n",
    "        \"mc_drop\":[generate_means_and_samples_MC_Dropout],\n",
    "        \"evidential\":[generate_means_and_samples_Evidential],\n",
    "        \"ensemble\":[generate_means_and_samples_Ensemble],\n",
    "        \"SSN_ensemble\":[generate_means_and_samples_SSN_Ens],\n",
    "        \"SSN_ensemble_mean\":[generate_means_and_samples_SSN_Ens_Mean],\n",
    "        \"SSN\":[generate_means_and_samples_SSN],\n",
    "        \"SSN_Ind\":[generate_means_and_samples_SSN],\n",
    "        \"P-Unet\":[generate_means_and_samples_PUNet],\n",
    "    }\n",
    "    \n",
    "    method_func = name_to_method_map[name][0]\n",
    "    if name == \"SSN_Ind\":\n",
    "        means, samples, test_datasets = method_func(splits=splits, dataset_stride=stride, temp=temp, num_samples=num_samples, independent=True)\n",
    "    elif name == \"softmax_ent\":\n",
    "        means, samples, test_datasets = method_func(splits=splits, dataset_stride=stride, temp=temp, num_samples=num_samples, loss_name=args.determin_loss_name)\n",
    "    else:\n",
    "        means, samples, test_datasets = method_func(splits=splits, dataset_stride=stride, temp=temp, num_samples=num_samples)\n",
    "        \n",
    "    if \"softmax\" in name:\n",
    "        name += \"_\" + args.determin_loss_name\n",
    "\n",
    "    save_folder = f\"/home/s2208943/ipdis/UQ_WMH_methods/trustworthai/run/results/{name}/\"\n",
    "    results_file = save_folder + \"text_results.txt\"\n",
    "\n",
    "    try:\n",
    "        os.mkdir(save_folder)\n",
    "        os.mkdir(save_folder + \"/images\")\n",
    "    except:\n",
    "        pass\n",
    "\n",
    "    with open(results_file, \"w\") as f:\n",
    "        print_and_write(results_file, \"begin results\")\n",
    "       \n",
    "    \n",
    "    # GET THE UMAPS\n",
    "    # softmax entropy\n",
    "    if \"softmax\" in name:\n",
    "        ent_maps = [entropy_map_from_mean(means[scan_index], do_normalize=True) for scan_index in range(len(means))]\n",
    "\n",
    "    # evidential\n",
    "    elif \"evidential\" in name:\n",
    "        ent_maps = [entropy_map_from_mean(means[scan_index], do_normalize=False) for scan_index in range(len(means))]\n",
    "\n",
    "    else:\n",
    "        ent_maps = [entropy_map_from_samples(samples[scan_index]) for scan_index in range(len(means))]\n",
    "      \n",
    "    \n",
    "    # collect input data\n",
    "    xs3d_test = []\n",
    "    ys3d_test = []\n",
    "\n",
    "    for i, data in enumerate(test_datasets):\n",
    "        if i % stride == 0:\n",
    "            ys3d_test.append(data[1].squeeze())\n",
    "            xs3d_test.append(data[0])\n",
    "            \n",
    "    # do some plotting\n",
    "    # plot_example(save_folder, test_datasets, means, ent_maps, 87, 15, stride)\n",
    "    # plot_example(save_folder, test_datasets, means, ent_maps, 103, 35,stride)\n",
    "    # plot_example(save_folder, test_datasets, means, ent_maps, 52, 35, stride)\n",
    "    # plot_example(save_folder, test_datasets, means, ent_maps, 1, 25, stride)\n",
    "    plot_example(save_folder, test_datasets, means, ent_maps, 0, 25, stride)\n",
    "    # plot_example(save_folder, test_datasets, means, ent_maps, 57, 25, stride)\n",
    "    # plot_example(save_folder, test_datasets, means, ent_maps, 60, 30, stride)\n",
    "    # plot_example(save_folder, test_datasets, means, ent_maps, 70, 25, stride)\n",
    "    \n",
    "    plt.style.use('fivethirtyeight')\n",
    "    \n",
    "    # energy distance score\n",
    "    geds_reordered = iou_GED(means, ys3d_test, samples, reorder=True)\n",
    "    \n",
    "    print_and_write(results_file, \"reordered GED values\", newline=1)\n",
    "    print_and_write(results_file, geds_reordered)\n",
    "\n",
    "    print_and_write(results_file, \"reordered GED mean\", newline=1)\n",
    "    print_and_write(results_file, geds_reordered.mean())\n",
    "\n",
    "    print_and_write(results_file, \"reordered GED standard error\", newline=1)\n",
    "    print_and_write(results_file, scipy.stats.sem(geds_reordered))\n",
    "    \n",
    "    # sample diversity analysis\n",
    "    standard_sample_dices = metric_across_samples_analysis(results_file, ys3d_test, samples, reorder=False, metric=\"dice\")\n",
    "    reorder_sample_dices = metric_across_samples_analysis(results_file, ys3d_test, samples, reorder=True, metric=\"dice\")\n",
    "    standard_sample_avds = metric_across_samples_analysis(results_file, ys3d_test, samples, reorder=False, metric=\"avd\")\n",
    "    reorder_sample_avds = metric_across_samples_analysis(results_file, ys3d_test, samples, reorder=True, metric=\"avd\")\n",
    "    \n",
    "    # standard_sample_VDS = vd_per_sample(ys3d_test, samples, reorder=False)\n",
    "    reorder_sample_VDS = vd_per_sample(ys3d_test, samples, reorder=True)\n",
    "    gt_vols = GT_volumes(ys3d_test)\n",
    "    sample_diversity_plot_by_volume(save_folder, reorder_sample_VDS*0.003, gt_vols, \"Volume Difference (%)\")\n",
    "    \n",
    "    # bras and sueo scores\n",
    "    uncertainty_thresholds = torch.arange(0, 0.7, 0.01)\n",
    "\n",
    "    filtered_dices = []\n",
    "    filtered_tns = []\n",
    "    filtered_tps = []\n",
    "\n",
    "    for i in tqdm(range(len(means)), position=0, leave=True):\n",
    "        mean = means[i].cuda().argmax(dim=1)\n",
    "        ent_map = ent_maps[i].cuda()\n",
    "        y = ys3d_test[i].cuda()\n",
    "        mask = xs3d_test[i][1].cuda()\n",
    "\n",
    "        ind_filtered_dices = []\n",
    "        ind_filtered_tns = []\n",
    "        ind_filtered_tps = []\n",
    "\n",
    "        if mean.sum() == 0:\n",
    "            continue\n",
    "\n",
    "        for t in uncertainty_thresholds:\n",
    "            ind_filtered_dices.append(filtered_dice(mean, ent_map, y, t))\n",
    "            ind_filtered_tns.append(filtered_tns_score(mask, mean, ent_map, y, t))\n",
    "            ind_filtered_tps.append(filtered_tps_score(mean, ent_map, y, t))\n",
    "\n",
    "        filtered_dices.append(ind_filtered_dices)\n",
    "        filtered_tns.append(ind_filtered_tns)\n",
    "        filtered_tps.append(ind_filtered_tps)\n",
    "\n",
    "\n",
    "    # we need to calculate the area under the curve of the dice, so that will be mean dice per threshold?\n",
    "    filtered_dices = torch.stack([torch.Tensor(v) for v in filtered_dices], dim=0)\n",
    "    filtered_tns = torch.stack([torch.Tensor(v) for v in filtered_tns], dim=0)\n",
    "    filtered_tps = torch.stack([torch.Tensor(v) for v in filtered_tps], dim=0)\n",
    "    \n",
    "    fdice_curve = filtered_dices.mean(dim=0)\n",
    "    tn_curve = filtered_tns.mean(dim=0)\n",
    "    tp_curve = filtered_tps.mean(dim=0)\n",
    "    max_ent = math.log(0.5)\n",
    "    bras_score = (1/3) * (\n",
    "        metrics.auc(uncertainty_thresholds/max_ent, fdice_curve)\n",
    "         + (1 - metrics.auc(uncertainty_thresholds/max_ent, tn_curve))\n",
    "         + (1 - metrics.auc(uncertainty_thresholds/max_ent, tp_curve))\n",
    "    )\n",
    "    print_and_write(results_file, \"bras score\", newline=1)\n",
    "    print_and_write(results_file, bras_score)\n",
    "    \n",
    "    sUEOs = []\n",
    "    for i in tqdm(range(len(means)), position=0, leave=True):\n",
    "        pred = means[i].argmax(dim=1).cuda()\n",
    "        target = ys3d_test[i].cuda()\n",
    "        ent = ent_maps[i].cuda()\n",
    "\n",
    "        if pred.sum() == 0:\n",
    "            continue\n",
    "\n",
    "        sUEOs.append(sUEO(pred, ent, target))\n",
    "\n",
    "    sUEOs = torch.Tensor(sUEOs)\n",
    "    print_and_write(results_file, \"sUEO mean\", newline=1)\n",
    "    print_and_write(results_file, sUEOs.mean())\n",
    "\n",
    "    print_and_write(results_file, \"sUEO standard error\", newline=1)\n",
    "    print_and_write(results_file, scipy.stats.sem(sUEOs))\n",
    "    \n",
    "    UEO_per_threshold_analysis(save_folder, results_file, uncertainty_thresholds, ys3d_test, ent_maps, means, max_ent)\n",
    "    \n",
    "    if \"softmax\" in name:\n",
    "        # for softmax entropy\n",
    "        calibration_over_samples(save_folder, results_file, means, samples, ys3d_test, do_normalize=True, mode=\"mean_only\")\n",
    "\n",
    "    # evidential\n",
    "    elif \"evidential\" in name:\n",
    "        # For evidential\n",
    "        calibration_over_samples(save_folder, results_file, means, samples, ys3d_test, do_normalize=False, mode=\"mean_only\")\n",
    "\n",
    "    else:\n",
    "        # for other models\n",
    "        calibration_over_samples(save_folder, results_file, means, samples, ys3d_test, do_normalize=True, mode=\"mean_conf\")\n",
    "        \n",
    "        \n",
    "    # collect the challenge data\n",
    "    challenge_data = per_model_chal_stats(means, ys3d_test)\n",
    "    write_model_metric_results(results_file, challenge_data)\n",
    "    \n",
    "    # the more expensive code goes at the end\n",
    "    # 2D slice coverage\n",
    "    uncertainty_thresholds = torch.arange(0, 0.7, 0.01)\n",
    "    conn_comp_2d_analysis(save_folder, results_file, uncertainty_thresholds, ys3d=ys3d_test, means3d=means, ind_ent_maps=ent_maps)\n",
    "    \n",
    "    print(\"DONE!\")"
   ]
  },
  {
   "cell_type": "code",
   "execution_count": 30,
   "id": "7ae54685-8fdd-4008-aa8a-dee109dcbca2",
   "metadata": {
    "tags": []
   },
   "outputs": [
    {
     "data": {
      "image/png": "[encoded data removed]",
      "text/plain": [
       "<Figure size 1500x300 with 5 Axes>"
      ]
     },
     "metadata": {},
     "output_type": "display_data"
    }
   ],
   "source": [
    "data = chal_results\n",
    "# Create a figure with subfigures\n",
    "fig, axes = plt.subplots(1, 5, figsize=(15, 3))\n",
    "\n",
    "# Iterate over the data dictionary and create boxplots for each key\n",
    "for i, (key, value) in enumerate(data.items()):\n",
    "    sns.boxplot(\n",
    "        x=value.tolist(),\n",
    "        ax=axes[i],\n",
    "        showmeans=True,\n",
    "    )\n",
    "\n",
    "    axes[i].set_title(key)\n",
    "\n",
    "# Tighten the layout\n",
    "plt.tight_layout()\n",
    "\n",
    "# Show the figure\n",
    "plt.show()"
   ]
  },
  {
   "cell_type": "code",
   "execution_count": null,
   "id": "c0790b4f-1187-4f33-b27f-16553a3d6ac5",
   "metadata": {},
   "outputs": [],
   "source": []
  }
 ],
 "metadata": {
  "kernelspec": {
   "display_name": "Python 3 (ipykernel)",
   "language": "python",
   "name": "python3"
  },
  "language_info": {
   "codemirror_mode": {
    "name": "ipython",
    "version": 3
   },
   "file_extension": ".py",
   "mimetype": "text/x-python",
   "name": "python",
   "nbconvert_exporter": "python",
   "pygments_lexer": "ipython3",
   "version": "3.8.10"
  }
 },
 "nbformat": 4,
 "nbformat_minor": 5
}
