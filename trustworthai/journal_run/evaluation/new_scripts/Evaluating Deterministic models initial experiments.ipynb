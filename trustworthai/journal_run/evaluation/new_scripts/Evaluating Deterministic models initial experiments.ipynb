{
 "cells": [
  {
   "cell_type": "code",
   "execution_count": 3,
   "id": "819e0d96-9757-4217-899f-f2c042094629",
   "metadata": {
    "tags": []
   },
   "outputs": [
    {
     "name": "stdout",
     "output_type": "stream",
     "text": [
      "strawberry\n",
      "running on local machine!\n",
      "banana\n"
     ]
    }
   ],
   "source": [
    "print(\"strawberry\")\n",
    "\n",
    "# loss function and metrics\n",
    "from trustworthai.utils.losses_and_metrics.dice_loss import DiceLossWithWeightedEmptySlices\n",
    "from trustworthai.utils.losses_and_metrics.dice_loss_metric import DiceLossMetric, SsnDiceMeanMetricWrapper\n",
    "\n",
    "# predefined training dataset\n",
    "from trustworthai.utils.data_preprep.dataset_pipelines import load_data\n",
    "from torch.utils.data import ConcatDataset\n",
    "\n",
    "# fitter\n",
    "from trustworthai.utils.fitting_and_inference.fitters.basic_lightning_fitter import StandardLitModelWrapper\n",
    "from trustworthai.utils.fitting_and_inference.fitters.p_unet_fitter import PUNetLitModelWrapper\n",
    "from trustworthai.utils.fitting_and_inference.get_trainer import get_trainer\n",
    "\n",
    "# model\n",
    "from trustworthai.journal_run.model_load.load_ssn import load_ssn\n",
    "from trustworthai.journal_run.model_load.load_punet import load_p_unet\n",
    "from trustworthai.journal_run.model_load.load_deterministic import load_deterministic\n",
    "from trustworthai.models.stochastic_wrappers.ssn.LowRankMVCustom import LowRankMultivariateNormalCustom\n",
    "from trustworthai.models.stochastic_wrappers.ssn.ReshapedDistribution import ReshapedDistribution\n",
    "\n",
    "# optimizer and lr scheduler\n",
    "import torch\n",
    "\n",
    "\n",
    "import numpy as np\n",
    "import scipy.stats\n",
    "from trustworthai.utils.plotting.saving_plots import save, imsave\n",
    "from trustworthai.utils.print_and_write_func import print_and_write\n",
    "\n",
    "# misc\n",
    "import argparse\n",
    "import os\n",
    "import shutil\n",
    "import shlex\n",
    "from collections import defaultdict\n",
    "from tqdm import tqdm\n",
    "import sys\n",
    "from natsort import natsorted\n",
    "\n",
    "import pandas as pd\n",
    "from trustworthai.analysis.connected_components.connected_comps_2d import conn_comp_2d_analysis\n",
    "from trustworthai.analysis.evaluation_metrics.challenge_metrics import getAVD, getDSC, getHausdorff, getLesionDetection, do_challenge_metrics\n",
    "from sklearn import metrics\n",
    "import math\n",
    "\n",
    "import torch\n",
    "import matplotlib.pyplot as plt\n",
    "from trustworthai.utils.plotting.saving_plots import save\n",
    "from trustworthai.utils.print_and_write_func import print_and_write\n",
    "from trustworthai.analysis.calibration.helper_funcs import *\n",
    "from tqdm import tqdm\n",
    "from trustworthai.utils.logits_to_preds import normalize_samples\n",
    "\n",
    "print(\"banana\")\n"
   ]
  },
  {
   "cell_type": "code",
   "execution_count": 4,
   "id": "bb96711a-9fcf-4b7d-8a62-3746161b36f4",
   "metadata": {
    "tags": []
   },
   "outputs": [],
   "source": [
    "from trustworthai.utils.data_preprep.dataset_pipelines import load_clinscores_data, load_data, ClinScoreDataRetriever"
   ]
  },
  {
   "cell_type": "code",
   "execution_count": 5,
   "id": "2aa71d77-8274-4c91-a73c-9505b479ff28",
   "metadata": {
    "tags": []
   },
   "outputs": [],
   "source": [
    "import matplotlib.pyplot as plt\n",
    "from trustworthai.utils.uncertainty_maps.entropy_map import entropy_map_from_samples"
   ]
  },
  {
   "cell_type": "code",
   "execution_count": 6,
   "id": "7894acbc-6a1f-4bf8-b7c8-3692681f58be",
   "metadata": {
    "tags": []
   },
   "outputs": [],
   "source": [
    "%load_ext autoreload"
   ]
  },
  {
   "cell_type": "code",
   "execution_count": 7,
   "id": "b087c098-0605-4a6c-880a-8284dab25bda",
   "metadata": {
    "tags": []
   },
   "outputs": [],
   "source": [
    "import seaborn as sns"
   ]
  },
  {
   "cell_type": "code",
   "execution_count": 49,
   "id": "65d23420-9835-45ff-8bc3-ed90ef3da014",
   "metadata": {},
   "outputs": [],
   "source": [
    "class ARGS():\n",
    "    def __init__(self):\n",
    "    \n",
    "        # folder arguments\n",
    "        self.ckpt_dir = '/media/benp/NVMEspare/model_dump/eval_pl_outdump/'\n",
    "        self.model_name = \"standard_model_duplicate\"\n",
    "        self.model_ckpts_folder = \"/media/benp/NVMEspare/model_data/journal_models/\" # \"/home/s2208943/ipdis/results/cross_validated_models/\"\n",
    "        self.repo_dir = \"/home/benp/Documents/PhD_projects/WMH_UQ_assessment\"\n",
    "        self.result_dir = \"trustworthai/journal_run/evaluation/results/initial_hparam_tuning/out_domain_results\"\n",
    "        \n",
    "        # data generation arguments\n",
    "        self.dataset = 'chal'\n",
    "        self.seed = 3407\n",
    "        self.test_split = 0.15\n",
    "        self.val_split = 0.15\n",
    "        self.empty_slice_retention = 0.1\n",
    "        \n",
    "        # general arguments for the loss function\n",
    "        self.loss_name = 'dice+xent'#'dicev2'#'dice+xent'\n",
    "        self.dice_factor = 1#5\n",
    "        self.xent_factor = 1#0.01\n",
    "        self.xent_weight = 'none'\n",
    "        self.xent_reweighting=None,\n",
    "        self.dice_empty_slice_weight = 0.5\n",
    "        self.tversky_beta = 0.7\n",
    "        self.reduction = 'mean'#'mean_sum'\n",
    "        \n",
    "        # training paradigm arguments\n",
    "        self.lr = 2e-4\n",
    "        self.dropout_p = 0.0\n",
    "        self.max_epochs = 100\n",
    "        self.early_stop_patience = 15\n",
    "        self.batch_size = 8#32\n",
    "        self.cross_validate = False\n",
    "        self.cv_split = 0\n",
    "        self.cv_test_fold_smooth = 1\n",
    "        self.weight_decay = 0.0001\n",
    "        self.overwrite = \"false\"\n",
    "        self.no_test_fold = 'false'"
   ]
  },
  {
   "cell_type": "code",
   "execution_count": 50,
   "id": "16772c69-c3ca-484e-bdcb-fa3f934c4ea0",
   "metadata": {},
   "outputs": [],
   "source": [
    "args = ARGS()\n",
    "args.overwrite = True if args.overwrite.lower() == \"true\" else False\n",
    "args.cross_validate = True\n",
    "\n",
    "model_ckpts_folder = args.model_ckpts_folder"
   ]
  },
  {
   "cell_type": "code",
   "execution_count": 10,
   "id": "f23a9e19-cc20-4583-92e6-ec454dc18294",
   "metadata": {
    "tags": []
   },
   "outputs": [],
   "source": [
    "def load_best_checkpoint(model, loss, model_ckpt_folder, punet=False):\n",
    "    # this is ultimately going to need to be passed a model wrapper when I implement P-Unet....\n",
    "    \n",
    "    # the path to the best checkpoint is stored as a single line in a txt file along with each model\n",
    "    with open(os.path.join(model_ckpt_folder, \"best_ckpt.txt\"), \"r\") as f:\n",
    "        ckpt_file = os.path.join(model_ckpt_folder, f.readlines()[0][:-1].split(\"/\")[-1])\n",
    "    \n",
    "    if punet:\n",
    "        return PUNetLitModelWrapper.load_from_checkpoint(ckpt_file, model=model, loss=loss, \n",
    "                                    logging_metric=lambda : None)\n",
    "    return StandardLitModelWrapper.load_from_checkpoint(ckpt_file, model=model, loss=loss, \n",
    "                                    logging_metric=lambda : None)"
   ]
  },
  {
   "cell_type": "code",
   "execution_count": 13,
   "id": "20efa587-37a9-4726-b3ce-ce33fb96ed6f",
   "metadata": {
    "tags": []
   },
   "outputs": [],
   "source": [
    "\n",
    "\n",
    "def write_model_metric_results(results_file, data):\n",
    "    for key in data.keys():\n",
    "        print_and_write(results_file, key, newline=1)\n",
    "        print_and_write(results_file, data[key])\n",
    "        \n",
    "        # ignore any bad images, that will cause values of 0 to appear\n",
    "        values = data[key]\n",
    "        ignores = (values < 0.001) | torch.isnan(values)\n",
    "        if key == 'avd':\n",
    "            ignores = ignores | (values == 100)\n",
    "        values = values[~ignores]\n",
    "        \n",
    "        print_and_write(results_file, f\"{key} mean\", newline=1)\n",
    "        print_and_write(results_file, values.mean())\n",
    "        \n",
    "        print_and_write(results_file, f\"{key} standard error\", newline=1)\n",
    "        print_and_write(results_file, scipy.stats.sem(values))\n",
    "        \n",
    "        \n",
    "def fast_dice(pred, target):\n",
    "    p1 = (pred == 1)\n",
    "    t1 = (target == 1)\n",
    "    intersection = (pred == 1) & (target == 1)\n",
    "    numerator = 2 * intersection.sum()\n",
    "    denominator = p1.sum() + t1.sum()\n",
    "    return (numerator/(denominator + 1e-30)).item()\n",
    "\n",
    "def fast_avd(pred, target):\n",
    "    p1 = pred.sum()\n",
    "    t1 = target.sum()\n",
    "    \n",
    "    return ((p1 - t1).abs() / t1) * 100\n",
    "\n",
    "def fast_vd(pred, target):\n",
    "    p1 = pred.sum()\n",
    "    t1 = target.sum()\n",
    "    \n",
    "    return ((p1 - t1) / t1) * 100\n",
    "\n",
    "\n",
    "def fast_dice(pred, target):\n",
    "    p1 = (pred == 1)\n",
    "    t1 = (target == 1)\n",
    "    intersection = (pred == 1) & (target == 1)\n",
    "    numerator = 2 * intersection.sum()\n",
    "    denominator = p1.sum() + t1.sum()\n",
    "    return (numerator/(denominator + 1e-30)).item()\n",
    "\n",
    "def fast_avd(pred, target):\n",
    "    p1 = pred.sum()\n",
    "    t1 = target.sum()\n",
    "    \n",
    "    return ((p1 - t1).abs() / t1) * 100\n",
    "\n",
    "def fast_vd(pred, target):\n",
    "    p1 = pred.sum()\n",
    "    t1 = target.sum()\n",
    "    \n",
    "    return ((p1 - t1) / t1) * 100"
   ]
  },
  {
   "cell_type": "code",
   "execution_count": 14,
   "id": "e39bce46-526c-4b5f-8c60-8d292eb0b36c",
   "metadata": {
    "tags": []
   },
   "outputs": [],
   "source": [
    "def GT_volumes(ys3d):\n",
    "    volumes = []\n",
    "    for y in ys3d:\n",
    "        volumes.append(y.sum())\n",
    "    return torch.Tensor(volumes)"
   ]
  },
  {
   "cell_type": "code",
   "execution_count": 15,
   "id": "a36938db-ee4d-4cba-9749-8f85e4fb0c0b",
   "metadata": {
    "tags": []
   },
   "outputs": [
    {
     "name": "stdout",
     "output_type": "stream",
     "text": [
      "39 9 12\n"
     ]
    }
   ],
   "source": [
    "# get the 2d axial slice dataloaders\n",
    "data_dict = load_data(\n",
    "    dataset=args.dataset, \n",
    "    test_proportion=args.test_split, \n",
    "    validation_proportion=args.val_split,\n",
    "    seed=args.seed,\n",
    "    empty_proportion_retained=args.empty_slice_retention,\n",
    "    batch_size=args.batch_size,\n",
    "    dataloader2d_only=False,\n",
    "    cross_validate=args.cross_validate,\n",
    "    cv_split=args.cv_split,\n",
    "    cv_test_fold_smooth=args.cv_test_fold_smooth,\n",
    "    merge_val_test=args.no_test_fold\n",
    ")\n"
   ]
  },
  {
   "cell_type": "code",
   "execution_count": 16,
   "id": "ddb51232-e194-4a89-bb2a-fcd665c4e245",
   "metadata": {
    "tags": []
   },
   "outputs": [],
   "source": [
    "train_imgs = data_dict['train_datset3d']\n",
    "val_imgs = data_dict['val_dataset3d']\n",
    "test_imgs = data_dict['test_dataset3d']"
   ]
  },
  {
   "cell_type": "code",
   "execution_count": 21,
   "id": "8dc4ebdc-c9c2-46c9-8243-87768c969be3",
   "metadata": {
    "tags": []
   },
   "outputs": [],
   "source": [
    "eval_ds = train_imgs"
   ]
  },
  {
   "cell_type": "code",
   "execution_count": 27,
   "id": "8501dd34-7388-4b5a-acc8-6fddbaa03fdd",
   "metadata": {
    "tags": []
   },
   "outputs": [],
   "source": [
    "xs3d_test = []\n",
    "ys3d_test = []\n",
    "\n",
    "for i, data in enumerate(eval_ds):\n",
    "    ys3d_test.append(data[1].squeeze())\n",
    "    xs3d_test.append(data[0])"
   ]
  },
  {
   "cell_type": "code",
   "execution_count": 22,
   "id": "ee00f9c7-e567-49f0-b39b-661c51d3cf9d",
   "metadata": {
    "tags": []
   },
   "outputs": [],
   "source": [
    "# load the model and loss function\n",
    "model_loader = load_deterministic\n",
    "model_raw, loss, val_loss = model_loader(args)"
   ]
  },
  {
   "cell_type": "code",
   "execution_count": 23,
   "id": "f87bee8b-a9d1-42ca-842c-d68d1d8820ca",
   "metadata": {
    "tags": []
   },
   "outputs": [
    {
     "name": "stdout",
     "output_type": "stream",
     "text": [
      "model dir:  /media/benp/NVMEspare/model_data/journal_models/standard_model_duplicate\n"
     ]
    }
   ],
   "source": [
    "# load the checkpoint under consideration\n",
    "model_dir = os.path.join(args.model_ckpts_folder, args.model_name) \n",
    "print(\"model dir: \", model_dir)\n",
    "model = load_best_checkpoint(model_raw, loss, model_dir)"
   ]
  },
  {
   "cell_type": "code",
   "execution_count": 24,
   "id": "21d67ee9-2b63-478e-bf0c-174278db3d46",
   "metadata": {
    "tags": []
   },
   "outputs": [
    {
     "data": {
      "text/plain": [
       "torch.Size([3, 48, 224, 160])"
      ]
     },
     "execution_count": 24,
     "metadata": {},
     "output_type": "execute_result"
    }
   ],
   "source": [
    "val_imgs[0][0].shape"
   ]
  },
  {
   "cell_type": "code",
   "execution_count": 25,
   "id": "26cfc5b6-d61b-4548-8746-f36fa405e180",
   "metadata": {
    "tags": []
   },
   "outputs": [
    {
     "name": "stderr",
     "output_type": "stream",
     "text": [
      "100%|█████████████████████████████████████████████████████████████████████████████████████████████████████████████████████████████████████████████████████████| 39/39 [00:18<00:00,  2.16it/s]\n"
     ]
    }
   ],
   "source": [
    "\n",
    "means = []\n",
    "temp = 1\n",
    "batch_image = False\n",
    "\n",
    "model.eval()\n",
    "for i, data in enumerate(tqdm(eval_ds, position=0, leave=True)):\n",
    "    x = data[0]\n",
    "    with torch.no_grad():\n",
    "        if batch_image:\n",
    "            mean = model(x.swapaxes(0,1).cuda()).cpu()\n",
    "        else:\n",
    "            mean = []\n",
    "            for islice in range(x.shape[1]):\n",
    "                mean.append(model(x[:,islice].unsqueeze(0).cuda()).cpu())\n",
    "            mean = torch.cat(mean)\n",
    "        means.append(mean / temp)\n",
    "\n"
   ]
  },
  {
   "cell_type": "code",
   "execution_count": 26,
   "id": "d2d7178a-68dc-4e26-8e9b-95eea985962c",
   "metadata": {
    "tags": []
   },
   "outputs": [],
   "source": [
    "preds = [torch.softmax(m.cuda(), dim=1).cpu() for m in means]"
   ]
  },
  {
   "cell_type": "code",
   "execution_count": 28,
   "id": "0c5b57e7-368f-49a1-bc6f-cb32b7fcd9c3",
   "metadata": {
    "tags": []
   },
   "outputs": [
    {
     "name": "stderr",
     "output_type": "stream",
     "text": [
      "100%|█████████████████████████████████████████████████████████████████████████████████████████████████████████████████████████████████████████████████████████| 39/39 [00:27<00:00,  1.40it/s]\n"
     ]
    }
   ],
   "source": [
    "chal_results = per_model_chal_stats(preds, ys3d_test)"
   ]
  },
  {
   "cell_type": "code",
   "execution_count": 29,
   "id": "775d6f9e-59c1-4e36-8399-706c81a67368",
   "metadata": {
    "tags": []
   },
   "outputs": [
    {
     "data": {
      "text/plain": [
       "{'dice': tensor([0.7807, 0.6293, 0.7816, 0.7602, 0.6979, 0.8614, 0.7445, 0.8433, 0.3754,\n",
       "         0.7563, 0.6412, 0.8227, 0.8693, 0.8704, 0.7397, 0.2500, 0.8027, 0.8343,\n",
       "         0.7600, 0.4264, 0.5550, 0.3088, 0.1917, 0.7251, 0.7937, 0.7365, 0.6650,\n",
       "         0.4957, 0.3075, 0.4415, 0.6483, 0.7261, 0.4708, 0.6679, 0.7425, 0.6794,\n",
       "         0.6627, 0.5768, 0.4961]),\n",
       " 'hd95': tensor([ 5.6656, 16.1725,  2.8284,  3.1623,  4.8990,  3.1623,  7.8740,  7.2111,\n",
       "         26.1178,  4.4721, 11.0179,  3.1623,  8.0623,  3.7417, 13.0384, 23.9895,\n",
       "          5.7446,  4.8990, 11.7345, 23.4478, 21.2132, 23.9374, 21.5639, 10.6301,\n",
       "          9.4868, 10.4881,  4.1231, 13.9284, 44.7207, 17.0294,  8.1240,  2.2361,\n",
       "         19.1937, 16.5045,  3.1623, 12.7279,  6.5722,  7.1131,  7.6713]),\n",
       " 'avd': tensor([1.7662e+01, 3.3192e+01, 2.6671e+01, 2.5422e+01, 3.7279e+01, 1.9908e+01,\n",
       "         2.1979e+01, 1.8308e+00, 3.3596e+01, 2.8845e+01, 6.9982e+00, 1.9468e+01,\n",
       "         1.8256e-01, 4.4582e+00, 2.4474e+01, 5.3438e+02, 1.1405e+01, 1.9359e+01,\n",
       "         4.9539e+00, 1.5861e+02, 1.1512e+02, 2.5208e+02, 7.0377e+02, 3.5460e+01,\n",
       "         9.6647e+00, 5.3646e+01, 2.9805e+01, 5.2078e+01, 6.5749e+01, 5.8546e+01,\n",
       "         3.2479e+01, 1.7533e+01, 4.3478e+00, 1.1454e+01, 1.4153e+01, 1.8635e+01,\n",
       "         3.6986e+01, 5.0718e+00, 3.4821e+01]),\n",
       " 'recall': tensor([0.5375, 0.3200, 0.3651, 0.4062, 0.3750, 0.4268, 0.4268, 0.7188, 0.3261,\n",
       "         0.3000, 0.4545, 0.6623, 0.6757, 0.4892, 0.5385, 0.8095, 0.5727, 0.7027,\n",
       "         0.5375, 0.5217, 0.8788, 0.7083, 0.8333, 0.7895, 0.5970, 0.6842, 0.7021,\n",
       "         0.3652, 0.2800, 0.4268, 0.5724, 0.6707, 0.5294, 0.6667, 0.5000, 0.5921,\n",
       "         0.5789, 0.6400, 0.5814]),\n",
       " 'f1': tensor([0.6000, 0.3756, 0.4571, 0.4982, 0.4934, 0.4988, 0.4384, 0.5592, 0.3448,\n",
       "         0.3844, 0.3766, 0.6608, 0.5194, 0.5097, 0.3669, 0.1715, 0.5108, 0.5255,\n",
       "         0.4481, 0.2892, 0.2634, 0.1125, 0.1216, 0.5800, 0.5111, 0.3162, 0.6559,\n",
       "         0.5112, 0.4092, 0.5619, 0.7040, 0.7390, 0.5143, 0.5714, 0.6096, 0.6604,\n",
       "         0.6590, 0.5694, 0.6696])}"
      ]
     },
     "execution_count": 29,
     "metadata": {},
     "output_type": "execute_result"
    }
   ],
   "source": [
    "chal_results"
   ]
  },
  {
   "cell_type": "code",
   "execution_count": 34,
   "id": "a3a81269-1b9b-4ea1-81b2-ca1a3440325a",
   "metadata": {
    "tags": []
   },
   "outputs": [],
   "source": [
    "import pandas as pd"
   ]
  },
  {
   "cell_type": "code",
   "execution_count": 36,
   "id": "b241e08a-1286-4245-b38e-301b7fd41990",
   "metadata": {
    "tags": []
   },
   "outputs": [],
   "source": [
    "df = pd.DataFrame(chal_results)\n",
    "df['model_name'] = [args.model_name for _ in range(len(df))]"
   ]
  },
  {
   "cell_type": "code",
   "execution_count": 55,
   "id": "105a1877-4196-45fa-8973-36331ccde181",
   "metadata": {
    "tags": []
   },
   "outputs": [
    {
     "data": {
      "text/html": [
       "<div>\n",
       "<style scoped>\n",
       "    .dataframe tbody tr th:only-of-type {\n",
       "        vertical-align: middle;\n",
       "    }\n",
       "\n",
       "    .dataframe tbody tr th {\n",
       "        vertical-align: top;\n",
       "    }\n",
       "\n",
       "    .dataframe thead th {\n",
       "        text-align: right;\n",
       "    }\n",
       "</style>\n",
       "<table border=\"1\" class=\"dataframe\">\n",
       "  <thead>\n",
       "    <tr style=\"text-align: right;\">\n",
       "      <th></th>\n",
       "      <th>dice</th>\n",
       "      <th>hd95</th>\n",
       "      <th>avd</th>\n",
       "      <th>recall</th>\n",
       "      <th>f1</th>\n",
       "      <th>model_name</th>\n",
       "    </tr>\n",
       "  </thead>\n",
       "  <tbody>\n",
       "    <tr>\n",
       "      <th>0</th>\n",
       "      <td>0.780682</td>\n",
       "      <td>5.665625</td>\n",
       "      <td>17.661816</td>\n",
       "      <td>0.537500</td>\n",
       "      <td>0.600025</td>\n",
       "      <td>standard_model_duplicate</td>\n",
       "    </tr>\n",
       "    <tr>\n",
       "      <th>1</th>\n",
       "      <td>0.629320</td>\n",
       "      <td>16.172501</td>\n",
       "      <td>33.191746</td>\n",
       "      <td>0.320000</td>\n",
       "      <td>0.375587</td>\n",
       "      <td>standard_model_duplicate</td>\n",
       "    </tr>\n",
       "    <tr>\n",
       "      <th>2</th>\n",
       "      <td>0.781582</td>\n",
       "      <td>2.828427</td>\n",
       "      <td>26.671215</td>\n",
       "      <td>0.365079</td>\n",
       "      <td>0.457091</td>\n",
       "      <td>standard_model_duplicate</td>\n",
       "    </tr>\n",
       "    <tr>\n",
       "      <th>3</th>\n",
       "      <td>0.760164</td>\n",
       "      <td>3.162278</td>\n",
       "      <td>25.422283</td>\n",
       "      <td>0.406250</td>\n",
       "      <td>0.498235</td>\n",
       "      <td>standard_model_duplicate</td>\n",
       "    </tr>\n",
       "    <tr>\n",
       "      <th>4</th>\n",
       "      <td>0.697896</td>\n",
       "      <td>4.898980</td>\n",
       "      <td>37.279411</td>\n",
       "      <td>0.375000</td>\n",
       "      <td>0.493369</td>\n",
       "      <td>standard_model_duplicate</td>\n",
       "    </tr>\n",
       "    <tr>\n",
       "      <th>5</th>\n",
       "      <td>0.861426</td>\n",
       "      <td>3.162278</td>\n",
       "      <td>19.908041</td>\n",
       "      <td>0.426829</td>\n",
       "      <td>0.498812</td>\n",
       "      <td>standard_model_duplicate</td>\n",
       "    </tr>\n",
       "    <tr>\n",
       "      <th>6</th>\n",
       "      <td>0.744507</td>\n",
       "      <td>7.874008</td>\n",
       "      <td>21.979115</td>\n",
       "      <td>0.426829</td>\n",
       "      <td>0.438369</td>\n",
       "      <td>standard_model_duplicate</td>\n",
       "    </tr>\n",
       "    <tr>\n",
       "      <th>7</th>\n",
       "      <td>0.843251</td>\n",
       "      <td>7.211102</td>\n",
       "      <td>1.830831</td>\n",
       "      <td>0.718750</td>\n",
       "      <td>0.559208</td>\n",
       "      <td>standard_model_duplicate</td>\n",
       "    </tr>\n",
       "    <tr>\n",
       "      <th>8</th>\n",
       "      <td>0.375394</td>\n",
       "      <td>26.117807</td>\n",
       "      <td>33.595802</td>\n",
       "      <td>0.326087</td>\n",
       "      <td>0.344828</td>\n",
       "      <td>standard_model_duplicate</td>\n",
       "    </tr>\n",
       "    <tr>\n",
       "      <th>9</th>\n",
       "      <td>0.756294</td>\n",
       "      <td>4.472136</td>\n",
       "      <td>28.845362</td>\n",
       "      <td>0.300000</td>\n",
       "      <td>0.384401</td>\n",
       "      <td>standard_model_duplicate</td>\n",
       "    </tr>\n",
       "    <tr>\n",
       "      <th>10</th>\n",
       "      <td>0.641221</td>\n",
       "      <td>11.017858</td>\n",
       "      <td>6.998158</td>\n",
       "      <td>0.454545</td>\n",
       "      <td>0.376569</td>\n",
       "      <td>standard_model_duplicate</td>\n",
       "    </tr>\n",
       "    <tr>\n",
       "      <th>11</th>\n",
       "      <td>0.822692</td>\n",
       "      <td>3.162278</td>\n",
       "      <td>19.467628</td>\n",
       "      <td>0.662338</td>\n",
       "      <td>0.660836</td>\n",
       "      <td>standard_model_duplicate</td>\n",
       "    </tr>\n",
       "    <tr>\n",
       "      <th>12</th>\n",
       "      <td>0.869309</td>\n",
       "      <td>8.062258</td>\n",
       "      <td>0.182559</td>\n",
       "      <td>0.675676</td>\n",
       "      <td>0.519431</td>\n",
       "      <td>standard_model_duplicate</td>\n",
       "    </tr>\n",
       "    <tr>\n",
       "      <th>13</th>\n",
       "      <td>0.870369</td>\n",
       "      <td>3.741657</td>\n",
       "      <td>4.458244</td>\n",
       "      <td>0.489209</td>\n",
       "      <td>0.509731</td>\n",
       "      <td>standard_model_duplicate</td>\n",
       "    </tr>\n",
       "    <tr>\n",
       "      <th>14</th>\n",
       "      <td>0.739661</td>\n",
       "      <td>13.038404</td>\n",
       "      <td>24.473734</td>\n",
       "      <td>0.538462</td>\n",
       "      <td>0.366912</td>\n",
       "      <td>standard_model_duplicate</td>\n",
       "    </tr>\n",
       "    <tr>\n",
       "      <th>15</th>\n",
       "      <td>0.250000</td>\n",
       "      <td>23.989525</td>\n",
       "      <td>534.384888</td>\n",
       "      <td>0.809524</td>\n",
       "      <td>0.171470</td>\n",
       "      <td>standard_model_duplicate</td>\n",
       "    </tr>\n",
       "    <tr>\n",
       "      <th>16</th>\n",
       "      <td>0.802679</td>\n",
       "      <td>5.744563</td>\n",
       "      <td>11.404867</td>\n",
       "      <td>0.572727</td>\n",
       "      <td>0.510850</td>\n",
       "      <td>standard_model_duplicate</td>\n",
       "    </tr>\n",
       "    <tr>\n",
       "      <th>17</th>\n",
       "      <td>0.834320</td>\n",
       "      <td>4.898980</td>\n",
       "      <td>19.358595</td>\n",
       "      <td>0.702703</td>\n",
       "      <td>0.525478</td>\n",
       "      <td>standard_model_duplicate</td>\n",
       "    </tr>\n",
       "    <tr>\n",
       "      <th>18</th>\n",
       "      <td>0.760034</td>\n",
       "      <td>11.734548</td>\n",
       "      <td>4.953871</td>\n",
       "      <td>0.537500</td>\n",
       "      <td>0.448065</td>\n",
       "      <td>standard_model_duplicate</td>\n",
       "    </tr>\n",
       "    <tr>\n",
       "      <th>19</th>\n",
       "      <td>0.426379</td>\n",
       "      <td>23.447813</td>\n",
       "      <td>158.613663</td>\n",
       "      <td>0.521739</td>\n",
       "      <td>0.289157</td>\n",
       "      <td>standard_model_duplicate</td>\n",
       "    </tr>\n",
       "    <tr>\n",
       "      <th>20</th>\n",
       "      <td>0.555014</td>\n",
       "      <td>21.213203</td>\n",
       "      <td>115.115288</td>\n",
       "      <td>0.878788</td>\n",
       "      <td>0.263419</td>\n",
       "      <td>standard_model_duplicate</td>\n",
       "    </tr>\n",
       "    <tr>\n",
       "      <th>21</th>\n",
       "      <td>0.308834</td>\n",
       "      <td>23.937418</td>\n",
       "      <td>252.076675</td>\n",
       "      <td>0.708333</td>\n",
       "      <td>0.112515</td>\n",
       "      <td>standard_model_duplicate</td>\n",
       "    </tr>\n",
       "    <tr>\n",
       "      <th>22</th>\n",
       "      <td>0.191739</td>\n",
       "      <td>21.563858</td>\n",
       "      <td>703.767151</td>\n",
       "      <td>0.833333</td>\n",
       "      <td>0.121581</td>\n",
       "      <td>standard_model_duplicate</td>\n",
       "    </tr>\n",
       "    <tr>\n",
       "      <th>23</th>\n",
       "      <td>0.725086</td>\n",
       "      <td>10.630146</td>\n",
       "      <td>35.459976</td>\n",
       "      <td>0.789474</td>\n",
       "      <td>0.579965</td>\n",
       "      <td>standard_model_duplicate</td>\n",
       "    </tr>\n",
       "    <tr>\n",
       "      <th>24</th>\n",
       "      <td>0.793705</td>\n",
       "      <td>9.486833</td>\n",
       "      <td>9.664659</td>\n",
       "      <td>0.597015</td>\n",
       "      <td>0.511104</td>\n",
       "      <td>standard_model_duplicate</td>\n",
       "    </tr>\n",
       "    <tr>\n",
       "      <th>25</th>\n",
       "      <td>0.736492</td>\n",
       "      <td>10.488089</td>\n",
       "      <td>53.646023</td>\n",
       "      <td>0.684211</td>\n",
       "      <td>0.316197</td>\n",
       "      <td>standard_model_duplicate</td>\n",
       "    </tr>\n",
       "    <tr>\n",
       "      <th>26</th>\n",
       "      <td>0.664975</td>\n",
       "      <td>4.123106</td>\n",
       "      <td>29.805065</td>\n",
       "      <td>0.702128</td>\n",
       "      <td>0.655901</td>\n",
       "      <td>standard_model_duplicate</td>\n",
       "    </tr>\n",
       "    <tr>\n",
       "      <th>27</th>\n",
       "      <td>0.495696</td>\n",
       "      <td>13.928389</td>\n",
       "      <td>52.077747</td>\n",
       "      <td>0.365217</td>\n",
       "      <td>0.511246</td>\n",
       "      <td>standard_model_duplicate</td>\n",
       "    </tr>\n",
       "    <tr>\n",
       "      <th>28</th>\n",
       "      <td>0.307517</td>\n",
       "      <td>44.720707</td>\n",
       "      <td>65.749237</td>\n",
       "      <td>0.280000</td>\n",
       "      <td>0.409231</td>\n",
       "      <td>standard_model_duplicate</td>\n",
       "    </tr>\n",
       "    <tr>\n",
       "      <th>29</th>\n",
       "      <td>0.441484</td>\n",
       "      <td>17.029387</td>\n",
       "      <td>58.546432</td>\n",
       "      <td>0.426829</td>\n",
       "      <td>0.561944</td>\n",
       "      <td>standard_model_duplicate</td>\n",
       "    </tr>\n",
       "    <tr>\n",
       "      <th>30</th>\n",
       "      <td>0.648279</td>\n",
       "      <td>8.124039</td>\n",
       "      <td>32.478920</td>\n",
       "      <td>0.572368</td>\n",
       "      <td>0.704008</td>\n",
       "      <td>standard_model_duplicate</td>\n",
       "    </tr>\n",
       "    <tr>\n",
       "      <th>31</th>\n",
       "      <td>0.726121</td>\n",
       "      <td>2.236068</td>\n",
       "      <td>17.533491</td>\n",
       "      <td>0.670732</td>\n",
       "      <td>0.739018</td>\n",
       "      <td>standard_model_duplicate</td>\n",
       "    </tr>\n",
       "    <tr>\n",
       "      <th>32</th>\n",
       "      <td>0.470833</td>\n",
       "      <td>19.193712</td>\n",
       "      <td>4.347826</td>\n",
       "      <td>0.529412</td>\n",
       "      <td>0.514286</td>\n",
       "      <td>standard_model_duplicate</td>\n",
       "    </tr>\n",
       "    <tr>\n",
       "      <th>33</th>\n",
       "      <td>0.667923</td>\n",
       "      <td>16.504505</td>\n",
       "      <td>11.454184</td>\n",
       "      <td>0.666667</td>\n",
       "      <td>0.571429</td>\n",
       "      <td>standard_model_duplicate</td>\n",
       "    </tr>\n",
       "    <tr>\n",
       "      <th>34</th>\n",
       "      <td>0.742535</td>\n",
       "      <td>3.162278</td>\n",
       "      <td>14.152947</td>\n",
       "      <td>0.500000</td>\n",
       "      <td>0.609626</td>\n",
       "      <td>standard_model_duplicate</td>\n",
       "    </tr>\n",
       "    <tr>\n",
       "      <th>35</th>\n",
       "      <td>0.679394</td>\n",
       "      <td>12.727922</td>\n",
       "      <td>18.635437</td>\n",
       "      <td>0.592105</td>\n",
       "      <td>0.660390</td>\n",
       "      <td>standard_model_duplicate</td>\n",
       "    </tr>\n",
       "    <tr>\n",
       "      <th>36</th>\n",
       "      <td>0.662665</td>\n",
       "      <td>6.572246</td>\n",
       "      <td>36.986301</td>\n",
       "      <td>0.578947</td>\n",
       "      <td>0.658986</td>\n",
       "      <td>standard_model_duplicate</td>\n",
       "    </tr>\n",
       "    <tr>\n",
       "      <th>37</th>\n",
       "      <td>0.576762</td>\n",
       "      <td>7.113143</td>\n",
       "      <td>5.071770</td>\n",
       "      <td>0.640000</td>\n",
       "      <td>0.569395</td>\n",
       "      <td>standard_model_duplicate</td>\n",
       "    </tr>\n",
       "    <tr>\n",
       "      <th>38</th>\n",
       "      <td>0.496096</td>\n",
       "      <td>7.671254</td>\n",
       "      <td>34.821430</td>\n",
       "      <td>0.581395</td>\n",
       "      <td>0.669643</td>\n",
       "      <td>standard_model_duplicate</td>\n",
       "    </tr>\n",
       "  </tbody>\n",
       "</table>\n",
       "</div>"
      ],
      "text/plain": [
       "        dice       hd95         avd    recall        f1   \n",
       "0   0.780682   5.665625   17.661816  0.537500  0.600025  \\\n",
       "1   0.629320  16.172501   33.191746  0.320000  0.375587   \n",
       "2   0.781582   2.828427   26.671215  0.365079  0.457091   \n",
       "3   0.760164   3.162278   25.422283  0.406250  0.498235   \n",
       "4   0.697896   4.898980   37.279411  0.375000  0.493369   \n",
       "5   0.861426   3.162278   19.908041  0.426829  0.498812   \n",
       "6   0.744507   7.874008   21.979115  0.426829  0.438369   \n",
       "7   0.843251   7.211102    1.830831  0.718750  0.559208   \n",
       "8   0.375394  26.117807   33.595802  0.326087  0.344828   \n",
       "9   0.756294   4.472136   28.845362  0.300000  0.384401   \n",
       "10  0.641221  11.017858    6.998158  0.454545  0.376569   \n",
       "11  0.822692   3.162278   19.467628  0.662338  0.660836   \n",
       "12  0.869309   8.062258    0.182559  0.675676  0.519431   \n",
       "13  0.870369   3.741657    4.458244  0.489209  0.509731   \n",
       "14  0.739661  13.038404   24.473734  0.538462  0.366912   \n",
       "15  0.250000  23.989525  534.384888  0.809524  0.171470   \n",
       "16  0.802679   5.744563   11.404867  0.572727  0.510850   \n",
       "17  0.834320   4.898980   19.358595  0.702703  0.525478   \n",
       "18  0.760034  11.734548    4.953871  0.537500  0.448065   \n",
       "19  0.426379  23.447813  158.613663  0.521739  0.289157   \n",
       "20  0.555014  21.213203  115.115288  0.878788  0.263419   \n",
       "21  0.308834  23.937418  252.076675  0.708333  0.112515   \n",
       "22  0.191739  21.563858  703.767151  0.833333  0.121581   \n",
       "23  0.725086  10.630146   35.459976  0.789474  0.579965   \n",
       "24  0.793705   9.486833    9.664659  0.597015  0.511104   \n",
       "25  0.736492  10.488089   53.646023  0.684211  0.316197   \n",
       "26  0.664975   4.123106   29.805065  0.702128  0.655901   \n",
       "27  0.495696  13.928389   52.077747  0.365217  0.511246   \n",
       "28  0.307517  44.720707   65.749237  0.280000  0.409231   \n",
       "29  0.441484  17.029387   58.546432  0.426829  0.561944   \n",
       "30  0.648279   8.124039   32.478920  0.572368  0.704008   \n",
       "31  0.726121   2.236068   17.533491  0.670732  0.739018   \n",
       "32  0.470833  19.193712    4.347826  0.529412  0.514286   \n",
       "33  0.667923  16.504505   11.454184  0.666667  0.571429   \n",
       "34  0.742535   3.162278   14.152947  0.500000  0.609626   \n",
       "35  0.679394  12.727922   18.635437  0.592105  0.660390   \n",
       "36  0.662665   6.572246   36.986301  0.578947  0.658986   \n",
       "37  0.576762   7.113143    5.071770  0.640000  0.569395   \n",
       "38  0.496096   7.671254   34.821430  0.581395  0.669643   \n",
       "\n",
       "                  model_name  \n",
       "0   standard_model_duplicate  \n",
       "1   standard_model_duplicate  \n",
       "2   standard_model_duplicate  \n",
       "3   standard_model_duplicate  \n",
       "4   standard_model_duplicate  \n",
       "5   standard_model_duplicate  \n",
       "6   standard_model_duplicate  \n",
       "7   standard_model_duplicate  \n",
       "8   standard_model_duplicate  \n",
       "9   standard_model_duplicate  \n",
       "10  standard_model_duplicate  \n",
       "11  standard_model_duplicate  \n",
       "12  standard_model_duplicate  \n",
       "13  standard_model_duplicate  \n",
       "14  standard_model_duplicate  \n",
       "15  standard_model_duplicate  \n",
       "16  standard_model_duplicate  \n",
       "17  standard_model_duplicate  \n",
       "18  standard_model_duplicate  \n",
       "19  standard_model_duplicate  \n",
       "20  standard_model_duplicate  \n",
       "21  standard_model_duplicate  \n",
       "22  standard_model_duplicate  \n",
       "23  standard_model_duplicate  \n",
       "24  standard_model_duplicate  \n",
       "25  standard_model_duplicate  \n",
       "26  standard_model_duplicate  \n",
       "27  standard_model_duplicate  \n",
       "28  standard_model_duplicate  \n",
       "29  standard_model_duplicate  \n",
       "30  standard_model_duplicate  \n",
       "31  standard_model_duplicate  \n",
       "32  standard_model_duplicate  \n",
       "33  standard_model_duplicate  \n",
       "34  standard_model_duplicate  \n",
       "35  standard_model_duplicate  \n",
       "36  standard_model_duplicate  \n",
       "37  standard_model_duplicate  \n",
       "38  standard_model_duplicate  "
      ]
     },
     "execution_count": 55,
     "metadata": {},
     "output_type": "execute_result"
    }
   ],
   "source": [
    "df"
   ]
  },
  {
   "cell_type": "code",
   "execution_count": 85,
   "id": "72a05093-c811-44c4-85da-eb7ac8944444",
   "metadata": {
    "tags": []
   },
   "outputs": [
    {
     "name": "stdout",
     "output_type": "stream",
     "text": [
      "95% confidence interval for dice: [0.587, 0.702], conf_int=0.057\n",
      "95% confidence interval for hd95: [8.776, 14.343], conf_int=2.784\n",
      "95% confidence interval for avd: [22.389, 110.025], conf_int=43.818\n",
      "95% confidence interval for recall: [0.509, 0.607], conf_int=0.049\n",
      "95% confidence interval for f1: [0.433, 0.530], conf_int=0.048\n"
     ]
    }
   ],
   "source": [
    "overall_stats = {\"model_name\":[args.model_name]}\n",
    "\n",
    "for key, value in chal_results.items():\n",
    "    mean = value.mean()\n",
    "    std = value.std(correction=1) # https://en.wikipedia.org/wiki/Bessel%27s_correction#Source_of_bias in this case we know the true mean..?\n",
    "    # I want the standard deviation across this dataset, and I have a full sample, so I should use correction = 0? Or are we saying we have a limited sample of data from\n",
    "    # an infinite distribution, and we want to know the model performance on that distribution, so correction = 1. Hmm this is a bit of a headache.\n",
    "    conf_int = 1.96 * std / np.sqrt(len(value))\n",
    "\n",
    "    lower_bound = mean - conf_int\n",
    "    upper_bound = mean + conf_int\n",
    "    \n",
    "    overall_stats[f\"{key}_mean\"] = [mean.item()]\n",
    "    overall_stats[f\"{key}_95%conf\"] = [conf_int.item()]\n",
    "\n",
    "    print(f\"95% confidence interval for {key}: [{lower_bound:.3f}, {upper_bound:.3f}], conf_int={conf_int:.3f}\")"
   ]
  },
  {
   "cell_type": "code",
   "execution_count": 78,
   "id": "f880d70f-714e-4144-ab5f-0f70d8eb63be",
   "metadata": {
    "tags": []
   },
   "outputs": [
    {
     "data": {
      "text/html": [
       "<div>\n",
       "<style scoped>\n",
       "    .dataframe tbody tr th:only-of-type {\n",
       "        vertical-align: middle;\n",
       "    }\n",
       "\n",
       "    .dataframe tbody tr th {\n",
       "        vertical-align: top;\n",
       "    }\n",
       "\n",
       "    .dataframe thead th {\n",
       "        text-align: right;\n",
       "    }\n",
       "</style>\n",
       "<table border=\"1\" class=\"dataframe\">\n",
       "  <thead>\n",
       "    <tr style=\"text-align: right;\">\n",
       "      <th></th>\n",
       "      <th>model_name</th>\n",
       "      <th>dice_mean</th>\n",
       "      <th>dice_95%conf</th>\n",
       "      <th>hd95_mean</th>\n",
       "      <th>hd95_95%conf</th>\n",
       "      <th>avd_mean</th>\n",
       "      <th>avd_95%conf</th>\n",
       "      <th>recall_mean</th>\n",
       "      <th>recall_95%conf</th>\n",
       "      <th>f1_mean</th>\n",
       "      <th>f1_95%conf</th>\n",
       "    </tr>\n",
       "  </thead>\n",
       "  <tbody>\n",
       "    <tr>\n",
       "      <th>0</th>\n",
       "      <td>standard_model_duplicate</td>\n",
       "      <td>0.644573</td>\n",
       "      <td>0.057391</td>\n",
       "      <td>11.559727</td>\n",
       "      <td>2.783567</td>\n",
       "      <td>66.206985</td>\n",
       "      <td>43.81757</td>\n",
       "      <td>0.558044</td>\n",
       "      <td>0.048852</td>\n",
       "      <td>0.481239</td>\n",
       "      <td>0.048309</td>\n",
       "    </tr>\n",
       "  </tbody>\n",
       "</table>\n",
       "</div>"
      ],
      "text/plain": [
       "                 model_name  dice_mean  dice_95%conf  hd95_mean  hd95_95%conf   \n",
       "0  standard_model_duplicate   0.644573      0.057391  11.559727      2.783567  \\\n",
       "\n",
       "    avd_mean  avd_95%conf  recall_mean  recall_95%conf   f1_mean  f1_95%conf  \n",
       "0  66.206985     43.81757     0.558044        0.048852  0.481239    0.048309  "
      ]
     },
     "execution_count": 78,
     "metadata": {},
     "output_type": "execute_result"
    }
   ],
   "source": [
    "overall_stats"
   ]
  },
  {
   "cell_type": "code",
   "execution_count": 79,
   "id": "b452af95-b6bd-4a45-9008-a35408e877fb",
   "metadata": {
    "tags": []
   },
   "outputs": [],
   "source": [
    "overall_stats = pd.DataFrame(overall_stats)"
   ]
  },
  {
   "cell_type": "code",
   "execution_count": 80,
   "id": "07f120fa-e25f-4d56-aade-00071994e3b7",
   "metadata": {
    "tags": []
   },
   "outputs": [],
   "source": [
    "model_result_dir = os.path.join(args.repo_dir, args.result_dir, args.model_name)"
   ]
  },
  {
   "cell_type": "code",
   "execution_count": 84,
   "id": "352c7409-70d3-4943-ad8c-a5455fde7cfd",
   "metadata": {
    "tags": []
   },
   "outputs": [],
   "source": [
    "df.to_csv(model_result_dir + \"_individual_stats.csv\")\n",
    "overall_stats.to_csv(model_result_dir + \"_overall_stats.csv\")"
   ]
  },
  {
   "cell_type": "code",
   "execution_count": 82,
   "id": "13d484e8-8ab1-492d-bd94-09eef003d13b",
   "metadata": {
    "tags": []
   },
   "outputs": [
    {
     "data": {
      "text/plain": [
       "'/home/benp/Documents/PhD_projects/WMH_UQ_assessment/trustworthai/journal_run/evaluation/results/initial_hparam_tuning/out_domain_results/standard_model_duplicate'"
      ]
     },
     "execution_count": 82,
     "metadata": {},
     "output_type": "execute_result"
    }
   ],
   "source": [
    "model_result_dir"
   ]
  },
  {
   "cell_type": "code",
   "execution_count": null,
   "id": "382c7de4-17a0-472b-84ca-0545cf30bf49",
   "metadata": {},
   "outputs": [],
   "source": [
    "model_result_dir"
   ]
  },
  {
   "cell_type": "code",
   "execution_count": 39,
   "id": "ba8bb81b-600d-443f-b043-06218ac83d49",
   "metadata": {
    "tags": []
   },
   "outputs": [],
   "source": [
    "import scipy.stats"
   ]
  },
  {
   "cell_type": "code",
   "execution_count": 45,
   "id": "061dc9e3-fead-4b54-9927-be5b9cbf3791",
   "metadata": {
    "tags": []
   },
   "outputs": [
    {
     "data": {
      "text/plain": [
       "0.057390846351506014"
      ]
     },
     "execution_count": 45,
     "metadata": {},
     "output_type": "execute_result"
    }
   ],
   "source": [
    "1.96 * scipy.stats.sem(data['dice'], ddof=1)"
   ]
  },
  {
   "cell_type": "code",
   "execution_count": 32,
   "id": "9bfadcde-6d33-4e82-842b-64fd83cee5d5",
   "metadata": {
    "tags": []
   },
   "outputs": [],
   "source": [
    "################################### The actual run script ##################################\n",
    "################################### Nice ###################################################\n",
    "\n",
    "\n",
    "# The only run script that I need for a deterministic model is to find the challenge metrics etc for the model predictions. Nice.\n",
    "\n",
    "\n",
    "def run_eval(args):\n",
    "    \n",
    "    name = args.name\n",
    "    splits = args.splits\n",
    "    stride = args.stride\n",
    "    temp = 1\n",
    "    num_samples = 10\n",
    "        \n",
    "    \n",
    "    name_to_method_map = {\n",
    "        \"softmax_ent\":[generate_means_and_samples_CategoricalSoftmax],\n",
    "        \"mc_drop\":[generate_means_and_samples_MC_Dropout],\n",
    "        \"evidential\":[generate_means_and_samples_Evidential],\n",
    "        \"ensemble\":[generate_means_and_samples_Ensemble],\n",
    "        \"SSN_ensemble\":[generate_means_and_samples_SSN_Ens],\n",
    "        \"SSN_ensemble_mean\":[generate_means_and_samples_SSN_Ens_Mean],\n",
    "        \"SSN\":[generate_means_and_samples_SSN],\n",
    "        \"SSN_Ind\":[generate_means_and_samples_SSN],\n",
    "        \"P-Unet\":[generate_means_and_samples_PUNet],\n",
    "    }\n",
    "    \n",
    "    method_func = name_to_method_map[name][0]\n",
    "    if name == \"SSN_Ind\":\n",
    "        means, samples, test_datasets = method_func(splits=splits, dataset_stride=stride, temp=temp, num_samples=num_samples, independent=True)\n",
    "    elif name == \"softmax_ent\":\n",
    "        means, samples, test_datasets = method_func(splits=splits, dataset_stride=stride, temp=temp, num_samples=num_samples, loss_name=args.determin_loss_name)\n",
    "    else:\n",
    "        means, samples, test_datasets = method_func(splits=splits, dataset_stride=stride, temp=temp, num_samples=num_samples)\n",
    "        \n",
    "    if \"softmax\" in name:\n",
    "        name += \"_\" + args.determin_loss_name\n",
    "\n",
    "    save_folder = f\"/home/s2208943/ipdis/UQ_WMH_methods/trustworthai/run/results/{name}/\"\n",
    "    results_file = save_folder + \"text_results.txt\"\n",
    "\n",
    "    try:\n",
    "        os.mkdir(save_folder)\n",
    "        os.mkdir(save_folder + \"/images\")\n",
    "    except:\n",
    "        pass\n",
    "\n",
    "    with open(results_file, \"w\") as f:\n",
    "        print_and_write(results_file, \"begin results\")\n",
    "       \n",
    "    \n",
    "    # GET THE UMAPS\n",
    "    # softmax entropy\n",
    "    if \"softmax\" in name:\n",
    "        ent_maps = [entropy_map_from_mean(means[scan_index], do_normalize=True) for scan_index in range(len(means))]\n",
    "\n",
    "    # evidential\n",
    "    elif \"evidential\" in name:\n",
    "        ent_maps = [entropy_map_from_mean(means[scan_index], do_normalize=False) for scan_index in range(len(means))]\n",
    "\n",
    "    else:\n",
    "        ent_maps = [entropy_map_from_samples(samples[scan_index]) for scan_index in range(len(means))]\n",
    "      \n",
    "    \n",
    "    # collect input data\n",
    "    xs3d_test = []\n",
    "    ys3d_test = []\n",
    "\n",
    "    for i, data in enumerate(test_datasets):\n",
    "        if i % stride == 0:\n",
    "            ys3d_test.append(data[1].squeeze())\n",
    "            xs3d_test.append(data[0])\n",
    "            \n",
    "    # do some plotting\n",
    "    # plot_example(save_folder, test_datasets, means, ent_maps, 87, 15, stride)\n",
    "    # plot_example(save_folder, test_datasets, means, ent_maps, 103, 35,stride)\n",
    "    # plot_example(save_folder, test_datasets, means, ent_maps, 52, 35, stride)\n",
    "    # plot_example(save_folder, test_datasets, means, ent_maps, 1, 25, stride)\n",
    "    plot_example(save_folder, test_datasets, means, ent_maps, 0, 25, stride)\n",
    "    # plot_example(save_folder, test_datasets, means, ent_maps, 57, 25, stride)\n",
    "    # plot_example(save_folder, test_datasets, means, ent_maps, 60, 30, stride)\n",
    "    # plot_example(save_folder, test_datasets, means, ent_maps, 70, 25, stride)\n",
    "    \n",
    "    plt.style.use('fivethirtyeight')\n",
    "    \n",
    "    # energy distance score\n",
    "    geds_reordered = iou_GED(means, ys3d_test, samples, reorder=True)\n",
    "    \n",
    "    print_and_write(results_file, \"reordered GED values\", newline=1)\n",
    "    print_and_write(results_file, geds_reordered)\n",
    "\n",
    "    print_and_write(results_file, \"reordered GED mean\", newline=1)\n",
    "    print_and_write(results_file, geds_reordered.mean())\n",
    "\n",
    "    print_and_write(results_file, \"reordered GED standard error\", newline=1)\n",
    "    print_and_write(results_file, scipy.stats.sem(geds_reordered))\n",
    "    \n",
    "    # sample diversity analysis\n",
    "    standard_sample_dices = metric_across_samples_analysis(results_file, ys3d_test, samples, reorder=False, metric=\"dice\")\n",
    "    reorder_sample_dices = metric_across_samples_analysis(results_file, ys3d_test, samples, reorder=True, metric=\"dice\")\n",
    "    standard_sample_avds = metric_across_samples_analysis(results_file, ys3d_test, samples, reorder=False, metric=\"avd\")\n",
    "    reorder_sample_avds = metric_across_samples_analysis(results_file, ys3d_test, samples, reorder=True, metric=\"avd\")\n",
    "    \n",
    "    # standard_sample_VDS = vd_per_sample(ys3d_test, samples, reorder=False)\n",
    "    reorder_sample_VDS = vd_per_sample(ys3d_test, samples, reorder=True)\n",
    "    gt_vols = GT_volumes(ys3d_test)\n",
    "    sample_diversity_plot_by_volume(save_folder, reorder_sample_VDS*0.003, gt_vols, \"Volume Difference (%)\")\n",
    "    \n",
    "    # bras and sueo scores\n",
    "    uncertainty_thresholds = torch.arange(0, 0.7, 0.01)\n",
    "\n",
    "    filtered_dices = []\n",
    "    filtered_tns = []\n",
    "    filtered_tps = []\n",
    "\n",
    "    for i in tqdm(range(len(means)), position=0, leave=True):\n",
    "        mean = means[i].cuda().argmax(dim=1)\n",
    "        ent_map = ent_maps[i].cuda()\n",
    "        y = ys3d_test[i].cuda()\n",
    "        mask = xs3d_test[i][1].cuda()\n",
    "\n",
    "        ind_filtered_dices = []\n",
    "        ind_filtered_tns = []\n",
    "        ind_filtered_tps = []\n",
    "\n",
    "        if mean.sum() == 0:\n",
    "            continue\n",
    "\n",
    "        for t in uncertainty_thresholds:\n",
    "            ind_filtered_dices.append(filtered_dice(mean, ent_map, y, t))\n",
    "            ind_filtered_tns.append(filtered_tns_score(mask, mean, ent_map, y, t))\n",
    "            ind_filtered_tps.append(filtered_tps_score(mean, ent_map, y, t))\n",
    "\n",
    "        filtered_dices.append(ind_filtered_dices)\n",
    "        filtered_tns.append(ind_filtered_tns)\n",
    "        filtered_tps.append(ind_filtered_tps)\n",
    "\n",
    "\n",
    "    # we need to calculate the area under the curve of the dice, so that will be mean dice per threshold?\n",
    "    filtered_dices = torch.stack([torch.Tensor(v) for v in filtered_dices], dim=0)\n",
    "    filtered_tns = torch.stack([torch.Tensor(v) for v in filtered_tns], dim=0)\n",
    "    filtered_tps = torch.stack([torch.Tensor(v) for v in filtered_tps], dim=0)\n",
    "    \n",
    "    fdice_curve = filtered_dices.mean(dim=0)\n",
    "    tn_curve = filtered_tns.mean(dim=0)\n",
    "    tp_curve = filtered_tps.mean(dim=0)\n",
    "    max_ent = math.log(0.5)\n",
    "    bras_score = (1/3) * (\n",
    "        metrics.auc(uncertainty_thresholds/max_ent, fdice_curve)\n",
    "         + (1 - metrics.auc(uncertainty_thresholds/max_ent, tn_curve))\n",
    "         + (1 - metrics.auc(uncertainty_thresholds/max_ent, tp_curve))\n",
    "    )\n",
    "    print_and_write(results_file, \"bras score\", newline=1)\n",
    "    print_and_write(results_file, bras_score)\n",
    "    \n",
    "    sUEOs = []\n",
    "    for i in tqdm(range(len(means)), position=0, leave=True):\n",
    "        pred = means[i].argmax(dim=1).cuda()\n",
    "        target = ys3d_test[i].cuda()\n",
    "        ent = ent_maps[i].cuda()\n",
    "\n",
    "        if pred.sum() == 0:\n",
    "            continue\n",
    "\n",
    "        sUEOs.append(sUEO(pred, ent, target))\n",
    "\n",
    "    sUEOs = torch.Tensor(sUEOs)\n",
    "    print_and_write(results_file, \"sUEO mean\", newline=1)\n",
    "    print_and_write(results_file, sUEOs.mean())\n",
    "\n",
    "    print_and_write(results_file, \"sUEO standard error\", newline=1)\n",
    "    print_and_write(results_file, scipy.stats.sem(sUEOs))\n",
    "    \n",
    "    UEO_per_threshold_analysis(save_folder, results_file, uncertainty_thresholds, ys3d_test, ent_maps, means, max_ent)\n",
    "    \n",
    "    if \"softmax\" in name:\n",
    "        # for softmax entropy\n",
    "        calibration_over_samples(save_folder, results_file, means, samples, ys3d_test, do_normalize=True, mode=\"mean_only\")\n",
    "\n",
    "    # evidential\n",
    "    elif \"evidential\" in name:\n",
    "        # For evidential\n",
    "        calibration_over_samples(save_folder, results_file, means, samples, ys3d_test, do_normalize=False, mode=\"mean_only\")\n",
    "\n",
    "    else:\n",
    "        # for other models\n",
    "        calibration_over_samples(save_folder, results_file, means, samples, ys3d_test, do_normalize=True, mode=\"mean_conf\")\n",
    "        \n",
    "        \n",
    "    # collect the challenge data\n",
    "    challenge_data = per_model_chal_stats(means, ys3d_test)\n",
    "    write_model_metric_results(results_file, challenge_data)\n",
    "    \n",
    "    # the more expensive code goes at the end\n",
    "    # 2D slice coverage\n",
    "    uncertainty_thresholds = torch.arange(0, 0.7, 0.01)\n",
    "    conn_comp_2d_analysis(save_folder, results_file, uncertainty_thresholds, ys3d=ys3d_test, means3d=means, ind_ent_maps=ent_maps)\n",
    "    \n",
    "    print(\"DONE!\")"
   ]
  },
  {
   "cell_type": "code",
   "execution_count": 30,
   "id": "7ae54685-8fdd-4008-aa8a-dee109dcbca2",
   "metadata": {
    "tags": []
   },
   "outputs": [
    {
     "data": {
      "image/png": "[encoded data removed]",
      "text/plain": [
       "<Figure size 1500x300 with 5 Axes>"
      ]
     },
     "metadata": {},
     "output_type": "display_data"
    }
   ],
   "source": [
    "data = chal_results\n",
    "# Create a figure with subfigures\n",
    "fig, axes = plt.subplots(1, 5, figsize=(15, 3))\n",
    "\n",
    "# Iterate over the data dictionary and create boxplots for each key\n",
    "for i, (key, value) in enumerate(data.items()):\n",
    "    sns.boxplot(\n",
    "        x=value.tolist(),\n",
    "        ax=axes[i],\n",
    "        showmeans=True,\n",
    "    )\n",
    "\n",
    "    axes[i].set_title(key)\n",
    "\n",
    "# Tighten the layout\n",
    "plt.tight_layout()\n",
    "\n",
    "# Show the figure\n",
    "plt.show()"
   ]
  },
  {
   "cell_type": "code",
   "execution_count": null,
   "id": "c0790b4f-1187-4f33-b27f-16553a3d6ac5",
   "metadata": {},
   "outputs": [],
   "source": []
  }
 ],
 "metadata": {
  "kernelspec": {
   "display_name": "Python 3 (ipykernel)",
   "language": "python",
   "name": "python3"
  },
  "language_info": {
   "codemirror_mode": {
    "name": "ipython",
    "version": 3
   },
   "file_extension": ".py",
   "mimetype": "text/x-python",
   "name": "python",
   "nbconvert_exporter": "python",
   "pygments_lexer": "ipython3",
   "version": "3.8.10"
  }
 },
 "nbformat": 4,
 "nbformat_minor": 5
}
