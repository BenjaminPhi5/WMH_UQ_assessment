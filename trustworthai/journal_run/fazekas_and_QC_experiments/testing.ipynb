{
 "cells": [
  {
   "cell_type": "code",
   "execution_count": 1,
   "id": "e7a43f53-3bc9-4f5e-9872-1636c81defbb",
   "metadata": {
    "tags": []
   },
   "outputs": [],
   "source": [
    "from trustworthai.utils.data_preprep.dataset_pipelines import load_clinscores_data, load_data, ClinScoreDataRetriever"
   ]
  },
  {
   "cell_type": "code",
   "execution_count": 2,
   "id": "97ad12e8-eeb9-42df-9ad6-85dbaa9cd733",
   "metadata": {
    "tags": []
   },
   "outputs": [],
   "source": [
    "clin_retriever = ClinScoreDataRetriever(use_updated_scores=True)"
   ]
  },
  {
   "cell_type": "code",
   "execution_count": 14,
   "id": "5fb822e9-95ff-49d1-af56-a1bd2bd6da6b",
   "metadata": {
    "tags": []
   },
   "outputs": [],
   "source": [
    "    \n",
    "train_ds_clin, val_ds_clin, test_ds_clin = clin_retriever.load_clinscores_data(\n",
    "        combine_all=False,\n",
    "        test_proportion=0.15, \n",
    "        validation_proportion=0.15,\n",
    "        seed=3047,\n",
    "        cross_validate=True,\n",
    "        cv_split=1,\n",
    "        cv_test_fold_smooth=1,\n",
    "    )"
   ]
  },
  {
   "cell_type": "code",
   "execution_count": 15,
   "id": "5f88ded7-5253-4936-892c-cc356e5aec6e",
   "metadata": {
    "tags": []
   },
   "outputs": [
    {
     "data": {
      "text/plain": [
       "'CVD141'"
      ]
     },
     "execution_count": 15,
     "metadata": {},
     "output_type": "execute_result"
    }
   ],
   "source": [
    "test_ds_clin[0][-1]['ID']"
   ]
  },
  {
   "cell_type": "code",
   "execution_count": 16,
   "id": "a3d6674e-7742-4a23-96db-6af6504b4e6c",
   "metadata": {
    "tags": []
   },
   "outputs": [],
   "source": [
    "IDs = [data[-1]['ID'] for data in test_ds_clin]"
   ]
  },
  {
   "cell_type": "code",
   "execution_count": 17,
   "id": "965df0f7-a6b1-4e7d-8b33-d200be92d77c",
   "metadata": {
    "tags": []
   },
   "outputs": [
    {
     "data": {
      "text/plain": [
       "['CVD141',\n",
       " 'CVD115',\n",
       " 'CVD052',\n",
       " 'CVD192',\n",
       " 'CVD175',\n",
       " 'CVD134',\n",
       " 'CVD170',\n",
       " 'CVD229',\n",
       " 'CVD145',\n",
       " 'CVD073',\n",
       " 'CVD124',\n",
       " 'CVD172',\n",
       " 'CVD096',\n",
       " 'CVD127',\n",
       " 'CVD068',\n",
       " 'CVD048',\n",
       " 'CVD028',\n",
       " 'CVD140',\n",
       " 'CVD218',\n",
       " 'CVD234',\n",
       " 'CVD114',\n",
       " 'CVD220',\n",
       " 'CVD047',\n",
       " 'CVD039',\n",
       " 'CVD239',\n",
       " 'CVD265',\n",
       " 'CVD186',\n",
       " 'CVD292',\n",
       " 'CVD236',\n",
       " 'CVD304',\n",
       " 'CVD280',\n",
       " 'CVD284',\n",
       " 'CVD317',\n",
       " 'CVD299',\n",
       " 'CVD297',\n",
       " 'CVD034',\n",
       " 'CVD258',\n",
       " 'CVD272',\n",
       " 'CVD255',\n",
       " 'CVD036',\n",
       " 'CVD248',\n",
       " 'CVD009']"
      ]
     },
     "execution_count": 17,
     "metadata": {},
     "output_type": "execute_result"
    }
   ],
   "source": [
    "IDs"
   ]
  },
  {
   "cell_type": "code",
   "execution_count": null,
   "id": "97d22796-61a0-4b49-8d64-ddbd0701d3ac",
   "metadata": {},
   "outputs": [],
   "source": []
  }
 ],
 "metadata": {
  "kernelspec": {
   "display_name": "Python 3 (ipykernel)",
   "language": "python",
   "name": "python3"
  },
  "language_info": {
   "codemirror_mode": {
    "name": "ipython",
    "version": 3
   },
   "file_extension": ".py",
   "mimetype": "text/x-python",
   "name": "python",
   "nbconvert_exporter": "python",
   "pygments_lexer": "ipython3",
   "version": "3.8.10"
  }
 },
 "nbformat": 4,
 "nbformat_minor": 5
}
