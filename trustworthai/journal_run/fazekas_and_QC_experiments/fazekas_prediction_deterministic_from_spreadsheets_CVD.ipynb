{
 "cells": [
  {
   "cell_type": "code",
   "execution_count": 1,
   "id": "5ef8f20b-1a4a-49d5-8e4a-66a1a46d903e",
   "metadata": {
    "tags": []
   },
   "outputs": [],
   "source": [
    "import torch\n",
    "import pandas as pd\n",
    "import numpy as np\n",
    "import matplotlib.pyplot as plt"
   ]
  },
  {
   "cell_type": "markdown",
   "id": "376a325b-c7b5-40c5-b9b6-d687e67a018c",
   "metadata": {},
   "source": [
    "### Build the CVD training dataset\n",
    "I need to load the core spreadsheet, and load the extra spreadsheet where required\n",
    "Then I need to match the IDs. THen we have a spreadsheet that we can fit a logistic regression model with"
   ]
  },
  {
   "cell_type": "code",
   "execution_count": 2,
   "id": "40d34b53-d785-424d-a5e1-10ed1ead42bb",
   "metadata": {
    "tags": []
   },
   "outputs": [],
   "source": [
    "CVD_core_df = pd.read_csv(\"/home/s2208943/ipdis/data/preprocessed_data/umap_data_spreadsheets/EdData/clinscore_data.csv\")"
   ]
  },
  {
   "cell_type": "code",
   "execution_count": 3,
   "id": "01c3566a-3763-4270-a974-f61dcbb2decf",
   "metadata": {
    "tags": []
   },
   "outputs": [
    {
     "data": {
      "text/html": [
       "<div>\n",
       "<style scoped>\n",
       "    .dataframe tbody tr th:only-of-type {\n",
       "        vertical-align: middle;\n",
       "    }\n",
       "\n",
       "    .dataframe tbody tr th {\n",
       "        vertical-align: top;\n",
       "    }\n",
       "\n",
       "    .dataframe thead th {\n",
       "        text-align: right;\n",
       "    }\n",
       "</style>\n",
       "<table border=\"1\" class=\"dataframe\">\n",
       "  <thead>\n",
       "    <tr style=\"text-align: right;\">\n",
       "      <th></th>\n",
       "      <th>Unnamed: 0.1</th>\n",
       "      <th>Unnamed: 0</th>\n",
       "      <th>ID</th>\n",
       "      <th>sbjGroup</th>\n",
       "      <th>age</th>\n",
       "      <th>sex</th>\n",
       "      <th>diabetes</th>\n",
       "      <th>hypertension</th>\n",
       "      <th>hyperlipidaemia</th>\n",
       "      <th>smoking</th>\n",
       "      <th>...</th>\n",
       "      <th>micrBld</th>\n",
       "      <th>smoking_0</th>\n",
       "      <th>smoking_1</th>\n",
       "      <th>smoking_2</th>\n",
       "      <th>total_fazekas</th>\n",
       "      <th>scale_fazekas</th>\n",
       "      <th>scale_pvs</th>\n",
       "      <th>scale_micrbld</th>\n",
       "      <th>stroke_les</th>\n",
       "      <th>scale_stroke</th>\n",
       "    </tr>\n",
       "  </thead>\n",
       "  <tbody>\n",
       "    <tr>\n",
       "      <th>0</th>\n",
       "      <td>146</td>\n",
       "      <td>146</td>\n",
       "      <td>CVD247</td>\n",
       "      <td>1</td>\n",
       "      <td>68.0</td>\n",
       "      <td>2</td>\n",
       "      <td>0</td>\n",
       "      <td>1</td>\n",
       "      <td>1.0</td>\n",
       "      <td>0.0</td>\n",
       "      <td>...</td>\n",
       "      <td>0.0</td>\n",
       "      <td>1.0</td>\n",
       "      <td>0.0</td>\n",
       "      <td>0.0</td>\n",
       "      <td>2.0</td>\n",
       "      <td>0.0</td>\n",
       "      <td>1.0</td>\n",
       "      <td>NaN</td>\n",
       "      <td>1.0</td>\n",
       "      <td>1.0</td>\n",
       "    </tr>\n",
       "    <tr>\n",
       "      <th>1</th>\n",
       "      <td>134</td>\n",
       "      <td>134</td>\n",
       "      <td>CVD219</td>\n",
       "      <td>1</td>\n",
       "      <td>81.0</td>\n",
       "      <td>1</td>\n",
       "      <td>0</td>\n",
       "      <td>0</td>\n",
       "      <td>0.0</td>\n",
       "      <td>0.0</td>\n",
       "      <td>...</td>\n",
       "      <td>0.0</td>\n",
       "      <td>1.0</td>\n",
       "      <td>0.0</td>\n",
       "      <td>0.0</td>\n",
       "      <td>3.0</td>\n",
       "      <td>0.0</td>\n",
       "      <td>1.0</td>\n",
       "      <td>NaN</td>\n",
       "      <td>1.0</td>\n",
       "      <td>0.0</td>\n",
       "    </tr>\n",
       "    <tr>\n",
       "      <th>2</th>\n",
       "      <td>131</td>\n",
       "      <td>131</td>\n",
       "      <td>CVD195</td>\n",
       "      <td>1</td>\n",
       "      <td>71.0</td>\n",
       "      <td>1</td>\n",
       "      <td>0</td>\n",
       "      <td>1</td>\n",
       "      <td>0.0</td>\n",
       "      <td>2.0</td>\n",
       "      <td>...</td>\n",
       "      <td>1.0</td>\n",
       "      <td>0.0</td>\n",
       "      <td>0.0</td>\n",
       "      <td>1.0</td>\n",
       "      <td>6.0</td>\n",
       "      <td>1.0</td>\n",
       "      <td>1.0</td>\n",
       "      <td>NaN</td>\n",
       "      <td>1.0</td>\n",
       "      <td>1.0</td>\n",
       "    </tr>\n",
       "    <tr>\n",
       "      <th>3</th>\n",
       "      <td>121</td>\n",
       "      <td>121</td>\n",
       "      <td>CVD173</td>\n",
       "      <td>1</td>\n",
       "      <td>68.0</td>\n",
       "      <td>1</td>\n",
       "      <td>0</td>\n",
       "      <td>1</td>\n",
       "      <td>0.0</td>\n",
       "      <td>2.0</td>\n",
       "      <td>...</td>\n",
       "      <td>0.0</td>\n",
       "      <td>0.0</td>\n",
       "      <td>0.0</td>\n",
       "      <td>1.0</td>\n",
       "      <td>4.0</td>\n",
       "      <td>1.0</td>\n",
       "      <td>0.0</td>\n",
       "      <td>NaN</td>\n",
       "      <td>1.0</td>\n",
       "      <td>0.0</td>\n",
       "    </tr>\n",
       "    <tr>\n",
       "      <th>4</th>\n",
       "      <td>104</td>\n",
       "      <td>104</td>\n",
       "      <td>CVD128</td>\n",
       "      <td>1</td>\n",
       "      <td>83.0</td>\n",
       "      <td>1</td>\n",
       "      <td>0</td>\n",
       "      <td>0</td>\n",
       "      <td>0.0</td>\n",
       "      <td>1.0</td>\n",
       "      <td>...</td>\n",
       "      <td>0.0</td>\n",
       "      <td>0.0</td>\n",
       "      <td>1.0</td>\n",
       "      <td>0.0</td>\n",
       "      <td>3.0</td>\n",
       "      <td>0.0</td>\n",
       "      <td>0.0</td>\n",
       "      <td>NaN</td>\n",
       "      <td>1.0</td>\n",
       "      <td>0.0</td>\n",
       "    </tr>\n",
       "    <tr>\n",
       "      <th>...</th>\n",
       "      <td>...</td>\n",
       "      <td>...</td>\n",
       "      <td>...</td>\n",
       "      <td>...</td>\n",
       "      <td>...</td>\n",
       "      <td>...</td>\n",
       "      <td>...</td>\n",
       "      <td>...</td>\n",
       "      <td>...</td>\n",
       "      <td>...</td>\n",
       "      <td>...</td>\n",
       "      <td>...</td>\n",
       "      <td>...</td>\n",
       "      <td>...</td>\n",
       "      <td>...</td>\n",
       "      <td>...</td>\n",
       "      <td>...</td>\n",
       "      <td>...</td>\n",
       "      <td>...</td>\n",
       "      <td>...</td>\n",
       "      <td>...</td>\n",
       "    </tr>\n",
       "    <tr>\n",
       "      <th>245</th>\n",
       "      <td>201</td>\n",
       "      <td>201</td>\n",
       "      <td>CVD302</td>\n",
       "      <td>1</td>\n",
       "      <td>55.0</td>\n",
       "      <td>1</td>\n",
       "      <td>0</td>\n",
       "      <td>1</td>\n",
       "      <td>0.0</td>\n",
       "      <td>2.0</td>\n",
       "      <td>...</td>\n",
       "      <td>0.0</td>\n",
       "      <td>0.0</td>\n",
       "      <td>0.0</td>\n",
       "      <td>1.0</td>\n",
       "      <td>2.0</td>\n",
       "      <td>0.0</td>\n",
       "      <td>1.0</td>\n",
       "      <td>NaN</td>\n",
       "      <td>1.0</td>\n",
       "      <td>1.0</td>\n",
       "    </tr>\n",
       "    <tr>\n",
       "      <th>246</th>\n",
       "      <td>138</td>\n",
       "      <td>138</td>\n",
       "      <td>CVD230</td>\n",
       "      <td>1</td>\n",
       "      <td>50.0</td>\n",
       "      <td>1</td>\n",
       "      <td>0</td>\n",
       "      <td>0</td>\n",
       "      <td>1.0</td>\n",
       "      <td>2.0</td>\n",
       "      <td>...</td>\n",
       "      <td>0.0</td>\n",
       "      <td>0.0</td>\n",
       "      <td>0.0</td>\n",
       "      <td>1.0</td>\n",
       "      <td>3.0</td>\n",
       "      <td>0.0</td>\n",
       "      <td>1.0</td>\n",
       "      <td>NaN</td>\n",
       "      <td>1.0</td>\n",
       "      <td>1.0</td>\n",
       "    </tr>\n",
       "    <tr>\n",
       "      <th>247</th>\n",
       "      <td>107</td>\n",
       "      <td>107</td>\n",
       "      <td>CVD132</td>\n",
       "      <td>1</td>\n",
       "      <td>56.0</td>\n",
       "      <td>1</td>\n",
       "      <td>0</td>\n",
       "      <td>0</td>\n",
       "      <td>0.0</td>\n",
       "      <td>2.0</td>\n",
       "      <td>...</td>\n",
       "      <td>0.0</td>\n",
       "      <td>0.0</td>\n",
       "      <td>0.0</td>\n",
       "      <td>1.0</td>\n",
       "      <td>2.0</td>\n",
       "      <td>0.0</td>\n",
       "      <td>0.0</td>\n",
       "      <td>NaN</td>\n",
       "      <td>1.0</td>\n",
       "      <td>0.0</td>\n",
       "    </tr>\n",
       "    <tr>\n",
       "      <th>248</th>\n",
       "      <td>215</td>\n",
       "      <td>215</td>\n",
       "      <td>CVD316</td>\n",
       "      <td>1</td>\n",
       "      <td>78.0</td>\n",
       "      <td>1</td>\n",
       "      <td>0</td>\n",
       "      <td>1</td>\n",
       "      <td>1.0</td>\n",
       "      <td>2.0</td>\n",
       "      <td>...</td>\n",
       "      <td>1.0</td>\n",
       "      <td>0.0</td>\n",
       "      <td>0.0</td>\n",
       "      <td>1.0</td>\n",
       "      <td>2.0</td>\n",
       "      <td>0.0</td>\n",
       "      <td>0.0</td>\n",
       "      <td>NaN</td>\n",
       "      <td>1.0</td>\n",
       "      <td>0.0</td>\n",
       "    </tr>\n",
       "    <tr>\n",
       "      <th>249</th>\n",
       "      <td>89</td>\n",
       "      <td>89</td>\n",
       "      <td>CVD089</td>\n",
       "      <td>1</td>\n",
       "      <td>54.0</td>\n",
       "      <td>1</td>\n",
       "      <td>0</td>\n",
       "      <td>0</td>\n",
       "      <td>0.0</td>\n",
       "      <td>2.0</td>\n",
       "      <td>...</td>\n",
       "      <td>1.0</td>\n",
       "      <td>0.0</td>\n",
       "      <td>0.0</td>\n",
       "      <td>1.0</td>\n",
       "      <td>3.0</td>\n",
       "      <td>0.0</td>\n",
       "      <td>0.0</td>\n",
       "      <td>NaN</td>\n",
       "      <td>1.0</td>\n",
       "      <td>1.0</td>\n",
       "    </tr>\n",
       "  </tbody>\n",
       "</table>\n",
       "<p>250 rows × 34 columns</p>\n",
       "</div>"
      ],
      "text/plain": [
       "     Unnamed: 0.1  Unnamed: 0      ID  sbjGroup   age  sex  diabetes  \\\n",
       "0             146         146  CVD247         1  68.0    2         0   \n",
       "1             134         134  CVD219         1  81.0    1         0   \n",
       "2             131         131  CVD195         1  71.0    1         0   \n",
       "3             121         121  CVD173         1  68.0    1         0   \n",
       "4             104         104  CVD128         1  83.0    1         0   \n",
       "..            ...         ...     ...       ...   ...  ...       ...   \n",
       "245           201         201  CVD302         1  55.0    1         0   \n",
       "246           138         138  CVD230         1  50.0    1         0   \n",
       "247           107         107  CVD132         1  56.0    1         0   \n",
       "248           215         215  CVD316         1  78.0    1         0   \n",
       "249            89          89  CVD089         1  54.0    1         0   \n",
       "\n",
       "     hypertension  hyperlipidaemia  smoking  ...  micrBld  smoking_0  \\\n",
       "0               1              1.0      0.0  ...      0.0        1.0   \n",
       "1               0              0.0      0.0  ...      0.0        1.0   \n",
       "2               1              0.0      2.0  ...      1.0        0.0   \n",
       "3               1              0.0      2.0  ...      0.0        0.0   \n",
       "4               0              0.0      1.0  ...      0.0        0.0   \n",
       "..            ...              ...      ...  ...      ...        ...   \n",
       "245             1              0.0      2.0  ...      0.0        0.0   \n",
       "246             0              1.0      2.0  ...      0.0        0.0   \n",
       "247             0              0.0      2.0  ...      0.0        0.0   \n",
       "248             1              1.0      2.0  ...      1.0        0.0   \n",
       "249             0              0.0      2.0  ...      1.0        0.0   \n",
       "\n",
       "    smoking_1  smoking_2  total_fazekas  scale_fazekas  scale_pvs  \\\n",
       "0         0.0        0.0            2.0            0.0        1.0   \n",
       "1         0.0        0.0            3.0            0.0        1.0   \n",
       "2         0.0        1.0            6.0            1.0        1.0   \n",
       "3         0.0        1.0            4.0            1.0        0.0   \n",
       "4         1.0        0.0            3.0            0.0        0.0   \n",
       "..        ...        ...            ...            ...        ...   \n",
       "245       0.0        1.0            2.0            0.0        1.0   \n",
       "246       0.0        1.0            3.0            0.0        1.0   \n",
       "247       0.0        1.0            2.0            0.0        0.0   \n",
       "248       0.0        1.0            2.0            0.0        0.0   \n",
       "249       0.0        1.0            3.0            0.0        0.0   \n",
       "\n",
       "     scale_micrbld  stroke_les  scale_stroke  \n",
       "0              NaN         1.0           1.0  \n",
       "1              NaN         1.0           0.0  \n",
       "2              NaN         1.0           1.0  \n",
       "3              NaN         1.0           0.0  \n",
       "4              NaN         1.0           0.0  \n",
       "..             ...         ...           ...  \n",
       "245            NaN         1.0           1.0  \n",
       "246            NaN         1.0           1.0  \n",
       "247            NaN         1.0           0.0  \n",
       "248            NaN         1.0           0.0  \n",
       "249            NaN         1.0           1.0  \n",
       "\n",
       "[250 rows x 34 columns]"
      ]
     },
     "execution_count": 3,
     "metadata": {},
     "output_type": "execute_result"
    }
   ],
   "source": [
    "CVD_core_df"
   ]
  },
  {
   "cell_type": "markdown",
   "id": "14dedb79-90e7-4d10-989b-b2172b039e4e",
   "metadata": {},
   "source": [
    "### Add the sample diversity data"
   ]
  },
  {
   "cell_type": "code",
   "execution_count": 4,
   "id": "fe8b4d52-ef25-464a-bf4c-9701380ed4c9",
   "metadata": {
    "tags": []
   },
   "outputs": [],
   "source": [
    "uncertainty_type = \"deterministic\""
   ]
  },
  {
   "cell_type": "code",
   "execution_count": 5,
   "id": "283ff017-8d57-448e-bafe-a9f60e1d1235",
   "metadata": {
    "tags": []
   },
   "outputs": [],
   "source": [
    "sample_div_dfs = [pd.read_csv(f\"/home/s2208943/ipdis/data/preprocessed_data/EdData_output_maps/{uncertainty_type}/cv{i}_sample_div_data.csv\") for i in range(6)]"
   ]
  },
  {
   "cell_type": "code",
   "execution_count": 6,
   "id": "fac44ce1-f139-4ef6-853c-749bca94d33e",
   "metadata": {
    "tags": []
   },
   "outputs": [],
   "source": [
    "sample_div_df = pd.concat(sample_div_dfs)"
   ]
  },
  {
   "cell_type": "code",
   "execution_count": 7,
   "id": "69dcf2f0-8b79-48b2-818e-7bd2ab3d7f1b",
   "metadata": {
    "tags": []
   },
   "outputs": [],
   "source": [
    "sample_div_df = sample_div_df.drop(columns=\"Unnamed: 0\")"
   ]
  },
  {
   "cell_type": "code",
   "execution_count": 8,
   "id": "72c1cbbc-1b4b-4fa5-a216-210742230269",
   "metadata": {
    "tags": []
   },
   "outputs": [
    {
     "data": {
      "text/html": [
       "<div>\n",
       "<style scoped>\n",
       "    .dataframe tbody tr th:only-of-type {\n",
       "        vertical-align: middle;\n",
       "    }\n",
       "\n",
       "    .dataframe tbody tr th {\n",
       "        vertical-align: top;\n",
       "    }\n",
       "\n",
       "    .dataframe thead th {\n",
       "        text-align: right;\n",
       "    }\n",
       "</style>\n",
       "<table border=\"1\" class=\"dataframe\">\n",
       "  <thead>\n",
       "    <tr style=\"text-align: right;\">\n",
       "      <th></th>\n",
       "      <th>ID</th>\n",
       "      <th>dice</th>\n",
       "      <th>f1</th>\n",
       "      <th>avd</th>\n",
       "      <th>recall</th>\n",
       "    </tr>\n",
       "  </thead>\n",
       "  <tbody>\n",
       "    <tr>\n",
       "      <th>0</th>\n",
       "      <td>CVD152</td>\n",
       "      <td>0.778890</td>\n",
       "      <td>0.533333</td>\n",
       "      <td>16.259793</td>\n",
       "      <td>0.333333</td>\n",
       "    </tr>\n",
       "    <tr>\n",
       "      <th>1</th>\n",
       "      <td>CVD023</td>\n",
       "      <td>0.762242</td>\n",
       "      <td>0.490778</td>\n",
       "      <td>23.439197</td>\n",
       "      <td>0.333333</td>\n",
       "    </tr>\n",
       "    <tr>\n",
       "      <th>2</th>\n",
       "      <td>CVD008</td>\n",
       "      <td>0.713195</td>\n",
       "      <td>0.610169</td>\n",
       "      <td>23.540906</td>\n",
       "      <td>0.333333</td>\n",
       "    </tr>\n",
       "    <tr>\n",
       "      <th>3</th>\n",
       "      <td>CVD141</td>\n",
       "      <td>0.580362</td>\n",
       "      <td>0.448718</td>\n",
       "      <td>4.710536</td>\n",
       "      <td>0.333333</td>\n",
       "    </tr>\n",
       "    <tr>\n",
       "      <th>4</th>\n",
       "      <td>CVD041</td>\n",
       "      <td>0.846527</td>\n",
       "      <td>0.489796</td>\n",
       "      <td>11.964065</td>\n",
       "      <td>0.333333</td>\n",
       "    </tr>\n",
       "    <tr>\n",
       "      <th>...</th>\n",
       "      <td>...</td>\n",
       "      <td>...</td>\n",
       "      <td>...</td>\n",
       "      <td>...</td>\n",
       "      <td>...</td>\n",
       "    </tr>\n",
       "    <tr>\n",
       "      <th>35</th>\n",
       "      <td>CVD289</td>\n",
       "      <td>0.711438</td>\n",
       "      <td>0.532943</td>\n",
       "      <td>40.960809</td>\n",
       "      <td>0.400000</td>\n",
       "    </tr>\n",
       "    <tr>\n",
       "      <th>36</th>\n",
       "      <td>CVD318</td>\n",
       "      <td>0.655026</td>\n",
       "      <td>0.405351</td>\n",
       "      <td>16.254891</td>\n",
       "      <td>0.400000</td>\n",
       "    </tr>\n",
       "    <tr>\n",
       "      <th>37</th>\n",
       "      <td>CVD302</td>\n",
       "      <td>0.338308</td>\n",
       "      <td>0.380024</td>\n",
       "      <td>18.099548</td>\n",
       "      <td>0.400000</td>\n",
       "    </tr>\n",
       "    <tr>\n",
       "      <th>38</th>\n",
       "      <td>CVD279</td>\n",
       "      <td>0.484553</td>\n",
       "      <td>0.658307</td>\n",
       "      <td>97.580645</td>\n",
       "      <td>0.400000</td>\n",
       "    </tr>\n",
       "    <tr>\n",
       "      <th>39</th>\n",
       "      <td>CVD103</td>\n",
       "      <td>0.780789</td>\n",
       "      <td>0.486772</td>\n",
       "      <td>14.373436</td>\n",
       "      <td>0.400000</td>\n",
       "    </tr>\n",
       "  </tbody>\n",
       "</table>\n",
       "<p>250 rows × 5 columns</p>\n",
       "</div>"
      ],
      "text/plain": [
       "        ID      dice        f1        avd    recall\n",
       "0   CVD152  0.778890  0.533333  16.259793  0.333333\n",
       "1   CVD023  0.762242  0.490778  23.439197  0.333333\n",
       "2   CVD008  0.713195  0.610169  23.540906  0.333333\n",
       "3   CVD141  0.580362  0.448718   4.710536  0.333333\n",
       "4   CVD041  0.846527  0.489796  11.964065  0.333333\n",
       "..     ...       ...       ...        ...       ...\n",
       "35  CVD289  0.711438  0.532943  40.960809  0.400000\n",
       "36  CVD318  0.655026  0.405351  16.254891  0.400000\n",
       "37  CVD302  0.338308  0.380024  18.099548  0.400000\n",
       "38  CVD279  0.484553  0.658307  97.580645  0.400000\n",
       "39  CVD103  0.780789  0.486772  14.373436  0.400000\n",
       "\n",
       "[250 rows x 5 columns]"
      ]
     },
     "execution_count": 8,
     "metadata": {},
     "output_type": "execute_result"
    }
   ],
   "source": [
    "sample_div_df"
   ]
  },
  {
   "cell_type": "code",
   "execution_count": 9,
   "id": "61741f4a-c6df-4320-8261-422c2d1368fb",
   "metadata": {
    "tags": []
   },
   "outputs": [],
   "source": [
    "CVD_core_df = CVD_core_df.merge(sample_div_df, on=\"ID\")\n",
    "CVD_core_df = CVD_core_df.drop(columns=\"Unnamed: 0.1\")\n",
    "CVD_core_df = CVD_core_df.loc[CVD_core_df['dice'] > 0.005 ] # get rid of the examples where the image was broken when presented to the dataloader and resulted in dice of 0."
   ]
  },
  {
   "cell_type": "code",
   "execution_count": 10,
   "id": "96826a19-a940-4aaf-8425-8f84106b6c5b",
   "metadata": {
    "tags": []
   },
   "outputs": [],
   "source": [
    "def load_model_output_stats(output_type, threshold, fields=None):\n",
    "    df = pd.read_csv(f\"/home/s2208943/ipdis/data/preprocessed_data/umap_data_spreadsheets/EdData/{uncertainty_type}_{output_type}_{threshold}.csv\")\n",
    "    if fields != None:\n",
    "        return df[fields]\n",
    "    return df"
   ]
  },
  {
   "cell_type": "code",
   "execution_count": 11,
   "id": "79739d48-2b32-4a43-990d-b4eedbbf62d5",
   "metadata": {
    "tags": []
   },
   "outputs": [],
   "source": [
    "ent03 = load_model_output_stats(\"ent\", 0.3)"
   ]
  },
  {
   "cell_type": "code",
   "execution_count": 12,
   "id": "02c9ca4a-95dc-4653-a2e7-43523f5209ff",
   "metadata": {
    "tags": []
   },
   "outputs": [
    {
     "data": {
      "text/plain": [
       "Index(['Unnamed: 0', 'ID', 'cc_num', 'cc_unsegmented_ccs', 'cc_size_mean',\n",
       "       'cc_size_std', 'cc_size_skew', 'cc_size_kurt', 'cc_vd_mean',\n",
       "       'cc_vd_std', 'cc_vd_skew', 'cc_vd_kurt', 'sum', 'mean', 'std', 'skew',\n",
       "       'kurtosis', 'prop_umap_segmented', 'prop_umap_within_expanded_seg',\n",
       "       'prop_seg_uncertain', 'dist_mean', 'dist_std', 'dist_skew', 'dist_kurt',\n",
       "       'dist_value_joint_0', 'dist_value_joint_1', 'dist_value_joint_2',\n",
       "       'dist_value_joint_3', 'dist_value_joint_4', 'dist_value_joint_5',\n",
       "       'dist_value_joint_6', 'dist_value_joint_7', 'dist_value_joint_8',\n",
       "       'dist_value_joint_9', 'dist_value_joint_10', 'dist_value_joint_11',\n",
       "       'dist_value_joint_12', 'dist_value_joint_13', 'dist_value_joint_14',\n",
       "       'dist_value_joint_15', 'dist_value_joint_16', 'dist_value_joint_17',\n",
       "       'dist_value_joint_18', 'dist_value_joint_19', 'dist_value_joint_20',\n",
       "       'dist_value_joint_21', 'dist_value_joint_22', 'dist_value_joint_23',\n",
       "       'dist_value_joint_24', 'cc_dist_value_joint_0', 'cc_dist_value_joint_1',\n",
       "       'cc_dist_value_joint_2', 'cc_dist_value_joint_3',\n",
       "       'cc_dist_value_joint_4', 'cc_dist_value_joint_5',\n",
       "       'cc_dist_value_joint_6', 'cc_dist_value_joint_7',\n",
       "       'cc_dist_value_joint_8', 'cc_dist_value_joint_9',\n",
       "       'cc_dist_value_joint_10', 'cc_dist_value_joint_11',\n",
       "       'cc_dist_value_joint_12', 'cc_dist_value_joint_13',\n",
       "       'cc_dist_value_joint_14', 'cc_dist_value_joint_15',\n",
       "       'cc_dist_value_joint_16', 'cc_dist_value_joint_17',\n",
       "       'cc_dist_value_joint_18', 'cc_dist_value_joint_19',\n",
       "       'cc_dist_value_joint_20', 'cc_dist_value_joint_21',\n",
       "       'cc_dist_value_joint_22', 'cc_dist_value_joint_23',\n",
       "       'cc_dist_value_joint_24', 'seg_volume', 'vent_volume', 'values_hist_0',\n",
       "       'values_hist_1', 'values_hist_2', 'values_hist_3', 'values_hist_4',\n",
       "       'values_hist_5', 'values_hist_6', 'values_hist_7', 'values_hist_8',\n",
       "       'values_hist_9', 'values_hist_10', 'values_hist_11', 'values_hist_12',\n",
       "       'values_hist_13', 'values_hist_14', 'values_hist_15', 'values_hist_16',\n",
       "       'values_hist_17', 'values_hist_18', 'values_hist_19'],\n",
       "      dtype='object')"
      ]
     },
     "execution_count": 12,
     "metadata": {},
     "output_type": "execute_result"
    }
   ],
   "source": [
    "ent03.keys()"
   ]
  },
  {
   "cell_type": "code",
   "execution_count": 13,
   "id": "8338b3f2-dd99-4ac2-bae2-3438d13c2e0e",
   "metadata": {
    "tags": []
   },
   "outputs": [],
   "source": [
    "def merge_datasets(core_df, output_types, thresholds, selected_fields):\n",
    "    for output_type, thresh, fields in zip(output_types, thresholds, selected_fields):\n",
    "        \n",
    "        extra_df = load_model_output_stats(output_type, thresh, fields) # load the specific output type at the given threshold, and select the desired fields\n",
    "        \n",
    "        extra_df = extra_df.rename(columns={key: f\"{output_type}{thresh}_{key}\" if key != 'ID' else 'ID' for key in extra_df.keys()}) # modify the column name so that we know which columns belong to which input type\n",
    "        \n",
    "        core_df = core_df.merge(extra_df, on=\"ID\")\n",
    "    \n",
    "    core_df = core_df.drop(columns='ID')       \n",
    "    \n",
    "    return core_df"
   ]
  },
  {
   "cell_type": "code",
   "execution_count": 14,
   "id": "99475e50-2716-4d88-ab43-2ae283cc342f",
   "metadata": {
    "tags": []
   },
   "outputs": [],
   "source": [
    "all_image_extracted_fields = ['cc_num', 'cc_unsegmented_ccs', 'cc_size_mean',\n",
    "       'cc_size_std', 'cc_size_skew', 'cc_size_kurt', 'cc_vd_mean',\n",
    "       'cc_vd_std', 'cc_vd_skew', 'cc_vd_kurt', 'sum', 'mean', 'std', 'skew',\n",
    "       'kurtosis', 'prop_umap_segmented', 'prop_umap_within_expanded_seg',\n",
    "       'prop_seg_uncertain', 'dist_mean', 'dist_std', 'dist_skew', 'dist_kurt',\n",
    "       'dist_value_joint_0', 'dist_value_joint_1', 'dist_value_joint_2',\n",
    "       'dist_value_joint_3', 'dist_value_joint_4', 'dist_value_joint_5',\n",
    "       'dist_value_joint_6', 'dist_value_joint_7', 'dist_value_joint_8',\n",
    "       'dist_value_joint_9', 'dist_value_joint_10', 'dist_value_joint_11',\n",
    "       'dist_value_joint_12', 'dist_value_joint_13', 'dist_value_joint_14',\n",
    "       'dist_value_joint_15', 'dist_value_joint_16', 'dist_value_joint_17',\n",
    "       'dist_value_joint_18', 'dist_value_joint_19', 'dist_value_joint_20',\n",
    "       'dist_value_joint_21', 'dist_value_joint_22', 'dist_value_joint_23',\n",
    "       'dist_value_joint_24', 'cc_dist_value_joint_0', 'cc_dist_value_joint_1',\n",
    "       'cc_dist_value_joint_2', 'cc_dist_value_joint_3',\n",
    "       'cc_dist_value_joint_4', 'cc_dist_value_joint_5',\n",
    "       'cc_dist_value_joint_6', 'cc_dist_value_joint_7',\n",
    "       'cc_dist_value_joint_8', 'cc_dist_value_joint_9',\n",
    "       'cc_dist_value_joint_10', 'cc_dist_value_joint_11',\n",
    "       'cc_dist_value_joint_12', 'cc_dist_value_joint_13',\n",
    "       'cc_dist_value_joint_14', 'cc_dist_value_joint_15',\n",
    "       'cc_dist_value_joint_16', 'cc_dist_value_joint_17',\n",
    "       'cc_dist_value_joint_18', 'cc_dist_value_joint_19',\n",
    "       'cc_dist_value_joint_20', 'cc_dist_value_joint_21',\n",
    "       'cc_dist_value_joint_22', 'cc_dist_value_joint_23',\n",
    "       'cc_dist_value_joint_24', 'values_hist_0',\n",
    "       'values_hist_1', 'values_hist_2', 'values_hist_3', 'values_hist_4',\n",
    "       'values_hist_5', 'values_hist_6', 'values_hist_7', 'values_hist_8',\n",
    "       'values_hist_9', 'values_hist_10', 'values_hist_11', 'values_hist_12',\n",
    "       'values_hist_13', 'values_hist_14', 'values_hist_15', 'values_hist_16',\n",
    "       'values_hist_17', 'values_hist_18', 'values_hist_19']\n",
    "\n",
    "pred_values = ['seg_volume', 'vent_volume']"
   ]
  },
  {
   "cell_type": "code",
   "execution_count": 15,
   "id": "2d7ce6af-fcf4-4d0b-9d07-09c4b833e0a7",
   "metadata": {
    "tags": []
   },
   "outputs": [],
   "source": [
    "added_inputs = [\"pred\", \"ent\", \"pred\"]\n",
    "thresholds = [0.5, 0.3, 0.2]\n",
    "# added_fields = [['cc_num', 'cc_unsegmented_ccs', 'cc_size_mean'], ['kurtosis', 'prop_umap_segmented', 'prop_umap_within_expanded_seg'], ['kurtosis']]\n",
    "added_fields = [pred_values, all_image_extracted_fields, all_image_extracted_fields, all_image_extracted_fields]\n",
    "added_fields = [f+['ID'] for f in added_fields]\n",
    "\n",
    "included_terms = [0, 2]#0]#, 2]#, 1]#, 3]\n",
    "added_inputs = [added_inputs[idx] for idx in included_terms]\n",
    "thresholds = [thresholds[idx] for idx in included_terms]\n",
    "added_fields = [added_fields[idx] for idx in included_terms]\n",
    "\n",
    "core_fields = ['ID', 'sbjGroup', 'age', 'sex',\n",
    "       'diabetes', 'hypertension', 'ICV', 'WMH', 'PVWMH', 'DWMH', 'deepAtrophy',\n",
    "       'supAtrophy', 'BGPVS', 'CSPVS', 'micrBld',\n",
    "       'smoking_0', 'smoking_1', 'smoking_2', 'total_fazekas', 'scale_fazekas',\n",
    "       'scale_pvs', 'stroke_les', 'scale_stroke', 'dice', 'f1', 'avd',\n",
    "       'recall']# 'sample_div_std', 'sample_div_IQR', 'sample_div_skew',\n",
    "       #'sample_div_vd_std', 'sample_div_vd_IQR', 'sample_div_vd_skew']"
   ]
  },
  {
   "cell_type": "code",
   "execution_count": 16,
   "id": "786344dc-f7d4-44cd-919f-a82523ad63f0",
   "metadata": {
    "tags": []
   },
   "outputs": [
    {
     "data": {
      "text/plain": [
       "Index(['Unnamed: 0', 'ID', 'sbjGroup', 'age', 'sex', 'diabetes',\n",
       "       'hypertension', 'hyperlipidaemia', 'smoking', 'SBP', 'DBP', 'totalChl',\n",
       "       'MMSE', 'ICV', 'WMH', 'PVWMH', 'DWMH', 'deepAtrophy', 'supAtrophy',\n",
       "       'BGPVS', 'CSPVS', 'relLes', 'oldLes', 'micrBld', 'smoking_0',\n",
       "       'smoking_1', 'smoking_2', 'total_fazekas', 'scale_fazekas', 'scale_pvs',\n",
       "       'scale_micrbld', 'stroke_les', 'scale_stroke', 'dice', 'f1', 'avd',\n",
       "       'recall'],\n",
       "      dtype='object')"
      ]
     },
     "execution_count": 16,
     "metadata": {},
     "output_type": "execute_result"
    }
   ],
   "source": [
    "CVD_core_df.keys()"
   ]
  },
  {
   "cell_type": "code",
   "execution_count": 17,
   "id": "a55ff6f7-5873-4387-9b7a-1ee25bc097f4",
   "metadata": {
    "tags": []
   },
   "outputs": [
    {
     "data": {
      "text/plain": [
       "(array([15., 56.,  0., 82.,  0., 36., 33.,  0., 21.,  3.]),\n",
       " array([0. , 0.6, 1.2, 1.8, 2.4, 3. , 3.6, 4.2, 4.8, 5.4, 6. ]),\n",
       " <BarContainer object of 10 artists>)"
      ]
     },
     "execution_count": 17,
     "metadata": {},
     "output_type": "execute_result"
    },
    {
     "data": {
      "image/png": "[encoded data removed]",
      "text/plain": [
       "<Figure size 640x480 with 1 Axes>"
      ]
     },
     "metadata": {},
     "output_type": "display_data"
    }
   ],
   "source": [
    "plt.hist(CVD_core_df['supAtrophy'])"
   ]
  },
  {
   "cell_type": "code",
   "execution_count": 18,
   "id": "a0e5539f-14e9-4e20-9c60-31f4fa274039",
   "metadata": {
    "tags": []
   },
   "outputs": [],
   "source": [
    "import seaborn as sns"
   ]
  },
  {
   "cell_type": "code",
   "execution_count": 19,
   "id": "b58df21e-e22e-4f42-9f44-b6f5eba8c3eb",
   "metadata": {
    "tags": []
   },
   "outputs": [
    {
     "data": {
      "text/plain": [
       "<Axes: xlabel='DWMH', ylabel='PVWMH'>"
      ]
     },
     "execution_count": 19,
     "metadata": {},
     "output_type": "execute_result"
    },
    {
     "data": {
      "image/png": "[encoded data removed]",
      "text/plain": [
       "<Figure size 640x480 with 1 Axes>"
      ]
     },
     "metadata": {},
     "output_type": "display_data"
    }
   ],
   "source": [
    "sns.histplot(CVD_core_df, x=\"DWMH\", y=\"PVWMH\")"
   ]
  },
  {
   "cell_type": "code",
   "execution_count": 20,
   "id": "bcef90bb-13bd-4f7f-a9b3-078481595f01",
   "metadata": {
    "tags": []
   },
   "outputs": [],
   "source": [
    "combined_df = merge_datasets(CVD_core_df[core_fields], added_inputs, thresholds, added_fields)"
   ]
  },
  {
   "cell_type": "code",
   "execution_count": 21,
   "id": "42972f83-f708-4bee-b6db-ad191cd63294",
   "metadata": {
    "tags": []
   },
   "outputs": [
    {
     "data": {
      "text/html": [
       "<div>\n",
       "<style scoped>\n",
       "    .dataframe tbody tr th:only-of-type {\n",
       "        vertical-align: middle;\n",
       "    }\n",
       "\n",
       "    .dataframe tbody tr th {\n",
       "        vertical-align: top;\n",
       "    }\n",
       "\n",
       "    .dataframe thead th {\n",
       "        text-align: right;\n",
       "    }\n",
       "</style>\n",
       "<table border=\"1\" class=\"dataframe\">\n",
       "  <thead>\n",
       "    <tr style=\"text-align: right;\">\n",
       "      <th></th>\n",
       "      <th>sbjGroup</th>\n",
       "      <th>age</th>\n",
       "      <th>sex</th>\n",
       "      <th>diabetes</th>\n",
       "      <th>hypertension</th>\n",
       "      <th>ICV</th>\n",
       "      <th>WMH</th>\n",
       "      <th>PVWMH</th>\n",
       "      <th>DWMH</th>\n",
       "      <th>deepAtrophy</th>\n",
       "      <th>...</th>\n",
       "      <th>pred0.2_values_hist_10</th>\n",
       "      <th>pred0.2_values_hist_11</th>\n",
       "      <th>pred0.2_values_hist_12</th>\n",
       "      <th>pred0.2_values_hist_13</th>\n",
       "      <th>pred0.2_values_hist_14</th>\n",
       "      <th>pred0.2_values_hist_15</th>\n",
       "      <th>pred0.2_values_hist_16</th>\n",
       "      <th>pred0.2_values_hist_17</th>\n",
       "      <th>pred0.2_values_hist_18</th>\n",
       "      <th>pred0.2_values_hist_19</th>\n",
       "    </tr>\n",
       "  </thead>\n",
       "  <tbody>\n",
       "    <tr>\n",
       "      <th>0</th>\n",
       "      <td>1</td>\n",
       "      <td>68.0</td>\n",
       "      <td>2</td>\n",
       "      <td>0</td>\n",
       "      <td>1</td>\n",
       "      <td>1242.693970</td>\n",
       "      <td>4.429692</td>\n",
       "      <td>1.0</td>\n",
       "      <td>1.0</td>\n",
       "      <td>2.0</td>\n",
       "      <td>...</td>\n",
       "      <td>0.035417</td>\n",
       "      <td>0.037500</td>\n",
       "      <td>0.035764</td>\n",
       "      <td>0.036458</td>\n",
       "      <td>0.043056</td>\n",
       "      <td>0.044097</td>\n",
       "      <td>0.055208</td>\n",
       "      <td>0.052431</td>\n",
       "      <td>0.069792</td>\n",
       "      <td>0.0</td>\n",
       "    </tr>\n",
       "    <tr>\n",
       "      <th>1</th>\n",
       "      <td>1</td>\n",
       "      <td>81.0</td>\n",
       "      <td>1</td>\n",
       "      <td>0</td>\n",
       "      <td>0</td>\n",
       "      <td>1271.130493</td>\n",
       "      <td>13.320703</td>\n",
       "      <td>2.0</td>\n",
       "      <td>1.0</td>\n",
       "      <td>2.0</td>\n",
       "      <td>...</td>\n",
       "      <td>0.038173</td>\n",
       "      <td>0.037460</td>\n",
       "      <td>0.045665</td>\n",
       "      <td>0.042455</td>\n",
       "      <td>0.047449</td>\n",
       "      <td>0.053514</td>\n",
       "      <td>0.058509</td>\n",
       "      <td>0.070995</td>\n",
       "      <td>0.104531</td>\n",
       "      <td>0.0</td>\n",
       "    </tr>\n",
       "    <tr>\n",
       "      <th>2</th>\n",
       "      <td>1</td>\n",
       "      <td>71.0</td>\n",
       "      <td>1</td>\n",
       "      <td>0</td>\n",
       "      <td>1</td>\n",
       "      <td>1376.122192</td>\n",
       "      <td>82.546518</td>\n",
       "      <td>3.0</td>\n",
       "      <td>3.0</td>\n",
       "      <td>4.0</td>\n",
       "      <td>...</td>\n",
       "      <td>0.036414</td>\n",
       "      <td>0.038298</td>\n",
       "      <td>0.039902</td>\n",
       "      <td>0.045274</td>\n",
       "      <td>0.047646</td>\n",
       "      <td>0.055807</td>\n",
       "      <td>0.068085</td>\n",
       "      <td>0.093966</td>\n",
       "      <td>0.167701</td>\n",
       "      <td>0.0</td>\n",
       "    </tr>\n",
       "    <tr>\n",
       "      <th>3</th>\n",
       "      <td>1</td>\n",
       "      <td>68.0</td>\n",
       "      <td>1</td>\n",
       "      <td>0</td>\n",
       "      <td>1</td>\n",
       "      <td>1316.847656</td>\n",
       "      <td>67.194141</td>\n",
       "      <td>3.0</td>\n",
       "      <td>1.0</td>\n",
       "      <td>6.0</td>\n",
       "      <td>...</td>\n",
       "      <td>0.035676</td>\n",
       "      <td>0.036438</td>\n",
       "      <td>0.038573</td>\n",
       "      <td>0.035524</td>\n",
       "      <td>0.048254</td>\n",
       "      <td>0.053209</td>\n",
       "      <td>0.067541</td>\n",
       "      <td>0.093688</td>\n",
       "      <td>0.160238</td>\n",
       "      <td>0.0</td>\n",
       "    </tr>\n",
       "    <tr>\n",
       "      <th>4</th>\n",
       "      <td>1</td>\n",
       "      <td>83.0</td>\n",
       "      <td>1</td>\n",
       "      <td>0</td>\n",
       "      <td>0</td>\n",
       "      <td>1195.472656</td>\n",
       "      <td>8.680041</td>\n",
       "      <td>2.0</td>\n",
       "      <td>1.0</td>\n",
       "      <td>2.0</td>\n",
       "      <td>...</td>\n",
       "      <td>0.035030</td>\n",
       "      <td>0.033609</td>\n",
       "      <td>0.036450</td>\n",
       "      <td>0.033609</td>\n",
       "      <td>0.035030</td>\n",
       "      <td>0.044024</td>\n",
       "      <td>0.048994</td>\n",
       "      <td>0.073846</td>\n",
       "      <td>0.081893</td>\n",
       "      <td>0.0</td>\n",
       "    </tr>\n",
       "    <tr>\n",
       "      <th>...</th>\n",
       "      <td>...</td>\n",
       "      <td>...</td>\n",
       "      <td>...</td>\n",
       "      <td>...</td>\n",
       "      <td>...</td>\n",
       "      <td>...</td>\n",
       "      <td>...</td>\n",
       "      <td>...</td>\n",
       "      <td>...</td>\n",
       "      <td>...</td>\n",
       "      <td>...</td>\n",
       "      <td>...</td>\n",
       "      <td>...</td>\n",
       "      <td>...</td>\n",
       "      <td>...</td>\n",
       "      <td>...</td>\n",
       "      <td>...</td>\n",
       "      <td>...</td>\n",
       "      <td>...</td>\n",
       "      <td>...</td>\n",
       "      <td>...</td>\n",
       "    </tr>\n",
       "    <tr>\n",
       "      <th>243</th>\n",
       "      <td>1</td>\n",
       "      <td>55.0</td>\n",
       "      <td>1</td>\n",
       "      <td>0</td>\n",
       "      <td>1</td>\n",
       "      <td>1337.294531</td>\n",
       "      <td>1.518750</td>\n",
       "      <td>1.0</td>\n",
       "      <td>1.0</td>\n",
       "      <td>1.0</td>\n",
       "      <td>...</td>\n",
       "      <td>0.036611</td>\n",
       "      <td>0.031381</td>\n",
       "      <td>0.040795</td>\n",
       "      <td>0.032427</td>\n",
       "      <td>0.020921</td>\n",
       "      <td>0.026151</td>\n",
       "      <td>0.028243</td>\n",
       "      <td>0.028243</td>\n",
       "      <td>0.016736</td>\n",
       "      <td>0.0</td>\n",
       "    </tr>\n",
       "    <tr>\n",
       "      <th>244</th>\n",
       "      <td>1</td>\n",
       "      <td>50.0</td>\n",
       "      <td>1</td>\n",
       "      <td>0</td>\n",
       "      <td>0</td>\n",
       "      <td>1679.041382</td>\n",
       "      <td>10.054688</td>\n",
       "      <td>2.0</td>\n",
       "      <td>1.0</td>\n",
       "      <td>2.0</td>\n",
       "      <td>...</td>\n",
       "      <td>0.042557</td>\n",
       "      <td>0.034297</td>\n",
       "      <td>0.037350</td>\n",
       "      <td>0.035015</td>\n",
       "      <td>0.037350</td>\n",
       "      <td>0.038247</td>\n",
       "      <td>0.043096</td>\n",
       "      <td>0.052972</td>\n",
       "      <td>0.072904</td>\n",
       "      <td>0.0</td>\n",
       "    </tr>\n",
       "    <tr>\n",
       "      <th>245</th>\n",
       "      <td>1</td>\n",
       "      <td>56.0</td>\n",
       "      <td>1</td>\n",
       "      <td>0</td>\n",
       "      <td>0</td>\n",
       "      <td>1581.236694</td>\n",
       "      <td>3.417187</td>\n",
       "      <td>1.0</td>\n",
       "      <td>1.0</td>\n",
       "      <td>1.0</td>\n",
       "      <td>...</td>\n",
       "      <td>0.030670</td>\n",
       "      <td>0.029374</td>\n",
       "      <td>0.026782</td>\n",
       "      <td>0.031102</td>\n",
       "      <td>0.038445</td>\n",
       "      <td>0.029374</td>\n",
       "      <td>0.037581</td>\n",
       "      <td>0.031102</td>\n",
       "      <td>0.050972</td>\n",
       "      <td>0.0</td>\n",
       "    </tr>\n",
       "    <tr>\n",
       "      <th>246</th>\n",
       "      <td>1</td>\n",
       "      <td>78.0</td>\n",
       "      <td>1</td>\n",
       "      <td>0</td>\n",
       "      <td>1</td>\n",
       "      <td>1489.183594</td>\n",
       "      <td>12.881250</td>\n",
       "      <td>1.0</td>\n",
       "      <td>1.0</td>\n",
       "      <td>4.0</td>\n",
       "      <td>...</td>\n",
       "      <td>0.036148</td>\n",
       "      <td>0.033824</td>\n",
       "      <td>0.041570</td>\n",
       "      <td>0.046217</td>\n",
       "      <td>0.049574</td>\n",
       "      <td>0.049832</td>\n",
       "      <td>0.050090</td>\n",
       "      <td>0.067906</td>\n",
       "      <td>0.084689</td>\n",
       "      <td>0.0</td>\n",
       "    </tr>\n",
       "    <tr>\n",
       "      <th>247</th>\n",
       "      <td>1</td>\n",
       "      <td>54.0</td>\n",
       "      <td>1</td>\n",
       "      <td>0</td>\n",
       "      <td>0</td>\n",
       "      <td>1648.807007</td>\n",
       "      <td>15.271875</td>\n",
       "      <td>2.0</td>\n",
       "      <td>1.0</td>\n",
       "      <td>3.0</td>\n",
       "      <td>...</td>\n",
       "      <td>0.033355</td>\n",
       "      <td>0.039341</td>\n",
       "      <td>0.033355</td>\n",
       "      <td>0.040838</td>\n",
       "      <td>0.040197</td>\n",
       "      <td>0.042121</td>\n",
       "      <td>0.044259</td>\n",
       "      <td>0.068848</td>\n",
       "      <td>0.093864</td>\n",
       "      <td>0.0</td>\n",
       "    </tr>\n",
       "  </tbody>\n",
       "</table>\n",
       "<p>248 rows × 120 columns</p>\n",
       "</div>"
      ],
      "text/plain": [
       "     sbjGroup   age  sex  diabetes  hypertension          ICV        WMH  \\\n",
       "0           1  68.0    2         0             1  1242.693970   4.429692   \n",
       "1           1  81.0    1         0             0  1271.130493  13.320703   \n",
       "2           1  71.0    1         0             1  1376.122192  82.546518   \n",
       "3           1  68.0    1         0             1  1316.847656  67.194141   \n",
       "4           1  83.0    1         0             0  1195.472656   8.680041   \n",
       "..        ...   ...  ...       ...           ...          ...        ...   \n",
       "243         1  55.0    1         0             1  1337.294531   1.518750   \n",
       "244         1  50.0    1         0             0  1679.041382  10.054688   \n",
       "245         1  56.0    1         0             0  1581.236694   3.417187   \n",
       "246         1  78.0    1         0             1  1489.183594  12.881250   \n",
       "247         1  54.0    1         0             0  1648.807007  15.271875   \n",
       "\n",
       "     PVWMH  DWMH  deepAtrophy  ...  pred0.2_values_hist_10  \\\n",
       "0      1.0   1.0          2.0  ...                0.035417   \n",
       "1      2.0   1.0          2.0  ...                0.038173   \n",
       "2      3.0   3.0          4.0  ...                0.036414   \n",
       "3      3.0   1.0          6.0  ...                0.035676   \n",
       "4      2.0   1.0          2.0  ...                0.035030   \n",
       "..     ...   ...          ...  ...                     ...   \n",
       "243    1.0   1.0          1.0  ...                0.036611   \n",
       "244    2.0   1.0          2.0  ...                0.042557   \n",
       "245    1.0   1.0          1.0  ...                0.030670   \n",
       "246    1.0   1.0          4.0  ...                0.036148   \n",
       "247    2.0   1.0          3.0  ...                0.033355   \n",
       "\n",
       "     pred0.2_values_hist_11  pred0.2_values_hist_12  pred0.2_values_hist_13  \\\n",
       "0                  0.037500                0.035764                0.036458   \n",
       "1                  0.037460                0.045665                0.042455   \n",
       "2                  0.038298                0.039902                0.045274   \n",
       "3                  0.036438                0.038573                0.035524   \n",
       "4                  0.033609                0.036450                0.033609   \n",
       "..                      ...                     ...                     ...   \n",
       "243                0.031381                0.040795                0.032427   \n",
       "244                0.034297                0.037350                0.035015   \n",
       "245                0.029374                0.026782                0.031102   \n",
       "246                0.033824                0.041570                0.046217   \n",
       "247                0.039341                0.033355                0.040838   \n",
       "\n",
       "     pred0.2_values_hist_14  pred0.2_values_hist_15  pred0.2_values_hist_16  \\\n",
       "0                  0.043056                0.044097                0.055208   \n",
       "1                  0.047449                0.053514                0.058509   \n",
       "2                  0.047646                0.055807                0.068085   \n",
       "3                  0.048254                0.053209                0.067541   \n",
       "4                  0.035030                0.044024                0.048994   \n",
       "..                      ...                     ...                     ...   \n",
       "243                0.020921                0.026151                0.028243   \n",
       "244                0.037350                0.038247                0.043096   \n",
       "245                0.038445                0.029374                0.037581   \n",
       "246                0.049574                0.049832                0.050090   \n",
       "247                0.040197                0.042121                0.044259   \n",
       "\n",
       "     pred0.2_values_hist_17  pred0.2_values_hist_18  pred0.2_values_hist_19  \n",
       "0                  0.052431                0.069792                     0.0  \n",
       "1                  0.070995                0.104531                     0.0  \n",
       "2                  0.093966                0.167701                     0.0  \n",
       "3                  0.093688                0.160238                     0.0  \n",
       "4                  0.073846                0.081893                     0.0  \n",
       "..                      ...                     ...                     ...  \n",
       "243                0.028243                0.016736                     0.0  \n",
       "244                0.052972                0.072904                     0.0  \n",
       "245                0.031102                0.050972                     0.0  \n",
       "246                0.067906                0.084689                     0.0  \n",
       "247                0.068848                0.093864                     0.0  \n",
       "\n",
       "[248 rows x 120 columns]"
      ]
     },
     "execution_count": 21,
     "metadata": {},
     "output_type": "execute_result"
    }
   ],
   "source": [
    "combined_df"
   ]
  },
  {
   "cell_type": "code",
   "execution_count": 22,
   "id": "35c2b95f-54fd-4ca8-a271-39f4c6ecb4dc",
   "metadata": {
    "tags": []
   },
   "outputs": [
    {
     "data": {
      "text/plain": [
       "array(['sbjGroup', 'age', 'sex', 'diabetes', 'hypertension', 'ICV', 'WMH',\n",
       "       'PVWMH', 'DWMH', 'deepAtrophy', 'supAtrophy', 'BGPVS', 'CSPVS',\n",
       "       'micrBld', 'smoking_0', 'smoking_1', 'smoking_2', 'total_fazekas',\n",
       "       'scale_fazekas', 'scale_pvs', 'stroke_les', 'scale_stroke', 'dice',\n",
       "       'f1', 'avd', 'recall', 'pred0.5_seg_volume', 'pred0.5_vent_volume',\n",
       "       'pred0.2_cc_num', 'pred0.2_cc_unsegmented_ccs',\n",
       "       'pred0.2_cc_size_mean', 'pred0.2_cc_size_std',\n",
       "       'pred0.2_cc_size_skew', 'pred0.2_cc_size_kurt',\n",
       "       'pred0.2_cc_vd_mean', 'pred0.2_cc_vd_std', 'pred0.2_cc_vd_skew',\n",
       "       'pred0.2_cc_vd_kurt', 'pred0.2_sum', 'pred0.2_mean', 'pred0.2_std',\n",
       "       'pred0.2_skew', 'pred0.2_kurtosis', 'pred0.2_prop_umap_segmented',\n",
       "       'pred0.2_prop_umap_within_expanded_seg',\n",
       "       'pred0.2_prop_seg_uncertain', 'pred0.2_dist_mean',\n",
       "       'pred0.2_dist_std', 'pred0.2_dist_skew', 'pred0.2_dist_kurt',\n",
       "       'pred0.2_dist_value_joint_0', 'pred0.2_dist_value_joint_1',\n",
       "       'pred0.2_dist_value_joint_2', 'pred0.2_dist_value_joint_3',\n",
       "       'pred0.2_dist_value_joint_4', 'pred0.2_dist_value_joint_5',\n",
       "       'pred0.2_dist_value_joint_6', 'pred0.2_dist_value_joint_7',\n",
       "       'pred0.2_dist_value_joint_8', 'pred0.2_dist_value_joint_9',\n",
       "       'pred0.2_dist_value_joint_10', 'pred0.2_dist_value_joint_11',\n",
       "       'pred0.2_dist_value_joint_12', 'pred0.2_dist_value_joint_13',\n",
       "       'pred0.2_dist_value_joint_14', 'pred0.2_dist_value_joint_15',\n",
       "       'pred0.2_dist_value_joint_16', 'pred0.2_dist_value_joint_17',\n",
       "       'pred0.2_dist_value_joint_18', 'pred0.2_dist_value_joint_19',\n",
       "       'pred0.2_dist_value_joint_20', 'pred0.2_dist_value_joint_21',\n",
       "       'pred0.2_dist_value_joint_22', 'pred0.2_dist_value_joint_23',\n",
       "       'pred0.2_dist_value_joint_24', 'pred0.2_cc_dist_value_joint_0',\n",
       "       'pred0.2_cc_dist_value_joint_1', 'pred0.2_cc_dist_value_joint_2',\n",
       "       'pred0.2_cc_dist_value_joint_3', 'pred0.2_cc_dist_value_joint_4',\n",
       "       'pred0.2_cc_dist_value_joint_5', 'pred0.2_cc_dist_value_joint_6',\n",
       "       'pred0.2_cc_dist_value_joint_7', 'pred0.2_cc_dist_value_joint_8',\n",
       "       'pred0.2_cc_dist_value_joint_9', 'pred0.2_cc_dist_value_joint_10',\n",
       "       'pred0.2_cc_dist_value_joint_11', 'pred0.2_cc_dist_value_joint_12',\n",
       "       'pred0.2_cc_dist_value_joint_13', 'pred0.2_cc_dist_value_joint_14',\n",
       "       'pred0.2_cc_dist_value_joint_15', 'pred0.2_cc_dist_value_joint_16',\n",
       "       'pred0.2_cc_dist_value_joint_17', 'pred0.2_cc_dist_value_joint_18',\n",
       "       'pred0.2_cc_dist_value_joint_19', 'pred0.2_cc_dist_value_joint_20',\n",
       "       'pred0.2_cc_dist_value_joint_21', 'pred0.2_cc_dist_value_joint_22',\n",
       "       'pred0.2_cc_dist_value_joint_23', 'pred0.2_cc_dist_value_joint_24',\n",
       "       'pred0.2_values_hist_0', 'pred0.2_values_hist_1',\n",
       "       'pred0.2_values_hist_2', 'pred0.2_values_hist_3',\n",
       "       'pred0.2_values_hist_4', 'pred0.2_values_hist_5',\n",
       "       'pred0.2_values_hist_6', 'pred0.2_values_hist_7',\n",
       "       'pred0.2_values_hist_8', 'pred0.2_values_hist_9',\n",
       "       'pred0.2_values_hist_10', 'pred0.2_values_hist_11',\n",
       "       'pred0.2_values_hist_12', 'pred0.2_values_hist_13',\n",
       "       'pred0.2_values_hist_14', 'pred0.2_values_hist_15',\n",
       "       'pred0.2_values_hist_16', 'pred0.2_values_hist_17',\n",
       "       'pred0.2_values_hist_18', 'pred0.2_values_hist_19'], dtype=object)"
      ]
     },
     "execution_count": 22,
     "metadata": {},
     "output_type": "execute_result"
    }
   ],
   "source": [
    "combined_df.keys().values"
   ]
  },
  {
   "cell_type": "code",
   "execution_count": 23,
   "id": "01fc7e4f-8941-4c36-839e-3111aecdaa04",
   "metadata": {
    "tags": []
   },
   "outputs": [],
   "source": [
    "def remove_nans(dfc, verbose=False):\n",
    "    nan_rows = dfc[dfc.isnull().any(axis=1)]\n",
    "    nan_cols = dfc.columns[dfc.isnull().any()]\n",
    "    if verbose:\n",
    "        print(\"nans removed: \", len(nan_rows))\n",
    "    dfc = dfc.drop(labels=nan_rows.index.values, axis=0)\n",
    "    return dfc"
   ]
  },
  {
   "cell_type": "code",
   "execution_count": 24,
   "id": "417f0a2f-b97d-4230-9a73-d1a013bcf4df",
   "metadata": {
    "tags": []
   },
   "outputs": [],
   "source": [
    "def extract_Xy(df, label_class, verbose=False, kept_column=None, label_categories=None):\n",
    "    df = remove_nans(df, verbose)\n",
    "    if label_categories == None:\n",
    "        label_categories = ['WMH', 'PVWMH', 'DWMH', 'deepAtrophy',\n",
    "           'supAtrophy', 'BGPVS', 'CSPVS', 'total_fazekas', 'scale_fazekas',\n",
    "           'scale_pvs', 'stroke_les', 'scale_stroke', 'dice',\n",
    "           'f1', 'avd', 'recall']\n",
    "    if kept_column != None:\n",
    "        y_reg = df[kept_column].values\n",
    "    y = df[label_class].values\n",
    "    X = df.drop(columns=label_categories)\n",
    "    if label_class not in label_categories:\n",
    "        X = X.drop(columns=label_class)\n",
    "    if kept_column != None:\n",
    "        X[kept_column] = y_reg\n",
    "    return X, y"
   ]
  },
  {
   "cell_type": "code",
   "execution_count": 25,
   "id": "fc33bc42-1d63-453f-9a0c-f2a4cd2afc38",
   "metadata": {
    "tags": []
   },
   "outputs": [],
   "source": [
    "# X, y = extract_Xy(combined_df, \"DWMH\")"
   ]
  },
  {
   "cell_type": "markdown",
   "id": "a4ed72a1-93e9-4a1f-8a4b-4e9735111b62",
   "metadata": {},
   "source": [
    "### fitting to predict fazekas"
   ]
  },
  {
   "cell_type": "code",
   "execution_count": 26,
   "id": "b5b26a54-2007-4c6f-b952-a8af375f5e95",
   "metadata": {
    "tags": []
   },
   "outputs": [],
   "source": [
    "from sklearn.linear_model import LogisticRegression\n",
    "from sklearn.svm import SVC\n",
    "from sklearn.ensemble import RandomForestClassifier"
   ]
  },
  {
   "cell_type": "code",
   "execution_count": 27,
   "id": "1cb8a3b6-133e-4e4c-9a70-98fc4a7188d7",
   "metadata": {
    "tags": []
   },
   "outputs": [],
   "source": [
    "class Rescaler():\n",
    "    def fit(self, X):\n",
    "        norm_parameters = []\n",
    "        for key in X.keys():\n",
    "            values = X[key].values\n",
    "            if len(np.unique(values)) > 2:\n",
    "                mean = np.mean(values)\n",
    "                std = np.std(values)\n",
    "                norm_parameters.append((key, mean, std))\n",
    "        self.norm_parameters = norm_parameters\n",
    "    def predict(self, X):\n",
    "        X = X.copy()\n",
    "        for key, mean, std in self.norm_parameters:\n",
    "            X[key] = (X[key] - mean) / std\n",
    "        \n",
    "        return X"
   ]
  },
  {
   "cell_type": "code",
   "execution_count": 28,
   "id": "cafee021-e306-4823-be7e-fc7b0fd3b611",
   "metadata": {
    "tags": []
   },
   "outputs": [],
   "source": [
    "import matplotlib.pyplot as plt\n",
    "import numpy as np\n",
    "from sklearn.metrics import confusion_matrix\n",
    "\n",
    "def plot_confusion_matrix(y_true, y_hat, fig=None, ax=None):\n",
    "    # Calculate N x N confusion matrix\n",
    "    N = int(max(y_true) + 1)\n",
    "    cm = confusion_matrix(y_true, y_hat)\n",
    "\n",
    "    # Normalize confusion matrix\n",
    "    cm = cm.astype('float') / cm.sum(axis=1)[:, np.newaxis]\n",
    "\n",
    "    # Plot confusion matrix\n",
    "    if fig == None:\n",
    "        fig, ax = plt.subplots()\n",
    "    im = ax.imshow(cm, interpolation='nearest', cmap=plt.cm.Blues)\n",
    "    ax.figure.colorbar(im, ax=ax)\n",
    "    ax.set(xticks=np.arange(cm.shape[1]),\n",
    "           yticks=np.arange(cm.shape[0]),\n",
    "           xticklabels=range(N), yticklabels=range(N),\n",
    "           ylabel='True label',\n",
    "           xlabel='Predicted label')\n",
    "\n",
    "    # Loop over data dimensions and create text annotations.\n",
    "    fmt = '.2f' \n",
    "    thresh = cm.max() / 2.\n",
    "    for i in range(cm.shape[0]):\n",
    "        for j in range(cm.shape[1]):\n",
    "            ax.text(j, i, format(cm[i, j], fmt),\n",
    "                    ha=\"center\", va=\"center\",\n",
    "                    color=\"white\" if cm[i, j] > thresh else \"black\")\n",
    "    fig.tight_layout()\n",
    "    # plt.show()"
   ]
  },
  {
   "cell_type": "code",
   "execution_count": 29,
   "id": "8a06e7bc-a05e-44ec-a616-c439a07a6740",
   "metadata": {
    "tags": []
   },
   "outputs": [],
   "source": [
    "all_image_extracted_fields = ['cc_num', 'cc_unsegmented_ccs', 'cc_size_mean',\n",
    "       'cc_size_std', 'cc_size_skew', 'cc_size_kurt', 'cc_vd_mean',\n",
    "       'cc_vd_std', 'cc_vd_skew', 'cc_vd_kurt', 'sum', 'mean', 'std', 'skew',\n",
    "       'kurtosis', 'prop_umap_segmented', 'prop_umap_within_expanded_seg',\n",
    "       'prop_seg_uncertain', 'dist_mean', 'dist_std', 'dist_skew', 'dist_kurt',\n",
    "       'dist_value_joint_0', 'dist_value_joint_1', 'dist_value_joint_2',\n",
    "       'dist_value_joint_3', 'dist_value_joint_4', 'dist_value_joint_5',\n",
    "       'dist_value_joint_6', 'dist_value_joint_7', 'dist_value_joint_8',\n",
    "       'dist_value_joint_9', 'dist_value_joint_10', 'dist_value_joint_11',\n",
    "       'dist_value_joint_12', 'dist_value_joint_13', 'dist_value_joint_14',\n",
    "       'dist_value_joint_15', 'dist_value_joint_16', 'dist_value_joint_17',\n",
    "       'dist_value_joint_18', 'dist_value_joint_19', 'dist_value_joint_20',\n",
    "       'dist_value_joint_21', 'dist_value_joint_22', 'dist_value_joint_23',\n",
    "       'dist_value_joint_24', 'cc_dist_value_joint_0', 'cc_dist_value_joint_1',\n",
    "       'cc_dist_value_joint_2', 'cc_dist_value_joint_3',\n",
    "       'cc_dist_value_joint_4', 'cc_dist_value_joint_5',\n",
    "       'cc_dist_value_joint_6', 'cc_dist_value_joint_7',\n",
    "       'cc_dist_value_joint_8', 'cc_dist_value_joint_9',\n",
    "       'cc_dist_value_joint_10', 'cc_dist_value_joint_11',\n",
    "       'cc_dist_value_joint_12', 'cc_dist_value_joint_13',\n",
    "       'cc_dist_value_joint_14', 'cc_dist_value_joint_15',\n",
    "       'cc_dist_value_joint_16', 'cc_dist_value_joint_17',\n",
    "       'cc_dist_value_joint_18', 'cc_dist_value_joint_19',\n",
    "       'cc_dist_value_joint_20', 'cc_dist_value_joint_21',\n",
    "       'cc_dist_value_joint_22', 'cc_dist_value_joint_23',\n",
    "       'cc_dist_value_joint_24', 'values_hist_0',\n",
    "       'values_hist_1', 'values_hist_2', 'values_hist_3', 'values_hist_4',\n",
    "       'values_hist_5', 'values_hist_6', 'values_hist_7', 'values_hist_8',\n",
    "       'values_hist_9', 'values_hist_10', 'values_hist_11', 'values_hist_12',\n",
    "       'values_hist_13', 'values_hist_14', 'values_hist_15', 'values_hist_16',\n",
    "       'values_hist_17', 'values_hist_18', 'values_hist_19']"
   ]
  },
  {
   "cell_type": "code",
   "execution_count": 30,
   "id": "5a0f643c-92ca-46fb-990c-488428c60e30",
   "metadata": {
    "tags": []
   },
   "outputs": [],
   "source": [
    "selected_image_extracted_fields = ['cc_num', 'cc_unsegmented_ccs', 'cc_size_mean',\n",
    "       'cc_size_std', 'cc_size_skew', 'cc_size_kurt', 'cc_vd_mean',\n",
    "       'cc_vd_std', 'cc_vd_skew', 'cc_vd_kurt', 'sum', 'mean', 'std', 'skew',\n",
    "       'kurtosis', 'prop_umap_segmented', 'prop_umap_within_expanded_seg',\n",
    "       'prop_seg_uncertain', 'dist_mean', 'dist_std', 'dist_skew', 'dist_kurt']"
   ]
  },
  {
   "cell_type": "code",
   "execution_count": 31,
   "id": "e92070e1-1ca6-4ced-a2fd-6250848d49d7",
   "metadata": {
    "tags": []
   },
   "outputs": [
    {
     "data": {
      "text/plain": [
       "Index(['Unnamed: 0', 'ID', 'sbjGroup', 'age', 'sex', 'diabetes',\n",
       "       'hypertension', 'hyperlipidaemia', 'smoking', 'SBP', 'DBP', 'totalChl',\n",
       "       'MMSE', 'ICV', 'WMH', 'PVWMH', 'DWMH', 'deepAtrophy', 'supAtrophy',\n",
       "       'BGPVS', 'CSPVS', 'relLes', 'oldLes', 'micrBld', 'smoking_0',\n",
       "       'smoking_1', 'smoking_2', 'total_fazekas', 'scale_fazekas', 'scale_pvs',\n",
       "       'scale_micrbld', 'stroke_les', 'scale_stroke', 'dice', 'f1', 'avd',\n",
       "       'recall'],\n",
       "      dtype='object')"
      ]
     },
     "execution_count": 31,
     "metadata": {},
     "output_type": "execute_result"
    }
   ],
   "source": [
    "CVD_core_df.keys()"
   ]
  },
  {
   "cell_type": "code",
   "execution_count": 32,
   "id": "f13915f7-2960-4dcb-aafc-33aa9c7f83b9",
   "metadata": {
    "tags": []
   },
   "outputs": [],
   "source": [
    "def shuffle(df, random_state=42):\n",
    "    df = df.copy()\n",
    "    df = df.sample(frac=1, random_state=random_state).reset_index(drop=True)\n",
    "    return df"
   ]
  },
  {
   "cell_type": "code",
   "execution_count": 33,
   "id": "813789c5-b265-4398-9bf1-abfcf7e7efb3",
   "metadata": {
    "tags": []
   },
   "outputs": [],
   "source": [
    "from tqdm import tqdm"
   ]
  },
  {
   "cell_type": "code",
   "execution_count": 34,
   "id": "e9d1731c-cbf5-4503-90c1-dafb005dfb73",
   "metadata": {
    "tags": []
   },
   "outputs": [],
   "source": [
    "import scipy.stats"
   ]
  },
  {
   "cell_type": "code",
   "execution_count": 35,
   "id": "49080040-69a2-4699-85b2-bcab1a3aea91",
   "metadata": {
    "tags": []
   },
   "outputs": [],
   "source": [
    "from sklearn.linear_model import LinearRegression, Ridge"
   ]
  },
  {
   "cell_type": "code",
   "execution_count": 36,
   "id": "d3166682-a420-46a3-8bcb-6413cb2df0b3",
   "metadata": {
    "tags": []
   },
   "outputs": [],
   "source": [
    "def run_regression_prediction(default_fields, selected_fields, regression_target=\"dice\", included_terms_list=None, n_splits=5, val_proportion=0.25, class_weight='balanced', C=1.0, target=\"WMH_Deep\", rescale=True, max_iter=1000, predict_val=True, fold_num=2, verbose=True, thresholds=None, metric='accuracy'):\n",
    "    results = []\n",
    "    \n",
    "    # if initial_terms == None:\n",
    "    #     initial_terms = []\n",
    "    # if added_terms == None:\n",
    "    #     added_terms = [0,2,3,1,'null']\n",
    "    if included_terms_list == None:\n",
    "        included_terms_list = []\n",
    "        \n",
    "    if not verbose:\n",
    "        def vprint(*args):\n",
    "            pass\n",
    "    else:\n",
    "        def vprint(*args):\n",
    "            print(*args)\n",
    "            \n",
    "    vprint(selected_fields)\n",
    "        \n",
    "    # included_terms = [0,2] # []\n",
    "    # included_terms = initial_terms\n",
    "    added_inputs = [\"pred\", \"ent\", \"pred\", \"var\"]\n",
    "    if thresholds == None:\n",
    "        thresholds = [0.5, 0.1, 0.2, 0.06]\n",
    "    # added_fields = [['cc_num', 'cc_unsegmented_ccs', 'cc_size_mean'], ['kurtosis', 'prop_umap_segmented', 'prop_umap_within_expanded_seg'], ['kurtosis']]\n",
    "    added_fields = [pred_values, selected_fields, selected_fields, selected_fields]\n",
    "    added_fields = [f+['ID'] for f in added_fields]\n",
    "\n",
    "    # for i in added_terms:\n",
    "    for included_terms in included_terms_list:\n",
    "        vprint(included_terms)\n",
    "        added_inputs_updated = [added_inputs[idx] for idx in included_terms]\n",
    "        thresholds_updated = [thresholds[idx] for idx in included_terms]\n",
    "        added_fields_updated = [added_fields[idx] for idx in included_terms]\n",
    "\n",
    "\n",
    "        combined_df = merge_datasets(CVD_core_df[default_fields], added_inputs_updated, thresholds_updated, added_fields_updated)\n",
    "        combined_df = shuffle(combined_df)\n",
    "        X, y = extract_Xy(combined_df, target, verbose, kept_column=regression_target)\n",
    "        nan_rows = X[X.isnull().any(axis=1)]\n",
    "        (X_train, y_train), (X_test, y_test), (X_val, y_val) = get_fold(X, y, fold_num, n_splits, val_proportion)\n",
    "        \n",
    "        y_train = X_train[regression_target].values\n",
    "        y_test = X_test[regression_target].values\n",
    "        y_val = X_val[regression_target].values\n",
    "        X_train = X_train.drop(columns=regression_target)\n",
    "        X_test = X_test.drop(columns=regression_target)\n",
    "        X_val = X_val.drop(columns=regression_target)\n",
    "        \n",
    "        # print(X_train.keys())\n",
    "        \n",
    "#         train, test, val = get_fold(combined_df, fold_num=fold_num, val_proportion=val_proportion, random_state=42, n_splits=n_splits)\n",
    "\n",
    "#         X_train, y_train = extract_Xy(train, target, verbose)\n",
    "#         X_test, y_test = extract_Xy(test, target, verbose)\n",
    "#         X_val, y_val = extract_Xy(val, target, verbose)\n",
    "        vprint(len(X_val), len(X_test), len(X_train))\n",
    "\n",
    "        if rescale:\n",
    "            # rescale the data\n",
    "            rescaler = Rescaler()\n",
    "            rescaler.fit(X_train)\n",
    "            X_train = rescaler.predict(X_train)\n",
    "            X_test = rescaler.predict(X_test)\n",
    "            X_val = rescaler.predict(X_val)\n",
    "\n",
    "\n",
    "        clf = Ridge(copy_X=True, fit_intercept=True, alpha=1., max_iter=100)\n",
    "        clf.fit(X_train, y_train)\n",
    "        \n",
    "        if predict_val:\n",
    "            X_target = X_val\n",
    "            y_target = y_val\n",
    "        else:\n",
    "            X_target = X_test\n",
    "            y_target = y_test\n",
    "        \n",
    "        y_hat = clf.predict(X_target)\n",
    "        #y_pred = clf.predict_proba(X_target)\n",
    "        # print(y_pred.shape)\n",
    "        # print(y_pred)\n",
    "        # print(y_target.shape)\n",
    "        \n",
    "        mse = np.mean(np.square(y_hat - y_target))\n",
    "        results.append(mse)\n",
    "        print(mse)\n",
    "        # print(y_target)\n",
    "        # print(y_hat)\n",
    "        print(\"----------\")\n",
    "        \n",
    "    return results"
   ]
  },
  {
   "cell_type": "code",
   "execution_count": 37,
   "id": "0a3e3860-b81f-4973-928b-ca415c438c82",
   "metadata": {
    "tags": []
   },
   "outputs": [],
   "source": [
    "import matplotlib.pyplot as plt\n",
    "from sklearn.metrics import roc_curve, roc_auc_score\n",
    "\n",
    "# I NEED TO DOUBLE CHECK THAT THIS CODE WORKS ALONG WITH THE FOLLOWING:\n",
    "# https://scikit-learn.org/stable/auto_examples/model_selection/plot_roc.html\n",
    "\n",
    "def plot_roc_score(y_test, y_scores):\n",
    "\n",
    "    # Plot ROC curve for each class vs rest\n",
    "    fig, ax = plt.subplots()\n",
    "    n_classes = int(max(y_test) + 1)\n",
    "    for i in range(n_classes):\n",
    "        fpr, tpr, _ = roc_curve(y_test == i, y_scores[:, i], pos_label=1)\n",
    "        auc = roc_auc_score(y_test == i, y_scores[:, i])#, multi_class=\"ovr\")\n",
    "        ax.plot(fpr, tpr, label=f'Class {i} vs Rest (auc = {auc:.2f})')\n",
    "\n",
    "    ax.plot([0,1], [0,1], 'k--') # random guess line\n",
    "    ax.set_xlabel('False Positive Rate')\n",
    "    ax.set_ylabel('True Positive Rate')\n",
    "    ax.legend()\n",
    "    plt.show()"
   ]
  },
  {
   "cell_type": "code",
   "execution_count": 38,
   "id": "24501b06-6ee2-4ee5-a32a-ced50e0803e9",
   "metadata": {
    "tags": []
   },
   "outputs": [],
   "source": [
    "def plot_micro_avereaged_roc_score(y_tests, y_scores):\n",
    "    #fig, ax = plt.subplots()\n",
    "    for m, (y_test, y_score) in enumerate(zip(y_tests, y_scores)):\n",
    "        # print(y_test)\n",
    "        ohenc = OneHotEncoder()\n",
    "        ohenc.fit(y_test.reshape(-1, 1))\n",
    "        y_onehot_test = ohenc.transform(y_test.reshape(-1, 1)).toarray()\n",
    "        # Plot micro or macro averaged roc\n",
    "        fpr, tpr, _ = roc_curve(y_onehot_test.ravel(), y_score.ravel())\n",
    "        auc = roc_auc_score(y_test, y_score, multi_class=\"ovr\", average=\"micro\")\n",
    "        plt.plot(fpr, tpr, label=f\"(method {m}) micro-average OvR (AUC= {auc:.2})\")\n",
    "        \n",
    "    plt.plot([0,1], [0,1], 'k--') # random guess line\n",
    "    plt.xlabel(\"False Positive Rate\")\n",
    "    plt.ylabel(\"True Positive Rate\")\n",
    "    plt.legend()\n",
    "    plt.title(\"Micro-averaged One-vs-Rest\\nReceiver Operating Characteristic\")\n",
    "    plt.axis(\"square\")\n",
    "    plt.show()"
   ]
  },
  {
   "cell_type": "code",
   "execution_count": 39,
   "id": "19f1896e-163a-4135-aa8b-a19f3f19206f",
   "metadata": {
    "tags": []
   },
   "outputs": [],
   "source": [
    "def plot_roc_score_multimethod(y_tests, y_scoress):\n",
    "\n",
    "    # Plot ROC curve for each class vs rest\n",
    "    n_classes = int(max(y_tests[0]) + 1)\n",
    "    fig, axs = plt.subplots(1, n_classes, figsize=(5*n_classes, 5))\n",
    "    for i in range(n_classes):\n",
    "        for j in range(len(y_tests)):     \n",
    "            fpr, tpr, _ = roc_curve(y_tests[j] == i, y_scoress[j][:, i], pos_label=1)\n",
    "            auc = roc_auc_score(y_tests[j] == i, y_scoress[j][:, i])#, multi_class=\"ovr\")\n",
    "            axs[i].plot(fpr, tpr, label=f'Method {j} Class {i} vs Rest (auc = {auc:.2f})')\n",
    "\n",
    "        axs[i].plot([0,1], [0,1], 'k--') # random guess line\n",
    "        axs[i].set_xlabel('False Positive Rate')\n",
    "        axs[i].set_ylabel('True Positive Rate')\n",
    "        axs[i].legend()\n",
    "    plt.show()"
   ]
  },
  {
   "cell_type": "markdown",
   "id": "2b074c42-0e85-4d02-ab86-482d76ca8589",
   "metadata": {},
   "source": [
    "## new training pipeline\n",
    "\n",
    "\n",
    "configure so that I can pick a specific input type and threshold and included features.\n",
    "Need the ability to include multiple sets of fields from the core df. to do this, I can combine all features into one large dataframe and then pull out only the ones I need from that. Once I have this, assess the performance, and predict Dice and F1 as well, and then summarise everything that I have done and am going to do for Maria.\n",
    "I will talk about the second test using the data trained on the WMH challenge data.\n",
    "Explain the limitations of the study (I need to hyperparameter tune for example).\n",
    "Explain the comparison with the CNN results that I have done. Nice."
   ]
  },
  {
   "cell_type": "markdown",
   "id": "c6cc6c0d-4971-4bfc-aa69-8585f75f82b3",
   "metadata": {},
   "source": [
    "### collating all the input data types together"
   ]
  },
  {
   "cell_type": "code",
   "execution_count": 42,
   "id": "f3a5ae14-49d7-406e-b8b4-4c20e8415762",
   "metadata": {
    "tags": []
   },
   "outputs": [],
   "source": [
    "added_inps = [\"pred\"] + [\"pred\" for _ in range(6)] + [\"ent\" for _ in range(6)]\n",
    "added_thresholds = [0.5, 0.1, 0.2, 0.3, 0.4, 0.5, 0.6, 0.1, 0.2, 0.3, 0.4, 0.45, 0.5]\n",
    "added_fields = [pred_values] +  [all_image_extracted_fields for _ in range(len(added_inps) - 1)]\n",
    "added_fields = [f+['ID'] for f in added_fields]\n",
    "\n",
    "\n",
    "cvd_df_sel_fields = core_fields = ['ID', 'sbjGroup', 'age', 'sex',\n",
    "       'diabetes', 'hypertension', 'hyperlipidaemia', 'ICV', 'WMH', 'PVWMH', 'DWMH', 'deepAtrophy',\n",
    "       'supAtrophy', 'BGPVS', 'CSPVS', 'micrBld',\n",
    "       'smoking_0', 'smoking_1', 'smoking_2', 'total_fazekas', 'scale_fazekas',\n",
    "       'scale_pvs', 'stroke_les', 'scale_stroke', 'dice', 'f1', 'avd',\n",
    "       'recall']\n",
    "\n",
    "full_combined_df = merge_datasets(CVD_core_df[cvd_df_sel_fields], added_inps, added_thresholds, added_fields)"
   ]
  },
  {
   "cell_type": "code",
   "execution_count": 43,
   "id": "bc1f2751-4a13-4e6b-a0de-4cfcabc3896f",
   "metadata": {
    "tags": []
   },
   "outputs": [
    {
     "data": {
      "text/plain": [
       "0      0.040169\n",
       "1      0.044798\n",
       "2      0.044918\n",
       "3      0.042047\n",
       "4      0.050220\n",
       "         ...   \n",
       "243    0.048780\n",
       "244    0.046486\n",
       "245    0.050761\n",
       "246    0.043725\n",
       "247    0.041414\n",
       "Name: ent0.45_values_hist_10, Length: 248, dtype: float64"
      ]
     },
     "execution_count": 43,
     "metadata": {},
     "output_type": "execute_result"
    }
   ],
   "source": [
    "full_combined_df['ent0.45_values_hist_10']"
   ]
  },
  {
   "cell_type": "code",
   "execution_count": 44,
   "id": "9af0e22b-854b-4a57-a0c1-4739598e3bf8",
   "metadata": {
    "tags": []
   },
   "outputs": [
    {
     "name": "stdout",
     "output_type": "stream",
     "text": [
      "Index(['sbjGroup', 'age', 'sex', 'diabetes', 'hypertension', 'hyperlipidaemia',\n",
      "       'ICV', 'WMH', 'PVWMH', 'DWMH',\n",
      "       ...\n",
      "       'ent0.5_values_hist_10', 'ent0.5_values_hist_11',\n",
      "       'ent0.5_values_hist_12', 'ent0.5_values_hist_13',\n",
      "       'ent0.5_values_hist_14', 'ent0.5_values_hist_15',\n",
      "       'ent0.5_values_hist_16', 'ent0.5_values_hist_17',\n",
      "       'ent0.5_values_hist_18', 'ent0.5_values_hist_19'],\n",
      "      dtype='object', length=1133)\n"
     ]
    }
   ],
   "source": [
    "print(full_combined_df.keys())"
   ]
  },
  {
   "cell_type": "code",
   "execution_count": 45,
   "id": "ff12b02b-c541-43cf-9776-82c8c492f637",
   "metadata": {
    "tags": []
   },
   "outputs": [
    {
     "data": {
      "text/plain": [
       "Index(['Unnamed: 0', 'ID', 'sbjGroup', 'age', 'sex', 'diabetes',\n",
       "       'hypertension', 'hyperlipidaemia', 'smoking', 'SBP', 'DBP', 'totalChl',\n",
       "       'MMSE', 'ICV', 'WMH', 'PVWMH', 'DWMH', 'deepAtrophy', 'supAtrophy',\n",
       "       'BGPVS', 'CSPVS', 'relLes', 'oldLes', 'micrBld', 'smoking_0',\n",
       "       'smoking_1', 'smoking_2', 'total_fazekas', 'scale_fazekas', 'scale_pvs',\n",
       "       'scale_micrbld', 'stroke_les', 'scale_stroke', 'dice', 'f1', 'avd',\n",
       "       'recall'],\n",
       "      dtype='object')"
      ]
     },
     "execution_count": 45,
     "metadata": {},
     "output_type": "execute_result"
    }
   ],
   "source": [
    "CVD_core_df.keys()"
   ]
  },
  {
   "cell_type": "code",
   "execution_count": 46,
   "id": "61e7ce4e-d78d-414c-96e7-e550b0bb77cd",
   "metadata": {
    "tags": []
   },
   "outputs": [
    {
     "data": {
      "text/plain": [
       "array(['sbjGroup', 'age', 'sex', 'diabetes', 'hypertension',\n",
       "       'hyperlipidaemia', 'ICV', 'WMH', 'PVWMH', 'DWMH', 'deepAtrophy',\n",
       "       'supAtrophy', 'BGPVS', 'CSPVS', 'micrBld', 'smoking_0',\n",
       "       'smoking_1', 'smoking_2', 'total_fazekas', 'scale_fazekas',\n",
       "       'scale_pvs', 'stroke_les', 'scale_stroke', 'dice', 'f1', 'avd',\n",
       "       'recall', 'pred0.5_seg_volume', 'pred0.5_vent_volume',\n",
       "       'pred0.1_cc_num', 'pred0.1_cc_unsegmented_ccs',\n",
       "       'pred0.1_cc_size_mean', 'pred0.1_cc_size_std',\n",
       "       'pred0.1_cc_size_skew', 'pred0.1_cc_size_kurt',\n",
       "       'pred0.1_cc_vd_mean', 'pred0.1_cc_vd_std', 'pred0.1_cc_vd_skew',\n",
       "       'pred0.1_cc_vd_kurt', 'pred0.1_sum', 'pred0.1_mean', 'pred0.1_std',\n",
       "       'pred0.1_skew', 'pred0.1_kurtosis', 'pred0.1_prop_umap_segmented',\n",
       "       'pred0.1_prop_umap_within_expanded_seg',\n",
       "       'pred0.1_prop_seg_uncertain', 'pred0.1_dist_mean',\n",
       "       'pred0.1_dist_std', 'pred0.1_dist_skew', 'pred0.1_dist_kurt',\n",
       "       'pred0.1_dist_value_joint_0', 'pred0.1_dist_value_joint_1',\n",
       "       'pred0.1_dist_value_joint_2', 'pred0.1_dist_value_joint_3',\n",
       "       'pred0.1_dist_value_joint_4', 'pred0.1_dist_value_joint_5',\n",
       "       'pred0.1_dist_value_joint_6', 'pred0.1_dist_value_joint_7',\n",
       "       'pred0.1_dist_value_joint_8', 'pred0.1_dist_value_joint_9',\n",
       "       'pred0.1_dist_value_joint_10', 'pred0.1_dist_value_joint_11',\n",
       "       'pred0.1_dist_value_joint_12', 'pred0.1_dist_value_joint_13',\n",
       "       'pred0.1_dist_value_joint_14', 'pred0.1_dist_value_joint_15',\n",
       "       'pred0.1_dist_value_joint_16', 'pred0.1_dist_value_joint_17',\n",
       "       'pred0.1_dist_value_joint_18', 'pred0.1_dist_value_joint_19',\n",
       "       'pred0.1_dist_value_joint_20', 'pred0.1_dist_value_joint_21',\n",
       "       'pred0.1_dist_value_joint_22', 'pred0.1_dist_value_joint_23',\n",
       "       'pred0.1_dist_value_joint_24', 'pred0.1_cc_dist_value_joint_0',\n",
       "       'pred0.1_cc_dist_value_joint_1', 'pred0.1_cc_dist_value_joint_2',\n",
       "       'pred0.1_cc_dist_value_joint_3', 'pred0.1_cc_dist_value_joint_4',\n",
       "       'pred0.1_cc_dist_value_joint_5', 'pred0.1_cc_dist_value_joint_6',\n",
       "       'pred0.1_cc_dist_value_joint_7', 'pred0.1_cc_dist_value_joint_8',\n",
       "       'pred0.1_cc_dist_value_joint_9', 'pred0.1_cc_dist_value_joint_10',\n",
       "       'pred0.1_cc_dist_value_joint_11', 'pred0.1_cc_dist_value_joint_12',\n",
       "       'pred0.1_cc_dist_value_joint_13', 'pred0.1_cc_dist_value_joint_14',\n",
       "       'pred0.1_cc_dist_value_joint_15', 'pred0.1_cc_dist_value_joint_16',\n",
       "       'pred0.1_cc_dist_value_joint_17', 'pred0.1_cc_dist_value_joint_18',\n",
       "       'pred0.1_cc_dist_value_joint_19', 'pred0.1_cc_dist_value_joint_20',\n",
       "       'pred0.1_cc_dist_value_joint_21', 'pred0.1_cc_dist_value_joint_22',\n",
       "       'pred0.1_cc_dist_value_joint_23', 'pred0.1_cc_dist_value_joint_24',\n",
       "       'pred0.1_values_hist_0', 'pred0.1_values_hist_1',\n",
       "       'pred0.1_values_hist_2', 'pred0.1_values_hist_3',\n",
       "       'pred0.1_values_hist_4', 'pred0.1_values_hist_5',\n",
       "       'pred0.1_values_hist_6', 'pred0.1_values_hist_7',\n",
       "       'pred0.1_values_hist_8', 'pred0.1_values_hist_9',\n",
       "       'pred0.1_values_hist_10', 'pred0.1_values_hist_11',\n",
       "       'pred0.1_values_hist_12', 'pred0.1_values_hist_13',\n",
       "       'pred0.1_values_hist_14', 'pred0.1_values_hist_15',\n",
       "       'pred0.1_values_hist_16', 'pred0.1_values_hist_17',\n",
       "       'pred0.1_values_hist_18', 'pred0.1_values_hist_19',\n",
       "       'pred0.2_cc_num', 'pred0.2_cc_unsegmented_ccs',\n",
       "       'pred0.2_cc_size_mean', 'pred0.2_cc_size_std',\n",
       "       'pred0.2_cc_size_skew'], dtype=object)"
      ]
     },
     "execution_count": 46,
     "metadata": {},
     "output_type": "execute_result"
    }
   ],
   "source": [
    "full_combined_df.keys().values[0:126]"
   ]
  },
  {
   "cell_type": "code",
   "execution_count": 47,
   "id": "f26b2b5a-d900-422e-9b9a-14c8ca142c7e",
   "metadata": {
    "tags": []
   },
   "outputs": [],
   "source": [
    "def get_select_fields(df, fields_lists, input_types, thresholds):\n",
    "    full_fields_selection = []\n",
    "    for fieldset, t, inp in zip(fields_lists, thresholds, input_types):\n",
    "        if inp == None:\n",
    "            full_fields_selection.extend(fieldset)\n",
    "        else:\n",
    "            full_fields_selection.extend([f\"{inp}{t}_{f}\" for f in fieldset])\n",
    "    \n",
    "    df= df[full_fields_selection]\n",
    "    \n",
    "#     # Get duplicate columns names\n",
    "#     dup_cols = df.columns[df.columns.duplicated()]\n",
    "\n",
    "#     # Rename duplicate columns\n",
    "#     for x in dup_cols:\n",
    "#         cols = df.columns[df.columns.str.startswith(x)] \n",
    "#         for i in range(len(cols)):\n",
    "#             df = df.rename(columns={cols[i]: x + '_' + str(i+1)})\n",
    "            \n",
    "    return df"
   ]
  },
  {
   "cell_type": "code",
   "execution_count": 52,
   "id": "2d3119fe-209e-4cbb-bca8-85162b4c9d01",
   "metadata": {
    "tags": []
   },
   "outputs": [],
   "source": [
    "clinical_fields = ['sbjGroup', 'age', 'sex',\n",
    " 'diabetes', 'hypertension', 'hyperlipidaemia',\n",
    "       'smoking_0', 'smoking_1', 'smoking_2']\n",
    "# ICV is a bad feature that breaks things!!!\n",
    "# clinical_fields = ['age', 'sex']\n",
    "\n",
    "target_fields = ['total_fazekas', 'scale_fazekas', \n",
    "       'scale_pvs', 'stroke_les', 'scale_stroke', 'dice', 'f1', 'avd',\n",
    "       'recall', 'deepAtrophy', 'supAtrophy', 'WMH', 'PVWMH', 'DWMH', 'BGPVS', 'CSPVS','micrBld']\n",
    "\n",
    "volume_fields = ['seg_volume', 'vent_volume']\n",
    "\n",
    "inp_map_fields_1 = ['cc_num', 'cc_unsegmented_ccs', 'cc_size_mean',\n",
    "       'cc_size_std', 'cc_size_skew', 'cc_size_kurt']\n",
    "\n",
    "inp_map_fields_2 = ['cc_vd_mean', 'cc_vd_std', 'cc_vd_skew', 'cc_vd_kurt']\n",
    "\n",
    "inp_map_fields_3 = ['sum', 'mean', 'std', 'skew', 'kurtosis', 'prop_umap_segmented',\n",
    "       'prop_seg_uncertain', 'dist_mean', 'dist_std', 'dist_skew', 'dist_kurt']\n",
    "\n",
    "joint_fields = [\n",
    "    'dist_value_joint_0', 'dist_value_joint_1', 'dist_value_joint_2',\n",
    "       'dist_value_joint_3', 'dist_value_joint_4', 'dist_value_joint_5',\n",
    "       'dist_value_joint_6', 'dist_value_joint_7', 'dist_value_joint_8',\n",
    "       'dist_value_joint_9', 'dist_value_joint_10', 'dist_value_joint_11',\n",
    "       'dist_value_joint_12', 'dist_value_joint_13', 'dist_value_joint_14',\n",
    "       'dist_value_joint_15', 'dist_value_joint_16', 'dist_value_joint_17',\n",
    "       'dist_value_joint_18', 'dist_value_joint_19', 'dist_value_joint_20',\n",
    "       'dist_value_joint_21', 'dist_value_joint_22', 'dist_value_joint_23',\n",
    "       'dist_value_joint_24', 'cc_dist_value_joint_0', 'cc_dist_value_joint_1',\n",
    "       'cc_dist_value_joint_2', 'cc_dist_value_joint_3',\n",
    "       'cc_dist_value_joint_4', 'cc_dist_value_joint_5',\n",
    "       'cc_dist_value_joint_6', 'cc_dist_value_joint_7',\n",
    "       'cc_dist_value_joint_8', 'cc_dist_value_joint_9',\n",
    "       'cc_dist_value_joint_10', 'cc_dist_value_joint_11',\n",
    "       'cc_dist_value_joint_12', 'cc_dist_value_joint_13',\n",
    "       'cc_dist_value_joint_14', 'cc_dist_value_joint_15',\n",
    "       'cc_dist_value_joint_16', 'cc_dist_value_joint_17',\n",
    "       'cc_dist_value_joint_18', 'cc_dist_value_joint_19',\n",
    "       'cc_dist_value_joint_20', 'cc_dist_value_joint_21',\n",
    "       'cc_dist_value_joint_22', 'cc_dist_value_joint_23',\n",
    "       'cc_dist_value_joint_24', 'values_hist_0',\n",
    "       'values_hist_1', 'values_hist_2', 'values_hist_3', 'values_hist_4',\n",
    "       'values_hist_5', 'values_hist_6', 'values_hist_7', 'values_hist_8',\n",
    "       'values_hist_9', 'values_hist_10', 'values_hist_11', 'values_hist_12',\n",
    "       'values_hist_13', 'values_hist_14', 'values_hist_15', 'values_hist_16',\n",
    "       'values_hist_17', 'values_hist_18', 'values_hist_19'\n",
    "]\n",
    "\n",
    "extracted_fields = [inp_map_fields_1, inp_map_fields_2, inp_map_fields_3]\n",
    "\n",
    "umap_specific_fields = ['sample_div_IQR', 'sample_div_vd_IQR', 'sample_div_vd_skew']"
   ]
  },
  {
   "cell_type": "code",
   "execution_count": 54,
   "id": "e476d357-1f45-4747-a479-0df4531a6605",
   "metadata": {
    "tags": []
   },
   "outputs": [],
   "source": [
    "def load_model_df(df, model_name, pred1_t=None,pred2_t=None,pred3_t=None,ent1_t=None,ent2_t=None,ent3_t=None, pred_hists=None, ent_hists=None):\n",
    "\n",
    "    model_type = {\n",
    "        \"clinical_only\":[[target_fields, clinical_fields], [None, None], [None, None]],\n",
    "        \"c+volume\":[[target_fields, clinical_fields, volume_fields], [None, None, \"pred\"], [None, None, 0.5]],\n",
    "        \"cv_pred\":[[target_fields, clinical_fields, volume_fields, inp_map_fields_1, inp_map_fields_2, inp_map_fields_3], [None, None, \"pred\", \"pred\", \"pred\", \"pred\"], [None, None, 0.5, pred1_t, pred2_t, pred3_t]],\n",
    "        \"cv_pred0.5\": [[target_fields, clinical_fields, volume_fields, inp_map_fields_1, inp_map_fields_2, inp_map_fields_3], [None, None, \"pred\", \"pred\", \"pred\", \"pred\"], [None, None, 0.5, 0.5, 0.5, 0.5]],\n",
    "        # \"cvs_umap\":[[target_fields, clinical_fields, volume_fields, inp_map_fields_1, inp_map_fields_2, inp_map_fields_3, umap_specific_fields], [None, None, \"pred\", \"ent\", \"ent\", \"ent\", None], [None, None, 0.5, ent1_t, ent2_t, ent3_t, None]],\n",
    "        \"cv_umap\":[[target_fields, clinical_fields, volume_fields, inp_map_fields_1, inp_map_fields_2, inp_map_fields_3], [None, None, \"pred\", \"ent\", \"ent\", \"ent\"], [None, None, 0.5, ent1_t, ent2_t, ent3_t]],\n",
    "        \"cvpu\":[[target_fields, clinical_fields, volume_fields, inp_map_fields_1, inp_map_fields_2, inp_map_fields_3, inp_map_fields_1, inp_map_fields_2, inp_map_fields_3], [None, None, \"pred\", \"pred\", \"pred\", \"pred\", \"ent\", \"ent\", \"ent\"], [None, None, 0.5, pred1_t, pred2_t, pred3_t, ent1_t, ent2_t, ent3_t]],\n",
    "        \"cvp+predhists\":[[target_fields, clinical_fields, volume_fields, inp_map_fields_1, inp_map_fields_2, inp_map_fields_3, joint_fields], [None, None, \"pred\", \"pred\", \"pred\", \"pred\", \"pred\"], [None, None, 0.5, pred1_t, pred2_t, pred3_t, pred_hists]],\n",
    "        # \"cvp+samples\":[[target_fields, clinical_fields, volume_fields, inp_map_fields_1, inp_map_fields_2, inp_map_fields_3, umap_specific_fields], [None, None, \"pred\", \"pred\", \"pred\", \"pred\", None], [None, None, 0.5, pred1_t, pred2_t, pred3_t, None]],\n",
    "        # \"cvps+umap\":[[target_fields, clinical_fields, volume_fields, inp_map_fields_1, inp_map_fields_2, inp_map_fields_3, umap_specific_fields, inp_map_fields_1, inp_map_fields_2, inp_map_fields_3], [None, None, \"pred\", \"pred\", \"pred\", \"pred\", None, \"ent\", \"ent\", \"ent\"], [None, None, 0.5, pred1_t, pred2_t, pred3_t, None, ent1_t, ent2_t, ent3_t]],\n",
    "        # \"cvpsu+hists\":[[target_fields, clinical_fields, volume_fields, inp_map_fields_1, inp_map_fields_2, inp_map_fields_3, umap_specific_fields, inp_map_fields_1, inp_map_fields_2, inp_map_fields_3, joint_fields, joint_fields], [None, None, \"pred\", \"pred\", \"pred\", \"pred\", None, \"ent\", \"ent\", \"ent\", \"pred\", \"ent\"], [None, None, 0.5, pred1_t, pred2_t, pred3_t, None, ent1_t, ent2_t, ent3_t, pred_hists, ent_hists]],\n",
    "        # \"cvps+hists_double_pred\":[[target_fields, clinical_fields, volume_fields, inp_map_fields_1, inp_map_fields_2, inp_map_fields_3, umap_specific_fields, inp_map_fields_1, inp_map_fields_2, inp_map_fields_3, joint_fields, joint_fields], [None, None, \"pred\", \"pred\", \"pred\", \"pred\", None, \"pred\", \"pred\", \"pred\", \"pred\", \"pred\"], [None, None, 0.5, pred1_t, pred2_t, pred3_t, None, ent1_t, ent2_t, ent3_t, pred_hists, ent_hists]],\n",
    "        \"cvpp\":[[target_fields, clinical_fields, volume_fields, inp_map_fields_1, inp_map_fields_2, inp_map_fields_3, inp_map_fields_1, inp_map_fields_2, inp_map_fields_3], [None, None, \"pred\", \"pred\", \"pred\", \"pred\", \"pred\", \"pred\", \"pred\"], [None, None, 0.5, pred1_t, pred2_t, pred3_t, ent1_t, ent2_t, ent3_t]]\n",
    "    }\n",
    "    \n",
    "    return get_select_fields(df, *model_type[model_name])\n",
    "    "
   ]
  },
  {
   "cell_type": "code",
   "execution_count": 55,
   "id": "d18a56ab-3937-4aa5-aaaf-5956f7d9c7a2",
   "metadata": {
    "tags": []
   },
   "outputs": [],
   "source": [
    "features_df = load_model_df(full_combined_df, \"cvpu\", 0.1, 0.2, 0.3, 0.1, 0.2, 0.3, 0.1, 0.45)"
   ]
  },
  {
   "cell_type": "markdown",
   "id": "b7999bf7-7dce-46ba-bb97-96bf53861264",
   "metadata": {},
   "source": [
    "### Feature preprocessing (logging of some fields!)\n",
    "\n",
    "- rescale training data (and store rescale parameters?)\n",
    "- log some fields. Nice.\n",
    "- the stratified cross val code with new validation splitting can go here.\n",
    "- variance map is calculating a similar thing to entropy, so I shall ignore it for now.\n",
    "- colinearity test. (should do logging first I think? actually doing this before and after may return different results, lets see)"
   ]
  },
  {
   "cell_type": "code",
   "execution_count": 56,
   "id": "e8ee48c1-3b57-4058-8a03-411a71f49a8d",
   "metadata": {
    "tags": []
   },
   "outputs": [],
   "source": [
    "def shift_and_log_features(df, feature_matches, verbose=False):\n",
    "    df = df.copy()\n",
    "    for key in df.keys():\n",
    "        for f in feature_matches:\n",
    "            if f in key:\n",
    "                if verbose:\n",
    "                    print(f\"taking log of {key}\")\n",
    "                values = df[key].values\n",
    "                df[key] = np.log(values - min(values) + 0.01)\n",
    "                continue\n",
    "    return df"
   ]
  },
  {
   "cell_type": "code",
   "execution_count": 57,
   "id": "752e90e0-636e-4521-bb67-eb578c9f227b",
   "metadata": {
    "tags": []
   },
   "outputs": [],
   "source": [
    "log_feature_matches = ['sample_div', 'seg_volume', 'vent_volume', 'sum', 'mean', 'std', 'skew', 'kurt']"
   ]
  },
  {
   "cell_type": "code",
   "execution_count": 58,
   "id": "53948e09-69bc-46d6-b211-2f89e1b67434",
   "metadata": {
    "tags": []
   },
   "outputs": [],
   "source": [
    "#logged_df = shift_and_log_features(features_df, log_feature_matches, verbose=True)"
   ]
  },
  {
   "cell_type": "code",
   "execution_count": 59,
   "id": "cfdf421b-4a50-4dee-80b9-f4ce59601236",
   "metadata": {
    "tags": []
   },
   "outputs": [],
   "source": [
    "def create_minimal_correlation_keys(df, ignore_keys=None, threshold=0.8, verbose=False):\n",
    "    # we ignore the target keys when computing correlation and deciding which features to remove\n",
    "    \n",
    "    if ignore_keys != None:\n",
    "        df = df.drop(columns=ignore_keys)\n",
    "    \n",
    "    remaining_keys = list(df.keys())\n",
    "    current_keys = [remaining_keys[0]]\n",
    "    \n",
    "    for key in remaining_keys[1:]:\n",
    "        cols = df[current_keys + [key]]\n",
    "        corr = cols.corr()\n",
    "        corr_values = abs(corr[key].values[:-1])\n",
    "        corr_values[np.isnan(corr_values)] = 0 # nan correlation values are ignored (they will register as argmax so we set them to zero).\n",
    "        # print(corr_values)\n",
    "        try:\n",
    "            max_corr = max(corr_values)\n",
    "        except:\n",
    "            print(corr_values)\n",
    "        # if max_corr == 0:\n",
    "        #     print(key)\n",
    "        if max_corr > threshold:\n",
    "            if verbose:\n",
    "                print(f\"excluding {key}, max corr of {max_corr} with {list(corr.keys())[np.argmax(corr_values)]}\")\n",
    "            #print(corr[key].values)\n",
    "            continue\n",
    "        else:\n",
    "            current_keys.append(key)\n",
    "    \n",
    "    if verbose:\n",
    "        print(f\"retained keys = {len(current_keys)} (total {len(df.keys())})\")\n",
    "        \n",
    "    return current_keys\n",
    "    "
   ]
  },
  {
   "cell_type": "code",
   "execution_count": 60,
   "id": "e6009879-88ed-4205-ac23-2ae15add1862",
   "metadata": {
    "tags": []
   },
   "outputs": [
    {
     "name": "stdout",
     "output_type": "stream",
     "text": [
      "excluding pred0.1_cc_unsegmented_ccs, max corr of 0.9356151776702085 with pred0.1_cc_num\n",
      "excluding pred0.1_cc_size_mean, max corr of 0.8706773413055416 with pred0.5_seg_volume\n",
      "excluding pred0.1_cc_size_std, max corr of 0.9098556773442532 with pred0.5_seg_volume\n",
      "excluding pred0.1_cc_size_kurt, max corr of 0.9866098592888708 with pred0.1_cc_size_skew\n",
      "excluding pred0.2_cc_vd_std, max corr of 0.8889591564624066 with pred0.2_cc_vd_mean\n",
      "excluding pred0.2_cc_vd_kurt, max corr of 0.9700544511647002 with pred0.2_cc_vd_skew\n",
      "excluding pred0.3_sum, max corr of 0.9998792753217661 with pred0.5_seg_volume\n",
      "excluding pred0.3_skew, max corr of 0.9870463669553978 with pred0.3_mean\n",
      "excluding pred0.3_kurtosis, max corr of 0.8555502023515292 with pred0.5_seg_volume\n",
      "excluding pred0.3_prop_umap_segmented, max corr of 0.9884890314070917 with pred0.3_mean\n",
      "excluding pred0.3_dist_kurt, max corr of 0.9366314224977887 with pred0.3_dist_skew\n",
      "excluding ent0.1_cc_unsegmented_ccs, max corr of 0.9882666578377012 with ent0.1_cc_num\n",
      "excluding ent0.1_cc_size_std, max corr of 0.9521675168604248 with ent0.1_cc_size_mean\n",
      "excluding ent0.1_cc_size_kurt, max corr of 0.9861165749827048 with ent0.1_cc_size_skew\n",
      "excluding ent0.2_cc_vd_mean, max corr of 0.8918643499389308 with pred0.2_cc_vd_mean\n",
      "excluding ent0.2_cc_vd_std, max corr of 0.8268699878280729 with pred0.2_cc_vd_mean\n",
      "excluding ent0.2_cc_vd_kurt, max corr of 0.9744524691684465 with ent0.2_cc_vd_skew\n",
      "excluding ent0.3_sum, max corr of 0.8557914932979174 with pred0.5_seg_volume\n",
      "excluding ent0.3_skew, max corr of 0.9947331250777073 with ent0.3_mean\n",
      "excluding ent0.3_kurtosis, max corr of 0.8365615229937466 with ent0.3_std\n",
      "excluding ent0.3_prop_umap_segmented, max corr of 0.8832993115603823 with pred0.3_mean\n",
      "excluding ent0.3_prop_seg_uncertain, max corr of 0.9805791864678143 with pred0.3_mean\n",
      "excluding ent0.3_dist_mean, max corr of 0.9571519913260514 with pred0.3_dist_mean\n",
      "excluding ent0.3_dist_std, max corr of 0.9318576509985292 with pred0.3_dist_std\n",
      "excluding ent0.3_dist_skew, max corr of 0.8682242315977331 with pred0.3_dist_skew\n",
      "excluding ent0.3_dist_kurt, max corr of 0.8246772623686159 with pred0.3_dist_skew\n",
      "retained keys = 27 (total 53)\n"
     ]
    },
    {
     "data": {
      "text/plain": [
       "['sbjGroup',\n",
       " 'age',\n",
       " 'sex',\n",
       " 'diabetes',\n",
       " 'hypertension',\n",
       " 'hyperlipidaemia',\n",
       " 'smoking_0',\n",
       " 'smoking_1',\n",
       " 'smoking_2',\n",
       " 'pred0.5_seg_volume',\n",
       " 'pred0.5_vent_volume',\n",
       " 'pred0.1_cc_num',\n",
       " 'pred0.1_cc_size_skew',\n",
       " 'pred0.2_cc_vd_mean',\n",
       " 'pred0.2_cc_vd_skew',\n",
       " 'pred0.3_mean',\n",
       " 'pred0.3_std',\n",
       " 'pred0.3_prop_seg_uncertain',\n",
       " 'pred0.3_dist_mean',\n",
       " 'pred0.3_dist_std',\n",
       " 'pred0.3_dist_skew',\n",
       " 'ent0.1_cc_num',\n",
       " 'ent0.1_cc_size_mean',\n",
       " 'ent0.1_cc_size_skew',\n",
       " 'ent0.2_cc_vd_skew',\n",
       " 'ent0.3_mean',\n",
       " 'ent0.3_std']"
      ]
     },
     "execution_count": 60,
     "metadata": {},
     "output_type": "execute_result"
    }
   ],
   "source": [
    "create_minimal_correlation_keys(features_df, ignore_keys=target_fields, threshold=0.80, verbose=True)\n",
    "# create_minimal_correlation_keys(logged_df, ignore_keys=target_fields, threshold=0.80, verbose=True)"
   ]
  },
  {
   "cell_type": "markdown",
   "id": "1242bdc7-588e-4bf6-a0f6-1f0570114f95",
   "metadata": {},
   "source": [
    "### run function"
   ]
  },
  {
   "cell_type": "code",
   "execution_count": 71,
   "id": "5bb0edb1-f9d0-42ee-9b3b-3ec9dcd050f1",
   "metadata": {
    "tags": []
   },
   "outputs": [],
   "source": [
    "from sklearn.model_selection import StratifiedKFold\n",
    "from sklearn.metrics import accuracy_score, f1_score, roc_auc_score"
   ]
  },
  {
   "cell_type": "code",
   "execution_count": 72,
   "id": "551e3983-b482-4fb4-8b34-154d504ea5ad",
   "metadata": {
    "tags": []
   },
   "outputs": [],
   "source": [
    "def get_fold2(X, y, fold_num, n_splits=5, val_proportion=0.2, stratify_target=None):\n",
    "    \n",
    "    X = X.reset_index(drop=True)\n",
    "    \n",
    "    kf = StratifiedKFold(n_splits=n_splits)\n",
    "    if stratify_target == None:\n",
    "        stratify_values = y\n",
    "    else:\n",
    "        stratify_values = X[stratify_target]\n",
    "\n",
    "    for i, (train_idx, test_idx) in enumerate(kf.split(X, stratify_values)):\n",
    "        if i == fold_num:\n",
    "            train_X = X.iloc[train_idx]\n",
    "            train_y = y[train_idx]\n",
    "            test_X = X.iloc[test_idx]\n",
    "            test_y = y[test_idx]\n",
    "            break\n",
    "        \n",
    "    train_X = train_X.reset_index(drop=True)\n",
    "\n",
    "    if val_proportion > 0:\n",
    "        kf_val = StratifiedKFold(n_splits=int(1//val_proportion))\n",
    "        if stratify_target == None:\n",
    "            stratify_values = train_y\n",
    "        else:\n",
    "            stratify_values = train_X[stratify_target]\n",
    "\n",
    "        for i, (train_idx, val_idx) in enumerate(kf_val.split(train_X, stratify_values)):\n",
    "            if i == 0:\n",
    "                val_X = train_X.iloc[val_idx]\n",
    "                val_y = train_y[val_idx]\n",
    "                train_X = train_X.iloc[train_idx]\n",
    "                train_y = train_y[train_idx]\n",
    "\n",
    "                break\n",
    "\n",
    "        if stratify_target != None:\n",
    "            train_X = train_X.drop(columns=stratify_target)\n",
    "            val_X = val_X.drop(columns=stratify_target)\n",
    "            test_X = test_X.drop(columns=stratify_target)\n",
    "\n",
    "        return (train_X, train_y), (test_X, test_y), (val_X, val_y)\n",
    "    \n",
    "    else:\n",
    "        if stratify_target != None:\n",
    "            train_X = train_X.drop(columns=stratify_target)\n",
    "            test_X = test_X.drop(columns=stratify_target)\n",
    "\n",
    "        return (train_X, train_y), (test_X, test_y), (test_X, test_y) # just return the test set as a dummy val in the val prop = 0 case."
   ]
  },
  {
   "cell_type": "code",
   "execution_count": 73,
   "id": "a11d9a12-fa4a-494a-9fcc-b3ce29a0a316",
   "metadata": {
    "tags": []
   },
   "outputs": [],
   "source": [
    "\n",
    "Xs, ys = extract_Xy(full_combined_df, \"DWMH\", False, kept_column=None, label_categories=target_fields)\n",
    "(trax, tray), (tex, tey), (vx, vy) = get_fold2(Xs, ys, fold_num=2, n_splits=12, val_proportion=0.08, stratify_target=None)"
   ]
  },
  {
   "cell_type": "code",
   "execution_count": 74,
   "id": "f417fab2-6ca2-4eb4-bfbf-b6b5a6cf22d0",
   "metadata": {
    "tags": []
   },
   "outputs": [],
   "source": [
    "from collections import defaultdict\n",
    "\n",
    "class VPrint():\n",
    "    def __init__(self, verbose=True):\n",
    "        self.verbose = verbose\n",
    "    def __call__(self, *prompts):\n",
    "        if self.verbose:\n",
    "            print(*prompts)\n",
    "        # else do nothing.\n",
    "\n",
    "def run_prediction_new(df, model_type, thresholds_dict, clf, n_splits=5, val_proportion=0.25, target=\"DWMH\", label_categories=target_fields, stratify_target=None, \n",
    "                   rescale=True, predict_val=True, verbose=False, metric='accuracy', do_log=False, log_feature_matches=None, \n",
    "                   rem_colinear_feats=False, colinear_threshold=0.8, colinear_ignores=target_fields, regression=False):\n",
    "    \n",
    "    df = df.copy() # just to make sure I don't accidently modify the original at any point.\n",
    "    \n",
    "    vprint = VPrint(verbose)\n",
    "    vprint(model_type)\n",
    "    \n",
    "    # create the training data df\n",
    "    df = load_model_df(df, model_type, **thresholds_dict)\n",
    "    \n",
    "    # run preprocessing on the data\n",
    "    #df = shuffle(df)\n",
    "    #print(df.keys().values)\n",
    "    if do_log:\n",
    "        df = shift_and_log_features(df, log_feature_matches, verbose=verbose)\n",
    "    if rem_colinear_feats:\n",
    "        remaining_keys = create_minimal_correlation_keys(df, ignore_keys=colinear_ignores, threshold=colinear_threshold, verbose=verbose)\n",
    "        df = df[remaining_keys + colinear_ignores]\n",
    "    X, y = extract_Xy(df, target, verbose, kept_column=stratify_target, label_categories=label_categories)\n",
    "    X = X.reset_index()\n",
    "    vprint(X.keys())\n",
    "    # print(X.shape)\n",
    "    \n",
    "    all_results = []\n",
    "    for fold_num in range(n_splits):\n",
    "        (X_train, y_train), (X_test, y_test), (X_val, y_val) = get_fold2(X, y, fold_num=fold_num, n_splits=n_splits, val_proportion=val_proportion, stratify_target=stratify_target)\n",
    "        if rescale:\n",
    "            rescaler = Rescaler()\n",
    "            rescaler.fit(X_train)\n",
    "            X_train = rescaler.predict(X_train)\n",
    "            X_test = rescaler.predict(X_test)\n",
    "            X_val = rescaler.predict(X_val)\n",
    "\n",
    "        # print(len(X_train), len(X_val), len(X_test))\n",
    "\n",
    "        # train model\n",
    "        # vprint(X_train.keys().values)\n",
    "        clf.fit(X_train, y_train)\n",
    "\n",
    "        # evaluate model performance and return predictions\n",
    "        if predict_val == None:\n",
    "            X_target = X_train\n",
    "            y_target = y_train\n",
    "        elif predict_val:\n",
    "            X_target = X_val\n",
    "            y_target = y_val\n",
    "        else:\n",
    "            X_target = X_test\n",
    "            y_target = y_test\n",
    "\n",
    "        y_hat = clf.predict(X_target)\n",
    "        \n",
    "        if not regression:\n",
    "            y_pred = clf.predict_proba(X_target)\n",
    "\n",
    "        if metric == \"accuracy\":\n",
    "            accuracy = accuracy_score(y_target, y_hat)\n",
    "            # print(accuracy)\n",
    "            accuracy = (y_hat == y_target).mean()\n",
    "            # print(accuracy)\n",
    "        \n",
    "            class_preds = defaultdict(list)\n",
    "            for yi in range(len(y_target)):\n",
    "                yi_gt = y_target[yi]\n",
    "                yi_hat = y_hat[yi]\n",
    "                class_preds[yi_gt].append(yi_hat)\n",
    "            # print(class_preds)\n",
    "            class_preds = {yi: torch.Tensor(preds) for (yi, preds) in class_preds.items()}\n",
    "            # print(class_preds)\n",
    "            class_accs = [(preds == yi).sum().item()/preds.shape[0] for (yi, preds) in class_preds.items()]\n",
    "            balanced_accuracy = torch.Tensor(class_accs).mean().item()\n",
    "        \n",
    "            vprint(accuracy, balanced_accuracy)\n",
    "            results= ((accuracy, balanced_accuracy, y_target, y_hat, y_pred))\n",
    "            vprint(\"\\n----\")\n",
    "            #print(\"here\")\n",
    "            \n",
    "        elif metric == \"rmse\":\n",
    "            rmse = np.sqrt(np.mean(np.square(y_target - y_hat)))\n",
    "            #residual_standard_error = \n",
    "            results = (rmse, rmse, y_target, y_hat)\n",
    "\n",
    "        elif metric == \"f1\":\n",
    "            f1 = f1_score(y_target, y_hat, average='macro')\n",
    "            vprint(f1)\n",
    "            results = ((f1, f1, y_target, y_hat, y_pred))\n",
    "\n",
    "        elif metric == \"roc_auc\":\n",
    "            # print(np.unique(y_target))\n",
    "            auc_roc = roc_auc_score(y_target, y_pred, multi_class='ovr')\n",
    "            results = ((auc_roc, auc_roc, y_target, y_hat, y_pred))\n",
    "\n",
    "        all_results.append(results)\n",
    "        # print(y_target)\n",
    "        # print(\"---\")\n",
    "        # print(y_hat)\n",
    "    # print(len(all_results))\n",
    "    return [\n",
    "        torch.Tensor([all_results[k][0] for k in range(len(all_results))]).mean(),\n",
    "        torch.Tensor([all_results[k][1] for k in range(len(all_results))]).mean() ,\n",
    "        torch.cat([torch.Tensor(all_results[k][2]) for k in range(len(all_results))]),\n",
    "        torch.cat([torch.Tensor(all_results[k][3]) for k in range(len(all_results))])\n",
    "    ]"
   ]
  },
  {
   "cell_type": "code",
   "execution_count": 75,
   "id": "50849bfd-696f-40af-a764-eccee825f193",
   "metadata": {
    "tags": []
   },
   "outputs": [],
   "source": [
    "from sklearn.neural_network import MLPClassifier\n",
    "from sklearn.linear_model import LinearRegression"
   ]
  },
  {
   "cell_type": "code",
   "execution_count": 81,
   "id": "0bc9e3fe-c8b0-49c4-9d92-ab668cafbcab",
   "metadata": {
    "tags": []
   },
   "outputs": [
    {
     "name": "stdout",
     "output_type": "stream",
     "text": [
      "clinical_only, 0.31, 0.39\n",
      "c+volume, 0.55, 0.6\n",
      "cv_pred, 0.63, 0.66\n",
      "cv_umap, 0.65, 0.65\n",
      "cvpu, 0.66, 0.63\n"
     ]
    }
   ],
   "source": [
    "clf = LogisticRegression(penalty='l2', dual=False, tol=0.1, C=0.1, fit_intercept=True, intercept_scaling=1, class_weight='balanced', \n",
    "                         random_state=None, solver='lbfgs', max_iter=500, multi_class='multinomial', verbose=0, warm_start=False, n_jobs=None, l1_ratio=None)\n",
    "# clf = MLPClassifier(hidden_layer_sizes=(20,), activation='relu', solver='lbfgs', alpha=0.0001, batch_size='auto', learning_rate='constant', learning_rate_init=0.0001, power_t=0.5, max_iter=1000, shuffle=True, \n",
    "#                                            random_state=None, tol=0.0001, verbose=False, warm_start=False, momentum=0.9, nesterovs_momentum=True, early_stopping=False, validation_fraction=0.1, beta_1=0.9, beta_2=0.999, \n",
    "#                                            epsilon=1e-08, n_iter_no_change=10, max_fun=15000)\n",
    "\n",
    "# clf = LinearRegression()\n",
    "\n",
    "entt=0.3\n",
    "predt=0.3\n",
    "thresholds = {\n",
    "    \"ent1_t\":entt,\"ent2_t\":entt,\"ent3_t\":entt,\"pred1_t\":predt,\"pred2_t\":predt,\"pred3_t\":predt, \"pred_hists\":predt, \"ent_hists\":entt\n",
    "}\n",
    "\n",
    "\n",
    "# model_types = [\"clinical_only\",\"c+volume\",\"cv_pred\",\"cvp+predhists\",\"cvp+samples\",\"cvps+umap\",\"cvpsu+hists\", \"cvps+hists_double_pred\", \"cvpp\", \"cv_umap\"]\n",
    "model_types = [\"clinical_only\",\"c+volume\",\"cv_pred\", \"cv_umap\", \"cvpu\"]#, \"cvpp\"]\n",
    "\n",
    "# model_types = [\"cvpsu+hists\"]\n",
    "\n",
    "log_feature_matches = ['sample_div', 'seg_volume', 'vent_volume', 'sum', 'mean', 'std', 'skew', 'kurt']\n",
    "\n",
    "S = 12\n",
    "for model_type in model_types:\n",
    "    if model_type == \"cvpp\":\n",
    "        if entt == predt or entt==0.45:\n",
    "            print(\"skipping cvpp due to parameters\")\n",
    "            continue\n",
    "    results_acc = []\n",
    "    results_balacc = []\n",
    "    # for fn in range(S):\n",
    "    results = run_prediction_new(full_combined_df, model_type, thresholds, clf, n_splits=S, val_proportion=0.1, target=\"PVWMH\", stratify_target=None, \n",
    "                   rescale=True, predict_val=False, verbose=False, metric='accuracy', do_log=False, log_feature_matches=log_feature_matches, \n",
    "                   rem_colinear_feats=True, colinear_threshold=0.7, colinear_ignores=target_fields, regression=False)\n",
    "    # results = run_prediction_new(full_combined_df, model_type, thresholds, clf, n_splits=S, val_proportion=0.1, target=\"dice\", stratify_target=\"DWMH\", \n",
    "    #                rescale=True, predict_val=False, verbose=False, metric='mae', do_log=False, log_feature_matches=log_feature_matches, \n",
    "    #                rem_colinear_feats=True, colinear_threshold=0.7, colinear_ignores=target_fields, regression=True)\n",
    "    print(f\"{model_type}, {results[0]:.2}, {results[1]:.2}\")"
   ]
  },
  {
   "cell_type": "code",
   "execution_count": 82,
   "id": "ba174aa3-533c-42c6-bd11-6993cb4b3c7a",
   "metadata": {
    "tags": []
   },
   "outputs": [],
   "source": [
    "# lets grid search on PVWMH and then copy all the parameters across. nice."
   ]
  },
  {
   "cell_type": "markdown",
   "id": "88a3c8b6-5cbe-416e-bb6d-802d78a030b5",
   "metadata": {},
   "source": [
    "### Tuning for PVWMH"
   ]
  },
  {
   "cell_type": "code",
   "execution_count": 83,
   "id": "db050604-fa20-4cd4-bdb0-d96fe41bbba9",
   "metadata": {
    "tags": []
   },
   "outputs": [],
   "source": [
    "# clf = LogisticRegression(penalty='l2', dual=False, tol=0.1, C=0.1, fit_intercept=True, intercept_scaling=1, class_weight='balanced', \n",
    "#                          random_state=None, solver='lbfgs', max_iter=500, multi_class='multinomial', verbose=0, warm_start=False, n_jobs=None, l1_ratio=None)\n",
    "# model_type = \"cvs_umap\"\n",
    "\n",
    "# log_feature_matches = ['sample_div', 'seg_volume', 'vent_volume', 'sum', 'mean', 'std', 'skew', 'kurt']\n",
    "\n",
    "# configs = []\n",
    "# for ent1 in [0.1, 0.3, 0.45, 0.5]:\n",
    "#     for ent2 in [0.1, 0.3, 0.45, 0.5]:\n",
    "#         for ent3 in [0.1, 0.3, 0.45, 0.5]:\n",
    "#             for thresh in [0.6, 0.7, 0.8, 0.9]:\n",
    "#                 configs.append((f\"e1:{ent1}_e2:{ent2}_e3:{ent3}_thresh:{thresh}\", ent1, ent2, ent3, thresh))\n",
    "\n",
    "# S = 12\n",
    "# cv_results_ent = {}\n",
    "# for (config_name, ent1, ent2, ent3, thresh) in configs:\n",
    "#     thresholds = {\n",
    "#         \"ent1_t\":ent1,\"ent2_t\":ent2,\"ent3_t\":ent3\n",
    "#     }\n",
    "#     results = run_prediction_new(full_combined_df, model_type, thresholds, clf, n_splits=S, val_proportion=0.1, target=\"PVWMH\", stratify_target=None, \n",
    "#                    rescale=True, predict_val=True, verbose=False, metric='accuracy', do_log=False, log_feature_matches=log_feature_matches, \n",
    "#                    rem_colinear_feats=True, colinear_threshold=thresh, colinear_ignores=target_fields, regression=False)\n",
    "#     print(f\"{config_name}, {results[0]:.2}, {results[1]:.2}\")\n",
    "#     cv_results_ent[config_name] = [results[0], results[1]]"
   ]
  },
  {
   "cell_type": "code",
   "execution_count": 84,
   "id": "c7265555-b8eb-4ddb-8107-a98177aa608b",
   "metadata": {
    "tags": []
   },
   "outputs": [
    {
     "name": "stdout",
     "output_type": "stream",
     "text": [
      "p1:0.1_p2:0.1_p3:0.1_thresh:0.6, 0.67, 0.7\n",
      "p1:0.1_p2:0.1_p3:0.1_thresh:0.7, 0.64, 0.69\n",
      "p1:0.1_p2:0.1_p3:0.1_thresh:0.8, 0.65, 0.7\n",
      "p1:0.1_p2:0.1_p3:0.1_thresh:0.9, 0.65, 0.7\n",
      "p1:0.1_p2:0.1_p3:0.3_thresh:0.6, 0.57, 0.66\n",
      "p1:0.1_p2:0.1_p3:0.3_thresh:0.7, 0.68, 0.71\n",
      "p1:0.1_p2:0.1_p3:0.3_thresh:0.8, 0.68, 0.71\n"
     ]
    },
    {
     "ename": "KeyboardInterrupt",
     "evalue": "",
     "output_type": "error",
     "traceback": [
      "\u001b[0;31m---------------------------------------------------------------------------\u001b[0m",
      "\u001b[0;31mKeyboardInterrupt\u001b[0m                         Traceback (most recent call last)",
      "Cell \u001b[0;32mIn[84], line 20\u001b[0m\n\u001b[1;32m     16\u001b[0m \u001b[38;5;28;01mfor\u001b[39;00m (config_name, pred1, pred2, pred3, thresh) \u001b[38;5;129;01min\u001b[39;00m configs:\n\u001b[1;32m     17\u001b[0m     thresholds \u001b[38;5;241m=\u001b[39m {\n\u001b[1;32m     18\u001b[0m         \u001b[38;5;124m\"\u001b[39m\u001b[38;5;124mpred1_t\u001b[39m\u001b[38;5;124m\"\u001b[39m:pred1,\u001b[38;5;124m\"\u001b[39m\u001b[38;5;124mpred2_t\u001b[39m\u001b[38;5;124m\"\u001b[39m:pred2,\u001b[38;5;124m\"\u001b[39m\u001b[38;5;124mpred3_t\u001b[39m\u001b[38;5;124m\"\u001b[39m:pred3\n\u001b[1;32m     19\u001b[0m     }\n\u001b[0;32m---> 20\u001b[0m     results \u001b[38;5;241m=\u001b[39m \u001b[43mrun_prediction_new\u001b[49m\u001b[43m(\u001b[49m\u001b[43mfull_combined_df\u001b[49m\u001b[43m,\u001b[49m\u001b[43m \u001b[49m\u001b[43mmodel_type\u001b[49m\u001b[43m,\u001b[49m\u001b[43m \u001b[49m\u001b[43mthresholds\u001b[49m\u001b[43m,\u001b[49m\u001b[43m \u001b[49m\u001b[43mclf\u001b[49m\u001b[43m,\u001b[49m\u001b[43m \u001b[49m\u001b[43mn_splits\u001b[49m\u001b[38;5;241;43m=\u001b[39;49m\u001b[43mS\u001b[49m\u001b[43m,\u001b[49m\u001b[43m \u001b[49m\u001b[43mval_proportion\u001b[49m\u001b[38;5;241;43m=\u001b[39;49m\u001b[38;5;241;43m0.1\u001b[39;49m\u001b[43m,\u001b[49m\u001b[43m \u001b[49m\u001b[43mtarget\u001b[49m\u001b[38;5;241;43m=\u001b[39;49m\u001b[38;5;124;43m\"\u001b[39;49m\u001b[38;5;124;43mPVWMH\u001b[39;49m\u001b[38;5;124;43m\"\u001b[39;49m\u001b[43m,\u001b[49m\u001b[43m \u001b[49m\u001b[43mstratify_target\u001b[49m\u001b[38;5;241;43m=\u001b[39;49m\u001b[38;5;28;43;01mNone\u001b[39;49;00m\u001b[43m,\u001b[49m\u001b[43m \u001b[49m\n\u001b[1;32m     21\u001b[0m \u001b[43m                   \u001b[49m\u001b[43mrescale\u001b[49m\u001b[38;5;241;43m=\u001b[39;49m\u001b[38;5;28;43;01mTrue\u001b[39;49;00m\u001b[43m,\u001b[49m\u001b[43m \u001b[49m\u001b[43mpredict_val\u001b[49m\u001b[38;5;241;43m=\u001b[39;49m\u001b[38;5;28;43;01mTrue\u001b[39;49;00m\u001b[43m,\u001b[49m\u001b[43m \u001b[49m\u001b[43mverbose\u001b[49m\u001b[38;5;241;43m=\u001b[39;49m\u001b[38;5;28;43;01mFalse\u001b[39;49;00m\u001b[43m,\u001b[49m\u001b[43m \u001b[49m\u001b[43mmetric\u001b[49m\u001b[38;5;241;43m=\u001b[39;49m\u001b[38;5;124;43m'\u001b[39;49m\u001b[38;5;124;43maccuracy\u001b[39;49m\u001b[38;5;124;43m'\u001b[39;49m\u001b[43m,\u001b[49m\u001b[43m \u001b[49m\u001b[43mdo_log\u001b[49m\u001b[38;5;241;43m=\u001b[39;49m\u001b[38;5;28;43;01mFalse\u001b[39;49;00m\u001b[43m,\u001b[49m\u001b[43m \u001b[49m\u001b[43mlog_feature_matches\u001b[49m\u001b[38;5;241;43m=\u001b[39;49m\u001b[43mlog_feature_matches\u001b[49m\u001b[43m,\u001b[49m\u001b[43m \u001b[49m\n\u001b[1;32m     22\u001b[0m \u001b[43m                   \u001b[49m\u001b[43mrem_colinear_feats\u001b[49m\u001b[38;5;241;43m=\u001b[39;49m\u001b[38;5;28;43;01mTrue\u001b[39;49;00m\u001b[43m,\u001b[49m\u001b[43m \u001b[49m\u001b[43mcolinear_threshold\u001b[49m\u001b[38;5;241;43m=\u001b[39;49m\u001b[43mthresh\u001b[49m\u001b[43m,\u001b[49m\u001b[43m \u001b[49m\u001b[43mcolinear_ignores\u001b[49m\u001b[38;5;241;43m=\u001b[39;49m\u001b[43mtarget_fields\u001b[49m\u001b[43m,\u001b[49m\u001b[43m \u001b[49m\u001b[43mregression\u001b[49m\u001b[38;5;241;43m=\u001b[39;49m\u001b[38;5;28;43;01mFalse\u001b[39;49;00m\u001b[43m)\u001b[49m\n\u001b[1;32m     23\u001b[0m     \u001b[38;5;28mprint\u001b[39m(\u001b[38;5;124mf\u001b[39m\u001b[38;5;124m\"\u001b[39m\u001b[38;5;132;01m{\u001b[39;00mconfig_name\u001b[38;5;132;01m}\u001b[39;00m\u001b[38;5;124m, \u001b[39m\u001b[38;5;132;01m{\u001b[39;00mresults[\u001b[38;5;241m0\u001b[39m]\u001b[38;5;132;01m:\u001b[39;00m\u001b[38;5;124m.2\u001b[39m\u001b[38;5;132;01m}\u001b[39;00m\u001b[38;5;124m, \u001b[39m\u001b[38;5;132;01m{\u001b[39;00mresults[\u001b[38;5;241m1\u001b[39m]\u001b[38;5;132;01m:\u001b[39;00m\u001b[38;5;124m.2\u001b[39m\u001b[38;5;132;01m}\u001b[39;00m\u001b[38;5;124m\"\u001b[39m)\n\u001b[1;32m     24\u001b[0m     cv_results_pred[config_name] \u001b[38;5;241m=\u001b[39m [results[\u001b[38;5;241m0\u001b[39m], results[\u001b[38;5;241m1\u001b[39m]]\n",
      "Cell \u001b[0;32mIn[74], line 42\u001b[0m, in \u001b[0;36mrun_prediction_new\u001b[0;34m(df, model_type, thresholds_dict, clf, n_splits, val_proportion, target, label_categories, stratify_target, rescale, predict_val, verbose, metric, do_log, log_feature_matches, rem_colinear_feats, colinear_threshold, colinear_ignores, regression)\u001b[0m\n\u001b[1;32m     40\u001b[0m rescaler \u001b[38;5;241m=\u001b[39m Rescaler()\n\u001b[1;32m     41\u001b[0m rescaler\u001b[38;5;241m.\u001b[39mfit(X_train)\n\u001b[0;32m---> 42\u001b[0m X_train \u001b[38;5;241m=\u001b[39m \u001b[43mrescaler\u001b[49m\u001b[38;5;241;43m.\u001b[39;49m\u001b[43mpredict\u001b[49m\u001b[43m(\u001b[49m\u001b[43mX_train\u001b[49m\u001b[43m)\u001b[49m\n\u001b[1;32m     43\u001b[0m X_test \u001b[38;5;241m=\u001b[39m rescaler\u001b[38;5;241m.\u001b[39mpredict(X_test)\n\u001b[1;32m     44\u001b[0m X_val \u001b[38;5;241m=\u001b[39m rescaler\u001b[38;5;241m.\u001b[39mpredict(X_val)\n",
      "Cell \u001b[0;32mIn[27], line 14\u001b[0m, in \u001b[0;36mRescaler.predict\u001b[0;34m(self, X)\u001b[0m\n\u001b[1;32m     12\u001b[0m X \u001b[38;5;241m=\u001b[39m X\u001b[38;5;241m.\u001b[39mcopy()\n\u001b[1;32m     13\u001b[0m \u001b[38;5;28;01mfor\u001b[39;00m key, mean, std \u001b[38;5;129;01min\u001b[39;00m \u001b[38;5;28mself\u001b[39m\u001b[38;5;241m.\u001b[39mnorm_parameters:\n\u001b[0;32m---> 14\u001b[0m     \u001b[43mX\u001b[49m\u001b[43m[\u001b[49m\u001b[43mkey\u001b[49m\u001b[43m]\u001b[49m \u001b[38;5;241m=\u001b[39m (X[key] \u001b[38;5;241m-\u001b[39m mean) \u001b[38;5;241m/\u001b[39m std\n\u001b[1;32m     16\u001b[0m \u001b[38;5;28;01mreturn\u001b[39;00m X\n",
      "File \u001b[0;32m~/miniconda3/envs/wmh/lib/python3.8/site-packages/pandas/core/frame.py:3950\u001b[0m, in \u001b[0;36mDataFrame.__setitem__\u001b[0;34m(self, key, value)\u001b[0m\n\u001b[1;32m   3947\u001b[0m     \u001b[38;5;28mself\u001b[39m\u001b[38;5;241m.\u001b[39m_setitem_array([key], value)\n\u001b[1;32m   3948\u001b[0m \u001b[38;5;28;01melse\u001b[39;00m:\n\u001b[1;32m   3949\u001b[0m     \u001b[38;5;66;03m# set column\u001b[39;00m\n\u001b[0;32m-> 3950\u001b[0m     \u001b[38;5;28;43mself\u001b[39;49m\u001b[38;5;241;43m.\u001b[39;49m\u001b[43m_set_item\u001b[49m\u001b[43m(\u001b[49m\u001b[43mkey\u001b[49m\u001b[43m,\u001b[49m\u001b[43m \u001b[49m\u001b[43mvalue\u001b[49m\u001b[43m)\u001b[49m\n",
      "File \u001b[0;32m~/miniconda3/envs/wmh/lib/python3.8/site-packages/pandas/core/frame.py:4156\u001b[0m, in \u001b[0;36mDataFrame._set_item\u001b[0;34m(self, key, value)\u001b[0m\n\u001b[1;32m   4153\u001b[0m         \u001b[38;5;28;01mif\u001b[39;00m \u001b[38;5;28misinstance\u001b[39m(existing_piece, DataFrame):\n\u001b[1;32m   4154\u001b[0m             value \u001b[38;5;241m=\u001b[39m np\u001b[38;5;241m.\u001b[39mtile(value, (\u001b[38;5;28mlen\u001b[39m(existing_piece\u001b[38;5;241m.\u001b[39mcolumns), \u001b[38;5;241m1\u001b[39m))\u001b[38;5;241m.\u001b[39mT\n\u001b[0;32m-> 4156\u001b[0m \u001b[38;5;28;43mself\u001b[39;49m\u001b[38;5;241;43m.\u001b[39;49m\u001b[43m_set_item_mgr\u001b[49m\u001b[43m(\u001b[49m\u001b[43mkey\u001b[49m\u001b[43m,\u001b[49m\u001b[43m \u001b[49m\u001b[43mvalue\u001b[49m\u001b[43m)\u001b[49m\n",
      "File \u001b[0;32m~/miniconda3/envs/wmh/lib/python3.8/site-packages/pandas/core/frame.py:4115\u001b[0m, in \u001b[0;36mDataFrame._set_item_mgr\u001b[0;34m(self, key, value)\u001b[0m\n\u001b[1;32m   4113\u001b[0m     \u001b[38;5;28mself\u001b[39m\u001b[38;5;241m.\u001b[39m_mgr\u001b[38;5;241m.\u001b[39minsert(\u001b[38;5;28mlen\u001b[39m(\u001b[38;5;28mself\u001b[39m\u001b[38;5;241m.\u001b[39m_info_axis), key, value)\n\u001b[1;32m   4114\u001b[0m \u001b[38;5;28;01melse\u001b[39;00m:\n\u001b[0;32m-> 4115\u001b[0m     \u001b[38;5;28;43mself\u001b[39;49m\u001b[38;5;241;43m.\u001b[39;49m\u001b[43m_iset_item_mgr\u001b[49m\u001b[43m(\u001b[49m\u001b[43mloc\u001b[49m\u001b[43m,\u001b[49m\u001b[43m \u001b[49m\u001b[43mvalue\u001b[49m\u001b[43m)\u001b[49m\n\u001b[1;32m   4117\u001b[0m \u001b[38;5;66;03m# check if we are modifying a copy\u001b[39;00m\n\u001b[1;32m   4118\u001b[0m \u001b[38;5;66;03m# try to set first as we want an invalid\u001b[39;00m\n\u001b[1;32m   4119\u001b[0m \u001b[38;5;66;03m# value exception to occur first\u001b[39;00m\n\u001b[1;32m   4120\u001b[0m \u001b[38;5;28;01mif\u001b[39;00m \u001b[38;5;28mlen\u001b[39m(\u001b[38;5;28mself\u001b[39m):\n",
      "File \u001b[0;32m~/miniconda3/envs/wmh/lib/python3.8/site-packages/pandas/core/frame.py:4105\u001b[0m, in \u001b[0;36mDataFrame._iset_item_mgr\u001b[0;34m(self, loc, value, inplace)\u001b[0m\n\u001b[1;32m   4101\u001b[0m \u001b[38;5;28;01mdef\u001b[39;00m \u001b[38;5;21m_iset_item_mgr\u001b[39m(\n\u001b[1;32m   4102\u001b[0m     \u001b[38;5;28mself\u001b[39m, loc: \u001b[38;5;28mint\u001b[39m \u001b[38;5;241m|\u001b[39m \u001b[38;5;28mslice\u001b[39m \u001b[38;5;241m|\u001b[39m np\u001b[38;5;241m.\u001b[39mndarray, value, inplace: \u001b[38;5;28mbool\u001b[39m \u001b[38;5;241m=\u001b[39m \u001b[38;5;28;01mFalse\u001b[39;00m\n\u001b[1;32m   4103\u001b[0m ) \u001b[38;5;241m-\u001b[39m\u001b[38;5;241m>\u001b[39m \u001b[38;5;28;01mNone\u001b[39;00m:\n\u001b[1;32m   4104\u001b[0m     \u001b[38;5;66;03m# when called from _set_item_mgr loc can be anything returned from get_loc\u001b[39;00m\n\u001b[0;32m-> 4105\u001b[0m     \u001b[38;5;28;43mself\u001b[39;49m\u001b[38;5;241;43m.\u001b[39;49m\u001b[43m_mgr\u001b[49m\u001b[38;5;241;43m.\u001b[39;49m\u001b[43miset\u001b[49m\u001b[43m(\u001b[49m\u001b[43mloc\u001b[49m\u001b[43m,\u001b[49m\u001b[43m \u001b[49m\u001b[43mvalue\u001b[49m\u001b[43m,\u001b[49m\u001b[43m \u001b[49m\u001b[43minplace\u001b[49m\u001b[38;5;241;43m=\u001b[39;49m\u001b[43minplace\u001b[49m\u001b[43m)\u001b[49m\n\u001b[1;32m   4106\u001b[0m     \u001b[38;5;28mself\u001b[39m\u001b[38;5;241m.\u001b[39m_clear_item_cache()\n",
      "File \u001b[0;32m~/miniconda3/envs/wmh/lib/python3.8/site-packages/pandas/core/internals/managers.py:1200\u001b[0m, in \u001b[0;36mBlockManager.iset\u001b[0;34m(self, loc, value, inplace)\u001b[0m\n\u001b[1;32m   1198\u001b[0m \u001b[38;5;66;03m# Accessing public blknos ensures the public versions are initialized\u001b[39;00m\n\u001b[1;32m   1199\u001b[0m blknos \u001b[38;5;241m=\u001b[39m \u001b[38;5;28mself\u001b[39m\u001b[38;5;241m.\u001b[39mblknos[loc]\n\u001b[0;32m-> 1200\u001b[0m blklocs \u001b[38;5;241m=\u001b[39m \u001b[38;5;28;43mself\u001b[39;49m\u001b[38;5;241;43m.\u001b[39;49m\u001b[43mblklocs\u001b[49m\u001b[43m[\u001b[49m\u001b[43mloc\u001b[49m\u001b[43m]\u001b[49m\u001b[38;5;241m.\u001b[39mcopy()\n\u001b[1;32m   1202\u001b[0m unfit_mgr_locs \u001b[38;5;241m=\u001b[39m []\n\u001b[1;32m   1203\u001b[0m unfit_val_locs \u001b[38;5;241m=\u001b[39m []\n",
      "\u001b[0;31mKeyboardInterrupt\u001b[0m: "
     ]
    }
   ],
   "source": [
    "clf = LogisticRegression(penalty='l2', dual=False, tol=0.1, C=0.1, fit_intercept=True, intercept_scaling=1, class_weight='balanced', \n",
    "                         random_state=None, solver='lbfgs', max_iter=500, multi_class='multinomial', verbose=0, warm_start=False, n_jobs=None, l1_ratio=None)\n",
    "model_type = \"cv_pred\"\n",
    "\n",
    "log_feature_matches = ['sample_div', 'seg_volume', 'vent_volume', 'sum', 'mean', 'std', 'skew', 'kurt']\n",
    "\n",
    "configs = []\n",
    "for pred1 in [0.1, 0.3, 0.4, 0.5, 0.6]:\n",
    "    for pred2 in [0.1, 0.3, 0.4, 0.5, 0.6]:\n",
    "        for pred3 in [0.1, 0.3, 0.4, 0.5, 0.6]:\n",
    "            for thresh in [0.6, 0.7, 0.8, 0.9]:\n",
    "                configs.append((f\"p1:{pred1}_p2:{pred2}_p3:{pred3}_thresh:{thresh}\", pred1, pred2, pred3, thresh))\n",
    "\n",
    "S = 12\n",
    "cv_results_pred = {}\n",
    "for (config_name, pred1, pred2, pred3, thresh) in configs:\n",
    "    thresholds = {\n",
    "        \"pred1_t\":pred1,\"pred2_t\":pred2,\"pred3_t\":pred3\n",
    "    }\n",
    "    results = run_prediction_new(full_combined_df, model_type, thresholds, clf, n_splits=S, val_proportion=0.1, target=\"PVWMH\", stratify_target=None, \n",
    "                   rescale=True, predict_val=True, verbose=False, metric='accuracy', do_log=False, log_feature_matches=log_feature_matches, \n",
    "                   rem_colinear_feats=True, colinear_threshold=thresh, colinear_ignores=target_fields, regression=False)\n",
    "    print(f\"{config_name}, {results[0]:.2}, {results[1]:.2}\")\n",
    "    cv_results_pred[config_name] = [results[0], results[1]]"
   ]
  },
  {
   "cell_type": "markdown",
   "id": "b3923727-fc77-4fad-a4a0-12344498e80d",
   "metadata": {},
   "source": [
    "### tuning for DWMH"
   ]
  },
  {
   "cell_type": "code",
   "execution_count": 89,
   "id": "32bb8ec3-6952-41ed-a0a5-787772aacdca",
   "metadata": {},
   "outputs": [],
   "source": [
    "clf = LogisticRegression(penalty='l2', dual=False, tol=0.1, C=0.1, fit_intercept=True, intercept_scaling=1, class_weight='balanced', \n",
    "                         random_state=None, solver='lbfgs', max_iter=500, multi_class='multinomial', verbose=0, warm_start=False, n_jobs=None, l1_ratio=None)\n",
    "model_type = \"cvs_umap\"\n",
    "\n",
    "log_feature_matches = ['sample_div', 'seg_volume', 'vent_volume', 'sum', 'mean', 'std', 'skew', 'kurt']\n",
    "\n",
    "configs = []\n",
    "for ent1 in [0.1, 0.3, 0.45, 0.5]:\n",
    "    for ent2 in [0.1, 0.3, 0.45, 0.5]:\n",
    "        for ent3 in [0.1, 0.3, 0.45, 0.5]:\n",
    "            for thresh in [0.6, 0.7, 0.8, 0.9]:\n",
    "                configs.append((f\"e1:{ent1}_e2:{ent2}_e3:{ent3}_thresh:{thresh}\", ent1, ent2, ent3, thresh))\n",
    "\n",
    "S = 12\n",
    "cv_results_ent_dwmh = {}\n",
    "for (config_name, ent1, ent2, ent3, thresh) in configs:\n",
    "    thresholds = {\n",
    "        \"ent1_t\":ent1,\"ent2_t\":ent2,\"ent3_t\":ent3\n",
    "    }\n",
    "    results = run_prediction_new(full_combined_df, model_type, thresholds, clf, n_splits=S, val_proportion=0.1, target=\"DWMH\", stratify_target=None, \n",
    "                   rescale=True, predict_val=True, verbose=False, metric='accuracy', do_log=False, log_feature_matches=log_feature_matches, \n",
    "                   rem_colinear_feats=True, colinear_threshold=thresh, colinear_ignores=target_fields, regression=False)\n",
    "    print(f\"{config_name}, {results[0]:.2}, {results[1]:.2}\")\n",
    "    cv_results_ent_dwmh[config_name] = [results[0], results[1]]"
   ]
  },
  {
   "cell_type": "code",
   "execution_count": 93,
   "id": "27cbe8cb-732d-472b-bbf4-5ffb9c4e0d55",
   "metadata": {},
   "outputs": [],
   "source": [
    "clf = LogisticRegression(penalty='l2', dual=False, tol=0.1, C=0.1, fit_intercept=True, intercept_scaling=1, class_weight='balanced', \n",
    "                         random_state=None, solver='lbfgs', max_iter=500, multi_class='multinomial', verbose=0, warm_start=False, n_jobs=None, l1_ratio=None)\n",
    "model_type = \"cv_pred\"\n",
    "\n",
    "log_feature_matches = ['sample_div', 'seg_volume', 'vent_volume', 'sum', 'mean', 'std', 'skew', 'kurt']\n",
    "\n",
    "configs = []\n",
    "for pred1 in [0.1, 0.3, 0.4, 0.5, 0.6]:\n",
    "    for pred2 in [0.1, 0.3, 0.4, 0.5, 0.6]:\n",
    "        for pred3 in [0.1, 0.3, 0.4, 0.5, 0.6]:\n",
    "            for thresh in [0.6, 0.7, 0.8, 0.9]:\n",
    "                configs.append((f\"p1:{pred1}_p2:{pred2}_p3:{pred3}_thresh:{thresh}\", pred1, pred2, pred3, thresh))\n",
    "\n",
    "S = 12\n",
    "cv_results_pred_dwmh = {}\n",
    "for (config_name, pred1, pred2, pred3, thresh) in configs:\n",
    "    thresholds = {\n",
    "        \"pred1_t\":pred1,\"pred2_t\":pred2,\"pred3_t\":pred3\n",
    "    }\n",
    "    results = run_prediction_new(full_combined_df, model_type, thresholds, clf, n_splits=S, val_proportion=0.08, target=\"DWMH\", stratify_target=None, \n",
    "                   rescale=True, predict_val=True, verbose=False, metric='accuracy', do_log=False, log_feature_matches=log_feature_matches, \n",
    "                   rem_colinear_feats=True, colinear_threshold=thresh, colinear_ignores=target_fields, regression=False)\n",
    "    print(f\"{config_name}, {results[0]:.2}, {results[1]:.2}\")\n",
    "    cv_results_pred_dwmh[config_name] = [results[0], results[1]]"
   ]
  },
  {
   "cell_type": "code",
   "execution_count": 94,
   "id": "2aedea4d-919b-4cde-acfa-6dfa45ddd5a7",
   "metadata": {},
   "outputs": [
    {
     "data": {
      "text/plain": [
       "['sbjGroup',\n",
       " 'age',\n",
       " 'sex',\n",
       " 'diabetes',\n",
       " 'hypertension',\n",
       " 'hyperlipidaemia',\n",
       " 'smoking_0',\n",
       " 'smoking_1',\n",
       " 'smoking_2']"
      ]
     },
     "execution_count": 94,
     "metadata": {},
     "output_type": "execute_result"
    }
   ],
   "source": [
    "clinical_fields"
   ]
  },
  {
   "cell_type": "code",
   "execution_count": 95,
   "id": "54d8fe72-32aa-4e15-ad76-a5da7d957026",
   "metadata": {},
   "outputs": [],
   "source": [
    "# parameters to tune"
   ]
  },
  {
   "cell_type": "code",
   "execution_count": 96,
   "id": "d7272487-e2e0-4852-9848-6ae29c88672b",
   "metadata": {},
   "outputs": [],
   "source": [
    "clinical_fields = ['sbjGroup', \n",
    "                   'age', \n",
    "                   'sex',\n",
    "                   'diabetes',\n",
    "                   'hypertension',\n",
    "                   'hyperlipidaemia',\n",
    "                   'smoking_0',\n",
    "                   'smoking_1',\n",
    "                   'smoking_2'\n",
    "]\n",
    "# clinical_fields = ['sex']"
   ]
  },
  {
   "cell_type": "code",
   "execution_count": 87,
   "id": "27be7ad1-8fc5-4744-b6f2-c0a7263a6d2f",
   "metadata": {
    "tags": []
   },
   "outputs": [
    {
     "name": "stdout",
     "output_type": "stream",
     "text": [
      "clinical_only, 0.31, 0.39\n",
      "c+volume, 0.55, 0.6\n",
      "cv_pred, 0.64, 0.67\n",
      "cv_umap, 0.61, 0.62\n",
      "cvpu, 0.66, 0.64\n"
     ]
    }
   ],
   "source": [
    "entt=0.9\n",
    "predt=0.9\n",
    "thresholdsv1 = {\n",
    "    \"ent1_t\":0.5,\"ent2_t\":0.3,\"ent3_t\":0.3,\"pred1_t\":0.3,\"pred2_t\":0.3,\"pred3_t\":0.6\n",
    "}\n",
    "ct1 = 0.7 # for PVWMH\n",
    "\n",
    "thresholdsv2 = {\n",
    "    \"ent1_t\":0.45,\"ent2_t\":0.3,\"ent3_t\":0.45,\"pred1_t\":0.1,\"pred2_t\":0.3,\"pred3_t\":0.1\n",
    "}\n",
    "ct2 = 0.8 # for DWMH\n",
    "\n",
    "\n",
    "# model_types = [\"clinical_only\",\"c+volume\",\"cv_pred\",\"cvp+predhists\",\"cvp+samples\",\"cvps+umap\",\"cvpsu+hists\", \"cvps+hists_double_pred\", \"cvpp\", \"cv_umap\"]\n",
    "model_types = [\"clinical_only\",\"c+volume\",\"cv_pred\", \"cv_umap\", \"cvpu\"]# \"cvpp\"]\n",
    "\n",
    "# model_types = [\"cvpsu+hists\"]\n",
    "\n",
    "log_feature_matches = ['sample_div', 'seg_volume', 'vent_volume', 'sum', 'mean', 'std', 'skew', 'kurt']\n",
    "\n",
    "S = 12\n",
    "\n",
    "clf = LogisticRegression(penalty='l2', dual=False, tol=0.1, C=0.1, fit_intercept=True, intercept_scaling=1, class_weight='balanced', \n",
    "                         random_state=None, solver='lbfgs', max_iter=500, multi_class='multinomial', verbose=0, warm_start=False, n_jobs=None, l1_ratio=None)\n",
    "\n",
    "pvwmh_results = {}\n",
    "\n",
    "for model_type in model_types:\n",
    "    results = run_prediction_new(full_combined_df, model_type, clf=clf, thresholds_dict=thresholdsv1, colinear_threshold=ct1, n_splits=S,\n",
    "                   val_proportion=0.1, target=\"PVWMH\", stratify_target=None, \n",
    "                   rescale=True, predict_val=False, verbose=False, metric='accuracy', do_log=False, log_feature_matches=log_feature_matches, \n",
    "                   rem_colinear_feats=True, colinear_ignores=target_fields, regression=False)\n",
    "    print(f\"{model_type}, {results[0]:.2}, {results[1]:.2}\")\n",
    "    pvwmh_results[model_type] = results"
   ]
  },
  {
   "cell_type": "code",
   "execution_count": 118,
   "id": "63f2b4d9-b6d7-41c8-a1b9-ee5acba43a27",
   "metadata": {
    "tags": []
   },
   "outputs": [
    {
     "data": {
      "image/png": "[encoded data removed]",
      "text/plain": [
       "<Figure size 1200x500 with 4 Axes>"
      ]
     },
     "metadata": {},
     "output_type": "display_data"
    }
   ],
   "source": [
    "fig, (ax1, ax2) = plt.subplots(1, 2, figsize=(12, 5))\n",
    "plot_confusion_matrix(pvwmh_results['cv_pred'][2], pvwmh_results['cv_pred'][3], fig, ax1)\n",
    "plot_confusion_matrix(pvwmh_results['cvpu'][2], pvwmh_results['cvpu'][3], fig, ax2)\n",
    "ax1.set_title(\"CVP: PVWMH Fazekas prediction for in-house\")\n",
    "ax2.set_title(\"CVPU: PVWMH Fazekas prediction for in-house\")\n",
    "plt.savefig(\"in-house PVWMH Fazekas predictions.pdf\", bbox_inches=\"tight\")"
   ]
  },
  {
   "cell_type": "code",
   "execution_count": 119,
   "id": "3fba8ab5-8e41-4de2-a48c-5201b32e16e2",
   "metadata": {
    "tags": []
   },
   "outputs": [
    {
     "name": "stdout",
     "output_type": "stream",
     "text": [
      "clinical_only, 0.33, 0.36\n",
      "c+volume, 0.5, 0.52\n",
      "cv_pred, 0.54, 0.61\n",
      "cv_umap, 0.57, 0.61\n",
      "cvpu, 0.57, 0.63\n"
     ]
    }
   ],
   "source": [
    "S = 12\n",
    "ct2 = 0.9\n",
    "clf = LogisticRegression(penalty='l2', dual=False, tol=0.1, C=0.1, fit_intercept=True, intercept_scaling=1, class_weight='balanced', \n",
    "                         random_state=None, solver='lbfgs', max_iter=500, multi_class='multinomial', verbose=0, warm_start=False, n_jobs=None, l1_ratio=None)\n",
    "\n",
    "# clf = KNeighborsClassifier(5)\n",
    "# clf = SVC(kernel=\"linear\", C=0.1, probability=True)\n",
    "# SVC(gamma=2, C=1, probability=True)\n",
    "# GaussianProcessClassifier(1.0 * RBF(1.0))\n",
    "# DecisionTreeClassifier(max_depth=5)\n",
    "# RandomForestClassifier(max_depth=5, n_estimators=10, max_features=1)\n",
    "# MLPClassifier(alpha=1, max_iter=1000)\n",
    "# AdaBoostClassifier()\n",
    "# GaussianNB()\n",
    "# QuadraticDiscriminantAnalysis()\n",
    "# LogisticRegression(penalty='l2', dual=False, tol=0.1, C=0.1, fit_intercept=True, intercept_scaling=1, class_weight='balanced', \n",
    "#                      random_state=None, solver='lbfgs', max_iter=500, multi_class='multinomial', verbose=0, warm_start=False, n_jobs=None, l1_ratio=None)\n",
    "\n",
    "\n",
    "dwmh_results08 = {}\n",
    "\n",
    "for model_type in model_types:\n",
    "    results = run_prediction_new(full_combined_df, model_type, clf=clf, thresholds_dict=thresholdsv2, colinear_threshold=0.8, n_splits=S, val_proportion=0.1, target=\"DWMH\", stratify_target=None, \n",
    "                   rescale=True, predict_val=False, verbose=False, metric='accuracy', do_log=False, log_feature_matches=log_feature_matches, \n",
    "                   rem_colinear_feats=True, colinear_ignores=target_fields, regression=False)\n",
    "    print(f\"{model_type}, {results[0]:.2}, {results[1]:.2}\")\n",
    "    dwmh_results08[model_type] = results"
   ]
  },
  {
   "cell_type": "code",
   "execution_count": 120,
   "id": "1dcb3d32-0bdf-45d3-a00b-d177bfe58a61",
   "metadata": {
    "tags": []
   },
   "outputs": [
    {
     "data": {
      "image/png": "[encoded data removed]",
      "text/plain": [
       "<Figure size 1200x500 with 4 Axes>"
      ]
     },
     "metadata": {},
     "output_type": "display_data"
    }
   ],
   "source": [
    "fig, (ax1, ax2) = plt.subplots(1, 2, figsize=(12, 5))\n",
    "plot_confusion_matrix(dwmh_results08['cv_pred'][2], dwmh_results08['cv_pred'][3], fig, ax1)\n",
    "plot_confusion_matrix(dwmh_results08['cvpu'][2], dwmh_results08['cvpu'][3], fig, ax2)\n",
    "ax1.set_title(\"CVP: DWMH Fazekas prediction for in-house\")\n",
    "ax2.set_title(\"CVPU: DWMH Fazekas prediction for in-house\")\n",
    "plt.savefig(\"in-house DWMH Fazekas predictions.pdf\", bbox_inches=\"tight\")"
   ]
  },
  {
   "cell_type": "code",
   "execution_count": 106,
   "id": "a42a585f-7654-4818-81b6-42715bb36bd7",
   "metadata": {
    "tags": []
   },
   "outputs": [
    {
     "name": "stdout",
     "output_type": "stream",
     "text": [
      "clinical_only, 0.61, 0.6\n",
      "c+volume, 0.62, 0.63\n",
      "cv_pred, 0.6, 0.61\n",
      "cv_umap, 0.64, 0.64\n",
      "cvpu, 0.61, 0.61\n"
     ]
    }
   ],
   "source": [
    "S = 12\n",
    "ct2 = 0.8\n",
    "clf = LogisticRegression(penalty='l2', dual=False, tol=0.1, C=0.1, fit_intercept=True, intercept_scaling=1, class_weight='balanced', \n",
    "                         random_state=None, solver='lbfgs', max_iter=500, multi_class='multinomial', verbose=0, warm_start=False, n_jobs=None, l1_ratio=None)\n",
    "\n",
    "for model_type in model_types:\n",
    "    results = run_prediction_new(full_combined_df, model_type, clf=clf, thresholds_dict=thresholdsv1, colinear_threshold=ct1, n_splits=S, val_proportion=0.,\n",
    "                                 target=\"scale_stroke\", stratify_target=None, \n",
    "                   rescale=True, predict_val=False, verbose=False, metric='accuracy', do_log=False, log_feature_matches=log_feature_matches, \n",
    "                   rem_colinear_feats=True, colinear_ignores=target_fields, regression=False)\n",
    "    print(f\"{model_type}, {results[0]:.2}, {results[1]:.2}\")"
   ]
  },
  {
   "cell_type": "code",
   "execution_count": 98,
   "id": "cd46bab4-4cbe-4495-81ff-bad5151c88ee",
   "metadata": {
    "tags": []
   },
   "outputs": [
    {
     "data": {
      "text/plain": [
       "['total_fazekas',\n",
       " 'scale_fazekas',\n",
       " 'scale_pvs',\n",
       " 'stroke_les',\n",
       " 'scale_stroke',\n",
       " 'dice',\n",
       " 'f1',\n",
       " 'avd',\n",
       " 'recall',\n",
       " 'deepAtrophy',\n",
       " 'supAtrophy',\n",
       " 'WMH',\n",
       " 'PVWMH',\n",
       " 'DWMH',\n",
       " 'BGPVS',\n",
       " 'CSPVS',\n",
       " 'micrBld']"
      ]
     },
     "execution_count": 98,
     "metadata": {},
     "output_type": "execute_result"
    }
   ],
   "source": [
    "target_fields"
   ]
  },
  {
   "cell_type": "code",
   "execution_count": 107,
   "id": "57f4146f-bac2-4e4e-8ca6-cc1d2d970faa",
   "metadata": {
    "tags": []
   },
   "outputs": [
    {
     "name": "stdout",
     "output_type": "stream",
     "text": [
      "clinical_only, 0.18, 0.27\n",
      "c+volume, 0.33, 0.39\n",
      "cv_pred, 0.42, 0.45\n",
      "cv_umap, 0.41, 0.44\n",
      "cvpu, 0.41, 0.44\n"
     ]
    }
   ],
   "source": [
    "S = 6\n",
    "ct2 = 0.8\n",
    "clf = LogisticRegression(penalty='l2', dual=False, tol=0.1, C=0.1, fit_intercept=True, intercept_scaling=1, class_weight='balanced', \n",
    "                         random_state=None, solver='lbfgs', max_iter=500, multi_class='multinomial', verbose=0, warm_start=False, n_jobs=None, l1_ratio=None)\n",
    "\n",
    "for model_type in model_types:\n",
    "    results = run_prediction_new(full_combined_df, model_type, clf=clf, thresholds_dict=thresholdsv1, colinear_threshold=ct1, n_splits=S, val_proportion=0., target=\"total_fazekas\", stratify_target=None, \n",
    "                   rescale=True, predict_val=False, verbose=False, metric='accuracy', do_log=False, log_feature_matches=log_feature_matches, \n",
    "                   rem_colinear_feats=True, colinear_ignores=target_fields, regression=False)\n",
    "    print(f\"{model_type}, {results[0]:.2}, {results[1]:.2}\")"
   ]
  },
  {
   "cell_type": "code",
   "execution_count": 108,
   "id": "b681236d-e787-469d-835b-8fa3d32805bd",
   "metadata": {
    "tags": []
   },
   "outputs": [],
   "source": [
    "from sklearn.linear_model import Ridge, BayesianRidge"
   ]
  },
  {
   "cell_type": "code",
   "execution_count": 109,
   "id": "5ca4a8fc-3267-4fd7-9b78-c9f144cf2296",
   "metadata": {
    "tags": []
   },
   "outputs": [],
   "source": [
    "clinical_fields = ['sbjGroup', 'age', 'sex',\n",
    " 'diabetes', 'hypertension', 'hyperlipidaemia',\n",
    "       'smoking_0', 'smoking_1', 'smoking_2']"
   ]
  },
  {
   "cell_type": "code",
   "execution_count": 110,
   "id": "45e3be1b-6dcf-4db5-8051-2354d10fc769",
   "metadata": {
    "tags": []
   },
   "outputs": [
    {
     "data": {
      "text/plain": [
       "['sbjGroup',\n",
       " 'age',\n",
       " 'sex',\n",
       " 'diabetes',\n",
       " 'hypertension',\n",
       " 'hyperlipidaemia',\n",
       " 'smoking_0',\n",
       " 'smoking_1',\n",
       " 'smoking_2']"
      ]
     },
     "execution_count": 110,
     "metadata": {},
     "output_type": "execute_result"
    }
   ],
   "source": [
    "clinical_fields"
   ]
  },
  {
   "cell_type": "code",
   "execution_count": 111,
   "id": "b309a2ed-9848-4a58-a5d4-fca826cc93fe",
   "metadata": {
    "tags": []
   },
   "outputs": [],
   "source": [
    "def regression_task(target):\n",
    "\n",
    "    S = 12\n",
    "\n",
    "    # clf_reg = BayesianRidge()\n",
    "    clf_reg = LinearRegression()\n",
    "    \n",
    "    all_results = {}\n",
    "\n",
    "    for model_type in model_types:\n",
    "        results = run_prediction_new(full_combined_df, model_type, clf=clf_reg, thresholds_dict=thresholdsv2, colinear_threshold=ct2, n_splits=S, val_proportion=0.0, target=target, stratify_target=\"DWMH\", \n",
    "                       rescale=True, predict_val=False, verbose=False, metric='rmse', do_log=False, log_feature_matches=log_feature_matches, \n",
    "                       rem_colinear_feats=True, colinear_ignores=target_fields, regression=True)\n",
    "        all_results[model_type] = results\n",
    "        print(f\"{model_type}, {results[0]:.2}, {results[1]:.2}\")\n",
    "    \n",
    "    return all_results"
   ]
  },
  {
   "cell_type": "code",
   "execution_count": 112,
   "id": "b18cff54-ea0c-4a0c-a57a-bf94923e262b",
   "metadata": {
    "tags": []
   },
   "outputs": [
    {
     "name": "stdout",
     "output_type": "stream",
     "text": [
      "clinical_only, 9.8, 9.8\n",
      "c+volume, 8.5, 8.5\n",
      "cv_pred, 8.4, 8.4\n",
      "cv_umap, 8.6, 8.6\n",
      "cvpu, 8.5, 8.5\n"
     ]
    }
   ],
   "source": [
    "age_results = regression_task(\"age\")"
   ]
  },
  {
   "cell_type": "code",
   "execution_count": 113,
   "id": "85c85d4b-2af5-473e-bc92-cc23798c0433",
   "metadata": {
    "tags": []
   },
   "outputs": [
    {
     "name": "stdout",
     "output_type": "stream",
     "text": [
      "clinical_only, 0.48, 0.48\n",
      "c+volume, 0.46, 0.46\n",
      "cv_pred, 0.47, 0.47\n",
      "cv_umap, 0.46, 0.46\n",
      "cvpu, 0.47, 0.47\n"
     ]
    }
   ],
   "source": [
    "sex_results = regression_task(\"sex\")"
   ]
  },
  {
   "cell_type": "code",
   "execution_count": 114,
   "id": "c04d0a35-6fd3-4083-a544-addf483e3dbe",
   "metadata": {
    "tags": []
   },
   "outputs": [
    {
     "name": "stdout",
     "output_type": "stream",
     "text": [
      "clinical_only, 4.5e+01, 4.5e+01\n",
      "c+volume, 4.5e+01, 4.5e+01\n",
      "cv_pred, 4.5e+01, 4.5e+01\n",
      "cv_umap, 4.6e+01, 4.6e+01\n",
      "cvpu, 4.7e+01, 4.7e+01\n"
     ]
    }
   ],
   "source": [
    "avd_results = regression_task(\"avd\")"
   ]
  },
  {
   "cell_type": "code",
   "execution_count": 115,
   "id": "220e71b1-8d05-4797-8bce-380bd9db95d3",
   "metadata": {
    "tags": []
   },
   "outputs": [
    {
     "name": "stdout",
     "output_type": "stream",
     "text": [
      "clinical_only, 0.47, 0.47\n",
      "c+volume, 0.45, 0.45\n",
      "cv_pred, 0.43, 0.43\n",
      "cv_umap, 0.45, 0.45\n",
      "cvpu, 0.44, 0.44\n"
     ]
    }
   ],
   "source": [
    "scale_fazekas_results = regression_task(\"scale_pvs\")"
   ]
  },
  {
   "cell_type": "markdown",
   "id": "8325b558-df03-4e69-9238-0d76f41e6c6b",
   "metadata": {},
   "source": [
    "### Quality control via dice prediction"
   ]
  },
  {
   "cell_type": "code",
   "execution_count": 116,
   "id": "804757c6-4d90-43e1-8ae0-96925147dccc",
   "metadata": {
    "tags": []
   },
   "outputs": [
    {
     "name": "stdout",
     "output_type": "stream",
     "text": [
      "clinical_only, 0.14, 0.14\n",
      "c+volume, 0.12, 0.12\n",
      "cv_pred, 0.071, 0.071\n",
      "cv_umap, 0.074, 0.074\n",
      "cvpu, 0.075, 0.075\n"
     ]
    }
   ],
   "source": [
    "dice_results = regression_task(\"dice\")"
   ]
  },
  {
   "cell_type": "code",
   "execution_count": 117,
   "id": "45c2c2cd-eb96-4502-8a0f-fc56f486b82f",
   "metadata": {
    "tags": []
   },
   "outputs": [
    {
     "data": {
      "image/png": "[encoded data removed]",
      "text/plain": [
       "<Figure size 1000x700 with 4 Axes>"
      ]
     },
     "metadata": {},
     "output_type": "display_data"
    }
   ],
   "source": [
    "fig, axs = plt.subplots(2, 2, figsize=(10,7))\n",
    "\n",
    "name_key = {'clinical_only':'C', 'c+volume':'CV', 'cv_pred':'CVP', 'cv_umap':'CVU'}\n",
    "colour_key = {'clinical_only':'orange', 'c+volume':'red', 'cv_pred':'blue', 'cv_umap':'grey'}\n",
    "\n",
    "for ax, dice_thresh in zip(axs.flatten(), [0.5, 0.6, 0.7, 0.8]):\n",
    "    ax.grid(which=\"major\", axis='x', color='#DAD8D7', alpha=0.5, zorder=0)\n",
    "    ax.grid(which=\"major\", axis='y', color='#DAD8D7', alpha=0.5, zorder=0)\n",
    "    \n",
    "    for method in ['clinical_only', 'c+volume', 'cv_pred', 'cv_umap']:\n",
    "        # method = 'clinical_only'\n",
    "        target = dice_results[method][2]\n",
    "        pred = dice_results[method][3]\n",
    "\n",
    "        bad_images = target < dice_thresh\n",
    "        num_bad_images = bad_images.sum()\n",
    "\n",
    "        ax.plot([0, num_bad_images], [num_bad_images, 0], linestyle='dashed')\n",
    "\n",
    "        thresholds = torch.arange(0, 1, 0.01)\n",
    "\n",
    "        xs = []\n",
    "        ys = []\n",
    "\n",
    "        for t in thresholds:\n",
    "            flagged_images = pred < t\n",
    "            num_flagged_images = flagged_images.sum()\n",
    "            remaining_bad_images = bad_images * (torch.logical_not(flagged_images))\n",
    "            num_remaining_bad_images = remaining_bad_images.sum()\n",
    "\n",
    "            ys.append(num_remaining_bad_images)\n",
    "            xs.append(num_flagged_images)\n",
    "\n",
    "        ax.plot(xs, ys, label=name_key[method], c=colour_key[method])\n",
    "        ax.set_ylabel(f\"Num. images with \\n Dice < {dice_thresh}\")\n",
    "        ax.set_xlabel(\"Num. flagged images\")\n",
    "        ax.spines[['top','right']].set_visible(False) # Remove the top and right spines\n",
    "        ax.spines[['left', 'bottom']].set_linewidth(1.1) # make the left and bottom spines thicker#\n",
    "        ax.spines[['left', 'bottom']].set_color('#585858')\n",
    "        # break\n",
    "    ax.legend()\n",
    "plt.suptitle(\"Performance of poor segmentation classifiers on in-house data\\n (WMH seg model trained on in-house data)\")\n",
    "fig.tight_layout()\n",
    "\n",
    "plt.savefig(\"qual_control_CVD.pdf\")"
   ]
  },
  {
   "cell_type": "code",
   "execution_count": 163,
   "id": "14229b95-b82f-4109-bb11-b16470f1ae2f",
   "metadata": {
    "tags": []
   },
   "outputs": [
    {
     "data": {
      "image/png": "[encoded data removed]",
      "text/plain": [
       "<Figure size 640x480 with 1 Axes>"
      ]
     },
     "metadata": {},
     "output_type": "display_data"
    }
   ],
   "source": [
    "for method in ['clinical_only', 'c+volume', 'cv_pred', 'cv_umap']:\n",
    "    target = dice_results[method][2]\n",
    "    pred = dice_results[method][3]\n",
    "    residual = (target - pred).abs()\n",
    "    plt.scatter(target, residual, label=name_key[method], s=3, c=colour_key[method])\n",
    "plt.legend()\n",
    "plt.yscale('log')"
   ]
  },
  {
   "cell_type": "code",
   "execution_count": null,
   "id": "2f4bdd7a-8330-4f61-a008-736ea2a1b497",
   "metadata": {},
   "outputs": [],
   "source": []
  },
  {
   "cell_type": "code",
   "execution_count": 124,
   "id": "32c189ca-4059-414f-ba00-8f915e7cdd35",
   "metadata": {},
   "outputs": [
    {
     "data": {
      "text/plain": [
       "array([<AxesSubplot: xlabel='Num. flagged images', ylabel='Num. images with \\n Dice < 0.5'>,\n",
       "       <AxesSubplot: xlabel='Num. flagged images', ylabel='Num. images with \\n Dice < 0.6'>,\n",
       "       <AxesSubplot: xlabel='Num. flagged images', ylabel='Num. images with \\n Dice < 0.7'>,\n",
       "       <AxesSubplot: xlabel='Num. flagged images', ylabel='Num. images with \\n Dice < 0.8'>],\n",
       "      dtype=object)"
      ]
     },
     "execution_count": 124,
     "metadata": {},
     "output_type": "execute_result"
    }
   ],
   "source": [
    "axs.flatten()"
   ]
  },
  {
   "cell_type": "code",
   "execution_count": 125,
   "id": "a332a480-99c9-4226-8113-01f29a39d623",
   "metadata": {},
   "outputs": [
    {
     "data": {
      "text/plain": [
       "tensor([0.0000, 0.0100, 0.0200, 0.0300, 0.0400, 0.0500, 0.0600, 0.0700, 0.0800,\n",
       "        0.0900, 0.1000, 0.1100, 0.1200, 0.1300, 0.1400, 0.1500, 0.1600, 0.1700,\n",
       "        0.1800, 0.1900, 0.2000, 0.2100, 0.2200, 0.2300, 0.2400, 0.2500, 0.2600,\n",
       "        0.2700, 0.2800, 0.2900, 0.3000, 0.3100, 0.3200, 0.3300, 0.3400, 0.3500,\n",
       "        0.3600, 0.3700, 0.3800, 0.3900, 0.4000, 0.4100, 0.4200, 0.4300, 0.4400,\n",
       "        0.4500, 0.4600, 0.4700, 0.4800, 0.4900, 0.5000, 0.5100, 0.5200, 0.5300,\n",
       "        0.5400, 0.5500, 0.5600, 0.5700, 0.5800, 0.5900, 0.6000, 0.6100, 0.6200,\n",
       "        0.6300, 0.6400, 0.6500, 0.6600, 0.6700, 0.6800, 0.6900, 0.7000, 0.7100,\n",
       "        0.7200, 0.7300, 0.7400, 0.7500, 0.7600, 0.7700, 0.7800, 0.7900, 0.8000,\n",
       "        0.8100, 0.8200, 0.8300, 0.8400, 0.8500, 0.8600, 0.8700, 0.8800, 0.8900,\n",
       "        0.9000, 0.9100, 0.9200, 0.9300, 0.9400, 0.9500, 0.9600, 0.9700, 0.9800,\n",
       "        0.9900])"
      ]
     },
     "execution_count": 125,
     "metadata": {},
     "output_type": "execute_result"
    }
   ],
   "source": [
    "thresholds"
   ]
  },
  {
   "cell_type": "markdown",
   "id": "f63bb013-c0c5-471c-9b5f-038f606f6db0",
   "metadata": {},
   "source": [
    "### saving the models for the generalization test"
   ]
  },
  {
   "cell_type": "code",
   "execution_count": 126,
   "id": "c8504685-0f6c-4c46-bcd6-ad700a10f9c6",
   "metadata": {},
   "outputs": [],
   "source": [
    "def compute_accuracy_classification(clf, X, y):\n",
    "    y_hat = clf.predict(X)\n",
    "    y_target = y\n",
    "    \n",
    "    accuracy = accuracy_score(y_target, y_hat)\n",
    "    # print(accuracy)\n",
    "    accuracy = (y_hat == y_target).mean()\n",
    "    # print(accuracy)\n",
    "\n",
    "    class_preds = defaultdict(list)\n",
    "    for yi in range(len(y_target)):\n",
    "        yi_gt = y_target[yi]\n",
    "        yi_hat = y_hat[yi]\n",
    "        class_preds[yi_gt].append(yi_hat)\n",
    "    # print(class_preds)\n",
    "    class_preds = {yi: torch.Tensor(preds) for (yi, preds) in class_preds.items()}\n",
    "    # print(class_preds)\n",
    "    class_accs = [(preds == yi).sum().item()/preds.shape[0] for (yi, preds) in class_preds.items()]\n",
    "    balanced_accuracy = torch.Tensor(class_accs).mean().item()\n",
    "    \n",
    "    return accuracy, balanced_accuracy, y_target, y_hat"
   ]
  },
  {
   "cell_type": "code",
   "execution_count": 127,
   "id": "17e06d44-c8ad-4156-b8ed-df3156403845",
   "metadata": {},
   "outputs": [],
   "source": [
    "def compute_accuracy_regression(clf, X, y):\n",
    "    y_hat = clf.predict(X)\n",
    "    y_target = y\n",
    "    \n",
    "    return np.mean(np.abs(y_target - y_hat)), 0."
   ]
  },
  {
   "cell_type": "code",
   "execution_count": 128,
   "id": "255a6270-447c-4391-8063-be7a8b9178cd",
   "metadata": {},
   "outputs": [],
   "source": [
    "def train_final_model(df, model_type, thresholds_dict, clf, target=\"DWMH\", label_categories=target_fields, \n",
    "                   rescale=True, do_log=False, log_feature_matches=None, \n",
    "                   rem_colinear_feats=False, colinear_threshold=0.8, colinear_ignores=target_fields, regression=False, stratify_target=None):\n",
    "    verbose=False\n",
    "    df = df.copy() # just to make sure I don't accidently modify the original at any point.\n",
    "    \n",
    "    # create the training data df\n",
    "    df = load_model_df(df, model_type, **thresholds_dict)\n",
    "    \n",
    "    # run preprocessing on the data\n",
    "    #df = shuffle(df)\n",
    "    #print(df.keys().values)\n",
    "    if do_log:\n",
    "        df = shift_and_log_features(df, log_feature_matches, verbose=verbose)\n",
    "    if rem_colinear_feats:\n",
    "        remaining_keys = create_minimal_correlation_keys(df, ignore_keys=colinear_ignores, threshold=colinear_threshold, verbose=verbose)\n",
    "        df = df[remaining_keys + colinear_ignores]\n",
    "    X, y = extract_Xy(df, target, verbose, kept_column=stratify_target, label_categories=label_categories)\n",
    "    X = X.reset_index()\n",
    "    \n",
    "    rescaler = None\n",
    "    if rescale:\n",
    "        rescaler = Rescaler()\n",
    "        rescaler.fit(X)\n",
    "        X = rescaler.predict(X)\n",
    "    \n",
    "    clf.fit(X, y)\n",
    "    \n",
    "    return X, y, clf, rescaler, remaining_keys"
   ]
  },
  {
   "cell_type": "code",
   "execution_count": 129,
   "id": "ea98e6d3-a123-408e-b523-aad2229e41dc",
   "metadata": {},
   "outputs": [],
   "source": [
    "def load_and_evaluate_model(clf, rescaler, df, model_type, remaining_keys, target=\"DWMH\", label_categories=target_fields, \n",
    "                   rescale=True, do_log=False, log_feature_matches=None, \n",
    "                   rem_colinear_feats=False, colinear_ignores=target_fields, regression=False, stratify_target=None):\n",
    "    verbose=False\n",
    "    df = df.copy() # just to make sure I don't accidently modify the original at any point.\n",
    "    \n",
    "    # create the training data df\n",
    "    #df = load_model_df(df, model_type, **thresholds_dict)\n",
    "    \n",
    "    key_replace = {\"AGE\": \"age\", \"PTGENDER\": \"sex\"}\n",
    "    columns = df.columns\n",
    "    for new_key, key in key_replace.items():\n",
    "        if key in columns:\n",
    "            df[new_key] = df[key]\n",
    "            df.drop(columns=key)\n",
    "    \n",
    "    # run preprocessing on the data\n",
    "    #df = shuffle(df)\n",
    "    #print(df.keys().values)\n",
    "    if do_log:\n",
    "        df = shift_and_log_features(df, log_feature_matches, verbose=verbose)\n",
    "        \n",
    "    if rem_colinear_feats:\n",
    "        df = df[remaining_keys + colinear_ignores]\n",
    "        \n",
    "    # print(\"BEFORE HAND -----------\")\n",
    "    # print(df.keys())\n",
    "    X, y = extract_Xy(df, target, verbose, kept_column=stratify_target, label_categories=label_categories)\n",
    "    X = X.reset_index()\n",
    "    # print(\"AFTER -----------------\")\n",
    "    # print(X.keys())\n",
    "    \n",
    "    if rescale:\n",
    "        X = rescaler.predict(X)\n",
    "    \n",
    "    if regression:\n",
    "        return compute_accuracy_regression(clf, X, y)\n",
    "    else:\n",
    "        return compute_accuracy_classification(clf, X, y)"
   ]
  },
  {
   "cell_type": "code",
   "execution_count": 130,
   "id": "f67a86e9-95fb-4447-bdd7-ba812f0922d0",
   "metadata": {},
   "outputs": [],
   "source": [
    "import pickle"
   ]
  },
  {
   "cell_type": "code",
   "execution_count": 131,
   "id": "9db223bd-cba9-4374-a538-ed05b83f6123",
   "metadata": {},
   "outputs": [],
   "source": [
    "thresholdsv1 = {\n",
    "    \"ent1_t\":0.45,\"ent2_t\":0.1,\"ent3_t\":0.1,\"pred1_t\":0.3,\"pred2_t\":0.3,\"pred3_t\":0.6\n",
    "}\n",
    "ct1 = 0.7 # for PVWMH\n",
    "\n",
    "thresholdsv2 = {\n",
    "    \"ent1_t\":0.45,\"ent2_t\":0.3,\"ent3_t\":0.45,\"pred1_t\":0.1,\"pred2_t\":0.3,\"pred3_t\":0.1\n",
    "}\n",
    "ct2 = 0.8 # for DWMH"
   ]
  },
  {
   "cell_type": "code",
   "execution_count": 132,
   "id": "8280cf8c-5bc8-416d-9469-66f43bfc594c",
   "metadata": {},
   "outputs": [],
   "source": [
    "def train_and_save_model(filename, target, thresholds_dict, colinear_threshold, stratify_target=None, regression=False):\n",
    "    \n",
    "    model_data = {}\n",
    "    model_types = [\"clinical_only\",\"c+volume\",\"cv_pred\", \"cv_pred0.5\", \"cvp+samples\", \"cv_umap\", \"cvs_umap\",\"cvps+umap\"]\n",
    "\n",
    "    \n",
    "    # PVWMH\n",
    "    for model_type in model_types:\n",
    "            if regression:\n",
    "                clf = LinearRegression()\n",
    "            else:\n",
    "                clf = LogisticRegression(penalty='l2', dual=False, tol=0.1, C=0.1, fit_intercept=True, intercept_scaling=1, class_weight='balanced', \n",
    "                                     random_state=None, solver='lbfgs', max_iter=500, multi_class='multinomial', verbose=0, warm_start=False, n_jobs=None, l1_ratio=None)\n",
    "\n",
    "            X, y, clf, rescaler, remaining_keys = train_final_model(full_combined_df, model_type, clf=clf, thresholds_dict=thresholds_dict, colinear_threshold=colinear_threshold, \n",
    "                                                                    target=target, rescale=True,  do_log=False, log_feature_matches=log_feature_matches, \n",
    "                           rem_colinear_feats=True, colinear_ignores=target_fields, regression=regression, stratify_target=stratify_target)\n",
    "\n",
    "            model_data[model_type] = {\"clf\":clf, \"rescaler\": rescaler, \"remaining_keys\": remaining_keys}\n",
    "\n",
    "            if not regression:\n",
    "                acc, balanced_acc, _, _ = compute_accuracy_classification(clf, X, y)\n",
    "                print(f\"{model_type}: {acc:.2}, {balanced_acc:.2}\")\n",
    "            else:\n",
    "                mae, _ = compute_accuracy_regression(clf, X, y)\n",
    "                print(f\"{model_type}: {mae:.2}\")\n",
    "                \n",
    "    with open(f'saved_models/{filename}.model', 'wb') as handle:\n",
    "        pickle.dump(model_data, handle, protocol=pickle.HIGHEST_PROTOCOL)\n",
    "\n",
    "    with open(f'saved_models/{filename}.model', 'rb') as pickle_file:\n",
    "        content = pickle.load(pickle_file)\n",
    "\n",
    "    print(\"\\nassess that saved model has the same performance\")\n",
    "\n",
    "    for key in content:\n",
    "        data = content[key]\n",
    "        acc, balanced_acc, targets, preds = load_and_evaluate_model(data['clf'], data['rescaler'], full_combined_df, model_type=key, remaining_keys = data['remaining_keys'],\n",
    "                       target=target, label_categories=target_fields, \n",
    "                       rescale=True, do_log=False, log_feature_matches=None, \n",
    "                       rem_colinear_feats=True, colinear_ignores=target_fields, regression=regression, stratify_target=stratify_target)\n",
    "        print(f\"{key}: {acc:.2}, {balanced_acc:.2}\")\n",
    "        "
   ]
  },
  {
   "cell_type": "code",
   "execution_count": 133,
   "id": "bcb9c763-6ae3-4ba1-a87c-5744db1e081e",
   "metadata": {},
   "outputs": [],
   "source": [
    "# clinical_fields = ['sbjGroup', 'age', 'sex',\n",
    "#  'diabetes', 'hypertension', 'hyperlipidaemia',\n",
    "#        'smoking_0', 'smoking_1', 'smoking_2']\n",
    "# ICV is a bad feature that breaks things!!!\n",
    "clinical_fields = ['sex']"
   ]
  },
  {
   "cell_type": "code",
   "execution_count": 134,
   "id": "fa7c64d1-21bd-42fa-a3e9-c1956d80b98d",
   "metadata": {},
   "outputs": [
    {
     "name": "stdout",
     "output_type": "stream",
     "text": [
      "clinical_only: 0.22, 0.3\n",
      "c+volume: 0.48, 0.63\n",
      "cv_pred: 0.67, 0.76\n",
      "cv_pred0.5: 0.63, 0.68\n",
      "cvp+samples: 0.67, 0.74\n",
      "cv_umap: 0.6, 0.66\n",
      "cvs_umap: 0.64, 0.72\n",
      "cvps+umap: 0.71, 0.77\n",
      "\n",
      "assess that saved model has the same performance\n",
      "clinical_only: 0.22, 0.3\n",
      "c+volume: 0.48, 0.63\n",
      "cv_pred: 0.67, 0.76\n",
      "cv_pred0.5: 0.63, 0.68\n",
      "cvp+samples: 0.67, 0.74\n",
      "cv_umap: 0.6, 0.66\n",
      "cvs_umap: 0.64, 0.72\n",
      "cvps+umap: 0.71, 0.77\n"
     ]
    }
   ],
   "source": [
    "train_and_save_model('CVD_PVWMH', target=\"PVWMH\", thresholds_dict = thresholdsv1, colinear_threshold = ct1)"
   ]
  },
  {
   "cell_type": "code",
   "execution_count": 135,
   "id": "1f1a0ef0-809b-489d-ac9d-5563aa01b990",
   "metadata": {},
   "outputs": [
    {
     "name": "stdout",
     "output_type": "stream",
     "text": [
      "clinical_only: 0.24, 0.33\n",
      "c+volume: 0.52, 0.6\n",
      "cv_pred: 0.65, 0.73\n",
      "cv_pred0.5: 0.66, 0.72\n",
      "cvp+samples: 0.65, 0.74\n",
      "cv_umap: 0.7, 0.78\n",
      "cvs_umap: 0.68, 0.75\n",
      "cvps+umap: 0.74, 0.79\n",
      "\n",
      "assess that saved model has the same performance\n",
      "clinical_only: 0.24, 0.33\n",
      "c+volume: 0.52, 0.6\n",
      "cv_pred: 0.65, 0.73\n",
      "cv_pred0.5: 0.66, 0.72\n",
      "cvp+samples: 0.65, 0.74\n",
      "cv_umap: 0.7, 0.78\n",
      "cvs_umap: 0.68, 0.75\n",
      "cvps+umap: 0.74, 0.79\n"
     ]
    }
   ],
   "source": [
    "train_and_save_model('CVD_DWMH_0.8', target=\"DWMH\", thresholds_dict = thresholdsv2, colinear_threshold = 0.8)"
   ]
  },
  {
   "cell_type": "code",
   "execution_count": 693,
   "id": "4808f36b-bc96-42cb-9c46-52b3c0a78dfe",
   "metadata": {},
   "outputs": [
    {
     "name": "stdout",
     "output_type": "stream",
     "text": [
      "clinical_only: 0.24, 0.33\n",
      "c+volume: 0.52, 0.6\n",
      "cv_pred: 0.65, 0.73\n",
      "cv_pred0.5: 0.67, 0.73\n",
      "cvp+samples: 0.68, 0.77\n",
      "cv_umap: 0.69, 0.75\n",
      "cvs_umap: 0.68, 0.75\n",
      "cvps+umap: 0.76, 0.82\n",
      "\n",
      "assess that saved model has the same performance\n",
      "clinical_only: 0.24, 0.33\n",
      "c+volume: 0.52, 0.6\n",
      "cv_pred: 0.65, 0.73\n",
      "cv_pred0.5: 0.67, 0.73\n",
      "cvp+samples: 0.68, 0.77\n",
      "cv_umap: 0.69, 0.75\n",
      "cvs_umap: 0.68, 0.75\n",
      "cvps+umap: 0.76, 0.82\n"
     ]
    }
   ],
   "source": [
    "train_and_save_model('CVD_DWMH_0.9', target=\"DWMH\", thresholds_dict = thresholdsv2, colinear_threshold = 0.9)"
   ]
  },
  {
   "cell_type": "code",
   "execution_count": 694,
   "id": "87f1ec9d-8e72-4896-bb89-fbaab14e5bfc",
   "metadata": {},
   "outputs": [
    {
     "name": "stdout",
     "output_type": "stream",
     "text": [
      "clinical_only: 0.15, 0.24\n",
      "c+volume: 0.37, 0.48\n",
      "cv_pred: 0.54, 0.61\n",
      "cv_pred0.5: 0.48, 0.55\n",
      "cvp+samples: 0.54, 0.6\n",
      "cv_umap: 0.47, 0.54\n",
      "cvs_umap: 0.52, 0.6\n",
      "cvps+umap: 0.57, 0.63\n",
      "\n",
      "assess that saved model has the same performance\n",
      "clinical_only: 0.15, 0.24\n",
      "c+volume: 0.37, 0.48\n",
      "cv_pred: 0.54, 0.61\n",
      "cv_pred0.5: 0.48, 0.55\n",
      "cvp+samples: 0.54, 0.6\n",
      "cv_umap: 0.47, 0.54\n",
      "cvs_umap: 0.52, 0.6\n",
      "cvps+umap: 0.57, 0.63\n"
     ]
    }
   ],
   "source": [
    "train_and_save_model('CVD_total_fazekas', target=\"total_fazekas\", thresholds_dict = thresholdsv1, colinear_threshold = ct1)"
   ]
  },
  {
   "cell_type": "code",
   "execution_count": 696,
   "id": "62a26157-c5f3-472f-b68d-a2e84fc9d922",
   "metadata": {},
   "outputs": [],
   "source": [
    "#train_and_save_model('CVD_age', target=\"age\", thresholds_dict = thresholdsv1, colinear_threshold = ct1, regression=True)"
   ]
  },
  {
   "cell_type": "code",
   "execution_count": 698,
   "id": "cf2c8267-2daa-4ea1-9896-28690256dc4e",
   "metadata": {},
   "outputs": [],
   "source": [
    "#train_and_save_model('CVD_sex', target=\"sex\", thresholds_dict = thresholdsv1, colinear_threshold = ct1, regression=True)"
   ]
  },
  {
   "cell_type": "code",
   "execution_count": 389,
   "id": "08ac25ca-e449-4205-87b0-fc3a1f9260cb",
   "metadata": {},
   "outputs": [
    {
     "data": {
      "text/plain": [
       "0      68.0\n",
       "1      81.0\n",
       "2      71.0\n",
       "3      68.0\n",
       "4      83.0\n",
       "       ... \n",
       "243    55.0\n",
       "244    50.0\n",
       "245    56.0\n",
       "246    78.0\n",
       "247    54.0\n",
       "Name: age, Length: 248, dtype: float64"
      ]
     },
     "execution_count": 389,
     "metadata": {},
     "output_type": "execute_result"
    }
   ],
   "source": [
    "full_combined_df['age']"
   ]
  },
  {
   "cell_type": "markdown",
   "id": "88f9d2dc-bad4-4cd1-832c-3a82642c4301",
   "metadata": {
    "tags": []
   },
   "source": [
    "### evaluating the models trained on the on the ADNI dataset"
   ]
  },
  {
   "cell_type": "code",
   "execution_count": 136,
   "id": "57c8e2ad-3937-4489-8353-7dffc46dd15f",
   "metadata": {},
   "outputs": [],
   "source": [
    "with open(\"generalization_tests_results.csv\", \"w\") as f:\n",
    "    f.write(\"Model Feature Type, WMH seg train, Fazekas Pred Train, Fazekas Pred Eval, WMH seg eval, task, filename, acc, weighted acc\\n\")"
   ]
  },
  {
   "cell_type": "code",
   "execution_count": 137,
   "id": "a67cf9dc-af0f-454c-b315-ae06ba58e12d",
   "metadata": {},
   "outputs": [],
   "source": [
    "def load_and_save_all_models(filename, target, stratify_target=None, regression=False, seg_eval_ds=\"CVD\"):\n",
    "    with open(f'saved_models/{filename}.model', 'rb') as pickle_file:\n",
    "        content = pickle.load(pickle_file)\n",
    "\n",
    "    model_type_name_map = {\"clinical_only\":\"C\",\"c+volume\":\"CV\",\"cv_pred\":\"CVP\", \"cv_pred0.5\":\"CVP0.5\", \"cvp+samples\":\"CVPS\", \"cv_umap\":\"CVH\", \"cvs_umap\":\"CVSH\",\"cvps+umap\":\"CVPSH\"}\n",
    "        \n",
    "    print(\"\\nassess that saved model has the same performance\")\n",
    "\n",
    "    model_results = {}\n",
    "    \n",
    "    for key in content:\n",
    "        data = content[key]\n",
    "        #print(data['remaining_keys'])\n",
    "        acc, balanced_acc, targets, preds = load_and_evaluate_model(data['clf'], data['rescaler'], full_combined_df, model_type=key, remaining_keys = data['remaining_keys'],\n",
    "                       target=target, label_categories=target_fields, \n",
    "                       rescale=True, do_log=False, log_feature_matches=None, \n",
    "                       rem_colinear_feats=True, colinear_ignores=target_fields, regression=regression, stratify_target=stratify_target)\n",
    "        print(f\"{key}: {acc:.2}, {balanced_acc:.2}\")\n",
    "        model_results[key] = (acc, balanced_acc, targets, preds)\n",
    "        \n",
    "#         with open(\"generalization_tests_results.csv\", \"a\") as f:\n",
    "#             model_name = model_type_name_map[key]\n",
    "            \n",
    "#             if \"CHAL\" in filename:\n",
    "#                 wmh_seg_train_ds = \"WMH Challenge\"\n",
    "#             else:\n",
    "#                 wmh_seg_train_ds = \"CVD\"\n",
    "                \n",
    "            \n",
    "#             if \"ADNI\" in filename:\n",
    "#                 fazekas_pred_ds = \"ADNI\"\n",
    "#                 fazekas_eval_ds = \"CVD\"\n",
    "#             else:\n",
    "#                 fazekas_pred_ds = \"CVD\"\n",
    "#                 fazekas_eval_ds = \"ADNI\"\n",
    "                \n",
    "            #f.write(f\"{model_name}, {wmh_seg_train_ds}, {fazekas_pred_ds}, {fazekas_eval_ds}, {seg_eval_ds}, {target}, {filename}, {acc:.2}, {balanced_acc:.2}\\n\")\n",
    "    return model_results"
   ]
  },
  {
   "cell_type": "code",
   "execution_count": 138,
   "id": "d3c0be55-d698-489d-b901-b43ff87f37dc",
   "metadata": {},
   "outputs": [
    {
     "name": "stdout",
     "output_type": "stream",
     "text": [
      "\n",
      "assess that saved model has the same performance\n",
      "clinical_only: 0.2, 0.23\n",
      "c+volume: 0.56, 0.52\n",
      "cv_pred: 0.59, 0.53\n",
      "cv_pred0.5: 0.61, 0.55\n",
      "cvp+samples: 0.61, 0.55\n",
      "cv_umap: 0.62, 0.67\n",
      "cvs_umap: 0.64, 0.64\n",
      "cvps+umap: 0.65, 0.63\n"
     ]
    }
   ],
   "source": [
    "pvwmh_results = load_and_save_all_models(\"ADNI_PVWMH\", \"PVWMH\")"
   ]
  },
  {
   "cell_type": "code",
   "execution_count": 139,
   "id": "e7e913d6-8107-4b2f-926b-21e55b062069",
   "metadata": {},
   "outputs": [
    {
     "data": {
      "image/png": "[encoded data removed]",
      "text/plain": [
       "<Figure size 700x300 with 4 Axes>"
      ]
     },
     "metadata": {},
     "output_type": "display_data"
    }
   ],
   "source": [
    "fig, (ax1, ax2) = plt.subplots(1, 2, figsize=(7, 3))\n",
    "plot_confusion_matrix(pvwmh_results['cv_pred'][2], pvwmh_results['cv_pred'][3], fig, ax1)\n",
    "plot_confusion_matrix(pvwmh_results['cvps+umap'][2], pvwmh_results['cvps+umap'][3], fig, ax2)"
   ]
  },
  {
   "cell_type": "code",
   "execution_count": 140,
   "id": "399e1215-25b8-4049-8f29-39fc75922e6a",
   "metadata": {},
   "outputs": [
    {
     "name": "stdout",
     "output_type": "stream",
     "text": [
      "\n",
      "assess that saved model has the same performance\n",
      "clinical_only: 0.17, 0.24\n",
      "c+volume: 0.42, 0.48\n",
      "cv_pred: 0.5, 0.52\n",
      "cv_pred0.5: 0.54, 0.54\n",
      "cvp+samples: 0.5, 0.53\n",
      "cv_umap: 0.52, 0.53\n",
      "cvs_umap: 0.52, 0.54\n",
      "cvps+umap: 0.53, 0.54\n"
     ]
    }
   ],
   "source": [
    "dwmh08_results = load_and_save_all_models(\"ADNI_DWMH_0.8\", \"DWMH\")"
   ]
  },
  {
   "cell_type": "code",
   "execution_count": 141,
   "id": "396a5d13-8492-47bb-b2a0-a08fabe9d0a3",
   "metadata": {},
   "outputs": [
    {
     "name": "stdout",
     "output_type": "stream",
     "text": [
      "\n",
      "assess that saved model has the same performance\n",
      "clinical_only: 0.17, 0.24\n",
      "c+volume: 0.42, 0.48\n",
      "cv_pred: 0.51, 0.54\n",
      "cv_pred0.5: 0.54, 0.54\n",
      "cvp+samples: 0.49, 0.51\n",
      "cv_umap: 0.51, 0.52\n",
      "cvs_umap: 0.51, 0.52\n",
      "cvps+umap: 0.52, 0.54\n"
     ]
    }
   ],
   "source": [
    "dwmh09_results = load_and_save_all_models(\"ADNI_DWMH_0.9\", \"DWMH\")"
   ]
  },
  {
   "cell_type": "code",
   "execution_count": 711,
   "id": "4aad0e6c-85c8-48e3-bbd5-1a54bbea73dc",
   "metadata": {},
   "outputs": [],
   "source": [
    "#load_and_save_all_models(\"ADNI_total_fazekas\", \"total_fazekas\")"
   ]
  },
  {
   "cell_type": "code",
   "execution_count": 713,
   "id": "cd733a64-6363-4851-a2e5-65f5ca288f3b",
   "metadata": {},
   "outputs": [],
   "source": [
    "#load_and_save_all_models(\"ADNI_sex\", \"PTGENDER\", regression=True)"
   ]
  },
  {
   "cell_type": "markdown",
   "id": "60d76408-f29d-41aa-aeb8-fd0983aca19d",
   "metadata": {},
   "source": [
    "### Evaluate the models trained with the WMH Challenge uncertainty maps"
   ]
  },
  {
   "cell_type": "code",
   "execution_count": 142,
   "id": "92df18cf-3bf6-420e-b586-8f0a1a6fb671",
   "metadata": {},
   "outputs": [
    {
     "name": "stdout",
     "output_type": "stream",
     "text": [
      "\n",
      "assess that saved model has the same performance\n",
      "clinical_only: 0.2, 0.23\n",
      "c+volume: 0.56, 0.52\n",
      "cv_pred: 0.59, 0.53\n",
      "cv_pred0.5: 0.61, 0.55\n",
      "cvp+samples: 0.45, 0.42\n",
      "cv_umap: 0.62, 0.67\n",
      "cvs_umap: 0.54, 0.54\n",
      "cvps+umap: 0.59, 0.62\n"
     ]
    }
   ],
   "source": [
    "chal_pvwmh_results = load_and_save_all_models(\"CHAL_BASED_ADNI_PVWMH\", \"PVWMH\")"
   ]
  },
  {
   "cell_type": "code",
   "execution_count": 143,
   "id": "035118c8-dbd1-4986-a9fb-76613ae5b028",
   "metadata": {},
   "outputs": [
    {
     "data": {
      "image/png": "[encoded data removed]",
      "text/plain": [
       "<Figure size 700x300 with 4 Axes>"
      ]
     },
     "metadata": {},
     "output_type": "display_data"
    }
   ],
   "source": [
    "fig, (ax1, ax2) = plt.subplots(1, 2, figsize=(7, 3))\n",
    "plot_confusion_matrix(chal_pvwmh_results['cv_pred'][2], chal_pvwmh_results['cv_pred'][3], fig, ax1)\n",
    "plot_confusion_matrix(chal_pvwmh_results['cvps+umap'][2], chal_pvwmh_results['cvps+umap'][3], fig, ax2)"
   ]
  },
  {
   "cell_type": "code",
   "execution_count": 145,
   "id": "72830025-819b-4e3a-aa6d-2710ee9bb42d",
   "metadata": {},
   "outputs": [
    {
     "name": "stdout",
     "output_type": "stream",
     "text": [
      "\n",
      "assess that saved model has the same performance\n",
      "clinical_only: 0.17, 0.24\n",
      "c+volume: 0.42, 0.48\n",
      "cv_pred: 0.5, 0.52\n",
      "cv_pred0.5: 0.54, 0.54\n",
      "cvp+samples: 0.37, 0.46\n",
      "cv_umap: 0.52, 0.53\n",
      "cvs_umap: 0.43, 0.53\n",
      "cvps+umap: 0.45, 0.53\n"
     ]
    }
   ],
   "source": [
    "chal_dwmh08_results = load_and_save_all_models(\"CHAL_BASED_ADNI_DWMH_0.8\", \"DWMH\")"
   ]
  },
  {
   "cell_type": "code",
   "execution_count": 146,
   "id": "71410fe0-e223-4b51-922e-dcf8911168eb",
   "metadata": {},
   "outputs": [
    {
     "name": "stdout",
     "output_type": "stream",
     "text": [
      "\n",
      "assess that saved model has the same performance\n",
      "clinical_only: 0.17, 0.24\n",
      "c+volume: 0.42, 0.48\n",
      "cv_pred: 0.51, 0.54\n",
      "cv_pred0.5: 0.54, 0.54\n",
      "cvp+samples: 0.39, 0.48\n",
      "cv_umap: 0.51, 0.52\n",
      "cvs_umap: 0.43, 0.5\n",
      "cvps+umap: 0.45, 0.52\n"
     ]
    }
   ],
   "source": [
    "chal_dwmh09_results = load_and_save_all_models(\"CHAL_BASED_ADNI_DWMH_0.9\", \"DWMH\")"
   ]
  },
  {
   "cell_type": "code",
   "execution_count": 464,
   "id": "48f06e6c-df58-4fa2-8ae4-d01db0c8ee08",
   "metadata": {},
   "outputs": [
    {
     "name": "stdout",
     "output_type": "stream",
     "text": [
      "\n",
      "assess that saved model has the same performance\n",
      "clinical_only: 0.15, 0.14\n",
      "c+volume: 0.15, 0.14\n",
      "cv_pred: 0.15, 0.14\n",
      "cv_pred0.5: 0.15, 0.14\n",
      "cvp+samples: 0.16, 0.16\n",
      "cv_umap: 0.15, 0.15\n",
      "cvs_umap: 0.16, 0.15\n",
      "cvps+umap: 0.24, 0.26\n"
     ]
    }
   ],
   "source": [
    "load_and_save_all_models(\"CHAL_BASED_ADNI_total_fazekas\", \"total_fazekas\")"
   ]
  },
  {
   "cell_type": "code",
   "execution_count": 465,
   "id": "fc314963-609b-46d4-abfe-d3f1700c722b",
   "metadata": {},
   "outputs": [
    {
     "name": "stdout",
     "output_type": "stream",
     "text": [
      "\n",
      "assess that saved model has the same performance\n",
      "clinical_only: 5.6, 0.0\n",
      "c+volume: 2.6, 0.0\n",
      "cv_pred: 3.7, 0.0\n",
      "cv_pred0.5: 2.4, 0.0\n",
      "cvp+samples: 3.6, 0.0\n",
      "cv_umap: 5.7, 0.0\n",
      "cvs_umap: 5.6, 0.0\n",
      "cvps+umap: 5.4, 0.0\n"
     ]
    }
   ],
   "source": [
    "load_and_save_all_models(\"CHAL_BASED_ADNI_sex\", \"PTGENDER\", regression=True)"
   ]
  },
  {
   "cell_type": "markdown",
   "id": "095f1fa9-a236-45a4-a5e1-ef47b294a5f0",
   "metadata": {},
   "source": [
    "### Trying a simpler model"
   ]
  },
  {
   "cell_type": "code",
   "execution_count": 637,
   "id": "abf23a98-852a-4e18-86dd-5a5e202f3d48",
   "metadata": {},
   "outputs": [],
   "source": [
    "def run_prediction_new_simple(df, model_type, thresholds_dict, clf, selected_fields, n_splits=5, val_proportion=0.25, target=\"DWMH\", label_categories=target_fields, stratify_target=None, \n",
    "                   rescale=True, predict_val=True, verbose=False, metric='accuracy', do_log=False, log_feature_matches=None, \n",
    "                   rem_colinear_feats=False, colinear_threshold=0.8, colinear_ignores=target_fields, regression=False):\n",
    "    \n",
    "    df = df.copy() # just to make sure I don't accidently modify the original at any point.\n",
    "    \n",
    "    vprint = VPrint(verbose)\n",
    "    vprint(model_type)\n",
    "    \n",
    "    # create the training data df\n",
    "    df = load_model_df(df, model_type, **thresholds_dict)\n",
    "    \n",
    "    # run preprocessing on the data\n",
    "    #df = shuffle(df)\n",
    "    #print(df.keys().values)\n",
    "    if do_log:\n",
    "        df = shift_and_log_features(df, log_feature_matches, verbose=verbose)\n",
    "    if rem_colinear_feats:\n",
    "        remaining_keys = create_minimal_correlation_keys(df, ignore_keys=colinear_ignores, threshold=colinear_threshold, verbose=verbose)\n",
    "        df = df[remaining_keys + colinear_ignores]\n",
    "    X, y = extract_Xy(df, target, verbose, kept_column=stratify_target, label_categories=label_categories)\n",
    "    X = X.reset_index()\n",
    "    vprint(X.keys())\n",
    "    # print(X.shape)\n",
    "    \n",
    "    columns = X.columns\n",
    "    selected_fields = [f for f in selected_fields if f in columns]\n",
    "    X = X[selected_fields]\n",
    "    \n",
    "    all_results = []\n",
    "    for fold_num in range(n_splits):\n",
    "        (X_train, y_train), (X_test, y_test), (X_val, y_val) = get_fold2(X, y, fold_num=fold_num, n_splits=n_splits, val_proportion=val_proportion, stratify_target=stratify_target)\n",
    "        if rescale:\n",
    "            rescaler = Rescaler()\n",
    "            rescaler.fit(X_train)\n",
    "            X_train = rescaler.predict(X_train)\n",
    "            X_test = rescaler.predict(X_test)\n",
    "            X_val = rescaler.predict(X_val)\n",
    "\n",
    "        # print(len(X_train), len(X_val), len(X_test))\n",
    "\n",
    "        # train model\n",
    "        # vprint(X_train.keys().values)\n",
    "        # print(X_train.keys())\n",
    "        clf.fit(X_train, y_train)\n",
    "\n",
    "        # evaluate model performance and return predictions\n",
    "        if predict_val:\n",
    "            X_target = X_val\n",
    "            y_target = y_val\n",
    "        else:\n",
    "            X_target = X_test\n",
    "            y_target = y_test\n",
    "\n",
    "        y_hat = clf.predict(X_target)\n",
    "        \n",
    "        if not regression:\n",
    "            y_pred = clf.predict_proba(X_target)\n",
    "\n",
    "        if metric == \"accuracy\":\n",
    "            accuracy = accuracy_score(y_target, y_hat)\n",
    "            # print(accuracy)\n",
    "            accuracy = (y_hat == y_target).mean()\n",
    "            # print(accuracy)\n",
    "        \n",
    "            class_preds = defaultdict(list)\n",
    "            for yi in range(len(y_target)):\n",
    "                yi_gt = y_target[yi]\n",
    "                yi_hat = y_hat[yi]\n",
    "                class_preds[yi_gt].append(yi_hat)\n",
    "            # print(class_preds)\n",
    "            class_preds = {yi: torch.Tensor(preds) for (yi, preds) in class_preds.items()}\n",
    "            # print(class_preds)\n",
    "            class_accs = [(preds == yi).sum().item()/preds.shape[0] for (yi, preds) in class_preds.items()]\n",
    "            balanced_accuracy = torch.Tensor(class_accs).mean().item()\n",
    "        \n",
    "            vprint(accuracy, balanced_accuracy)\n",
    "            results= ((accuracy, balanced_accuracy, y_target, y_hat, y_pred))\n",
    "            vprint(\"\\n----\")\n",
    "            #print(\"here\")\n",
    "            \n",
    "        elif metric == \"rmse\":\n",
    "            rmse = np.sqrt(np.mean(np.square(y_target - y_hat)))\n",
    "            #residual_standard_error = \n",
    "            results = (rmse, rmse, y_target, y_hat)\n",
    "\n",
    "        elif metric == \"f1\":\n",
    "            f1 = f1_score(y_target, y_hat, average='macro')\n",
    "            vprint(f1)\n",
    "            results = ((f1, f1, y_target, y_hat, y_pred))\n",
    "\n",
    "        elif metric == \"roc_auc\":\n",
    "            # print(np.unique(y_target))\n",
    "            auc_roc = roc_auc_score(y_target, y_pred, multi_class='ovr')\n",
    "            results = ((auc_roc, auc_roc, y_target, y_hat, y_pred))\n",
    "\n",
    "        all_results.append(results)\n",
    "        # print(y_target)\n",
    "        # print(\"---\")\n",
    "        # print(y_hat)\n",
    "    # print(len(all_results))\n",
    "    return [\n",
    "        torch.Tensor([all_results[k][0] for k in range(len(all_results))]).mean(),\n",
    "        torch.Tensor([all_results[k][1] for k in range(len(all_results))]).mean() ,\n",
    "        torch.cat([torch.Tensor(all_results[k][2]) for k in range(len(all_results))]),\n",
    "        torch.cat([torch.Tensor(all_results[k][3]) for k in range(len(all_results))])\n",
    "    ]"
   ]
  },
  {
   "cell_type": "code",
   "execution_count": 638,
   "id": "215838c6-2578-4d50-859c-f2441e617a5f",
   "metadata": {},
   "outputs": [],
   "source": [
    "def simple_regression_task(target, fs):\n",
    "\n",
    "    S = 12\n",
    "\n",
    "    # clf_reg = BayesianRidge()\n",
    "    clf_reg = LinearRegression()\n",
    "    \n",
    "    all_results = {}\n",
    "\n",
    "    for model_type in model_types:\n",
    "        results = run_prediction_new_simple(full_combined_df, model_type, clf=clf_reg, selected_fields = fs, thresholds_dict=thresholdsv2, colinear_threshold=ct2, n_splits=S, val_proportion=0.0, target=target, stratify_target=\"DWMH\", \n",
    "                       rescale=True, predict_val=False, verbose=False, metric='rmse', do_log=False, log_feature_matches=log_feature_matches, \n",
    "                       rem_colinear_feats=True, colinear_ignores=target_fields, regression=True)\n",
    "        all_results[model_type] = results\n",
    "        print(f\"{model_type}, {results[0]:.2}, {results[1]:.2}\")\n",
    "    \n",
    "    return all_results"
   ]
  },
  {
   "cell_type": "code",
   "execution_count": 647,
   "id": "b9d45482-d365-4c5f-9492-9b601e4344e2",
   "metadata": {},
   "outputs": [
    {
     "name": "stdout",
     "output_type": "stream",
     "text": [
      "clinical_only, 0.13, 0.13\n",
      "c+volume, 0.13, 0.13\n",
      "cv_pred, 0.13, 0.13\n",
      "cvp+samples, 0.13, 0.13\n",
      "cv_umap, 0.13, 0.13\n",
      "cvs_umap, 0.13, 0.13\n",
      "cvps+umap, 0.13, 0.13\n"
     ]
    }
   ],
   "source": [
    "dice_results2 = simple_regression_task(\"dice\", fs=['age', 'sex', 'DWMH', 'pred0.1_cc_unsegmented_ccs'])"
   ]
  },
  {
   "cell_type": "code",
   "execution_count": 641,
   "id": "6ff64ebe-70eb-4bbf-8412-4a46e9995d51",
   "metadata": {},
   "outputs": [
    {
     "data": {
      "text/plain": [
       "Index(['sbjGroup', 'age', 'sex', 'diabetes', 'hypertension', 'hyperlipidaemia',\n",
       "       'ICV', 'WMH', 'PVWMH', 'DWMH', 'deepAtrophy', 'supAtrophy', 'BGPVS',\n",
       "       'CSPVS', 'micrBld', 'smoking_0', 'smoking_1', 'smoking_2',\n",
       "       'total_fazekas', 'scale_fazekas', 'scale_pvs', 'stroke_les',\n",
       "       'scale_stroke', 'dice', 'f1', 'avd', 'recall', 'sample_div_std',\n",
       "       'sample_div_IQR', 'sample_div_skew', 'sample_div_vd_std',\n",
       "       'sample_div_vd_IQR', 'sample_div_vd_skew', 'pred0.5_seg_volume',\n",
       "       'pred0.5_vent_volume', 'pred0.1_cc_num', 'pred0.1_cc_unsegmented_ccs',\n",
       "       'pred0.1_cc_size_mean', 'pred0.1_cc_size_std', 'pred0.1_cc_size_skew',\n",
       "       'pred0.1_cc_size_kurt', 'pred0.1_cc_vd_mean', 'pred0.1_cc_vd_std',\n",
       "       'pred0.1_cc_vd_skew', 'pred0.1_cc_vd_kurt', 'pred0.1_sum',\n",
       "       'pred0.1_mean', 'pred0.1_std', 'pred0.1_skew', 'pred0.1_kurtosis'],\n",
       "      dtype='object')"
      ]
     },
     "execution_count": 641,
     "metadata": {},
     "output_type": "execute_result"
    }
   ],
   "source": [
    "full_combined_df.keys()[:50]"
   ]
  },
  {
   "cell_type": "code",
   "execution_count": 650,
   "id": "a732fdac-c9c2-431f-b54b-efd4368be117",
   "metadata": {},
   "outputs": [
    {
     "data": {
      "text/plain": [
       "Index(['Unnamed: 0', 'ID', 'sbjGroup', 'age', 'sex', 'diabetes',\n",
       "       'hypertension', 'hyperlipidaemia', 'smoking', 'SBP', 'DBP', 'totalChl',\n",
       "       'MMSE', 'ICV', 'WMH', 'PVWMH', 'DWMH', 'deepAtrophy', 'supAtrophy',\n",
       "       'BGPVS', 'CSPVS', 'relLes', 'oldLes', 'micrBld', 'smoking_0',\n",
       "       'smoking_1', 'smoking_2', 'total_fazekas', 'scale_fazekas', 'scale_pvs',\n",
       "       'scale_micrbld', 'stroke_les', 'scale_stroke', 'dice', 'f1', 'avd',\n",
       "       'recall', 'sample_div_std', 'sample_div_IQR', 'sample_div_skew',\n",
       "       'sample_div_vd_std', 'sample_div_vd_IQR', 'sample_div_vd_skew'],\n",
       "      dtype='object')"
      ]
     },
     "execution_count": 650,
     "metadata": {},
     "output_type": "execute_result"
    }
   ],
   "source": [
    "CVD_core_df.keys()"
   ]
  },
  {
   "cell_type": "code",
   "execution_count": 661,
   "id": "c08f12c2-e9f2-42aa-bf38-cf4ff3fa75b6",
   "metadata": {},
   "outputs": [
    {
     "data": {
      "text/plain": [
       "array([False, False, False, False, False, False, False, False, False,\n",
       "       False, False, False, False, False, False, False, False, False,\n",
       "       False, False, False, False, False, False,  True, False, False,\n",
       "       False,  True, False, False, False, False, False, False, False,\n",
       "       False, False, False, False, False, False, False, False, False,\n",
       "       False, False, False, False, False, False, False,  True, False,\n",
       "       False, False, False, False, False, False, False, False, False,\n",
       "       False, False, False, False, False, False, False, False, False,\n",
       "       False, False, False, False,  True, False,  True, False, False,\n",
       "       False, False, False, False, False, False, False, False, False,\n",
       "       False, False,  True, False, False, False,  True,  True, False,\n",
       "       False, False, False, False, False, False, False, False,  True,\n",
       "       False,  True, False, False,  True, False, False, False, False,\n",
       "       False, False, False,  True, False, False, False, False, False,\n",
       "       False, False,  True, False, False, False, False, False, False,\n",
       "       False, False, False, False, False, False, False, False, False,\n",
       "       False, False, False, False, False, False,  True, False, False,\n",
       "        True, False, False, False, False, False, False, False, False,\n",
       "       False, False,  True,  True, False, False, False, False, False,\n",
       "       False, False, False, False, False, False,  True, False, False,\n",
       "       False, False, False, False, False, False, False, False, False,\n",
       "       False, False, False,  True, False, False, False, False, False,\n",
       "       False, False, False, False, False,  True, False, False, False,\n",
       "       False, False, False, False, False,  True, False, False, False,\n",
       "       False, False, False, False, False, False, False, False, False,\n",
       "       False, False, False, False, False, False, False, False, False,\n",
       "       False, False,  True, False, False, False, False, False, False,\n",
       "       False, False, False, False, False])"
      ]
     },
     "execution_count": 661,
     "metadata": {},
     "output_type": "execute_result"
    }
   ],
   "source": [
    "(CVD_core_df['micrBld'] > 1).values"
   ]
  },
  {
   "cell_type": "code",
   "execution_count": 662,
   "id": "6c91a47f-acb9-43c1-926c-9cb91caf22c1",
   "metadata": {},
   "outputs": [
    {
     "data": {
      "text/plain": [
       "array([ 0.,  0.,  1.,  0.,  0.,  0.,  0.,  0.,  0.,  0.,  0., nan,  0.,\n",
       "        0.,  0.,  0.,  0.,  0.,  0.,  0.,  0.,  0.,  0.,  0.,  2.,  0.,\n",
       "        0.,  0.,  3.,  1.,  1.,  0.,  0.,  0.,  0.,  0.,  1.,  0.,  0.,\n",
       "        0.,  0.,  0.,  0.,  0.,  0.,  0.,  0.,  0.,  1.,  1.,  0.,  0.,\n",
       "        2.,  0.,  0.,  0.,  0.,  0.,  0.,  0.,  0.,  0.,  1.,  0.,  0.,\n",
       "        1.,  0.,  0.,  0.,  0.,  0.,  0.,  0.,  0.,  0.,  1.,  8.,  0.,\n",
       "        2.,  0.,  0.,  0.,  0.,  0.,  0.,  0.,  0.,  0.,  0.,  0.,  0.,\n",
       "        0.,  4.,  0.,  0.,  0.,  7., 20.,  0.,  0.,  0.,  0.,  1.,  0.,\n",
       "        0.,  0.,  0.,  5.,  0., 15.,  0.,  1.,  4.,  0.,  0.,  0.,  0.,\n",
       "        0.,  0.,  0.,  2.,  0.,  0.,  0.,  0.,  0.,  0.,  0.,  2.,  0.,\n",
       "        1.,  0.,  0.,  0.,  0.,  0.,  0.,  0.,  0.,  0.,  0.,  0.,  0.,\n",
       "        0.,  0.,  0.,  0.,  0.,  0.,  0.,  3.,  0.,  0.,  5.,  0.,  0.,\n",
       "        0.,  0.,  0.,  0.,  0.,  0.,  0.,  0.,  3., 28.,  0.,  1.,  0.,\n",
       "        0.,  0.,  0.,  0.,  0.,  0.,  0.,  0., 14.,  0.,  0.,  0.,  0.,\n",
       "        1.,  0.,  0.,  0.,  0.,  0.,  1.,  0.,  0.,  0., 13.,  0.,  0.,\n",
       "        0.,  0.,  0.,  0.,  0.,  0.,  0.,  0.,  5.,  1.,  0.,  0.,  0.,\n",
       "        0.,  0.,  0.,  1.,  4.,  1.,  0.,  0.,  0.,  0.,  0.,  1.,  0.,\n",
       "        0.,  0.,  0.,  0.,  0.,  0.,  1.,  0.,  0.,  0.,  0.,  0.,  0.,\n",
       "        0.,  0., 11.,  0.,  1.,  1.,  1.,  0.,  0.,  0.,  0.,  0.,  1.,\n",
       "        1.])"
      ]
     },
     "execution_count": 662,
     "metadata": {},
     "output_type": "execute_result"
    }
   ],
   "source": [
    "CVD_core_df['micrBld'].values"
   ]
  },
  {
   "cell_type": "code",
   "execution_count": null,
   "id": "e8f6798a-5de9-4179-a91d-ce2689c04da5",
   "metadata": {},
   "outputs": [],
   "source": []
  }
 ],
 "metadata": {
  "kernelspec": {
   "display_name": "Python 3 (ipykernel)",
   "language": "python",
   "name": "python3"
  },
  "language_info": {
   "codemirror_mode": {
    "name": "ipython",
    "version": 3
   },
   "file_extension": ".py",
   "mimetype": "text/x-python",
   "name": "python",
   "nbconvert_exporter": "python",
   "pygments_lexer": "ipython3",
   "version": "3.8.10"
  }
 },
 "nbformat": 4,
 "nbformat_minor": 5
}
