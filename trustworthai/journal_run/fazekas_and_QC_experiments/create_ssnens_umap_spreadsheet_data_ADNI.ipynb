{
 "cells": [
  {
   "cell_type": "markdown",
   "id": "229f024d-8140-4c3e-8dd8-3240a867fde3",
   "metadata": {},
   "source": [
    "# feature extraction for logistic ADNI models\n",
    "load the predictions for the validation model for each.\n",
    "\n",
    "and compute the confusion matrix, the precision and f1 score (multiclass)\n",
    "and roc curve maybe? what curves do we use for multiclass.\n"
   ]
  },
  {
   "cell_type": "code",
   "execution_count": 1,
   "id": "732f1512-609f-4f02-93e2-fc7da2a34a7b",
   "metadata": {
    "tags": []
   },
   "outputs": [
    {
     "name": "stdout",
     "output_type": "stream",
     "text": [
      "strawberry\n",
      "banana\n"
     ]
    }
   ],
   "source": [
    "# trainer\n",
    "print(\"strawberry\")\n",
    "from trustworthai.utils.fitting_and_inference.fitters.basic_lightning_fitter import StandardLitModelWrapper\n",
    "from trustworthai.utils.fitting_and_inference.get_trainer import get_trainer\n",
    "\n",
    "# data\n",
    "from twaidata.torchdatasets.MRI_3D_nolabels_inram_ds import MRI_3D_nolabels_inram_ds\n",
    "\n",
    "# packages\n",
    "import os\n",
    "import numpy as np\n",
    "import pandas as pd\n",
    "import matplotlib.pyplot as plt\n",
    "import torch\n",
    "from torchinfo import summary\n",
    "from tqdm import tqdm\n",
    "from collections import defaultdict\n",
    "from natsort import natsorted\n",
    "import torchmetrics\n",
    "print(\"banana\")"
   ]
  },
  {
   "cell_type": "code",
   "execution_count": 2,
   "id": "52c197f2-3465-4660-9142-26346dfafa09",
   "metadata": {
    "tags": []
   },
   "outputs": [],
   "source": [
    "import seaborn as sns\n",
    "import scipy"
   ]
  },
  {
   "cell_type": "markdown",
   "id": "f6f0b1ac-2587-41fe-94ac-e8f0d2a6657e",
   "metadata": {},
   "source": [
    "### Loading ADNI flair mask t1 dataset"
   ]
  },
  {
   "cell_type": "code",
   "execution_count": 3,
   "id": "c39c203e-a4f5-4921-9658-67adae8bc75b",
   "metadata": {
    "tags": []
   },
   "outputs": [],
   "source": [
    "# ADNI_ds = MRI_3D_nolabels_inram_ds(\"/home/s2208943/ipdis/data/preprocessed_data/ADNI_300\")"
   ]
  },
  {
   "cell_type": "code",
   "execution_count": 4,
   "id": "1fc11900-d76a-4307-8387-88e2553073a6",
   "metadata": {
    "tags": []
   },
   "outputs": [],
   "source": [
    "# IDs = ADNI_ds.getIDs()"
   ]
  },
  {
   "cell_type": "code",
   "execution_count": 5,
   "id": "7f86e3bb-9073-4965-8a81-3472553c364e",
   "metadata": {
    "tags": []
   },
   "outputs": [],
   "source": [
    "# len(IDs)"
   ]
  },
  {
   "cell_type": "markdown",
   "id": "2ec7b53a-4ede-4b32-ba6a-80f23a7e392b",
   "metadata": {},
   "source": [
    "### Loading ADNI predictions"
   ]
  },
  {
   "cell_type": "code",
   "execution_count": 6,
   "id": "8cb4854c-4883-45ee-b6c2-2eac488bfa37",
   "metadata": {
    "tags": []
   },
   "outputs": [],
   "source": [
    "# def get_output_maps_for_ds(output_maps_dir, ids):\n",
    "#     output_maps_lists = defaultdict(lambda : [])\n",
    "#     key_order = None\n",
    "#     for ID in tqdm(ids, position=0, leave=True):\n",
    "#         output_maps_data = np.load(f\"{output_maps_dir}{ID}_out_maps.npz\")\n",
    "#         key_order = natsorted(list(output_maps_data.keys()))\n",
    "#         for output_type in key_order:\n",
    "#             output_maps_lists[ID].append(torch.from_numpy(output_maps_data[output_type]))\n",
    "            \n",
    "#     return output_maps_lists, key_order\n",
    "def load_output_maps(output_maps_dir):\n",
    "    output_maps_lists = defaultdict(lambda: [])\n",
    "    for fID in tqdm(os.listdir(output_maps_dir), position=0, leave=True):\n",
    "        # print(fID)\n",
    "        # break\n",
    "        if \".npz\" in fID:\n",
    "            ID = fID.split(\".\")[0]\n",
    "            output_maps_data = np.load(output_maps_dir+fID)\n",
    "            key_order = natsorted(list(output_maps_data.keys()))\n",
    "            for key in key_order:\n",
    "                output_maps_lists[ID].append(torch.from_numpy(output_maps_data[key]))\n",
    "    return output_maps_lists, key_order"
   ]
  },
  {
   "cell_type": "code",
   "execution_count": 7,
   "id": "65539e27-5ae1-40cc-9a30-6a00f3c5fc87",
   "metadata": {
    "tags": []
   },
   "outputs": [
    {
     "name": "stderr",
     "output_type": "stream",
     "text": [
      "100%|███████████████████████████████████████████████████████████████████████████████████████████████████████████████████████████████████████████████████████| 291/291 [01:05<00:00,  4.46it/s]\n"
     ]
    }
   ],
   "source": [
    "# model_name = \"SSN_Ens_Mean\"\n",
    "model_name = \"ssn_ens\"\n",
    "output_maps_dir = f\"/home/s2208943/ipdis/data/preprocessed_data/ADNI_300_output_maps/{model_name}/\"\n",
    "output_maps_for_umaps, key_order = load_output_maps(output_maps_dir)"
   ]
  },
  {
   "cell_type": "code",
   "execution_count": 8,
   "id": "95247376-f196-40d9-aad0-50a629fbbb78",
   "metadata": {
    "tags": []
   },
   "outputs": [],
   "source": [
    "# model_name_for_pred = \"SSN_Ens_Mean\"\n",
    "model_name = \"ssn_ens\"\n",
    "\n",
    "output_maps_for_pred = output_maps_for_umaps\n",
    "key_order_for_pred = key_order"
   ]
  },
  {
   "cell_type": "code",
   "execution_count": 9,
   "id": "3047b0a1-6dcd-4ba1-b997-6dd7831ae516",
   "metadata": {
    "tags": []
   },
   "outputs": [
    {
     "data": {
      "text/plain": [
       "['ent', 'pred', 'seg']"
      ]
     },
     "execution_count": 9,
     "metadata": {},
     "output_type": "execute_result"
    }
   ],
   "source": [
    "key_order"
   ]
  },
  {
   "cell_type": "code",
   "execution_count": 10,
   "id": "04561be7-6226-4fd9-b6a0-144ad4a4ddb7",
   "metadata": {
    "tags": []
   },
   "outputs": [],
   "source": [
    "ID = list(output_maps_for_umaps.keys())[2]"
   ]
  },
  {
   "cell_type": "code",
   "execution_count": 11,
   "id": "84b3b24a-bd85-4e3f-9754-f7d29761c706",
   "metadata": {
    "tags": []
   },
   "outputs": [],
   "source": [
    "img_us = output_maps_for_umaps[ID]\n",
    "img_ps = output_maps_for_pred[ID]"
   ]
  },
  {
   "cell_type": "code",
   "execution_count": 12,
   "id": "6485cc67-1729-4388-affd-abefb31ff57a",
   "metadata": {
    "tags": []
   },
   "outputs": [
    {
     "data": {
      "image/png": "[encoded data removed]",
      "text/plain": [
       "<Figure size 1500x400 with 3 Axes>"
      ]
     },
     "metadata": {},
     "output_type": "display_data"
    }
   ],
   "source": [
    "ent, pred, seg = img_ps\n",
    "plt.figure(figsize=(15,4))\n",
    "islice = 31\n",
    "for i in range(3):\n",
    "    plt.subplot(1, 3, i+1)\n",
    "    plt.imshow(img_ps[i][islice])\n",
    "    plt.axis('off')"
   ]
  },
  {
   "cell_type": "code",
   "execution_count": 13,
   "id": "35004640-9e97-4087-b165-2dd6860cb4c9",
   "metadata": {
    "tags": []
   },
   "outputs": [],
   "source": [
    "t = 0.1\n",
    "ent_voxels = ent[ent > t]\n",
    "pred_voxels = pred[pred > t]\n",
    "# var_voxels = var[var > t/10]"
   ]
  },
  {
   "cell_type": "code",
   "execution_count": 14,
   "id": "a7de86cc-dff5-4eb6-ae1a-d02522bab5a0",
   "metadata": {
    "tags": []
   },
   "outputs": [
    {
     "data": {
      "text/plain": [
       "<Axes: ylabel='Density'>"
      ]
     },
     "execution_count": 14,
     "metadata": {},
     "output_type": "execute_result"
    },
    {
     "data": {
      "image/png": "[encoded data removed]",
      "text/plain": [
       "<Figure size 640x480 with 3 Axes>"
      ]
     },
     "metadata": {},
     "output_type": "display_data"
    }
   ],
   "source": [
    "plt.subplot(1,3,1)\n",
    "sns.kdeplot(ent_voxels)\n",
    "plt.subplot(1,3,2)\n",
    "# sns.kdeplot(var_voxels)\n",
    "plt.subplot(1,3,3)\n",
    "sns.kdeplot(pred_voxels)"
   ]
  },
  {
   "cell_type": "code",
   "execution_count": 15,
   "id": "25fba1d1-4ec2-47b3-8cef-52de0786aa59",
   "metadata": {
    "tags": []
   },
   "outputs": [],
   "source": [
    "def histogram_distribution(values, bins=20, minv=None, maxv=None):\n",
    "    # so that the output values are meaningful, I need to carefully set the min a max. mnin should be t, and max should be the max across all the data I think.\n",
    "    if minv == None:\n",
    "        minv = values.min()\n",
    "    if maxv == None:\n",
    "        maxv = values.max()\n",
    "    counts = torch.zeros(bins)\n",
    "    bounds = torch.arange(minv,maxv, (maxv-minv)/bins)\n",
    "    for i, (lower_bound, upper_bound) in enumerate(zip(bounds[:-1], bounds[1:])):\n",
    "        counts[i] = ((values >= lower_bound) * (values < upper_bound)).sum()\n",
    "\n",
    "    Z = counts.sum()\n",
    "    counts = counts / Z\n",
    "    return counts"
   ]
  },
  {
   "cell_type": "code",
   "execution_count": 16,
   "id": "dbb14042-f93b-488b-9226-bab70c005430",
   "metadata": {
    "tags": []
   },
   "outputs": [],
   "source": [
    "def gaussian_summary_statistics(values):\n",
    "    sum = values.sum().item()\n",
    "    mean = values.mean().item()\n",
    "    std = values.std().item()\n",
    "    skew = scipy.stats.skew(values)\n",
    "    kurtosis = scipy.stats.kurtosis(values, fisher=False)\n",
    "    return sum, mean, std, skew, kurtosis"
   ]
  },
  {
   "cell_type": "code",
   "execution_count": 17,
   "id": "1d345beb-21d2-4d93-bbba-64bf0d7c05bf",
   "metadata": {
    "tags": []
   },
   "outputs": [
    {
     "data": {
      "text/plain": [
       "tensor([0.1581, 0.1194, 0.0913, 0.0749, 0.0586, 0.0590, 0.0524, 0.0520, 0.0406,\n",
       "        0.0344, 0.0284, 0.0265, 0.0256, 0.0240, 0.0249, 0.0284, 0.0280, 0.0338,\n",
       "        0.0398, 0.0000])"
      ]
     },
     "execution_count": 17,
     "metadata": {},
     "output_type": "execute_result"
    }
   ],
   "source": [
    "histogram_distribution(ent_voxels, 20)"
   ]
  },
  {
   "cell_type": "code",
   "execution_count": 18,
   "id": "50440632-afa2-4412-aa15-feda68724897",
   "metadata": {
    "tags": []
   },
   "outputs": [],
   "source": [
    "# counts, counts.sum()"
   ]
  },
  {
   "cell_type": "code",
   "execution_count": 19,
   "id": "e2057fc7-fb44-4b05-987b-9f95dbcf65a5",
   "metadata": {
    "tags": []
   },
   "outputs": [
    {
     "data": {
      "text/plain": [
       "<Axes: ylabel='Count'>"
      ]
     },
     "execution_count": 19,
     "metadata": {},
     "output_type": "execute_result"
    },
    {
     "data": {
      "image/png": "[encoded data removed]",
      "text/plain": [
       "<Figure size 640x480 with 1 Axes>"
      ]
     },
     "metadata": {},
     "output_type": "display_data"
    }
   ],
   "source": [
    "sns.histplot(ent_voxels, bins=20)"
   ]
  },
  {
   "cell_type": "markdown",
   "id": "4a2eebb2-323b-49b9-9fc9-696eccd21f2e",
   "metadata": {},
   "source": [
    "### overlap proportions computation\n",
    "- [x] proportion of segmented area that is uncertain\n",
    "- [x] proportion of uncertain area that is segmented\n",
    "- [x] proportion of uncertain area that is within segmentation + edge expansion"
   ]
  },
  {
   "cell_type": "code",
   "execution_count": 20,
   "id": "9135e5b0-9ca4-4233-bad0-700764113bbc",
   "metadata": {
    "tags": []
   },
   "outputs": [],
   "source": [
    "def get_edge_expanded_seg(seg, expansions=2):\n",
    "    expanded = seg.type(torch.float32).unsqueeze(1)\n",
    "    for _ in range(expansions):\n",
    "        expanded = torch.nn.functional.max_pool3d(expanded, kernel_size=3, padding=1, stride=1)\n",
    "    return expanded.type(seg.dtype).squeeze()"
   ]
  },
  {
   "cell_type": "markdown",
   "id": "29ff30eb-afd9-433d-a9a8-b58d83717eee",
   "metadata": {},
   "source": [
    "### loading the ventricles for ventricle distance analysis"
   ]
  },
  {
   "cell_type": "code",
   "execution_count": 21,
   "id": "b4f7a4bc-0c08-439b-8477-5deb907b7d92",
   "metadata": {
    "tags": []
   },
   "outputs": [],
   "source": [
    "import SimpleITK as sitk\n",
    "import numpy as np\n",
    "import matplotlib.pyplot as plt\n",
    "import os\n",
    "import torchvision.transforms as tv\n",
    "\n",
    "# resamples an image\n",
    "def get_resampled_img(itk_image, out_spacing=[2.0, 2.0, 2.0], original_spacing=[1., 1., 3.], is_label=False):\n",
    "    \n",
    "    if not original_spacing:\n",
    "        # orig spacing can be specified when the input itk_image does not know its actual spacing.\n",
    "        original_spacing = itk_image.GetSpacing()\n",
    "    original_size = itk_image.GetSize()\n",
    "    \n",
    "    # what's this? its how to modify the output size I think...\n",
    "    out_size = [\n",
    "        int(np.round(orig_size * orig_spacing / out_spacing))\n",
    "        for (orig_size, orig_spacing, out_spacing) \n",
    "        in zip(original_size, original_spacing, out_spacing)\n",
    "    ]\n",
    "    \n",
    "    resample = sitk.ResampleImageFilter()\n",
    "    resample.SetOutputSpacing(out_spacing)\n",
    "    resample.SetSize(out_size)\n",
    "    resample.SetOutputDirection(itk_image.GetDirection())      # sets the output direction cosine matrix...\n",
    "    resample.SetOutputOrigin(itk_image.GetOrigin())\n",
    "    resample.SetTransform(sitk.Transform())\n",
    "    resample.SetDefaultPixelValue(itk_image.GetPixelIDValue())\n",
    "    \n",
    "    if is_label:\n",
    "        resample.SetInterpolator(sitk.sitkNearestNeighbor)\n",
    "    else:\n",
    "        resample.SetInterpolator(sitk.sitkBSpline)\n",
    "        \n",
    "    return resample.Execute(itk_image)\n",
    "      \n",
    "def resample_and_return(filename_in, is_label=False, out_spacing=[1., 1., 3.], original_spacing=None):\n",
    "    \"\"\"\n",
    "    resamples an image to custom voxel dimensions and returns image as a numpy array\n",
    "    \n",
    "    filename_in: .nii.gz file to load\n",
    "    is_label: is the file a brain scan or a segmentaion mask\n",
    "    outspacing: the spacing of the image to be resampled to.\n",
    "    \"\"\"\n",
    "        \n",
    "    # resample the image\n",
    "    image = sitk.ReadImage(filename_in)\n",
    "    resampled_image = get_resampled_img(image, out_spacing=out_spacing, original_spacing=original_spacing, is_label=is_label)\n",
    "    \n",
    "    return sitk.GetArrayFromImage(resampled_image)"
   ]
  },
  {
   "cell_type": "code",
   "execution_count": 22,
   "id": "ad90dcde-a922-4fe1-b331-c4e35f468366",
   "metadata": {
    "tags": []
   },
   "outputs": [],
   "source": [
    "# this loop takes a while as its loading from disk and resampling\n",
    "# it takes around 11 minutes\n",
    "\n",
    "cropper = tv.transforms.CenterCrop((220, 220))\n",
    "\n",
    "def load_fast_output(file, slices):\n",
    "    timg = resample_and_return(file, is_label=True)\n",
    "        \n",
    "    # interpolate the channel number and centre crop\n",
    "    timg = torch.Tensor(timg)\n",
    "    timg = torch.nn.functional.interpolate(timg.unsqueeze(0).unsqueeze(0), (slices, *timg.shape[1:])).squeeze()\n",
    "    timg = cropper(timg.view((1, 1, *timg.shape))).squeeze()\n",
    "    \n",
    "    return timg\n",
    "\n"
   ]
  },
  {
   "cell_type": "code",
   "execution_count": 23,
   "id": "39e1b213-4cec-4b37-8c0a-68f628767553",
   "metadata": {
    "tags": []
   },
   "outputs": [],
   "source": [
    "IDs_outmaps = natsorted(list(output_maps_for_umaps.keys()))\n",
    "IDs = [(\"_\".join(idx.split(\"_\")[:-2]), idx) for idx in IDs_outmaps if \"out_maps\" in idx]"
   ]
  },
  {
   "cell_type": "code",
   "execution_count": 24,
   "id": "8ede0b33-91db-4fae-8cfb-0dbe9bd5e089",
   "metadata": {
    "tags": []
   },
   "outputs": [
    {
     "data": {
      "text/plain": [
       "torch.Size([58, 220, 220])"
      ]
     },
     "execution_count": 24,
     "metadata": {},
     "output_type": "execute_result"
    }
   ],
   "source": [
    "output_maps_for_umaps[IDs[0][1]][0].shape"
   ]
  },
  {
   "cell_type": "code",
   "execution_count": 25,
   "id": "0ddfb553-ff06-46cd-96a7-1d09e35faeb2",
   "metadata": {
    "tags": []
   },
   "outputs": [
    {
     "name": "stderr",
     "output_type": "stream",
     "text": [
      "100%|███████████████████████████████████████████████████████████████████████████████████████████████████████████████████████████████████████████████████████| 290/290 [00:25<00:00, 11.47it/s]\n"
     ]
    }
   ],
   "source": [
    "vent_folder = \"/home/s2208943/ipdis/data/preprocessed_data/ADNI_300_ventmapper/\"\n",
    "vent_filenames = os.listdir(vent_folder)\n",
    "ID_ventpath_map = {\"_\".join(f.split(\"_\")[:-1]): vent_folder + f for f in vent_filenames}\n",
    "vent_maps = []\n",
    "for i in tqdm(range(len(IDs)), position=0, leave=True):\n",
    "    ID = IDs[i]\n",
    "    num_slices = output_maps_for_umaps[ID[1]][0].shape[0]\n",
    "    vent_path = ID_ventpath_map[ID[0]]\n",
    "    vent_seg = load_fast_output(vent_path, num_slices)\n",
    "    vent_maps.append(vent_seg)"
   ]
  },
  {
   "cell_type": "code",
   "execution_count": 26,
   "id": "1436f375-8c10-41bf-bb3a-0857fe41f5ab",
   "metadata": {
    "tags": []
   },
   "outputs": [
    {
     "data": {
      "text/plain": [
       "(torch.Size([58, 220, 220]), tensor(33))"
      ]
     },
     "execution_count": 26,
     "metadata": {},
     "output_type": "execute_result"
    }
   ],
   "source": [
    "vent_maps[0].shape, vent_maps[0].sum(dim=(1,2,)).argmax(0)"
   ]
  },
  {
   "cell_type": "code",
   "execution_count": 27,
   "id": "12a6d43a-6de6-4a0e-8950-cd704e667b9c",
   "metadata": {
    "tags": []
   },
   "outputs": [
    {
     "data": {
      "text/plain": [
       "<matplotlib.image.AxesImage at 0x7f7b20449f40>"
      ]
     },
     "execution_count": 27,
     "metadata": {},
     "output_type": "execute_result"
    },
    {
     "data": {
      "image/png": "[encoded data removed]",
      "text/plain": [
       "<Figure size 1500x500 with 3 Axes>"
      ]
     },
     "metadata": {},
     "output_type": "display_data"
    }
   ],
   "source": [
    "islice = 26\n",
    "scan_id = 200\n",
    "plt.figure(figsize=(15, 5))\n",
    "plt.subplot(1,3,1)\n",
    "plt.imshow(vent_maps[scan_id][islice])\n",
    "plt.subplot(1,3,2)\n",
    "plt.imshow(output_maps_for_umaps[IDs[scan_id][1]][0][islice])\n",
    "plt.subplot(1,3,3)\n",
    "img_map = torch.zeros(*vent_maps[0].shape[1:], 3)\n",
    "img_map[:,:,0] = vent_maps[scan_id][islice]\n",
    "img_map[:,:,1] = output_maps_for_umaps[IDs[scan_id][1]][0][islice]\n",
    "plt.imshow(img_map)"
   ]
  },
  {
   "cell_type": "markdown",
   "id": "72be1a31-b0e8-4d6c-b050-935489fec32d",
   "metadata": {},
   "source": [
    "### distance from the ventricles"
   ]
  },
  {
   "cell_type": "code",
   "execution_count": 28,
   "id": "2771725e-8dd0-4b3e-931f-440c9cff01a1",
   "metadata": {
    "tags": []
   },
   "outputs": [],
   "source": [
    "import torch.nn.functional as F\n",
    "def edge_pixels_3D(img):\n",
    "    dtype = img.dtype # preserve original datatype for casting at the end\n",
    "    img = img.type(torch.float32).unsqueeze(0)\n",
    "    \n",
    "    max_pool = F.max_pool3d(img, 3, stride=1, padding=1)\n",
    "    outer_edge = (max_pool != img).type(torch.float32)\n",
    "    \n",
    "    dilated_edge = F.max_pool3d(outer_edge, 3, stride=1, padding=1)\n",
    "    inner_edge = dilated_edge * img\n",
    "    \n",
    "    return inner_edge.type(dtype).squeeze()\n",
    "\n",
    "def edge_pixels(img):\n",
    "    dtype = img.dtype # preserve original datatype for casting at the end\n",
    "    img = img.type(torch.float32)\n",
    "    \n",
    "    max_pool = F.max_pool2d(img, 3, stride=1, padding=1)\n",
    "    outer_edge = (max_pool != img).type(torch.float32)\n",
    "    \n",
    "    dilated_edge = F.max_pool2d(outer_edge, 3, stride=1, padding=1)\n",
    "    inner_edge = dilated_edge * img\n",
    "    \n",
    "    return inner_edge.type(dtype)"
   ]
  },
  {
   "cell_type": "code",
   "execution_count": 29,
   "id": "797998d4-cb20-4df3-a428-51e8c10dbd40",
   "metadata": {
    "tags": []
   },
   "outputs": [],
   "source": [
    "def downsample_3d(img, avg=True):\n",
    "    if avg:\n",
    "        return F.avg_pool3d(img.unsqueeze(0).type(torch.float32), 2, stride=2).squeeze().type(img.dtype)\n",
    "    else:\n",
    "        return F.max_pool3d(img.unsqueeze(0).type(torch.float32), 2, stride=2).squeeze().type(img.dtype)"
   ]
  },
  {
   "cell_type": "code",
   "execution_count": 30,
   "id": "15bffcfa-ae41-4540-be47-21b725eebad1",
   "metadata": {
    "tags": []
   },
   "outputs": [],
   "source": [
    "def min_distances(img, vmap):\n",
    "    # calculate the minimum distance between each point in a and each point in b\n",
    "    \n",
    "    spatial_dims = vmap.squeeze().shape\n",
    "    grid = torch.stack(\n",
    "            torch.meshgrid(\n",
    "                *[torch.arange(0, sdi, 1) for sdi in spatial_dims],\n",
    "                indexing='ij'\n",
    "            )\n",
    "        ).type(torch.float32).to(img.device)\n",
    "    \n",
    "    a = grid[:, img.squeeze() > 0].T.cuda()\n",
    "    b = grid[:, vmap.squeeze() > 0].T.cuda()\n",
    "    \n",
    "    # Calculate pairwise distances between all pairs of points\n",
    "    distances = torch.cdist(a, b)\n",
    "\n",
    "    # Find indices of closest points in b for each point in a\n",
    "    _, indices = torch.min(distances, dim=1)\n",
    "\n",
    "    # Use indices to index into b and get closest points\n",
    "    b_closest = b[indices]\n",
    "\n",
    "    # Calculate distances to closest points \n",
    "    distances_closest = torch.norm(a - b_closest, dim=1)\n",
    "    \n",
    "    distance_map = torch.zeros(img.shape).to(distances_closest.device)\n",
    "    distance_map[img > 0] = distances_closest\n",
    "    \n",
    "    return distances_closest, distance_map"
   ]
  },
  {
   "cell_type": "markdown",
   "id": "1f929aaf-6adb-4768-9d06-c094e44f912b",
   "metadata": {},
   "source": [
    "### connected components analysis"
   ]
  },
  {
   "cell_type": "code",
   "execution_count": 31,
   "id": "82c98c1a-a5a9-4406-b1e1-4e664f35d318",
   "metadata": {
    "tags": []
   },
   "outputs": [],
   "source": [
    "import cc3d"
   ]
  },
  {
   "cell_type": "code",
   "execution_count": 32,
   "id": "cbc4edb3-d1b2-489b-b982-05ccad6d5b7e",
   "metadata": {
    "tags": []
   },
   "outputs": [],
   "source": [
    "def get_conn_comps(img):\n",
    "    connectivity = 6 # only 4,8 (2D) and 26, 18, and 6 (3D) are allowed\n",
    "    labels_out_seg = cc3d.connected_components(img.cpu().numpy(), connectivity=connectivity)\n",
    "    return torch.from_numpy(labels_out_seg.astype(np.int16)).to(img.device)"
   ]
  },
  {
   "cell_type": "code",
   "execution_count": 33,
   "id": "ac76e703-7ae8-4118-8c06-b365887c36a2",
   "metadata": {
    "tags": []
   },
   "outputs": [],
   "source": [
    "def get_edge_expanded_seg(seg, expansions=2):\n",
    "    expanded = seg.type(torch.float32).unsqueeze(1)\n",
    "    for _ in range(expansions):\n",
    "        expanded = torch.nn.functional.max_pool3d(expanded, kernel_size=3, padding=1, stride=1)\n",
    "    return expanded.type(seg.dtype).squeeze()"
   ]
  },
  {
   "cell_type": "code",
   "execution_count": 34,
   "id": "e8883d62-e40e-4883-9273-1f53465ee4d8",
   "metadata": {
    "tags": []
   },
   "outputs": [],
   "source": [
    "def skew(t, dim=None):\n",
    "    \"\"\"\n",
    "    Computes the skewness of a :class:`Tensor`. Note: this function uses cross-approximation (:func:`tntorch.cross()`).\n",
    "\n",
    "    :param t: a :class:`Tensor`\n",
    "\n",
    "    :return: a scalar\n",
    "    \"\"\"\n",
    "\n",
    "    return (((t-t.mean(dim=dim).unsqueeze(dim))/t.std(dim=dim).unsqueeze(dim)).pow(3)).mean(dim=dim)\n",
    "\n",
    "\n",
    "def kurtosis(t, fisher=True, dim=None):\n",
    "    \"\"\"\n",
    "    Computes the kurtosis of a :class:`Tensor`. Note: this function uses cross-approximation (:func:`tntorch.cross()`).\n",
    "\n",
    "    :param t: a :class:`Tensor`\n",
    "    :param fisher: if True (default) Fisher's definition is used, otherwise Pearson's (aka excess)\n",
    "\n",
    "    :return: a scalar\n",
    "    \"\"\"\n",
    "        \n",
    "    return (((t-t.mean(dim=dim).unsqueeze(dim))/t.std(dim=dim).unsqueeze(dim)).pow(4)).mean(dim=dim) - fisher*3"
   ]
  },
  {
   "cell_type": "code",
   "execution_count": 35,
   "id": "99050b0c-0408-4bc0-8bc0-2f456a1d5be9",
   "metadata": {
    "tags": []
   },
   "outputs": [],
   "source": [
    "def one_hot_encoded_image(image):\n",
    "    # for a 3D [H, W, D] shape image\n",
    "    # ensure all IDs are unique\n",
    "    return (image == image.unique().view(-1, 1, 1, 1))\n",
    "\n",
    "def one_hot_encoded_vector(vector):\n",
    "    return (vector == vector.unique().view(-1,1))"
   ]
  },
  {
   "cell_type": "code",
   "execution_count": 36,
   "id": "1658dd1c-4f71-4b56-b4e1-88b458889c04",
   "metadata": {
    "tags": []
   },
   "outputs": [],
   "source": [
    "def conn_comp_basic_stats(umap, conn_comp_map, seg_map, dist_map):\n",
    "    # number of connected components\n",
    "    # size of connected components\n",
    "    # connected component size distribution information\n",
    "    cc_ids = conn_comp_map.unique()\n",
    "    cc_locs = conn_comp_map != 0\n",
    "    conn_comp_map = conn_comp_map[cc_locs]\n",
    "    umap = umap[cc_locs]\n",
    "    seg_map = seg_map[cc_locs]\n",
    "    dist_map = dist_map[cc_locs]\n",
    "    \n",
    "    assert dist_map.shape == seg_map.shape == umap.shape == conn_comp_map.shape\n",
    "    num_ccs = len(cc_ids) - 1\n",
    "    num_ccs_no_overlap = 0\n",
    "    cc_sizes = []\n",
    "    cc_means = []\n",
    "    cc_stds = []\n",
    "    cc_skews = []\n",
    "    cc_kurts = []\n",
    "    cc_vent_dists = []\n",
    "    for cc_id in cc_ids:\n",
    "        if cc_id == 0:\n",
    "            continue\n",
    "        cc = conn_comp_map == cc_id\n",
    "        cc_size = cc.sum().item()\n",
    "        cc_values = umap[cc]\n",
    "        _, mean, std, skew, kurtosis = gaussian_summary_statistics(cc_values.cpu())\n",
    "    \n",
    "        cc_sizes.append(cc_size)\n",
    "        cc_means.append(mean)\n",
    "        cc_stds.append(std)\n",
    "        cc_skews.append(skew)\n",
    "        cc_kurts.append(kurtosis)\n",
    "        \n",
    "        if seg_map[cc].sum() == 0:\n",
    "            num_ccs_no_overlap += 1\n",
    "            \n",
    "        cc_vent_dists.append(dist_map[cc].mean().item())\n",
    "    _, vd_mean, vd_std, vd_skew, vd_kurt = gaussian_summary_statistics(torch.Tensor(cc_vent_dists))\n",
    "    _, size_mean, size_std, size_skew, size_kurt = gaussian_summary_statistics(torch.Tensor(cc_sizes))\n",
    "    \n",
    "    return {\"num\":num_ccs, \"sizes\":cc_sizes, \"means\":cc_means, \"stds\":cc_stds, \"skews\":cc_skews, \"kurts\":cc_kurts, \"vent_dists\":cc_vent_dists, \"unsegmented_ccs\":num_ccs_no_overlap, \"size_mean\":size_mean, \"size_std\":size_std, \"size_skew\":size_skew, \"size_kurt\":size_kurt, \"vd_mean\":vd_mean, \"vd_std\":vd_std, \"vd_skew\":vd_skew, \"vd_kurt\":vd_kurt}\n",
    "\n"
   ]
  },
  {
   "cell_type": "code",
   "execution_count": 37,
   "id": "42ba9f0e-df02-41ad-b49c-e8cb69ede31b",
   "metadata": {
    "tags": []
   },
   "outputs": [],
   "source": [
    "# idx = 0\n",
    "# example_umap = output_maps_for_umaps[IDs[idx][1]][0].cuda()\n",
    "# example_smap = output_maps_for_pred[IDs[idx][1]][2].cuda()\n",
    "# example_vmap = vent_maps[idx].cuda()\n",
    "\n",
    "# vmap_ds = downsample_3d(example_vmap)\n",
    "# umap_ds = downsample_3d(example_umap)\n",
    "# ut_ds = umap_ds > 0.1\n",
    "# ut = example_umap > 0.1\n",
    "# conn_comps = get_conn_comps(ut)\n",
    "\n",
    "# distances_closest, distance_map = min_distances(ut_ds, vmap_ds)\n",
    "# distance_map = F.interpolate(distance_map.view(1, 1, *distance_map.shape), example_umap.shape, mode='trilinear').squeeze()"
   ]
  },
  {
   "cell_type": "code",
   "execution_count": 38,
   "id": "27b30691-96b1-4505-837e-ed520d4f39d8",
   "metadata": {
    "tags": []
   },
   "outputs": [],
   "source": [
    "# cc_data = conn_comp_basic_stats(example_umap, conn_comps, example_smap, distance_map) # from this we could get the mean mean, mean std, mean skew and mean kurtosis for each threshold I guess. # that would be somewhat interesting"
   ]
  },
  {
   "cell_type": "code",
   "execution_count": 39,
   "id": "9d108785-7bdc-4b9c-a1c3-3c8ece10e7e1",
   "metadata": {
    "tags": []
   },
   "outputs": [],
   "source": [
    "# cc_data[\"num\"], cc_data[\"unsegmented_ccs\"]"
   ]
  },
  {
   "cell_type": "code",
   "execution_count": 40,
   "id": "2c033fce-1615-4392-827f-794d54d1046f",
   "metadata": {
    "tags": []
   },
   "outputs": [],
   "source": [
    "# cc_data[\"log_sizes\"] = torch.Tensor(cc_data['sizes']).log()\n",
    "# sns.jointplot(cc_data, y=\"vent_dists\", x=\"log_sizes\", bins=5, kind='hist')"
   ]
  },
  {
   "cell_type": "code",
   "execution_count": 41,
   "id": "cd6c462d-9c5a-4e15-a9fe-80102b7611d0",
   "metadata": {
    "tags": []
   },
   "outputs": [],
   "source": [
    "def joint_hist_values(data, x, y, minx, maxx, miny, maxy, bins=5):\n",
    "    values = torch.stack([torch.Tensor(data[x]), torch.Tensor(data[y])], dim=1) # shape [N, 2]\n",
    "    values = values.expand((bins, bins, *values.shape))\n",
    "    counts = torch.zeros(bins, bins)\n",
    "    bounds_x = torch.arange(minx,maxx, (maxx-minx)/(bins+1)).to(values.device)\n",
    "    bounds_y = torch.arange(miny,maxy, (maxy-miny)/(bins+1)).to(values.device)\n",
    "    upper_xlims = bounds_x[1:].view(1, 5, 1)\n",
    "    upper_ylims = bounds_y[1:].view(5, 1, 1)\n",
    "    lower_xlims = bounds_x[:-1].view(1, 5, 1)\n",
    "    lower_ylims = bounds_y[:-1].view(5, 1, 1)\n",
    "    counts = (values[:,:,:,0] < upper_xlims) * (values[:,:,:,0] > lower_xlims) * (values[:,:,:,1] < upper_ylims) * (values[:,:,:,1] > lower_ylims)\n",
    "    counts = counts.sum(dim=-1)\n",
    "\n",
    "    Z = counts.sum()\n",
    "    counts = counts / Z\n",
    "    return counts\n",
    "\n",
    "\n",
    "# def joint_hist_values2(data, x, y, minx, maxx, miny, maxy, bins=5):\n",
    "#     values = torch.stack([torch.Tensor(data[x]), torch.Tensor(data[y])], dim=1) # shape [N, 2]\n",
    "#     #values = values.expand((bins, bins, *values.shape))\n",
    "#     counts = torch.zeros(bins, bins)\n",
    "#     bounds_x = torch.arange(minx,maxx, (maxx-minx)/(bins+1))\n",
    "#     bounds_y = torch.arange(miny,maxy, (maxy-miny)/(bins+1))\n",
    "#     upper_xlims = bounds_x[1:]\n",
    "#     upper_ylims = bounds_y[1:]\n",
    "#     lower_xlims = bounds_x[:-1]\n",
    "#     lower_ylims = bounds_y[:-1]\n",
    "#     for i, (x1, x2) in enumerate(zip(lower_xlims, upper_xlims)):\n",
    "#         for j, (y1,y2) in enumerate(zip(lower_ylims, upper_ylims)):\n",
    "#             counts[i][j] = ((values[:,0] < x2) * (values[:,0] > x1) * (values[:,1] < y2) * (values[:,1] > y1)).sum()\n",
    "#     # counts = counts.sum(dim=-1)\n",
    "\n",
    "#     Z = counts.sum()\n",
    "#     counts = counts / Z\n",
    "#     return counts"
   ]
  },
  {
   "cell_type": "code",
   "execution_count": 42,
   "id": "37d0eba6-39ad-4676-bd96-ebef6cceacc5",
   "metadata": {
    "tags": []
   },
   "outputs": [],
   "source": [
    "# joint_counts = joint_hist_values2(cc_data, \"log_sizes\", \"vent_dists\", 0, 8, 0, 10, 5)"
   ]
  },
  {
   "cell_type": "code",
   "execution_count": 43,
   "id": "2b06d7ae-154d-4dc5-ba32-07aa021a43cb",
   "metadata": {
    "tags": []
   },
   "outputs": [],
   "source": [
    "# joint_counts.shape"
   ]
  },
  {
   "cell_type": "code",
   "execution_count": 44,
   "id": "2308fdae-8544-4b23-b8fb-3652fda95e33",
   "metadata": {
    "tags": []
   },
   "outputs": [],
   "source": [
    "# plt.imshow(joint_counts); plt.colorbar()"
   ]
  },
  {
   "cell_type": "code",
   "execution_count": 45,
   "id": "020e6a43-cbd8-49b1-b338-e4859b4775cd",
   "metadata": {
    "tags": []
   },
   "outputs": [],
   "source": [
    "# cc_data[\"num\"], cc_data[\"unsegmented_ccs\"]"
   ]
  },
  {
   "cell_type": "code",
   "execution_count": 46,
   "id": "a0a2b95e-a3db-4d48-bc37-a1a68cce0e2b",
   "metadata": {
    "tags": []
   },
   "outputs": [],
   "source": [
    "# summary statistics of log conn comp size:\n",
    "# cc_summary_stats = gaussian_summary_statistics(torch.Tensor(cc_data['sizes']).log())"
   ]
  },
  {
   "cell_type": "code",
   "execution_count": 47,
   "id": "71afb931-324e-496b-b279-befd02a32062",
   "metadata": {
    "tags": []
   },
   "outputs": [],
   "source": [
    "# sum, mean , std, skew, kurtosis of log size of connected components.\n",
    "# cc_summary_stats"
   ]
  },
  {
   "cell_type": "code",
   "execution_count": 48,
   "id": "0ee07ab6-ca8b-4e72-861d-f5d07d88acda",
   "metadata": {
    "tags": []
   },
   "outputs": [],
   "source": [
    "# histogram_distribution(torch.Tensor(cc_data['sizes']).log(), 10)"
   ]
  },
  {
   "cell_type": "code",
   "execution_count": 49,
   "id": "2e29135a-257e-4aa4-b4f4-2d46da0757cd",
   "metadata": {
    "tags": []
   },
   "outputs": [],
   "source": [
    "# plt.hist(torch.Tensor(cc_data['sizes']).log(), bins=10);"
   ]
  },
  {
   "cell_type": "code",
   "execution_count": 50,
   "id": "2432d653-937d-45bc-bbcf-3830a8d46e14",
   "metadata": {
    "tags": []
   },
   "outputs": [],
   "source": [
    "# sns.jointplot(data=cc_data, x=\"sizes\", y=\"kurts\")\n",
    "# plt.xscale('log')"
   ]
  },
  {
   "cell_type": "code",
   "execution_count": 51,
   "id": "3804b34f-ffc4-4d8d-bac5-c4780be9738c",
   "metadata": {
    "tags": []
   },
   "outputs": [],
   "source": [
    "# lets get basic distribution of connected component numbers and size. Then we can get some interesting plots later, so collect as much interesting information as possible...\n",
    "# I can compare this to number and size of connected components in the predicted map (at say tau > 0.5?)\n",
    "# I should get distance of each connected component from the ventricles and size. yes that is a good plot\n",
    "# also distance from the binarized segmentation... (but I need to be careful and do this for pred as well as umap)."
   ]
  },
  {
   "cell_type": "markdown",
   "id": "8b04e44d-d410-4598-a51a-7f5fdbb6c47d",
   "metadata": {},
   "source": [
    "### Uncertainty values that I intended to extract from the umap\n",
    "\n",
    "For SSN Ens for the ent and var maps, and SSN Ens Mean for the pred and seg maps. Nice.\n",
    "I should capture all of these metrics across a variety of metrics, and I can tune the thresholds in cross validation. simples.\n",
    "It may be the case that ent + var together give us some more information. That would be interesting.\n",
    "\n",
    "`output_maps_for_umaps` is the SSN_Ens output\n",
    "`output_maps_for_mean` is the SSN_Ens_mean output\n",
    "\n",
    "- [x] sum\n",
    "- [x] mean\n",
    "- [x] std\n",
    "- [x] skew\n",
    "- [x] kurtosis\n",
    "- [x] kde bins?\n",
    "- [x] ventricle size\n",
    "- [x] intensity distribution (need to ensure that the min and max of the bins are the same across all individuals) \n",
    "- [x] number of connected components\n",
    "- [x] size of connected components distribution, need to ensure that the min and max of the bins are the same across all individuals.\n",
    "- [x] number / distribution of connected components that have no overlap with the segmented mask... (again I need the umap and the pred map to do this) (and I should also compare to the seg map as well perhaps)\n",
    "- [x] uncertainty sum, mean, skew, kurtosis of each connected component. That may be interesting to plot.\n",
    "- [-] distance to the WMH binarized segmentation for each connected component (try to separate out those connected components that are highlighting other stuff).\n",
    "- [-] proportion of the segmented edge deemed uncertain (if we expand the edge of the segmentation then calculate the proportion, we can get the sum of the uncertainty that\n",
    "- [x] proportion of segmented area deemed uncertain (this requires access to SSN Ens and SSN Ens Mean at the same time\n",
    "- [x] proportion of uncertain area that is within the segmentation + edge area\n",
    "- [x] distribution of size of connected components (sum, mean, std, skew)\n",
    "- [x] distance from the ventricles (could do this in x, y and z distributions, or just overall...) I could measure distance x intensity\n",
    "- [x] stats for distance from the ventricles (mean, std, skew, kurtosis, etc)\n",
    "- [x] mean distance from the ventricles of each connected component joint with size in a 5x5 and 10x10 bin option I think. again ensure that the \n",
    "- [ ] predicted seg volume."
   ]
  },
  {
   "cell_type": "markdown",
   "id": "ec8e64dc-0b08-43a4-9e57-51a5468ab30c",
   "metadata": {},
   "source": [
    "### turning all of the above into a big loop\n",
    "\n",
    "need to compute values for:\n",
    "- [x] ent map\n",
    "- [x] var map\n",
    "- [x] pred map\n",
    "- [x] loop over [0.1, 0.15, 0.2, 0.25, 0.3, 0.35, 0.4, 0.45, 0.5] as threshold for ent map\n",
    "- [x] loop over [0.1, 0.2, 0.3, 0.4, 0.5, 0.6] for pred map\n",
    "- [x] loop over ? for ent map"
   ]
  },
  {
   "cell_type": "code",
   "execution_count": 52,
   "id": "5937bcb1-ccf1-4cd2-a703-586883fcea46",
   "metadata": {
    "tags": []
   },
   "outputs": [
    {
     "name": "stderr",
     "output_type": "stream",
     "text": [
      "  0%|                                                                                                                                                                 | 0/290 [00:00<?, ?it/s]"
     ]
    },
    {
     "name": "stdout",
     "output_type": "stream",
     "text": [
      "ADNI_002_S_0729_20110816\n"
     ]
    },
    {
     "name": "stderr",
     "output_type": "stream",
     "text": [
      "/tmp/ipykernel_2842642/1284179010.py:5: RuntimeWarning: Precision loss occurred in moment calculation due to catastrophic cancellation. This occurs when the data are nearly identical. Results may be unreliable.\n",
      "  skew = scipy.stats.skew(values)\n",
      "/tmp/ipykernel_2842642/1284179010.py:6: RuntimeWarning: Precision loss occurred in moment calculation due to catastrophic cancellation. This occurs when the data are nearly identical. Results may be unreliable.\n",
      "  kurtosis = scipy.stats.kurtosis(values, fisher=False)\n"
     ]
    },
    {
     "name": "stdout",
     "output_type": "stream",
     "text": [
      "159 152\n",
      "124 112\n",
      "112 96\n",
      "142 84\n",
      "181 81\n",
      "272 108\n",
      "59 43\n",
      "55 27\n",
      "50 18\n",
      "50 10\n",
      "46 0\n"
     ]
    },
    {
     "name": "stderr",
     "output_type": "stream",
     "text": [
      "  0%|▌                                                                                                                                                        | 1/290 [00:03<15:02,  3.12s/it]"
     ]
    },
    {
     "name": "stdout",
     "output_type": "stream",
     "text": [
      "47 0\n",
      "ADNI_002_S_1155_20111222\n",
      "243 239\n",
      "125 120\n",
      "68 63\n",
      "56 49\n",
      "56 46\n",
      "64 45\n",
      "37 30\n",
      "22 14\n"
     ]
    },
    {
     "name": "stderr",
     "output_type": "stream",
     "text": [
      "  1%|█                                                                                                                                                        | 2/290 [00:04<10:44,  2.24s/it]"
     ]
    },
    {
     "name": "stdout",
     "output_type": "stream",
     "text": [
      "17 8\n",
      "15 3\n",
      "12 0\n",
      "13 0\n",
      "ADNI_002_S_1261_20110314\n",
      "180 175\n",
      "104 98\n",
      "69 62\n",
      "49 40\n",
      "47 36\n",
      "47 32\n",
      "52 41\n",
      "39 27\n",
      "29 15\n",
      "23 6\n",
      "20 0\n"
     ]
    },
    {
     "name": "stderr",
     "output_type": "stream",
     "text": [
      "  1%|█▌                                                                                                                                                       | 3/290 [00:06<09:06,  1.90s/it]"
     ]
    },
    {
     "name": "stdout",
     "output_type": "stream",
     "text": [
      "14 0\n",
      "ADNI_002_S_1280_20110504\n",
      "168 160\n",
      "91 82\n",
      "85 75\n",
      "103 77\n",
      "131 75\n",
      "171 79\n",
      "50 32\n",
      "38 16\n",
      "38 14\n",
      "33 4\n"
     ]
    },
    {
     "name": "stderr",
     "output_type": "stream",
     "text": [
      "  1%|██                                                                                                                                                       | 4/290 [00:08<09:22,  1.97s/it]"
     ]
    },
    {
     "name": "stdout",
     "output_type": "stream",
     "text": [
      "32 0\n",
      "34 0\n",
      "ADNI_002_S_2010_20101022\n",
      "148 140\n",
      "99 90\n",
      "70 60\n",
      "56 45\n",
      "52 34\n",
      "52 27\n",
      "20 11\n"
     ]
    },
    {
     "name": "stderr",
     "output_type": "stream",
     "text": [
      "  2%|██▋                                                                                                                                                      | 5/290 [00:09<08:13,  1.73s/it]"
     ]
    },
    {
     "name": "stdout",
     "output_type": "stream",
     "text": [
      "19 10\n",
      "19 9\n",
      "16 6\n",
      "11 0\n",
      "13 0\n",
      "ADNI_002_S_4213_20111205\n",
      "175 167\n",
      "101 91\n",
      "66 55\n",
      "63 48\n",
      "68 48\n",
      "83 51\n",
      "48 36\n",
      "42 29\n",
      "30 17\n"
     ]
    },
    {
     "name": "stderr",
     "output_type": "stream",
     "text": [
      "  2%|███▏                                                                                                                                                     | 6/290 [00:11<07:55,  1.67s/it]"
     ]
    },
    {
     "name": "stdout",
     "output_type": "stream",
     "text": [
      "22 8\n",
      "15 0\n",
      "7 0\n",
      "ADNI_002_S_4225_20111226\n",
      "289 274\n",
      "197 181\n",
      "142 123\n",
      "120 100\n",
      "104 81\n",
      "90 62\n",
      "75 54\n",
      "68 45\n",
      "50 25\n",
      "42 15\n",
      "32 0\n"
     ]
    },
    {
     "name": "stderr",
     "output_type": "stream",
     "text": [
      "  2%|███▋                                                                                                                                                     | 7/290 [00:13<09:10,  1.95s/it]"
     ]
    },
    {
     "name": "stdout",
     "output_type": "stream",
     "text": [
      "29 0\n",
      "ADNI_002_S_4229_20111221\n",
      "344 330\n",
      "232 212\n",
      "206 184\n",
      "170 145\n",
      "162 133\n",
      "167 120\n",
      "116 90\n",
      "69 39\n",
      "67 34\n",
      "46 11\n"
     ]
    },
    {
     "name": "stderr",
     "output_type": "stream",
     "text": [
      "  3%|████▏                                                                                                                                                    | 8/290 [00:16<11:06,  2.36s/it]"
     ]
    },
    {
     "name": "stdout",
     "output_type": "stream",
     "text": [
      "38 0\n",
      "34 0\n",
      "ADNI_002_S_4237_20110926\n",
      "423 412\n",
      "333 318\n",
      "250 229\n",
      "207 180\n",
      "182 152\n",
      "183 149\n",
      "151 118\n",
      "148 101\n",
      "112 53\n",
      "96 32\n"
     ]
    },
    {
     "name": "stderr",
     "output_type": "stream",
     "text": [
      "  3%|████▋                                                                                                                                                    | 9/290 [00:21<14:03,  3.00s/it]"
     ]
    },
    {
     "name": "stdout",
     "output_type": "stream",
     "text": [
      "96 0\n",
      "73 0\n",
      "ADNI_002_S_4262_20111005\n",
      "308 286\n",
      "266 233\n",
      "236 194\n",
      "205 156\n",
      "210 151\n",
      "233 143\n",
      "150 97\n",
      "128 66\n",
      "118 50\n",
      "92 17\n"
     ]
    },
    {
     "name": "stderr",
     "output_type": "stream",
     "text": [
      "  3%|█████▏                                                                                                                                                  | 10/290 [00:25<15:34,  3.34s/it]"
     ]
    },
    {
     "name": "stdout",
     "output_type": "stream",
     "text": [
      "85 0\n",
      "81 0\n",
      "ADNI_002_S_4270_20111011\n",
      "172 165\n",
      "116 107\n",
      "76 63\n",
      "63 46\n",
      "77 49\n",
      "125 61\n",
      "51 37\n",
      "44 28\n",
      "31 15\n",
      "32 10\n"
     ]
    },
    {
     "name": "stderr",
     "output_type": "stream",
     "text": [
      "  4%|█████▊                                                                                                                                                  | 11/290 [00:27<13:20,  2.87s/it]"
     ]
    },
    {
     "name": "stdout",
     "output_type": "stream",
     "text": [
      "24 0\n",
      "22 0\n",
      "ADNI_002_S_4447_20120814\n",
      "174 154\n",
      "132 110\n",
      "107 81\n",
      "111 66\n",
      "129 70\n",
      "148 75\n",
      "60 35\n",
      "45 17\n",
      "42 10\n",
      "43 7\n"
     ]
    },
    {
     "name": "stderr",
     "output_type": "stream",
     "text": [
      "  4%|██████▎                                                                                                                                                 | 12/290 [00:29<12:26,  2.69s/it]"
     ]
    },
    {
     "name": "stdout",
     "output_type": "stream",
     "text": [
      "46 0\n",
      "47 0\n",
      "ADNI_002_S_4473_20120823\n",
      "442 432\n",
      "309 296\n",
      "194 179\n",
      "151 132\n",
      "125 104\n",
      "124 96\n",
      "98 78\n",
      "67 43\n",
      "65 36\n"
     ]
    },
    {
     "name": "stderr",
     "output_type": "stream",
     "text": [
      "  4%|██████▊                                                                                                                                                 | 13/290 [00:32<13:20,  2.89s/it]"
     ]
    },
    {
     "name": "stdout",
     "output_type": "stream",
     "text": [
      "52 20\n",
      "40 0\n",
      "33 0\n",
      "ADNI_002_S_4521_20120904\n",
      "265 256\n",
      "175 164\n",
      "108 97\n",
      "88 75\n",
      "79 60\n",
      "87 59\n",
      "47 35\n",
      "33 20\n",
      "35 15\n"
     ]
    },
    {
     "name": "stderr",
     "output_type": "stream",
     "text": [
      "  5%|███████▎                                                                                                                                                | 14/290 [00:34<12:11,  2.65s/it]"
     ]
    },
    {
     "name": "stdout",
     "output_type": "stream",
     "text": [
      "32 9\n",
      "29 0\n",
      "21 0\n",
      "ADNI_002_S_4654_20121023\n",
      "221 206\n",
      "126 108\n",
      "93 72\n",
      "99 73\n",
      "90 54\n",
      "102 56\n",
      "60 38\n",
      "49 25\n",
      "37 9\n",
      "36 6\n"
     ]
    },
    {
     "name": "stderr",
     "output_type": "stream",
     "text": [
      "  5%|███████▊                                                                                                                                                | 15/290 [00:37<11:17,  2.46s/it]"
     ]
    },
    {
     "name": "stdout",
     "output_type": "stream",
     "text": [
      "32 0\n",
      "24 0\n",
      "ADNI_006_S_4150_20111107\n",
      "161 154\n",
      "100 93\n",
      "51 44\n",
      "52 40\n",
      "50 35\n",
      "56 36\n",
      "34 25\n",
      "21 11\n"
     ]
    },
    {
     "name": "stderr",
     "output_type": "stream",
     "text": [
      "  6%|████████▍                                                                                                                                               | 16/290 [00:38<09:44,  2.13s/it]"
     ]
    },
    {
     "name": "stdout",
     "output_type": "stream",
     "text": [
      "17 6\n",
      "21 9\n",
      "15 0\n",
      "11 0\n",
      "ADNI_006_S_4153_20111104\n",
      "173 171\n",
      "102 98\n",
      "73 69\n",
      "63 58\n",
      "61 50\n",
      "75 52\n",
      "35 28\n",
      "48 36\n",
      "34 20\n",
      "25 4\n",
      "26 0\n"
     ]
    },
    {
     "name": "stderr",
     "output_type": "stream",
     "text": [
      "  6%|████████▉                                                                                                                                               | 17/290 [00:40<09:02,  1.99s/it]"
     ]
    },
    {
     "name": "stdout",
     "output_type": "stream",
     "text": [
      "28 0\n",
      "ADNI_006_S_4192_20111215\n",
      "295 284\n",
      "222 202\n",
      "187 164\n",
      "144 119\n",
      "137 111\n",
      "128 93\n",
      "92 64\n",
      "68 38\n",
      "59 22\n",
      "50 8\n",
      "51 0\n"
     ]
    },
    {
     "name": "stderr",
     "output_type": "stream",
     "text": [
      "  6%|█████████▍                                                                                                                                              | 18/290 [00:43<10:22,  2.29s/it]"
     ]
    },
    {
     "name": "stdout",
     "output_type": "stream",
     "text": [
      "44 0\n",
      "ADNI_006_S_4357_20111128\n",
      "137 134\n",
      "83 79\n",
      "73 62\n",
      "70 47\n",
      "75 45\n",
      "94 46\n",
      "42 31\n",
      "37 25\n",
      "39 23\n"
     ]
    },
    {
     "name": "stderr",
     "output_type": "stream",
     "text": [
      "  7%|█████████▉                                                                                                                                              | 19/290 [00:44<09:24,  2.08s/it]"
     ]
    },
    {
     "name": "stdout",
     "output_type": "stream",
     "text": [
      "34 11\n",
      "30 0\n",
      "18 0\n",
      "ADNI_006_S_4363_20111116\n",
      "142 137\n",
      "65 60\n",
      "51 43\n",
      "37 27\n",
      "45 29\n",
      "54 34\n",
      "34 24\n",
      "30 19\n"
     ]
    },
    {
     "name": "stderr",
     "output_type": "stream",
     "text": [
      "  7%|██████████▍                                                                                                                                             | 20/290 [00:45<08:15,  1.84s/it]"
     ]
    },
    {
     "name": "stdout",
     "output_type": "stream",
     "text": [
      "25 12\n",
      "21 6\n",
      "19 0\n",
      "20 0\n",
      "ADNI_006_S_4485_20120824\n",
      "220 199\n",
      "165 141\n",
      "134 103\n",
      "150 78\n",
      "232 106\n",
      "320 123\n",
      "71 42\n",
      "60 27\n",
      "58 20\n",
      "54 12\n",
      "53 0\n"
     ]
    },
    {
     "name": "stderr",
     "output_type": "stream",
     "text": [
      "  7%|███████████                                                                                                                                             | 21/290 [00:48<09:56,  2.22s/it]"
     ]
    },
    {
     "name": "stdout",
     "output_type": "stream",
     "text": [
      "52 0\n",
      "ADNI_006_S_4679_20120601\n",
      "194 182\n",
      "129 112\n",
      "95 75\n",
      "115 72\n",
      "143 72\n",
      "179 78\n",
      "67 46\n",
      "47 22\n",
      "43 13\n",
      "41 7\n"
     ]
    },
    {
     "name": "stderr",
     "output_type": "stream",
     "text": [
      "  8%|███████████▌                                                                                                                                            | 22/290 [00:51<10:02,  2.25s/it]"
     ]
    },
    {
     "name": "stdout",
     "output_type": "stream",
     "text": [
      "38 0\n",
      "31 0\n",
      "ADNI_006_S_4713_20121128\n",
      "183 175\n",
      "111 100\n",
      "75 63\n",
      "75 58\n",
      "80 47\n",
      "90 45\n",
      "39 27\n",
      "38 24\n",
      "24 7\n",
      "29 9\n",
      "24 0\n"
     ]
    },
    {
     "name": "stderr",
     "output_type": "stream",
     "text": [
      "  8%|████████████                                                                                                                                            | 23/290 [00:53<09:17,  2.09s/it]"
     ]
    },
    {
     "name": "stdout",
     "output_type": "stream",
     "text": [
      "21 0\n",
      "ADNI_006_S_4960_20121009\n",
      "240 228\n",
      "167 154\n",
      "133 118\n",
      "103 87\n",
      "105 87\n",
      "127 103\n",
      "103 86\n",
      "84 65\n",
      "59 36\n",
      "48 20\n",
      "35 0\n"
     ]
    },
    {
     "name": "stderr",
     "output_type": "stream",
     "text": [
      "  8%|████████████▌                                                                                                                                           | 24/290 [00:55<09:51,  2.23s/it]"
     ]
    },
    {
     "name": "stdout",
     "output_type": "stream",
     "text": [
      "32 0\n",
      "ADNI_009_S_2208_20101201\n",
      "140 133\n",
      "84 76\n",
      "53 43\n",
      "64 46\n",
      "68 45\n",
      "76 41\n",
      "36 28\n",
      "25 17\n",
      "23 15\n",
      "17 9\n"
     ]
    },
    {
     "name": "stderr",
     "output_type": "stream",
     "text": [
      "  9%|█████████████                                                                                                                                           | 25/290 [00:56<08:43,  1.98s/it]"
     ]
    },
    {
     "name": "stdout",
     "output_type": "stream",
     "text": [
      "14 0\n",
      "10 0\n",
      "ADNI_009_S_4324_20111101\n",
      "147 142\n",
      "84 76\n",
      "59 49\n",
      "57 36\n",
      "67 37\n",
      "89 38\n",
      "28 16\n",
      "25 12\n",
      "25 11\n"
     ]
    },
    {
     "name": "stderr",
     "output_type": "stream",
     "text": [
      "  9%|█████████████▋                                                                                                                                          | 26/290 [00:58<08:01,  1.82s/it]"
     ]
    },
    {
     "name": "stdout",
     "output_type": "stream",
     "text": [
      "26 8\n",
      "19 0\n",
      "12 0\n",
      "ADNI_009_S_4359_20111205\n",
      "130 124\n",
      "67 61\n",
      "46 38\n",
      "38 23\n",
      "53 29\n",
      "62 27\n",
      "23 15\n",
      "16 6\n",
      "25 10\n",
      "29 8\n"
     ]
    },
    {
     "name": "stderr",
     "output_type": "stream",
     "text": [
      "  9%|██████████████▏                                                                                                                                         | 27/290 [00:59<07:18,  1.67s/it]"
     ]
    },
    {
     "name": "stdout",
     "output_type": "stream",
     "text": [
      "32 0\n",
      "38 0\n",
      "ADNI_009_S_4388_20111213\n",
      "114 110\n",
      "48 42\n",
      "44 33\n",
      "60 34\n",
      "75 34\n",
      "106 39\n",
      "26 16\n",
      "25 14\n"
     ]
    },
    {
     "name": "stderr",
     "output_type": "stream",
     "text": [
      " 10%|██████████████▋                                                                                                                                         | 28/290 [01:01<06:50,  1.57s/it]"
     ]
    },
    {
     "name": "stdout",
     "output_type": "stream",
     "text": [
      "19 6\n",
      "20 1\n",
      "19 0\n",
      "10 0\n",
      "ADNI_009_S_4543_20120912\n",
      "76 71\n",
      "51 44\n",
      "61 49\n",
      "78 52\n",
      "103 52\n",
      "126 56\n",
      "42 33\n",
      "32 20\n",
      "30 13\n",
      "31 11\n",
      "24 0\n"
     ]
    },
    {
     "name": "stderr",
     "output_type": "stream",
     "text": [
      " 10%|███████████████▏                                                                                                                                        | 29/290 [01:02<06:43,  1.55s/it]"
     ]
    },
    {
     "name": "stdout",
     "output_type": "stream",
     "text": [
      "19 0\n",
      "ADNI_009_S_4612_20121011\n",
      "190 174\n",
      "162 138\n",
      "155 122\n",
      "150 107\n",
      "164 105\n",
      "221 108\n",
      "84 43\n",
      "75 28\n",
      "73 19\n",
      "83 14\n",
      "83 0\n"
     ]
    },
    {
     "name": "stderr",
     "output_type": "stream",
     "text": [
      " 10%|███████████████▋                                                                                                                                        | 30/290 [01:05<08:36,  1.99s/it]"
     ]
    },
    {
     "name": "stdout",
     "output_type": "stream",
     "text": [
      "71 0\n",
      "ADNI_009_S_4741_20121015\n",
      "243 229\n",
      "163 146\n",
      "134 113\n",
      "115 91\n",
      "116 84\n",
      "134 78\n",
      "93 68\n",
      "73 44\n",
      "53 21\n"
     ]
    },
    {
     "name": "stderr",
     "output_type": "stream",
     "text": [
      " 11%|████████████████▏                                                                                                                                       | 31/290 [01:08<09:15,  2.15s/it]"
     ]
    },
    {
     "name": "stdout",
     "output_type": "stream",
     "text": [
      "43 8\n",
      "38 0\n",
      "37 0\n",
      "ADNI_010_S_4345_20120920\n",
      "216 209\n",
      "166 158\n",
      "89 79\n",
      "82 63\n",
      "88 54\n",
      "113 61\n",
      "38 24\n",
      "29 15\n"
     ]
    },
    {
     "name": "stderr",
     "output_type": "stream",
     "text": [
      " 11%|████████████████▊                                                                                                                                       | 32/290 [01:10<08:59,  2.09s/it]"
     ]
    },
    {
     "name": "stdout",
     "output_type": "stream",
     "text": [
      "28 12\n",
      "24 8\n",
      "22 0\n",
      "20 0\n",
      "ADNI_011_S_0021_20101008\n",
      "180 176\n",
      "108 101\n",
      "74 67\n",
      "66 52\n",
      "61 42\n",
      "63 36\n",
      "36 29\n",
      "31 24\n"
     ]
    },
    {
     "name": "stderr",
     "output_type": "stream",
     "text": [
      " 11%|█████████████████▎                                                                                                                                      | 33/290 [01:11<08:12,  1.92s/it]"
     ]
    },
    {
     "name": "stdout",
     "output_type": "stream",
     "text": [
      "23 13\n",
      "15 4\n",
      "12 0\n",
      "12 0\n",
      "ADNI_011_S_0023_20121227\n",
      "158 150\n",
      "96 86\n",
      "79 67\n",
      "83 55\n",
      "91 52\n",
      "103 54\n",
      "57 43\n",
      "40 26\n",
      "33 18\n",
      "25 8\n"
     ]
    },
    {
     "name": "stderr",
     "output_type": "stream",
     "text": [
      " 12%|█████████████████▊                                                                                                                                      | 34/290 [01:13<07:57,  1.87s/it]"
     ]
    },
    {
     "name": "stdout",
     "output_type": "stream",
     "text": [
      "21 0\n",
      "18 0\n",
      "ADNI_011_S_2274_20110818\n",
      "269 266\n",
      "130 125\n",
      "100 91\n",
      "102 77\n",
      "106 67\n",
      "148 77\n",
      "63 49\n",
      "50 35\n",
      "43 24\n",
      "36 12\n"
     ]
    },
    {
     "name": "stderr",
     "output_type": "stream",
     "text": [
      " 12%|██████████████████▎                                                                                                                                     | 35/290 [01:15<08:29,  2.00s/it]"
     ]
    },
    {
     "name": "stdout",
     "output_type": "stream",
     "text": [
      "37 0\n",
      "36 0\n",
      "ADNI_011_S_4075_20111214\n",
      "126 122\n",
      "73 67\n",
      "52 45\n",
      "44 32\n",
      "54 37\n",
      "75 38\n",
      "29 21\n",
      "28 18\n",
      "20 7\n",
      "17 1\n"
     ]
    },
    {
     "name": "stderr",
     "output_type": "stream",
     "text": [
      " 12%|██████████████████▊                                                                                                                                     | 36/290 [01:16<07:33,  1.79s/it]"
     ]
    },
    {
     "name": "stdout",
     "output_type": "stream",
     "text": [
      "20 0\n",
      "17 0\n",
      "ADNI_011_S_4105_20111005\n",
      "140 134\n",
      "89 81\n",
      "66 54\n",
      "78 50\n",
      "95 53\n",
      "124 61\n",
      "40 30\n",
      "35 23\n"
     ]
    },
    {
     "name": "stderr",
     "output_type": "stream",
     "text": [
      " 13%|███████████████████▍                                                                                                                                    | 37/290 [01:18<07:21,  1.74s/it]"
     ]
    },
    {
     "name": "stdout",
     "output_type": "stream",
     "text": [
      "27 14\n",
      "22 6\n",
      "19 0\n",
      "14 0\n",
      "ADNI_011_S_4120_20111010\n",
      "127 121\n",
      "74 66\n",
      "55 42\n",
      "66 40\n",
      "84 45\n",
      "122 48\n",
      "32 22\n",
      "24 12\n"
     ]
    },
    {
     "name": "stderr",
     "output_type": "stream",
     "text": [
      " 13%|███████████████████▉                                                                                                                                    | 38/290 [01:20<07:02,  1.68s/it]"
     ]
    },
    {
     "name": "stdout",
     "output_type": "stream",
     "text": [
      "23 9\n",
      "21 3\n",
      "22 0\n",
      "26 0\n",
      "ADNI_011_S_4222_20111207\n",
      "157 148\n",
      "105 96\n",
      "60 49\n",
      "62 34\n",
      "87 40\n",
      "128 44\n",
      "36 22\n",
      "28 12\n"
     ]
    },
    {
     "name": "stderr",
     "output_type": "stream",
     "text": [
      " 13%|████████████████████▍                                                                                                                                   | 39/290 [01:21<07:00,  1.67s/it]"
     ]
    },
    {
     "name": "stdout",
     "output_type": "stream",
     "text": [
      "21 5\n",
      "19 2\n",
      "23 0\n",
      "25 0\n",
      "ADNI_011_S_4235_20111219\n",
      "213 205\n",
      "143 132\n",
      "90 79\n",
      "83 59\n",
      "97 59\n",
      "115 53\n",
      "56 42\n",
      "38 21\n",
      "37 16\n",
      "30 2\n"
     ]
    },
    {
     "name": "stderr",
     "output_type": "stream",
     "text": [
      " 14%|████████████████████▉                                                                                                                                   | 40/290 [01:23<07:26,  1.78s/it]"
     ]
    },
    {
     "name": "stdout",
     "output_type": "stream",
     "text": [
      "40 0\n",
      "34 0\n",
      "ADNI_011_S_4278_20111013\n",
      "167 163\n",
      "101 97\n",
      "77 71\n",
      "80 67\n",
      "86 65\n",
      "84 47\n",
      "44 36\n",
      "33 22\n",
      "29 16\n",
      "28 12\n",
      "29 0\n"
     ]
    },
    {
     "name": "stderr",
     "output_type": "stream",
     "text": [
      " 14%|█████████████████████▍                                                                                                                                  | 41/290 [01:25<07:17,  1.76s/it]"
     ]
    },
    {
     "name": "stdout",
     "output_type": "stream",
     "text": [
      "24 0\n",
      "ADNI_011_S_4547_20120912\n",
      "191 179\n",
      "137 121\n",
      "95 77\n",
      "88 62\n",
      "92 51\n",
      "128 61\n",
      "65 46\n",
      "41 20\n",
      "50 25\n"
     ]
    },
    {
     "name": "stderr",
     "output_type": "stream",
     "text": [
      " 14%|██████████████████████                                                                                                                                  | 42/290 [01:27<07:41,  1.86s/it]"
     ]
    },
    {
     "name": "stdout",
     "output_type": "stream",
     "text": [
      "53 21\n",
      "35 0\n",
      "28 0\n",
      "ADNI_012_S_4012_20111107\n",
      "155 150\n",
      "92 86\n",
      "63 56\n",
      "57 42\n",
      "41 26\n",
      "41 24\n",
      "27 20\n",
      "19 10\n",
      "14 5\n",
      "15 3\n",
      "16 0\n"
     ]
    },
    {
     "name": "stderr",
     "output_type": "stream",
     "text": [
      " 15%|██████████████████████▌                                                                                                                                 | 43/290 [01:28<06:57,  1.69s/it]"
     ]
    },
    {
     "name": "stdout",
     "output_type": "stream",
     "text": [
      "17 0\n",
      "ADNI_012_S_4094_20111006\n",
      "214 208\n",
      "123 116\n",
      "99 92\n",
      "77 69\n",
      "76 63\n",
      "67 49\n",
      "40 33\n",
      "26 19\n"
     ]
    },
    {
     "name": "stderr",
     "output_type": "stream",
     "text": [
      " 15%|███████████████████████                                                                                                                                 | 44/290 [01:30<06:53,  1.68s/it]"
     ]
    },
    {
     "name": "stdout",
     "output_type": "stream",
     "text": [
      "18 11\n",
      "14 6\n",
      "8 0\n",
      "4 0\n",
      "ADNI_012_S_4128_20111101\n",
      "275 258\n",
      "196 177\n",
      "169 150\n",
      "127 106\n",
      "112 85\n",
      "128 84\n",
      "93 70\n",
      "66 42\n",
      "52 26\n"
     ]
    },
    {
     "name": "stderr",
     "output_type": "stream",
     "text": [
      " 16%|███████████████████████▌                                                                                                                                | 45/290 [01:33<08:04,  1.98s/it]"
     ]
    },
    {
     "name": "stdout",
     "output_type": "stream",
     "text": [
      "43 14\n",
      "37 0\n",
      "31 0\n",
      "ADNI_012_S_4188_20111213\n",
      "212 205\n",
      "120 111\n",
      "91 78\n",
      "93 73\n",
      "101 68\n",
      "133 71\n",
      "37 26\n",
      "33 19\n"
     ]
    },
    {
     "name": "stderr",
     "output_type": "stream",
     "text": [
      " 16%|████████████████████████                                                                                                                                | 46/290 [01:35<07:59,  1.96s/it]"
     ]
    },
    {
     "name": "stdout",
     "output_type": "stream",
     "text": [
      "31 15\n",
      "25 9\n",
      "20 0\n",
      "17 0\n",
      "ADNI_012_S_4545_20120924\n",
      "158 140\n",
      "116 97\n",
      "106 84\n",
      "115 82\n",
      "125 87\n",
      "136 84\n",
      "85 61\n",
      "54 27\n",
      "38 11\n",
      "38 9\n"
     ]
    },
    {
     "name": "stderr",
     "output_type": "stream",
     "text": [
      " 16%|████████████████████████▋                                                                                                                               | 47/290 [01:37<08:11,  2.02s/it]"
     ]
    },
    {
     "name": "stdout",
     "output_type": "stream",
     "text": [
      "30 0\n",
      "29 0\n",
      "ADNI_012_S_4643_20120627\n",
      "173 164\n",
      "83 74\n",
      "66 55\n",
      "77 56\n",
      "86 57\n",
      "104 58\n",
      "46 35\n",
      "27 16\n"
     ]
    },
    {
     "name": "stderr",
     "output_type": "stream",
     "text": [
      " 17%|█████████████████████████▏                                                                                                                              | 48/290 [01:38<07:36,  1.89s/it]"
     ]
    },
    {
     "name": "stdout",
     "output_type": "stream",
     "text": [
      "21 9\n",
      "16 3\n",
      "13 0\n",
      "11 0\n",
      "ADNI_013_S_1186_20110223\n",
      "182 176\n",
      "114 107\n",
      "90 80\n",
      "106 79\n",
      "127 77\n",
      "198 85\n",
      "55 39\n",
      "46 28\n",
      "39 20\n",
      "30 8\n"
     ]
    },
    {
     "name": "stderr",
     "output_type": "stream",
     "text": [
      " 17%|█████████████████████████▋                                                                                                                              | 49/290 [01:41<07:54,  1.97s/it]"
     ]
    },
    {
     "name": "stdout",
     "output_type": "stream",
     "text": [
      "25 0\n",
      "23 0\n",
      "ADNI_013_S_4268_20111101\n",
      "176 171\n",
      "105 100\n",
      "76 70\n",
      "61 51\n",
      "54 44\n",
      "47 36\n",
      "41 31\n",
      "36 25\n"
     ]
    },
    {
     "name": "stderr",
     "output_type": "stream",
     "text": [
      " 17%|██████████████████████████▏                                                                                                                             | 50/290 [01:42<07:17,  1.82s/it]"
     ]
    },
    {
     "name": "stdout",
     "output_type": "stream",
     "text": [
      "20 9\n",
      "21 7\n",
      "16 0\n",
      "15 0\n",
      "ADNI_013_S_4395_20120815\n",
      "137 122\n",
      "101 83\n",
      "101 75\n",
      "142 90\n",
      "189 100\n",
      "295 135\n",
      "80 53\n",
      "68 39\n",
      "62 28\n",
      "51 13\n",
      "45 0\n"
     ]
    },
    {
     "name": "stderr",
     "output_type": "stream",
     "text": [
      " 18%|██████████████████████████▋                                                                                                                             | 51/290 [01:45<08:16,  2.08s/it]"
     ]
    },
    {
     "name": "stdout",
     "output_type": "stream",
     "text": [
      "48 0\n",
      "ADNI_013_S_4580_20121015\n",
      "258 247\n",
      "158 146\n",
      "110 95\n",
      "100 78\n",
      "108 83\n",
      "112 79\n",
      "70 51\n",
      "50 28\n",
      "47 22\n"
     ]
    },
    {
     "name": "stderr",
     "output_type": "stream",
     "text": [
      " 18%|███████████████████████████▎                                                                                                                            | 52/290 [01:47<08:30,  2.14s/it]"
     ]
    },
    {
     "name": "stdout",
     "output_type": "stream",
     "text": [
      "38 12\n",
      "32 0\n",
      "26 0\n",
      "ADNI_013_S_4595_20121024\n",
      "308 302\n",
      "239 231\n",
      "142 131\n",
      "111 98\n",
      "93 79\n",
      "91 68\n",
      "64 49\n",
      "56 35\n",
      "38 15\n",
      "37 10\n"
     ]
    },
    {
     "name": "stderr",
     "output_type": "stream",
     "text": [
      " 18%|███████████████████████████▊                                                                                                                            | 53/290 [01:49<08:54,  2.26s/it]"
     ]
    },
    {
     "name": "stdout",
     "output_type": "stream",
     "text": [
      "33 0\n",
      "24 0\n",
      "ADNI_013_S_4616_20121025\n",
      "410 402\n",
      "323 312\n",
      "261 249\n",
      "222 197\n",
      "217 175\n",
      "249 160\n",
      "103 90\n",
      "65 49\n",
      "42 24\n",
      "31 11\n",
      "25 0\n"
     ]
    },
    {
     "name": "stderr",
     "output_type": "stream",
     "text": [
      " 19%|████████████████████████████▎                                                                                                                           | 54/290 [01:53<10:42,  2.72s/it]"
     ]
    },
    {
     "name": "stdout",
     "output_type": "stream",
     "text": [
      "19 0\n",
      "ADNI_014_S_2308_20110908\n",
      "260 254\n",
      "172 166\n",
      "122 115\n",
      "79 72\n",
      "78 69\n",
      "68 56\n",
      "36 29\n",
      "24 16\n",
      "22 12\n",
      "16 3\n"
     ]
    },
    {
     "name": "stderr",
     "output_type": "stream",
     "text": [
      " 19%|████████████████████████████▊                                                                                                                           | 55/290 [01:55<09:42,  2.48s/it]"
     ]
    },
    {
     "name": "stdout",
     "output_type": "stream",
     "text": [
      "14 0\n",
      "12 0\n",
      "ADNI_014_S_4039_20111208\n",
      "196 189\n",
      "133 125\n",
      "84 76\n",
      "43 35\n",
      "35 26\n",
      "35 24\n",
      "34 25\n",
      "18 9\n",
      "18 8\n",
      "18 4\n"
     ]
    },
    {
     "name": "stderr",
     "output_type": "stream",
     "text": [
      " 19%|█████████████████████████████▎                                                                                                                          | 56/290 [01:57<08:26,  2.16s/it]"
     ]
    },
    {
     "name": "stdout",
     "output_type": "stream",
     "text": [
      "14 0\n",
      "12 0\n",
      "ADNI_014_S_4058_20111222\n",
      "132 124\n",
      "80 68\n",
      "69 55\n",
      "53 34\n",
      "65 35\n",
      "79 30\n",
      "34 18\n",
      "29 11\n",
      "22 4\n"
     ]
    },
    {
     "name": "stderr",
     "output_type": "stream",
     "text": [
      " 20%|█████████████████████████████▉                                                                                                                          | 57/290 [01:58<07:33,  1.95s/it]"
     ]
    },
    {
     "name": "stdout",
     "output_type": "stream",
     "text": [
      "27 5\n",
      "24 0\n",
      "24 0\n",
      "ADNI_014_S_4079_20111215\n",
      "144 141\n",
      "79 75\n",
      "72 66\n",
      "54 39\n",
      "76 41\n",
      "90 38\n",
      "26 21\n",
      "17 11\n",
      "24 15\n",
      "25 6\n"
     ]
    },
    {
     "name": "stderr",
     "output_type": "stream",
     "text": [
      " 20%|██████████████████████████████▍                                                                                                                         | 58/290 [02:00<07:00,  1.81s/it]"
     ]
    },
    {
     "name": "stdout",
     "output_type": "stream",
     "text": [
      "26 0\n",
      "33 0\n",
      "ADNI_014_S_4263_20111006\n",
      "319 299\n",
      "227 204\n",
      "188 162\n",
      "157 128\n",
      "153 123\n",
      "129 94\n",
      "91 62\n",
      "61 32\n",
      "46 17\n",
      "36 6\n"
     ]
    },
    {
     "name": "stderr",
     "output_type": "stream",
     "text": [
      " 20%|██████████████████████████████▉                                                                                                                         | 59/290 [02:03<08:16,  2.15s/it]"
     ]
    },
    {
     "name": "stdout",
     "output_type": "stream",
     "text": [
      "32 0\n",
      "28 0\n",
      "ADNI_014_S_4328_20111107\n",
      "197 191\n",
      "129 123\n",
      "91 85\n",
      "54 48\n",
      "45 39\n",
      "43 36\n"
     ]
    },
    {
     "name": "stderr",
     "output_type": "stream",
     "text": [
      " 21%|███████████████████████████████▍                                                                                                                        | 60/290 [02:04<07:23,  1.93s/it]"
     ]
    },
    {
     "name": "stdout",
     "output_type": "stream",
     "text": [
      "30 24\n",
      "15 9\n",
      "7 1\n",
      "8 1\n",
      "8 0\n",
      "9 0\n",
      "ADNI_014_S_4401_20111202\n",
      "162 156\n",
      "108 102\n",
      "63 56\n",
      "40 33\n",
      "29 22\n",
      "38 28\n",
      "28 21\n",
      "21 13\n",
      "15 5\n",
      "15 1\n"
     ]
    },
    {
     "name": "stderr",
     "output_type": "stream",
     "text": [
      " 21%|███████████████████████████████▉                                                                                                                        | 61/290 [02:05<06:36,  1.73s/it]"
     ]
    },
    {
     "name": "stdout",
     "output_type": "stream",
     "text": [
      "17 0\n",
      "20 0\n",
      "ADNI_014_S_4576_20120920\n",
      "111 104\n",
      "68 61\n",
      "47 39\n",
      "40 29\n",
      "49 31\n",
      "65 30\n",
      "26 17\n",
      "12 3\n",
      "13 2\n",
      "15 2\n",
      "15 0\n"
     ]
    },
    {
     "name": "stderr",
     "output_type": "stream",
     "text": [
      " 21%|████████████████████████████████▍                                                                                                                       | 62/290 [02:06<05:54,  1.55s/it]"
     ]
    },
    {
     "name": "stdout",
     "output_type": "stream",
     "text": [
      "12 0\n",
      "ADNI_018_S_2155_20101202\n",
      "215 205\n",
      "138 127\n",
      "106 92\n",
      "85 69\n",
      "73 49\n",
      "82 49\n",
      "53 39\n",
      "36 19\n",
      "42 20\n"
     ]
    },
    {
     "name": "stderr",
     "output_type": "stream",
     "text": [
      " 22%|█████████████████████████████████                                                                                                                       | 63/290 [02:08<06:20,  1.67s/it]"
     ]
    },
    {
     "name": "stdout",
     "output_type": "stream",
     "text": [
      "40 16\n",
      "31 0\n",
      "31 0\n",
      "ADNI_018_S_2180_20101209\n",
      "171 167\n",
      "108 103\n",
      "73 68\n",
      "54 49\n",
      "51 46\n",
      "47 40\n",
      "44 39\n",
      "26 21\n"
     ]
    },
    {
     "name": "stderr",
     "output_type": "stream",
     "text": [
      " 22%|█████████████████████████████████▌                                                                                                                      | 64/290 [02:10<05:58,  1.59s/it]"
     ]
    },
    {
     "name": "stdout",
     "output_type": "stream",
     "text": [
      "22 16\n",
      "10 3\n",
      "7 0\n",
      "6 0\n",
      "ADNI_018_S_4313_20111128\n",
      "106 101\n",
      "70 64\n",
      "61 52\n",
      "70 48\n",
      "62 37\n",
      "79 38\n",
      "35 24\n",
      "31 17\n",
      "25 9\n"
     ]
    },
    {
     "name": "stderr",
     "output_type": "stream",
     "text": [
      " 22%|██████████████████████████████████                                                                                                                      | 65/290 [02:11<05:45,  1.54s/it]"
     ]
    },
    {
     "name": "stdout",
     "output_type": "stream",
     "text": [
      "31 10\n",
      "29 0\n",
      "21 0\n",
      "ADNI_018_S_4349_20111115\n",
      "204 183\n",
      "135 108\n",
      "124 94\n",
      "122 70\n",
      "164 86\n",
      "221 96\n",
      "85 54\n",
      "73 37\n",
      "73 35\n",
      "64 20\n",
      "60 0\n"
     ]
    },
    {
     "name": "stderr",
     "output_type": "stream",
     "text": [
      " 23%|██████████████████████████████████▌                                                                                                                     | 66/290 [02:14<07:07,  1.91s/it]"
     ]
    },
    {
     "name": "stdout",
     "output_type": "stream",
     "text": [
      "52 0\n",
      "ADNI_018_S_4399_20111215\n",
      "104 98\n",
      "64 55\n",
      "62 53\n",
      "50 41\n",
      "48 36\n",
      "45 28\n",
      "35 25\n",
      "21 11\n",
      "19 8\n",
      "15 2\n",
      "17 0\n"
     ]
    },
    {
     "name": "stderr",
     "output_type": "stream",
     "text": [
      " 23%|███████████████████████████████████                                                                                                                     | 67/290 [02:15<06:17,  1.69s/it]"
     ]
    },
    {
     "name": "stdout",
     "output_type": "stream",
     "text": [
      "14 0\n",
      "ADNI_018_S_4400_20111220\n",
      "204 189\n",
      "149 132\n",
      "101 84\n",
      "83 65\n",
      "72 52\n",
      "61 40\n",
      "55 37\n",
      "39 19\n",
      "38 15\n"
     ]
    },
    {
     "name": "stderr",
     "output_type": "stream",
     "text": [
      " 23%|███████████████████████████████████▋                                                                                                                    | 68/290 [02:17<06:28,  1.75s/it]"
     ]
    },
    {
     "name": "stdout",
     "output_type": "stream",
     "text": [
      "33 7\n",
      "32 0\n",
      "27 0\n",
      "ADNI_018_S_4809_20121005\n",
      "452 443\n",
      "380 367\n",
      "303 287\n",
      "223 200\n",
      "200 171\n",
      "196 153\n",
      "157 127\n",
      "109 72\n",
      "79 37\n",
      "69 19\n",
      "59 0\n"
     ]
    },
    {
     "name": "stderr",
     "output_type": "stream",
     "text": [
      " 24%|████████████████████████████████████▏                                                                                                                   | 69/290 [02:21<09:24,  2.56s/it]"
     ]
    },
    {
     "name": "stdout",
     "output_type": "stream",
     "text": [
      "59 0\n",
      "ADNI_018_S_4868_20121114\n",
      "265 260\n",
      "172 165\n",
      "87 79\n",
      "62 52\n",
      "67 54\n",
      "79 49\n",
      "26 18\n",
      "29 15\n",
      "22 7\n",
      "27 4\n",
      "27 0\n"
     ]
    },
    {
     "name": "stderr",
     "output_type": "stream",
     "text": [
      " 24%|████████████████████████████████████▋                                                                                                                   | 70/290 [02:23<08:39,  2.36s/it]"
     ]
    },
    {
     "name": "stdout",
     "output_type": "stream",
     "text": [
      "22 0\n",
      "ADNI_018_S_4889_20121114\n",
      "373 352\n",
      "284 258\n",
      "225 194\n",
      "228 186\n",
      "242 192\n",
      "233 174\n",
      "126 88\n",
      "99 59\n",
      "74 31\n",
      "64 20\n"
     ]
    },
    {
     "name": "stderr",
     "output_type": "stream",
     "text": [
      " 24%|█████████████████████████████████████▏                                                                                                                  | 71/290 [02:27<10:25,  2.86s/it]"
     ]
    },
    {
     "name": "stdout",
     "output_type": "stream",
     "text": [
      "48 0\n",
      "45 0\n",
      "ADNI_019_S_4252_20111214\n",
      "286 277\n",
      "216 205\n",
      "164 151\n",
      "147 116\n",
      "173 114\n",
      "187 94\n",
      "70 57\n",
      "41 28\n",
      "26 12\n",
      "24 8\n"
     ]
    },
    {
     "name": "stderr",
     "output_type": "stream",
     "text": [
      " 25%|█████████████████████████████████████▋                                                                                                                  | 72/290 [02:30<10:16,  2.83s/it]"
     ]
    },
    {
     "name": "stdout",
     "output_type": "stream",
     "text": [
      "19 0\n",
      "15 0\n",
      "ADNI_019_S_4285_20111013\n",
      "217 205\n",
      "158 140\n",
      "127 104\n",
      "136 86\n",
      "202 102\n",
      "279 114\n",
      "88 56\n",
      "72 35\n",
      "70 27\n",
      "58 13\n",
      "53 0\n"
     ]
    },
    {
     "name": "stderr",
     "output_type": "stream",
     "text": [
      " 25%|██████████████████████████████████████▎                                                                                                                 | 73/290 [02:33<10:24,  2.88s/it]"
     ]
    },
    {
     "name": "stdout",
     "output_type": "stream",
     "text": [
      "51 0\n",
      "ADNI_019_S_4293_20111020\n",
      "218 213\n",
      "121 113\n",
      "104 92\n",
      "85 67\n",
      "84 64\n",
      "94 64\n",
      "69 54\n",
      "64 49\n",
      "35 17\n",
      "31 10\n",
      "26 0\n"
     ]
    },
    {
     "name": "stderr",
     "output_type": "stream",
     "text": [
      " 26%|██████████████████████████████████████▊                                                                                                                 | 74/290 [02:35<09:25,  2.62s/it]"
     ]
    },
    {
     "name": "stdout",
     "output_type": "stream",
     "text": [
      "21 0\n",
      "ADNI_019_S_4367_20111130\n",
      "224 215\n",
      "141 132\n",
      "78 67\n",
      "73 55\n",
      "78 51\n",
      "95 56\n",
      "43 31\n",
      "37 23\n",
      "32 15\n",
      "34 8\n",
      "42 0\n"
     ]
    },
    {
     "name": "stderr",
     "output_type": "stream",
     "text": [
      " 26%|███████████████████████████████████████▎                                                                                                                | 75/290 [02:37<08:39,  2.42s/it]"
     ]
    },
    {
     "name": "stdout",
     "output_type": "stream",
     "text": [
      "37 0\n",
      "ADNI_019_S_4477_20120807\n",
      "208 199\n",
      "175 163\n",
      "142 129\n",
      "115 99\n",
      "103 86\n",
      "111 90\n",
      "99 78\n",
      "87 59\n",
      "75 35\n",
      "75 29\n"
     ]
    },
    {
     "name": "stderr",
     "output_type": "stream",
     "text": [
      " 26%|███████████████████████████████████████▊                                                                                                                | 76/290 [02:40<08:53,  2.49s/it]"
     ]
    },
    {
     "name": "stdout",
     "output_type": "stream",
     "text": [
      "62 0\n",
      "58 0\n",
      "ADNI_019_S_4680_20121029\n",
      "177 166\n",
      "100 86\n",
      "78 57\n",
      "75 47\n",
      "76 43\n",
      "88 48\n",
      "34 20\n",
      "23 9\n"
     ]
    },
    {
     "name": "stderr",
     "output_type": "stream",
     "text": [
      " 27%|████████████████████████████████████████▎                                                                                                               | 77/290 [02:41<07:52,  2.22s/it]"
     ]
    },
    {
     "name": "stdout",
     "output_type": "stream",
     "text": [
      "19 5\n",
      "19 4\n",
      "15 0\n",
      "12 0\n",
      "ADNI_019_S_4835_20121008\n",
      "244 239\n",
      "136 129\n",
      "99 89\n",
      "60 49\n",
      "60 46\n",
      "52 32\n",
      "47 33\n",
      "36 18\n"
     ]
    },
    {
     "name": "stderr",
     "output_type": "stream",
     "text": [
      " 27%|████████████████████████████████████████▉                                                                                                               | 78/290 [02:43<07:22,  2.09s/it]"
     ]
    },
    {
     "name": "stdout",
     "output_type": "stream",
     "text": [
      "33 15\n",
      "29 9\n",
      "23 0\n",
      "18 0\n",
      "ADNI_022_S_2167_20101102\n",
      "272 269\n",
      "178 173\n",
      "107 101\n",
      "89 67\n",
      "116 68\n",
      "154 72\n",
      "44 37\n",
      "44 34\n",
      "37 22\n",
      "26 7\n"
     ]
    },
    {
     "name": "stderr",
     "output_type": "stream",
     "text": [
      " 27%|█████████████████████████████████████████▍                                                                                                              | 79/290 [02:45<07:41,  2.19s/it]"
     ]
    },
    {
     "name": "stdout",
     "output_type": "stream",
     "text": [
      "23 0\n",
      "21 0\n",
      "ADNI_022_S_2263_20110823\n",
      "193 185\n",
      "113 102\n",
      "87 70\n",
      "111 60\n",
      "147 62\n",
      "204 64\n",
      "44 28\n",
      "36 18\n",
      "33 12\n",
      "35 7\n",
      "41 0\n"
     ]
    },
    {
     "name": "stderr",
     "output_type": "stream",
     "text": [
      " 28%|█████████████████████████████████████████▉                                                                                                              | 80/290 [02:48<07:47,  2.23s/it]"
     ]
    },
    {
     "name": "stdout",
     "output_type": "stream",
     "text": [
      "37 0\n",
      "ADNI_022_S_4173_20110913\n",
      "125 121\n",
      "54 49\n",
      "46 38\n",
      "48 33\n",
      "68 40\n",
      "84 35\n",
      "40 32\n",
      "29 17\n",
      "30 15\n"
     ]
    },
    {
     "name": "stderr",
     "output_type": "stream",
     "text": [
      " 28%|██████████████████████████████████████████▍                                                                                                             | 81/290 [02:49<06:49,  1.96s/it]"
     ]
    },
    {
     "name": "stdout",
     "output_type": "stream",
     "text": [
      "24 9\n",
      "17 0\n",
      "18 0\n",
      "ADNI_022_S_4291_20111122\n",
      "197 191\n",
      "138 131\n",
      "74 67\n",
      "67 42\n",
      "82 33\n",
      "100 31\n",
      "20 12\n",
      "19 9\n",
      "18 7\n"
     ]
    },
    {
     "name": "stderr",
     "output_type": "stream",
     "text": [
      " 28%|██████████████████████████████████████████▉                                                                                                             | 82/290 [02:51<06:28,  1.87s/it]"
     ]
    },
    {
     "name": "stdout",
     "output_type": "stream",
     "text": [
      "16 2\n",
      "16 0\n",
      "15 0\n",
      "ADNI_022_S_4320_20111109\n",
      "186 174\n",
      "122 110\n",
      "64 50\n",
      "78 46\n",
      "78 38\n",
      "95 34\n",
      "43 29\n",
      "28 14\n"
     ]
    },
    {
     "name": "stderr",
     "output_type": "stream",
     "text": [
      " 29%|███████████████████████████████████████████▌                                                                                                            | 83/290 [02:52<06:16,  1.82s/it]"
     ]
    },
    {
     "name": "stdout",
     "output_type": "stream",
     "text": [
      "31 17\n",
      "23 9\n",
      "16 0\n",
      "16 0\n",
      "ADNI_022_S_4444_20120822\n",
      "114 109\n",
      "63 55\n",
      "37 27\n",
      "56 28\n",
      "78 34\n",
      "113 48\n",
      "26 14\n",
      "22 9\n"
     ]
    },
    {
     "name": "stderr",
     "output_type": "stream",
     "text": [
      " 29%|████████████████████████████████████████████                                                                                                            | 84/290 [02:54<05:46,  1.68s/it]"
     ]
    },
    {
     "name": "stdout",
     "output_type": "stream",
     "text": [
      "22 8\n",
      "23 6\n",
      "20 0\n",
      "20 0\n",
      "ADNI_023_S_2068_20101201\n",
      "182 174\n",
      "104 95\n",
      "60 49\n",
      "60 39\n",
      "74 41\n",
      "100 41\n",
      "43 31\n",
      "31 19\n"
     ]
    },
    {
     "name": "stderr",
     "output_type": "stream",
     "text": [
      " 29%|████████████████████████████████████████████▌                                                                                                           | 85/290 [02:55<05:42,  1.67s/it]"
     ]
    },
    {
     "name": "stdout",
     "output_type": "stream",
     "text": [
      "27 11\n",
      "23 5\n",
      "23 0\n",
      "22 0\n",
      "ADNI_023_S_4020_20110803\n",
      "226 210\n",
      "122 105\n",
      "76 56\n",
      "74 48\n",
      "87 54\n",
      "108 55\n",
      "59 35\n",
      "56 26\n",
      "62 26\n",
      "54 12\n",
      "48 0\n"
     ]
    },
    {
     "name": "stderr",
     "output_type": "stream",
     "text": [
      " 30%|█████████████████████████████████████████████                                                                                                           | 86/290 [02:58<06:07,  1.80s/it]"
     ]
    },
    {
     "name": "stdout",
     "output_type": "stream",
     "text": [
      "44 0\n",
      "ADNI_023_S_4035_20110728\n",
      "234 226\n",
      "169 158\n",
      "131 112\n",
      "129 92\n",
      "155 89\n",
      "265 114\n",
      "65 42\n",
      "60 30\n",
      "57 24\n",
      "54 12\n",
      "49 0\n"
     ]
    },
    {
     "name": "stderr",
     "output_type": "stream",
     "text": [
      " 30%|█████████████████████████████████████████████▌                                                                                                          | 87/290 [03:00<07:10,  2.12s/it]"
     ]
    },
    {
     "name": "stdout",
     "output_type": "stream",
     "text": [
      "55 0\n",
      "ADNI_023_S_4115_20111129\n",
      "130 125\n",
      "71 65\n",
      "69 61\n",
      "67 47\n",
      "75 42\n",
      "95 48\n",
      "50 39\n",
      "49 35\n",
      "44 23\n",
      "35 8\n",
      "34 0\n"
     ]
    },
    {
     "name": "stderr",
     "output_type": "stream",
     "text": [
      " 30%|██████████████████████████████████████████████                                                                                                          | 88/290 [03:02<06:39,  1.98s/it]"
     ]
    },
    {
     "name": "stdout",
     "output_type": "stream",
     "text": [
      "29 0\n",
      "ADNI_023_S_4164_20110830\n",
      "188 183\n",
      "117 109\n",
      "86 77\n",
      "67 57\n",
      "62 47\n",
      "72 45\n",
      "56 44\n",
      "42 27\n",
      "31 14\n",
      "32 12\n"
     ]
    },
    {
     "name": "stderr",
     "output_type": "stream",
     "text": [
      " 31%|██████████████████████████████████████████████▋                                                                                                         | 89/290 [03:04<06:24,  1.91s/it]"
     ]
    },
    {
     "name": "stdout",
     "output_type": "stream",
     "text": [
      "23 0\n",
      "22 0\n",
      "ADNI_023_S_4243_20111109\n",
      "281 271\n",
      "230 215\n",
      "151 131\n",
      "144 105\n",
      "178 101\n",
      "297 115\n",
      "60 42\n",
      "51 29\n",
      "39 14\n",
      "41 11\n"
     ]
    },
    {
     "name": "stderr",
     "output_type": "stream",
     "text": [
      " 31%|███████████████████████████████████████████████▏                                                                                                        | 90/290 [03:07<07:33,  2.27s/it]"
     ]
    },
    {
     "name": "stdout",
     "output_type": "stream",
     "text": [
      "36 0\n",
      "38 0\n",
      "ADNI_023_S_4448_20120816\n",
      "112 105\n",
      "79 70\n",
      "57 46\n",
      "48 30\n",
      "53 29\n",
      "52 27\n",
      "33 22\n",
      "21 10\n",
      "21 9\n",
      "22 7\n",
      "17 0\n"
     ]
    },
    {
     "name": "stderr",
     "output_type": "stream",
     "text": [
      " 31%|███████████████████████████████████████████████▋                                                                                                        | 91/290 [03:08<06:30,  1.96s/it]"
     ]
    },
    {
     "name": "stdout",
     "output_type": "stream",
     "text": [
      "15 0\n",
      "ADNI_023_S_4501_20121101\n",
      "251 244\n",
      "182 171\n",
      "144 128\n",
      "131 113\n",
      "128 102\n",
      "145 91\n",
      "74 59\n",
      "53 35\n",
      "44 22\n",
      "38 13\n"
     ]
    },
    {
     "name": "stderr",
     "output_type": "stream",
     "text": [
      " 32%|████████████████████████████████████████████████▏                                                                                                       | 92/290 [03:11<07:06,  2.15s/it]"
     ]
    },
    {
     "name": "stdout",
     "output_type": "stream",
     "text": [
      "32 0\n",
      "30 0\n",
      "ADNI_023_S_4502_20121025\n",
      "111 105\n",
      "85 78\n",
      "69 62\n",
      "52 39\n",
      "55 33\n",
      "75 40\n",
      "27 16\n",
      "37 19\n",
      "44 23\n"
     ]
    },
    {
     "name": "stderr",
     "output_type": "stream",
     "text": [
      " 32%|████████████████████████████████████████████████▋                                                                                                       | 93/290 [03:12<06:22,  1.94s/it]"
     ]
    },
    {
     "name": "stdout",
     "output_type": "stream",
     "text": [
      "38 10\n",
      "34 0\n",
      "28 0\n",
      "ADNI_023_S_4796_20121120\n",
      "232 222\n",
      "151 141\n",
      "113 100\n",
      "107 72\n",
      "148 73\n",
      "239 81\n",
      "33 22\n",
      "26 12\n"
     ]
    },
    {
     "name": "stderr",
     "output_type": "stream",
     "text": [
      " 32%|█████████████████████████████████████████████████▎                                                                                                      | 94/290 [03:15<06:43,  2.06s/it]"
     ]
    },
    {
     "name": "stdout",
     "output_type": "stream",
     "text": [
      "23 8\n",
      "21 3\n",
      "23 0\n",
      "22 0\n",
      "ADNI_024_S_4084_20110916\n",
      "172 167\n",
      "103 97\n",
      "56 48\n",
      "54 39\n",
      "57 37\n",
      "70 42\n",
      "36 27\n",
      "29 17\n",
      "27 14\n",
      "28 7\n",
      "28 0\n"
     ]
    },
    {
     "name": "stderr",
     "output_type": "stream",
     "text": [
      " 33%|█████████████████████████████████████████████████▊                                                                                                      | 95/290 [03:16<06:10,  1.90s/it]"
     ]
    },
    {
     "name": "stdout",
     "output_type": "stream",
     "text": [
      "28 0\n",
      "ADNI_024_S_4158_20111111\n",
      "219 211\n",
      "147 138\n",
      "92 82\n",
      "80 69\n",
      "61 50\n",
      "58 44\n",
      "45 32\n",
      "30 13\n",
      "30 13\n"
     ]
    },
    {
     "name": "stderr",
     "output_type": "stream",
     "text": [
      " 33%|██████████████████████████████████████████████████▎                                                                                                     | 96/290 [03:18<06:03,  1.87s/it]"
     ]
    },
    {
     "name": "stdout",
     "output_type": "stream",
     "text": [
      "34 14\n",
      "22 0\n",
      "24 0\n",
      "ADNI_024_S_4169_20111128\n",
      "205 197\n",
      "114 105\n",
      "78 68\n",
      "65 47\n",
      "77 46\n",
      "96 52\n",
      "45 34\n",
      "33 21\n"
     ]
    },
    {
     "name": "stderr",
     "output_type": "stream",
     "text": [
      " 33%|██████████████████████████████████████████████████▊                                                                                                     | 97/290 [03:20<05:53,  1.83s/it]"
     ]
    },
    {
     "name": "stdout",
     "output_type": "stream",
     "text": [
      "25 12\n",
      "22 8\n",
      "21 0\n",
      "25 0\n",
      "ADNI_024_S_4392_20120709\n",
      "147 142\n",
      "90 85\n",
      "102 72\n",
      "218 92\n",
      "341 109\n",
      "555 163\n",
      "51 41\n",
      "30 19\n",
      "26 12\n",
      "28 9\n",
      "24 0\n"
     ]
    },
    {
     "name": "stderr",
     "output_type": "stream",
     "text": [
      " 34%|███████████████████████████████████████████████████▎                                                                                                    | 98/290 [03:23<07:10,  2.24s/it]"
     ]
    },
    {
     "name": "stdout",
     "output_type": "stream",
     "text": [
      "18 0\n",
      "ADNI_024_S_4674_20121119\n",
      "165 136\n",
      "117 86\n",
      "97 57\n",
      "122 66\n",
      "165 83\n",
      "198 89\n",
      "73 31\n",
      "72 29\n",
      "56 13\n",
      "50 4\n",
      "47 0\n"
     ]
    },
    {
     "name": "stderr",
     "output_type": "stream",
     "text": [
      " 34%|███████████████████████████████████████████████████▉                                                                                                    | 99/290 [03:25<07:21,  2.31s/it]"
     ]
    },
    {
     "name": "stdout",
     "output_type": "stream",
     "text": [
      "47 0\n",
      "ADNI_031_S_2018_20100923\n",
      "246 234\n",
      "182 165\n",
      "154 136\n",
      "132 103\n",
      "159 106\n",
      "195 94\n",
      "83 63\n",
      "66 39\n",
      "61 31\n"
     ]
    },
    {
     "name": "stderr",
     "output_type": "stream",
     "text": [
      " 34%|████████████████████████████████████████████████████                                                                                                   | 100/290 [03:28<07:47,  2.46s/it]"
     ]
    },
    {
     "name": "stdout",
     "output_type": "stream",
     "text": [
      "46 14\n",
      "36 0\n",
      "28 0\n",
      "ADNI_031_S_2022_20101012\n",
      "162 154\n",
      "89 80\n",
      "56 47\n",
      "40 30\n",
      "45 29\n",
      "45 25\n",
      "36 24\n",
      "24 12\n"
     ]
    },
    {
     "name": "stderr",
     "output_type": "stream",
     "text": [
      " 35%|████████████████████████████████████████████████████▌                                                                                                  | 101/290 [03:29<06:41,  2.12s/it]"
     ]
    },
    {
     "name": "stdout",
     "output_type": "stream",
     "text": [
      "28 13\n",
      "22 3\n",
      "24 0\n",
      "18 0\n",
      "ADNI_031_S_2233_20101215\n",
      "166 154\n",
      "121 104\n",
      "92 71\n",
      "94 65\n",
      "110 64\n",
      "117 58\n",
      "68 44\n",
      "57 30\n",
      "54 22\n"
     ]
    },
    {
     "name": "stderr",
     "output_type": "stream",
     "text": [
      " 35%|█████████████████████████████████████████████████████                                                                                                  | 102/290 [03:32<06:35,  2.11s/it]"
     ]
    },
    {
     "name": "stdout",
     "output_type": "stream",
     "text": [
      "44 7\n",
      "42 0\n",
      "31 0\n",
      "ADNI_031_S_4021_20111020\n",
      "232 224\n",
      "159 150\n",
      "111 101\n",
      "86 74\n",
      "84 71\n",
      "74 59\n",
      "45 32\n",
      "32 18\n",
      "28 13\n"
     ]
    },
    {
     "name": "stderr",
     "output_type": "stream",
     "text": [
      " 36%|█████████████████████████████████████████████████████▋                                                                                                 | 103/290 [03:33<06:22,  2.05s/it]"
     ]
    },
    {
     "name": "stdout",
     "output_type": "stream",
     "text": [
      "23 7\n",
      "16 0\n",
      "18 0\n",
      "ADNI_031_S_4032_20111205\n",
      "115 108\n",
      "81 72\n",
      "53 44\n",
      "62 48\n",
      "62 45\n",
      "70 48\n",
      "49 38\n",
      "38 23\n",
      "27 11\n"
     ]
    },
    {
     "name": "stderr",
     "output_type": "stream",
     "text": [
      " 36%|██████████████████████████████████████████████████████▏                                                                                                | 104/290 [03:35<05:44,  1.85s/it]"
     ]
    },
    {
     "name": "stdout",
     "output_type": "stream",
     "text": [
      "25 8\n",
      "18 0\n",
      "15 0\n",
      "ADNI_031_S_4149_20111103\n",
      "226 218\n",
      "170 157\n",
      "113 97\n",
      "107 73\n",
      "132 81\n",
      "191 86\n",
      "50 32\n",
      "43 22\n",
      "35 13\n",
      "30 6\n"
     ]
    },
    {
     "name": "stderr",
     "output_type": "stream",
     "text": [
      " 36%|██████████████████████████████████████████████████████▋                                                                                                | 105/290 [03:37<06:11,  2.01s/it]"
     ]
    },
    {
     "name": "stdout",
     "output_type": "stream",
     "text": [
      "26 0\n",
      "25 0\n",
      "ADNI_031_S_4194_20111201\n",
      "133 130\n",
      "64 61\n",
      "50 47\n",
      "30 27\n",
      "36 32\n",
      "36 29\n",
      "25 20\n",
      "26 19\n"
     ]
    },
    {
     "name": "stderr",
     "output_type": "stream",
     "text": [
      " 37%|███████████████████████████████████████████████████████▏                                                                                               | 106/290 [03:38<05:21,  1.75s/it]"
     ]
    },
    {
     "name": "stdout",
     "output_type": "stream",
     "text": [
      "24 13\n",
      "23 9\n",
      "16 0\n",
      "12 0\n",
      "ADNI_031_S_4203_20111205\n",
      "244 241\n",
      "195 191\n",
      "155 150\n",
      "119 113\n",
      "103 97\n",
      "100 94\n",
      "64 55\n",
      "50 40\n",
      "26 14\n"
     ]
    },
    {
     "name": "stderr",
     "output_type": "stream",
     "text": [
      " 37%|███████████████████████████████████████████████████████▋                                                                                               | 107/290 [03:41<05:54,  1.94s/it]"
     ]
    },
    {
     "name": "stdout",
     "output_type": "stream",
     "text": [
      "27 10\n",
      "20 0\n",
      "19 0\n",
      "ADNI_031_S_4218_20111208\n",
      "340 329\n",
      "234 221\n",
      "184 169\n",
      "151 133\n",
      "138 111\n",
      "132 95\n",
      "82 64\n",
      "55 34\n",
      "45 18\n"
     ]
    },
    {
     "name": "stderr",
     "output_type": "stream",
     "text": [
      " 37%|████████████████████████████████████████████████████████▏                                                                                              | 108/290 [03:44<06:48,  2.24s/it]"
     ]
    },
    {
     "name": "stdout",
     "output_type": "stream",
     "text": [
      "42 11\n",
      "39 0\n",
      "30 0\n",
      "ADNI_031_S_4476_20120817\n",
      "210 202\n",
      "112 103\n",
      "78 65\n",
      "77 46\n",
      "106 41\n",
      "171 52\n",
      "34 18\n",
      "30 13\n",
      "30 8\n",
      "27 3\n",
      "25 0\n"
     ]
    },
    {
     "name": "stderr",
     "output_type": "stream",
     "text": [
      " 38%|████████████████████████████████████████████████████████▊                                                                                              | 109/290 [03:46<06:31,  2.16s/it]"
     ]
    },
    {
     "name": "stdout",
     "output_type": "stream",
     "text": [
      "22 0\n",
      "ADNI_031_S_4496_20120820\n",
      "131 125\n",
      "80 73\n",
      "61 54\n",
      "58 51\n",
      "59 49\n",
      "63 44\n",
      "36 29\n",
      "25 16\n",
      "22 9\n",
      "18 4\n"
     ]
    },
    {
     "name": "stderr",
     "output_type": "stream",
     "text": [
      " 38%|█████████████████████████████████████████████████████████▎                                                                                             | 110/290 [03:47<05:44,  1.91s/it]"
     ]
    },
    {
     "name": "stdout",
     "output_type": "stream",
     "text": [
      "15 0\n",
      "16 0\n",
      "ADNI_031_S_4947_20120928\n",
      "139 134\n",
      "108 103\n",
      "62 55\n",
      "44 35\n",
      "44 32\n",
      "51 36\n",
      "40 33\n",
      "25 17\n"
     ]
    },
    {
     "name": "stderr",
     "output_type": "stream",
     "text": [
      " 38%|█████████████████████████████████████████████████████████▊                                                                                             | 111/290 [03:48<05:10,  1.73s/it]"
     ]
    },
    {
     "name": "stdout",
     "output_type": "stream",
     "text": [
      "20 11\n",
      "17 7\n",
      "11 0\n",
      "14 0\n",
      "ADNI_032_S_2119_20101215\n",
      "129 121\n",
      "96 81\n",
      "98 77\n",
      "120 66\n",
      "169 82\n",
      "236 90\n",
      "58 36\n",
      "50 25\n",
      "53 22\n",
      "52 15\n",
      "45 0\n"
     ]
    },
    {
     "name": "stderr",
     "output_type": "stream",
     "text": [
      " 39%|██████████████████████████████████████████████████████████▎                                                                                            | 112/290 [03:51<05:42,  1.92s/it]"
     ]
    },
    {
     "name": "stdout",
     "output_type": "stream",
     "text": [
      "39 0\n",
      "ADNI_032_S_4277_20111019\n",
      "124 116\n",
      "84 75\n",
      "49 39\n",
      "59 40\n",
      "70 44\n",
      "84 45\n",
      "45 31\n",
      "42 25\n",
      "35 16\n"
     ]
    },
    {
     "name": "stderr",
     "output_type": "stream",
     "text": [
      " 39%|██████████████████████████████████████████████████████████▊                                                                                            | 113/290 [03:52<05:20,  1.81s/it]"
     ]
    },
    {
     "name": "stdout",
     "output_type": "stream",
     "text": [
      "30 3\n",
      "39 0\n",
      "30 0\n",
      "ADNI_032_S_4386_20111213\n",
      "130 123\n",
      "70 60\n",
      "63 53\n",
      "64 44\n",
      "73 42\n",
      "92 46\n",
      "43 29\n",
      "30 15\n",
      "30 13\n"
     ]
    },
    {
     "name": "stderr",
     "output_type": "stream",
     "text": [
      " 39%|███████████████████████████████████████████████████████████▎                                                                                           | 114/290 [03:54<05:01,  1.72s/it]"
     ]
    },
    {
     "name": "stdout",
     "output_type": "stream",
     "text": [
      "23 5\n",
      "26 0\n",
      "26 0\n",
      "ADNI_032_S_4429_20111222\n",
      "140 129\n",
      "86 70\n",
      "79 54\n",
      "95 49\n",
      "136 57\n",
      "193 63\n",
      "49 23\n",
      "50 22\n",
      "50 18\n"
     ]
    },
    {
     "name": "stderr",
     "output_type": "stream",
     "text": [
      " 40%|███████████████████████████████████████████████████████████▉                                                                                           | 115/290 [03:56<05:20,  1.83s/it]"
     ]
    },
    {
     "name": "stdout",
     "output_type": "stream",
     "text": [
      "47 12\n",
      "46 0\n",
      "38 0\n",
      "ADNI_033_S_4176_20130904\n",
      "159 145\n",
      "97 81\n",
      "91 73\n",
      "95 65\n",
      "97 54\n",
      "135 61\n",
      "57 35\n",
      "42 16\n",
      "39 12\n",
      "34 5\n"
     ]
    },
    {
     "name": "stderr",
     "output_type": "stream",
     "text": [
      " 40%|████████████████████████████████████████████████████████████▍                                                                                          | 116/290 [03:58<05:29,  1.90s/it]"
     ]
    },
    {
     "name": "stdout",
     "output_type": "stream",
     "text": [
      "34 0\n",
      "31 0\n",
      "ADNI_033_S_4177_20130911\n",
      "354 345\n",
      "262 246\n",
      "228 201\n",
      "221 179\n",
      "237 174\n",
      "319 197\n",
      "147 117\n",
      "117 83\n",
      "99 57\n",
      "74 30\n"
     ]
    },
    {
     "name": "stderr",
     "output_type": "stream",
     "text": [
      " 40%|████████████████████████████████████████████████████████████▉                                                                                          | 117/290 [04:02<07:26,  2.58s/it]"
     ]
    },
    {
     "name": "stdout",
     "output_type": "stream",
     "text": [
      "57 0\n",
      "38 0\n",
      "ADNI_035_S_4082_20111214\n",
      "359 352\n",
      "229 220\n",
      "126 112\n",
      "91 71\n",
      "94 66\n",
      "115 66\n",
      "40 26\n",
      "28 13\n",
      "23 8\n",
      "27 5\n",
      "27 0\n"
     ]
    },
    {
     "name": "stderr",
     "output_type": "stream",
     "text": [
      " 41%|█████████████████████████████████████████████████████████████▍                                                                                         | 118/290 [04:05<07:18,  2.55s/it]"
     ]
    },
    {
     "name": "stdout",
     "output_type": "stream",
     "text": [
      "28 0\n",
      "ADNI_035_S_4114_20130314\n",
      "169 161\n",
      "130 121\n",
      "90 80\n",
      "71 54\n",
      "74 52\n",
      "86 51\n",
      "53 40\n",
      "28 15\n"
     ]
    },
    {
     "name": "stderr",
     "output_type": "stream",
     "text": [
      " 41%|█████████████████████████████████████████████████████████████▉                                                                                         | 119/290 [04:06<06:38,  2.33s/it]"
     ]
    },
    {
     "name": "stdout",
     "output_type": "stream",
     "text": [
      "22 8\n",
      "21 6\n",
      "16 0\n",
      "17 0\n",
      "ADNI_035_S_4464_20120803\n",
      "170 164\n",
      "80 74\n",
      "56 50\n",
      "30 22\n",
      "28 19\n",
      "28 14\n",
      "17 10\n",
      "14 6\n",
      "15 5\n",
      "11 1\n"
     ]
    },
    {
     "name": "stderr",
     "output_type": "stream",
     "text": [
      " 41%|██████████████████████████████████████████████████████████████▍                                                                                        | 120/290 [04:07<05:34,  1.97s/it]"
     ]
    },
    {
     "name": "stdout",
     "output_type": "stream",
     "text": [
      "10 0\n",
      "9 0\n",
      "ADNI_035_S_4582_20120924\n",
      "173 164\n",
      "78 69\n",
      "44 35\n",
      "29 15\n",
      "34 12\n",
      "56 22\n",
      "17 6\n",
      "21 9\n",
      "20 6\n"
     ]
    },
    {
     "name": "stderr",
     "output_type": "stream",
     "text": [
      " 42%|███████████████████████████████████████████████████████████████                                                                                        | 121/290 [04:09<04:56,  1.75s/it]"
     ]
    },
    {
     "name": "stdout",
     "output_type": "stream",
     "text": [
      "17 2\n",
      "19 0\n",
      "21 0\n",
      "ADNI_035_S_4784_20121025\n",
      "156 131\n",
      "126 94\n",
      "118 78\n",
      "167 81\n",
      "203 79\n",
      "310 104\n",
      "72 32\n",
      "68 23\n",
      "55 10\n",
      "55 4\n",
      "55 0\n"
     ]
    },
    {
     "name": "stderr",
     "output_type": "stream",
     "text": [
      " 42%|███████████████████████████████████████████████████████████████▌                                                                                       | 122/290 [04:12<05:52,  2.10s/it]"
     ]
    },
    {
     "name": "stdout",
     "output_type": "stream",
     "text": [
      "51 0\n",
      "ADNI_036_S_4389_20111207\n",
      "171 166\n",
      "84 76\n",
      "47 38\n",
      "43 32\n",
      "43 32\n",
      "57 41\n",
      "34 24\n",
      "31 19\n",
      "26 12\n"
     ]
    },
    {
     "name": "stderr",
     "output_type": "stream",
     "text": [
      " 42%|████████████████████████████████████████████████████████████████                                                                                       | 123/290 [04:13<05:14,  1.89s/it]"
     ]
    },
    {
     "name": "stdout",
     "output_type": "stream",
     "text": [
      "25 8\n",
      "19 0\n",
      "16 0\n",
      "ADNI_036_S_4430_20111223\n",
      "167 159\n",
      "97 89\n",
      "64 56\n",
      "82 53\n",
      "127 59\n",
      "154 62\n",
      "28 19\n",
      "23 14\n"
     ]
    },
    {
     "name": "stderr",
     "output_type": "stream",
     "text": [
      " 43%|████████████████████████████████████████████████████████████████▌                                                                                      | 124/290 [04:15<05:07,  1.85s/it]"
     ]
    },
    {
     "name": "stdout",
     "output_type": "stream",
     "text": [
      "17 5\n",
      "19 5\n",
      "18 0\n",
      "14 0\n",
      "ADNI_036_S_4491_20120809\n",
      "185 181\n",
      "119 114\n",
      "68 63\n",
      "37 28\n",
      "44 27\n",
      "46 20\n",
      "15 9\n",
      "13 7\n",
      "12 4\n",
      "15 7\n"
     ]
    },
    {
     "name": "stderr",
     "output_type": "stream",
     "text": [
      " 43%|█████████████████████████████████████████████████████████████████                                                                                      | 125/290 [04:16<04:38,  1.69s/it]"
     ]
    },
    {
     "name": "stdout",
     "output_type": "stream",
     "text": [
      "10 0\n",
      "6 0\n",
      "ADNI_036_S_4538_20121101\n",
      "117 110\n",
      "68 60\n",
      "45 36\n",
      "32 21\n",
      "37 21\n",
      "44 19\n",
      "29 18\n",
      "20 7\n",
      "17 4\n"
     ]
    },
    {
     "name": "stderr",
     "output_type": "stream",
     "text": [
      " 43%|█████████████████████████████████████████████████████████████████▌                                                                                     | 126/290 [04:17<04:08,  1.51s/it]"
     ]
    },
    {
     "name": "stdout",
     "output_type": "stream",
     "text": [
      "14 1\n",
      "17 0\n",
      "12 0\n",
      "ADNI_036_S_4562_20121009\n",
      "173 161\n",
      "103 87\n",
      "70 52\n",
      "72 41\n",
      "101 49\n",
      "149 64\n",
      "41 23\n",
      "38 17\n",
      "31 6\n",
      "34 4\n",
      "35 0\n"
     ]
    },
    {
     "name": "stderr",
     "output_type": "stream",
     "text": [
      " 44%|██████████████████████████████████████████████████████████████████▏                                                                                    | 127/290 [04:19<04:26,  1.63s/it]"
     ]
    },
    {
     "name": "stdout",
     "output_type": "stream",
     "text": [
      "33 0\n",
      "ADNI_036_S_4714_20121204\n",
      "76 67\n",
      "49 36\n",
      "43 28\n",
      "44 28\n",
      "48 30\n",
      "51 25\n",
      "34 19\n",
      "20 4\n"
     ]
    },
    {
     "name": "stderr",
     "output_type": "stream",
     "text": [
      " 44%|██████████████████████████████████████████████████████████████████▋                                                                                    | 128/290 [04:20<03:58,  1.47s/it]"
     ]
    },
    {
     "name": "stdout",
     "output_type": "stream",
     "text": [
      "21 4\n",
      "21 4\n",
      "18 0\n",
      "15 0\n",
      "ADNI_036_S_4715_20121127\n",
      "116 108\n",
      "59 50\n",
      "44 31\n",
      "46 26\n",
      "50 23\n",
      "57 21\n",
      "32 19\n",
      "26 11\n",
      "29 13\n"
     ]
    },
    {
     "name": "stderr",
     "output_type": "stream",
     "text": [
      " 44%|███████████████████████████████████████████████████████████████████▏                                                                                   | 129/290 [04:21<03:45,  1.40s/it]"
     ]
    },
    {
     "name": "stdout",
     "output_type": "stream",
     "text": [
      "26 9\n",
      "20 0\n",
      "14 0\n",
      "ADNI_036_S_4736_20121206\n",
      "344 317\n",
      "273 238\n",
      "219 172\n",
      "227 163\n",
      "250 155\n",
      "325 172\n",
      "148 86\n",
      "148 75\n",
      "126 44\n",
      "112 24\n"
     ]
    },
    {
     "name": "stderr",
     "output_type": "stream",
     "text": [
      " 45%|███████████████████████████████████████████████████████████████████▋                                                                                   | 130/290 [04:26<06:16,  2.35s/it]"
     ]
    },
    {
     "name": "stdout",
     "output_type": "stream",
     "text": [
      "101 0\n",
      "86 0\n",
      "ADNI_036_S_4878_20121019\n",
      "81 77\n",
      "47 43\n",
      "36 31\n",
      "36 29\n",
      "42 33\n",
      "36 24\n"
     ]
    },
    {
     "name": "stderr",
     "output_type": "stream",
     "text": [
      " 45%|████████████████████████████████████████████████████████████████████▏                                                                                  | 131/290 [04:27<05:06,  1.93s/it]"
     ]
    },
    {
     "name": "stdout",
     "output_type": "stream",
     "text": [
      "29 24\n",
      "16 11\n",
      "14 9\n",
      "6 1\n",
      "5 0\n",
      "3 0\n",
      "ADNI_037_S_0501_20130422\n",
      "340 331\n",
      "242 232\n",
      "196 185\n",
      "138 122\n",
      "136 112\n",
      "128 91\n",
      "74 61\n",
      "46 31\n",
      "34 18\n",
      "26 6\n"
     ]
    },
    {
     "name": "stderr",
     "output_type": "stream",
     "text": [
      " 46%|████████████████████████████████████████████████████████████████████▋                                                                                  | 132/290 [04:30<05:45,  2.19s/it]"
     ]
    },
    {
     "name": "stdout",
     "output_type": "stream",
     "text": [
      "21 0\n",
      "16 0\n",
      "ADNI_037_S_0566_20150729\n",
      "315 310\n",
      "272 266\n",
      "219 213\n",
      "162 152\n",
      "131 118\n",
      "117 102\n",
      "80 68\n",
      "70 56\n",
      "37 22\n",
      "29 10\n"
     ]
    },
    {
     "name": "stderr",
     "output_type": "stream",
     "text": [
      " 46%|█████████████████████████████████████████████████████████████████████▎                                                                                 | 133/290 [04:33<06:20,  2.42s/it]"
     ]
    },
    {
     "name": "stdout",
     "output_type": "stream",
     "text": [
      "23 0\n",
      "29 0\n",
      "ADNI_037_S_4015_20150408\n",
      "318 312\n",
      "225 216\n",
      "135 125\n",
      "124 98\n",
      "130 86\n",
      "166 81\n",
      "53 40\n",
      "37 21\n",
      "34 17\n",
      "31 12\n"
     ]
    },
    {
     "name": "stderr",
     "output_type": "stream",
     "text": [
      " 46%|█████████████████████████████████████████████████████████████████████▊                                                                                 | 134/290 [04:35<06:29,  2.50s/it]"
     ]
    },
    {
     "name": "stdout",
     "output_type": "stream",
     "text": [
      "27 0\n",
      "24 0\n",
      "ADNI_037_S_4028_20150604\n",
      "127 117\n",
      "68 57\n",
      "65 45\n",
      "103 52\n",
      "147 68\n",
      "189 85\n",
      "33 17\n",
      "26 9\n",
      "25 6\n",
      "28 5\n",
      "26 0\n"
     ]
    },
    {
     "name": "stderr",
     "output_type": "stream",
     "text": [
      " 47%|██████████████████████████████████████████████████████████████████████▎                                                                                | 135/290 [04:37<05:56,  2.30s/it]"
     ]
    },
    {
     "name": "stdout",
     "output_type": "stream",
     "text": [
      "22 0\n",
      "ADNI_037_S_4030_20150527\n",
      "190 185\n",
      "95 86\n",
      "83 64\n",
      "136 66\n",
      "193 70\n",
      "277 80\n",
      "37 26\n",
      "32 20\n",
      "32 15\n",
      "29 9\n",
      "28 0\n"
     ]
    },
    {
     "name": "stderr",
     "output_type": "stream",
     "text": [
      " 47%|██████████████████████████████████████████████████████████████████████▊                                                                                | 136/290 [04:40<05:58,  2.33s/it]"
     ]
    },
    {
     "name": "stdout",
     "output_type": "stream",
     "text": [
      "22 0\n",
      "ADNI_037_S_4071_20151111\n",
      "269 263\n",
      "215 206\n",
      "181 170\n",
      "152 133\n",
      "136 108\n",
      "166 113\n",
      "82 65\n",
      "86 63\n",
      "64 32\n",
      "59 19\n",
      "67 0\n"
     ]
    },
    {
     "name": "stderr",
     "output_type": "stream",
     "text": [
      " 47%|███████████████████████████████████████████████████████████████████████▎                                                                               | 137/290 [04:43<06:32,  2.56s/it]"
     ]
    },
    {
     "name": "stdout",
     "output_type": "stream",
     "text": [
      "79 0\n",
      "ADNI_037_S_4146_20150902\n",
      "183 171\n",
      "103 87\n",
      "81 62\n",
      "80 48\n",
      "91 48\n",
      "111 53\n",
      "54 34\n",
      "40 18\n",
      "37 14\n",
      "37 6\n"
     ]
    },
    {
     "name": "stderr",
     "output_type": "stream",
     "text": [
      " 48%|███████████████████████████████████████████████████████████████████████▊                                                                               | 138/290 [04:45<05:59,  2.36s/it]"
     ]
    },
    {
     "name": "stdout",
     "output_type": "stream",
     "text": [
      "38 0\n",
      "34 0\n",
      "ADNI_037_S_4214_20151016\n",
      "186 180\n",
      "97 89\n",
      "63 54\n",
      "44 31\n",
      "54 30\n",
      "73 31\n",
      "33 20\n",
      "25 10\n",
      "30 10\n"
     ]
    },
    {
     "name": "stderr",
     "output_type": "stream",
     "text": [
      " 48%|████████████████████████████████████████████████████████████████████████▍                                                                              | 139/290 [04:46<05:19,  2.12s/it]"
     ]
    },
    {
     "name": "stdout",
     "output_type": "stream",
     "text": [
      "32 8\n",
      "30 0\n",
      "23 0\n",
      "ADNI_037_S_4302_20131211\n",
      "223 211\n",
      "131 116\n",
      "83 68\n",
      "69 47\n",
      "85 47\n",
      "107 51\n",
      "41 24\n",
      "32 15\n",
      "24 6\n",
      "24 4\n",
      "26 0\n"
     ]
    },
    {
     "name": "stderr",
     "output_type": "stream",
     "text": [
      " 48%|████████████████████████████████████████████████████████████████████████▉                                                                              | 140/290 [04:48<05:06,  2.04s/it]"
     ]
    },
    {
     "name": "stdout",
     "output_type": "stream",
     "text": [
      "23 0\n",
      "ADNI_037_S_4308_20140409\n",
      "181 175\n",
      "85 78\n",
      "49 40\n",
      "45 35\n",
      "40 28\n",
      "49 33\n",
      "40 28\n",
      "40 24\n",
      "35 16\n",
      "31 9\n",
      "36 0\n"
     ]
    },
    {
     "name": "stderr",
     "output_type": "stream",
     "text": [
      " 49%|█████████████████████████████████████████████████████████████████████████▍                                                                             | 141/290 [04:50<04:39,  1.88s/it]"
     ]
    },
    {
     "name": "stdout",
     "output_type": "stream",
     "text": [
      "31 0\n",
      "ADNI_037_S_4381_20140321\n",
      "252 248\n",
      "125 120\n",
      "68 63\n",
      "41 36\n",
      "30 24\n",
      "29 22\n",
      "18 12\n",
      "16 9\n",
      "17 10\n",
      "10 3\n",
      "8 0\n"
     ]
    },
    {
     "name": "stderr",
     "output_type": "stream",
     "text": [
      "/home/s2208943/miniconda3/envs/wmh/lib/python3.8/site-packages/scipy/stats/_stats_py.py:1304: RuntimeWarning: Mean of empty slice.\n",
      "  mean = a.mean(axis, keepdims=True)\n",
      "/home/s2208943/miniconda3/envs/wmh/lib/python3.8/site-packages/numpy/core/_methods.py:184: RuntimeWarning: invalid value encountered in divide\n",
      "  ret = um.true_divide(\n",
      "/home/s2208943/miniconda3/envs/wmh/lib/python3.8/site-packages/numpy/core/fromnumeric.py:3464: RuntimeWarning: Mean of empty slice.\n",
      "  return _methods._mean(a, axis=axis, dtype=dtype,\n",
      "/home/s2208943/miniconda3/envs/wmh/lib/python3.8/site-packages/numpy/core/_methods.py:192: RuntimeWarning: invalid value encountered in divide\n",
      "  ret = ret.dtype.type(ret / rcount)\n",
      "/home/s2208943/miniconda3/envs/wmh/lib/python3.8/site-packages/scipy/stats/_stats_py.py:1417: RuntimeWarning: Mean of empty slice.\n",
      "  mean = a.mean(axis, keepdims=True)\n",
      " 49%|█████████████████████████████████████████████████████████████████████████▉                                                                             | 142/290 [04:51<04:16,  1.73s/it]"
     ]
    },
    {
     "name": "stdout",
     "output_type": "stream",
     "text": [
      "5 0\n",
      "ADNI_037_S_4410_20140115\n",
      "112 105\n",
      "78 68\n",
      "56 44\n",
      "59 43\n",
      "58 31\n",
      "71 35\n",
      "36 22\n",
      "23 9\n",
      "22 7\n",
      "20 3\n"
     ]
    },
    {
     "name": "stderr",
     "output_type": "stream",
     "text": [
      " 49%|██████████████████████████████████████████████████████████████████████████▍                                                                            | 143/290 [04:52<03:56,  1.61s/it]"
     ]
    },
    {
     "name": "stdout",
     "output_type": "stream",
     "text": [
      "21 0\n",
      "19 0\n",
      "ADNI_037_S_4706_20140512\n",
      "182 176\n",
      "109 102\n",
      "91 83\n",
      "55 45\n",
      "55 39\n",
      "56 36\n",
      "39 29\n",
      "28 18\n"
     ]
    },
    {
     "name": "stderr",
     "output_type": "stream",
     "text": [
      " 50%|██████████████████████████████████████████████████████████████████████████▉                                                                            | 144/290 [04:54<03:51,  1.59s/it]"
     ]
    },
    {
     "name": "stdout",
     "output_type": "stream",
     "text": [
      "29 17\n",
      "24 12\n",
      "17 0\n",
      "13 0\n",
      "ADNI_041_S_4004_20140428\n",
      "156 147\n",
      "92 83\n",
      "67 58\n",
      "52 35\n",
      "67 38\n",
      "81 29\n",
      "31 22\n",
      "24 14\n",
      "28 14\n"
     ]
    },
    {
     "name": "stderr",
     "output_type": "stream",
     "text": [
      " 50%|███████████████████████████████████████████████████████████████████████████▌                                                                           | 145/290 [04:55<03:45,  1.55s/it]"
     ]
    },
    {
     "name": "stdout",
     "output_type": "stream",
     "text": [
      "22 6\n",
      "16 0\n",
      "12 0\n",
      "ADNI_041_S_4014_20111202\n",
      "311 304\n",
      "196 186\n",
      "126 114\n",
      "86 71\n",
      "94 73\n",
      "103 67\n",
      "79 61\n",
      "57 36\n",
      "49 25\n"
     ]
    },
    {
     "name": "stderr",
     "output_type": "stream",
     "text": [
      " 50%|████████████████████████████████████████████████████████████████████████████                                                                           | 146/290 [04:58<04:22,  1.83s/it]"
     ]
    },
    {
     "name": "stdout",
     "output_type": "stream",
     "text": [
      "45 18\n",
      "34 0\n",
      "32 0\n",
      "ADNI_041_S_4037_20111205\n",
      "167 159\n",
      "96 85\n",
      "71 60\n",
      "58 47\n",
      "56 43\n",
      "58 39\n",
      "50 38\n",
      "48 33\n",
      "39 23\n",
      "31 11\n",
      "28 0\n"
     ]
    },
    {
     "name": "stderr",
     "output_type": "stream",
     "text": [
      " 51%|████████████████████████████████████████████████████████████████████████████▌                                                                          | 147/290 [04:59<04:12,  1.77s/it]"
     ]
    },
    {
     "name": "stdout",
     "output_type": "stream",
     "text": [
      "26 0\n",
      "ADNI_041_S_4041_20111213\n",
      "107 102\n",
      "52 45\n",
      "35 27\n",
      "23 13\n",
      "21 10\n",
      "26 11\n",
      "20 12\n",
      "17 9\n",
      "20 10\n",
      "16 5\n"
     ]
    },
    {
     "name": "stderr",
     "output_type": "stream",
     "text": [
      " 51%|█████████████████████████████████████████████████████████████████████████████                                                                          | 148/290 [05:00<03:35,  1.52s/it]"
     ]
    },
    {
     "name": "stdout",
     "output_type": "stream",
     "text": [
      "12 0\n",
      "8 0\n",
      "ADNI_041_S_4051_20110923\n",
      "328 309\n",
      "210 185\n",
      "147 119\n",
      "150 100\n",
      "168 99\n",
      "216 99\n",
      "82 49\n",
      "69 31\n",
      "59 17\n",
      "56 10\n",
      "52 0\n"
     ]
    },
    {
     "name": "stderr",
     "output_type": "stream",
     "text": [
      " 51%|█████████████████████████████████████████████████████████████████████████████▌                                                                         | 149/290 [05:04<04:45,  2.02s/it]"
     ]
    },
    {
     "name": "stdout",
     "output_type": "stream",
     "text": [
      "48 0\n",
      "ADNI_041_S_4060_20111212\n",
      "152 130\n",
      "100 74\n",
      "99 60\n",
      "142 58\n",
      "198 76\n",
      "274 93\n",
      "63 31\n",
      "54 18\n",
      "54 17\n",
      "46 7\n",
      "42 0\n"
     ]
    },
    {
     "name": "stderr",
     "output_type": "stream",
     "text": [
      " 52%|██████████████████████████████████████████████████████████████████████████████                                                                         | 150/290 [05:06<05:08,  2.21s/it]"
     ]
    },
    {
     "name": "stdout",
     "output_type": "stream",
     "text": [
      "42 0\n",
      "ADNI_041_S_4138_20111021\n",
      "104 96\n",
      "85 72\n",
      "89 64\n",
      "119 62\n",
      "163 71\n",
      "295 97\n",
      "49 29\n",
      "42 21\n",
      "41 17\n",
      "36 9\n"
     ]
    },
    {
     "name": "stderr",
     "output_type": "stream",
     "text": [
      " 52%|██████████████████████████████████████████████████████████████████████████████▌                                                                        | 151/290 [05:08<05:10,  2.23s/it]"
     ]
    },
    {
     "name": "stdout",
     "output_type": "stream",
     "text": [
      "33 0\n",
      "33 0\n",
      "ADNI_041_S_4143_20111122\n",
      "134 123\n",
      "80 67\n",
      "76 54\n",
      "90 49\n",
      "124 53\n",
      "152 55\n",
      "37 18\n",
      "36 16\n",
      "39 13\n",
      "35 9\n",
      "29 0\n"
     ]
    },
    {
     "name": "stderr",
     "output_type": "stream",
     "text": [
      " 52%|███████████████████████████████████████████████████████████████████████████████▏                                                                       | 152/290 [05:10<04:51,  2.11s/it]"
     ]
    },
    {
     "name": "stdout",
     "output_type": "stream",
     "text": [
      "25 0\n",
      "ADNI_041_S_4200_20111219\n",
      "156 128\n",
      "134 103\n",
      "108 72\n",
      "126 65\n",
      "149 64\n",
      "177 72\n",
      "77 40\n",
      "80 40\n",
      "62 20\n",
      "56 10\n",
      "49 0\n"
     ]
    },
    {
     "name": "stderr",
     "output_type": "stream",
     "text": [
      " 53%|███████████████████████████████████████████████████████████████████████████████▋                                                                       | 153/290 [05:13<05:04,  2.22s/it]"
     ]
    },
    {
     "name": "stdout",
     "output_type": "stream",
     "text": [
      "41 0\n",
      "ADNI_041_S_4271_20111007\n",
      "115 111\n",
      "65 61\n",
      "50 45\n",
      "36 31\n",
      "38 33\n",
      "33 25\n",
      "30 25\n",
      "20 15\n",
      "14 9\n"
     ]
    },
    {
     "name": "stderr",
     "output_type": "stream",
     "text": [
      " 53%|████████████████████████████████████████████████████████████████████████████████▏                                                                      | 154/290 [05:14<04:15,  1.88s/it]"
     ]
    },
    {
     "name": "stdout",
     "output_type": "stream",
     "text": [
      "12 4\n",
      "13 0\n",
      "14 0\n",
      "ADNI_041_S_4427_20111219\n",
      "224 217\n",
      "135 127\n",
      "81 71\n",
      "78 60\n",
      "92 64\n",
      "98 57\n",
      "52 39\n",
      "46 26\n",
      "36 16\n",
      "33 9\n"
     ]
    },
    {
     "name": "stderr",
     "output_type": "stream",
     "text": [
      " 53%|████████████████████████████████████████████████████████████████████████████████▋                                                                      | 155/290 [05:16<04:17,  1.91s/it]"
     ]
    },
    {
     "name": "stdout",
     "output_type": "stream",
     "text": [
      "28 0\n",
      "28 0\n",
      "ADNI_041_S_4510_20120910\n",
      "137 131\n",
      "72 66\n",
      "48 40\n",
      "53 38\n",
      "52 32\n",
      "62 33\n",
      "34 27\n",
      "21 13\n",
      "18 10\n",
      "15 4\n"
     ]
    },
    {
     "name": "stderr",
     "output_type": "stream",
     "text": [
      " 54%|█████████████████████████████████████████████████████████████████████████████████▏                                                                     | 156/290 [05:17<03:50,  1.72s/it]"
     ]
    },
    {
     "name": "stdout",
     "output_type": "stream",
     "text": [
      "15 0\n",
      "14 0\n",
      "ADNI_041_S_4513_20120905\n",
      "232 228\n",
      "142 136\n",
      "93 87\n",
      "67 60\n",
      "51 44\n",
      "48 40\n",
      "46 39\n",
      "26 19\n"
     ]
    },
    {
     "name": "stderr",
     "output_type": "stream",
     "text": [
      " 54%|█████████████████████████████████████████████████████████████████████████████████▋                                                                     | 157/290 [05:19<03:46,  1.70s/it]"
     ]
    },
    {
     "name": "stdout",
     "output_type": "stream",
     "text": [
      "22 15\n",
      "10 1\n",
      "10 0\n",
      "8 0\n",
      "ADNI_041_S_4720_20121109\n",
      "167 160\n",
      "81 70\n",
      "66 48\n",
      "95 38\n",
      "152 47\n",
      "250 80\n",
      "39 27\n",
      "26 12\n"
     ]
    },
    {
     "name": "stderr",
     "output_type": "stream",
     "text": [
      " 54%|██████████████████████████████████████████████████████████████████████████████████▎                                                                    | 158/290 [05:21<03:58,  1.81s/it]"
     ]
    },
    {
     "name": "stdout",
     "output_type": "stream",
     "text": [
      "22 7\n",
      "22 5\n",
      "23 0\n",
      "22 0\n",
      "ADNI_041_S_4874_20121105\n",
      "109 102\n",
      "58 51\n",
      "51 43\n",
      "46 34\n",
      "46 29\n",
      "62 35\n",
      "25 18\n",
      "17 10\n",
      "14 6\n",
      "11 3\n",
      "10 0\n"
     ]
    },
    {
     "name": "stderr",
     "output_type": "stream",
     "text": [
      " 55%|██████████████████████████████████████████████████████████████████████████████████▊                                                                    | 159/290 [05:22<03:29,  1.60s/it]"
     ]
    },
    {
     "name": "stdout",
     "output_type": "stream",
     "text": [
      "11 0\n",
      "ADNI_041_S_4876_20121106\n",
      "177 169\n",
      "109 99\n",
      "86 63\n",
      "141 65\n",
      "224 79\n",
      "374 109\n",
      "40 24\n",
      "40 21\n",
      "41 20\n",
      "39 13\n",
      "37 0\n"
     ]
    },
    {
     "name": "stderr",
     "output_type": "stream",
     "text": [
      " 55%|███████████████████████████████████████████████████████████████████████████████████▎                                                                   | 160/290 [05:25<04:12,  1.94s/it]"
     ]
    },
    {
     "name": "stdout",
     "output_type": "stream",
     "text": [
      "34 0\n",
      "ADNI_041_S_4877_20121212\n",
      "168 157\n",
      "101 86\n",
      "84 63\n",
      "97 57\n",
      "123 65\n",
      "145 60\n",
      "52 30\n",
      "41 17\n",
      "32 7\n",
      "30 3\n"
     ]
    },
    {
     "name": "stderr",
     "output_type": "stream",
     "text": [
      " 56%|███████████████████████████████████████████████████████████████████████████████████▊                                                                   | 161/290 [05:27<04:11,  1.95s/it]"
     ]
    },
    {
     "name": "stdout",
     "output_type": "stream",
     "text": [
      "29 0\n",
      "29 0\n",
      "ADNI_041_S_4974_20121015\n",
      "208 205\n",
      "104 98\n",
      "92 74\n",
      "119 75\n",
      "173 98\n",
      "248 110\n",
      "52 41\n",
      "41 29\n",
      "40 25\n",
      "31 11\n"
     ]
    },
    {
     "name": "stderr",
     "output_type": "stream",
     "text": [
      " 56%|████████████████████████████████████████████████████████████████████████████████████▎                                                                  | 162/290 [05:29<04:26,  2.08s/it]"
     ]
    },
    {
     "name": "stdout",
     "output_type": "stream",
     "text": [
      "27 0\n",
      "26 0\n",
      "ADNI_041_S_4989_20121019\n",
      "135 130\n",
      "63 53\n",
      "52 42\n",
      "56 41\n",
      "59 39\n",
      "78 38\n",
      "40 28\n",
      "28 14\n",
      "25 11\n"
     ]
    },
    {
     "name": "stderr",
     "output_type": "stream",
     "text": [
      " 56%|████████████████████████████████████████████████████████████████████████████████████▊                                                                  | 163/290 [05:30<03:57,  1.87s/it]"
     ]
    },
    {
     "name": "stdout",
     "output_type": "stream",
     "text": [
      "22 5\n",
      "24 0\n",
      "20 0\n",
      "ADNI_053_S_4578_20121003\n",
      "221 204\n",
      "142 122\n",
      "109 84\n",
      "106 60\n",
      "135 67\n",
      "196 80\n",
      "70 42\n",
      "59 23\n",
      "53 15\n",
      "50 7\n",
      "48 0\n"
     ]
    },
    {
     "name": "stderr",
     "output_type": "stream",
     "text": [
      " 57%|█████████████████████████████████████████████████████████████████████████████████████▍                                                                 | 164/290 [05:33<04:20,  2.07s/it]"
     ]
    },
    {
     "name": "stdout",
     "output_type": "stream",
     "text": [
      "44 0\n",
      "ADNI_053_S_4661_20120528\n",
      "172 166\n",
      "111 104\n",
      "71 61\n",
      "50 39\n",
      "53 36\n",
      "60 36\n",
      "40 29\n",
      "32 17\n"
     ]
    },
    {
     "name": "stderr",
     "output_type": "stream",
     "text": [
      " 57%|█████████████████████████████████████████████████████████████████████████████████████▉                                                                 | 165/290 [05:34<03:57,  1.90s/it]"
     ]
    },
    {
     "name": "stdout",
     "output_type": "stream",
     "text": [
      "23 8\n",
      "25 9\n",
      "20 0\n",
      "17 0\n",
      "ADNI_053_S_4813_20120928\n",
      "185 177\n",
      "117 106\n",
      "74 60\n",
      "69 47\n",
      "91 60\n",
      "94 56\n",
      "48 32\n",
      "41 21\n",
      "38 16\n",
      "33 10\n"
     ]
    },
    {
     "name": "stderr",
     "output_type": "stream",
     "text": [
      " 57%|██████████████████████████████████████████████████████████████████████████████████████▍                                                                | 166/290 [05:36<03:51,  1.87s/it]"
     ]
    },
    {
     "name": "stdout",
     "output_type": "stream",
     "text": [
      "26 0\n",
      "18 0\n",
      "ADNI_067_S_2195_20101119\n",
      "201 195\n",
      "96 90\n",
      "44 37\n",
      "37 29\n",
      "29 19\n",
      "34 19\n",
      "26 18\n",
      "15 7\n",
      "13 5\n"
     ]
    },
    {
     "name": "stderr",
     "output_type": "stream",
     "text": [
      " 58%|██████████████████████████████████████████████████████████████████████████████████████▉                                                                | 167/290 [05:37<03:26,  1.68s/it]"
     ]
    },
    {
     "name": "stdout",
     "output_type": "stream",
     "text": [
      "12 1\n",
      "13 0\n",
      "12 0\n",
      "ADNI_067_S_2301_20110830\n",
      "222 216\n",
      "128 122\n",
      "78 72\n",
      "57 50\n",
      "53 45\n",
      "53 41\n",
      "44 36\n",
      "28 20\n"
     ]
    },
    {
     "name": "stderr",
     "output_type": "stream",
     "text": [
      " 58%|███████████████████████████████████████████████████████████████████████████████████████▍                                                               | 168/290 [05:39<03:21,  1.65s/it]"
     ]
    },
    {
     "name": "stdout",
     "output_type": "stream",
     "text": [
      "18 9\n",
      "15 4\n",
      "12 0\n",
      "11 0\n",
      "ADNI_067_S_2304_20110914\n",
      "221 215\n",
      "112 106\n",
      "82 71\n",
      "51 36\n",
      "68 38\n",
      "85 36\n",
      "23 16\n",
      "16 9\n",
      "12 5\n"
     ]
    },
    {
     "name": "stderr",
     "output_type": "stream",
     "text": [
      " 58%|███████████████████████████████████████████████████████████████████████████████████████▉                                                               | 169/290 [05:41<03:15,  1.62s/it]"
     ]
    },
    {
     "name": "stdout",
     "output_type": "stream",
     "text": [
      "8 1\n",
      "9 0\n",
      "8 0\n",
      "ADNI_067_S_4054_20111215\n",
      "157 152\n",
      "89 81\n",
      "60 45\n",
      "102 60\n",
      "133 58\n",
      "204 69\n",
      "38 27\n",
      "29 15\n"
     ]
    },
    {
     "name": "stderr",
     "output_type": "stream",
     "text": [
      " 59%|████████████████████████████████████████████████████████████████████████████████████████▌                                                              | 170/290 [05:42<03:24,  1.71s/it]"
     ]
    },
    {
     "name": "stdout",
     "output_type": "stream",
     "text": [
      "23 5\n",
      "24 4\n",
      "22 0\n",
      "23 0\n",
      "ADNI_067_S_4072_20111012\n",
      "147 143\n",
      "85 79\n",
      "54 45\n",
      "60 48\n",
      "71 56\n",
      "78 52\n",
      "47 36\n",
      "43 29\n",
      "29 14\n"
     ]
    },
    {
     "name": "stderr",
     "output_type": "stream",
     "text": [
      " 59%|█████████████████████████████████████████████████████████████████████████████████████████                                                              | 171/290 [05:44<03:17,  1.66s/it]"
     ]
    },
    {
     "name": "stdout",
     "output_type": "stream",
     "text": [
      "25 6\n",
      "26 0\n",
      "17 0\n",
      "ADNI_067_S_4184_20111219\n",
      "243 236\n",
      "137 130\n",
      "103 96\n",
      "85 75\n",
      "78 62\n",
      "74 52\n",
      "59 51\n",
      "35 27\n",
      "24 16\n"
     ]
    },
    {
     "name": "stderr",
     "output_type": "stream",
     "text": [
      " 59%|█████████████████████████████████████████████████████████████████████████████████████████▌                                                             | 172/290 [05:46<03:22,  1.72s/it]"
     ]
    },
    {
     "name": "stdout",
     "output_type": "stream",
     "text": [
      "16 5\n",
      "15 0\n",
      "13 0\n",
      "ADNI_067_S_4212_20111219\n",
      "485 475\n",
      "253 241\n",
      "165 152\n",
      "121 105\n",
      "111 95\n",
      "106 87\n",
      "74 57\n",
      "55 37\n",
      "39 19\n",
      "32 11\n"
     ]
    },
    {
     "name": "stderr",
     "output_type": "stream",
     "text": [
      " 60%|██████████████████████████████████████████████████████████████████████████████████████████                                                             | 173/290 [05:49<04:04,  2.09s/it]"
     ]
    },
    {
     "name": "stdout",
     "output_type": "stream",
     "text": [
      "25 0\n",
      "17 0\n",
      "ADNI_067_S_4310_20111027\n",
      "191 184\n",
      "106 98\n",
      "80 72\n",
      "54 42\n",
      "59 39\n",
      "58 32\n",
      "48 40\n",
      "22 13\n"
     ]
    },
    {
     "name": "stderr",
     "output_type": "stream",
     "text": [
      " 60%|██████████████████████████████████████████████████████████████████████████████████████████▌                                                            | 174/290 [05:50<03:42,  1.92s/it]"
     ]
    },
    {
     "name": "stdout",
     "output_type": "stream",
     "text": [
      "24 12\n",
      "18 5\n",
      "15 0\n",
      "15 0\n",
      "ADNI_067_S_4767_20121210\n",
      "231 222\n",
      "185 174\n",
      "144 132\n",
      "109 95\n",
      "92 76\n",
      "79 62\n",
      "54 41\n",
      "36 22\n",
      "31 15\n",
      "24 7\n",
      "18 0\n"
     ]
    },
    {
     "name": "stderr",
     "output_type": "stream",
     "text": [
      " 60%|███████████████████████████████████████████████████████████████████████████████████████████                                                            | 175/290 [05:52<03:47,  1.98s/it]"
     ]
    },
    {
     "name": "stdout",
     "output_type": "stream",
     "text": [
      "17 0\n",
      "ADNI_067_S_4782_20121026\n",
      "232 227\n",
      "184 175\n",
      "157 147\n",
      "123 109\n",
      "121 104\n",
      "119 87\n",
      "63 53\n",
      "38 27\n",
      "28 16\n",
      "24 11\n",
      "17 0\n"
     ]
    },
    {
     "name": "stderr",
     "output_type": "stream",
     "text": [
      " 61%|███████████████████████████████████████████████████████████████████████████████████████████▋                                                           | 176/290 [05:55<03:56,  2.08s/it]"
     ]
    },
    {
     "name": "stdout",
     "output_type": "stream",
     "text": [
      "13 0\n",
      "ADNI_068_S_4061_20111219\n",
      "113 107\n",
      "68 60\n",
      "46 37\n",
      "41 29\n",
      "43 26\n",
      "62 30\n",
      "27 15\n",
      "34 17\n",
      "24 6\n"
     ]
    },
    {
     "name": "stderr",
     "output_type": "stream",
     "text": [
      " 61%|████████████████████████████████████████████████████████████████████████████████████████████▏                                                          | 177/290 [05:56<03:27,  1.84s/it]"
     ]
    },
    {
     "name": "stdout",
     "output_type": "stream",
     "text": [
      "29 5\n",
      "31 0\n",
      "28 0\n",
      "ADNI_068_S_4217_20111214\n",
      "179 173\n",
      "125 117\n",
      "84 75\n",
      "62 47\n",
      "78 46\n",
      "99 44\n",
      "36 25\n",
      "36 22\n"
     ]
    },
    {
     "name": "stderr",
     "output_type": "stream",
     "text": [
      " 61%|████████████████████████████████████████████████████████████████████████████████████████████▋                                                          | 178/290 [05:58<03:21,  1.80s/it]"
     ]
    },
    {
     "name": "stdout",
     "output_type": "stream",
     "text": [
      "29 15\n",
      "22 5\n",
      "22 0\n",
      "19 0\n",
      "ADNI_072_S_2116_20101026\n",
      "ADNI_072_S_4007_20111101\n",
      "118 115\n",
      "75 71\n",
      "64 57\n",
      "48 40\n",
      "47 34\n",
      "62 37\n",
      "39 29\n",
      "33 22\n",
      "31 15\n"
     ]
    },
    {
     "name": "stderr",
     "output_type": "stream",
     "text": [
      " 62%|█████████████████████████████████████████████████████████████████████████████████████████████▋                                                         | 180/290 [05:59<02:23,  1.30s/it]"
     ]
    },
    {
     "name": "stdout",
     "output_type": "stream",
     "text": [
      "30 5\n",
      "38 0\n",
      "37 0\n",
      "ADNI_072_S_4057_20111212\n",
      "ADNI_072_S_4063_20111219\n",
      "ADNI_072_S_4103_20110720\n",
      "125 118\n",
      "83 71\n",
      "64 51\n",
      "48 35\n",
      "52 32\n",
      "47 26\n",
      "35 22\n",
      "26 11\n",
      "27 9\n"
     ]
    },
    {
     "name": "stderr",
     "output_type": "stream",
     "text": [
      " 63%|███████████████████████████████████████████████████████████████████████████████████████████████▎                                                       | 183/290 [06:01<01:35,  1.12it/s]"
     ]
    },
    {
     "name": "stdout",
     "output_type": "stream",
     "text": [
      "29 8\n",
      "25 0\n",
      "26 0\n",
      "ADNI_072_S_4769_20121017\n",
      "183 158\n",
      "129 102\n",
      "101 69\n",
      "102 59\n",
      "105 54\n",
      "117 52\n",
      "54 20\n",
      "56 20\n",
      "51 14\n"
     ]
    },
    {
     "name": "stderr",
     "output_type": "stream",
     "text": [
      " 63%|███████████████████████████████████████████████████████████████████████████████████████████████▊                                                       | 184/290 [06:03<02:00,  1.13s/it]"
     ]
    },
    {
     "name": "stdout",
     "output_type": "stream",
     "text": [
      "50 9\n",
      "44 0\n",
      "39 0\n",
      "ADNI_073_S_0311_20110901\n",
      "258 248\n",
      "163 148\n",
      "131 108\n",
      "147 104\n",
      "142 80\n",
      "183 87\n",
      "58 37\n",
      "56 32\n",
      "47 22\n"
     ]
    },
    {
     "name": "stderr",
     "output_type": "stream",
     "text": [
      " 64%|████████████████████████████████████████████████████████████████████████████████████████████████▎                                                      | 185/290 [06:05<02:32,  1.45s/it]"
     ]
    },
    {
     "name": "stdout",
     "output_type": "stream",
     "text": [
      "38 9\n",
      "34 0\n",
      "32 0\n",
      "ADNI_073_S_0746_20120213\n",
      "207 193\n",
      "133 119\n",
      "102 87\n",
      "71 52\n",
      "73 48\n",
      "84 48\n",
      "42 27\n",
      "30 14\n",
      "23 7\n",
      "16 0\n"
     ]
    },
    {
     "name": "stderr",
     "output_type": "stream",
     "text": [
      " 64%|████████████████████████████████████████████████████████████████████████████████████████████████▊                                                      | 186/290 [06:07<02:40,  1.54s/it]"
     ]
    },
    {
     "name": "stdout",
     "output_type": "stream",
     "text": [
      "19 0\n",
      "13 0\n",
      "ADNI_073_S_2153_20101105\n",
      "289 278\n",
      "194 179\n",
      "135 120\n",
      "88 72\n",
      "74 57\n",
      "68 45\n",
      "52 36\n",
      "44 27\n",
      "32 14\n"
     ]
    },
    {
     "name": "stderr",
     "output_type": "stream",
     "text": [
      " 64%|█████████████████████████████████████████████████████████████████████████████████████████████████▎                                                     | 187/290 [06:09<02:55,  1.71s/it]"
     ]
    },
    {
     "name": "stdout",
     "output_type": "stream",
     "text": [
      "27 6\n",
      "29 0\n",
      "22 0\n",
      "ADNI_073_S_2191_20110708\n",
      "123 120\n",
      "56 52\n",
      "45 40\n",
      "48 34\n",
      "59 31\n",
      "92 36\n",
      "26 19\n",
      "20 11\n",
      "17 8\n",
      "15 3\n"
     ]
    },
    {
     "name": "stderr",
     "output_type": "stream",
     "text": [
      " 65%|█████████████████████████████████████████████████████████████████████████████████████████████████▉                                                     | 188/290 [06:11<02:42,  1.59s/it]"
     ]
    },
    {
     "name": "stdout",
     "output_type": "stream",
     "text": [
      "14 0\n",
      "15 0\n",
      "ADNI_073_S_2225_20110808\n",
      "189 181\n",
      "93 85\n",
      "63 53\n",
      "60 45\n",
      "64 38\n",
      "79 42\n",
      "36 26\n",
      "30 19\n",
      "26 14\n"
     ]
    },
    {
     "name": "stderr",
     "output_type": "stream",
     "text": [
      " 65%|██████████████████████████████████████████████████████████████████████████████████████████████████▍                                                    | 189/290 [06:12<02:39,  1.58s/it]"
     ]
    },
    {
     "name": "stdout",
     "output_type": "stream",
     "text": [
      "19 6\n",
      "20 0\n",
      "20 0\n",
      "ADNI_073_S_2264_20110721\n",
      "179 163\n",
      "112 91\n",
      "91 64\n",
      "128 80\n",
      "154 80\n",
      "225 98\n",
      "60 33\n",
      "65 32\n",
      "53 15\n",
      "46 5\n",
      "44 0\n",
      "41 0\n"
     ]
    },
    {
     "name": "stderr",
     "output_type": "stream",
     "text": [
      " 66%|██████████████████████████████████████████████████████████████████████████████████████████████████▉                                                    | 190/290 [06:15<03:03,  1.83s/it]"
     ]
    },
    {
     "name": "stdout",
     "output_type": "stream",
     "text": [
      "ADNI_073_S_4216_20111206\n",
      "325 320\n",
      "180 175\n",
      "109 103\n",
      "68 61\n",
      "58 51\n",
      "49 42\n",
      "49 42\n",
      "29 19\n",
      "22 11\n",
      "20 8\n"
     ]
    },
    {
     "name": "stderr",
     "output_type": "stream",
     "text": [
      " 66%|███████████████████████████████████████████████████████████████████████████████████████████████████▍                                                   | 191/290 [06:17<03:04,  1.87s/it]"
     ]
    },
    {
     "name": "stdout",
     "output_type": "stream",
     "text": [
      "12 0\n",
      "10 0\n",
      "ADNI_073_S_4300_20111012\n",
      "303 293\n",
      "194 184\n",
      "140 128\n",
      "116 98\n",
      "138 98\n",
      "162 81\n",
      "61 45\n",
      "54 34\n",
      "40 17\n",
      "35 9\n"
     ]
    },
    {
     "name": "stderr",
     "output_type": "stream",
     "text": [
      " 66%|███████████████████████████████████████████████████████████████████████████████████████████████████▉                                                   | 192/290 [06:19<03:24,  2.09s/it]"
     ]
    },
    {
     "name": "stdout",
     "output_type": "stream",
     "text": [
      "27 0\n",
      "24 0\n",
      "ADNI_073_S_4311_20111017\n",
      "131 127\n",
      "79 75\n",
      "45 37\n",
      "62 46\n",
      "66 40\n",
      "91 40\n",
      "44 36\n",
      "26 15\n",
      "25 13\n"
     ]
    },
    {
     "name": "stderr",
     "output_type": "stream",
     "text": [
      " 67%|████████████████████████████████████████████████████████████████████████████████████████████████████▍                                                  | 193/290 [06:21<03:06,  1.92s/it]"
     ]
    },
    {
     "name": "stdout",
     "output_type": "stream",
     "text": [
      "30 9\n",
      "29 0\n",
      "28 0\n",
      "ADNI_073_S_4312_20111017\n",
      "132 127\n",
      "95 88\n",
      "63 56\n",
      "40 33\n",
      "37 29\n",
      "36 24\n",
      "29 21\n",
      "29 17\n"
     ]
    },
    {
     "name": "stderr",
     "output_type": "stream",
     "text": [
      " 67%|█████████████████████████████████████████████████████████████████████████████████████████████████████                                                  | 194/290 [06:22<02:45,  1.73s/it]"
     ]
    },
    {
     "name": "stdout",
     "output_type": "stream",
     "text": [
      "25 11\n",
      "26 9\n",
      "17 0\n",
      "12 0\n",
      "ADNI_073_S_4360_20111104\n",
      "119 115\n",
      "66 62\n",
      "59 54\n",
      "56 40\n",
      "75 46\n",
      "109 50\n",
      "37 29\n",
      "32 23\n"
     ]
    },
    {
     "name": "stderr",
     "output_type": "stream",
     "text": [
      " 67%|█████████████████████████████████████████████████████████████████████████████████████████████████████▌                                                 | 195/290 [06:24<02:36,  1.65s/it]"
     ]
    },
    {
     "name": "stdout",
     "output_type": "stream",
     "text": [
      "29 19\n",
      "21 9\n",
      "18 0\n",
      "16 0\n",
      "ADNI_073_S_4382_20111115\n",
      "108 104\n",
      "64 59\n",
      "48 43\n",
      "33 24\n",
      "39 24\n",
      "49 23\n",
      "26 18\n",
      "18 9\n",
      "15 6\n"
     ]
    },
    {
     "name": "stderr",
     "output_type": "stream",
     "text": [
      " 68%|██████████████████████████████████████████████████████████████████████████████████████████████████████                                                 | 196/290 [06:25<02:19,  1.48s/it]"
     ]
    },
    {
     "name": "stdout",
     "output_type": "stream",
     "text": [
      "14 4\n",
      "12 0\n",
      "13 0\n",
      "ADNI_073_S_4393_20111122\n",
      "279 274\n",
      "145 140\n",
      "121 116\n",
      "75 68\n",
      "74 66\n",
      "67 58\n",
      "54 47\n",
      "43 33\n",
      "32 19\n"
     ]
    },
    {
     "name": "stderr",
     "output_type": "stream",
     "text": [
      " 68%|██████████████████████████████████████████████████████████████████████████████████████████████████████▌                                                | 197/290 [06:27<02:32,  1.64s/it]"
     ]
    },
    {
     "name": "stdout",
     "output_type": "stream",
     "text": [
      "28 11\n",
      "22 0\n",
      "9 0\n",
      "ADNI_073_S_4552_20120524\n",
      "257 241\n",
      "199 181\n",
      "179 160\n",
      "148 122\n",
      "131 99\n",
      "128 89\n",
      "98 74\n",
      "78 51\n",
      "61 31\n"
     ]
    },
    {
     "name": "stderr",
     "output_type": "stream",
     "text": [
      " 68%|███████████████████████████████████████████████████████████████████████████████████████████████████████                                                | 198/290 [06:30<03:02,  1.99s/it]"
     ]
    },
    {
     "name": "stdout",
     "output_type": "stream",
     "text": [
      "52 15\n",
      "49 0\n",
      "39 0\n",
      "ADNI_073_S_4559_20121012\n",
      "353 337\n",
      "288 266\n",
      "256 229\n",
      "181 145\n",
      "169 122\n",
      "173 112\n",
      "116 83\n",
      "90 50\n",
      "78 35\n",
      "61 14\n"
     ]
    },
    {
     "name": "stderr",
     "output_type": "stream",
     "text": [
      " 69%|███████████████████████████████████████████████████████████████████████████████████████████████████████▌                                               | 199/290 [06:33<03:42,  2.44s/it]"
     ]
    },
    {
     "name": "stdout",
     "output_type": "stream",
     "text": [
      "54 0\n",
      "41 0\n",
      "ADNI_073_S_4614_20120919\n",
      "158 155\n",
      "93 88\n",
      "44 39\n",
      "37 29\n",
      "37 28\n",
      "39 28\n",
      "30 22\n",
      "23 15\n",
      "20 11\n"
     ]
    },
    {
     "name": "stderr",
     "output_type": "stream",
     "text": [
      " 69%|████████████████████████████████████████████████████████████████████████████████████████████████████████▏                                              | 200/290 [06:34<03:06,  2.07s/it]"
     ]
    },
    {
     "name": "stdout",
     "output_type": "stream",
     "text": [
      "13 3\n",
      "12 0\n",
      "12 0\n",
      "ADNI_073_S_4739_20121114\n",
      "128 120\n",
      "95 86\n",
      "60 50\n",
      "47 33\n",
      "63 40\n",
      "77 41\n",
      "38 28\n",
      "23 12\n",
      "19 7\n",
      "18 1\n"
     ]
    },
    {
     "name": "stderr",
     "output_type": "stream",
     "text": [
      " 69%|████████████████████████████████████████████████████████████████████████████████████████████████████████▋                                              | 201/290 [06:36<02:44,  1.85s/it]"
     ]
    },
    {
     "name": "stdout",
     "output_type": "stream",
     "text": [
      "20 0\n",
      "20 0\n",
      "ADNI_073_S_4777_20121212\n",
      "226 221\n",
      "140 130\n",
      "105 86\n",
      "96 65\n",
      "116 68\n",
      "149 64\n",
      "37 25\n",
      "31 18\n",
      "32 16\n",
      "31 11\n",
      "26 0\n"
     ]
    },
    {
     "name": "stderr",
     "output_type": "stream",
     "text": [
      " 70%|█████████████████████████████████████████████████████████████████████████████████████████████████████████▏                                             | 202/290 [06:38<02:49,  1.92s/it]"
     ]
    },
    {
     "name": "stdout",
     "output_type": "stream",
     "text": [
      "23 0\n",
      "ADNI_073_S_4795_20120606\n",
      "142 138\n",
      "93 88\n",
      "58 53\n",
      "49 42\n",
      "43 36\n",
      "43 36\n",
      "36 29\n",
      "32 22\n",
      "28 15\n",
      "29 13\n",
      "17 0\n"
     ]
    },
    {
     "name": "stderr",
     "output_type": "stream",
     "text": [
      " 70%|█████████████████████████████████████████████████████████████████████████████████████████████████████████▋                                             | 203/290 [06:39<02:31,  1.74s/it]"
     ]
    },
    {
     "name": "stdout",
     "output_type": "stream",
     "text": [
      "14 0\n",
      "ADNI_073_S_5023_20130403\n",
      "189 186\n",
      "108 104\n",
      "57 53\n",
      "46 41\n",
      "46 41\n",
      "50 36\n",
      "34 29\n",
      "22 15\n"
     ]
    },
    {
     "name": "stderr",
     "output_type": "stream",
     "text": [
      " 70%|██████████████████████████████████████████████████████████████████████████████████████████████████████████▏                                            | 204/290 [06:40<02:20,  1.63s/it]"
     ]
    },
    {
     "name": "stdout",
     "output_type": "stream",
     "text": [
      "20 10\n",
      "22 8\n",
      "18 0\n",
      "13 0\n",
      "ADNI_082_S_2121_20101012\n",
      "190 185\n",
      "82 75\n",
      "70 63\n",
      "58 51\n",
      "48 37\n",
      "50 35\n",
      "54 45\n",
      "28 18\n",
      "19 8\n",
      "21 7\n"
     ]
    },
    {
     "name": "stderr",
     "output_type": "stream",
     "text": [
      " 71%|██████████████████████████████████████████████████████████████████████████████████████████████████████████▋                                            | 205/290 [06:42<02:13,  1.57s/it]"
     ]
    },
    {
     "name": "stdout",
     "output_type": "stream",
     "text": [
      "18 0\n",
      "21 0\n",
      "ADNI_082_S_4090_20110921\n",
      "123 118\n",
      "64 57\n",
      "52 41\n",
      "42 21\n",
      "52 23\n",
      "80 38\n",
      "29 19\n",
      "19 6\n",
      "24 9\n"
     ]
    },
    {
     "name": "stderr",
     "output_type": "stream",
     "text": [
      " 71%|███████████████████████████████████████████████████████████████████████████████████████████████████████████▎                                           | 206/290 [06:43<02:05,  1.49s/it]"
     ]
    },
    {
     "name": "stdout",
     "output_type": "stream",
     "text": [
      "33 12\n",
      "29 0\n",
      "28 0\n",
      "ADNI_082_S_4208_20111207\n",
      "302 291\n",
      "191 178\n",
      "153 140\n",
      "121 103\n",
      "111 91\n",
      "111 73\n",
      "70 55\n",
      "45 29\n",
      "32 15\n",
      "24 6\n"
     ]
    },
    {
     "name": "stderr",
     "output_type": "stream",
     "text": [
      " 71%|███████████████████████████████████████████████████████████████████████████████████████████████████████████▊                                           | 207/290 [06:45<02:27,  1.77s/it]"
     ]
    },
    {
     "name": "stdout",
     "output_type": "stream",
     "text": [
      "21 0\n",
      "24 0\n",
      "ADNI_082_S_4244_20111019\n",
      "270 264\n",
      "194 187\n",
      "123 115\n",
      "106 87\n",
      "124 74\n",
      "180 88\n",
      "47 38\n",
      "44 33\n",
      "27 16\n",
      "25 11\n",
      "17 0\n"
     ]
    },
    {
     "name": "stderr",
     "output_type": "stream",
     "text": [
      " 72%|████████████████████████████████████████████████████████████████████████████████████████████████████████████▎                                          | 208/290 [06:48<02:40,  1.95s/it]"
     ]
    },
    {
     "name": "stdout",
     "output_type": "stream",
     "text": [
      "19 0\n",
      "ADNI_082_S_4339_20111109\n",
      "123 118\n",
      "99 92\n",
      "57 50\n",
      "47 38\n",
      "49 35\n",
      "57 35\n",
      "36 27\n",
      "44 31\n",
      "34 21\n",
      "31 11\n",
      "30 0\n"
     ]
    },
    {
     "name": "stderr",
     "output_type": "stream",
     "text": [
      " 72%|████████████████████████████████████████████████████████████████████████████████████████████████████████████▊                                          | 209/290 [06:49<02:25,  1.80s/it]"
     ]
    },
    {
     "name": "stdout",
     "output_type": "stream",
     "text": [
      "25 0\n",
      "ADNI_100_S_4469_20121023\n",
      "208 205\n",
      "131 128\n",
      "82 78\n",
      "41 36\n",
      "34 27\n",
      "30 21\n",
      "20 13\n",
      "24 15\n",
      "20 11\n",
      "16 4\n"
     ]
    },
    {
     "name": "stderr",
     "output_type": "stream",
     "text": [
      " 72%|█████████████████████████████████████████████████████████████████████████████████████████████████████████████▎                                         | 210/290 [06:51<02:14,  1.68s/it]"
     ]
    },
    {
     "name": "stdout",
     "output_type": "stream",
     "text": [
      "15 0\n",
      "10 0\n",
      "ADNI_100_S_4512_20121106\n",
      "175 168\n",
      "104 96\n",
      "83 71\n",
      "90 59\n",
      "113 59\n",
      "169 76\n",
      "55 37\n",
      "44 23\n",
      "43 20\n",
      "40 13\n"
     ]
    },
    {
     "name": "stderr",
     "output_type": "stream",
     "text": [
      " 73%|█████████████████████████████████████████████████████████████████████████████████████████████████████████████▊                                         | 211/290 [06:53<02:21,  1.79s/it]"
     ]
    },
    {
     "name": "stdout",
     "output_type": "stream",
     "text": [
      "34 0\n",
      "29 0\n",
      "ADNI_100_S_4556_20121126\n",
      "355 345\n",
      "214 203\n",
      "159 148\n",
      "107 96\n",
      "79 67\n",
      "78 61\n",
      "46 35\n",
      "29 17\n"
     ]
    },
    {
     "name": "stderr",
     "output_type": "stream",
     "text": [
      " 73%|██████████████████████████████████████████████████████████████████████████████████████████████████████████████▍                                        | 212/290 [06:55<02:29,  1.92s/it]"
     ]
    },
    {
     "name": "stdout",
     "output_type": "stream",
     "text": [
      "22 10\n",
      "19 6\n",
      "14 0\n",
      "9 0\n",
      "ADNI_114_S_4404_20120802\n",
      "139 134\n",
      "71 65\n",
      "42 36\n",
      "36 29\n",
      "36 29\n",
      "33 19\n",
      "28 22\n",
      "18 9\n",
      "22 11\n"
     ]
    },
    {
     "name": "stderr",
     "output_type": "stream",
     "text": [
      " 73%|██████████████████████████████████████████████████████████████████████████████████████████████████████████████▉                                        | 213/290 [06:56<02:09,  1.68s/it]"
     ]
    },
    {
     "name": "stdout",
     "output_type": "stream",
     "text": [
      "21 5\n",
      "24 0\n",
      "17 0\n",
      "ADNI_116_S_4043_20111209\n",
      "274 268\n",
      "194 185\n",
      "172 160\n",
      "133 116\n",
      "130 109\n",
      "131 97\n",
      "71 56\n",
      "45 29\n",
      "37 19\n",
      "31 9\n"
     ]
    },
    {
     "name": "stderr",
     "output_type": "stream",
     "text": [
      " 74%|███████████████████████████████████████████████████████████████████████████████████████████████████████████████▍                                       | 214/290 [06:59<02:27,  1.93s/it]"
     ]
    },
    {
     "name": "stdout",
     "output_type": "stream",
     "text": [
      "27 0\n",
      "23 0\n",
      "ADNI_116_S_4092_20110921\n",
      "118 110\n",
      "72 56\n",
      "68 49\n",
      "99 57\n",
      "125 58\n",
      "204 78\n",
      "33 20\n",
      "31 13\n",
      "30 12\n",
      "27 7\n",
      "27 0\n"
     ]
    },
    {
     "name": "stderr",
     "output_type": "stream",
     "text": [
      " 74%|███████████████████████████████████████████████████████████████████████████████████████████████████████████████▉                                       | 215/290 [07:00<02:23,  1.91s/it]"
     ]
    },
    {
     "name": "stdout",
     "output_type": "stream",
     "text": [
      "27 0\n",
      "ADNI_116_S_4167_20111109\n",
      "170 165\n",
      "132 126\n",
      "94 88\n",
      "62 56\n",
      "51 45\n",
      "47 41\n",
      "42 36\n",
      "26 19\n"
     ]
    },
    {
     "name": "stderr",
     "output_type": "stream",
     "text": [
      " 74%|████████████████████████████████████████████████████████████████████████████████████████████████████████████████▍                                      | 216/290 [07:02<02:11,  1.78s/it]"
     ]
    },
    {
     "name": "stdout",
     "output_type": "stream",
     "text": [
      "17 9\n",
      "15 6\n",
      "16 0\n",
      "13 0\n",
      "ADNI_116_S_4175_20111114\n",
      "107 105\n",
      "64 61\n",
      "40 37\n",
      "33 28\n",
      "34 29\n",
      "36 30\n",
      "29 24\n",
      "26 20\n",
      "14 6\n"
     ]
    },
    {
     "name": "stderr",
     "output_type": "stream",
     "text": [
      " 75%|████████████████████████████████████████████████████████████████████████████████████████████████████████████████▉                                      | 217/290 [07:03<01:52,  1.55s/it]"
     ]
    },
    {
     "name": "stdout",
     "output_type": "stream",
     "text": [
      "11 3\n",
      "10 0\n",
      "11 0\n",
      "ADNI_116_S_4195_20111209\n",
      "115 110\n",
      "77 71\n",
      "48 42\n",
      "30 24\n",
      "25 19\n",
      "22 15\n",
      "18 12\n",
      "13 7\n",
      "15 9\n",
      "13 7\n",
      "6 0\n"
     ]
    },
    {
     "name": "stderr",
     "output_type": "stream",
     "text": [
      " 75%|█████████████████████████████████████████████████████████████████████████████████████████████████████████████████▌                                     | 218/290 [07:04<01:38,  1.37s/it]"
     ]
    },
    {
     "name": "stdout",
     "output_type": "stream",
     "text": [
      "4 0\n",
      "ADNI_116_S_4199_20111123\n",
      "110 107\n",
      "58 54\n",
      "31 26\n",
      "25 20\n",
      "28 23\n",
      "33 20\n",
      "22 17\n",
      "19 14\n",
      "19 10\n"
     ]
    },
    {
     "name": "stderr",
     "output_type": "stream",
     "text": [
      " 76%|██████████████████████████████████████████████████████████████████████████████████████████████████████████████████                                     | 219/290 [07:05<01:28,  1.25s/it]"
     ]
    },
    {
     "name": "stdout",
     "output_type": "stream",
     "text": [
      "15 4\n",
      "13 0\n",
      "11 0\n",
      "ADNI_116_S_4453_20120809\n",
      "266 263\n",
      "185 178\n",
      "113 106\n",
      "81 69\n",
      "81 67\n",
      "71 52\n",
      "52 43\n",
      "43 25\n",
      "37 15\n"
     ]
    },
    {
     "name": "stderr",
     "output_type": "stream",
     "text": [
      " 76%|██████████████████████████████████████████████████████████████████████████████████████████████████████████████████▌                                    | 220/290 [07:07<01:44,  1.50s/it]"
     ]
    },
    {
     "name": "stdout",
     "output_type": "stream",
     "text": [
      "37 11\n",
      "35 0\n",
      "26 0\n",
      "ADNI_116_S_4483_20120821\n",
      "140 135\n",
      "89 83\n",
      "67 59\n",
      "49 32\n",
      "58 36\n",
      "79 43\n",
      "28 18\n",
      "26 15\n",
      "24 13\n",
      "18 5\n"
     ]
    },
    {
     "name": "stderr",
     "output_type": "stream",
     "text": [
      " 76%|███████████████████████████████████████████████████████████████████████████████████████████████████████████████████                                    | 221/290 [07:08<01:40,  1.46s/it]"
     ]
    },
    {
     "name": "stdout",
     "output_type": "stream",
     "text": [
      "14 0\n",
      "9 0\n",
      "ADNI_116_S_4625_20121019\n",
      "229 223\n",
      "122 115\n",
      "95 87\n",
      "75 64\n",
      "68 55\n",
      "56 39\n",
      "42 33\n",
      "34 23\n"
     ]
    },
    {
     "name": "stderr",
     "output_type": "stream",
     "text": [
      " 77%|███████████████████████████████████████████████████████████████████████████████████████████████████████████████████▌                                   | 222/290 [07:10<01:44,  1.53s/it]"
     ]
    },
    {
     "name": "stdout",
     "output_type": "stream",
     "text": [
      "28 15\n",
      "21 6\n",
      "21 0\n",
      "20 0\n",
      "ADNI_116_S_4635_20121015\n",
      "211 197\n",
      "152 134\n",
      "125 102\n",
      "141 92\n",
      "168 94\n",
      "223 98\n",
      "63 39\n",
      "65 33\n",
      "57 19\n",
      "57 11\n",
      "52 0\n"
     ]
    },
    {
     "name": "stderr",
     "output_type": "stream",
     "text": [
      " 77%|████████████████████████████████████████████████████████████████████████████████████████████████████████████████████                                   | 223/290 [07:13<02:05,  1.87s/it]"
     ]
    },
    {
     "name": "stdout",
     "output_type": "stream",
     "text": [
      "52 0\n",
      "ADNI_116_S_4898_20121107\n",
      "145 138\n",
      "78 70\n",
      "57 46\n",
      "47 35\n",
      "51 34\n",
      "56 34\n",
      "30 20\n",
      "28 16\n",
      "31 17\n",
      "23 8\n",
      "17 0\n"
     ]
    },
    {
     "name": "stderr",
     "output_type": "stream",
     "text": [
      " 77%|████████████████████████████████████████████████████████████████████████████████████████████████████████████████████▋                                  | 224/290 [07:14<01:53,  1.72s/it]"
     ]
    },
    {
     "name": "stdout",
     "output_type": "stream",
     "text": [
      "19 0\n",
      "ADNI_123_S_2363_20110422\n",
      "164 163\n",
      "114 111\n",
      "74 68\n",
      "82 65\n",
      "102 75\n",
      "111 62\n",
      "45 36\n",
      "37 23\n",
      "37 19\n",
      "27 8\n",
      "27 0\n"
     ]
    },
    {
     "name": "stderr",
     "output_type": "stream",
     "text": [
      " 78%|█████████████████████████████████████████████████████████████████████████████████████████████████████████████████████▏                                 | 225/290 [07:16<01:52,  1.73s/it]"
     ]
    },
    {
     "name": "stdout",
     "output_type": "stream",
     "text": [
      "26 0\n",
      "ADNI_123_S_4127_20111114\n",
      "143 136\n",
      "81 74\n",
      "71 64\n",
      "58 45\n",
      "44 28\n",
      "43 22\n",
      "24 15\n",
      "18 8\n",
      "19 9\n",
      "17 4\n",
      "16 0\n"
     ]
    },
    {
     "name": "stderr",
     "output_type": "stream",
     "text": [
      " 78%|█████████████████████████████████████████████████████████████████████████████████████████████████████████████████████▋                                 | 226/290 [07:17<01:41,  1.58s/it]"
     ]
    },
    {
     "name": "stdout",
     "output_type": "stream",
     "text": [
      "13 0\n",
      "ADNI_123_S_4170_20111209\n",
      "217 212\n",
      "129 122\n",
      "106 96\n",
      "84 68\n",
      "80 62\n",
      "74 52\n",
      "56 43\n",
      "32 17\n",
      "27 11\n",
      "25 7\n",
      "22 0\n"
     ]
    },
    {
     "name": "stderr",
     "output_type": "stream",
     "text": [
      " 78%|██████████████████████████████████████████████████████████████████████████████████████████████████████████████████████▏                                | 227/290 [07:19<01:44,  1.65s/it]"
     ]
    },
    {
     "name": "stdout",
     "output_type": "stream",
     "text": [
      "22 0\n",
      "ADNI_123_S_4526_20120814\n",
      "320 307\n",
      "160 144\n",
      "126 104\n",
      "128 95\n",
      "143 96\n",
      "153 89\n",
      "91 71\n",
      "47 26\n",
      "37 14\n",
      "34 10\n"
     ]
    },
    {
     "name": "stderr",
     "output_type": "stream",
     "text": [
      " 79%|██████████████████████████████████████████████████████████████████████████████████████████████████████████████████████▋                                | 228/290 [07:21<01:59,  1.93s/it]"
     ]
    },
    {
     "name": "stdout",
     "output_type": "stream",
     "text": [
      "31 0\n",
      "27 0\n",
      "ADNI_123_S_4780_20121220\n",
      "175 168\n",
      "94 87\n",
      "60 52\n",
      "54 43\n",
      "63 45\n",
      "74 43\n",
      "39 30\n",
      "22 11\n",
      "21 6\n",
      "17 1\n"
     ]
    },
    {
     "name": "stderr",
     "output_type": "stream",
     "text": [
      " 79%|███████████████████████████████████████████████████████████████████████████████████████████████████████████████████████▏                               | 229/290 [07:23<01:48,  1.78s/it]"
     ]
    },
    {
     "name": "stdout",
     "output_type": "stream",
     "text": [
      "19 0\n",
      "15 0\n",
      "ADNI_130_S_2373_20111101\n",
      "137 134\n",
      "102 99\n",
      "71 67\n",
      "57 50\n",
      "51 44\n",
      "47 36\n",
      "47 41\n",
      "25 17\n",
      "24 15\n",
      "18 8\n"
     ]
    },
    {
     "name": "stderr",
     "output_type": "stream",
     "text": [
      " 79%|███████████████████████████████████████████████████████████████████████████████████████████████████████████████████████▊                               | 230/290 [07:24<01:38,  1.64s/it]"
     ]
    },
    {
     "name": "stdout",
     "output_type": "stream",
     "text": [
      "11 0\n",
      "10 0\n",
      "ADNI_130_S_4250_20111005\n",
      "274 267\n",
      "155 146\n",
      "89 79\n",
      "60 47\n",
      "57 38\n",
      "61 37\n",
      "50 37\n",
      "38 18\n",
      "32 11\n",
      "29 7\n"
     ]
    },
    {
     "name": "stderr",
     "output_type": "stream",
     "text": [
      " 80%|████████████████████████████████████████████████████████████████████████████████████████████████████████████████████████▎                              | 231/290 [07:26<01:40,  1.70s/it]"
     ]
    },
    {
     "name": "stdout",
     "output_type": "stream",
     "text": [
      "25 0\n",
      "22 0\n",
      "ADNI_130_S_4294_20111121\n",
      "232 221\n",
      "181 170\n",
      "132 120\n",
      "115 100\n",
      "108 87\n",
      "126 85\n",
      "72 59\n",
      "47 28\n",
      "54 27\n"
     ]
    },
    {
     "name": "stderr",
     "output_type": "stream",
     "text": [
      " 80%|████████████████████████████████████████████████████████████████████████████████████████████████████████████████████████▊                              | 232/290 [07:28<01:50,  1.91s/it]"
     ]
    },
    {
     "name": "stdout",
     "output_type": "stream",
     "text": [
      "50 18\n",
      "38 0\n",
      "31 0\n",
      "ADNI_130_S_4343_20111109\n",
      "258 246\n",
      "165 151\n",
      "124 107\n",
      "111 84\n",
      "121 76\n",
      "147 74\n",
      "57 34\n",
      "59 27\n",
      "54 19\n"
     ]
    },
    {
     "name": "stderr",
     "output_type": "stream",
     "text": [
      " 80%|█████████████████████████████████████████████████████████████████████████████████████████████████████████████████████████▎                             | 233/290 [07:31<01:58,  2.09s/it]"
     ]
    },
    {
     "name": "stdout",
     "output_type": "stream",
     "text": [
      "48 9\n",
      "42 0\n",
      "39 0\n",
      "ADNI_130_S_4405_20120416\n",
      "223 214\n",
      "129 118\n",
      "121 107\n",
      "105 89\n",
      "84 64\n",
      "85 54\n",
      "67 55\n",
      "46 32\n",
      "26 12\n",
      "20 6\n",
      "18 0\n"
     ]
    },
    {
     "name": "stderr",
     "output_type": "stream",
     "text": [
      " 81%|█████████████████████████████████████████████████████████████████████████████████████████████████████████████████████████▊                             | 234/290 [07:33<01:54,  2.05s/it]"
     ]
    },
    {
     "name": "stdout",
     "output_type": "stream",
     "text": [
      "17 0\n",
      "ADNI_130_S_4415_20120517\n",
      "200 187\n",
      "143 127\n",
      "99 82\n",
      "94 58\n",
      "122 61\n",
      "185 71\n",
      "63 42\n",
      "49 24\n",
      "37 11\n",
      "29 0\n"
     ]
    },
    {
     "name": "stderr",
     "output_type": "stream",
     "text": [
      " 81%|██████████████████████████████████████████████████████████████████████████████████████████████████████████████████████████▎                            | 235/290 [07:35<01:55,  2.10s/it]"
     ]
    },
    {
     "name": "stdout",
     "output_type": "stream",
     "text": [
      "33 0\n",
      "32 0\n",
      "ADNI_130_S_4417_20120727\n",
      "212 204\n",
      "144 136\n",
      "87 76\n",
      "72 56\n",
      "79 56\n",
      "101 54\n",
      "46 35\n",
      "36 22\n",
      "40 19\n",
      "34 10\n",
      "35 0\n"
     ]
    },
    {
     "name": "stderr",
     "output_type": "stream",
     "text": [
      " 81%|██████████████████████████████████████████████████████████████████████████████████████████████████████████████████████████▉                            | 236/290 [07:37<01:52,  2.09s/it]"
     ]
    },
    {
     "name": "stdout",
     "output_type": "stream",
     "text": [
      "33 0\n",
      "ADNI_130_S_4468_20120813\n",
      "168 164\n",
      "103 96\n",
      "101 92\n",
      "88 78\n",
      "74 61\n",
      "73 58\n",
      "64 54\n",
      "42 31\n",
      "24 12\n"
     ]
    },
    {
     "name": "stderr",
     "output_type": "stream",
     "text": [
      " 82%|███████████████████████████████████████████████████████████████████████████████████████████████████████████████████████████▍                           | 237/290 [07:39<01:43,  1.96s/it]"
     ]
    },
    {
     "name": "stdout",
     "output_type": "stream",
     "text": [
      "14 1\n",
      "17 0\n",
      "15 0\n",
      "ADNI_130_S_4641_20121010\n",
      "297 286\n",
      "199 177\n",
      "137 101\n",
      "142 86\n",
      "187 99\n",
      "252 112\n",
      "79 48\n",
      "65 29\n",
      "51 13\n",
      "52 7\n",
      "51 0\n"
     ]
    },
    {
     "name": "stderr",
     "output_type": "stream",
     "text": [
      " 82%|███████████████████████████████████████████████████████████████████████████████████████████████████████████████████████████▉                           | 238/290 [07:42<01:59,  2.29s/it]"
     ]
    },
    {
     "name": "stdout",
     "output_type": "stream",
     "text": [
      "44 0\n",
      "ADNI_135_S_4281_20111014\n",
      "131 114\n",
      "93 71\n",
      "76 49\n",
      "122 69\n",
      "180 77\n",
      "294 113\n",
      "53 27\n",
      "55 24\n",
      "51 17\n",
      "50 9\n",
      "48 0\n"
     ]
    },
    {
     "name": "stderr",
     "output_type": "stream",
     "text": [
      " 82%|████████████████████████████████████████████████████████████████████████████████████████████████████████████████████████████▍                          | 239/290 [07:44<02:00,  2.36s/it]"
     ]
    },
    {
     "name": "stdout",
     "output_type": "stream",
     "text": [
      "42 0\n",
      "ADNI_135_S_4309_20111026\n",
      "99 93\n",
      "67 60\n",
      "52 42\n",
      "71 44\n",
      "74 40\n",
      "117 55\n",
      "35 24\n",
      "38 26\n"
     ]
    },
    {
     "name": "stderr",
     "output_type": "stream",
     "text": [
      " 83%|████████████████████████████████████████████████████████████████████████████████████████████████████████████████████████████▉                          | 240/290 [07:46<01:44,  2.09s/it]"
     ]
    },
    {
     "name": "stdout",
     "output_type": "stream",
     "text": [
      "30 16\n",
      "28 12\n",
      "19 0\n",
      "21 0\n",
      "ADNI_135_S_4356_20111110\n",
      "122 118\n",
      "61 57\n",
      "49 44\n",
      "40 34\n",
      "41 31\n",
      "45 26\n",
      "25 17\n",
      "30 19\n",
      "31 18\n",
      "28 11\n",
      "25 0\n",
      "24 0\n"
     ]
    },
    {
     "name": "stderr",
     "output_type": "stream",
     "text": [
      " 83%|█████████████████████████████████████████████████████████████████████████████████████████████████████████████████████████████▍                         | 241/290 [07:47<01:29,  1.82s/it]"
     ]
    },
    {
     "name": "stdout",
     "output_type": "stream",
     "text": [
      "ADNI_135_S_4406_20111207\n",
      "206 200\n",
      "121 115\n",
      "73 67\n",
      "41 34\n",
      "34 27\n",
      "33 26\n",
      "35 28\n",
      "25 17\n",
      "15 7\n",
      "11 1\n",
      "11 0\n"
     ]
    },
    {
     "name": "stderr",
     "output_type": "stream",
     "text": [
      " 83%|██████████████████████████████████████████████████████████████████████████████████████████████████████████████████████████████                         | 242/290 [07:48<01:20,  1.69s/it]"
     ]
    },
    {
     "name": "stdout",
     "output_type": "stream",
     "text": [
      "8 0\n",
      "ADNI_135_S_4446_20120809\n",
      "150 122\n",
      "94 62\n",
      "87 53\n",
      "103 48\n",
      "114 49\n",
      "145 57\n",
      "59 23\n",
      "51 15\n",
      "49 11\n"
     ]
    },
    {
     "name": "stderr",
     "output_type": "stream",
     "text": [
      " 84%|██████████████████████████████████████████████████████████████████████████████████████████████████████████████████████████████▌                        | 243/290 [07:50<01:23,  1.78s/it]"
     ]
    },
    {
     "name": "stdout",
     "output_type": "stream",
     "text": [
      "45 5\n",
      "41 0\n",
      "39 0\n",
      "ADNI_135_S_4489_20120802\n",
      "117 110\n",
      "47 39\n",
      "51 40\n",
      "58 34\n",
      "67 27\n",
      "124 46\n",
      "34 22\n",
      "31 16\n",
      "28 12\n",
      "23 3\n",
      "30 0\n"
     ]
    },
    {
     "name": "stderr",
     "output_type": "stream",
     "text": [
      " 84%|███████████████████████████████████████████████████████████████████████████████████████████████████████████████████████████████                        | 244/290 [07:52<01:16,  1.67s/it]"
     ]
    },
    {
     "name": "stdout",
     "output_type": "stream",
     "text": [
      "32 0\n",
      "ADNI_135_S_4566_20120919\n",
      "160 154\n",
      "87 81\n",
      "62 54\n",
      "62 45\n",
      "74 44\n",
      "121 55\n",
      "39 30\n",
      "34 21\n",
      "26 12\n",
      "20 4\n",
      "21 0\n"
     ]
    },
    {
     "name": "stderr",
     "output_type": "stream",
     "text": [
      " 84%|███████████████████████████████████████████████████████████████████████████████████████████████████████████████████████████████▌                       | 245/290 [07:53<01:14,  1.66s/it]"
     ]
    },
    {
     "name": "stdout",
     "output_type": "stream",
     "text": [
      "22 0\n",
      "ADNI_135_S_4598_20121016\n",
      "190 185\n",
      "94 89\n",
      "67 62\n",
      "39 33\n",
      "34 28\n",
      "34 27\n",
      "27 21\n",
      "15 8\n",
      "14 6\n"
     ]
    },
    {
     "name": "stderr",
     "output_type": "stream",
     "text": [
      " 85%|████████████████████████████████████████████████████████████████████████████████████████████████████████████████████████████████                       | 246/290 [07:55<01:07,  1.53s/it]"
     ]
    },
    {
     "name": "stdout",
     "output_type": "stream",
     "text": [
      "13 5\n",
      "9 0\n",
      "8 0\n",
      "ADNI_135_S_4657_20121029\n",
      "223 212\n",
      "152 137\n",
      "119 95\n",
      "100 71\n",
      "101 62\n",
      "116 61\n",
      "69 48\n",
      "50 27\n",
      "46 19\n"
     ]
    },
    {
     "name": "stderr",
     "output_type": "stream",
     "text": [
      " 85%|████████████████████████████████████████████████████████████████████████████████████████████████████████████████████████████████▌                      | 247/290 [07:57<01:14,  1.74s/it]"
     ]
    },
    {
     "name": "stdout",
     "output_type": "stream",
     "text": [
      "44 10\n",
      "39 0\n",
      "32 0\n",
      "ADNI_135_S_4676_20121106\n",
      "172 164\n",
      "111 102\n",
      "85 71\n",
      "84 54\n",
      "90 47\n",
      "125 61\n",
      "48 31\n",
      "48 30\n",
      "44 24\n",
      "42 14\n"
     ]
    },
    {
     "name": "stderr",
     "output_type": "stream",
     "text": [
      " 86%|█████████████████████████████████████████████████████████████████████████████████████████████████████████████████████████████████▏                     | 248/290 [07:59<01:14,  1.78s/it]"
     ]
    },
    {
     "name": "stdout",
     "output_type": "stream",
     "text": [
      "33 0\n",
      "31 0\n",
      "ADNI_135_S_4689_20121116\n",
      "151 146\n",
      "81 72\n",
      "55 45\n",
      "39 24\n",
      "47 29\n",
      "59 30\n",
      "32 18\n",
      "42 26\n",
      "33 16\n"
     ]
    },
    {
     "name": "stderr",
     "output_type": "stream",
     "text": [
      " 86%|█████████████████████████████████████████████████████████████████████████████████████████████████████████████████████████████████▋                     | 249/290 [08:00<01:08,  1.66s/it]"
     ]
    },
    {
     "name": "stdout",
     "output_type": "stream",
     "text": [
      "25 8\n",
      "21 0\n",
      "20 0\n",
      "ADNI_135_S_4722_20121205\n",
      "156 142\n",
      "102 87\n",
      "68 49\n",
      "60 34\n",
      "79 30\n",
      "107 39\n",
      "35 18\n",
      "34 16\n"
     ]
    },
    {
     "name": "stderr",
     "output_type": "stream",
     "text": [
      " 86%|██████████████████████████████████████████████████████████████████████████████████████████████████████████████████████████████████▏                    | 250/290 [08:02<01:05,  1.63s/it]"
     ]
    },
    {
     "name": "stdout",
     "output_type": "stream",
     "text": [
      "28 7\n",
      "29 6\n",
      "25 0\n",
      "22 0\n",
      "ADNI_135_S_4723_20121205\n",
      "94 85\n",
      "50 40\n",
      "56 38\n",
      "69 34\n",
      "89 36\n",
      "126 40\n",
      "34 20\n",
      "30 14\n",
      "30 14\n",
      "30 11\n",
      "26 0\n"
     ]
    },
    {
     "name": "stderr",
     "output_type": "stream",
     "text": [
      " 87%|██████████████████████████████████████████████████████████████████████████████████████████████████████████████████████████████████▋                    | 251/290 [08:03<01:01,  1.57s/it]"
     ]
    },
    {
     "name": "stdout",
     "output_type": "stream",
     "text": [
      "26 0\n",
      "ADNI_137_S_4211_20111213\n",
      "88 81\n",
      "59 51\n",
      "55 45\n",
      "45 30\n",
      "60 32\n",
      "68 30\n",
      "22 14\n",
      "22 14\n",
      "14 6\n"
     ]
    },
    {
     "name": "stderr",
     "output_type": "stream",
     "text": [
      " 87%|███████████████████████████████████████████████████████████████████████████████████████████████████████████████████████████████████▏                   | 252/290 [08:04<00:54,  1.44s/it]"
     ]
    },
    {
     "name": "stdout",
     "output_type": "stream",
     "text": [
      "10 2\n",
      "11 0\n",
      "9 0\n",
      "ADNI_137_S_4258_20111011\n",
      "265 259\n",
      "150 143\n",
      "83 75\n",
      "69 60\n",
      "53 44\n",
      "52 41\n",
      "41 31\n",
      "39 27\n"
     ]
    },
    {
     "name": "stderr",
     "output_type": "stream",
     "text": [
      " 87%|███████████████████████████████████████████████████████████████████████████████████████████████████████████████████████████████████▋                   | 253/290 [08:06<00:56,  1.53s/it]"
     ]
    },
    {
     "name": "stdout",
     "output_type": "stream",
     "text": [
      "33 21\n",
      "27 13\n",
      "15 0\n",
      "16 0\n",
      "ADNI_137_S_4299_20111102\n",
      "321 310\n",
      "210 197\n",
      "158 142\n",
      "133 116\n",
      "119 100\n",
      "113 89\n",
      "100 80\n",
      "78 54\n",
      "60 34\n"
     ]
    },
    {
     "name": "stderr",
     "output_type": "stream",
     "text": [
      " 88%|████████████████████████████████████████████████████████████████████████████████████████████████████████████████████████████████████▎                  | 254/290 [08:09<01:08,  1.89s/it]"
     ]
    },
    {
     "name": "stdout",
     "output_type": "stream",
     "text": [
      "47 18\n",
      "34 0\n",
      "24 0\n",
      "ADNI_137_S_4331_20111116\n",
      "256 249\n",
      "184 173\n",
      "171 155\n",
      "133 116\n",
      "145 122\n",
      "140 111\n",
      "92 71\n",
      "95 65\n",
      "87 49\n",
      "69 23\n",
      "60 0\n"
     ]
    },
    {
     "name": "stderr",
     "output_type": "stream",
     "text": [
      " 88%|████████████████████████████████████████████████████████████████████████████████████████████████████████████████████████████████████▊                  | 255/290 [08:12<01:17,  2.21s/it]"
     ]
    },
    {
     "name": "stdout",
     "output_type": "stream",
     "text": [
      "61 0\n",
      "ADNI_137_S_4351_20111202\n",
      "163 156\n",
      "100 91\n",
      "62 52\n",
      "37 27\n",
      "40 24\n",
      "39 23\n",
      "39 29\n",
      "20 8\n"
     ]
    },
    {
     "name": "stderr",
     "output_type": "stream",
     "text": [
      " 88%|█████████████████████████████████████████████████████████████████████████████████████████████████████████████████████████████████████▎                 | 256/290 [08:13<01:06,  1.94s/it]"
     ]
    },
    {
     "name": "stdout",
     "output_type": "stream",
     "text": [
      "19 6\n",
      "23 7\n",
      "20 0\n",
      "17 0\n",
      "ADNI_137_S_4466_20120827\n",
      "150 143\n",
      "95 88\n",
      "54 47\n",
      "41 33\n",
      "36 25\n",
      "42 22\n",
      "24 16\n",
      "20 10\n",
      "24 10\n"
     ]
    },
    {
     "name": "stderr",
     "output_type": "stream",
     "text": [
      " 89%|█████████████████████████████████████████████████████████████████████████████████████████████████████████████████████████████████████▊                 | 257/290 [08:14<00:57,  1.74s/it]"
     ]
    },
    {
     "name": "stdout",
     "output_type": "stream",
     "text": [
      "22 7\n",
      "17 0\n",
      "12 0\n",
      "ADNI_137_S_4482_20120914\n",
      "70 65\n",
      "52 45\n",
      "44 37\n",
      "40 28\n",
      "45 29\n",
      "51 29\n",
      "32 25\n",
      "15 8\n",
      "10 3\n"
     ]
    },
    {
     "name": "stderr",
     "output_type": "stream",
     "text": [
      " 89%|██████████████████████████████████████████████████████████████████████████████████████████████████████████████████████████████████████▎                | 258/290 [08:15<00:48,  1.51s/it]"
     ]
    },
    {
     "name": "stdout",
     "output_type": "stream",
     "text": [
      "9 2\n",
      "8 0\n",
      "10 0\n",
      "ADNI_137_S_4520_20120926\n",
      "112 105\n",
      "74 66\n",
      "52 44\n",
      "41 31\n",
      "36 23\n",
      "46 23\n",
      "25 15\n",
      "23 12\n",
      "24 10\n"
     ]
    },
    {
     "name": "stderr",
     "output_type": "stream",
     "text": [
      " 89%|██████████████████████████████████████████████████████████████████████████████████████████████████████████████████████████████████████▊                | 259/290 [08:16<00:43,  1.40s/it]"
     ]
    },
    {
     "name": "stdout",
     "output_type": "stream",
     "text": [
      "21 6\n",
      "18 0\n",
      "19 0\n",
      "ADNI_137_S_4536_20120910\n",
      "121 115\n",
      "62 52\n",
      "44 26\n",
      "74 29\n",
      "135 44\n",
      "227 59\n",
      "16 6\n",
      "17 4\n",
      "20 7\n"
     ]
    },
    {
     "name": "stderr",
     "output_type": "stream",
     "text": [
      " 90%|███████████████████████████████████████████████████████████████████████████████████████████████████████████████████████████████████████▍               | 260/290 [08:18<00:44,  1.49s/it]"
     ]
    },
    {
     "name": "stdout",
     "output_type": "stream",
     "text": [
      "23 5\n",
      "21 0\n",
      "19 0\n",
      "ADNI_137_S_4587_20121018\n",
      "136 130\n",
      "105 98\n",
      "74 67\n",
      "44 36\n",
      "45 33\n",
      "45 29\n",
      "34 27\n",
      "22 13\n",
      "14 3\n"
     ]
    },
    {
     "name": "stderr",
     "output_type": "stream",
     "text": [
      " 90%|███████████████████████████████████████████████████████████████████████████████████████████████████████████████████████████████████████▉               | 261/290 [08:19<00:41,  1.42s/it]"
     ]
    },
    {
     "name": "stdout",
     "output_type": "stream",
     "text": [
      "14 2\n",
      "15 0\n",
      "11 0\n",
      "ADNI_137_S_4596_20121008\n",
      "177 171\n",
      "93 86\n",
      "49 41\n",
      "45 30\n",
      "42 25\n",
      "56 30\n",
      "25 16\n",
      "23 13\n",
      "18 5\n",
      "18 4\n",
      "23 0\n"
     ]
    },
    {
     "name": "stderr",
     "output_type": "stream",
     "text": [
      " 90%|████████████████████████████████████████████████████████████████████████████████████████████████████████████████████████████████████████▍              | 262/290 [08:21<00:39,  1.40s/it]"
     ]
    },
    {
     "name": "stdout",
     "output_type": "stream",
     "text": [
      "18 0\n",
      "ADNI_137_S_4623_20121112\n",
      "165 152\n",
      "105 91\n",
      "81 66\n",
      "67 50\n",
      "66 47\n",
      "63 32\n",
      "46 30\n",
      "45 25\n",
      "37 11\n",
      "40 10\n"
     ]
    },
    {
     "name": "stderr",
     "output_type": "stream",
     "text": [
      " 91%|████████████████████████████████████████████████████████████████████████████████████████████████████████████████████████████████████████▉              | 263/290 [08:22<00:39,  1.47s/it]"
     ]
    },
    {
     "name": "stdout",
     "output_type": "stream",
     "text": [
      "34 0\n",
      "25 0\n",
      "ADNI_137_S_4631_20121213\n",
      "223 220\n",
      "173 166\n",
      "156 149\n",
      "131 124\n",
      "115 108\n",
      "117 110\n",
      "76 69\n"
     ]
    },
    {
     "name": "stderr",
     "output_type": "stream",
     "text": [
      " 91%|█████████████████████████████████████████████████████████████████████████████████████████████████████████████████████████████████████████▍             | 264/290 [08:25<00:43,  1.69s/it]"
     ]
    },
    {
     "name": "stdout",
     "output_type": "stream",
     "text": [
      "35 28\n",
      "20 13\n",
      "16 8\n",
      "9 0\n",
      "4 0\n",
      "ADNI_137_S_4632_20121217\n",
      "144 139\n",
      "91 85\n",
      "54 48\n",
      "68 60\n",
      "60 51\n",
      "47 37\n",
      "47 32\n",
      "44 27\n",
      "45 24\n",
      "41 15\n",
      "38 0\n"
     ]
    },
    {
     "name": "stderr",
     "output_type": "stream",
     "text": [
      " 91%|█████████████████████████████████████████████████████████████████████████████████████████████████████████████████████████████████████████▉             | 265/290 [08:26<00:41,  1.65s/it]"
     ]
    },
    {
     "name": "stdout",
     "output_type": "stream",
     "text": [
      "42 0\n",
      "ADNI_137_S_4672_20121016\n",
      "130 124\n",
      "73 66\n",
      "48 41\n",
      "34 25\n",
      "36 27\n",
      "29 19\n",
      "26 18\n",
      "17 9\n",
      "12 4\n"
     ]
    },
    {
     "name": "stderr",
     "output_type": "stream",
     "text": [
      " 92%|██████████████████████████████████████████████████████████████████████████████████████████████████████████████████████████████████████████▌            | 266/290 [08:27<00:35,  1.48s/it]"
     ]
    },
    {
     "name": "stdout",
     "output_type": "stream",
     "text": [
      "15 4\n",
      "15 0\n",
      "14 0\n",
      "ADNI_137_S_4678_20121126\n",
      "125 116\n",
      "90 81\n",
      "67 53\n",
      "74 46\n",
      "80 36\n",
      "121 46\n",
      "38 20\n",
      "33 15\n",
      "31 10\n",
      "27 6\n",
      "25 0\n"
     ]
    },
    {
     "name": "stderr",
     "output_type": "stream",
     "text": [
      " 92%|███████████████████████████████████████████████████████████████████████████████████████████████████████████████████████████████████████████            | 267/290 [08:29<00:34,  1.51s/it]"
     ]
    },
    {
     "name": "stdout",
     "output_type": "stream",
     "text": [
      "21 0\n",
      "ADNI_137_S_4815_20121019\n",
      "100 87\n",
      "87 65\n",
      "79 50\n",
      "127 65\n",
      "176 82\n",
      "275 109\n",
      "44 19\n",
      "44 17\n",
      "48 20\n"
     ]
    },
    {
     "name": "stderr",
     "output_type": "stream",
     "text": [
      " 92%|███████████████████████████████████████████████████████████████████████████████████████████████████████████████████████████████████████████▌           | 268/290 [08:31<00:37,  1.73s/it]"
     ]
    },
    {
     "name": "stdout",
     "output_type": "stream",
     "text": [
      "40 9\n",
      "37 0\n",
      "38 0\n",
      "ADNI_137_S_4816_20121031\n",
      "184 159\n",
      "128 99\n",
      "110 71\n",
      "185 96\n",
      "268 100\n",
      "432 133\n",
      "60 28\n",
      "57 20\n",
      "56 14\n",
      "53 9\n",
      "46 0\n"
     ]
    },
    {
     "name": "stderr",
     "output_type": "stream",
     "text": [
      " 93%|████████████████████████████████████████████████████████████████████████████████████████████████████████████████████████████████████████████           | 269/290 [08:34<00:45,  2.15s/it]"
     ]
    },
    {
     "name": "stdout",
     "output_type": "stream",
     "text": [
      "48 0\n",
      "ADNI_141_S_4160_20111205\n",
      "362 354\n",
      "223 215\n",
      "166 157\n",
      "89 79\n",
      "89 78\n",
      "86 74\n",
      "65 54\n",
      "42 31\n",
      "28 17\n"
     ]
    },
    {
     "name": "stderr",
     "output_type": "stream",
     "text": [
      " 93%|████████████████████████████████████████████████████████████████████████████████████████████████████████████████████████████████████████████▌          | 270/290 [08:37<00:44,  2.22s/it]"
     ]
    },
    {
     "name": "stdout",
     "output_type": "stream",
     "text": [
      "19 6\n",
      "18 0\n",
      "12 0\n",
      "ADNI_141_S_4232_20110924\n",
      "259 254\n",
      "152 145\n",
      "77 69\n",
      "45 35\n",
      "50 34\n",
      "68 36\n",
      "29 18\n",
      "30 16\n"
     ]
    },
    {
     "name": "stderr",
     "output_type": "stream",
     "text": [
      " 93%|█████████████████████████████████████████████████████████████████████████████████████████████████████████████████████████████████████████████          | 271/290 [08:38<00:39,  2.06s/it]"
     ]
    },
    {
     "name": "stdout",
     "output_type": "stream",
     "text": [
      "29 14\n",
      "23 6\n",
      "20 0\n",
      "19 0\n",
      "ADNI_153_S_2109_20101005\n",
      "ADNI_153_S_2148_20101026\n",
      "115 111\n",
      "54 49\n",
      "43 37\n",
      "56 30\n",
      "110 53\n",
      "179 73\n",
      "38 30\n",
      "31 22\n",
      "27 12\n",
      "23 4\n",
      "28 0\n"
     ]
    },
    {
     "name": "stderr",
     "output_type": "stream",
     "text": [
      " 94%|██████████████████████████████████████████████████████████████████████████████████████████████████████████████████████████████████████████████▏        | 273/290 [08:40<00:25,  1.49s/it]"
     ]
    },
    {
     "name": "stdout",
     "output_type": "stream",
     "text": [
      "23 0\n",
      "ADNI_153_S_4077_20110920\n",
      "403 392\n",
      "256 242\n",
      "159 143\n",
      "96 80\n",
      "95 77\n",
      "96 69\n",
      "63 47\n",
      "50 29\n",
      "40 15\n",
      "35 7\n",
      "38 0\n"
     ]
    },
    {
     "name": "stderr",
     "output_type": "stream",
     "text": [
      " 94%|██████████████████████████████████████████████████████████████████████████████████████████████████████████████████████████████████████████████▋        | 274/290 [08:43<00:28,  1.78s/it]"
     ]
    },
    {
     "name": "stdout",
     "output_type": "stream",
     "text": [
      "32 0\n",
      "ADNI_153_S_4133_20111102\n",
      "194 186\n",
      "101 93\n",
      "51 35\n",
      "82 36\n",
      "98 33\n",
      "161 44\n",
      "20 9\n",
      "20 8\n",
      "15 3\n"
     ]
    },
    {
     "name": "stderr",
     "output_type": "stream",
     "text": [
      " 95%|███████████████████████████████████████████████████████████████████████████████████████████████████████████████████████████████████████████████▏       | 275/290 [08:44<00:26,  1.79s/it]"
     ]
    },
    {
     "name": "stdout",
     "output_type": "stream",
     "text": [
      "15 2\n",
      "19 0\n",
      "15 0\n",
      "ADNI_153_S_4151_20111107\n",
      "181 175\n",
      "93 84\n",
      "59 48\n",
      "63 45\n",
      "76 46\n",
      "89 41\n",
      "37 24\n",
      "31 18\n",
      "29 12\n"
     ]
    },
    {
     "name": "stderr",
     "output_type": "stream",
     "text": [
      " 95%|███████████████████████████████████████████████████████████████████████████████████████████████████████████████████████████████████████████████▋       | 276/290 [08:46<00:24,  1.73s/it]"
     ]
    },
    {
     "name": "stdout",
     "output_type": "stream",
     "text": [
      "21 2\n",
      "25 0\n",
      "20 0\n",
      "ADNI_153_S_4159_20111108\n",
      "136 132\n",
      "72 66\n",
      "50 42\n",
      "30 22\n",
      "37 26\n",
      "46 27\n",
      "24 16\n",
      "30 18\n"
     ]
    },
    {
     "name": "stderr",
     "output_type": "stream",
     "text": [
      " 96%|████████████████████████████████████████████████████████████████████████████████████████████████████████████████████████████████████████████████▏      | 277/290 [08:47<00:20,  1.57s/it]"
     ]
    },
    {
     "name": "stdout",
     "output_type": "stream",
     "text": [
      "22 8\n",
      "17 2\n",
      "18 0\n",
      "17 0\n",
      "ADNI_153_S_4172_20111031\n",
      "191 186\n",
      "96 89\n",
      "68 58\n",
      "54 40\n",
      "61 36\n",
      "75 38\n",
      "33 22\n",
      "34 21\n",
      "34 19\n"
     ]
    },
    {
     "name": "stderr",
     "output_type": "stream",
     "text": [
      " 96%|████████████████████████████████████████████████████████████████████████████████████████████████████████████████████████████████████████████████▊      | 278/290 [08:49<00:18,  1.56s/it]"
     ]
    },
    {
     "name": "stdout",
     "output_type": "stream",
     "text": [
      "26 9\n",
      "20 0\n",
      "17 0\n",
      "ADNI_153_S_4372_20111130\n",
      "137 134\n",
      "70 66\n",
      "43 38\n",
      "26 20\n",
      "33 25\n",
      "32 23\n",
      "23 17\n",
      "24 15\n",
      "23 12\n"
     ]
    },
    {
     "name": "stderr",
     "output_type": "stream",
     "text": [
      " 96%|█████████████████████████████████████████████████████████████████████████████████████████████████████████████████████████████████████████████████▎     | 279/290 [08:50<00:15,  1.42s/it]"
     ]
    },
    {
     "name": "stdout",
     "output_type": "stream",
     "text": [
      "18 7\n",
      "13 0\n",
      "10 0\n",
      "ADNI_153_S_4621_20121030\n",
      "339 323\n",
      "253 234\n",
      "204 183\n",
      "156 133\n",
      "148 122\n",
      "132 100\n",
      "77 54\n",
      "52 27\n",
      "39 14\n",
      "38 7\n"
     ]
    },
    {
     "name": "stderr",
     "output_type": "stream",
     "text": [
      " 97%|█████████████████████████████████████████████████████████████████████████████████████████████████████████████████████████████████████████████████▊     | 280/290 [08:53<00:18,  1.85s/it]"
     ]
    },
    {
     "name": "stdout",
     "output_type": "stream",
     "text": [
      "32 0\n",
      "23 0\n",
      "ADNI_941_S_1195_20110315\n",
      "156 150\n",
      "96 89\n",
      "57 49\n",
      "59 43\n",
      "67 40\n",
      "85 39\n",
      "35 27\n",
      "30 22\n",
      "18 10\n",
      "15 5\n"
     ]
    },
    {
     "name": "stderr",
     "output_type": "stream",
     "text": [
      " 97%|██████████████████████████████████████████████████████████████████████████████████████████████████████████████████████████████████████████████████▎    | 281/290 [08:54<00:15,  1.74s/it]"
     ]
    },
    {
     "name": "stdout",
     "output_type": "stream",
     "text": [
      "12 0\n",
      "10 0\n",
      "ADNI_941_S_2060_20101206\n",
      "161 155\n",
      "98 89\n",
      "96 71\n",
      "159 70\n",
      "239 89\n",
      "442 135\n",
      "51 37\n",
      "33 18\n",
      "34 14\n",
      "39 7\n",
      "41 0\n"
     ]
    },
    {
     "name": "stderr",
     "output_type": "stream",
     "text": [
      " 97%|██████████████████████████████████████████████████████████████████████████████████████████████████████████████████████████████████████████████████▊    | 282/290 [08:57<00:16,  2.06s/it]"
     ]
    },
    {
     "name": "stdout",
     "output_type": "stream",
     "text": [
      "38 0\n",
      "ADNI_941_S_4036_20111006\n",
      "250 242\n",
      "115 106\n",
      "72 63\n",
      "49 39\n",
      "42 30\n",
      "38 26\n",
      "24 15\n",
      "14 5\n",
      "14 4\n",
      "11 0\n",
      "12 0\n"
     ]
    },
    {
     "name": "stderr",
     "output_type": "stream",
     "text": [
      " 98%|███████████████████████████████████████████████████████████████████████████████████████████████████████████████████████████████████████████████████▎   | 283/290 [08:58<00:13,  1.86s/it]"
     ]
    },
    {
     "name": "stdout",
     "output_type": "stream",
     "text": [
      "10 0\n",
      "ADNI_941_S_4100_20111003\n",
      "147 136\n",
      "104 88\n",
      "100 69\n",
      "218 83\n",
      "377 118\n",
      "622 170\n",
      "47 29\n",
      "40 20\n",
      "37 15\n",
      "39 12\n",
      "35 0\n"
     ]
    },
    {
     "name": "stderr",
     "output_type": "stream",
     "text": [
      " 98%|███████████████████████████████████████████████████████████████████████████████████████████████████████████████████████████████████████████████████▉   | 284/290 [09:02<00:13,  2.32s/it]"
     ]
    },
    {
     "name": "stdout",
     "output_type": "stream",
     "text": [
      "41 0\n",
      "ADNI_941_S_4187_20111128\n",
      "188 184\n",
      "105 98\n",
      "61 54\n",
      "57 45\n",
      "60 46\n",
      "58 38\n",
      "41 32\n",
      "43 31\n"
     ]
    },
    {
     "name": "stderr",
     "output_type": "stream",
     "text": [
      " 98%|████████████████████████████████████████████████████████████████████████████████████████████████████████████████████████████████████████████████████▍  | 285/290 [09:03<00:10,  2.08s/it]"
     ]
    },
    {
     "name": "stdout",
     "output_type": "stream",
     "text": [
      "34 19\n",
      "33 11\n",
      "28 0\n",
      "17 0\n",
      "ADNI_941_S_4255_20111202\n",
      "151 146\n",
      "79 71\n",
      "49 41\n",
      "61 44\n",
      "75 39\n",
      "112 47\n",
      "41 32\n",
      "23 13\n",
      "25 11\n",
      "36 15\n",
      "28 0\n"
     ]
    },
    {
     "name": "stderr",
     "output_type": "stream",
     "text": [
      " 99%|████████████████████████████████████████████████████████████████████████████████████████████████████████████████████████████████████████████████████▉  | 286/290 [09:05<00:07,  1.92s/it]"
     ]
    },
    {
     "name": "stdout",
     "output_type": "stream",
     "text": [
      "21 0\n",
      "ADNI_941_S_4292_20111205\n",
      "103 97\n",
      "54 48\n",
      "41 35\n",
      "41 34\n",
      "42 30\n",
      "42 23\n",
      "26 19\n",
      "29 21\n"
     ]
    },
    {
     "name": "stderr",
     "output_type": "stream",
     "text": [
      " 99%|█████████████████████████████████████████████████████████████████████████████████████████████████████████████████████████████████████████████████████▍ | 287/290 [09:06<00:05,  1.67s/it]"
     ]
    },
    {
     "name": "stdout",
     "output_type": "stream",
     "text": [
      "22 13\n",
      "16 6\n",
      "12 0\n",
      "12 0\n",
      "ADNI_941_S_4365_20111122\n",
      "383 376\n",
      "258 249\n",
      "179 168\n",
      "123 110\n",
      "100 80\n",
      "119 77\n",
      "47 35\n",
      "40 24\n",
      "40 21\n",
      "32 11\n"
     ]
    },
    {
     "name": "stderr",
     "output_type": "stream",
     "text": [
      " 99%|█████████████████████████████████████████████████████████████████████████████████████████████████████████████████████████████████████████████████████▉ | 288/290 [09:09<00:04,  2.00s/it]"
     ]
    },
    {
     "name": "stdout",
     "output_type": "stream",
     "text": [
      "30 0\n",
      "30 0\n",
      "ADNI_941_S_4376_20110601\n",
      "212 194\n",
      "150 129\n",
      "112 87\n",
      "111 70\n",
      "141 78\n",
      "200 84\n",
      "56 32\n",
      "45 18\n",
      "43 14\n",
      "39 9\n"
     ]
    },
    {
     "name": "stderr",
     "output_type": "stream",
     "text": [
      "100%|██████████████████████████████████████████████████████████████████████████████████████████████████████████████████████████████████████████████████████▍| 289/290 [09:11<00:02,  2.12s/it]"
     ]
    },
    {
     "name": "stdout",
     "output_type": "stream",
     "text": [
      "32 0\n",
      "35 0\n",
      "ADNI_941_S_4764_20120820\n",
      "104 96\n",
      "64 55\n",
      "53 44\n",
      "59 32\n",
      "117 40\n",
      "187 49\n",
      "21 13\n",
      "23 14\n",
      "21 8\n"
     ]
    },
    {
     "name": "stderr",
     "output_type": "stream",
     "text": [
      "100%|███████████████████████████████████████████████████████████████████████████████████████████████████████████████████████████████████████████████████████| 290/290 [09:13<00:00,  1.91s/it]"
     ]
    },
    {
     "name": "stdout",
     "output_type": "stream",
     "text": [
      "23 8\n",
      "24 0\n",
      "22 0\n"
     ]
    },
    {
     "name": "stderr",
     "output_type": "stream",
     "text": [
      "\n"
     ]
    }
   ],
   "source": [
    "data = {}\n",
    "failed_ids = []\n",
    "for idx in tqdm(range(len(IDs)), position=0, leave=True):\n",
    "    ID = IDs[idx][0]\n",
    "    print(ID)\n",
    "    try:\n",
    "        vmap = vent_maps[idx].cuda()\n",
    "        smap = output_maps_for_pred[IDs[idx][1]][2].cuda()\n",
    "        smap_expanded = get_edge_expanded_seg(smap)\n",
    "        seg_volume = smap.sum().item()\n",
    "        vent_volume = vmap.sum().item()\n",
    "        vmap_ds = downsample_3d(vmap)\n",
    "\n",
    "        ind_data = {}\n",
    "\n",
    "        for input_type in [\"ent\", \"pred\"]:\n",
    "            if input_type == \"ent\":\n",
    "                umap = output_maps_for_umaps[IDs[idx][1]][0].cuda()\n",
    "                ts = [0.1, 0.2, 0.3, 0.4, 0.45, 0.5]\n",
    "                maxv = 0.7\n",
    "            # elif input_type == \"var\":\n",
    "            #     umap = output_maps_for_umaps[IDs[idx][1]][3].cuda()\n",
    "            #     ts = [0.01, 0.03, 0.06, 0.09, 0.12, 0.15]\n",
    "            #     maxv = 0.2\n",
    "            elif input_type == \"pred\":\n",
    "                umap = output_maps_for_pred[IDs[idx][1]][1].cuda()\n",
    "                ts = [0.1, 0.2, 0.3, 0.4, 0.5, 0.6]\n",
    "                maxv = 1.0\n",
    "            else:\n",
    "                raise ValueError  \n",
    "\n",
    "            umap_ds = downsample_3d(umap)\n",
    "\n",
    "            collected_data_t = {}\n",
    "\n",
    "            for t in ts:\n",
    "                ut = umap > t\n",
    "                umap_values = umap[ut]\n",
    "\n",
    "                #### summary statistics\n",
    "                sum, mean, std, skew, kurtosis = gaussian_summary_statistics(umap_values.cpu())\n",
    "                values_hist = histogram_distribution(umap_values, bins=20, minv=t, maxv=maxv)\n",
    "\n",
    "                #### overlap statistics\n",
    "                intersection = (ut * smap).sum()\n",
    "                expanded_intersection = (ut * smap_expanded).sum()\n",
    "\n",
    "                prop_umap_segmented = (intersection / ut.sum()).item()\n",
    "                prop_umap_within_expanded_seg = (expanded_intersection / ut.sum()).item()\n",
    "                prop_seg_uncertain = (intersection / smap.sum()).item()\n",
    "\n",
    "                ### ventricle distance statistics\n",
    "                ut_ds = umap_ds > t\n",
    "                distances_closest, distance_map = min_distances(ut_ds, vmap_ds)\n",
    "                distance_map = F.interpolate(distance_map.view(1, 1, *distance_map.shape), umap.shape, mode='trilinear').squeeze()\n",
    "                _, dist_mean, dist_std, dist_skew, dist_kurt = gaussian_summary_statistics(distances_closest.cpu())\n",
    "                umap_ds_values = umap_ds[ut_ds]\n",
    "                dist_value_joint = joint_hist_values({\"x\":distances_closest, \"y\":umap_ds_values}, x=\"x\", y=\"y\", minx=0, maxx=30, miny=t, maxy=maxv, bins=5).cpu()\n",
    "\n",
    "                ### connected component analysis statistics\n",
    "                conn_comps = get_conn_comps(ut)\n",
    "                cc_data = conn_comp_basic_stats(umap, conn_comps, smap, distance_map)\n",
    "                cc_data[\"log_sizes\"] = torch.Tensor(cc_data[\"sizes\"]).log()\n",
    "                cc_size_dist_joint = joint_hist_values(cc_data, \"log_sizes\", \"vent_dists\", 0, 8, 0, 10, 5).cpu()\n",
    "\n",
    "                # recorded values\n",
    "                all_data = {}\n",
    "                for key, value in cc_data.items():\n",
    "                    all_data[\"cc_\" + key] = value\n",
    "                all_data[\"sum\"] = sum\n",
    "                all_data[\"mean\"] = mean\n",
    "                all_data[\"std\"] = std\n",
    "                all_data[\"skew\"] = skew\n",
    "                all_data[\"kurtosis\"] = kurtosis\n",
    "                all_data[\"prop_umap_segmented\"] = prop_umap_segmented\n",
    "                all_data[\"prop_umap_within_expanded_seg\"] = prop_umap_within_expanded_seg\n",
    "                all_data[\"prop_seg_uncertain\"] = prop_seg_uncertain\n",
    "                all_data[\"dist_mean\"] = dist_mean\n",
    "                all_data[\"dist_std\"] = dist_std\n",
    "                all_data[\"dist_skew\"] = dist_skew\n",
    "                all_data[\"dist_kurt\"] = dist_kurt\n",
    "                all_data[\"dist_value_joint\"] = dist_value_joint\n",
    "                all_data[\"cc_dist_value_joint\"] = cc_size_dist_joint\n",
    "                all_data[\"seg_volume\"] = seg_volume\n",
    "                all_data[\"vent_volume\"] = vent_volume\n",
    "                all_data[\"values_hist\"] = values_hist\n",
    "\n",
    "                print(all_data[\"cc_num\"], all_data[\"cc_unsegmented_ccs\"])\n",
    "                collected_data_t[str(t)] = all_data\n",
    "\n",
    "\n",
    "                # break\n",
    "\n",
    "            ind_data[input_type] = collected_data_t\n",
    "            # break\n",
    "\n",
    "        data[ID] = ind_data\n",
    "        # break\n",
    "    except:\n",
    "        failed_ids.append((idx, ID))\n",
    "    # break\n",
    "        "
   ]
  },
  {
   "cell_type": "code",
   "execution_count": 53,
   "id": "0390c9fa-e5c2-4dcf-a388-12e8c6807b72",
   "metadata": {
    "tags": []
   },
   "outputs": [
    {
     "data": {
      "text/plain": [
       "dict_keys(['ent', 'pred'])"
      ]
     },
     "execution_count": 53,
     "metadata": {},
     "output_type": "execute_result"
    }
   ],
   "source": [
    "data['ADNI_002_S_0729_20110816'].keys()"
   ]
  },
  {
   "cell_type": "code",
   "execution_count": 54,
   "id": "1f00649e-426e-41b2-9c35-fd91650affeb",
   "metadata": {
    "tags": []
   },
   "outputs": [],
   "source": [
    "example_data = data['ADNI_002_S_0729_20110816']"
   ]
  },
  {
   "cell_type": "code",
   "execution_count": 55,
   "id": "1af428f3-69c6-4076-a725-4a571eb25549",
   "metadata": {
    "tags": []
   },
   "outputs": [
    {
     "data": {
      "text/plain": [
       "dict_keys(['cc_num', 'cc_sizes', 'cc_means', 'cc_stds', 'cc_skews', 'cc_kurts', 'cc_vent_dists', 'cc_unsegmented_ccs', 'cc_size_mean', 'cc_size_std', 'cc_size_skew', 'cc_size_kurt', 'cc_vd_mean', 'cc_vd_std', 'cc_vd_skew', 'cc_vd_kurt', 'cc_log_sizes', 'sum', 'mean', 'std', 'skew', 'kurtosis', 'prop_umap_segmented', 'prop_umap_within_expanded_seg', 'prop_seg_uncertain', 'dist_mean', 'dist_std', 'dist_skew', 'dist_kurt', 'dist_value_joint', 'cc_dist_value_joint', 'seg_volume', 'vent_volume', 'values_hist'])"
      ]
     },
     "execution_count": 55,
     "metadata": {},
     "output_type": "execute_result"
    }
   ],
   "source": [
    "example_data['ent']['0.45'].keys()"
   ]
  },
  {
   "cell_type": "code",
   "execution_count": 56,
   "id": "1ded3a69-4def-4372-9865-af1e389bbc2e",
   "metadata": {
    "tags": []
   },
   "outputs": [
    {
     "data": {
      "text/plain": [
       "[0.2732732594013214,\n",
       " 0.08708708733320236,\n",
       " 0.0030030030757188797,\n",
       " 0.0,\n",
       " 0.0,\n",
       " 0.19519519805908203,\n",
       " 0.03903903812170029,\n",
       " 0.0030030030757188797,\n",
       " 0.0,\n",
       " 0.0,\n",
       " 0.16516517102718353,\n",
       " 0.036036036908626556,\n",
       " 0.0030030030757188797,\n",
       " 0.0,\n",
       " 0.0,\n",
       " 0.12912912666797638,\n",
       " 0.012012012302875519,\n",
       " 0.0,\n",
       " 0.0,\n",
       " 0.0,\n",
       " 0.051051050424575806,\n",
       " 0.0030030030757188797,\n",
       " 0.0,\n",
       " 0.0,\n",
       " 0.0]"
      ]
     },
     "execution_count": 56,
     "metadata": {},
     "output_type": "execute_result"
    }
   ],
   "source": [
    "example_data['ent']['0.45']['dist_value_joint'].view(-1).tolist()"
   ]
  },
  {
   "cell_type": "code",
   "execution_count": 57,
   "id": "ebcd0f33-21f4-497c-80f9-f72c7c1320b7",
   "metadata": {
    "tags": []
   },
   "outputs": [],
   "source": [
    "row_data = example_data['ent']['0.45']"
   ]
  },
  {
   "cell_type": "code",
   "execution_count": 58,
   "id": "e39ef700-4103-4048-ae90-6dae3a101935",
   "metadata": {
    "tags": []
   },
   "outputs": [
    {
     "data": {
      "text/plain": [
       "dict_keys(['cc_num', 'cc_sizes', 'cc_means', 'cc_stds', 'cc_skews', 'cc_kurts', 'cc_vent_dists', 'cc_unsegmented_ccs', 'cc_size_mean', 'cc_size_std', 'cc_size_skew', 'cc_size_kurt', 'cc_vd_mean', 'cc_vd_std', 'cc_vd_skew', 'cc_vd_kurt', 'cc_log_sizes', 'sum', 'mean', 'std', 'skew', 'kurtosis', 'prop_umap_segmented', 'prop_umap_within_expanded_seg', 'prop_seg_uncertain', 'dist_mean', 'dist_std', 'dist_skew', 'dist_kurt', 'dist_value_joint', 'cc_dist_value_joint', 'seg_volume', 'vent_volume', 'values_hist'])"
      ]
     },
     "execution_count": 58,
     "metadata": {},
     "output_type": "execute_result"
    }
   ],
   "source": [
    "row_data.keys()"
   ]
  },
  {
   "cell_type": "code",
   "execution_count": 59,
   "id": "0c18f0f5-8e8a-4764-9518-dd413a12db27",
   "metadata": {
    "tags": []
   },
   "outputs": [],
   "source": [
    "import pandas as pd"
   ]
  },
  {
   "cell_type": "code",
   "execution_count": 60,
   "id": "4428a6cf-b376-4c46-b1a4-f44563314a15",
   "metadata": {
    "tags": []
   },
   "outputs": [
    {
     "name": "stderr",
     "output_type": "stream",
     "text": [
      "100%|██████████████████████████████████████████████████████████████████████████████████████████████████████████████████████████████████████████████████████| 286/286 [00:01<00:00, 239.80it/s]\n"
     ]
    }
   ],
   "source": [
    "pd_dfs = defaultdict(lambda : defaultdict(lambda : defaultdict(lambda : [])))\n",
    "pd_other_data_dfs = defaultdict(lambda : [])\n",
    "\n",
    "for ID_key in tqdm(natsorted(data.keys()), position=0, leave=True):\n",
    "    ind_data = data[ID_key]\n",
    "    for input_key in natsorted(ind_data.keys()):\n",
    "        map_type_data = ind_data[input_key]\n",
    "        for t_key in natsorted(map_type_data.keys()):\n",
    "            row_data = map_type_data[t_key]\n",
    "            \n",
    "            #row = []\n",
    "            pd_dfs[input_key][t_key]['ID'].append(ID_key)\n",
    "            for key in ['cc_num', 'cc_unsegmented_ccs', 'cc_size_mean', 'cc_size_std', 'cc_size_skew', 'cc_size_kurt', 'cc_vd_mean', 'cc_vd_std', 'cc_vd_skew', 'cc_vd_kurt', 'sum', 'mean', 'std', 'skew', 'kurtosis', 'prop_umap_segmented', 'prop_umap_within_expanded_seg', 'prop_seg_uncertain', 'dist_mean', 'dist_std', 'dist_skew', 'dist_kurt', 'dist_value_joint', 'cc_dist_value_joint', 'seg_volume', 'vent_volume', 'values_hist']:\n",
    "                if 'joint' not in key and 'hist' not in key:\n",
    "                    #row.append((key, row_data[key]))\n",
    "                    pd_dfs[input_key][t_key][key].append(row_data[key])\n",
    "                else:\n",
    "                    table_vals = row_data[key].view(-1).tolist()\n",
    "                    for i in range(len(table_vals)):\n",
    "                        #row.append((f\"{key}_{i}\", table_vals[i]))\n",
    "                        pd_dfs[input_key][t_key][f\"{key}_{i}\"].append(table_vals[i])\n",
    "                        \n",
    "            for key in ['cc_sizes', 'cc_means', 'cc_stds', 'cc_skews', 'cc_kurts', 'cc_vent_dists', 'cc_log_sizes']:\n",
    "                pd_other_data_dfs[key].extend(row_data[key])\n",
    "            pd_other_data_dfs[\"id\"].extend([f\"{ID_key}_{input_key}_{t_key}\" for _ in range(len(row_data['cc_sizes']))])"
   ]
  },
  {
   "cell_type": "code",
   "execution_count": 61,
   "id": "9d02276f-8234-4486-81c6-d613c0706d8d",
   "metadata": {
    "tags": []
   },
   "outputs": [
    {
     "name": "stderr",
     "output_type": "stream",
     "text": [
      "100%|███████████████████████████████████████████████████████████████████████████████████████████████████████████████████████████████████████████████████████████| 2/2 [00:00<00:00,  3.55it/s]\n"
     ]
    }
   ],
   "source": [
    "# save the summary statistics\n",
    "ind_data = data[list(data.keys())[0]]\n",
    "for input_key in tqdm(natsorted(ind_data.keys()), position=0, leave=True):\n",
    "    map_type_data = ind_data[input_key]\n",
    "    for t_key in natsorted(map_type_data.keys()):\n",
    "        df = pd.DataFrame(pd_dfs[input_key][t_key])\n",
    "        df.to_csv(f\"/home/s2208943/ipdis/data/preprocessed_data/umap_data_spreadsheets/ADNI/{model_name}_{input_key}_{t_key}.csv\")\n",
    "        \n",
    "    "
   ]
  },
  {
   "cell_type": "code",
   "execution_count": 62,
   "id": "a67c37fd-7ee2-4314-a315-c04d75652a1a",
   "metadata": {
    "tags": []
   },
   "outputs": [],
   "source": [
    "# save the per individual connected component statistic\n",
    "# np_df = {}\n",
    "# for key in pd_other_data_dfs.keys():\n",
    "#     np_df[key] = np.array(pd_other_data_dfs[key])\n",
    "# np.save(\"umap_data_spreadsheets/ADNI/connected_component_data.npy\", np_df)"
   ]
  },
  {
   "cell_type": "markdown",
   "id": "dee81e2c-c384-4002-be38-dcd8378887b1",
   "metadata": {},
   "source": [
    "### building the clinscore dataset"
   ]
  },
  {
   "cell_type": "code",
   "execution_count": 63,
   "id": "29982f7c-939d-49f6-b8de-bbf0acb97e38",
   "metadata": {
    "tags": []
   },
   "outputs": [
    {
     "name": "stdout",
     "output_type": "stream",
     "text": [
      "strawberry\n",
      "banana\n"
     ]
    }
   ],
   "source": [
    "# trainer\n",
    "print(\"strawberry\")\n",
    "from trustworthai.utils.fitting_and_inference.fitters.basic_lightning_fitter import StandardLitModelWrapper\n",
    "from trustworthai.utils.fitting_and_inference.get_trainer import get_trainer\n",
    "\n",
    "# data\n",
    "from twaidata.torchdatasets.MRI_3D_nolabels_inram_ds import MRI_3D_nolabels_inram_ds\n",
    "\n",
    "# packages\n",
    "import os\n",
    "import numpy as np\n",
    "import pandas as pd\n",
    "import matplotlib.pyplot as plt\n",
    "import torch\n",
    "from torchinfo import summary\n",
    "from tqdm import tqdm\n",
    "from collections import defaultdict\n",
    "from natsort import natsorted\n",
    "import torchmetrics\n",
    "print(\"banana\")"
   ]
  },
  {
   "cell_type": "markdown",
   "id": "b3448abb-7ecc-4bfa-95b0-7bb6ccfd4269",
   "metadata": {},
   "source": [
    "### Loading ADNI spreadsheets"
   ]
  },
  {
   "cell_type": "code",
   "execution_count": null,
   "id": "071cca57-560b-4a32-a20c-63fc720ef518",
   "metadata": {},
   "outputs": [],
   "source": []
  },
  {
   "cell_type": "code",
   "execution_count": 66,
   "id": "1489a2eb-cc47-40d5-a818-48f2f91e484f",
   "metadata": {
    "tags": []
   },
   "outputs": [
    {
     "name": "stderr",
     "output_type": "stream",
     "text": [
      "/home/s2208943/miniconda3/envs/wmh/lib/python3.8/site-packages/openpyxl/worksheet/_reader.py:329: UserWarning: Unknown extension is not supported and will be removed\n",
      "  warn(msg)\n"
     ]
    }
   ],
   "source": [
    "adni_dir = \"/home/s2208943/ipdis/data/ADNI_data/\"\n",
    "spreadsheet_dir = adni_dir\n",
    "# dataset with clinical variables (e.g age, and a bunch of other factors)\n",
    "variables_df = pd.read_excel(spreadsheet_dir + \"ADNI_300_Variables_for_Analysis.xlsx\")"
   ]
  },
  {
   "cell_type": "code",
   "execution_count": 67,
   "id": "c5706528-8528-4bbe-bdd0-8ad1fdd93e67",
   "metadata": {
    "tags": []
   },
   "outputs": [
    {
     "data": {
      "text/plain": [
       "[('Unnamed: 0', 'Patient ID'),\n",
       " ('GENERAL INFO ', 'DX.bl'),\n",
       " ('Unnamed: 2', 'AGE'),\n",
       " ('Unnamed: 3', 'PTGENDER'),\n",
       " ('Unnamed: 4', 'PTEDUCAT'),\n",
       " ('Unnamed: 5', 'PTRACCAT'),\n",
       " ('Unnamed: 6', 'APOE4'),\n",
       " ('BASELINE BRAIN MEASUREMENTS (% of ICV)', 'Ventricles_bl %'),\n",
       " ('Unnamed: 8', 'Hippocampus_bl %'),\n",
       " ('Unnamed: 9', 'WholeBrain_bl %'),\n",
       " ('Unnamed: 10', 'Entorhinal_bl %'),\n",
       " ('Unnamed: 11', 'Fusiform_bl %'),\n",
       " ('Unnamed: 12', 'MidTemp_bl %'),\n",
       " ('IMAGE ANALYSIS FINDINGS ', 'BMB Y1 Count'),\n",
       " ('Unnamed: 14', 'BMB Y2 Count'),\n",
       " ('Unnamed: 15', 'BMB Y3 Count'),\n",
       " ('MEDICAL HISTORY', 'VSBPDIA'),\n",
       " ('Unnamed: 17', 'VSBPSYS'),\n",
       " ('Unnamed: 18', 'VSPULSE'),\n",
       " ('Unnamed: 19', 'BMI'),\n",
       " ('Unnamed: 20', 'CV RISK FACTORS'),\n",
       " ('Unnamed: 21', 'E-M RISK FACTORS')]"
      ]
     },
     "execution_count": 67,
     "metadata": {},
     "output_type": "execute_result"
    }
   ],
   "source": [
    "list(variables_df.iloc[0].items())"
   ]
  },
  {
   "cell_type": "code",
   "execution_count": 68,
   "id": "fb218b88-610f-4be6-91ff-a6ef62917c54",
   "metadata": {
    "tags": []
   },
   "outputs": [
    {
     "name": "stderr",
     "output_type": "stream",
     "text": [
      "/home/s2208943/miniconda3/envs/wmh/lib/python3.8/site-packages/openpyxl/worksheet/_reader.py:329: UserWarning: Unknown extension is not supported and will be removed\n",
      "  warn(msg)\n"
     ]
    }
   ],
   "source": [
    "# dataset with fazekas ratings by Maria. I only have 290 of the 298 due to a few images missing matches, which is a shame\n",
    "# but hopefully this is enough information. Nice.\n",
    "ratings_df = pd.read_excel(spreadsheet_dir + \"ADNI_300_Sample_MVH_ratings.xlsx\")"
   ]
  },
  {
   "cell_type": "code",
   "execution_count": 69,
   "id": "a27facda-bf45-471f-9926-bd2caf82827a",
   "metadata": {
    "tags": []
   },
   "outputs": [],
   "source": [
    "def normalize_column(df, column_id):\n",
    "    # normalizes a column (not inlcuding nan values)\n",
    "    values = df[column_id].values.astype(np.float32)\n",
    "    values = values[~np.isnan(values)]\n",
    "    mean = values.mean()\n",
    "    std = values.std()\n",
    "    df[column_id] = (df[column_id].values - mean)/std"
   ]
  },
  {
   "cell_type": "code",
   "execution_count": 70,
   "id": "a2fecfd0-ea63-4dfb-a3c6-683f2358729c",
   "metadata": {
    "tags": []
   },
   "outputs": [],
   "source": [
    "def one_hot_encode(df, field, remove_original=True):\n",
    "    \"\"\"computes a one hot encoding of the given field\"\"\"\n",
    "    \n",
    "    onehot_cols = pd.get_dummies(df[field], prefix=field)\n",
    "    \n",
    "    if remove_original:\n",
    "        df = df.drop(columns=[field], inplace=False)\n",
    "        \n",
    "    df = pd.concat([df, onehot_cols], axis=1)\n",
    "    \n",
    "    return df\n",
    "    "
   ]
  },
  {
   "cell_type": "code",
   "execution_count": 71,
   "id": "26831f8b-ca64-4043-bb09-2b78d110977b",
   "metadata": {
    "tags": []
   },
   "outputs": [],
   "source": [
    "def convert_symbol_to_nan(df, field, symbol):\n",
    "    df = df.copy()\n",
    "    \"\"\"\n",
    "    converts all inputs conforming to 'symbol' to np.nan for the given 'field' in the 'df'\n",
    "    e.g if symbol=' ' and field='totalChl' then any instances of ' ' in the 'totalChl' column will be replaced with np.nan\n",
    "    \"\"\"\n",
    "    values = df[field].values\n",
    "    locs = values == symbol\n",
    "    values[locs] = np.nan\n",
    "    \n",
    "    df[field] = values\n",
    "    \n",
    "    return df"
   ]
  },
  {
   "cell_type": "code",
   "execution_count": 72,
   "id": "54f4749c-5458-4070-87b2-f3f8277380a9",
   "metadata": {
    "tags": []
   },
   "outputs": [],
   "source": [
    "def filter_rows_with_nans(df, field, inplace=False):\n",
    "    \"\"\"\n",
    "    removes all rows from df which have nan for the given field value\n",
    "    \"\"\"\n",
    "    values = df[field].values.astype(np.float32)\n",
    "    nan_locs = np.where(np.isnan(values))[0]\n",
    "    df = df.drop(nan_locs, inplace=inplace)\n",
    "    df = df.reset_index(drop=True)\n",
    "    \n",
    "    return df"
   ]
  },
  {
   "cell_type": "code",
   "execution_count": 73,
   "id": "0b158987-083a-4e41-9caa-1152a9ff5ec7",
   "metadata": {
    "tags": []
   },
   "outputs": [],
   "source": [
    "def prepare_ADNI_dfs(\n",
    "    ratings_df, variables_df,\n",
    "    selected_columns=[\n",
    "        'Patient ID', 'AGE', 'Ventricles_bl %', 'Hippocampus_bl %',\n",
    "        'WholeBrain_bl %', 'Entorhinal_bl %', 'Fusiform_bl %',\n",
    "        'MidTemp_bl %', 'BMI', 'DX.bl', 'CV RISK FACTORS', 'APOE4',\n",
    "        'WMH_PV', 'WMH_Deep', 'Total', 'PTGENDER', 'E-M RISK FACTORS',\n",
    "    ]):\n",
    "    \n",
    "    r_df = ratings_df.copy()\n",
    "    v_df = variables_df.copy()\n",
    "\n",
    "    # in the variables df, put all the column headings actually in the heading,\n",
    "    variables_heading_map = {\n",
    "        key:column_heading \n",
    "        for (column_heading, key) in v_df.iloc[0].items()\n",
    "    }\n",
    "    for key, column_heading in variables_heading_map.items():\n",
    "        v_df[key] = v_df[column_heading].values\n",
    "        v_df = v_df.drop(columns=[column_heading], inplace=False)\n",
    "    \n",
    "    \n",
    "    # remove any * characters and ' ' from patient IDs\n",
    "    r_df['Patient ID'] = [str(pid).replace('*', '').replace(' ', '') for pid in r_df['Patient ID'].values]\n",
    "    v_df['Patient ID'] = [str(pid).replace('*', '').replace(' ', '') for pid in v_df['Patient ID'].values]\n",
    "    \n",
    "    # remove any rows that do not have a patient ID. patient ID can be detected due to having a '_S_' string in it.\n",
    "    pid_locs_rdf = ['_S_' in pid for pid in r_df['Patient ID'].values]\n",
    "    pid_locs_vdf = ['_S_' in pid for pid in v_df['Patient ID'].values]\n",
    "    r_df = r_df.loc[pid_locs_rdf]\n",
    "    v_df = v_df.loc[pid_locs_vdf]\n",
    "    \n",
    "    # join the two dataframes\n",
    "    df = pd.merge(r_df, v_df, how='left')\n",
    "    \n",
    "    print(df.keys())\n",
    "    \n",
    "    # drop any column that isn't selected\n",
    "    df = df[selected_columns]\n",
    "    \n",
    "    # normalize columns\n",
    "    for norm_column in ['AGE', 'Ventricles_bl %', 'Hippocampus_bl %', 'WholeBrain_bl %', 'Entorhinal_bl %', 'Fusiform_bl %', 'MidTemp_bl %', 'BMI', 'PTEDUCAT', 'PTRACCAT']:\n",
    "        if norm_column in selected_columns:\n",
    "            normalize_column(df, norm_column)\n",
    "            \n",
    "    # one hot encoder columns\n",
    "    for one_hot_col in ['DX.bl', 'CV RISK FACTORS', 'APOE4']:\n",
    "        if one_hot_col in selected_columns:\n",
    "            df = one_hot_encode(df, one_hot_col)\n",
    "            \n",
    "    # set values of zero to nan for brain measurement fields\n",
    "    for no_zero_col in ['Ventricles_bl %', 'Hippocampus_bl %', 'WholeBrain_bl %', 'Entorhinal_bl %', 'Fusiform_bl %', 'MidTemp_bl %']:\n",
    "        df = convert_symbol_to_nan(df, no_zero_col, 0)\n",
    "            \n",
    "    # change PTGENDER column to 0,1 (as opposed to 1, 2)\n",
    "    df['PTGENDER'] = df['PTGENDER'] - 1\n",
    "    \n",
    "    # in all selected columns, drop rows that contain a nan value\n",
    "    for col in df.keys():\n",
    "        if col not in ['Patient ID']:\n",
    "            try:\n",
    "                df = filter_rows_with_nans(df, col)\n",
    "            except:\n",
    "                print(\"failed on: \", col)\n",
    "    \n",
    "    return df"
   ]
  },
  {
   "cell_type": "code",
   "execution_count": 74,
   "id": "138f187c-eb5d-45b6-8e90-17a71c429d5f",
   "metadata": {
    "tags": []
   },
   "outputs": [
    {
     "name": "stdout",
     "output_type": "stream",
     "text": [
      "Index(['Patient ID', 'Image_year', 'PVS_BG', 'PVS_CS', 'Unnamed: 4',\n",
      "       'Image_year.1', 'WMH_PV', 'WMH_Deep', 'Total', 'Obs', 'DX.bl', 'AGE',\n",
      "       'PTGENDER', 'PTEDUCAT', 'PTRACCAT', 'APOE4', 'Ventricles_bl %',\n",
      "       'Hippocampus_bl %', 'WholeBrain_bl %', 'Entorhinal_bl %',\n",
      "       'Fusiform_bl %', 'MidTemp_bl %', 'BMB Y1 Count', 'BMB Y2 Count',\n",
      "       'BMB Y3 Count', 'VSBPDIA', 'VSBPSYS', 'VSPULSE', 'BMI',\n",
      "       'CV RISK FACTORS', 'E-M RISK FACTORS'],\n",
      "      dtype='object')\n"
     ]
    }
   ],
   "source": [
    "combined_df = prepare_ADNI_dfs(ratings_df, variables_df)"
   ]
  },
  {
   "cell_type": "code",
   "execution_count": 75,
   "id": "be1bba70-b49a-454a-b327-6a28b233ceeb",
   "metadata": {
    "tags": []
   },
   "outputs": [
    {
     "data": {
      "text/html": [
       "<div>\n",
       "<style scoped>\n",
       "    .dataframe tbody tr th:only-of-type {\n",
       "        vertical-align: middle;\n",
       "    }\n",
       "\n",
       "    .dataframe tbody tr th {\n",
       "        vertical-align: top;\n",
       "    }\n",
       "\n",
       "    .dataframe thead th {\n",
       "        text-align: right;\n",
       "    }\n",
       "</style>\n",
       "<table border=\"1\" class=\"dataframe\">\n",
       "  <thead>\n",
       "    <tr style=\"text-align: right;\">\n",
       "      <th></th>\n",
       "      <th>Patient ID</th>\n",
       "      <th>AGE</th>\n",
       "      <th>Ventricles_bl %</th>\n",
       "      <th>Hippocampus_bl %</th>\n",
       "      <th>WholeBrain_bl %</th>\n",
       "      <th>Entorhinal_bl %</th>\n",
       "      <th>Fusiform_bl %</th>\n",
       "      <th>MidTemp_bl %</th>\n",
       "      <th>BMI</th>\n",
       "      <th>WMH_PV</th>\n",
       "      <th>...</th>\n",
       "      <th>DX.bl_0</th>\n",
       "      <th>DX.bl_1</th>\n",
       "      <th>DX.bl_2</th>\n",
       "      <th>DX.bl_3</th>\n",
       "      <th>CV RISK FACTORS_0</th>\n",
       "      <th>CV RISK FACTORS_1</th>\n",
       "      <th>CV RISK FACTORS_2</th>\n",
       "      <th>APOE4_0</th>\n",
       "      <th>APOE4_1</th>\n",
       "      <th>APOE4_2</th>\n",
       "    </tr>\n",
       "  </thead>\n",
       "  <tbody>\n",
       "    <tr>\n",
       "      <th>0</th>\n",
       "      <td>002_S_0729</td>\n",
       "      <td>-0.907124</td>\n",
       "      <td>-0.599118</td>\n",
       "      <td>0.20911</td>\n",
       "      <td>0.410522</td>\n",
       "      <td>-0.386959</td>\n",
       "      <td>0.803329</td>\n",
       "      <td>0.252266</td>\n",
       "      <td>-0.935346</td>\n",
       "      <td>2.0</td>\n",
       "      <td>...</td>\n",
       "      <td>False</td>\n",
       "      <td>False</td>\n",
       "      <td>True</td>\n",
       "      <td>False</td>\n",
       "      <td>False</td>\n",
       "      <td>True</td>\n",
       "      <td>False</td>\n",
       "      <td>False</td>\n",
       "      <td>True</td>\n",
       "      <td>False</td>\n",
       "    </tr>\n",
       "    <tr>\n",
       "      <th>1</th>\n",
       "      <td>002_S_1155</td>\n",
       "      <td>-1.913287</td>\n",
       "      <td>-1.640056</td>\n",
       "      <td>-2.9568</td>\n",
       "      <td>-3.247881</td>\n",
       "      <td>-2.848414</td>\n",
       "      <td>-3.151439</td>\n",
       "      <td>-3.17256</td>\n",
       "      <td>-0.778481</td>\n",
       "      <td>1.0</td>\n",
       "      <td>...</td>\n",
       "      <td>False</td>\n",
       "      <td>False</td>\n",
       "      <td>True</td>\n",
       "      <td>False</td>\n",
       "      <td>False</td>\n",
       "      <td>True</td>\n",
       "      <td>False</td>\n",
       "      <td>True</td>\n",
       "      <td>False</td>\n",
       "      <td>False</td>\n",
       "    </tr>\n",
       "    <tr>\n",
       "      <th>2</th>\n",
       "      <td>002_S_1261</td>\n",
       "      <td>-0.08014</td>\n",
       "      <td>0.09773</td>\n",
       "      <td>-0.15541</td>\n",
       "      <td>0.197169</td>\n",
       "      <td>-0.629183</td>\n",
       "      <td>0.0498</td>\n",
       "      <td>0.232463</td>\n",
       "      <td>-0.908899</td>\n",
       "      <td>1.0</td>\n",
       "      <td>...</td>\n",
       "      <td>True</td>\n",
       "      <td>False</td>\n",
       "      <td>False</td>\n",
       "      <td>False</td>\n",
       "      <td>False</td>\n",
       "      <td>False</td>\n",
       "      <td>True</td>\n",
       "      <td>True</td>\n",
       "      <td>False</td>\n",
       "      <td>False</td>\n",
       "    </tr>\n",
       "    <tr>\n",
       "      <th>3</th>\n",
       "      <td>002_S_1280</td>\n",
       "      <td>-0.135273</td>\n",
       "      <td>-0.49072</td>\n",
       "      <td>0.148831</td>\n",
       "      <td>0.182368</td>\n",
       "      <td>0.396004</td>\n",
       "      <td>0.125605</td>\n",
       "      <td>-0.024744</td>\n",
       "      <td>2.393686</td>\n",
       "      <td>3.0</td>\n",
       "      <td>...</td>\n",
       "      <td>True</td>\n",
       "      <td>False</td>\n",
       "      <td>False</td>\n",
       "      <td>False</td>\n",
       "      <td>False</td>\n",
       "      <td>False</td>\n",
       "      <td>True</td>\n",
       "      <td>False</td>\n",
       "      <td>True</td>\n",
       "      <td>False</td>\n",
       "    </tr>\n",
       "    <tr>\n",
       "      <th>4</th>\n",
       "      <td>002_S_2010</td>\n",
       "      <td>-1.210351</td>\n",
       "      <td>-0.724175</td>\n",
       "      <td>0.889532</td>\n",
       "      <td>0.357138</td>\n",
       "      <td>0.261112</td>\n",
       "      <td>0.243122</td>\n",
       "      <td>0.582234</td>\n",
       "      <td>3.287072</td>\n",
       "      <td>1.0</td>\n",
       "      <td>...</td>\n",
       "      <td>False</td>\n",
       "      <td>True</td>\n",
       "      <td>False</td>\n",
       "      <td>False</td>\n",
       "      <td>False</td>\n",
       "      <td>True</td>\n",
       "      <td>False</td>\n",
       "      <td>False</td>\n",
       "      <td>True</td>\n",
       "      <td>False</td>\n",
       "    </tr>\n",
       "    <tr>\n",
       "      <th>...</th>\n",
       "      <td>...</td>\n",
       "      <td>...</td>\n",
       "      <td>...</td>\n",
       "      <td>...</td>\n",
       "      <td>...</td>\n",
       "      <td>...</td>\n",
       "      <td>...</td>\n",
       "      <td>...</td>\n",
       "      <td>...</td>\n",
       "      <td>...</td>\n",
       "      <td>...</td>\n",
       "      <td>...</td>\n",
       "      <td>...</td>\n",
       "      <td>...</td>\n",
       "      <td>...</td>\n",
       "      <td>...</td>\n",
       "      <td>...</td>\n",
       "      <td>...</td>\n",
       "      <td>...</td>\n",
       "      <td>...</td>\n",
       "      <td>...</td>\n",
       "    </tr>\n",
       "    <tr>\n",
       "      <th>278</th>\n",
       "      <td>941_S_4255</td>\n",
       "      <td>0.099039</td>\n",
       "      <td>0.032813</td>\n",
       "      <td>-0.126676</td>\n",
       "      <td>0.208292</td>\n",
       "      <td>0.009422</td>\n",
       "      <td>0.287841</td>\n",
       "      <td>0.377825</td>\n",
       "      <td>0.013404</td>\n",
       "      <td>1.0</td>\n",
       "      <td>...</td>\n",
       "      <td>True</td>\n",
       "      <td>False</td>\n",
       "      <td>False</td>\n",
       "      <td>False</td>\n",
       "      <td>True</td>\n",
       "      <td>False</td>\n",
       "      <td>False</td>\n",
       "      <td>False</td>\n",
       "      <td>True</td>\n",
       "      <td>False</td>\n",
       "    </tr>\n",
       "    <tr>\n",
       "      <th>279</th>\n",
       "      <td>941_S_4292</td>\n",
       "      <td>-0.107707</td>\n",
       "      <td>-0.280526</td>\n",
       "      <td>0.599915</td>\n",
       "      <td>0.374701</td>\n",
       "      <td>0.714687</td>\n",
       "      <td>0.126096</td>\n",
       "      <td>0.437157</td>\n",
       "      <td>-0.017095</td>\n",
       "      <td>1.0</td>\n",
       "      <td>...</td>\n",
       "      <td>True</td>\n",
       "      <td>False</td>\n",
       "      <td>False</td>\n",
       "      <td>False</td>\n",
       "      <td>False</td>\n",
       "      <td>True</td>\n",
       "      <td>False</td>\n",
       "      <td>True</td>\n",
       "      <td>False</td>\n",
       "      <td>False</td>\n",
       "    </tr>\n",
       "    <tr>\n",
       "      <th>280</th>\n",
       "      <td>941_S_4365</td>\n",
       "      <td>1.1879</td>\n",
       "      <td>1.205062</td>\n",
       "      <td>-0.016664</td>\n",
       "      <td>0.10102</td>\n",
       "      <td>0.432068</td>\n",
       "      <td>0.203846</td>\n",
       "      <td>-0.216243</td>\n",
       "      <td>-0.803431</td>\n",
       "      <td>1.0</td>\n",
       "      <td>...</td>\n",
       "      <td>True</td>\n",
       "      <td>False</td>\n",
       "      <td>False</td>\n",
       "      <td>False</td>\n",
       "      <td>False</td>\n",
       "      <td>False</td>\n",
       "      <td>True</td>\n",
       "      <td>True</td>\n",
       "      <td>False</td>\n",
       "      <td>False</td>\n",
       "    </tr>\n",
       "    <tr>\n",
       "      <th>281</th>\n",
       "      <td>941_S_4376</td>\n",
       "      <td>0.664144</td>\n",
       "      <td>-1.640056</td>\n",
       "      <td>-2.9568</td>\n",
       "      <td>-3.247881</td>\n",
       "      <td>-2.848414</td>\n",
       "      <td>-3.151439</td>\n",
       "      <td>-3.17256</td>\n",
       "      <td>0.442142</td>\n",
       "      <td>2.0</td>\n",
       "      <td>...</td>\n",
       "      <td>True</td>\n",
       "      <td>False</td>\n",
       "      <td>False</td>\n",
       "      <td>False</td>\n",
       "      <td>False</td>\n",
       "      <td>True</td>\n",
       "      <td>False</td>\n",
       "      <td>True</td>\n",
       "      <td>False</td>\n",
       "      <td>False</td>\n",
       "    </tr>\n",
       "    <tr>\n",
       "      <th>282</th>\n",
       "      <td>941_S_4764</td>\n",
       "      <td>1.518694</td>\n",
       "      <td>1.579927</td>\n",
       "      <td>-0.144363</td>\n",
       "      <td>-0.065999</td>\n",
       "      <td>0.773153</td>\n",
       "      <td>0.25089</td>\n",
       "      <td>-0.029618</td>\n",
       "      <td>0.131969</td>\n",
       "      <td>2.0</td>\n",
       "      <td>...</td>\n",
       "      <td>False</td>\n",
       "      <td>True</td>\n",
       "      <td>False</td>\n",
       "      <td>False</td>\n",
       "      <td>False</td>\n",
       "      <td>True</td>\n",
       "      <td>False</td>\n",
       "      <td>True</td>\n",
       "      <td>False</td>\n",
       "      <td>False</td>\n",
       "    </tr>\n",
       "  </tbody>\n",
       "</table>\n",
       "<p>283 rows × 24 columns</p>\n",
       "</div>"
      ],
      "text/plain": [
       "     Patient ID       AGE Ventricles_bl % Hippocampus_bl % WholeBrain_bl %  \\\n",
       "0    002_S_0729 -0.907124       -0.599118          0.20911        0.410522   \n",
       "1    002_S_1155 -1.913287       -1.640056          -2.9568       -3.247881   \n",
       "2    002_S_1261  -0.08014         0.09773         -0.15541        0.197169   \n",
       "3    002_S_1280 -0.135273        -0.49072         0.148831        0.182368   \n",
       "4    002_S_2010 -1.210351       -0.724175         0.889532        0.357138   \n",
       "..          ...       ...             ...              ...             ...   \n",
       "278  941_S_4255  0.099039        0.032813        -0.126676        0.208292   \n",
       "279  941_S_4292 -0.107707       -0.280526         0.599915        0.374701   \n",
       "280  941_S_4365    1.1879        1.205062        -0.016664         0.10102   \n",
       "281  941_S_4376  0.664144       -1.640056          -2.9568       -3.247881   \n",
       "282  941_S_4764  1.518694        1.579927        -0.144363       -0.065999   \n",
       "\n",
       "    Entorhinal_bl % Fusiform_bl % MidTemp_bl %       BMI  WMH_PV  ...  \\\n",
       "0         -0.386959      0.803329     0.252266 -0.935346     2.0  ...   \n",
       "1         -2.848414     -3.151439     -3.17256 -0.778481     1.0  ...   \n",
       "2         -0.629183        0.0498     0.232463 -0.908899     1.0  ...   \n",
       "3          0.396004      0.125605    -0.024744  2.393686     3.0  ...   \n",
       "4          0.261112      0.243122     0.582234  3.287072     1.0  ...   \n",
       "..              ...           ...          ...       ...     ...  ...   \n",
       "278        0.009422      0.287841     0.377825  0.013404     1.0  ...   \n",
       "279        0.714687      0.126096     0.437157 -0.017095     1.0  ...   \n",
       "280        0.432068      0.203846    -0.216243 -0.803431     1.0  ...   \n",
       "281       -2.848414     -3.151439     -3.17256  0.442142     2.0  ...   \n",
       "282        0.773153       0.25089    -0.029618  0.131969     2.0  ...   \n",
       "\n",
       "     DX.bl_0  DX.bl_1 DX.bl_2 DX.bl_3  CV RISK FACTORS_0  CV RISK FACTORS_1  \\\n",
       "0      False    False    True   False              False               True   \n",
       "1      False    False    True   False              False               True   \n",
       "2       True    False   False   False              False              False   \n",
       "3       True    False   False   False              False              False   \n",
       "4      False     True   False   False              False               True   \n",
       "..       ...      ...     ...     ...                ...                ...   \n",
       "278     True    False   False   False               True              False   \n",
       "279     True    False   False   False              False               True   \n",
       "280     True    False   False   False              False              False   \n",
       "281     True    False   False   False              False               True   \n",
       "282    False     True   False   False              False               True   \n",
       "\n",
       "     CV RISK FACTORS_2  APOE4_0  APOE4_1  APOE4_2  \n",
       "0                False    False     True    False  \n",
       "1                False     True    False    False  \n",
       "2                 True     True    False    False  \n",
       "3                 True    False     True    False  \n",
       "4                False    False     True    False  \n",
       "..                 ...      ...      ...      ...  \n",
       "278              False    False     True    False  \n",
       "279              False     True    False    False  \n",
       "280               True     True    False    False  \n",
       "281              False     True    False    False  \n",
       "282              False     True    False    False  \n",
       "\n",
       "[283 rows x 24 columns]"
      ]
     },
     "execution_count": 75,
     "metadata": {},
     "output_type": "execute_result"
    }
   ],
   "source": [
    "combined_df"
   ]
  },
  {
   "cell_type": "code",
   "execution_count": 76,
   "id": "ffe77521-c8e3-4a35-b5db-09fde7f07a67",
   "metadata": {
    "tags": []
   },
   "outputs": [],
   "source": [
    "combined_df['totatal_fazekas'] = (combined_df['WMH_Deep'].values + combined_df['WMH_PV'].values)"
   ]
  },
  {
   "cell_type": "code",
   "execution_count": 77,
   "id": "93e5be8a-a564-4eca-a1b0-1bdb63e7d355",
   "metadata": {
    "tags": []
   },
   "outputs": [
    {
     "data": {
      "text/plain": [
       "array([4., 1., 2., 5., 2., 1., 3., 4., 5., 2., 2., 2., 1., 2., 1., 2., 4.,\n",
       "       2., 1., 4., 2., 2., 2., 2., 2., 3., 1., 5., 4., 3., 2., 2., 2., 2.,\n",
       "       2., 3., 2., 3., 3., 1., 2., 2., 2., 2., 4., 1., 6., 3., 3., 5., 1.,\n",
       "       1., 3., 3., 2., 2., 1., 2., 1., 3., 2., 0., 4., 1., 5., 3., 2., 2.,\n",
       "       4., 3., 3., 2., 2., 2., 2., 2., 2., 2., 2., 2., 2., 2., 5., 2., 2.,\n",
       "       4., 2., 2., 2., 5., 1., 2., 1., 5., 3., 4., 2., 2., 2., 2., 1., 0.,\n",
       "       3., 0., 0., 1., 4., 1., 2., 4., 2., 2., 2., 4., 2., 2., 2., 1., 4.,\n",
       "       2., 2., 2., 2., 1., 4., 0., 4., 2., 3., 6., 2., 2., 4., 2., 0., 2.,\n",
       "       0., 2., 0., 0., 3., 4., 6., 2., 3., 0., 2., 2., 0., 3., 2., 4., 3.,\n",
       "       3., 1., 3., 2., 2., 0., 0., 1., 2., 0., 1., 2., 1., 0., 2., 1., 2.,\n",
       "       0., 1., 2., 0., 1., 2., 2., 2., 2., 1., 2., 4., 0., 2., 3., 2., 0.,\n",
       "       1., 1., 1., 2., 2., 1., 1., 5., 0., 1., 2., 2., 2., 4., 1., 0., 4.,\n",
       "       2., 2., 4., 0., 1., 0., 0., 1., 1., 1., 4., 2., 2., 2., 1., 2., 1.,\n",
       "       1., 2., 3., 4., 0., 1., 2., 3., 2., 4., 4., 2., 1., 1., 3., 2., 2.,\n",
       "       0., 2., 2., 1., 2., 2., 2., 1., 3., 5., 2., 2., 1., 2., 3., 1., 1.,\n",
       "       2., 1., 2., 0., 2., 4., 5., 1., 2., 3., 2., 2., 3., 2., 1., 1., 0.,\n",
       "       2., 2., 6., 0., 6., 0., 1., 1., 2., 4., 3.])"
      ]
     },
     "execution_count": 77,
     "metadata": {},
     "output_type": "execute_result"
    }
   ],
   "source": [
    "combined_df['totatal_fazekas'].values"
   ]
  },
  {
   "cell_type": "code",
   "execution_count": 78,
   "id": "dfb3ffb0-718f-43e4-a791-c9ec4f984f12",
   "metadata": {
    "tags": []
   },
   "outputs": [],
   "source": [
    "combined_df.to_csv(f\"/home/s2208943/ipdis/data/preprocessed_data/umap_data_spreadsheets/ADNI/clinscore_data.csv\")"
   ]
  },
  {
   "cell_type": "code",
   "execution_count": null,
   "id": "cd5c97be-881c-4701-a2fc-9e082b141625",
   "metadata": {},
   "outputs": [],
   "source": []
  }
 ],
 "metadata": {
  "kernelspec": {
   "display_name": "Python 3 (ipykernel)",
   "language": "python",
   "name": "python3"
  },
  "language_info": {
   "codemirror_mode": {
    "name": "ipython",
    "version": 3
   },
   "file_extension": ".py",
   "mimetype": "text/x-python",
   "name": "python",
   "nbconvert_exporter": "python",
   "pygments_lexer": "ipython3",
   "version": "3.8.10"
  }
 },
 "nbformat": 4,
 "nbformat_minor": 5
}
