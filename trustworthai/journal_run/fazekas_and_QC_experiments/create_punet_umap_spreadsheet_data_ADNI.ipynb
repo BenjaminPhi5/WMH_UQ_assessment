{
 "cells": [
  {
   "cell_type": "markdown",
   "id": "229f024d-8140-4c3e-8dd8-3240a867fde3",
   "metadata": {},
   "source": [
    "# feature extraction for logistic ADNI models\n",
    "load the predictions for the validation model for each.\n",
    "\n",
    "and compute the confusion matrix, the precision and f1 score (multiclass)\n",
    "and roc curve maybe? what curves do we use for multiclass.\n"
   ]
  },
  {
   "cell_type": "code",
   "execution_count": 1,
   "id": "732f1512-609f-4f02-93e2-fc7da2a34a7b",
   "metadata": {
    "tags": []
   },
   "outputs": [
    {
     "name": "stdout",
     "output_type": "stream",
     "text": [
      "strawberry\n",
      "banana\n"
     ]
    }
   ],
   "source": [
    "# trainer\n",
    "print(\"strawberry\")\n",
    "from trustworthai.utils.fitting_and_inference.fitters.basic_lightning_fitter import StandardLitModelWrapper\n",
    "from trustworthai.utils.fitting_and_inference.get_trainer import get_trainer\n",
    "\n",
    "# data\n",
    "from twaidata.torchdatasets.MRI_3D_nolabels_inram_ds import MRI_3D_nolabels_inram_ds\n",
    "\n",
    "# packages\n",
    "import os\n",
    "import numpy as np\n",
    "import pandas as pd\n",
    "import matplotlib.pyplot as plt\n",
    "import torch\n",
    "from torchinfo import summary\n",
    "from tqdm import tqdm\n",
    "from collections import defaultdict\n",
    "from natsort import natsorted\n",
    "import torchmetrics\n",
    "print(\"banana\")"
   ]
  },
  {
   "cell_type": "code",
   "execution_count": 2,
   "id": "52c197f2-3465-4660-9142-26346dfafa09",
   "metadata": {
    "tags": []
   },
   "outputs": [],
   "source": [
    "import seaborn as sns\n",
    "import scipy"
   ]
  },
  {
   "cell_type": "markdown",
   "id": "f6f0b1ac-2587-41fe-94ac-e8f0d2a6657e",
   "metadata": {},
   "source": [
    "### Loading ADNI flair mask t1 dataset"
   ]
  },
  {
   "cell_type": "code",
   "execution_count": 3,
   "id": "c39c203e-a4f5-4921-9658-67adae8bc75b",
   "metadata": {
    "tags": []
   },
   "outputs": [],
   "source": [
    "# ADNI_ds = MRI_3D_nolabels_inram_ds(\"/home/s2208943/ipdis/data/preprocessed_data/ADNI_300\")"
   ]
  },
  {
   "cell_type": "code",
   "execution_count": 4,
   "id": "1fc11900-d76a-4307-8387-88e2553073a6",
   "metadata": {
    "tags": []
   },
   "outputs": [],
   "source": [
    "# IDs = ADNI_ds.getIDs()"
   ]
  },
  {
   "cell_type": "code",
   "execution_count": 5,
   "id": "7f86e3bb-9073-4965-8a81-3472553c364e",
   "metadata": {
    "tags": []
   },
   "outputs": [],
   "source": [
    "# len(IDs)"
   ]
  },
  {
   "cell_type": "markdown",
   "id": "2ec7b53a-4ede-4b32-ba6a-80f23a7e392b",
   "metadata": {},
   "source": [
    "### Loading ADNI predictions"
   ]
  },
  {
   "cell_type": "code",
   "execution_count": 6,
   "id": "8cb4854c-4883-45ee-b6c2-2eac488bfa37",
   "metadata": {
    "tags": []
   },
   "outputs": [],
   "source": [
    "# def get_output_maps_for_ds(output_maps_dir, ids):\n",
    "#     output_maps_lists = defaultdict(lambda : [])\n",
    "#     key_order = None\n",
    "#     for ID in tqdm(ids, position=0, leave=True):\n",
    "#         output_maps_data = np.load(f\"{output_maps_dir}{ID}_out_maps.npz\")\n",
    "#         key_order = natsorted(list(output_maps_data.keys()))\n",
    "#         for output_type in key_order:\n",
    "#             output_maps_lists[ID].append(torch.from_numpy(output_maps_data[output_type]))\n",
    "            \n",
    "#     return output_maps_lists, key_order\n",
    "def load_output_maps(output_maps_dir):\n",
    "    output_maps_lists = defaultdict(lambda: [])\n",
    "    for fID in tqdm(os.listdir(output_maps_dir), position=0, leave=True):\n",
    "        # print(fID)\n",
    "        # break\n",
    "        if \".npz\" in fID:\n",
    "            ID = fID.split(\".\")[0]\n",
    "            output_maps_data = np.load(output_maps_dir+fID)\n",
    "            key_order = natsorted(list(output_maps_data.keys()))\n",
    "            for key in key_order:\n",
    "                output_maps_lists[ID].append(torch.from_numpy(output_maps_data[key]))\n",
    "    return output_maps_lists, key_order"
   ]
  },
  {
   "cell_type": "code",
   "execution_count": 8,
   "id": "65539e27-5ae1-40cc-9a30-6a00f3c5fc87",
   "metadata": {
    "tags": []
   },
   "outputs": [
    {
     "name": "stderr",
     "output_type": "stream",
     "text": [
      "100%|███████████████████████████████████████████████████████████████████████████████████████████████████████████████████████████████████████████████████████| 291/291 [01:16<00:00,  3.80it/s]\n"
     ]
    }
   ],
   "source": [
    "# model_name = \"SSN_Ens_Mean\"\n",
    "model_name = \"punet\"\n",
    "output_maps_dir = f\"/home/s2208943/ipdis/data/preprocessed_data/ADNI_300_output_maps/{model_name}/\"\n",
    "output_maps_for_umaps, key_order = load_output_maps(output_maps_dir)"
   ]
  },
  {
   "cell_type": "code",
   "execution_count": 9,
   "id": "95247376-f196-40d9-aad0-50a629fbbb78",
   "metadata": {
    "tags": []
   },
   "outputs": [],
   "source": [
    "# model_name_for_pred = \"SSN_Ens_Mean\"\n",
    "model_name = \"punet\"\n",
    "\n",
    "output_maps_for_pred = output_maps_for_umaps\n",
    "key_order_for_pred = key_order"
   ]
  },
  {
   "cell_type": "code",
   "execution_count": 10,
   "id": "3047b0a1-6dcd-4ba1-b997-6dd7831ae516",
   "metadata": {
    "tags": []
   },
   "outputs": [
    {
     "data": {
      "text/plain": [
       "['ent', 'pred', 'seg']"
      ]
     },
     "execution_count": 10,
     "metadata": {},
     "output_type": "execute_result"
    }
   ],
   "source": [
    "key_order"
   ]
  },
  {
   "cell_type": "code",
   "execution_count": 11,
   "id": "04561be7-6226-4fd9-b6a0-144ad4a4ddb7",
   "metadata": {
    "tags": []
   },
   "outputs": [],
   "source": [
    "ID = list(output_maps_for_umaps.keys())[2]"
   ]
  },
  {
   "cell_type": "code",
   "execution_count": 12,
   "id": "84b3b24a-bd85-4e3f-9754-f7d29761c706",
   "metadata": {
    "tags": []
   },
   "outputs": [],
   "source": [
    "img_us = output_maps_for_umaps[ID]\n",
    "img_ps = output_maps_for_pred[ID]"
   ]
  },
  {
   "cell_type": "code",
   "execution_count": 13,
   "id": "6485cc67-1729-4388-affd-abefb31ff57a",
   "metadata": {
    "tags": []
   },
   "outputs": [
    {
     "data": {
      "image/png": "[encoded data removed]",
      "text/plain": [
       "<Figure size 1500x400 with 3 Axes>"
      ]
     },
     "metadata": {},
     "output_type": "display_data"
    }
   ],
   "source": [
    "ent, pred, seg = img_ps\n",
    "plt.figure(figsize=(15,4))\n",
    "islice = 31\n",
    "for i in range(3):\n",
    "    plt.subplot(1, 3, i+1)\n",
    "    plt.imshow(img_ps[i][islice])\n",
    "    plt.axis('off')"
   ]
  },
  {
   "cell_type": "code",
   "execution_count": 14,
   "id": "35004640-9e97-4087-b165-2dd6860cb4c9",
   "metadata": {
    "tags": []
   },
   "outputs": [],
   "source": [
    "t = 0.1\n",
    "ent_voxels = ent[ent > t]\n",
    "pred_voxels = pred[pred > t]\n",
    "# var_voxels = var[var > t/10]"
   ]
  },
  {
   "cell_type": "code",
   "execution_count": 15,
   "id": "a7de86cc-dff5-4eb6-ae1a-d02522bab5a0",
   "metadata": {
    "tags": []
   },
   "outputs": [
    {
     "data": {
      "text/plain": [
       "<Axes: ylabel='Density'>"
      ]
     },
     "execution_count": 15,
     "metadata": {},
     "output_type": "execute_result"
    },
    {
     "data": {
      "image/png": "[encoded data removed]",
      "text/plain": [
       "<Figure size 640x480 with 3 Axes>"
      ]
     },
     "metadata": {},
     "output_type": "display_data"
    }
   ],
   "source": [
    "plt.subplot(1,3,1)\n",
    "sns.kdeplot(ent_voxels)\n",
    "plt.subplot(1,3,2)\n",
    "# sns.kdeplot(var_voxels)\n",
    "plt.subplot(1,3,3)\n",
    "sns.kdeplot(pred_voxels)"
   ]
  },
  {
   "cell_type": "code",
   "execution_count": 16,
   "id": "25fba1d1-4ec2-47b3-8cef-52de0786aa59",
   "metadata": {
    "tags": []
   },
   "outputs": [],
   "source": [
    "def histogram_distribution(values, bins=20, minv=None, maxv=None):\n",
    "    # so that the output values are meaningful, I need to carefully set the min a max. mnin should be t, and max should be the max across all the data I think.\n",
    "    if minv == None:\n",
    "        minv = values.min()\n",
    "    if maxv == None:\n",
    "        maxv = values.max()\n",
    "    counts = torch.zeros(bins)\n",
    "    bounds = torch.arange(minv,maxv, (maxv-minv)/bins)\n",
    "    for i, (lower_bound, upper_bound) in enumerate(zip(bounds[:-1], bounds[1:])):\n",
    "        counts[i] = ((values >= lower_bound) * (values < upper_bound)).sum()\n",
    "\n",
    "    Z = counts.sum()\n",
    "    counts = counts / Z\n",
    "    return counts"
   ]
  },
  {
   "cell_type": "code",
   "execution_count": 17,
   "id": "dbb14042-f93b-488b-9226-bab70c005430",
   "metadata": {
    "tags": []
   },
   "outputs": [],
   "source": [
    "def gaussian_summary_statistics(values):\n",
    "    sum = values.sum().item()\n",
    "    mean = values.mean().item()\n",
    "    std = values.std().item()\n",
    "    skew = scipy.stats.skew(values)\n",
    "    kurtosis = scipy.stats.kurtosis(values, fisher=False)\n",
    "    return sum, mean, std, skew, kurtosis"
   ]
  },
  {
   "cell_type": "code",
   "execution_count": 18,
   "id": "1d345beb-21d2-4d93-bbba-64bf0d7c05bf",
   "metadata": {
    "tags": []
   },
   "outputs": [
    {
     "data": {
      "text/plain": [
       "tensor([0.1604, 0.1136, 0.0863, 0.0765, 0.0441, 0.0508, 0.0474, 0.0343, 0.0349,\n",
       "        0.0318, 0.0266, 0.0376, 0.0370, 0.0257, 0.0331, 0.0334, 0.0383, 0.0367,\n",
       "        0.0514, 0.0000])"
      ]
     },
     "execution_count": 18,
     "metadata": {},
     "output_type": "execute_result"
    }
   ],
   "source": [
    "histogram_distribution(ent_voxels, 20)"
   ]
  },
  {
   "cell_type": "code",
   "execution_count": 19,
   "id": "50440632-afa2-4412-aa15-feda68724897",
   "metadata": {
    "tags": []
   },
   "outputs": [],
   "source": [
    "# counts, counts.sum()"
   ]
  },
  {
   "cell_type": "code",
   "execution_count": 20,
   "id": "e2057fc7-fb44-4b05-987b-9f95dbcf65a5",
   "metadata": {
    "tags": []
   },
   "outputs": [
    {
     "data": {
      "text/plain": [
       "<Axes: ylabel='Count'>"
      ]
     },
     "execution_count": 20,
     "metadata": {},
     "output_type": "execute_result"
    },
    {
     "data": {
      "image/png": "[encoded data removed]",
      "text/plain": [
       "<Figure size 640x480 with 1 Axes>"
      ]
     },
     "metadata": {},
     "output_type": "display_data"
    }
   ],
   "source": [
    "sns.histplot(ent_voxels, bins=20)"
   ]
  },
  {
   "cell_type": "markdown",
   "id": "4a2eebb2-323b-49b9-9fc9-696eccd21f2e",
   "metadata": {},
   "source": [
    "### overlap proportions computation\n",
    "- [x] proportion of segmented area that is uncertain\n",
    "- [x] proportion of uncertain area that is segmented\n",
    "- [x] proportion of uncertain area that is within segmentation + edge expansion"
   ]
  },
  {
   "cell_type": "code",
   "execution_count": 21,
   "id": "9135e5b0-9ca4-4233-bad0-700764113bbc",
   "metadata": {
    "tags": []
   },
   "outputs": [],
   "source": [
    "def get_edge_expanded_seg(seg, expansions=2):\n",
    "    expanded = seg.type(torch.float32).unsqueeze(1)\n",
    "    for _ in range(expansions):\n",
    "        expanded = torch.nn.functional.max_pool3d(expanded, kernel_size=3, padding=1, stride=1)\n",
    "    return expanded.type(seg.dtype).squeeze()"
   ]
  },
  {
   "cell_type": "markdown",
   "id": "29ff30eb-afd9-433d-a9a8-b58d83717eee",
   "metadata": {},
   "source": [
    "### loading the ventricles for ventricle distance analysis"
   ]
  },
  {
   "cell_type": "code",
   "execution_count": 22,
   "id": "b4f7a4bc-0c08-439b-8477-5deb907b7d92",
   "metadata": {
    "tags": []
   },
   "outputs": [],
   "source": [
    "import SimpleITK as sitk\n",
    "import numpy as np\n",
    "import matplotlib.pyplot as plt\n",
    "import os\n",
    "import torchvision.transforms as tv\n",
    "\n",
    "# resamples an image\n",
    "def get_resampled_img(itk_image, out_spacing=[2.0, 2.0, 2.0], original_spacing=[1., 1., 3.], is_label=False):\n",
    "    \n",
    "    if not original_spacing:\n",
    "        # orig spacing can be specified when the input itk_image does not know its actual spacing.\n",
    "        original_spacing = itk_image.GetSpacing()\n",
    "    original_size = itk_image.GetSize()\n",
    "    \n",
    "    # what's this? its how to modify the output size I think...\n",
    "    out_size = [\n",
    "        int(np.round(orig_size * orig_spacing / out_spacing))\n",
    "        for (orig_size, orig_spacing, out_spacing) \n",
    "        in zip(original_size, original_spacing, out_spacing)\n",
    "    ]\n",
    "    \n",
    "    resample = sitk.ResampleImageFilter()\n",
    "    resample.SetOutputSpacing(out_spacing)\n",
    "    resample.SetSize(out_size)\n",
    "    resample.SetOutputDirection(itk_image.GetDirection())      # sets the output direction cosine matrix...\n",
    "    resample.SetOutputOrigin(itk_image.GetOrigin())\n",
    "    resample.SetTransform(sitk.Transform())\n",
    "    resample.SetDefaultPixelValue(itk_image.GetPixelIDValue())\n",
    "    \n",
    "    if is_label:\n",
    "        resample.SetInterpolator(sitk.sitkNearestNeighbor)\n",
    "    else:\n",
    "        resample.SetInterpolator(sitk.sitkBSpline)\n",
    "        \n",
    "    return resample.Execute(itk_image)\n",
    "      \n",
    "def resample_and_return(filename_in, is_label=False, out_spacing=[1., 1., 3.], original_spacing=None):\n",
    "    \"\"\"\n",
    "    resamples an image to custom voxel dimensions and returns image as a numpy array\n",
    "    \n",
    "    filename_in: .nii.gz file to load\n",
    "    is_label: is the file a brain scan or a segmentaion mask\n",
    "    outspacing: the spacing of the image to be resampled to.\n",
    "    \"\"\"\n",
    "        \n",
    "    # resample the image\n",
    "    image = sitk.ReadImage(filename_in)\n",
    "    resampled_image = get_resampled_img(image, out_spacing=out_spacing, original_spacing=original_spacing, is_label=is_label)\n",
    "    \n",
    "    return sitk.GetArrayFromImage(resampled_image)"
   ]
  },
  {
   "cell_type": "code",
   "execution_count": 23,
   "id": "ad90dcde-a922-4fe1-b331-c4e35f468366",
   "metadata": {
    "tags": []
   },
   "outputs": [],
   "source": [
    "# this loop takes a while as its loading from disk and resampling\n",
    "# it takes around 11 minutes\n",
    "\n",
    "cropper = tv.transforms.CenterCrop((220, 220))\n",
    "\n",
    "def load_fast_output(file, slices):\n",
    "    timg = resample_and_return(file, is_label=True)\n",
    "        \n",
    "    # interpolate the channel number and centre crop\n",
    "    timg = torch.Tensor(timg)\n",
    "    timg = torch.nn.functional.interpolate(timg.unsqueeze(0).unsqueeze(0), (slices, *timg.shape[1:])).squeeze()\n",
    "    timg = cropper(timg.view((1, 1, *timg.shape))).squeeze()\n",
    "    \n",
    "    return timg\n",
    "\n"
   ]
  },
  {
   "cell_type": "code",
   "execution_count": 24,
   "id": "39e1b213-4cec-4b37-8c0a-68f628767553",
   "metadata": {
    "tags": []
   },
   "outputs": [],
   "source": [
    "IDs_outmaps = natsorted(list(output_maps_for_umaps.keys()))\n",
    "IDs = [(\"_\".join(idx.split(\"_\")[:-2]), idx) for idx in IDs_outmaps if \"out_maps\" in idx]"
   ]
  },
  {
   "cell_type": "code",
   "execution_count": 25,
   "id": "8ede0b33-91db-4fae-8cfb-0dbe9bd5e089",
   "metadata": {
    "tags": []
   },
   "outputs": [
    {
     "data": {
      "text/plain": [
       "torch.Size([58, 220, 220])"
      ]
     },
     "execution_count": 25,
     "metadata": {},
     "output_type": "execute_result"
    }
   ],
   "source": [
    "output_maps_for_umaps[IDs[0][1]][0].shape"
   ]
  },
  {
   "cell_type": "code",
   "execution_count": 26,
   "id": "0ddfb553-ff06-46cd-96a7-1d09e35faeb2",
   "metadata": {
    "tags": []
   },
   "outputs": [
    {
     "name": "stderr",
     "output_type": "stream",
     "text": [
      "100%|███████████████████████████████████████████████████████████████████████████████████████████████████████████████████████████████████████████████████████| 290/290 [00:25<00:00, 11.55it/s]\n"
     ]
    }
   ],
   "source": [
    "vent_folder = \"/home/s2208943/ipdis/data/preprocessed_data/ADNI_300_ventmapper/\"\n",
    "vent_filenames = os.listdir(vent_folder)\n",
    "ID_ventpath_map = {\"_\".join(f.split(\"_\")[:-1]): vent_folder + f for f in vent_filenames}\n",
    "vent_maps = []\n",
    "for i in tqdm(range(len(IDs)), position=0, leave=True):\n",
    "    ID = IDs[i]\n",
    "    num_slices = output_maps_for_umaps[ID[1]][0].shape[0]\n",
    "    vent_path = ID_ventpath_map[ID[0]]\n",
    "    vent_seg = load_fast_output(vent_path, num_slices)\n",
    "    vent_maps.append(vent_seg)"
   ]
  },
  {
   "cell_type": "code",
   "execution_count": 27,
   "id": "1436f375-8c10-41bf-bb3a-0857fe41f5ab",
   "metadata": {
    "tags": []
   },
   "outputs": [
    {
     "data": {
      "text/plain": [
       "(torch.Size([58, 220, 220]), tensor(33))"
      ]
     },
     "execution_count": 27,
     "metadata": {},
     "output_type": "execute_result"
    }
   ],
   "source": [
    "vent_maps[0].shape, vent_maps[0].sum(dim=(1,2,)).argmax(0)"
   ]
  },
  {
   "cell_type": "code",
   "execution_count": 28,
   "id": "12a6d43a-6de6-4a0e-8950-cd704e667b9c",
   "metadata": {
    "tags": []
   },
   "outputs": [
    {
     "data": {
      "text/plain": [
       "<matplotlib.image.AxesImage at 0x7fd0e8464d30>"
      ]
     },
     "execution_count": 28,
     "metadata": {},
     "output_type": "execute_result"
    },
    {
     "data": {
      "image/png": "[encoded data removed]",
      "text/plain": [
       "<Figure size 1500x500 with 3 Axes>"
      ]
     },
     "metadata": {},
     "output_type": "display_data"
    }
   ],
   "source": [
    "islice = 26\n",
    "scan_id = 200\n",
    "plt.figure(figsize=(15, 5))\n",
    "plt.subplot(1,3,1)\n",
    "plt.imshow(vent_maps[scan_id][islice])\n",
    "plt.subplot(1,3,2)\n",
    "plt.imshow(output_maps_for_umaps[IDs[scan_id][1]][0][islice])\n",
    "plt.subplot(1,3,3)\n",
    "img_map = torch.zeros(*vent_maps[0].shape[1:], 3)\n",
    "img_map[:,:,0] = vent_maps[scan_id][islice]\n",
    "img_map[:,:,1] = output_maps_for_umaps[IDs[scan_id][1]][0][islice]\n",
    "plt.imshow(img_map)"
   ]
  },
  {
   "cell_type": "markdown",
   "id": "72be1a31-b0e8-4d6c-b050-935489fec32d",
   "metadata": {},
   "source": [
    "### distance from the ventricles"
   ]
  },
  {
   "cell_type": "code",
   "execution_count": 29,
   "id": "2771725e-8dd0-4b3e-931f-440c9cff01a1",
   "metadata": {
    "tags": []
   },
   "outputs": [],
   "source": [
    "import torch.nn.functional as F\n",
    "def edge_pixels_3D(img):\n",
    "    dtype = img.dtype # preserve original datatype for casting at the end\n",
    "    img = img.type(torch.float32).unsqueeze(0)\n",
    "    \n",
    "    max_pool = F.max_pool3d(img, 3, stride=1, padding=1)\n",
    "    outer_edge = (max_pool != img).type(torch.float32)\n",
    "    \n",
    "    dilated_edge = F.max_pool3d(outer_edge, 3, stride=1, padding=1)\n",
    "    inner_edge = dilated_edge * img\n",
    "    \n",
    "    return inner_edge.type(dtype).squeeze()\n",
    "\n",
    "def edge_pixels(img):\n",
    "    dtype = img.dtype # preserve original datatype for casting at the end\n",
    "    img = img.type(torch.float32)\n",
    "    \n",
    "    max_pool = F.max_pool2d(img, 3, stride=1, padding=1)\n",
    "    outer_edge = (max_pool != img).type(torch.float32)\n",
    "    \n",
    "    dilated_edge = F.max_pool2d(outer_edge, 3, stride=1, padding=1)\n",
    "    inner_edge = dilated_edge * img\n",
    "    \n",
    "    return inner_edge.type(dtype)"
   ]
  },
  {
   "cell_type": "code",
   "execution_count": 30,
   "id": "797998d4-cb20-4df3-a428-51e8c10dbd40",
   "metadata": {
    "tags": []
   },
   "outputs": [],
   "source": [
    "def downsample_3d(img, avg=True):\n",
    "    if avg:\n",
    "        return F.avg_pool3d(img.unsqueeze(0).type(torch.float32), 2, stride=2).squeeze().type(img.dtype)\n",
    "    else:\n",
    "        return F.max_pool3d(img.unsqueeze(0).type(torch.float32), 2, stride=2).squeeze().type(img.dtype)"
   ]
  },
  {
   "cell_type": "code",
   "execution_count": 31,
   "id": "15bffcfa-ae41-4540-be47-21b725eebad1",
   "metadata": {
    "tags": []
   },
   "outputs": [],
   "source": [
    "def min_distances(img, vmap):\n",
    "    # calculate the minimum distance between each point in a and each point in b\n",
    "    \n",
    "    spatial_dims = vmap.squeeze().shape\n",
    "    grid = torch.stack(\n",
    "            torch.meshgrid(\n",
    "                *[torch.arange(0, sdi, 1) for sdi in spatial_dims],\n",
    "                indexing='ij'\n",
    "            )\n",
    "        ).type(torch.float32).to(img.device)\n",
    "    \n",
    "    a = grid[:, img.squeeze() > 0].T.cuda()\n",
    "    b = grid[:, vmap.squeeze() > 0].T.cuda()\n",
    "    \n",
    "    # Calculate pairwise distances between all pairs of points\n",
    "    distances = torch.cdist(a, b)\n",
    "\n",
    "    # Find indices of closest points in b for each point in a\n",
    "    _, indices = torch.min(distances, dim=1)\n",
    "\n",
    "    # Use indices to index into b and get closest points\n",
    "    b_closest = b[indices]\n",
    "\n",
    "    # Calculate distances to closest points \n",
    "    distances_closest = torch.norm(a - b_closest, dim=1)\n",
    "    \n",
    "    distance_map = torch.zeros(img.shape).to(distances_closest.device)\n",
    "    distance_map[img > 0] = distances_closest\n",
    "    \n",
    "    return distances_closest, distance_map"
   ]
  },
  {
   "cell_type": "markdown",
   "id": "1f929aaf-6adb-4768-9d06-c094e44f912b",
   "metadata": {},
   "source": [
    "### connected components analysis"
   ]
  },
  {
   "cell_type": "code",
   "execution_count": 32,
   "id": "82c98c1a-a5a9-4406-b1e1-4e664f35d318",
   "metadata": {
    "tags": []
   },
   "outputs": [],
   "source": [
    "import cc3d"
   ]
  },
  {
   "cell_type": "code",
   "execution_count": 33,
   "id": "cbc4edb3-d1b2-489b-b982-05ccad6d5b7e",
   "metadata": {
    "tags": []
   },
   "outputs": [],
   "source": [
    "def get_conn_comps(img):\n",
    "    connectivity = 6 # only 4,8 (2D) and 26, 18, and 6 (3D) are allowed\n",
    "    labels_out_seg = cc3d.connected_components(img.cpu().numpy(), connectivity=connectivity)\n",
    "    return torch.from_numpy(labels_out_seg.astype(np.int16)).to(img.device)"
   ]
  },
  {
   "cell_type": "code",
   "execution_count": 34,
   "id": "ac76e703-7ae8-4118-8c06-b365887c36a2",
   "metadata": {
    "tags": []
   },
   "outputs": [],
   "source": [
    "def get_edge_expanded_seg(seg, expansions=2):\n",
    "    expanded = seg.type(torch.float32).unsqueeze(1)\n",
    "    for _ in range(expansions):\n",
    "        expanded = torch.nn.functional.max_pool3d(expanded, kernel_size=3, padding=1, stride=1)\n",
    "    return expanded.type(seg.dtype).squeeze()"
   ]
  },
  {
   "cell_type": "code",
   "execution_count": 35,
   "id": "e8883d62-e40e-4883-9273-1f53465ee4d8",
   "metadata": {
    "tags": []
   },
   "outputs": [],
   "source": [
    "def skew(t, dim=None):\n",
    "    \"\"\"\n",
    "    Computes the skewness of a :class:`Tensor`. Note: this function uses cross-approximation (:func:`tntorch.cross()`).\n",
    "\n",
    "    :param t: a :class:`Tensor`\n",
    "\n",
    "    :return: a scalar\n",
    "    \"\"\"\n",
    "\n",
    "    return (((t-t.mean(dim=dim).unsqueeze(dim))/t.std(dim=dim).unsqueeze(dim)).pow(3)).mean(dim=dim)\n",
    "\n",
    "\n",
    "def kurtosis(t, fisher=True, dim=None):\n",
    "    \"\"\"\n",
    "    Computes the kurtosis of a :class:`Tensor`. Note: this function uses cross-approximation (:func:`tntorch.cross()`).\n",
    "\n",
    "    :param t: a :class:`Tensor`\n",
    "    :param fisher: if True (default) Fisher's definition is used, otherwise Pearson's (aka excess)\n",
    "\n",
    "    :return: a scalar\n",
    "    \"\"\"\n",
    "        \n",
    "    return (((t-t.mean(dim=dim).unsqueeze(dim))/t.std(dim=dim).unsqueeze(dim)).pow(4)).mean(dim=dim) - fisher*3"
   ]
  },
  {
   "cell_type": "code",
   "execution_count": 36,
   "id": "99050b0c-0408-4bc0-8bc0-2f456a1d5be9",
   "metadata": {
    "tags": []
   },
   "outputs": [],
   "source": [
    "def one_hot_encoded_image(image):\n",
    "    # for a 3D [H, W, D] shape image\n",
    "    # ensure all IDs are unique\n",
    "    return (image == image.unique().view(-1, 1, 1, 1))\n",
    "\n",
    "def one_hot_encoded_vector(vector):\n",
    "    return (vector == vector.unique().view(-1,1))"
   ]
  },
  {
   "cell_type": "code",
   "execution_count": 37,
   "id": "1658dd1c-4f71-4b56-b4e1-88b458889c04",
   "metadata": {
    "tags": []
   },
   "outputs": [],
   "source": [
    "def conn_comp_basic_stats(umap, conn_comp_map, seg_map, dist_map):\n",
    "    # number of connected components\n",
    "    # size of connected components\n",
    "    # connected component size distribution information\n",
    "    cc_ids = conn_comp_map.unique()\n",
    "    cc_locs = conn_comp_map != 0\n",
    "    conn_comp_map = conn_comp_map[cc_locs]\n",
    "    umap = umap[cc_locs]\n",
    "    seg_map = seg_map[cc_locs]\n",
    "    dist_map = dist_map[cc_locs]\n",
    "    \n",
    "    assert dist_map.shape == seg_map.shape == umap.shape == conn_comp_map.shape\n",
    "    num_ccs = len(cc_ids) - 1\n",
    "    num_ccs_no_overlap = 0\n",
    "    cc_sizes = []\n",
    "    cc_means = []\n",
    "    cc_stds = []\n",
    "    cc_skews = []\n",
    "    cc_kurts = []\n",
    "    cc_vent_dists = []\n",
    "    for cc_id in cc_ids:\n",
    "        if cc_id == 0:\n",
    "            continue\n",
    "        cc = conn_comp_map == cc_id\n",
    "        cc_size = cc.sum().item()\n",
    "        cc_values = umap[cc]\n",
    "        _, mean, std, skew, kurtosis = gaussian_summary_statistics(cc_values.cpu())\n",
    "    \n",
    "        cc_sizes.append(cc_size)\n",
    "        cc_means.append(mean)\n",
    "        cc_stds.append(std)\n",
    "        cc_skews.append(skew)\n",
    "        cc_kurts.append(kurtosis)\n",
    "        \n",
    "        if seg_map[cc].sum() == 0:\n",
    "            num_ccs_no_overlap += 1\n",
    "            \n",
    "        cc_vent_dists.append(dist_map[cc].mean().item())\n",
    "    _, vd_mean, vd_std, vd_skew, vd_kurt = gaussian_summary_statistics(torch.Tensor(cc_vent_dists))\n",
    "    _, size_mean, size_std, size_skew, size_kurt = gaussian_summary_statistics(torch.Tensor(cc_sizes))\n",
    "    \n",
    "    return {\"num\":num_ccs, \"sizes\":cc_sizes, \"means\":cc_means, \"stds\":cc_stds, \"skews\":cc_skews, \"kurts\":cc_kurts, \"vent_dists\":cc_vent_dists, \"unsegmented_ccs\":num_ccs_no_overlap, \"size_mean\":size_mean, \"size_std\":size_std, \"size_skew\":size_skew, \"size_kurt\":size_kurt, \"vd_mean\":vd_mean, \"vd_std\":vd_std, \"vd_skew\":vd_skew, \"vd_kurt\":vd_kurt}\n",
    "\n"
   ]
  },
  {
   "cell_type": "code",
   "execution_count": 38,
   "id": "42ba9f0e-df02-41ad-b49c-e8cb69ede31b",
   "metadata": {
    "tags": []
   },
   "outputs": [],
   "source": [
    "# idx = 0\n",
    "# example_umap = output_maps_for_umaps[IDs[idx][1]][0].cuda()\n",
    "# example_smap = output_maps_for_pred[IDs[idx][1]][2].cuda()\n",
    "# example_vmap = vent_maps[idx].cuda()\n",
    "\n",
    "# vmap_ds = downsample_3d(example_vmap)\n",
    "# umap_ds = downsample_3d(example_umap)\n",
    "# ut_ds = umap_ds > 0.1\n",
    "# ut = example_umap > 0.1\n",
    "# conn_comps = get_conn_comps(ut)\n",
    "\n",
    "# distances_closest, distance_map = min_distances(ut_ds, vmap_ds)\n",
    "# distance_map = F.interpolate(distance_map.view(1, 1, *distance_map.shape), example_umap.shape, mode='trilinear').squeeze()"
   ]
  },
  {
   "cell_type": "code",
   "execution_count": 39,
   "id": "27b30691-96b1-4505-837e-ed520d4f39d8",
   "metadata": {
    "tags": []
   },
   "outputs": [],
   "source": [
    "# cc_data = conn_comp_basic_stats(example_umap, conn_comps, example_smap, distance_map) # from this we could get the mean mean, mean std, mean skew and mean kurtosis for each threshold I guess. # that would be somewhat interesting"
   ]
  },
  {
   "cell_type": "code",
   "execution_count": 40,
   "id": "9d108785-7bdc-4b9c-a1c3-3c8ece10e7e1",
   "metadata": {
    "tags": []
   },
   "outputs": [],
   "source": [
    "# cc_data[\"num\"], cc_data[\"unsegmented_ccs\"]"
   ]
  },
  {
   "cell_type": "code",
   "execution_count": 41,
   "id": "2c033fce-1615-4392-827f-794d54d1046f",
   "metadata": {
    "tags": []
   },
   "outputs": [],
   "source": [
    "# cc_data[\"log_sizes\"] = torch.Tensor(cc_data['sizes']).log()\n",
    "# sns.jointplot(cc_data, y=\"vent_dists\", x=\"log_sizes\", bins=5, kind='hist')"
   ]
  },
  {
   "cell_type": "code",
   "execution_count": 42,
   "id": "cd6c462d-9c5a-4e15-a9fe-80102b7611d0",
   "metadata": {
    "tags": []
   },
   "outputs": [],
   "source": [
    "def joint_hist_values(data, x, y, minx, maxx, miny, maxy, bins=5):\n",
    "    values = torch.stack([torch.Tensor(data[x]), torch.Tensor(data[y])], dim=1) # shape [N, 2]\n",
    "    values = values.expand((bins, bins, *values.shape))\n",
    "    counts = torch.zeros(bins, bins)\n",
    "    bounds_x = torch.arange(minx,maxx, (maxx-minx)/(bins+1)).to(values.device)\n",
    "    bounds_y = torch.arange(miny,maxy, (maxy-miny)/(bins+1)).to(values.device)\n",
    "    upper_xlims = bounds_x[1:].view(1, 5, 1)\n",
    "    upper_ylims = bounds_y[1:].view(5, 1, 1)\n",
    "    lower_xlims = bounds_x[:-1].view(1, 5, 1)\n",
    "    lower_ylims = bounds_y[:-1].view(5, 1, 1)\n",
    "    counts = (values[:,:,:,0] < upper_xlims) * (values[:,:,:,0] > lower_xlims) * (values[:,:,:,1] < upper_ylims) * (values[:,:,:,1] > lower_ylims)\n",
    "    counts = counts.sum(dim=-1)\n",
    "\n",
    "    Z = counts.sum()\n",
    "    counts = counts / Z\n",
    "    return counts\n",
    "\n",
    "\n",
    "# def joint_hist_values2(data, x, y, minx, maxx, miny, maxy, bins=5):\n",
    "#     values = torch.stack([torch.Tensor(data[x]), torch.Tensor(data[y])], dim=1) # shape [N, 2]\n",
    "#     #values = values.expand((bins, bins, *values.shape))\n",
    "#     counts = torch.zeros(bins, bins)\n",
    "#     bounds_x = torch.arange(minx,maxx, (maxx-minx)/(bins+1))\n",
    "#     bounds_y = torch.arange(miny,maxy, (maxy-miny)/(bins+1))\n",
    "#     upper_xlims = bounds_x[1:]\n",
    "#     upper_ylims = bounds_y[1:]\n",
    "#     lower_xlims = bounds_x[:-1]\n",
    "#     lower_ylims = bounds_y[:-1]\n",
    "#     for i, (x1, x2) in enumerate(zip(lower_xlims, upper_xlims)):\n",
    "#         for j, (y1,y2) in enumerate(zip(lower_ylims, upper_ylims)):\n",
    "#             counts[i][j] = ((values[:,0] < x2) * (values[:,0] > x1) * (values[:,1] < y2) * (values[:,1] > y1)).sum()\n",
    "#     # counts = counts.sum(dim=-1)\n",
    "\n",
    "#     Z = counts.sum()\n",
    "#     counts = counts / Z\n",
    "#     return counts"
   ]
  },
  {
   "cell_type": "code",
   "execution_count": 43,
   "id": "37d0eba6-39ad-4676-bd96-ebef6cceacc5",
   "metadata": {
    "tags": []
   },
   "outputs": [],
   "source": [
    "# joint_counts = joint_hist_values2(cc_data, \"log_sizes\", \"vent_dists\", 0, 8, 0, 10, 5)"
   ]
  },
  {
   "cell_type": "code",
   "execution_count": 44,
   "id": "2b06d7ae-154d-4dc5-ba32-07aa021a43cb",
   "metadata": {
    "tags": []
   },
   "outputs": [],
   "source": [
    "# joint_counts.shape"
   ]
  },
  {
   "cell_type": "code",
   "execution_count": 45,
   "id": "2308fdae-8544-4b23-b8fb-3652fda95e33",
   "metadata": {
    "tags": []
   },
   "outputs": [],
   "source": [
    "# plt.imshow(joint_counts); plt.colorbar()"
   ]
  },
  {
   "cell_type": "code",
   "execution_count": 46,
   "id": "020e6a43-cbd8-49b1-b338-e4859b4775cd",
   "metadata": {
    "tags": []
   },
   "outputs": [],
   "source": [
    "# cc_data[\"num\"], cc_data[\"unsegmented_ccs\"]"
   ]
  },
  {
   "cell_type": "code",
   "execution_count": 47,
   "id": "a0a2b95e-a3db-4d48-bc37-a1a68cce0e2b",
   "metadata": {
    "tags": []
   },
   "outputs": [],
   "source": [
    "# summary statistics of log conn comp size:\n",
    "# cc_summary_stats = gaussian_summary_statistics(torch.Tensor(cc_data['sizes']).log())"
   ]
  },
  {
   "cell_type": "code",
   "execution_count": 48,
   "id": "71afb931-324e-496b-b279-befd02a32062",
   "metadata": {
    "tags": []
   },
   "outputs": [],
   "source": [
    "# sum, mean , std, skew, kurtosis of log size of connected components.\n",
    "# cc_summary_stats"
   ]
  },
  {
   "cell_type": "code",
   "execution_count": 49,
   "id": "0ee07ab6-ca8b-4e72-861d-f5d07d88acda",
   "metadata": {
    "tags": []
   },
   "outputs": [],
   "source": [
    "# histogram_distribution(torch.Tensor(cc_data['sizes']).log(), 10)"
   ]
  },
  {
   "cell_type": "code",
   "execution_count": 50,
   "id": "2e29135a-257e-4aa4-b4f4-2d46da0757cd",
   "metadata": {
    "tags": []
   },
   "outputs": [],
   "source": [
    "# plt.hist(torch.Tensor(cc_data['sizes']).log(), bins=10);"
   ]
  },
  {
   "cell_type": "code",
   "execution_count": 51,
   "id": "2432d653-937d-45bc-bbcf-3830a8d46e14",
   "metadata": {
    "tags": []
   },
   "outputs": [],
   "source": [
    "# sns.jointplot(data=cc_data, x=\"sizes\", y=\"kurts\")\n",
    "# plt.xscale('log')"
   ]
  },
  {
   "cell_type": "code",
   "execution_count": 52,
   "id": "3804b34f-ffc4-4d8d-bac5-c4780be9738c",
   "metadata": {
    "tags": []
   },
   "outputs": [],
   "source": [
    "# lets get basic distribution of connected component numbers and size. Then we can get some interesting plots later, so collect as much interesting information as possible...\n",
    "# I can compare this to number and size of connected components in the predicted map (at say tau > 0.5?)\n",
    "# I should get distance of each connected component from the ventricles and size. yes that is a good plot\n",
    "# also distance from the binarized segmentation... (but I need to be careful and do this for pred as well as umap)."
   ]
  },
  {
   "cell_type": "markdown",
   "id": "8b04e44d-d410-4598-a51a-7f5fdbb6c47d",
   "metadata": {},
   "source": [
    "### Uncertainty values that I intended to extract from the umap\n",
    "\n",
    "For SSN Ens for the ent and var maps, and SSN Ens Mean for the pred and seg maps. Nice.\n",
    "I should capture all of these metrics across a variety of metrics, and I can tune the thresholds in cross validation. simples.\n",
    "It may be the case that ent + var together give us some more information. That would be interesting.\n",
    "\n",
    "`output_maps_for_umaps` is the SSN_Ens output\n",
    "`output_maps_for_mean` is the SSN_Ens_mean output\n",
    "\n",
    "- [x] sum\n",
    "- [x] mean\n",
    "- [x] std\n",
    "- [x] skew\n",
    "- [x] kurtosis\n",
    "- [x] kde bins?\n",
    "- [x] ventricle size\n",
    "- [x] intensity distribution (need to ensure that the min and max of the bins are the same across all individuals) \n",
    "- [x] number of connected components\n",
    "- [x] size of connected components distribution, need to ensure that the min and max of the bins are the same across all individuals.\n",
    "- [x] number / distribution of connected components that have no overlap with the segmented mask... (again I need the umap and the pred map to do this) (and I should also compare to the seg map as well perhaps)\n",
    "- [x] uncertainty sum, mean, skew, kurtosis of each connected component. That may be interesting to plot.\n",
    "- [-] distance to the WMH binarized segmentation for each connected component (try to separate out those connected components that are highlighting other stuff).\n",
    "- [-] proportion of the segmented edge deemed uncertain (if we expand the edge of the segmentation then calculate the proportion, we can get the sum of the uncertainty that\n",
    "- [x] proportion of segmented area deemed uncertain (this requires access to SSN Ens and SSN Ens Mean at the same time\n",
    "- [x] proportion of uncertain area that is within the segmentation + edge area\n",
    "- [x] distribution of size of connected components (sum, mean, std, skew)\n",
    "- [x] distance from the ventricles (could do this in x, y and z distributions, or just overall...) I could measure distance x intensity\n",
    "- [x] stats for distance from the ventricles (mean, std, skew, kurtosis, etc)\n",
    "- [x] mean distance from the ventricles of each connected component joint with size in a 5x5 and 10x10 bin option I think. again ensure that the \n",
    "- [ ] predicted seg volume."
   ]
  },
  {
   "cell_type": "markdown",
   "id": "ec8e64dc-0b08-43a4-9e57-51a5468ab30c",
   "metadata": {},
   "source": [
    "### turning all of the above into a big loop\n",
    "\n",
    "need to compute values for:\n",
    "- [x] ent map\n",
    "- [x] var map\n",
    "- [x] pred map\n",
    "- [x] loop over [0.1, 0.15, 0.2, 0.25, 0.3, 0.35, 0.4, 0.45, 0.5] as threshold for ent map\n",
    "- [x] loop over [0.1, 0.2, 0.3, 0.4, 0.5, 0.6] for pred map\n",
    "- [x] loop over ? for ent map"
   ]
  },
  {
   "cell_type": "code",
   "execution_count": 53,
   "id": "5937bcb1-ccf1-4cd2-a703-586883fcea46",
   "metadata": {
    "tags": []
   },
   "outputs": [
    {
     "name": "stderr",
     "output_type": "stream",
     "text": [
      "  0%|                                                                                                                                                                 | 0/290 [00:00<?, ?it/s]"
     ]
    },
    {
     "name": "stdout",
     "output_type": "stream",
     "text": [
      "ADNI_002_S_0729_20110816\n"
     ]
    },
    {
     "name": "stderr",
     "output_type": "stream",
     "text": [
      "/tmp/ipykernel_344931/1284179010.py:5: RuntimeWarning: Precision loss occurred in moment calculation due to catastrophic cancellation. This occurs when the data are nearly identical. Results may be unreliable.\n",
      "  skew = scipy.stats.skew(values)\n",
      "/tmp/ipykernel_344931/1284179010.py:6: RuntimeWarning: Precision loss occurred in moment calculation due to catastrophic cancellation. This occurs when the data are nearly identical. Results may be unreliable.\n",
      "  kurtosis = scipy.stats.kurtosis(values, fisher=False)\n"
     ]
    },
    {
     "name": "stdout",
     "output_type": "stream",
     "text": [
      "144 129\n",
      "123 94\n",
      "152 79\n",
      "303 104\n",
      "440 133\n",
      "564 153\n",
      "83 57\n",
      "62 28\n",
      "57 19\n",
      "55 10\n",
      "55 0\n"
     ]
    },
    {
     "name": "stderr",
     "output_type": "stream",
     "text": [
      "  0%|▌                                                                                                                                                        | 1/290 [00:08<40:01,  8.31s/it]"
     ]
    },
    {
     "name": "stdout",
     "output_type": "stream",
     "text": [
      "47 0\n",
      "ADNI_002_S_1155_20111222\n",
      "207 193\n",
      "134 115\n",
      "115 88\n",
      "124 71\n",
      "127 59\n",
      "132 51\n",
      "105 84\n",
      "64 40\n",
      "53 28\n",
      "40 13\n"
     ]
    },
    {
     "name": "stderr",
     "output_type": "stream",
     "text": [
      "  1%|█                                                                                                                                                        | 2/290 [00:10<23:00,  4.79s/it]"
     ]
    },
    {
     "name": "stdout",
     "output_type": "stream",
     "text": [
      "34 0\n",
      "28 0\n",
      "ADNI_002_S_1261_20110314\n",
      "135 121\n",
      "91 71\n",
      "69 46\n",
      "75 41\n",
      "83 43\n",
      "94 32\n",
      "68 44\n",
      "57 31\n",
      "45 16\n"
     ]
    },
    {
     "name": "stderr",
     "output_type": "stream",
     "text": [
      "  1%|█▌                                                                                                                                                       | 3/290 [00:12<15:47,  3.30s/it]"
     ]
    },
    {
     "name": "stdout",
     "output_type": "stream",
     "text": [
      "42 13\n",
      "32 0\n",
      "28 0\n",
      "ADNI_002_S_1280_20110504\n",
      "142 120\n",
      "110 81\n",
      "166 96\n",
      "281 105\n",
      "364 126\n",
      "462 142\n",
      "91 64\n",
      "67 34\n",
      "56 20\n",
      "46 7\n"
     ]
    },
    {
     "name": "stderr",
     "output_type": "stream",
     "text": [
      "  1%|██                                                                                                                                                       | 4/290 [00:15<15:18,  3.21s/it]"
     ]
    },
    {
     "name": "stdout",
     "output_type": "stream",
     "text": [
      "49 0\n",
      "50 0\n",
      "ADNI_002_S_2010_20101022\n",
      "140 126\n",
      "85 70\n",
      "66 46\n",
      "54 32\n",
      "61 31\n",
      "65 29\n",
      "51 35\n",
      "31 14\n"
     ]
    },
    {
     "name": "stderr",
     "output_type": "stream",
     "text": [
      "  2%|██▋                                                                                                                                                      | 5/290 [00:17<12:56,  2.73s/it]"
     ]
    },
    {
     "name": "stdout",
     "output_type": "stream",
     "text": [
      "26 9\n",
      "25 5\n",
      "20 0\n",
      "17 0\n",
      "ADNI_002_S_4213_20111205\n",
      "147 122\n",
      "103 76\n",
      "106 68\n",
      "101 51\n",
      "103 47\n",
      "126 55\n",
      "92 63\n",
      "74 43\n",
      "53 21\n",
      "47 13\n"
     ]
    },
    {
     "name": "stderr",
     "output_type": "stream",
     "text": [
      "  2%|███▏                                                                                                                                                     | 6/290 [00:19<12:09,  2.57s/it]"
     ]
    },
    {
     "name": "stdout",
     "output_type": "stream",
     "text": [
      "37 0\n",
      "34 0\n",
      "ADNI_002_S_4225_20111226\n",
      "251 219\n",
      "165 128\n",
      "133 89\n",
      "128 70\n",
      "138 65\n",
      "169 73\n",
      "121 79\n",
      "90 44\n",
      "85 33\n",
      "79 16\n"
     ]
    },
    {
     "name": "stderr",
     "output_type": "stream",
     "text": [
      "  2%|███▋                                                                                                                                                     | 7/290 [00:21<12:00,  2.55s/it]"
     ]
    },
    {
     "name": "stdout",
     "output_type": "stream",
     "text": [
      "72 0\n",
      "65 0\n",
      "ADNI_002_S_4229_20111221\n",
      "296 251\n",
      "259 197\n",
      "235 159\n",
      "269 136\n",
      "327 142\n",
      "394 159\n",
      "217 146\n",
      "176 90\n",
      "161 61\n",
      "152 35\n",
      "134 0\n"
     ]
    },
    {
     "name": "stderr",
     "output_type": "stream",
     "text": [
      "  3%|████▏                                                                                                                                                    | 8/290 [00:26<15:24,  3.28s/it]"
     ]
    },
    {
     "name": "stdout",
     "output_type": "stream",
     "text": [
      "122 0\n",
      "ADNI_002_S_4237_20110926\n",
      "342 297\n",
      "282 223\n",
      "277 190\n",
      "328 174\n",
      "399 182\n",
      "466 181\n",
      "245 173\n",
      "207 116\n",
      "205 89\n",
      "173 41\n",
      "177 0\n"
     ]
    },
    {
     "name": "stderr",
     "output_type": "stream",
     "text": [
      "  3%|████▋                                                                                                                                                    | 9/290 [00:33<20:02,  4.28s/it]"
     ]
    },
    {
     "name": "stdout",
     "output_type": "stream",
     "text": [
      "158 0\n",
      "ADNI_002_S_4262_20111005\n",
      "280 235\n",
      "246 188\n",
      "283 189\n",
      "403 180\n",
      "538 212\n",
      "729 253\n",
      "222 152\n",
      "188 94\n",
      "161 56\n",
      "144 24\n",
      "139 0\n"
     ]
    },
    {
     "name": "stderr",
     "output_type": "stream",
     "text": [
      "  3%|█████▏                                                                                                                                                  | 10/290 [00:39<22:10,  4.75s/it]"
     ]
    },
    {
     "name": "stdout",
     "output_type": "stream",
     "text": [
      "141 0\n",
      "ADNI_002_S_4270_20111011\n",
      "148 134\n",
      "114 95\n",
      "105 75\n",
      "157 81\n",
      "187 77\n",
      "248 89\n",
      "84 62\n",
      "68 41\n",
      "51 21\n",
      "46 9\n"
     ]
    },
    {
     "name": "stderr",
     "output_type": "stream",
     "text": [
      "  4%|█████▊                                                                                                                                                  | 11/290 [00:41<18:26,  3.97s/it]"
     ]
    },
    {
     "name": "stdout",
     "output_type": "stream",
     "text": [
      "44 0\n",
      "41 0\n",
      "ADNI_002_S_4447_20120814\n",
      "168 140\n",
      "99 70\n",
      "109 62\n",
      "162 70\n",
      "198 79\n",
      "236 85\n",
      "76 44\n",
      "71 32\n",
      "66 22\n"
     ]
    },
    {
     "name": "stderr",
     "output_type": "stream",
     "text": [
      "  4%|██████▎                                                                                                                                                 | 12/290 [00:43<16:00,  3.46s/it]"
     ]
    },
    {
     "name": "stdout",
     "output_type": "stream",
     "text": [
      "61 13\n",
      "55 0\n",
      "47 0\n",
      "ADNI_002_S_4473_20120823\n",
      "385 337\n",
      "301 243\n",
      "256 181\n",
      "238 142\n",
      "244 124\n",
      "273 126\n",
      "225 161\n",
      "170 94\n",
      "148 58\n",
      "139 37\n",
      "122 0\n"
     ]
    },
    {
     "name": "stderr",
     "output_type": "stream",
     "text": [
      "  4%|██████▊                                                                                                                                                 | 13/290 [00:47<16:55,  3.67s/it]"
     ]
    },
    {
     "name": "stdout",
     "output_type": "stream",
     "text": [
      "100 0\n",
      "ADNI_002_S_4521_20120904\n",
      "228 209\n",
      "170 147\n",
      "134 101\n",
      "133 78\n",
      "140 67\n",
      "169 66\n",
      "111 86\n",
      "77 48\n",
      "59 22\n",
      "50 9\n",
      "43 0\n"
     ]
    },
    {
     "name": "stderr",
     "output_type": "stream",
     "text": [
      "  5%|███████▎                                                                                                                                                | 14/290 [00:50<15:58,  3.47s/it]"
     ]
    },
    {
     "name": "stdout",
     "output_type": "stream",
     "text": [
      "42 0\n",
      "ADNI_002_S_4654_20121023\n",
      "217 195\n",
      "139 113\n",
      "121 85\n",
      "125 60\n",
      "173 61\n",
      "220 74\n",
      "93 63\n",
      "66 34\n",
      "61 27\n"
     ]
    },
    {
     "name": "stderr",
     "output_type": "stream",
     "text": [
      "  5%|███████▊                                                                                                                                                | 15/290 [00:53<15:06,  3.30s/it]"
     ]
    },
    {
     "name": "stdout",
     "output_type": "stream",
     "text": [
      "56 15\n",
      "45 0\n",
      "37 0\n",
      "ADNI_006_S_4150_20111107\n",
      "151 136\n",
      "110 91\n",
      "91 70\n",
      "112 61\n",
      "128 62\n",
      "151 59\n",
      "78 62\n",
      "53 36\n",
      "41 23\n",
      "28 8\n",
      "23 0\n"
     ]
    },
    {
     "name": "stderr",
     "output_type": "stream",
     "text": [
      "  6%|████████▍                                                                                                                                               | 16/290 [00:55<12:54,  2.83s/it]"
     ]
    },
    {
     "name": "stdout",
     "output_type": "stream",
     "text": [
      "24 0\n",
      "ADNI_006_S_4153_20111104\n",
      "142 135\n",
      "108 96\n",
      "84 66\n",
      "116 69\n",
      "159 77\n",
      "226 87\n",
      "72 57\n",
      "71 50\n",
      "53 27\n",
      "41 14\n"
     ]
    },
    {
     "name": "stderr",
     "output_type": "stream",
     "text": [
      "  6%|████████▉                                                                                                                                               | 17/290 [00:57<11:45,  2.59s/it]"
     ]
    },
    {
     "name": "stdout",
     "output_type": "stream",
     "text": [
      "36 0\n",
      "33 0\n",
      "ADNI_006_S_4192_20111215\n",
      "308 263\n",
      "249 189\n",
      "226 147\n",
      "252 131\n",
      "275 117\n",
      "316 122\n",
      "200 132\n",
      "154 75\n",
      "134 45\n",
      "127 27\n",
      "118 0\n"
     ]
    },
    {
     "name": "stderr",
     "output_type": "stream",
     "text": [
      "  6%|█████████▍                                                                                                                                              | 18/290 [01:01<13:34,  2.99s/it]"
     ]
    },
    {
     "name": "stdout",
     "output_type": "stream",
     "text": [
      "98 0\n",
      "ADNI_006_S_4357_20111128\n",
      "151 143\n",
      "108 88\n",
      "92 61\n",
      "106 55\n",
      "125 55\n",
      "145 47\n",
      "72 53\n",
      "59 31\n",
      "53 20\n"
     ]
    },
    {
     "name": "stderr",
     "output_type": "stream",
     "text": [
      "  7%|█████████▉                                                                                                                                              | 19/290 [01:03<11:55,  2.64s/it]"
     ]
    },
    {
     "name": "stdout",
     "output_type": "stream",
     "text": [
      "55 16\n",
      "44 0\n",
      "37 0\n",
      "ADNI_006_S_4363_20111116\n",
      "119 110\n",
      "81 66\n",
      "73 55\n",
      "71 40\n",
      "86 44\n",
      "114 54\n",
      "68 51\n",
      "49 31\n",
      "46 24\n"
     ]
    },
    {
     "name": "stderr",
     "output_type": "stream",
     "text": [
      "  7%|██████████▍                                                                                                                                             | 20/290 [01:04<10:18,  2.29s/it]"
     ]
    },
    {
     "name": "stdout",
     "output_type": "stream",
     "text": [
      "38 11\n",
      "39 0\n",
      "39 0\n",
      "ADNI_006_S_4485_20120824\n",
      "249 204\n",
      "227 171\n",
      "278 152\n",
      "442 149\n",
      "542 170\n",
      "665 180\n",
      "153 103\n",
      "113 56\n",
      "95 26\n",
      "84 12\n"
     ]
    },
    {
     "name": "stderr",
     "output_type": "stream",
     "text": [
      "  7%|███████████                                                                                                                                             | 21/290 [01:09<13:37,  3.04s/it]"
     ]
    },
    {
     "name": "stdout",
     "output_type": "stream",
     "text": [
      "79 0\n",
      "77 0\n",
      "ADNI_006_S_4679_20120601\n",
      "208 180\n",
      "142 106\n",
      "166 98\n",
      "217 86\n",
      "259 91\n",
      "287 84\n",
      "114 76\n",
      "80 35\n",
      "72 26\n",
      "65 14\n",
      "61 0\n"
     ]
    },
    {
     "name": "stderr",
     "output_type": "stream",
     "text": [
      "  8%|███████████▌                                                                                                                                            | 22/290 [01:12<13:17,  2.98s/it]"
     ]
    },
    {
     "name": "stdout",
     "output_type": "stream",
     "text": [
      "53 0\n",
      "ADNI_006_S_4713_20121128\n",
      "187 174\n",
      "119 100\n",
      "102 77\n",
      "122 63\n",
      "153 57\n",
      "199 60\n",
      "80 61\n",
      "51 30\n",
      "41 16\n",
      "40 12\n"
     ]
    },
    {
     "name": "stderr",
     "output_type": "stream",
     "text": [
      "  8%|████████████                                                                                                                                            | 23/290 [01:14<11:58,  2.69s/it]"
     ]
    },
    {
     "name": "stdout",
     "output_type": "stream",
     "text": [
      "37 0\n",
      "29 0\n",
      "ADNI_006_S_4960_20121009\n",
      "251 212\n",
      "219 171\n",
      "197 135\n",
      "206 107\n",
      "221 102\n",
      "269 103\n",
      "175 115\n",
      "141 69\n",
      "128 45\n",
      "128 28\n",
      "121 0\n"
     ]
    },
    {
     "name": "stderr",
     "output_type": "stream",
     "text": [
      "  8%|████████████▌                                                                                                                                           | 24/290 [01:18<14:35,  3.29s/it]"
     ]
    },
    {
     "name": "stdout",
     "output_type": "stream",
     "text": [
      "118 0\n",
      "ADNI_009_S_2208_20101201\n",
      "122 105\n",
      "98 73\n",
      "86 50\n",
      "101 51\n",
      "121 48\n",
      "155 50\n",
      "66 45\n",
      "50 27\n",
      "46 19\n",
      "40 9\n"
     ]
    },
    {
     "name": "stderr",
     "output_type": "stream",
     "text": [
      "  9%|█████████████                                                                                                                                           | 25/290 [01:20<12:47,  2.90s/it]"
     ]
    },
    {
     "name": "stdout",
     "output_type": "stream",
     "text": [
      "36 0\n",
      "35 0\n",
      "ADNI_009_S_4324_20111101\n",
      "128 117\n",
      "92 77\n",
      "103 62\n",
      "148 61\n",
      "169 55\n",
      "205 58\n",
      "66 51\n",
      "51 32\n",
      "47 23\n",
      "38 9\n"
     ]
    },
    {
     "name": "stderr",
     "output_type": "stream",
     "text": [
      "  9%|█████████████▋                                                                                                                                          | 26/290 [01:22<11:26,  2.60s/it]"
     ]
    },
    {
     "name": "stdout",
     "output_type": "stream",
     "text": [
      "36 0\n",
      "32 0\n",
      "ADNI_009_S_4359_20111205\n",
      "122 110\n",
      "87 71\n",
      "88 48\n",
      "150 58\n",
      "183 62\n",
      "236 74\n",
      "57 42\n",
      "44 27\n",
      "36 17\n",
      "38 11\n",
      "32 0\n"
     ]
    },
    {
     "name": "stderr",
     "output_type": "stream",
     "text": [
      "  9%|██████████████▏                                                                                                                                         | 27/290 [01:24<10:28,  2.39s/it]"
     ]
    },
    {
     "name": "stdout",
     "output_type": "stream",
     "text": [
      "29 0\n",
      "ADNI_009_S_4388_20111213\n",
      "112 104\n",
      "98 81\n",
      "76 46\n",
      "108 44\n",
      "146 48\n",
      "171 42\n",
      "50 38\n",
      "34 21\n"
     ]
    },
    {
     "name": "stderr",
     "output_type": "stream",
     "text": [
      " 10%|██████████████▋                                                                                                                                         | 28/290 [01:26<09:23,  2.15s/it]"
     ]
    },
    {
     "name": "stdout",
     "output_type": "stream",
     "text": [
      "24 10\n",
      "25 10\n",
      "19 0\n",
      "19 0\n",
      "ADNI_009_S_4543_20120912\n",
      "101 85\n",
      "73 52\n",
      "70 34\n",
      "128 37\n",
      "167 45\n",
      "206 50\n",
      "53 31\n",
      "42 18\n",
      "40 13\n",
      "36 7\n",
      "31 0\n"
     ]
    },
    {
     "name": "stderr",
     "output_type": "stream",
     "text": [
      " 10%|███████████████▏                                                                                                                                        | 29/290 [01:27<08:47,  2.02s/it]"
     ]
    },
    {
     "name": "stdout",
     "output_type": "stream",
     "text": [
      "36 0\n",
      "ADNI_009_S_4612_20121011\n",
      "190 142\n",
      "191 127\n",
      "217 115\n",
      "306 110\n",
      "392 127\n",
      "507 149\n",
      "167 96\n",
      "144 59\n",
      "131 38\n",
      "128 21\n"
     ]
    },
    {
     "name": "stderr",
     "output_type": "stream",
     "text": [
      " 10%|███████████████▋                                                                                                                                        | 30/290 [01:32<11:35,  2.67s/it]"
     ]
    },
    {
     "name": "stdout",
     "output_type": "stream",
     "text": [
      "127 0\n",
      "121 0\n",
      "ADNI_009_S_4741_20121015\n",
      "230 199\n",
      "165 128\n",
      "143 102\n",
      "201 112\n",
      "228 110\n",
      "270 107\n",
      "137 101\n",
      "130 79\n",
      "116 58\n",
      "96 27\n",
      "81 0\n"
     ]
    },
    {
     "name": "stderr",
     "output_type": "stream",
     "text": [
      " 11%|████████████████▏                                                                                                                                       | 31/290 [01:35<12:02,  2.79s/it]"
     ]
    },
    {
     "name": "stdout",
     "output_type": "stream",
     "text": [
      "69 0\n",
      "ADNI_010_S_4345_20120920\n",
      "176 155\n",
      "145 122\n",
      "143 101\n",
      "185 89\n",
      "229 97\n",
      "275 111\n",
      "123 96\n",
      "81 51\n",
      "69 34\n",
      "54 15\n",
      "45 0\n"
     ]
    },
    {
     "name": "stderr",
     "output_type": "stream",
     "text": [
      " 11%|████████████████▊                                                                                                                                       | 32/290 [01:37<11:44,  2.73s/it]"
     ]
    },
    {
     "name": "stdout",
     "output_type": "stream",
     "text": [
      "32 0\n",
      "ADNI_011_S_0021_20101008\n",
      "185 168\n",
      "126 103\n",
      "94 68\n",
      "94 54\n",
      "103 48\n",
      "124 50\n",
      "90 64\n",
      "67 39\n",
      "58 27\n",
      "47 14\n"
     ]
    },
    {
     "name": "stderr",
     "output_type": "stream",
     "text": [
      " 11%|█████████████████▎                                                                                                                                      | 33/290 [01:39<10:36,  2.48s/it]"
     ]
    },
    {
     "name": "stdout",
     "output_type": "stream",
     "text": [
      "39 0\n",
      "40 0\n",
      "ADNI_011_S_0023_20121227\n",
      "153 136\n",
      "99 77\n",
      "83 53\n",
      "105 49\n",
      "138 54\n",
      "163 52\n",
      "68 45\n",
      "53 22\n",
      "45 13\n",
      "45 8\n"
     ]
    },
    {
     "name": "stderr",
     "output_type": "stream",
     "text": [
      " 12%|█████████████████▊                                                                                                                                      | 34/290 [01:41<09:41,  2.27s/it]"
     ]
    },
    {
     "name": "stdout",
     "output_type": "stream",
     "text": [
      "43 0\n",
      "43 0\n",
      "ADNI_011_S_2274_20110818\n",
      "235 222\n",
      "156 142\n",
      "128 101\n",
      "171 99\n",
      "195 94\n",
      "242 90\n",
      "105 87\n",
      "92 67\n",
      "68 38\n"
     ]
    },
    {
     "name": "stderr",
     "output_type": "stream",
     "text": [
      " 12%|██████████████████▎                                                                                                                                     | 35/290 [01:44<10:03,  2.37s/it]"
     ]
    },
    {
     "name": "stdout",
     "output_type": "stream",
     "text": [
      "57 21\n",
      "48 0\n",
      "37 0\n",
      "ADNI_011_S_4075_20111214\n",
      "143 135\n",
      "86 78\n",
      "84 70\n",
      "120 69\n",
      "143 64\n",
      "174 61\n",
      "69 61\n",
      "48 37\n",
      "39 24\n",
      "35 13\n"
     ]
    },
    {
     "name": "stderr",
     "output_type": "stream",
     "text": [
      " 12%|██████████████████▊                                                                                                                                     | 36/290 [01:45<09:15,  2.19s/it]"
     ]
    },
    {
     "name": "stdout",
     "output_type": "stream",
     "text": [
      "30 0\n",
      "34 0\n",
      "ADNI_011_S_4105_20111005\n",
      "151 140\n",
      "113 94\n",
      "99 69\n",
      "127 66\n",
      "157 72\n",
      "169 70\n",
      "82 61\n",
      "63 42\n",
      "45 23\n",
      "40 12\n"
     ]
    },
    {
     "name": "stderr",
     "output_type": "stream",
     "text": [
      " 13%|███████████████████▍                                                                                                                                    | 37/290 [01:47<08:52,  2.11s/it]"
     ]
    },
    {
     "name": "stdout",
     "output_type": "stream",
     "text": [
      "33 0\n",
      "32 0\n",
      "ADNI_011_S_4120_20111010\n",
      "165 154\n",
      "108 92\n",
      "90 55\n",
      "148 58\n",
      "209 72\n",
      "291 88\n",
      "58 46\n",
      "36 22\n"
     ]
    },
    {
     "name": "stderr",
     "output_type": "stream",
     "text": [
      " 13%|███████████████████▉                                                                                                                                    | 38/290 [01:49<08:46,  2.09s/it]"
     ]
    },
    {
     "name": "stdout",
     "output_type": "stream",
     "text": [
      "28 13\n",
      "28 9\n",
      "24 0\n",
      "21 0\n",
      "ADNI_011_S_4222_20111207\n",
      "163 145\n",
      "123 104\n",
      "141 89\n",
      "201 79\n",
      "257 91\n",
      "304 96\n",
      "95 68\n",
      "73 40\n",
      "55 20\n"
     ]
    },
    {
     "name": "stderr",
     "output_type": "stream",
     "text": [
      " 13%|████████████████████▍                                                                                                                                   | 39/290 [01:52<09:20,  2.23s/it]"
     ]
    },
    {
     "name": "stdout",
     "output_type": "stream",
     "text": [
      "54 14\n",
      "49 0\n",
      "43 0\n",
      "ADNI_011_S_4235_20111219\n",
      "270 240\n",
      "206 173\n",
      "171 115\n",
      "190 97\n",
      "220 102\n",
      "270 115\n",
      "142 104\n",
      "123 75\n",
      "96 42\n",
      "78 19\n",
      "68 0\n"
     ]
    },
    {
     "name": "stderr",
     "output_type": "stream",
     "text": [
      " 14%|████████████████████▉                                                                                                                                   | 40/290 [01:55<10:34,  2.54s/it]"
     ]
    },
    {
     "name": "stdout",
     "output_type": "stream",
     "text": [
      "61 0\n",
      "ADNI_011_S_4278_20111013\n",
      "181 163\n",
      "121 97\n",
      "131 88\n",
      "144 63\n",
      "187 67\n",
      "249 85\n",
      "103 76\n",
      "78 46\n",
      "69 29\n",
      "71 19\n",
      "60 0\n"
     ]
    },
    {
     "name": "stderr",
     "output_type": "stream",
     "text": [
      " 14%|█████████████████████▍                                                                                                                                  | 41/290 [01:58<10:22,  2.50s/it]"
     ]
    },
    {
     "name": "stdout",
     "output_type": "stream",
     "text": [
      "53 0\n",
      "ADNI_011_S_4547_20120912\n",
      "236 213\n",
      "174 136\n",
      "212 127\n",
      "301 121\n",
      "356 124\n",
      "424 139\n",
      "126 94\n",
      "84 50\n",
      "69 31\n",
      "64 21\n"
     ]
    },
    {
     "name": "stderr",
     "output_type": "stream",
     "text": [
      " 14%|██████████████████████                                                                                                                                  | 42/290 [02:01<11:38,  2.82s/it]"
     ]
    },
    {
     "name": "stdout",
     "output_type": "stream",
     "text": [
      "52 0\n",
      "50 0\n",
      "ADNI_012_S_4012_20111107\n",
      "115 104\n",
      "83 70\n",
      "68 47\n",
      "74 39\n",
      "71 30\n",
      "77 33\n",
      "56 41\n",
      "36 17\n",
      "29 9\n"
     ]
    },
    {
     "name": "stderr",
     "output_type": "stream",
     "text": [
      " 15%|██████████████████████▌                                                                                                                                 | 43/290 [02:02<09:45,  2.37s/it]"
     ]
    },
    {
     "name": "stdout",
     "output_type": "stream",
     "text": [
      "26 4\n",
      "23 0\n",
      "20 0\n",
      "ADNI_012_S_4094_20111006\n",
      "149 130\n",
      "103 83\n",
      "85 61\n",
      "79 45\n",
      "73 34\n",
      "73 30\n",
      "76 54\n",
      "48 24\n",
      "42 15\n"
     ]
    },
    {
     "name": "stderr",
     "output_type": "stream",
     "text": [
      " 15%|███████████████████████                                                                                                                                 | 44/290 [02:04<08:36,  2.10s/it]"
     ]
    },
    {
     "name": "stdout",
     "output_type": "stream",
     "text": [
      "37 7\n",
      "34 0\n",
      "28 0\n",
      "ADNI_012_S_4128_20111101\n",
      "227 194\n",
      "213 169\n",
      "216 154\n",
      "257 135\n",
      "296 129\n",
      "343 124\n",
      "201 145\n",
      "158 86\n",
      "144 59\n",
      "122 31\n",
      "108 0\n"
     ]
    },
    {
     "name": "stderr",
     "output_type": "stream",
     "text": [
      " 16%|███████████████████████▌                                                                                                                                | 45/290 [02:08<10:41,  2.62s/it]"
     ]
    },
    {
     "name": "stdout",
     "output_type": "stream",
     "text": [
      "85 0\n",
      "ADNI_012_S_4188_20111213\n",
      "163 146\n",
      "115 87\n",
      "137 85\n",
      "195 92\n",
      "224 92\n",
      "261 103\n",
      "86 62\n",
      "72 43\n",
      "63 31\n"
     ]
    },
    {
     "name": "stderr",
     "output_type": "stream",
     "text": [
      " 16%|████████████████████████                                                                                                                                | 46/290 [02:10<10:24,  2.56s/it]"
     ]
    },
    {
     "name": "stdout",
     "output_type": "stream",
     "text": [
      "52 17\n",
      "42 0\n",
      "39 0\n",
      "ADNI_012_S_4545_20120924\n",
      "148 121\n",
      "116 82\n",
      "112 68\n",
      "161 70\n",
      "184 76\n",
      "218 85\n",
      "91 55\n",
      "64 26\n",
      "57 17\n",
      "48 6\n"
     ]
    },
    {
     "name": "stderr",
     "output_type": "stream",
     "text": [
      " 16%|████████████████████████▋                                                                                                                               | 47/290 [02:12<09:52,  2.44s/it]"
     ]
    },
    {
     "name": "stdout",
     "output_type": "stream",
     "text": [
      "45 0\n",
      "37 0\n",
      "ADNI_012_S_4643_20120627\n",
      "123 104\n",
      "89 66\n",
      "85 58\n",
      "108 51\n",
      "121 50\n",
      "136 47\n",
      "73 48\n",
      "56 28\n",
      "48 19\n",
      "36 7\n"
     ]
    },
    {
     "name": "stderr",
     "output_type": "stream",
     "text": [
      " 17%|█████████████████████████▏                                                                                                                              | 48/290 [02:14<08:53,  2.20s/it]"
     ]
    },
    {
     "name": "stdout",
     "output_type": "stream",
     "text": [
      "33 0\n",
      "27 0\n",
      "ADNI_013_S_1186_20110223\n",
      "160 146\n",
      "115 93\n",
      "142 80\n",
      "292 99\n",
      "406 130\n",
      "479 148\n",
      "83 55\n",
      "64 32\n",
      "61 24\n"
     ]
    },
    {
     "name": "stderr",
     "output_type": "stream",
     "text": [
      " 17%|█████████████████████████▋                                                                                                                              | 49/290 [02:17<10:01,  2.50s/it]"
     ]
    },
    {
     "name": "stdout",
     "output_type": "stream",
     "text": [
      "57 18\n",
      "47 0\n",
      "41 0\n",
      "ADNI_013_S_4268_20111101\n",
      "148 131\n",
      "105 83\n",
      "83 60\n",
      "80 56\n",
      "87 57\n",
      "87 48\n",
      "82 59\n",
      "69 44\n",
      "54 26\n",
      "44 11\n",
      "34 0\n"
     ]
    },
    {
     "name": "stderr",
     "output_type": "stream",
     "text": [
      " 17%|██████████████████████████▏                                                                                                                             | 50/290 [02:19<08:54,  2.23s/it]"
     ]
    },
    {
     "name": "stdout",
     "output_type": "stream",
     "text": [
      "29 0\n",
      "ADNI_013_S_4395_20120815\n",
      "136 109\n",
      "125 81\n",
      "201 90\n",
      "446 138\n",
      "660 189\n",
      "861 237\n",
      "100 55\n",
      "87 34\n",
      "92 30\n",
      "85 17\n",
      "78 0\n"
     ]
    },
    {
     "name": "stderr",
     "output_type": "stream",
     "text": [
      " 18%|██████████████████████████▋                                                                                                                             | 51/290 [02:23<11:49,  2.97s/it]"
     ]
    },
    {
     "name": "stdout",
     "output_type": "stream",
     "text": [
      "81 0\n",
      "ADNI_013_S_4580_20121015\n",
      "230 204\n",
      "188 156\n",
      "155 106\n",
      "184 98\n",
      "233 109\n",
      "306 119\n",
      "138 100\n",
      "110 64\n",
      "94 45\n",
      "83 25\n"
     ]
    },
    {
     "name": "stderr",
     "output_type": "stream",
     "text": [
      " 18%|███████████████████████████▎                                                                                                                            | 52/290 [02:27<11:55,  3.01s/it]"
     ]
    },
    {
     "name": "stdout",
     "output_type": "stream",
     "text": [
      "68 0\n",
      "66 0\n",
      "ADNI_013_S_4595_20121024\n",
      "251 231\n",
      "158 132\n",
      "136 106\n",
      "117 73\n",
      "121 63\n",
      "139 60\n",
      "124 94\n",
      "85 49\n",
      "87 41\n",
      "74 19\n"
     ]
    },
    {
     "name": "stderr",
     "output_type": "stream",
     "text": [
      " 18%|███████████████████████████▊                                                                                                                            | 53/290 [02:29<11:06,  2.81s/it]"
     ]
    },
    {
     "name": "stdout",
     "output_type": "stream",
     "text": [
      "67 0\n",
      "50 0\n",
      "ADNI_013_S_4616_20121025\n",
      "282 246\n",
      "247 200\n",
      "260 190\n",
      "369 185\n",
      "435 182\n",
      "563 197\n",
      "218 170\n",
      "156 102\n",
      "117 53\n",
      "107 32\n",
      "96 0\n"
     ]
    },
    {
     "name": "stderr",
     "output_type": "stream",
     "text": [
      " 19%|████████████████████████████▎                                                                                                                           | 54/290 [02:34<13:12,  3.36s/it]"
     ]
    },
    {
     "name": "stdout",
     "output_type": "stream",
     "text": [
      "75 0\n",
      "ADNI_014_S_2308_20110908\n",
      "225 198\n",
      "185 142\n",
      "190 121\n",
      "209 106\n",
      "242 116\n",
      "268 111\n",
      "153 106\n",
      "129 75\n",
      "111 52\n",
      "92 25\n",
      "81 0\n"
     ]
    },
    {
     "name": "stderr",
     "output_type": "stream",
     "text": [
      " 19%|████████████████████████████▊                                                                                                                           | 55/290 [02:37<12:55,  3.30s/it]"
     ]
    },
    {
     "name": "stdout",
     "output_type": "stream",
     "text": [
      "79 0\n",
      "ADNI_014_S_4039_20111208\n",
      "188 170\n",
      "139 115\n",
      "124 96\n",
      "108 74\n",
      "96 58\n",
      "94 49\n",
      "124 96\n",
      "78 48\n",
      "60 29\n",
      "47 14\n",
      "38 0\n"
     ]
    },
    {
     "name": "stderr",
     "output_type": "stream",
     "text": [
      " 19%|█████████████████████████████▎                                                                                                                          | 56/290 [02:39<11:15,  2.88s/it]"
     ]
    },
    {
     "name": "stdout",
     "output_type": "stream",
     "text": [
      "27 0\n",
      "ADNI_014_S_4058_20111222\n",
      "123 104\n",
      "82 60\n",
      "93 62\n",
      "128 65\n",
      "156 72\n",
      "208 78\n",
      "77 49\n",
      "65 33\n",
      "56 19\n"
     ]
    },
    {
     "name": "stderr",
     "output_type": "stream",
     "text": [
      " 20%|█████████████████████████████▉                                                                                                                          | 57/290 [02:41<10:06,  2.60s/it]"
     ]
    },
    {
     "name": "stdout",
     "output_type": "stream",
     "text": [
      "57 14\n",
      "49 0\n",
      "39 0\n",
      "ADNI_014_S_4079_20111215\n",
      "175 157\n",
      "122 103\n",
      "93 65\n",
      "129 63\n",
      "167 69\n",
      "198 73\n",
      "78 57\n",
      "55 34\n",
      "46 24\n",
      "41 12\n"
     ]
    },
    {
     "name": "stderr",
     "output_type": "stream",
     "text": [
      " 20%|██████████████████████████████▍                                                                                                                         | 58/290 [02:43<09:24,  2.43s/it]"
     ]
    },
    {
     "name": "stdout",
     "output_type": "stream",
     "text": [
      "39 0\n",
      "38 0\n",
      "ADNI_014_S_4263_20111006\n",
      "320 280\n",
      "249 197\n",
      "212 150\n",
      "207 128\n",
      "221 125\n",
      "269 137\n",
      "199 143\n",
      "166 105\n",
      "126 61\n",
      "102 28\n"
     ]
    },
    {
     "name": "stderr",
     "output_type": "stream",
     "text": [
      " 20%|██████████████████████████████▉                                                                                                                         | 59/290 [02:46<10:47,  2.80s/it]"
     ]
    },
    {
     "name": "stdout",
     "output_type": "stream",
     "text": [
      "82 0\n",
      "77 0\n",
      "ADNI_014_S_4328_20111107\n",
      "194 155\n",
      "152 109\n",
      "124 76\n",
      "124 64\n",
      "130 61\n",
      "140 58\n",
      "122 74\n",
      "94 41\n",
      "85 25\n",
      "82 17\n",
      "74 0\n"
     ]
    },
    {
     "name": "stderr",
     "output_type": "stream",
     "text": [
      " 21%|███████████████████████████████▍                                                                                                                        | 60/290 [02:49<10:10,  2.66s/it]"
     ]
    },
    {
     "name": "stdout",
     "output_type": "stream",
     "text": [
      "68 0\n",
      "ADNI_014_S_4401_20111202\n",
      "186 168\n",
      "113 94\n",
      "94 67\n",
      "84 52\n",
      "95 54\n",
      "107 54\n",
      "83 58\n",
      "62 35\n",
      "50 18\n",
      "52 12\n",
      "49 0\n"
     ]
    },
    {
     "name": "stderr",
     "output_type": "stream",
     "text": [
      " 21%|███████████████████████████████▉                                                                                                                        | 61/290 [02:50<09:05,  2.38s/it]"
     ]
    },
    {
     "name": "stdout",
     "output_type": "stream",
     "text": [
      "38 0\n",
      "ADNI_014_S_4576_20120920\n",
      "118 107\n",
      "84 70\n",
      "66 48\n",
      "71 37\n",
      "82 34\n",
      "102 33\n",
      "56 41\n",
      "31 14\n"
     ]
    },
    {
     "name": "stderr",
     "output_type": "stream",
     "text": [
      " 21%|████████████████████████████████▍                                                                                                                       | 62/290 [02:52<07:49,  2.06s/it]"
     ]
    },
    {
     "name": "stdout",
     "output_type": "stream",
     "text": [
      "28 9\n",
      "28 7\n",
      "21 0\n",
      "23 0\n",
      "ADNI_018_S_2155_20101202\n",
      "151 133\n",
      "104 83\n",
      "105 78\n",
      "127 78\n",
      "153 77\n",
      "186 73\n",
      "94 67\n",
      "76 44\n",
      "75 36\n"
     ]
    },
    {
     "name": "stderr",
     "output_type": "stream",
     "text": [
      " 22%|█████████████████████████████████                                                                                                                       | 63/290 [02:54<07:52,  2.08s/it]"
     ]
    },
    {
     "name": "stdout",
     "output_type": "stream",
     "text": [
      "68 22\n",
      "56 0\n",
      "49 0\n",
      "ADNI_018_S_2180_20101209\n",
      "137 125\n",
      "100 86\n",
      "79 62\n",
      "70 50\n",
      "64 40\n",
      "63 36\n",
      "76 61\n",
      "49 33\n",
      "35 19\n"
     ]
    },
    {
     "name": "stderr",
     "output_type": "stream",
     "text": [
      " 22%|█████████████████████████████████▌                                                                                                                      | 64/290 [02:55<07:02,  1.87s/it]"
     ]
    },
    {
     "name": "stdout",
     "output_type": "stream",
     "text": [
      "26 7\n",
      "22 0\n",
      "17 0\n",
      "ADNI_018_S_4313_20111128\n",
      "98 84\n",
      "80 63\n",
      "93 60\n",
      "124 54\n",
      "166 64\n",
      "220 67\n",
      "73 54\n",
      "56 35\n",
      "45 16\n",
      "41 7\n"
     ]
    },
    {
     "name": "stderr",
     "output_type": "stream",
     "text": [
      " 22%|██████████████████████████████████                                                                                                                      | 65/290 [02:57<07:01,  1.87s/it]"
     ]
    },
    {
     "name": "stdout",
     "output_type": "stream",
     "text": [
      "42 0\n",
      "43 0\n",
      "ADNI_018_S_4349_20111115\n",
      "193 157\n",
      "143 96\n",
      "172 91\n",
      "289 103\n",
      "381 127\n",
      "499 148\n",
      "110 66\n",
      "91 41\n",
      "92 35\n",
      "91 21\n",
      "85 0\n"
     ]
    },
    {
     "name": "stderr",
     "output_type": "stream",
     "text": [
      " 23%|██████████████████████████████████▌                                                                                                                     | 66/290 [03:01<08:54,  2.39s/it]"
     ]
    },
    {
     "name": "stdout",
     "output_type": "stream",
     "text": [
      "82 0\n",
      "ADNI_018_S_4399_20111215\n",
      "106 92\n",
      "76 60\n",
      "64 40\n",
      "77 38\n",
      "92 42\n",
      "118 46\n",
      "54 34\n",
      "46 25\n",
      "40 19\n",
      "37 12\n",
      "30 0\n"
     ]
    },
    {
     "name": "stderr",
     "output_type": "stream",
     "text": [
      " 23%|███████████████████████████████████                                                                                                                     | 67/290 [03:02<07:46,  2.09s/it]"
     ]
    },
    {
     "name": "stdout",
     "output_type": "stream",
     "text": [
      "27 0\n",
      "ADNI_018_S_4400_20111220\n",
      "165 139\n",
      "134 104\n",
      "111 79\n",
      "100 59\n",
      "101 56\n",
      "104 54\n",
      "103 72\n",
      "76 42\n",
      "63 29\n"
     ]
    },
    {
     "name": "stderr",
     "output_type": "stream",
     "text": [
      " 23%|███████████████████████████████████▋                                                                                                                    | 68/290 [03:04<07:27,  2.02s/it]"
     ]
    },
    {
     "name": "stdout",
     "output_type": "stream",
     "text": [
      "53 16\n",
      "39 0\n",
      "36 0\n",
      "ADNI_018_S_4809_20121005\n",
      "383 328\n",
      "344 267\n",
      "347 244\n",
      "437 223\n",
      "558 235\n",
      "735 244\n",
      "304 216\n",
      "267 153\n",
      "240 112\n",
      "206 64\n",
      "185 0\n"
     ]
    },
    {
     "name": "stderr",
     "output_type": "stream",
     "text": [
      " 24%|████████████████████████████████████▏                                                                                                                   | 69/290 [03:10<12:22,  3.36s/it]"
     ]
    },
    {
     "name": "stdout",
     "output_type": "stream",
     "text": [
      "157 0\n",
      "ADNI_018_S_4868_20121114\n",
      "221 195\n",
      "145 113\n",
      "122 83\n",
      "138 73\n",
      "166 74\n",
      "207 80\n",
      "113 78\n",
      "100 55\n",
      "89 42\n",
      "80 23\n",
      "63 0\n"
     ]
    },
    {
     "name": "stderr",
     "output_type": "stream",
     "text": [
      " 24%|████████████████████████████████████▋                                                                                                                   | 70/290 [03:13<11:23,  3.11s/it]"
     ]
    },
    {
     "name": "stdout",
     "output_type": "stream",
     "text": [
      "58 0\n",
      "ADNI_018_S_4889_20121114\n",
      "366 309\n",
      "290 225\n",
      "266 185\n",
      "292 176\n",
      "351 193\n",
      "392 179\n",
      "240 165\n",
      "208 114\n",
      "182 76\n",
      "154 32\n"
     ]
    },
    {
     "name": "stderr",
     "output_type": "stream",
     "text": [
      " 24%|█████████████████████████████████████▏                                                                                                                  | 71/290 [03:18<13:05,  3.58s/it]"
     ]
    },
    {
     "name": "stdout",
     "output_type": "stream",
     "text": [
      "139 0\n",
      "121 0\n",
      "ADNI_019_S_4252_20111214\n",
      "222 193\n",
      "195 150\n",
      "227 136\n",
      "303 125\n",
      "392 148\n",
      "469 164\n",
      "163 118\n",
      "135 80\n",
      "114 54\n",
      "99 31\n",
      "77 0\n"
     ]
    },
    {
     "name": "stderr",
     "output_type": "stream",
     "text": [
      " 25%|█████████████████████████████████████▋                                                                                                                  | 72/290 [03:21<13:23,  3.69s/it]"
     ]
    },
    {
     "name": "stdout",
     "output_type": "stream",
     "text": [
      "69 0\n",
      "ADNI_019_S_4285_20111013\n",
      "234 198\n",
      "172 126\n",
      "224 111\n",
      "425 143\n",
      "555 167\n",
      "707 202\n",
      "119 69\n",
      "103 45\n",
      "93 31\n",
      "77 10\n",
      "77 0\n"
     ]
    },
    {
     "name": "stderr",
     "output_type": "stream",
     "text": [
      " 25%|██████████████████████████████████████▎                                                                                                                 | 73/290 [03:26<14:13,  3.93s/it]"
     ]
    },
    {
     "name": "stdout",
     "output_type": "stream",
     "text": [
      "74 0\n",
      "ADNI_019_S_4293_20111020\n",
      "162 143\n",
      "128 99\n",
      "110 71\n",
      "116 60\n",
      "141 65\n",
      "162 62\n",
      "97 66\n",
      "71 37\n",
      "67 29\n"
     ]
    },
    {
     "name": "stderr",
     "output_type": "stream",
     "text": [
      " 26%|██████████████████████████████████████▊                                                                                                                 | 74/290 [03:28<12:10,  3.38s/it]"
     ]
    },
    {
     "name": "stdout",
     "output_type": "stream",
     "text": [
      "62 15\n",
      "52 0\n",
      "51 0\n",
      "ADNI_019_S_4367_20111130\n",
      "226 199\n",
      "182 143\n",
      "173 113\n",
      "208 96\n",
      "241 102\n",
      "300 118\n",
      "127 91\n",
      "104 60\n",
      "89 39\n",
      "72 13\n"
     ]
    },
    {
     "name": "stderr",
     "output_type": "stream",
     "text": [
      " 26%|███████████████████████████████████████▎                                                                                                                | 75/290 [03:31<11:46,  3.28s/it]"
     ]
    },
    {
     "name": "stdout",
     "output_type": "stream",
     "text": [
      "75 0\n",
      "74 0\n",
      "ADNI_019_S_4477_20120807\n",
      "206 165\n",
      "208 160\n",
      "198 133\n",
      "237 131\n",
      "264 126\n",
      "317 131\n",
      "174 119\n",
      "148 82\n",
      "135 53\n",
      "127 32\n"
     ]
    },
    {
     "name": "stderr",
     "output_type": "stream",
     "text": [
      " 26%|███████████████████████████████████████▊                                                                                                                | 76/290 [03:35<12:08,  3.41s/it]"
     ]
    },
    {
     "name": "stdout",
     "output_type": "stream",
     "text": [
      "127 0\n",
      "116 0\n",
      "ADNI_019_S_4680_20121029\n",
      "142 116\n",
      "116 82\n",
      "131 76\n",
      "152 66\n",
      "190 77\n",
      "217 78\n",
      "91 58\n",
      "73 36\n",
      "61 23\n"
     ]
    },
    {
     "name": "stderr",
     "output_type": "stream",
     "text": [
      " 27%|████████████████████████████████████████▎                                                                                                               | 77/290 [03:37<10:48,  3.04s/it]"
     ]
    },
    {
     "name": "stdout",
     "output_type": "stream",
     "text": [
      "53 14\n",
      "45 0\n",
      "35 0\n",
      "ADNI_019_S_4835_20121008\n",
      "225 205\n",
      "144 118\n",
      "112 84\n",
      "105 64\n",
      "109 54\n",
      "126 50\n",
      "104 77\n",
      "70 38\n",
      "59 22\n",
      "52 10\n",
      "47 0\n"
     ]
    },
    {
     "name": "stderr",
     "output_type": "stream",
     "text": [
      " 27%|████████████████████████████████████████▉                                                                                                               | 78/290 [03:39<09:43,  2.75s/it]"
     ]
    },
    {
     "name": "stdout",
     "output_type": "stream",
     "text": [
      "36 0\n",
      "ADNI_022_S_2167_20101102\n",
      "232 214\n",
      "139 117\n",
      "127 81\n",
      "189 82\n",
      "224 85\n",
      "302 98\n",
      "94 70\n",
      "67 41\n",
      "59 29\n"
     ]
    },
    {
     "name": "stderr",
     "output_type": "stream",
     "text": [
      " 27%|█████████████████████████████████████████▍                                                                                                              | 79/290 [03:42<09:30,  2.70s/it]"
     ]
    },
    {
     "name": "stdout",
     "output_type": "stream",
     "text": [
      "45 12\n",
      "42 0\n",
      "35 0\n",
      "ADNI_022_S_2263_20110823\n",
      "256 232\n",
      "185 149\n",
      "171 97\n",
      "280 95\n",
      "357 114\n",
      "416 122\n",
      "113 80\n",
      "92 50\n",
      "77 28\n",
      "69 16\n",
      "67 0\n"
     ]
    },
    {
     "name": "stderr",
     "output_type": "stream",
     "text": [
      " 28%|█████████████████████████████████████████▉                                                                                                              | 80/290 [03:45<10:14,  2.93s/it]"
     ]
    },
    {
     "name": "stdout",
     "output_type": "stream",
     "text": [
      "56 0\n",
      "ADNI_022_S_4173_20110913\n",
      "108 92\n",
      "78 58\n",
      "87 53\n",
      "109 48\n",
      "125 49\n",
      "147 49\n",
      "68 45\n",
      "49 25\n",
      "43 17\n",
      "38 9\n"
     ]
    },
    {
     "name": "stderr",
     "output_type": "stream",
     "text": [
      " 28%|██████████████████████████████████████████▍                                                                                                             | 81/290 [03:47<08:48,  2.53s/it]"
     ]
    },
    {
     "name": "stdout",
     "output_type": "stream",
     "text": [
      "32 0\n",
      "25 0\n",
      "ADNI_022_S_4291_20111122\n",
      "131 115\n",
      "102 83\n",
      "93 58\n",
      "150 67\n",
      "177 72\n",
      "210 67\n",
      "73 54\n",
      "66 44\n",
      "52 27\n",
      "43 11\n"
     ]
    },
    {
     "name": "stderr",
     "output_type": "stream",
     "text": [
      " 28%|██████████████████████████████████████████▉                                                                                                             | 82/290 [03:49<08:13,  2.37s/it]"
     ]
    },
    {
     "name": "stdout",
     "output_type": "stream",
     "text": [
      "44 0\n",
      "31 0\n",
      "ADNI_022_S_4320_20111109\n",
      "193 167\n",
      "139 108\n",
      "121 81\n",
      "121 64\n",
      "131 58\n",
      "157 60\n",
      "104 71\n",
      "75 41\n",
      "61 22\n"
     ]
    },
    {
     "name": "stderr",
     "output_type": "stream",
     "text": [
      " 29%|███████████████████████████████████████████▌                                                                                                            | 83/290 [03:51<07:54,  2.29s/it]"
     ]
    },
    {
     "name": "stdout",
     "output_type": "stream",
     "text": [
      "55 13\n",
      "48 0\n",
      "42 0\n",
      "ADNI_022_S_4444_20120822\n",
      "136 124\n",
      "101 82\n",
      "107 66\n",
      "166 77\n",
      "204 82\n",
      "232 80\n",
      "68 48\n",
      "50 29\n",
      "42 19\n",
      "38 11\n"
     ]
    },
    {
     "name": "stderr",
     "output_type": "stream",
     "text": [
      " 29%|████████████████████████████████████████████                                                                                                            | 84/290 [03:53<07:38,  2.23s/it]"
     ]
    },
    {
     "name": "stdout",
     "output_type": "stream",
     "text": [
      "30 0\n",
      "34 0\n",
      "ADNI_023_S_2068_20101201\n",
      "176 158\n",
      "96 73\n",
      "84 50\n",
      "130 54\n",
      "174 63\n",
      "218 73\n",
      "64 42\n",
      "67 43\n",
      "53 23\n",
      "41 6\n"
     ]
    },
    {
     "name": "stderr",
     "output_type": "stream",
     "text": [
      " 29%|████████████████████████████████████████████▌                                                                                                           | 85/290 [03:55<07:23,  2.16s/it]"
     ]
    },
    {
     "name": "stdout",
     "output_type": "stream",
     "text": [
      "40 0\n",
      "44 0\n",
      "ADNI_023_S_4020_20110803\n",
      "213 182\n",
      "139 101\n",
      "134 86\n",
      "173 77\n",
      "211 88\n",
      "252 97\n",
      "123 81\n",
      "93 44\n",
      "82 32\n",
      "77 19\n"
     ]
    },
    {
     "name": "stderr",
     "output_type": "stream",
     "text": [
      " 30%|█████████████████████████████████████████████                                                                                                           | 86/290 [03:58<07:52,  2.32s/it]"
     ]
    },
    {
     "name": "stdout",
     "output_type": "stream",
     "text": [
      "65 0\n",
      "59 0\n",
      "ADNI_023_S_4035_20110728\n",
      "209 178\n",
      "174 119\n",
      "220 112\n",
      "436 142\n",
      "566 169\n",
      "746 212\n",
      "139 90\n",
      "122 63\n",
      "110 44\n",
      "101 25\n"
     ]
    },
    {
     "name": "stderr",
     "output_type": "stream",
     "text": [
      " 30%|█████████████████████████████████████████████▌                                                                                                          | 87/290 [04:02<10:22,  3.07s/it]"
     ]
    },
    {
     "name": "stdout",
     "output_type": "stream",
     "text": [
      "103 0\n",
      "85 0\n",
      "ADNI_023_S_4115_20111129\n",
      "121 103\n",
      "98 78\n",
      "92 60\n",
      "127 66\n",
      "155 73\n",
      "196 80\n",
      "66 47\n",
      "67 43\n",
      "59 31\n"
     ]
    },
    {
     "name": "stderr",
     "output_type": "stream",
     "text": [
      " 30%|██████████████████████████████████████████████                                                                                                          | 88/290 [04:04<09:10,  2.73s/it]"
     ]
    },
    {
     "name": "stdout",
     "output_type": "stream",
     "text": [
      "49 14\n",
      "44 0\n",
      "44 0\n",
      "ADNI_023_S_4164_20110830\n",
      "182 164\n",
      "150 126\n",
      "117 87\n",
      "122 76\n",
      "127 73\n",
      "130 64\n",
      "106 80\n",
      "79 50\n",
      "67 33\n"
     ]
    },
    {
     "name": "stderr",
     "output_type": "stream",
     "text": [
      " 31%|██████████████████████████████████████████████▋                                                                                                         | 89/290 [04:06<08:29,  2.54s/it]"
     ]
    },
    {
     "name": "stdout",
     "output_type": "stream",
     "text": [
      "61 20\n",
      "50 0\n",
      "46 0\n",
      "ADNI_023_S_4243_20111109\n",
      "289 254\n",
      "236 187\n",
      "278 145\n",
      "494 171\n",
      "621 185\n",
      "783 221\n",
      "172 117\n",
      "137 75\n",
      "116 49\n",
      "93 19\n",
      "90 0\n"
     ]
    },
    {
     "name": "stderr",
     "output_type": "stream",
     "text": [
      " 31%|███████████████████████████████████████████████▏                                                                                                        | 90/290 [04:12<11:15,  3.38s/it]"
     ]
    },
    {
     "name": "stdout",
     "output_type": "stream",
     "text": [
      "87 0\n",
      "ADNI_023_S_4448_20120816\n",
      "131 116\n",
      "82 64\n",
      "75 51\n",
      "83 43\n",
      "99 43\n",
      "106 44\n",
      "54 39\n",
      "38 22\n",
      "22 6\n",
      "22 4\n"
     ]
    },
    {
     "name": "stderr",
     "output_type": "stream",
     "text": [
      " 31%|███████████████████████████████████████████████▋                                                                                                        | 91/290 [04:13<09:11,  2.77s/it]"
     ]
    },
    {
     "name": "stdout",
     "output_type": "stream",
     "text": [
      "21 0\n",
      "21 0\n",
      "ADNI_023_S_4501_20121101\n",
      "294 255\n",
      "230 178\n",
      "243 156\n",
      "297 152\n",
      "339 152\n",
      "368 149\n",
      "187 134\n",
      "146 83\n",
      "114 44\n",
      "105 24\n",
      "89 0\n"
     ]
    },
    {
     "name": "stderr",
     "output_type": "stream",
     "text": [
      " 32%|████████████████████████████████████████████████▏                                                                                                       | 92/290 [04:17<10:19,  3.13s/it]"
     ]
    },
    {
     "name": "stdout",
     "output_type": "stream",
     "text": [
      "75 0\n",
      "ADNI_023_S_4502_20121025\n",
      "137 122\n",
      "100 81\n",
      "102 73\n",
      "127 64\n",
      "144 63\n",
      "174 69\n",
      "79 57\n",
      "69 40\n",
      "68 36\n"
     ]
    },
    {
     "name": "stderr",
     "output_type": "stream",
     "text": [
      " 32%|████████████████████████████████████████████████▋                                                                                                       | 93/290 [04:19<09:06,  2.77s/it]"
     ]
    },
    {
     "name": "stdout",
     "output_type": "stream",
     "text": [
      "45 10\n",
      "41 0\n",
      "41 0\n",
      "ADNI_023_S_4796_20121120\n",
      "207 170\n",
      "180 125\n",
      "283 143\n",
      "445 163\n",
      "528 179\n",
      "636 215\n",
      "138 97\n",
      "102 55\n",
      "88 40\n",
      "75 22\n"
     ]
    },
    {
     "name": "stderr",
     "output_type": "stream",
     "text": [
      " 32%|█████████████████████████████████████████████████▎                                                                                                      | 94/290 [04:23<10:41,  3.28s/it]"
     ]
    },
    {
     "name": "stdout",
     "output_type": "stream",
     "text": [
      "67 0\n",
      "62 0\n",
      "ADNI_024_S_4084_20110916\n",
      "198 180\n",
      "127 107\n",
      "115 85\n",
      "103 53\n",
      "122 52\n",
      "157 59\n",
      "96 73\n",
      "67 38\n",
      "57 22\n",
      "48 9\n"
     ]
    },
    {
     "name": "stderr",
     "output_type": "stream",
     "text": [
      " 33%|█████████████████████████████████████████████████▊                                                                                                      | 95/290 [04:25<09:24,  2.89s/it]"
     ]
    },
    {
     "name": "stdout",
     "output_type": "stream",
     "text": [
      "45 0\n",
      "41 0\n",
      "ADNI_024_S_4158_20111111\n",
      "200 172\n",
      "151 120\n",
      "136 94\n",
      "132 74\n",
      "139 68\n",
      "155 64\n",
      "125 87\n",
      "100 55\n",
      "84 33\n",
      "77 18\n"
     ]
    },
    {
     "name": "stderr",
     "output_type": "stream",
     "text": [
      " 33%|██████████████████████████████████████████████████▎                                                                                                     | 96/290 [04:28<08:49,  2.73s/it]"
     ]
    },
    {
     "name": "stdout",
     "output_type": "stream",
     "text": [
      "65 0\n",
      "49 0\n",
      "ADNI_024_S_4169_20111128\n",
      "182 160\n",
      "114 90\n",
      "118 79\n",
      "153 86\n",
      "166 77\n",
      "210 86\n",
      "90 62\n",
      "73 42\n",
      "53 20\n",
      "45 9\n"
     ]
    },
    {
     "name": "stderr",
     "output_type": "stream",
     "text": [
      " 33%|██████████████████████████████████████████████████▊                                                                                                     | 97/290 [04:30<08:13,  2.56s/it]"
     ]
    },
    {
     "name": "stdout",
     "output_type": "stream",
     "text": [
      "41 0\n",
      "40 0\n",
      "ADNI_024_S_4392_20120709\n",
      "195 178\n",
      "222 153\n",
      "409 159\n",
      "726 211\n",
      "891 259\n",
      "1059 307\n",
      "105 83\n",
      "80 54\n",
      "55 27\n"
     ]
    },
    {
     "name": "stderr",
     "output_type": "stream",
     "text": [
      " 34%|███████████████████████████████████████████████████▎                                                                                                    | 98/290 [04:36<11:31,  3.60s/it]"
     ]
    },
    {
     "name": "stdout",
     "output_type": "stream",
     "text": [
      "54 19\n",
      "46 0\n",
      "42 0\n",
      "ADNI_024_S_4674_20121119\n",
      "202 152\n",
      "154 99\n",
      "145 78\n",
      "172 67\n",
      "219 73\n",
      "273 91\n",
      "111 57\n",
      "89 30\n",
      "77 16\n",
      "69 5\n",
      "71 0\n"
     ]
    },
    {
     "name": "stderr",
     "output_type": "stream",
     "text": [
      " 34%|███████████████████████████████████████████████████▉                                                                                                    | 99/290 [04:39<10:36,  3.33s/it]"
     ]
    },
    {
     "name": "stdout",
     "output_type": "stream",
     "text": [
      "67 0\n",
      "ADNI_031_S_2018_20100923\n",
      "221 191\n",
      "200 161\n",
      "195 112\n",
      "296 115\n",
      "396 135\n",
      "507 151\n",
      "132 92\n",
      "108 60\n",
      "99 38\n",
      "85 16\n"
     ]
    },
    {
     "name": "stderr",
     "output_type": "stream",
     "text": [
      " 34%|████████████████████████████████████████████████████                                                                                                   | 100/290 [04:43<11:01,  3.48s/it]"
     ]
    },
    {
     "name": "stdout",
     "output_type": "stream",
     "text": [
      "78 0\n",
      "72 0\n",
      "ADNI_031_S_2022_20101012\n",
      "149 130\n",
      "108 85\n",
      "78 51\n",
      "89 51\n",
      "89 40\n",
      "100 38\n",
      "74 49\n",
      "59 28\n",
      "48 14\n"
     ]
    },
    {
     "name": "stderr",
     "output_type": "stream",
     "text": [
      " 35%|████████████████████████████████████████████████████▌                                                                                                  | 101/290 [04:44<09:11,  2.92s/it]"
     ]
    },
    {
     "name": "stdout",
     "output_type": "stream",
     "text": [
      "42 6\n",
      "38 0\n",
      "33 0\n",
      "ADNI_031_S_2233_20101215\n",
      "191 167\n",
      "131 98\n",
      "130 83\n",
      "157 84\n",
      "185 91\n",
      "211 90\n",
      "118 81\n",
      "108 60\n",
      "92 39\n",
      "74 14\n",
      "69 0\n"
     ]
    },
    {
     "name": "stderr",
     "output_type": "stream",
     "text": [
      " 35%|█████████████████████████████████████████████████████                                                                                                  | 102/290 [04:47<08:46,  2.80s/it]"
     ]
    },
    {
     "name": "stdout",
     "output_type": "stream",
     "text": [
      "59 0\n",
      "ADNI_031_S_4021_20111020\n",
      "239 211\n",
      "167 134\n",
      "122 85\n",
      "111 64\n",
      "113 54\n",
      "125 53\n",
      "108 75\n",
      "78 42\n",
      "65 26\n",
      "64 19\n",
      "54 0\n"
     ]
    },
    {
     "name": "stderr",
     "output_type": "stream",
     "text": [
      " 36%|█████████████████████████████████████████████████████▋                                                                                                 | 103/290 [04:49<08:09,  2.62s/it]"
     ]
    },
    {
     "name": "stdout",
     "output_type": "stream",
     "text": [
      "56 0\n",
      "ADNI_031_S_4032_20111205\n",
      "106 91\n",
      "70 53\n",
      "71 49\n",
      "75 33\n",
      "95 40\n",
      "115 45\n",
      "63 45\n",
      "53 30\n",
      "40 12\n",
      "41 11\n"
     ]
    },
    {
     "name": "stderr",
     "output_type": "stream",
     "text": [
      " 36%|██████████████████████████████████████████████████████▏                                                                                                | 104/290 [04:50<07:00,  2.26s/it]"
     ]
    },
    {
     "name": "stdout",
     "output_type": "stream",
     "text": [
      "34 0\n",
      "28 0\n",
      "ADNI_031_S_4149_20111103\n",
      "191 157\n",
      "163 120\n",
      "198 119\n",
      "310 110\n",
      "385 111\n",
      "486 134\n",
      "142 98\n",
      "99 51\n",
      "77 25\n",
      "73 13\n"
     ]
    },
    {
     "name": "stderr",
     "output_type": "stream",
     "text": [
      " 36%|██████████████████████████████████████████████████████▋                                                                                                | 105/290 [04:54<08:14,  2.67s/it]"
     ]
    },
    {
     "name": "stdout",
     "output_type": "stream",
     "text": [
      "64 0\n",
      "69 0\n",
      "ADNI_031_S_4194_20111201\n",
      "137 128\n",
      "76 66\n",
      "55 40\n",
      "60 41\n",
      "56 32\n",
      "62 30\n",
      "56 42\n",
      "40 23\n",
      "33 15\n"
     ]
    },
    {
     "name": "stderr",
     "output_type": "stream",
     "text": [
      " 37%|███████████████████████████████████████████████████████▏                                                                                               | 106/290 [04:55<06:52,  2.24s/it]"
     ]
    },
    {
     "name": "stdout",
     "output_type": "stream",
     "text": [
      "34 9\n",
      "31 0\n",
      "25 0\n",
      "ADNI_031_S_4203_20111205\n",
      "187 158\n",
      "165 128\n",
      "167 118\n",
      "169 99\n",
      "180 93\n",
      "189 88\n",
      "148 107\n",
      "119 67\n",
      "110 55\n",
      "102 39\n"
     ]
    },
    {
     "name": "stderr",
     "output_type": "stream",
     "text": [
      " 37%|███████████████████████████████████████████████████████▋                                                                                               | 107/290 [04:58<07:18,  2.40s/it]"
     ]
    },
    {
     "name": "stdout",
     "output_type": "stream",
     "text": [
      "79 0\n",
      "71 0\n",
      "ADNI_031_S_4218_20111208\n",
      "312 273\n",
      "199 149\n",
      "221 141\n",
      "268 133\n",
      "302 130\n",
      "364 137\n",
      "178 119\n",
      "154 88\n",
      "137 60\n",
      "117 27\n"
     ]
    },
    {
     "name": "stderr",
     "output_type": "stream",
     "text": [
      " 37%|████████████████████████████████████████████████████████▏                                                                                              | 108/290 [05:02<08:39,  2.85s/it]"
     ]
    },
    {
     "name": "stdout",
     "output_type": "stream",
     "text": [
      "110 0\n",
      "97 0\n",
      "ADNI_031_S_4476_20120817\n",
      "163 136\n",
      "114 81\n",
      "154 82\n",
      "314 98\n",
      "404 111\n",
      "512 136\n",
      "89 56\n",
      "77 36\n",
      "79 33\n",
      "71 16\n",
      "63 0\n"
     ]
    },
    {
     "name": "stderr",
     "output_type": "stream",
     "text": [
      " 38%|████████████████████████████████████████████████████████▊                                                                                              | 109/290 [05:05<09:05,  3.01s/it]"
     ]
    },
    {
     "name": "stdout",
     "output_type": "stream",
     "text": [
      "57 0\n",
      "ADNI_031_S_4496_20120820\n",
      "111 94\n",
      "88 70\n",
      "65 46\n",
      "62 36\n",
      "67 34\n",
      "72 31\n",
      "55 37\n",
      "43 24\n"
     ]
    },
    {
     "name": "stderr",
     "output_type": "stream",
     "text": [
      " 38%|█████████████████████████████████████████████████████████▎                                                                                             | 110/290 [05:07<07:28,  2.49s/it]"
     ]
    },
    {
     "name": "stdout",
     "output_type": "stream",
     "text": [
      "40 18\n",
      "34 8\n",
      "27 0\n",
      "24 0\n",
      "ADNI_031_S_4947_20120928\n",
      "130 119\n",
      "82 67\n",
      "62 41\n",
      "60 31\n",
      "65 26\n",
      "84 28\n",
      "51 33\n",
      "36 16\n",
      "35 12\n"
     ]
    },
    {
     "name": "stderr",
     "output_type": "stream",
     "text": [
      " 38%|█████████████████████████████████████████████████████████▊                                                                                             | 111/290 [05:08<06:21,  2.13s/it]"
     ]
    },
    {
     "name": "stdout",
     "output_type": "stream",
     "text": [
      "35 10\n",
      "30 0\n",
      "20 0\n",
      "ADNI_032_S_2119_20101215\n",
      "179 156\n",
      "144 106\n",
      "230 122\n",
      "382 136\n",
      "512 165\n",
      "650 197\n",
      "109 73\n",
      "90 47\n",
      "92 45\n",
      "70 16\n",
      "62 0\n"
     ]
    },
    {
     "name": "stderr",
     "output_type": "stream",
     "text": [
      " 39%|██████████████████████████████████████████████████████████▎                                                                                            | 112/290 [05:12<08:05,  2.73s/it]"
     ]
    },
    {
     "name": "stdout",
     "output_type": "stream",
     "text": [
      "53 0\n",
      "ADNI_032_S_4277_20111019\n",
      "186 160\n",
      "118 85\n",
      "118 75\n",
      "149 66\n",
      "191 75\n",
      "222 76\n",
      "91 61\n",
      "71 28\n",
      "65 17\n",
      "68 11\n",
      "72 0\n"
     ]
    },
    {
     "name": "stderr",
     "output_type": "stream",
     "text": [
      " 39%|██████████████████████████████████████████████████████████▊                                                                                            | 113/290 [05:14<07:45,  2.63s/it]"
     ]
    },
    {
     "name": "stdout",
     "output_type": "stream",
     "text": [
      "70 0\n",
      "ADNI_032_S_4386_20111213\n",
      "119 106\n",
      "97 82\n",
      "79 55\n",
      "120 53\n",
      "150 60\n",
      "201 66\n",
      "69 50\n",
      "59 38\n",
      "46 21\n",
      "44 10\n"
     ]
    },
    {
     "name": "stderr",
     "output_type": "stream",
     "text": [
      " 39%|███████████████████████████████████████████████████████████▎                                                                                           | 114/290 [05:16<07:00,  2.39s/it]"
     ]
    },
    {
     "name": "stdout",
     "output_type": "stream",
     "text": [
      "40 0\n",
      "31 0\n",
      "ADNI_032_S_4429_20111222\n",
      "151 124\n",
      "112 75\n",
      "126 67\n",
      "207 81\n",
      "271 92\n",
      "323 109\n",
      "82 46\n",
      "69 27\n",
      "59 14\n",
      "65 12\n",
      "64 0\n"
     ]
    },
    {
     "name": "stderr",
     "output_type": "stream",
     "text": [
      " 40%|███████████████████████████████████████████████████████████▉                                                                                           | 115/290 [05:19<07:10,  2.46s/it]"
     ]
    },
    {
     "name": "stdout",
     "output_type": "stream",
     "text": [
      "51 0\n",
      "ADNI_033_S_4176_20130904\n",
      "128 106\n",
      "123 91\n",
      "148 80\n",
      "218 92\n",
      "307 115\n",
      "403 130\n",
      "93 60\n",
      "75 39\n",
      "70 30\n",
      "60 16\n",
      "53 0\n",
      "51 0\n"
     ]
    },
    {
     "name": "stderr",
     "output_type": "stream",
     "text": [
      " 40%|████████████████████████████████████████████████████████████▍                                                                                          | 116/290 [05:22<07:29,  2.58s/it]"
     ]
    },
    {
     "name": "stdout",
     "output_type": "stream",
     "text": [
      "ADNI_033_S_4177_20130911\n",
      "376 319\n",
      "304 222\n",
      "363 214\n",
      "518 205\n",
      "665 241\n",
      "819 267\n",
      "255 165\n",
      "227 120\n",
      "210 83\n",
      "186 37\n",
      "169 0\n"
     ]
    },
    {
     "name": "stderr",
     "output_type": "stream",
     "text": [
      " 40%|████████████████████████████████████████████████████████████▉                                                                                          | 117/290 [05:28<10:55,  3.79s/it]"
     ]
    },
    {
     "name": "stdout",
     "output_type": "stream",
     "text": [
      "142 0\n",
      "ADNI_035_S_4082_20111214\n",
      "253 228\n",
      "185 150\n",
      "160 115\n",
      "202 106\n",
      "235 102\n",
      "303 111\n",
      "134 100\n",
      "99 62\n",
      "86 41\n",
      "78 24\n"
     ]
    },
    {
     "name": "stderr",
     "output_type": "stream",
     "text": [
      " 41%|█████████████████████████████████████████████████████████████▍                                                                                         | 118/290 [05:31<10:13,  3.57s/it]"
     ]
    },
    {
     "name": "stdout",
     "output_type": "stream",
     "text": [
      "62 0\n",
      "56 0\n",
      "ADNI_035_S_4114_20130314\n",
      "165 146\n",
      "102 78\n",
      "86 58\n",
      "96 45\n",
      "106 46\n",
      "125 47\n",
      "70 45\n",
      "59 33\n",
      "43 17\n",
      "35 7\n"
     ]
    },
    {
     "name": "stderr",
     "output_type": "stream",
     "text": [
      " 41%|█████████████████████████████████████████████████████████████▉                                                                                         | 119/290 [05:33<08:31,  2.99s/it]"
     ]
    },
    {
     "name": "stdout",
     "output_type": "stream",
     "text": [
      "33 0\n",
      "23 0\n",
      "ADNI_035_S_4464_20120803\n",
      "143 123\n",
      "96 76\n",
      "74 53\n",
      "64 38\n",
      "61 31\n",
      "61 27\n",
      "73 52\n",
      "53 29\n",
      "36 12\n"
     ]
    },
    {
     "name": "stderr",
     "output_type": "stream",
     "text": [
      " 41%|██████████████████████████████████████████████████████████████▍                                                                                        | 120/290 [05:34<07:07,  2.52s/it]"
     ]
    },
    {
     "name": "stdout",
     "output_type": "stream",
     "text": [
      "32 4\n",
      "29 0\n",
      "19 0\n",
      "ADNI_035_S_4582_20120924\n",
      "91 78\n",
      "67 51\n",
      "75 55\n",
      "89 48\n",
      "115 49\n",
      "140 48\n",
      "62 47\n",
      "52 31\n",
      "39 16\n",
      "34 10\n"
     ]
    },
    {
     "name": "stderr",
     "output_type": "stream",
     "text": [
      " 42%|███████████████████████████████████████████████████████████████                                                                                        | 121/290 [05:36<06:12,  2.21s/it]"
     ]
    },
    {
     "name": "stdout",
     "output_type": "stream",
     "text": [
      "28 0\n",
      "23 0\n",
      "ADNI_035_S_4784_20121025\n",
      "156 108\n",
      "125 67\n",
      "200 82\n",
      "356 112\n",
      "474 135\n",
      "601 162\n",
      "112 55\n",
      "107 46\n",
      "94 32\n",
      "80 15\n",
      "68 0\n"
     ]
    },
    {
     "name": "stderr",
     "output_type": "stream",
     "text": [
      " 42%|███████████████████████████████████████████████████████████████▌                                                                                       | 122/290 [05:40<07:35,  2.71s/it]"
     ]
    },
    {
     "name": "stdout",
     "output_type": "stream",
     "text": [
      "61 0\n",
      "ADNI_036_S_4389_20111207\n",
      "137 127\n",
      "103 88\n",
      "79 60\n",
      "85 52\n",
      "105 52\n",
      "136 51\n",
      "73 56\n",
      "48 28\n",
      "34 10\n",
      "34 6\n"
     ]
    },
    {
     "name": "stderr",
     "output_type": "stream",
     "text": [
      " 42%|████████████████████████████████████████████████████████████████                                                                                       | 123/290 [05:41<06:38,  2.39s/it]"
     ]
    },
    {
     "name": "stdout",
     "output_type": "stream",
     "text": [
      "37 0\n",
      "31 0\n",
      "ADNI_036_S_4430_20111223\n",
      "166 141\n",
      "129 97\n",
      "150 83\n",
      "213 92\n",
      "244 93\n",
      "286 95\n",
      "98 66\n",
      "79 42\n",
      "61 19\n",
      "62 10\n",
      "56 0\n"
     ]
    },
    {
     "name": "stderr",
     "output_type": "stream",
     "text": [
      " 43%|████████████████████████████████████████████████████████████████▌                                                                                      | 124/290 [05:44<06:50,  2.47s/it]"
     ]
    },
    {
     "name": "stdout",
     "output_type": "stream",
     "text": [
      "59 0\n",
      "ADNI_036_S_4491_20120809\n",
      "128 113\n",
      "75 57\n",
      "64 38\n",
      "88 43\n",
      "110 44\n",
      "119 44\n",
      "54 33\n",
      "49 24\n",
      "37 12\n"
     ]
    },
    {
     "name": "stderr",
     "output_type": "stream",
     "text": [
      " 43%|█████████████████████████████████████████████████████████████████                                                                                      | 125/290 [05:46<05:58,  2.17s/it]"
     ]
    },
    {
     "name": "stdout",
     "output_type": "stream",
     "text": [
      "34 7\n",
      "34 0\n",
      "30 0\n",
      "ADNI_036_S_4538_20121101\n",
      "84 70\n",
      "70 54\n",
      "64 44\n",
      "66 35\n",
      "76 34\n",
      "88 35\n",
      "56 38\n",
      "41 20\n",
      "32 11\n"
     ]
    },
    {
     "name": "stderr",
     "output_type": "stream",
     "text": [
      " 43%|█████████████████████████████████████████████████████████████████▌                                                                                     | 126/290 [05:47<05:10,  1.89s/it]"
     ]
    },
    {
     "name": "stdout",
     "output_type": "stream",
     "text": [
      "31 7\n",
      "25 0\n",
      "21 0\n",
      "ADNI_036_S_4562_20121009\n",
      "203 180\n",
      "167 138\n",
      "155 115\n",
      "183 106\n",
      "238 117\n",
      "291 124\n",
      "123 95\n",
      "87 55\n",
      "74 37\n",
      "72 26\n"
     ]
    },
    {
     "name": "stderr",
     "output_type": "stream",
     "text": [
      " 44%|██████████████████████████████████████████████████████████████████▏                                                                                    | 127/290 [05:50<05:53,  2.17s/it]"
     ]
    },
    {
     "name": "stdout",
     "output_type": "stream",
     "text": [
      "52 0\n",
      "50 0\n",
      "ADNI_036_S_4714_20121204\n",
      "67 50\n",
      "63 45\n",
      "52 31\n",
      "61 29\n",
      "72 23\n",
      "97 31\n",
      "47 27\n",
      "38 17\n",
      "39 16\n"
     ]
    },
    {
     "name": "stderr",
     "output_type": "stream",
     "text": [
      " 44%|██████████████████████████████████████████████████████████████████▋                                                                                    | 128/290 [05:51<05:03,  1.87s/it]"
     ]
    },
    {
     "name": "stdout",
     "output_type": "stream",
     "text": [
      "31 7\n",
      "29 0\n",
      "27 0\n",
      "ADNI_036_S_4715_20121127\n",
      "81 66\n",
      "56 37\n",
      "57 35\n",
      "89 37\n",
      "108 42\n",
      "116 43\n",
      "56 35\n",
      "57 31\n",
      "49 21\n"
     ]
    },
    {
     "name": "stderr",
     "output_type": "stream",
     "text": [
      " 44%|███████████████████████████████████████████████████████████████████▏                                                                                   | 129/290 [05:52<04:37,  1.72s/it]"
     ]
    },
    {
     "name": "stdout",
     "output_type": "stream",
     "text": [
      "40 12\n",
      "28 0\n",
      "20 0\n",
      "ADNI_036_S_4736_20121206\n",
      "340 279\n",
      "288 206\n",
      "290 165\n",
      "486 196\n",
      "615 206\n",
      "781 238\n",
      "222 129\n",
      "212 99\n",
      "191 69\n",
      "176 38\n",
      "164 0\n"
     ]
    },
    {
     "name": "stderr",
     "output_type": "stream",
     "text": [
      " 45%|███████████████████████████████████████████████████████████████████▋                                                                                   | 130/290 [05:58<08:09,  3.06s/it]"
     ]
    },
    {
     "name": "stdout",
     "output_type": "stream",
     "text": [
      "157 0\n",
      "ADNI_036_S_4878_20121019\n",
      "101 93\n",
      "58 50\n",
      "50 41\n",
      "38 29\n",
      "40 24\n",
      "42 17\n",
      "46 38\n"
     ]
    },
    {
     "name": "stderr",
     "output_type": "stream",
     "text": [
      " 45%|████████████████████████████████████████████████████████████████████▏                                                                                  | 131/290 [05:59<06:24,  2.42s/it]"
     ]
    },
    {
     "name": "stdout",
     "output_type": "stream",
     "text": [
      "23 15\n",
      "16 7\n",
      "14 4\n",
      "11 0\n",
      "11 0\n",
      "ADNI_037_S_0501_20130422\n",
      "252 219\n",
      "195 155\n",
      "185 128\n",
      "193 109\n",
      "212 107\n",
      "215 95\n",
      "153 107\n",
      "123 69\n",
      "109 50\n",
      "93 28\n",
      "74 0\n"
     ]
    },
    {
     "name": "stderr",
     "output_type": "stream",
     "text": [
      " 46%|████████████████████████████████████████████████████████████████████▋                                                                                  | 132/290 [06:02<06:51,  2.60s/it]"
     ]
    },
    {
     "name": "stdout",
     "output_type": "stream",
     "text": [
      "66 0\n",
      "ADNI_037_S_0566_20150729\n",
      "256 218\n",
      "198 157\n",
      "199 137\n",
      "228 135\n",
      "254 130\n",
      "290 132\n",
      "181 129\n",
      "154 91\n",
      "147 66\n",
      "127 30\n",
      "114 0\n"
     ]
    },
    {
     "name": "stderr",
     "output_type": "stream",
     "text": [
      " 46%|█████████████████████████████████████████████████████████████████████▎                                                                                 | 133/290 [06:06<07:41,  2.94s/it]"
     ]
    },
    {
     "name": "stdout",
     "output_type": "stream",
     "text": [
      "104 0\n",
      "ADNI_037_S_4015_20150408\n",
      "237 206\n",
      "176 134\n",
      "161 100\n",
      "249 99\n",
      "327 112\n",
      "459 140\n",
      "134 90\n",
      "120 67\n",
      "106 42\n",
      "92 19\n",
      "82 0\n"
     ]
    },
    {
     "name": "stderr",
     "output_type": "stream",
     "text": [
      " 46%|█████████████████████████████████████████████████████████████████████▊                                                                                 | 134/290 [06:10<08:09,  3.14s/it]"
     ]
    },
    {
     "name": "stdout",
     "output_type": "stream",
     "text": [
      "77 0\n",
      "ADNI_037_S_4028_20150604\n",
      "126 105\n",
      "118 76\n",
      "150 70\n",
      "253 87\n",
      "289 87\n",
      "327 92\n",
      "67 45\n",
      "57 28\n",
      "50 18\n",
      "39 6\n"
     ]
    },
    {
     "name": "stderr",
     "output_type": "stream",
     "text": [
      " 47%|██████████████████████████████████████████████████████████████████████▎                                                                                | 135/290 [06:12<07:40,  2.97s/it]"
     ]
    },
    {
     "name": "stdout",
     "output_type": "stream",
     "text": [
      "40 0\n",
      "38 0\n",
      "ADNI_037_S_4030_20150527\n",
      "195 179\n",
      "132 98\n",
      "216 98\n",
      "372 107\n",
      "483 131\n",
      "571 159\n",
      "84 61\n",
      "68 42\n",
      "57 27\n"
     ]
    },
    {
     "name": "stderr",
     "output_type": "stream",
     "text": [
      " 47%|██████████████████████████████████████████████████████████████████████▊                                                                                | 136/290 [06:16<08:12,  3.20s/it]"
     ]
    },
    {
     "name": "stdout",
     "output_type": "stream",
     "text": [
      "51 16\n",
      "45 0\n",
      "36 0\n",
      "ADNI_037_S_4071_20151111\n",
      "291 247\n",
      "221 161\n",
      "210 126\n",
      "305 130\n",
      "408 152\n",
      "579 187\n",
      "172 111\n",
      "162 86\n",
      "161 75\n",
      "133 35\n",
      "120 0\n"
     ]
    },
    {
     "name": "stderr",
     "output_type": "stream",
     "text": [
      " 47%|███████████████████████████████████████████████████████████████████████▎                                                                               | 137/290 [06:20<09:13,  3.61s/it]"
     ]
    },
    {
     "name": "stdout",
     "output_type": "stream",
     "text": [
      "122 0\n",
      "ADNI_037_S_4146_20150902\n",
      "185 164\n",
      "121 95\n",
      "123 83\n",
      "140 68\n",
      "170 74\n",
      "194 76\n",
      "101 73\n",
      "75 41\n",
      "75 31\n",
      "63 13\n",
      "58 0\n"
     ]
    },
    {
     "name": "stderr",
     "output_type": "stream",
     "text": [
      " 48%|███████████████████████████████████████████████████████████████████████▊                                                                               | 138/290 [06:23<08:08,  3.21s/it]"
     ]
    },
    {
     "name": "stdout",
     "output_type": "stream",
     "text": [
      "51 0\n",
      "ADNI_037_S_4214_20151016\n",
      "131 120\n",
      "86 71\n",
      "80 57\n",
      "106 55\n",
      "131 54\n",
      "164 59\n",
      "68 49\n",
      "66 41\n",
      "58 32\n"
     ]
    },
    {
     "name": "stderr",
     "output_type": "stream",
     "text": [
      " 48%|████████████████████████████████████████████████████████████████████████▍                                                                              | 139/290 [06:25<07:00,  2.78s/it]"
     ]
    },
    {
     "name": "stdout",
     "output_type": "stream",
     "text": [
      "50 19\n",
      "38 0\n",
      "36 0\n",
      "ADNI_037_S_4302_20131211\n",
      "164 138\n",
      "119 86\n",
      "142 81\n",
      "180 67\n",
      "231 75\n",
      "310 90\n",
      "98 63\n",
      "74 38\n",
      "60 19\n"
     ]
    },
    {
     "name": "stderr",
     "output_type": "stream",
     "text": [
      " 48%|████████████████████████████████████████████████████████████████████████▉                                                                              | 140/290 [06:27<06:46,  2.71s/it]"
     ]
    },
    {
     "name": "stdout",
     "output_type": "stream",
     "text": [
      "55 11\n",
      "51 0\n",
      "44 0\n",
      "ADNI_037_S_4308_20140409\n",
      "135 119\n",
      "87 70\n",
      "68 50\n",
      "64 45\n",
      "76 40\n",
      "111 41\n",
      "61 44\n",
      "49 29\n",
      "48 23\n"
     ]
    },
    {
     "name": "stderr",
     "output_type": "stream",
     "text": [
      " 49%|█████████████████████████████████████████████████████████████████████████▍                                                                             | 141/290 [06:29<05:49,  2.35s/it]"
     ]
    },
    {
     "name": "stdout",
     "output_type": "stream",
     "text": [
      "46 14\n",
      "43 0\n",
      "43 0\n",
      "ADNI_037_S_4381_20140321\n",
      "194 172\n",
      "123 99\n",
      "99 70\n",
      "97 63\n",
      "98 62\n",
      "98 58\n",
      "100 71\n",
      "85 52\n",
      "71 35\n"
     ]
    },
    {
     "name": "stderr",
     "output_type": "stream",
     "text": [
      " 49%|█████████████████████████████████████████████████████████████████████████▉                                                                             | 142/290 [06:30<05:27,  2.21s/it]"
     ]
    },
    {
     "name": "stdout",
     "output_type": "stream",
     "text": [
      "54 13\n",
      "48 0\n",
      "40 0\n",
      "ADNI_037_S_4410_20140115\n",
      "139 115\n",
      "86 59\n",
      "83 50\n",
      "111 39\n",
      "124 40\n",
      "141 39\n",
      "60 32\n",
      "49 19\n",
      "45 14\n",
      "44 9\n"
     ]
    },
    {
     "name": "stderr",
     "output_type": "stream",
     "text": [
      " 49%|██████████████████████████████████████████████████████████████████████████▍                                                                            | 143/290 [06:32<05:02,  2.06s/it]"
     ]
    },
    {
     "name": "stdout",
     "output_type": "stream",
     "text": [
      "41 0\n",
      "40 0\n",
      "ADNI_037_S_4706_20140512\n",
      "212 197\n",
      "136 116\n",
      "117 86\n",
      "107 61\n",
      "117 62\n",
      "125 57\n",
      "94 73\n",
      "72 48\n",
      "44 15\n",
      "47 11\n"
     ]
    },
    {
     "name": "stderr",
     "output_type": "stream",
     "text": [
      " 50%|██████████████████████████████████████████████████████████████████████████▉                                                                            | 144/290 [06:34<04:55,  2.02s/it]"
     ]
    },
    {
     "name": "stdout",
     "output_type": "stream",
     "text": [
      "43 0\n",
      "33 0\n",
      "ADNI_041_S_4004_20140428\n",
      "183 163\n",
      "136 106\n",
      "119 81\n",
      "124 62\n",
      "141 56\n",
      "168 51\n",
      "91 68\n",
      "58 33\n",
      "44 16\n",
      "40 10\n"
     ]
    },
    {
     "name": "stderr",
     "output_type": "stream",
     "text": [
      " 50%|███████████████████████████████████████████████████████████████████████████▌                                                                           | 145/290 [06:36<04:53,  2.02s/it]"
     ]
    },
    {
     "name": "stdout",
     "output_type": "stream",
     "text": [
      "39 0\n",
      "36 0\n",
      "ADNI_041_S_4014_20111202\n",
      "252 233\n",
      "175 150\n",
      "136 105\n",
      "138 91\n",
      "142 78\n",
      "160 68\n",
      "127 97\n",
      "94 58\n",
      "79 36\n",
      "73 24\n"
     ]
    },
    {
     "name": "stderr",
     "output_type": "stream",
     "text": [
      " 50%|████████████████████████████████████████████████████████████████████████████                                                                           | 146/290 [06:39<05:11,  2.16s/it]"
     ]
    },
    {
     "name": "stdout",
     "output_type": "stream",
     "text": [
      "62 0\n",
      "54 0\n",
      "ADNI_041_S_4037_20111205\n",
      "169 155\n",
      "121 106\n",
      "93 75\n",
      "78 44\n",
      "77 37\n",
      "89 36\n",
      "85 68\n",
      "49 30\n",
      "44 15\n"
     ]
    },
    {
     "name": "stderr",
     "output_type": "stream",
     "text": [
      " 51%|████████████████████████████████████████████████████████████████████████████▌                                                                          | 147/290 [06:40<04:46,  2.00s/it]"
     ]
    },
    {
     "name": "stdout",
     "output_type": "stream",
     "text": [
      "44 7\n",
      "42 0\n",
      "35 0\n",
      "ADNI_041_S_4041_20111213\n",
      "109 99\n",
      "53 42\n",
      "52 39\n",
      "45 29\n",
      "43 23\n",
      "45 20\n",
      "45 33\n",
      "31 18\n",
      "27 14\n",
      "20 7\n"
     ]
    },
    {
     "name": "stderr",
     "output_type": "stream",
     "text": [
      " 51%|█████████████████████████████████████████████████████████████████████████████                                                                          | 148/290 [06:41<04:01,  1.70s/it]"
     ]
    },
    {
     "name": "stdout",
     "output_type": "stream",
     "text": [
      "16 0\n",
      "19 0\n",
      "ADNI_041_S_4051_20110923\n",
      "219 178\n",
      "189 141\n",
      "161 97\n",
      "219 88\n",
      "294 100\n",
      "383 127\n",
      "133 83\n",
      "116 55\n",
      "94 32\n",
      "82 15\n"
     ]
    },
    {
     "name": "stderr",
     "output_type": "stream",
     "text": [
      " 51%|█████████████████████████████████████████████████████████████████████████████▌                                                                         | 149/290 [06:45<05:07,  2.18s/it]"
     ]
    },
    {
     "name": "stdout",
     "output_type": "stream",
     "text": [
      "76 0\n",
      "74 0\n",
      "ADNI_041_S_4060_20111212\n",
      "260 222\n",
      "216 152\n",
      "313 141\n",
      "443 145\n",
      "544 165\n",
      "613 175\n",
      "154 102\n",
      "106 51\n",
      "83 22\n",
      "80 12\n"
     ]
    },
    {
     "name": "stderr",
     "output_type": "stream",
     "text": [
      " 52%|██████████████████████████████████████████████████████████████████████████████                                                                         | 150/290 [06:49<06:49,  2.92s/it]"
     ]
    },
    {
     "name": "stdout",
     "output_type": "stream",
     "text": [
      "80 0\n",
      "69 0\n",
      "ADNI_041_S_4138_20111021\n",
      "98 81\n",
      "128 86\n",
      "230 89\n",
      "536 146\n",
      "736 180\n",
      "930 231\n",
      "79 49\n",
      "73 41\n",
      "69 31\n"
     ]
    },
    {
     "name": "stderr",
     "output_type": "stream",
     "text": [
      " 52%|██████████████████████████████████████████████████████████████████████████████▌                                                                        | 151/290 [06:54<08:05,  3.49s/it]"
     ]
    },
    {
     "name": "stdout",
     "output_type": "stream",
     "text": [
      "58 16\n",
      "53 0\n",
      "45 0\n",
      "ADNI_041_S_4143_20111122\n",
      "209 187\n",
      "123 93\n",
      "153 78\n",
      "193 75\n",
      "207 68\n",
      "244 79\n",
      "87 61\n",
      "56 28\n",
      "48 15\n",
      "45 10\n"
     ]
    },
    {
     "name": "stderr",
     "output_type": "stream",
     "text": [
      " 52%|███████████████████████████████████████████████████████████████████████████████▏                                                                       | 152/290 [06:56<07:18,  3.18s/it]"
     ]
    },
    {
     "name": "stdout",
     "output_type": "stream",
     "text": [
      "41 0\n",
      "38 0\n",
      "ADNI_041_S_4200_20111219\n",
      "243 203\n",
      "187 138\n",
      "171 114\n",
      "201 101\n",
      "224 96\n",
      "253 95\n",
      "143 95\n",
      "102 48\n",
      "89 35\n",
      "77 16\n"
     ]
    },
    {
     "name": "stderr",
     "output_type": "stream",
     "text": [
      " 53%|███████████████████████████████████████████████████████████████████████████████▋                                                                       | 153/290 [06:59<07:06,  3.11s/it]"
     ]
    },
    {
     "name": "stdout",
     "output_type": "stream",
     "text": [
      "69 0\n",
      "61 0\n",
      "ADNI_041_S_4271_20111007\n",
      "167 153\n",
      "101 84\n",
      "70 51\n",
      "59 40\n",
      "57 35\n",
      "60 35\n",
      "66 47\n",
      "53 33\n",
      "39 18\n"
     ]
    },
    {
     "name": "stderr",
     "output_type": "stream",
     "text": [
      " 53%|████████████████████████████████████████████████████████████████████████████████▏                                                                      | 154/290 [07:01<05:51,  2.59s/it]"
     ]
    },
    {
     "name": "stdout",
     "output_type": "stream",
     "text": [
      "26 4\n",
      "25 0\n",
      "21 0\n",
      "ADNI_041_S_4427_20111219\n",
      "196 176\n",
      "141 110\n",
      "137 95\n",
      "134 69\n",
      "152 64\n",
      "175 66\n",
      "115 84\n",
      "94 54\n",
      "77 31\n",
      "69 17\n",
      "61 0\n"
     ]
    },
    {
     "name": "stderr",
     "output_type": "stream",
     "text": [
      " 53%|████████████████████████████████████████████████████████████████████████████████▋                                                                      | 155/290 [07:03<05:40,  2.52s/it]"
     ]
    },
    {
     "name": "stdout",
     "output_type": "stream",
     "text": [
      "59 0\n",
      "ADNI_041_S_4510_20120910\n",
      "155 147\n",
      "96 88\n",
      "67 57\n",
      "83 50\n",
      "96 44\n",
      "128 51\n",
      "63 55\n",
      "39 27\n"
     ]
    },
    {
     "name": "stderr",
     "output_type": "stream",
     "text": [
      " 54%|█████████████████████████████████████████████████████████████████████████████████▏                                                                     | 156/290 [07:05<04:58,  2.23s/it]"
     ]
    },
    {
     "name": "stdout",
     "output_type": "stream",
     "text": [
      "40 22\n",
      "33 13\n",
      "29 0\n",
      "28 0\n",
      "ADNI_041_S_4513_20120905\n",
      "240 220\n",
      "188 167\n",
      "123 101\n",
      "102 78\n",
      "82 58\n",
      "81 55\n",
      "114 92\n",
      "79 54\n",
      "64 37\n",
      "43 12\n",
      "37 0\n"
     ]
    },
    {
     "name": "stderr",
     "output_type": "stream",
     "text": [
      " 54%|█████████████████████████████████████████████████████████████████████████████████▋                                                                     | 157/290 [07:07<04:47,  2.16s/it]"
     ]
    },
    {
     "name": "stdout",
     "output_type": "stream",
     "text": [
      "37 0\n",
      "ADNI_041_S_4720_20121109\n",
      "176 161\n",
      "144 105\n",
      "187 94\n",
      "309 105\n",
      "406 126\n",
      "508 153\n",
      "87 66\n",
      "59 32\n",
      "51 21\n"
     ]
    },
    {
     "name": "stderr",
     "output_type": "stream",
     "text": [
      " 54%|██████████████████████████████████████████████████████████████████████████████████▎                                                                    | 158/290 [07:10<05:33,  2.52s/it]"
     ]
    },
    {
     "name": "stdout",
     "output_type": "stream",
     "text": [
      "50 13\n",
      "40 0\n",
      "36 0\n",
      "ADNI_041_S_4874_20121105\n",
      "161 144\n",
      "111 94\n",
      "88 61\n",
      "90 46\n",
      "98 40\n",
      "108 42\n",
      "77 58\n",
      "44 22\n",
      "40 17\n"
     ]
    },
    {
     "name": "stderr",
     "output_type": "stream",
     "text": [
      " 55%|██████████████████████████████████████████████████████████████████████████████████▊                                                                    | 159/290 [07:12<04:53,  2.24s/it]"
     ]
    },
    {
     "name": "stdout",
     "output_type": "stream",
     "text": [
      "32 6\n",
      "27 0\n",
      "25 0\n",
      "ADNI_041_S_4876_20121106\n",
      "206 191\n",
      "166 128\n",
      "278 129\n",
      "537 171\n",
      "707 208\n",
      "874 241\n",
      "104 85\n",
      "63 42\n",
      "52 28\n",
      "47 16\n"
     ]
    },
    {
     "name": "stderr",
     "output_type": "stream",
     "text": [
      " 55%|███████████████████████████████████████████████████████████████████████████████████▎                                                                   | 160/290 [07:17<06:36,  3.05s/it]"
     ]
    },
    {
     "name": "stdout",
     "output_type": "stream",
     "text": [
      "47 0\n",
      "49 0\n",
      "ADNI_041_S_4877_20121212\n",
      "218 193\n",
      "131 96\n",
      "155 85\n",
      "229 84\n",
      "261 93\n",
      "297 96\n",
      "101 69\n",
      "73 35\n",
      "64 18\n"
     ]
    },
    {
     "name": "stderr",
     "output_type": "stream",
     "text": [
      " 56%|███████████████████████████████████████████████████████████████████████████████████▊                                                                   | 161/290 [07:19<06:21,  2.96s/it]"
     ]
    },
    {
     "name": "stdout",
     "output_type": "stream",
     "text": [
      "53 6\n",
      "53 0\n",
      "46 0\n",
      "ADNI_041_S_4974_20121015\n",
      "201 183\n",
      "170 130\n",
      "198 110\n",
      "323 110\n",
      "414 126\n",
      "516 148\n",
      "101 74\n",
      "81 51\n",
      "66 32\n",
      "65 21\n",
      "51 0\n"
     ]
    },
    {
     "name": "stderr",
     "output_type": "stream",
     "text": [
      " 56%|████████████████████████████████████████████████████████████████████████████████████▎                                                                  | 162/290 [07:23<06:44,  3.16s/it]"
     ]
    },
    {
     "name": "stdout",
     "output_type": "stream",
     "text": [
      "49 0\n",
      "ADNI_041_S_4989_20121019\n",
      "110 97\n",
      "72 59\n",
      "52 38\n",
      "73 34\n",
      "94 38\n",
      "112 39\n",
      "49 34\n",
      "42 23\n"
     ]
    },
    {
     "name": "stderr",
     "output_type": "stream",
     "text": [
      " 56%|████████████████████████████████████████████████████████████████████████████████████▊                                                                  | 163/290 [07:24<05:32,  2.62s/it]"
     ]
    },
    {
     "name": "stdout",
     "output_type": "stream",
     "text": [
      "38 17\n",
      "37 11\n",
      "30 0\n",
      "25 0\n",
      "ADNI_053_S_4578_20121003\n",
      "220 186\n",
      "150 109\n",
      "171 102\n",
      "242 103\n",
      "331 115\n",
      "461 143\n",
      "127 82\n",
      "104 51\n",
      "93 34\n",
      "82 19\n"
     ]
    },
    {
     "name": "stderr",
     "output_type": "stream",
     "text": [
      " 57%|█████████████████████████████████████████████████████████████████████████████████████▍                                                                 | 164/290 [07:28<06:01,  2.87s/it]"
     ]
    },
    {
     "name": "stdout",
     "output_type": "stream",
     "text": [
      "76 0\n",
      "76 0\n",
      "ADNI_053_S_4661_20120528\n",
      "145 130\n",
      "107 89\n",
      "84 60\n",
      "85 46\n",
      "93 45\n",
      "109 45\n",
      "70 50\n",
      "51 27\n",
      "38 11\n"
     ]
    },
    {
     "name": "stderr",
     "output_type": "stream",
     "text": [
      " 57%|█████████████████████████████████████████████████████████████████████████████████████▉                                                                 | 165/290 [07:29<05:09,  2.48s/it]"
     ]
    },
    {
     "name": "stdout",
     "output_type": "stream",
     "text": [
      "35 4\n",
      "35 0\n",
      "27 0\n",
      "ADNI_053_S_4813_20120928\n",
      "149 129\n",
      "124 102\n",
      "114 84\n",
      "134 76\n",
      "168 82\n",
      "186 82\n",
      "92 68\n",
      "69 44\n",
      "47 21\n",
      "40 8\n"
     ]
    },
    {
     "name": "stderr",
     "output_type": "stream",
     "text": [
      " 57%|██████████████████████████████████████████████████████████████████████████████████████▍                                                                | 166/290 [07:31<04:51,  2.35s/it]"
     ]
    },
    {
     "name": "stdout",
     "output_type": "stream",
     "text": [
      "38 0\n",
      "35 0\n",
      "ADNI_067_S_2195_20101119\n",
      "147 137\n",
      "73 63\n",
      "56 44\n",
      "56 31\n",
      "63 26\n",
      "76 26\n",
      "52 41\n",
      "31 18\n",
      "22 9\n",
      "19 3\n"
     ]
    },
    {
     "name": "stderr",
     "output_type": "stream",
     "text": [
      " 58%|██████████████████████████████████████████████████████████████████████████████████████▉                                                                | 167/290 [07:33<04:06,  2.01s/it]"
     ]
    },
    {
     "name": "stdout",
     "output_type": "stream",
     "text": [
      "20 0\n",
      "20 0\n",
      "ADNI_067_S_2301_20110830\n",
      "188 168\n",
      "126 103\n",
      "98 72\n",
      "91 54\n",
      "98 54\n",
      "88 40\n",
      "94 69\n",
      "61 35\n",
      "49 18\n"
     ]
    },
    {
     "name": "stderr",
     "output_type": "stream",
     "text": [
      " 58%|███████████████████████████████████████████████████████████████████████████████████████▍                                                               | 168/290 [07:34<03:56,  1.94s/it]"
     ]
    },
    {
     "name": "stdout",
     "output_type": "stream",
     "text": [
      "45 11\n",
      "42 0\n",
      "35 0\n",
      "ADNI_067_S_2304_20110914\n",
      "199 174\n",
      "132 103\n",
      "105 68\n",
      "122 52\n",
      "143 47\n",
      "206 67\n",
      "92 61\n",
      "63 31\n",
      "61 27\n"
     ]
    },
    {
     "name": "stderr",
     "output_type": "stream",
     "text": [
      " 58%|███████████████████████████████████████████████████████████████████████████████████████▉                                                               | 169/290 [07:37<04:02,  2.01s/it]"
     ]
    },
    {
     "name": "stdout",
     "output_type": "stream",
     "text": [
      "55 16\n",
      "47 0\n",
      "32 0\n",
      "ADNI_067_S_4054_20111215\n",
      "197 180\n",
      "125 97\n",
      "140 84\n",
      "210 86\n",
      "269 94\n",
      "333 109\n",
      "90 64\n",
      "68 37\n",
      "55 21\n",
      "48 10\n"
     ]
    },
    {
     "name": "stderr",
     "output_type": "stream",
     "text": [
      " 59%|████████████████████████████████████████████████████████████████████████████████████████▌                                                              | 170/290 [07:39<04:24,  2.21s/it]"
     ]
    },
    {
     "name": "stdout",
     "output_type": "stream",
     "text": [
      "44 0\n",
      "38 0\n",
      "ADNI_067_S_4072_20111012\n",
      "176 160\n",
      "122 101\n",
      "114 87\n",
      "109 71\n",
      "130 68\n",
      "151 70\n",
      "109 83\n",
      "74 46\n",
      "61 30\n",
      "44 12\n"
     ]
    },
    {
     "name": "stderr",
     "output_type": "stream",
     "text": [
      " 59%|█████████████████████████████████████████████████████████████████████████████████████████                                                              | 171/290 [07:41<04:14,  2.14s/it]"
     ]
    },
    {
     "name": "stdout",
     "output_type": "stream",
     "text": [
      "37 0\n",
      "30 0\n",
      "ADNI_067_S_4184_20111219\n",
      "231 194\n",
      "188 147\n",
      "150 106\n",
      "146 88\n",
      "149 83\n",
      "148 78\n",
      "142 99\n",
      "115 69\n",
      "101 52\n",
      "81 30\n"
     ]
    },
    {
     "name": "stderr",
     "output_type": "stream",
     "text": [
      " 59%|█████████████████████████████████████████████████████████████████████████████████████████▌                                                             | 172/290 [07:44<04:28,  2.28s/it]"
     ]
    },
    {
     "name": "stdout",
     "output_type": "stream",
     "text": [
      "55 0\n",
      "35 0\n",
      "ADNI_067_S_4212_20111219\n",
      "331 296\n",
      "243 196\n",
      "214 148\n",
      "243 134\n",
      "249 116\n",
      "282 113\n",
      "202 147\n",
      "144 79\n",
      "122 50\n",
      "119 28\n"
     ]
    },
    {
     "name": "stderr",
     "output_type": "stream",
     "text": [
      " 60%|██████████████████████████████████████████████████████████████████████████████████████████                                                             | 173/290 [07:48<05:19,  2.73s/it]"
     ]
    },
    {
     "name": "stdout",
     "output_type": "stream",
     "text": [
      "107 0\n",
      "86 0\n",
      "ADNI_067_S_4310_20111027\n",
      "179 166\n",
      "112 97\n",
      "96 77\n",
      "91 62\n",
      "106 59\n",
      "105 51\n",
      "84 66\n",
      "63 39\n",
      "54 27\n",
      "54 21\n",
      "35 0\n"
     ]
    },
    {
     "name": "stderr",
     "output_type": "stream",
     "text": [
      " 60%|██████████████████████████████████████████████████████████████████████████████████████████▌                                                            | 174/290 [07:49<04:42,  2.43s/it]"
     ]
    },
    {
     "name": "stdout",
     "output_type": "stream",
     "text": [
      "26 0\n",
      "ADNI_067_S_4767_20121210\n",
      "245 214\n",
      "203 155\n",
      "174 117\n",
      "178 102\n",
      "190 98\n",
      "225 104\n",
      "147 104\n",
      "122 69\n",
      "120 51\n",
      "115 34\n"
     ]
    },
    {
     "name": "stderr",
     "output_type": "stream",
     "text": [
      " 60%|███████████████████████████████████████████████████████████████████████████████████████████                                                            | 175/290 [07:52<05:02,  2.63s/it]"
     ]
    },
    {
     "name": "stdout",
     "output_type": "stream",
     "text": [
      "100 0\n",
      "89 0\n",
      "ADNI_067_S_4782_20121026\n",
      "267 238\n",
      "223 181\n",
      "195 146\n",
      "194 127\n",
      "202 124\n",
      "230 116\n",
      "178 133\n",
      "148 99\n",
      "124 67\n",
      "102 40\n"
     ]
    },
    {
     "name": "stderr",
     "output_type": "stream",
     "text": [
      " 61%|███████████████████████████████████████████████████████████████████████████████████████████▋                                                           | 176/290 [07:56<05:21,  2.82s/it]"
     ]
    },
    {
     "name": "stdout",
     "output_type": "stream",
     "text": [
      "73 0\n",
      "69 0\n",
      "ADNI_068_S_4061_20111219\n",
      "159 143\n",
      "96 78\n",
      "68 48\n",
      "96 55\n",
      "108 46\n",
      "127 46\n",
      "67 49\n",
      "54 28\n",
      "49 17\n",
      "48 15\n"
     ]
    },
    {
     "name": "stderr",
     "output_type": "stream",
     "text": [
      " 61%|████████████████████████████████████████████████████████████████████████████████████████████▏                                                          | 177/290 [07:57<04:39,  2.47s/it]"
     ]
    },
    {
     "name": "stdout",
     "output_type": "stream",
     "text": [
      "36 0\n",
      "33 0\n",
      "ADNI_068_S_4217_20111214\n",
      "183 167\n",
      "129 110\n",
      "120 95\n",
      "130 74\n",
      "152 70\n",
      "174 60\n",
      "103 79\n",
      "72 45\n",
      "61 31\n"
     ]
    },
    {
     "name": "stderr",
     "output_type": "stream",
     "text": [
      " 61%|████████████████████████████████████████████████████████████████████████████████████████████▋                                                          | 178/290 [07:59<04:25,  2.37s/it]"
     ]
    },
    {
     "name": "stdout",
     "output_type": "stream",
     "text": [
      "49 13\n",
      "45 0\n",
      "45 0\n",
      "ADNI_072_S_2116_20101026\n"
     ]
    },
    {
     "name": "stderr",
     "output_type": "stream",
     "text": [
      " 62%|█████████████████████████████████████████████████████████████████████████████████████████████▏                                                         | 179/290 [08:00<03:09,  1.71s/it]"
     ]
    },
    {
     "name": "stdout",
     "output_type": "stream",
     "text": [
      "ADNI_072_S_4007_20111101\n",
      "150 138\n",
      "98 84\n",
      "79 58\n",
      "83 53\n",
      "102 60\n",
      "120 60\n",
      "68 50\n",
      "60 37\n",
      "47 23\n",
      "46 18\n",
      "40 0\n"
     ]
    },
    {
     "name": "stderr",
     "output_type": "stream",
     "text": [
      " 62%|█████████████████████████████████████████████████████████████████████████████████████████████▋                                                         | 180/290 [08:01<03:06,  1.70s/it]"
     ]
    },
    {
     "name": "stdout",
     "output_type": "stream",
     "text": [
      "41 0\n",
      "ADNI_072_S_4057_20111212\n",
      "ADNI_072_S_4063_20111219\n",
      "ADNI_072_S_4103_20110720\n",
      "122 112\n",
      "87 76\n",
      "73 57\n",
      "74 48\n",
      "78 42\n",
      "95 39\n",
      "66 52\n",
      "53 32\n",
      "53 30\n"
     ]
    },
    {
     "name": "stderr",
     "output_type": "stream",
     "text": [
      " 63%|███████████████████████████████████████████████████████████████████████████████████████████████▎                                                       | 183/290 [08:03<01:51,  1.04s/it]"
     ]
    },
    {
     "name": "stdout",
     "output_type": "stream",
     "text": [
      "49 16\n",
      "42 0\n",
      "46 0\n",
      "ADNI_072_S_4769_20121017\n",
      "146 112\n",
      "129 89\n",
      "134 73\n",
      "161 71\n",
      "179 78\n",
      "201 75\n",
      "96 54\n",
      "85 36\n",
      "77 25\n",
      "68 12\n",
      "60 0\n"
     ]
    },
    {
     "name": "stderr",
     "output_type": "stream",
     "text": [
      " 63%|███████████████████████████████████████████████████████████████████████████████████████████████▊                                                       | 184/290 [08:05<02:19,  1.31s/it]"
     ]
    },
    {
     "name": "stdout",
     "output_type": "stream",
     "text": [
      "58 0\n",
      "ADNI_073_S_0311_20110901\n",
      "252 214\n",
      "210 159\n",
      "233 134\n",
      "308 128\n",
      "370 132\n",
      "432 141\n",
      "160 105\n",
      "115 52\n",
      "110 40\n",
      "105 25\n"
     ]
    },
    {
     "name": "stderr",
     "output_type": "stream",
     "text": [
      " 64%|████████████████████████████████████████████████████████████████████████████████████████████████▎                                                      | 185/290 [08:09<03:21,  1.92s/it]"
     ]
    },
    {
     "name": "stdout",
     "output_type": "stream",
     "text": [
      "90 0\n",
      "71 0\n",
      "ADNI_073_S_0746_20120213\n",
      "208 178\n",
      "149 110\n",
      "146 92\n",
      "157 87\n",
      "172 81\n",
      "197 79\n",
      "117 75\n",
      "94 49\n",
      "75 27\n"
     ]
    },
    {
     "name": "stderr",
     "output_type": "stream",
     "text": [
      " 64%|████████████████████████████████████████████████████████████████████████████████████████████████▊                                                      | 186/290 [08:12<03:33,  2.06s/it]"
     ]
    },
    {
     "name": "stdout",
     "output_type": "stream",
     "text": [
      "63 11\n",
      "61 0\n",
      "46 0\n",
      "ADNI_073_S_2153_20101105\n",
      "388 341\n",
      "283 223\n",
      "225 156\n",
      "224 133\n",
      "224 120\n",
      "243 116\n",
      "212 151\n",
      "152 79\n",
      "129 45\n",
      "117 25\n"
     ]
    },
    {
     "name": "stderr",
     "output_type": "stream",
     "text": [
      " 64%|█████████████████████████████████████████████████████████████████████████████████████████████████▎                                                     | 187/290 [08:15<04:18,  2.51s/it]"
     ]
    },
    {
     "name": "stdout",
     "output_type": "stream",
     "text": [
      "104 0\n",
      "85 0\n",
      "ADNI_073_S_2191_20110708\n",
      "126 114\n",
      "84 71\n",
      "69 46\n",
      "92 42\n",
      "110 39\n",
      "124 38\n",
      "53 37\n",
      "37 17\n",
      "37 13\n"
     ]
    },
    {
     "name": "stderr",
     "output_type": "stream",
     "text": [
      " 65%|█████████████████████████████████████████████████████████████████████████████████████████████████▉                                                     | 188/290 [08:17<03:48,  2.24s/it]"
     ]
    },
    {
     "name": "stdout",
     "output_type": "stream",
     "text": [
      "36 5\n",
      "39 0\n",
      "42 0\n",
      "ADNI_073_S_2225_20110808\n",
      "193 175\n",
      "106 87\n",
      "89 66\n",
      "87 43\n",
      "103 46\n",
      "124 51\n",
      "84 62\n",
      "52 29\n",
      "42 19\n",
      "33 7\n"
     ]
    },
    {
     "name": "stderr",
     "output_type": "stream",
     "text": [
      " 65%|██████████████████████████████████████████████████████████████████████████████████████████████████▍                                                    | 189/290 [08:19<03:30,  2.09s/it]"
     ]
    },
    {
     "name": "stdout",
     "output_type": "stream",
     "text": [
      "32 0\n",
      "29 0\n",
      "ADNI_073_S_2264_20110721\n",
      "224 192\n",
      "178 129\n",
      "198 107\n",
      "346 132\n",
      "459 151\n",
      "591 175\n",
      "123 75\n",
      "100 49\n",
      "90 33\n",
      "84 17\n"
     ]
    },
    {
     "name": "stderr",
     "output_type": "stream",
     "text": [
      " 66%|██████████████████████████████████████████████████████████████████████████████████████████████████▉                                                    | 190/290 [08:23<04:24,  2.65s/it]"
     ]
    },
    {
     "name": "stdout",
     "output_type": "stream",
     "text": [
      "75 0\n",
      "64 0\n",
      "ADNI_073_S_4216_20111206\n",
      "274 245\n",
      "202 170\n",
      "145 110\n",
      "127 86\n",
      "123 81\n",
      "116 67\n",
      "138 104\n",
      "109 70\n",
      "83 41\n",
      "67 19\n"
     ]
    },
    {
     "name": "stderr",
     "output_type": "stream",
     "text": [
      " 66%|███████████████████████████████████████████████████████████████████████████████████████████████████▍                                                   | 191/290 [08:25<04:17,  2.60s/it]"
     ]
    },
    {
     "name": "stdout",
     "output_type": "stream",
     "text": [
      "60 0\n",
      "46 0\n",
      "ADNI_073_S_4300_20111012\n",
      "274 236\n",
      "219 165\n",
      "236 139\n",
      "298 138\n",
      "365 149\n",
      "446 165\n",
      "186 125\n",
      "168 99\n",
      "129 58\n",
      "110 25\n"
     ]
    },
    {
     "name": "stderr",
     "output_type": "stream",
     "text": [
      " 66%|███████████████████████████████████████████████████████████████████████████████████████████████████▉                                                   | 192/290 [08:29<04:58,  3.05s/it]"
     ]
    },
    {
     "name": "stdout",
     "output_type": "stream",
     "text": [
      "98 0\n",
      "84 0\n",
      "ADNI_073_S_4311_20111017\n",
      "124 117\n",
      "79 69\n",
      "70 50\n",
      "126 64\n",
      "182 74\n",
      "247 80\n",
      "59 45\n",
      "54 36\n",
      "52 26\n",
      "48 13\n"
     ]
    },
    {
     "name": "stderr",
     "output_type": "stream",
     "text": [
      " 67%|████████████████████████████████████████████████████████████████████████████████████████████████████▍                                                  | 193/290 [08:31<04:24,  2.73s/it]"
     ]
    },
    {
     "name": "stdout",
     "output_type": "stream",
     "text": [
      "46 0\n",
      "43 0\n",
      "ADNI_073_S_4312_20111017\n",
      "182 161\n",
      "107 82\n",
      "85 54\n",
      "82 44\n",
      "89 46\n",
      "107 50\n",
      "82 52\n",
      "61 29\n",
      "63 26\n",
      "60 20\n",
      "46 0\n"
     ]
    },
    {
     "name": "stderr",
     "output_type": "stream",
     "text": [
      " 67%|█████████████████████████████████████████████████████████████████████████████████████████████████████                                                  | 194/290 [08:33<03:53,  2.43s/it]"
     ]
    },
    {
     "name": "stdout",
     "output_type": "stream",
     "text": [
      "36 0\n",
      "ADNI_073_S_4360_20111104\n",
      "130 119\n",
      "94 80\n",
      "83 50\n",
      "121 55\n",
      "145 59\n",
      "175 62\n",
      "61 45\n",
      "53 33\n",
      "48 24\n",
      "35 9\n"
     ]
    },
    {
     "name": "stderr",
     "output_type": "stream",
     "text": [
      " 67%|█████████████████████████████████████████████████████████████████████████████████████████████████████▌                                                 | 195/290 [08:35<03:33,  2.25s/it]"
     ]
    },
    {
     "name": "stdout",
     "output_type": "stream",
     "text": [
      "34 0\n",
      "36 0\n",
      "ADNI_073_S_4382_20111115\n",
      "124 111\n",
      "77 63\n",
      "56 41\n",
      "69 33\n",
      "85 34\n",
      "109 36\n",
      "53 39\n",
      "35 19\n",
      "31 11\n"
     ]
    },
    {
     "name": "stderr",
     "output_type": "stream",
     "text": [
      " 68%|██████████████████████████████████████████████████████████████████████████████████████████████████████                                                 | 196/290 [08:36<03:05,  1.98s/it]"
     ]
    },
    {
     "name": "stdout",
     "output_type": "stream",
     "text": [
      "31 9\n",
      "24 0\n",
      "21 0\n",
      "ADNI_073_S_4393_20111122\n",
      "262 241\n",
      "182 157\n",
      "129 101\n",
      "101 68\n",
      "89 52\n",
      "91 49\n",
      "116 91\n",
      "77 48\n",
      "58 28\n",
      "48 16\n",
      "43 0\n"
     ]
    },
    {
     "name": "stderr",
     "output_type": "stream",
     "text": [
      " 68%|██████████████████████████████████████████████████████████████████████████████████████████████████████▌                                                | 197/290 [08:38<03:06,  2.01s/it]"
     ]
    },
    {
     "name": "stdout",
     "output_type": "stream",
     "text": [
      "32 0\n",
      "ADNI_073_S_4552_20120524\n",
      "292 247\n",
      "239 183\n",
      "223 149\n",
      "241 127\n",
      "284 138\n",
      "306 134\n",
      "196 137\n",
      "145 76\n",
      "140 58\n",
      "126 31\n",
      "110 0\n"
     ]
    },
    {
     "name": "stderr",
     "output_type": "stream",
     "text": [
      " 68%|███████████████████████████████████████████████████████████████████████████████████████████████████████                                                | 198/290 [08:42<03:54,  2.55s/it]"
     ]
    },
    {
     "name": "stdout",
     "output_type": "stream",
     "text": [
      "106 0\n",
      "ADNI_073_S_4559_20121012\n",
      "393 336\n",
      "350 271\n",
      "337 229\n",
      "378 197\n",
      "430 203\n",
      "487 209\n",
      "280 193\n",
      "233 131\n",
      "191 81\n",
      "165 33\n",
      "164 0\n"
     ]
    },
    {
     "name": "stderr",
     "output_type": "stream",
     "text": [
      " 69%|███████████████████████████████████████████████████████████████████████████████████████████████████████▌                                               | 199/290 [08:48<05:14,  3.45s/it]"
     ]
    },
    {
     "name": "stdout",
     "output_type": "stream",
     "text": [
      "150 0\n",
      "ADNI_073_S_4614_20120919\n",
      "158 141\n",
      "132 108\n",
      "102 71\n",
      "91 55\n",
      "96 51\n",
      "112 52\n",
      "97 69\n",
      "68 39\n",
      "62 28\n"
     ]
    },
    {
     "name": "stderr",
     "output_type": "stream",
     "text": [
      " 69%|████████████████████████████████████████████████████████████████████████████████████████████████████████▏                                              | 200/290 [08:49<04:26,  2.96s/it]"
     ]
    },
    {
     "name": "stdout",
     "output_type": "stream",
     "text": [
      "54 17\n",
      "39 0\n",
      "33 0\n",
      "ADNI_073_S_4739_20121114\n",
      "147 134\n",
      "108 92\n",
      "85 64\n",
      "108 58\n",
      "119 57\n",
      "138 52\n",
      "77 61\n",
      "55 33\n",
      "45 20\n",
      "40 11\n"
     ]
    },
    {
     "name": "stderr",
     "output_type": "stream",
     "text": [
      " 69%|████████████████████████████████████████████████████████████████████████████████████████████████████████▋                                              | 201/290 [08:51<03:50,  2.59s/it]"
     ]
    },
    {
     "name": "stdout",
     "output_type": "stream",
     "text": [
      "36 0\n",
      "31 0\n",
      "ADNI_073_S_4777_20121212\n",
      "263 224\n",
      "205 152\n",
      "214 131\n",
      "340 128\n",
      "408 130\n",
      "525 148\n",
      "161 107\n",
      "130 65\n",
      "110 38\n",
      "91 13\n",
      "89 0\n"
     ]
    },
    {
     "name": "stderr",
     "output_type": "stream",
     "text": [
      " 70%|█████████████████████████████████████████████████████████████████████████████████████████████████████████▏                                             | 202/290 [08:55<04:29,  3.06s/it]"
     ]
    },
    {
     "name": "stdout",
     "output_type": "stream",
     "text": [
      "76 0\n",
      "ADNI_073_S_4795_20120606\n",
      "153 140\n",
      "91 75\n",
      "60 43\n",
      "50 32\n",
      "62 38\n",
      "79 40\n",
      "60 43\n",
      "57 38\n",
      "48 24\n"
     ]
    },
    {
     "name": "stderr",
     "output_type": "stream",
     "text": [
      " 70%|█████████████████████████████████████████████████████████████████████████████████████████████████████████▋                                             | 203/290 [08:57<03:42,  2.55s/it]"
     ]
    },
    {
     "name": "stdout",
     "output_type": "stream",
     "text": [
      "37 11\n",
      "30 0\n",
      "32 0\n",
      "ADNI_073_S_5023_20130403\n",
      "166 151\n",
      "106 90\n",
      "85 63\n",
      "93 51\n",
      "117 56\n",
      "148 61\n",
      "79 59\n",
      "55 33\n",
      "46 20\n",
      "34 7\n"
     ]
    },
    {
     "name": "stderr",
     "output_type": "stream",
     "text": [
      " 70%|██████████████████████████████████████████████████████████████████████████████████████████████████████████▏                                            | 204/290 [08:58<03:18,  2.31s/it]"
     ]
    },
    {
     "name": "stdout",
     "output_type": "stream",
     "text": [
      "31 0\n",
      "20 0\n",
      "ADNI_082_S_2121_20101012\n",
      "162 149\n",
      "101 84\n",
      "87 68\n",
      "76 55\n",
      "88 60\n",
      "90 55\n",
      "83 64\n",
      "72 53\n"
     ]
    },
    {
     "name": "stderr",
     "output_type": "stream",
     "text": [
      " 71%|██████████████████████████████████████████████████████████████████████████████████████████████████████████▋                                            | 205/290 [09:00<02:57,  2.09s/it]"
     ]
    },
    {
     "name": "stdout",
     "output_type": "stream",
     "text": [
      "48 27\n",
      "38 14\n",
      "28 0\n",
      "24 0\n",
      "ADNI_082_S_4090_20110921\n",
      "166 154\n",
      "88 74\n",
      "67 47\n",
      "93 53\n",
      "111 55\n",
      "130 54\n",
      "59 43\n",
      "50 31\n",
      "45 21\n",
      "46 15\n"
     ]
    },
    {
     "name": "stderr",
     "output_type": "stream",
     "text": [
      " 71%|███████████████████████████████████████████████████████████████████████████████████████████████████████████▎                                           | 206/290 [09:02<02:44,  1.96s/it]"
     ]
    },
    {
     "name": "stdout",
     "output_type": "stream",
     "text": [
      "35 0\n",
      "37 0\n",
      "ADNI_082_S_4208_20111207\n",
      "348 310\n",
      "275 221\n",
      "222 160\n",
      "258 146\n",
      "303 139\n",
      "349 134\n",
      "206 149\n",
      "166 92\n",
      "151 68\n",
      "131 43\n",
      "107 0\n"
     ]
    },
    {
     "name": "stderr",
     "output_type": "stream",
     "text": [
      " 71%|███████████████████████████████████████████████████████████████████████████████████████████████████████████▊                                           | 207/290 [09:06<03:36,  2.61s/it]"
     ]
    },
    {
     "name": "stdout",
     "output_type": "stream",
     "text": [
      "91 0\n",
      "ADNI_082_S_4244_20111019\n",
      "242 216\n",
      "177 142\n",
      "202 115\n",
      "330 126\n",
      "466 140\n",
      "624 168\n",
      "127 91\n",
      "120 75\n",
      "94 41\n",
      "83 19\n",
      "84 0\n"
     ]
    },
    {
     "name": "stderr",
     "output_type": "stream",
     "text": [
      " 72%|████████████████████████████████████████████████████████████████████████████████████████████████████████████▎                                          | 208/290 [09:10<04:13,  3.09s/it]"
     ]
    },
    {
     "name": "stdout",
     "output_type": "stream",
     "text": [
      "68 0\n",
      "ADNI_082_S_4339_20111109\n",
      "110 98\n",
      "90 73\n",
      "88 60\n",
      "106 54\n",
      "146 51\n",
      "171 46\n",
      "71 52\n",
      "50 26\n",
      "58 28\n"
     ]
    },
    {
     "name": "stderr",
     "output_type": "stream",
     "text": [
      " 72%|████████████████████████████████████████████████████████████████████████████████████████████████████████████▊                                          | 209/290 [09:12<03:40,  2.72s/it]"
     ]
    },
    {
     "name": "stdout",
     "output_type": "stream",
     "text": [
      "54 13\n",
      "52 0\n",
      "49 0\n",
      "ADNI_100_S_4469_20121023\n",
      "158 148\n",
      "95 85\n",
      "74 63\n",
      "55 40\n",
      "51 35\n",
      "51 30\n",
      "66 56\n",
      "36 25\n"
     ]
    },
    {
     "name": "stderr",
     "output_type": "stream",
     "text": [
      " 72%|█████████████████████████████████████████████████████████████████████████████████████████████████████████████▎                                         | 210/290 [09:13<03:01,  2.27s/it]"
     ]
    },
    {
     "name": "stdout",
     "output_type": "stream",
     "text": [
      "25 14\n",
      "19 6\n",
      "13 0\n",
      "9 0\n",
      "ADNI_100_S_4512_20121106\n",
      "156 137\n",
      "128 98\n",
      "149 87\n",
      "266 89\n",
      "402 113\n",
      "550 155\n",
      "94 64\n",
      "71 36\n",
      "62 27\n"
     ]
    },
    {
     "name": "stderr",
     "output_type": "stream",
     "text": [
      " 73%|█████████████████████████████████████████████████████████████████████████████████████████████████████████████▊                                         | 211/290 [09:16<03:23,  2.58s/it]"
     ]
    },
    {
     "name": "stdout",
     "output_type": "stream",
     "text": [
      "52 13\n",
      "46 0\n",
      "41 0\n",
      "ADNI_100_S_4556_20121126\n",
      "254 227\n",
      "184 153\n",
      "154 114\n",
      "138 87\n",
      "137 76\n",
      "148 73\n",
      "140 107\n",
      "98 60\n",
      "77 36\n",
      "66 20\n"
     ]
    },
    {
     "name": "stderr",
     "output_type": "stream",
     "text": [
      " 73%|██████████████████████████████████████████████████████████████████████████████████████████████████████████████▍                                        | 212/290 [09:19<03:18,  2.55s/it]"
     ]
    },
    {
     "name": "stdout",
     "output_type": "stream",
     "text": [
      "60 0\n",
      "43 0\n",
      "ADNI_114_S_4404_20120802\n",
      "131 123\n",
      "104 92\n",
      "80 67\n",
      "73 52\n",
      "82 52\n",
      "92 45\n",
      "79 65\n",
      "56 37\n",
      "38 16\n"
     ]
    },
    {
     "name": "stderr",
     "output_type": "stream",
     "text": [
      " 73%|██████████████████████████████████████████████████████████████████████████████████████████████████████████████▉                                        | 213/290 [09:20<02:52,  2.24s/it]"
     ]
    },
    {
     "name": "stdout",
     "output_type": "stream",
     "text": [
      "34 9\n",
      "34 0\n",
      "33 0\n",
      "ADNI_116_S_4043_20111209\n",
      "305 267\n",
      "225 177\n",
      "214 149\n",
      "236 127\n",
      "272 116\n",
      "325 117\n",
      "187 129\n",
      "136 69\n",
      "126 48\n",
      "114 24\n"
     ]
    },
    {
     "name": "stderr",
     "output_type": "stream",
     "text": [
      " 74%|███████████████████████████████████████████████████████████████████████████████████████████████████████████████▍                                       | 214/290 [09:24<03:24,  2.69s/it]"
     ]
    },
    {
     "name": "stdout",
     "output_type": "stream",
     "text": [
      "108 0\n",
      "92 0\n",
      "ADNI_116_S_4092_20110921\n",
      "126 112\n",
      "113 90\n",
      "155 81\n",
      "289 93\n",
      "412 116\n",
      "549 150\n",
      "71 50\n",
      "54 29\n",
      "39 11\n",
      "41 6\n"
     ]
    },
    {
     "name": "stderr",
     "output_type": "stream",
     "text": [
      " 74%|███████████████████████████████████████████████████████████████████████████████████████████████████████████████▉                                       | 215/290 [09:27<03:31,  2.82s/it]"
     ]
    },
    {
     "name": "stdout",
     "output_type": "stream",
     "text": [
      "41 0\n",
      "38 0\n",
      "ADNI_116_S_4167_20111109\n",
      "172 159\n",
      "119 100\n",
      "105 85\n",
      "70 50\n",
      "69 47\n",
      "62 38\n",
      "103 83\n",
      "64 42\n",
      "57 31\n",
      "47 19\n",
      "32 0\n"
     ]
    },
    {
     "name": "stderr",
     "output_type": "stream",
     "text": [
      " 74%|████████████████████████████████████████████████████████████████████████████████████████████████████████████████▍                                      | 216/290 [09:29<03:02,  2.46s/it]"
     ]
    },
    {
     "name": "stdout",
     "output_type": "stream",
     "text": [
      "23 0\n",
      "ADNI_116_S_4175_20111114\n",
      "81 74\n",
      "62 53\n",
      "47 35\n",
      "42 29\n",
      "45 28\n",
      "43 25\n",
      "46 34\n",
      "39 26\n",
      "31 17\n",
      "22 6\n",
      "19 0\n"
     ]
    },
    {
     "name": "stderr",
     "output_type": "stream",
     "text": [
      " 75%|████████████████████████████████████████████████████████████████████████████████████████████████████████████████▉                                      | 217/290 [09:30<02:27,  2.02s/it]"
     ]
    },
    {
     "name": "stdout",
     "output_type": "stream",
     "text": [
      "15 0\n",
      "ADNI_116_S_4195_20111209\n",
      "167 157\n",
      "82 71\n",
      "55 43\n",
      "52 38\n",
      "43 28\n",
      "40 24\n",
      "54 42\n",
      "37 24\n"
     ]
    },
    {
     "name": "stderr",
     "output_type": "stream",
     "text": [
      " 75%|█████████████████████████████████████████████████████████████████████████████████████████████████████████████████▌                                     | 218/290 [09:31<02:07,  1.77s/it]"
     ]
    },
    {
     "name": "stdout",
     "output_type": "stream",
     "text": [
      "28 13\n",
      "27 8\n",
      "22 0\n",
      "15 0\n",
      "ADNI_116_S_4199_20111123\n",
      "117 107\n",
      "85 71\n",
      "57 43\n",
      "48 30\n",
      "51 26\n",
      "50 23\n",
      "58 44\n",
      "33 19\n"
     ]
    },
    {
     "name": "stderr",
     "output_type": "stream",
     "text": [
      " 76%|██████████████████████████████████████████████████████████████████████████████████████████████████████████████████                                     | 219/290 [09:32<01:51,  1.57s/it]"
     ]
    },
    {
     "name": "stdout",
     "output_type": "stream",
     "text": [
      "27 13\n",
      "22 5\n",
      "20 0\n",
      "18 0\n",
      "ADNI_116_S_4453_20120809\n",
      "277 254\n",
      "172 140\n",
      "152 104\n",
      "163 93\n",
      "178 87\n",
      "187 75\n",
      "141 98\n",
      "120 67\n",
      "108 47\n",
      "102 27\n"
     ]
    },
    {
     "name": "stderr",
     "output_type": "stream",
     "text": [
      " 76%|██████████████████████████████████████████████████████████████████████████████████████████████████████████████████▌                                    | 220/290 [09:35<02:18,  1.98s/it]"
     ]
    },
    {
     "name": "stdout",
     "output_type": "stream",
     "text": [
      "89 0\n",
      "87 0\n",
      "ADNI_116_S_4483_20120821\n",
      "102 91\n",
      "70 57\n",
      "74 51\n",
      "92 51\n",
      "106 52\n",
      "126 52\n",
      "59 45\n",
      "45 28\n",
      "32 13\n",
      "34 9\n"
     ]
    },
    {
     "name": "stderr",
     "output_type": "stream",
     "text": [
      " 76%|███████████████████████████████████████████████████████████████████████████████████████████████████████████████████                                    | 221/290 [09:37<02:06,  1.84s/it]"
     ]
    },
    {
     "name": "stdout",
     "output_type": "stream",
     "text": [
      "34 0\n",
      "30 0\n",
      "ADNI_116_S_4625_20121019\n",
      "197 183\n",
      "120 103\n",
      "91 73\n",
      "84 53\n",
      "87 49\n",
      "105 50\n",
      "82 65\n",
      "54 33\n",
      "43 18\n"
     ]
    },
    {
     "name": "stderr",
     "output_type": "stream",
     "text": [
      " 77%|███████████████████████████████████████████████████████████████████████████████████████████████████████████████████▌                                   | 222/290 [09:38<02:02,  1.80s/it]"
     ]
    },
    {
     "name": "stdout",
     "output_type": "stream",
     "text": [
      "40 10\n",
      "38 0\n",
      "35 0\n",
      "ADNI_116_S_4635_20121015\n",
      "235 209\n",
      "187 150\n",
      "184 117\n",
      "254 114\n",
      "329 131\n",
      "432 142\n",
      "138 98\n",
      "112 58\n",
      "103 39\n",
      "108 24\n"
     ]
    },
    {
     "name": "stderr",
     "output_type": "stream",
     "text": [
      " 77%|████████████████████████████████████████████████████████████████████████████████████████████████████████████████████                                   | 223/290 [09:42<02:37,  2.36s/it]"
     ]
    },
    {
     "name": "stdout",
     "output_type": "stream",
     "text": [
      "96 0\n",
      "89 0\n",
      "ADNI_116_S_4898_20121107\n",
      "139 122\n",
      "93 67\n",
      "104 62\n",
      "129 60\n",
      "175 69\n",
      "207 78\n",
      "74 52\n",
      "59 35\n",
      "46 21\n",
      "42 10\n"
     ]
    },
    {
     "name": "stderr",
     "output_type": "stream",
     "text": [
      " 77%|████████████████████████████████████████████████████████████████████████████████████████████████████████████████████▋                                  | 224/290 [09:44<02:27,  2.24s/it]"
     ]
    },
    {
     "name": "stdout",
     "output_type": "stream",
     "text": [
      "36 0\n",
      "40 0\n",
      "ADNI_123_S_2363_20110422\n",
      "159 142\n",
      "108 88\n",
      "89 62\n",
      "123 59\n",
      "148 58\n",
      "191 64\n",
      "76 55\n",
      "54 30\n",
      "43 17\n",
      "46 11\n"
     ]
    },
    {
     "name": "stderr",
     "output_type": "stream",
     "text": [
      " 78%|█████████████████████████████████████████████████████████████████████████████████████████████████████████████████████▏                                 | 225/290 [09:46<02:20,  2.16s/it]"
     ]
    },
    {
     "name": "stdout",
     "output_type": "stream",
     "text": [
      "47 0\n",
      "51 0\n",
      "ADNI_123_S_4127_20111114\n",
      "127 114\n",
      "76 62\n",
      "59 44\n",
      "55 33\n",
      "52 29\n",
      "62 35\n",
      "55 41\n",
      "42 26\n"
     ]
    },
    {
     "name": "stderr",
     "output_type": "stream",
     "text": [
      " 78%|█████████████████████████████████████████████████████████████████████████████████████████████████████████████████████▋                                 | 226/290 [09:47<01:59,  1.87s/it]"
     ]
    },
    {
     "name": "stdout",
     "output_type": "stream",
     "text": [
      "34 14\n",
      "25 4\n",
      "24 0\n",
      "22 0\n",
      "ADNI_123_S_4170_20111209\n",
      "238 220\n",
      "156 134\n",
      "118 93\n",
      "99 69\n",
      "98 62\n",
      "117 63\n",
      "109 84\n",
      "83 55\n",
      "67 37\n"
     ]
    },
    {
     "name": "stderr",
     "output_type": "stream",
     "text": [
      " 78%|██████████████████████████████████████████████████████████████████████████████████████████████████████████████████████▏                                | 227/290 [09:49<02:01,  1.92s/it]"
     ]
    },
    {
     "name": "stdout",
     "output_type": "stream",
     "text": [
      "51 16\n",
      "37 0\n",
      "34 0\n",
      "ADNI_123_S_4526_20120814\n",
      "259 223\n",
      "187 138\n",
      "193 117\n",
      "244 122\n",
      "253 112\n",
      "284 116\n",
      "146 99\n",
      "116 61\n",
      "104 43\n",
      "83 20\n"
     ]
    },
    {
     "name": "stderr",
     "output_type": "stream",
     "text": [
      " 79%|██████████████████████████████████████████████████████████████████████████████████████████████████████████████████████▋                                | 228/290 [09:52<02:23,  2.32s/it]"
     ]
    },
    {
     "name": "stdout",
     "output_type": "stream",
     "text": [
      "74 0\n",
      "72 0\n",
      "ADNI_123_S_4780_20121220\n",
      "193 177\n",
      "110 91\n",
      "111 84\n",
      "141 88\n",
      "136 70\n",
      "139 60\n",
      "87 68\n",
      "54 34\n",
      "39 17\n",
      "32 8\n"
     ]
    },
    {
     "name": "stderr",
     "output_type": "stream",
     "text": [
      " 79%|███████████████████████████████████████████████████████████████████████████████████████████████████████████████████████▏                               | 229/290 [09:54<02:13,  2.19s/it]"
     ]
    },
    {
     "name": "stdout",
     "output_type": "stream",
     "text": [
      "25 0\n",
      "27 0\n",
      "ADNI_130_S_2373_20111101\n",
      "121 107\n",
      "83 63\n",
      "82 55\n",
      "92 56\n",
      "95 54\n",
      "104 51\n",
      "70 47\n",
      "69 42\n",
      "52 23\n",
      "41 10\n",
      "37 0\n"
     ]
    },
    {
     "name": "stderr",
     "output_type": "stream",
     "text": [
      " 79%|███████████████████████████████████████████████████████████████████████████████████████████████████████████████████████▊                               | 230/290 [09:56<01:59,  1.99s/it]"
     ]
    },
    {
     "name": "stdout",
     "output_type": "stream",
     "text": [
      "31 0\n",
      "ADNI_130_S_4250_20111005\n",
      "235 218\n",
      "136 114\n",
      "110 84\n",
      "105 58\n",
      "119 55\n",
      "139 56\n",
      "95 71\n",
      "59 30\n",
      "54 20\n",
      "47 8\n"
     ]
    },
    {
     "name": "stderr",
     "output_type": "stream",
     "text": [
      " 80%|████████████████████████████████████████████████████████████████████████████████████████████████████████████████████████▎                              | 231/290 [09:58<01:58,  2.00s/it]"
     ]
    },
    {
     "name": "stdout",
     "output_type": "stream",
     "text": [
      "46 0\n",
      "39 0\n",
      "ADNI_130_S_4294_20111121\n",
      "243 207\n",
      "219 172\n",
      "246 165\n",
      "262 138\n",
      "327 144\n",
      "412 155\n",
      "201 143\n",
      "144 77\n",
      "120 44\n",
      "117 23\n"
     ]
    },
    {
     "name": "stderr",
     "output_type": "stream",
     "text": [
      " 80%|████████████████████████████████████████████████████████████████████████████████████████████████████████████████████████▊                              | 232/290 [10:02<02:30,  2.60s/it]"
     ]
    },
    {
     "name": "stdout",
     "output_type": "stream",
     "text": [
      "111 0\n",
      "102 0\n",
      "ADNI_130_S_4343_20111109\n",
      "265 227\n",
      "191 143\n",
      "209 129\n",
      "302 126\n",
      "424 154\n",
      "581 186\n",
      "143 94\n",
      "118 58\n",
      "107 37\n",
      "99 22\n"
     ]
    },
    {
     "name": "stderr",
     "output_type": "stream",
     "text": [
      " 80%|█████████████████████████████████████████████████████████████████████████████████████████████████████████████████████████▎                             | 233/290 [10:06<02:54,  3.06s/it]"
     ]
    },
    {
     "name": "stdout",
     "output_type": "stream",
     "text": [
      "84 0\n",
      "73 0\n",
      "ADNI_130_S_4405_20120416\n",
      "206 183\n",
      "152 123\n",
      "118 83\n",
      "108 62\n",
      "138 67\n",
      "145 62\n",
      "102 71\n",
      "75 42\n",
      "63 29\n"
     ]
    },
    {
     "name": "stderr",
     "output_type": "stream",
     "text": [
      " 81%|█████████████████████████████████████████████████████████████████████████████████████████████████████████████████████████▊                             | 234/290 [10:08<02:35,  2.78s/it]"
     ]
    },
    {
     "name": "stdout",
     "output_type": "stream",
     "text": [
      "63 22\n",
      "46 0\n",
      "38 0\n",
      "ADNI_130_S_4415_20120517\n",
      "167 145\n",
      "127 98\n",
      "153 85\n",
      "246 90\n",
      "318 93\n",
      "375 102\n",
      "87 61\n",
      "69 37\n",
      "56 20\n",
      "49 7\n"
     ]
    },
    {
     "name": "stderr",
     "output_type": "stream",
     "text": [
      " 81%|██████████████████████████████████████████████████████████████████████████████████████████████████████████████████████████▎                            | 235/290 [10:11<02:33,  2.80s/it]"
     ]
    },
    {
     "name": "stdout",
     "output_type": "stream",
     "text": [
      "44 0\n",
      "39 0\n",
      "ADNI_130_S_4417_20120727\n",
      "248 230\n",
      "179 153\n",
      "161 117\n",
      "199 105\n",
      "262 120\n",
      "325 135\n",
      "120 96\n",
      "97 70\n",
      "83 48\n",
      "67 27\n"
     ]
    },
    {
     "name": "stderr",
     "output_type": "stream",
     "text": [
      " 81%|██████████████████████████████████████████████████████████████████████████████████████████████████████████████████████████▉                            | 236/290 [10:14<02:34,  2.86s/it]"
     ]
    },
    {
     "name": "stdout",
     "output_type": "stream",
     "text": [
      "46 0\n",
      "38 0\n",
      "ADNI_130_S_4468_20120813\n",
      "161 148\n",
      "118 100\n",
      "99 74\n",
      "121 80\n",
      "118 72\n",
      "118 64\n",
      "97 74\n",
      "81 52\n",
      "65 33\n",
      "55 17\n",
      "46 0\n"
     ]
    },
    {
     "name": "stderr",
     "output_type": "stream",
     "text": [
      " 82%|███████████████████████████████████████████████████████████████████████████████████████████████████████████████████████████▍                           | 237/290 [10:16<02:17,  2.60s/it]"
     ]
    },
    {
     "name": "stdout",
     "output_type": "stream",
     "text": [
      "38 0\n",
      "ADNI_130_S_4641_20121010\n",
      "248 217\n",
      "215 152\n",
      "225 122\n",
      "344 126\n",
      "446 156\n",
      "580 188\n",
      "154 95\n",
      "150 81\n",
      "114 43\n",
      "99 23\n",
      "85 0\n"
     ]
    },
    {
     "name": "stderr",
     "output_type": "stream",
     "text": [
      " 82%|███████████████████████████████████████████████████████████████████████████████████████████████████████████████████████████▉                           | 238/290 [10:20<02:43,  3.14s/it]"
     ]
    },
    {
     "name": "stdout",
     "output_type": "stream",
     "text": [
      "86 0\n",
      "ADNI_135_S_4281_20111014\n",
      "176 144\n",
      "137 94\n",
      "238 111\n",
      "421 141\n",
      "531 160\n",
      "632 178\n",
      "119 78\n",
      "95 46\n",
      "82 30\n",
      "71 11\n"
     ]
    },
    {
     "name": "stderr",
     "output_type": "stream",
     "text": [
      " 82%|████████████████████████████████████████████████████████████████████████████████████████████████████████████████████████████▍                          | 239/290 [10:24<02:56,  3.45s/it]"
     ]
    },
    {
     "name": "stdout",
     "output_type": "stream",
     "text": [
      "66 0\n",
      "61 0\n",
      "ADNI_135_S_4309_20111026\n",
      "143 130\n",
      "106 86\n",
      "120 75\n",
      "178 80\n",
      "225 100\n",
      "264 89\n",
      "76 57\n",
      "66 39\n",
      "59 28\n"
     ]
    },
    {
     "name": "stderr",
     "output_type": "stream",
     "text": [
      " 83%|████████████████████████████████████████████████████████████████████████████████████████████████████████████████████████████▉                          | 240/290 [10:27<02:34,  3.10s/it]"
     ]
    },
    {
     "name": "stdout",
     "output_type": "stream",
     "text": [
      "48 14\n",
      "41 0\n",
      "25 0\n",
      "ADNI_135_S_4356_20111110\n",
      "138 129\n",
      "98 88\n",
      "73 59\n",
      "67 39\n",
      "80 38\n",
      "105 47\n",
      "65 55\n",
      "40 24\n",
      "35 15\n"
     ]
    },
    {
     "name": "stderr",
     "output_type": "stream",
     "text": [
      " 83%|█████████████████████████████████████████████████████████████████████████████████████████████████████████████████████████████▍                         | 241/290 [10:28<02:07,  2.60s/it]"
     ]
    },
    {
     "name": "stdout",
     "output_type": "stream",
     "text": [
      "36 9\n",
      "32 0\n",
      "33 0\n",
      "ADNI_135_S_4406_20111207\n",
      "190 178\n",
      "121 105\n",
      "85 68\n",
      "82 61\n",
      "78 55\n",
      "79 53\n",
      "85 66\n",
      "72 51\n",
      "50 27\n",
      "41 16\n"
     ]
    },
    {
     "name": "stderr",
     "output_type": "stream",
     "text": [
      "/home/s2208943/miniconda3/envs/wmh/lib/python3.8/site-packages/scipy/stats/_stats_py.py:1304: RuntimeWarning: Mean of empty slice.\n",
      "  mean = a.mean(axis, keepdims=True)\n",
      "/home/s2208943/miniconda3/envs/wmh/lib/python3.8/site-packages/numpy/core/_methods.py:184: RuntimeWarning: invalid value encountered in divide\n",
      "  ret = um.true_divide(\n",
      "/home/s2208943/miniconda3/envs/wmh/lib/python3.8/site-packages/numpy/core/fromnumeric.py:3464: RuntimeWarning: Mean of empty slice.\n",
      "  return _methods._mean(a, axis=axis, dtype=dtype,\n",
      "/home/s2208943/miniconda3/envs/wmh/lib/python3.8/site-packages/numpy/core/_methods.py:192: RuntimeWarning: invalid value encountered in divide\n",
      "  ret = ret.dtype.type(ret / rcount)\n",
      "/home/s2208943/miniconda3/envs/wmh/lib/python3.8/site-packages/scipy/stats/_stats_py.py:1417: RuntimeWarning: Mean of empty slice.\n",
      "  mean = a.mean(axis, keepdims=True)\n",
      " 83%|██████████████████████████████████████████████████████████████████████████████████████████████████████████████████████████████                         | 242/290 [10:30<01:52,  2.34s/it]"
     ]
    },
    {
     "name": "stdout",
     "output_type": "stream",
     "text": [
      "30 0\n",
      "19 0\n",
      "ADNI_135_S_4446_20120809\n",
      "137 96\n",
      "113 64\n",
      "139 74\n",
      "166 76\n",
      "188 80\n",
      "227 83\n",
      "94 47\n",
      "81 33\n",
      "71 22\n"
     ]
    },
    {
     "name": "stderr",
     "output_type": "stream",
     "text": [
      " 84%|██████████████████████████████████████████████████████████████████████████████████████████████████████████████████████████████▌                        | 243/290 [10:32<01:49,  2.33s/it]"
     ]
    },
    {
     "name": "stdout",
     "output_type": "stream",
     "text": [
      "66 13\n",
      "56 0\n",
      "49 0\n",
      "ADNI_135_S_4489_20120802\n",
      "140 128\n",
      "91 75\n",
      "76 48\n",
      "115 59\n",
      "140 51\n",
      "184 62\n",
      "47 35\n",
      "44 28\n",
      "30 11\n",
      "31 5\n",
      "33 0\n"
     ]
    },
    {
     "name": "stderr",
     "output_type": "stream",
     "text": [
      " 84%|███████████████████████████████████████████████████████████████████████████████████████████████████████████████████████████████                        | 244/290 [10:34<01:38,  2.14s/it]"
     ]
    },
    {
     "name": "stdout",
     "output_type": "stream",
     "text": [
      "30 0\n",
      "ADNI_135_S_4566_20120919\n",
      "164 148\n",
      "99 79\n",
      "103 65\n",
      "145 53\n",
      "187 56\n",
      "242 67\n",
      "72 50\n",
      "59 29\n",
      "52 19\n",
      "51 9\n"
     ]
    },
    {
     "name": "stderr",
     "output_type": "stream",
     "text": [
      " 84%|███████████████████████████████████████████████████████████████████████████████████████████████████████████████████████████████▌                       | 245/290 [10:36<01:36,  2.15s/it]"
     ]
    },
    {
     "name": "stdout",
     "output_type": "stream",
     "text": [
      "52 0\n",
      "39 0\n",
      "ADNI_135_S_4598_20121016\n",
      "166 156\n",
      "108 97\n",
      "66 54\n",
      "61 46\n",
      "60 43\n",
      "61 41\n",
      "63 51\n",
      "46 33\n",
      "34 20\n"
     ]
    },
    {
     "name": "stderr",
     "output_type": "stream",
     "text": [
      " 85%|████████████████████████████████████████████████████████████████████████████████████████████████████████████████████████████████                       | 246/290 [10:37<01:23,  1.91s/it]"
     ]
    },
    {
     "name": "stdout",
     "output_type": "stream",
     "text": [
      "28 9\n",
      "20 0\n",
      "18 0\n",
      "ADNI_135_S_4657_20121029\n",
      "213 192\n",
      "161 132\n",
      "176 126\n",
      "198 93\n",
      "240 91\n",
      "303 103\n",
      "143 109\n",
      "99 56\n",
      "91 39\n",
      "77 18\n"
     ]
    },
    {
     "name": "stderr",
     "output_type": "stream",
     "text": [
      " 85%|████████████████████████████████████████████████████████████████████████████████████████████████████████████████████████████████▌                      | 247/290 [10:40<01:36,  2.23s/it]"
     ]
    },
    {
     "name": "stdout",
     "output_type": "stream",
     "text": [
      "67 0\n",
      "64 0\n",
      "ADNI_135_S_4676_20121106\n",
      "214 193\n",
      "153 127\n",
      "121 79\n",
      "164 72\n",
      "199 71\n",
      "235 73\n",
      "101 72\n",
      "72 35\n",
      "57 18\n",
      "59 9\n",
      "62 0\n"
     ]
    },
    {
     "name": "stderr",
     "output_type": "stream",
     "text": [
      " 86%|█████████████████████████████████████████████████████████████████████████████████████████████████████████████████████████████████▏                     | 248/290 [10:43<01:37,  2.31s/it]"
     ]
    },
    {
     "name": "stdout",
     "output_type": "stream",
     "text": [
      "57 0\n",
      "ADNI_135_S_4689_20121116\n",
      "135 124\n",
      "80 64\n",
      "71 52\n",
      "80 37\n",
      "118 42\n",
      "159 50\n",
      "65 49\n",
      "45 24\n",
      "47 19\n",
      "48 10\n"
     ]
    },
    {
     "name": "stderr",
     "output_type": "stream",
     "text": [
      " 86%|█████████████████████████████████████████████████████████████████████████████████████████████████████████████████████████████████▋                     | 249/290 [10:45<01:26,  2.12s/it]"
     ]
    },
    {
     "name": "stdout",
     "output_type": "stream",
     "text": [
      "46 0\n",
      "41 0\n",
      "ADNI_135_S_4722_20121205\n",
      "153 133\n",
      "132 106\n",
      "131 81\n",
      "170 72\n",
      "189 73\n",
      "216 83\n",
      "93 70\n",
      "69 42\n",
      "49 20\n",
      "44 13\n"
     ]
    },
    {
     "name": "stderr",
     "output_type": "stream",
     "text": [
      " 86%|██████████████████████████████████████████████████████████████████████████████████████████████████████████████████████████████████▏                    | 250/290 [10:47<01:25,  2.15s/it]"
     ]
    },
    {
     "name": "stdout",
     "output_type": "stream",
     "text": [
      "33 0\n",
      "31 0\n",
      "ADNI_135_S_4723_20121205\n",
      "100 85\n",
      "75 58\n",
      "86 45\n",
      "135 51\n",
      "180 63\n",
      "198 64\n",
      "47 30\n",
      "43 25\n"
     ]
    },
    {
     "name": "stderr",
     "output_type": "stream",
     "text": [
      " 87%|██████████████████████████████████████████████████████████████████████████████████████████████████████████████████████████████████▋                    | 251/290 [10:49<01:18,  2.02s/it]"
     ]
    },
    {
     "name": "stdout",
     "output_type": "stream",
     "text": [
      "36 16\n",
      "26 5\n",
      "26 0\n",
      "23 0\n",
      "ADNI_137_S_4211_20111213\n",
      "85 76\n",
      "65 53\n",
      "50 31\n",
      "52 23\n",
      "74 27\n",
      "94 31\n",
      "34 23\n",
      "24 12\n",
      "21 8\n",
      "21 4\n"
     ]
    },
    {
     "name": "stderr",
     "output_type": "stream",
     "text": [
      " 87%|███████████████████████████████████████████████████████████████████████████████████████████████████████████████████████████████████▏                   | 252/290 [10:50<01:06,  1.74s/it]"
     ]
    },
    {
     "name": "stdout",
     "output_type": "stream",
     "text": [
      "20 0\n",
      "17 0\n",
      "ADNI_137_S_4258_20111011\n",
      "182 165\n",
      "113 93\n",
      "90 66\n",
      "89 60\n",
      "87 51\n",
      "99 49\n",
      "87 63\n",
      "70 43\n",
      "65 35\n",
      "56 24\n",
      "42 0\n"
     ]
    },
    {
     "name": "stderr",
     "output_type": "stream",
     "text": [
      " 87%|███████████████████████████████████████████████████████████████████████████████████████████████████████████████████████████████████▋                   | 253/290 [10:51<01:04,  1.75s/it]"
     ]
    },
    {
     "name": "stdout",
     "output_type": "stream",
     "text": [
      "37 0\n",
      "ADNI_137_S_4299_20111102\n",
      "323 281\n",
      "266 216\n",
      "221 165\n",
      "219 144\n",
      "223 125\n",
      "232 110\n",
      "209 154\n",
      "163 101\n",
      "126 54\n",
      "106 26\n"
     ]
    },
    {
     "name": "stderr",
     "output_type": "stream",
     "text": [
      " 88%|████████████████████████████████████████████████████████████████████████████████████████████████████████████████████████████████████▎                  | 254/290 [10:55<01:23,  2.31s/it]"
     ]
    },
    {
     "name": "stdout",
     "output_type": "stream",
     "text": [
      "96 0\n",
      "68 0\n",
      "ADNI_137_S_4331_20111116\n",
      "256 218\n",
      "211 161\n",
      "195 126\n",
      "267 137\n",
      "344 146\n",
      "462 160\n",
      "173 117\n",
      "157 85\n",
      "146 61\n",
      "141 39\n",
      "149 0\n"
     ]
    },
    {
     "name": "stderr",
     "output_type": "stream",
     "text": [
      " 88%|████████████████████████████████████████████████████████████████████████████████████████████████████████████████████████████████████▊                  | 255/290 [10:59<01:41,  2.90s/it]"
     ]
    },
    {
     "name": "stdout",
     "output_type": "stream",
     "text": [
      "129 0\n",
      "ADNI_137_S_4351_20111202\n",
      "146 128\n",
      "116 93\n",
      "85 59\n",
      "73 41\n",
      "81 40\n",
      "97 43\n",
      "72 47\n",
      "57 28\n",
      "57 26\n",
      "58 23\n",
      "39 0\n"
     ]
    },
    {
     "name": "stderr",
     "output_type": "stream",
     "text": [
      " 88%|█████████████████████████████████████████████████████████████████████████████████████████████████████████████████████████████████████▎                 | 256/290 [11:01<01:25,  2.51s/it]"
     ]
    },
    {
     "name": "stdout",
     "output_type": "stream",
     "text": [
      "34 0\n",
      "ADNI_137_S_4466_20120827\n",
      "166 148\n",
      "116 98\n",
      "84 65\n",
      "77 46\n",
      "78 41\n",
      "86 32\n",
      "76 58\n",
      "49 29\n",
      "35 13\n"
     ]
    },
    {
     "name": "stderr",
     "output_type": "stream",
     "text": [
      " 89%|█████████████████████████████████████████████████████████████████████████████████████████████████████████████████████████████████████▊                 | 257/290 [11:02<01:13,  2.22s/it]"
     ]
    },
    {
     "name": "stdout",
     "output_type": "stream",
     "text": [
      "32 8\n",
      "28 0\n",
      "26 0\n",
      "ADNI_137_S_4482_20120914\n",
      "91 81\n",
      "67 55\n",
      "73 52\n",
      "73 39\n",
      "82 38\n",
      "92 40\n",
      "56 42\n",
      "39 24\n",
      "32 17\n"
     ]
    },
    {
     "name": "stderr",
     "output_type": "stream",
     "text": [
      " 89%|██████████████████████████████████████████████████████████████████████████████████████████████████████████████████████████████████████▎                | 258/290 [11:04<01:01,  1.93s/it]"
     ]
    },
    {
     "name": "stdout",
     "output_type": "stream",
     "text": [
      "25 10\n",
      "18 0\n",
      "15 0\n",
      "ADNI_137_S_4520_20120926\n",
      "159 148\n",
      "106 90\n",
      "85 69\n",
      "65 40\n",
      "69 36\n",
      "82 36\n",
      "78 62\n",
      "51 32\n",
      "38 16\n"
     ]
    },
    {
     "name": "stderr",
     "output_type": "stream",
     "text": [
      " 89%|██████████████████████████████████████████████████████████████████████████████████████████████████████████████████████████████████████▊                | 259/290 [11:05<00:55,  1.80s/it]"
     ]
    },
    {
     "name": "stdout",
     "output_type": "stream",
     "text": [
      "45 15\n",
      "35 0\n",
      "27 0\n",
      "ADNI_137_S_4536_20120910\n",
      "147 132\n",
      "99 73\n",
      "158 69\n",
      "327 110\n",
      "404 117\n",
      "489 134\n",
      "58 42\n",
      "54 37\n",
      "37 18\n",
      "26 4\n",
      "23 0\n"
     ]
    },
    {
     "name": "stderr",
     "output_type": "stream",
     "text": [
      " 90%|███████████████████████████████████████████████████████████████████████████████████████████████████████████████████████████████████████▍               | 260/290 [11:08<01:05,  2.17s/it]"
     ]
    },
    {
     "name": "stdout",
     "output_type": "stream",
     "text": [
      "22 0\n",
      "ADNI_137_S_4587_20121018\n",
      "123 108\n",
      "94 77\n",
      "75 55\n",
      "74 49\n",
      "81 45\n",
      "85 45\n",
      "73 55\n",
      "50 29\n",
      "45 21\n"
     ]
    },
    {
     "name": "stderr",
     "output_type": "stream",
     "text": [
      " 90%|███████████████████████████████████████████████████████████████████████████████████████████████████████████████████████████████████████▉               | 261/290 [11:10<00:56,  1.95s/it]"
     ]
    },
    {
     "name": "stdout",
     "output_type": "stream",
     "text": [
      "40 14\n",
      "32 0\n",
      "31 0\n",
      "ADNI_137_S_4596_20121008\n",
      "150 136\n",
      "119 103\n",
      "105 80\n",
      "121 68\n",
      "134 62\n",
      "153 58\n",
      "94 76\n",
      "69 46\n",
      "61 35\n"
     ]
    },
    {
     "name": "stderr",
     "output_type": "stream",
     "text": [
      " 90%|████████████████████████████████████████████████████████████████████████████████████████████████████████████████████████████████████████▍              | 262/290 [11:12<00:54,  1.95s/it]"
     ]
    },
    {
     "name": "stdout",
     "output_type": "stream",
     "text": [
      "57 28\n",
      "31 0\n",
      "27 0\n",
      "ADNI_137_S_4623_20121112\n",
      "163 143\n",
      "109 88\n",
      "83 59\n",
      "79 45\n",
      "111 60\n",
      "155 72\n",
      "78 54\n",
      "66 38\n",
      "61 29\n"
     ]
    },
    {
     "name": "stderr",
     "output_type": "stream",
     "text": [
      " 91%|████████████████████████████████████████████████████████████████████████████████████████████████████████████████████████████████████████▉              | 263/290 [11:13<00:51,  1.90s/it]"
     ]
    },
    {
     "name": "stdout",
     "output_type": "stream",
     "text": [
      "48 12\n",
      "41 0\n",
      "43 0\n",
      "ADNI_137_S_4631_20121213\n",
      "220 190\n",
      "192 143\n",
      "167 96\n",
      "200 97\n",
      "220 87\n",
      "244 85\n",
      "136 86\n",
      "117 58\n",
      "111 38\n",
      "107 21\n"
     ]
    },
    {
     "name": "stderr",
     "output_type": "stream",
     "text": [
      " 91%|█████████████████████████████████████████████████████████████████████████████████████████████████████████████████████████████████████████▍             | 264/290 [11:16<00:58,  2.25s/it]"
     ]
    },
    {
     "name": "stdout",
     "output_type": "stream",
     "text": [
      "98 0\n",
      "84 0\n",
      "ADNI_137_S_4632_20121217\n",
      "106 93\n",
      "103 75\n",
      "128 79\n",
      "185 71\n",
      "230 76\n",
      "291 96\n",
      "93 65\n",
      "82 48\n",
      "75 32\n",
      "66 14\n",
      "65 0\n"
     ]
    },
    {
     "name": "stderr",
     "output_type": "stream",
     "text": [
      " 91%|█████████████████████████████████████████████████████████████████████████████████████████████████████████████████████████████████████████▉             | 265/290 [11:19<00:58,  2.32s/it]"
     ]
    },
    {
     "name": "stdout",
     "output_type": "stream",
     "text": [
      "51 0\n",
      "ADNI_137_S_4672_20121016\n",
      "186 170\n",
      "105 88\n",
      "91 74\n",
      "76 51\n",
      "78 43\n",
      "99 51\n",
      "84 67\n",
      "56 38\n",
      "46 27\n"
     ]
    },
    {
     "name": "stderr",
     "output_type": "stream",
     "text": [
      " 92%|██████████████████████████████████████████████████████████████████████████████████████████████████████████████████████████████████████████▌            | 266/290 [11:21<00:50,  2.11s/it]"
     ]
    },
    {
     "name": "stdout",
     "output_type": "stream",
     "text": [
      "30 8\n",
      "29 0\n",
      "22 0\n",
      "ADNI_137_S_4678_20121126\n",
      "117 98\n",
      "81 55\n",
      "110 55\n",
      "177 53\n",
      "236 63\n",
      "271 64\n",
      "67 42\n",
      "51 24\n",
      "45 16\n",
      "39 9\n"
     ]
    },
    {
     "name": "stderr",
     "output_type": "stream",
     "text": [
      " 92%|███████████████████████████████████████████████████████████████████████████████████████████████████████████████████████████████████████████            | 267/290 [11:23<00:48,  2.12s/it]"
     ]
    },
    {
     "name": "stdout",
     "output_type": "stream",
     "text": [
      "35 0\n",
      "33 0\n",
      "ADNI_137_S_4815_20121019\n",
      "157 133\n",
      "126 87\n",
      "175 84\n",
      "335 110\n",
      "430 130\n",
      "582 162\n",
      "92 57\n",
      "64 26\n",
      "57 14\n"
     ]
    },
    {
     "name": "stderr",
     "output_type": "stream",
     "text": [
      " 92%|███████████████████████████████████████████████████████████████████████████████████████████████████████████████████████████████████████████▌           | 268/290 [11:26<00:55,  2.53s/it]"
     ]
    },
    {
     "name": "stdout",
     "output_type": "stream",
     "text": [
      "51 5\n",
      "49 0\n",
      "46 0\n",
      "ADNI_137_S_4816_20121031\n",
      "231 186\n",
      "206 136\n",
      "327 134\n",
      "626 192\n",
      "751 213\n",
      "913 255\n",
      "112 62\n",
      "94 37\n",
      "85 24\n",
      "79 13\n",
      "75 0\n"
     ]
    },
    {
     "name": "stderr",
     "output_type": "stream",
     "text": [
      " 93%|████████████████████████████████████████████████████████████████████████████████████████████████████████████████████████████████████████████           | 269/290 [11:32<01:12,  3.45s/it]"
     ]
    },
    {
     "name": "stdout",
     "output_type": "stream",
     "text": [
      "65 0\n",
      "ADNI_141_S_4160_20111205\n",
      "238 210\n",
      "204 169\n",
      "167 123\n",
      "160 103\n",
      "168 95\n",
      "184 92\n",
      "161 122\n",
      "130 84\n",
      "96 44\n",
      "80 19\n",
      "79 0\n"
     ]
    },
    {
     "name": "stderr",
     "output_type": "stream",
     "text": [
      " 93%|████████████████████████████████████████████████████████████████████████████████████████████████████████████████████████████████████████████▌          | 270/290 [11:35<01:05,  3.27s/it]"
     ]
    },
    {
     "name": "stdout",
     "output_type": "stream",
     "text": [
      "67 0\n",
      "ADNI_141_S_4232_20110924\n",
      "160 134\n",
      "111 82\n",
      "95 62\n",
      "120 57\n",
      "122 49\n",
      "143 59\n",
      "90 57\n",
      "72 36\n",
      "57 16\n"
     ]
    },
    {
     "name": "stderr",
     "output_type": "stream",
     "text": [
      " 93%|█████████████████████████████████████████████████████████████████████████████████████████████████████████████████████████████████████████████          | 271/290 [11:37<00:54,  2.88s/it]"
     ]
    },
    {
     "name": "stdout",
     "output_type": "stream",
     "text": [
      "58 9\n",
      "55 0\n",
      "42 0\n",
      "ADNI_153_S_2109_20101005\n",
      "ADNI_153_S_2148_20101026\n",
      "137 128\n",
      "90 73\n",
      "124 67\n",
      "241 101\n",
      "332 112\n",
      "406 130\n",
      "56 44\n",
      "47 30\n",
      "48 26\n",
      "43 11\n",
      "41 0\n"
     ]
    },
    {
     "name": "stderr",
     "output_type": "stream",
     "text": [
      " 94%|██████████████████████████████████████████████████████████████████████████████████████████████████████████████████████████████████████████████▏        | 273/290 [11:39<00:36,  2.17s/it]"
     ]
    },
    {
     "name": "stdout",
     "output_type": "stream",
     "text": [
      "36 0\n",
      "ADNI_153_S_4077_20110920\n",
      "325 294\n",
      "206 169\n",
      "161 116\n",
      "174 103\n",
      "185 91\n",
      "216 93\n",
      "141 102\n",
      "111 66\n",
      "102 50\n",
      "87 26\n"
     ]
    },
    {
     "name": "stderr",
     "output_type": "stream",
     "text": [
      " 94%|██████████████████████████████████████████████████████████████████████████████████████████████████████████████████████████████████████████████▋        | 274/290 [11:42<00:38,  2.38s/it]"
     ]
    },
    {
     "name": "stdout",
     "output_type": "stream",
     "text": [
      "71 0\n",
      "55 0\n",
      "ADNI_153_S_4133_20111102\n",
      "146 129\n",
      "105 77\n",
      "140 62\n",
      "225 69\n",
      "279 89\n",
      "327 103\n",
      "61 42\n",
      "43 24\n",
      "34 15\n",
      "31 11\n"
     ]
    },
    {
     "name": "stderr",
     "output_type": "stream",
     "text": [
      " 95%|███████████████████████████████████████████████████████████████████████████████████████████████████████████████████████████████████████████████▏       | 275/290 [11:45<00:35,  2.39s/it]"
     ]
    },
    {
     "name": "stdout",
     "output_type": "stream",
     "text": [
      "23 0\n",
      "21 0\n",
      "ADNI_153_S_4151_20111107\n",
      "188 172\n",
      "100 77\n",
      "91 56\n",
      "146 63\n",
      "184 70\n",
      "239 84\n",
      "66 43\n",
      "62 35\n",
      "50 20\n",
      "48 16\n"
     ]
    },
    {
     "name": "stderr",
     "output_type": "stream",
     "text": [
      " 95%|███████████████████████████████████████████████████████████████████████████████████████████████████████████████████████████████████████████████▋       | 276/290 [11:47<00:32,  2.31s/it]"
     ]
    },
    {
     "name": "stdout",
     "output_type": "stream",
     "text": [
      "34 0\n",
      "35 0\n",
      "ADNI_153_S_4159_20111108\n",
      "116 105\n",
      "88 74\n",
      "79 59\n",
      "77 46\n",
      "86 41\n",
      "95 41\n",
      "65 49\n",
      "45 29\n",
      "36 17\n"
     ]
    },
    {
     "name": "stderr",
     "output_type": "stream",
     "text": [
      " 96%|████████████████████████████████████████████████████████████████████████████████████████████████████████████████████████████████████████████████▏      | 277/290 [11:48<00:26,  2.07s/it]"
     ]
    },
    {
     "name": "stdout",
     "output_type": "stream",
     "text": [
      "34 10\n",
      "30 0\n",
      "27 0\n",
      "ADNI_153_S_4172_20111031\n",
      "148 140\n",
      "123 107\n",
      "95 71\n",
      "119 61\n",
      "139 56\n",
      "174 53\n",
      "83 64\n",
      "58 36\n",
      "52 26\n",
      "41 11\n"
     ]
    },
    {
     "name": "stderr",
     "output_type": "stream",
     "text": [
      " 96%|████████████████████████████████████████████████████████████████████████████████████████████████████████████████████████████████████████████████▊      | 278/290 [11:50<00:24,  2.03s/it]"
     ]
    },
    {
     "name": "stdout",
     "output_type": "stream",
     "text": [
      "36 0\n",
      "29 0\n",
      "ADNI_153_S_4372_20111130\n",
      "96 87\n",
      "60 47\n",
      "39 25\n",
      "42 27\n",
      "48 26\n",
      "53 21\n",
      "41 27\n",
      "33 18\n",
      "29 13\n",
      "28 10\n"
     ]
    },
    {
     "name": "stderr",
     "output_type": "stream",
     "text": [
      " 96%|█████████████████████████████████████████████████████████████████████████████████████████████████████████████████████████████████████████████████▎     | 279/290 [11:51<00:19,  1.73s/it]"
     ]
    },
    {
     "name": "stdout",
     "output_type": "stream",
     "text": [
      "22 0\n",
      "24 0\n",
      "ADNI_153_S_4621_20121030\n",
      "296 247\n",
      "244 183\n",
      "236 157\n",
      "280 148\n",
      "324 147\n",
      "396 159\n",
      "202 136\n",
      "180 103\n",
      "150 67\n",
      "129 28\n",
      "111 0\n"
     ]
    },
    {
     "name": "stderr",
     "output_type": "stream",
     "text": [
      " 97%|█████████████████████████████████████████████████████████████████████████████████████████████████████████████████████████████████████████████████▊     | 280/290 [11:56<00:25,  2.57s/it]"
     ]
    },
    {
     "name": "stdout",
     "output_type": "stream",
     "text": [
      "99 0\n",
      "ADNI_941_S_1195_20110315\n",
      "121 108\n",
      "87 73\n",
      "82 56\n",
      "97 37\n",
      "123 38\n",
      "156 47\n",
      "66 50\n",
      "44 24\n",
      "42 15\n",
      "37 5\n"
     ]
    },
    {
     "name": "stderr",
     "output_type": "stream",
     "text": [
      " 97%|██████████████████████████████████████████████████████████████████████████████████████████████████████████████████████████████████████████████████▎    | 281/290 [11:57<00:20,  2.30s/it]"
     ]
    },
    {
     "name": "stdout",
     "output_type": "stream",
     "text": [
      "37 0\n",
      "32 0\n",
      "ADNI_941_S_2060_20101206\n",
      "192 174\n",
      "168 119\n",
      "304 133\n",
      "645 171\n",
      "885 198\n",
      "1094 251\n",
      "95 71\n",
      "64 35\n",
      "52 20\n",
      "47 8\n"
     ]
    },
    {
     "name": "stderr",
     "output_type": "stream",
     "text": [
      " 97%|██████████████████████████████████████████████████████████████████████████████████████████████████████████████████████████████████████████████████▊    | 282/290 [12:03<00:26,  3.33s/it]"
     ]
    },
    {
     "name": "stdout",
     "output_type": "stream",
     "text": [
      "47 0\n",
      "40 0\n",
      "ADNI_941_S_4036_20111006\n",
      "211 193\n",
      "143 125\n",
      "95 77\n",
      "89 68\n",
      "86 58\n",
      "86 50\n",
      "90 71\n",
      "65 45\n",
      "43 23\n",
      "27 6\n"
     ]
    },
    {
     "name": "stderr",
     "output_type": "stream",
     "text": [
      " 98%|███████████████████████████████████████████████████████████████████████████████████████████████████████████████████████████████████████████████████▎   | 283/290 [12:05<00:19,  2.85s/it]"
     ]
    },
    {
     "name": "stdout",
     "output_type": "stream",
     "text": [
      "24 0\n",
      "19 0\n",
      "ADNI_941_S_4100_20111003\n",
      "139 119\n",
      "156 88\n",
      "386 108\n",
      "880 211\n",
      "1144 280\n",
      "1384 371\n",
      "80 50\n",
      "75 40\n",
      "62 21\n"
     ]
    },
    {
     "name": "stderr",
     "output_type": "stream",
     "text": [
      " 98%|███████████████████████████████████████████████████████████████████████████████████████████████████████████████████████████████████████████████████▉   | 284/290 [12:12<00:24,  4.08s/it]"
     ]
    },
    {
     "name": "stdout",
     "output_type": "stream",
     "text": [
      "55 7\n",
      "50 0\n",
      "45 0\n",
      "ADNI_941_S_4187_20111128\n",
      "182 169\n",
      "91 75\n",
      "74 56\n",
      "80 48\n",
      "86 41\n",
      "88 34\n",
      "70 51\n",
      "51 29\n",
      "44 18\n"
     ]
    },
    {
     "name": "stderr",
     "output_type": "stream",
     "text": [
      " 98%|████████████████████████████████████████████████████████████████████████████████████████████████████████████████████████████████████████████████████▍  | 285/290 [12:13<00:16,  3.33s/it]"
     ]
    },
    {
     "name": "stdout",
     "output_type": "stream",
     "text": [
      "41 12\n",
      "36 0\n",
      "33 0\n",
      "ADNI_941_S_4255_20111202\n",
      "139 126\n",
      "95 79\n",
      "88 58\n",
      "124 57\n",
      "164 62\n",
      "222 69\n",
      "71 51\n",
      "53 32\n",
      "47 24\n",
      "38 7\n"
     ]
    },
    {
     "name": "stderr",
     "output_type": "stream",
     "text": [
      " 99%|████████████████████████████████████████████████████████████████████████████████████████████████████████████████████████████████████████████████████▉  | 286/290 [12:15<00:11,  2.92s/it]"
     ]
    },
    {
     "name": "stdout",
     "output_type": "stream",
     "text": [
      "43 0\n",
      "41 0\n",
      "ADNI_941_S_4292_20111205\n",
      "146 134\n",
      "82 70\n",
      "60 45\n",
      "77 42\n",
      "94 46\n",
      "111 46\n",
      "52 38\n",
      "38 23\n",
      "37 18\n"
     ]
    },
    {
     "name": "stderr",
     "output_type": "stream",
     "text": [
      " 99%|█████████████████████████████████████████████████████████████████████████████████████████████████████████████████████████████████████████████████████▍ | 287/290 [12:17<00:07,  2.48s/it]"
     ]
    },
    {
     "name": "stdout",
     "output_type": "stream",
     "text": [
      "32 9\n",
      "27 0\n",
      "21 0\n",
      "ADNI_941_S_4365_20111122\n",
      "279 248\n",
      "200 159\n",
      "198 134\n",
      "241 119\n",
      "284 126\n",
      "328 126\n",
      "157 117\n",
      "121 70\n",
      "106 47\n",
      "88 22\n",
      "76 0\n"
     ]
    },
    {
     "name": "stderr",
     "output_type": "stream",
     "text": [
      " 99%|█████████████████████████████████████████████████████████████████████████████████████████████████████████████████████████████████████████████████████▉ | 288/290 [12:20<00:05,  2.80s/it]"
     ]
    },
    {
     "name": "stdout",
     "output_type": "stream",
     "text": [
      "82 0\n",
      "ADNI_941_S_4376_20110601\n",
      "193 154\n",
      "167 119\n",
      "182 91\n",
      "268 105\n",
      "349 128\n",
      "427 145\n",
      "125 77\n",
      "110 59\n",
      "96 33\n",
      "90 17\n"
     ]
    },
    {
     "name": "stderr",
     "output_type": "stream",
     "text": [
      "100%|██████████████████████████████████████████████████████████████████████████████████████████████████████████████████████████████████████████████████████▍| 289/290 [12:24<00:03,  3.02s/it]"
     ]
    },
    {
     "name": "stdout",
     "output_type": "stream",
     "text": [
      "80 0\n",
      "71 0\n",
      "ADNI_941_S_4764_20120820\n",
      "148 134\n",
      "99 74\n",
      "133 68\n",
      "224 61\n",
      "301 75\n",
      "377 81\n",
      "63 46\n",
      "46 25\n",
      "40 17\n",
      "43 13\n"
     ]
    },
    {
     "name": "stderr",
     "output_type": "stream",
     "text": [
      "100%|███████████████████████████████████████████████████████████████████████████████████████████████████████████████████████████████████████████████████████| 290/290 [12:27<00:00,  2.58s/it]"
     ]
    },
    {
     "name": "stdout",
     "output_type": "stream",
     "text": [
      "37 0\n",
      "28 0\n"
     ]
    },
    {
     "name": "stderr",
     "output_type": "stream",
     "text": [
      "\n"
     ]
    }
   ],
   "source": [
    "data = {}\n",
    "failed_ids = []\n",
    "for idx in tqdm(range(len(IDs)), position=0, leave=True):\n",
    "    ID = IDs[idx][0]\n",
    "    print(ID)\n",
    "    try:\n",
    "        vmap = vent_maps[idx].cuda()\n",
    "        smap = output_maps_for_pred[IDs[idx][1]][2].cuda()\n",
    "        smap_expanded = get_edge_expanded_seg(smap)\n",
    "        seg_volume = smap.sum().item()\n",
    "        vent_volume = vmap.sum().item()\n",
    "        vmap_ds = downsample_3d(vmap)\n",
    "\n",
    "        ind_data = {}\n",
    "\n",
    "        for input_type in [\"ent\", \"pred\"]:\n",
    "            if input_type == \"ent\":\n",
    "                umap = output_maps_for_umaps[IDs[idx][1]][0].cuda()\n",
    "                ts = [0.1, 0.2, 0.3, 0.4, 0.45, 0.5]\n",
    "                maxv = 0.7\n",
    "            # elif input_type == \"var\":\n",
    "            #     umap = output_maps_for_umaps[IDs[idx][1]][3].cuda()\n",
    "            #     ts = [0.01, 0.03, 0.06, 0.09, 0.12, 0.15]\n",
    "            #     maxv = 0.2\n",
    "            elif input_type == \"pred\":\n",
    "                umap = output_maps_for_pred[IDs[idx][1]][1].cuda()\n",
    "                ts = [0.1, 0.2, 0.3, 0.4, 0.5, 0.6]\n",
    "                maxv = 1.0\n",
    "            else:\n",
    "                raise ValueError  \n",
    "\n",
    "            umap_ds = downsample_3d(umap)\n",
    "\n",
    "            collected_data_t = {}\n",
    "\n",
    "            for t in ts:\n",
    "                ut = umap > t\n",
    "                umap_values = umap[ut]\n",
    "\n",
    "                #### summary statistics\n",
    "                sum, mean, std, skew, kurtosis = gaussian_summary_statistics(umap_values.cpu())\n",
    "                values_hist = histogram_distribution(umap_values, bins=20, minv=t, maxv=maxv)\n",
    "\n",
    "                #### overlap statistics\n",
    "                intersection = (ut * smap).sum()\n",
    "                expanded_intersection = (ut * smap_expanded).sum()\n",
    "\n",
    "                prop_umap_segmented = (intersection / ut.sum()).item()\n",
    "                prop_umap_within_expanded_seg = (expanded_intersection / ut.sum()).item()\n",
    "                prop_seg_uncertain = (intersection / smap.sum()).item()\n",
    "\n",
    "                ### ventricle distance statistics\n",
    "                ut_ds = umap_ds > t\n",
    "                distances_closest, distance_map = min_distances(ut_ds, vmap_ds)\n",
    "                distance_map = F.interpolate(distance_map.view(1, 1, *distance_map.shape), umap.shape, mode='trilinear').squeeze()\n",
    "                _, dist_mean, dist_std, dist_skew, dist_kurt = gaussian_summary_statistics(distances_closest.cpu())\n",
    "                umap_ds_values = umap_ds[ut_ds]\n",
    "                dist_value_joint = joint_hist_values({\"x\":distances_closest, \"y\":umap_ds_values}, x=\"x\", y=\"y\", minx=0, maxx=30, miny=t, maxy=maxv, bins=5).cpu()\n",
    "\n",
    "                ### connected component analysis statistics\n",
    "                conn_comps = get_conn_comps(ut)\n",
    "                cc_data = conn_comp_basic_stats(umap, conn_comps, smap, distance_map)\n",
    "                cc_data[\"log_sizes\"] = torch.Tensor(cc_data[\"sizes\"]).log()\n",
    "                cc_size_dist_joint = joint_hist_values(cc_data, \"log_sizes\", \"vent_dists\", 0, 8, 0, 10, 5).cpu()\n",
    "\n",
    "                # recorded values\n",
    "                all_data = {}\n",
    "                for key, value in cc_data.items():\n",
    "                    all_data[\"cc_\" + key] = value\n",
    "                all_data[\"sum\"] = sum\n",
    "                all_data[\"mean\"] = mean\n",
    "                all_data[\"std\"] = std\n",
    "                all_data[\"skew\"] = skew\n",
    "                all_data[\"kurtosis\"] = kurtosis\n",
    "                all_data[\"prop_umap_segmented\"] = prop_umap_segmented\n",
    "                all_data[\"prop_umap_within_expanded_seg\"] = prop_umap_within_expanded_seg\n",
    "                all_data[\"prop_seg_uncertain\"] = prop_seg_uncertain\n",
    "                all_data[\"dist_mean\"] = dist_mean\n",
    "                all_data[\"dist_std\"] = dist_std\n",
    "                all_data[\"dist_skew\"] = dist_skew\n",
    "                all_data[\"dist_kurt\"] = dist_kurt\n",
    "                all_data[\"dist_value_joint\"] = dist_value_joint\n",
    "                all_data[\"cc_dist_value_joint\"] = cc_size_dist_joint\n",
    "                all_data[\"seg_volume\"] = seg_volume\n",
    "                all_data[\"vent_volume\"] = vent_volume\n",
    "                all_data[\"values_hist\"] = values_hist\n",
    "\n",
    "                print(all_data[\"cc_num\"], all_data[\"cc_unsegmented_ccs\"])\n",
    "                collected_data_t[str(t)] = all_data\n",
    "\n",
    "\n",
    "                # break\n",
    "\n",
    "            ind_data[input_type] = collected_data_t\n",
    "            # break\n",
    "\n",
    "        data[ID] = ind_data\n",
    "        # break\n",
    "    except:\n",
    "        failed_ids.append((idx, ID))\n",
    "    # break\n",
    "        "
   ]
  },
  {
   "cell_type": "code",
   "execution_count": 54,
   "id": "0390c9fa-e5c2-4dcf-a388-12e8c6807b72",
   "metadata": {
    "tags": []
   },
   "outputs": [
    {
     "data": {
      "text/plain": [
       "dict_keys(['ent', 'pred'])"
      ]
     },
     "execution_count": 54,
     "metadata": {},
     "output_type": "execute_result"
    }
   ],
   "source": [
    "data['ADNI_002_S_0729_20110816'].keys()"
   ]
  },
  {
   "cell_type": "code",
   "execution_count": 55,
   "id": "1f00649e-426e-41b2-9c35-fd91650affeb",
   "metadata": {
    "tags": []
   },
   "outputs": [],
   "source": [
    "example_data = data['ADNI_002_S_0729_20110816']"
   ]
  },
  {
   "cell_type": "code",
   "execution_count": 56,
   "id": "1af428f3-69c6-4076-a725-4a571eb25549",
   "metadata": {
    "tags": []
   },
   "outputs": [
    {
     "data": {
      "text/plain": [
       "dict_keys(['cc_num', 'cc_sizes', 'cc_means', 'cc_stds', 'cc_skews', 'cc_kurts', 'cc_vent_dists', 'cc_unsegmented_ccs', 'cc_size_mean', 'cc_size_std', 'cc_size_skew', 'cc_size_kurt', 'cc_vd_mean', 'cc_vd_std', 'cc_vd_skew', 'cc_vd_kurt', 'cc_log_sizes', 'sum', 'mean', 'std', 'skew', 'kurtosis', 'prop_umap_segmented', 'prop_umap_within_expanded_seg', 'prop_seg_uncertain', 'dist_mean', 'dist_std', 'dist_skew', 'dist_kurt', 'dist_value_joint', 'cc_dist_value_joint', 'seg_volume', 'vent_volume', 'values_hist'])"
      ]
     },
     "execution_count": 56,
     "metadata": {},
     "output_type": "execute_result"
    }
   ],
   "source": [
    "example_data['ent']['0.45'].keys()"
   ]
  },
  {
   "cell_type": "code",
   "execution_count": 57,
   "id": "1ded3a69-4def-4372-9865-af1e389bbc2e",
   "metadata": {
    "tags": []
   },
   "outputs": [
    {
     "data": {
      "text/plain": [
       "[0.2874999940395355,\n",
       " 0.09375,\n",
       " 0.0062500000931322575,\n",
       " 0.0,\n",
       " 0.0,\n",
       " 0.23125000298023224,\n",
       " 0.0625,\n",
       " 0.012500000186264515,\n",
       " 0.0,\n",
       " 0.0,\n",
       " 0.13124999403953552,\n",
       " 0.03125,\n",
       " 0.0,\n",
       " 0.0,\n",
       " 0.0,\n",
       " 0.07500000298023224,\n",
       " 0.0062500000931322575,\n",
       " 0.0,\n",
       " 0.0,\n",
       " 0.0,\n",
       " 0.05624999850988388,\n",
       " 0.0062500000931322575,\n",
       " 0.0,\n",
       " 0.0,\n",
       " 0.0]"
      ]
     },
     "execution_count": 57,
     "metadata": {},
     "output_type": "execute_result"
    }
   ],
   "source": [
    "example_data['ent']['0.45']['dist_value_joint'].view(-1).tolist()"
   ]
  },
  {
   "cell_type": "code",
   "execution_count": 58,
   "id": "ebcd0f33-21f4-497c-80f9-f72c7c1320b7",
   "metadata": {
    "tags": []
   },
   "outputs": [],
   "source": [
    "row_data = example_data['ent']['0.45']"
   ]
  },
  {
   "cell_type": "code",
   "execution_count": 59,
   "id": "e39ef700-4103-4048-ae90-6dae3a101935",
   "metadata": {
    "tags": []
   },
   "outputs": [
    {
     "data": {
      "text/plain": [
       "dict_keys(['cc_num', 'cc_sizes', 'cc_means', 'cc_stds', 'cc_skews', 'cc_kurts', 'cc_vent_dists', 'cc_unsegmented_ccs', 'cc_size_mean', 'cc_size_std', 'cc_size_skew', 'cc_size_kurt', 'cc_vd_mean', 'cc_vd_std', 'cc_vd_skew', 'cc_vd_kurt', 'cc_log_sizes', 'sum', 'mean', 'std', 'skew', 'kurtosis', 'prop_umap_segmented', 'prop_umap_within_expanded_seg', 'prop_seg_uncertain', 'dist_mean', 'dist_std', 'dist_skew', 'dist_kurt', 'dist_value_joint', 'cc_dist_value_joint', 'seg_volume', 'vent_volume', 'values_hist'])"
      ]
     },
     "execution_count": 59,
     "metadata": {},
     "output_type": "execute_result"
    }
   ],
   "source": [
    "row_data.keys()"
   ]
  },
  {
   "cell_type": "code",
   "execution_count": 60,
   "id": "0c18f0f5-8e8a-4764-9518-dd413a12db27",
   "metadata": {
    "tags": []
   },
   "outputs": [],
   "source": [
    "import pandas as pd"
   ]
  },
  {
   "cell_type": "code",
   "execution_count": 61,
   "id": "4428a6cf-b376-4c46-b1a4-f44563314a15",
   "metadata": {
    "tags": []
   },
   "outputs": [
    {
     "name": "stderr",
     "output_type": "stream",
     "text": [
      "100%|██████████████████████████████████████████████████████████████████████████████████████████████████████████████████████████████████████████████████████| 286/286 [00:01<00:00, 196.52it/s]\n"
     ]
    }
   ],
   "source": [
    "pd_dfs = defaultdict(lambda : defaultdict(lambda : defaultdict(lambda : [])))\n",
    "pd_other_data_dfs = defaultdict(lambda : [])\n",
    "\n",
    "for ID_key in tqdm(natsorted(data.keys()), position=0, leave=True):\n",
    "    ind_data = data[ID_key]\n",
    "    for input_key in natsorted(ind_data.keys()):\n",
    "        map_type_data = ind_data[input_key]\n",
    "        for t_key in natsorted(map_type_data.keys()):\n",
    "            row_data = map_type_data[t_key]\n",
    "            \n",
    "            #row = []\n",
    "            pd_dfs[input_key][t_key]['ID'].append(ID_key)\n",
    "            for key in ['cc_num', 'cc_unsegmented_ccs', 'cc_size_mean', 'cc_size_std', 'cc_size_skew', 'cc_size_kurt', 'cc_vd_mean', 'cc_vd_std', 'cc_vd_skew', 'cc_vd_kurt', 'sum', 'mean', 'std', 'skew', 'kurtosis', 'prop_umap_segmented', 'prop_umap_within_expanded_seg', 'prop_seg_uncertain', 'dist_mean', 'dist_std', 'dist_skew', 'dist_kurt', 'dist_value_joint', 'cc_dist_value_joint', 'seg_volume', 'vent_volume', 'values_hist']:\n",
    "                if 'joint' not in key and 'hist' not in key:\n",
    "                    #row.append((key, row_data[key]))\n",
    "                    pd_dfs[input_key][t_key][key].append(row_data[key])\n",
    "                else:\n",
    "                    table_vals = row_data[key].view(-1).tolist()\n",
    "                    for i in range(len(table_vals)):\n",
    "                        #row.append((f\"{key}_{i}\", table_vals[i]))\n",
    "                        pd_dfs[input_key][t_key][f\"{key}_{i}\"].append(table_vals[i])\n",
    "                        \n",
    "            for key in ['cc_sizes', 'cc_means', 'cc_stds', 'cc_skews', 'cc_kurts', 'cc_vent_dists', 'cc_log_sizes']:\n",
    "                pd_other_data_dfs[key].extend(row_data[key])\n",
    "            pd_other_data_dfs[\"id\"].extend([f\"{ID_key}_{input_key}_{t_key}\" for _ in range(len(row_data['cc_sizes']))])"
   ]
  },
  {
   "cell_type": "code",
   "execution_count": 62,
   "id": "9d02276f-8234-4486-81c6-d613c0706d8d",
   "metadata": {
    "tags": []
   },
   "outputs": [
    {
     "name": "stderr",
     "output_type": "stream",
     "text": [
      "100%|███████████████████████████████████████████████████████████████████████████████████████████████████████████████████████████████████████████████████████████| 2/2 [00:00<00:00,  2.95it/s]\n"
     ]
    }
   ],
   "source": [
    "# save the summary statistics\n",
    "ind_data = data[list(data.keys())[0]]\n",
    "for input_key in tqdm(natsorted(ind_data.keys()), position=0, leave=True):\n",
    "    map_type_data = ind_data[input_key]\n",
    "    for t_key in natsorted(map_type_data.keys()):\n",
    "        df = pd.DataFrame(pd_dfs[input_key][t_key])\n",
    "        df.to_csv(f\"/home/s2208943/ipdis/data/preprocessed_data/umap_data_spreadsheets/ADNI/{model_name}_{input_key}_{t_key}.csv\")\n",
    "        \n",
    "    "
   ]
  },
  {
   "cell_type": "code",
   "execution_count": 63,
   "id": "a67c37fd-7ee2-4314-a315-c04d75652a1a",
   "metadata": {
    "tags": []
   },
   "outputs": [],
   "source": [
    "# save the per individual connected component statistic\n",
    "# np_df = {}\n",
    "# for key in pd_other_data_dfs.keys():\n",
    "#     np_df[key] = np.array(pd_other_data_dfs[key])\n",
    "# np.save(\"umap_data_spreadsheets/ADNI/connected_component_data.npy\", np_df)"
   ]
  },
  {
   "cell_type": "markdown",
   "id": "dee81e2c-c384-4002-be38-dcd8378887b1",
   "metadata": {},
   "source": [
    "### building the clinscore dataset"
   ]
  },
  {
   "cell_type": "code",
   "execution_count": 63,
   "id": "29982f7c-939d-49f6-b8de-bbf0acb97e38",
   "metadata": {
    "tags": []
   },
   "outputs": [
    {
     "name": "stdout",
     "output_type": "stream",
     "text": [
      "strawberry\n",
      "banana\n"
     ]
    }
   ],
   "source": [
    "# trainer\n",
    "print(\"strawberry\")\n",
    "from trustworthai.utils.fitting_and_inference.fitters.basic_lightning_fitter import StandardLitModelWrapper\n",
    "from trustworthai.utils.fitting_and_inference.get_trainer import get_trainer\n",
    "\n",
    "# data\n",
    "from twaidata.torchdatasets.MRI_3D_nolabels_inram_ds import MRI_3D_nolabels_inram_ds\n",
    "\n",
    "# packages\n",
    "import os\n",
    "import numpy as np\n",
    "import pandas as pd\n",
    "import matplotlib.pyplot as plt\n",
    "import torch\n",
    "from torchinfo import summary\n",
    "from tqdm import tqdm\n",
    "from collections import defaultdict\n",
    "from natsort import natsorted\n",
    "import torchmetrics\n",
    "print(\"banana\")"
   ]
  },
  {
   "cell_type": "markdown",
   "id": "b3448abb-7ecc-4bfa-95b0-7bb6ccfd4269",
   "metadata": {},
   "source": [
    "### Loading ADNI spreadsheets"
   ]
  },
  {
   "cell_type": "code",
   "execution_count": null,
   "id": "071cca57-560b-4a32-a20c-63fc720ef518",
   "metadata": {},
   "outputs": [],
   "source": []
  },
  {
   "cell_type": "code",
   "execution_count": 66,
   "id": "1489a2eb-cc47-40d5-a818-48f2f91e484f",
   "metadata": {
    "tags": []
   },
   "outputs": [
    {
     "name": "stderr",
     "output_type": "stream",
     "text": [
      "/home/s2208943/miniconda3/envs/wmh/lib/python3.8/site-packages/openpyxl/worksheet/_reader.py:329: UserWarning: Unknown extension is not supported and will be removed\n",
      "  warn(msg)\n"
     ]
    }
   ],
   "source": [
    "adni_dir = \"/home/s2208943/ipdis/data/ADNI_data/\"\n",
    "spreadsheet_dir = adni_dir\n",
    "# dataset with clinical variables (e.g age, and a bunch of other factors)\n",
    "variables_df = pd.read_excel(spreadsheet_dir + \"ADNI_300_Variables_for_Analysis.xlsx\")"
   ]
  },
  {
   "cell_type": "code",
   "execution_count": 67,
   "id": "c5706528-8528-4bbe-bdd0-8ad1fdd93e67",
   "metadata": {
    "tags": []
   },
   "outputs": [
    {
     "data": {
      "text/plain": [
       "[('Unnamed: 0', 'Patient ID'),\n",
       " ('GENERAL INFO ', 'DX.bl'),\n",
       " ('Unnamed: 2', 'AGE'),\n",
       " ('Unnamed: 3', 'PTGENDER'),\n",
       " ('Unnamed: 4', 'PTEDUCAT'),\n",
       " ('Unnamed: 5', 'PTRACCAT'),\n",
       " ('Unnamed: 6', 'APOE4'),\n",
       " ('BASELINE BRAIN MEASUREMENTS (% of ICV)', 'Ventricles_bl %'),\n",
       " ('Unnamed: 8', 'Hippocampus_bl %'),\n",
       " ('Unnamed: 9', 'WholeBrain_bl %'),\n",
       " ('Unnamed: 10', 'Entorhinal_bl %'),\n",
       " ('Unnamed: 11', 'Fusiform_bl %'),\n",
       " ('Unnamed: 12', 'MidTemp_bl %'),\n",
       " ('IMAGE ANALYSIS FINDINGS ', 'BMB Y1 Count'),\n",
       " ('Unnamed: 14', 'BMB Y2 Count'),\n",
       " ('Unnamed: 15', 'BMB Y3 Count'),\n",
       " ('MEDICAL HISTORY', 'VSBPDIA'),\n",
       " ('Unnamed: 17', 'VSBPSYS'),\n",
       " ('Unnamed: 18', 'VSPULSE'),\n",
       " ('Unnamed: 19', 'BMI'),\n",
       " ('Unnamed: 20', 'CV RISK FACTORS'),\n",
       " ('Unnamed: 21', 'E-M RISK FACTORS')]"
      ]
     },
     "execution_count": 67,
     "metadata": {},
     "output_type": "execute_result"
    }
   ],
   "source": [
    "list(variables_df.iloc[0].items())"
   ]
  },
  {
   "cell_type": "code",
   "execution_count": 68,
   "id": "fb218b88-610f-4be6-91ff-a6ef62917c54",
   "metadata": {
    "tags": []
   },
   "outputs": [
    {
     "name": "stderr",
     "output_type": "stream",
     "text": [
      "/home/s2208943/miniconda3/envs/wmh/lib/python3.8/site-packages/openpyxl/worksheet/_reader.py:329: UserWarning: Unknown extension is not supported and will be removed\n",
      "  warn(msg)\n"
     ]
    }
   ],
   "source": [
    "# dataset with fazekas ratings by Maria. I only have 290 of the 298 due to a few images missing matches, which is a shame\n",
    "# but hopefully this is enough information. Nice.\n",
    "ratings_df = pd.read_excel(spreadsheet_dir + \"ADNI_300_Sample_MVH_ratings.xlsx\")"
   ]
  },
  {
   "cell_type": "code",
   "execution_count": 69,
   "id": "a27facda-bf45-471f-9926-bd2caf82827a",
   "metadata": {
    "tags": []
   },
   "outputs": [],
   "source": [
    "def normalize_column(df, column_id):\n",
    "    # normalizes a column (not inlcuding nan values)\n",
    "    values = df[column_id].values.astype(np.float32)\n",
    "    values = values[~np.isnan(values)]\n",
    "    mean = values.mean()\n",
    "    std = values.std()\n",
    "    df[column_id] = (df[column_id].values - mean)/std"
   ]
  },
  {
   "cell_type": "code",
   "execution_count": 70,
   "id": "a2fecfd0-ea63-4dfb-a3c6-683f2358729c",
   "metadata": {
    "tags": []
   },
   "outputs": [],
   "source": [
    "def one_hot_encode(df, field, remove_original=True):\n",
    "    \"\"\"computes a one hot encoding of the given field\"\"\"\n",
    "    \n",
    "    onehot_cols = pd.get_dummies(df[field], prefix=field)\n",
    "    \n",
    "    if remove_original:\n",
    "        df = df.drop(columns=[field], inplace=False)\n",
    "        \n",
    "    df = pd.concat([df, onehot_cols], axis=1)\n",
    "    \n",
    "    return df\n",
    "    "
   ]
  },
  {
   "cell_type": "code",
   "execution_count": 71,
   "id": "26831f8b-ca64-4043-bb09-2b78d110977b",
   "metadata": {
    "tags": []
   },
   "outputs": [],
   "source": [
    "def convert_symbol_to_nan(df, field, symbol):\n",
    "    df = df.copy()\n",
    "    \"\"\"\n",
    "    converts all inputs conforming to 'symbol' to np.nan for the given 'field' in the 'df'\n",
    "    e.g if symbol=' ' and field='totalChl' then any instances of ' ' in the 'totalChl' column will be replaced with np.nan\n",
    "    \"\"\"\n",
    "    values = df[field].values\n",
    "    locs = values == symbol\n",
    "    values[locs] = np.nan\n",
    "    \n",
    "    df[field] = values\n",
    "    \n",
    "    return df"
   ]
  },
  {
   "cell_type": "code",
   "execution_count": 72,
   "id": "54f4749c-5458-4070-87b2-f3f8277380a9",
   "metadata": {
    "tags": []
   },
   "outputs": [],
   "source": [
    "def filter_rows_with_nans(df, field, inplace=False):\n",
    "    \"\"\"\n",
    "    removes all rows from df which have nan for the given field value\n",
    "    \"\"\"\n",
    "    values = df[field].values.astype(np.float32)\n",
    "    nan_locs = np.where(np.isnan(values))[0]\n",
    "    df = df.drop(nan_locs, inplace=inplace)\n",
    "    df = df.reset_index(drop=True)\n",
    "    \n",
    "    return df"
   ]
  },
  {
   "cell_type": "code",
   "execution_count": 73,
   "id": "0b158987-083a-4e41-9caa-1152a9ff5ec7",
   "metadata": {
    "tags": []
   },
   "outputs": [],
   "source": [
    "def prepare_ADNI_dfs(\n",
    "    ratings_df, variables_df,\n",
    "    selected_columns=[\n",
    "        'Patient ID', 'AGE', 'Ventricles_bl %', 'Hippocampus_bl %',\n",
    "        'WholeBrain_bl %', 'Entorhinal_bl %', 'Fusiform_bl %',\n",
    "        'MidTemp_bl %', 'BMI', 'DX.bl', 'CV RISK FACTORS', 'APOE4',\n",
    "        'WMH_PV', 'WMH_Deep', 'Total', 'PTGENDER', 'E-M RISK FACTORS',\n",
    "    ]):\n",
    "    \n",
    "    r_df = ratings_df.copy()\n",
    "    v_df = variables_df.copy()\n",
    "\n",
    "    # in the variables df, put all the column headings actually in the heading,\n",
    "    variables_heading_map = {\n",
    "        key:column_heading \n",
    "        for (column_heading, key) in v_df.iloc[0].items()\n",
    "    }\n",
    "    for key, column_heading in variables_heading_map.items():\n",
    "        v_df[key] = v_df[column_heading].values\n",
    "        v_df = v_df.drop(columns=[column_heading], inplace=False)\n",
    "    \n",
    "    \n",
    "    # remove any * characters and ' ' from patient IDs\n",
    "    r_df['Patient ID'] = [str(pid).replace('*', '').replace(' ', '') for pid in r_df['Patient ID'].values]\n",
    "    v_df['Patient ID'] = [str(pid).replace('*', '').replace(' ', '') for pid in v_df['Patient ID'].values]\n",
    "    \n",
    "    # remove any rows that do not have a patient ID. patient ID can be detected due to having a '_S_' string in it.\n",
    "    pid_locs_rdf = ['_S_' in pid for pid in r_df['Patient ID'].values]\n",
    "    pid_locs_vdf = ['_S_' in pid for pid in v_df['Patient ID'].values]\n",
    "    r_df = r_df.loc[pid_locs_rdf]\n",
    "    v_df = v_df.loc[pid_locs_vdf]\n",
    "    \n",
    "    # join the two dataframes\n",
    "    df = pd.merge(r_df, v_df, how='left')\n",
    "    \n",
    "    print(df.keys())\n",
    "    \n",
    "    # drop any column that isn't selected\n",
    "    df = df[selected_columns]\n",
    "    \n",
    "    # normalize columns\n",
    "    for norm_column in ['AGE', 'Ventricles_bl %', 'Hippocampus_bl %', 'WholeBrain_bl %', 'Entorhinal_bl %', 'Fusiform_bl %', 'MidTemp_bl %', 'BMI', 'PTEDUCAT', 'PTRACCAT']:\n",
    "        if norm_column in selected_columns:\n",
    "            normalize_column(df, norm_column)\n",
    "            \n",
    "    # one hot encoder columns\n",
    "    for one_hot_col in ['DX.bl', 'CV RISK FACTORS', 'APOE4']:\n",
    "        if one_hot_col in selected_columns:\n",
    "            df = one_hot_encode(df, one_hot_col)\n",
    "            \n",
    "    # set values of zero to nan for brain measurement fields\n",
    "    for no_zero_col in ['Ventricles_bl %', 'Hippocampus_bl %', 'WholeBrain_bl %', 'Entorhinal_bl %', 'Fusiform_bl %', 'MidTemp_bl %']:\n",
    "        df = convert_symbol_to_nan(df, no_zero_col, 0)\n",
    "            \n",
    "    # change PTGENDER column to 0,1 (as opposed to 1, 2)\n",
    "    df['PTGENDER'] = df['PTGENDER'] - 1\n",
    "    \n",
    "    # in all selected columns, drop rows that contain a nan value\n",
    "    for col in df.keys():\n",
    "        if col not in ['Patient ID']:\n",
    "            try:\n",
    "                df = filter_rows_with_nans(df, col)\n",
    "            except:\n",
    "                print(\"failed on: \", col)\n",
    "    \n",
    "    return df"
   ]
  },
  {
   "cell_type": "code",
   "execution_count": 74,
   "id": "138f187c-eb5d-45b6-8e90-17a71c429d5f",
   "metadata": {
    "tags": []
   },
   "outputs": [
    {
     "name": "stdout",
     "output_type": "stream",
     "text": [
      "Index(['Patient ID', 'Image_year', 'PVS_BG', 'PVS_CS', 'Unnamed: 4',\n",
      "       'Image_year.1', 'WMH_PV', 'WMH_Deep', 'Total', 'Obs', 'DX.bl', 'AGE',\n",
      "       'PTGENDER', 'PTEDUCAT', 'PTRACCAT', 'APOE4', 'Ventricles_bl %',\n",
      "       'Hippocampus_bl %', 'WholeBrain_bl %', 'Entorhinal_bl %',\n",
      "       'Fusiform_bl %', 'MidTemp_bl %', 'BMB Y1 Count', 'BMB Y2 Count',\n",
      "       'BMB Y3 Count', 'VSBPDIA', 'VSBPSYS', 'VSPULSE', 'BMI',\n",
      "       'CV RISK FACTORS', 'E-M RISK FACTORS'],\n",
      "      dtype='object')\n"
     ]
    }
   ],
   "source": [
    "combined_df = prepare_ADNI_dfs(ratings_df, variables_df)"
   ]
  },
  {
   "cell_type": "code",
   "execution_count": 75,
   "id": "be1bba70-b49a-454a-b327-6a28b233ceeb",
   "metadata": {
    "tags": []
   },
   "outputs": [
    {
     "data": {
      "text/html": [
       "<div>\n",
       "<style scoped>\n",
       "    .dataframe tbody tr th:only-of-type {\n",
       "        vertical-align: middle;\n",
       "    }\n",
       "\n",
       "    .dataframe tbody tr th {\n",
       "        vertical-align: top;\n",
       "    }\n",
       "\n",
       "    .dataframe thead th {\n",
       "        text-align: right;\n",
       "    }\n",
       "</style>\n",
       "<table border=\"1\" class=\"dataframe\">\n",
       "  <thead>\n",
       "    <tr style=\"text-align: right;\">\n",
       "      <th></th>\n",
       "      <th>Patient ID</th>\n",
       "      <th>AGE</th>\n",
       "      <th>Ventricles_bl %</th>\n",
       "      <th>Hippocampus_bl %</th>\n",
       "      <th>WholeBrain_bl %</th>\n",
       "      <th>Entorhinal_bl %</th>\n",
       "      <th>Fusiform_bl %</th>\n",
       "      <th>MidTemp_bl %</th>\n",
       "      <th>BMI</th>\n",
       "      <th>WMH_PV</th>\n",
       "      <th>...</th>\n",
       "      <th>DX.bl_0</th>\n",
       "      <th>DX.bl_1</th>\n",
       "      <th>DX.bl_2</th>\n",
       "      <th>DX.bl_3</th>\n",
       "      <th>CV RISK FACTORS_0</th>\n",
       "      <th>CV RISK FACTORS_1</th>\n",
       "      <th>CV RISK FACTORS_2</th>\n",
       "      <th>APOE4_0</th>\n",
       "      <th>APOE4_1</th>\n",
       "      <th>APOE4_2</th>\n",
       "    </tr>\n",
       "  </thead>\n",
       "  <tbody>\n",
       "    <tr>\n",
       "      <th>0</th>\n",
       "      <td>002_S_0729</td>\n",
       "      <td>-0.907124</td>\n",
       "      <td>-0.599118</td>\n",
       "      <td>0.20911</td>\n",
       "      <td>0.410522</td>\n",
       "      <td>-0.386959</td>\n",
       "      <td>0.803329</td>\n",
       "      <td>0.252266</td>\n",
       "      <td>-0.935346</td>\n",
       "      <td>2.0</td>\n",
       "      <td>...</td>\n",
       "      <td>False</td>\n",
       "      <td>False</td>\n",
       "      <td>True</td>\n",
       "      <td>False</td>\n",
       "      <td>False</td>\n",
       "      <td>True</td>\n",
       "      <td>False</td>\n",
       "      <td>False</td>\n",
       "      <td>True</td>\n",
       "      <td>False</td>\n",
       "    </tr>\n",
       "    <tr>\n",
       "      <th>1</th>\n",
       "      <td>002_S_1155</td>\n",
       "      <td>-1.913287</td>\n",
       "      <td>-1.640056</td>\n",
       "      <td>-2.9568</td>\n",
       "      <td>-3.247881</td>\n",
       "      <td>-2.848414</td>\n",
       "      <td>-3.151439</td>\n",
       "      <td>-3.17256</td>\n",
       "      <td>-0.778481</td>\n",
       "      <td>1.0</td>\n",
       "      <td>...</td>\n",
       "      <td>False</td>\n",
       "      <td>False</td>\n",
       "      <td>True</td>\n",
       "      <td>False</td>\n",
       "      <td>False</td>\n",
       "      <td>True</td>\n",
       "      <td>False</td>\n",
       "      <td>True</td>\n",
       "      <td>False</td>\n",
       "      <td>False</td>\n",
       "    </tr>\n",
       "    <tr>\n",
       "      <th>2</th>\n",
       "      <td>002_S_1261</td>\n",
       "      <td>-0.08014</td>\n",
       "      <td>0.09773</td>\n",
       "      <td>-0.15541</td>\n",
       "      <td>0.197169</td>\n",
       "      <td>-0.629183</td>\n",
       "      <td>0.0498</td>\n",
       "      <td>0.232463</td>\n",
       "      <td>-0.908899</td>\n",
       "      <td>1.0</td>\n",
       "      <td>...</td>\n",
       "      <td>True</td>\n",
       "      <td>False</td>\n",
       "      <td>False</td>\n",
       "      <td>False</td>\n",
       "      <td>False</td>\n",
       "      <td>False</td>\n",
       "      <td>True</td>\n",
       "      <td>True</td>\n",
       "      <td>False</td>\n",
       "      <td>False</td>\n",
       "    </tr>\n",
       "    <tr>\n",
       "      <th>3</th>\n",
       "      <td>002_S_1280</td>\n",
       "      <td>-0.135273</td>\n",
       "      <td>-0.49072</td>\n",
       "      <td>0.148831</td>\n",
       "      <td>0.182368</td>\n",
       "      <td>0.396004</td>\n",
       "      <td>0.125605</td>\n",
       "      <td>-0.024744</td>\n",
       "      <td>2.393686</td>\n",
       "      <td>3.0</td>\n",
       "      <td>...</td>\n",
       "      <td>True</td>\n",
       "      <td>False</td>\n",
       "      <td>False</td>\n",
       "      <td>False</td>\n",
       "      <td>False</td>\n",
       "      <td>False</td>\n",
       "      <td>True</td>\n",
       "      <td>False</td>\n",
       "      <td>True</td>\n",
       "      <td>False</td>\n",
       "    </tr>\n",
       "    <tr>\n",
       "      <th>4</th>\n",
       "      <td>002_S_2010</td>\n",
       "      <td>-1.210351</td>\n",
       "      <td>-0.724175</td>\n",
       "      <td>0.889532</td>\n",
       "      <td>0.357138</td>\n",
       "      <td>0.261112</td>\n",
       "      <td>0.243122</td>\n",
       "      <td>0.582234</td>\n",
       "      <td>3.287072</td>\n",
       "      <td>1.0</td>\n",
       "      <td>...</td>\n",
       "      <td>False</td>\n",
       "      <td>True</td>\n",
       "      <td>False</td>\n",
       "      <td>False</td>\n",
       "      <td>False</td>\n",
       "      <td>True</td>\n",
       "      <td>False</td>\n",
       "      <td>False</td>\n",
       "      <td>True</td>\n",
       "      <td>False</td>\n",
       "    </tr>\n",
       "    <tr>\n",
       "      <th>...</th>\n",
       "      <td>...</td>\n",
       "      <td>...</td>\n",
       "      <td>...</td>\n",
       "      <td>...</td>\n",
       "      <td>...</td>\n",
       "      <td>...</td>\n",
       "      <td>...</td>\n",
       "      <td>...</td>\n",
       "      <td>...</td>\n",
       "      <td>...</td>\n",
       "      <td>...</td>\n",
       "      <td>...</td>\n",
       "      <td>...</td>\n",
       "      <td>...</td>\n",
       "      <td>...</td>\n",
       "      <td>...</td>\n",
       "      <td>...</td>\n",
       "      <td>...</td>\n",
       "      <td>...</td>\n",
       "      <td>...</td>\n",
       "      <td>...</td>\n",
       "    </tr>\n",
       "    <tr>\n",
       "      <th>278</th>\n",
       "      <td>941_S_4255</td>\n",
       "      <td>0.099039</td>\n",
       "      <td>0.032813</td>\n",
       "      <td>-0.126676</td>\n",
       "      <td>0.208292</td>\n",
       "      <td>0.009422</td>\n",
       "      <td>0.287841</td>\n",
       "      <td>0.377825</td>\n",
       "      <td>0.013404</td>\n",
       "      <td>1.0</td>\n",
       "      <td>...</td>\n",
       "      <td>True</td>\n",
       "      <td>False</td>\n",
       "      <td>False</td>\n",
       "      <td>False</td>\n",
       "      <td>True</td>\n",
       "      <td>False</td>\n",
       "      <td>False</td>\n",
       "      <td>False</td>\n",
       "      <td>True</td>\n",
       "      <td>False</td>\n",
       "    </tr>\n",
       "    <tr>\n",
       "      <th>279</th>\n",
       "      <td>941_S_4292</td>\n",
       "      <td>-0.107707</td>\n",
       "      <td>-0.280526</td>\n",
       "      <td>0.599915</td>\n",
       "      <td>0.374701</td>\n",
       "      <td>0.714687</td>\n",
       "      <td>0.126096</td>\n",
       "      <td>0.437157</td>\n",
       "      <td>-0.017095</td>\n",
       "      <td>1.0</td>\n",
       "      <td>...</td>\n",
       "      <td>True</td>\n",
       "      <td>False</td>\n",
       "      <td>False</td>\n",
       "      <td>False</td>\n",
       "      <td>False</td>\n",
       "      <td>True</td>\n",
       "      <td>False</td>\n",
       "      <td>True</td>\n",
       "      <td>False</td>\n",
       "      <td>False</td>\n",
       "    </tr>\n",
       "    <tr>\n",
       "      <th>280</th>\n",
       "      <td>941_S_4365</td>\n",
       "      <td>1.1879</td>\n",
       "      <td>1.205062</td>\n",
       "      <td>-0.016664</td>\n",
       "      <td>0.10102</td>\n",
       "      <td>0.432068</td>\n",
       "      <td>0.203846</td>\n",
       "      <td>-0.216243</td>\n",
       "      <td>-0.803431</td>\n",
       "      <td>1.0</td>\n",
       "      <td>...</td>\n",
       "      <td>True</td>\n",
       "      <td>False</td>\n",
       "      <td>False</td>\n",
       "      <td>False</td>\n",
       "      <td>False</td>\n",
       "      <td>False</td>\n",
       "      <td>True</td>\n",
       "      <td>True</td>\n",
       "      <td>False</td>\n",
       "      <td>False</td>\n",
       "    </tr>\n",
       "    <tr>\n",
       "      <th>281</th>\n",
       "      <td>941_S_4376</td>\n",
       "      <td>0.664144</td>\n",
       "      <td>-1.640056</td>\n",
       "      <td>-2.9568</td>\n",
       "      <td>-3.247881</td>\n",
       "      <td>-2.848414</td>\n",
       "      <td>-3.151439</td>\n",
       "      <td>-3.17256</td>\n",
       "      <td>0.442142</td>\n",
       "      <td>2.0</td>\n",
       "      <td>...</td>\n",
       "      <td>True</td>\n",
       "      <td>False</td>\n",
       "      <td>False</td>\n",
       "      <td>False</td>\n",
       "      <td>False</td>\n",
       "      <td>True</td>\n",
       "      <td>False</td>\n",
       "      <td>True</td>\n",
       "      <td>False</td>\n",
       "      <td>False</td>\n",
       "    </tr>\n",
       "    <tr>\n",
       "      <th>282</th>\n",
       "      <td>941_S_4764</td>\n",
       "      <td>1.518694</td>\n",
       "      <td>1.579927</td>\n",
       "      <td>-0.144363</td>\n",
       "      <td>-0.065999</td>\n",
       "      <td>0.773153</td>\n",
       "      <td>0.25089</td>\n",
       "      <td>-0.029618</td>\n",
       "      <td>0.131969</td>\n",
       "      <td>2.0</td>\n",
       "      <td>...</td>\n",
       "      <td>False</td>\n",
       "      <td>True</td>\n",
       "      <td>False</td>\n",
       "      <td>False</td>\n",
       "      <td>False</td>\n",
       "      <td>True</td>\n",
       "      <td>False</td>\n",
       "      <td>True</td>\n",
       "      <td>False</td>\n",
       "      <td>False</td>\n",
       "    </tr>\n",
       "  </tbody>\n",
       "</table>\n",
       "<p>283 rows × 24 columns</p>\n",
       "</div>"
      ],
      "text/plain": [
       "     Patient ID       AGE Ventricles_bl % Hippocampus_bl % WholeBrain_bl %  \\\n",
       "0    002_S_0729 -0.907124       -0.599118          0.20911        0.410522   \n",
       "1    002_S_1155 -1.913287       -1.640056          -2.9568       -3.247881   \n",
       "2    002_S_1261  -0.08014         0.09773         -0.15541        0.197169   \n",
       "3    002_S_1280 -0.135273        -0.49072         0.148831        0.182368   \n",
       "4    002_S_2010 -1.210351       -0.724175         0.889532        0.357138   \n",
       "..          ...       ...             ...              ...             ...   \n",
       "278  941_S_4255  0.099039        0.032813        -0.126676        0.208292   \n",
       "279  941_S_4292 -0.107707       -0.280526         0.599915        0.374701   \n",
       "280  941_S_4365    1.1879        1.205062        -0.016664         0.10102   \n",
       "281  941_S_4376  0.664144       -1.640056          -2.9568       -3.247881   \n",
       "282  941_S_4764  1.518694        1.579927        -0.144363       -0.065999   \n",
       "\n",
       "    Entorhinal_bl % Fusiform_bl % MidTemp_bl %       BMI  WMH_PV  ...  \\\n",
       "0         -0.386959      0.803329     0.252266 -0.935346     2.0  ...   \n",
       "1         -2.848414     -3.151439     -3.17256 -0.778481     1.0  ...   \n",
       "2         -0.629183        0.0498     0.232463 -0.908899     1.0  ...   \n",
       "3          0.396004      0.125605    -0.024744  2.393686     3.0  ...   \n",
       "4          0.261112      0.243122     0.582234  3.287072     1.0  ...   \n",
       "..              ...           ...          ...       ...     ...  ...   \n",
       "278        0.009422      0.287841     0.377825  0.013404     1.0  ...   \n",
       "279        0.714687      0.126096     0.437157 -0.017095     1.0  ...   \n",
       "280        0.432068      0.203846    -0.216243 -0.803431     1.0  ...   \n",
       "281       -2.848414     -3.151439     -3.17256  0.442142     2.0  ...   \n",
       "282        0.773153       0.25089    -0.029618  0.131969     2.0  ...   \n",
       "\n",
       "     DX.bl_0  DX.bl_1 DX.bl_2 DX.bl_3  CV RISK FACTORS_0  CV RISK FACTORS_1  \\\n",
       "0      False    False    True   False              False               True   \n",
       "1      False    False    True   False              False               True   \n",
       "2       True    False   False   False              False              False   \n",
       "3       True    False   False   False              False              False   \n",
       "4      False     True   False   False              False               True   \n",
       "..       ...      ...     ...     ...                ...                ...   \n",
       "278     True    False   False   False               True              False   \n",
       "279     True    False   False   False              False               True   \n",
       "280     True    False   False   False              False              False   \n",
       "281     True    False   False   False              False               True   \n",
       "282    False     True   False   False              False               True   \n",
       "\n",
       "     CV RISK FACTORS_2  APOE4_0  APOE4_1  APOE4_2  \n",
       "0                False    False     True    False  \n",
       "1                False     True    False    False  \n",
       "2                 True     True    False    False  \n",
       "3                 True    False     True    False  \n",
       "4                False    False     True    False  \n",
       "..                 ...      ...      ...      ...  \n",
       "278              False    False     True    False  \n",
       "279              False     True    False    False  \n",
       "280               True     True    False    False  \n",
       "281              False     True    False    False  \n",
       "282              False     True    False    False  \n",
       "\n",
       "[283 rows x 24 columns]"
      ]
     },
     "execution_count": 75,
     "metadata": {},
     "output_type": "execute_result"
    }
   ],
   "source": [
    "combined_df"
   ]
  },
  {
   "cell_type": "code",
   "execution_count": 76,
   "id": "ffe77521-c8e3-4a35-b5db-09fde7f07a67",
   "metadata": {
    "tags": []
   },
   "outputs": [],
   "source": [
    "combined_df['totatal_fazekas'] = (combined_df['WMH_Deep'].values + combined_df['WMH_PV'].values)"
   ]
  },
  {
   "cell_type": "code",
   "execution_count": 77,
   "id": "93e5be8a-a564-4eca-a1b0-1bdb63e7d355",
   "metadata": {
    "tags": []
   },
   "outputs": [
    {
     "data": {
      "text/plain": [
       "array([4., 1., 2., 5., 2., 1., 3., 4., 5., 2., 2., 2., 1., 2., 1., 2., 4.,\n",
       "       2., 1., 4., 2., 2., 2., 2., 2., 3., 1., 5., 4., 3., 2., 2., 2., 2.,\n",
       "       2., 3., 2., 3., 3., 1., 2., 2., 2., 2., 4., 1., 6., 3., 3., 5., 1.,\n",
       "       1., 3., 3., 2., 2., 1., 2., 1., 3., 2., 0., 4., 1., 5., 3., 2., 2.,\n",
       "       4., 3., 3., 2., 2., 2., 2., 2., 2., 2., 2., 2., 2., 2., 5., 2., 2.,\n",
       "       4., 2., 2., 2., 5., 1., 2., 1., 5., 3., 4., 2., 2., 2., 2., 1., 0.,\n",
       "       3., 0., 0., 1., 4., 1., 2., 4., 2., 2., 2., 4., 2., 2., 2., 1., 4.,\n",
       "       2., 2., 2., 2., 1., 4., 0., 4., 2., 3., 6., 2., 2., 4., 2., 0., 2.,\n",
       "       0., 2., 0., 0., 3., 4., 6., 2., 3., 0., 2., 2., 0., 3., 2., 4., 3.,\n",
       "       3., 1., 3., 2., 2., 0., 0., 1., 2., 0., 1., 2., 1., 0., 2., 1., 2.,\n",
       "       0., 1., 2., 0., 1., 2., 2., 2., 2., 1., 2., 4., 0., 2., 3., 2., 0.,\n",
       "       1., 1., 1., 2., 2., 1., 1., 5., 0., 1., 2., 2., 2., 4., 1., 0., 4.,\n",
       "       2., 2., 4., 0., 1., 0., 0., 1., 1., 1., 4., 2., 2., 2., 1., 2., 1.,\n",
       "       1., 2., 3., 4., 0., 1., 2., 3., 2., 4., 4., 2., 1., 1., 3., 2., 2.,\n",
       "       0., 2., 2., 1., 2., 2., 2., 1., 3., 5., 2., 2., 1., 2., 3., 1., 1.,\n",
       "       2., 1., 2., 0., 2., 4., 5., 1., 2., 3., 2., 2., 3., 2., 1., 1., 0.,\n",
       "       2., 2., 6., 0., 6., 0., 1., 1., 2., 4., 3.])"
      ]
     },
     "execution_count": 77,
     "metadata": {},
     "output_type": "execute_result"
    }
   ],
   "source": [
    "combined_df['totatal_fazekas'].values"
   ]
  },
  {
   "cell_type": "code",
   "execution_count": 78,
   "id": "dfb3ffb0-718f-43e4-a791-c9ec4f984f12",
   "metadata": {
    "tags": []
   },
   "outputs": [],
   "source": [
    "combined_df.to_csv(f\"/home/s2208943/ipdis/data/preprocessed_data/umap_data_spreadsheets/ADNI/clinscore_data.csv\")"
   ]
  },
  {
   "cell_type": "code",
   "execution_count": null,
   "id": "cd5c97be-881c-4701-a2fc-9e082b141625",
   "metadata": {},
   "outputs": [],
   "source": []
  }
 ],
 "metadata": {
  "kernelspec": {
   "display_name": "Python 3 (ipykernel)",
   "language": "python",
   "name": "python3"
  },
  "language_info": {
   "codemirror_mode": {
    "name": "ipython",
    "version": 3
   },
   "file_extension": ".py",
   "mimetype": "text/x-python",
   "name": "python",
   "nbconvert_exporter": "python",
   "pygments_lexer": "ipython3",
   "version": "3.8.10"
  }
 },
 "nbformat": 4,
 "nbformat_minor": 5
}
