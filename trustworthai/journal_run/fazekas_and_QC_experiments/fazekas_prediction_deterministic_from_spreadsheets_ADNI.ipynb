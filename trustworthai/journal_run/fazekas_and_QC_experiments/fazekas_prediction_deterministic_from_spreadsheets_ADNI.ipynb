{
 "cells": [
  {
   "cell_type": "code",
   "execution_count": 1,
   "id": "5ef8f20b-1a4a-49d5-8e4a-66a1a46d903e",
   "metadata": {
    "tags": []
   },
   "outputs": [],
   "source": [
    "import torch\n",
    "import pandas as pd\n",
    "import numpy as np\n",
    "import matplotlib.pyplot as plt"
   ]
  },
  {
   "cell_type": "markdown",
   "id": "376a325b-c7b5-40c5-b9b6-d687e67a018c",
   "metadata": {},
   "source": [
    "### Build the ADNI training dataset\n",
    "I need to load the core spreadsheet, and load the extra spreadsheet where required\n",
    "Then I need to match the IDs. THen we have a spreadsheet that we can fit a logistic regression model with"
   ]
  },
  {
   "cell_type": "code",
   "execution_count": 2,
   "id": "40d34b53-d785-424d-a5e1-10ed1ead42bb",
   "metadata": {
    "tags": []
   },
   "outputs": [],
   "source": [
    "ADNI_core_df = pd.read_csv(\"/home/s2208943/ipdis/data/preprocessed_data/umap_data_spreadsheets/ADNI/clinscore_data.csv\")"
   ]
  },
  {
   "cell_type": "code",
   "execution_count": 3,
   "id": "01c3566a-3763-4270-a974-f61dcbb2decf",
   "metadata": {
    "tags": []
   },
   "outputs": [
    {
     "data": {
      "text/html": [
       "<div>\n",
       "<style scoped>\n",
       "    .dataframe tbody tr th:only-of-type {\n",
       "        vertical-align: middle;\n",
       "    }\n",
       "\n",
       "    .dataframe tbody tr th {\n",
       "        vertical-align: top;\n",
       "    }\n",
       "\n",
       "    .dataframe thead th {\n",
       "        text-align: right;\n",
       "    }\n",
       "</style>\n",
       "<table border=\"1\" class=\"dataframe\">\n",
       "  <thead>\n",
       "    <tr style=\"text-align: right;\">\n",
       "      <th></th>\n",
       "      <th>Unnamed: 0</th>\n",
       "      <th>Patient ID</th>\n",
       "      <th>AGE</th>\n",
       "      <th>Ventricles_bl %</th>\n",
       "      <th>Hippocampus_bl %</th>\n",
       "      <th>WholeBrain_bl %</th>\n",
       "      <th>Entorhinal_bl %</th>\n",
       "      <th>Fusiform_bl %</th>\n",
       "      <th>MidTemp_bl %</th>\n",
       "      <th>BMI</th>\n",
       "      <th>...</th>\n",
       "      <th>DX.bl_1</th>\n",
       "      <th>DX.bl_2</th>\n",
       "      <th>DX.bl_3</th>\n",
       "      <th>CV RISK FACTORS_0</th>\n",
       "      <th>CV RISK FACTORS_1</th>\n",
       "      <th>CV RISK FACTORS_2</th>\n",
       "      <th>APOE4_0</th>\n",
       "      <th>APOE4_1</th>\n",
       "      <th>APOE4_2</th>\n",
       "      <th>totatal_fazekas</th>\n",
       "    </tr>\n",
       "  </thead>\n",
       "  <tbody>\n",
       "    <tr>\n",
       "      <th>0</th>\n",
       "      <td>0</td>\n",
       "      <td>002_S_0729</td>\n",
       "      <td>-0.907124</td>\n",
       "      <td>-0.599118</td>\n",
       "      <td>0.209110</td>\n",
       "      <td>0.410522</td>\n",
       "      <td>-0.386959</td>\n",
       "      <td>0.803329</td>\n",
       "      <td>0.252266</td>\n",
       "      <td>-0.935346</td>\n",
       "      <td>...</td>\n",
       "      <td>False</td>\n",
       "      <td>True</td>\n",
       "      <td>False</td>\n",
       "      <td>False</td>\n",
       "      <td>True</td>\n",
       "      <td>False</td>\n",
       "      <td>False</td>\n",
       "      <td>True</td>\n",
       "      <td>False</td>\n",
       "      <td>4.0</td>\n",
       "    </tr>\n",
       "    <tr>\n",
       "      <th>1</th>\n",
       "      <td>1</td>\n",
       "      <td>002_S_1155</td>\n",
       "      <td>-1.913287</td>\n",
       "      <td>-1.640056</td>\n",
       "      <td>-2.956800</td>\n",
       "      <td>-3.247881</td>\n",
       "      <td>-2.848414</td>\n",
       "      <td>-3.151439</td>\n",
       "      <td>-3.172560</td>\n",
       "      <td>-0.778481</td>\n",
       "      <td>...</td>\n",
       "      <td>False</td>\n",
       "      <td>True</td>\n",
       "      <td>False</td>\n",
       "      <td>False</td>\n",
       "      <td>True</td>\n",
       "      <td>False</td>\n",
       "      <td>True</td>\n",
       "      <td>False</td>\n",
       "      <td>False</td>\n",
       "      <td>1.0</td>\n",
       "    </tr>\n",
       "    <tr>\n",
       "      <th>2</th>\n",
       "      <td>2</td>\n",
       "      <td>002_S_1261</td>\n",
       "      <td>-0.080140</td>\n",
       "      <td>0.097730</td>\n",
       "      <td>-0.155410</td>\n",
       "      <td>0.197169</td>\n",
       "      <td>-0.629183</td>\n",
       "      <td>0.049800</td>\n",
       "      <td>0.232463</td>\n",
       "      <td>-0.908899</td>\n",
       "      <td>...</td>\n",
       "      <td>False</td>\n",
       "      <td>False</td>\n",
       "      <td>False</td>\n",
       "      <td>False</td>\n",
       "      <td>False</td>\n",
       "      <td>True</td>\n",
       "      <td>True</td>\n",
       "      <td>False</td>\n",
       "      <td>False</td>\n",
       "      <td>2.0</td>\n",
       "    </tr>\n",
       "    <tr>\n",
       "      <th>3</th>\n",
       "      <td>3</td>\n",
       "      <td>002_S_1280</td>\n",
       "      <td>-0.135273</td>\n",
       "      <td>-0.490720</td>\n",
       "      <td>0.148831</td>\n",
       "      <td>0.182368</td>\n",
       "      <td>0.396004</td>\n",
       "      <td>0.125605</td>\n",
       "      <td>-0.024744</td>\n",
       "      <td>2.393686</td>\n",
       "      <td>...</td>\n",
       "      <td>False</td>\n",
       "      <td>False</td>\n",
       "      <td>False</td>\n",
       "      <td>False</td>\n",
       "      <td>False</td>\n",
       "      <td>True</td>\n",
       "      <td>False</td>\n",
       "      <td>True</td>\n",
       "      <td>False</td>\n",
       "      <td>5.0</td>\n",
       "    </tr>\n",
       "    <tr>\n",
       "      <th>4</th>\n",
       "      <td>4</td>\n",
       "      <td>002_S_2010</td>\n",
       "      <td>-1.210351</td>\n",
       "      <td>-0.724175</td>\n",
       "      <td>0.889532</td>\n",
       "      <td>0.357138</td>\n",
       "      <td>0.261112</td>\n",
       "      <td>0.243122</td>\n",
       "      <td>0.582234</td>\n",
       "      <td>3.287072</td>\n",
       "      <td>...</td>\n",
       "      <td>True</td>\n",
       "      <td>False</td>\n",
       "      <td>False</td>\n",
       "      <td>False</td>\n",
       "      <td>True</td>\n",
       "      <td>False</td>\n",
       "      <td>False</td>\n",
       "      <td>True</td>\n",
       "      <td>False</td>\n",
       "      <td>2.0</td>\n",
       "    </tr>\n",
       "    <tr>\n",
       "      <th>...</th>\n",
       "      <td>...</td>\n",
       "      <td>...</td>\n",
       "      <td>...</td>\n",
       "      <td>...</td>\n",
       "      <td>...</td>\n",
       "      <td>...</td>\n",
       "      <td>...</td>\n",
       "      <td>...</td>\n",
       "      <td>...</td>\n",
       "      <td>...</td>\n",
       "      <td>...</td>\n",
       "      <td>...</td>\n",
       "      <td>...</td>\n",
       "      <td>...</td>\n",
       "      <td>...</td>\n",
       "      <td>...</td>\n",
       "      <td>...</td>\n",
       "      <td>...</td>\n",
       "      <td>...</td>\n",
       "      <td>...</td>\n",
       "      <td>...</td>\n",
       "    </tr>\n",
       "    <tr>\n",
       "      <th>278</th>\n",
       "      <td>278</td>\n",
       "      <td>941_S_4255</td>\n",
       "      <td>0.099039</td>\n",
       "      <td>0.032813</td>\n",
       "      <td>-0.126676</td>\n",
       "      <td>0.208292</td>\n",
       "      <td>0.009422</td>\n",
       "      <td>0.287841</td>\n",
       "      <td>0.377825</td>\n",
       "      <td>0.013404</td>\n",
       "      <td>...</td>\n",
       "      <td>False</td>\n",
       "      <td>False</td>\n",
       "      <td>False</td>\n",
       "      <td>True</td>\n",
       "      <td>False</td>\n",
       "      <td>False</td>\n",
       "      <td>False</td>\n",
       "      <td>True</td>\n",
       "      <td>False</td>\n",
       "      <td>1.0</td>\n",
       "    </tr>\n",
       "    <tr>\n",
       "      <th>279</th>\n",
       "      <td>279</td>\n",
       "      <td>941_S_4292</td>\n",
       "      <td>-0.107707</td>\n",
       "      <td>-0.280526</td>\n",
       "      <td>0.599915</td>\n",
       "      <td>0.374701</td>\n",
       "      <td>0.714687</td>\n",
       "      <td>0.126096</td>\n",
       "      <td>0.437157</td>\n",
       "      <td>-0.017095</td>\n",
       "      <td>...</td>\n",
       "      <td>False</td>\n",
       "      <td>False</td>\n",
       "      <td>False</td>\n",
       "      <td>False</td>\n",
       "      <td>True</td>\n",
       "      <td>False</td>\n",
       "      <td>True</td>\n",
       "      <td>False</td>\n",
       "      <td>False</td>\n",
       "      <td>1.0</td>\n",
       "    </tr>\n",
       "    <tr>\n",
       "      <th>280</th>\n",
       "      <td>280</td>\n",
       "      <td>941_S_4365</td>\n",
       "      <td>1.187900</td>\n",
       "      <td>1.205062</td>\n",
       "      <td>-0.016664</td>\n",
       "      <td>0.101020</td>\n",
       "      <td>0.432068</td>\n",
       "      <td>0.203846</td>\n",
       "      <td>-0.216243</td>\n",
       "      <td>-0.803431</td>\n",
       "      <td>...</td>\n",
       "      <td>False</td>\n",
       "      <td>False</td>\n",
       "      <td>False</td>\n",
       "      <td>False</td>\n",
       "      <td>False</td>\n",
       "      <td>True</td>\n",
       "      <td>True</td>\n",
       "      <td>False</td>\n",
       "      <td>False</td>\n",
       "      <td>2.0</td>\n",
       "    </tr>\n",
       "    <tr>\n",
       "      <th>281</th>\n",
       "      <td>281</td>\n",
       "      <td>941_S_4376</td>\n",
       "      <td>0.664144</td>\n",
       "      <td>-1.640056</td>\n",
       "      <td>-2.956800</td>\n",
       "      <td>-3.247881</td>\n",
       "      <td>-2.848414</td>\n",
       "      <td>-3.151439</td>\n",
       "      <td>-3.172560</td>\n",
       "      <td>0.442142</td>\n",
       "      <td>...</td>\n",
       "      <td>False</td>\n",
       "      <td>False</td>\n",
       "      <td>False</td>\n",
       "      <td>False</td>\n",
       "      <td>True</td>\n",
       "      <td>False</td>\n",
       "      <td>True</td>\n",
       "      <td>False</td>\n",
       "      <td>False</td>\n",
       "      <td>4.0</td>\n",
       "    </tr>\n",
       "    <tr>\n",
       "      <th>282</th>\n",
       "      <td>282</td>\n",
       "      <td>941_S_4764</td>\n",
       "      <td>1.518694</td>\n",
       "      <td>1.579927</td>\n",
       "      <td>-0.144363</td>\n",
       "      <td>-0.065999</td>\n",
       "      <td>0.773153</td>\n",
       "      <td>0.250890</td>\n",
       "      <td>-0.029618</td>\n",
       "      <td>0.131969</td>\n",
       "      <td>...</td>\n",
       "      <td>True</td>\n",
       "      <td>False</td>\n",
       "      <td>False</td>\n",
       "      <td>False</td>\n",
       "      <td>True</td>\n",
       "      <td>False</td>\n",
       "      <td>True</td>\n",
       "      <td>False</td>\n",
       "      <td>False</td>\n",
       "      <td>3.0</td>\n",
       "    </tr>\n",
       "  </tbody>\n",
       "</table>\n",
       "<p>283 rows × 26 columns</p>\n",
       "</div>"
      ],
      "text/plain": [
       "     Unnamed: 0  Patient ID       AGE  Ventricles_bl %  Hippocampus_bl %  \\\n",
       "0             0  002_S_0729 -0.907124        -0.599118          0.209110   \n",
       "1             1  002_S_1155 -1.913287        -1.640056         -2.956800   \n",
       "2             2  002_S_1261 -0.080140         0.097730         -0.155410   \n",
       "3             3  002_S_1280 -0.135273        -0.490720          0.148831   \n",
       "4             4  002_S_2010 -1.210351        -0.724175          0.889532   \n",
       "..          ...         ...       ...              ...               ...   \n",
       "278         278  941_S_4255  0.099039         0.032813         -0.126676   \n",
       "279         279  941_S_4292 -0.107707        -0.280526          0.599915   \n",
       "280         280  941_S_4365  1.187900         1.205062         -0.016664   \n",
       "281         281  941_S_4376  0.664144        -1.640056         -2.956800   \n",
       "282         282  941_S_4764  1.518694         1.579927         -0.144363   \n",
       "\n",
       "     WholeBrain_bl %  Entorhinal_bl %  Fusiform_bl %  MidTemp_bl %       BMI  \\\n",
       "0           0.410522        -0.386959       0.803329      0.252266 -0.935346   \n",
       "1          -3.247881        -2.848414      -3.151439     -3.172560 -0.778481   \n",
       "2           0.197169        -0.629183       0.049800      0.232463 -0.908899   \n",
       "3           0.182368         0.396004       0.125605     -0.024744  2.393686   \n",
       "4           0.357138         0.261112       0.243122      0.582234  3.287072   \n",
       "..               ...              ...            ...           ...       ...   \n",
       "278         0.208292         0.009422       0.287841      0.377825  0.013404   \n",
       "279         0.374701         0.714687       0.126096      0.437157 -0.017095   \n",
       "280         0.101020         0.432068       0.203846     -0.216243 -0.803431   \n",
       "281        -3.247881        -2.848414      -3.151439     -3.172560  0.442142   \n",
       "282        -0.065999         0.773153       0.250890     -0.029618  0.131969   \n",
       "\n",
       "     ...  DX.bl_1  DX.bl_2  DX.bl_3  CV RISK FACTORS_0  CV RISK FACTORS_1  \\\n",
       "0    ...    False     True    False              False               True   \n",
       "1    ...    False     True    False              False               True   \n",
       "2    ...    False    False    False              False              False   \n",
       "3    ...    False    False    False              False              False   \n",
       "4    ...     True    False    False              False               True   \n",
       "..   ...      ...      ...      ...                ...                ...   \n",
       "278  ...    False    False    False               True              False   \n",
       "279  ...    False    False    False              False               True   \n",
       "280  ...    False    False    False              False              False   \n",
       "281  ...    False    False    False              False               True   \n",
       "282  ...     True    False    False              False               True   \n",
       "\n",
       "     CV RISK FACTORS_2  APOE4_0  APOE4_1  APOE4_2  totatal_fazekas  \n",
       "0                False    False     True    False              4.0  \n",
       "1                False     True    False    False              1.0  \n",
       "2                 True     True    False    False              2.0  \n",
       "3                 True    False     True    False              5.0  \n",
       "4                False    False     True    False              2.0  \n",
       "..                 ...      ...      ...      ...              ...  \n",
       "278              False    False     True    False              1.0  \n",
       "279              False     True    False    False              1.0  \n",
       "280               True     True    False    False              2.0  \n",
       "281              False     True    False    False              4.0  \n",
       "282              False     True    False    False              3.0  \n",
       "\n",
       "[283 rows x 26 columns]"
      ]
     },
     "execution_count": 3,
     "metadata": {},
     "output_type": "execute_result"
    }
   ],
   "source": [
    "ADNI_core_df"
   ]
  },
  {
   "cell_type": "code",
   "execution_count": 4,
   "id": "e90876cf-fdc6-4855-91e0-299a57c42765",
   "metadata": {
    "tags": []
   },
   "outputs": [],
   "source": [
    "uncertainty_type=\"deterministic\""
   ]
  },
  {
   "cell_type": "code",
   "execution_count": 5,
   "id": "96826a19-a940-4aaf-8425-8f84106b6c5b",
   "metadata": {
    "tags": []
   },
   "outputs": [],
   "source": [
    "def load_model_output_stats(output_type, threshold, fields=None):\n",
    "    df = pd.read_csv(f\"/home/s2208943/ipdis/data/preprocessed_data/umap_data_spreadsheets/ADNI/{uncertainty_type}_{output_type}_{threshold}.csv\")\n",
    "    if fields != None:\n",
    "        return df[fields]\n",
    "    return df"
   ]
  },
  {
   "cell_type": "code",
   "execution_count": 6,
   "id": "79739d48-2b32-4a43-990d-b4eedbbf62d5",
   "metadata": {
    "tags": []
   },
   "outputs": [],
   "source": [
    "ent03 = load_model_output_stats(\"ent\", 0.3)"
   ]
  },
  {
   "cell_type": "code",
   "execution_count": 7,
   "id": "02c9ca4a-95dc-4653-a2e7-43523f5209ff",
   "metadata": {
    "tags": []
   },
   "outputs": [
    {
     "data": {
      "text/plain": [
       "Index(['Unnamed: 0', 'ID', 'cc_num', 'cc_unsegmented_ccs', 'cc_size_mean',\n",
       "       'cc_size_std', 'cc_size_skew', 'cc_size_kurt', 'cc_vd_mean',\n",
       "       'cc_vd_std', 'cc_vd_skew', 'cc_vd_kurt', 'sum', 'mean', 'std', 'skew',\n",
       "       'kurtosis', 'prop_umap_segmented', 'prop_umap_within_expanded_seg',\n",
       "       'prop_seg_uncertain', 'dist_mean', 'dist_std', 'dist_skew', 'dist_kurt',\n",
       "       'dist_value_joint_0', 'dist_value_joint_1', 'dist_value_joint_2',\n",
       "       'dist_value_joint_3', 'dist_value_joint_4', 'dist_value_joint_5',\n",
       "       'dist_value_joint_6', 'dist_value_joint_7', 'dist_value_joint_8',\n",
       "       'dist_value_joint_9', 'dist_value_joint_10', 'dist_value_joint_11',\n",
       "       'dist_value_joint_12', 'dist_value_joint_13', 'dist_value_joint_14',\n",
       "       'dist_value_joint_15', 'dist_value_joint_16', 'dist_value_joint_17',\n",
       "       'dist_value_joint_18', 'dist_value_joint_19', 'dist_value_joint_20',\n",
       "       'dist_value_joint_21', 'dist_value_joint_22', 'dist_value_joint_23',\n",
       "       'dist_value_joint_24', 'cc_dist_value_joint_0', 'cc_dist_value_joint_1',\n",
       "       'cc_dist_value_joint_2', 'cc_dist_value_joint_3',\n",
       "       'cc_dist_value_joint_4', 'cc_dist_value_joint_5',\n",
       "       'cc_dist_value_joint_6', 'cc_dist_value_joint_7',\n",
       "       'cc_dist_value_joint_8', 'cc_dist_value_joint_9',\n",
       "       'cc_dist_value_joint_10', 'cc_dist_value_joint_11',\n",
       "       'cc_dist_value_joint_12', 'cc_dist_value_joint_13',\n",
       "       'cc_dist_value_joint_14', 'cc_dist_value_joint_15',\n",
       "       'cc_dist_value_joint_16', 'cc_dist_value_joint_17',\n",
       "       'cc_dist_value_joint_18', 'cc_dist_value_joint_19',\n",
       "       'cc_dist_value_joint_20', 'cc_dist_value_joint_21',\n",
       "       'cc_dist_value_joint_22', 'cc_dist_value_joint_23',\n",
       "       'cc_dist_value_joint_24', 'seg_volume', 'vent_volume', 'values_hist_0',\n",
       "       'values_hist_1', 'values_hist_2', 'values_hist_3', 'values_hist_4',\n",
       "       'values_hist_5', 'values_hist_6', 'values_hist_7', 'values_hist_8',\n",
       "       'values_hist_9', 'values_hist_10', 'values_hist_11', 'values_hist_12',\n",
       "       'values_hist_13', 'values_hist_14', 'values_hist_15', 'values_hist_16',\n",
       "       'values_hist_17', 'values_hist_18', 'values_hist_19'],\n",
       "      dtype='object')"
      ]
     },
     "execution_count": 7,
     "metadata": {},
     "output_type": "execute_result"
    }
   ],
   "source": [
    "ent03.keys()"
   ]
  },
  {
   "cell_type": "code",
   "execution_count": 8,
   "id": "8338b3f2-dd99-4ac2-bae2-3438d13c2e0e",
   "metadata": {
    "tags": []
   },
   "outputs": [],
   "source": [
    "def merge_datasets(core_df, output_types, thresholds, selected_fields):\n",
    "    for output_type, thresh, fields in zip(output_types, thresholds, selected_fields):\n",
    "        \n",
    "        extra_df = load_model_output_stats(output_type, thresh, fields) # load the specific output type at the given threshold, and select the desired fields\n",
    "        \n",
    "        extra_df['Patient ID'] = [\"_\".join(full_id.split(\"_\")[1:4]) for full_id in extra_df['ID']] # create the patient ID column that matches the information from the main clinscore dataframe\n",
    "        extra_df = extra_df.drop(columns='ID')\n",
    "        # print(extra_df['Patient ID'].values)\n",
    "        extra_df = extra_df.rename(columns={key: f\"{output_type}{thresh}_{key}\" if key != 'Patient ID' else 'Patient ID' for key in extra_df.keys()}) # modify the column name so that we know which columns belong to which input type\n",
    "        \n",
    "        # print(len(core_df))\n",
    "        core_df = core_df.merge(extra_df, on=\"Patient ID\")\n",
    "        \n",
    "    \n",
    "    core_df = core_df.drop(columns='Patient ID')       \n",
    "    \n",
    "    return core_df"
   ]
  },
  {
   "cell_type": "code",
   "execution_count": 9,
   "id": "99475e50-2716-4d88-ab43-2ae283cc342f",
   "metadata": {
    "tags": []
   },
   "outputs": [],
   "source": [
    "all_image_extracted_fields = ['cc_num', 'cc_unsegmented_ccs', 'cc_size_mean',\n",
    "       'cc_size_std', 'cc_size_skew', 'cc_size_kurt', 'cc_vd_mean',\n",
    "       'cc_vd_std', 'cc_vd_skew', 'cc_vd_kurt', 'sum', 'mean', 'std', 'skew',\n",
    "       'kurtosis', 'prop_umap_segmented', 'prop_umap_within_expanded_seg',\n",
    "       'prop_seg_uncertain', 'dist_mean', 'dist_std', 'dist_skew', 'dist_kurt',\n",
    "       'dist_value_joint_0', 'dist_value_joint_1', 'dist_value_joint_2',\n",
    "       'dist_value_joint_3', 'dist_value_joint_4', 'dist_value_joint_5',\n",
    "       'dist_value_joint_6', 'dist_value_joint_7', 'dist_value_joint_8',\n",
    "       'dist_value_joint_9', 'dist_value_joint_10', 'dist_value_joint_11',\n",
    "       'dist_value_joint_12', 'dist_value_joint_13', 'dist_value_joint_14',\n",
    "       'dist_value_joint_15', 'dist_value_joint_16', 'dist_value_joint_17',\n",
    "       'dist_value_joint_18', 'dist_value_joint_19', 'dist_value_joint_20',\n",
    "       'dist_value_joint_21', 'dist_value_joint_22', 'dist_value_joint_23',\n",
    "       'dist_value_joint_24', 'cc_dist_value_joint_0', 'cc_dist_value_joint_1',\n",
    "       'cc_dist_value_joint_2', 'cc_dist_value_joint_3',\n",
    "       'cc_dist_value_joint_4', 'cc_dist_value_joint_5',\n",
    "       'cc_dist_value_joint_6', 'cc_dist_value_joint_7',\n",
    "       'cc_dist_value_joint_8', 'cc_dist_value_joint_9',\n",
    "       'cc_dist_value_joint_10', 'cc_dist_value_joint_11',\n",
    "       'cc_dist_value_joint_12', 'cc_dist_value_joint_13',\n",
    "       'cc_dist_value_joint_14', 'cc_dist_value_joint_15',\n",
    "       'cc_dist_value_joint_16', 'cc_dist_value_joint_17',\n",
    "       'cc_dist_value_joint_18', 'cc_dist_value_joint_19',\n",
    "       'cc_dist_value_joint_20', 'cc_dist_value_joint_21',\n",
    "       'cc_dist_value_joint_22', 'cc_dist_value_joint_23',\n",
    "       'cc_dist_value_joint_24', 'values_hist_0',\n",
    "       'values_hist_1', 'values_hist_2', 'values_hist_3', 'values_hist_4',\n",
    "       'values_hist_5', 'values_hist_6', 'values_hist_7', 'values_hist_8',\n",
    "       'values_hist_9', 'values_hist_10', 'values_hist_11', 'values_hist_12',\n",
    "       'values_hist_13', 'values_hist_14', 'values_hist_15', 'values_hist_16',\n",
    "       'values_hist_17', 'values_hist_18', 'values_hist_19']\n",
    "\n",
    "pred_values = ['seg_volume', 'vent_volume']"
   ]
  },
  {
   "cell_type": "code",
   "execution_count": 10,
   "id": "2d7ce6af-fcf4-4d0b-9d07-09c4b833e0a7",
   "metadata": {
    "tags": []
   },
   "outputs": [],
   "source": [
    "added_inputs = [\"pred\", \"ent\", \"pred\", \"var\"]\n",
    "thresholds = [0.5, 0.3, 0.2, 0.06]\n",
    "# added_fields = [['cc_num', 'cc_unsegmented_ccs', 'cc_size_mean'], ['kurtosis', 'prop_umap_segmented', 'prop_umap_within_expanded_seg'], ['kurtosis']]\n",
    "added_fields = [pred_values, all_image_extracted_fields, all_image_extracted_fields, all_image_extracted_fields]\n",
    "added_fields = [f+['ID'] for f in added_fields]\n",
    "\n",
    "included_terms = []#0]#, 2]#, 1]#, 3]\n",
    "added_inputs = [added_inputs[idx] for idx in included_terms]\n",
    "thresholds = [thresholds[idx] for idx in included_terms]\n",
    "added_fields = [added_fields[idx] for idx in included_terms]\n",
    "\n",
    "core_fields = ['Patient ID', 'AGE', 'Ventricles_bl %',\n",
    "       'Hippocampus_bl %', 'WholeBrain_bl %', 'Entorhinal_bl %',\n",
    "       'Fusiform_bl %', 'MidTemp_bl %', 'BMI', 'WMH_PV', 'WMH_Deep', 'Total',\n",
    "       'PTGENDER', 'E-M RISK FACTORS', 'DX.bl_0', 'DX.bl_1', 'DX.bl_2',\n",
    "       'DX.bl_3', 'CV RISK FACTORS_0', 'CV RISK FACTORS_1',\n",
    "       'CV RISK FACTORS_2', 'APOE4_0', 'APOE4_1', 'APOE4_2',\n",
    "       'totatal_fazekas']"
   ]
  },
  {
   "cell_type": "code",
   "execution_count": 11,
   "id": "2fbc3931-e199-40fb-b3bd-c3e4be0f66ac",
   "metadata": {
    "tags": []
   },
   "outputs": [
    {
     "data": {
      "text/plain": [
       "Index(['Unnamed: 0', 'Patient ID', 'AGE', 'Ventricles_bl %',\n",
       "       'Hippocampus_bl %', 'WholeBrain_bl %', 'Entorhinal_bl %',\n",
       "       'Fusiform_bl %', 'MidTemp_bl %', 'BMI', 'WMH_PV', 'WMH_Deep', 'Total',\n",
       "       'PTGENDER', 'E-M RISK FACTORS', 'DX.bl_0', 'DX.bl_1', 'DX.bl_2',\n",
       "       'DX.bl_3', 'CV RISK FACTORS_0', 'CV RISK FACTORS_1',\n",
       "       'CV RISK FACTORS_2', 'APOE4_0', 'APOE4_1', 'APOE4_2',\n",
       "       'totatal_fazekas'],\n",
       "      dtype='object')"
      ]
     },
     "execution_count": 11,
     "metadata": {},
     "output_type": "execute_result"
    }
   ],
   "source": [
    "ADNI_core_df.keys()"
   ]
  },
  {
   "cell_type": "code",
   "execution_count": 12,
   "id": "bcef90bb-13bd-4f7f-a9b3-078481595f01",
   "metadata": {
    "tags": []
   },
   "outputs": [],
   "source": [
    "combined_df = merge_datasets(ADNI_core_df[core_fields], added_inputs, thresholds, added_fields)"
   ]
  },
  {
   "cell_type": "code",
   "execution_count": 13,
   "id": "42972f83-f708-4bee-b6db-ad191cd63294",
   "metadata": {
    "tags": []
   },
   "outputs": [
    {
     "data": {
      "text/html": [
       "<div>\n",
       "<style scoped>\n",
       "    .dataframe tbody tr th:only-of-type {\n",
       "        vertical-align: middle;\n",
       "    }\n",
       "\n",
       "    .dataframe tbody tr th {\n",
       "        vertical-align: top;\n",
       "    }\n",
       "\n",
       "    .dataframe thead th {\n",
       "        text-align: right;\n",
       "    }\n",
       "</style>\n",
       "<table border=\"1\" class=\"dataframe\">\n",
       "  <thead>\n",
       "    <tr style=\"text-align: right;\">\n",
       "      <th></th>\n",
       "      <th>AGE</th>\n",
       "      <th>Ventricles_bl %</th>\n",
       "      <th>Hippocampus_bl %</th>\n",
       "      <th>WholeBrain_bl %</th>\n",
       "      <th>Entorhinal_bl %</th>\n",
       "      <th>Fusiform_bl %</th>\n",
       "      <th>MidTemp_bl %</th>\n",
       "      <th>BMI</th>\n",
       "      <th>WMH_PV</th>\n",
       "      <th>WMH_Deep</th>\n",
       "      <th>...</th>\n",
       "      <th>DX.bl_1</th>\n",
       "      <th>DX.bl_2</th>\n",
       "      <th>DX.bl_3</th>\n",
       "      <th>CV RISK FACTORS_0</th>\n",
       "      <th>CV RISK FACTORS_1</th>\n",
       "      <th>CV RISK FACTORS_2</th>\n",
       "      <th>APOE4_0</th>\n",
       "      <th>APOE4_1</th>\n",
       "      <th>APOE4_2</th>\n",
       "      <th>totatal_fazekas</th>\n",
       "    </tr>\n",
       "  </thead>\n",
       "  <tbody>\n",
       "    <tr>\n",
       "      <th>0</th>\n",
       "      <td>-0.907124</td>\n",
       "      <td>-0.599118</td>\n",
       "      <td>0.209110</td>\n",
       "      <td>0.410522</td>\n",
       "      <td>-0.386959</td>\n",
       "      <td>0.803329</td>\n",
       "      <td>0.252266</td>\n",
       "      <td>-0.935346</td>\n",
       "      <td>2.0</td>\n",
       "      <td>2.0</td>\n",
       "      <td>...</td>\n",
       "      <td>False</td>\n",
       "      <td>True</td>\n",
       "      <td>False</td>\n",
       "      <td>False</td>\n",
       "      <td>True</td>\n",
       "      <td>False</td>\n",
       "      <td>False</td>\n",
       "      <td>True</td>\n",
       "      <td>False</td>\n",
       "      <td>4.0</td>\n",
       "    </tr>\n",
       "    <tr>\n",
       "      <th>1</th>\n",
       "      <td>-1.913287</td>\n",
       "      <td>-1.640056</td>\n",
       "      <td>-2.956800</td>\n",
       "      <td>-3.247881</td>\n",
       "      <td>-2.848414</td>\n",
       "      <td>-3.151439</td>\n",
       "      <td>-3.172560</td>\n",
       "      <td>-0.778481</td>\n",
       "      <td>1.0</td>\n",
       "      <td>0.0</td>\n",
       "      <td>...</td>\n",
       "      <td>False</td>\n",
       "      <td>True</td>\n",
       "      <td>False</td>\n",
       "      <td>False</td>\n",
       "      <td>True</td>\n",
       "      <td>False</td>\n",
       "      <td>True</td>\n",
       "      <td>False</td>\n",
       "      <td>False</td>\n",
       "      <td>1.0</td>\n",
       "    </tr>\n",
       "    <tr>\n",
       "      <th>2</th>\n",
       "      <td>-0.080140</td>\n",
       "      <td>0.097730</td>\n",
       "      <td>-0.155410</td>\n",
       "      <td>0.197169</td>\n",
       "      <td>-0.629183</td>\n",
       "      <td>0.049800</td>\n",
       "      <td>0.232463</td>\n",
       "      <td>-0.908899</td>\n",
       "      <td>1.0</td>\n",
       "      <td>1.0</td>\n",
       "      <td>...</td>\n",
       "      <td>False</td>\n",
       "      <td>False</td>\n",
       "      <td>False</td>\n",
       "      <td>False</td>\n",
       "      <td>False</td>\n",
       "      <td>True</td>\n",
       "      <td>True</td>\n",
       "      <td>False</td>\n",
       "      <td>False</td>\n",
       "      <td>2.0</td>\n",
       "    </tr>\n",
       "    <tr>\n",
       "      <th>3</th>\n",
       "      <td>-0.135273</td>\n",
       "      <td>-0.490720</td>\n",
       "      <td>0.148831</td>\n",
       "      <td>0.182368</td>\n",
       "      <td>0.396004</td>\n",
       "      <td>0.125605</td>\n",
       "      <td>-0.024744</td>\n",
       "      <td>2.393686</td>\n",
       "      <td>3.0</td>\n",
       "      <td>2.0</td>\n",
       "      <td>...</td>\n",
       "      <td>False</td>\n",
       "      <td>False</td>\n",
       "      <td>False</td>\n",
       "      <td>False</td>\n",
       "      <td>False</td>\n",
       "      <td>True</td>\n",
       "      <td>False</td>\n",
       "      <td>True</td>\n",
       "      <td>False</td>\n",
       "      <td>5.0</td>\n",
       "    </tr>\n",
       "    <tr>\n",
       "      <th>4</th>\n",
       "      <td>-1.210351</td>\n",
       "      <td>-0.724175</td>\n",
       "      <td>0.889532</td>\n",
       "      <td>0.357138</td>\n",
       "      <td>0.261112</td>\n",
       "      <td>0.243122</td>\n",
       "      <td>0.582234</td>\n",
       "      <td>3.287072</td>\n",
       "      <td>1.0</td>\n",
       "      <td>1.0</td>\n",
       "      <td>...</td>\n",
       "      <td>True</td>\n",
       "      <td>False</td>\n",
       "      <td>False</td>\n",
       "      <td>False</td>\n",
       "      <td>True</td>\n",
       "      <td>False</td>\n",
       "      <td>False</td>\n",
       "      <td>True</td>\n",
       "      <td>False</td>\n",
       "      <td>2.0</td>\n",
       "    </tr>\n",
       "    <tr>\n",
       "      <th>...</th>\n",
       "      <td>...</td>\n",
       "      <td>...</td>\n",
       "      <td>...</td>\n",
       "      <td>...</td>\n",
       "      <td>...</td>\n",
       "      <td>...</td>\n",
       "      <td>...</td>\n",
       "      <td>...</td>\n",
       "      <td>...</td>\n",
       "      <td>...</td>\n",
       "      <td>...</td>\n",
       "      <td>...</td>\n",
       "      <td>...</td>\n",
       "      <td>...</td>\n",
       "      <td>...</td>\n",
       "      <td>...</td>\n",
       "      <td>...</td>\n",
       "      <td>...</td>\n",
       "      <td>...</td>\n",
       "      <td>...</td>\n",
       "      <td>...</td>\n",
       "    </tr>\n",
       "    <tr>\n",
       "      <th>278</th>\n",
       "      <td>0.099039</td>\n",
       "      <td>0.032813</td>\n",
       "      <td>-0.126676</td>\n",
       "      <td>0.208292</td>\n",
       "      <td>0.009422</td>\n",
       "      <td>0.287841</td>\n",
       "      <td>0.377825</td>\n",
       "      <td>0.013404</td>\n",
       "      <td>1.0</td>\n",
       "      <td>0.0</td>\n",
       "      <td>...</td>\n",
       "      <td>False</td>\n",
       "      <td>False</td>\n",
       "      <td>False</td>\n",
       "      <td>True</td>\n",
       "      <td>False</td>\n",
       "      <td>False</td>\n",
       "      <td>False</td>\n",
       "      <td>True</td>\n",
       "      <td>False</td>\n",
       "      <td>1.0</td>\n",
       "    </tr>\n",
       "    <tr>\n",
       "      <th>279</th>\n",
       "      <td>-0.107707</td>\n",
       "      <td>-0.280526</td>\n",
       "      <td>0.599915</td>\n",
       "      <td>0.374701</td>\n",
       "      <td>0.714687</td>\n",
       "      <td>0.126096</td>\n",
       "      <td>0.437157</td>\n",
       "      <td>-0.017095</td>\n",
       "      <td>1.0</td>\n",
       "      <td>0.0</td>\n",
       "      <td>...</td>\n",
       "      <td>False</td>\n",
       "      <td>False</td>\n",
       "      <td>False</td>\n",
       "      <td>False</td>\n",
       "      <td>True</td>\n",
       "      <td>False</td>\n",
       "      <td>True</td>\n",
       "      <td>False</td>\n",
       "      <td>False</td>\n",
       "      <td>1.0</td>\n",
       "    </tr>\n",
       "    <tr>\n",
       "      <th>280</th>\n",
       "      <td>1.187900</td>\n",
       "      <td>1.205062</td>\n",
       "      <td>-0.016664</td>\n",
       "      <td>0.101020</td>\n",
       "      <td>0.432068</td>\n",
       "      <td>0.203846</td>\n",
       "      <td>-0.216243</td>\n",
       "      <td>-0.803431</td>\n",
       "      <td>1.0</td>\n",
       "      <td>1.0</td>\n",
       "      <td>...</td>\n",
       "      <td>False</td>\n",
       "      <td>False</td>\n",
       "      <td>False</td>\n",
       "      <td>False</td>\n",
       "      <td>False</td>\n",
       "      <td>True</td>\n",
       "      <td>True</td>\n",
       "      <td>False</td>\n",
       "      <td>False</td>\n",
       "      <td>2.0</td>\n",
       "    </tr>\n",
       "    <tr>\n",
       "      <th>281</th>\n",
       "      <td>0.664144</td>\n",
       "      <td>-1.640056</td>\n",
       "      <td>-2.956800</td>\n",
       "      <td>-3.247881</td>\n",
       "      <td>-2.848414</td>\n",
       "      <td>-3.151439</td>\n",
       "      <td>-3.172560</td>\n",
       "      <td>0.442142</td>\n",
       "      <td>2.0</td>\n",
       "      <td>2.0</td>\n",
       "      <td>...</td>\n",
       "      <td>False</td>\n",
       "      <td>False</td>\n",
       "      <td>False</td>\n",
       "      <td>False</td>\n",
       "      <td>True</td>\n",
       "      <td>False</td>\n",
       "      <td>True</td>\n",
       "      <td>False</td>\n",
       "      <td>False</td>\n",
       "      <td>4.0</td>\n",
       "    </tr>\n",
       "    <tr>\n",
       "      <th>282</th>\n",
       "      <td>1.518694</td>\n",
       "      <td>1.579927</td>\n",
       "      <td>-0.144363</td>\n",
       "      <td>-0.065999</td>\n",
       "      <td>0.773153</td>\n",
       "      <td>0.250890</td>\n",
       "      <td>-0.029618</td>\n",
       "      <td>0.131969</td>\n",
       "      <td>2.0</td>\n",
       "      <td>1.0</td>\n",
       "      <td>...</td>\n",
       "      <td>True</td>\n",
       "      <td>False</td>\n",
       "      <td>False</td>\n",
       "      <td>False</td>\n",
       "      <td>True</td>\n",
       "      <td>False</td>\n",
       "      <td>True</td>\n",
       "      <td>False</td>\n",
       "      <td>False</td>\n",
       "      <td>3.0</td>\n",
       "    </tr>\n",
       "  </tbody>\n",
       "</table>\n",
       "<p>283 rows × 24 columns</p>\n",
       "</div>"
      ],
      "text/plain": [
       "          AGE  Ventricles_bl %  Hippocampus_bl %  WholeBrain_bl %  \\\n",
       "0   -0.907124        -0.599118          0.209110         0.410522   \n",
       "1   -1.913287        -1.640056         -2.956800        -3.247881   \n",
       "2   -0.080140         0.097730         -0.155410         0.197169   \n",
       "3   -0.135273        -0.490720          0.148831         0.182368   \n",
       "4   -1.210351        -0.724175          0.889532         0.357138   \n",
       "..        ...              ...               ...              ...   \n",
       "278  0.099039         0.032813         -0.126676         0.208292   \n",
       "279 -0.107707        -0.280526          0.599915         0.374701   \n",
       "280  1.187900         1.205062         -0.016664         0.101020   \n",
       "281  0.664144        -1.640056         -2.956800        -3.247881   \n",
       "282  1.518694         1.579927         -0.144363        -0.065999   \n",
       "\n",
       "     Entorhinal_bl %  Fusiform_bl %  MidTemp_bl %       BMI  WMH_PV  WMH_Deep  \\\n",
       "0          -0.386959       0.803329      0.252266 -0.935346     2.0       2.0   \n",
       "1          -2.848414      -3.151439     -3.172560 -0.778481     1.0       0.0   \n",
       "2          -0.629183       0.049800      0.232463 -0.908899     1.0       1.0   \n",
       "3           0.396004       0.125605     -0.024744  2.393686     3.0       2.0   \n",
       "4           0.261112       0.243122      0.582234  3.287072     1.0       1.0   \n",
       "..               ...            ...           ...       ...     ...       ...   \n",
       "278         0.009422       0.287841      0.377825  0.013404     1.0       0.0   \n",
       "279         0.714687       0.126096      0.437157 -0.017095     1.0       0.0   \n",
       "280         0.432068       0.203846     -0.216243 -0.803431     1.0       1.0   \n",
       "281        -2.848414      -3.151439     -3.172560  0.442142     2.0       2.0   \n",
       "282         0.773153       0.250890     -0.029618  0.131969     2.0       1.0   \n",
       "\n",
       "     ...  DX.bl_1  DX.bl_2  DX.bl_3  CV RISK FACTORS_0  CV RISK FACTORS_1  \\\n",
       "0    ...    False     True    False              False               True   \n",
       "1    ...    False     True    False              False               True   \n",
       "2    ...    False    False    False              False              False   \n",
       "3    ...    False    False    False              False              False   \n",
       "4    ...     True    False    False              False               True   \n",
       "..   ...      ...      ...      ...                ...                ...   \n",
       "278  ...    False    False    False               True              False   \n",
       "279  ...    False    False    False              False               True   \n",
       "280  ...    False    False    False              False              False   \n",
       "281  ...    False    False    False              False               True   \n",
       "282  ...     True    False    False              False               True   \n",
       "\n",
       "     CV RISK FACTORS_2  APOE4_0  APOE4_1  APOE4_2  totatal_fazekas  \n",
       "0                False    False     True    False              4.0  \n",
       "1                False     True    False    False              1.0  \n",
       "2                 True     True    False    False              2.0  \n",
       "3                 True    False     True    False              5.0  \n",
       "4                False    False     True    False              2.0  \n",
       "..                 ...      ...      ...      ...              ...  \n",
       "278              False    False     True    False              1.0  \n",
       "279              False     True    False    False              1.0  \n",
       "280               True     True    False    False              2.0  \n",
       "281              False     True    False    False              4.0  \n",
       "282              False     True    False    False              3.0  \n",
       "\n",
       "[283 rows x 24 columns]"
      ]
     },
     "execution_count": 13,
     "metadata": {},
     "output_type": "execute_result"
    }
   ],
   "source": [
    "combined_df"
   ]
  },
  {
   "cell_type": "code",
   "execution_count": 14,
   "id": "77b8a727",
   "metadata": {
    "tags": []
   },
   "outputs": [],
   "source": [
    "def load_model_output_stats(output_type, threshold, fields=None):\n",
    "    df = pd.read_csv(f\"/home/s2208943/ipdis/data/preprocessed_data/umap_data_spreadsheets/ADNI/{uncertainty_type}_{output_type}_{threshold}.csv\")\n",
    "    if fields != None:\n",
    "        return df[fields]\n",
    "    return df"
   ]
  },
  {
   "cell_type": "code",
   "execution_count": 15,
   "id": "5fe33673",
   "metadata": {
    "tags": []
   },
   "outputs": [],
   "source": [
    "ent03 = load_model_output_stats(\"ent\", 0.3)"
   ]
  },
  {
   "cell_type": "code",
   "execution_count": 16,
   "id": "65961084",
   "metadata": {
    "tags": []
   },
   "outputs": [
    {
     "data": {
      "text/plain": [
       "Index(['Unnamed: 0', 'ID', 'cc_num', 'cc_unsegmented_ccs', 'cc_size_mean',\n",
       "       'cc_size_std', 'cc_size_skew', 'cc_size_kurt', 'cc_vd_mean',\n",
       "       'cc_vd_std', 'cc_vd_skew', 'cc_vd_kurt', 'sum', 'mean', 'std', 'skew',\n",
       "       'kurtosis', 'prop_umap_segmented', 'prop_umap_within_expanded_seg',\n",
       "       'prop_seg_uncertain', 'dist_mean', 'dist_std', 'dist_skew', 'dist_kurt',\n",
       "       'dist_value_joint_0', 'dist_value_joint_1', 'dist_value_joint_2',\n",
       "       'dist_value_joint_3', 'dist_value_joint_4', 'dist_value_joint_5',\n",
       "       'dist_value_joint_6', 'dist_value_joint_7', 'dist_value_joint_8',\n",
       "       'dist_value_joint_9', 'dist_value_joint_10', 'dist_value_joint_11',\n",
       "       'dist_value_joint_12', 'dist_value_joint_13', 'dist_value_joint_14',\n",
       "       'dist_value_joint_15', 'dist_value_joint_16', 'dist_value_joint_17',\n",
       "       'dist_value_joint_18', 'dist_value_joint_19', 'dist_value_joint_20',\n",
       "       'dist_value_joint_21', 'dist_value_joint_22', 'dist_value_joint_23',\n",
       "       'dist_value_joint_24', 'cc_dist_value_joint_0', 'cc_dist_value_joint_1',\n",
       "       'cc_dist_value_joint_2', 'cc_dist_value_joint_3',\n",
       "       'cc_dist_value_joint_4', 'cc_dist_value_joint_5',\n",
       "       'cc_dist_value_joint_6', 'cc_dist_value_joint_7',\n",
       "       'cc_dist_value_joint_8', 'cc_dist_value_joint_9',\n",
       "       'cc_dist_value_joint_10', 'cc_dist_value_joint_11',\n",
       "       'cc_dist_value_joint_12', 'cc_dist_value_joint_13',\n",
       "       'cc_dist_value_joint_14', 'cc_dist_value_joint_15',\n",
       "       'cc_dist_value_joint_16', 'cc_dist_value_joint_17',\n",
       "       'cc_dist_value_joint_18', 'cc_dist_value_joint_19',\n",
       "       'cc_dist_value_joint_20', 'cc_dist_value_joint_21',\n",
       "       'cc_dist_value_joint_22', 'cc_dist_value_joint_23',\n",
       "       'cc_dist_value_joint_24', 'seg_volume', 'vent_volume', 'values_hist_0',\n",
       "       'values_hist_1', 'values_hist_2', 'values_hist_3', 'values_hist_4',\n",
       "       'values_hist_5', 'values_hist_6', 'values_hist_7', 'values_hist_8',\n",
       "       'values_hist_9', 'values_hist_10', 'values_hist_11', 'values_hist_12',\n",
       "       'values_hist_13', 'values_hist_14', 'values_hist_15', 'values_hist_16',\n",
       "       'values_hist_17', 'values_hist_18', 'values_hist_19'],\n",
       "      dtype='object')"
      ]
     },
     "execution_count": 16,
     "metadata": {},
     "output_type": "execute_result"
    }
   ],
   "source": [
    "ent03.keys()"
   ]
  },
  {
   "cell_type": "markdown",
   "id": "34940718-0081-4e67-a5b5-4444f59da3ba",
   "metadata": {},
   "source": [
    "### fitting to predict fazekas"
   ]
  },
  {
   "cell_type": "code",
   "execution_count": 17,
   "id": "a448682f",
   "metadata": {
    "tags": []
   },
   "outputs": [],
   "source": [
    "def merge_datasets(core_df, output_types, thresholds, selected_fields):\n",
    "    for output_type, thresh, fields in zip(output_types, thresholds, selected_fields):\n",
    "        \n",
    "        extra_df = load_model_output_stats(output_type, thresh, fields) # load the specific output type at the given threshold, and select the desired fields\n",
    "        \n",
    "        extra_df['Patient ID'] = [\"_\".join(full_id.split(\"_\")[1:4]) for full_id in extra_df['ID']] # create the patient ID column that matches the information from the main clinscore dataframe\n",
    "        extra_df = extra_df.drop(columns='ID')\n",
    "        # print(extra_df['Patient ID'].values)\n",
    "        extra_df = extra_df.rename(columns={key: f\"{output_type}{thresh}_{key}\" if key != 'Patient ID' else 'Patient ID' for key in extra_df.keys()}) # modify the column name so that we know which columns belong to which input type\n",
    "        \n",
    "        # print(len(core_df))\n",
    "        core_df = core_df.merge(extra_df, on=\"Patient ID\")\n",
    "        \n",
    "    \n",
    "    core_df = core_df.drop(columns='Patient ID')       \n",
    "    \n",
    "    return core_df"
   ]
  },
  {
   "cell_type": "code",
   "execution_count": 18,
   "id": "01fc7e4f-8941-4c36-839e-3111aecdaa04",
   "metadata": {
    "tags": []
   },
   "outputs": [],
   "source": [
    "def remove_nans(dfc, verbose=False):\n",
    "    nan_rows = dfc[dfc.isnull().any(axis=1)]\n",
    "    nan_cols = dfc.columns[dfc.isnull().any()]\n",
    "    if verbose:\n",
    "        print(\"nans removed: \", len(nan_rows))\n",
    "    dfc = dfc.drop(labels=nan_rows.index.values, axis=0)\n",
    "    return dfc"
   ]
  },
  {
   "cell_type": "code",
   "execution_count": 19,
   "id": "c382d17c",
   "metadata": {
    "tags": []
   },
   "outputs": [],
   "source": [
    "def extract_Xy(df, label_class, verbose=False, kept_column=None, label_categories=None):\n",
    "    df = remove_nans(df, verbose)\n",
    "    if label_categories == None:\n",
    "        label_categories = ['WMH_PV', 'WMH_Deep', 'Total', 'totatal_fazekas']\n",
    "    if kept_column != None:\n",
    "        y_reg = df[kept_column].values\n",
    "    y = df[label_class].values\n",
    "    X = df.drop(columns=label_categories)\n",
    "    if label_class not in label_categories:\n",
    "        X = X.drop(columns=label_class)\n",
    "    if kept_column != None:\n",
    "        X[kept_column] = y_reg\n",
    "    return X, y"
   ]
  },
  {
   "cell_type": "code",
   "execution_count": 20,
   "id": "b5b26a54-2007-4c6f-b952-a8af375f5e95",
   "metadata": {
    "tags": []
   },
   "outputs": [],
   "source": [
    "from sklearn.linear_model import LogisticRegression\n",
    "from sklearn.svm import SVC\n",
    "from sklearn.ensemble import RandomForestClassifier"
   ]
  },
  {
   "cell_type": "code",
   "execution_count": 21,
   "id": "1cb8a3b6-133e-4e4c-9a70-98fc4a7188d7",
   "metadata": {
    "tags": []
   },
   "outputs": [],
   "source": [
    "class Rescaler():\n",
    "    def fit(self, X):\n",
    "        norm_parameters = []\n",
    "        for key in X.keys():\n",
    "            values = X[key].values\n",
    "            if len(np.unique(values)) > 2:\n",
    "                mean = np.mean(values)\n",
    "                std = np.std(values)\n",
    "                norm_parameters.append((key, mean, std))\n",
    "        self.norm_parameters = norm_parameters\n",
    "    def predict(self, X):\n",
    "        X = X.copy()\n",
    "        for key, mean, std in self.norm_parameters:\n",
    "            X[key] = (X[key] - mean) / std\n",
    "        \n",
    "        return X"
   ]
  },
  {
   "cell_type": "code",
   "execution_count": 22,
   "id": "9fb5acb4-5cb8-4a3a-a9a5-342fe1ce4282",
   "metadata": {
    "tags": []
   },
   "outputs": [],
   "source": [
    "from sklearn.metrics import accuracy_score, f1_score, roc_auc_score"
   ]
  },
  {
   "cell_type": "code",
   "execution_count": 23,
   "id": "f13915f7-2960-4dcb-aafc-33aa9c7f83b9",
   "metadata": {
    "tags": []
   },
   "outputs": [],
   "source": [
    "def shuffle(df, random_state=42):\n",
    "    df = df.copy()\n",
    "    df = df.sample(frac=1, random_state=random_state).reset_index(drop=True)\n",
    "    return df"
   ]
  },
  {
   "cell_type": "code",
   "execution_count": 24,
   "id": "813789c5-b265-4398-9bf1-abfcf7e7efb3",
   "metadata": {
    "tags": []
   },
   "outputs": [],
   "source": [
    "from tqdm import tqdm"
   ]
  },
  {
   "cell_type": "markdown",
   "id": "0572607e-6f74-4c41-905d-e454223cd015",
   "metadata": {},
   "source": [
    "## new training pipeline\n",
    "\n",
    "\n",
    "configure so that I can pick a specific input type and threshold and included features.\n",
    "Need the ability to include multiple sets of fields from the core df. to do this, I can combine all features into one large dataframe and then pull out only the ones I need from that. Once I have this, assess the performance, and predict Dice and F1 as well, and then summarise everything that I have done and am going to do for Maria.\n",
    "I will talk about the second test using the data trained on the WMH challenge data.\n",
    "Explain the limitations of the study (I need to hyperparameter tune for example).\n",
    "Explain the comparison with the CNN results that I have done. Nice."
   ]
  },
  {
   "cell_type": "markdown",
   "id": "2defd8b2-035a-4ed4-a837-7631f44e55f9",
   "metadata": {},
   "source": [
    "### collating all the input data types together"
   ]
  },
  {
   "cell_type": "code",
   "execution_count": 25,
   "id": "c0069f82-f9de-4f23-8874-8292e4a384fc",
   "metadata": {
    "tags": []
   },
   "outputs": [],
   "source": [
    "all_image_extracted_fields = ['cc_num', 'cc_unsegmented_ccs', 'cc_size_mean',\n",
    "       'cc_size_std', 'cc_size_skew', 'cc_size_kurt', 'cc_vd_mean',\n",
    "       'cc_vd_std', 'cc_vd_skew', 'cc_vd_kurt', 'sum', 'mean', 'std', 'skew',\n",
    "       'kurtosis', 'prop_umap_segmented', 'prop_umap_within_expanded_seg',\n",
    "       'prop_seg_uncertain', 'dist_mean', 'dist_std', 'dist_skew', 'dist_kurt',\n",
    "       'dist_value_joint_0', 'dist_value_joint_1', 'dist_value_joint_2',\n",
    "       'dist_value_joint_3', 'dist_value_joint_4', 'dist_value_joint_5',\n",
    "       'dist_value_joint_6', 'dist_value_joint_7', 'dist_value_joint_8',\n",
    "       'dist_value_joint_9', 'dist_value_joint_10', 'dist_value_joint_11',\n",
    "       'dist_value_joint_12', 'dist_value_joint_13', 'dist_value_joint_14',\n",
    "       'dist_value_joint_15', 'dist_value_joint_16', 'dist_value_joint_17',\n",
    "       'dist_value_joint_18', 'dist_value_joint_19', 'dist_value_joint_20',\n",
    "       'dist_value_joint_21', 'dist_value_joint_22', 'dist_value_joint_23',\n",
    "       'dist_value_joint_24', 'cc_dist_value_joint_0', 'cc_dist_value_joint_1',\n",
    "       'cc_dist_value_joint_2', 'cc_dist_value_joint_3',\n",
    "       'cc_dist_value_joint_4', 'cc_dist_value_joint_5',\n",
    "       'cc_dist_value_joint_6', 'cc_dist_value_joint_7',\n",
    "       'cc_dist_value_joint_8', 'cc_dist_value_joint_9',\n",
    "       'cc_dist_value_joint_10', 'cc_dist_value_joint_11',\n",
    "       'cc_dist_value_joint_12', 'cc_dist_value_joint_13',\n",
    "       'cc_dist_value_joint_14', 'cc_dist_value_joint_15',\n",
    "       'cc_dist_value_joint_16', 'cc_dist_value_joint_17',\n",
    "       'cc_dist_value_joint_18', 'cc_dist_value_joint_19',\n",
    "       'cc_dist_value_joint_20', 'cc_dist_value_joint_21',\n",
    "       'cc_dist_value_joint_22', 'cc_dist_value_joint_23',\n",
    "       'cc_dist_value_joint_24', 'values_hist_0',\n",
    "       'values_hist_1', 'values_hist_2', 'values_hist_3', 'values_hist_4',\n",
    "       'values_hist_5', 'values_hist_6', 'values_hist_7', 'values_hist_8',\n",
    "       'values_hist_9', 'values_hist_10', 'values_hist_11', 'values_hist_12',\n",
    "       'values_hist_13', 'values_hist_14', 'values_hist_15', 'values_hist_16',\n",
    "       'values_hist_17', 'values_hist_18', 'values_hist_19']\n",
    "\n",
    "pred_values = ['seg_volume', 'vent_volume']"
   ]
  },
  {
   "cell_type": "code",
   "execution_count": 27,
   "id": "f3a5ae14-49d7-406e-b8b4-4c20e8415762",
   "metadata": {
    "tags": []
   },
   "outputs": [],
   "source": [
    "added_inps = [\"pred\"] + [\"pred\" for _ in range(6)] + [\"ent\" for _ in range(6)]\n",
    "added_thresholds = [0.5, 0.1, 0.2, 0.3, 0.4, 0.5, 0.6, 0.1, 0.2, 0.3, 0.4, 0.45, 0.5]\n",
    "added_fields = [pred_values] +  [all_image_extracted_fields for _ in range(len(added_inps) - 1)]\n",
    "added_fields = [f+['ID'] for f in added_fields]\n",
    "\n",
    "\n",
    "adni_df_sel_fields = ['Patient ID', 'AGE', 'Ventricles_bl %',\n",
    "       'Hippocampus_bl %', 'WholeBrain_bl %', 'Entorhinal_bl %',\n",
    "       'Fusiform_bl %', 'MidTemp_bl %', 'BMI', 'WMH_PV', 'WMH_Deep', 'Total',\n",
    "       'PTGENDER', 'E-M RISK FACTORS', 'DX.bl_0', 'DX.bl_1', 'DX.bl_2',\n",
    "       'DX.bl_3', 'CV RISK FACTORS_0', 'CV RISK FACTORS_1',\n",
    "       'CV RISK FACTORS_2', 'APOE4_0', 'APOE4_1', 'APOE4_2',\n",
    "       'totatal_fazekas', ]\n",
    "\n",
    "full_combined_df = merge_datasets(ADNI_core_df[adni_df_sel_fields], added_inps, added_thresholds, added_fields)"
   ]
  },
  {
   "cell_type": "code",
   "execution_count": 28,
   "id": "bc1f2751-4a13-4e6b-a0de-4cfcabc3896f",
   "metadata": {
    "tags": []
   },
   "outputs": [
    {
     "data": {
      "text/plain": [
       "0      0.051398\n",
       "1      0.054433\n",
       "2      0.044948\n",
       "3      0.050893\n",
       "4      0.023990\n",
       "         ...   \n",
       "267    0.042850\n",
       "268    0.036784\n",
       "269    0.044916\n",
       "270    0.051102\n",
       "271    0.048007\n",
       "Name: ent0.45_values_hist_10, Length: 272, dtype: float64"
      ]
     },
     "execution_count": 28,
     "metadata": {},
     "output_type": "execute_result"
    }
   ],
   "source": [
    "full_combined_df['ent0.45_values_hist_10']"
   ]
  },
  {
   "cell_type": "code",
   "execution_count": 29,
   "id": "f26b2b5a-d900-422e-9b9a-14c8ca142c7e",
   "metadata": {
    "tags": []
   },
   "outputs": [],
   "source": [
    "def get_select_fields(df, fields_lists, input_types, thresholds):\n",
    "    full_fields_selection = []\n",
    "    for fieldset, t, inp in zip(fields_lists, thresholds, input_types):\n",
    "        if inp == None:\n",
    "            full_fields_selection.extend(fieldset)\n",
    "        else:\n",
    "            full_fields_selection.extend([f\"{inp}{t}_{f}\" for f in fieldset])\n",
    "    \n",
    "    df= df[full_fields_selection]\n",
    "    \n",
    "#     # Get duplicate columns names\n",
    "#     dup_cols = df.columns[df.columns.duplicated()]\n",
    "\n",
    "#     # Rename duplicate columns\n",
    "#     for x in dup_cols:\n",
    "#         cols = df.columns[df.columns.str.startswith(x)] \n",
    "#         for i in range(len(cols)):\n",
    "#             df = df.rename(columns={cols[i]: x + '_' + str(i+1)})\n",
    "            \n",
    "    return df"
   ]
  },
  {
   "cell_type": "code",
   "execution_count": 30,
   "id": "2d3119fe-209e-4cbb-bca8-85162b4c9d01",
   "metadata": {
    "tags": []
   },
   "outputs": [],
   "source": [
    "clinical_fields = ['AGE', 'Ventricles_bl %',\n",
    "       'Hippocampus_bl %', 'WholeBrain_bl %', 'Entorhinal_bl %',\n",
    "       'Fusiform_bl %', 'MidTemp_bl %', 'BMI',\n",
    "       'PTGENDER', 'E-M RISK FACTORS', 'DX.bl_0', 'DX.bl_1', 'DX.bl_2',\n",
    "       'DX.bl_3', 'CV RISK FACTORS_0', 'CV RISK FACTORS_1',\n",
    "       'CV RISK FACTORS_2', 'APOE4_0', 'APOE4_1', 'APOE4_2',]\n",
    "\n",
    "target_fields = [\"WMH_Deep\", \"WMH_PV\", \"Total\", \"totatal_fazekas\"]\n",
    "\n",
    "volume_fields = ['seg_volume', 'vent_volume']\n",
    "\n",
    "inp_map_fields_1 = ['cc_num', 'cc_unsegmented_ccs', 'cc_size_mean',\n",
    "       'cc_size_std', 'cc_size_skew', 'cc_size_kurt']\n",
    "\n",
    "inp_map_fields_2 = ['cc_vd_mean', 'cc_vd_std', 'cc_vd_skew', 'cc_vd_kurt']\n",
    "\n",
    "inp_map_fields_3 = ['sum', 'mean', 'std', 'skew', 'kurtosis', 'prop_umap_segmented',\n",
    "       'prop_seg_uncertain', 'dist_mean', 'dist_std', 'dist_skew', 'dist_kurt']\n",
    "\n",
    "joint_fields = [\n",
    "    'dist_value_joint_0', 'dist_value_joint_1', 'dist_value_joint_2',\n",
    "       'dist_value_joint_3', 'dist_value_joint_4', 'dist_value_joint_5',\n",
    "       'dist_value_joint_6', 'dist_value_joint_7', 'dist_value_joint_8',\n",
    "       'dist_value_joint_9', 'dist_value_joint_10', 'dist_value_joint_11',\n",
    "       'dist_value_joint_12', 'dist_value_joint_13', 'dist_value_joint_14',\n",
    "       'dist_value_joint_15', 'dist_value_joint_16', 'dist_value_joint_17',\n",
    "       'dist_value_joint_18', 'dist_value_joint_19', 'dist_value_joint_20',\n",
    "       'dist_value_joint_21', 'dist_value_joint_22', 'dist_value_joint_23',\n",
    "       'dist_value_joint_24', 'cc_dist_value_joint_0', 'cc_dist_value_joint_1',\n",
    "       'cc_dist_value_joint_2', 'cc_dist_value_joint_3',\n",
    "       'cc_dist_value_joint_4', 'cc_dist_value_joint_5',\n",
    "       'cc_dist_value_joint_6', 'cc_dist_value_joint_7',\n",
    "       'cc_dist_value_joint_8', 'cc_dist_value_joint_9',\n",
    "       'cc_dist_value_joint_10', 'cc_dist_value_joint_11',\n",
    "       'cc_dist_value_joint_12', 'cc_dist_value_joint_13',\n",
    "       'cc_dist_value_joint_14', 'cc_dist_value_joint_15',\n",
    "       'cc_dist_value_joint_16', 'cc_dist_value_joint_17',\n",
    "       'cc_dist_value_joint_18', 'cc_dist_value_joint_19',\n",
    "       'cc_dist_value_joint_20', 'cc_dist_value_joint_21',\n",
    "       'cc_dist_value_joint_22', 'cc_dist_value_joint_23',\n",
    "       'cc_dist_value_joint_24', 'values_hist_0',\n",
    "       'values_hist_1', 'values_hist_2', 'values_hist_3', 'values_hist_4',\n",
    "       'values_hist_5', 'values_hist_6', 'values_hist_7', 'values_hist_8',\n",
    "       'values_hist_9', 'values_hist_10', 'values_hist_11', 'values_hist_12',\n",
    "       'values_hist_13', 'values_hist_14', 'values_hist_15', 'values_hist_16',\n",
    "       'values_hist_17', 'values_hist_18', 'values_hist_19'\n",
    "]\n",
    "\n",
    "extracted_fields = [inp_map_fields_1, inp_map_fields_2, inp_map_fields_3]\n",
    "\n",
    "umap_specific_fields = [ 'sample_div_std', 'sample_div_IQR', 'sample_div_skew',\n",
    "       'sample_div_vd_std', 'sample_div_vd_IQR', 'sample_div_vd_skew']"
   ]
  },
  {
   "cell_type": "code",
   "execution_count": 31,
   "id": "e476d357-1f45-4747-a479-0df4531a6605",
   "metadata": {
    "tags": []
   },
   "outputs": [],
   "source": [
    "def load_model_df(df, model_name, pred1_t=None,pred2_t=None,pred3_t=None,ent1_t=None,ent2_t=None,ent3_t=None, pred_hists=None, ent_hists=None):\n",
    "\n",
    "    model_type = {\n",
    "        \"clinical_only\":[[target_fields, clinical_fields], [None, None], [None, None]],\n",
    "        \"c+volume\":[[target_fields, clinical_fields, volume_fields], [None, None, \"pred\"], [None, None, 0.5]],\n",
    "        \"cv_pred\":[[target_fields, clinical_fields, volume_fields, inp_map_fields_1, inp_map_fields_2, inp_map_fields_3], [None, None, \"pred\", \"pred\", \"pred\", \"pred\"], [None, None, 0.5, pred1_t, pred2_t, pred3_t]],\n",
    "        \"cv_pred0.5\": [[target_fields, clinical_fields, volume_fields, inp_map_fields_1, inp_map_fields_2, inp_map_fields_3], [None, None, \"pred\", \"pred\", \"pred\", \"pred\"], [None, None, 0.5, 0.5, 0.5, 0.5]],\n",
    "        # \"cvs_umap\":[[target_fields, clinical_fields, volume_fields, inp_map_fields_1, inp_map_fields_2, inp_map_fields_3, umap_specific_fields], [None, None, \"pred\", \"ent\", \"ent\", \"ent\", None], [None, None, 0.5, ent1_t, ent2_t, ent3_t, None]],\n",
    "        \"cv_umap\":[[target_fields, clinical_fields, volume_fields, inp_map_fields_1, inp_map_fields_2, inp_map_fields_3], [None, None, \"pred\", \"ent\", \"ent\", \"ent\"], [None, None, 0.5, ent1_t, ent2_t, ent3_t]],\n",
    "        \"cvpu\":[[target_fields, clinical_fields, volume_fields, inp_map_fields_1, inp_map_fields_2, inp_map_fields_3, inp_map_fields_1, inp_map_fields_2, inp_map_fields_3], [None, None, \"pred\", \"pred\", \"pred\", \"pred\", \"ent\", \"ent\", \"ent\"], [None, None, 0.5, pred1_t, pred2_t, pred3_t, ent1_t, ent2_t, ent3_t]],\n",
    "        \"cvp+predhists\":[[target_fields, clinical_fields, volume_fields, inp_map_fields_1, inp_map_fields_2, inp_map_fields_3, joint_fields], [None, None, \"pred\", \"pred\", \"pred\", \"pred\", \"pred\"], [None, None, 0.5, pred1_t, pred2_t, pred3_t, pred_hists]],\n",
    "        # \"cvp+samples\":[[target_fields, clinical_fields, volume_fields, inp_map_fields_1, inp_map_fields_2, inp_map_fields_3, umap_specific_fields], [None, None, \"pred\", \"pred\", \"pred\", \"pred\", None], [None, None, 0.5, pred1_t, pred2_t, pred3_t, None]],\n",
    "        # \"cvps+umap\":[[target_fields, clinical_fields, volume_fields, inp_map_fields_1, inp_map_fields_2, inp_map_fields_3, umap_specific_fields, inp_map_fields_1, inp_map_fields_2, inp_map_fields_3], [None, None, \"pred\", \"pred\", \"pred\", \"pred\", None, \"ent\", \"ent\", \"ent\"], [None, None, 0.5, pred1_t, pred2_t, pred3_t, None, ent1_t, ent2_t, ent3_t]],\n",
    "        # \"cvpsu+hists\":[[target_fields, clinical_fields, volume_fields, inp_map_fields_1, inp_map_fields_2, inp_map_fields_3, umap_specific_fields, inp_map_fields_1, inp_map_fields_2, inp_map_fields_3, joint_fields, joint_fields], [None, None, \"pred\", \"pred\", \"pred\", \"pred\", None, \"ent\", \"ent\", \"ent\", \"pred\", \"ent\"], [None, None, 0.5, pred1_t, pred2_t, pred3_t, None, ent1_t, ent2_t, ent3_t, pred_hists, ent_hists]],\n",
    "        # \"cvps+hists_double_pred\":[[target_fields, clinical_fields, volume_fields, inp_map_fields_1, inp_map_fields_2, inp_map_fields_3, umap_specific_fields, inp_map_fields_1, inp_map_fields_2, inp_map_fields_3, joint_fields, joint_fields], [None, None, \"pred\", \"pred\", \"pred\", \"pred\", None, \"pred\", \"pred\", \"pred\", \"pred\", \"pred\"], [None, None, 0.5, pred1_t, pred2_t, pred3_t, None, ent1_t, ent2_t, ent3_t, pred_hists, ent_hists]],\n",
    "        \"cvpp\":[[target_fields, clinical_fields, volume_fields, inp_map_fields_1, inp_map_fields_2, inp_map_fields_3, inp_map_fields_1, inp_map_fields_2, inp_map_fields_3], [None, None, \"pred\", \"pred\", \"pred\", \"pred\", \"pred\", \"pred\", \"pred\"], [None, None, 0.5, pred1_t, pred2_t, pred3_t, ent1_t, ent2_t, ent3_t]]\n",
    "    }\n",
    "    \n",
    "    return get_select_fields(df, *model_type[model_name])\n",
    "    "
   ]
  },
  {
   "cell_type": "code",
   "execution_count": 33,
   "id": "d18a56ab-3937-4aa5-aaaf-5956f7d9c7a2",
   "metadata": {
    "tags": []
   },
   "outputs": [],
   "source": [
    "features_df = load_model_df(full_combined_df, \"cvpu\", 0.1, 0.2, 0.3, 0.1, 0.2, 0.3, 0.1, 0.45)"
   ]
  },
  {
   "cell_type": "markdown",
   "id": "856f14f4-1161-40da-b36e-cfca6d9b7ea2",
   "metadata": {},
   "source": [
    "### Feature preprocessing (logging of some fields!)\n",
    "\n",
    "- rescale training data (and store rescale parameters?)\n",
    "- log some fields. Nice.\n",
    "- the stratified cross val code with new validation splitting can go here.\n",
    "- variance map is calculating a similar thing to entropy, so I shall ignore it for now.\n",
    "- colinearity test. (should do logging first I think? actually doing this before and after may return different results, lets see)"
   ]
  },
  {
   "cell_type": "code",
   "execution_count": 34,
   "id": "e8ee48c1-3b57-4058-8a03-411a71f49a8d",
   "metadata": {
    "tags": []
   },
   "outputs": [],
   "source": [
    "def shift_and_log_features(df, feature_matches, verbose=False):\n",
    "    df = df.copy()\n",
    "    for key in df.keys():\n",
    "        for f in feature_matches:\n",
    "            if f in key:\n",
    "                if verbose:\n",
    "                    print(f\"taking log of {key}\")\n",
    "                values = df[key].values\n",
    "                df[key] = np.log(values - min(values) + 0.01)\n",
    "                continue\n",
    "    return df"
   ]
  },
  {
   "cell_type": "code",
   "execution_count": 35,
   "id": "752e90e0-636e-4521-bb67-eb578c9f227b",
   "metadata": {
    "tags": []
   },
   "outputs": [],
   "source": [
    "log_feature_matches = ['sample_div', 'seg_volume', 'vent_volume', 'sum', 'mean', 'std', 'skew', 'kurt']"
   ]
  },
  {
   "cell_type": "code",
   "execution_count": 36,
   "id": "53948e09-69bc-46d6-b211-2f89e1b67434",
   "metadata": {
    "tags": []
   },
   "outputs": [],
   "source": [
    "#logged_df = shift_and_log_features(features_df, log_feature_matches, verbose=True)"
   ]
  },
  {
   "cell_type": "code",
   "execution_count": 37,
   "id": "cfdf421b-4a50-4dee-80b9-f4ce59601236",
   "metadata": {
    "tags": []
   },
   "outputs": [],
   "source": [
    "def create_minimal_correlation_keys(df, ignore_keys=None, threshold=0.8, verbose=False):\n",
    "    # we ignore the target keys when computing correlation and deciding which features to remove\n",
    "    \n",
    "    if ignore_keys != None:\n",
    "        df = df.drop(columns=ignore_keys)\n",
    "    \n",
    "    remaining_keys = list(df.keys())\n",
    "    current_keys = [remaining_keys[0]]\n",
    "    \n",
    "    for key in remaining_keys[1:]:\n",
    "        cols = df[current_keys + [key]]\n",
    "        corr = cols.corr()\n",
    "        corr_values = abs(corr[key].values[:-1])\n",
    "        corr_values[np.isnan(corr_values)] = 0 # nan correlation values are ignored (they will register as argmax so we set them to zero).\n",
    "        # print(corr_values)\n",
    "        try:\n",
    "            max_corr = max(corr_values)\n",
    "        except:\n",
    "            print(\"key failed: \", key, corr_values)\n",
    "        # if max_corr == 0:\n",
    "        #     print(key)\n",
    "        if max_corr > threshold:\n",
    "            if verbose:\n",
    "                print(f\"excluding {key}, max corr of {max_corr} with {list(corr.keys())[np.argmax(corr_values)]}\")\n",
    "            #print(corr[key].values)\n",
    "            continue\n",
    "        else:\n",
    "            current_keys.append(key)\n",
    "    \n",
    "    if verbose:\n",
    "        print(f\"retained keys = {len(current_keys)} (total {len(df.keys())})\")\n",
    "        \n",
    "    return current_keys\n",
    "    "
   ]
  },
  {
   "cell_type": "code",
   "execution_count": 38,
   "id": "e6009879-88ed-4205-ac23-2ae15add1862",
   "metadata": {
    "tags": []
   },
   "outputs": [
    {
     "name": "stdout",
     "output_type": "stream",
     "text": [
      "excluding WholeBrain_bl %, max corr of 0.9067969089920215 with Hippocampus_bl %\n",
      "excluding Entorhinal_bl %, max corr of 0.8746385121173708 with Hippocampus_bl %\n",
      "excluding Fusiform_bl %, max corr of 0.8755300596960303 with Hippocampus_bl %\n",
      "excluding MidTemp_bl %, max corr of 0.907784152877803 with Hippocampus_bl %\n",
      "excluding APOE4_1, max corr of 0.8410866681602829 with APOE4_0\n",
      "excluding pred0.1_cc_unsegmented_ccs, max corr of 0.9787192147128126 with pred0.1_cc_num\n",
      "excluding pred0.1_cc_size_mean, max corr of 0.8486973321599096 with pred0.5_seg_volume\n",
      "excluding pred0.1_cc_size_std, max corr of 0.8643720272118153 with pred0.5_seg_volume\n",
      "excluding pred0.1_cc_size_kurt, max corr of 0.9756007558463816 with pred0.1_cc_size_skew\n",
      "excluding pred0.2_cc_vd_std, max corr of 0.9350443060702969 with pred0.2_cc_vd_mean\n",
      "excluding pred0.2_cc_vd_kurt, max corr of 0.9794560135596184 with pred0.2_cc_vd_skew\n",
      "excluding pred0.3_sum, max corr of 0.9998532999296106 with pred0.5_seg_volume\n",
      "excluding pred0.3_skew, max corr of 0.9937034725286147 with pred0.3_mean\n",
      "excluding pred0.3_prop_umap_segmented, max corr of 0.9874894292093503 with pred0.3_mean\n",
      "excluding pred0.3_dist_skew, max corr of 0.8536218346201625 with pred0.3_dist_mean\n",
      "excluding ent0.1_cc_num, max corr of 0.8747942894757784 with pred0.1_cc_num\n",
      "excluding ent0.1_cc_unsegmented_ccs, max corr of 0.8418303400050535 with pred0.1_cc_num\n",
      "excluding ent0.1_cc_size_std, max corr of 0.9210985816217163 with ent0.1_cc_size_mean\n",
      "excluding ent0.1_cc_size_kurt, max corr of 0.9844317127137333 with ent0.1_cc_size_skew\n",
      "excluding ent0.2_cc_vd_mean, max corr of 0.890413567843536 with pred0.2_cc_vd_mean\n",
      "excluding ent0.2_cc_vd_kurt, max corr of 0.971641408879849 with ent0.2_cc_vd_skew\n",
      "excluding ent0.3_sum, max corr of 0.8898753266909017 with pred0.5_seg_volume\n",
      "excluding ent0.3_skew, max corr of 0.9947827793026669 with ent0.3_mean\n",
      "excluding ent0.3_kurtosis, max corr of 0.8354733969290516 with ent0.3_std\n",
      "excluding ent0.3_prop_umap_segmented, max corr of 0.9087879495578209 with pred0.3_mean\n",
      "excluding ent0.3_prop_seg_uncertain, max corr of 0.9786304646409018 with pred0.3_mean\n",
      "excluding ent0.3_dist_mean, max corr of 0.9371905370515089 with pred0.3_dist_mean\n",
      "excluding ent0.3_dist_kurt, max corr of 0.8074840397438731 with ent0.3_dist_skew\n",
      "retained keys = 36 (total 64)\n"
     ]
    },
    {
     "data": {
      "text/plain": [
       "['AGE',\n",
       " 'Ventricles_bl %',\n",
       " 'Hippocampus_bl %',\n",
       " 'BMI',\n",
       " 'PTGENDER',\n",
       " 'E-M RISK FACTORS',\n",
       " 'DX.bl_0',\n",
       " 'DX.bl_1',\n",
       " 'DX.bl_2',\n",
       " 'DX.bl_3',\n",
       " 'CV RISK FACTORS_0',\n",
       " 'CV RISK FACTORS_1',\n",
       " 'CV RISK FACTORS_2',\n",
       " 'APOE4_0',\n",
       " 'APOE4_2',\n",
       " 'pred0.5_seg_volume',\n",
       " 'pred0.5_vent_volume',\n",
       " 'pred0.1_cc_num',\n",
       " 'pred0.1_cc_size_skew',\n",
       " 'pred0.2_cc_vd_mean',\n",
       " 'pred0.2_cc_vd_skew',\n",
       " 'pred0.3_mean',\n",
       " 'pred0.3_std',\n",
       " 'pred0.3_kurtosis',\n",
       " 'pred0.3_prop_seg_uncertain',\n",
       " 'pred0.3_dist_mean',\n",
       " 'pred0.3_dist_std',\n",
       " 'pred0.3_dist_kurt',\n",
       " 'ent0.1_cc_size_mean',\n",
       " 'ent0.1_cc_size_skew',\n",
       " 'ent0.2_cc_vd_std',\n",
       " 'ent0.2_cc_vd_skew',\n",
       " 'ent0.3_mean',\n",
       " 'ent0.3_std',\n",
       " 'ent0.3_dist_std',\n",
       " 'ent0.3_dist_skew']"
      ]
     },
     "execution_count": 38,
     "metadata": {},
     "output_type": "execute_result"
    }
   ],
   "source": [
    "create_minimal_correlation_keys(features_df, ignore_keys=target_fields, threshold=0.80, verbose=True)\n",
    "# create_minimal_correlation_keys(logged_df, ignore_keys=target_fields, threshold=0.80, verbose=True)"
   ]
  },
  {
   "cell_type": "markdown",
   "id": "0637c329-75c3-47ad-989d-e2c290041969",
   "metadata": {},
   "source": [
    "### run function"
   ]
  },
  {
   "cell_type": "code",
   "execution_count": 39,
   "id": "551e3983-b482-4fb4-8b34-154d504ea5ad",
   "metadata": {
    "tags": []
   },
   "outputs": [],
   "source": [
    "def get_fold2(X, y, fold_num, n_splits=5, val_proportion=0.2, stratify_target=None):\n",
    "    \n",
    "    X = X.reset_index(drop=True)\n",
    "    \n",
    "    kf = StratifiedKFold(n_splits=n_splits)\n",
    "    if stratify_target == None:\n",
    "        stratify_values = y\n",
    "    else:\n",
    "        stratify_values = X[stratify_target]\n",
    "\n",
    "    for i, (train_idx, test_idx) in enumerate(kf.split(X, stratify_values)):\n",
    "        if i == fold_num:\n",
    "            train_X = X.iloc[train_idx]\n",
    "            train_y = y[train_idx]\n",
    "            test_X = X.iloc[test_idx]\n",
    "            test_y = y[test_idx]\n",
    "            break\n",
    "        \n",
    "    train_X = train_X.reset_index(drop=True)\n",
    "\n",
    "    if val_proportion > 0:\n",
    "        kf_val = StratifiedKFold(n_splits=int(1//val_proportion))\n",
    "        if stratify_target == None:\n",
    "            stratify_values = train_y\n",
    "        else:\n",
    "            stratify_values = train_X[stratify_target]\n",
    "\n",
    "        for i, (train_idx, val_idx) in enumerate(kf_val.split(train_X, stratify_values)):\n",
    "            if i == 0:\n",
    "                val_X = train_X.iloc[val_idx]\n",
    "                val_y = train_y[val_idx]\n",
    "                train_X = train_X.iloc[train_idx]\n",
    "                train_y = train_y[train_idx]\n",
    "\n",
    "                break\n",
    "\n",
    "        if stratify_target != None:\n",
    "            train_X = train_X.drop(columns=stratify_target)\n",
    "            val_X = val_X.drop(columns=stratify_target)\n",
    "            test_X = test_X.drop(columns=stratify_target)\n",
    "\n",
    "        return (train_X, train_y), (test_X, test_y), (val_X, val_y)\n",
    "    \n",
    "    else:\n",
    "        if stratify_target != None:\n",
    "            train_X = train_X.drop(columns=stratify_target)\n",
    "            test_X = test_X.drop(columns=stratify_target)\n",
    "\n",
    "        return (train_X, train_y), (test_X, test_y), (test_X, test_y) # just return the test set as a dummy val in the val prop = 0 case."
   ]
  },
  {
   "cell_type": "code",
   "execution_count": 40,
   "id": "f417fab2-6ca2-4eb4-bfbf-b6b5a6cf22d0",
   "metadata": {
    "tags": []
   },
   "outputs": [],
   "source": [
    "from collections import defaultdict\n",
    "\n",
    "class VPrint():\n",
    "    def __init__(self, verbose=True):\n",
    "        self.verbose = verbose\n",
    "    def __call__(self, *prompts):\n",
    "        if self.verbose:\n",
    "            print(*prompts)\n",
    "        # else do nothing.\n",
    "\n",
    "def run_prediction_new(df, model_type, thresholds_dict, clf, n_splits=5, val_proportion=0.25, target=\"DWMH\", label_categories=target_fields, stratify_target=None, \n",
    "                   rescale=True, predict_val=True, verbose=False, metric='accuracy', do_log=False, log_feature_matches=None, \n",
    "                   rem_colinear_feats=False, colinear_threshold=0.8, colinear_ignores=target_fields, regression=False):\n",
    "    \n",
    "    df = df.copy() # just to make sure I don't accidently modify the original at any point.\n",
    "    vprint = VPrint(verbose)\n",
    "    vprint(model_type)\n",
    "    \n",
    "    # create the training data df\n",
    "    df = load_model_df(df, model_type, **thresholds_dict)\n",
    "    #print(df.keys()[0:100])\n",
    "    \n",
    "    # run preprocessing on the data\n",
    "    #df = shuffle(df)\n",
    "    #print(df.keys().values)\n",
    "    if do_log:\n",
    "        df = shift_and_log_features(df, log_feature_matches, verbose=verbose)\n",
    "    if rem_colinear_feats:\n",
    "        remaining_keys = create_minimal_correlation_keys(df, ignore_keys=colinear_ignores, threshold=colinear_threshold, verbose=verbose)\n",
    "        df = df[remaining_keys + colinear_ignores]\n",
    "        \n",
    "    X, y = extract_Xy(df, target, verbose, kept_column=stratify_target, label_categories=label_categories)\n",
    "    X = X.reset_index()\n",
    "    vprint(X.keys())\n",
    "    \n",
    "    #print(y)\n",
    "    \n",
    "    \n",
    "    all_results = []\n",
    "    for fold_num in range(n_splits):\n",
    "        (X_train, y_train), (X_test, y_test), (X_val, y_val) = get_fold2(X, y, fold_num=fold_num, n_splits=n_splits, val_proportion=val_proportion, stratify_target=stratify_target)\n",
    "        if rescale:\n",
    "            rescaler = Rescaler()\n",
    "            rescaler.fit(X_train)\n",
    "            X_train = rescaler.predict(X_train)\n",
    "            X_test = rescaler.predict(X_test)\n",
    "            X_val = rescaler.predict(X_val)\n",
    "\n",
    "        # print(len(X_train), len(X_val), len(X_test))\n",
    "\n",
    "        # train model\n",
    "        # vprint(X_train.keys().values)\n",
    "        clf.fit(X_train, y_train)\n",
    "\n",
    "        # evaluate model performance and return predictions\n",
    "        if predict_val:\n",
    "            X_target = X_val\n",
    "            y_target = y_val\n",
    "        else:\n",
    "            X_target = X_test\n",
    "            y_target = y_test\n",
    "\n",
    "        y_hat = clf.predict(X_target)\n",
    "        \n",
    "        if not regression:\n",
    "            y_pred = clf.predict_proba(X_target)\n",
    "\n",
    "        if metric == \"accuracy\":\n",
    "            accuracy = accuracy_score(y_target, y_hat)\n",
    "            # print(accuracy)\n",
    "            accuracy = (y_hat == y_target).mean()\n",
    "            # print(accuracy)\n",
    "        \n",
    "            class_preds = defaultdict(list)\n",
    "            for yi in range(len(y_target)):\n",
    "                yi_gt = y_target[yi]\n",
    "                yi_hat = y_hat[yi]\n",
    "                class_preds[yi_gt].append(yi_hat)\n",
    "            # print(class_preds)\n",
    "            class_preds = {yi: torch.Tensor(preds) for (yi, preds) in class_preds.items()}\n",
    "            # print(class_preds)\n",
    "            class_accs = [(preds == yi).sum().item()/preds.shape[0] for (yi, preds) in class_preds.items()]\n",
    "            balanced_accuracy = torch.Tensor(class_accs).mean().item()\n",
    "        \n",
    "            vprint(accuracy, balanced_accuracy)\n",
    "            results= ((accuracy, balanced_accuracy, y_target, y_hat, y_pred))\n",
    "            vprint(\"\\n----\")\n",
    "            #print(\"here\")\n",
    "            \n",
    "        elif metric == \"mae\":\n",
    "            mse = np.mean(np.abs(y_target - y_hat))\n",
    "            results = (mse, mse, y_target, y_hat)\n",
    "\n",
    "        elif metric == \"f1\":\n",
    "            f1 = f1_score(y_target, y_hat, average='macro')\n",
    "            vprint(f1)\n",
    "            results = ((f1, f1, y_target, y_hat, y_pred))\n",
    "\n",
    "        elif metric == \"roc_auc\":\n",
    "            # print(np.unique(y_target))\n",
    "            auc_roc = roc_auc_score(y_target, y_pred, multi_class='ovr')\n",
    "            results = ((auc_roc, auc_roc, y_target, y_hat, y_pred))\n",
    "\n",
    "        all_results.append(results)\n",
    "        # print(y_target)\n",
    "        # print(\"---\")\n",
    "        # print(y_hat)\n",
    "    # print(len(all_results))\n",
    "    return [\n",
    "        torch.Tensor([all_results[k][0] for k in range(len(all_results))]).mean(),\n",
    "        torch.Tensor([all_results[k][1] for k in range(len(all_results))]).mean(),\n",
    "        torch.cat([torch.Tensor(all_results[k][2]) for k in range(len(all_results))]),\n",
    "        torch.cat([torch.Tensor(all_results[k][3]) for k in range(len(all_results))])\n",
    "    ]"
   ]
  },
  {
   "cell_type": "code",
   "execution_count": 41,
   "id": "85f7428a-8243-4889-9569-32c72ca32f2d",
   "metadata": {
    "tags": []
   },
   "outputs": [],
   "source": [
    "from sklearn.linear_model import LinearRegression"
   ]
  },
  {
   "cell_type": "code",
   "execution_count": 42,
   "id": "0739cdf6-66b2-4eda-b190-877433a2ddbc",
   "metadata": {
    "tags": []
   },
   "outputs": [
    {
     "data": {
      "text/plain": [
       "Index(['AGE', 'Ventricles_bl %', 'Hippocampus_bl %', 'WholeBrain_bl %',\n",
       "       'Entorhinal_bl %', 'Fusiform_bl %', 'MidTemp_bl %', 'BMI', 'WMH_PV',\n",
       "       'WMH_Deep', 'Total', 'PTGENDER', 'E-M RISK FACTORS', 'DX.bl_0',\n",
       "       'DX.bl_1', 'DX.bl_2', 'DX.bl_3', 'CV RISK FACTORS_0',\n",
       "       'CV RISK FACTORS_1', 'CV RISK FACTORS_2', 'APOE4_0', 'APOE4_1',\n",
       "       'APOE4_2', 'totatal_fazekas', 'pred0.5_seg_volume',\n",
       "       'pred0.5_vent_volume', 'pred0.1_cc_num', 'pred0.1_cc_unsegmented_ccs',\n",
       "       'pred0.1_cc_size_mean', 'pred0.1_cc_size_std'],\n",
       "      dtype='object')"
      ]
     },
     "execution_count": 42,
     "metadata": {},
     "output_type": "execute_result"
    }
   ],
   "source": [
    "full_combined_df.keys()[0:30]"
   ]
  },
  {
   "cell_type": "code",
   "execution_count": 43,
   "id": "50849bfd-696f-40af-a764-eccee825f193",
   "metadata": {
    "tags": []
   },
   "outputs": [],
   "source": [
    "from sklearn.neural_network import MLPClassifier\n",
    "from sklearn.linear_model import LinearRegression\n",
    "import pandas as pd\n",
    "\n",
    "from sklearn.model_selection import KFold, StratifiedKFold"
   ]
  },
  {
   "cell_type": "code",
   "execution_count": 44,
   "id": "f7cfcad0-dd12-46cf-8dd0-e6a494e8eaa5",
   "metadata": {
    "tags": []
   },
   "outputs": [],
   "source": [
    "import matplotlib.pyplot as plt\n",
    "import numpy as np\n",
    "from sklearn.metrics import confusion_matrix\n",
    "\n",
    "def plot_confusion_matrix(y_true, y_hat, fig=None, ax=None):\n",
    "    # Calculate N x N confusion matrix\n",
    "    N = int(max(y_true) + 1)\n",
    "    cm = confusion_matrix(y_true, y_hat)\n",
    "\n",
    "    # Normalize confusion matrix\n",
    "    cm = cm.astype('float') / cm.sum(axis=1)[:, np.newaxis]\n",
    "\n",
    "    # Plot confusion matrix\n",
    "    if fig == None:\n",
    "        fig, ax = plt.subplots()\n",
    "    im = ax.imshow(cm, interpolation='nearest', cmap=plt.cm.Blues)\n",
    "    ax.figure.colorbar(im, ax=ax)\n",
    "    ax.set(xticks=np.arange(cm.shape[1]),\n",
    "           yticks=np.arange(cm.shape[0]),\n",
    "           xticklabels=range(N), yticklabels=range(N),\n",
    "           ylabel='True label',\n",
    "           xlabel='Predicted label')\n",
    "\n",
    "    # Loop over data dimensions and create text annotations.\n",
    "    fmt = '.2f' \n",
    "    thresh = cm.max() / 2.\n",
    "    for i in range(cm.shape[0]):\n",
    "        for j in range(cm.shape[1]):\n",
    "            ax.text(j, i, format(cm[i, j], fmt),\n",
    "                    ha=\"center\", va=\"center\",\n",
    "                    color=\"white\" if cm[i, j] > thresh else \"black\")\n",
    "    fig.tight_layout()\n",
    "    # plt.show()"
   ]
  },
  {
   "cell_type": "code",
   "execution_count": 46,
   "id": "27be7ad1-8fc5-4744-b6f2-c0a7263a6d2f",
   "metadata": {
    "tags": []
   },
   "outputs": [
    {
     "name": "stdout",
     "output_type": "stream",
     "text": [
      "clinical_only, 0.31, 0.39\n",
      "c+volume, 0.41, 0.56\n",
      "cv_pred, 0.64, 0.69\n",
      "cv_umap, 0.59, 0.66\n",
      "cvpu, 0.64, 0.7\n"
     ]
    }
   ],
   "source": [
    "entt=0.9\n",
    "predt=0.9\n",
    "thresholdsv1 = {\n",
    "    \"ent1_t\":0.45,\"ent2_t\":0.1,\"ent3_t\":0.1,\"pred1_t\":0.1,\"pred2_t\":0.3,\"pred3_t\":0.3\n",
    "}\n",
    "ct1 = 0.7 # for PVWMH\n",
    "\n",
    "thresholdsv2 = {\n",
    "    \"ent1_t\":0.45,\"ent2_t\":0.3,\"ent3_t\":0.45,\"pred1_t\":0.1,\"pred2_t\":0.3,\"pred3_t\":0.1\n",
    "}\n",
    "ct2 = 0.9 # for DWMH\n",
    "\n",
    "\n",
    "# model_types = [\"clinical_only\",\"c+volume\",\"cv_pred\",\"cvp+predhists\",\"cvp+samples\",\"cvps+umap\",\"cvpsu+hists\", \"cvps+hists_double_pred\", \"cvpp\", \"cv_umap\"]\n",
    "# model_types = [\"clinical_only\",\"c+volume\",\"cv_pred0.5\",\"cv_pred\", \"cvp+samples\", \"cv_umap\", \"cvs_umap\",\"cvps+umap\"]# \"cvpp\"]\n",
    "model_types = [\"clinical_only\",\"c+volume\",\"cv_pred\", \n",
    "            \"cv_umap\", \"cvpu\"]\n",
    "\n",
    "# model_types = [\"cvpsu+hists\"]\n",
    "\n",
    "log_feature_matches = ['sample_div', 'seg_volume', 'vent_volume', 'sum', 'mean', 'std', 'skew', 'kurt']\n",
    "\n",
    "S = 12\n",
    "\n",
    "clf = LogisticRegression(penalty='l2', dual=False, tol=0.1, C=0.1, fit_intercept=True, intercept_scaling=1, class_weight='balanced', \n",
    "                         random_state=None, solver='lbfgs', max_iter=500, multi_class='multinomial', verbose=0, warm_start=False, n_jobs=None, l1_ratio=None)\n",
    "\n",
    "results_pvwmh = {}\n",
    "\n",
    "for model_type in model_types:\n",
    "    results = run_prediction_new(full_combined_df, model_type, clf=clf, thresholds_dict=thresholdsv1, colinear_threshold=ct1, n_splits=S, val_proportion=0.0, target=\"WMH_PV\", stratify_target=None, \n",
    "                   rescale=True, predict_val=False, verbose=False, metric='accuracy', do_log=False, log_feature_matches=log_feature_matches, \n",
    "                   rem_colinear_feats=True, colinear_ignores=target_fields, regression=False)\n",
    "    print(f\"{model_type}, {results[0]:.2}, {results[1]:.2}\")\n",
    "    results_pvwmh[model_type] = results"
   ]
  },
  {
   "cell_type": "code",
   "execution_count": 47,
   "id": "1164af8a-ebfa-46ce-a957-6f7c018ec848",
   "metadata": {
    "tags": []
   },
   "outputs": [
    {
     "data": {
      "text/plain": [
       "['AGE',\n",
       " 'Ventricles_bl %',\n",
       " 'Hippocampus_bl %',\n",
       " 'WholeBrain_bl %',\n",
       " 'Entorhinal_bl %',\n",
       " 'Fusiform_bl %',\n",
       " 'MidTemp_bl %',\n",
       " 'BMI',\n",
       " 'PTGENDER',\n",
       " 'E-M RISK FACTORS',\n",
       " 'DX.bl_0',\n",
       " 'DX.bl_1',\n",
       " 'DX.bl_2',\n",
       " 'DX.bl_3',\n",
       " 'CV RISK FACTORS_0',\n",
       " 'CV RISK FACTORS_1',\n",
       " 'CV RISK FACTORS_2',\n",
       " 'APOE4_0',\n",
       " 'APOE4_1',\n",
       " 'APOE4_2']"
      ]
     },
     "execution_count": 47,
     "metadata": {},
     "output_type": "execute_result"
    }
   ],
   "source": [
    "clinical_fields"
   ]
  },
  {
   "cell_type": "code",
   "execution_count": 50,
   "id": "28923b0f-389b-43c3-ac11-2297805e7e7c",
   "metadata": {
    "tags": []
   },
   "outputs": [
    {
     "data": {
      "image/png": "[encoded data removed]",
      "text/plain": [
       "<Figure size 1200x500 with 4 Axes>"
      ]
     },
     "metadata": {},
     "output_type": "display_data"
    }
   ],
   "source": [
    "fig, (ax1, ax2) = plt.subplots(1, 2, figsize=(12, 5))\n",
    "plot_confusion_matrix(results_pvwmh['cv_pred'][2], results_pvwmh['cv_pred'][3], fig, ax1)\n",
    "plot_confusion_matrix(results_pvwmh['cvpu'][2], results_pvwmh['cvpu'][3], fig, ax2)\n",
    "ax1.set_title(\"CVP: PVWMH Fazekas prediction on ADNI\")\n",
    "ax2.set_title(\"CVPSU: PVWMH Fazekas prediction on ADNI\")\n",
    "plt.savefig(\"ADNI PVWMH Fazekas predictions.pdf\", bbox_inches=\"tight\")"
   ]
  },
  {
   "cell_type": "code",
   "execution_count": 51,
   "id": "c0a7c8a4-7f65-4d23-831c-809b0b69cef9",
   "metadata": {
    "tags": []
   },
   "outputs": [
    {
     "name": "stdout",
     "output_type": "stream",
     "text": [
      "clinical_only, 0.39, 0.39\n",
      "c+volume, 0.54, 0.6\n",
      "cv_pred, 0.6, 0.65\n",
      "cv_umap, 0.55, 0.55\n",
      "cvpu, 0.59, 0.58\n"
     ]
    }
   ],
   "source": [
    "results_dwmh08 = {}\n",
    "S = 7\n",
    "for model_type in model_types:\n",
    "    results = run_prediction_new(full_combined_df, model_type, clf=clf, thresholds_dict=thresholdsv2, colinear_threshold=0.8, n_splits=S, val_proportion=0.0, target=\"WMH_Deep\", stratify_target=None, \n",
    "                   rescale=True, predict_val=False, verbose=False, metric='accuracy', do_log=False, log_feature_matches=log_feature_matches, \n",
    "                   rem_colinear_feats=True, colinear_ignores=target_fields, regression=False)\n",
    "    print(f\"{model_type}, {results[0]:.2}, {results[1]:.2}\")\n",
    "    results_dwmh08[model_type] = results\n"
   ]
  },
  {
   "cell_type": "code",
   "execution_count": 52,
   "id": "f9a03c2e-9234-49fa-947b-55eb4fc66749",
   "metadata": {
    "tags": []
   },
   "outputs": [
    {
     "data": {
      "image/png": "[encoded data removed]",
      "text/plain": [
       "<Figure size 1200x500 with 4 Axes>"
      ]
     },
     "metadata": {},
     "output_type": "display_data"
    }
   ],
   "source": [
    "fig, (ax1, ax2) = plt.subplots(1, 2, figsize=(12, 5))\n",
    "plot_confusion_matrix(results_dwmh08['cv_pred'][2], results_dwmh08['cv_pred'][3], fig, ax1)\n",
    "plot_confusion_matrix(results_dwmh08['cv_umap'][2], results_dwmh08['cv_umap'][3], fig, ax2)\n",
    "ax1.set_title(\"CVP: DWMH Fazekas prediction on ADNI\")\n",
    "ax2.set_title(\"CVU: DWMH Fazekas prediction on ADNI\")\n",
    "plt.savefig(\"ADNI DWMH Fazekas predictions.pdf\", bbox_inches=\"tight\")"
   ]
  },
  {
   "cell_type": "code",
   "execution_count": 53,
   "id": "8bfeaa3c-f77b-4a3e-a5e3-ef66f82b1721",
   "metadata": {
    "tags": []
   },
   "outputs": [
    {
     "name": "stdout",
     "output_type": "stream",
     "text": [
      "clinical_only, 0.49, 0.49\n",
      "c+volume, 0.42, 0.42\n",
      "cv_pred, 0.42, 0.42\n",
      "cv_umap, 0.42, 0.42\n",
      "cvpu, 0.42, 0.42\n"
     ]
    }
   ],
   "source": [
    "clf_reg = LinearRegression()\n",
    "# clf_reg = Ridge(alpha=1)\n",
    "# clf_reg = ARDRegression(n_iter=500, tol=0.001, alpha_1=1e-06, alpha_2=1e-06, \n",
    "#                         lambda_1=1e-06, lambda_2=1e-06, compute_score=False, threshold_lambda=10000.0, fit_intercept=True)\n",
    "for model_type in model_types:\n",
    "    if model_type == \"cvpp\":\n",
    "        if entt == predt or entt==0.45:\n",
    "            print(\"skipping cvpp due to parameters\")\n",
    "            continue\n",
    "    results_acc = []\n",
    "    results_balacc = []\n",
    "    results = run_prediction_new(full_combined_df, model_type, clf=clf_reg, \n",
    "                                 thresholds_dict=thresholdsv2, colinear_threshold=ct2, \n",
    "                                 n_splits=S, val_proportion=0.1, target=\"PTGENDER\", \n",
    "                                 stratify_target=\"WMH_PV\", \n",
    "                   rescale=True, predict_val=False, verbose=False,\n",
    "                                 metric='mae', do_log=False, log_feature_matches=log_feature_matches, \n",
    "                   rem_colinear_feats=True, colinear_ignores=target_fields, regression=True)\n",
    "    print(f\"{model_type}, {results[0]:.2}, {results[1]:.2}\")\n"
   ]
  },
  {
   "cell_type": "code",
   "execution_count": null,
   "id": "96bb1ee5-4a4b-4d46-b37f-019a2d0d65b0",
   "metadata": {},
   "outputs": [],
   "source": [
    "S=12\n",
    "for model_type in model_types:\n",
    "    if model_type == \"cvpp\":\n",
    "        if entt == predt or entt==0.45:\n",
    "            print(\"skipping cvpp due to parameters\")\n",
    "            continue\n",
    "    results_acc = []\n",
    "    results_balacc = []\n",
    "    results = run_prediction_new(full_combined_df, model_type, clf=clf, thresholds_dict=thresholdsv1, colinear_threshold=ct1, n_splits=S, val_proportion=0.1, target=\"Total\", stratify_target=None, \n",
    "                   rescale=True, predict_val=False, verbose=False, metric='accuracy', do_log=False, log_feature_matches=log_feature_matches, \n",
    "                   rem_colinear_feats=True, colinear_ignores=target_fields, regression=False)\n",
    "    print(f\"{model_type}, {results[0]:.2}, {results[1]:.2}\")"
   ]
  },
  {
   "cell_type": "code",
   "execution_count": null,
   "id": "1be7b504-5ab8-4332-ba85-62a5af98fd93",
   "metadata": {},
   "outputs": [],
   "source": []
  },
  {
   "cell_type": "code",
   "execution_count": null,
   "id": "f14b2a5a-a1ef-4201-a1e7-647f037bfae2",
   "metadata": {},
   "outputs": [],
   "source": []
  },
  {
   "cell_type": "code",
   "execution_count": null,
   "id": "7df83b0f-83d6-4333-af4c-d0867e7706f2",
   "metadata": {},
   "outputs": [],
   "source": []
  },
  {
   "cell_type": "code",
   "execution_count": null,
   "id": "46cd1030-9453-403e-85ee-289d1a0aaa09",
   "metadata": {},
   "outputs": [],
   "source": []
  },
  {
   "cell_type": "markdown",
   "id": "d0d68cda-a71e-4eeb-9c8e-23b65b38f32d",
   "metadata": {},
   "source": [
    "### training the domain generalizatoin ADNI models"
   ]
  },
  {
   "cell_type": "code",
   "execution_count": 62,
   "id": "5b5033dd-5d05-442b-a868-f25e9c0b2886",
   "metadata": {},
   "outputs": [],
   "source": [
    "import pickle"
   ]
  },
  {
   "cell_type": "code",
   "execution_count": 63,
   "id": "29a0f75a-08aa-4261-939b-f246663bcf0b",
   "metadata": {},
   "outputs": [],
   "source": [
    "def compute_accuracy_classification(clf, X, y):\n",
    "    y_hat = clf.predict(X)\n",
    "    y_target = y\n",
    "    \n",
    "    accuracy = accuracy_score(y_target, y_hat)\n",
    "    # print(accuracy)\n",
    "    accuracy = (y_hat == y_target).mean()\n",
    "    # print(accuracy)\n",
    "\n",
    "    class_preds = defaultdict(list)\n",
    "    for yi in range(len(y_target)):\n",
    "        yi_gt = y_target[yi]\n",
    "        yi_hat = y_hat[yi]\n",
    "        class_preds[yi_gt].append(yi_hat)\n",
    "    # print(class_preds)\n",
    "    class_preds = {yi: torch.Tensor(preds) for (yi, preds) in class_preds.items()}\n",
    "    # print(class_preds)\n",
    "    class_accs = [(preds == yi).sum().item()/preds.shape[0] for (yi, preds) in class_preds.items()]\n",
    "    balanced_accuracy = torch.Tensor(class_accs).mean().item()\n",
    "    \n",
    "    return accuracy, balanced_accuracy, y_target, y_hat"
   ]
  },
  {
   "cell_type": "code",
   "execution_count": 64,
   "id": "613ef293-3de1-4fa0-aed8-e54007f44b71",
   "metadata": {},
   "outputs": [],
   "source": [
    "def compute_accuracy_regression(clf, X, y):\n",
    "    y_hat = clf.predict(X)\n",
    "    y_target = y\n",
    "    \n",
    "    return np.mean(np.abs(y_target - y_hat)), 0."
   ]
  },
  {
   "cell_type": "code",
   "execution_count": 65,
   "id": "e36f077b-eaf9-4115-9887-c9d89446ef52",
   "metadata": {},
   "outputs": [],
   "source": [
    "target_fields = ['WMH_PV', 'WMH_Deep', 'Total', 'totatal_fazekas']"
   ]
  },
  {
   "cell_type": "code",
   "execution_count": 69,
   "id": "eacd265b-0b75-4e85-a4d7-0d594fa528f0",
   "metadata": {},
   "outputs": [],
   "source": [
    "def train_final_model(df, model_type, thresholds_dict, clf, target=\"DWMH\", label_categories=target_fields, \n",
    "                   rescale=True, do_log=False, log_feature_matches=None, \n",
    "                   rem_colinear_feats=False, colinear_threshold=0.8, colinear_ignores=target_fields, regression=False, stratify_target=None):\n",
    "    verbose=False\n",
    "    df = df.copy() # just to make sure I don't accidently modify the original at any point.\n",
    "    \n",
    "    # create the training data df\n",
    "    df = load_model_df(df, model_type, **thresholds_dict)\n",
    "    \n",
    "    # run preprocessing on the data\n",
    "    #df = shuffle(df)\n",
    "    #print(df.keys().values)\n",
    "    if do_log:\n",
    "        df = shift_and_log_features(df, log_feature_matches, verbose=verbose)\n",
    "    if rem_colinear_feats:\n",
    "        remaining_keys = create_minimal_correlation_keys(df, ignore_keys=colinear_ignores, threshold=colinear_threshold, verbose=verbose)\n",
    "        df = df[remaining_keys + colinear_ignores]\n",
    "    X, y = extract_Xy(df, target, verbose, kept_column=stratify_target, label_categories=label_categories)\n",
    "    X = X.reset_index()\n",
    "    \n",
    "    rescaler = None\n",
    "    if rescale:\n",
    "        rescaler = Rescaler()\n",
    "        rescaler.fit(X)\n",
    "        X = rescaler.predict(X)\n",
    "    \n",
    "    clf.fit(X, y)\n",
    "    \n",
    "    return X, y, clf, rescaler, remaining_keys"
   ]
  },
  {
   "cell_type": "code",
   "execution_count": 70,
   "id": "42a36975-7bad-4f2e-8764-802aa88d416f",
   "metadata": {},
   "outputs": [],
   "source": [
    "def load_and_evaluate_model(clf, rescaler, df, model_type, remaining_keys, target=\"DWMH\", label_categories=target_fields, \n",
    "                   rescale=True, do_log=False, log_feature_matches=None, \n",
    "                   rem_colinear_feats=False, colinear_ignores=target_fields, regression=False, stratify_target=None):\n",
    "    verbose=False\n",
    "    df = df.copy() # just to make sure I don't accidently modify the original at any point.\n",
    "    \n",
    "    # create the training data df\n",
    "    #df = load_model_df(df, model_type, **thresholds_dict)\n",
    "    \n",
    "    key_replace = {\"AGE\": \"age\", \"PTGENDER\": \"sex\"}\n",
    "    columns = df.columns\n",
    "    for key, new_key in key_replace.items():\n",
    "        if key in columns:\n",
    "            df[new_key] = df[key]\n",
    "            df.drop(columns=key)\n",
    "    \n",
    "    # run preprocessing on the data\n",
    "    #df = shuffle(df)\n",
    "    #print(df.keys().values)\n",
    "    if do_log:\n",
    "        df = shift_and_log_features(df, log_feature_matches, verbose=verbose)\n",
    "        \n",
    "    if rem_colinear_feats:\n",
    "        df = df[remaining_keys + colinear_ignores]\n",
    "        \n",
    "    # print(\"BEFORE HAND -----------\")\n",
    "    # print(df.keys())\n",
    "    X, y = extract_Xy(df, target, verbose, kept_column=stratify_target, label_categories=label_categories)\n",
    "    X = X.reset_index()\n",
    "    # print(\"AFTER -----------------\")\n",
    "    # print(X.keys())\n",
    "    \n",
    "    if rescale:\n",
    "        X = rescaler.predict(X)\n",
    "    \n",
    "    if regression:\n",
    "        return compute_accuracy_regression(clf, X, y)\n",
    "    else:\n",
    "        return compute_accuracy_classification(clf, X, y)"
   ]
  },
  {
   "cell_type": "code",
   "execution_count": 71,
   "id": "57feb68e-4f78-4eea-9bab-2271294bd5f1",
   "metadata": {},
   "outputs": [],
   "source": [
    "def train_and_save_model(filename, target, thresholds_dict, colinear_threshold, stratify_target=None, regression=False):\n",
    "    \n",
    "    model_data = {}\n",
    "    model_types = [\"clinical_only\",\"c+volume\",\"cv_pred\", \"cv_pred0.5\", \"cvp+samples\", \"cv_umap\", \"cvs_umap\",\"cvps+umap\"]\n",
    "\n",
    "    # PVWMH\n",
    "    for model_type in model_types:\n",
    "            if regression:\n",
    "                clf = LinearRegression()\n",
    "            else:\n",
    "                clf = LogisticRegression(penalty='l2', dual=False, tol=0.1, C=0.1, fit_intercept=True, intercept_scaling=1, class_weight='balanced', \n",
    "                                     random_state=None, solver='lbfgs', max_iter=500, multi_class='multinomial', verbose=0, warm_start=False, n_jobs=None, l1_ratio=None)\n",
    "\n",
    "            X, y, clf, rescaler, remaining_keys = train_final_model(full_combined_df, model_type, clf=clf, thresholds_dict=thresholds_dict, colinear_threshold=colinear_threshold, \n",
    "                                                                    target=target, rescale=True,  do_log=False, log_feature_matches=log_feature_matches, \n",
    "                           rem_colinear_feats=True, colinear_ignores=target_fields, regression=regression, stratify_target=stratify_target)\n",
    "\n",
    "            \n",
    "            model_data[model_type] = {\"clf\":clf, \"rescaler\": rescaler, \"remaining_keys\": remaining_keys}\n",
    "\n",
    "            if not regression:\n",
    "                acc, balanced_acc = compute_accuracy_classification(clf, X, y)\n",
    "                print(f\"{model_type}: {acc:.2}, {balanced_acc:.2}\")\n",
    "            else:\n",
    "                mae, _ = compute_accuracy_regression(clf, X, y)\n",
    "                print(f\"{model_type}: {mae:.2}\")\n",
    "                \n",
    "    with open(f'saved_models/{filename}.model', 'wb') as handle:\n",
    "        pickle.dump(model_data, handle, protocol=pickle.HIGHEST_PROTOCOL)\n",
    "\n",
    "    with open(f'saved_models/{filename}.model', 'rb') as pickle_file:\n",
    "        content = pickle.load(pickle_file)\n",
    "\n",
    "    print(\"\\nassess that saved model has the same performance\")\n",
    "\n",
    "    for key in content:\n",
    "        data = content[key]\n",
    "        acc, balanced_acc = load_and_evaluate_model(data['clf'], data['rescaler'], full_combined_df, model_type=key, remaining_keys = data['remaining_keys'],\n",
    "                       target=target, label_categories=target_fields, \n",
    "                       rescale=True, do_log=False, log_feature_matches=None, \n",
    "                       rem_colinear_feats=True, colinear_ignores=target_fields, regression=regression, stratify_target=stratify_target)\n",
    "        print(f\"{key}: {acc:.2}, {balanced_acc:.2}\")"
   ]
  },
  {
   "cell_type": "code",
   "execution_count": 72,
   "id": "f0e53cde-2b4d-4c13-8bc8-a089c9f87474",
   "metadata": {},
   "outputs": [],
   "source": [
    "def load_and_save_all_models(filename, target, stratify_target=None, regression=False, seg_eval_ds=\"CVD\"):\n",
    "    with open(f'saved_models/{filename}.model', 'rb') as pickle_file:\n",
    "        content = pickle.load(pickle_file)\n",
    "\n",
    "    model_type_name_map = {\"clinical_only\":\"C\",\"c+volume\":\"CV\",\"cv_pred\":\"CVP\", \"cv_pred0.5\":\"CVP0.5\", \"cvp+samples\":\"CVPS\", \"cv_umap\":\"CVH\", \"cvs_umap\":\"CVSH\",\"cvps+umap\":\"CVPSH\"}\n",
    "        \n",
    "    print(\"\\nassess that saved model has the same performance\")\n",
    "\n",
    "    model_results = {}\n",
    "    \n",
    "    for key in content:\n",
    "        data = content[key]\n",
    "        #print(data['remaining_keys'])\n",
    "        acc, balanced_acc, targets, preds = load_and_evaluate_model(data['clf'], data['rescaler'], full_combined_df, model_type=key, remaining_keys = data['remaining_keys'],\n",
    "                       target=target, label_categories=target_fields, \n",
    "                       rescale=True, do_log=False, log_feature_matches=None, \n",
    "                       rem_colinear_feats=True, colinear_ignores=target_fields, regression=regression, stratify_target=stratify_target)\n",
    "        print(f\"{key}: {acc:.2}, {balanced_acc:.2}\")\n",
    "        model_results[key] = (acc, balanced_acc, targets, preds)\n",
    "        \n",
    "#         with open(\"generalization_tests_results.csv\", \"a\") as f:\n",
    "#             model_name = model_type_name_map[key]\n",
    "            \n",
    "#             if \"CHAL\" in filename:\n",
    "#                 wmh_seg_train_ds = \"WMH Challenge\"\n",
    "#             else:\n",
    "#                 wmh_seg_train_ds = \"CVD\"\n",
    "                \n",
    "            \n",
    "#             if \"ADNI\" in filename:\n",
    "#                 fazekas_pred_ds = \"ADNI\"\n",
    "#                 fazekas_eval_ds = \"CVD\"\n",
    "#             else:\n",
    "#                 fazekas_pred_ds = \"CVD\"\n",
    "#                 fazekas_eval_ds = \"ADNI\"\n",
    "                \n",
    "            #f.write(f\"{model_name}, {wmh_seg_train_ds}, {fazekas_pred_ds}, {fazekas_eval_ds}, {seg_eval_ds}, {target}, {filename}, {acc:.2}, {balanced_acc:.2}\\n\")\n",
    "    return model_results"
   ]
  },
  {
   "cell_type": "code",
   "execution_count": 218,
   "id": "66ce880f-a3a2-4aad-ad57-f591c680b4df",
   "metadata": {},
   "outputs": [],
   "source": [
    "# clinical_fields = ['sbjGroup', 'age', 'sex',\n",
    "#  'diabetes', 'hypertension', 'hyperlipidaemia',\n",
    "#        'smoking_0', 'smoking_1', 'smoking_2']\n",
    "# ICV is a bad feature that breaks things!!!\n",
    "clinical_fields = ['PTGENDER']"
   ]
  },
  {
   "cell_type": "code",
   "execution_count": 219,
   "id": "75127aa5-8599-4e81-b0c2-56c93c1b0914",
   "metadata": {},
   "outputs": [
    {
     "name": "stdout",
     "output_type": "stream",
     "text": [
      "clinical_only: 0.18, 0.33\n",
      "c+volume: 0.58, 0.71\n",
      "cv_pred: 0.71, 0.76\n",
      "cv_pred0.5: 0.74, 0.79\n",
      "cvp+samples: 0.73, 0.77\n",
      "cv_umap: 0.67, 0.76\n",
      "cvs_umap: 0.7, 0.78\n",
      "cvps+umap: 0.78, 0.82\n",
      "\n",
      "assess that saved model has the same performance\n",
      "clinical_only: 0.18, 0.33\n",
      "c+volume: 0.58, 0.71\n",
      "cv_pred: 0.71, 0.76\n",
      "cv_pred0.5: 0.74, 0.79\n",
      "cvp+samples: 0.73, 0.77\n",
      "cv_umap: 0.67, 0.76\n",
      "cvs_umap: 0.7, 0.78\n",
      "cvps+umap: 0.78, 0.82\n"
     ]
    }
   ],
   "source": [
    "train_and_save_model('ADNI_PVWMH', target=\"WMH_PV\", thresholds_dict = thresholdsv1, colinear_threshold = ct1)"
   ]
  },
  {
   "cell_type": "code",
   "execution_count": 220,
   "id": "ced4b7f2-e463-448a-b807-723f9e20815e",
   "metadata": {},
   "outputs": [
    {
     "name": "stdout",
     "output_type": "stream",
     "text": [
      "clinical_only: 0.3, 0.33\n",
      "c+volume: 0.57, 0.68\n",
      "cv_pred: 0.72, 0.81\n",
      "cv_pred0.5: 0.71, 0.81\n",
      "cvp+samples: 0.73, 0.82\n",
      "cv_umap: 0.71, 0.8\n",
      "cvs_umap: 0.7, 0.79\n",
      "cvps+umap: 0.77, 0.85\n",
      "\n",
      "assess that saved model has the same performance\n",
      "clinical_only: 0.3, 0.33\n",
      "c+volume: 0.57, 0.68\n",
      "cv_pred: 0.72, 0.81\n",
      "cv_pred0.5: 0.71, 0.81\n",
      "cvp+samples: 0.73, 0.82\n",
      "cv_umap: 0.71, 0.8\n",
      "cvs_umap: 0.7, 0.79\n",
      "cvps+umap: 0.77, 0.85\n"
     ]
    }
   ],
   "source": [
    "train_and_save_model('ADNI_DWMH_0.8', target=\"WMH_Deep\", thresholds_dict = thresholdsv2, colinear_threshold = 0.8)"
   ]
  },
  {
   "cell_type": "code",
   "execution_count": 221,
   "id": "3a77d51c-5b2d-4cbf-a14e-e0035853cf7f",
   "metadata": {},
   "outputs": [
    {
     "name": "stdout",
     "output_type": "stream",
     "text": [
      "clinical_only: 0.3, 0.33\n",
      "c+volume: 0.57, 0.68\n",
      "cv_pred: 0.72, 0.81\n",
      "cv_pred0.5: 0.72, 0.83\n",
      "cvp+samples: 0.72, 0.8\n",
      "cv_umap: 0.72, 0.81\n",
      "cvs_umap: 0.72, 0.8\n",
      "cvps+umap: 0.78, 0.85\n",
      "\n",
      "assess that saved model has the same performance\n",
      "clinical_only: 0.3, 0.33\n",
      "c+volume: 0.57, 0.68\n",
      "cv_pred: 0.72, 0.81\n",
      "cv_pred0.5: 0.72, 0.83\n",
      "cvp+samples: 0.72, 0.8\n",
      "cv_umap: 0.72, 0.81\n",
      "cvs_umap: 0.72, 0.8\n",
      "cvps+umap: 0.78, 0.85\n"
     ]
    }
   ],
   "source": [
    "train_and_save_model('ADNI_DWMH_0.9', target=\"WMH_Deep\", thresholds_dict = thresholdsv2, colinear_threshold = 0.9)"
   ]
  },
  {
   "cell_type": "code",
   "execution_count": 222,
   "id": "3a969302-cdbb-4b22-ba49-bef4290d0a20",
   "metadata": {},
   "outputs": [
    {
     "name": "stdout",
     "output_type": "stream",
     "text": [
      "clinical_only: 0.13, 0.28\n",
      "c+volume: 0.38, 0.5\n",
      "cv_pred: 0.5, 0.65\n",
      "cv_pred0.5: 0.5, 0.65\n",
      "cvp+samples: 0.56, 0.71\n",
      "cv_umap: 0.49, 0.63\n",
      "cvs_umap: 0.54, 0.66\n",
      "cvps+umap: 0.59, 0.72\n",
      "\n",
      "assess that saved model has the same performance\n",
      "clinical_only: 0.13, 0.28\n",
      "c+volume: 0.38, 0.5\n",
      "cv_pred: 0.5, 0.65\n",
      "cv_pred0.5: 0.5, 0.65\n",
      "cvp+samples: 0.56, 0.71\n",
      "cv_umap: 0.49, 0.63\n",
      "cvs_umap: 0.54, 0.66\n",
      "cvps+umap: 0.59, 0.72\n"
     ]
    }
   ],
   "source": [
    "train_and_save_model('ADNI_total_fazekas', target=\"Total\", thresholds_dict = thresholdsv1, colinear_threshold = ct1)"
   ]
  },
  {
   "cell_type": "code",
   "execution_count": 224,
   "id": "fe527df9-cc00-445d-ae6f-79e35521512a",
   "metadata": {},
   "outputs": [],
   "source": [
    "#train_and_save_model('ADNI_age', target=\"AGE\", thresholds_dict = thresholdsv1, colinear_threshold = ct1, regression=True)"
   ]
  },
  {
   "cell_type": "code",
   "execution_count": 225,
   "id": "374cd329-67be-493a-abd7-344ff606b73a",
   "metadata": {},
   "outputs": [
    {
     "name": "stdout",
     "output_type": "stream",
     "text": [
      "clinical_only: 0.5\n",
      "c+volume: 0.44\n",
      "cv_pred: 0.41\n",
      "cv_pred0.5: 0.42\n",
      "cvp+samples: 0.41\n",
      "cv_umap: 0.42\n",
      "cvs_umap: 0.41\n",
      "cvps+umap: 0.39\n",
      "\n",
      "assess that saved model has the same performance\n",
      "clinical_only: 0.5, 0.0\n",
      "c+volume: 0.44, 0.0\n",
      "cv_pred: 0.41, 0.0\n",
      "cv_pred0.5: 0.42, 0.0\n",
      "cvp+samples: 0.41, 0.0\n",
      "cv_umap: 0.42, 0.0\n",
      "cvs_umap: 0.41, 0.0\n",
      "cvps+umap: 0.39, 0.0\n"
     ]
    }
   ],
   "source": [
    "train_and_save_model('ADNI_sex', target=\"PTGENDER\", thresholds_dict = thresholdsv1, colinear_threshold = ct1, regression=True)"
   ]
  },
  {
   "cell_type": "code",
   "execution_count": null,
   "id": "e13d70aa-30ce-44e4-8d47-510dd0e54f23",
   "metadata": {},
   "outputs": [],
   "source": []
  },
  {
   "cell_type": "markdown",
   "id": "920fa63f-811b-4e37-8a8c-f147bf73bfef",
   "metadata": {},
   "source": [
    "### evaluating the models trained on the on the CVD dataset"
   ]
  },
  {
   "cell_type": "code",
   "execution_count": 73,
   "id": "0381ceaa-5c7f-46f5-a9ad-81ce2316f5a2",
   "metadata": {},
   "outputs": [
    {
     "name": "stdout",
     "output_type": "stream",
     "text": [
      "\n",
      "assess that saved model has the same performance\n",
      "clinical_only: 0.12, 0.27\n",
      "c+volume: 0.26, 0.46\n",
      "cv_pred: 0.64, 0.57\n",
      "cv_pred0.5: 0.6, 0.57\n",
      "cvp+samples: 0.64, 0.58\n",
      "cv_umap: 0.6, 0.49\n",
      "cvs_umap: 0.62, 0.56\n",
      "cvps+umap: 0.72, 0.61\n"
     ]
    }
   ],
   "source": [
    "pvwmh_results = load_and_save_all_models(\"CVD_PVWMH\", \"WMH_PV\")"
   ]
  },
  {
   "cell_type": "code",
   "execution_count": 74,
   "id": "aad59a10-81f0-4610-8bf3-283b00217106",
   "metadata": {},
   "outputs": [
    {
     "data": {
      "image/png": "[encoded data removed]",
      "text/plain": [
       "<Figure size 700x300 with 4 Axes>"
      ]
     },
     "metadata": {},
     "output_type": "display_data"
    }
   ],
   "source": [
    "fig, (ax1, ax2) = plt.subplots(1, 2, figsize=(7, 3))\n",
    "plot_confusion_matrix(pvwmh_results['cv_pred'][2], pvwmh_results['cv_pred'][3], fig, ax1)\n",
    "plot_confusion_matrix(pvwmh_results['cvps+umap'][2], pvwmh_results['cvps+umap'][3], fig, ax2)"
   ]
  },
  {
   "cell_type": "code",
   "execution_count": 76,
   "id": "3014d04b-8d9c-4b3d-bc9c-8dc6019bb579",
   "metadata": {},
   "outputs": [
    {
     "name": "stdout",
     "output_type": "stream",
     "text": [
      "\n",
      "assess that saved model has the same performance\n",
      "clinical_only: 0.26, 0.23\n",
      "c+volume: 0.38, 0.36\n",
      "cv_pred: 0.57, 0.55\n",
      "cv_pred0.5: 0.51, 0.52\n",
      "cvp+samples: 0.57, 0.57\n",
      "cv_umap: 0.51, 0.54\n",
      "cvs_umap: 0.51, 0.55\n",
      "cvps+umap: 0.55, 0.57\n"
     ]
    }
   ],
   "source": [
    "dwmh_results08 =  load_and_save_all_models(\"CVD_DWMH_0.8\", \"WMH_Deep\")"
   ]
  },
  {
   "cell_type": "code",
   "execution_count": 77,
   "id": "7a45e2ee-2afe-4c52-a460-394c65b08126",
   "metadata": {},
   "outputs": [
    {
     "name": "stdout",
     "output_type": "stream",
     "text": [
      "\n",
      "assess that saved model has the same performance\n",
      "clinical_only: 0.26, 0.23\n",
      "c+volume: 0.38, 0.36\n",
      "cv_pred: 0.59, 0.57\n",
      "cv_pred0.5: 0.5, 0.49\n",
      "cvp+samples: 0.54, 0.56\n",
      "cv_umap: 0.53, 0.53\n",
      "cvs_umap: 0.51, 0.51\n",
      "cvps+umap: 0.55, 0.55\n"
     ]
    }
   ],
   "source": [
    "dwmh_results09 = load_and_save_all_models(\"CVD_DWMH_0.9\", \"WMH_Deep\")"
   ]
  },
  {
   "cell_type": "code",
   "execution_count": 80,
   "id": "46726d79-d9ea-4358-bd85-343b748ae1c6",
   "metadata": {},
   "outputs": [
    {
     "data": {
      "image/png": "[encoded data removed]",
      "text/plain": [
       "<Figure size 700x300 with 4 Axes>"
      ]
     },
     "metadata": {},
     "output_type": "display_data"
    }
   ],
   "source": [
    "fig, (ax1, ax2) = plt.subplots(1, 2, figsize=(7, 3))\n",
    "plot_confusion_matrix(dwmh_results09['cv_pred'][2], dwmh_results09['cv_pred'][3], fig, ax1)\n",
    "plot_confusion_matrix(dwmh_results08['cvps+umap'][2], dwmh_results08['cvps+umap'][3], fig, ax2)"
   ]
  },
  {
   "cell_type": "code",
   "execution_count": 211,
   "id": "3fc6b0ae-e191-4d1d-9622-766893732948",
   "metadata": {},
   "outputs": [
    {
     "name": "stdout",
     "output_type": "stream",
     "text": [
      "\n",
      "assess that saved model has the same performance\n",
      "clinical_only: 0.2, 0.14\n",
      "c+volume: 0.2, 0.14\n",
      "cv_pred: 0.2, 0.17\n",
      "cv_pred0.5: 0.2, 0.14\n",
      "cvp+samples: 0.2, 0.2\n",
      "cv_umap: 0.21, 0.18\n",
      "cvs_umap: 0.22, 0.24\n",
      "cvps+umap: 0.23, 0.28\n"
     ]
    }
   ],
   "source": [
    "load_and_save_all_models(\"CVD_total_fazekas\", \"Total\")"
   ]
  },
  {
   "cell_type": "code",
   "execution_count": 212,
   "id": "39e88618-fdf2-4bf4-a8ca-ffcb8881fcc2",
   "metadata": {},
   "outputs": [
    {
     "name": "stdout",
     "output_type": "stream",
     "text": [
      "\n",
      "assess that saved model has the same performance\n",
      "clinical_only: 0.54, 0.0\n",
      "c+volume: 0.46, 0.0\n",
      "cv_pred: 0.48, 0.0\n",
      "cv_pred0.5: 0.46, 0.0\n",
      "cvp+samples: 0.48, 0.0\n",
      "cv_umap: 0.45, 0.0\n",
      "cvs_umap: 0.49, 0.0\n",
      "cvps+umap: 0.49, 0.0\n"
     ]
    }
   ],
   "source": [
    "load_and_save_all_models(\"CVD_sex\", \"sex\", regression=True)"
   ]
  },
  {
   "cell_type": "markdown",
   "id": "8d1ab471-4a65-4a33-b9e8-0d03c95174c7",
   "metadata": {},
   "source": [
    "### Try the models trained on the uncertainty maps trained on the WMH Challenge dataset"
   ]
  },
  {
   "cell_type": "code",
   "execution_count": 81,
   "id": "982c531d-7ef4-4bfc-ab49-7e0c751c6ae9",
   "metadata": {},
   "outputs": [
    {
     "name": "stdout",
     "output_type": "stream",
     "text": [
      "\n",
      "assess that saved model has the same performance\n",
      "clinical_only: 0.13, 0.29\n",
      "c+volume: 0.31, 0.49\n",
      "cv_pred: 0.6, 0.53\n",
      "cv_pred0.5: 0.56, 0.54\n",
      "cvp+samples: 0.67, 0.59\n",
      "cv_umap: 0.56, 0.53\n",
      "cvs_umap: 0.53, 0.55\n",
      "cvps+umap: 0.67, 0.53\n"
     ]
    }
   ],
   "source": [
    "pvwmh_results_chal_based =load_and_save_all_models(\"CHAL_BASED_CVD_PVWMH\", \"WMH_PV\")"
   ]
  },
  {
   "cell_type": "code",
   "execution_count": 84,
   "id": "025b6d0c-fbf9-4695-a8a5-4f60ddedbc51",
   "metadata": {},
   "outputs": [
    {
     "data": {
      "image/png": "[encoded data removed]",
      "text/plain": [
       "<Figure size 700x300 with 4 Axes>"
      ]
     },
     "metadata": {},
     "output_type": "display_data"
    }
   ],
   "source": [
    "fig, (ax1, ax2) = plt.subplots(1, 2, figsize=(7, 3))\n",
    "plot_confusion_matrix(pvwmh_results_chal_based['cv_pred'][2], pvwmh_results_chal_based['cv_pred'][3], fig, ax1)\n",
    "plot_confusion_matrix(pvwmh_results_chal_based['cvp+samples'][2], pvwmh_results_chal_based['cvp+samples'][3], fig, ax2)"
   ]
  },
  {
   "cell_type": "code",
   "execution_count": 86,
   "id": "e6b2f2c0-5088-4f5a-a3f6-b23b7b6abc51",
   "metadata": {},
   "outputs": [
    {
     "name": "stdout",
     "output_type": "stream",
     "text": [
      "\n",
      "assess that saved model has the same performance\n",
      "clinical_only: 0.28, 0.23\n",
      "c+volume: 0.38, 0.39\n",
      "cv_pred: 0.53, 0.43\n",
      "cv_pred0.5: 0.53, 0.47\n",
      "cvp+samples: 0.54, 0.47\n",
      "cv_umap: 0.59, 0.52\n",
      "cvs_umap: 0.58, 0.51\n",
      "cvps+umap: 0.62, 0.52\n"
     ]
    }
   ],
   "source": [
    "pvwmh_results_chal_based08 = load_and_save_all_models(\"CHAL_BASED_CVD_DWMH_0.8\", \"WMH_Deep\")"
   ]
  },
  {
   "cell_type": "code",
   "execution_count": 87,
   "id": "f98a0828-f0ba-4f8d-82a2-3554d3005d22",
   "metadata": {},
   "outputs": [
    {
     "name": "stdout",
     "output_type": "stream",
     "text": [
      "\n",
      "assess that saved model has the same performance\n",
      "clinical_only: 0.28, 0.23\n",
      "c+volume: 0.38, 0.39\n",
      "cv_pred: 0.53, 0.44\n",
      "cv_pred0.5: 0.54, 0.49\n",
      "cvp+samples: 0.59, 0.49\n",
      "cv_umap: 0.55, 0.51\n",
      "cvs_umap: 0.58, 0.51\n",
      "cvps+umap: 0.64, 0.55\n"
     ]
    }
   ],
   "source": [
    "pvwmh_results_chal_based09 = load_and_save_all_models(\"CHAL_BASED_CVD_DWMH_0.9\", \"WMH_Deep\")"
   ]
  },
  {
   "cell_type": "code",
   "execution_count": 88,
   "id": "566506a0-c1ac-4431-be1c-f0bef5bf9cad",
   "metadata": {},
   "outputs": [
    {
     "data": {
      "image/png": "[encoded data removed]",
      "text/plain": [
       "<Figure size 700x300 with 4 Axes>"
      ]
     },
     "metadata": {},
     "output_type": "display_data"
    }
   ],
   "source": [
    "fig, (ax1, ax2) = plt.subplots(1, 2, figsize=(7, 3))\n",
    "plot_confusion_matrix(pvwmh_results_chal_based09['cv_pred'][2], pvwmh_results_chal_based09['cv_pred'][3], fig, ax1)\n",
    "plot_confusion_matrix(pvwmh_results_chal_based09['cvps+umap'][2], pvwmh_results_chal_based09['cvps+umap'][3], fig, ax2)"
   ]
  },
  {
   "cell_type": "code",
   "execution_count": 216,
   "id": "ddc8775a-451d-410e-9db9-f26d1827e3b5",
   "metadata": {},
   "outputs": [
    {
     "name": "stdout",
     "output_type": "stream",
     "text": [
      "\n",
      "assess that saved model has the same performance\n",
      "clinical_only: 0.2, 0.14\n",
      "c+volume: 0.2, 0.17\n",
      "cv_pred: 0.18, 0.18\n",
      "cv_pred0.5: 0.19, 0.16\n",
      "cvp+samples: 0.21, 0.21\n",
      "cv_umap: 0.21, 0.25\n",
      "cvs_umap: 0.2, 0.27\n",
      "cvps+umap: 0.3, 0.26\n"
     ]
    }
   ],
   "source": [
    "load_and_save_all_models(\"CHAL_BASED_CVD_total_fazekas\", \"Total\")"
   ]
  },
  {
   "cell_type": "code",
   "execution_count": 217,
   "id": "cf327290-334b-4f1f-af88-ea43f60bfe11",
   "metadata": {},
   "outputs": [
    {
     "name": "stdout",
     "output_type": "stream",
     "text": [
      "\n",
      "assess that saved model has the same performance\n",
      "clinical_only: 0.55, 0.0\n",
      "c+volume: 0.46, 0.0\n",
      "cv_pred: 0.48, 0.0\n",
      "cv_pred0.5: 0.47, 0.0\n",
      "cvp+samples: 0.48, 0.0\n",
      "cv_umap: 0.52, 0.0\n",
      "cvs_umap: 0.51, 0.0\n",
      "cvps+umap: 0.55, 0.0\n"
     ]
    }
   ],
   "source": [
    "load_and_save_all_models(\"CHAL_BASED_CVD_sex\", \"sex\", regression=True)"
   ]
  },
  {
   "cell_type": "code",
   "execution_count": null,
   "id": "4c9faaf3-1fc3-4542-a108-560b1ec6173d",
   "metadata": {},
   "outputs": [],
   "source": []
  },
  {
   "cell_type": "code",
   "execution_count": null,
   "id": "7fa1d81f-eef1-44db-bba6-a64128a355b6",
   "metadata": {},
   "outputs": [],
   "source": []
  },
  {
   "cell_type": "code",
   "execution_count": null,
   "id": "24dae451-dd58-4dd7-96f6-f44aaa4ea9f0",
   "metadata": {},
   "outputs": [],
   "source": []
  },
  {
   "cell_type": "code",
   "execution_count": null,
   "id": "80045ba9-2c19-46aa-a0b3-3ba1db9c3c5e",
   "metadata": {},
   "outputs": [],
   "source": []
  },
  {
   "cell_type": "code",
   "execution_count": null,
   "id": "23d9d7e6-ae02-4020-840e-3f50dce9bb0e",
   "metadata": {},
   "outputs": [],
   "source": []
  },
  {
   "cell_type": "code",
   "execution_count": null,
   "id": "828155b2-f042-4ff7-a2ba-ef98ec3a71d2",
   "metadata": {},
   "outputs": [],
   "source": []
  },
  {
   "cell_type": "code",
   "execution_count": null,
   "id": "7ac17f39-849a-4555-a090-23f33a03ca1d",
   "metadata": {},
   "outputs": [],
   "source": []
  },
  {
   "cell_type": "code",
   "execution_count": null,
   "id": "d232da1d-54e2-40e0-8a21-45e7f13a8ba7",
   "metadata": {},
   "outputs": [],
   "source": []
  },
  {
   "cell_type": "code",
   "execution_count": null,
   "id": "43ff1a90-2865-4047-b068-8085317c71a7",
   "metadata": {},
   "outputs": [],
   "source": []
  }
 ],
 "metadata": {
  "kernelspec": {
   "display_name": "Python 3 (ipykernel)",
   "language": "python",
   "name": "python3"
  },
  "language_info": {
   "codemirror_mode": {
    "name": "ipython",
    "version": 3
   },
   "file_extension": ".py",
   "mimetype": "text/x-python",
   "name": "python",
   "nbconvert_exporter": "python",
   "pygments_lexer": "ipython3",
   "version": "3.8.10"
  }
 },
 "nbformat": 4,
 "nbformat_minor": 5
}
