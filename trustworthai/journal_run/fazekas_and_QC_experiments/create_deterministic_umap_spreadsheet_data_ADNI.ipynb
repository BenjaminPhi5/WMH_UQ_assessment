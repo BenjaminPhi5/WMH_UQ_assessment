{
 "cells": [
  {
   "cell_type": "markdown",
   "id": "229f024d-8140-4c3e-8dd8-3240a867fde3",
   "metadata": {},
   "source": [
    "# feature extraction for logistic ADNI models\n",
    "load the predictions for the validation model for each.\n",
    "\n",
    "and compute the confusion matrix, the precision and f1 score (multiclass)\n",
    "and roc curve maybe? what curves do we use for multiclass.\n"
   ]
  },
  {
   "cell_type": "code",
   "execution_count": 1,
   "id": "732f1512-609f-4f02-93e2-fc7da2a34a7b",
   "metadata": {
    "tags": []
   },
   "outputs": [
    {
     "name": "stdout",
     "output_type": "stream",
     "text": [
      "strawberry\n",
      "banana\n"
     ]
    }
   ],
   "source": [
    "# trainer\n",
    "print(\"strawberry\")\n",
    "from trustworthai.utils.fitting_and_inference.fitters.basic_lightning_fitter import StandardLitModelWrapper\n",
    "from trustworthai.utils.fitting_and_inference.get_trainer import get_trainer\n",
    "\n",
    "# data\n",
    "from twaidata.torchdatasets.MRI_3D_nolabels_inram_ds import MRI_3D_nolabels_inram_ds\n",
    "\n",
    "# packages\n",
    "import os\n",
    "import numpy as np\n",
    "import pandas as pd\n",
    "import matplotlib.pyplot as plt\n",
    "import torch\n",
    "from torchinfo import summary\n",
    "from tqdm import tqdm\n",
    "from collections import defaultdict\n",
    "from natsort import natsorted\n",
    "import torchmetrics\n",
    "print(\"banana\")"
   ]
  },
  {
   "cell_type": "code",
   "execution_count": 2,
   "id": "52c197f2-3465-4660-9142-26346dfafa09",
   "metadata": {
    "tags": []
   },
   "outputs": [],
   "source": [
    "import seaborn as sns\n",
    "import scipy"
   ]
  },
  {
   "cell_type": "markdown",
   "id": "f6f0b1ac-2587-41fe-94ac-e8f0d2a6657e",
   "metadata": {},
   "source": [
    "### Loading ADNI flair mask t1 dataset"
   ]
  },
  {
   "cell_type": "code",
   "execution_count": 3,
   "id": "c39c203e-a4f5-4921-9658-67adae8bc75b",
   "metadata": {
    "tags": []
   },
   "outputs": [],
   "source": [
    "# ADNI_ds = MRI_3D_nolabels_inram_ds(\"/home/s2208943/ipdis/data/preprocessed_data/ADNI_300\")"
   ]
  },
  {
   "cell_type": "code",
   "execution_count": 4,
   "id": "1fc11900-d76a-4307-8387-88e2553073a6",
   "metadata": {
    "tags": []
   },
   "outputs": [],
   "source": [
    "# IDs = ADNI_ds.getIDs()"
   ]
  },
  {
   "cell_type": "code",
   "execution_count": 5,
   "id": "7f86e3bb-9073-4965-8a81-3472553c364e",
   "metadata": {
    "tags": []
   },
   "outputs": [],
   "source": [
    "# len(IDs)"
   ]
  },
  {
   "cell_type": "markdown",
   "id": "2ec7b53a-4ede-4b32-ba6a-80f23a7e392b",
   "metadata": {},
   "source": [
    "### Loading ADNI predictions"
   ]
  },
  {
   "cell_type": "code",
   "execution_count": 6,
   "id": "8cb4854c-4883-45ee-b6c2-2eac488bfa37",
   "metadata": {
    "tags": []
   },
   "outputs": [],
   "source": [
    "# def get_output_maps_for_ds(output_maps_dir, ids):\n",
    "#     output_maps_lists = defaultdict(lambda : [])\n",
    "#     key_order = None\n",
    "#     for ID in tqdm(ids, position=0, leave=True):\n",
    "#         output_maps_data = np.load(f\"{output_maps_dir}{ID}_out_maps.npz\")\n",
    "#         key_order = natsorted(list(output_maps_data.keys()))\n",
    "#         for output_type in key_order:\n",
    "#             output_maps_lists[ID].append(torch.from_numpy(output_maps_data[output_type]))\n",
    "            \n",
    "#     return output_maps_lists, key_order\n",
    "def load_output_maps(output_maps_dir):\n",
    "    output_maps_lists = defaultdict(lambda: [])\n",
    "    for fID in tqdm(os.listdir(output_maps_dir), position=0, leave=True):\n",
    "        # print(fID)\n",
    "        # break\n",
    "        if \".npz\" in fID:\n",
    "            ID = fID.split(\".\")[0]\n",
    "            output_maps_data = np.load(output_maps_dir+fID)\n",
    "            key_order = natsorted(list(output_maps_data.keys()))\n",
    "            for key in key_order:\n",
    "                output_maps_lists[ID].append(torch.from_numpy(output_maps_data[key]))\n",
    "    return output_maps_lists, key_order"
   ]
  },
  {
   "cell_type": "code",
   "execution_count": 7,
   "id": "65539e27-5ae1-40cc-9a30-6a00f3c5fc87",
   "metadata": {
    "tags": []
   },
   "outputs": [
    {
     "name": "stderr",
     "output_type": "stream",
     "text": [
      "100%|███████████████████████████████████████████████████████████████████████████████████████████████████████████████████████████████████████████████████████| 290/290 [01:02<00:00,  4.65it/s]\n"
     ]
    }
   ],
   "source": [
    "# model_name = \"SSN_Ens_Mean\"\n",
    "model_name = \"deterministic\"\n",
    "output_maps_dir = f\"/home/s2208943/ipdis/data/preprocessed_data/ADNI_300_output_maps/{model_name}/\"\n",
    "output_maps_for_umaps, key_order = load_output_maps(output_maps_dir)"
   ]
  },
  {
   "cell_type": "code",
   "execution_count": 11,
   "id": "95247376-f196-40d9-aad0-50a629fbbb78",
   "metadata": {
    "tags": []
   },
   "outputs": [],
   "source": [
    "# model_name_for_pred = \"SSN_Ens_Mean\"\n",
    "model_name = \"deterministic\"\n",
    "\n",
    "output_maps_for_pred = output_maps_for_umaps\n",
    "key_order_for_pred = key_order"
   ]
  },
  {
   "cell_type": "code",
   "execution_count": 12,
   "id": "3047b0a1-6dcd-4ba1-b997-6dd7831ae516",
   "metadata": {
    "tags": []
   },
   "outputs": [
    {
     "data": {
      "text/plain": [
       "['ent', 'pred', 'seg']"
      ]
     },
     "execution_count": 12,
     "metadata": {},
     "output_type": "execute_result"
    }
   ],
   "source": [
    "key_order"
   ]
  },
  {
   "cell_type": "code",
   "execution_count": 13,
   "id": "04561be7-6226-4fd9-b6a0-144ad4a4ddb7",
   "metadata": {
    "tags": []
   },
   "outputs": [],
   "source": [
    "ID = list(output_maps_for_umaps.keys())[2]"
   ]
  },
  {
   "cell_type": "code",
   "execution_count": 14,
   "id": "84b3b24a-bd85-4e3f-9754-f7d29761c706",
   "metadata": {
    "tags": []
   },
   "outputs": [],
   "source": [
    "img_us = output_maps_for_umaps[ID]\n",
    "img_ps = output_maps_for_pred[ID]"
   ]
  },
  {
   "cell_type": "code",
   "execution_count": 15,
   "id": "6485cc67-1729-4388-affd-abefb31ff57a",
   "metadata": {
    "tags": []
   },
   "outputs": [
    {
     "data": {
      "image/png": "[encoded data removed]",
      "text/plain": [
       "<Figure size 1500x400 with 3 Axes>"
      ]
     },
     "metadata": {},
     "output_type": "display_data"
    }
   ],
   "source": [
    "ent, pred, seg = img_ps\n",
    "plt.figure(figsize=(15,4))\n",
    "islice = 31\n",
    "for i in range(3):\n",
    "    plt.subplot(1, 3, i+1)\n",
    "    plt.imshow(img_ps[i][islice])\n",
    "    plt.axis('off')"
   ]
  },
  {
   "cell_type": "code",
   "execution_count": 16,
   "id": "35004640-9e97-4087-b165-2dd6860cb4c9",
   "metadata": {
    "tags": []
   },
   "outputs": [],
   "source": [
    "t = 0.1\n",
    "ent_voxels = ent[ent > t]\n",
    "pred_voxels = pred[pred > t]\n",
    "# var_voxels = var[var > t/10]"
   ]
  },
  {
   "cell_type": "code",
   "execution_count": 39,
   "id": "a7de86cc-dff5-4eb6-ae1a-d02522bab5a0",
   "metadata": {
    "tags": []
   },
   "outputs": [
    {
     "data": {
      "text/plain": [
       "<Axes: ylabel='Density'>"
      ]
     },
     "execution_count": 39,
     "metadata": {},
     "output_type": "execute_result"
    },
    {
     "data": {
      "image/png": "[encoded data removed]",
      "text/plain": [
       "<Figure size 640x480 with 3 Axes>"
      ]
     },
     "metadata": {},
     "output_type": "display_data"
    }
   ],
   "source": [
    "plt.subplot(1,3,1)\n",
    "sns.kdeplot(ent_voxels)\n",
    "plt.subplot(1,3,2)\n",
    "# sns.kdeplot(var_voxels)\n",
    "plt.subplot(1,3,3)\n",
    "sns.kdeplot(pred_voxels)"
   ]
  },
  {
   "cell_type": "code",
   "execution_count": 40,
   "id": "25fba1d1-4ec2-47b3-8cef-52de0786aa59",
   "metadata": {
    "tags": []
   },
   "outputs": [],
   "source": [
    "def histogram_distribution(values, bins=20, minv=None, maxv=None):\n",
    "    # so that the output values are meaningful, I need to carefully set the min a max. mnin should be t, and max should be the max across all the data I think.\n",
    "    if minv == None:\n",
    "        minv = values.min()\n",
    "    if maxv == None:\n",
    "        maxv = values.max()\n",
    "    counts = torch.zeros(bins)\n",
    "    bounds = torch.arange(minv,maxv, (maxv-minv)/bins)\n",
    "    for i, (lower_bound, upper_bound) in enumerate(zip(bounds[:-1], bounds[1:])):\n",
    "        counts[i] = ((values >= lower_bound) * (values < upper_bound)).sum()\n",
    "\n",
    "    Z = counts.sum()\n",
    "    counts = counts / Z\n",
    "    return counts"
   ]
  },
  {
   "cell_type": "code",
   "execution_count": 41,
   "id": "dbb14042-f93b-488b-9226-bab70c005430",
   "metadata": {
    "tags": []
   },
   "outputs": [],
   "source": [
    "def gaussian_summary_statistics(values):\n",
    "    sum = values.sum().item()\n",
    "    mean = values.mean().item()\n",
    "    std = values.std().item()\n",
    "    skew = scipy.stats.skew(values)\n",
    "    kurtosis = scipy.stats.kurtosis(values, fisher=False)\n",
    "    return sum, mean, std, skew, kurtosis"
   ]
  },
  {
   "cell_type": "code",
   "execution_count": 42,
   "id": "1d345beb-21d2-4d93-bbba-64bf0d7c05bf",
   "metadata": {
    "tags": []
   },
   "outputs": [
    {
     "data": {
      "text/plain": [
       "tensor([0.2193, 0.1494, 0.1087, 0.0783, 0.0614, 0.0501, 0.0405, 0.0369, 0.0317,\n",
       "        0.0279, 0.0258, 0.0220, 0.0200, 0.0215, 0.0171, 0.0195, 0.0216, 0.0231,\n",
       "        0.0253, 0.0000])"
      ]
     },
     "execution_count": 42,
     "metadata": {},
     "output_type": "execute_result"
    }
   ],
   "source": [
    "histogram_distribution(ent_voxels, 20)"
   ]
  },
  {
   "cell_type": "code",
   "execution_count": 43,
   "id": "50440632-afa2-4412-aa15-feda68724897",
   "metadata": {
    "tags": []
   },
   "outputs": [],
   "source": [
    "# counts, counts.sum()"
   ]
  },
  {
   "cell_type": "code",
   "execution_count": 44,
   "id": "e2057fc7-fb44-4b05-987b-9f95dbcf65a5",
   "metadata": {
    "tags": []
   },
   "outputs": [
    {
     "data": {
      "text/plain": [
       "<Axes: ylabel='Count'>"
      ]
     },
     "execution_count": 44,
     "metadata": {},
     "output_type": "execute_result"
    },
    {
     "data": {
      "image/png": "[encoded data removed]",
      "text/plain": [
       "<Figure size 640x480 with 1 Axes>"
      ]
     },
     "metadata": {},
     "output_type": "display_data"
    }
   ],
   "source": [
    "sns.histplot(ent_voxels, bins=20)"
   ]
  },
  {
   "cell_type": "markdown",
   "id": "4a2eebb2-323b-49b9-9fc9-696eccd21f2e",
   "metadata": {},
   "source": [
    "### overlap proportions computation\n",
    "- [x] proportion of segmented area that is uncertain\n",
    "- [x] proportion of uncertain area that is segmented\n",
    "- [x] proportion of uncertain area that is within segmentation + edge expansion"
   ]
  },
  {
   "cell_type": "code",
   "execution_count": 45,
   "id": "9135e5b0-9ca4-4233-bad0-700764113bbc",
   "metadata": {
    "tags": []
   },
   "outputs": [],
   "source": [
    "def get_edge_expanded_seg(seg, expansions=2):\n",
    "    expanded = seg.type(torch.float32).unsqueeze(1)\n",
    "    for _ in range(expansions):\n",
    "        expanded = torch.nn.functional.max_pool3d(expanded, kernel_size=3, padding=1, stride=1)\n",
    "    return expanded.type(seg.dtype).squeeze()"
   ]
  },
  {
   "cell_type": "markdown",
   "id": "29ff30eb-afd9-433d-a9a8-b58d83717eee",
   "metadata": {},
   "source": [
    "### loading the ventricles for ventricle distance analysis"
   ]
  },
  {
   "cell_type": "code",
   "execution_count": 46,
   "id": "b4f7a4bc-0c08-439b-8477-5deb907b7d92",
   "metadata": {
    "tags": []
   },
   "outputs": [],
   "source": [
    "import SimpleITK as sitk\n",
    "import numpy as np\n",
    "import matplotlib.pyplot as plt\n",
    "import os\n",
    "import torchvision.transforms as tv\n",
    "\n",
    "# resamples an image\n",
    "def get_resampled_img(itk_image, out_spacing=[2.0, 2.0, 2.0], original_spacing=[1., 1., 3.], is_label=False):\n",
    "    \n",
    "    if not original_spacing:\n",
    "        # orig spacing can be specified when the input itk_image does not know its actual spacing.\n",
    "        original_spacing = itk_image.GetSpacing()\n",
    "    original_size = itk_image.GetSize()\n",
    "    \n",
    "    # what's this? its how to modify the output size I think...\n",
    "    out_size = [\n",
    "        int(np.round(orig_size * orig_spacing / out_spacing))\n",
    "        for (orig_size, orig_spacing, out_spacing) \n",
    "        in zip(original_size, original_spacing, out_spacing)\n",
    "    ]\n",
    "    \n",
    "    resample = sitk.ResampleImageFilter()\n",
    "    resample.SetOutputSpacing(out_spacing)\n",
    "    resample.SetSize(out_size)\n",
    "    resample.SetOutputDirection(itk_image.GetDirection())      # sets the output direction cosine matrix...\n",
    "    resample.SetOutputOrigin(itk_image.GetOrigin())\n",
    "    resample.SetTransform(sitk.Transform())\n",
    "    resample.SetDefaultPixelValue(itk_image.GetPixelIDValue())\n",
    "    \n",
    "    if is_label:\n",
    "        resample.SetInterpolator(sitk.sitkNearestNeighbor)\n",
    "    else:\n",
    "        resample.SetInterpolator(sitk.sitkBSpline)\n",
    "        \n",
    "    return resample.Execute(itk_image)\n",
    "      \n",
    "def resample_and_return(filename_in, is_label=False, out_spacing=[1., 1., 3.], original_spacing=None):\n",
    "    \"\"\"\n",
    "    resamples an image to custom voxel dimensions and returns image as a numpy array\n",
    "    \n",
    "    filename_in: .nii.gz file to load\n",
    "    is_label: is the file a brain scan or a segmentaion mask\n",
    "    outspacing: the spacing of the image to be resampled to.\n",
    "    \"\"\"\n",
    "        \n",
    "    # resample the image\n",
    "    image = sitk.ReadImage(filename_in)\n",
    "    resampled_image = get_resampled_img(image, out_spacing=out_spacing, original_spacing=original_spacing, is_label=is_label)\n",
    "    \n",
    "    return sitk.GetArrayFromImage(resampled_image)"
   ]
  },
  {
   "cell_type": "code",
   "execution_count": 47,
   "id": "ad90dcde-a922-4fe1-b331-c4e35f468366",
   "metadata": {
    "tags": []
   },
   "outputs": [],
   "source": [
    "# this loop takes a while as its loading from disk and resampling\n",
    "# it takes around 11 minutes\n",
    "\n",
    "cropper = tv.transforms.CenterCrop((220, 220))\n",
    "\n",
    "def load_fast_output(file, slices):\n",
    "    timg = resample_and_return(file, is_label=True)\n",
    "        \n",
    "    # interpolate the channel number and centre crop\n",
    "    timg = torch.Tensor(timg)\n",
    "    timg = torch.nn.functional.interpolate(timg.unsqueeze(0).unsqueeze(0), (slices, *timg.shape[1:])).squeeze()\n",
    "    timg = cropper(timg.view((1, 1, *timg.shape))).squeeze()\n",
    "    \n",
    "    return timg\n",
    "\n"
   ]
  },
  {
   "cell_type": "code",
   "execution_count": 48,
   "id": "39e1b213-4cec-4b37-8c0a-68f628767553",
   "metadata": {
    "tags": []
   },
   "outputs": [],
   "source": [
    "IDs_outmaps = natsorted(list(output_maps_for_umaps.keys()))\n",
    "IDs = [(\"_\".join(idx.split(\"_\")[:-2]), idx) for idx in IDs_outmaps if \"out_maps\" in idx]"
   ]
  },
  {
   "cell_type": "code",
   "execution_count": 49,
   "id": "8ede0b33-91db-4fae-8cfb-0dbe9bd5e089",
   "metadata": {
    "tags": []
   },
   "outputs": [
    {
     "data": {
      "text/plain": [
       "torch.Size([58, 220, 220])"
      ]
     },
     "execution_count": 49,
     "metadata": {},
     "output_type": "execute_result"
    }
   ],
   "source": [
    "output_maps_for_umaps[IDs[0][1]][0].shape"
   ]
  },
  {
   "cell_type": "code",
   "execution_count": 52,
   "id": "0ddfb553-ff06-46cd-96a7-1d09e35faeb2",
   "metadata": {
    "tags": []
   },
   "outputs": [
    {
     "name": "stderr",
     "output_type": "stream",
     "text": [
      "100%|███████████████████████████████████████████████████████████████████████████████████████████████████████████████████████████████████████████████████████| 290/290 [00:25<00:00, 11.27it/s]\n"
     ]
    }
   ],
   "source": [
    "vent_folder = \"/home/s2208943/ipdis/data/preprocessed_data/ADNI_300_ventmapper/\"\n",
    "vent_filenames = os.listdir(vent_folder)\n",
    "ID_ventpath_map = {\"_\".join(f.split(\"_\")[:-1]): vent_folder + f for f in vent_filenames}\n",
    "vent_maps = []\n",
    "for i in tqdm(range(len(IDs)), position=0, leave=True):\n",
    "    ID = IDs[i]\n",
    "    num_slices = output_maps_for_umaps[ID[1]][0].shape[0]\n",
    "    vent_path = ID_ventpath_map[ID[0]]\n",
    "    vent_seg = load_fast_output(vent_path, num_slices)\n",
    "    vent_maps.append(vent_seg)"
   ]
  },
  {
   "cell_type": "code",
   "execution_count": 53,
   "id": "1436f375-8c10-41bf-bb3a-0857fe41f5ab",
   "metadata": {
    "tags": []
   },
   "outputs": [
    {
     "data": {
      "text/plain": [
       "(torch.Size([58, 220, 220]), tensor(33))"
      ]
     },
     "execution_count": 53,
     "metadata": {},
     "output_type": "execute_result"
    }
   ],
   "source": [
    "vent_maps[0].shape, vent_maps[0].sum(dim=(1,2,)).argmax(0)"
   ]
  },
  {
   "cell_type": "code",
   "execution_count": 54,
   "id": "12a6d43a-6de6-4a0e-8950-cd704e667b9c",
   "metadata": {
    "tags": []
   },
   "outputs": [
    {
     "data": {
      "text/plain": [
       "<matplotlib.image.AxesImage at 0x7f3439a8bf70>"
      ]
     },
     "execution_count": 54,
     "metadata": {},
     "output_type": "execute_result"
    },
    {
     "data": {
      "image/png": "[encoded data removed]",
      "text/plain": [
       "<Figure size 1500x500 with 3 Axes>"
      ]
     },
     "metadata": {},
     "output_type": "display_data"
    }
   ],
   "source": [
    "islice = 26\n",
    "scan_id = 200\n",
    "plt.figure(figsize=(15, 5))\n",
    "plt.subplot(1,3,1)\n",
    "plt.imshow(vent_maps[scan_id][islice])\n",
    "plt.subplot(1,3,2)\n",
    "plt.imshow(output_maps_for_umaps[IDs[scan_id][1]][0][islice])\n",
    "plt.subplot(1,3,3)\n",
    "img_map = torch.zeros(*vent_maps[0].shape[1:], 3)\n",
    "img_map[:,:,0] = vent_maps[scan_id][islice]\n",
    "img_map[:,:,1] = output_maps_for_umaps[IDs[scan_id][1]][0][islice]\n",
    "plt.imshow(img_map)"
   ]
  },
  {
   "cell_type": "markdown",
   "id": "72be1a31-b0e8-4d6c-b050-935489fec32d",
   "metadata": {},
   "source": [
    "### distance from the ventricles"
   ]
  },
  {
   "cell_type": "code",
   "execution_count": 55,
   "id": "2771725e-8dd0-4b3e-931f-440c9cff01a1",
   "metadata": {
    "tags": []
   },
   "outputs": [],
   "source": [
    "import torch.nn.functional as F\n",
    "def edge_pixels_3D(img):\n",
    "    dtype = img.dtype # preserve original datatype for casting at the end\n",
    "    img = img.type(torch.float32).unsqueeze(0)\n",
    "    \n",
    "    max_pool = F.max_pool3d(img, 3, stride=1, padding=1)\n",
    "    outer_edge = (max_pool != img).type(torch.float32)\n",
    "    \n",
    "    dilated_edge = F.max_pool3d(outer_edge, 3, stride=1, padding=1)\n",
    "    inner_edge = dilated_edge * img\n",
    "    \n",
    "    return inner_edge.type(dtype).squeeze()\n",
    "\n",
    "def edge_pixels(img):\n",
    "    dtype = img.dtype # preserve original datatype for casting at the end\n",
    "    img = img.type(torch.float32)\n",
    "    \n",
    "    max_pool = F.max_pool2d(img, 3, stride=1, padding=1)\n",
    "    outer_edge = (max_pool != img).type(torch.float32)\n",
    "    \n",
    "    dilated_edge = F.max_pool2d(outer_edge, 3, stride=1, padding=1)\n",
    "    inner_edge = dilated_edge * img\n",
    "    \n",
    "    return inner_edge.type(dtype)"
   ]
  },
  {
   "cell_type": "code",
   "execution_count": 56,
   "id": "797998d4-cb20-4df3-a428-51e8c10dbd40",
   "metadata": {
    "tags": []
   },
   "outputs": [],
   "source": [
    "def downsample_3d(img, avg=True):\n",
    "    if avg:\n",
    "        return F.avg_pool3d(img.unsqueeze(0).type(torch.float32), 2, stride=2).squeeze().type(img.dtype)\n",
    "    else:\n",
    "        return F.max_pool3d(img.unsqueeze(0).type(torch.float32), 2, stride=2).squeeze().type(img.dtype)"
   ]
  },
  {
   "cell_type": "code",
   "execution_count": 57,
   "id": "15bffcfa-ae41-4540-be47-21b725eebad1",
   "metadata": {
    "tags": []
   },
   "outputs": [],
   "source": [
    "def min_distances(img, vmap):\n",
    "    # calculate the minimum distance between each point in a and each point in b\n",
    "    \n",
    "    spatial_dims = vmap.squeeze().shape\n",
    "    grid = torch.stack(\n",
    "            torch.meshgrid(\n",
    "                *[torch.arange(0, sdi, 1) for sdi in spatial_dims],\n",
    "                indexing='ij'\n",
    "            )\n",
    "        ).type(torch.float32).to(img.device)\n",
    "    \n",
    "    a = grid[:, img.squeeze() > 0].T.cuda()\n",
    "    b = grid[:, vmap.squeeze() > 0].T.cuda()\n",
    "    \n",
    "    # Calculate pairwise distances between all pairs of points\n",
    "    distances = torch.cdist(a, b)\n",
    "\n",
    "    # Find indices of closest points in b for each point in a\n",
    "    _, indices = torch.min(distances, dim=1)\n",
    "\n",
    "    # Use indices to index into b and get closest points\n",
    "    b_closest = b[indices]\n",
    "\n",
    "    # Calculate distances to closest points \n",
    "    distances_closest = torch.norm(a - b_closest, dim=1)\n",
    "    \n",
    "    distance_map = torch.zeros(img.shape).to(distances_closest.device)\n",
    "    distance_map[img > 0] = distances_closest\n",
    "    \n",
    "    return distances_closest, distance_map"
   ]
  },
  {
   "cell_type": "markdown",
   "id": "1f929aaf-6adb-4768-9d06-c094e44f912b",
   "metadata": {},
   "source": [
    "### connected components analysis"
   ]
  },
  {
   "cell_type": "code",
   "execution_count": 58,
   "id": "82c98c1a-a5a9-4406-b1e1-4e664f35d318",
   "metadata": {
    "tags": []
   },
   "outputs": [],
   "source": [
    "import cc3d"
   ]
  },
  {
   "cell_type": "code",
   "execution_count": 59,
   "id": "cbc4edb3-d1b2-489b-b982-05ccad6d5b7e",
   "metadata": {
    "tags": []
   },
   "outputs": [],
   "source": [
    "def get_conn_comps(img):\n",
    "    connectivity = 6 # only 4,8 (2D) and 26, 18, and 6 (3D) are allowed\n",
    "    labels_out_seg = cc3d.connected_components(img.cpu().numpy(), connectivity=connectivity)\n",
    "    return torch.from_numpy(labels_out_seg.astype(np.int16)).to(img.device)"
   ]
  },
  {
   "cell_type": "code",
   "execution_count": 60,
   "id": "ac76e703-7ae8-4118-8c06-b365887c36a2",
   "metadata": {
    "tags": []
   },
   "outputs": [],
   "source": [
    "def get_edge_expanded_seg(seg, expansions=2):\n",
    "    expanded = seg.type(torch.float32).unsqueeze(1)\n",
    "    for _ in range(expansions):\n",
    "        expanded = torch.nn.functional.max_pool3d(expanded, kernel_size=3, padding=1, stride=1)\n",
    "    return expanded.type(seg.dtype).squeeze()"
   ]
  },
  {
   "cell_type": "code",
   "execution_count": 61,
   "id": "e8883d62-e40e-4883-9273-1f53465ee4d8",
   "metadata": {
    "tags": []
   },
   "outputs": [],
   "source": [
    "def skew(t, dim=None):\n",
    "    \"\"\"\n",
    "    Computes the skewness of a :class:`Tensor`. Note: this function uses cross-approximation (:func:`tntorch.cross()`).\n",
    "\n",
    "    :param t: a :class:`Tensor`\n",
    "\n",
    "    :return: a scalar\n",
    "    \"\"\"\n",
    "\n",
    "    return (((t-t.mean(dim=dim).unsqueeze(dim))/t.std(dim=dim).unsqueeze(dim)).pow(3)).mean(dim=dim)\n",
    "\n",
    "\n",
    "def kurtosis(t, fisher=True, dim=None):\n",
    "    \"\"\"\n",
    "    Computes the kurtosis of a :class:`Tensor`. Note: this function uses cross-approximation (:func:`tntorch.cross()`).\n",
    "\n",
    "    :param t: a :class:`Tensor`\n",
    "    :param fisher: if True (default) Fisher's definition is used, otherwise Pearson's (aka excess)\n",
    "\n",
    "    :return: a scalar\n",
    "    \"\"\"\n",
    "        \n",
    "    return (((t-t.mean(dim=dim).unsqueeze(dim))/t.std(dim=dim).unsqueeze(dim)).pow(4)).mean(dim=dim) - fisher*3"
   ]
  },
  {
   "cell_type": "code",
   "execution_count": 62,
   "id": "99050b0c-0408-4bc0-8bc0-2f456a1d5be9",
   "metadata": {
    "tags": []
   },
   "outputs": [],
   "source": [
    "def one_hot_encoded_image(image):\n",
    "    # for a 3D [H, W, D] shape image\n",
    "    # ensure all IDs are unique\n",
    "    return (image == image.unique().view(-1, 1, 1, 1))\n",
    "\n",
    "def one_hot_encoded_vector(vector):\n",
    "    return (vector == vector.unique().view(-1,1))"
   ]
  },
  {
   "cell_type": "code",
   "execution_count": 63,
   "id": "1658dd1c-4f71-4b56-b4e1-88b458889c04",
   "metadata": {
    "tags": []
   },
   "outputs": [],
   "source": [
    "def conn_comp_basic_stats(umap, conn_comp_map, seg_map, dist_map):\n",
    "    # number of connected components\n",
    "    # size of connected components\n",
    "    # connected component size distribution information\n",
    "    cc_ids = conn_comp_map.unique()\n",
    "    cc_locs = conn_comp_map != 0\n",
    "    conn_comp_map = conn_comp_map[cc_locs]\n",
    "    umap = umap[cc_locs]\n",
    "    seg_map = seg_map[cc_locs]\n",
    "    dist_map = dist_map[cc_locs]\n",
    "    \n",
    "    assert dist_map.shape == seg_map.shape == umap.shape == conn_comp_map.shape\n",
    "    num_ccs = len(cc_ids) - 1\n",
    "    num_ccs_no_overlap = 0\n",
    "    cc_sizes = []\n",
    "    cc_means = []\n",
    "    cc_stds = []\n",
    "    cc_skews = []\n",
    "    cc_kurts = []\n",
    "    cc_vent_dists = []\n",
    "    for cc_id in cc_ids:\n",
    "        if cc_id == 0:\n",
    "            continue\n",
    "        cc = conn_comp_map == cc_id\n",
    "        cc_size = cc.sum().item()\n",
    "        cc_values = umap[cc]\n",
    "        _, mean, std, skew, kurtosis = gaussian_summary_statistics(cc_values.cpu())\n",
    "    \n",
    "        cc_sizes.append(cc_size)\n",
    "        cc_means.append(mean)\n",
    "        cc_stds.append(std)\n",
    "        cc_skews.append(skew)\n",
    "        cc_kurts.append(kurtosis)\n",
    "        \n",
    "        if seg_map[cc].sum() == 0:\n",
    "            num_ccs_no_overlap += 1\n",
    "            \n",
    "        cc_vent_dists.append(dist_map[cc].mean().item())\n",
    "    _, vd_mean, vd_std, vd_skew, vd_kurt = gaussian_summary_statistics(torch.Tensor(cc_vent_dists))\n",
    "    _, size_mean, size_std, size_skew, size_kurt = gaussian_summary_statistics(torch.Tensor(cc_sizes))\n",
    "    \n",
    "    return {\"num\":num_ccs, \"sizes\":cc_sizes, \"means\":cc_means, \"stds\":cc_stds, \"skews\":cc_skews, \"kurts\":cc_kurts, \"vent_dists\":cc_vent_dists, \"unsegmented_ccs\":num_ccs_no_overlap, \"size_mean\":size_mean, \"size_std\":size_std, \"size_skew\":size_skew, \"size_kurt\":size_kurt, \"vd_mean\":vd_mean, \"vd_std\":vd_std, \"vd_skew\":vd_skew, \"vd_kurt\":vd_kurt}\n",
    "\n"
   ]
  },
  {
   "cell_type": "code",
   "execution_count": 64,
   "id": "42ba9f0e-df02-41ad-b49c-e8cb69ede31b",
   "metadata": {
    "tags": []
   },
   "outputs": [],
   "source": [
    "# idx = 0\n",
    "# example_umap = output_maps_for_umaps[IDs[idx][1]][0].cuda()\n",
    "# example_smap = output_maps_for_pred[IDs[idx][1]][2].cuda()\n",
    "# example_vmap = vent_maps[idx].cuda()\n",
    "\n",
    "# vmap_ds = downsample_3d(example_vmap)\n",
    "# umap_ds = downsample_3d(example_umap)\n",
    "# ut_ds = umap_ds > 0.1\n",
    "# ut = example_umap > 0.1\n",
    "# conn_comps = get_conn_comps(ut)\n",
    "\n",
    "# distances_closest, distance_map = min_distances(ut_ds, vmap_ds)\n",
    "# distance_map = F.interpolate(distance_map.view(1, 1, *distance_map.shape), example_umap.shape, mode='trilinear').squeeze()"
   ]
  },
  {
   "cell_type": "code",
   "execution_count": 65,
   "id": "27b30691-96b1-4505-837e-ed520d4f39d8",
   "metadata": {
    "tags": []
   },
   "outputs": [],
   "source": [
    "# cc_data = conn_comp_basic_stats(example_umap, conn_comps, example_smap, distance_map) # from this we could get the mean mean, mean std, mean skew and mean kurtosis for each threshold I guess. # that would be somewhat interesting"
   ]
  },
  {
   "cell_type": "code",
   "execution_count": 66,
   "id": "9d108785-7bdc-4b9c-a1c3-3c8ece10e7e1",
   "metadata": {
    "tags": []
   },
   "outputs": [],
   "source": [
    "# cc_data[\"num\"], cc_data[\"unsegmented_ccs\"]"
   ]
  },
  {
   "cell_type": "code",
   "execution_count": 67,
   "id": "2c033fce-1615-4392-827f-794d54d1046f",
   "metadata": {
    "tags": []
   },
   "outputs": [],
   "source": [
    "# cc_data[\"log_sizes\"] = torch.Tensor(cc_data['sizes']).log()\n",
    "# sns.jointplot(cc_data, y=\"vent_dists\", x=\"log_sizes\", bins=5, kind='hist')"
   ]
  },
  {
   "cell_type": "code",
   "execution_count": 68,
   "id": "cd6c462d-9c5a-4e15-a9fe-80102b7611d0",
   "metadata": {
    "tags": []
   },
   "outputs": [],
   "source": [
    "def joint_hist_values(data, x, y, minx, maxx, miny, maxy, bins=5):\n",
    "    values = torch.stack([torch.Tensor(data[x]), torch.Tensor(data[y])], dim=1) # shape [N, 2]\n",
    "    values = values.expand((bins, bins, *values.shape))\n",
    "    counts = torch.zeros(bins, bins)\n",
    "    bounds_x = torch.arange(minx,maxx, (maxx-minx)/(bins+1)).to(values.device)\n",
    "    bounds_y = torch.arange(miny,maxy, (maxy-miny)/(bins+1)).to(values.device)\n",
    "    upper_xlims = bounds_x[1:].view(1, 5, 1)\n",
    "    upper_ylims = bounds_y[1:].view(5, 1, 1)\n",
    "    lower_xlims = bounds_x[:-1].view(1, 5, 1)\n",
    "    lower_ylims = bounds_y[:-1].view(5, 1, 1)\n",
    "    counts = (values[:,:,:,0] < upper_xlims) * (values[:,:,:,0] > lower_xlims) * (values[:,:,:,1] < upper_ylims) * (values[:,:,:,1] > lower_ylims)\n",
    "    counts = counts.sum(dim=-1)\n",
    "\n",
    "    Z = counts.sum()\n",
    "    counts = counts / Z\n",
    "    return counts\n",
    "\n",
    "\n",
    "# def joint_hist_values2(data, x, y, minx, maxx, miny, maxy, bins=5):\n",
    "#     values = torch.stack([torch.Tensor(data[x]), torch.Tensor(data[y])], dim=1) # shape [N, 2]\n",
    "#     #values = values.expand((bins, bins, *values.shape))\n",
    "#     counts = torch.zeros(bins, bins)\n",
    "#     bounds_x = torch.arange(minx,maxx, (maxx-minx)/(bins+1))\n",
    "#     bounds_y = torch.arange(miny,maxy, (maxy-miny)/(bins+1))\n",
    "#     upper_xlims = bounds_x[1:]\n",
    "#     upper_ylims = bounds_y[1:]\n",
    "#     lower_xlims = bounds_x[:-1]\n",
    "#     lower_ylims = bounds_y[:-1]\n",
    "#     for i, (x1, x2) in enumerate(zip(lower_xlims, upper_xlims)):\n",
    "#         for j, (y1,y2) in enumerate(zip(lower_ylims, upper_ylims)):\n",
    "#             counts[i][j] = ((values[:,0] < x2) * (values[:,0] > x1) * (values[:,1] < y2) * (values[:,1] > y1)).sum()\n",
    "#     # counts = counts.sum(dim=-1)\n",
    "\n",
    "#     Z = counts.sum()\n",
    "#     counts = counts / Z\n",
    "#     return counts"
   ]
  },
  {
   "cell_type": "code",
   "execution_count": 69,
   "id": "37d0eba6-39ad-4676-bd96-ebef6cceacc5",
   "metadata": {
    "tags": []
   },
   "outputs": [],
   "source": [
    "# joint_counts = joint_hist_values2(cc_data, \"log_sizes\", \"vent_dists\", 0, 8, 0, 10, 5)"
   ]
  },
  {
   "cell_type": "code",
   "execution_count": 70,
   "id": "2b06d7ae-154d-4dc5-ba32-07aa021a43cb",
   "metadata": {
    "tags": []
   },
   "outputs": [],
   "source": [
    "# joint_counts.shape"
   ]
  },
  {
   "cell_type": "code",
   "execution_count": 71,
   "id": "2308fdae-8544-4b23-b8fb-3652fda95e33",
   "metadata": {
    "tags": []
   },
   "outputs": [],
   "source": [
    "# plt.imshow(joint_counts); plt.colorbar()"
   ]
  },
  {
   "cell_type": "code",
   "execution_count": 72,
   "id": "020e6a43-cbd8-49b1-b338-e4859b4775cd",
   "metadata": {
    "tags": []
   },
   "outputs": [],
   "source": [
    "# cc_data[\"num\"], cc_data[\"unsegmented_ccs\"]"
   ]
  },
  {
   "cell_type": "code",
   "execution_count": 73,
   "id": "a0a2b95e-a3db-4d48-bc37-a1a68cce0e2b",
   "metadata": {
    "tags": []
   },
   "outputs": [],
   "source": [
    "# summary statistics of log conn comp size:\n",
    "# cc_summary_stats = gaussian_summary_statistics(torch.Tensor(cc_data['sizes']).log())"
   ]
  },
  {
   "cell_type": "code",
   "execution_count": 74,
   "id": "71afb931-324e-496b-b279-befd02a32062",
   "metadata": {
    "tags": []
   },
   "outputs": [],
   "source": [
    "# sum, mean , std, skew, kurtosis of log size of connected components.\n",
    "# cc_summary_stats"
   ]
  },
  {
   "cell_type": "code",
   "execution_count": 75,
   "id": "0ee07ab6-ca8b-4e72-861d-f5d07d88acda",
   "metadata": {
    "tags": []
   },
   "outputs": [],
   "source": [
    "# histogram_distribution(torch.Tensor(cc_data['sizes']).log(), 10)"
   ]
  },
  {
   "cell_type": "code",
   "execution_count": 76,
   "id": "2e29135a-257e-4aa4-b4f4-2d46da0757cd",
   "metadata": {
    "tags": []
   },
   "outputs": [],
   "source": [
    "# plt.hist(torch.Tensor(cc_data['sizes']).log(), bins=10);"
   ]
  },
  {
   "cell_type": "code",
   "execution_count": 77,
   "id": "2432d653-937d-45bc-bbcf-3830a8d46e14",
   "metadata": {
    "tags": []
   },
   "outputs": [],
   "source": [
    "# sns.jointplot(data=cc_data, x=\"sizes\", y=\"kurts\")\n",
    "# plt.xscale('log')"
   ]
  },
  {
   "cell_type": "code",
   "execution_count": 78,
   "id": "3804b34f-ffc4-4d8d-bac5-c4780be9738c",
   "metadata": {
    "tags": []
   },
   "outputs": [],
   "source": [
    "# lets get basic distribution of connected component numbers and size. Then we can get some interesting plots later, so collect as much interesting information as possible...\n",
    "# I can compare this to number and size of connected components in the predicted map (at say tau > 0.5?)\n",
    "# I should get distance of each connected component from the ventricles and size. yes that is a good plot\n",
    "# also distance from the binarized segmentation... (but I need to be careful and do this for pred as well as umap)."
   ]
  },
  {
   "cell_type": "markdown",
   "id": "8b04e44d-d410-4598-a51a-7f5fdbb6c47d",
   "metadata": {},
   "source": [
    "### Uncertainty values that I intended to extract from the umap\n",
    "\n",
    "For SSN Ens for the ent and var maps, and SSN Ens Mean for the pred and seg maps. Nice.\n",
    "I should capture all of these metrics across a variety of metrics, and I can tune the thresholds in cross validation. simples.\n",
    "It may be the case that ent + var together give us some more information. That would be interesting.\n",
    "\n",
    "`output_maps_for_umaps` is the SSN_Ens output\n",
    "`output_maps_for_mean` is the SSN_Ens_mean output\n",
    "\n",
    "- [x] sum\n",
    "- [x] mean\n",
    "- [x] std\n",
    "- [x] skew\n",
    "- [x] kurtosis\n",
    "- [x] kde bins?\n",
    "- [x] ventricle size\n",
    "- [x] intensity distribution (need to ensure that the min and max of the bins are the same across all individuals) \n",
    "- [x] number of connected components\n",
    "- [x] size of connected components distribution, need to ensure that the min and max of the bins are the same across all individuals.\n",
    "- [x] number / distribution of connected components that have no overlap with the segmented mask... (again I need the umap and the pred map to do this) (and I should also compare to the seg map as well perhaps)\n",
    "- [x] uncertainty sum, mean, skew, kurtosis of each connected component. That may be interesting to plot.\n",
    "- [-] distance to the WMH binarized segmentation for each connected component (try to separate out those connected components that are highlighting other stuff).\n",
    "- [-] proportion of the segmented edge deemed uncertain (if we expand the edge of the segmentation then calculate the proportion, we can get the sum of the uncertainty that\n",
    "- [x] proportion of segmented area deemed uncertain (this requires access to SSN Ens and SSN Ens Mean at the same time\n",
    "- [x] proportion of uncertain area that is within the segmentation + edge area\n",
    "- [x] distribution of size of connected components (sum, mean, std, skew)\n",
    "- [x] distance from the ventricles (could do this in x, y and z distributions, or just overall...) I could measure distance x intensity\n",
    "- [x] stats for distance from the ventricles (mean, std, skew, kurtosis, etc)\n",
    "- [x] mean distance from the ventricles of each connected component joint with size in a 5x5 and 10x10 bin option I think. again ensure that the \n",
    "- [ ] predicted seg volume."
   ]
  },
  {
   "cell_type": "markdown",
   "id": "ec8e64dc-0b08-43a4-9e57-51a5468ab30c",
   "metadata": {},
   "source": [
    "### turning all of the above into a big loop\n",
    "\n",
    "need to compute values for:\n",
    "- [x] ent map\n",
    "- [x] var map\n",
    "- [x] pred map\n",
    "- [x] loop over [0.1, 0.15, 0.2, 0.25, 0.3, 0.35, 0.4, 0.45, 0.5] as threshold for ent map\n",
    "- [x] loop over [0.1, 0.2, 0.3, 0.4, 0.5, 0.6] for pred map\n",
    "- [x] loop over ? for ent map"
   ]
  },
  {
   "cell_type": "code",
   "execution_count": 79,
   "id": "5937bcb1-ccf1-4cd2-a703-586883fcea46",
   "metadata": {
    "tags": []
   },
   "outputs": [
    {
     "name": "stderr",
     "output_type": "stream",
     "text": [
      "  0%|                                                                                                                                                                 | 0/290 [00:00<?, ?it/s]"
     ]
    },
    {
     "name": "stdout",
     "output_type": "stream",
     "text": [
      "ADNI_002_S_0729_20110816\n"
     ]
    },
    {
     "name": "stderr",
     "output_type": "stream",
     "text": [
      "/tmp/ipykernel_2836729/1284179010.py:5: RuntimeWarning: Precision loss occurred in moment calculation due to catastrophic cancellation. This occurs when the data are nearly identical. Results may be unreliable.\n",
      "  skew = scipy.stats.skew(values)\n",
      "/tmp/ipykernel_2836729/1284179010.py:6: RuntimeWarning: Precision loss occurred in moment calculation due to catastrophic cancellation. This occurs when the data are nearly identical. Results may be unreliable.\n",
      "  kurtosis = scipy.stats.kurtosis(values, fisher=False)\n"
     ]
    },
    {
     "name": "stdout",
     "output_type": "stream",
     "text": [
      "112 98\n",
      "100 79\n",
      "99 65\n",
      "194 94\n",
      "250 103\n",
      "376 141\n",
      "78 53\n",
      "94 54\n",
      "83 34\n",
      "75 20\n",
      "63 0\n"
     ]
    },
    {
     "name": "stderr",
     "output_type": "stream",
     "text": [
      "  0%|▌                                                                                                                                                        | 1/290 [00:03<16:50,  3.50s/it]"
     ]
    },
    {
     "name": "stdout",
     "output_type": "stream",
     "text": [
      "54 0\n",
      "ADNI_002_S_1155_20111222\n",
      "248 220\n",
      "174 141\n",
      "169 129\n",
      "151 102\n",
      "144 91\n",
      "153 88\n",
      "167 128\n",
      "110 65\n",
      "77 27\n",
      "73 17\n",
      "66 0\n"
     ]
    },
    {
     "name": "stderr",
     "output_type": "stream",
     "text": [
      "  1%|█                                                                                                                                                        | 2/290 [00:06<15:04,  3.14s/it]"
     ]
    },
    {
     "name": "stdout",
     "output_type": "stream",
     "text": [
      "52 0\n",
      "ADNI_002_S_1261_20110314\n",
      "123 111\n",
      "108 91\n",
      "92 70\n",
      "82 58\n",
      "88 54\n",
      "101 53\n",
      "82 62\n",
      "59 37\n",
      "48 19\n",
      "43 9\n"
     ]
    },
    {
     "name": "stderr",
     "output_type": "stream",
     "text": [
      "  1%|█▌                                                                                                                                                       | 3/290 [00:08<12:07,  2.53s/it]"
     ]
    },
    {
     "name": "stdout",
     "output_type": "stream",
     "text": [
      "47 0\n",
      "48 0\n",
      "ADNI_002_S_1280_20110504\n",
      "195 166\n",
      "153 117\n",
      "150 104\n",
      "176 90\n",
      "234 100\n",
      "343 126\n",
      "122 82\n",
      "100 52\n",
      "83 30\n",
      "70 16\n"
     ]
    },
    {
     "name": "stderr",
     "output_type": "stream",
     "text": [
      "  1%|██                                                                                                                                                       | 4/290 [00:11<13:34,  2.85s/it]"
     ]
    },
    {
     "name": "stdout",
     "output_type": "stream",
     "text": [
      "66 0\n",
      "64 0\n",
      "ADNI_002_S_2010_20101022\n",
      "181 164\n",
      "113 95\n",
      "87 62\n",
      "84 48\n",
      "88 41\n",
      "96 37\n",
      "77 53\n",
      "53 25\n",
      "51 20\n",
      "40 8\n"
     ]
    },
    {
     "name": "stderr",
     "output_type": "stream",
     "text": [
      "  2%|██▋                                                                                                                                                      | 5/290 [00:13<11:44,  2.47s/it]"
     ]
    },
    {
     "name": "stdout",
     "output_type": "stream",
     "text": [
      "34 0\n",
      "24 0\n",
      "ADNI_002_S_4213_20111205\n",
      "236 211\n",
      "166 129\n",
      "144 101\n",
      "145 89\n",
      "142 80\n",
      "165 82\n",
      "140 96\n",
      "114 64\n",
      "87 32\n",
      "77 16\n",
      "71 0\n"
     ]
    },
    {
     "name": "stderr",
     "output_type": "stream",
     "text": [
      "  2%|███▏                                                                                                                                                     | 6/290 [00:16<12:13,  2.58s/it]"
     ]
    },
    {
     "name": "stdout",
     "output_type": "stream",
     "text": [
      "55 0\n",
      "ADNI_002_S_4225_20111226\n",
      "278 245\n",
      "220 178\n",
      "213 159\n",
      "204 134\n",
      "200 113\n",
      "227 109\n",
      "194 141\n",
      "142 78\n",
      "130 57\n",
      "118 33\n",
      "103 0\n"
     ]
    },
    {
     "name": "stderr",
     "output_type": "stream",
     "text": [
      "  2%|███▋                                                                                                                                                     | 7/290 [00:19<13:58,  2.96s/it]"
     ]
    },
    {
     "name": "stdout",
     "output_type": "stream",
     "text": [
      "83 0\n",
      "ADNI_002_S_4229_20111221\n",
      "307 269\n",
      "211 161\n",
      "240 150\n",
      "311 160\n",
      "377 165\n",
      "538 230\n",
      "188 122\n",
      "186 105\n",
      "152 54\n",
      "146 29\n",
      "143 0\n"
     ]
    },
    {
     "name": "stderr",
     "output_type": "stream",
     "text": [
      "  3%|████▏                                                                                                                                                    | 8/290 [00:25<17:15,  3.67s/it]"
     ]
    },
    {
     "name": "stdout",
     "output_type": "stream",
     "text": [
      "131 0\n",
      "ADNI_002_S_4237_20110926\n",
      "354 310\n",
      "319 252\n",
      "359 242\n",
      "497 251\n",
      "653 287\n",
      "880 367\n",
      "298 212\n",
      "290 179\n",
      "271 133\n",
      "238 66\n",
      "212 0\n"
     ]
    },
    {
     "name": "stderr",
     "output_type": "stream",
     "text": [
      "  3%|████▋                                                                                                                                                    | 9/290 [00:32<23:20,  4.98s/it]"
     ]
    },
    {
     "name": "stdout",
     "output_type": "stream",
     "text": [
      "195 0\n",
      "ADNI_002_S_4262_20111005\n",
      "285 243\n",
      "289 219\n",
      "281 173\n",
      "403 190\n",
      "536 223\n",
      "794 287\n",
      "234 147\n",
      "209 90\n",
      "201 65\n",
      "194 29\n",
      "192 0\n"
     ]
    },
    {
     "name": "stderr",
     "output_type": "stream",
     "text": [
      "  3%|█████▏                                                                                                                                                  | 10/290 [00:39<25:32,  5.47s/it]"
     ]
    },
    {
     "name": "stdout",
     "output_type": "stream",
     "text": [
      "163 0\n",
      "ADNI_002_S_4270_20111011\n",
      "195 175\n",
      "145 116\n",
      "127 94\n",
      "144 83\n",
      "184 99\n",
      "225 98\n",
      "121 89\n",
      "110 71\n",
      "94 48\n",
      "76 26\n",
      "66 0\n"
     ]
    },
    {
     "name": "stderr",
     "output_type": "stream",
     "text": [
      "  4%|█████▊                                                                                                                                                  | 11/290 [00:42<21:41,  4.67s/it]"
     ]
    },
    {
     "name": "stdout",
     "output_type": "stream",
     "text": [
      "52 0\n",
      "ADNI_002_S_4447_20120814\n",
      "158 141\n",
      "145 115\n",
      "138 100\n",
      "159 91\n",
      "181 97\n",
      "209 103\n",
      "122 90\n",
      "102 58\n",
      "85 37\n",
      "79 21\n"
     ]
    },
    {
     "name": "stderr",
     "output_type": "stream",
     "text": [
      "  4%|██████▎                                                                                                                                                 | 12/290 [00:45<18:59,  4.10s/it]"
     ]
    },
    {
     "name": "stdout",
     "output_type": "stream",
     "text": [
      "75 0\n",
      "68 0\n",
      "ADNI_002_S_4473_20120823\n",
      "416 365\n",
      "344 277\n",
      "304 220\n",
      "338 205\n",
      "358 191\n",
      "431 193\n",
      "279 199\n",
      "236 137\n",
      "219 98\n",
      "184 45\n",
      "176 0\n"
     ]
    },
    {
     "name": "stderr",
     "output_type": "stream",
     "text": [
      "  4%|██████▊                                                                                                                                                 | 13/290 [00:51<21:27,  4.65s/it]"
     ]
    },
    {
     "name": "stdout",
     "output_type": "stream",
     "text": [
      "156 0\n",
      "ADNI_002_S_4521_20120904\n",
      "283 258\n",
      "235 202\n",
      "205 148\n",
      "253 157\n",
      "265 142\n",
      "300 134\n",
      "190 142\n",
      "159 99\n",
      "130 64\n",
      "103 30\n"
     ]
    },
    {
     "name": "stderr",
     "output_type": "stream",
     "text": [
      "  5%|███████▎                                                                                                                                                | 14/290 [00:55<20:31,  4.46s/it]"
     ]
    },
    {
     "name": "stdout",
     "output_type": "stream",
     "text": [
      "88 0\n",
      "83 0\n",
      "ADNI_002_S_4654_20121023\n",
      "253 225\n",
      "171 136\n",
      "144 106\n",
      "142 86\n",
      "163 80\n",
      "204 84\n",
      "132 93\n",
      "83 41\n",
      "74 26\n",
      "62 11\n"
     ]
    },
    {
     "name": "stderr",
     "output_type": "stream",
     "text": [
      "  5%|███████▊                                                                                                                                                | 15/290 [00:57<18:07,  3.96s/it]"
     ]
    },
    {
     "name": "stdout",
     "output_type": "stream",
     "text": [
      "59 0\n",
      "51 0\n",
      "ADNI_006_S_4150_20111107\n",
      "165 160\n",
      "104 98\n",
      "70 62\n",
      "71 54\n",
      "79 48\n",
      "86 38\n",
      "64 56\n",
      "35 26\n",
      "26 14\n",
      "17 4\n"
     ]
    },
    {
     "name": "stderr",
     "output_type": "stream",
     "text": [
      "  6%|████████▍                                                                                                                                               | 16/290 [00:59<14:47,  3.24s/it]"
     ]
    },
    {
     "name": "stdout",
     "output_type": "stream",
     "text": [
      "18 0\n",
      "9 0\n",
      "ADNI_006_S_4153_20111104\n",
      "174 170\n",
      "113 105\n",
      "106 93\n",
      "108 88\n",
      "104 77\n",
      "115 82\n",
      "106 94\n",
      "93 73\n",
      "88 54\n",
      "74 25\n",
      "76 0\n"
     ]
    },
    {
     "name": "stderr",
     "output_type": "stream",
     "text": [
      "  6%|████████▉                                                                                                                                               | 17/290 [01:01<13:31,  2.97s/it]"
     ]
    },
    {
     "name": "stdout",
     "output_type": "stream",
     "text": [
      "71 0\n",
      "ADNI_006_S_4192_20111215\n",
      "344 312\n",
      "266 222\n",
      "209 149\n",
      "219 127\n",
      "233 111\n",
      "305 118\n",
      "190 136\n",
      "137 76\n",
      "125 59\n",
      "106 29\n"
     ]
    },
    {
     "name": "stderr",
     "output_type": "stream",
     "text": [
      "  6%|█████████▍                                                                                                                                              | 18/290 [01:05<15:02,  3.32s/it]"
     ]
    },
    {
     "name": "stdout",
     "output_type": "stream",
     "text": [
      "97 0\n",
      "83 0\n",
      "ADNI_006_S_4357_20111128\n",
      "167 155\n",
      "126 109\n",
      "98 78\n",
      "113 72\n",
      "136 76\n",
      "144 64\n",
      "89 70\n",
      "65 40\n",
      "58 30\n"
     ]
    },
    {
     "name": "stderr",
     "output_type": "stream",
     "text": [
      "  7%|█████████▉                                                                                                                                              | 19/290 [01:08<13:23,  2.96s/it]"
     ]
    },
    {
     "name": "stdout",
     "output_type": "stream",
     "text": [
      "50 15\n",
      "45 0\n",
      "48 0\n",
      "ADNI_006_S_4363_20111116\n",
      "161 148\n",
      "127 110\n",
      "89 70\n",
      "82 54\n",
      "83 46\n",
      "84 40\n",
      "77 57\n",
      "52 29\n",
      "51 26\n",
      "43 10\n"
     ]
    },
    {
     "name": "stderr",
     "output_type": "stream",
     "text": [
      "  7%|██████████▍                                                                                                                                             | 20/290 [01:09<11:47,  2.62s/it]"
     ]
    },
    {
     "name": "stdout",
     "output_type": "stream",
     "text": [
      "45 0\n",
      "38 0\n",
      "ADNI_006_S_4485_20120824\n",
      "239 213\n",
      "182 149\n",
      "181 133\n",
      "253 141\n",
      "307 139\n",
      "440 176\n",
      "150 108\n",
      "118 68\n",
      "101 40\n",
      "77 12\n",
      "74 0\n"
     ]
    },
    {
     "name": "stderr",
     "output_type": "stream",
     "text": [
      "  7%|███████████                                                                                                                                             | 21/290 [01:13<13:28,  3.00s/it]"
     ]
    },
    {
     "name": "stdout",
     "output_type": "stream",
     "text": [
      "65 0\n",
      "ADNI_006_S_4679_20120601\n",
      "226 211\n",
      "155 133\n",
      "149 116\n",
      "167 90\n",
      "209 93\n",
      "254 102\n",
      "125 99\n",
      "94 61\n",
      "69 30\n",
      "59 14\n"
     ]
    },
    {
     "name": "stderr",
     "output_type": "stream",
     "text": [
      "  8%|███████████▌                                                                                                                                            | 22/290 [01:16<13:17,  2.97s/it]"
     ]
    },
    {
     "name": "stdout",
     "output_type": "stream",
     "text": [
      "53 0\n",
      "51 0\n",
      "ADNI_006_S_4713_20121128\n",
      "152 141\n",
      "116 98\n",
      "108 89\n",
      "110 74\n",
      "124 67\n",
      "156 67\n",
      "92 74\n",
      "75 46\n",
      "67 37\n"
     ]
    },
    {
     "name": "stderr",
     "output_type": "stream",
     "text": [
      "  8%|████████████                                                                                                                                            | 23/290 [01:18<12:08,  2.73s/it]"
     ]
    },
    {
     "name": "stdout",
     "output_type": "stream",
     "text": [
      "46 11\n",
      "48 0\n",
      "46 0\n",
      "ADNI_006_S_4960_20121009\n",
      "245 222\n",
      "218 177\n",
      "236 175\n",
      "248 155\n",
      "277 153\n",
      "315 160\n",
      "205 154\n",
      "177 109\n",
      "163 76\n",
      "157 49\n"
     ]
    },
    {
     "name": "stderr",
     "output_type": "stream",
     "text": [
      "  8%|████████████▌                                                                                                                                           | 24/290 [01:23<14:14,  3.21s/it]"
     ]
    },
    {
     "name": "stdout",
     "output_type": "stream",
     "text": [
      "129 0\n",
      "108 0\n",
      "ADNI_009_S_2208_20101201\n",
      "188 166\n",
      "132 104\n",
      "105 66\n",
      "125 66\n",
      "132 59\n",
      "165 73\n",
      "89 59\n",
      "75 43\n",
      "72 37\n"
     ]
    },
    {
     "name": "stderr",
     "output_type": "stream",
     "text": [
      "  9%|█████████████                                                                                                                                           | 25/290 [01:25<12:54,  2.92s/it]"
     ]
    },
    {
     "name": "stdout",
     "output_type": "stream",
     "text": [
      "54 18\n",
      "39 0\n",
      "34 0\n",
      "ADNI_009_S_4324_20111101\n",
      "186 175\n",
      "128 111\n",
      "116 91\n",
      "139 82\n",
      "139 67\n",
      "165 69\n",
      "97 78\n",
      "65 44\n",
      "51 29\n"
     ]
    },
    {
     "name": "stderr",
     "output_type": "stream",
     "text": [
      "  9%|█████████████▋                                                                                                                                          | 26/290 [01:27<12:03,  2.74s/it]"
     ]
    },
    {
     "name": "stdout",
     "output_type": "stream",
     "text": [
      "53 25\n",
      "37 0\n",
      "27 0\n",
      "ADNI_009_S_4359_20111205\n",
      "127 117\n",
      "86 73\n",
      "73 51\n",
      "101 55\n",
      "126 60\n",
      "157 64\n",
      "69 51\n",
      "53 34\n",
      "45 21\n",
      "46 16\n"
     ]
    },
    {
     "name": "stderr",
     "output_type": "stream",
     "text": [
      "  9%|██████████████▏                                                                                                                                         | 27/290 [01:29<10:53,  2.48s/it]"
     ]
    },
    {
     "name": "stdout",
     "output_type": "stream",
     "text": [
      "47 0\n",
      "45 0\n",
      "ADNI_009_S_4388_20111213\n",
      "161 150\n",
      "128 114\n",
      "96 79\n",
      "109 66\n",
      "127 63\n",
      "168 75\n",
      "84 69\n",
      "73 52\n",
      "47 25\n",
      "38 15\n"
     ]
    },
    {
     "name": "stderr",
     "output_type": "stream",
     "text": [
      " 10%|██████████████▋                                                                                                                                         | 28/290 [01:31<10:15,  2.35s/it]"
     ]
    },
    {
     "name": "stdout",
     "output_type": "stream",
     "text": [
      "25 0\n",
      "23 0\n",
      "ADNI_009_S_4543_20120912\n",
      "123 109\n",
      "89 72\n",
      "89 61\n",
      "117 55\n",
      "152 63\n",
      "217 84\n",
      "73 54\n",
      "71 46\n",
      "65 32\n"
     ]
    },
    {
     "name": "stderr",
     "output_type": "stream",
     "text": [
      " 10%|███████████████▏                                                                                                                                        | 29/290 [01:33<09:55,  2.28s/it]"
     ]
    },
    {
     "name": "stdout",
     "output_type": "stream",
     "text": [
      "48 10\n",
      "45 0\n",
      "37 0\n",
      "ADNI_009_S_4612_20121011\n",
      "172 148\n",
      "166 128\n",
      "175 111\n",
      "298 129\n",
      "438 159\n",
      "594 208\n",
      "144 91\n",
      "135 62\n",
      "136 46\n",
      "132 26\n",
      "127 0\n"
     ]
    },
    {
     "name": "stderr",
     "output_type": "stream",
     "text": [
      " 10%|███████████████▋                                                                                                                                        | 30/290 [01:38<12:56,  2.98s/it]"
     ]
    },
    {
     "name": "stdout",
     "output_type": "stream",
     "text": [
      "118 0\n",
      "ADNI_009_S_4741_20121015\n",
      "222 199\n",
      "161 133\n",
      "150 113\n",
      "146 88\n",
      "171 96\n",
      "222 96\n",
      "137 104\n",
      "101 61\n",
      "80 38\n",
      "64 17\n"
     ]
    },
    {
     "name": "stderr",
     "output_type": "stream",
     "text": [
      " 11%|████████████████▏                                                                                                                                       | 31/290 [01:41<12:42,  2.94s/it]"
     ]
    },
    {
     "name": "stdout",
     "output_type": "stream",
     "text": [
      "58 0\n",
      "58 0\n",
      "ADNI_010_S_4345_20120920\n",
      "191 176\n",
      "134 116\n",
      "132 107\n",
      "136 88\n",
      "161 90\n",
      "207 91\n",
      "106 85\n",
      "74 49\n",
      "71 41\n"
     ]
    },
    {
     "name": "stderr",
     "output_type": "stream",
     "text": [
      " 11%|████████████████▊                                                                                                                                       | 32/290 [01:43<12:03,  2.81s/it]"
     ]
    },
    {
     "name": "stdout",
     "output_type": "stream",
     "text": [
      "46 15\n",
      "34 0\n",
      "33 0\n",
      "ADNI_011_S_0021_20101008\n",
      "225 207\n",
      "195 170\n",
      "146 115\n",
      "137 93\n",
      "137 77\n",
      "153 73\n",
      "139 109\n",
      "83 47\n",
      "67 27\n",
      "68 20\n"
     ]
    },
    {
     "name": "stderr",
     "output_type": "stream",
     "text": [
      " 11%|█████████████████▎                                                                                                                                      | 33/290 [01:46<11:46,  2.75s/it]"
     ]
    },
    {
     "name": "stdout",
     "output_type": "stream",
     "text": [
      "55 0\n",
      "35 0\n",
      "ADNI_011_S_0023_20121227\n",
      "247 230\n",
      "177 155\n",
      "146 116\n",
      "152 89\n",
      "173 91\n",
      "198 92\n",
      "132 105\n",
      "98 68\n",
      "86 51\n",
      "58 19\n"
     ]
    },
    {
     "name": "stderr",
     "output_type": "stream",
     "text": [
      " 12%|█████████████████▊                                                                                                                                      | 34/290 [01:49<11:49,  2.77s/it]"
     ]
    },
    {
     "name": "stdout",
     "output_type": "stream",
     "text": [
      "48 0\n",
      "41 0\n",
      "ADNI_011_S_2274_20110818\n",
      "297 274\n",
      "243 209\n",
      "195 153\n",
      "215 132\n",
      "239 136\n",
      "280 130\n",
      "192 153\n",
      "135 87\n",
      "109 58\n",
      "93 35\n"
     ]
    },
    {
     "name": "stderr",
     "output_type": "stream",
     "text": [
      " 12%|██████████████████▎                                                                                                                                     | 35/290 [01:52<13:04,  3.08s/it]"
     ]
    },
    {
     "name": "stdout",
     "output_type": "stream",
     "text": [
      "78 0\n",
      "60 0\n",
      "ADNI_011_S_4075_20111214\n",
      "184 176\n",
      "111 101\n",
      "91 79\n",
      "88 64\n",
      "104 59\n",
      "155 75\n",
      "86 75\n",
      "64 49\n",
      "48 32\n",
      "32 15\n"
     ]
    },
    {
     "name": "stderr",
     "output_type": "stream",
     "text": [
      " 12%|██████████████████▊                                                                                                                                     | 36/290 [01:54<11:34,  2.73s/it]"
     ]
    },
    {
     "name": "stdout",
     "output_type": "stream",
     "text": [
      "20 0\n",
      "15 0\n",
      "ADNI_011_S_4105_20111005\n",
      "234 219\n",
      "165 148\n",
      "123 99\n",
      "120 74\n",
      "136 77\n",
      "147 71\n",
      "99 81\n",
      "74 55\n",
      "53 30\n"
     ]
    },
    {
     "name": "stderr",
     "output_type": "stream",
     "text": [
      " 13%|███████████████████▍                                                                                                                                    | 37/290 [01:57<11:02,  2.62s/it]"
     ]
    },
    {
     "name": "stdout",
     "output_type": "stream",
     "text": [
      "48 18\n",
      "41 0\n",
      "33 0\n",
      "ADNI_011_S_4120_20111010\n",
      "187 171\n",
      "107 88\n",
      "104 80\n",
      "130 80\n",
      "159 77\n",
      "213 95\n",
      "89 70\n",
      "76 52\n",
      "57 32\n"
     ]
    },
    {
     "name": "stderr",
     "output_type": "stream",
     "text": [
      " 13%|███████████████████▉                                                                                                                                    | 38/290 [01:59<10:38,  2.53s/it]"
     ]
    },
    {
     "name": "stdout",
     "output_type": "stream",
     "text": [
      "50 20\n",
      "44 0\n",
      "32 0\n",
      "ADNI_011_S_4222_20111207\n",
      "176 164\n",
      "127 109\n",
      "120 99\n",
      "136 76\n",
      "158 71\n",
      "224 79\n",
      "103 82\n",
      "70 48\n",
      "52 24\n",
      "36 7\n"
     ]
    },
    {
     "name": "stderr",
     "output_type": "stream",
     "text": [
      " 13%|████████████████████▍                                                                                                                                   | 39/290 [02:01<10:22,  2.48s/it]"
     ]
    },
    {
     "name": "stdout",
     "output_type": "stream",
     "text": [
      "30 0\n",
      "29 0\n",
      "ADNI_011_S_4235_20111219\n",
      "274 261\n",
      "193 172\n",
      "169 142\n",
      "168 116\n",
      "173 105\n",
      "210 102\n",
      "151 123\n",
      "100 68\n",
      "83 41\n",
      "67 18\n"
     ]
    },
    {
     "name": "stderr",
     "output_type": "stream",
     "text": [
      " 14%|████████████████████▉                                                                                                                                   | 40/290 [02:05<11:11,  2.68s/it]"
     ]
    },
    {
     "name": "stdout",
     "output_type": "stream",
     "text": [
      "74 0\n",
      "64 0\n",
      "ADNI_011_S_4278_20111013\n",
      "248 227\n",
      "174 149\n",
      "140 109\n",
      "134 93\n",
      "147 86\n",
      "195 88\n",
      "131 100\n",
      "98 63\n",
      "85 45\n",
      "70 23\n"
     ]
    },
    {
     "name": "stderr",
     "output_type": "stream",
     "text": [
      " 14%|█████████████████████▍                                                                                                                                  | 41/290 [02:07<11:14,  2.71s/it]"
     ]
    },
    {
     "name": "stdout",
     "output_type": "stream",
     "text": [
      "58 0\n",
      "44 0\n",
      "ADNI_011_S_4547_20120912\n",
      "299 276\n",
      "214 187\n",
      "175 137\n",
      "216 136\n",
      "262 132\n",
      "350 143\n",
      "160 129\n",
      "137 95\n",
      "109 63\n",
      "86 33\n"
     ]
    },
    {
     "name": "stderr",
     "output_type": "stream",
     "text": [
      " 14%|██████████████████████                                                                                                                                  | 42/290 [02:11<12:31,  3.03s/it]"
     ]
    },
    {
     "name": "stdout",
     "output_type": "stream",
     "text": [
      "67 0\n",
      "62 0\n",
      "ADNI_012_S_4012_20111107\n",
      "172 160\n",
      "94 82\n",
      "87 69\n",
      "87 58\n",
      "87 50\n",
      "100 49\n",
      "77 57\n",
      "56 33\n",
      "48 23\n",
      "43 15\n",
      "32 0\n"
     ]
    },
    {
     "name": "stderr",
     "output_type": "stream",
     "text": [
      " 15%|██████████████████████▌                                                                                                                                 | 43/290 [02:13<10:55,  2.65s/it]"
     ]
    },
    {
     "name": "stdout",
     "output_type": "stream",
     "text": [
      "31 0\n",
      "ADNI_012_S_4094_20111006\n",
      "181 170\n",
      "111 95\n",
      "95 76\n",
      "89 60\n",
      "77 46\n",
      "87 51\n",
      "92 74\n",
      "65 41\n",
      "51 23\n",
      "36 7\n"
     ]
    },
    {
     "name": "stderr",
     "output_type": "stream",
     "text": [
      " 15%|███████████████████████                                                                                                                                 | 44/290 [02:15<09:48,  2.39s/it]"
     ]
    },
    {
     "name": "stdout",
     "output_type": "stream",
     "text": [
      "32 0\n",
      "22 0\n",
      "ADNI_012_S_4128_20111101\n",
      "238 207\n",
      "233 193\n",
      "212 160\n",
      "238 150\n",
      "259 139\n",
      "344 161\n",
      "189 141\n",
      "162 104\n",
      "143 63\n",
      "128 33\n",
      "119 0\n"
     ]
    },
    {
     "name": "stderr",
     "output_type": "stream",
     "text": [
      " 16%|███████████████████████▌                                                                                                                                | 45/290 [02:19<11:57,  2.93s/it]"
     ]
    },
    {
     "name": "stdout",
     "output_type": "stream",
     "text": [
      "121 0\n",
      "ADNI_012_S_4188_20111213\n",
      "229 196\n",
      "163 122\n",
      "140 89\n",
      "139 73\n",
      "176 79\n",
      "204 84\n",
      "116 72\n",
      "85 39\n",
      "84 30\n",
      "71 14\n"
     ]
    },
    {
     "name": "stderr",
     "output_type": "stream",
     "text": [
      " 16%|████████████████████████                                                                                                                                | 46/290 [02:22<11:42,  2.88s/it]"
     ]
    },
    {
     "name": "stdout",
     "output_type": "stream",
     "text": [
      "64 0\n",
      "48 0\n",
      "ADNI_012_S_4545_20120924\n",
      "226 201\n",
      "165 135\n",
      "143 109\n",
      "139 83\n",
      "154 85\n",
      "205 91\n",
      "128 95\n",
      "89 52\n",
      "67 29\n",
      "55 13\n"
     ]
    },
    {
     "name": "stderr",
     "output_type": "stream",
     "text": [
      " 16%|████████████████████████▋                                                                                                                               | 47/290 [02:24<11:23,  2.81s/it]"
     ]
    },
    {
     "name": "stdout",
     "output_type": "stream",
     "text": [
      "50 0\n",
      "44 0\n",
      "ADNI_012_S_4643_20120627\n",
      "171 160\n",
      "120 106\n",
      "84 67\n",
      "84 59\n",
      "97 56\n",
      "116 53\n",
      "77 61\n",
      "57 38\n",
      "45 25\n",
      "37 15\n"
     ]
    },
    {
     "name": "stderr",
     "output_type": "stream",
     "text": [
      " 17%|█████████████████████████▏                                                                                                                              | 48/290 [02:26<10:07,  2.51s/it]"
     ]
    },
    {
     "name": "stdout",
     "output_type": "stream",
     "text": [
      "22 0\n",
      "17 0\n",
      "ADNI_013_S_1186_20110223\n",
      "222 205\n",
      "149 127\n",
      "128 92\n",
      "179 106\n",
      "244 117\n",
      "327 134\n",
      "120 90\n",
      "88 53\n",
      "66 24\n",
      "62 13\n"
     ]
    },
    {
     "name": "stderr",
     "output_type": "stream",
     "text": [
      " 17%|█████████████████████████▋                                                                                                                              | 49/290 [02:29<10:43,  2.67s/it]"
     ]
    },
    {
     "name": "stdout",
     "output_type": "stream",
     "text": [
      "55 0\n",
      "43 0\n",
      "ADNI_013_S_4268_20111101\n",
      "216 191\n",
      "144 115\n",
      "119 84\n",
      "114 76\n",
      "109 66\n",
      "116 67\n",
      "105 73\n",
      "83 50\n",
      "65 29\n",
      "55 13\n"
     ]
    },
    {
     "name": "stderr",
     "output_type": "stream",
     "text": [
      " 17%|██████████████████████████▏                                                                                                                             | 50/290 [02:32<10:17,  2.57s/it]"
     ]
    },
    {
     "name": "stdout",
     "output_type": "stream",
     "text": [
      "48 0\n",
      "35 0\n",
      "ADNI_013_S_4395_20120815\n",
      "143 125\n",
      "127 100\n",
      "117 80\n",
      "182 96\n",
      "272 115\n",
      "417 152\n",
      "91 54\n",
      "91 43\n",
      "83 28\n",
      "86 26\n",
      "68 0\n"
     ]
    },
    {
     "name": "stderr",
     "output_type": "stream",
     "text": [
      " 18%|██████████████████████████▋                                                                                                                             | 51/290 [02:35<11:13,  2.82s/it]"
     ]
    },
    {
     "name": "stdout",
     "output_type": "stream",
     "text": [
      "65 0\n",
      "ADNI_013_S_4580_20121015\n",
      "258 235\n",
      "213 177\n",
      "171 127\n",
      "178 116\n",
      "204 118\n",
      "259 132\n",
      "160 117\n",
      "140 89\n",
      "116 55\n",
      "91 25\n"
     ]
    },
    {
     "name": "stderr",
     "output_type": "stream",
     "text": [
      " 18%|███████████████████████████▎                                                                                                                            | 52/290 [02:39<12:25,  3.13s/it]"
     ]
    },
    {
     "name": "stdout",
     "output_type": "stream",
     "text": [
      "82 0\n",
      "73 0\n",
      "ADNI_013_S_4595_20121024\n",
      "248 219\n",
      "250 213\n",
      "210 167\n",
      "202 149\n",
      "197 133\n",
      "210 124\n",
      "194 150\n",
      "157 103\n",
      "143 78\n",
      "117 40\n",
      "87 0\n"
     ]
    },
    {
     "name": "stderr",
     "output_type": "stream",
     "text": [
      " 18%|███████████████████████████▊                                                                                                                            | 53/290 [02:43<13:36,  3.45s/it]"
     ]
    },
    {
     "name": "stdout",
     "output_type": "stream",
     "text": [
      "69 0\n",
      "ADNI_013_S_4616_20121025\n",
      "334 304\n",
      "294 243\n",
      "309 219\n",
      "354 201\n",
      "460 221\n",
      "610 262\n",
      "262 192\n",
      "229 143\n",
      "199 95\n",
      "180 57\n",
      "152 0\n"
     ]
    },
    {
     "name": "stderr",
     "output_type": "stream",
     "text": [
      " 19%|████████████████████████████▎                                                                                                                           | 54/290 [02:50<17:32,  4.46s/it]"
     ]
    },
    {
     "name": "stdout",
     "output_type": "stream",
     "text": [
      "144 0\n",
      "ADNI_014_S_2308_20110908\n",
      "300 264\n",
      "209 167\n",
      "199 143\n",
      "238 137\n",
      "272 148\n",
      "320 151\n",
      "173 125\n",
      "135 74\n",
      "128 56\n",
      "109 30\n",
      "88 0\n"
     ]
    },
    {
     "name": "stderr",
     "output_type": "stream",
     "text": [
      " 19%|████████████████████████████▊                                                                                                                           | 55/290 [02:54<17:26,  4.45s/it]"
     ]
    },
    {
     "name": "stdout",
     "output_type": "stream",
     "text": [
      "87 0\n",
      "ADNI_014_S_4039_20111208\n",
      "187 168\n",
      "143 120\n",
      "110 83\n",
      "114 69\n",
      "119 74\n",
      "124 68\n",
      "104 80\n",
      "90 58\n",
      "71 33\n",
      "55 12\n"
     ]
    },
    {
     "name": "stderr",
     "output_type": "stream",
     "text": [
      " 19%|█████████████████████████████▎                                                                                                                          | 56/290 [02:57<14:56,  3.83s/it]"
     ]
    },
    {
     "name": "stdout",
     "output_type": "stream",
     "text": [
      "52 0\n",
      "38 0\n",
      "ADNI_014_S_4058_20111222\n",
      "205 180\n",
      "147 114\n",
      "161 118\n",
      "199 118\n",
      "228 120\n",
      "296 141\n",
      "134 94\n",
      "108 59\n",
      "96 40\n",
      "84 18\n"
     ]
    },
    {
     "name": "stderr",
     "output_type": "stream",
     "text": [
      " 20%|█████████████████████████████▉                                                                                                                          | 57/290 [03:00<14:29,  3.73s/it]"
     ]
    },
    {
     "name": "stdout",
     "output_type": "stream",
     "text": [
      "76 0\n",
      "72 0\n",
      "ADNI_014_S_4079_20111215\n",
      "139 130\n",
      "93 80\n",
      "83 63\n",
      "108 68\n",
      "126 67\n",
      "138 64\n",
      "75 55\n",
      "62 40\n",
      "48 22\n"
     ]
    },
    {
     "name": "stderr",
     "output_type": "stream",
     "text": [
      " 20%|██████████████████████████████▍                                                                                                                         | 58/290 [03:02<12:35,  3.26s/it]"
     ]
    },
    {
     "name": "stdout",
     "output_type": "stream",
     "text": [
      "33 4\n",
      "39 0\n",
      "33 0\n",
      "ADNI_014_S_4263_20111006\n",
      "372 326\n",
      "299 240\n",
      "264 187\n",
      "291 171\n",
      "306 154\n",
      "382 172\n",
      "243 174\n",
      "178 100\n",
      "162 69\n",
      "142 31\n",
      "149 0\n"
     ]
    },
    {
     "name": "stderr",
     "output_type": "stream",
     "text": [
      " 20%|██████████████████████████████▉                                                                                                                         | 59/290 [03:08<15:13,  3.95s/it]"
     ]
    },
    {
     "name": "stdout",
     "output_type": "stream",
     "text": [
      "108 0\n",
      "ADNI_014_S_4328_20111107\n",
      "240 215\n",
      "178 152\n",
      "144 117\n",
      "109 74\n",
      "115 76\n",
      "119 74\n",
      "133 106\n",
      "84 54\n",
      "70 37\n",
      "44 10\n",
      "37 0\n"
     ]
    },
    {
     "name": "stderr",
     "output_type": "stream",
     "text": [
      " 21%|███████████████████████████████▍                                                                                                                        | 60/290 [03:10<13:42,  3.57s/it]"
     ]
    },
    {
     "name": "stdout",
     "output_type": "stream",
     "text": [
      "29 0\n",
      "ADNI_014_S_4401_20111202\n",
      "278 259\n",
      "198 175\n",
      "143 116\n",
      "143 112\n",
      "143 108\n",
      "147 101\n",
      "139 110\n",
      "121 89\n",
      "101 62\n",
      "69 26\n",
      "55 0\n"
     ]
    },
    {
     "name": "stderr",
     "output_type": "stream",
     "text": [
      " 21%|███████████████████████████████▉                                                                                                                        | 61/290 [03:14<13:04,  3.42s/it]"
     ]
    },
    {
     "name": "stdout",
     "output_type": "stream",
     "text": [
      "45 0\n",
      "ADNI_014_S_4576_20120920\n",
      "127 116\n",
      "85 70\n",
      "73 56\n",
      "77 47\n",
      "101 58\n",
      "110 52\n",
      "68 51\n",
      "58 37\n",
      "44 19\n",
      "34 7\n"
     ]
    },
    {
     "name": "stderr",
     "output_type": "stream",
     "text": [
      " 21%|████████████████████████████████▍                                                                                                                       | 62/290 [03:15<11:08,  2.93s/it]"
     ]
    },
    {
     "name": "stdout",
     "output_type": "stream",
     "text": [
      "33 0\n",
      "31 0\n",
      "ADNI_018_S_2155_20101202\n",
      "190 168\n",
      "162 131\n",
      "143 104\n",
      "153 94\n",
      "176 104\n",
      "203 105\n",
      "130 95\n",
      "110 65\n",
      "86 33\n",
      "86 22\n",
      "77 0\n"
     ]
    },
    {
     "name": "stderr",
     "output_type": "stream",
     "text": [
      " 22%|█████████████████████████████████                                                                                                                       | 63/290 [03:18<11:17,  2.98s/it]"
     ]
    },
    {
     "name": "stdout",
     "output_type": "stream",
     "text": [
      "64 0\n",
      "ADNI_018_S_2180_20101209\n",
      "174 158\n",
      "131 111\n",
      "117 94\n",
      "89 62\n",
      "91 55\n",
      "94 54\n",
      "101 79\n",
      "62 38\n",
      "49 23\n",
      "41 10\n",
      "34 0\n"
     ]
    },
    {
     "name": "stderr",
     "output_type": "stream",
     "text": [
      " 22%|█████████████████████████████████▌                                                                                                                      | 64/290 [03:21<10:14,  2.72s/it]"
     ]
    },
    {
     "name": "stdout",
     "output_type": "stream",
     "text": [
      "31 0\n",
      "ADNI_018_S_4313_20111128\n",
      "142 133\n",
      "117 105\n",
      "97 78\n",
      "104 64\n",
      "120 59\n",
      "160 64\n",
      "81 65\n",
      "61 37\n",
      "47 19\n"
     ]
    },
    {
     "name": "stderr",
     "output_type": "stream",
     "text": [
      " 22%|██████████████████████████████████                                                                                                                      | 65/290 [03:23<09:34,  2.55s/it]"
     ]
    },
    {
     "name": "stdout",
     "output_type": "stream",
     "text": [
      "45 12\n",
      "45 0\n",
      "37 0\n",
      "ADNI_018_S_4349_20111115\n",
      "181 157\n",
      "156 119\n",
      "145 90\n",
      "201 95\n",
      "277 121\n",
      "375 140\n",
      "118 78\n",
      "110 61\n",
      "90 37\n",
      "85 24\n",
      "73 0\n"
     ]
    },
    {
     "name": "stderr",
     "output_type": "stream",
     "text": [
      " 23%|██████████████████████████████████▌                                                                                                                     | 66/290 [03:26<10:42,  2.87s/it]"
     ]
    },
    {
     "name": "stdout",
     "output_type": "stream",
     "text": [
      "71 0\n",
      "ADNI_018_S_4399_20111215\n",
      "153 145\n",
      "88 78\n",
      "64 54\n",
      "58 45\n",
      "54 35\n",
      "59 26\n",
      "58 48\n",
      "34 22\n",
      "30 14\n"
     ]
    },
    {
     "name": "stderr",
     "output_type": "stream",
     "text": [
      " 23%|███████████████████████████████████                                                                                                                     | 67/290 [03:28<09:07,  2.45s/it]"
     ]
    },
    {
     "name": "stdout",
     "output_type": "stream",
     "text": [
      "20 2\n",
      "21 0\n",
      "17 0\n",
      "ADNI_018_S_4400_20111220\n",
      "197 173\n",
      "158 130\n",
      "153 117\n",
      "141 98\n",
      "123 76\n",
      "130 71\n",
      "145 110\n",
      "106 64\n",
      "82 34\n",
      "69 14\n",
      "65 0\n"
     ]
    },
    {
     "name": "stderr",
     "output_type": "stream",
     "text": [
      " 23%|███████████████████████████████████▋                                                                                                                    | 68/290 [03:31<09:29,  2.57s/it]"
     ]
    },
    {
     "name": "stdout",
     "output_type": "stream",
     "text": [
      "48 0\n",
      "ADNI_018_S_4809_20121005\n",
      "347 309\n",
      "303 254\n",
      "311 232\n",
      "369 228\n",
      "428 217\n",
      "569 219\n",
      "283 213\n",
      "240 141\n",
      "225 96\n",
      "206 48\n",
      "204 0\n"
     ]
    },
    {
     "name": "stderr",
     "output_type": "stream",
     "text": [
      " 24%|████████████████████████████████████▏                                                                                                                   | 69/290 [03:38<14:11,  3.85s/it]"
     ]
    },
    {
     "name": "stdout",
     "output_type": "stream",
     "text": [
      "180 0\n",
      "ADNI_018_S_4868_20121114\n",
      "258 229\n",
      "189 151\n",
      "181 128\n",
      "182 100\n",
      "213 105\n",
      "246 105\n",
      "151 101\n",
      "113 55\n",
      "100 34\n",
      "94 21\n"
     ]
    },
    {
     "name": "stderr",
     "output_type": "stream",
     "text": [
      " 24%|████████████████████████████████████▋                                                                                                                   | 70/290 [03:41<14:03,  3.83s/it]"
     ]
    },
    {
     "name": "stdout",
     "output_type": "stream",
     "text": [
      "93 0\n",
      "89 0\n",
      "ADNI_018_S_4889_20121114\n",
      "357 315\n",
      "316 253\n",
      "295 206\n",
      "334 199\n",
      "392 203\n",
      "465 197\n",
      "269 190\n",
      "220 119\n",
      "198 78\n",
      "173 35\n",
      "165 0\n"
     ]
    },
    {
     "name": "stderr",
     "output_type": "stream",
     "text": [
      " 24%|█████████████████████████████████████▏                                                                                                                  | 71/290 [03:48<16:45,  4.59s/it]"
     ]
    },
    {
     "name": "stdout",
     "output_type": "stream",
     "text": [
      "147 0\n",
      "ADNI_019_S_4252_20111214\n",
      "225 194\n",
      "177 129\n",
      "186 115\n",
      "253 129\n",
      "322 129\n",
      "411 143\n",
      "152 94\n",
      "147 70\n",
      "147 55\n",
      "139 36\n",
      "120 0\n"
     ]
    },
    {
     "name": "stderr",
     "output_type": "stream",
     "text": [
      " 25%|█████████████████████████████████████▋                                                                                                                  | 72/290 [03:52<16:44,  4.61s/it]"
     ]
    },
    {
     "name": "stdout",
     "output_type": "stream",
     "text": [
      "108 0\n",
      "ADNI_019_S_4285_20111013\n",
      "180 159\n",
      "154 122\n",
      "148 99\n",
      "225 109\n",
      "317 123\n",
      "488 169\n",
      "117 77\n",
      "107 57\n",
      "83 30\n",
      "73 15\n",
      "67 0\n"
     ]
    },
    {
     "name": "stderr",
     "output_type": "stream",
     "text": [
      " 25%|██████████████████████████████████████▎                                                                                                                 | 73/290 [03:56<15:54,  4.40s/it]"
     ]
    },
    {
     "name": "stdout",
     "output_type": "stream",
     "text": [
      "57 0\n",
      "ADNI_019_S_4293_20111020\n",
      "179 153\n",
      "138 107\n",
      "112 75\n",
      "117 69\n",
      "140 75\n",
      "158 78\n",
      "106 69\n",
      "93 54\n",
      "75 31\n",
      "59 11\n"
     ]
    },
    {
     "name": "stderr",
     "output_type": "stream",
     "text": [
      " 26%|██████████████████████████████████████▊                                                                                                                 | 74/290 [03:59<13:55,  3.87s/it]"
     ]
    },
    {
     "name": "stdout",
     "output_type": "stream",
     "text": [
      "52 0\n",
      "45 0\n",
      "ADNI_019_S_4367_20111130\n",
      "255 229\n",
      "206 168\n",
      "200 156\n",
      "206 130\n",
      "240 128\n",
      "312 149\n",
      "172 133\n",
      "143 85\n",
      "124 53\n",
      "116 33\n"
     ]
    },
    {
     "name": "stderr",
     "output_type": "stream",
     "text": [
      " 26%|███████████████████████████████████████▎                                                                                                                | 75/290 [04:03<14:15,  3.98s/it]"
     ]
    },
    {
     "name": "stdout",
     "output_type": "stream",
     "text": [
      "106 0\n",
      "93 0\n",
      "ADNI_019_S_4477_20120807\n",
      "197 170\n",
      "187 147\n",
      "184 126\n",
      "262 139\n",
      "350 163\n",
      "474 178\n",
      "168 119\n",
      "147 77\n",
      "137 53\n",
      "124 21\n",
      "130 0\n"
     ]
    },
    {
     "name": "stderr",
     "output_type": "stream",
     "text": [
      " 26%|███████████████████████████████████████▊                                                                                                                | 76/290 [04:08<15:08,  4.25s/it]"
     ]
    },
    {
     "name": "stdout",
     "output_type": "stream",
     "text": [
      "128 0\n",
      "ADNI_019_S_4680_20121029\n",
      "209 185\n",
      "124 97\n",
      "96 64\n",
      "107 50\n",
      "112 43\n",
      "135 48\n",
      "84 59\n",
      "43 16\n",
      "37 8\n",
      "31 1\n"
     ]
    },
    {
     "name": "stderr",
     "output_type": "stream",
     "text": [
      " 27%|████████████████████████████████████████▎                                                                                                               | 77/290 [04:10<12:53,  3.63s/it]"
     ]
    },
    {
     "name": "stdout",
     "output_type": "stream",
     "text": [
      "34 0\n",
      "30 0\n",
      "ADNI_019_S_4835_20121008\n",
      "183 167\n",
      "169 146\n",
      "141 113\n",
      "120 80\n",
      "119 74\n",
      "118 64\n",
      "129 100\n",
      "99 59\n",
      "81 34\n",
      "73 20\n",
      "56 0\n"
     ]
    },
    {
     "name": "stderr",
     "output_type": "stream",
     "text": [
      " 27%|████████████████████████████████████████▉                                                                                                               | 78/290 [04:13<11:50,  3.35s/it]"
     ]
    },
    {
     "name": "stdout",
     "output_type": "stream",
     "text": [
      "45 0\n",
      "ADNI_022_S_2167_20101102\n",
      "259 232\n",
      "193 156\n",
      "169 122\n",
      "221 125\n",
      "288 137\n",
      "353 138\n",
      "164 122\n",
      "131 76\n",
      "120 63\n",
      "95 29\n"
     ]
    },
    {
     "name": "stderr",
     "output_type": "stream",
     "text": [
      " 27%|█████████████████████████████████████████▍                                                                                                              | 79/290 [04:17<12:39,  3.60s/it]"
     ]
    },
    {
     "name": "stdout",
     "output_type": "stream",
     "text": [
      "81 0\n",
      "61 0\n",
      "ADNI_022_S_2263_20110823\n",
      "249 232\n",
      "198 175\n",
      "196 147\n",
      "261 118\n",
      "318 128\n",
      "381 134\n",
      "149 118\n",
      "94 57\n",
      "72 28\n",
      "67 14\n"
     ]
    },
    {
     "name": "stderr",
     "output_type": "stream",
     "text": [
      " 28%|█████████████████████████████████████████▉                                                                                                              | 80/290 [04:21<12:59,  3.71s/it]"
     ]
    },
    {
     "name": "stdout",
     "output_type": "stream",
     "text": [
      "65 0\n",
      "54 0\n",
      "ADNI_022_S_4173_20110913\n",
      "171 157\n",
      "103 84\n",
      "105 73\n",
      "127 63\n",
      "154 66\n",
      "189 69\n",
      "81 60\n",
      "56 31\n",
      "50 18\n",
      "47 8\n",
      "47 0\n"
     ]
    },
    {
     "name": "stderr",
     "output_type": "stream",
     "text": [
      " 28%|██████████████████████████████████████████▍                                                                                                             | 81/290 [04:23<11:35,  3.33s/it]"
     ]
    },
    {
     "name": "stdout",
     "output_type": "stream",
     "text": [
      "40 0\n",
      "ADNI_022_S_4291_20111122\n",
      "222 204\n",
      "158 133\n",
      "135 101\n",
      "131 74\n",
      "188 84\n",
      "226 86\n",
      "114 82\n",
      "106 57\n",
      "91 34\n",
      "88 19\n",
      "86 0\n"
     ]
    },
    {
     "name": "stderr",
     "output_type": "stream",
     "text": [
      " 28%|██████████████████████████████████████████▉                                                                                                             | 82/290 [04:27<11:30,  3.32s/it]"
     ]
    },
    {
     "name": "stdout",
     "output_type": "stream",
     "text": [
      "73 0\n",
      "ADNI_022_S_4320_20111109\n",
      "210 193\n",
      "134 111\n",
      "126 95\n",
      "137 86\n",
      "153 89\n",
      "175 86\n",
      "122 93\n",
      "83 52\n",
      "72 39\n",
      "56 20\n"
     ]
    },
    {
     "name": "stderr",
     "output_type": "stream",
     "text": [
      " 29%|███████████████████████████████████████████▌                                                                                                            | 83/290 [04:29<10:51,  3.15s/it]"
     ]
    },
    {
     "name": "stdout",
     "output_type": "stream",
     "text": [
      "39 0\n",
      "32 0\n",
      "ADNI_022_S_4444_20120822\n",
      "142 135\n",
      "94 84\n",
      "78 56\n",
      "97 63\n",
      "118 62\n",
      "150 68\n",
      "65 51\n",
      "43 26\n",
      "31 12\n",
      "30 7\n"
     ]
    },
    {
     "name": "stderr",
     "output_type": "stream",
     "text": [
      " 29%|████████████████████████████████████████████                                                                                                            | 84/290 [04:32<09:42,  2.83s/it]"
     ]
    },
    {
     "name": "stdout",
     "output_type": "stream",
     "text": [
      "28 0\n",
      "25 0\n",
      "ADNI_023_S_2068_20101201\n",
      "256 232\n",
      "183 155\n",
      "141 111\n",
      "160 106\n",
      "172 102\n",
      "185 84\n",
      "133 102\n",
      "96 62\n",
      "80 40\n",
      "67 21\n",
      "53 0\n"
     ]
    },
    {
     "name": "stderr",
     "output_type": "stream",
     "text": [
      " 29%|████████████████████████████████████████████▌                                                                                                           | 85/290 [04:35<10:01,  2.93s/it]"
     ]
    },
    {
     "name": "stdout",
     "output_type": "stream",
     "text": [
      "46 0\n",
      "ADNI_023_S_4020_20110803\n",
      "267 240\n",
      "218 176\n",
      "177 126\n",
      "196 111\n",
      "231 111\n",
      "290 123\n",
      "171 121\n",
      "123 66\n",
      "101 39\n",
      "86 21\n"
     ]
    },
    {
     "name": "stderr",
     "output_type": "stream",
     "text": [
      " 30%|█████████████████████████████████████████████                                                                                                           | 86/290 [04:39<11:02,  3.25s/it]"
     ]
    },
    {
     "name": "stdout",
     "output_type": "stream",
     "text": [
      "84 0\n",
      "77 0\n",
      "ADNI_023_S_4035_20110728\n",
      "283 264\n",
      "202 174\n",
      "190 145\n",
      "267 147\n",
      "359 155\n",
      "512 175\n",
      "166 132\n",
      "131 87\n",
      "107 60\n",
      "80 22\n"
     ]
    },
    {
     "name": "stderr",
     "output_type": "stream",
     "text": [
      " 30%|█████████████████████████████████████████████▌                                                                                                          | 87/290 [04:43<12:32,  3.71s/it]"
     ]
    },
    {
     "name": "stdout",
     "output_type": "stream",
     "text": [
      "80 0\n",
      "76 0\n",
      "ADNI_023_S_4115_20111129\n",
      "158 152\n",
      "104 96\n",
      "93 76\n",
      "119 78\n",
      "139 84\n",
      "170 90\n",
      "86 73\n",
      "77 57\n",
      "59 30\n",
      "52 14\n",
      "46 0\n"
     ]
    },
    {
     "name": "stderr",
     "output_type": "stream",
     "text": [
      " 30%|██████████████████████████████████████████████                                                                                                          | 88/290 [04:46<11:08,  3.31s/it]"
     ]
    },
    {
     "name": "stdout",
     "output_type": "stream",
     "text": [
      "41 0\n",
      "ADNI_023_S_4164_20110830\n",
      "313 292\n",
      "223 192\n",
      "180 145\n",
      "169 116\n",
      "186 113\n",
      "219 111\n",
      "177 141\n",
      "133 86\n",
      "119 61\n",
      "118 44\n",
      "84 0\n"
     ]
    },
    {
     "name": "stderr",
     "output_type": "stream",
     "text": [
      " 31%|██████████████████████████████████████████████▋                                                                                                         | 89/290 [04:50<11:30,  3.44s/it]"
     ]
    },
    {
     "name": "stdout",
     "output_type": "stream",
     "text": [
      "70 0\n",
      "ADNI_023_S_4243_20111109\n",
      "377 337\n",
      "286 238\n",
      "241 173\n",
      "328 164\n",
      "442 176\n",
      "637 212\n",
      "194 140\n",
      "156 92\n",
      "149 74\n",
      "109 24\n"
     ]
    },
    {
     "name": "stderr",
     "output_type": "stream",
     "text": [
      " 31%|███████████████████████████████████████████████▏                                                                                                        | 90/290 [04:55<13:49,  4.15s/it]"
     ]
    },
    {
     "name": "stdout",
     "output_type": "stream",
     "text": [
      "101 0\n",
      "90 0\n",
      "ADNI_023_S_4448_20120816\n",
      "147 136\n",
      "109 94\n",
      "98 77\n",
      "97 67\n",
      "98 61\n",
      "102 51\n",
      "100 78\n",
      "65 41\n",
      "47 22\n",
      "37 11\n"
     ]
    },
    {
     "name": "stderr",
     "output_type": "stream",
     "text": [
      " 31%|███████████████████████████████████████████████▋                                                                                                        | 91/290 [04:58<11:45,  3.55s/it]"
     ]
    },
    {
     "name": "stdout",
     "output_type": "stream",
     "text": [
      "31 0\n",
      "28 0\n",
      "ADNI_023_S_4501_20121101\n",
      "295 260\n",
      "259 205\n",
      "239 168\n",
      "266 156\n",
      "308 156\n",
      "358 157\n",
      "225 162\n",
      "182 107\n",
      "154 67\n",
      "127 31\n"
     ]
    },
    {
     "name": "stderr",
     "output_type": "stream",
     "text": [
      " 32%|████████████████████████████████████████████████▏                                                                                                       | 92/290 [05:03<13:05,  3.97s/it]"
     ]
    },
    {
     "name": "stdout",
     "output_type": "stream",
     "text": [
      "112 0\n",
      "97 0\n",
      "ADNI_023_S_4502_20121025\n",
      "149 142\n",
      "123 109\n",
      "115 88\n",
      "132 80\n",
      "171 86\n",
      "235 102\n",
      "96 79\n",
      "77 48\n",
      "60 27\n",
      "56 12\n",
      "62 0\n"
     ]
    },
    {
     "name": "stderr",
     "output_type": "stream",
     "text": [
      " 32%|████████████████████████████████████████████████▋                                                                                                       | 93/290 [05:05<11:49,  3.60s/it]"
     ]
    },
    {
     "name": "stdout",
     "output_type": "stream",
     "text": [
      "56 0\n",
      "ADNI_023_S_4796_20121120\n",
      "266 238\n",
      "214 170\n",
      "217 136\n",
      "297 131\n",
      "387 153\n",
      "510 184\n",
      "153 105\n",
      "120 65\n",
      "102 40\n",
      "90 21\n"
     ]
    },
    {
     "name": "stderr",
     "output_type": "stream",
     "text": [
      " 32%|█████████████████████████████████████████████████▎                                                                                                      | 94/290 [05:10<12:59,  3.98s/it]"
     ]
    },
    {
     "name": "stdout",
     "output_type": "stream",
     "text": [
      "83 0\n",
      "75 0\n",
      "ADNI_024_S_4084_20110916\n",
      "154 145\n",
      "104 91\n",
      "94 73\n",
      "104 66\n",
      "116 68\n",
      "160 80\n",
      "82 64\n",
      "76 50\n",
      "64 37\n"
     ]
    },
    {
     "name": "stderr",
     "output_type": "stream",
     "text": [
      " 33%|█████████████████████████████████████████████████▊                                                                                                      | 95/290 [05:12<11:12,  3.45s/it]"
     ]
    },
    {
     "name": "stdout",
     "output_type": "stream",
     "text": [
      "55 22\n",
      "39 0\n",
      "32 0\n",
      "ADNI_024_S_4158_20111111\n",
      "237 210\n",
      "172 138\n",
      "146 108\n",
      "152 90\n",
      "149 78\n",
      "190 94\n",
      "137 98\n",
      "115 67\n",
      "87 33\n",
      "89 24\n",
      "80 0\n"
     ]
    },
    {
     "name": "stderr",
     "output_type": "stream",
     "text": [
      " 33%|██████████████████████████████████████████████████▎                                                                                                     | 96/290 [05:15<10:52,  3.36s/it]"
     ]
    },
    {
     "name": "stdout",
     "output_type": "stream",
     "text": [
      "79 0\n",
      "ADNI_024_S_4169_20111128\n",
      "235 218\n",
      "187 167\n",
      "140 116\n",
      "122 83\n",
      "124 74\n",
      "155 72\n",
      "136 110\n",
      "78 51\n",
      "68 37\n",
      "46 11\n"
     ]
    },
    {
     "name": "stderr",
     "output_type": "stream",
     "text": [
      " 33%|██████████████████████████████████████████████████▊                                                                                                     | 97/290 [05:18<10:13,  3.18s/it]"
     ]
    },
    {
     "name": "stdout",
     "output_type": "stream",
     "text": [
      "44 0\n",
      "44 0\n",
      "ADNI_024_S_4392_20120709\n",
      "189 178\n",
      "144 127\n",
      "158 99\n",
      "377 138\n",
      "543 165\n",
      "772 228\n",
      "88 70\n",
      "66 39\n",
      "50 17\n",
      "53 12\n",
      "50 0\n"
     ]
    },
    {
     "name": "stderr",
     "output_type": "stream",
     "text": [
      " 34%|███████████████████████████████████████████████████▎                                                                                                    | 98/290 [05:23<11:43,  3.66s/it]"
     ]
    },
    {
     "name": "stdout",
     "output_type": "stream",
     "text": [
      "47 0\n",
      "ADNI_024_S_4674_20121119\n",
      "218 182\n",
      "144 103\n",
      "140 86\n",
      "187 93\n",
      "207 98\n",
      "269 122\n",
      "121 73\n",
      "111 61\n",
      "91 39\n",
      "79 24\n",
      "63 0\n"
     ]
    },
    {
     "name": "stderr",
     "output_type": "stream",
     "text": [
      " 34%|███████████████████████████████████████████████████▉                                                                                                    | 99/290 [05:26<11:17,  3.55s/it]"
     ]
    },
    {
     "name": "stdout",
     "output_type": "stream",
     "text": [
      "53 0\n",
      "ADNI_031_S_2018_20100923\n",
      "215 192\n",
      "187 148\n",
      "161 113\n",
      "220 111\n",
      "303 129\n",
      "390 139\n",
      "141 94\n",
      "113 57\n",
      "102 36\n",
      "92 18\n"
     ]
    },
    {
     "name": "stderr",
     "output_type": "stream",
     "text": [
      " 34%|████████████████████████████████████████████████████                                                                                                   | 100/290 [05:30<11:44,  3.71s/it]"
     ]
    },
    {
     "name": "stdout",
     "output_type": "stream",
     "text": [
      "81 0\n",
      "73 0\n",
      "ADNI_031_S_2022_20101012\n",
      "229 201\n",
      "153 123\n",
      "133 97\n",
      "138 92\n",
      "132 82\n",
      "143 74\n",
      "117 82\n",
      "93 51\n",
      "76 31\n",
      "65 16\n"
     ]
    },
    {
     "name": "stderr",
     "output_type": "stream",
     "text": [
      " 35%|████████████████████████████████████████████████████▌                                                                                                  | 101/290 [05:33<10:46,  3.42s/it]"
     ]
    },
    {
     "name": "stdout",
     "output_type": "stream",
     "text": [
      "56 0\n",
      "50 0\n",
      "ADNI_031_S_2233_20101215\n",
      "145 133\n",
      "130 108\n",
      "131 91\n",
      "163 92\n",
      "189 89\n",
      "236 104\n",
      "124 87\n",
      "108 62\n",
      "89 34\n",
      "81 18\n",
      "79 0\n"
     ]
    },
    {
     "name": "stderr",
     "output_type": "stream",
     "text": [
      " 35%|█████████████████████████████████████████████████████                                                                                                  | 102/290 [05:36<10:22,  3.31s/it]"
     ]
    },
    {
     "name": "stdout",
     "output_type": "stream",
     "text": [
      "61 0\n",
      "ADNI_031_S_4021_20111020\n",
      "255 224\n",
      "213 174\n",
      "172 123\n",
      "150 94\n",
      "145 85\n",
      "153 86\n",
      "158 107\n",
      "128 72\n",
      "104 41\n",
      "85 19\n"
     ]
    },
    {
     "name": "stderr",
     "output_type": "stream",
     "text": [
      " 36%|█████████████████████████████████████████████████████▋                                                                                                 | 103/290 [05:39<10:15,  3.29s/it]"
     ]
    },
    {
     "name": "stdout",
     "output_type": "stream",
     "text": [
      "67 0\n",
      "48 0\n",
      "ADNI_031_S_4032_20111205\n",
      "111 103\n",
      "109 97\n",
      "107 89\n",
      "107 75\n",
      "105 66\n",
      "114 57\n",
      "96 80\n",
      "60 40\n",
      "39 18\n",
      "28 4\n"
     ]
    },
    {
     "name": "stderr",
     "output_type": "stream",
     "text": [
      " 36%|██████████████████████████████████████████████████████▏                                                                                                | 104/290 [05:41<08:56,  2.89s/it]"
     ]
    },
    {
     "name": "stdout",
     "output_type": "stream",
     "text": [
      "28 0\n",
      "23 0\n",
      "ADNI_031_S_4149_20111103\n",
      "226 205\n",
      "173 147\n",
      "166 125\n",
      "208 116\n",
      "306 138\n",
      "388 149\n",
      "141 110\n",
      "108 72\n",
      "90 49\n",
      "81 28\n",
      "59 0\n"
     ]
    },
    {
     "name": "stderr",
     "output_type": "stream",
     "text": [
      " 36%|██████████████████████████████████████████████████████▋                                                                                                | 105/290 [05:45<09:49,  3.19s/it]"
     ]
    },
    {
     "name": "stdout",
     "output_type": "stream",
     "text": [
      "54 0\n",
      "ADNI_031_S_4194_20111201\n",
      "190 181\n",
      "113 102\n",
      "81 66\n",
      "73 55\n",
      "71 50\n",
      "64 41\n",
      "77 62\n",
      "58 37\n",
      "39 18\n",
      "32 5\n"
     ]
    },
    {
     "name": "stderr",
     "output_type": "stream",
     "text": [
      " 37%|███████████████████████████████████████████████████████▏                                                                                               | 106/290 [05:47<08:29,  2.77s/it]"
     ]
    },
    {
     "name": "stdout",
     "output_type": "stream",
     "text": [
      "31 0\n",
      "27 0\n",
      "ADNI_031_S_4203_20111205\n",
      "259 238\n",
      "198 168\n",
      "197 132\n",
      "292 144\n",
      "397 182\n",
      "528 220\n",
      "147 109\n",
      "137 84\n",
      "122 52\n",
      "124 29\n",
      "121 0\n"
     ]
    },
    {
     "name": "stderr",
     "output_type": "stream",
     "text": [
      " 37%|███████████████████████████████████████████████████████▋                                                                                               | 107/290 [05:52<10:34,  3.47s/it]"
     ]
    },
    {
     "name": "stdout",
     "output_type": "stream",
     "text": [
      "131 0\n",
      "ADNI_031_S_4218_20111208\n",
      "328 293\n",
      "258 207\n",
      "239 169\n",
      "326 192\n",
      "401 209\n",
      "493 220\n",
      "213 151\n",
      "191 112\n",
      "172 70\n",
      "156 35\n",
      "147 0\n"
     ]
    },
    {
     "name": "stderr",
     "output_type": "stream",
     "text": [
      " 37%|████████████████████████████████████████████████████████▏                                                                                              | 108/290 [05:58<12:38,  4.17s/it]"
     ]
    },
    {
     "name": "stdout",
     "output_type": "stream",
     "text": [
      "156 0\n",
      "ADNI_031_S_4476_20120817\n",
      "223 201\n",
      "160 132\n",
      "117 84\n",
      "144 68\n",
      "219 92\n",
      "285 90\n",
      "100 74\n",
      "65 35\n",
      "54 23\n",
      "41 9\n",
      "35 0\n"
     ]
    },
    {
     "name": "stderr",
     "output_type": "stream",
     "text": [
      " 38%|████████████████████████████████████████████████████████▊                                                                                              | 109/290 [06:01<11:28,  3.81s/it]"
     ]
    },
    {
     "name": "stdout",
     "output_type": "stream",
     "text": [
      "33 0\n",
      "ADNI_031_S_4496_20120820\n",
      "143 130\n",
      "108 91\n",
      "73 53\n",
      "69 46\n",
      "70 43\n",
      "68 40\n",
      "70 50\n",
      "56 34\n",
      "54 30\n"
     ]
    },
    {
     "name": "stderr",
     "output_type": "stream",
     "text": [
      " 38%|█████████████████████████████████████████████████████████▎                                                                                             | 110/290 [06:03<09:33,  3.18s/it]"
     ]
    },
    {
     "name": "stdout",
     "output_type": "stream",
     "text": [
      "49 22\n",
      "29 0\n",
      "24 0\n",
      "ADNI_031_S_4947_20120928\n",
      "153 142\n",
      "104 90\n",
      "80 61\n",
      "75 45\n",
      "76 41\n",
      "88 42\n",
      "76 57\n",
      "62 37\n",
      "52 25\n"
     ]
    },
    {
     "name": "stderr",
     "output_type": "stream",
     "text": [
      " 38%|█████████████████████████████████████████████████████████▊                                                                                             | 111/290 [06:05<08:19,  2.79s/it]"
     ]
    },
    {
     "name": "stdout",
     "output_type": "stream",
     "text": [
      "48 20\n",
      "36 0\n",
      "32 0\n",
      "ADNI_032_S_2119_20101215\n",
      "160 149\n",
      "121 101\n",
      "119 84\n",
      "193 98\n",
      "298 121\n",
      "399 147\n",
      "91 67\n",
      "74 40\n",
      "58 20\n",
      "60 16\n",
      "53 0\n"
     ]
    },
    {
     "name": "stderr",
     "output_type": "stream",
     "text": [
      " 39%|██████████████████████████████████████████████████████████▎                                                                                            | 112/290 [06:08<08:45,  2.95s/it]"
     ]
    },
    {
     "name": "stdout",
     "output_type": "stream",
     "text": [
      "54 0\n",
      "ADNI_032_S_4277_20111019\n",
      "208 192\n",
      "148 127\n",
      "109 83\n",
      "133 78\n",
      "166 88\n",
      "189 84\n",
      "106 79\n",
      "93 56\n",
      "86 42\n",
      "75 28\n"
     ]
    },
    {
     "name": "stderr",
     "output_type": "stream",
     "text": [
      " 39%|██████████████████████████████████████████████████████████▊                                                                                            | 113/290 [06:11<08:37,  2.93s/it]"
     ]
    },
    {
     "name": "stdout",
     "output_type": "stream",
     "text": [
      "56 0\n",
      "50 0\n",
      "ADNI_032_S_4386_20111213\n",
      "198 185\n",
      "144 124\n",
      "107 79\n",
      "110 66\n",
      "144 76\n",
      "193 80\n",
      "91 67\n",
      "88 57\n",
      "75 41\n"
     ]
    },
    {
     "name": "stderr",
     "output_type": "stream",
     "text": [
      " 39%|███████████████████████████████████████████████████████████▎                                                                                           | 114/290 [06:13<08:18,  2.83s/it]"
     ]
    },
    {
     "name": "stdout",
     "output_type": "stream",
     "text": [
      "58 17\n",
      "47 0\n",
      "37 0\n",
      "ADNI_032_S_4429_20111222\n",
      "183 160\n",
      "142 115\n",
      "110 69\n",
      "150 72\n",
      "204 82\n",
      "300 107\n",
      "85 57\n",
      "64 33\n",
      "62 26\n",
      "48 6\n",
      "49 0\n"
     ]
    },
    {
     "name": "stderr",
     "output_type": "stream",
     "text": [
      " 40%|███████████████████████████████████████████████████████████▉                                                                                           | 115/290 [06:16<08:17,  2.85s/it]"
     ]
    },
    {
     "name": "stdout",
     "output_type": "stream",
     "text": [
      "38 0\n",
      "ADNI_033_S_4176_20130904\n",
      "182 166\n",
      "108 86\n",
      "111 81\n",
      "136 77\n",
      "192 87\n",
      "273 97\n",
      "94 69\n",
      "79 46\n",
      "65 30\n",
      "54 14\n",
      "52 0\n"
     ]
    },
    {
     "name": "stderr",
     "output_type": "stream",
     "text": [
      " 40%|████████████████████████████████████████████████████████████▍                                                                                          | 116/290 [06:19<08:13,  2.84s/it]"
     ]
    },
    {
     "name": "stdout",
     "output_type": "stream",
     "text": [
      "55 0\n",
      "ADNI_033_S_4177_20130911\n",
      "345 299\n",
      "341 261\n",
      "343 216\n",
      "507 262\n",
      "659 284\n",
      "854 317\n",
      "278 186\n",
      "258 141\n",
      "220 86\n",
      "204 48\n",
      "195 0\n"
     ]
    },
    {
     "name": "stderr",
     "output_type": "stream",
     "text": [
      " 40%|████████████████████████████████████████████████████████████▉                                                                                          | 117/290 [06:27<12:43,  4.41s/it]"
     ]
    },
    {
     "name": "stdout",
     "output_type": "stream",
     "text": [
      "167 0\n",
      "ADNI_035_S_4082_20111214\n",
      "305 283\n",
      "218 185\n",
      "214 162\n",
      "227 146\n",
      "253 138\n",
      "326 147\n",
      "175 137\n",
      "125 82\n",
      "100 50\n",
      "83 25\n"
     ]
    },
    {
     "name": "stderr",
     "output_type": "stream",
     "text": [
      " 41%|█████████████████████████████████████████████████████████████▍                                                                                         | 118/290 [06:31<12:24,  4.33s/it]"
     ]
    },
    {
     "name": "stdout",
     "output_type": "stream",
     "text": [
      "69 0\n",
      "69 0\n",
      "ADNI_035_S_4114_20130314\n",
      "199 180\n",
      "172 145\n",
      "151 116\n",
      "153 95\n",
      "163 82\n",
      "185 80\n",
      "145 110\n",
      "95 54\n",
      "81 39\n",
      "63 15\n"
     ]
    },
    {
     "name": "stderr",
     "output_type": "stream",
     "text": [
      " 41%|█████████████████████████████████████████████████████████████▉                                                                                         | 119/290 [06:34<11:10,  3.92s/it]"
     ]
    },
    {
     "name": "stdout",
     "output_type": "stream",
     "text": [
      "56 0\n",
      "48 0\n",
      "ADNI_035_S_4464_20120803\n",
      "227 211\n",
      "143 123\n",
      "110 84\n",
      "91 60\n",
      "98 57\n",
      "107 56\n",
      "90 69\n",
      "65 41\n",
      "52 24\n"
     ]
    },
    {
     "name": "stderr",
     "output_type": "stream",
     "text": [
      " 41%|██████████████████████████████████████████████████████████████▍                                                                                        | 120/290 [06:36<09:39,  3.41s/it]"
     ]
    },
    {
     "name": "stdout",
     "output_type": "stream",
     "text": [
      "36 6\n",
      "31 0\n",
      "32 0\n",
      "ADNI_035_S_4582_20120924\n",
      "231 209\n",
      "156 130\n",
      "124 94\n",
      "126 73\n",
      "139 69\n",
      "173 80\n",
      "108 78\n",
      "85 53\n",
      "68 32\n",
      "55 14\n"
     ]
    },
    {
     "name": "stderr",
     "output_type": "stream",
     "text": [
      " 42%|███████████████████████████████████████████████████████████████                                                                                        | 121/290 [06:39<08:59,  3.19s/it]"
     ]
    },
    {
     "name": "stdout",
     "output_type": "stream",
     "text": [
      "44 0\n",
      "38 0\n",
      "ADNI_035_S_4784_20121025\n",
      "179 144\n",
      "144 102\n",
      "139 87\n",
      "210 100\n",
      "291 126\n",
      "373 139\n",
      "115 71\n",
      "97 48\n",
      "71 21\n",
      "60 9\n"
     ]
    },
    {
     "name": "stderr",
     "output_type": "stream",
     "text": [
      " 42%|███████████████████████████████████████████████████████████████▌                                                                                       | 122/290 [06:43<09:09,  3.27s/it]"
     ]
    },
    {
     "name": "stdout",
     "output_type": "stream",
     "text": [
      "57 0\n",
      "53 0\n",
      "ADNI_036_S_4389_20111207\n",
      "193 183\n",
      "139 123\n",
      "114 92\n",
      "108 76\n",
      "127 76\n",
      "139 75\n",
      "109 86\n",
      "88 58\n",
      "70 37\n",
      "54 15\n"
     ]
    },
    {
     "name": "stderr",
     "output_type": "stream",
     "text": [
      " 42%|████████████████████████████████████████████████████████████████                                                                                       | 123/290 [06:45<08:28,  3.05s/it]"
     ]
    },
    {
     "name": "stdout",
     "output_type": "stream",
     "text": [
      "46 0\n",
      "44 0\n",
      "ADNI_036_S_4430_20111223\n",
      "239 213\n",
      "163 132\n",
      "161 116\n",
      "200 101\n",
      "232 97\n",
      "271 99\n",
      "138 102\n",
      "97 55\n",
      "85 41\n",
      "68 19\n"
     ]
    },
    {
     "name": "stderr",
     "output_type": "stream",
     "text": [
      " 43%|████████████████████████████████████████████████████████████████▌                                                                                      | 124/290 [06:49<08:44,  3.16s/it]"
     ]
    },
    {
     "name": "stdout",
     "output_type": "stream",
     "text": [
      "61 0\n",
      "47 0\n",
      "ADNI_036_S_4491_20120809\n",
      "163 149\n",
      "142 117\n",
      "141 91\n",
      "149 71\n",
      "173 64\n",
      "247 88\n",
      "108 74\n",
      "77 35\n",
      "77 27\n",
      "73 20\n"
     ]
    },
    {
     "name": "stderr",
     "output_type": "stream",
     "text": [
      " 43%|█████████████████████████████████████████████████████████████████                                                                                      | 125/290 [06:51<08:29,  3.09s/it]"
     ]
    },
    {
     "name": "stdout",
     "output_type": "stream",
     "text": [
      "60 0\n",
      "57 0\n",
      "ADNI_036_S_4538_20121101\n",
      "155 135\n",
      "118 95\n",
      "89 63\n",
      "76 46\n",
      "76 40\n",
      "81 37\n",
      "81 57\n",
      "50 24\n",
      "36 8\n",
      "35 5\n"
     ]
    },
    {
     "name": "stderr",
     "output_type": "stream",
     "text": [
      " 43%|█████████████████████████████████████████████████████████████████▌                                                                                     | 126/290 [06:53<07:22,  2.70s/it]"
     ]
    },
    {
     "name": "stdout",
     "output_type": "stream",
     "text": [
      "33 0\n",
      "29 0\n",
      "ADNI_036_S_4562_20121009\n",
      "219 202\n",
      "150 129\n",
      "113 84\n",
      "127 63\n",
      "158 73\n",
      "205 85\n",
      "86 63\n",
      "65 37\n",
      "59 24\n",
      "55 11\n",
      "57 0\n"
     ]
    },
    {
     "name": "stderr",
     "output_type": "stream",
     "text": [
      " 44%|██████████████████████████████████████████████████████████████████▏                                                                                    | 127/290 [06:56<07:20,  2.70s/it]"
     ]
    },
    {
     "name": "stdout",
     "output_type": "stream",
     "text": [
      "37 0\n",
      "ADNI_036_S_4714_20121204\n",
      "113 101\n",
      "82 63\n",
      "67 45\n",
      "69 40\n",
      "83 49\n",
      "92 45\n",
      "62 41\n",
      "54 30\n",
      "41 17\n",
      "30 6\n",
      "28 0\n"
     ]
    },
    {
     "name": "stderr",
     "output_type": "stream",
     "text": [
      " 44%|██████████████████████████████████████████████████████████████████▋                                                                                    | 128/290 [06:58<06:25,  2.38s/it]"
     ]
    },
    {
     "name": "stdout",
     "output_type": "stream",
     "text": [
      "24 0\n",
      "ADNI_036_S_4715_20121127\n",
      "169 150\n",
      "127 104\n",
      "111 83\n",
      "103 62\n",
      "122 63\n",
      "132 63\n",
      "92 67\n",
      "65 37\n",
      "53 19\n",
      "54 15\n",
      "51 0\n"
     ]
    },
    {
     "name": "stderr",
     "output_type": "stream",
     "text": [
      " 44%|███████████████████████████████████████████████████████████████████▏                                                                                   | 129/290 [07:00<06:19,  2.36s/it]"
     ]
    },
    {
     "name": "stdout",
     "output_type": "stream",
     "text": [
      "48 0\n",
      "ADNI_036_S_4736_20121206\n",
      "386 349\n",
      "301 247\n",
      "255 168\n",
      "412 200\n",
      "583 232\n",
      "831 294\n",
      "217 149\n",
      "211 126\n",
      "173 70\n",
      "168 52\n",
      "144 0\n"
     ]
    },
    {
     "name": "stderr",
     "output_type": "stream",
     "text": [
      " 45%|███████████████████████████████████████████████████████████████████▋                                                                                   | 130/290 [07:07<10:09,  3.81s/it]"
     ]
    },
    {
     "name": "stdout",
     "output_type": "stream",
     "text": [
      "137 0\n",
      "ADNI_036_S_4878_20121019\n",
      "145 135\n",
      "106 93\n",
      "82 64\n",
      "87 63\n",
      "89 55\n",
      "105 58\n",
      "74 59\n",
      "62 45\n",
      "50 28\n",
      "32 7\n"
     ]
    },
    {
     "name": "stderr",
     "output_type": "stream",
     "text": [
      " 45%|████████████████████████████████████████████████████████████████████▏                                                                                  | 131/290 [07:09<08:33,  3.23s/it]"
     ]
    },
    {
     "name": "stdout",
     "output_type": "stream",
     "text": [
      "32 0\n",
      "26 0\n",
      "ADNI_037_S_0501_20130422\n",
      "334 301\n",
      "259 215\n",
      "237 178\n",
      "250 160\n",
      "256 146\n",
      "272 139\n",
      "213 162\n",
      "160 100\n",
      "115 46\n",
      "100 17\n",
      "106 0\n"
     ]
    },
    {
     "name": "stderr",
     "output_type": "stream",
     "text": [
      " 46%|████████████████████████████████████████████████████████████████████▋                                                                                  | 132/290 [07:14<09:32,  3.62s/it]"
     ]
    },
    {
     "name": "stdout",
     "output_type": "stream",
     "text": [
      "103 0\n",
      "ADNI_037_S_0566_20150729\n",
      "347 310\n",
      "296 236\n",
      "288 199\n",
      "379 210\n",
      "455 227\n",
      "578 247\n",
      "245 182\n",
      "198 119\n",
      "181 84\n",
      "146 33\n",
      "141 0\n"
     ]
    },
    {
     "name": "stderr",
     "output_type": "stream",
     "text": [
      " 46%|█████████████████████████████████████████████████████████████████████▎                                                                                 | 133/290 [07:20<11:37,  4.45s/it]"
     ]
    },
    {
     "name": "stdout",
     "output_type": "stream",
     "text": [
      "137 0\n",
      "ADNI_037_S_4015_20150408\n",
      "263 232\n",
      "255 217\n",
      "256 199\n",
      "348 196\n",
      "437 208\n",
      "593 240\n",
      "228 181\n",
      "194 134\n",
      "141 70\n",
      "120 36\n",
      "117 0\n"
     ]
    },
    {
     "name": "stderr",
     "output_type": "stream",
     "text": [
      " 46%|█████████████████████████████████████████████████████████████████████▊                                                                                 | 134/290 [07:26<12:35,  4.85s/it]"
     ]
    },
    {
     "name": "stdout",
     "output_type": "stream",
     "text": [
      "105 0\n",
      "ADNI_037_S_4028_20150604\n",
      "129 107\n",
      "112 82\n",
      "151 92\n",
      "195 87\n",
      "234 96\n",
      "284 108\n",
      "101 69\n",
      "80 43\n",
      "70 27\n",
      "63 15\n"
     ]
    },
    {
     "name": "stderr",
     "output_type": "stream",
     "text": [
      " 47%|██████████████████████████████████████████████████████████████████████▎                                                                                | 135/290 [07:29<11:06,  4.30s/it]"
     ]
    },
    {
     "name": "stdout",
     "output_type": "stream",
     "text": [
      "59 0\n",
      "48 0\n",
      "ADNI_037_S_4030_20150527\n",
      "243 227\n",
      "143 124\n",
      "134 98\n",
      "188 89\n",
      "251 85\n",
      "353 105\n",
      "109 84\n",
      "62 31\n",
      "62 30\n",
      "52 13\n"
     ]
    },
    {
     "name": "stderr",
     "output_type": "stream",
     "text": [
      " 47%|██████████████████████████████████████████████████████████████████████▊                                                                                | 136/290 [07:32<10:17,  4.01s/it]"
     ]
    },
    {
     "name": "stdout",
     "output_type": "stream",
     "text": [
      "47 0\n",
      "44 0\n",
      "ADNI_037_S_4071_20151111\n",
      "327 282\n",
      "279 214\n",
      "269 181\n",
      "374 177\n",
      "507 216\n",
      "691 252\n",
      "231 158\n",
      "197 104\n",
      "184 76\n",
      "159 37\n",
      "145 0\n"
     ]
    },
    {
     "name": "stderr",
     "output_type": "stream",
     "text": [
      " 47%|███████████████████████████████████████████████████████████████████████▎                                                                               | 137/290 [07:39<12:12,  4.79s/it]"
     ]
    },
    {
     "name": "stdout",
     "output_type": "stream",
     "text": [
      "133 0\n",
      "ADNI_037_S_4146_20150902\n",
      "256 231\n",
      "165 134\n",
      "136 94\n",
      "147 79\n",
      "175 84\n",
      "191 86\n",
      "123 84\n",
      "97 53\n",
      "101 46\n",
      "87 22\n"
     ]
    },
    {
     "name": "stderr",
     "output_type": "stream",
     "text": [
      " 48%|███████████████████████████████████████████████████████████████████████▊                                                                               | 138/290 [07:42<10:54,  4.30s/it]"
     ]
    },
    {
     "name": "stdout",
     "output_type": "stream",
     "text": [
      "76 0\n",
      "56 0\n",
      "ADNI_037_S_4214_20151016\n",
      "292 272\n",
      "199 174\n",
      "141 111\n",
      "138 94\n",
      "157 97\n",
      "190 103\n",
      "127 97\n",
      "107 70\n",
      "86 44\n",
      "65 16\n",
      "63 0\n"
     ]
    },
    {
     "name": "stderr",
     "output_type": "stream",
     "text": [
      " 48%|████████████████████████████████████████████████████████████████████████▍                                                                              | 139/290 [07:45<09:59,  3.97s/it]"
     ]
    },
    {
     "name": "stdout",
     "output_type": "stream",
     "text": [
      "52 0\n",
      "ADNI_037_S_4302_20131211\n",
      "283 247\n",
      "224 180\n",
      "201 141\n",
      "208 121\n",
      "240 109\n",
      "303 121\n",
      "195 140\n",
      "129 69\n",
      "119 52\n",
      "102 26\n",
      "84 0\n"
     ]
    },
    {
     "name": "stderr",
     "output_type": "stream",
     "text": [
      " 48%|████████████████████████████████████████████████████████████████████████▉                                                                              | 140/290 [07:49<10:05,  4.04s/it]"
     ]
    },
    {
     "name": "stdout",
     "output_type": "stream",
     "text": [
      "87 0\n",
      "ADNI_037_S_4308_20140409\n",
      "170 158\n",
      "141 123\n",
      "106 86\n",
      "82 59\n",
      "81 54\n",
      "74 39\n",
      "88 68\n",
      "57 34\n",
      "48 21\n",
      "40 7\n",
      "42 0\n"
     ]
    },
    {
     "name": "stderr",
     "output_type": "stream",
     "text": [
      " 49%|█████████████████████████████████████████████████████████████████████████▍                                                                             | 141/290 [07:51<08:30,  3.43s/it]"
     ]
    },
    {
     "name": "stdout",
     "output_type": "stream",
     "text": [
      "38 0\n",
      "ADNI_037_S_4381_20140321\n",
      "309 272\n",
      "222 179\n",
      "185 133\n",
      "175 104\n",
      "167 91\n",
      "170 82\n",
      "167 121\n",
      "117 64\n",
      "102 45\n",
      "85 26\n"
     ]
    },
    {
     "name": "stderr",
     "output_type": "stream",
     "text": [
      " 49%|█████████████████████████████████████████████████████████████████████████▉                                                                             | 142/290 [07:55<08:31,  3.46s/it]"
     ]
    },
    {
     "name": "stdout",
     "output_type": "stream",
     "text": [
      "66 0\n",
      "57 0\n",
      "ADNI_037_S_4410_20140115\n",
      "157 139\n",
      "97 79\n",
      "76 56\n",
      "73 40\n",
      "84 39\n",
      "102 41\n",
      "62 43\n",
      "45 24\n",
      "44 21\n",
      "33 7\n",
      "30 0\n"
     ]
    },
    {
     "name": "stderr",
     "output_type": "stream",
     "text": [
      " 49%|██████████████████████████████████████████████████████████████████████████▍                                                                            | 143/290 [07:56<07:14,  2.96s/it]"
     ]
    },
    {
     "name": "stdout",
     "output_type": "stream",
     "text": [
      "27 0\n",
      "ADNI_037_S_4706_20140512\n",
      "227 212\n",
      "142 123\n",
      "113 90\n",
      "104 70\n",
      "110 60\n",
      "124 62\n",
      "101 79\n",
      "72 46\n",
      "65 34\n",
      "54 15\n"
     ]
    },
    {
     "name": "stderr",
     "output_type": "stream",
     "text": [
      " 50%|██████████████████████████████████████████████████████████████████████████▉                                                                            | 144/290 [07:59<06:49,  2.80s/it]"
     ]
    },
    {
     "name": "stdout",
     "output_type": "stream",
     "text": [
      "50 0\n",
      "46 0\n",
      "ADNI_041_S_4004_20140428\n",
      "237 222\n",
      "144 125\n",
      "131 105\n",
      "159 101\n",
      "181 101\n",
      "205 92\n",
      "118 99\n",
      "84 61\n",
      "60 28\n",
      "62 19\n"
     ]
    },
    {
     "name": "stderr",
     "output_type": "stream",
     "text": [
      " 50%|███████████████████████████████████████████████████████████████████████████▌                                                                           | 145/290 [08:02<06:52,  2.85s/it]"
     ]
    },
    {
     "name": "stdout",
     "output_type": "stream",
     "text": [
      "55 0\n",
      "49 0\n",
      "ADNI_041_S_4014_20111202\n",
      "282 262\n",
      "229 196\n",
      "224 184\n",
      "215 159\n",
      "214 145\n",
      "244 153\n",
      "215 176\n",
      "165 118\n",
      "138 78\n",
      "129 54\n",
      "95 0\n"
     ]
    },
    {
     "name": "stderr",
     "output_type": "stream",
     "text": [
      " 50%|████████████████████████████████████████████████████████████████████████████                                                                           | 146/290 [08:06<07:51,  3.27s/it]"
     ]
    },
    {
     "name": "stdout",
     "output_type": "stream",
     "text": [
      "62 0\n",
      "ADNI_041_S_4037_20111205\n",
      "207 196\n",
      "155 143\n",
      "106 92\n",
      "99 81\n",
      "93 74\n",
      "82 59\n",
      "96 82\n",
      "71 54\n",
      "48 30\n",
      "36 12\n",
      "27 0\n"
     ]
    },
    {
     "name": "stderr",
     "output_type": "stream",
     "text": [
      " 51%|████████████████████████████████████████████████████████████████████████████▌                                                                          | 147/290 [08:08<06:59,  2.93s/it]"
     ]
    },
    {
     "name": "stdout",
     "output_type": "stream",
     "text": [
      "23 0\n",
      "ADNI_041_S_4041_20111213\n",
      "166 151\n",
      "115 96\n",
      "85 62\n",
      "80 48\n",
      "81 44\n",
      "79 35\n",
      "87 63\n",
      "53 27\n",
      "45 15\n",
      "39 6\n"
     ]
    },
    {
     "name": "stderr",
     "output_type": "stream",
     "text": [
      " 51%|█████████████████████████████████████████████████████████████████████████████                                                                          | 148/290 [08:10<06:12,  2.62s/it]"
     ]
    },
    {
     "name": "stdout",
     "output_type": "stream",
     "text": [
      "39 0\n",
      "27 0\n",
      "ADNI_041_S_4051_20110923\n",
      "366 316\n",
      "299 232\n",
      "262 165\n",
      "331 159\n",
      "401 174\n",
      "530 209\n",
      "222 145\n",
      "183 91\n",
      "171 68\n",
      "170 57\n",
      "133 0\n"
     ]
    },
    {
     "name": "stderr",
     "output_type": "stream",
     "text": [
      " 51%|█████████████████████████████████████████████████████████████████████████████▌                                                                         | 149/290 [08:16<08:31,  3.63s/it]"
     ]
    },
    {
     "name": "stdout",
     "output_type": "stream",
     "text": [
      "124 0\n",
      "ADNI_041_S_4060_20111212\n",
      "236 203\n",
      "188 148\n",
      "183 117\n",
      "279 133\n",
      "351 135\n",
      "435 159\n",
      "146 100\n",
      "108 58\n",
      "100 42\n",
      "81 20\n"
     ]
    },
    {
     "name": "stderr",
     "output_type": "stream",
     "text": [
      " 52%|██████████████████████████████████████████████████████████████████████████████                                                                         | 150/290 [08:20<08:54,  3.82s/it]"
     ]
    },
    {
     "name": "stdout",
     "output_type": "stream",
     "text": [
      "71 0\n",
      "55 0\n",
      "ADNI_041_S_4138_20111021\n",
      "147 134\n",
      "113 92\n",
      "127 82\n",
      "206 90\n",
      "340 122\n",
      "553 171\n",
      "89 63\n",
      "82 47\n",
      "82 43\n",
      "69 24\n",
      "60 0\n"
     ]
    },
    {
     "name": "stderr",
     "output_type": "stream",
     "text": [
      " 52%|██████████████████████████████████████████████████████████████████████████████▌                                                                        | 151/290 [08:24<08:46,  3.79s/it]"
     ]
    },
    {
     "name": "stdout",
     "output_type": "stream",
     "text": [
      "43 0\n",
      "ADNI_041_S_4143_20111122\n",
      "203 186\n",
      "140 119\n",
      "127 92\n",
      "149 78\n",
      "179 72\n",
      "230 84\n",
      "103 81\n",
      "64 39\n",
      "56 28\n",
      "50 18\n",
      "37 0\n"
     ]
    },
    {
     "name": "stderr",
     "output_type": "stream",
     "text": [
      " 52%|███████████████████████████████████████████████████████████████████████████████▏                                                                       | 152/290 [08:27<07:59,  3.47s/it]"
     ]
    },
    {
     "name": "stdout",
     "output_type": "stream",
     "text": [
      "30 0\n",
      "ADNI_041_S_4200_20111219\n",
      "233 200\n",
      "170 131\n",
      "156 104\n",
      "208 120\n",
      "231 127\n",
      "273 140\n",
      "128 85\n",
      "114 65\n",
      "88 34\n",
      "78 18\n",
      "69 0\n"
     ]
    },
    {
     "name": "stderr",
     "output_type": "stream",
     "text": [
      " 53%|███████████████████████████████████████████████████████████████████████████████▋                                                                       | 153/290 [08:30<07:56,  3.48s/it]"
     ]
    },
    {
     "name": "stdout",
     "output_type": "stream",
     "text": [
      "61 0\n",
      "ADNI_041_S_4271_20111007\n",
      "254 234\n",
      "169 146\n",
      "133 107\n",
      "118 85\n",
      "104 69\n",
      "120 74\n",
      "132 106\n",
      "98 64\n",
      "77 39\n",
      "59 17\n"
     ]
    },
    {
     "name": "stderr",
     "output_type": "stream",
     "text": [
      " 53%|████████████████████████████████████████████████████████████████████████████████▏                                                                      | 154/290 [08:33<07:22,  3.25s/it]"
     ]
    },
    {
     "name": "stdout",
     "output_type": "stream",
     "text": [
      "59 0\n",
      "48 0\n",
      "ADNI_041_S_4427_20111219\n",
      "241 222\n",
      "179 152\n",
      "169 131\n",
      "206 119\n",
      "247 118\n",
      "315 128\n",
      "153 119\n",
      "124 78\n",
      "120 55\n",
      "110 26\n",
      "94 0\n"
     ]
    },
    {
     "name": "stderr",
     "output_type": "stream",
     "text": [
      " 53%|████████████████████████████████████████████████████████████████████████████████▋                                                                      | 155/290 [08:37<07:47,  3.46s/it]"
     ]
    },
    {
     "name": "stdout",
     "output_type": "stream",
     "text": [
      "82 0\n",
      "ADNI_041_S_4510_20120910\n",
      "160 150\n",
      "121 105\n",
      "98 77\n",
      "97 66\n",
      "108 70\n",
      "113 60\n",
      "92 76\n",
      "56 36\n",
      "48 25\n",
      "35 10\n"
     ]
    },
    {
     "name": "stderr",
     "output_type": "stream",
     "text": [
      " 54%|█████████████████████████████████████████████████████████████████████████████████▏                                                                     | 156/290 [08:39<06:47,  3.04s/it]"
     ]
    },
    {
     "name": "stdout",
     "output_type": "stream",
     "text": [
      "34 0\n",
      "28 0\n",
      "ADNI_041_S_4513_20120905\n",
      "309 286\n",
      "225 198\n",
      "189 159\n",
      "142 104\n",
      "144 97\n",
      "135 82\n",
      "182 151\n",
      "109 73\n",
      "74 36\n"
     ]
    },
    {
     "name": "stderr",
     "output_type": "stream",
     "text": [
      " 54%|█████████████████████████████████████████████████████████████████████████████████▋                                                                     | 157/290 [08:42<06:51,  3.09s/it]"
     ]
    },
    {
     "name": "stdout",
     "output_type": "stream",
     "text": [
      "61 19\n",
      "45 0\n",
      "39 0\n",
      "ADNI_041_S_4720_20121109\n",
      "205 199\n",
      "119 106\n",
      "133 96\n",
      "228 112\n",
      "292 120\n",
      "370 135\n",
      "93 78\n",
      "73 50\n",
      "70 40\n",
      "55 20\n"
     ]
    },
    {
     "name": "stderr",
     "output_type": "stream",
     "text": [
      " 54%|██████████████████████████████████████████████████████████████████████████████████▎                                                                    | 158/290 [08:46<07:01,  3.19s/it]"
     ]
    },
    {
     "name": "stdout",
     "output_type": "stream",
     "text": [
      "44 0\n",
      "36 0\n",
      "ADNI_041_S_4874_20121105\n",
      "131 122\n",
      "101 87\n",
      "95 78\n",
      "78 53\n",
      "91 54\n",
      "106 55\n",
      "89 74\n",
      "60 38\n",
      "49 23\n"
     ]
    },
    {
     "name": "stderr",
     "output_type": "stream",
     "text": [
      " 55%|██████████████████████████████████████████████████████████████████████████████████▊                                                                    | 159/290 [08:48<06:08,  2.81s/it]"
     ]
    },
    {
     "name": "stdout",
     "output_type": "stream",
     "text": [
      "47 15\n",
      "38 0\n",
      "30 0\n",
      "ADNI_041_S_4876_20121106\n",
      "300 281\n",
      "197 165\n",
      "206 142\n",
      "345 146\n",
      "508 196\n",
      "719 270\n",
      "140 109\n",
      "114 76\n",
      "90 47\n",
      "71 21\n",
      "62 0\n"
     ]
    },
    {
     "name": "stderr",
     "output_type": "stream",
     "text": [
      " 55%|███████████████████████████████████████████████████████████████████████████████████▎                                                                   | 160/290 [08:53<07:44,  3.58s/it]"
     ]
    },
    {
     "name": "stdout",
     "output_type": "stream",
     "text": [
      "57 0\n",
      "ADNI_041_S_4877_20121212\n",
      "252 225\n",
      "185 150\n",
      "173 119\n",
      "203 96\n",
      "253 109\n",
      "319 134\n",
      "135 96\n",
      "110 67\n",
      "83 32\n",
      "78 17\n",
      "66 0\n"
     ]
    },
    {
     "name": "stderr",
     "output_type": "stream",
     "text": [
      " 56%|███████████████████████████████████████████████████████████████████████████████████▊                                                                   | 161/290 [08:57<07:49,  3.64s/it]"
     ]
    },
    {
     "name": "stdout",
     "output_type": "stream",
     "text": [
      "62 0\n",
      "ADNI_041_S_4974_20121015\n",
      "227 217\n",
      "200 175\n",
      "184 137\n",
      "230 132\n",
      "305 150\n",
      "431 177\n",
      "121 99\n",
      "96 69\n",
      "67 36\n",
      "64 23\n"
     ]
    },
    {
     "name": "stderr",
     "output_type": "stream",
     "text": [
      " 56%|████████████████████████████████████████████████████████████████████████████████████▎                                                                  | 162/290 [09:01<07:58,  3.74s/it]"
     ]
    },
    {
     "name": "stdout",
     "output_type": "stream",
     "text": [
      "49 0\n",
      "38 0\n",
      "ADNI_041_S_4989_20121019\n",
      "172 161\n",
      "130 110\n",
      "108 82\n",
      "112 78\n",
      "124 66\n",
      "153 70\n",
      "94 72\n",
      "71 41\n",
      "63 23\n",
      "57 13\n",
      "58 0\n"
     ]
    },
    {
     "name": "stderr",
     "output_type": "stream",
     "text": [
      " 56%|████████████████████████████████████████████████████████████████████████████████████▊                                                                  | 163/290 [09:03<07:10,  3.39s/it]"
     ]
    },
    {
     "name": "stdout",
     "output_type": "stream",
     "text": [
      "51 0\n",
      "ADNI_053_S_4578_20121003\n",
      "239 210\n",
      "195 155\n",
      "176 115\n",
      "222 105\n",
      "304 125\n",
      "414 157\n",
      "148 104\n",
      "126 72\n",
      "101 44\n",
      "93 22\n"
     ]
    },
    {
     "name": "stderr",
     "output_type": "stream",
     "text": [
      " 57%|█████████████████████████████████████████████████████████████████████████████████████▍                                                                 | 164/290 [09:08<07:41,  3.66s/it]"
     ]
    },
    {
     "name": "stdout",
     "output_type": "stream",
     "text": [
      "84 0\n",
      "75 0\n",
      "ADNI_053_S_4661_20120528\n",
      "150 143\n",
      "89 81\n",
      "68 58\n",
      "55 41\n",
      "51 34\n",
      "54 27\n",
      "54 43\n",
      "35 22\n",
      "34 18\n"
     ]
    },
    {
     "name": "stderr",
     "output_type": "stream",
     "text": [
      " 57%|█████████████████████████████████████████████████████████████████████████████████████▉                                                                 | 165/290 [09:09<06:15,  3.01s/it]"
     ]
    },
    {
     "name": "stdout",
     "output_type": "stream",
     "text": [
      "25 8\n",
      "22 0\n",
      "18 0\n",
      "ADNI_053_S_4813_20120928\n",
      "230 197\n",
      "175 135\n",
      "141 94\n",
      "177 98\n",
      "189 93\n",
      "228 102\n",
      "134 89\n",
      "110 54\n",
      "99 42\n",
      "82 21\n",
      "65 0\n"
     ]
    },
    {
     "name": "stderr",
     "output_type": "stream",
     "text": [
      " 57%|██████████████████████████████████████████████████████████████████████████████████████▍                                                                | 166/290 [09:12<06:25,  3.11s/it]"
     ]
    },
    {
     "name": "stdout",
     "output_type": "stream",
     "text": [
      "64 0\n",
      "ADNI_067_S_2195_20101119\n",
      "182 172\n",
      "119 105\n",
      "92 76\n",
      "78 56\n",
      "78 50\n",
      "94 52\n",
      "81 66\n",
      "51 34\n",
      "40 21\n",
      "32 13\n"
     ]
    },
    {
     "name": "stderr",
     "output_type": "stream",
     "text": [
      " 58%|██████████████████████████████████████████████████████████████████████████████████████▉                                                                | 167/290 [09:14<05:37,  2.74s/it]"
     ]
    },
    {
     "name": "stdout",
     "output_type": "stream",
     "text": [
      "24 0\n",
      "25 0\n",
      "ADNI_067_S_2301_20110830\n",
      "249 229\n",
      "169 145\n",
      "124 96\n",
      "106 72\n",
      "105 65\n",
      "106 58\n",
      "123 94\n",
      "86 52\n",
      "70 32\n",
      "61 19\n"
     ]
    },
    {
     "name": "stderr",
     "output_type": "stream",
     "text": [
      " 58%|███████████████████████████████████████████████████████████████████████████████████████▍                                                               | 168/290 [09:17<05:29,  2.70s/it]"
     ]
    },
    {
     "name": "stdout",
     "output_type": "stream",
     "text": [
      "50 0\n",
      "43 0\n",
      "ADNI_067_S_2304_20110914\n",
      "197 185\n",
      "149 131\n",
      "119 93\n",
      "159 82\n",
      "194 75\n",
      "261 81\n",
      "106 85\n",
      "57 33\n",
      "56 26\n",
      "45 14\n"
     ]
    },
    {
     "name": "stderr",
     "output_type": "stream",
     "text": [
      " 58%|███████████████████████████████████████████████████████████████████████████████████████▉                                                               | 169/290 [09:20<05:33,  2.75s/it]"
     ]
    },
    {
     "name": "stdout",
     "output_type": "stream",
     "text": [
      "43 0\n",
      "36 0\n",
      "ADNI_067_S_4054_20111215\n",
      "182 171\n",
      "116 93\n",
      "112 72\n",
      "161 69\n",
      "228 86\n",
      "295 94\n",
      "79 57\n",
      "54 30\n",
      "48 21\n"
     ]
    },
    {
     "name": "stderr",
     "output_type": "stream",
     "text": [
      " 59%|████████████████████████████████████████████████████████████████████████████████████████▌                                                              | 170/290 [09:23<05:31,  2.76s/it]"
     ]
    },
    {
     "name": "stdout",
     "output_type": "stream",
     "text": [
      "40 6\n",
      "42 0\n",
      "34 0\n",
      "ADNI_067_S_4072_20111012\n",
      "207 192\n",
      "146 128\n",
      "101 78\n",
      "101 66\n",
      "113 67\n",
      "131 68\n",
      "93 69\n",
      "85 56\n",
      "69 33\n",
      "55 15\n",
      "51 0\n"
     ]
    },
    {
     "name": "stderr",
     "output_type": "stream",
     "text": [
      " 59%|█████████████████████████████████████████████████████████████████████████████████████████                                                              | 171/290 [09:25<05:17,  2.67s/it]"
     ]
    },
    {
     "name": "stdout",
     "output_type": "stream",
     "text": [
      "51 0\n",
      "ADNI_067_S_4184_20111219\n",
      "244 216\n",
      "191 159\n",
      "152 117\n",
      "150 106\n",
      "136 90\n",
      "131 83\n",
      "146 112\n",
      "110 71\n",
      "77 33\n",
      "65 15\n",
      "63 0\n"
     ]
    },
    {
     "name": "stderr",
     "output_type": "stream",
     "text": [
      " 59%|█████████████████████████████████████████████████████████████████████████████████████████▌                                                             | 172/290 [09:28<05:26,  2.77s/it]"
     ]
    },
    {
     "name": "stdout",
     "output_type": "stream",
     "text": [
      "46 0\n",
      "ADNI_067_S_4212_20111219\n",
      "387 346\n",
      "281 228\n",
      "224 159\n",
      "238 139\n",
      "283 151\n",
      "352 161\n",
      "197 139\n",
      "163 93\n",
      "142 62\n",
      "127 36\n",
      "116 0\n"
     ]
    },
    {
     "name": "stderr",
     "output_type": "stream",
     "text": [
      " 60%|██████████████████████████████████████████████████████████████████████████████████████████                                                             | 173/290 [09:33<06:41,  3.43s/it]"
     ]
    },
    {
     "name": "stdout",
     "output_type": "stream",
     "text": [
      "113 0\n",
      "ADNI_067_S_4310_20111027\n",
      "207 190\n",
      "186 163\n",
      "137 114\n",
      "123 96\n",
      "132 96\n",
      "150 92\n",
      "125 102\n",
      "95 69\n",
      "75 44\n",
      "60 22\n"
     ]
    },
    {
     "name": "stderr",
     "output_type": "stream",
     "text": [
      " 60%|██████████████████████████████████████████████████████████████████████████████████████████▌                                                            | 174/290 [09:36<06:14,  3.23s/it]"
     ]
    },
    {
     "name": "stdout",
     "output_type": "stream",
     "text": [
      "44 0\n",
      "32 0\n",
      "ADNI_067_S_4767_20121210\n",
      "273 249\n",
      "233 196\n",
      "184 138\n",
      "201 118\n",
      "252 135\n",
      "290 135\n",
      "156 115\n",
      "129 76\n",
      "115 47\n",
      "99 28\n",
      "92 0\n"
     ]
    },
    {
     "name": "stderr",
     "output_type": "stream",
     "text": [
      " 60%|███████████████████████████████████████████████████████████████████████████████████████████                                                            | 175/290 [09:40<06:40,  3.48s/it]"
     ]
    },
    {
     "name": "stdout",
     "output_type": "stream",
     "text": [
      "86 0\n",
      "ADNI_067_S_4782_20121026\n",
      "277 253\n",
      "200 169\n",
      "199 157\n",
      "193 132\n",
      "205 122\n",
      "244 135\n",
      "182 139\n",
      "134 86\n",
      "107 53\n",
      "92 26\n"
     ]
    },
    {
     "name": "stderr",
     "output_type": "stream",
     "text": [
      " 61%|███████████████████████████████████████████████████████████████████████████████████████████▋                                                           | 176/290 [09:44<06:50,  3.60s/it]"
     ]
    },
    {
     "name": "stdout",
     "output_type": "stream",
     "text": [
      "83 0\n",
      "80 0\n",
      "ADNI_068_S_4061_20111219\n",
      "220 206\n",
      "167 146\n",
      "147 115\n",
      "134 96\n",
      "128 80\n",
      "140 72\n",
      "130 103\n",
      "81 52\n",
      "77 41\n",
      "64 23\n"
     ]
    },
    {
     "name": "stderr",
     "output_type": "stream",
     "text": [
      " 61%|████████████████████████████████████████████████████████████████████████████████████████████▏                                                          | 177/290 [09:47<06:19,  3.36s/it]"
     ]
    },
    {
     "name": "stdout",
     "output_type": "stream",
     "text": [
      "48 0\n",
      "46 0\n",
      "ADNI_068_S_4217_20111214\n",
      "284 253\n",
      "237 198\n",
      "173 123\n",
      "180 107\n",
      "206 107\n",
      "233 107\n",
      "164 117\n",
      "124 70\n",
      "107 50\n",
      "93 33\n"
     ]
    },
    {
     "name": "stderr",
     "output_type": "stream",
     "text": [
      " 61%|████████████████████████████████████████████████████████████████████████████████████████████▋                                                          | 178/290 [09:50<06:28,  3.47s/it]"
     ]
    },
    {
     "name": "stdout",
     "output_type": "stream",
     "text": [
      "67 0\n",
      "50 0\n",
      "ADNI_072_S_2116_20101026\n",
      "ADNI_072_S_4007_20111101\n",
      "182 166\n",
      "147 129\n",
      "143 119\n",
      "111 81\n",
      "115 71\n",
      "145 77\n",
      "131 111\n",
      "78 52\n",
      "76 44\n",
      "68 24\n"
     ]
    },
    {
     "name": "stderr",
     "output_type": "stream",
     "text": [
      " 62%|█████████████████████████████████████████████████████████████████████████████████████████████▋                                                         | 180/290 [09:53<04:34,  2.49s/it]"
     ]
    },
    {
     "name": "stdout",
     "output_type": "stream",
     "text": [
      "52 0\n",
      "45 0\n",
      "ADNI_072_S_4057_20111212\n"
     ]
    },
    {
     "name": "stderr",
     "output_type": "stream",
     "text": [
      " 62%|██████████████████████████████████████████████████████████████████████████████████████████████▏                                                        | 181/290 [09:53<03:27,  1.90s/it]"
     ]
    },
    {
     "name": "stdout",
     "output_type": "stream",
     "text": [
      "ADNI_072_S_4063_20111219\n",
      "ADNI_072_S_4103_20110720\n",
      "129 114\n",
      "109 86\n",
      "100 71\n",
      "104 64\n",
      "111 70\n",
      "115 66\n",
      "91 66\n",
      "75 45\n",
      "59 25\n",
      "52 15\n",
      "49 0\n"
     ]
    },
    {
     "name": "stderr",
     "output_type": "stream",
     "text": [
      " 63%|███████████████████████████████████████████████████████████████████████████████████████████████▎                                                       | 183/290 [09:55<02:47,  1.56s/it]"
     ]
    },
    {
     "name": "stdout",
     "output_type": "stream",
     "text": [
      "36 0\n",
      "ADNI_072_S_4769_20121017\n",
      "173 139\n",
      "123 81\n",
      "112 59\n",
      "141 66\n",
      "160 76\n",
      "175 75\n",
      "87 44\n",
      "94 44\n",
      "73 20\n",
      "73 17\n",
      "60 0\n"
     ]
    },
    {
     "name": "stderr",
     "output_type": "stream",
     "text": [
      " 63%|███████████████████████████████████████████████████████████████████████████████████████████████▊                                                       | 184/290 [09:58<03:12,  1.81s/it]"
     ]
    },
    {
     "name": "stdout",
     "output_type": "stream",
     "text": [
      "54 0\n",
      "ADNI_073_S_0311_20110901\n",
      "297 260\n",
      "266 217\n",
      "264 175\n",
      "351 161\n",
      "446 186\n",
      "556 216\n",
      "200 145\n",
      "164 91\n",
      "142 55\n",
      "130 32\n",
      "113 0\n"
     ]
    },
    {
     "name": "stderr",
     "output_type": "stream",
     "text": [
      " 64%|████████████████████████████████████████████████████████████████████████████████████████████████▎                                                      | 185/290 [10:04<04:52,  2.78s/it]"
     ]
    },
    {
     "name": "stdout",
     "output_type": "stream",
     "text": [
      "111 0\n",
      "ADNI_073_S_0746_20120213\n",
      "229 207\n",
      "178 147\n",
      "156 119\n",
      "164 108\n",
      "181 107\n",
      "220 117\n",
      "146 109\n",
      "127 81\n",
      "100 49\n",
      "88 30\n",
      "73 0\n"
     ]
    },
    {
     "name": "stderr",
     "output_type": "stream",
     "text": [
      " 64%|████████████████████████████████████████████████████████████████████████████████████████████████▊                                                      | 186/290 [10:07<05:06,  2.95s/it]"
     ]
    },
    {
     "name": "stdout",
     "output_type": "stream",
     "text": [
      "67 0\n",
      "ADNI_073_S_2153_20101105\n",
      "382 342\n",
      "308 256\n",
      "279 217\n",
      "227 155\n",
      "226 141\n",
      "231 123\n",
      "247 188\n",
      "158 92\n",
      "131 60\n",
      "105 31\n",
      "82 0\n"
     ]
    },
    {
     "name": "stderr",
     "output_type": "stream",
     "text": [
      " 64%|█████████████████████████████████████████████████████████████████████████████████████████████████▎                                                     | 187/290 [10:12<05:56,  3.47s/it]"
     ]
    },
    {
     "name": "stdout",
     "output_type": "stream",
     "text": [
      "75 0\n",
      "ADNI_073_S_2191_20110708\n",
      "176 166\n",
      "132 121\n",
      "102 83\n",
      "122 68\n",
      "140 74\n",
      "157 64\n",
      "81 67\n",
      "49 31\n",
      "47 24\n",
      "34 9\n"
     ]
    },
    {
     "name": "stderr",
     "output_type": "stream",
     "text": [
      " 65%|█████████████████████████████████████████████████████████████████████████████████████████████████▉                                                     | 188/290 [10:14<05:19,  3.13s/it]"
     ]
    },
    {
     "name": "stdout",
     "output_type": "stream",
     "text": [
      "30 0\n",
      "27 0\n",
      "ADNI_073_S_2225_20110808\n",
      "199 184\n",
      "120 101\n",
      "111 82\n",
      "126 84\n",
      "128 71\n",
      "144 74\n",
      "98 74\n",
      "84 56\n",
      "58 28\n"
     ]
    },
    {
     "name": "stderr",
     "output_type": "stream",
     "text": [
      " 65%|██████████████████████████████████████████████████████████████████████████████████████████████████▍                                                    | 189/290 [10:17<04:56,  2.94s/it]"
     ]
    },
    {
     "name": "stdout",
     "output_type": "stream",
     "text": [
      "55 19\n",
      "41 0\n",
      "29 0\n",
      "ADNI_073_S_2264_20110721\n",
      "226 201\n",
      "152 118\n",
      "158 106\n",
      "252 122\n",
      "352 149\n",
      "477 183\n",
      "115 75\n",
      "100 51\n",
      "84 31\n",
      "77 22\n",
      "62 0\n"
     ]
    },
    {
     "name": "stderr",
     "output_type": "stream",
     "text": [
      " 66%|██████████████████████████████████████████████████████████████████████████████████████████████████▉                                                    | 190/290 [10:21<05:27,  3.27s/it]"
     ]
    },
    {
     "name": "stdout",
     "output_type": "stream",
     "text": [
      "64 0\n",
      "ADNI_073_S_4216_20111206\n",
      "311 288\n",
      "248 217\n",
      "186 150\n",
      "153 107\n",
      "146 92\n",
      "153 88\n",
      "168 131\n",
      "121 73\n",
      "105 50\n",
      "98 34\n"
     ]
    },
    {
     "name": "stderr",
     "output_type": "stream",
     "text": [
      " 66%|███████████████████████████████████████████████████████████████████████████████████████████████████▍                                                   | 191/290 [10:24<05:33,  3.37s/it]"
     ]
    },
    {
     "name": "stdout",
     "output_type": "stream",
     "text": [
      "81 0\n",
      "65 0\n",
      "ADNI_073_S_4300_20111012\n",
      "307 275\n",
      "263 215\n",
      "244 180\n",
      "278 157\n",
      "328 153\n",
      "434 174\n",
      "220 167\n",
      "157 92\n",
      "140 63\n",
      "128 40\n"
     ]
    },
    {
     "name": "stderr",
     "output_type": "stream",
     "text": [
      " 66%|███████████████████████████████████████████████████████████████████████████████████████████████████▉                                                   | 192/290 [10:30<06:23,  3.91s/it]"
     ]
    },
    {
     "name": "stdout",
     "output_type": "stream",
     "text": [
      "103 0\n",
      "94 0\n",
      "ADNI_073_S_4311_20111017\n",
      "154 142\n",
      "102 88\n",
      "93 72\n",
      "103 65\n",
      "129 70\n",
      "169 66\n",
      "89 70\n",
      "69 47\n",
      "58 35\n"
     ]
    },
    {
     "name": "stderr",
     "output_type": "stream",
     "text": [
      " 67%|████████████████████████████████████████████████████████████████████████████████████████████████████▍                                                  | 193/290 [10:32<05:35,  3.46s/it]"
     ]
    },
    {
     "name": "stdout",
     "output_type": "stream",
     "text": [
      "46 17\n",
      "38 0\n",
      "28 0\n",
      "ADNI_073_S_4312_20111017\n",
      "210 178\n",
      "160 124\n",
      "141 100\n",
      "138 87\n",
      "135 77\n",
      "163 89\n",
      "129 92\n",
      "104 61\n",
      "92 47\n",
      "75 26\n",
      "54 0\n"
     ]
    },
    {
     "name": "stderr",
     "output_type": "stream",
     "text": [
      " 67%|█████████████████████████████████████████████████████████████████████████████████████████████████████                                                  | 194/290 [10:35<05:16,  3.30s/it]"
     ]
    },
    {
     "name": "stdout",
     "output_type": "stream",
     "text": [
      "51 0\n",
      "ADNI_073_S_4360_20111104\n",
      "188 174\n",
      "108 93\n",
      "98 63\n",
      "122 50\n",
      "155 56\n",
      "189 62\n",
      "78 54\n",
      "58 30\n",
      "49 21\n",
      "60 17\n",
      "53 0\n"
     ]
    },
    {
     "name": "stderr",
     "output_type": "stream",
     "text": [
      " 67%|█████████████████████████████████████████████████████████████████████████████████████████████████████▌                                                 | 195/290 [10:37<04:49,  3.05s/it]"
     ]
    },
    {
     "name": "stdout",
     "output_type": "stream",
     "text": [
      "46 0\n",
      "ADNI_073_S_4382_20111115\n",
      "187 174\n",
      "127 113\n",
      "118 103\n",
      "85 66\n",
      "86 55\n",
      "102 61\n",
      "109 94\n",
      "64 48\n"
     ]
    },
    {
     "name": "stderr",
     "output_type": "stream",
     "text": [
      " 68%|██████████████████████████████████████████████████████████████████████████████████████████████████████                                                 | 196/290 [10:39<04:18,  2.75s/it]"
     ]
    },
    {
     "name": "stdout",
     "output_type": "stream",
     "text": [
      "41 23\n",
      "29 10\n",
      "20 0\n",
      "17 0\n",
      "ADNI_073_S_4393_20111122\n",
      "316 302\n",
      "233 216\n",
      "152 133\n",
      "126 106\n",
      "111 90\n",
      "108 82\n",
      "140 121\n",
      "95 74\n",
      "76 49\n",
      "47 14\n",
      "37 0\n"
     ]
    },
    {
     "name": "stderr",
     "output_type": "stream",
     "text": [
      " 68%|██████████████████████████████████████████████████████████████████████████████████████████████████████▌                                                | 197/290 [10:42<04:21,  2.81s/it]"
     ]
    },
    {
     "name": "stdout",
     "output_type": "stream",
     "text": [
      "32 0\n",
      "ADNI_073_S_4552_20120524\n",
      "306 271\n",
      "263 214\n",
      "237 171\n",
      "293 185\n",
      "335 186\n",
      "370 185\n",
      "211 149\n",
      "196 121\n",
      "159 75\n",
      "130 36\n",
      "117 0\n"
     ]
    },
    {
     "name": "stderr",
     "output_type": "stream",
     "text": [
      " 68%|███████████████████████████████████████████████████████████████████████████████████████████████████████                                                | 198/290 [10:48<05:23,  3.52s/it]"
     ]
    },
    {
     "name": "stdout",
     "output_type": "stream",
     "text": [
      "112 0\n",
      "ADNI_073_S_4559_20121012\n",
      "355 297\n",
      "325 248\n",
      "325 208\n",
      "480 238\n",
      "607 257\n",
      "774 306\n",
      "273 185\n",
      "245 136\n",
      "223 83\n",
      "216 46\n",
      "205 0\n"
     ]
    },
    {
     "name": "stderr",
     "output_type": "stream",
     "text": [
      " 69%|███████████████████████████████████████████████████████████████████████████████████████████████████████▌                                               | 199/290 [10:55<07:20,  4.84s/it]"
     ]
    },
    {
     "name": "stdout",
     "output_type": "stream",
     "text": [
      "214 0\n",
      "ADNI_073_S_4614_20120919\n",
      "255 235\n",
      "173 150\n",
      "135 106\n",
      "130 95\n",
      "135 80\n",
      "156 67\n",
      "128 100\n",
      "88 53\n",
      "70 31\n",
      "62 15\n"
     ]
    },
    {
     "name": "stderr",
     "output_type": "stream",
     "text": [
      " 69%|████████████████████████████████████████████████████████████████████████████████████████████████████████▏                                              | 200/290 [10:58<06:22,  4.25s/it]"
     ]
    },
    {
     "name": "stdout",
     "output_type": "stream",
     "text": [
      "61 0\n",
      "48 0\n",
      "ADNI_073_S_4739_20121114\n",
      "228 214\n",
      "143 127\n",
      "129 104\n",
      "117 75\n",
      "128 68\n",
      "148 67\n",
      "109 88\n",
      "66 41\n",
      "59 29\n",
      "48 11\n"
     ]
    },
    {
     "name": "stderr",
     "output_type": "stream",
     "text": [
      " 69%|████████████████████████████████████████████████████████████████████████████████████████████████████████▋                                              | 201/290 [11:01<05:33,  3.74s/it]"
     ]
    },
    {
     "name": "stdout",
     "output_type": "stream",
     "text": [
      "52 0\n",
      "36 0\n",
      "ADNI_073_S_4777_20121212\n",
      "212 185\n",
      "143 112\n",
      "155 104\n",
      "223 105\n",
      "305 117\n",
      "432 135\n",
      "135 95\n",
      "89 46\n",
      "64 16\n",
      "64 12\n"
     ]
    },
    {
     "name": "stderr",
     "output_type": "stream",
     "text": [
      " 70%|█████████████████████████████████████████████████████████████████████████████████████████████████████████▏                                             | 202/290 [11:05<05:30,  3.75s/it]"
     ]
    },
    {
     "name": "stdout",
     "output_type": "stream",
     "text": [
      "59 0\n",
      "52 0\n",
      "ADNI_073_S_4795_20120606\n",
      "190 176\n",
      "142 121\n",
      "137 107\n",
      "143 93\n",
      "158 92\n",
      "188 100\n",
      "132 101\n",
      "113 70\n",
      "103 50\n",
      "96 35\n"
     ]
    },
    {
     "name": "stderr",
     "output_type": "stream",
     "text": [
      " 70%|█████████████████████████████████████████████████████████████████████████████████████████████████████████▋                                             | 203/290 [11:08<05:09,  3.56s/it]"
     ]
    },
    {
     "name": "stdout",
     "output_type": "stream",
     "text": [
      "70 0\n",
      "64 0\n",
      "ADNI_073_S_5023_20130403\n",
      "225 213\n",
      "154 137\n",
      "121 97\n",
      "132 91\n",
      "149 89\n",
      "179 91\n",
      "111 92\n",
      "87 63\n",
      "64 38\n",
      "54 23\n"
     ]
    },
    {
     "name": "stderr",
     "output_type": "stream",
     "text": [
      " 70%|██████████████████████████████████████████████████████████████████████████████████████████████████████████▏                                            | 204/290 [11:11<04:44,  3.31s/it]"
     ]
    },
    {
     "name": "stdout",
     "output_type": "stream",
     "text": [
      "37 0\n",
      "40 0\n",
      "ADNI_082_S_2121_20101012\n",
      "289 267\n",
      "190 163\n",
      "170 132\n",
      "146 101\n",
      "146 94\n",
      "150 89\n",
      "151 116\n",
      "111 72\n",
      "90 50\n",
      "75 29\n",
      "58 0\n"
     ]
    },
    {
     "name": "stderr",
     "output_type": "stream",
     "text": [
      " 71%|██████████████████████████████████████████████████████████████████████████████████████████████████████████▋                                            | 205/290 [11:14<04:38,  3.28s/it]"
     ]
    },
    {
     "name": "stdout",
     "output_type": "stream",
     "text": [
      "50 0\n",
      "ADNI_082_S_4090_20110921\n",
      "241 224\n",
      "177 156\n",
      "136 108\n",
      "153 105\n",
      "170 109\n",
      "184 109\n",
      "128 103\n",
      "111 80\n",
      "92 53\n",
      "75 33\n",
      "59 0\n"
     ]
    },
    {
     "name": "stderr",
     "output_type": "stream",
     "text": [
      " 71%|███████████████████████████████████████████████████████████████████████████████████████████████████████████▎                                           | 206/290 [11:17<04:31,  3.23s/it]"
     ]
    },
    {
     "name": "stdout",
     "output_type": "stream",
     "text": [
      "50 0\n",
      "ADNI_082_S_4208_20111207\n",
      "357 323\n",
      "244 198\n",
      "247 175\n",
      "316 172\n",
      "374 176\n",
      "460 195\n",
      "202 148\n",
      "154 87\n",
      "145 64\n",
      "128 30\n",
      "118 0\n"
     ]
    },
    {
     "name": "stderr",
     "output_type": "stream",
     "text": [
      " 71%|███████████████████████████████████████████████████████████████████████████████████████████████████████████▊                                           | 207/290 [11:22<05:20,  3.86s/it]"
     ]
    },
    {
     "name": "stdout",
     "output_type": "stream",
     "text": [
      "118 0\n",
      "ADNI_082_S_4244_20111019\n",
      "341 307\n",
      "259 211\n",
      "235 170\n",
      "275 150\n",
      "403 188\n",
      "582 212\n",
      "209 153\n",
      "178 108\n",
      "143 66\n",
      "121 30\n"
     ]
    },
    {
     "name": "stderr",
     "output_type": "stream",
     "text": [
      " 72%|████████████████████████████████████████████████████████████████████████████████████████████████████████████▎                                          | 208/290 [11:28<05:55,  4.33s/it]"
     ]
    },
    {
     "name": "stdout",
     "output_type": "stream",
     "text": [
      "111 0\n",
      "87 0\n",
      "ADNI_082_S_4339_20111109\n",
      "168 158\n",
      "121 106\n",
      "96 77\n",
      "103 75\n",
      "121 79\n",
      "188 105\n",
      "89 69\n",
      "102 75\n",
      "83 49\n",
      "60 21\n",
      "48 0\n"
     ]
    },
    {
     "name": "stderr",
     "output_type": "stream",
     "text": [
      " 72%|████████████████████████████████████████████████████████████████████████████████████████████████████████████▊                                          | 209/290 [11:30<05:04,  3.76s/it]"
     ]
    },
    {
     "name": "stdout",
     "output_type": "stream",
     "text": [
      "40 0\n",
      "ADNI_100_S_4469_20121023\n",
      "220 198\n",
      "182 150\n",
      "139 105\n",
      "116 78\n",
      "113 71\n",
      "106 61\n",
      "141 106\n",
      "95 56\n",
      "86 43\n",
      "69 23\n"
     ]
    },
    {
     "name": "stderr",
     "output_type": "stream",
     "text": [
      " 72%|█████████████████████████████████████████████████████████████████████████████████████████████████████████████▎                                         | 210/290 [11:33<04:34,  3.43s/it]"
     ]
    },
    {
     "name": "stdout",
     "output_type": "stream",
     "text": [
      "55 0\n",
      "41 0\n",
      "ADNI_100_S_4512_20121106\n",
      "145 133\n",
      "117 99\n",
      "118 91\n",
      "140 86\n",
      "195 93\n",
      "280 112\n",
      "96 75\n",
      "75 42\n",
      "76 28\n",
      "74 12\n",
      "74 0\n"
     ]
    },
    {
     "name": "stderr",
     "output_type": "stream",
     "text": [
      " 73%|█████████████████████████████████████████████████████████████████████████████████████████████████████████████▊                                         | 211/290 [11:36<04:18,  3.27s/it]"
     ]
    },
    {
     "name": "stdout",
     "output_type": "stream",
     "text": [
      "68 0\n",
      "ADNI_100_S_4556_20121126\n",
      "338 301\n",
      "276 224\n",
      "251 188\n",
      "242 152\n",
      "258 141\n",
      "286 139\n",
      "234 167\n",
      "172 91\n",
      "161 74\n",
      "140 37\n",
      "123 0\n"
     ]
    },
    {
     "name": "stderr",
     "output_type": "stream",
     "text": [
      " 73%|██████████████████████████████████████████████████████████████████████████████████████████████████████████████▍                                        | 212/290 [11:40<04:51,  3.73s/it]"
     ]
    },
    {
     "name": "stdout",
     "output_type": "stream",
     "text": [
      "110 0\n",
      "ADNI_114_S_4404_20120802\n",
      "203 190\n",
      "153 135\n",
      "119 97\n",
      "112 73\n",
      "112 71\n",
      "114 64\n",
      "108 85\n",
      "76 48\n",
      "56 23\n",
      "49 11\n"
     ]
    },
    {
     "name": "stderr",
     "output_type": "stream",
     "text": [
      " 73%|██████████████████████████████████████████████████████████████████████████████████████████████████████████████▉                                        | 213/290 [11:43<04:16,  3.33s/it]"
     ]
    },
    {
     "name": "stdout",
     "output_type": "stream",
     "text": [
      "48 0\n",
      "41 0\n",
      "ADNI_116_S_4043_20111209\n",
      "262 235\n",
      "228 182\n",
      "236 148\n",
      "339 158\n",
      "456 194\n",
      "581 224\n",
      "188 132\n",
      "164 92\n",
      "151 58\n",
      "142 33\n",
      "132 0\n"
     ]
    },
    {
     "name": "stderr",
     "output_type": "stream",
     "text": [
      " 74%|███████████████████████████████████████████████████████████████████████████████████████████████████████████████▍                                       | 214/290 [11:48<05:03,  4.00s/it]"
     ]
    },
    {
     "name": "stdout",
     "output_type": "stream",
     "text": [
      "134 0\n",
      "ADNI_116_S_4092_20110921\n",
      "203 185\n",
      "172 141\n",
      "153 109\n",
      "220 116\n",
      "297 130\n",
      "421 167\n",
      "114 82\n",
      "92 51\n",
      "66 23\n",
      "64 16\n"
     ]
    },
    {
     "name": "stderr",
     "output_type": "stream",
     "text": [
      " 74%|███████████████████████████████████████████████████████████████████████████████████████████████████████████████▉                                       | 215/290 [11:52<04:53,  3.91s/it]"
     ]
    },
    {
     "name": "stdout",
     "output_type": "stream",
     "text": [
      "61 0\n",
      "68 0\n",
      "ADNI_116_S_4167_20111109\n",
      "210 191\n",
      "177 150\n",
      "153 124\n",
      "142 107\n",
      "121 84\n",
      "110 71\n",
      "137 106\n",
      "103 68\n",
      "71 33\n"
     ]
    },
    {
     "name": "stderr",
     "output_type": "stream",
     "text": [
      " 74%|████████████████████████████████████████████████████████████████████████████████████████████████████████████████▍                                      | 216/290 [11:55<04:21,  3.54s/it]"
     ]
    },
    {
     "name": "stdout",
     "output_type": "stream",
     "text": [
      "54 14\n",
      "52 0\n",
      "35 0\n",
      "ADNI_116_S_4175_20111114\n",
      "157 152\n",
      "85 75\n",
      "69 54\n",
      "47 30\n",
      "49 29\n",
      "58 33\n",
      "55 40\n",
      "47 28\n",
      "45 23\n",
      "32 8\n",
      "31 0\n"
     ]
    },
    {
     "name": "stderr",
     "output_type": "stream",
     "text": [
      " 75%|████████████████████████████████████████████████████████████████████████████████████████████████████████████████▉                                      | 217/290 [11:56<03:34,  2.93s/it]"
     ]
    },
    {
     "name": "stdout",
     "output_type": "stream",
     "text": [
      "17 0\n",
      "ADNI_116_S_4195_20111209\n",
      "191 178\n",
      "120 103\n",
      "95 75\n",
      "88 62\n",
      "83 52\n",
      "83 49\n",
      "101 81\n",
      "63 40\n",
      "61 36\n"
     ]
    },
    {
     "name": "stderr",
     "output_type": "stream",
     "text": [
      " 75%|█████████████████████████████████████████████████████████████████████████████████████████████████████████████████▌                                     | 218/290 [11:58<03:11,  2.66s/it]"
     ]
    },
    {
     "name": "stdout",
     "output_type": "stream",
     "text": [
      "41 13\n",
      "36 0\n",
      "35 0\n",
      "ADNI_116_S_4199_20111123\n",
      "185 174\n",
      "105 92\n",
      "72 56\n",
      "64 47\n",
      "66 44\n",
      "71 43\n",
      "68 53\n",
      "54 38\n",
      "40 23\n",
      "28 10\n"
     ]
    },
    {
     "name": "stderr",
     "output_type": "stream",
     "text": [
      " 76%|██████████████████████████████████████████████████████████████████████████████████████████████████████████████████                                     | 219/290 [12:00<02:48,  2.37s/it]"
     ]
    },
    {
     "name": "stdout",
     "output_type": "stream",
     "text": [
      "26 0\n",
      "24 0\n",
      "ADNI_116_S_4453_20120809\n",
      "285 259\n",
      "201 167\n",
      "194 143\n",
      "201 121\n",
      "237 137\n",
      "268 132\n",
      "163 117\n",
      "159 91\n",
      "149 67\n",
      "136 37\n",
      "122 0\n"
     ]
    },
    {
     "name": "stderr",
     "output_type": "stream",
     "text": [
      " 76%|██████████████████████████████████████████████████████████████████████████████████████████████████████████████████▌                                    | 220/290 [12:04<03:23,  2.91s/it]"
     ]
    },
    {
     "name": "stdout",
     "output_type": "stream",
     "text": [
      "109 0\n",
      "ADNI_116_S_4483_20120821\n",
      "168 148\n",
      "135 110\n",
      "131 98\n",
      "127 78\n",
      "142 70\n",
      "178 74\n",
      "118 87\n",
      "89 49\n",
      "83 36\n",
      "72 21\n"
     ]
    },
    {
     "name": "stderr",
     "output_type": "stream",
     "text": [
      " 76%|███████████████████████████████████████████████████████████████████████████████████████████████████████████████████                                    | 221/290 [12:07<03:15,  2.84s/it]"
     ]
    },
    {
     "name": "stdout",
     "output_type": "stream",
     "text": [
      "61 0\n",
      "55 0\n",
      "ADNI_116_S_4625_20121019\n",
      "313 284\n",
      "242 204\n",
      "214 164\n",
      "183 124\n",
      "189 116\n",
      "203 111\n",
      "192 146\n",
      "142 90\n",
      "121 60\n",
      "96 27\n"
     ]
    },
    {
     "name": "stderr",
     "output_type": "stream",
     "text": [
      " 77%|███████████████████████████████████████████████████████████████████████████████████████████████████████████████████▌                                   | 222/290 [12:11<03:33,  3.14s/it]"
     ]
    },
    {
     "name": "stdout",
     "output_type": "stream",
     "text": [
      "83 0\n",
      "71 0\n",
      "ADNI_116_S_4635_20121015\n",
      "288 255\n",
      "235 190\n",
      "230 164\n",
      "316 163\n",
      "382 162\n",
      "524 201\n",
      "189 137\n",
      "150 83\n",
      "135 52\n",
      "125 24\n",
      "116 0\n"
     ]
    },
    {
     "name": "stderr",
     "output_type": "stream",
     "text": [
      " 77%|████████████████████████████████████████████████████████████████████████████████████████████████████████████████████                                   | 223/290 [12:16<04:12,  3.77s/it]"
     ]
    },
    {
     "name": "stdout",
     "output_type": "stream",
     "text": [
      "112 0\n",
      "ADNI_116_S_4898_20121107\n",
      "258 238\n",
      "163 138\n",
      "125 89\n",
      "159 96\n",
      "184 94\n",
      "210 92\n",
      "106 75\n",
      "95 57\n",
      "71 29\n",
      "56 11\n"
     ]
    },
    {
     "name": "stderr",
     "output_type": "stream",
     "text": [
      " 77%|████████████████████████████████████████████████████████████████████████████████████████████████████████████████████▋                                  | 224/290 [12:19<03:52,  3.53s/it]"
     ]
    },
    {
     "name": "stdout",
     "output_type": "stream",
     "text": [
      "51 0\n",
      "52 0\n",
      "ADNI_123_S_2363_20110422\n",
      "181 170\n",
      "147 128\n",
      "127 100\n",
      "146 96\n",
      "175 103\n",
      "225 111\n",
      "117 94\n",
      "94 63\n",
      "81 39\n",
      "75 24\n"
     ]
    },
    {
     "name": "stderr",
     "output_type": "stream",
     "text": [
      " 78%|█████████████████████████████████████████████████████████████████████████████████████████████████████████████████████▏                                 | 225/290 [12:22<03:38,  3.36s/it]"
     ]
    },
    {
     "name": "stdout",
     "output_type": "stream",
     "text": [
      "67 0\n",
      "68 0\n",
      "ADNI_123_S_4127_20111114\n",
      "190 176\n",
      "114 96\n",
      "88 65\n",
      "98 66\n",
      "100 62\n",
      "117 63\n",
      "80 60\n",
      "67 46\n",
      "46 23\n",
      "33 7\n"
     ]
    },
    {
     "name": "stderr",
     "output_type": "stream",
     "text": [
      " 78%|█████████████████████████████████████████████████████████████████████████████████████████████████████████████████████▋                                 | 226/290 [12:24<03:09,  2.96s/it]"
     ]
    },
    {
     "name": "stdout",
     "output_type": "stream",
     "text": [
      "33 0\n",
      "25 0\n",
      "ADNI_123_S_4170_20111209\n",
      "249 234\n",
      "159 136\n",
      "141 112\n",
      "131 87\n",
      "153 91\n",
      "186 96\n",
      "135 104\n",
      "110 71\n",
      "87 41\n",
      "82 24\n",
      "72 0\n"
     ]
    },
    {
     "name": "stderr",
     "output_type": "stream",
     "text": [
      " 78%|██████████████████████████████████████████████████████████████████████████████████████████████████████████████████████▏                                | 227/290 [12:27<03:08,  2.99s/it]"
     ]
    },
    {
     "name": "stdout",
     "output_type": "stream",
     "text": [
      "64 0\n",
      "ADNI_123_S_4526_20120814\n",
      "372 329\n",
      "252 200\n",
      "214 144\n",
      "245 143\n",
      "283 142\n",
      "332 147\n",
      "199 144\n",
      "160 93\n",
      "140 63\n",
      "125 35\n",
      "103 0\n"
     ]
    },
    {
     "name": "stderr",
     "output_type": "stream",
     "text": [
      " 79%|██████████████████████████████████████████████████████████████████████████████████████████████████████████████████████▋                                | 228/290 [12:32<03:36,  3.49s/it]"
     ]
    },
    {
     "name": "stdout",
     "output_type": "stream",
     "text": [
      "90 0\n",
      "ADNI_123_S_4780_20121220\n",
      "210 189\n",
      "184 154\n",
      "160 123\n",
      "140 91\n",
      "167 90\n",
      "185 89\n",
      "129 93\n",
      "106 62\n",
      "80 32\n",
      "75 24\n",
      "56 0\n"
     ]
    },
    {
     "name": "stderr",
     "output_type": "stream",
     "text": [
      " 79%|███████████████████████████████████████████████████████████████████████████████████████████████████████████████████████▏                               | 229/290 [12:35<03:23,  3.34s/it]"
     ]
    },
    {
     "name": "stdout",
     "output_type": "stream",
     "text": [
      "42 0\n",
      "ADNI_130_S_2373_20111101\n",
      "176 159\n",
      "133 112\n",
      "108 85\n",
      "119 90\n",
      "112 81\n",
      "111 70\n",
      "99 78\n",
      "81 55\n",
      "56 27\n"
     ]
    },
    {
     "name": "stderr",
     "output_type": "stream",
     "text": [
      " 79%|███████████████████████████████████████████████████████████████████████████████████████████████████████████████████████▊                               | 230/290 [12:37<02:59,  3.00s/it]"
     ]
    },
    {
     "name": "stdout",
     "output_type": "stream",
     "text": [
      "39 9\n",
      "34 0\n",
      "23 0\n",
      "ADNI_130_S_4250_20111005\n",
      "278 257\n",
      "221 193\n",
      "167 136\n",
      "155 115\n",
      "154 107\n",
      "152 96\n",
      "166 132\n",
      "123 86\n",
      "91 50\n",
      "71 22\n",
      "56 0\n"
     ]
    },
    {
     "name": "stderr",
     "output_type": "stream",
     "text": [
      " 80%|████████████████████████████████████████████████████████████████████████████████████████████████████████████████████████▎                              | 231/290 [12:40<03:00,  3.07s/it]"
     ]
    },
    {
     "name": "stdout",
     "output_type": "stream",
     "text": [
      "41 0\n",
      "ADNI_130_S_4294_20111121\n",
      "256 232\n",
      "217 182\n",
      "208 159\n",
      "232 154\n",
      "272 156\n",
      "327 164\n",
      "188 145\n",
      "146 94\n",
      "119 55\n",
      "100 29\n",
      "93 0\n"
     ]
    },
    {
     "name": "stderr",
     "output_type": "stream",
     "text": [
      " 80%|████████████████████████████████████████████████████████████████████████████████████████████████████████████████████████▊                              | 232/290 [12:44<03:18,  3.42s/it]"
     ]
    },
    {
     "name": "stdout",
     "output_type": "stream",
     "text": [
      "85 0\n",
      "ADNI_130_S_4343_20111109\n",
      "240 202\n",
      "199 150\n",
      "197 138\n",
      "207 124\n",
      "233 109\n",
      "340 135\n",
      "179 120\n",
      "118 54\n",
      "106 39\n",
      "90 17\n"
     ]
    },
    {
     "name": "stderr",
     "output_type": "stream",
     "text": [
      " 80%|█████████████████████████████████████████████████████████████████████████████████████████████████████████████████████████▎                             | 233/290 [12:48<03:23,  3.58s/it]"
     ]
    },
    {
     "name": "stdout",
     "output_type": "stream",
     "text": [
      "87 0\n",
      "70 0\n",
      "ADNI_130_S_4405_20120416\n",
      "235 209\n",
      "206 171\n",
      "179 138\n",
      "161 95\n",
      "190 111\n",
      "224 116\n",
      "163 126\n",
      "123 76\n",
      "96 39\n",
      "81 20\n",
      "68 0\n"
     ]
    },
    {
     "name": "stderr",
     "output_type": "stream",
     "text": [
      " 81%|█████████████████████████████████████████████████████████████████████████████████████████████████████████████████████████▊                             | 234/290 [12:52<03:17,  3.53s/it]"
     ]
    },
    {
     "name": "stdout",
     "output_type": "stream",
     "text": [
      "55 0\n",
      "ADNI_130_S_4415_20120517\n",
      "190 166\n",
      "138 107\n",
      "145 89\n",
      "207 95\n",
      "252 99\n",
      "319 108\n",
      "111 74\n",
      "95 48\n",
      "80 29\n",
      "67 11\n"
     ]
    },
    {
     "name": "stderr",
     "output_type": "stream",
     "text": [
      " 81%|██████████████████████████████████████████████████████████████████████████████████████████████████████████████████████████▎                            | 235/290 [12:55<03:10,  3.46s/it]"
     ]
    },
    {
     "name": "stdout",
     "output_type": "stream",
     "text": [
      "57 0\n",
      "51 0\n",
      "ADNI_130_S_4417_20120727\n",
      "255 232\n",
      "206 175\n",
      "168 126\n",
      "157 100\n",
      "170 99\n",
      "218 96\n",
      "160 118\n",
      "108 62\n",
      "92 41\n",
      "80 19\n",
      "73 0\n"
     ]
    },
    {
     "name": "stderr",
     "output_type": "stream",
     "text": [
      " 81%|██████████████████████████████████████████████████████████████████████████████████████████████████████████████████████████▉                            | 236/290 [12:58<03:06,  3.45s/it]"
     ]
    },
    {
     "name": "stdout",
     "output_type": "stream",
     "text": [
      "67 0\n",
      "ADNI_130_S_4468_20120813\n",
      "167 156\n",
      "129 107\n",
      "132 106\n",
      "132 101\n",
      "142 102\n",
      "138 83\n",
      "137 110\n",
      "106 72\n",
      "80 44\n"
     ]
    },
    {
     "name": "stderr",
     "output_type": "stream",
     "text": [
      " 82%|███████████████████████████████████████████████████████████████████████████████████████████████████████████████████████████▍                           | 237/290 [13:01<02:49,  3.20s/it]"
     ]
    },
    {
     "name": "stdout",
     "output_type": "stream",
     "text": [
      "66 26\n",
      "48 0\n",
      "39 0\n",
      "ADNI_130_S_4641_20121010\n",
      "254 220\n",
      "226 169\n",
      "196 126\n",
      "260 134\n",
      "334 138\n",
      "466 157\n",
      "178 113\n",
      "135 64\n",
      "116 41\n",
      "103 22\n"
     ]
    },
    {
     "name": "stderr",
     "output_type": "stream",
     "text": [
      " 82%|███████████████████████████████████████████████████████████████████████████████████████████████████████████████████████████▉                           | 238/290 [13:06<03:08,  3.63s/it]"
     ]
    },
    {
     "name": "stdout",
     "output_type": "stream",
     "text": [
      "103 0\n",
      "89 0\n",
      "ADNI_135_S_4281_20111014\n",
      "153 139\n",
      "131 100\n",
      "139 84\n",
      "228 101\n",
      "338 125\n",
      "474 160\n",
      "101 66\n",
      "84 45\n",
      "66 23\n",
      "70 17\n"
     ]
    },
    {
     "name": "stderr",
     "output_type": "stream",
     "text": [
      " 82%|████████████████████████████████████████████████████████████████████████████████████████████████████████████████████████████▍                          | 239/290 [13:10<03:10,  3.74s/it]"
     ]
    },
    {
     "name": "stdout",
     "output_type": "stream",
     "text": [
      "62 0\n",
      "61 0\n",
      "ADNI_135_S_4309_20111026\n",
      "175 161\n",
      "101 82\n",
      "104 76\n",
      "115 68\n",
      "135 71\n",
      "182 76\n",
      "90 70\n",
      "61 36\n",
      "51 21\n"
     ]
    },
    {
     "name": "stderr",
     "output_type": "stream",
     "text": [
      " 83%|████████████████████████████████████████████████████████████████████████████████████████████████████████████████████████████▉                          | 240/290 [13:12<02:46,  3.32s/it]"
     ]
    },
    {
     "name": "stdout",
     "output_type": "stream",
     "text": [
      "50 14\n",
      "46 0\n",
      "35 0\n",
      "ADNI_135_S_4356_20111110\n",
      "172 164\n",
      "126 115\n",
      "95 81\n",
      "85 64\n",
      "92 65\n",
      "113 71\n",
      "81 70\n",
      "70 50\n",
      "56 29\n"
     ]
    },
    {
     "name": "stderr",
     "output_type": "stream",
     "text": [
      " 83%|█████████████████████████████████████████████████████████████████████████████████████████████████████████████████████████████▍                         | 241/290 [13:14<02:24,  2.95s/it]"
     ]
    },
    {
     "name": "stdout",
     "output_type": "stream",
     "text": [
      "43 13\n",
      "40 0\n",
      "38 0\n",
      "ADNI_135_S_4406_20111207\n",
      "311 290\n",
      "217 194\n",
      "173 150\n",
      "148 123\n",
      "124 98\n",
      "119 89\n",
      "166 143\n",
      "106 82\n",
      "71 45\n"
     ]
    },
    {
     "name": "stderr",
     "output_type": "stream",
     "text": [
      " 83%|██████████████████████████████████████████████████████████████████████████████████████████████████████████████████████████████                         | 242/290 [13:17<02:22,  2.96s/it]"
     ]
    },
    {
     "name": "stdout",
     "output_type": "stream",
     "text": [
      "53 23\n",
      "32 0\n",
      "21 0\n",
      "ADNI_135_S_4446_20120809\n",
      "158 127\n",
      "109 74\n",
      "114 65\n",
      "152 73\n",
      "179 77\n",
      "205 76\n",
      "90 52\n",
      "71 29\n",
      "67 23\n",
      "59 12\n",
      "51 0\n"
     ]
    },
    {
     "name": "stderr",
     "output_type": "stream",
     "text": [
      " 84%|██████████████████████████████████████████████████████████████████████████████████████████████████████████████████████████████▌                        | 243/290 [13:20<02:13,  2.85s/it]"
     ]
    },
    {
     "name": "stdout",
     "output_type": "stream",
     "text": [
      "45 0\n",
      "ADNI_135_S_4489_20120802\n",
      "195 183\n",
      "132 118\n",
      "94 70\n",
      "121 59\n",
      "150 64\n",
      "193 68\n",
      "80 64\n",
      "53 32\n",
      "49 24\n"
     ]
    },
    {
     "name": "stderr",
     "output_type": "stream",
     "text": [
      " 84%|███████████████████████████████████████████████████████████████████████████████████████████████████████████████████████████████                        | 244/290 [13:22<02:04,  2.71s/it]"
     ]
    },
    {
     "name": "stdout",
     "output_type": "stream",
     "text": [
      "41 8\n",
      "42 0\n",
      "30 0\n",
      "ADNI_135_S_4566_20120919\n",
      "167 157\n",
      "116 105\n",
      "106 90\n",
      "125 81\n",
      "160 87\n",
      "193 80\n",
      "97 83\n",
      "68 49\n",
      "57 31\n"
     ]
    },
    {
     "name": "stderr",
     "output_type": "stream",
     "text": [
      " 84%|███████████████████████████████████████████████████████████████████████████████████████████████████████████████████████████████▌                       | 245/290 [13:24<01:57,  2.61s/it]"
     ]
    },
    {
     "name": "stdout",
     "output_type": "stream",
     "text": [
      "41 12\n",
      "37 0\n",
      "28 0\n",
      "ADNI_135_S_4598_20121016\n",
      "266 250\n",
      "195 175\n",
      "149 128\n",
      "123 101\n",
      "116 93\n",
      "110 81\n",
      "133 112\n",
      "101 78\n",
      "75 49\n",
      "47 18\n",
      "31 0\n"
     ]
    },
    {
     "name": "stderr",
     "output_type": "stream",
     "text": [
      " 85%|████████████████████████████████████████████████████████████████████████████████████████████████████████████████████████████████                       | 246/290 [13:27<01:55,  2.63s/it]"
     ]
    },
    {
     "name": "stdout",
     "output_type": "stream",
     "text": [
      "25 0\n",
      "ADNI_135_S_4657_20121029\n",
      "250 220\n",
      "173 136\n",
      "157 114\n",
      "153 95\n",
      "193 96\n",
      "217 92\n",
      "150 107\n",
      "117 68\n",
      "92 38\n",
      "81 21\n",
      "69 0\n"
     ]
    },
    {
     "name": "stderr",
     "output_type": "stream",
     "text": [
      " 85%|████████████████████████████████████████████████████████████████████████████████████████████████████████████████████████████████▌                      | 247/290 [13:30<02:01,  2.83s/it]"
     ]
    },
    {
     "name": "stdout",
     "output_type": "stream",
     "text": [
      "53 0\n",
      "ADNI_135_S_4676_20121106\n",
      "207 201\n",
      "142 129\n",
      "109 91\n",
      "136 91\n",
      "158 78\n",
      "172 73\n",
      "89 74\n",
      "57 37\n",
      "47 22\n"
     ]
    },
    {
     "name": "stderr",
     "output_type": "stream",
     "text": [
      " 86%|█████████████████████████████████████████████████████████████████████████████████████████████████████████████████████████████████▏                     | 248/290 [13:33<01:54,  2.72s/it]"
     ]
    },
    {
     "name": "stdout",
     "output_type": "stream",
     "text": [
      "45 17\n",
      "37 0\n",
      "38 0\n",
      "ADNI_135_S_4689_20121116\n",
      "244 230\n",
      "199 176\n",
      "152 122\n",
      "165 94\n",
      "179 80\n",
      "223 86\n",
      "152 127\n",
      "93 56\n",
      "76 34\n",
      "63 14\n"
     ]
    },
    {
     "name": "stderr",
     "output_type": "stream",
     "text": [
      " 86%|█████████████████████████████████████████████████████████████████████████████████████████████████████████████████████████████████▋                     | 249/290 [13:36<01:58,  2.88s/it]"
     ]
    },
    {
     "name": "stdout",
     "output_type": "stream",
     "text": [
      "57 0\n",
      "51 0\n",
      "ADNI_135_S_4722_20121205\n",
      "188 167\n",
      "147 119\n",
      "115 80\n",
      "119 70\n",
      "137 70\n",
      "156 69\n",
      "96 66\n",
      "63 33\n",
      "53 22\n"
     ]
    },
    {
     "name": "stderr",
     "output_type": "stream",
     "text": [
      " 86%|██████████████████████████████████████████████████████████████████████████████████████████████████████████████████████████████████▏                    | 250/290 [13:38<01:49,  2.73s/it]"
     ]
    },
    {
     "name": "stdout",
     "output_type": "stream",
     "text": [
      "42 8\n",
      "39 0\n",
      "32 0\n",
      "ADNI_135_S_4723_20121205\n",
      "123 110\n",
      "96 79\n",
      "87 56\n",
      "122 58\n",
      "153 65\n",
      "181 68\n",
      "64 45\n",
      "50 29\n",
      "48 24\n",
      "32 3\n"
     ]
    },
    {
     "name": "stderr",
     "output_type": "stream",
     "text": [
      " 87%|██████████████████████████████████████████████████████████████████████████████████████████████████████████████████████████████████▋                    | 251/290 [13:41<01:39,  2.55s/it]"
     ]
    },
    {
     "name": "stdout",
     "output_type": "stream",
     "text": [
      "39 0\n",
      "39 0\n",
      "ADNI_137_S_4211_20111213\n",
      "180 166\n",
      "98 84\n",
      "75 55\n",
      "83 44\n",
      "100 50\n",
      "128 57\n",
      "66 51\n",
      "54 36\n",
      "42 18\n",
      "37 11\n"
     ]
    },
    {
     "name": "stderr",
     "output_type": "stream",
     "text": [
      " 87%|███████████████████████████████████████████████████████████████████████████████████████████████████████████████████████████████████▏                   | 252/290 [13:42<01:29,  2.35s/it]"
     ]
    },
    {
     "name": "stdout",
     "output_type": "stream",
     "text": [
      "35 0\n",
      "26 0\n",
      "ADNI_137_S_4258_20111011\n",
      "329 301\n",
      "256 220\n",
      "208 167\n",
      "184 137\n",
      "175 121\n",
      "170 106\n",
      "206 164\n",
      "141 95\n",
      "122 68\n",
      "86 26\n"
     ]
    },
    {
     "name": "stderr",
     "output_type": "stream",
     "text": [
      " 87%|███████████████████████████████████████████████████████████████████████████████████████████████████████████████████████████████████▋                   | 253/290 [13:46<01:43,  2.80s/it]"
     ]
    },
    {
     "name": "stdout",
     "output_type": "stream",
     "text": [
      "71 0\n",
      "50 0\n",
      "ADNI_137_S_4299_20111102\n",
      "257 213\n",
      "227 168\n",
      "227 138\n",
      "253 125\n",
      "292 139\n",
      "362 150\n",
      "190 117\n",
      "174 79\n",
      "164 60\n",
      "155 42\n",
      "142 0\n"
     ]
    },
    {
     "name": "stderr",
     "output_type": "stream",
     "text": [
      " 88%|████████████████████████████████████████████████████████████████████████████████████████████████████████████████████████████████████▎                  | 254/290 [13:51<02:02,  3.40s/it]"
     ]
    },
    {
     "name": "stdout",
     "output_type": "stream",
     "text": [
      "134 0\n",
      "ADNI_137_S_4331_20111116\n",
      "218 197\n",
      "203 168\n",
      "208 145\n",
      "321 164\n",
      "451 193\n",
      "720 271\n",
      "158 117\n",
      "160 100\n",
      "156 80\n",
      "145 41\n",
      "134 0\n"
     ]
    },
    {
     "name": "stderr",
     "output_type": "stream",
     "text": [
      " 88%|████████████████████████████████████████████████████████████████████████████████████████████████████████████████████████████████████▊                  | 255/290 [13:57<02:21,  4.05s/it]"
     ]
    },
    {
     "name": "stdout",
     "output_type": "stream",
     "text": [
      "127 0\n",
      "ADNI_137_S_4351_20111202\n",
      "185 171\n",
      "116 100\n",
      "91 74\n",
      "81 58\n",
      "79 49\n",
      "82 46\n",
      "85 67\n",
      "60 36\n",
      "49 22\n"
     ]
    },
    {
     "name": "stderr",
     "output_type": "stream",
     "text": [
      " 88%|█████████████████████████████████████████████████████████████████████████████████████████████████████████████████████████████████████▎                 | 256/290 [13:59<01:56,  3.43s/it]"
     ]
    },
    {
     "name": "stdout",
     "output_type": "stream",
     "text": [
      "42 14\n",
      "33 0\n",
      "28 0\n",
      "ADNI_137_S_4466_20120827\n",
      "266 241\n",
      "165 140\n",
      "122 96\n",
      "107 67\n",
      "114 63\n",
      "133 67\n",
      "112 86\n",
      "77 49\n",
      "55 26\n",
      "47 12\n",
      "39 0\n"
     ]
    },
    {
     "name": "stderr",
     "output_type": "stream",
     "text": [
      " 89%|█████████████████████████████████████████████████████████████████████████████████████████████████████████████████████████████████████▊                 | 257/290 [14:01<01:43,  3.15s/it]"
     ]
    },
    {
     "name": "stdout",
     "output_type": "stream",
     "text": [
      "31 0\n",
      "ADNI_137_S_4482_20120914\n",
      "142 134\n",
      "76 67\n",
      "49 39\n",
      "55 32\n",
      "57 27\n",
      "66 29\n",
      "49 40\n",
      "31 20\n",
      "30 13\n"
     ]
    },
    {
     "name": "stderr",
     "output_type": "stream",
     "text": [
      " 89%|██████████████████████████████████████████████████████████████████████████████████████████████████████████████████████████████████████▎                | 258/290 [14:03<01:23,  2.62s/it]"
     ]
    },
    {
     "name": "stdout",
     "output_type": "stream",
     "text": [
      "28 10\n",
      "20 0\n",
      "14 0\n",
      "ADNI_137_S_4520_20120926\n",
      "186 171\n",
      "107 91\n",
      "76 55\n",
      "71 42\n",
      "70 32\n",
      "83 37\n",
      "73 53\n",
      "60 34\n",
      "56 26\n"
     ]
    },
    {
     "name": "stderr",
     "output_type": "stream",
     "text": [
      " 89%|██████████████████████████████████████████████████████████████████████████████████████████████████████████████████████████████████████▊                | 259/290 [14:04<01:14,  2.39s/it]"
     ]
    },
    {
     "name": "stdout",
     "output_type": "stream",
     "text": [
      "51 13\n",
      "43 0\n",
      "28 0\n",
      "ADNI_137_S_4536_20120910\n",
      "168 159\n",
      "100 84\n",
      "96 59\n",
      "158 64\n",
      "232 78\n",
      "335 105\n",
      "68 50\n",
      "42 21\n",
      "34 11\n",
      "32 7\n"
     ]
    },
    {
     "name": "stderr",
     "output_type": "stream",
     "text": [
      " 90%|███████████████████████████████████████████████████████████████████████████████████████████████████████████████████████████████████████▍               | 260/290 [14:07<01:13,  2.46s/it]"
     ]
    },
    {
     "name": "stdout",
     "output_type": "stream",
     "text": [
      "31 0\n",
      "34 0\n",
      "ADNI_137_S_4587_20121018\n",
      "230 214\n",
      "160 141\n",
      "112 87\n",
      "97 57\n",
      "110 58\n",
      "124 60\n",
      "87 67\n",
      "67 40\n",
      "64 35\n"
     ]
    },
    {
     "name": "stderr",
     "output_type": "stream",
     "text": [
      " 90%|███████████████████████████████████████████████████████████████████████████████████████████████████████████████████████████████████████▉               | 261/290 [14:09<01:10,  2.42s/it]"
     ]
    },
    {
     "name": "stdout",
     "output_type": "stream",
     "text": [
      "50 16\n",
      "43 0\n",
      "43 0\n",
      "ADNI_137_S_4596_20121008\n",
      "185 178\n",
      "113 101\n",
      "76 55\n",
      "77 45\n",
      "94 45\n",
      "121 49\n",
      "62 47\n",
      "51 30\n",
      "43 19\n",
      "41 14\n",
      "34 0\n"
     ]
    },
    {
     "name": "stderr",
     "output_type": "stream",
     "text": [
      " 90%|████████████████████████████████████████████████████████████████████████████████████████████████████████████████████████████████████████▍              | 262/290 [14:11<01:03,  2.26s/it]"
     ]
    },
    {
     "name": "stdout",
     "output_type": "stream",
     "text": [
      "25 0\n",
      "ADNI_137_S_4623_20121112\n",
      "229 208\n",
      "192 162\n",
      "153 117\n",
      "142 88\n",
      "152 82\n",
      "183 82\n",
      "141 107\n",
      "98 61\n",
      "77 37\n",
      "61 16\n"
     ]
    },
    {
     "name": "stderr",
     "output_type": "stream",
     "text": [
      " 91%|████████████████████████████████████████████████████████████████████████████████████████████████████████████████████████████████████████▉              | 263/290 [14:14<01:05,  2.42s/it]"
     ]
    },
    {
     "name": "stdout",
     "output_type": "stream",
     "text": [
      "55 0\n",
      "48 0\n",
      "ADNI_137_S_4631_20121213\n",
      "243 229\n",
      "236 204\n",
      "243 189\n",
      "246 154\n",
      "290 169\n",
      "356 175\n",
      "208 167\n",
      "186 124\n",
      "158 84\n",
      "137 51\n"
     ]
    },
    {
     "name": "stderr",
     "output_type": "stream",
     "text": [
      " 91%|█████████████████████████████████████████████████████████████████████████████████████████████████████████████████████████████████████████▍             | 264/290 [14:18<01:18,  3.03s/it]"
     ]
    },
    {
     "name": "stdout",
     "output_type": "stream",
     "text": [
      "121 0\n",
      "97 0\n",
      "ADNI_137_S_4632_20121217\n",
      "195 187\n",
      "105 88\n",
      "109 81\n",
      "154 89\n",
      "205 98\n",
      "289 119\n",
      "76 61\n",
      "58 41\n",
      "58 33\n",
      "50 16\n",
      "55 0\n"
     ]
    },
    {
     "name": "stderr",
     "output_type": "stream",
     "text": [
      " 91%|█████████████████████████████████████████████████████████████████████████████████████████████████████████████████████████████████████████▉             | 265/290 [14:21<01:12,  2.92s/it]"
     ]
    },
    {
     "name": "stdout",
     "output_type": "stream",
     "text": [
      "48 0\n",
      "ADNI_137_S_4672_20121016\n",
      "215 197\n",
      "128 108\n",
      "89 67\n",
      "67 44\n",
      "59 36\n",
      "56 29\n",
      "81 59\n",
      "50 27\n",
      "40 16\n",
      "38 11\n"
     ]
    },
    {
     "name": "stderr",
     "output_type": "stream",
     "text": [
      " 92%|██████████████████████████████████████████████████████████████████████████████████████████████████████████████████████████████████████████▌            | 266/290 [14:23<01:01,  2.56s/it]"
     ]
    },
    {
     "name": "stdout",
     "output_type": "stream",
     "text": [
      "35 0\n",
      "19 0\n",
      "ADNI_137_S_4678_20121126\n",
      "182 162\n",
      "152 127\n",
      "125 89\n",
      "137 67\n",
      "159 62\n",
      "199 62\n",
      "103 75\n",
      "59 28\n",
      "60 26\n"
     ]
    },
    {
     "name": "stderr",
     "output_type": "stream",
     "text": [
      " 92%|███████████████████████████████████████████████████████████████████████████████████████████████████████████████████████████████████████████            | 267/290 [14:25<00:58,  2.54s/it]"
     ]
    },
    {
     "name": "stdout",
     "output_type": "stream",
     "text": [
      "50 14\n",
      "46 0\n",
      "44 0\n",
      "ADNI_137_S_4815_20121019\n",
      "116 106\n",
      "89 72\n",
      "94 65\n",
      "186 89\n",
      "276 109\n",
      "402 152\n",
      "66 45\n",
      "65 37\n",
      "57 22\n",
      "51 12\n",
      "47 0\n"
     ]
    },
    {
     "name": "stderr",
     "output_type": "stream",
     "text": [
      " 92%|███████████████████████████████████████████████████████████████████████████████████████████████████████████████████████████████████████████▌           | 268/290 [14:28<00:57,  2.61s/it]"
     ]
    },
    {
     "name": "stdout",
     "output_type": "stream",
     "text": [
      "46 0\n",
      "ADNI_137_S_4816_20121031\n",
      "239 204\n",
      "186 138\n",
      "237 133\n",
      "410 154\n",
      "567 203\n",
      "783 271\n",
      "142 87\n",
      "117 57\n",
      "93 28\n",
      "84 15\n",
      "78 0\n"
     ]
    },
    {
     "name": "stderr",
     "output_type": "stream",
     "text": [
      " 93%|████████████████████████████████████████████████████████████████████████████████████████████████████████████████████████████████████████████           | 269/290 [14:33<01:11,  3.40s/it]"
     ]
    },
    {
     "name": "stdout",
     "output_type": "stream",
     "text": [
      "72 0\n",
      "ADNI_141_S_4160_20111205\n",
      "380 331\n",
      "287 222\n",
      "279 187\n",
      "296 159\n",
      "344 166\n",
      "425 190\n",
      "227 160\n",
      "186 105\n",
      "159 68\n",
      "136 34\n"
     ]
    },
    {
     "name": "stderr",
     "output_type": "stream",
     "text": [
      " 93%|████████████████████████████████████████████████████████████████████████████████████████████████████████████████████████████████████████████▌          | 270/290 [14:38<01:18,  3.93s/it]"
     ]
    },
    {
     "name": "stdout",
     "output_type": "stream",
     "text": [
      "120 0\n",
      "105 0\n",
      "ADNI_141_S_4232_20110924\n",
      "276 237\n",
      "222 175\n",
      "193 131\n",
      "203 120\n",
      "221 120\n",
      "224 110\n",
      "161 110\n",
      "123 64\n",
      "105 42\n",
      "98 26\n",
      "79 0\n"
     ]
    },
    {
     "name": "stderr",
     "output_type": "stream",
     "text": [
      " 93%|█████████████████████████████████████████████████████████████████████████████████████████████████████████████████████████████████████████████          | 271/290 [14:42<01:12,  3.80s/it]"
     ]
    },
    {
     "name": "stdout",
     "output_type": "stream",
     "text": [
      "60 0\n",
      "ADNI_153_S_2109_20101005\n",
      "ADNI_153_S_2148_20101026\n",
      "186 176\n",
      "123 109\n",
      "115 87\n",
      "193 96\n",
      "255 106\n",
      "349 117\n",
      "80 66\n",
      "50 33\n",
      "44 19\n",
      "44 14\n"
     ]
    },
    {
     "name": "stderr",
     "output_type": "stream",
     "text": [
      " 94%|██████████████████████████████████████████████████████████████████████████████████████████████████████████████████████████████████████████████▏        | 273/290 [14:45<00:46,  2.73s/it]"
     ]
    },
    {
     "name": "stdout",
     "output_type": "stream",
     "text": [
      "41 0\n",
      "30 0\n",
      "ADNI_153_S_4077_20110920\n",
      "372 327\n",
      "292 231\n",
      "276 196\n",
      "274 169\n",
      "327 165\n",
      "407 173\n",
      "256 182\n",
      "199 116\n",
      "176 78\n",
      "164 47\n",
      "137 0\n"
     ]
    },
    {
     "name": "stderr",
     "output_type": "stream",
     "text": [
      " 94%|██████████████████████████████████████████████████████████████████████████████████████████████████████████████████████████████████████████████▋        | 274/290 [14:50<00:53,  3.37s/it]"
     ]
    },
    {
     "name": "stdout",
     "output_type": "stream",
     "text": [
      "124 0\n",
      "ADNI_153_S_4133_20111102\n",
      "240 210\n",
      "172 139\n",
      "157 107\n",
      "204 105\n",
      "242 107\n",
      "318 125\n",
      "132 92\n",
      "91 47\n",
      "85 37\n",
      "66 15\n"
     ]
    },
    {
     "name": "stderr",
     "output_type": "stream",
     "text": [
      " 95%|███████████████████████████████████████████████████████████████████████████████████████████████████████████████████████████████████████████████▏       | 275/290 [14:54<00:50,  3.35s/it]"
     ]
    },
    {
     "name": "stdout",
     "output_type": "stream",
     "text": [
      "59 0\n",
      "52 0\n",
      "ADNI_153_S_4151_20111107\n",
      "204 185\n",
      "136 111\n",
      "136 100\n",
      "136 75\n",
      "175 85\n",
      "230 107\n",
      "108 80\n",
      "82 51\n",
      "52 20\n",
      "49 10\n"
     ]
    },
    {
     "name": "stderr",
     "output_type": "stream",
     "text": [
      " 95%|███████████████████████████████████████████████████████████████████████████████████████████████████████████████████████████████████████████████▋       | 276/290 [14:56<00:44,  3.15s/it]"
     ]
    },
    {
     "name": "stdout",
     "output_type": "stream",
     "text": [
      "46 0\n",
      "45 0\n",
      "ADNI_153_S_4159_20111108\n",
      "186 170\n",
      "132 111\n",
      "95 72\n",
      "92 55\n",
      "106 56\n",
      "121 59\n",
      "86 64\n",
      "62 38\n",
      "59 34\n"
     ]
    },
    {
     "name": "stderr",
     "output_type": "stream",
     "text": [
      " 96%|████████████████████████████████████████████████████████████████████████████████████████████████████████████████████████████████████████████████▏      | 277/290 [14:58<00:36,  2.84s/it]"
     ]
    },
    {
     "name": "stdout",
     "output_type": "stream",
     "text": [
      "42 16\n",
      "29 0\n",
      "24 0\n",
      "ADNI_153_S_4172_20111031\n",
      "173 164\n",
      "114 102\n",
      "87 73\n",
      "78 57\n",
      "81 51\n",
      "82 41\n",
      "82 69\n",
      "45 30\n",
      "40 20\n",
      "32 9\n"
     ]
    },
    {
     "name": "stderr",
     "output_type": "stream",
     "text": [
      " 96%|████████████████████████████████████████████████████████████████████████████████████████████████████████████████████████████████████████████████▊      | 278/290 [15:00<00:30,  2.53s/it]"
     ]
    },
    {
     "name": "stdout",
     "output_type": "stream",
     "text": [
      "35 0\n",
      "31 0\n",
      "ADNI_153_S_4372_20111130\n",
      "184 174\n",
      "111 97\n",
      "86 70\n",
      "97 67\n",
      "100 63\n",
      "100 53\n",
      "85 69\n",
      "71 47\n",
      "48 21\n"
     ]
    },
    {
     "name": "stderr",
     "output_type": "stream",
     "text": [
      " 96%|█████████████████████████████████████████████████████████████████████████████████████████████████████████████████████████████████████████████████▎     | 279/290 [15:02<00:25,  2.36s/it]"
     ]
    },
    {
     "name": "stdout",
     "output_type": "stream",
     "text": [
      "48 15\n",
      "41 0\n",
      "27 0\n",
      "ADNI_153_S_4621_20121030\n",
      "343 306\n",
      "300 247\n",
      "264 196\n",
      "322 183\n",
      "397 192\n",
      "495 207\n",
      "237 172\n",
      "206 117\n",
      "171 68\n",
      "156 37\n",
      "143 0\n"
     ]
    },
    {
     "name": "stderr",
     "output_type": "stream",
     "text": [
      " 97%|█████████████████████████████████████████████████████████████████████████████████████████████████████████████████████████████████████████████████▊     | 280/290 [15:07<00:32,  3.29s/it]"
     ]
    },
    {
     "name": "stdout",
     "output_type": "stream",
     "text": [
      "119 0\n",
      "ADNI_941_S_1195_20110315\n",
      "221 202\n",
      "143 120\n",
      "116 86\n",
      "139 76\n",
      "157 78\n",
      "199 88\n",
      "103 78\n",
      "87 60\n",
      "61 32\n"
     ]
    },
    {
     "name": "stderr",
     "output_type": "stream",
     "text": [
      " 97%|██████████████████████████████████████████████████████████████████████████████████████████████████████████████████████████████████████████████████▎    | 281/290 [15:10<00:27,  3.09s/it]"
     ]
    },
    {
     "name": "stdout",
     "output_type": "stream",
     "text": [
      "49 16\n",
      "40 0\n",
      "26 0\n",
      "ADNI_941_S_2060_20101206\n",
      "214 195\n",
      "164 135\n",
      "197 118\n",
      "430 149\n",
      "669 210\n",
      "939 271\n",
      "128 96\n",
      "109 68\n",
      "92 47\n",
      "74 22\n",
      "66 0\n"
     ]
    },
    {
     "name": "stderr",
     "output_type": "stream",
     "text": [
      " 97%|██████████████████████████████████████████████████████████████████████████████████████████████████████████████████████████████████████████████████▊    | 282/290 [15:16<00:30,  3.80s/it]"
     ]
    },
    {
     "name": "stdout",
     "output_type": "stream",
     "text": [
      "58 0\n",
      "ADNI_941_S_4036_20111006\n",
      "246 219\n",
      "166 135\n",
      "147 114\n",
      "135 94\n",
      "118 71\n",
      "113 61\n",
      "138 104\n",
      "90 52\n",
      "79 36\n",
      "68 15\n"
     ]
    },
    {
     "name": "stderr",
     "output_type": "stream",
     "text": [
      " 98%|███████████████████████████████████████████████████████████████████████████████████████████████████████████████████████████████████████████████████▎   | 283/290 [15:18<00:24,  3.44s/it]"
     ]
    },
    {
     "name": "stdout",
     "output_type": "stream",
     "text": [
      "61 0\n",
      "41 0\n",
      "ADNI_941_S_4100_20111003\n",
      "176 149\n",
      "141 102\n",
      "208 115\n",
      "480 174\n",
      "726 214\n",
      "1047 297\n",
      "120 83\n",
      "82 44\n",
      "69 26\n",
      "67 17\n"
     ]
    },
    {
     "name": "stderr",
     "output_type": "stream",
     "text": [
      " 98%|███████████████████████████████████████████████████████████████████████████████████████████████████████████████████████████████████████████████████▉   | 284/290 [15:24<00:24,  4.09s/it]"
     ]
    },
    {
     "name": "stdout",
     "output_type": "stream",
     "text": [
      "57 0\n",
      "51 0\n",
      "ADNI_941_S_4187_20111128\n",
      "231 215\n",
      "156 135\n",
      "140 113\n",
      "130 94\n",
      "137 94\n",
      "138 90\n",
      "136 112\n",
      "108 80\n",
      "90 55\n",
      "77 35\n"
     ]
    },
    {
     "name": "stderr",
     "output_type": "stream",
     "text": [
      " 98%|████████████████████████████████████████████████████████████████████████████████████████████████████████████████████████████████████████████████████▍  | 285/290 [15:26<00:18,  3.67s/it]"
     ]
    },
    {
     "name": "stdout",
     "output_type": "stream",
     "text": [
      "55 0\n",
      "46 0\n",
      "ADNI_941_S_4255_20111202\n",
      "203 186\n",
      "135 113\n",
      "137 102\n",
      "145 80\n",
      "171 69\n",
      "213 75\n",
      "109 83\n",
      "72 41\n",
      "66 26\n",
      "58 16\n"
     ]
    },
    {
     "name": "stderr",
     "output_type": "stream",
     "text": [
      " 99%|████████████████████████████████████████████████████████████████████████████████████████████████████████████████████████████████████████████████████▉  | 286/290 [15:29<00:13,  3.36s/it]"
     ]
    },
    {
     "name": "stdout",
     "output_type": "stream",
     "text": [
      "54 0\n",
      "41 0\n",
      "ADNI_941_S_4292_20111205\n",
      "182 170\n",
      "123 110\n",
      "105 88\n",
      "101 65\n",
      "107 56\n",
      "138 66\n",
      "89 72\n",
      "61 39\n",
      "41 19\n",
      "32 7\n"
     ]
    },
    {
     "name": "stderr",
     "output_type": "stream",
     "text": [
      " 99%|█████████████████████████████████████████████████████████████████████████████████████████████████████████████████████████████████████████████████████▍ | 287/290 [15:31<00:08,  2.95s/it]"
     ]
    },
    {
     "name": "stdout",
     "output_type": "stream",
     "text": [
      "32 0\n",
      "29 0\n",
      "ADNI_941_S_4365_20111122\n",
      "378 340\n",
      "343 285\n",
      "315 219\n",
      "434 230\n",
      "511 232\n",
      "638 265\n",
      "263 188\n",
      "229 134\n",
      "208 90\n",
      "188 46\n",
      "168 0\n"
     ]
    },
    {
     "name": "stderr",
     "output_type": "stream",
     "text": [
      " 99%|█████████████████████████████████████████████████████████████████████████████████████████████████████████████████████████████████████████████████████▉ | 288/290 [15:38<00:08,  4.06s/it]"
     ]
    },
    {
     "name": "stdout",
     "output_type": "stream",
     "text": [
      "155 0\n",
      "ADNI_941_S_4376_20110601\n",
      "240 205\n",
      "198 155\n",
      "195 142\n",
      "257 145\n",
      "334 169\n",
      "412 180\n",
      "167 116\n",
      "132 78\n",
      "108 49\n",
      "86 18\n"
     ]
    },
    {
     "name": "stderr",
     "output_type": "stream",
     "text": [
      "100%|██████████████████████████████████████████████████████████████████████████████████████████████████████████████████████████████████████████████████████▍| 289/290 [15:42<00:04,  4.06s/it]"
     ]
    },
    {
     "name": "stdout",
     "output_type": "stream",
     "text": [
      "79 0\n",
      "64 0\n",
      "ADNI_941_S_4764_20120820\n",
      "187 177\n",
      "88 76\n",
      "79 59\n",
      "116 51\n",
      "176 56\n",
      "238 65\n",
      "67 50\n",
      "40 20\n",
      "48 22\n"
     ]
    },
    {
     "name": "stderr",
     "output_type": "stream",
     "text": [
      "100%|███████████████████████████████████████████████████████████████████████████████████████████████████████████████████████████████████████████████████████| 290/290 [15:44<00:00,  3.26s/it]"
     ]
    },
    {
     "name": "stdout",
     "output_type": "stream",
     "text": [
      "55 18\n",
      "46 0\n",
      "38 0\n"
     ]
    },
    {
     "name": "stderr",
     "output_type": "stream",
     "text": [
      "\n"
     ]
    }
   ],
   "source": [
    "data = {}\n",
    "failed_ids = []\n",
    "for idx in tqdm(range(len(IDs)), position=0, leave=True):\n",
    "    ID = IDs[idx][0]\n",
    "    print(ID)\n",
    "    try:\n",
    "        vmap = vent_maps[idx].cuda()\n",
    "        smap = output_maps_for_pred[IDs[idx][1]][2].cuda()\n",
    "        smap_expanded = get_edge_expanded_seg(smap)\n",
    "        seg_volume = smap.sum().item()\n",
    "        vent_volume = vmap.sum().item()\n",
    "        vmap_ds = downsample_3d(vmap)\n",
    "\n",
    "        ind_data = {}\n",
    "\n",
    "        for input_type in [\"ent\", \"pred\"]:\n",
    "            if input_type == \"ent\":\n",
    "                umap = output_maps_for_umaps[IDs[idx][1]][0].cuda()\n",
    "                ts = [0.1, 0.2, 0.3, 0.4, 0.45, 0.5]\n",
    "                maxv = 0.7\n",
    "            # elif input_type == \"var\":\n",
    "            #     umap = output_maps_for_umaps[IDs[idx][1]][3].cuda()\n",
    "            #     ts = [0.01, 0.03, 0.06, 0.09, 0.12, 0.15]\n",
    "            #     maxv = 0.2\n",
    "            elif input_type == \"pred\":\n",
    "                umap = output_maps_for_pred[IDs[idx][1]][1].cuda()\n",
    "                ts = [0.1, 0.2, 0.3, 0.4, 0.5, 0.6]\n",
    "                maxv = 1.0\n",
    "            else:\n",
    "                raise ValueError  \n",
    "\n",
    "            umap_ds = downsample_3d(umap)\n",
    "\n",
    "            collected_data_t = {}\n",
    "\n",
    "            for t in ts:\n",
    "                ut = umap > t\n",
    "                umap_values = umap[ut]\n",
    "\n",
    "                #### summary statistics\n",
    "                sum, mean, std, skew, kurtosis = gaussian_summary_statistics(umap_values.cpu())\n",
    "                values_hist = histogram_distribution(umap_values, bins=20, minv=t, maxv=maxv)\n",
    "\n",
    "                #### overlap statistics\n",
    "                intersection = (ut * smap).sum()\n",
    "                expanded_intersection = (ut * smap_expanded).sum()\n",
    "\n",
    "                prop_umap_segmented = (intersection / ut.sum()).item()\n",
    "                prop_umap_within_expanded_seg = (expanded_intersection / ut.sum()).item()\n",
    "                prop_seg_uncertain = (intersection / smap.sum()).item()\n",
    "\n",
    "                ### ventricle distance statistics\n",
    "                ut_ds = umap_ds > t\n",
    "                distances_closest, distance_map = min_distances(ut_ds, vmap_ds)\n",
    "                distance_map = F.interpolate(distance_map.view(1, 1, *distance_map.shape), umap.shape, mode='trilinear').squeeze()\n",
    "                _, dist_mean, dist_std, dist_skew, dist_kurt = gaussian_summary_statistics(distances_closest.cpu())\n",
    "                umap_ds_values = umap_ds[ut_ds]\n",
    "                dist_value_joint = joint_hist_values({\"x\":distances_closest, \"y\":umap_ds_values}, x=\"x\", y=\"y\", minx=0, maxx=30, miny=t, maxy=maxv, bins=5).cpu()\n",
    "\n",
    "                ### connected component analysis statistics\n",
    "                conn_comps = get_conn_comps(ut)\n",
    "                cc_data = conn_comp_basic_stats(umap, conn_comps, smap, distance_map)\n",
    "                cc_data[\"log_sizes\"] = torch.Tensor(cc_data[\"sizes\"]).log()\n",
    "                cc_size_dist_joint = joint_hist_values(cc_data, \"log_sizes\", \"vent_dists\", 0, 8, 0, 10, 5).cpu()\n",
    "\n",
    "                # recorded values\n",
    "                all_data = {}\n",
    "                for key, value in cc_data.items():\n",
    "                    all_data[\"cc_\" + key] = value\n",
    "                all_data[\"sum\"] = sum\n",
    "                all_data[\"mean\"] = mean\n",
    "                all_data[\"std\"] = std\n",
    "                all_data[\"skew\"] = skew\n",
    "                all_data[\"kurtosis\"] = kurtosis\n",
    "                all_data[\"prop_umap_segmented\"] = prop_umap_segmented\n",
    "                all_data[\"prop_umap_within_expanded_seg\"] = prop_umap_within_expanded_seg\n",
    "                all_data[\"prop_seg_uncertain\"] = prop_seg_uncertain\n",
    "                all_data[\"dist_mean\"] = dist_mean\n",
    "                all_data[\"dist_std\"] = dist_std\n",
    "                all_data[\"dist_skew\"] = dist_skew\n",
    "                all_data[\"dist_kurt\"] = dist_kurt\n",
    "                all_data[\"dist_value_joint\"] = dist_value_joint\n",
    "                all_data[\"cc_dist_value_joint\"] = cc_size_dist_joint\n",
    "                all_data[\"seg_volume\"] = seg_volume\n",
    "                all_data[\"vent_volume\"] = vent_volume\n",
    "                all_data[\"values_hist\"] = values_hist\n",
    "\n",
    "                print(all_data[\"cc_num\"], all_data[\"cc_unsegmented_ccs\"])\n",
    "                collected_data_t[str(t)] = all_data\n",
    "\n",
    "\n",
    "                # break\n",
    "\n",
    "            ind_data[input_type] = collected_data_t\n",
    "            # break\n",
    "\n",
    "        data[ID] = ind_data\n",
    "        # break\n",
    "    except:\n",
    "        failed_ids.append((idx, ID))\n",
    "    # break\n",
    "        "
   ]
  },
  {
   "cell_type": "code",
   "execution_count": 80,
   "id": "0390c9fa-e5c2-4dcf-a388-12e8c6807b72",
   "metadata": {
    "tags": []
   },
   "outputs": [
    {
     "data": {
      "text/plain": [
       "dict_keys(['ent', 'pred'])"
      ]
     },
     "execution_count": 80,
     "metadata": {},
     "output_type": "execute_result"
    }
   ],
   "source": [
    "data['ADNI_002_S_0729_20110816'].keys()"
   ]
  },
  {
   "cell_type": "code",
   "execution_count": 81,
   "id": "1f00649e-426e-41b2-9c35-fd91650affeb",
   "metadata": {
    "tags": []
   },
   "outputs": [],
   "source": [
    "example_data = data['ADNI_002_S_0729_20110816']"
   ]
  },
  {
   "cell_type": "code",
   "execution_count": 82,
   "id": "1af428f3-69c6-4076-a725-4a571eb25549",
   "metadata": {
    "tags": []
   },
   "outputs": [
    {
     "data": {
      "text/plain": [
       "dict_keys(['cc_num', 'cc_sizes', 'cc_means', 'cc_stds', 'cc_skews', 'cc_kurts', 'cc_vent_dists', 'cc_unsegmented_ccs', 'cc_size_mean', 'cc_size_std', 'cc_size_skew', 'cc_size_kurt', 'cc_vd_mean', 'cc_vd_std', 'cc_vd_skew', 'cc_vd_kurt', 'cc_log_sizes', 'sum', 'mean', 'std', 'skew', 'kurtosis', 'prop_umap_segmented', 'prop_umap_within_expanded_seg', 'prop_seg_uncertain', 'dist_mean', 'dist_std', 'dist_skew', 'dist_kurt', 'dist_value_joint', 'cc_dist_value_joint', 'seg_volume', 'vent_volume', 'values_hist'])"
      ]
     },
     "execution_count": 82,
     "metadata": {},
     "output_type": "execute_result"
    }
   ],
   "source": [
    "example_data['ent']['0.45'].keys()"
   ]
  },
  {
   "cell_type": "code",
   "execution_count": 83,
   "id": "1ded3a69-4def-4372-9865-af1e389bbc2e",
   "metadata": {
    "tags": []
   },
   "outputs": [
    {
     "data": {
      "text/plain": [
       "[0.2685714364051819,\n",
       " 0.09142857044935226,\n",
       " 0.008571428246796131,\n",
       " 0.0,\n",
       " 0.0,\n",
       " 0.2028571367263794,\n",
       " 0.05999999865889549,\n",
       " 0.014285714365541935,\n",
       " 0.0,\n",
       " 0.0,\n",
       " 0.16285714507102966,\n",
       " 0.017142856493592262,\n",
       " 0.0,\n",
       " 0.0,\n",
       " 0.0,\n",
       " 0.10857142508029938,\n",
       " 0.011428571306169033,\n",
       " 0.0,\n",
       " 0.0,\n",
       " 0.0,\n",
       " 0.051428571343421936,\n",
       " 0.0028571428265422583,\n",
       " 0.0,\n",
       " 0.0,\n",
       " 0.0]"
      ]
     },
     "execution_count": 83,
     "metadata": {},
     "output_type": "execute_result"
    }
   ],
   "source": [
    "example_data['ent']['0.45']['dist_value_joint'].view(-1).tolist()"
   ]
  },
  {
   "cell_type": "code",
   "execution_count": 84,
   "id": "ebcd0f33-21f4-497c-80f9-f72c7c1320b7",
   "metadata": {
    "tags": []
   },
   "outputs": [],
   "source": [
    "row_data = example_data['ent']['0.45']"
   ]
  },
  {
   "cell_type": "code",
   "execution_count": 85,
   "id": "e39ef700-4103-4048-ae90-6dae3a101935",
   "metadata": {
    "tags": []
   },
   "outputs": [
    {
     "data": {
      "text/plain": [
       "dict_keys(['cc_num', 'cc_sizes', 'cc_means', 'cc_stds', 'cc_skews', 'cc_kurts', 'cc_vent_dists', 'cc_unsegmented_ccs', 'cc_size_mean', 'cc_size_std', 'cc_size_skew', 'cc_size_kurt', 'cc_vd_mean', 'cc_vd_std', 'cc_vd_skew', 'cc_vd_kurt', 'cc_log_sizes', 'sum', 'mean', 'std', 'skew', 'kurtosis', 'prop_umap_segmented', 'prop_umap_within_expanded_seg', 'prop_seg_uncertain', 'dist_mean', 'dist_std', 'dist_skew', 'dist_kurt', 'dist_value_joint', 'cc_dist_value_joint', 'seg_volume', 'vent_volume', 'values_hist'])"
      ]
     },
     "execution_count": 85,
     "metadata": {},
     "output_type": "execute_result"
    }
   ],
   "source": [
    "row_data.keys()"
   ]
  },
  {
   "cell_type": "code",
   "execution_count": 86,
   "id": "0c18f0f5-8e8a-4764-9518-dd413a12db27",
   "metadata": {
    "tags": []
   },
   "outputs": [],
   "source": [
    "import pandas as pd"
   ]
  },
  {
   "cell_type": "code",
   "execution_count": 87,
   "id": "4428a6cf-b376-4c46-b1a4-f44563314a15",
   "metadata": {
    "tags": []
   },
   "outputs": [
    {
     "name": "stderr",
     "output_type": "stream",
     "text": [
      "100%|██████████████████████████████████████████████████████████████████████████████████████████████████████████████████████████████████████████████████████| 286/286 [00:02<00:00, 137.39it/s]\n"
     ]
    }
   ],
   "source": [
    "pd_dfs = defaultdict(lambda : defaultdict(lambda : defaultdict(lambda : [])))\n",
    "pd_other_data_dfs = defaultdict(lambda : [])\n",
    "\n",
    "for ID_key in tqdm(natsorted(data.keys()), position=0, leave=True):\n",
    "    ind_data = data[ID_key]\n",
    "    for input_key in natsorted(ind_data.keys()):\n",
    "        map_type_data = ind_data[input_key]\n",
    "        for t_key in natsorted(map_type_data.keys()):\n",
    "            row_data = map_type_data[t_key]\n",
    "            \n",
    "            #row = []\n",
    "            pd_dfs[input_key][t_key]['ID'].append(ID_key)\n",
    "            for key in ['cc_num', 'cc_unsegmented_ccs', 'cc_size_mean', 'cc_size_std', 'cc_size_skew', 'cc_size_kurt', 'cc_vd_mean', 'cc_vd_std', 'cc_vd_skew', 'cc_vd_kurt', 'sum', 'mean', 'std', 'skew', 'kurtosis', 'prop_umap_segmented', 'prop_umap_within_expanded_seg', 'prop_seg_uncertain', 'dist_mean', 'dist_std', 'dist_skew', 'dist_kurt', 'dist_value_joint', 'cc_dist_value_joint', 'seg_volume', 'vent_volume', 'values_hist']:\n",
    "                if 'joint' not in key and 'hist' not in key:\n",
    "                    #row.append((key, row_data[key]))\n",
    "                    pd_dfs[input_key][t_key][key].append(row_data[key])\n",
    "                else:\n",
    "                    table_vals = row_data[key].view(-1).tolist()\n",
    "                    for i in range(len(table_vals)):\n",
    "                        #row.append((f\"{key}_{i}\", table_vals[i]))\n",
    "                        pd_dfs[input_key][t_key][f\"{key}_{i}\"].append(table_vals[i])\n",
    "                        \n",
    "            for key in ['cc_sizes', 'cc_means', 'cc_stds', 'cc_skews', 'cc_kurts', 'cc_vent_dists', 'cc_log_sizes']:\n",
    "                pd_other_data_dfs[key].extend(row_data[key])\n",
    "            pd_other_data_dfs[\"id\"].extend([f\"{ID_key}_{input_key}_{t_key}\" for _ in range(len(row_data['cc_sizes']))])"
   ]
  },
  {
   "cell_type": "code",
   "execution_count": 88,
   "id": "9d02276f-8234-4486-81c6-d613c0706d8d",
   "metadata": {
    "tags": []
   },
   "outputs": [
    {
     "name": "stderr",
     "output_type": "stream",
     "text": [
      "100%|███████████████████████████████████████████████████████████████████████████████████████████████████████████████████████████████████████████████████████████| 2/2 [00:00<00:00,  3.45it/s]\n"
     ]
    }
   ],
   "source": [
    "# save the summary statistics\n",
    "ind_data = data[list(data.keys())[0]]\n",
    "for input_key in tqdm(natsorted(ind_data.keys()), position=0, leave=True):\n",
    "    map_type_data = ind_data[input_key]\n",
    "    for t_key in natsorted(map_type_data.keys()):\n",
    "        df = pd.DataFrame(pd_dfs[input_key][t_key])\n",
    "        df.to_csv(f\"/home/s2208943/ipdis/data/preprocessed_data/umap_data_spreadsheets/ADNI/{model_name}_{input_key}_{t_key}.csv\")\n",
    "        \n",
    "    "
   ]
  },
  {
   "cell_type": "code",
   "execution_count": 89,
   "id": "a67c37fd-7ee2-4314-a315-c04d75652a1a",
   "metadata": {
    "tags": []
   },
   "outputs": [],
   "source": [
    "# save the per individual connected component statistic\n",
    "# np_df = {}\n",
    "# for key in pd_other_data_dfs.keys():\n",
    "#     np_df[key] = np.array(pd_other_data_dfs[key])\n",
    "# np.save(\"umap_data_spreadsheets/ADNI/connected_component_data.npy\", np_df)"
   ]
  }
 ],
 "metadata": {
  "kernelspec": {
   "display_name": "Python 3 (ipykernel)",
   "language": "python",
   "name": "python3"
  },
  "language_info": {
   "codemirror_mode": {
    "name": "ipython",
    "version": 3
   },
   "file_extension": ".py",
   "mimetype": "text/x-python",
   "name": "python",
   "nbconvert_exporter": "python",
   "pygments_lexer": "ipython3",
   "version": "3.8.10"
  }
 },
 "nbformat": 4,
 "nbformat_minor": 5
}
