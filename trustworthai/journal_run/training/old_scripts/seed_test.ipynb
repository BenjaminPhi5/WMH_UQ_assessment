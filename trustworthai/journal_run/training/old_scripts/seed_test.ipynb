{
 "cells": [
  {
   "cell_type": "code",
   "execution_count": 1,
   "id": "cd79b5cd-298e-4f76-b2d6-5680c5520947",
   "metadata": {
    "tags": []
   },
   "outputs": [],
   "source": [
    "from trustworthai.utils.losses_and_metrics.dice_loss import DiceLossWithWeightedEmptySlices\n",
    "from trustworthai.utils.losses_and_metrics.dice_loss_metric import DiceLossMetric, SsnDiceMeanMetricWrapper\n",
    "from trustworthai.utils.losses_and_metrics.ssn_losses import SSNCombinedDiceXentLoss"
   ]
  },
  {
   "cell_type": "code",
   "execution_count": 2,
   "id": "c225d497-41d2-4fc8-a7ba-d99fbef6032f",
   "metadata": {
    "tags": []
   },
   "outputs": [],
   "source": [
    "from trustworthai.utils.augmentation.augmentation_pipelines import get_transforms, none_transform"
   ]
  },
  {
   "cell_type": "code",
   "execution_count": 3,
   "id": "59e3d39d-f007-48b7-a763-ad4198b223c3",
   "metadata": {
    "tags": []
   },
   "outputs": [
    {
     "name": "stdout",
     "output_type": "stream",
     "text": [
      "running on local machine!\n"
     ]
    }
   ],
   "source": [
    "from trustworthai.utils.data_preprep.dataset_pipelines import load_data"
   ]
  },
  {
   "cell_type": "code",
   "execution_count": 4,
   "id": "3650642c-7732-4c0d-9eb4-ba57821f1bed",
   "metadata": {
    "tags": []
   },
   "outputs": [],
   "source": [
    "from trustworthai.utils.fitting_and_inference.fitters.basic_lightning_fitter import StandardLitModelWrapper"
   ]
  },
  {
   "cell_type": "code",
   "execution_count": 5,
   "id": "01013831-b84d-41d5-bb7b-246c0ecb638f",
   "metadata": {
    "tags": []
   },
   "outputs": [],
   "source": [
    "from trustworthai.utils.fitting_and_inference.get_trainer import get_trainer"
   ]
  },
  {
   "cell_type": "code",
   "execution_count": 6,
   "id": "55143146-7392-4f60-b1c5-81a4dc79282b",
   "metadata": {
    "tags": []
   },
   "outputs": [],
   "source": [
    "from trustworthai.models.core_models.Hypermapp3r import HyperMapp3r\n",
    "from trustworthai.models.stochastic_wrappers.ssn.ssn import SSN"
   ]
  },
  {
   "cell_type": "code",
   "execution_count": 7,
   "id": "15a81760-6db0-4afa-88b9-3a6ebda5b3fe",
   "metadata": {
    "tags": []
   },
   "outputs": [],
   "source": [
    "from torchinfo import summary\n",
    "import torch"
   ]
  },
  {
   "cell_type": "code",
   "execution_count": 8,
   "id": "b3d5a322-2f40-4fa8-a55b-dfa276af3ded",
   "metadata": {
    "tags": []
   },
   "outputs": [],
   "source": [
    "# get the 2d axial slice dataloaders\n",
    "train_dl, val_dl, test_dl = load_data(\n",
    "    dataset=\"chal\", \n",
    "    test_proportion=0.15, \n",
    "    validation_proportion=0.15,\n",
    "    seed=3407,\n",
    "    empty_proportion_retained=1,#0.1,\n",
    "    batch_size=12,\n",
    "    dataloader2d_only=True,\n",
    "    cross_validate=True,\n",
    "    cv_split=5\n",
    ")"
   ]
  },
  {
   "cell_type": "code",
   "execution_count": 9,
   "id": "023ef19b-e331-4f81-9879-b4e67912b10c",
   "metadata": {
    "tags": []
   },
   "outputs": [
    {
     "data": {
      "text/plain": [
       "(tensor(16001.1396), tensor(18703.8047))"
      ]
     },
     "execution_count": 9,
     "metadata": {},
     "output_type": "execute_result"
    }
   ],
   "source": [
    "train_dl.dataset[0][0].sum(), val_dl.dataset[0][0].sum()"
   ]
  },
  {
   "cell_type": "code",
   "execution_count": 10,
   "id": "75d4d4d7-ae79-47d0-be03-fbe013c84b0c",
   "metadata": {
    "tags": []
   },
   "outputs": [
    {
     "data": {
      "text/plain": [
       "3580"
      ]
     },
     "execution_count": 10,
     "metadata": {},
     "output_type": "execute_result"
    }
   ],
   "source": [
    "len(train_dl.dataset) + len(val_dl.dataset)"
   ]
  },
  {
   "cell_type": "code",
   "execution_count": 11,
   "id": "00a29724-4aec-4c84-bf97-93561f15c425",
   "metadata": {
    "tags": []
   },
   "outputs": [
    {
     "data": {
      "text/plain": [
       "(224, 75, 75)"
      ]
     },
     "execution_count": 11,
     "metadata": {},
     "output_type": "execute_result"
    }
   ],
   "source": [
    "len(train_dl), len(val_dl), len(test_dl)"
   ]
  },
  {
   "cell_type": "markdown",
   "id": "88c1e66b-0229-4993-8f8d-504a81f2de1b",
   "metadata": {
    "tags": []
   },
   "source": [
    "x, y = next(iter(train_dl))"
   ]
  },
  {
   "cell_type": "code",
   "execution_count": 14,
   "id": "72553a1f-f78a-4f7b-a296-9473db099572",
   "metadata": {
    "tags": []
   },
   "outputs": [],
   "source": [
    "encoder_sizes=[16,32,64,128,256]\n",
    "base_model = HyperMapp3r(\n",
    "    dropout_p=0.,\n",
    "    encoder_sizes=encoder_sizes,\n",
    "    inchannels=3,\n",
    "    outchannels=encoder_sizes[1],\n",
    ")"
   ]
  },
  {
   "cell_type": "code",
   "execution_count": 15,
   "id": "7368a472-fe0b-4bac-ba5e-4dd246221fbb",
   "metadata": {
    "tags": []
   },
   "outputs": [],
   "source": [
    "model_raw = SSN(\n",
    "    base_model=base_model,\n",
    "    rank=15,\n",
    "    diagonal=False,\n",
    "    epsilon=1e-5,\n",
    "    intermediate_channels=base_model.output_channels,\n",
    "    out_channels=2,\n",
    "    dims=2\n",
    "    ).cuda()"
   ]
  },
  {
   "cell_type": "code",
   "execution_count": 16,
   "id": "01128d11-b94a-4c89-adac-3a550a0926f8",
   "metadata": {
    "tags": []
   },
   "outputs": [
    {
     "data": {
      "text/plain": [
       "Conv2d(32, 2, kernel_size=(1, 1), stride=(1, 1), padding=same)"
      ]
     },
     "execution_count": 16,
     "metadata": {},
     "output_type": "execute_result"
    }
   ],
   "source": [
    "model_raw.mean_l"
   ]
  },
  {
   "cell_type": "code",
   "execution_count": null,
   "id": "6fbe160d-443e-447a-8640-d04775103780",
   "metadata": {},
   "outputs": [],
   "source": []
  }
 ],
 "metadata": {
  "kernelspec": {
   "display_name": "Python 3 (ipykernel)",
   "language": "python",
   "name": "python3"
  },
  "language_info": {
   "codemirror_mode": {
    "name": "ipython",
    "version": 3
   },
   "file_extension": ".py",
   "mimetype": "text/x-python",
   "name": "python",
   "nbconvert_exporter": "python",
   "pygments_lexer": "ipython3",
   "version": "3.9.16"
  }
 },
 "nbformat": 4,
 "nbformat_minor": 5
}
