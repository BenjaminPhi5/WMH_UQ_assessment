{
 "cells": [
  {
   "cell_type": "code",
   "execution_count": 1,
   "id": "9f156fda-2375-4a95-9bc4-41c46fe2fd1d",
   "metadata": {},
   "outputs": [
    {
     "name": "stdout",
     "output_type": "stream",
     "text": [
      "strawberry\n",
      "running on local machine!\n",
      "banana\n"
     ]
    }
   ],
   "source": [
    "print(\"strawberry\")\n",
    "\n",
    "# loss function and metrics\n",
    "from trustworthai.utils.losses_and_metrics.dice_loss import DiceLossWithWeightedEmptySlices\n",
    "from trustworthai.utils.losses_and_metrics.dice_loss_metric import DiceLossMetric\n",
    "\n",
    "# predefined training dataset\n",
    "from trustworthai.utils.data_preprep.dataset_pipelines import load_data\n",
    "\n",
    "# fitter\n",
    "from trustworthai.utils.fitting_and_inference.fitters.basic_lightning_fitter import StandardLitModelWrapper\n",
    "from trustworthai.utils.fitting_and_inference.get_trainer import get_trainer\n",
    "\n",
    "# model\n",
    "from trustworthai.journal_run.model_load.load_deterministic import load_deterministic\n",
    "\n",
    "# optimizer and lr scheduler\n",
    "import torch\n",
    "\n",
    "# misc\n",
    "import argparse\n",
    "import os\n",
    "import shutil\n",
    "import matplotlib.pyplot as plt\n",
    "\n",
    "print(\"banana\")"
   ]
  },
  {
   "cell_type": "code",
   "execution_count": 2,
   "id": "7894acbc-6a1f-4bf8-b7c8-3692681f58be",
   "metadata": {
    "tags": []
   },
   "outputs": [],
   "source": [
    "%load_ext autoreload"
   ]
  },
  {
   "cell_type": "code",
   "execution_count": 36,
   "id": "65d23420-9835-45ff-8bc3-ed90ef3da014",
   "metadata": {},
   "outputs": [],
   "source": [
    "class ARGS():\n",
    "    def __init__(self):\n",
    "    \n",
    "        # folder arguments\n",
    "        self.ckpt_dir = '.'\n",
    "        self.model_name = \"test\"\n",
    "        \n",
    "        # data generation arguments\n",
    "        self.dataset = 'chal'\n",
    "        self.seed = 3407\n",
    "        self.test_split = 0.15\n",
    "        self.val_split = 0.15\n",
    "        self.empty_slice_retention = 0.1\n",
    "        \n",
    "        # general arguments for the loss function\n",
    "        self.loss_name = 'dice+xent'#'dicev2'#'dice+xent'\n",
    "        self.dice_factor = 1#5\n",
    "        self.xent_factor = 1#0.01\n",
    "        self.xent_weight = 'none'\n",
    "        self.xent_reweighting=None,\n",
    "        self.dice_empty_slice_weight = 0.5\n",
    "        self.tversky_beta = 0.7\n",
    "        self.reduction = 'mean'#'mean_sum'\n",
    "        \n",
    "        # training paradigm arguments\n",
    "        self.lr = 2e-4\n",
    "        self.dropout_p = 0.0\n",
    "        self.max_epochs = 100\n",
    "        self.early_stop_patience = 15\n",
    "        self.batch_size = 8#32\n",
    "        self.cross_validate = False\n",
    "        self.cv_split = 0\n",
    "        self.cv_test_fold_smooth = 1\n",
    "        self.weight_decay = 0.0001\n",
    "        self.overwrite = \"true\""
   ]
  },
  {
   "cell_type": "code",
   "execution_count": 37,
   "id": "16772c69-c3ca-484e-bdcb-fa3f934c4ea0",
   "metadata": {},
   "outputs": [],
   "source": [
    "args = ARGS()\n",
    "args.overwrite = True if args.overwrite.lower() == \"true\" else False\n",
    "args.cross_validate = True"
   ]
  },
  {
   "cell_type": "code",
   "execution_count": 38,
   "id": "d23135d3-03c6-45b7-a7c3-22cfb77b278d",
   "metadata": {
    "tags": []
   },
   "outputs": [
    {
     "data": {
      "text/plain": [
       "164.2"
      ]
     },
     "execution_count": 38,
     "metadata": {},
     "output_type": "execute_result"
    }
   ],
   "source": [
    "VOXELS_TO_WMH_RATIO = 382\n",
    "VOXELS_TO_WMH_RATIO_EXCLUDING_EMPTY_SLICES = 140\n",
    "\n",
    "XENT_VOXEL_RESCALE = VOXELS_TO_WMH_RATIO - (1-args.empty_slice_retention) * (VOXELS_TO_WMH_RATIO - VOXELS_TO_WMH_RATIO_EXCLUDING_EMPTY_SLICES)\n",
    "\n",
    "XENT_WEIGHTING = XENT_VOXEL_RESCALE/2\n",
    "args.xent_reweighting = XENT_WEIGHTING\n",
    "args.xent_reweighting * 2"
   ]
  },
  {
   "cell_type": "code",
   "execution_count": 39,
   "id": "828cba16-9035-4cc2-8f60-04dae92c0fb2",
   "metadata": {},
   "outputs": [],
   "source": [
    "model_dir = os.path.join(args.ckpt_dir, args.model_name) # TODO model name dir goes here"
   ]
  },
  {
   "cell_type": "code",
   "execution_count": 40,
   "id": "d5bb1fe5-e657-4142-802b-df5502485ee7",
   "metadata": {},
   "outputs": [
    {
     "name": "stdout",
     "output_type": "stream",
     "text": [
      "warning, folder being overwritten\n"
     ]
    }
   ],
   "source": [
    "if os.path.exists(model_dir):\n",
    "    if not args.overwrite:\n",
    "        raise ValueError(f\"model directly ALREADY EXISTS: do not wish to overwrite!!: {model_dir}\")\n",
    "    else:\n",
    "        print(\"warning, folder being overwritten\")\n",
    "        shutil.rmtree(model_dir)\n",
    "        os.mkdir(model_dir)"
   ]
  },
  {
   "cell_type": "code",
   "execution_count": 41,
   "id": "eeecb2b0-489c-4415-ae71-bc868b9e0d69",
   "metadata": {},
   "outputs": [
    {
     "name": "stdout",
     "output_type": "stream",
     "text": [
      "39 9 12\n"
     ]
    }
   ],
   "source": [
    "# get the 2d axial slice dataloaders\n",
    "train_dl, val_dl, test_dl =  load_data(\n",
    "    dataset=args.dataset, \n",
    "    test_proportion=args.test_split, \n",
    "    validation_proportion=args.val_split,\n",
    "    seed=args.seed,\n",
    "    empty_proportion_retained=args.empty_slice_retention,\n",
    "    batch_size=args.batch_size,\n",
    "    dataloader2d_only=True,\n",
    "    cross_validate=args.cross_validate,\n",
    "    cv_split=args.cv_split,\n",
    "    cv_test_fold_smooth=args.cv_test_fold_smooth,\n",
    "    merge_val_test=\"false\"\n",
    ")"
   ]
  },
  {
   "cell_type": "code",
   "execution_count": 42,
   "id": "6317f84d-f82d-4691-a765-32db2edfbfa1",
   "metadata": {
    "tags": []
   },
   "outputs": [],
   "source": [
    "wmh_voxel_count = 0\n",
    "voxel_count = 0\n",
    "for batch_train in train_dl:\n",
    "    label_voxels = batch_train[1].view(-1)\n",
    "    wmh_voxel_count += (label_voxels==1).sum().item()\n",
    "    voxel_count += label_voxels.shape[0]"
   ]
  },
  {
   "cell_type": "code",
   "execution_count": 43,
   "id": "3acc2262-4d25-477b-98a9-aa0bf84456b1",
   "metadata": {},
   "outputs": [
    {
     "data": {
      "text/plain": [
       "170.4063725985612"
      ]
     },
     "execution_count": 43,
     "metadata": {},
     "output_type": "execute_result"
    }
   ],
   "source": [
    "voxel_count/(wmh_voxel_count)"
   ]
  },
  {
   "cell_type": "code",
   "execution_count": 44,
   "id": "2682d163-cbc4-4894-8e4d-662f4b3bbc31",
   "metadata": {},
   "outputs": [],
   "source": [
    "model_raw, loss, val_loss = load_deterministic(args)"
   ]
  },
  {
   "cell_type": "code",
   "execution_count": 45,
   "id": "103b2748-2d7a-4db3-8204-9769bfaf608d",
   "metadata": {},
   "outputs": [],
   "source": [
    "# setup optimizer and model wrapper\n",
    "optimizer_params={\"lr\":args.lr, \"weight_decay\":args.weight_decay}\n",
    "optimizer = torch.optim.Adam\n",
    "lr_scheduler_params={\"milestones\":[1000], \"gamma\":0.5}\n",
    "lr_scheduler_constructor = torch.optim.lr_scheduler.MultiStepLR"
   ]
  },
  {
   "cell_type": "code",
   "execution_count": 46,
   "id": "40e6f960-cb78-4934-b110-a1dc4d4202e5",
   "metadata": {},
   "outputs": [],
   "source": [
    "# wrap the model in the pytorch_lightning module that automates training\n",
    "model = StandardLitModelWrapper(model=model_raw, loss=loss, \n",
    "                                val_loss=val_loss,\n",
    "                                logging_metric=lambda : None,\n",
    "                                optimizer_params=optimizer_params,\n",
    "                                lr_scheduler_params=lr_scheduler_params,\n",
    "                                optimizer_constructor=optimizer,\n",
    "                                lr_scheduler_constructor=lr_scheduler_constructor\n",
    "                               )"
   ]
  },
  {
   "cell_type": "code",
   "execution_count": 47,
   "id": "a13edc0c-81c6-47d6-8997-1671fa836701",
   "metadata": {},
   "outputs": [
    {
     "name": "stderr",
     "output_type": "stream",
     "text": [
      "GPU available: True (cuda), used: True\n",
      "TPU available: False, using: 0 TPU cores\n",
      "IPU available: False, using: 0 IPUs\n",
      "HPU available: False, using: 0 HPUs\n",
      "Missing logger folder: test/lightning_logs\n",
      "LOCAL_RANK: 0 - CUDA_VISIBLE_DEVICES: [0]\n",
      "\n",
      "  | Name  | Type           | Params\n",
      "-----------------------------------------\n",
      "0 | model | Deterministic  | 6.3 M \n",
      "1 | loss  | dice_xent_loss | 0     \n",
      "-----------------------------------------\n",
      "6.3 M     Trainable params\n",
      "0         Non-trainable params\n",
      "6.3 M     Total params\n",
      "25.231    Total estimated model params size (MB)\n"
     ]
    },
    {
     "name": "stdout",
     "output_type": "stream",
     "text": [
      "running on local machine!\n"
     ]
    },
    {
     "data": {
      "application/vnd.jupyter.widget-view+json": {
       "model_id": "",
       "version_major": 2,
       "version_minor": 0
      },
      "text/plain": [
       "Sanity Checking: 0it [00:00, ?it/s]"
      ]
     },
     "metadata": {},
     "output_type": "display_data"
    },
    {
     "data": {
      "application/vnd.jupyter.widget-view+json": {
       "model_id": "a1e008fbb2764573a059be519b72b1e0",
       "version_major": 2,
       "version_minor": 0
      },
      "text/plain": [
       "Training: 0it [00:00, ?it/s]"
      ]
     },
     "metadata": {},
     "output_type": "display_data"
    },
    {
     "data": {
      "application/vnd.jupyter.widget-view+json": {
       "model_id": "",
       "version_major": 2,
       "version_minor": 0
      },
      "text/plain": [
       "Validation: 0it [00:00, ?it/s]"
      ]
     },
     "metadata": {},
     "output_type": "display_data"
    },
    {
     "name": "stderr",
     "output_type": "stream",
     "text": [
      "Metric val_loss improved. New best score: 2.068\n"
     ]
    },
    {
     "data": {
      "application/vnd.jupyter.widget-view+json": {
       "model_id": "",
       "version_major": 2,
       "version_minor": 0
      },
      "text/plain": [
       "Validation: 0it [00:00, ?it/s]"
      ]
     },
     "metadata": {},
     "output_type": "display_data"
    },
    {
     "name": "stderr",
     "output_type": "stream",
     "text": [
      "Metric val_loss improved by 0.625 >= min_delta = 0.01. New best score: 1.443\n"
     ]
    },
    {
     "data": {
      "application/vnd.jupyter.widget-view+json": {
       "model_id": "",
       "version_major": 2,
       "version_minor": 0
      },
      "text/plain": [
       "Validation: 0it [00:00, ?it/s]"
      ]
     },
     "metadata": {},
     "output_type": "display_data"
    },
    {
     "name": "stderr",
     "output_type": "stream",
     "text": [
      "Metric val_loss improved by 0.121 >= min_delta = 0.01. New best score: 1.322\n"
     ]
    }
   ],
   "source": [
    "# train the model\n",
    "trainer = get_trainer(args.max_epochs, model_dir, early_stop_patience=args.early_stop_patience)\n",
    "trainer.fit(model, train_dl, val_dl)"
   ]
  },
  {
   "cell_type": "code",
   "execution_count": 48,
   "id": "f1692b03-40a3-4946-9f6d-9752a8f4028c",
   "metadata": {},
   "outputs": [
    {
     "name": "stderr",
     "output_type": "stream",
     "text": [
      "Restoring states from the checkpoint path at /home/benp/Documents/PhD_projects/WMH_uncertainty_exploration/trustworthai/journal_run/training/new_scripts/testing_notebooks/test/epoch=2-step=390.ckpt\n",
      "LOCAL_RANK: 0 - CUDA_VISIBLE_DEVICES: [0]\n",
      "Loaded model weights from the checkpoint at /home/benp/Documents/PhD_projects/WMH_uncertainty_exploration/trustworthai/journal_run/training/new_scripts/testing_notebooks/test/epoch=2-step=390.ckpt\n"
     ]
    },
    {
     "data": {
      "application/vnd.jupyter.widget-view+json": {
       "model_id": "298b3fb62ab447a0b536ed1ab84d65a6",
       "version_major": 2,
       "version_minor": 0
      },
      "text/plain": [
       "Validation: 0it [00:00, ?it/s]"
      ]
     },
     "metadata": {},
     "output_type": "display_data"
    },
    {
     "data": {
      "text/html": [
       "<pre style=\"white-space:pre;overflow-x:auto;line-height:normal;font-family:Menlo,'DejaVu Sans Mono',consolas,'Courier New',monospace\">┏━━━━━━━━━━━━━━━━━━━━━━━━━━━┳━━━━━━━━━━━━━━━━━━━━━━━━━━━┓\n",
       "┃<span style=\"font-weight: bold\">      Validate metric      </span>┃<span style=\"font-weight: bold\">       DataLoader 0        </span>┃\n",
       "┡━━━━━━━━━━━━━━━━━━━━━━━━━━━╇━━━━━━━━━━━━━━━━━━━━━━━━━━━┩\n",
       "│<span style=\"color: #008080; text-decoration-color: #008080\">         val_loss          </span>│<span style=\"color: #800080; text-decoration-color: #800080\">    1.3220247030258179     </span>│\n",
       "└───────────────────────────┴───────────────────────────┘\n",
       "</pre>\n"
      ],
      "text/plain": [
       "┏━━━━━━━━━━━━━━━━━━━━━━━━━━━┳━━━━━━━━━━━━━━━━━━━━━━━━━━━┓\n",
       "┃\u001b[1m \u001b[0m\u001b[1m     Validate metric     \u001b[0m\u001b[1m \u001b[0m┃\u001b[1m \u001b[0m\u001b[1m      DataLoader 0       \u001b[0m\u001b[1m \u001b[0m┃\n",
       "┡━━━━━━━━━━━━━━━━━━━━━━━━━━━╇━━━━━━━━━━━━━━━━━━━━━━━━━━━┩\n",
       "│\u001b[36m \u001b[0m\u001b[36m        val_loss         \u001b[0m\u001b[36m \u001b[0m│\u001b[35m \u001b[0m\u001b[35m   1.3220247030258179    \u001b[0m\u001b[35m \u001b[0m│\n",
       "└───────────────────────────┴───────────────────────────┘\n"
      ]
     },
     "metadata": {},
     "output_type": "display_data"
    }
   ],
   "source": [
    "# get best checkpoint based on loss on validation data\n",
    "try:\n",
    "    #\"save best model checkpoint name\"\n",
    "    with open(os.path.join(model_dir, \"best_ckpt.txt\"), \"w\") as f:\n",
    "        f.write(trainer.checkpoint_callback.best_model_path)\n",
    "        f.write(\"\\n\")\n",
    "        for key , value in vars(args).items():\n",
    "            f.write(f\"{key}: {value}\\n\")\n",
    "        \n",
    "    trainer.validate(model, val_dl, ckpt_path='best')\n",
    "except:\n",
    "    print(\"failed to run validate to print best checkpoint path oh well\")"
   ]
  },
  {
   "cell_type": "markdown",
   "id": "bbb19efc-24aa-4154-b2d6-eb33f8a39597",
   "metadata": {},
   "source": [
    "### compare the loss implementations"
   ]
  },
  {
   "cell_type": "code",
   "execution_count": 49,
   "id": "7dade4a4-758c-4be0-bab5-d056a258406c",
   "metadata": {
    "tags": []
   },
   "outputs": [],
   "source": [
    "import torch.nn as nn\n",
    "class CrossEntropyCustomLog(nn.Module):\n",
    "    def __init__(self, log, reduction='mean', weight=1., apply_softmax=True):\n",
    "        super().__init__()\n",
    "        log = str(log)\n",
    "        if log == \"10\":\n",
    "            self.log_func = torch.log10\n",
    "        elif log == \"2\":\n",
    "            self.log_func = torch.log2\n",
    "        \n",
    "        elif log == \"e\":\n",
    "            self.log_func = torch.log\n",
    "        self.nllloss = nn.NLLLoss(reduction=reduction)\n",
    "        self.apply_softmax=True\n",
    "        self.weight=weight\n",
    "            \n",
    "    def forward(self, predictions, targets):\n",
    "        print(predictions.shape, targets.shape)\n",
    "        targets = targets.type(torch.long)\n",
    "        if self.apply_softmax:\n",
    "            predictions = torch.softmax(predictions, dim=1)\n",
    "        \n",
    "        predictions = self.log_func(predictions)\n",
    "        # targets = targets.argmax(dim=1)\n",
    "        \n",
    "        print(predictions.shape, targets.shape)\n",
    "        \n",
    "        return self.nllloss(predictions, targets) * self.weight"
   ]
  },
  {
   "cell_type": "code",
   "execution_count": 50,
   "id": "b7b1d476-e988-4ed5-99ab-007b30b09631",
   "metadata": {
    "tags": []
   },
   "outputs": [],
   "source": [
    "def xent_loss(weight, reduction):\n",
    "    if reduction == \"mean_sum\":\n",
    "        return mean_sum_xent_loss(weight)\n",
    "    else:\n",
    "        return torch.nn.CrossEntropyLoss(weight=weight, reduction=reduction)"
   ]
  },
  {
   "cell_type": "code",
   "execution_count": 51,
   "id": "b5b6da61-8c49-420b-ae2e-560efa0f8c3e",
   "metadata": {
    "tags": []
   },
   "outputs": [],
   "source": [
    "batch = next(iter(train_dl))"
   ]
  },
  {
   "cell_type": "code",
   "execution_count": 52,
   "id": "77eda091-442c-4f2f-9659-35bdde60d84c",
   "metadata": {
    "tags": []
   },
   "outputs": [],
   "source": [
    "with torch.no_grad():\n",
    "    o = model.cuda()(batch[0].cuda())"
   ]
  },
  {
   "cell_type": "code",
   "execution_count": 53,
   "id": "5b4d2864-2644-4343-8258-5e8bb1d8848b",
   "metadata": {
    "tags": []
   },
   "outputs": [
    {
     "data": {
      "text/plain": [
       "torch.Size([8, 2, 224, 160])"
      ]
     },
     "execution_count": 53,
     "metadata": {},
     "output_type": "execute_result"
    }
   ],
   "source": [
    "o.shape"
   ]
  },
  {
   "cell_type": "code",
   "execution_count": 54,
   "id": "0d437d2f-5969-4fec-a949-60f9bc0c06fc",
   "metadata": {
    "tags": []
   },
   "outputs": [],
   "source": [
    "loss1 = xent_loss(weight=None, reduction='mean')\n",
    "loss2 = CrossEntropyCustomLog(log=\"e\", reduction='mean', weight=1., apply_softmax=True)"
   ]
  },
  {
   "cell_type": "code",
   "execution_count": 55,
   "id": "d305450a-1641-4a35-8cf1-ae0756d001fb",
   "metadata": {
    "tags": []
   },
   "outputs": [
    {
     "name": "stdout",
     "output_type": "stream",
     "text": [
      "torch.Size([8, 2, 224, 160]) torch.Size([8, 224, 160])\n",
      "torch.Size([8, 2, 224, 160]) torch.Size([8, 224, 160])\n"
     ]
    },
    {
     "data": {
      "text/plain": [
       "(tensor(0.0135, device='cuda:0'), tensor(0.0135, device='cuda:0'))"
      ]
     },
     "execution_count": 55,
     "metadata": {},
     "output_type": "execute_result"
    }
   ],
   "source": [
    "loss1(o, batch[1].cuda()), loss2(o, batch[1].cuda()), "
   ]
  },
  {
   "cell_type": "code",
   "execution_count": 56,
   "id": "4cae55fc-14e1-47d7-a8b0-9569bfa99ca4",
   "metadata": {
    "tags": []
   },
   "outputs": [],
   "source": [
    "from trustworthai.utils.losses_and_metrics.dice_loss import DiceLossWithWeightedEmptySlices, SoftDiceV2, SoftDiceV1"
   ]
  },
  {
   "cell_type": "code",
   "execution_count": 57,
   "id": "afb5e7ef-098d-4f42-8b34-9f99295076da",
   "metadata": {
    "tags": []
   },
   "outputs": [],
   "source": [
    "loss_dice2 = SoftDiceV2()\n",
    "loss_dice1 = SoftDiceV1()"
   ]
  },
  {
   "cell_type": "code",
   "execution_count": 58,
   "id": "5ca0e87b-a06a-4588-9415-209cbd011f01",
   "metadata": {
    "tags": []
   },
   "outputs": [
    {
     "data": {
      "text/plain": [
       "(tensor(0.5421, device='cuda:0'), tensor(0.3654, device='cuda:0'))"
      ]
     },
     "execution_count": 58,
     "metadata": {},
     "output_type": "execute_result"
    }
   ],
   "source": [
    "loss_dice1(o, batch[1].cuda()), loss_dice2(o, batch[1].cuda()), "
   ]
  },
  {
   "cell_type": "code",
   "execution_count": 60,
   "id": "e97f0943-290a-4b15-a14c-d9efb15e44c8",
   "metadata": {
    "tags": []
   },
   "outputs": [
    {
     "data": {
      "text/plain": [
       "(tensor(1.1074, device='cuda:0'),\n",
       " tensor(0.3654, device='cuda:0'),\n",
       " tensor(1.4727, device='cuda:0'),\n",
       " tensor(1.4727, device='cuda:0'))"
      ]
     },
     "execution_count": 60,
     "metadata": {},
     "output_type": "execute_result"
    }
   ],
   "source": [
    "loss1(o, batch[1].cuda()) * args.xent_reweighting, loss_dice2(o, batch[1].cuda()), loss1(o, batch[1].cuda()) * args.xent_reweighting + loss_dice2(o, batch[1].cuda()), loss(o, batch[1].cuda())"
   ]
  },
  {
   "cell_type": "code",
   "execution_count": 29,
   "id": "d3795602-dae5-4e91-bb58-7df74984ec8c",
   "metadata": {
    "tags": []
   },
   "outputs": [
    {
     "data": {
      "text/plain": [
       "(-0.5, 159.5, 223.5, -0.5)"
      ]
     },
     "execution_count": 29,
     "metadata": {},
     "output_type": "execute_result"
    },
    {
     "data": {
      "image/png": "[encoded data removed]",
      "text/plain": [
       "<Figure size 640x480 with 2 Axes>"
      ]
     },
     "metadata": {},
     "output_type": "display_data"
    }
   ],
   "source": [
    "plt.subplot(1,2,1)\n",
    "plt.imshow(o[3].argmax(dim=0).cpu())\n",
    "plt.axis('off')\n",
    "plt.subplot(1,2,2)\n",
    "plt.imshow(batch[1][3])\n",
    "plt.axis('off')"
   ]
  },
  {
   "cell_type": "code",
   "execution_count": 24,
   "id": "2c159bdd-cd94-4e18-bef1-db3aa032e7a7",
   "metadata": {
    "tags": []
   },
   "outputs": [
    {
     "data": {
      "text/plain": [
       "torch.Size([224, 160])"
      ]
     },
     "execution_count": 24,
     "metadata": {},
     "output_type": "execute_result"
    }
   ],
   "source": [
    "batch[1][0].shape"
   ]
  },
  {
   "cell_type": "code",
   "execution_count": null,
   "id": "23ebf5ad-ca8b-47c3-985d-88a213ed46f6",
   "metadata": {},
   "outputs": [],
   "source": []
  }
 ],
 "metadata": {
  "kernelspec": {
   "display_name": "Python 3 (ipykernel)",
   "language": "python",
   "name": "python3"
  },
  "language_info": {
   "codemirror_mode": {
    "name": "ipython",
    "version": 3
   },
   "file_extension": ".py",
   "mimetype": "text/x-python",
   "name": "python",
   "nbconvert_exporter": "python",
   "pygments_lexer": "ipython3",
   "version": "3.10.8"
  }
 },
 "nbformat": 4,
 "nbformat_minor": 5
}
