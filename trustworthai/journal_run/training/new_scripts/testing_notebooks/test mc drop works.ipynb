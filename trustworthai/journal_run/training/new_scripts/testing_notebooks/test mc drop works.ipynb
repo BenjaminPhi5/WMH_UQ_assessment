{
 "cells": [
  {
   "cell_type": "code",
   "execution_count": 9,
   "id": "f042f74d-e0ff-4d5a-8bc4-e1cb76fc66db",
   "metadata": {
    "tags": []
   },
   "outputs": [],
   "source": [
    "from trustworthai.models.core_models.Hypermapp3r import HyperMapp3r\n",
    "import torch\n",
    "from trustworthai.models.stochastic_wrappers.deterministic import Deterministic"
   ]
  },
  {
   "cell_type": "code",
   "execution_count": 10,
   "id": "720bfb51-7041-46d8-a032-0d8b2b9bcc2d",
   "metadata": {
    "tags": []
   },
   "outputs": [],
   "source": [
    "x = torch.randn(1, 3, 224, 224)"
   ]
  },
  {
   "cell_type": "code",
   "execution_count": 59,
   "id": "d3984349-93e5-4662-afb1-1c63522b9361",
   "metadata": {
    "tags": []
   },
   "outputs": [],
   "source": [
    "def run_multiple_times(model):\n",
    "    with torch.no_grad():\n",
    "        # model.eval()\n",
    "        out1 = model.cuda()(x.cuda()).cpu()\n",
    "        out2 = model.cuda()(x.cuda()).cpu()\n",
    "        print(out1[0, 0, 0, 0:10])\n",
    "        print(out2[0, 0, 0, 0:10])\n",
    "        print(out1.shape)"
   ]
  },
  {
   "cell_type": "markdown",
   "id": "4112cc28-5ff4-4948-8bee-a6674d84c440",
   "metadata": {},
   "source": [
    "### model should be deterministic"
   ]
  },
  {
   "cell_type": "code",
   "execution_count": 60,
   "id": "df88a698-f72b-4eac-a3b3-512ce7d6af06",
   "metadata": {
    "tags": []
   },
   "outputs": [],
   "source": [
    "encoder_sizes=[16,32,64,128,256]\n",
    "base_model = HyperMapp3r(\n",
    "    dropout_p=0,\n",
    "    encoder_sizes=encoder_sizes,\n",
    "    inchannels=3,\n",
    "    outchannels=2,\n",
    "    encoder_dropout1=0,\n",
    "    encoder_dropout2=0,\n",
    "    decoder_dropout1=0,\n",
    "    decoder_dropout2=0,\n",
    ")\n",
    "\n",
    "model_raw = Deterministic(base_model).cuda()"
   ]
  },
  {
   "cell_type": "code",
   "execution_count": 61,
   "id": "c1b0aa5d-f105-4a52-a06c-3cf436607d98",
   "metadata": {
    "tags": []
   },
   "outputs": [
    {
     "name": "stdout",
     "output_type": "stream",
     "text": [
      "tensor([0.3531, 0.3373, 0.2966, 0.2932, 0.3476, 0.2462, 0.3072, 0.1577, 0.2163,\n",
      "        0.0695])\n",
      "tensor([0.3531, 0.3373, 0.2966, 0.2932, 0.3476, 0.2462, 0.3072, 0.1577, 0.2163,\n",
      "        0.0695])\n",
      "torch.Size([1, 2, 224, 224])\n"
     ]
    }
   ],
   "source": [
    "run_multiple_times(model_raw)"
   ]
  },
  {
   "cell_type": "code",
   "execution_count": 62,
   "id": "15f3d5f2-0cb6-41d1-8449-510a96f20f95",
   "metadata": {
    "tags": []
   },
   "outputs": [],
   "source": [
    "encoder_sizes=[16,32,64,128,256]\n",
    "base_model = HyperMapp3r(\n",
    "    dropout_p=0.2,\n",
    "    encoder_sizes=encoder_sizes,\n",
    "    inchannels=3,\n",
    "    outchannels=2,\n",
    "    encoder_dropout1=0,\n",
    "    encoder_dropout2=0,\n",
    "    decoder_dropout1=0,\n",
    "    decoder_dropout2=0,\n",
    ")\n",
    "\n",
    "model_raw = Deterministic(base_model).cuda()"
   ]
  },
  {
   "cell_type": "code",
   "execution_count": 63,
   "id": "c8c8ab24-ed8b-4662-a954-3f51a4fc8753",
   "metadata": {
    "tags": []
   },
   "outputs": [
    {
     "name": "stdout",
     "output_type": "stream",
     "text": [
      "tensor([-0.0051,  0.2040,  0.2168,  0.0789, -0.0879, -0.0422,  0.3120, -0.0650,\n",
      "         0.2092, -0.0851])\n",
      "tensor([-0.0051,  0.2040,  0.2168,  0.0789, -0.0879, -0.0422,  0.3120, -0.0650,\n",
      "         0.2092, -0.0851])\n",
      "torch.Size([1, 2, 224, 224])\n"
     ]
    }
   ],
   "source": [
    "run_multiple_times(model_raw)"
   ]
  },
  {
   "cell_type": "markdown",
   "id": "1bf2d7c2-a337-446a-a0cd-e3c934530843",
   "metadata": {
    "tags": []
   },
   "source": [
    "### stochastic 1 encoder first layer:"
   ]
  },
  {
   "cell_type": "code",
   "execution_count": 64,
   "id": "c4e848c4-5d18-452f-bd1f-d755a917485f",
   "metadata": {
    "tags": []
   },
   "outputs": [],
   "source": [
    "encoder_sizes=[16,32,64,128,256]\n",
    "base_model = HyperMapp3r(\n",
    "    dropout_p=0.2,\n",
    "    encoder_sizes=encoder_sizes,\n",
    "    inchannels=3,\n",
    "    outchannels=2,\n",
    "    encoder_dropout1=1,\n",
    "    encoder_dropout2=0,\n",
    "    decoder_dropout1=0,\n",
    "    decoder_dropout2=0,\n",
    ")\n",
    "\n",
    "model_raw = Deterministic(base_model).cuda()"
   ]
  },
  {
   "cell_type": "code",
   "execution_count": 65,
   "id": "dda7369d-3d0c-4794-a745-e195b0c69557",
   "metadata": {
    "tags": []
   },
   "outputs": [
    {
     "name": "stdout",
     "output_type": "stream",
     "text": [
      "tensor([ 0.1952,  0.0642, -0.0479,  0.1330, -0.1077,  0.0339, -0.0429, -0.1003,\n",
      "        -0.1019, -0.2133])\n",
      "tensor([ 0.1323, -0.0821, -0.0644,  0.1344, -0.0923,  0.0506,  0.1692,  0.0611,\n",
      "         0.1126, -0.1249])\n",
      "torch.Size([1, 2, 224, 224])\n"
     ]
    }
   ],
   "source": [
    "run_multiple_times(model_raw)"
   ]
  },
  {
   "cell_type": "markdown",
   "id": "4a0dc5f8-c548-483d-b604-b87d53520506",
   "metadata": {},
   "source": [
    "### stochastic 2 encoder second layers:"
   ]
  },
  {
   "cell_type": "code",
   "execution_count": 66,
   "id": "ee51a16a-c68c-4e65-a37c-9658ea61edf3",
   "metadata": {
    "tags": []
   },
   "outputs": [],
   "source": [
    "encoder_sizes=[16,32,64,128,256]\n",
    "base_model = HyperMapp3r(\n",
    "    dropout_p=0.2,\n",
    "    encoder_sizes=encoder_sizes,\n",
    "    inchannels=3,\n",
    "    outchannels=2,\n",
    "    encoder_dropout1=0,\n",
    "    encoder_dropout2=1,\n",
    "    decoder_dropout1=0,\n",
    "    decoder_dropout2=0,\n",
    ")\n",
    "\n",
    "model_raw = Deterministic(base_model).cuda()"
   ]
  },
  {
   "cell_type": "code",
   "execution_count": 67,
   "id": "91ce8a91-44e6-46cf-883a-80550aef8c22",
   "metadata": {
    "tags": []
   },
   "outputs": [
    {
     "name": "stdout",
     "output_type": "stream",
     "text": [
      "tensor([ 0.2008,  0.1292,  0.0597,  0.0029,  0.0458,  0.2156,  0.1909, -0.0235,\n",
      "         0.1325, -0.1337])\n",
      "tensor([-0.0457,  0.0308,  0.0459, -0.0329,  0.0291,  0.0901,  0.1113, -0.0999,\n",
      "         0.0680, -0.1276])\n",
      "torch.Size([1, 2, 224, 224])\n"
     ]
    }
   ],
   "source": [
    "run_multiple_times(model_raw)"
   ]
  },
  {
   "cell_type": "markdown",
   "id": "5769a244-114a-4d8b-85c2-dac7ed50b355",
   "metadata": {},
   "source": [
    "### stochastic 3 decoder first layer:"
   ]
  },
  {
   "cell_type": "code",
   "execution_count": 68,
   "id": "1a84184e-6ac6-4f48-8779-c27df339c90b",
   "metadata": {
    "tags": []
   },
   "outputs": [],
   "source": [
    "encoder_sizes=[16,32,64,128,256]\n",
    "base_model = HyperMapp3r(\n",
    "    dropout_p=0.2,\n",
    "    encoder_sizes=encoder_sizes,\n",
    "    inchannels=3,\n",
    "    outchannels=2,\n",
    "    encoder_dropout1=0,\n",
    "    encoder_dropout2=0,\n",
    "    decoder_dropout1=0,\n",
    "    decoder_dropout2=1,\n",
    ")\n",
    "\n",
    "model_raw = Deterministic(base_model).cuda()"
   ]
  },
  {
   "cell_type": "code",
   "execution_count": 69,
   "id": "bfb39f78-0bff-4564-8c64-5aada6aea526",
   "metadata": {
    "tags": []
   },
   "outputs": [
    {
     "name": "stdout",
     "output_type": "stream",
     "text": [
      "tensor([ 0.1843,  0.0017, -0.0280,  0.1228,  0.1094,  0.1310,  0.0905,  0.1048,\n",
      "         0.1020,  0.1251])\n",
      "tensor([ 0.0385,  0.0511, -0.0757,  0.1059,  0.0676,  0.0828,  0.0904,  0.1508,\n",
      "         0.1106,  0.0953])\n",
      "torch.Size([1, 2, 224, 224])\n"
     ]
    }
   ],
   "source": [
    "run_multiple_times(model_raw)"
   ]
  },
  {
   "cell_type": "code",
   "execution_count": null,
   "id": "51fb04b4-3761-4325-a526-d3ea4bddd37a",
   "metadata": {},
   "outputs": [],
   "source": []
  },
  {
   "cell_type": "markdown",
   "id": "0ff9493e-e362-4b31-8575-855534525e49",
   "metadata": {},
   "source": [
    "### Stochastic 4 decoder second layer:"
   ]
  },
  {
   "cell_type": "code",
   "execution_count": 72,
   "id": "db7f3e6a-d92f-4642-bfe8-264ec33214e7",
   "metadata": {
    "tags": []
   },
   "outputs": [],
   "source": [
    "encoder_sizes=[16,32,64,128,256]\n",
    "base_model = HyperMapp3r(\n",
    "    dropout_p=0.2,\n",
    "    encoder_sizes=encoder_sizes,\n",
    "    inchannels=3,\n",
    "    outchannels=2,\n",
    "    encoder_dropout1=0,\n",
    "    encoder_dropout2=0,\n",
    "    decoder_dropout1=0,\n",
    "    decoder_dropout2=1,\n",
    ")\n",
    "\n",
    "model_raw = Deterministic(base_model).cuda()"
   ]
  },
  {
   "cell_type": "code",
   "execution_count": 73,
   "id": "9ed4e7a7-f926-4f19-b672-bf5047062cb4",
   "metadata": {
    "tags": []
   },
   "outputs": [
    {
     "name": "stdout",
     "output_type": "stream",
     "text": [
      "tensor([-0.2827, -0.3057, -0.2393, -0.2279, -0.1853, -0.1086, -0.1819, -0.1619,\n",
      "        -0.0869, -0.1261])\n",
      "tensor([-0.3778, -0.4112, -0.3191, -0.3624, -0.3720, -0.1769, -0.2692, -0.2956,\n",
      "        -0.2868, -0.2880])\n",
      "torch.Size([1, 2, 224, 224])\n"
     ]
    }
   ],
   "source": [
    "run_multiple_times(model_raw)"
   ]
  },
  {
   "cell_type": "code",
   "execution_count": null,
   "id": "19605f32-6d39-452b-8404-d6302e49e567",
   "metadata": {},
   "outputs": [],
   "source": []
  }
 ],
 "metadata": {
  "kernelspec": {
   "display_name": "Python 3 (ipykernel)",
   "language": "python",
   "name": "python3"
  },
  "language_info": {
   "codemirror_mode": {
    "name": "ipython",
    "version": 3
   },
   "file_extension": ".py",
   "mimetype": "text/x-python",
   "name": "python",
   "nbconvert_exporter": "python",
   "pygments_lexer": "ipython3",
   "version": "3.10.8"
  }
 },
 "nbformat": 4,
 "nbformat_minor": 5
}
